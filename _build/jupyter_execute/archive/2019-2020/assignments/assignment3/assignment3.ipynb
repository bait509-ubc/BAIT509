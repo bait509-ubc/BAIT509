{
 "cells": [
  {
   "cell_type": "markdown",
   "metadata": {},
   "source": [
    "# BAIT 509 Assignment 3\n",
    "\n",
    "__Evaluates__: Lectures 1 - 9. \n",
    "\n",
    "__Rubrics__: Your solutions will be assessed primarily on the accuracy of your coding, as well as the clarity and correctness of your written responses. The MDS rubrics provide a good guide as to what is expected of you in your responses to the assignment questions. In particular, here are the most relevant ones:\n",
    "\n",
    "- [accuracy rubric](https://github.com/UBC-MDS/public/blob/master/rubric/rubric_accuracy.md), for evaluating your code.\n",
    "- [reasoning rubric](https://github.com/UBC-MDS/public/blob/master/rubric/rubric_reasoning.md), for evaluating your written responses.\n",
    "\n",
    "__Attribution__: This assignment was created by Tomas Beuzen and Vincenzo Coia.\n",
    "\n",
    "## Tidy Submission (5%)\n",
    "\n",
    "- Complete this assignment by filling out this jupyter notebook.\n",
    "- You must use proper English, spelling, and grammar.\n",
    "- You will submit two things to Canvas:\n",
    "    1. This jupyter notebook file containing your responses; and,\n",
    "    2. A html file of your completed notebook (use `jupyter nbconvert --to html_embed assignment.ipynb` in the terminal to generate the html file).\n",
    "- Submit your assignment through [UBC Canvas](https://canvas.ubc.ca/courses/35074) by **11:59pm Friday 7th February**."
   ]
  },
  {
   "cell_type": "markdown",
   "metadata": {},
   "source": [
    "## Exercise 1: Revision of concepts (20%)\n",
    "The following questions relate to material covered in lectures 1-4. Respond to the questions without using code. Provide clear and concise (1-3 sentence) answers to any written questions."
   ]
  },
  {
   "cell_type": "markdown",
   "metadata": {},
   "source": [
    "### 1.1 (5%)\n",
    "\n",
    "Suppose you are tuning the `k` hyperparameter of a kNN classifier and you get the following results. Which value for `k` would you pick? Explain your answer in 1 sentence.\n",
    "\n",
    "| k  | train error| validation error|\n",
    "|---:|--------------:|-------------------:|\n",
    "| 10 | 0.31          | 0.35               |\n",
    "| 7  | 0.22          | 0.26               |\n",
    "| 5  | 0.13          | 0.15               |\n",
    "| 3  | 0.06          | 0.11               |\n",
    "| 1  | 0.00           | 0.15               |"
   ]
  },
  {
   "cell_type": "markdown",
   "metadata": {},
   "source": [
    "### 1.2 (5%)\n",
    "\n",
    "Each of the following figures illustrates the decision boundary of a classifier fit on a data set with two features and three classes.\n",
    "\n",
    "<img src='fig1.png' width=\"950\">\n",
    "\n",
    "For each of the classifiers listed below, write down the corresponding letter (A, B,or C) to match it with one of the three figures above.\n",
    "\n",
    "- Logistic regression\n",
    "- Decision tree (with no max depth)\n",
    "- Random forest (with no max depth)"
   ]
  },
  {
   "cell_type": "markdown",
   "metadata": {},
   "source": [
    "### 1.3 (5%)\n",
    "\n",
    "Thinking about `k` in `k`-fold cross validation and the bias-variance tradeoff briefly, discuss (1-2 sentences) how bias and variance change with the value of `k`. Section 5.1.4 in the text [An Introduction to Statistical Learning](http://faculty.marshall.usc.edu/gareth-james/ISL/) might be helpful here."
   ]
  },
  {
   "cell_type": "markdown",
   "metadata": {},
   "source": [
    "### 1.4 (5%)\n",
    "\n",
    "In an overfit regression model, how would the validation error compare to the training error? (One brief sentence). What does this mean, in terms of using the regression model in the real world? (One brief sentence)."
   ]
  },
  {
   "cell_type": "markdown",
   "metadata": {},
   "source": [
    "## Exercise 2: Random Forests (20%)\n",
    "\n",
    "In this exercise we will work with the \"cars_data.csv\" file provided to you with this assignment. This datset contains 392 observations of different cars. We are interested in whether a car his high mileage (miles per gallon, mpg,  >= 23) or low mileage (mpg < 23) and we wish to predict this quality based on other features of the car such as number of cylinders in the `engine`, `horsepower`, `weight`, etc."
   ]
  },
  {
   "cell_type": "markdown",
   "metadata": {},
   "source": [
    "### 2.1 (10%)\n",
    "\n",
    "- Load the `cars_data.csv` file into a Pandas dataframe and remove the `name` and `mpg` columns.\n",
    "- Split the data into features (X) and response (y) dataframes.\n",
    "- Split the data into training (80%) and testings (20%) sets.\n",
    "- Using 10-fold cross validation and the training set only, plot the training error and validation error of a `DecisionTreeClassifier` and a `RandomForestClassifier` for different values of `max_depth` (your plot should have 4 lines, 2 for training/validation error of the `DecisionTreeClassifier` and 2 for training/validation error of the `RandomForestClassifier`)"
   ]
  },
  {
   "cell_type": "markdown",
   "metadata": {},
   "source": [
    "### 2.2 (10%)\n",
    "\n",
    "1. What is the main purpose of averaging the results of multiple trees in a random forest?\n",
    "2. In random forests, how do we ensure that the trees being averaged are sufficiently different from each other as to make the averaging effective?\n",
    "3. Why did we remove the features `\"name\"` and `\"mpg\"` before conducting our analysis above?"
   ]
  },
  {
   "cell_type": "markdown",
   "metadata": {},
   "source": [
    "## Exercise 3: Support Vector Machines (35%)\n",
    "\n",
    "This exercise is based off exercises in Section 9.7 in [An Introduction to Statistical Learning](http://faculty.marshall.usc.edu/gareth-james/ISL/)."
   ]
  },
  {
   "cell_type": "markdown",
   "metadata": {},
   "source": [
    "### 3.1 (5%)\n",
    "\n",
    "Consider the binary classification dataset below of 7 observations, 2 features, 1 response.\n",
    "- Plot the data\n",
    "- On your plot, roughly plot what you think might be the maximum-margin hyperplane (just eye-ball this!)."
   ]
  },
  {
   "cell_type": "code",
   "execution_count": 1,
   "metadata": {},
   "outputs": [
    {
     "data": {
      "text/html": [
       "<div>\n",
       "<style scoped>\n",
       "    .dataframe tbody tr th:only-of-type {\n",
       "        vertical-align: middle;\n",
       "    }\n",
       "\n",
       "    .dataframe tbody tr th {\n",
       "        vertical-align: top;\n",
       "    }\n",
       "\n",
       "    .dataframe thead th {\n",
       "        text-align: right;\n",
       "    }\n",
       "</style>\n",
       "<table border=\"1\" class=\"dataframe\">\n",
       "  <thead>\n",
       "    <tr style=\"text-align: right;\">\n",
       "      <th></th>\n",
       "      <th>feature_1</th>\n",
       "      <th>feature_2</th>\n",
       "      <th>response</th>\n",
       "    </tr>\n",
       "  </thead>\n",
       "  <tbody>\n",
       "    <tr>\n",
       "      <th>0</th>\n",
       "      <td>3</td>\n",
       "      <td>4</td>\n",
       "      <td>red</td>\n",
       "    </tr>\n",
       "    <tr>\n",
       "      <th>1</th>\n",
       "      <td>2</td>\n",
       "      <td>2</td>\n",
       "      <td>red</td>\n",
       "    </tr>\n",
       "    <tr>\n",
       "      <th>2</th>\n",
       "      <td>4</td>\n",
       "      <td>4</td>\n",
       "      <td>red</td>\n",
       "    </tr>\n",
       "    <tr>\n",
       "      <th>3</th>\n",
       "      <td>1</td>\n",
       "      <td>4</td>\n",
       "      <td>red</td>\n",
       "    </tr>\n",
       "    <tr>\n",
       "      <th>4</th>\n",
       "      <td>2</td>\n",
       "      <td>1</td>\n",
       "      <td>blue</td>\n",
       "    </tr>\n",
       "    <tr>\n",
       "      <th>5</th>\n",
       "      <td>4</td>\n",
       "      <td>3</td>\n",
       "      <td>blue</td>\n",
       "    </tr>\n",
       "    <tr>\n",
       "      <th>6</th>\n",
       "      <td>4</td>\n",
       "      <td>1</td>\n",
       "      <td>blue</td>\n",
       "    </tr>\n",
       "  </tbody>\n",
       "</table>\n",
       "</div>"
      ],
      "text/plain": [
       "   feature_1  feature_2 response\n",
       "0          3          4      red\n",
       "1          2          2      red\n",
       "2          4          4      red\n",
       "3          1          4      red\n",
       "4          2          1     blue\n",
       "5          4          3     blue\n",
       "6          4          1     blue"
      ]
     },
     "execution_count": 1,
     "metadata": {},
     "output_type": "execute_result"
    }
   ],
   "source": [
    "import pandas as pd\n",
    "df = pd.DataFrame({'feature_1': [3, 2, 4, 1, 2, 4, 4],\n",
    "                   'feature_2': [4, 2, 4, 4, 1, 3, 1],\n",
    "                   'response': ['red', 'red', 'red', 'red', 'blue', 'blue', 'blue']})\n",
    "df"
   ]
  },
  {
   "cell_type": "markdown",
   "metadata": {},
   "source": [
    "### 3.2 (10%)\n",
    "\n",
    "We can obtain the exact maximum margin hyperplane by using sklearn's [SVC](https://scikit-learn.org/stable/modules/generated/sklearn.svm.SVC.html#sklearn.svm.SVC). The code below fits the maximum margin hyperplane to our dataset __\\*__. Access the appropriate attributes from the fitted model to write down the exact equation of the maximum-margin classifier (for two features, the equation should have the form $β_0 + β_1X_1 + β_2X_2 = 0$).\n",
    "\n",
    "__\\*__ Note that I've used a bit of a hack to obtain the maximum margin hyperplane, by using a large `C` value in the `SVC` model here we stop any regularization happening to ensure that we get back the maximum margin hyperplane, as opposed to some more generalized support vector classifier."
   ]
  },
  {
   "cell_type": "code",
   "execution_count": 2,
   "metadata": {},
   "outputs": [],
   "source": [
    "from sklearn.svm import SVC\n",
    "X = df.drop(columns='response')\n",
    "y = df['response']\n",
    "clf = SVC(kernel='linear', C=10_000).fit(X, y)"
   ]
  },
  {
   "cell_type": "markdown",
   "metadata": {},
   "source": [
    "### 3.3 (10%)\n",
    "\n",
    "- Plot your data again and this time plot the exact maximum-margin hyperplane using the equation you derived above.\n",
    "- Circle the support vectors."
   ]
  },
  {
   "cell_type": "markdown",
   "metadata": {},
   "source": [
    "### 3.4 (10%)\n",
    "\n",
    "- Add an additional observation to the dataset so that the two classes are no longer separable by a straight line on your plot.\n",
    "- The point you added will mean that we can no longer seperate the red and blue classes with a straight line. So we will use an `rbf` kernel to help us create a non-linear decision boundary.  Fit a SVC model using default hyperparameters (`kernel='rbf'`, `C=1.0`) with your new modified dataset.\n",
    "- Use the plotting function below to help you plot the decision function of your now non-linear decision boundary.\n",
    "- (optional) Play around with your value of `C` to try and perfectly classify your dataset!"
   ]
  },
  {
   "cell_type": "code",
   "execution_count": 3,
   "metadata": {},
   "outputs": [],
   "source": [
    "def plot_rbf_decision_boundary(X, y, model):\n",
    "    \"\"\"\n",
    "    Plot the decision boundary of a sklearn SVC mode1.\n",
    "    \n",
    "    Parameters\n",
    "    ----------\n",
    "    X : datatype\n",
    "        A 2-column dataframe of the features.\n",
    "    y : datatype\n",
    "        A dataframe of the response.\n",
    "    model : datatype\n",
    "        A fitted SVC model.\n",
    "    \n",
    "    Returns\n",
    "    -------\n",
    "    plot\n",
    "        A matplotlib plot of \"model\"s decision function.\n",
    "    \"\"\"\n",
    "    \n",
    "    # we need a grid to help us plot the decision function\n",
    "    xx1, xx2 = np.meshgrid(np.linspace(X.min()[0]-1, X.max()[0]+1, 200),\n",
    "                           np.linspace(X.min()[1]-1, X.max()[1]+1, 200))\n",
    "    # use the model to calculate predictions across the grid\n",
    "    Z = model.decision_function(np.c_[xx1.ravel(), xx2.ravel()])\n",
    "    Z = Z.reshape(xx1.shape)\n",
    "    # make the plot\n",
    "    plt.subplots(1,1,figsize=(8,8))\n",
    "    plt.scatter(df['feature_1'], df['feature_2'], s=140, ec='k', c=df['response'], zorder=3) # plot raw data\n",
    "    plt.pcolormesh(xx1, xx2, -Z, cmap='RdBu', zorder=0) # plot decision function\n",
    "    plt.ylim(0, 5)\n",
    "    plt.xlim(0, 5)\n",
    "    plt.xlabel('feature_1')\n",
    "    plt.ylabel('feature_2')    "
   ]
  },
  {
   "cell_type": "markdown",
   "metadata": {},
   "source": [
    "## Exercise 4: Probabilistic Forecasting (20%)\n",
    "\n",
    "In this exercise we will work with the \"diamonds_data.csv\" file provided to you with this assignment. This datset contains 53,940 observations of different diamonds. We will be using length, width, and depth (`x`, `y`, and `z`mm respectively) to predict the quality of the `cut` of a diamond (which can take 5 values, ranging from worst to best as: \"Fair\", \"Good\", \"Very Good\", \"Premium\", \"Ideal\")\n",
    "\n",
    "You own a shop that sells diamonds, and you receive word of two new diamonds, with the following dimensions: \n",
    "\n",
    "- Diamond 1: `x=4`, `y=4`, and `z=3`.\n",
    "- Diamond 2: `x=6`, `y=6`, and `z=4`.\n",
    "\n",
    "You can choose only one diamond to include in your store, but only have this information. You want the diamond with the highest cut quality."
   ]
  },
  {
   "cell_type": "markdown",
   "metadata": {},
   "source": [
    "### 4.1 (15%)\n",
    "\n",
    "Choose a scikit-learn classification model that facilitates the prediction of probabilities. Fit a model to the data and predict what is the probability of your two diamonds belonging to each of the five classes. Plot two histograms (one for each diamond) showing the distribution of your probabilistic predictions. Which diamond would you choose based on your analysis?"
   ]
  },
  {
   "cell_type": "markdown",
   "metadata": {},
   "source": [
    "### 4.2 (5%)\n",
    "\n",
    "For the scikit-learn model you chose to answer Question 4.1, briefly describe how the model estimates probabilities."
   ]
  }
 ],
 "metadata": {
  "kernelspec": {
   "display_name": "Python 3",
   "language": "python",
   "name": "python3"
  },
  "language_info": {
   "codemirror_mode": {
    "name": "ipython",
    "version": 3
   },
   "file_extension": ".py",
   "mimetype": "text/x-python",
   "name": "python",
   "nbconvert_exporter": "python",
   "pygments_lexer": "ipython3",
   "version": "3.8.5"
  }
 },
 "nbformat": 4,
 "nbformat_minor": 2
}