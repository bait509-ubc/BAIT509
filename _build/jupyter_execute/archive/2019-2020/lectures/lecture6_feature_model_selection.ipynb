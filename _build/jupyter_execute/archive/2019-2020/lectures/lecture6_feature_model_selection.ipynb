{
 "cells": [
  {
   "cell_type": "markdown",
   "metadata": {},
   "source": [
    "# BAIT 509: Business Applications of Machine Learning\n",
    "## Lecture 6 - Model and feature selection\n",
    "Tomas Beuzen, 22th January 2020"
   ]
  },
  {
   "cell_type": "markdown",
   "metadata": {},
   "source": [
    "# Lecture outline\n",
    "- [0. Recap (5 mins)](#0)\n",
    "- [1. Lecture learning objectives](#1)\n",
    "- [2. Feature and model selection (5 mins)](#2)\n",
    "- [3. Feature selection (30 mins)](#3)\n",
    "- [--- Break --- (10 mins)](#break)\n",
    "- [4. Model Selection (10 mins)](#4)\n",
    "- [5. Advanced hyperparameter optimization (20 mins)](#5)\n",
    "- [6. Class Exercise: feature and model selection (20 mins)](#6)\n",
    "- [7. Summary questions to ponder](#7)"
   ]
  },
  {
   "cell_type": "markdown",
   "metadata": {},
   "source": [
    "# Announcements\n",
    "- Assignment 2 has been released and will be due next **Monday (27th Jan) at 11:59pm**."
   ]
  },
  {
   "cell_type": "markdown",
   "metadata": {},
   "source": [
    "# 0. Recap  (5 mins) <a id=0></a>\n",
    "\n",
    "- Logistic regression\n",
    "- Naive Bayes"
   ]
  },
  {
   "cell_type": "markdown",
   "metadata": {},
   "source": [
    "# 1. Lecture learning objectives <a id=1></a>\n",
    "\n",
    "- Feature selection: how to select features that are important for your models\n",
    "- Model selection: how to choose the best model for your problem"
   ]
  },
  {
   "cell_type": "markdown",
   "metadata": {},
   "source": [
    "# 2. Feature and model selection (5 mins) <a id=2></a>"
   ]
  },
  {
   "cell_type": "markdown",
   "metadata": {},
   "source": [
    "- In supervised learning, we generally seek a model that gives us the lowest generalization error possible. This involves two aspects:\n",
    "    1. Reducing the irreducible error\n",
    "    2. Reducing the reducible error"
   ]
  },
  {
   "cell_type": "markdown",
   "metadata": {},
   "source": [
    "### Reducing irreducible error"
   ]
  },
  {
   "cell_type": "markdown",
   "metadata": {},
   "source": [
    "- Recall that irreducible error is related to our **data**\n",
    "- We can't measure everything about a system, and all those things we don't measure contribute to irreducible error\n",
    "- To reduce irreducible error we can use **feature selection**\n",
    "- This is about finding and choosing features (data) that gives us as much information about the response as we can get\n",
    "- Recall our example of predicting a persons height\n",
    "\n",
    "Predicting height with no other information:\n",
    "<img src='./img/height.png' width=\"400\"> \n",
    "\n",
    "Predicting height knowing that sex=female:\n",
    "<img src='./img/height_female.png' width=\"400\"> \n",
    "\n",
    "Predicting height knowing that sex=female & weight=65kg:\n",
    "<img src='./img/height_female_65.png' width=\"400\"> "
   ]
  },
  {
   "cell_type": "markdown",
   "metadata": {},
   "source": [
    "### Reducing reducible error (bias & variance)"
   ]
  },
  {
   "cell_type": "markdown",
   "metadata": {},
   "source": [
    "- Recall that reducible error is related to the **model** we are using to relate our features and response\n",
    "- We want to extract the maximum amount of information that the features hold about the response\n",
    "- We can do this by **model selection** (choosing a good model) and **hyperparameter optimization (tuning)**\n",
    "- Recall that reducible error can be decomposed into **bias** and **variance**"
   ]
  },
  {
   "cell_type": "markdown",
   "metadata": {},
   "source": [
    "<img src='./img/tradeoff.png' width=\"500\">\n",
    "\n",
    "[Source: dziganto.github.io](https://dziganto.github.io/cross-validation/data%20science/machine%20learning/model%20tuning/python/Model-Tuning-with-Validation-and-Cross-Validation/) "
   ]
  },
  {
   "cell_type": "markdown",
   "metadata": {},
   "source": [
    "# 3. Feature selection (30 mins) <a id=3></a>"
   ]
  },
  {
   "cell_type": "markdown",
   "metadata": {},
   "source": [
    "- Feature selection is about choosing the best set of features for modelling our response\n",
    "- You can think of feature selection as a hyperparameter\n",
    "- **Importantly** feature selection should only be done using the training data! (just like hyperparameter tuning)\n",
    "- Unfortunately, we can't just throw lots and lots of features at the problem\n",
    "- Recall that, when tuning a supervised learning method (such as choosing `max_depth` in a decision tree), we can make the training error arbitrarily small (even 0) – but this results in overfitting the training data. The same thing generally applies to the number of features you add - the more features, the more likely you are to overfit.\n",
    "- Furthermore, more features:\n",
    "    - add computational cost\n",
    "    - can disrupt the interpretability of your model,\n",
    "    - require you to collect more data to actually use your model\n",
    "- So we generally want to select as few features as possible whilst maximising our model performance ([Occam's razor](https://en.wikipedia.org/wiki/Occam%27s_razor))\n",
    "- There are two main kinds of feature selection we'll focus on here:\n",
    "    1. Univariate feature selection\n",
    "    2. Wrapper feature selection"
   ]
  },
  {
   "cell_type": "markdown",
   "metadata": {},
   "source": [
    "## 3.1 Univariate feature selection"
   ]
  },
  {
   "cell_type": "markdown",
   "metadata": {},
   "source": [
    "### 3.1.1 Categorical data"
   ]
  },
  {
   "cell_type": "markdown",
   "metadata": {},
   "source": [
    "- Univariate feature selection is the simplest feature selection method\n",
    "- It works by selecting features based on a univariate statistical metric/test\n",
    "- For example:\n",
    "    - Pearson correlation ($r^2$): numeric data\n",
    "    - Chi-squared ($\\chi^2$): categorical data\n",
    "    - Mutual information: mixed data\n",
    "    - etc\n",
    "- The sklearn function [`SelectKBest`](https://scikit-learn.org/stable/modules/generated/sklearn.feature_selection.SelectKBest.html) is provided for simple univariate feature selection\n",
    "- It allows us to select the `k` \"best\" features based on a particular metric\n",
    "- To demonstrate the method, we will revisit the twitter dataset from last lecture of airline tweets and their sentiments (positive or negative)"
   ]
  },
  {
   "cell_type": "code",
   "execution_count": 1,
   "metadata": {},
   "outputs": [],
   "source": [
    "# import required packages\n",
    "import numpy as np\n",
    "import pandas as pd\n",
    "from sklearn.naive_bayes import MultinomialNB\n",
    "from sklearn.model_selection import train_test_split, cross_validate\n",
    "from sklearn.feature_extraction.text import CountVectorizer\n",
    "from sklearn.feature_selection import SelectKBest, chi2"
   ]
  },
  {
   "cell_type": "markdown",
   "metadata": {},
   "source": [
    "- Load in the twitter data\n",
    "- Split into train/test sets"
   ]
  },
  {
   "cell_type": "code",
   "execution_count": 2,
   "metadata": {},
   "outputs": [],
   "source": [
    "df = pd.read_csv('data/twitter-airline-sentiment.csv')\n",
    "cv = CountVectorizer(stop_words='english')\n",
    "X = cv.fit_transform(df['tweet'])\n",
    "y = df['sentiment']\n",
    "X_train, X_test, y_train, y_test = train_test_split(X,\n",
    "                                                    y,\n",
    "                                                    test_size=0.2,\n",
    "                                                    random_state=123)"
   ]
  },
  {
   "cell_type": "markdown",
   "metadata": {},
   "source": [
    "- I'm going to use Naive Bayes to model my dataset\n",
    "- There's no hyperparameter tuning here, but I will be making a decision about which features to keep in my model, so I can't use my test data to help me make those decision\n",
    "- Instead I need to use cross-validation to get an estimate of model performance"
   ]
  },
  {
   "cell_type": "code",
   "execution_count": 3,
   "metadata": {},
   "outputs": [
    {
     "name": "stdout",
     "output_type": "stream",
     "text": [
      " Mean error rate = 0.11\n"
     ]
    }
   ],
   "source": [
    "model = MultinomialNB()\n",
    "cv_score = cross_validate(model, X_train, y_train, cv=10)\n",
    "print(f\" Mean error rate = {1 - cv_score['test_score'].mean():.2f}\")"
   ]
  },
  {
   "cell_type": "markdown",
   "metadata": {},
   "source": [
    "- So I get a pretty low error-rate which is great\n",
    "- But now I'm going to do some feature selection using `SelectKBest`\n",
    "- This function works similar to the preprocessing functions we've seen previously\n",
    "- It has a `.fit()` and `.transform()`\n",
    "- There are just 2 arguments:\n",
    "    1. The scoring function (chi2 for classification)\n",
    "    2. The number of features to keep"
   ]
  },
  {
   "cell_type": "code",
   "execution_count": 4,
   "metadata": {},
   "outputs": [
    {
     "data": {
      "text/plain": [
       "SelectKBest(k=20, score_func=<function chi2 at 0x11eef6790>)"
      ]
     },
     "execution_count": 4,
     "metadata": {},
     "output_type": "execute_result"
    }
   ],
   "source": [
    "selector = SelectKBest(chi2, k=20)\n",
    "selector.fit(X_train, y_train)"
   ]
  },
  {
   "cell_type": "markdown",
   "metadata": {},
   "source": [
    "- Before we transform our data, let's remind ourselves how many features there were originally\n",
    "- There were 12,364 features. That's quite a lot!"
   ]
  },
  {
   "cell_type": "code",
   "execution_count": 5,
   "metadata": {},
   "outputs": [
    {
     "data": {
      "text/plain": [
       "(9232, 12364)"
      ]
     },
     "execution_count": 5,
     "metadata": {},
     "output_type": "execute_result"
    }
   ],
   "source": [
    "X_train.shape"
   ]
  },
  {
   "cell_type": "markdown",
   "metadata": {},
   "source": [
    "- Now let's transform our data and pick only the best 20 features"
   ]
  },
  {
   "cell_type": "code",
   "execution_count": 6,
   "metadata": {},
   "outputs": [],
   "source": [
    "X_train_new = selector.transform(X_train)"
   ]
  },
  {
   "cell_type": "code",
   "execution_count": 7,
   "metadata": {},
   "outputs": [
    {
     "data": {
      "text/plain": [
       "(9232, 20)"
      ]
     },
     "execution_count": 7,
     "metadata": {},
     "output_type": "execute_result"
    }
   ],
   "source": [
    "X_train_new.shape"
   ]
  },
  {
   "cell_type": "markdown",
   "metadata": {},
   "source": [
    "- And now use this subset of data to train a new model and do cross-validation again"
   ]
  },
  {
   "cell_type": "code",
   "execution_count": 8,
   "metadata": {},
   "outputs": [
    {
     "name": "stdout",
     "output_type": "stream",
     "text": [
      " Mean error rate = 0.11\n"
     ]
    }
   ],
   "source": [
    "cv_score = cross_validate(model, X_train, y_train, cv=10)\n",
    "print(f\" Mean error rate = {1 - cv_score['test_score'].mean():.2f}\")"
   ]
  },
  {
   "cell_type": "markdown",
   "metadata": {},
   "source": [
    "- We have very similar error but by using a much simpler model, only 20 features versus 12,364!!!\n",
    "- Let's have a look at what those features are to see if they make sense\n",
    "- The best features are revealed by the `get_support` method of our selector, and their scores are in the `selector.scores_` attribute\n",
    "- It's a little convoluted to access them, so take your time to understand the code below, which extracts this information and stores it in a nice neat dataframe"
   ]
  },
  {
   "cell_type": "code",
   "execution_count": 9,
   "metadata": {},
   "outputs": [
    {
     "data": {
      "text/html": [
       "<div>\n",
       "<style scoped>\n",
       "    .dataframe tbody tr th:only-of-type {\n",
       "        vertical-align: middle;\n",
       "    }\n",
       "\n",
       "    .dataframe tbody tr th {\n",
       "        vertical-align: top;\n",
       "    }\n",
       "\n",
       "    .dataframe thead th {\n",
       "        text-align: right;\n",
       "    }\n",
       "</style>\n",
       "<table border=\"1\" class=\"dataframe\">\n",
       "  <thead>\n",
       "    <tr style=\"text-align: right;\">\n",
       "      <th></th>\n",
       "      <th>feature</th>\n",
       "      <th>score</th>\n",
       "    </tr>\n",
       "  </thead>\n",
       "  <tbody>\n",
       "    <tr>\n",
       "      <th>16</th>\n",
       "      <td>thank</td>\n",
       "      <td>1044.243959</td>\n",
       "    </tr>\n",
       "    <tr>\n",
       "      <th>17</th>\n",
       "      <td>thanks</td>\n",
       "      <td>938.900996</td>\n",
       "    </tr>\n",
       "    <tr>\n",
       "      <th>8</th>\n",
       "      <td>great</td>\n",
       "      <td>451.583250</td>\n",
       "    </tr>\n",
       "    <tr>\n",
       "      <th>13</th>\n",
       "      <td>love</td>\n",
       "      <td>230.509507</td>\n",
       "    </tr>\n",
       "    <tr>\n",
       "      <th>2</th>\n",
       "      <td>awesome</td>\n",
       "      <td>223.013462</td>\n",
       "    </tr>\n",
       "    <tr>\n",
       "      <th>11</th>\n",
       "      <td>jetblue</td>\n",
       "      <td>183.832946</td>\n",
       "    </tr>\n",
       "    <tr>\n",
       "      <th>0</th>\n",
       "      <td>amazing</td>\n",
       "      <td>182.531895</td>\n",
       "    </tr>\n",
       "    <tr>\n",
       "      <th>6</th>\n",
       "      <td>flight</td>\n",
       "      <td>136.000069</td>\n",
       "    </tr>\n",
       "    <tr>\n",
       "      <th>3</th>\n",
       "      <td>best</td>\n",
       "      <td>135.021187</td>\n",
       "    </tr>\n",
       "    <tr>\n",
       "      <th>18</th>\n",
       "      <td>usairways</td>\n",
       "      <td>131.826308</td>\n",
       "    </tr>\n",
       "    <tr>\n",
       "      <th>15</th>\n",
       "      <td>southwestair</td>\n",
       "      <td>124.393423</td>\n",
       "    </tr>\n",
       "    <tr>\n",
       "      <th>10</th>\n",
       "      <td>hours</td>\n",
       "      <td>122.566715</td>\n",
       "    </tr>\n",
       "    <tr>\n",
       "      <th>4</th>\n",
       "      <td>cancelled</td>\n",
       "      <td>118.922146</td>\n",
       "    </tr>\n",
       "    <tr>\n",
       "      <th>9</th>\n",
       "      <td>hold</td>\n",
       "      <td>115.491527</td>\n",
       "    </tr>\n",
       "    <tr>\n",
       "      <th>19</th>\n",
       "      <td>virginamerica</td>\n",
       "      <td>102.930274</td>\n",
       "    </tr>\n",
       "    <tr>\n",
       "      <th>5</th>\n",
       "      <td>delayed</td>\n",
       "      <td>79.992183</td>\n",
       "    </tr>\n",
       "    <tr>\n",
       "      <th>14</th>\n",
       "      <td>rock</td>\n",
       "      <td>77.444498</td>\n",
       "    </tr>\n",
       "    <tr>\n",
       "      <th>1</th>\n",
       "      <td>appreciate</td>\n",
       "      <td>74.970037</td>\n",
       "    </tr>\n",
       "    <tr>\n",
       "      <th>7</th>\n",
       "      <td>good</td>\n",
       "      <td>70.778108</td>\n",
       "    </tr>\n",
       "    <tr>\n",
       "      <th>12</th>\n",
       "      <td>kudos</td>\n",
       "      <td>68.375200</td>\n",
       "    </tr>\n",
       "  </tbody>\n",
       "</table>\n",
       "</div>"
      ],
      "text/plain": [
       "          feature        score\n",
       "16          thank  1044.243959\n",
       "17         thanks   938.900996\n",
       "8           great   451.583250\n",
       "13           love   230.509507\n",
       "2         awesome   223.013462\n",
       "11        jetblue   183.832946\n",
       "0         amazing   182.531895\n",
       "6          flight   136.000069\n",
       "3            best   135.021187\n",
       "18      usairways   131.826308\n",
       "15   southwestair   124.393423\n",
       "10          hours   122.566715\n",
       "4       cancelled   118.922146\n",
       "9            hold   115.491527\n",
       "19  virginamerica   102.930274\n",
       "5         delayed    79.992183\n",
       "14           rock    77.444498\n",
       "1      appreciate    74.970037\n",
       "7            good    70.778108\n",
       "12          kudos    68.375200"
      ]
     },
     "execution_count": 9,
     "metadata": {},
     "output_type": "execute_result"
    }
   ],
   "source": [
    "best_features = selector.get_support(indices=True)\n",
    "pd.DataFrame({'feature': np.array(cv.get_feature_names())[best_features], \n",
    "              'score': selector.scores_[best_features]}).sort_values(by='score', ascending=False)"
   ]
  },
  {
   "cell_type": "markdown",
   "metadata": {},
   "source": [
    "### 3.1.2 Numeric data"
   ]
  },
  {
   "cell_type": "markdown",
   "metadata": {},
   "source": [
    "- With regression problems, feature selection is often based on Pearson correlation\n",
    "- This can be done in sklearn using the `f_regression` functions\n",
    "- But often people will just do it manually\n",
    "- I'm going to read in some data describing diabetes patients (the data is available on scikit-learn [here](https://scikit-learn.org/stable/modules/generated/sklearn.datasets.load_diabetes.html))\n",
    "- It contains 10 numeric features of patient physiology and 1 target which is a continuous measure of disease progression"
   ]
  },
  {
   "cell_type": "code",
   "execution_count": 10,
   "metadata": {},
   "outputs": [
    {
     "data": {
      "text/html": [
       "<div>\n",
       "<style scoped>\n",
       "    .dataframe tbody tr th:only-of-type {\n",
       "        vertical-align: middle;\n",
       "    }\n",
       "\n",
       "    .dataframe tbody tr th {\n",
       "        vertical-align: top;\n",
       "    }\n",
       "\n",
       "    .dataframe thead th {\n",
       "        text-align: right;\n",
       "    }\n",
       "</style>\n",
       "<table border=\"1\" class=\"dataframe\">\n",
       "  <thead>\n",
       "    <tr style=\"text-align: right;\">\n",
       "      <th></th>\n",
       "      <th>age</th>\n",
       "      <th>sex</th>\n",
       "      <th>bmi</th>\n",
       "      <th>bp</th>\n",
       "      <th>s1</th>\n",
       "      <th>s2</th>\n",
       "      <th>s3</th>\n",
       "      <th>s4</th>\n",
       "      <th>s5</th>\n",
       "      <th>s6</th>\n",
       "      <th>disease</th>\n",
       "    </tr>\n",
       "  </thead>\n",
       "  <tbody>\n",
       "    <tr>\n",
       "      <th>0</th>\n",
       "      <td>0.038076</td>\n",
       "      <td>0.050680</td>\n",
       "      <td>0.061696</td>\n",
       "      <td>0.021872</td>\n",
       "      <td>-0.044223</td>\n",
       "      <td>-0.034821</td>\n",
       "      <td>-0.043401</td>\n",
       "      <td>-0.002592</td>\n",
       "      <td>0.019908</td>\n",
       "      <td>-0.017646</td>\n",
       "      <td>151</td>\n",
       "    </tr>\n",
       "    <tr>\n",
       "      <th>1</th>\n",
       "      <td>-0.001882</td>\n",
       "      <td>-0.044642</td>\n",
       "      <td>-0.051474</td>\n",
       "      <td>-0.026328</td>\n",
       "      <td>-0.008449</td>\n",
       "      <td>-0.019163</td>\n",
       "      <td>0.074412</td>\n",
       "      <td>-0.039493</td>\n",
       "      <td>-0.068330</td>\n",
       "      <td>-0.092204</td>\n",
       "      <td>75</td>\n",
       "    </tr>\n",
       "    <tr>\n",
       "      <th>2</th>\n",
       "      <td>0.085299</td>\n",
       "      <td>0.050680</td>\n",
       "      <td>0.044451</td>\n",
       "      <td>-0.005671</td>\n",
       "      <td>-0.045599</td>\n",
       "      <td>-0.034194</td>\n",
       "      <td>-0.032356</td>\n",
       "      <td>-0.002592</td>\n",
       "      <td>0.002864</td>\n",
       "      <td>-0.025930</td>\n",
       "      <td>141</td>\n",
       "    </tr>\n",
       "    <tr>\n",
       "      <th>3</th>\n",
       "      <td>-0.089063</td>\n",
       "      <td>-0.044642</td>\n",
       "      <td>-0.011595</td>\n",
       "      <td>-0.036656</td>\n",
       "      <td>0.012191</td>\n",
       "      <td>0.024991</td>\n",
       "      <td>-0.036038</td>\n",
       "      <td>0.034309</td>\n",
       "      <td>0.022692</td>\n",
       "      <td>-0.009362</td>\n",
       "      <td>206</td>\n",
       "    </tr>\n",
       "    <tr>\n",
       "      <th>4</th>\n",
       "      <td>0.005383</td>\n",
       "      <td>-0.044642</td>\n",
       "      <td>-0.036385</td>\n",
       "      <td>0.021872</td>\n",
       "      <td>0.003935</td>\n",
       "      <td>0.015596</td>\n",
       "      <td>0.008142</td>\n",
       "      <td>-0.002592</td>\n",
       "      <td>-0.031991</td>\n",
       "      <td>-0.046641</td>\n",
       "      <td>135</td>\n",
       "    </tr>\n",
       "  </tbody>\n",
       "</table>\n",
       "</div>"
      ],
      "text/plain": [
       "        age       sex       bmi        bp        s1        s2        s3  \\\n",
       "0  0.038076  0.050680  0.061696  0.021872 -0.044223 -0.034821 -0.043401   \n",
       "1 -0.001882 -0.044642 -0.051474 -0.026328 -0.008449 -0.019163  0.074412   \n",
       "2  0.085299  0.050680  0.044451 -0.005671 -0.045599 -0.034194 -0.032356   \n",
       "3 -0.089063 -0.044642 -0.011595 -0.036656  0.012191  0.024991 -0.036038   \n",
       "4  0.005383 -0.044642 -0.036385  0.021872  0.003935  0.015596  0.008142   \n",
       "\n",
       "         s4        s5        s6  disease  \n",
       "0 -0.002592  0.019908 -0.017646      151  \n",
       "1 -0.039493 -0.068330 -0.092204       75  \n",
       "2 -0.002592  0.002864 -0.025930      141  \n",
       "3  0.034309  0.022692 -0.009362      206  \n",
       "4 -0.002592 -0.031991 -0.046641      135  "
      ]
     },
     "execution_count": 10,
     "metadata": {},
     "output_type": "execute_result"
    }
   ],
   "source": [
    "df = pd.read_csv('data/diabetes.csv')\n",
    "df.head()"
   ]
  },
  {
   "cell_type": "markdown",
   "metadata": {},
   "source": [
    "- We can use the built-in Pandas function `.corr()` to calculate Pearson correlation\n",
    "- We are interested in which features have the highest/lowest correlation with the target"
   ]
  },
  {
   "cell_type": "code",
   "execution_count": 11,
   "metadata": {},
   "outputs": [
    {
     "data": {
      "text/html": [
       "<div>\n",
       "<style scoped>\n",
       "    .dataframe tbody tr th:only-of-type {\n",
       "        vertical-align: middle;\n",
       "    }\n",
       "\n",
       "    .dataframe tbody tr th {\n",
       "        vertical-align: top;\n",
       "    }\n",
       "\n",
       "    .dataframe thead th {\n",
       "        text-align: right;\n",
       "    }\n",
       "</style>\n",
       "<table border=\"1\" class=\"dataframe\">\n",
       "  <thead>\n",
       "    <tr style=\"text-align: right;\">\n",
       "      <th></th>\n",
       "      <th>age</th>\n",
       "      <th>sex</th>\n",
       "      <th>bmi</th>\n",
       "      <th>bp</th>\n",
       "      <th>s1</th>\n",
       "      <th>s2</th>\n",
       "      <th>s3</th>\n",
       "      <th>s4</th>\n",
       "      <th>s5</th>\n",
       "      <th>s6</th>\n",
       "      <th>disease</th>\n",
       "    </tr>\n",
       "  </thead>\n",
       "  <tbody>\n",
       "    <tr>\n",
       "      <th>age</th>\n",
       "      <td>1.000000</td>\n",
       "      <td>0.173737</td>\n",
       "      <td>0.185085</td>\n",
       "      <td>0.335427</td>\n",
       "      <td>0.260061</td>\n",
       "      <td>0.219243</td>\n",
       "      <td>-0.075181</td>\n",
       "      <td>0.203841</td>\n",
       "      <td>0.270777</td>\n",
       "      <td>0.301731</td>\n",
       "      <td>0.187889</td>\n",
       "    </tr>\n",
       "    <tr>\n",
       "      <th>sex</th>\n",
       "      <td>0.173737</td>\n",
       "      <td>1.000000</td>\n",
       "      <td>0.088161</td>\n",
       "      <td>0.241013</td>\n",
       "      <td>0.035277</td>\n",
       "      <td>0.142637</td>\n",
       "      <td>-0.379090</td>\n",
       "      <td>0.332115</td>\n",
       "      <td>0.149918</td>\n",
       "      <td>0.208133</td>\n",
       "      <td>0.043062</td>\n",
       "    </tr>\n",
       "    <tr>\n",
       "      <th>bmi</th>\n",
       "      <td>0.185085</td>\n",
       "      <td>0.088161</td>\n",
       "      <td>1.000000</td>\n",
       "      <td>0.395415</td>\n",
       "      <td>0.249777</td>\n",
       "      <td>0.261170</td>\n",
       "      <td>-0.366811</td>\n",
       "      <td>0.413807</td>\n",
       "      <td>0.446159</td>\n",
       "      <td>0.388680</td>\n",
       "      <td>0.586450</td>\n",
       "    </tr>\n",
       "    <tr>\n",
       "      <th>bp</th>\n",
       "      <td>0.335427</td>\n",
       "      <td>0.241013</td>\n",
       "      <td>0.395415</td>\n",
       "      <td>1.000000</td>\n",
       "      <td>0.242470</td>\n",
       "      <td>0.185558</td>\n",
       "      <td>-0.178761</td>\n",
       "      <td>0.257653</td>\n",
       "      <td>0.393478</td>\n",
       "      <td>0.390429</td>\n",
       "      <td>0.441484</td>\n",
       "    </tr>\n",
       "    <tr>\n",
       "      <th>s1</th>\n",
       "      <td>0.260061</td>\n",
       "      <td>0.035277</td>\n",
       "      <td>0.249777</td>\n",
       "      <td>0.242470</td>\n",
       "      <td>1.000000</td>\n",
       "      <td>0.896663</td>\n",
       "      <td>0.051519</td>\n",
       "      <td>0.542207</td>\n",
       "      <td>0.515501</td>\n",
       "      <td>0.325717</td>\n",
       "      <td>0.212022</td>\n",
       "    </tr>\n",
       "    <tr>\n",
       "      <th>s2</th>\n",
       "      <td>0.219243</td>\n",
       "      <td>0.142637</td>\n",
       "      <td>0.261170</td>\n",
       "      <td>0.185558</td>\n",
       "      <td>0.896663</td>\n",
       "      <td>1.000000</td>\n",
       "      <td>-0.196455</td>\n",
       "      <td>0.659817</td>\n",
       "      <td>0.318353</td>\n",
       "      <td>0.290600</td>\n",
       "      <td>0.174054</td>\n",
       "    </tr>\n",
       "    <tr>\n",
       "      <th>s3</th>\n",
       "      <td>-0.075181</td>\n",
       "      <td>-0.379090</td>\n",
       "      <td>-0.366811</td>\n",
       "      <td>-0.178761</td>\n",
       "      <td>0.051519</td>\n",
       "      <td>-0.196455</td>\n",
       "      <td>1.000000</td>\n",
       "      <td>-0.738493</td>\n",
       "      <td>-0.398577</td>\n",
       "      <td>-0.273697</td>\n",
       "      <td>-0.394789</td>\n",
       "    </tr>\n",
       "    <tr>\n",
       "      <th>s4</th>\n",
       "      <td>0.203841</td>\n",
       "      <td>0.332115</td>\n",
       "      <td>0.413807</td>\n",
       "      <td>0.257653</td>\n",
       "      <td>0.542207</td>\n",
       "      <td>0.659817</td>\n",
       "      <td>-0.738493</td>\n",
       "      <td>1.000000</td>\n",
       "      <td>0.617857</td>\n",
       "      <td>0.417212</td>\n",
       "      <td>0.430453</td>\n",
       "    </tr>\n",
       "    <tr>\n",
       "      <th>s5</th>\n",
       "      <td>0.270777</td>\n",
       "      <td>0.149918</td>\n",
       "      <td>0.446159</td>\n",
       "      <td>0.393478</td>\n",
       "      <td>0.515501</td>\n",
       "      <td>0.318353</td>\n",
       "      <td>-0.398577</td>\n",
       "      <td>0.617857</td>\n",
       "      <td>1.000000</td>\n",
       "      <td>0.464670</td>\n",
       "      <td>0.565883</td>\n",
       "    </tr>\n",
       "    <tr>\n",
       "      <th>s6</th>\n",
       "      <td>0.301731</td>\n",
       "      <td>0.208133</td>\n",
       "      <td>0.388680</td>\n",
       "      <td>0.390429</td>\n",
       "      <td>0.325717</td>\n",
       "      <td>0.290600</td>\n",
       "      <td>-0.273697</td>\n",
       "      <td>0.417212</td>\n",
       "      <td>0.464670</td>\n",
       "      <td>1.000000</td>\n",
       "      <td>0.382483</td>\n",
       "    </tr>\n",
       "    <tr>\n",
       "      <th>disease</th>\n",
       "      <td>0.187889</td>\n",
       "      <td>0.043062</td>\n",
       "      <td>0.586450</td>\n",
       "      <td>0.441484</td>\n",
       "      <td>0.212022</td>\n",
       "      <td>0.174054</td>\n",
       "      <td>-0.394789</td>\n",
       "      <td>0.430453</td>\n",
       "      <td>0.565883</td>\n",
       "      <td>0.382483</td>\n",
       "      <td>1.000000</td>\n",
       "    </tr>\n",
       "  </tbody>\n",
       "</table>\n",
       "</div>"
      ],
      "text/plain": [
       "              age       sex       bmi        bp        s1        s2        s3  \\\n",
       "age      1.000000  0.173737  0.185085  0.335427  0.260061  0.219243 -0.075181   \n",
       "sex      0.173737  1.000000  0.088161  0.241013  0.035277  0.142637 -0.379090   \n",
       "bmi      0.185085  0.088161  1.000000  0.395415  0.249777  0.261170 -0.366811   \n",
       "bp       0.335427  0.241013  0.395415  1.000000  0.242470  0.185558 -0.178761   \n",
       "s1       0.260061  0.035277  0.249777  0.242470  1.000000  0.896663  0.051519   \n",
       "s2       0.219243  0.142637  0.261170  0.185558  0.896663  1.000000 -0.196455   \n",
       "s3      -0.075181 -0.379090 -0.366811 -0.178761  0.051519 -0.196455  1.000000   \n",
       "s4       0.203841  0.332115  0.413807  0.257653  0.542207  0.659817 -0.738493   \n",
       "s5       0.270777  0.149918  0.446159  0.393478  0.515501  0.318353 -0.398577   \n",
       "s6       0.301731  0.208133  0.388680  0.390429  0.325717  0.290600 -0.273697   \n",
       "disease  0.187889  0.043062  0.586450  0.441484  0.212022  0.174054 -0.394789   \n",
       "\n",
       "               s4        s5        s6   disease  \n",
       "age      0.203841  0.270777  0.301731  0.187889  \n",
       "sex      0.332115  0.149918  0.208133  0.043062  \n",
       "bmi      0.413807  0.446159  0.388680  0.586450  \n",
       "bp       0.257653  0.393478  0.390429  0.441484  \n",
       "s1       0.542207  0.515501  0.325717  0.212022  \n",
       "s2       0.659817  0.318353  0.290600  0.174054  \n",
       "s3      -0.738493 -0.398577 -0.273697 -0.394789  \n",
       "s4       1.000000  0.617857  0.417212  0.430453  \n",
       "s5       0.617857  1.000000  0.464670  0.565883  \n",
       "s6       0.417212  0.464670  1.000000  0.382483  \n",
       "disease  0.430453  0.565883  0.382483  1.000000  "
      ]
     },
     "execution_count": 11,
     "metadata": {},
     "output_type": "execute_result"
    }
   ],
   "source": [
    "df.corr()"
   ]
  },
  {
   "cell_type": "markdown",
   "metadata": {},
   "source": [
    "- It's kind of difficult to look at all those numbers\n",
    "- A more visually-friendly way of doing this is using the plotting package seaborn"
   ]
  },
  {
   "cell_type": "code",
   "execution_count": 12,
   "metadata": {},
   "outputs": [
    {
     "data": {
      "text/plain": [
       "(0.0, 10.0)"
      ]
     },
     "execution_count": 12,
     "metadata": {},
     "output_type": "execute_result"
    },
    {
     "data": {
      "image/png": "[encoded data removed]",
      "text/plain": [
       "<Figure size 576x432 with 2 Axes>"
      ]
     },
     "metadata": {
      "filenames": {
       "image/png": "/Users/icics-user/Documents/BAIT509/BAIT509/_build/jupyter_execute/archive/2019-2020/lectures/lecture6_feature_model_selection_39_1.png"
      },
      "needs_background": "light"
     },
     "output_type": "display_data"
    }
   ],
   "source": [
    "import matplotlib.pyplot as plt\n",
    "import seaborn as sns\n",
    "plt.subplots(1, 1, figsize=(8, 6))\n",
    "sns.heatmap(df.corr(),\n",
    "            cmap='RdBu_r', vmin=-1, vmax=1)\n",
    "plt.ylim(0, 10)"
   ]
  },
  {
   "cell_type": "markdown",
   "metadata": {},
   "source": [
    "- Things to look for:\n",
    "    - Features with low correlation with the response (these could be dropped)\n",
    "    - Features with high correlation with the response (these should be kept and may be important)\n",
    "    - Features with high correlation with each other (could drop one of these as they are contributing redundant information to the response)\n",
    "- For the plot above I might:\n",
    "    - drop the `sex` feature (it has ~0 correlation)\n",
    "    - drop `s2` (it has high correlation with `s1`)\n",
    "    - drop `s4` because it is highly correlated with `s1`, `s3`, and `s5`\n",
    "- Often people will try dropping/keeping different features in the training data set and see how it affects the cross-validation score"
   ]
  },
  {
   "cell_type": "markdown",
   "metadata": {},
   "source": [
    "## 3.2 Wrapper feature selection"
   ]
  },
  {
   "cell_type": "markdown",
   "metadata": {},
   "source": [
    "- Wrapper feature selection uses the model itself to evaluate the best subset of features\n",
    "- It is more computationally expensive than univariate selection, but can give better results because we are using the model itself to help us pick features\n",
    "- There are two main kinds of wrapper selection:\n",
    "    1. Exhaustive\n",
    "    2. Greedy"
   ]
  },
  {
   "cell_type": "markdown",
   "metadata": {},
   "source": [
    "### 3.2.1 Exhaustive wrapper selection\n",
    "- This involves testing every single combination of input features\n",
    "- Guaranteed to give you the global optimum solution for your setup, but computational expensive\n",
    "- If we have $d$ features, there are approximately $2^d$ subsets of those features to consider/models to build\n",
    "- For 10 features, that’s 1000 models. For 20 features, that’s over 1,000,000 models\n",
    "- Here's how the number of models scales with the numer of features:"
   ]
  },
  {
   "cell_type": "markdown",
   "metadata": {},
   "source": [
    "<img src='./img/combinations.png' width=\"600\"> "
   ]
  },
  {
   "cell_type": "markdown",
   "metadata": {},
   "source": [
    "- This functionality is not even built into sklearn at the moment because it's rarely used\n",
    "- However, there is a package called [mlxtend](http://rasbt.github.io/mlxtend/) which facilitates wrapper selection"
   ]
  },
  {
   "cell_type": "markdown",
   "metadata": {},
   "source": [
    "### 3.2.2 Greedy wrapper selection"
   ]
  },
  {
   "cell_type": "markdown",
   "metadata": {},
   "source": [
    "- Instead of fitting all models, we can take a “greedy approach”. This may not result in the optimal model, but the hope is that we get close. One of three methods are typically used:"
   ]
  },
  {
   "cell_type": "markdown",
   "metadata": {},
   "source": [
    "#### 1. Forward Selection\n",
    "- The idea here is to start with the null model: no features.\n",
    "- Then, add one predictor at a time, each time choosing the best one in terms of error reduction.\n",
    "- Sometimes, a hypothesis test (e.g., F-test) is used to determine whether the addition of the predictor is significant enough.\n",
    "- Usually we define a threshold that we want the error to decrease by if we add a feature. If we can't exceed this threshold by adding any other feature, we stop."
   ]
  },
  {
   "cell_type": "markdown",
   "metadata": {},
   "source": [
    "#### 2. Backward Selection\n",
    "- The idea here is opposite to **Forward Selection**, we start with the full model: all features.\n",
    "- Then, we step-wise remove feature based on their effect on error, or based on a hypothesis test.\n",
    "- Once again, we usually define a threshold to help us stop the algorithm."
   ]
  },
  {
   "cell_type": "markdown",
   "metadata": {},
   "source": [
    "#### 3. Stepwise Selection\n",
    "- This is a combination of forward and backward selection.\n",
    "- At each step we consider both adding **or** removing features."
   ]
  },
  {
   "cell_type": "markdown",
   "metadata": {},
   "source": [
    "- There is a [pull request on GitHub](https://github.com/scikit-learn/scikit-learn/pull/8684) to make this functionality available in sklearn but currently it is not\n",
    "- They are included in the [mlxtend](http://rasbt.github.io/mlxtend/) package though\n",
    "- sklearn does have something similar called [Recursive Feature Selection](https://scikit-learn.org/stable/modules/feature_selection.html#recursive-feature-elimination). This is similar to the above, except that instead of choosing features based on model error, it chooses features based on their `feature importance`. As a result, it can only be used with models that have a `feature importance` attribute, e.g., Decision trees, Logistic regression, Naive Bayes, Random Forest, etc."
   ]
  },
  {
   "cell_type": "markdown",
   "metadata": {},
   "source": [
    "## 3.3 Other feature selection topics\n",
    "- **Regularization** = adding a penalty into your optimization function which can reduce/\"shrink\" the value of unimportant features to 0 (e.g., [Ridge regression](https://www.youtube.com/watch?v=Q81RR3yKn30), [Lasso regression](https://www.youtube.com/watch?v=NGf0voTMlcs)).\n",
    "- **Dimensionality reduction** = try to represent information in multiple features using fewer contrived features (e.g., [Principal Component Analysis](https://www.youtube.com/watch?v=FgakZw6K1QQ))\n",
    "- **Feature engineering** = creating new features based on expert knowledge or systematic analysis, [this video](https://www.youtube.com/watch?v=d12ra3b_M-0) does a decent job at explaining it (it's specifically in regards to TensorFlow, another ML library, but the concepts are the same)"
   ]
  },
  {
   "cell_type": "markdown",
   "metadata": {},
   "source": [
    "# -------- Break (10 mins) -------- <a id=\"break\"></a>"
   ]
  },
  {
   "cell_type": "markdown",
   "metadata": {},
   "source": [
    "# 4. Model Selection (10 mins) <a id=4></a>"
   ]
  },
  {
   "cell_type": "markdown",
   "metadata": {},
   "source": [
    "- The question here is, what supervised learning method should you use? Usually we develop multiple different models and then need to choose one. There are a few things you should consider."
   ]
  },
  {
   "cell_type": "markdown",
   "metadata": {},
   "source": [
    "### Quantitative choice\n",
    "\n",
    "- This is about choosing the best model for your problem\n",
    "- Suppose you’ve gone ahead and fit your best decision tree model, kNN model, logistic regression model, etc. Which do you choose?\n",
    "- You should have estimated the generalization error for each model (for example, using cross-validation) – so choose the one that gives the lowest error.\n",
    "- You might find that some models have roughly the same validation error. In this case, you have a few options:\n",
    "    1. Choose a model based on other criteria (discussed below)\n",
    "    2. Choose the simplest model (least risk of being overfit)\n",
    "    3. Use all the model to make predictions of new data (i.e., an ensemble - more to come in a later lecture)"
   ]
  },
  {
   "cell_type": "markdown",
   "metadata": {},
   "source": [
    "### Qualitative choice\n",
    "- This could also be called \"expert choice\"\n",
    "- It's about adding assumptions to the modelling process based on your expert opinion\n",
    "- Say that, after exploring the data you think that your response looks linear in your features. If so, it may be reasonable to assume linearity, and fit a linear regression model."
   ]
  },
  {
   "cell_type": "markdown",
   "metadata": {},
   "source": [
    "### Interpretability/other contraints\n",
    "- Sometimes your choice of model is based on considerations other than just error\n",
    "- For example, you (or your client) might want an interpretable model, like a Decision Tree or Logistic Regression\n",
    "- You might want a model that predicts in real-time, in which case you need something fast and light-weight"
   ]
  },
  {
   "cell_type": "markdown",
   "metadata": {},
   "source": [
    "# 5. Advanced hyperparameter optimization (20 mins) <a id=\"5\"></a>"
   ]
  },
  {
   "cell_type": "markdown",
   "metadata": {},
   "source": [
    "- Hyperparameter optimization is also about reducing the reducible error\n",
    "- It is to do with how well our model generalizes our data\n",
    "- We've already done quite a bit of hyperparameter optimization manually, by changing the values of a hyperparameter, doing cross-validation, checking the error, and repeating\n",
    "- But I now want to introduce you to a more efficient way to tune one or more hyperparameters"
   ]
  },
  {
   "cell_type": "markdown",
   "metadata": {},
   "source": [
    "## 5.1 sklearn's GridSearchCV"
   ]
  },
  {
   "cell_type": "markdown",
   "metadata": {},
   "source": [
    "- sklearn provides the function [GridSearchCV](https://scikit-learn.org/stable/modules/generated/sklearn.model_selection.GridSearchCV.html) to help optimise model hyperparameters\n",
    "- This method does exactly the process described above, but all wrapped up in one nice convenient function\n",
    "- It's best illustrated by example\n",
    "- We will use our good-old cities dataset to demonstrate `GridSearchCV`\n",
    "- Let's load up the data"
   ]
  },
  {
   "cell_type": "code",
   "execution_count": 13,
   "metadata": {},
   "outputs": [],
   "source": [
    "df = pd.read_csv('data/cities_USA.csv', index_col=0)\n",
    "X = df.drop(columns=['vote'])\n",
    "y = df[['vote']]\n",
    "X_train, X_test, y_train, y_test = train_test_split(X,\n",
    "                                                    y,\n",
    "                                                    test_size=0.2,\n",
    "                                                    random_state=123)"
   ]
  },
  {
   "cell_type": "markdown",
   "metadata": {},
   "source": [
    "- Let's import the `GridSearchCV` library along with a `DecisionTreeClassifier`"
   ]
  },
  {
   "cell_type": "code",
   "execution_count": 14,
   "metadata": {},
   "outputs": [],
   "source": [
    "from sklearn.model_selection import GridSearchCV\n",
    "from sklearn.tree import DecisionTreeClassifier"
   ]
  },
  {
   "cell_type": "markdown",
   "metadata": {},
   "source": [
    "- The first part of a `GridSearchCV` workflow is to define the hyperparameters you want to test\n",
    "- You do this in a dictionary which we will call \"hyperparams\""
   ]
  },
  {
   "cell_type": "code",
   "execution_count": 15,
   "metadata": {},
   "outputs": [],
   "source": [
    "hyperparams = {'max_depth': [1, 3, 5, 10]}"
   ]
  },
  {
   "cell_type": "markdown",
   "metadata": {},
   "source": [
    "- We then treat the `GridSearchCV` object just like any other model in sklearn\n",
    "- Except that we pass in as arguments, our model and our hyperparameters\n",
    "- I'm also specifying here `cv=10` to ensure my grid search tests each hyperparameter using 10-fold cross-validation"
   ]
  },
  {
   "cell_type": "code",
   "execution_count": 16,
   "metadata": {},
   "outputs": [],
   "source": [
    "model = DecisionTreeClassifier()\n",
    "model_grid = GridSearchCV(model, hyperparams, cv=10)"
   ]
  },
  {
   "cell_type": "markdown",
   "metadata": {},
   "source": [
    "- We can now fit our model using our training data\n",
    "- In the fit stage, our grid search is testing every single hyperparameter combination using cross-validation"
   ]
  },
  {
   "cell_type": "code",
   "execution_count": 17,
   "metadata": {},
   "outputs": [
    {
     "data": {
      "text/plain": [
       "GridSearchCV(cv=10, estimator=DecisionTreeClassifier(),\n",
       "             param_grid={'max_depth': [1, 3, 5, 10]})"
      ]
     },
     "execution_count": 17,
     "metadata": {},
     "output_type": "execute_result"
    }
   ],
   "source": [
    "model_grid.fit(X_train, y_train)"
   ]
  },
  {
   "cell_type": "markdown",
   "metadata": {},
   "source": [
    "- We can now access the results of our grid search by exploring its attributes\n",
    "- The best hyperparameter combination can be found in the `best_params_` attribute\n",
    "- The best cross-validation score (associated with the best hyperparameter) can be accessed using `best_score_`"
   ]
  },
  {
   "cell_type": "code",
   "execution_count": 18,
   "metadata": {},
   "outputs": [
    {
     "name": "stdout",
     "output_type": "stream",
     "text": [
      "Best hyperparameter: {'max_depth': 10}\n",
      "Best score: 0.12\n"
     ]
    }
   ],
   "source": [
    "print(f\"Best hyperparameter: {model_grid.best_params_}\")\n",
    "print(f\"Best score: {1 - model_grid.best_score_:.2f}\")"
   ]
  },
  {
   "cell_type": "markdown",
   "metadata": {},
   "source": [
    "- If we use our `model_grid` to get a score on our test data, it will automatically use the best hyperparameter combination"
   ]
  },
  {
   "cell_type": "code",
   "execution_count": 19,
   "metadata": {},
   "outputs": [
    {
     "name": "stdout",
     "output_type": "stream",
     "text": [
      "Error on test data: 0.11\n"
     ]
    }
   ],
   "source": [
    "print(f\"Error on test data: {1- model_grid.score(X_test, y_test):.2f}\")"
   ]
  },
  {
   "cell_type": "markdown",
   "metadata": {},
   "source": [
    "- Of course, the real utility here is that we can test multiple hyperparameters at the same time like in the code below"
   ]
  },
  {
   "cell_type": "code",
   "execution_count": 20,
   "metadata": {},
   "outputs": [
    {
     "name": "stdout",
     "output_type": "stream",
     "text": [
      "Best hyperparameters: {'criterion': 'gini', 'max_depth': 10, 'min_samples_leaf': 2}\n",
      "Best score: 0.11\n"
     ]
    },
    {
     "name": "stderr",
     "output_type": "stream",
     "text": [
      "/usr/local/lib/python3.8/site-packages/sklearn/model_selection/_search.py:847: FutureWarning: The parameter 'iid' is deprecated in 0.22 and will be removed in 0.24.\n",
      "  warnings.warn(\n"
     ]
    }
   ],
   "source": [
    "hyperparams = {'max_depth': [1, 3, 5, 10],\n",
    "               'criterion': ['gini', 'entropy'],\n",
    "               'min_samples_leaf': [2, 4]}\n",
    "model = DecisionTreeClassifier()\n",
    "model_grid = GridSearchCV(model, hyperparams, cv=10, iid=False)\n",
    "model_grid.fit(X_train, y_train)\n",
    "print(f\"Best hyperparameters: {model_grid.best_params_}\")\n",
    "print(f\"Best score: {1 - model_grid.best_score_:.2f}\")"
   ]
  },
  {
   "cell_type": "code",
   "execution_count": 21,
   "metadata": {},
   "outputs": [
    {
     "name": "stdout",
     "output_type": "stream",
     "text": [
      "Error on test data: 0.09\n"
     ]
    }
   ],
   "source": [
    "print(f\"Error on test data: {1 - model_grid.score(X_test, y_test):.2f}\")"
   ]
  },
  {
   "cell_type": "markdown",
   "metadata": {},
   "source": [
    "## 5.2 sklearn's RandomizedSearchCV"
   ]
  },
  {
   "cell_type": "markdown",
   "metadata": {},
   "source": [
    "- The problem with GridSearchCV is that, if we have many hyperparameters to tune, it can be computationally expensive\n",
    "- For example, if we want to tune 3 different hyperparameters, and we are trying 10 different values of each one then we have:\n",
    "    - 10^3 possible combinations of hyperparameters\n",
    "    - We usually evaluate each combination using 10-fold cross-validation\n",
    "    - Which means that we are calling `.fit()/.predict()` 10^4 times\n",
    "- sklearn provides the function [RandomizedSearchCV](https://scikit-learn.org/stable/modules/generated/sklearn.model_selection.RandomizedSearchCV.html) as an alternative to GridSearchCV\n",
    "- In contrast to GridSearchCV, not all hyperparameter combinations are evaluated\n",
    "- Instead, only a fixed number of hyperparameter combinations is randomly sampled from the set provided\n",
    "- This is commonly used in practice for hyperparam optimization"
   ]
  },
  {
   "cell_type": "markdown",
   "metadata": {},
   "source": [
    "# 6. Class Exercise: feature and model selection (20 mins) <a id=\"6\"></a>\n",
    "In this class exercise we will practice doing feature and model selection on the airline tweets dataset we've seen a few times already.\n",
    "\n",
    "Your tasks:\n",
    "\n",
    "1. Load the data and vectorize it using the `CountVectorizer` function.\n",
    "2. Split the data into 2 parts: 80% training, 20% testing.\n",
    "3. Use the `SelectKBest` function with a `chi2` metric to select the best **30** features from the dataset;\n",
    "4. Now, using `GridSearchCV` for parameter tuning and 5-fold cross-validation, develop four optimum models:\n",
    "    1. KNNClassifier\n",
    "    2. DecisionTreeClassifier\n",
    "    3. LogisitcRegression\n",
    "    4. MultinomialNaiveBayes\n",
    "5. Select your best model and test it on the your test data."
   ]
  },
  {
   "cell_type": "code",
   "execution_count": 22,
   "metadata": {},
   "outputs": [
    {
     "name": "stdout",
     "output_type": "stream",
     "text": [
      "*** Hyperparameter tuning ***\n"
     ]
    },
    {
     "name": "stdout",
     "output_type": "stream",
     "text": [
      "KNN best hyperparams = {'n_neighbors': 7}.\n",
      "KNN error: 0.13\n"
     ]
    },
    {
     "name": "stdout",
     "output_type": "stream",
     "text": [
      "DT best hyperparams = {'max_depth': 15}.\n",
      "DT error: 0.13\n"
     ]
    },
    {
     "name": "stdout",
     "output_type": "stream",
     "text": [
      "LR best hyperparams = {'C': 1.0}.\n",
      "LR error: 0.12\n"
     ]
    },
    {
     "name": "stdout",
     "output_type": "stream",
     "text": [
      "NB best hyperparams = {'alpha': 0.01}.\n",
      "NB error: 0.12\n",
      "\n",
      "*** Best model ***\n",
      "Error on test data: 0.12\n",
      "\n",
      "*** Voting classifier ***\n"
     ]
    },
    {
     "name": "stdout",
     "output_type": "stream",
     "text": [
      "Error on test data: 0.11\n"
     ]
    }
   ],
   "source": [
    "import numpy as np\n",
    "import pandas as pd\n",
    "from sklearn.neighbors import KNeighborsClassifier\n",
    "from sklearn.tree import DecisionTreeClassifier\n",
    "from sklearn.linear_model import LogisticRegression\n",
    "from sklearn.naive_bayes import MultinomialNB\n",
    "from sklearn.feature_extraction.text import CountVectorizer\n",
    "from sklearn.model_selection import train_test_split, GridSearchCV\n",
    "from sklearn.feature_selection import SelectKBest, chi2\n",
    "import warnings\n",
    "from sklearn.exceptions import DataConversionWarning\n",
    "warnings.filterwarnings(action='ignore', category=DataConversionWarning)\n",
    "from sklearn.ensemble import VotingClassifier\n",
    "\n",
    "# Question 1 and 2\n",
    "df = pd.read_csv('data/twitter-airline-sentiment.csv')\n",
    "cv = CountVectorizer(stop_words='english')\n",
    "X = cv.fit_transform(df['tweet'])\n",
    "y = df['sentiment']\n",
    "X_train, X_test, y_train, y_test = train_test_split(X,\n",
    "                                                    y,\n",
    "                                                    test_size=0.2,\n",
    "                                                    random_state=0)\n",
    "\n",
    "# Question 3\n",
    "selector = SelectKBest(chi2, k=30)\n",
    "X_train_30 = selector.fit_transform(X_train, y_train)\n",
    "X_test_30 = selector.transform(X_test)\n",
    "\n",
    "# Question 4\n",
    "# I will first define a dictionary of the different models I want to test\n",
    "models = {\n",
    "    'KNN': GridSearchCV(KNeighborsClassifier(),\n",
    "                        param_grid = {'n_neighbors': np.arange(1, 20, 2)},\n",
    "                        cv=5),\n",
    "    'DT': GridSearchCV(DecisionTreeClassifier(),\n",
    "                       param_grid = {'max_depth': np.arange(1, 20, 2)},\n",
    "                       cv=5),\n",
    "    'LR': GridSearchCV(LogisticRegression(solver='lbfgs'),\n",
    "                       param_grid = {'C': [0.01, 0.1, 1.0]},\n",
    "                       cv=5),\n",
    "    'NB': GridSearchCV(MultinomialNB(),\n",
    "                       param_grid = {'alpha': [0.01, 0.1, 1, 10]},\n",
    "                       cv=5)}\n",
    "# I will now loop over each model in my dictionary and find the score\n",
    "print(\"*** Hyperparameter tuning ***\")\n",
    "for name, model in models.items():\n",
    "    model.fit(X_train_30, y_train)\n",
    "    print(f\"{name} best hyperparams = {model.best_params_}.\")\n",
    "    print(f\"{name} error: {1 - model.best_score_:.2f}\")\n",
    "    \n",
    "# Question 5\n",
    "# Naive Bayes is the best model (although they are all similar)\n",
    "print(\"\")\n",
    "print(\"*** Best model ***\")\n",
    "best_model = MultinomialNB(alpha=0.01).fit(X_train_30, y_train)\n",
    "print(f\"Error on test data: {1 - best_model.score(X_test_30, y_test):.2f}\")\n",
    "\n",
    "# Bonus material\n",
    "# All our classifiers did well so why not use all of them to make predictions?\n",
    "# We can do this with the VotingClassifier (which we'll learn about in a later lecture)\n",
    "# Turns out that this ensemble approach doesn't really do much better than our single Naive Bayes model\n",
    "print(\"\")\n",
    "print(\"*** Voting classifier ***\")\n",
    "voter = VotingClassifier(estimators=[('KNN', KNeighborsClassifier(n_neighbors=7)),\n",
    "                                     ('DT', DecisionTreeClassifier(max_depth=15)),\n",
    "                                     ('LR', LogisticRegression(solver='lbfgs', C=1)),\n",
    "                                     ('NB', MultinomialNB(alpha=0.01))],\n",
    "                         voting='soft')\n",
    "voter.fit(X_train_30, y_train)\n",
    "print(f\"Error on test data: {1 - voter.score(X_test_30, y_test):.2f}\")"
   ]
  },
  {
   "cell_type": "markdown",
   "metadata": {},
   "source": [
    "# 7. Summary questions to ponder <a id=7></a>\n",
    "1. How can we start forming good business questions that can be addressed with Machine Learning\n",
    "2. Is there any easier way to group our models, preprocessing, feature selection, etc into one workflow?\n"
   ]
  }
 ],
 "metadata": {
  "kernelspec": {
   "display_name": "Python 3",
   "language": "python",
   "name": "python3"
  },
  "language_info": {
   "codemirror_mode": {
    "name": "ipython",
    "version": 3
   },
   "file_extension": ".py",
   "mimetype": "text/x-python",
   "name": "python",
   "nbconvert_exporter": "python",
   "pygments_lexer": "ipython3",
   "version": "3.8.5"
  }
 },
 "nbformat": 4,
 "nbformat_minor": 4
}