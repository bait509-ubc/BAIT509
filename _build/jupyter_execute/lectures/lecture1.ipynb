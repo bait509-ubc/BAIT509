{
 "cells": [
  {
   "cell_type": "markdown",
   "metadata": {},
   "source": [
    "# Lecture 1 - Introduction to Machine Learning & The Decision Tree Algorithm\n",
    "\n",
    "*Hayley Boyce, Monday April 19th 2021*"
   ]
  },
  {
   "cell_type": "markdown",
   "metadata": {},
   "source": [
    "## Welcome"
   ]
  },
  {
   "cell_type": "markdown",
   "metadata": {},
   "source": [
    "Welcome to Bait 509 - Business Application of Machine Learning."
   ]
  },
  {
   "cell_type": "markdown",
   "metadata": {},
   "source": [
    "```{note}\n",
    "Buckle up because there are going to be a lot of new concepts here but in the lyrics of Trooper \"We're here for a good time, \n",
    "Not a long time\". \n",
    "```"
   ]
  },
  {
   "cell_type": "markdown",
   "metadata": {},
   "source": [
    "### Course Learning Objectives\n",
    "\n",
    "1.\tDescribe fundamental machine learning concepts such as: supervised and unsupervised learning, regression and classification, overfitting, training/validation/testing error, parameters and hyperparameters, and the golden rule.\n",
    "2.\tBroadly explain how common machine learning algorithms work, including: naïve Bayes, k-nearest neighbors, decision trees, support vector machines, and logistic regression.\n",
    "3.\tIdentify when and why to apply data pre-processing techniques such as scaling and one-hot encoding.\n",
    "4.\tUse Python and the scikit-learn package to develop an end-to-end supervised machine learning pipeline.\n",
    "5.\tApply and interpret machine learning methods to carry out supervised learning projects and to answer business objectives."
   ]
  },
  {
   "cell_type": "markdown",
   "metadata": {},
   "source": [
    "### Course Structure\n",
    "- 2 lectures per week (Synchonus lecture + class activity)\n",
    "- My office hours: 1-2pm Thursday on Zoom\n",
    "- TA office hours: Fridays 12-1 and Wednesday 4-5. (all the links are created \n",
    "- Camera on policy!\n",
    "- Course content available on [this website](https://bait509-ubc.github.io/BAIT509/intro.html) or on [Canvas](https://canvas.ubc.ca/courses/58082). \n",
    "- We will be using [Piazza](https://piazza.com/configure-classes/winterterm22020/bait509ba1) for discussions and questions.\n",
    "- Assessments:\n",
    "\n",
    "| Assessment       | Weight       | Due                            |\n",
    "|     :---:        | :---:        | :---:                          |\n",
    "| 3 Assignments    | 60%(20% each)| April 28th, May 10th, May 19th |\n",
    "| 1 Quiz           | 10%          | May 5th (24 hours to complete) |\n",
    "| Final Project    | 30%          | May 29th                       |\n",
    "\n",
    "\n",
    "All assessments will be submitted via Canvas "
   ]
  },
  {
   "cell_type": "markdown",
   "metadata": {},
   "source": [
    "### Who I am\n",
    "\n",
    "![](imgs/hi.png)\n",
    "\n",
    "- I have an undergraduate degree in Applied Mathematics from the University of Western Ontario\n",
    "- I have a master's degree in Data Science from UBC.  \n",
    "- I have experience in Python, R, Tableau, some Latex, Some HTML and CSS and dabble in a few other things - Jack of all trades, master of none. \n",
    "- Worked with companies like Riversol Skincare and Freshprep. "
   ]
  },
  {
   "cell_type": "markdown",
   "metadata": {},
   "source": [
    "### Your TAs\n",
    "\n",
    "- **Daniel Ramandi**: in class questions.\n",
    "- **Ali Seyfi**: Office hours Wednesdays 4-5pm (Starting April 28th).\n",
    "- **Andy Tai**: Office hours Fridays 12-1pm.\n",
    "\n",
    "\n",
    "- Marking your assignments, quiz and project.\n",
    "- All 4 of us will be answering questions on Piazza as well."
   ]
  },
  {
   "cell_type": "markdown",
   "metadata": {},
   "source": [
    "### Python, Jupyter, Visualizations \n",
    "\n",
    "- In this course we be using Python and Jupyter notebooks for lectures as well as assignments. \n",
    "- You are free to use [Anaconda distribution](https://www.anaconda.com/distribution/) to install and manage your Python package installations.\n",
    "- If you are using anaconda, you can install a few key packages we will be using in the course, by typing the following at the command line:\n",
    "    > `conda install pandas numpy scikit-learn matplotlib jupyter altair seaborn python-graphviz`\n",
    "\n",
    "- Or you can simpling use pip and type in at the command line: \n",
    "    > `pip install pandas numpy scikit-learn matplotlib jupyter altair seaborn graphviz`\n",
    "\n",
    "\n",
    "- We will be making visualizations for this course and I give the option of plotting using any Python library but I strongly recommend getting familar with [`altair`](https://altair-viz.github.io/index.html). I have 2 very quick slide decks that teach you a bit about how to plot using `altair`. \n",
    "From the course [Programming in Python for Data Science](https://prog-learn.mds.ubc.ca/en/)\n",
    " - Module 1, exercise 31, 32, 33\n",
    " - Module 2, exercise 29, 30\n",
    " \n",
    "And if you want to dive further there is a whole course dedicated to visualizing plots using `altair` called [Data Visualization](https://viz-learn.mds.ubc.ca/en/).\n"
   ]
  },
  {
   "cell_type": "markdown",
   "metadata": {},
   "source": [
    "### Lecture Learning Objectives \n",
    "\n",
    "- Explain motivation to study machine learning.\n",
    "- Differentiate between supervised and unsupervised learning.\n",
    "- Differentiate between classification and regression problems.\n",
    "- Explain machine learning terminology such as features, targets, training, and error.\n",
    "- Explain the `.fit()` and `.predict()` paradigm and use `.score()` method of ML models.\n",
    "- Broadly describe how decision trees make predictions.\n",
    "- Use `DecisionTreeClassifier()` and `DecisionTreeRegressor()` to build decision trees using scikit-learn.\n",
    "- Explain the difference between parameters and hyperparameters.\n",
    "- Explain how decision boundaries change with `max_depth`."
   ]
  },
  {
   "cell_type": "markdown",
   "metadata": {},
   "source": [
    "## What is Machine Learning (ML)?"
   ]
  },
  {
   "cell_type": "code",
   "execution_count": 1,
   "metadata": {},
   "outputs": [],
   "source": [
    "# Let's import our libraries\n",
    "import pandas as pd\n",
    "import numpy as np\n",
    "import glob\n",
    "from sklearn.model_selection import train_test_split\n",
    "import matplotlib.pyplot as plt\n"
   ]
  },
  {
   "cell_type": "markdown",
   "metadata": {},
   "source": [
    "Machine learning is all around us. You can find it in things like: \n",
    "\n",
    "\n",
    "![](imgs/examples.png)\n",
    "\n",
    "\n",
    "- Voice assistance\n",
    "- Google news\n",
    "- Recommender systems\n",
    "- Face recognition\n",
    "- Auto completion\n",
    "- Stock market predictions\n",
    "- Character recognition\n",
    "- Self-driving cars\n",
    "- Cancer diagnosis\n",
    "- Drug discovery"
   ]
  },
  {
   "cell_type": "markdown",
   "metadata": {},
   "source": [
    "Machine Learning has no clear consensus in how it is define but essentially it is a different way to think about problem solving. \n",
    "\n",
    "-  As the [ISLR](http://faculty.marshall.usc.edu/gareth-james/ISL/ISLR%20Seventh%20Printing.pdf) book puts it, ML is a “*vast set of tools for understanding data*” \n",
    "- Usually we think logically and mathematically. In the Machine Learning paradiagm we instead take data and some output and our Machine Learning algorithm will return a program which can be used to make predictions and give an output for data it has yet to see. "
   ]
  },
  {
   "cell_type": "markdown",
   "metadata": {},
   "source": [
    "### Examples of Machine Learning \n",
    "\n",
    "*In all the the upcoming examples, Don't worry about the code. Just focus on the input and output in each example.*\n"
   ]
  },
  {
   "cell_type": "markdown",
   "metadata": {},
   "source": [
    "#### Example 1: Predict Housing Prices\n",
    "**Data Attribution:** <a href=\"https://www.kaggle.com/harlfoxem/housesalesprediction\" target=\"_blank\">house sales prediction dataset.</a>"
   ]
  },
  {
   "cell_type": "code",
   "execution_count": 2,
   "metadata": {},
   "outputs": [
    {
     "data": {
      "text/html": [
       "<div>\n",
       "<style scoped>\n",
       "    .dataframe tbody tr th:only-of-type {\n",
       "        vertical-align: middle;\n",
       "    }\n",
       "\n",
       "    .dataframe tbody tr th {\n",
       "        vertical-align: top;\n",
       "    }\n",
       "\n",
       "    .dataframe thead th {\n",
       "        text-align: right;\n",
       "    }\n",
       "</style>\n",
       "<table border=\"1\" class=\"dataframe\">\n",
       "  <thead>\n",
       "    <tr style=\"text-align: right;\">\n",
       "      <th></th>\n",
       "      <th>price</th>\n",
       "      <th>bedrooms</th>\n",
       "      <th>bathrooms</th>\n",
       "      <th>sqft_living</th>\n",
       "      <th>sqft_lot</th>\n",
       "      <th>floors</th>\n",
       "      <th>waterfront</th>\n",
       "      <th>view</th>\n",
       "      <th>condition</th>\n",
       "      <th>grade</th>\n",
       "      <th>sqft_above</th>\n",
       "      <th>sqft_basement</th>\n",
       "      <th>yr_built</th>\n",
       "      <th>yr_renovated</th>\n",
       "      <th>zipcode</th>\n",
       "      <th>lat</th>\n",
       "      <th>long</th>\n",
       "      <th>sqft_living15</th>\n",
       "      <th>sqft_lot15</th>\n",
       "    </tr>\n",
       "  </thead>\n",
       "  <tbody>\n",
       "    <tr>\n",
       "      <th>8583</th>\n",
       "      <td>509000.0</td>\n",
       "      <td>2</td>\n",
       "      <td>1.50</td>\n",
       "      <td>1930</td>\n",
       "      <td>3521</td>\n",
       "      <td>2.0</td>\n",
       "      <td>0</td>\n",
       "      <td>0</td>\n",
       "      <td>3</td>\n",
       "      <td>8</td>\n",
       "      <td>1930</td>\n",
       "      <td>0</td>\n",
       "      <td>1989</td>\n",
       "      <td>0</td>\n",
       "      <td>98007</td>\n",
       "      <td>47.6092</td>\n",
       "      <td>-122.146</td>\n",
       "      <td>1840</td>\n",
       "      <td>3576</td>\n",
       "    </tr>\n",
       "    <tr>\n",
       "      <th>19257</th>\n",
       "      <td>675000.0</td>\n",
       "      <td>5</td>\n",
       "      <td>2.75</td>\n",
       "      <td>2570</td>\n",
       "      <td>12906</td>\n",
       "      <td>2.0</td>\n",
       "      <td>0</td>\n",
       "      <td>0</td>\n",
       "      <td>3</td>\n",
       "      <td>8</td>\n",
       "      <td>2570</td>\n",
       "      <td>0</td>\n",
       "      <td>1987</td>\n",
       "      <td>0</td>\n",
       "      <td>98075</td>\n",
       "      <td>47.5814</td>\n",
       "      <td>-122.050</td>\n",
       "      <td>2580</td>\n",
       "      <td>12927</td>\n",
       "    </tr>\n",
       "    <tr>\n",
       "      <th>1295</th>\n",
       "      <td>420000.0</td>\n",
       "      <td>3</td>\n",
       "      <td>1.00</td>\n",
       "      <td>1150</td>\n",
       "      <td>5120</td>\n",
       "      <td>1.0</td>\n",
       "      <td>0</td>\n",
       "      <td>0</td>\n",
       "      <td>4</td>\n",
       "      <td>6</td>\n",
       "      <td>800</td>\n",
       "      <td>350</td>\n",
       "      <td>1946</td>\n",
       "      <td>0</td>\n",
       "      <td>98116</td>\n",
       "      <td>47.5588</td>\n",
       "      <td>-122.392</td>\n",
       "      <td>1220</td>\n",
       "      <td>5120</td>\n",
       "    </tr>\n",
       "    <tr>\n",
       "      <th>15670</th>\n",
       "      <td>680000.0</td>\n",
       "      <td>8</td>\n",
       "      <td>2.75</td>\n",
       "      <td>2530</td>\n",
       "      <td>4800</td>\n",
       "      <td>2.0</td>\n",
       "      <td>0</td>\n",
       "      <td>0</td>\n",
       "      <td>4</td>\n",
       "      <td>7</td>\n",
       "      <td>1390</td>\n",
       "      <td>1140</td>\n",
       "      <td>1901</td>\n",
       "      <td>0</td>\n",
       "      <td>98112</td>\n",
       "      <td>47.6241</td>\n",
       "      <td>-122.305</td>\n",
       "      <td>1540</td>\n",
       "      <td>4800</td>\n",
       "    </tr>\n",
       "    <tr>\n",
       "      <th>3913</th>\n",
       "      <td>357823.0</td>\n",
       "      <td>3</td>\n",
       "      <td>1.50</td>\n",
       "      <td>1240</td>\n",
       "      <td>9196</td>\n",
       "      <td>1.0</td>\n",
       "      <td>0</td>\n",
       "      <td>0</td>\n",
       "      <td>3</td>\n",
       "      <td>8</td>\n",
       "      <td>1240</td>\n",
       "      <td>0</td>\n",
       "      <td>1968</td>\n",
       "      <td>0</td>\n",
       "      <td>98072</td>\n",
       "      <td>47.7562</td>\n",
       "      <td>-122.094</td>\n",
       "      <td>1690</td>\n",
       "      <td>10800</td>\n",
       "    </tr>\n",
       "  </tbody>\n",
       "</table>\n",
       "</div>"
      ],
      "text/plain": [
       "          price  bedrooms  bathrooms  sqft_living  sqft_lot  floors  \\\n",
       "8583   509000.0         2       1.50         1930      3521     2.0   \n",
       "19257  675000.0         5       2.75         2570     12906     2.0   \n",
       "1295   420000.0         3       1.00         1150      5120     1.0   \n",
       "15670  680000.0         8       2.75         2530      4800     2.0   \n",
       "3913   357823.0         3       1.50         1240      9196     1.0   \n",
       "\n",
       "       waterfront  view  condition  grade  sqft_above  sqft_basement  \\\n",
       "8583            0     0          3      8        1930              0   \n",
       "19257           0     0          3      8        2570              0   \n",
       "1295            0     0          4      6         800            350   \n",
       "15670           0     0          4      7        1390           1140   \n",
       "3913            0     0          3      8        1240              0   \n",
       "\n",
       "       yr_built  yr_renovated  zipcode      lat     long  sqft_living15  \\\n",
       "8583       1989             0    98007  47.6092 -122.146           1840   \n",
       "19257      1987             0    98075  47.5814 -122.050           2580   \n",
       "1295       1946             0    98116  47.5588 -122.392           1220   \n",
       "15670      1901             0    98112  47.6241 -122.305           1540   \n",
       "3913       1968             0    98072  47.7562 -122.094           1690   \n",
       "\n",
       "       sqft_lot15  \n",
       "8583         3576  \n",
       "19257       12927  \n",
       "1295         5120  \n",
       "15670        4800  \n",
       "3913        10800  "
      ]
     },
     "execution_count": 2,
     "metadata": {},
     "output_type": "execute_result"
    }
   ],
   "source": [
    "df = pd.read_csv(\"data/kc_house_data.csv\")\n",
    "df = df.drop(columns=[\"id\", \"date\"])\n",
    "train_df, test_df = train_test_split(df, test_size=0.2, random_state=4)\n",
    "train_df.head()"
   ]
  },
  {
   "cell_type": "code",
   "execution_count": 3,
   "metadata": {},
   "outputs": [],
   "source": [
    "X_train = train_df.drop(columns=[\"price\"])\n",
    "y_train = train_df[\"price\"]\n",
    "X_test = test_df.drop(columns=[\"price\"])\n",
    "y_test = test_df[\"price\"]"
   ]
  },
  {
   "cell_type": "code",
   "execution_count": 4,
   "metadata": {},
   "outputs": [],
   "source": [
    "from xgboost import XGBRegressor\n",
    "\n",
    "model = XGBRegressor()\n",
    "model.fit(X_train, y_train);"
   ]
  },
  {
   "cell_type": "code",
   "execution_count": 5,
   "metadata": {},
   "outputs": [
    {
     "data": {
      "text/html": [
       "<div>\n",
       "<style scoped>\n",
       "    .dataframe tbody tr th:only-of-type {\n",
       "        vertical-align: middle;\n",
       "    }\n",
       "\n",
       "    .dataframe tbody tr th {\n",
       "        vertical-align: top;\n",
       "    }\n",
       "\n",
       "    .dataframe thead th {\n",
       "        text-align: right;\n",
       "    }\n",
       "</style>\n",
       "<table border=\"1\" class=\"dataframe\">\n",
       "  <thead>\n",
       "    <tr style=\"text-align: right;\">\n",
       "      <th></th>\n",
       "      <th>bedrooms</th>\n",
       "      <th>bathrooms</th>\n",
       "      <th>sqft_living</th>\n",
       "      <th>sqft_lot</th>\n",
       "      <th>floors</th>\n",
       "      <th>waterfront</th>\n",
       "      <th>view</th>\n",
       "      <th>condition</th>\n",
       "      <th>grade</th>\n",
       "      <th>sqft_above</th>\n",
       "      <th>sqft_basement</th>\n",
       "      <th>yr_built</th>\n",
       "      <th>yr_renovated</th>\n",
       "      <th>zipcode</th>\n",
       "      <th>lat</th>\n",
       "      <th>long</th>\n",
       "      <th>sqft_living15</th>\n",
       "      <th>sqft_lot15</th>\n",
       "      <th>Predicted price</th>\n",
       "      <th>Actual price</th>\n",
       "    </tr>\n",
       "  </thead>\n",
       "  <tbody>\n",
       "    <tr>\n",
       "      <th>0</th>\n",
       "      <td>4</td>\n",
       "      <td>2.25</td>\n",
       "      <td>2130</td>\n",
       "      <td>8078</td>\n",
       "      <td>1.0</td>\n",
       "      <td>0</td>\n",
       "      <td>0</td>\n",
       "      <td>4</td>\n",
       "      <td>7</td>\n",
       "      <td>1380</td>\n",
       "      <td>750</td>\n",
       "      <td>1977</td>\n",
       "      <td>0</td>\n",
       "      <td>98055</td>\n",
       "      <td>47.4482</td>\n",
       "      <td>-122.209</td>\n",
       "      <td>2300</td>\n",
       "      <td>8112</td>\n",
       "      <td>333981.6250</td>\n",
       "      <td>311100.0</td>\n",
       "    </tr>\n",
       "    <tr>\n",
       "      <th>1</th>\n",
       "      <td>3</td>\n",
       "      <td>2.50</td>\n",
       "      <td>2210</td>\n",
       "      <td>7620</td>\n",
       "      <td>2.0</td>\n",
       "      <td>0</td>\n",
       "      <td>0</td>\n",
       "      <td>3</td>\n",
       "      <td>8</td>\n",
       "      <td>2210</td>\n",
       "      <td>0</td>\n",
       "      <td>1994</td>\n",
       "      <td>0</td>\n",
       "      <td>98052</td>\n",
       "      <td>47.6938</td>\n",
       "      <td>-122.130</td>\n",
       "      <td>1920</td>\n",
       "      <td>7440</td>\n",
       "      <td>615222.4375</td>\n",
       "      <td>535000.0</td>\n",
       "    </tr>\n",
       "    <tr>\n",
       "      <th>2</th>\n",
       "      <td>4</td>\n",
       "      <td>1.50</td>\n",
       "      <td>1800</td>\n",
       "      <td>9576</td>\n",
       "      <td>1.0</td>\n",
       "      <td>0</td>\n",
       "      <td>0</td>\n",
       "      <td>4</td>\n",
       "      <td>7</td>\n",
       "      <td>1800</td>\n",
       "      <td>0</td>\n",
       "      <td>1977</td>\n",
       "      <td>0</td>\n",
       "      <td>98045</td>\n",
       "      <td>47.4664</td>\n",
       "      <td>-121.747</td>\n",
       "      <td>1370</td>\n",
       "      <td>9576</td>\n",
       "      <td>329770.0625</td>\n",
       "      <td>271000.0</td>\n",
       "    </tr>\n",
       "    <tr>\n",
       "      <th>3</th>\n",
       "      <td>3</td>\n",
       "      <td>2.50</td>\n",
       "      <td>1580</td>\n",
       "      <td>1321</td>\n",
       "      <td>2.0</td>\n",
       "      <td>0</td>\n",
       "      <td>2</td>\n",
       "      <td>3</td>\n",
       "      <td>8</td>\n",
       "      <td>1080</td>\n",
       "      <td>500</td>\n",
       "      <td>2014</td>\n",
       "      <td>0</td>\n",
       "      <td>98107</td>\n",
       "      <td>47.6688</td>\n",
       "      <td>-122.402</td>\n",
       "      <td>1530</td>\n",
       "      <td>1357</td>\n",
       "      <td>565091.6250</td>\n",
       "      <td>705000.0</td>\n",
       "    </tr>\n",
       "  </tbody>\n",
       "</table>\n",
       "</div>"
      ],
      "text/plain": [
       "   bedrooms  bathrooms  sqft_living  sqft_lot  floors  waterfront  view  \\\n",
       "0         4       2.25         2130      8078     1.0           0     0   \n",
       "1         3       2.50         2210      7620     2.0           0     0   \n",
       "2         4       1.50         1800      9576     1.0           0     0   \n",
       "3         3       2.50         1580      1321     2.0           0     2   \n",
       "\n",
       "   condition  grade  sqft_above  sqft_basement  yr_built  yr_renovated  \\\n",
       "0          4      7        1380            750      1977             0   \n",
       "1          3      8        2210              0      1994             0   \n",
       "2          4      7        1800              0      1977             0   \n",
       "3          3      8        1080            500      2014             0   \n",
       "\n",
       "   zipcode      lat     long  sqft_living15  sqft_lot15  Predicted price  \\\n",
       "0    98055  47.4482 -122.209           2300        8112      333981.6250   \n",
       "1    98052  47.6938 -122.130           1920        7440      615222.4375   \n",
       "2    98045  47.4664 -121.747           1370        9576      329770.0625   \n",
       "3    98107  47.6688 -122.402           1530        1357      565091.6250   \n",
       "\n",
       "   Actual price  \n",
       "0      311100.0  \n",
       "1      535000.0  \n",
       "2      271000.0  \n",
       "3      705000.0  "
      ]
     },
     "execution_count": 5,
     "metadata": {},
     "output_type": "execute_result"
    }
   ],
   "source": [
    "pred_df = pd.DataFrame({\"Predicted price\": model.predict(X_test[0:4]).tolist(), \"Actual price\": y_test[0:4].tolist()})\n",
    "df_concat = pd.concat([X_test[0:4].reset_index(drop=True), pred_df], axis=1)\n",
    "df_concat.head()"
   ]
  },
  {
   "cell_type": "markdown",
   "metadata": {},
   "source": [
    "#### Example 2: Predict Creditcard Default \n",
    "\n",
    "**Data Attribution:** <a href=\"https://www.kaggle.com/mlg-ulb/creditcardfraud\" target=\"_blank\">credit card fraud detection data set</a>"
   ]
  },
  {
   "cell_type": "code",
   "execution_count": 6,
   "metadata": {},
   "outputs": [
    {
     "data": {
      "text/html": [
       "<div>\n",
       "<style scoped>\n",
       "    .dataframe tbody tr th:only-of-type {\n",
       "        vertical-align: middle;\n",
       "    }\n",
       "\n",
       "    .dataframe tbody tr th {\n",
       "        vertical-align: top;\n",
       "    }\n",
       "\n",
       "    .dataframe thead th {\n",
       "        text-align: right;\n",
       "    }\n",
       "</style>\n",
       "<table border=\"1\" class=\"dataframe\">\n",
       "  <thead>\n",
       "    <tr style=\"text-align: right;\">\n",
       "      <th></th>\n",
       "      <th>Time</th>\n",
       "      <th>V1</th>\n",
       "      <th>V2</th>\n",
       "      <th>V3</th>\n",
       "      <th>V4</th>\n",
       "      <th>V5</th>\n",
       "      <th>V6</th>\n",
       "      <th>V7</th>\n",
       "      <th>V8</th>\n",
       "      <th>V9</th>\n",
       "      <th>...</th>\n",
       "      <th>V21</th>\n",
       "      <th>V22</th>\n",
       "      <th>V23</th>\n",
       "      <th>V24</th>\n",
       "      <th>V25</th>\n",
       "      <th>V26</th>\n",
       "      <th>V27</th>\n",
       "      <th>V28</th>\n",
       "      <th>Amount</th>\n",
       "      <th>Class</th>\n",
       "    </tr>\n",
       "  </thead>\n",
       "  <tbody>\n",
       "    <tr>\n",
       "      <th>435</th>\n",
       "      <td>11635.0</td>\n",
       "      <td>0.919137</td>\n",
       "      <td>4.199633</td>\n",
       "      <td>-7.535607</td>\n",
       "      <td>7.426940</td>\n",
       "      <td>1.118215</td>\n",
       "      <td>-2.886722</td>\n",
       "      <td>-1.341036</td>\n",
       "      <td>0.363933</td>\n",
       "      <td>-2.203224</td>\n",
       "      <td>...</td>\n",
       "      <td>0.316094</td>\n",
       "      <td>0.055179</td>\n",
       "      <td>0.210692</td>\n",
       "      <td>-0.417918</td>\n",
       "      <td>-0.911188</td>\n",
       "      <td>0.466524</td>\n",
       "      <td>0.627393</td>\n",
       "      <td>0.157851</td>\n",
       "      <td>1.00</td>\n",
       "      <td>1</td>\n",
       "    </tr>\n",
       "    <tr>\n",
       "      <th>92731</th>\n",
       "      <td>131346.0</td>\n",
       "      <td>-3.941407</td>\n",
       "      <td>4.044901</td>\n",
       "      <td>-2.533298</td>\n",
       "      <td>-0.993555</td>\n",
       "      <td>-0.898294</td>\n",
       "      <td>-1.503311</td>\n",
       "      <td>-0.105561</td>\n",
       "      <td>0.980689</td>\n",
       "      <td>1.849424</td>\n",
       "      <td>...</td>\n",
       "      <td>0.203494</td>\n",
       "      <td>1.136865</td>\n",
       "      <td>0.237484</td>\n",
       "      <td>-0.007889</td>\n",
       "      <td>-0.112597</td>\n",
       "      <td>-0.194324</td>\n",
       "      <td>0.998080</td>\n",
       "      <td>0.859768</td>\n",
       "      <td>1.25</td>\n",
       "      <td>0</td>\n",
       "    </tr>\n",
       "    <tr>\n",
       "      <th>18116</th>\n",
       "      <td>150854.0</td>\n",
       "      <td>2.165206</td>\n",
       "      <td>-1.581097</td>\n",
       "      <td>-0.198485</td>\n",
       "      <td>-1.538046</td>\n",
       "      <td>-1.799368</td>\n",
       "      <td>-0.423766</td>\n",
       "      <td>-1.546484</td>\n",
       "      <td>0.047633</td>\n",
       "      <td>-1.120714</td>\n",
       "      <td>...</td>\n",
       "      <td>-0.287639</td>\n",
       "      <td>-0.421235</td>\n",
       "      <td>0.439597</td>\n",
       "      <td>-0.054263</td>\n",
       "      <td>-0.675064</td>\n",
       "      <td>-0.463137</td>\n",
       "      <td>0.036825</td>\n",
       "      <td>-0.041266</td>\n",
       "      <td>32.00</td>\n",
       "      <td>0</td>\n",
       "    </tr>\n",
       "    <tr>\n",
       "      <th>89892</th>\n",
       "      <td>43946.0</td>\n",
       "      <td>-0.750949</td>\n",
       "      <td>0.705118</td>\n",
       "      <td>1.548844</td>\n",
       "      <td>1.527885</td>\n",
       "      <td>-0.396129</td>\n",
       "      <td>1.405321</td>\n",
       "      <td>-0.100160</td>\n",
       "      <td>0.788641</td>\n",
       "      <td>0.326592</td>\n",
       "      <td>...</td>\n",
       "      <td>-0.273203</td>\n",
       "      <td>-0.495237</td>\n",
       "      <td>0.076831</td>\n",
       "      <td>-0.758812</td>\n",
       "      <td>-0.212445</td>\n",
       "      <td>-0.386653</td>\n",
       "      <td>0.094166</td>\n",
       "      <td>0.089781</td>\n",
       "      <td>71.38</td>\n",
       "      <td>0</td>\n",
       "    </tr>\n",
       "    <tr>\n",
       "      <th>118178</th>\n",
       "      <td>124744.0</td>\n",
       "      <td>2.047701</td>\n",
       "      <td>-0.131199</td>\n",
       "      <td>-1.695760</td>\n",
       "      <td>0.028476</td>\n",
       "      <td>0.516568</td>\n",
       "      <td>-0.315328</td>\n",
       "      <td>0.100865</td>\n",
       "      <td>-0.127223</td>\n",
       "      <td>0.375452</td>\n",
       "      <td>...</td>\n",
       "      <td>0.264380</td>\n",
       "      <td>0.815539</td>\n",
       "      <td>-0.055716</td>\n",
       "      <td>0.227954</td>\n",
       "      <td>0.318705</td>\n",
       "      <td>-0.130535</td>\n",
       "      <td>-0.032855</td>\n",
       "      <td>-0.064604</td>\n",
       "      <td>17.76</td>\n",
       "      <td>0</td>\n",
       "    </tr>\n",
       "  </tbody>\n",
       "</table>\n",
       "<p>5 rows × 31 columns</p>\n",
       "</div>"
      ],
      "text/plain": [
       "            Time        V1        V2        V3        V4        V5        V6  \\\n",
       "435      11635.0  0.919137  4.199633 -7.535607  7.426940  1.118215 -2.886722   \n",
       "92731   131346.0 -3.941407  4.044901 -2.533298 -0.993555 -0.898294 -1.503311   \n",
       "18116   150854.0  2.165206 -1.581097 -0.198485 -1.538046 -1.799368 -0.423766   \n",
       "89892    43946.0 -0.750949  0.705118  1.548844  1.527885 -0.396129  1.405321   \n",
       "118178  124744.0  2.047701 -0.131199 -1.695760  0.028476  0.516568 -0.315328   \n",
       "\n",
       "              V7        V8        V9  ...       V21       V22       V23  \\\n",
       "435    -1.341036  0.363933 -2.203224  ...  0.316094  0.055179  0.210692   \n",
       "92731  -0.105561  0.980689  1.849424  ...  0.203494  1.136865  0.237484   \n",
       "18116  -1.546484  0.047633 -1.120714  ... -0.287639 -0.421235  0.439597   \n",
       "89892  -0.100160  0.788641  0.326592  ... -0.273203 -0.495237  0.076831   \n",
       "118178  0.100865 -0.127223  0.375452  ...  0.264380  0.815539 -0.055716   \n",
       "\n",
       "             V24       V25       V26       V27       V28  Amount  Class  \n",
       "435    -0.417918 -0.911188  0.466524  0.627393  0.157851    1.00      1  \n",
       "92731  -0.007889 -0.112597 -0.194324  0.998080  0.859768    1.25      0  \n",
       "18116  -0.054263 -0.675064 -0.463137  0.036825 -0.041266   32.00      0  \n",
       "89892  -0.758812 -0.212445 -0.386653  0.094166  0.089781   71.38      0  \n",
       "118178  0.227954  0.318705 -0.130535 -0.032855 -0.064604   17.76      0  \n",
       "\n",
       "[5 rows x 31 columns]"
      ]
     },
     "execution_count": 6,
     "metadata": {},
     "output_type": "execute_result"
    }
   ],
   "source": [
    "cc_df = pd.read_csv(\"data/creditcard_sample.csv\")\n",
    "\n",
    "train_df, test_df = train_test_split(cc_df, test_size=4, random_state=603)\n",
    "train_df.head(5)"
   ]
  },
  {
   "cell_type": "code",
   "execution_count": 7,
   "metadata": {},
   "outputs": [],
   "source": [
    "from xgboost import XGBClassifier\n",
    "X_train = train_df.drop(columns=['Class'])\n",
    "y_train = train_df['Class']\n",
    "X_test = test_df.drop(columns=['Class'])\n",
    "y_test = test_df['Class']\n",
    "model = XGBClassifier()\n",
    "model.fit(X_train, y_train);"
   ]
  },
  {
   "cell_type": "code",
   "execution_count": 8,
   "metadata": {},
   "outputs": [
    {
     "data": {
      "text/html": [
       "<div>\n",
       "<style scoped>\n",
       "    .dataframe tbody tr th:only-of-type {\n",
       "        vertical-align: middle;\n",
       "    }\n",
       "\n",
       "    .dataframe tbody tr th {\n",
       "        vertical-align: top;\n",
       "    }\n",
       "\n",
       "    .dataframe thead th {\n",
       "        text-align: right;\n",
       "    }\n",
       "</style>\n",
       "<table border=\"1\" class=\"dataframe\">\n",
       "  <thead>\n",
       "    <tr style=\"text-align: right;\">\n",
       "      <th></th>\n",
       "      <th>Time</th>\n",
       "      <th>V1</th>\n",
       "      <th>V2</th>\n",
       "      <th>V3</th>\n",
       "      <th>V4</th>\n",
       "      <th>V5</th>\n",
       "      <th>V6</th>\n",
       "      <th>V7</th>\n",
       "      <th>V8</th>\n",
       "      <th>V9</th>\n",
       "      <th>...</th>\n",
       "      <th>V21</th>\n",
       "      <th>V22</th>\n",
       "      <th>V23</th>\n",
       "      <th>V24</th>\n",
       "      <th>V25</th>\n",
       "      <th>V26</th>\n",
       "      <th>V27</th>\n",
       "      <th>V28</th>\n",
       "      <th>Amount</th>\n",
       "      <th>predicted_label</th>\n",
       "    </tr>\n",
       "  </thead>\n",
       "  <tbody>\n",
       "    <tr>\n",
       "      <th>0</th>\n",
       "      <td>11635.0</td>\n",
       "      <td>0.919137</td>\n",
       "      <td>4.199633</td>\n",
       "      <td>-7.535607</td>\n",
       "      <td>7.426940</td>\n",
       "      <td>1.118215</td>\n",
       "      <td>-2.886722</td>\n",
       "      <td>-1.341036</td>\n",
       "      <td>0.363933</td>\n",
       "      <td>-2.203224</td>\n",
       "      <td>...</td>\n",
       "      <td>0.316094</td>\n",
       "      <td>0.055179</td>\n",
       "      <td>0.210692</td>\n",
       "      <td>-0.417918</td>\n",
       "      <td>-0.911188</td>\n",
       "      <td>0.466524</td>\n",
       "      <td>0.627393</td>\n",
       "      <td>0.157851</td>\n",
       "      <td>1.00</td>\n",
       "      <td>1</td>\n",
       "    </tr>\n",
       "    <tr>\n",
       "      <th>1</th>\n",
       "      <td>131346.0</td>\n",
       "      <td>-3.941407</td>\n",
       "      <td>4.044901</td>\n",
       "      <td>-2.533298</td>\n",
       "      <td>-0.993555</td>\n",
       "      <td>-0.898294</td>\n",
       "      <td>-1.503311</td>\n",
       "      <td>-0.105561</td>\n",
       "      <td>0.980689</td>\n",
       "      <td>1.849424</td>\n",
       "      <td>...</td>\n",
       "      <td>0.203494</td>\n",
       "      <td>1.136865</td>\n",
       "      <td>0.237484</td>\n",
       "      <td>-0.007889</td>\n",
       "      <td>-0.112597</td>\n",
       "      <td>-0.194324</td>\n",
       "      <td>0.998080</td>\n",
       "      <td>0.859768</td>\n",
       "      <td>1.25</td>\n",
       "      <td>0</td>\n",
       "    </tr>\n",
       "    <tr>\n",
       "      <th>2</th>\n",
       "      <td>150854.0</td>\n",
       "      <td>2.165206</td>\n",
       "      <td>-1.581097</td>\n",
       "      <td>-0.198485</td>\n",
       "      <td>-1.538046</td>\n",
       "      <td>-1.799368</td>\n",
       "      <td>-0.423766</td>\n",
       "      <td>-1.546484</td>\n",
       "      <td>0.047633</td>\n",
       "      <td>-1.120714</td>\n",
       "      <td>...</td>\n",
       "      <td>-0.287639</td>\n",
       "      <td>-0.421235</td>\n",
       "      <td>0.439597</td>\n",
       "      <td>-0.054263</td>\n",
       "      <td>-0.675064</td>\n",
       "      <td>-0.463137</td>\n",
       "      <td>0.036825</td>\n",
       "      <td>-0.041266</td>\n",
       "      <td>32.00</td>\n",
       "      <td>0</td>\n",
       "    </tr>\n",
       "    <tr>\n",
       "      <th>3</th>\n",
       "      <td>43946.0</td>\n",
       "      <td>-0.750949</td>\n",
       "      <td>0.705118</td>\n",
       "      <td>1.548844</td>\n",
       "      <td>1.527885</td>\n",
       "      <td>-0.396129</td>\n",
       "      <td>1.405321</td>\n",
       "      <td>-0.100160</td>\n",
       "      <td>0.788641</td>\n",
       "      <td>0.326592</td>\n",
       "      <td>...</td>\n",
       "      <td>-0.273203</td>\n",
       "      <td>-0.495237</td>\n",
       "      <td>0.076831</td>\n",
       "      <td>-0.758812</td>\n",
       "      <td>-0.212445</td>\n",
       "      <td>-0.386653</td>\n",
       "      <td>0.094166</td>\n",
       "      <td>0.089781</td>\n",
       "      <td>71.38</td>\n",
       "      <td>0</td>\n",
       "    </tr>\n",
       "    <tr>\n",
       "      <th>4</th>\n",
       "      <td>124744.0</td>\n",
       "      <td>2.047701</td>\n",
       "      <td>-0.131199</td>\n",
       "      <td>-1.695760</td>\n",
       "      <td>0.028476</td>\n",
       "      <td>0.516568</td>\n",
       "      <td>-0.315328</td>\n",
       "      <td>0.100865</td>\n",
       "      <td>-0.127223</td>\n",
       "      <td>0.375452</td>\n",
       "      <td>...</td>\n",
       "      <td>0.264380</td>\n",
       "      <td>0.815539</td>\n",
       "      <td>-0.055716</td>\n",
       "      <td>0.227954</td>\n",
       "      <td>0.318705</td>\n",
       "      <td>-0.130535</td>\n",
       "      <td>-0.032855</td>\n",
       "      <td>-0.064604</td>\n",
       "      <td>17.76</td>\n",
       "      <td>0</td>\n",
       "    </tr>\n",
       "    <tr>\n",
       "      <th>...</th>\n",
       "      <td>...</td>\n",
       "      <td>...</td>\n",
       "      <td>...</td>\n",
       "      <td>...</td>\n",
       "      <td>...</td>\n",
       "      <td>...</td>\n",
       "      <td>...</td>\n",
       "      <td>...</td>\n",
       "      <td>...</td>\n",
       "      <td>...</td>\n",
       "      <td>...</td>\n",
       "      <td>...</td>\n",
       "      <td>...</td>\n",
       "      <td>...</td>\n",
       "      <td>...</td>\n",
       "      <td>...</td>\n",
       "      <td>...</td>\n",
       "      <td>...</td>\n",
       "      <td>...</td>\n",
       "      <td>...</td>\n",
       "      <td>...</td>\n",
       "    </tr>\n",
       "    <tr>\n",
       "      <th>122140</th>\n",
       "      <td>139707.0</td>\n",
       "      <td>-1.552052</td>\n",
       "      <td>-0.426797</td>\n",
       "      <td>1.851288</td>\n",
       "      <td>0.293626</td>\n",
       "      <td>0.699572</td>\n",
       "      <td>0.532052</td>\n",
       "      <td>0.453493</td>\n",
       "      <td>0.293692</td>\n",
       "      <td>0.506065</td>\n",
       "      <td>...</td>\n",
       "      <td>0.360463</td>\n",
       "      <td>0.894224</td>\n",
       "      <td>-0.240568</td>\n",
       "      <td>0.505866</td>\n",
       "      <td>1.321357</td>\n",
       "      <td>-0.272364</td>\n",
       "      <td>0.004121</td>\n",
       "      <td>0.084357</td>\n",
       "      <td>150.00</td>\n",
       "      <td>0</td>\n",
       "    </tr>\n",
       "    <tr>\n",
       "      <th>122141</th>\n",
       "      <td>43820.0</td>\n",
       "      <td>-0.368688</td>\n",
       "      <td>1.830310</td>\n",
       "      <td>-0.627941</td>\n",
       "      <td>0.576034</td>\n",
       "      <td>1.320220</td>\n",
       "      <td>-1.710630</td>\n",
       "      <td>1.368100</td>\n",
       "      <td>-0.145559</td>\n",
       "      <td>-1.005464</td>\n",
       "      <td>...</td>\n",
       "      <td>-0.009978</td>\n",
       "      <td>-0.062058</td>\n",
       "      <td>-0.226465</td>\n",
       "      <td>0.172577</td>\n",
       "      <td>-0.271303</td>\n",
       "      <td>-0.583125</td>\n",
       "      <td>0.186213</td>\n",
       "      <td>0.248723</td>\n",
       "      <td>1.00</td>\n",
       "      <td>0</td>\n",
       "    </tr>\n",
       "    <tr>\n",
       "      <th>122142</th>\n",
       "      <td>44481.0</td>\n",
       "      <td>1.335053</td>\n",
       "      <td>0.331464</td>\n",
       "      <td>-2.057763</td>\n",
       "      <td>-0.346175</td>\n",
       "      <td>2.583234</td>\n",
       "      <td>2.854102</td>\n",
       "      <td>-0.187547</td>\n",
       "      <td>0.685154</td>\n",
       "      <td>-0.286614</td>\n",
       "      <td>...</td>\n",
       "      <td>-0.191820</td>\n",
       "      <td>-0.650118</td>\n",
       "      <td>-0.114069</td>\n",
       "      <td>0.915936</td>\n",
       "      <td>0.730073</td>\n",
       "      <td>0.383879</td>\n",
       "      <td>-0.031902</td>\n",
       "      <td>0.029849</td>\n",
       "      <td>0.76</td>\n",
       "      <td>0</td>\n",
       "    </tr>\n",
       "    <tr>\n",
       "      <th>122143</th>\n",
       "      <td>140320.0</td>\n",
       "      <td>1.911069</td>\n",
       "      <td>-1.197637</td>\n",
       "      <td>-0.869888</td>\n",
       "      <td>-0.509239</td>\n",
       "      <td>-0.650403</td>\n",
       "      <td>0.307150</td>\n",
       "      <td>-0.788578</td>\n",
       "      <td>0.089105</td>\n",
       "      <td>-0.023531</td>\n",
       "      <td>...</td>\n",
       "      <td>-0.536584</td>\n",
       "      <td>-1.215170</td>\n",
       "      <td>0.238137</td>\n",
       "      <td>-1.249489</td>\n",
       "      <td>-0.492226</td>\n",
       "      <td>-0.619841</td>\n",
       "      <td>0.032800</td>\n",
       "      <td>-0.029455</td>\n",
       "      <td>118.28</td>\n",
       "      <td>0</td>\n",
       "    </tr>\n",
       "    <tr>\n",
       "      <th>122144</th>\n",
       "      <td>148735.0</td>\n",
       "      <td>0.094569</td>\n",
       "      <td>0.754053</td>\n",
       "      <td>-0.078262</td>\n",
       "      <td>-0.383301</td>\n",
       "      <td>1.293257</td>\n",
       "      <td>-0.471615</td>\n",
       "      <td>1.013384</td>\n",
       "      <td>-0.225875</td>\n",
       "      <td>-0.398837</td>\n",
       "      <td>...</td>\n",
       "      <td>-0.176901</td>\n",
       "      <td>-0.316803</td>\n",
       "      <td>0.158177</td>\n",
       "      <td>0.617162</td>\n",
       "      <td>-1.318290</td>\n",
       "      <td>0.017946</td>\n",
       "      <td>0.035546</td>\n",
       "      <td>0.042026</td>\n",
       "      <td>1.98</td>\n",
       "      <td>0</td>\n",
       "    </tr>\n",
       "  </tbody>\n",
       "</table>\n",
       "<p>122145 rows × 31 columns</p>\n",
       "</div>"
      ],
      "text/plain": [
       "            Time        V1        V2        V3        V4        V5        V6  \\\n",
       "0        11635.0  0.919137  4.199633 -7.535607  7.426940  1.118215 -2.886722   \n",
       "1       131346.0 -3.941407  4.044901 -2.533298 -0.993555 -0.898294 -1.503311   \n",
       "2       150854.0  2.165206 -1.581097 -0.198485 -1.538046 -1.799368 -0.423766   \n",
       "3        43946.0 -0.750949  0.705118  1.548844  1.527885 -0.396129  1.405321   \n",
       "4       124744.0  2.047701 -0.131199 -1.695760  0.028476  0.516568 -0.315328   \n",
       "...          ...       ...       ...       ...       ...       ...       ...   \n",
       "122140  139707.0 -1.552052 -0.426797  1.851288  0.293626  0.699572  0.532052   \n",
       "122141   43820.0 -0.368688  1.830310 -0.627941  0.576034  1.320220 -1.710630   \n",
       "122142   44481.0  1.335053  0.331464 -2.057763 -0.346175  2.583234  2.854102   \n",
       "122143  140320.0  1.911069 -1.197637 -0.869888 -0.509239 -0.650403  0.307150   \n",
       "122144  148735.0  0.094569  0.754053 -0.078262 -0.383301  1.293257 -0.471615   \n",
       "\n",
       "              V7        V8        V9  ...       V21       V22       V23  \\\n",
       "0      -1.341036  0.363933 -2.203224  ...  0.316094  0.055179  0.210692   \n",
       "1      -0.105561  0.980689  1.849424  ...  0.203494  1.136865  0.237484   \n",
       "2      -1.546484  0.047633 -1.120714  ... -0.287639 -0.421235  0.439597   \n",
       "3      -0.100160  0.788641  0.326592  ... -0.273203 -0.495237  0.076831   \n",
       "4       0.100865 -0.127223  0.375452  ...  0.264380  0.815539 -0.055716   \n",
       "...          ...       ...       ...  ...       ...       ...       ...   \n",
       "122140  0.453493  0.293692  0.506065  ...  0.360463  0.894224 -0.240568   \n",
       "122141  1.368100 -0.145559 -1.005464  ... -0.009978 -0.062058 -0.226465   \n",
       "122142 -0.187547  0.685154 -0.286614  ... -0.191820 -0.650118 -0.114069   \n",
       "122143 -0.788578  0.089105 -0.023531  ... -0.536584 -1.215170  0.238137   \n",
       "122144  1.013384 -0.225875 -0.398837  ... -0.176901 -0.316803  0.158177   \n",
       "\n",
       "             V24       V25       V26       V27       V28  Amount  \\\n",
       "0      -0.417918 -0.911188  0.466524  0.627393  0.157851    1.00   \n",
       "1      -0.007889 -0.112597 -0.194324  0.998080  0.859768    1.25   \n",
       "2      -0.054263 -0.675064 -0.463137  0.036825 -0.041266   32.00   \n",
       "3      -0.758812 -0.212445 -0.386653  0.094166  0.089781   71.38   \n",
       "4       0.227954  0.318705 -0.130535 -0.032855 -0.064604   17.76   \n",
       "...          ...       ...       ...       ...       ...     ...   \n",
       "122140  0.505866  1.321357 -0.272364  0.004121  0.084357  150.00   \n",
       "122141  0.172577 -0.271303 -0.583125  0.186213  0.248723    1.00   \n",
       "122142  0.915936  0.730073  0.383879 -0.031902  0.029849    0.76   \n",
       "122143 -1.249489 -0.492226 -0.619841  0.032800 -0.029455  118.28   \n",
       "122144  0.617162 -1.318290  0.017946  0.035546  0.042026    1.98   \n",
       "\n",
       "        predicted_label  \n",
       "0                     1  \n",
       "1                     0  \n",
       "2                     0  \n",
       "3                     0  \n",
       "4                     0  \n",
       "...                 ...  \n",
       "122140                0  \n",
       "122141                0  \n",
       "122142                0  \n",
       "122143                0  \n",
       "122144                0  \n",
       "\n",
       "[122145 rows x 31 columns]"
      ]
     },
     "execution_count": 8,
     "metadata": {},
     "output_type": "execute_result"
    }
   ],
   "source": [
    "pred_df = pd.DataFrame({\"predicted_label\": model.predict(X_train).tolist()})\n",
    "df_concat = pd.concat([X_train.reset_index(drop=True), pred_df], axis=1)\n",
    "df_concat"
   ]
  },
  {
   "cell_type": "code",
   "execution_count": 9,
   "metadata": {},
   "outputs": [
    {
     "data": {
      "text/plain": [
       "1.0"
      ]
     },
     "execution_count": 9,
     "metadata": {},
     "output_type": "execute_result"
    }
   ],
   "source": [
    "model.score(X_test, y_test)"
   ]
  },
  {
   "cell_type": "markdown",
   "metadata": {},
   "source": [
    "#### Example 3: Image Classification"
   ]
  },
  {
   "cell_type": "code",
   "execution_count": 10,
   "metadata": {},
   "outputs": [
    {
     "data": {
      "image/png": "[encoded data removed]",
      "text/plain": [
       "<PIL.JpegImagePlugin.JpegImageFile image mode=RGB size=400x341 at 0x12243DD90>"
      ]
     },
     "execution_count": 10,
     "metadata": {
      "filenames": {
       "image/png": "/Users/icics-user/Documents/BAIT509/BAIT509/_build/jupyter_execute/lectures/lecture1_26_0.png"
      }
     },
     "output_type": "execute_result"
    }
   ],
   "source": [
    "import pandas as pd\n",
    "import numpy as np\n",
    "from PIL import Image\n",
    "import sys\n",
    "sys.path.append('code/')\n",
    "from toy_classifier import classify_image\n",
    "\n",
    "\n",
    "img = Image.open(\"imgs/apple.jpg\")\n",
    "img"
   ]
  },
  {
   "cell_type": "code",
   "execution_count": 11,
   "metadata": {},
   "outputs": [
    {
     "name": "stdout",
     "output_type": "stream",
     "text": [
      "Class, Probability\n",
      "------------------\n",
      "Granny Smith, 0.80\n",
      "pomegranate, 0.08\n",
      "fig, 0.07\n",
      "strawberry, 0.04\n",
      "buckeye, horse chestnut, conker, 0.00\n"
     ]
    }
   ],
   "source": [
    "classify_image(img, 5)"
   ]
  },
  {
   "cell_type": "markdown",
   "metadata": {},
   "source": [
    "## Types of Machine Learning\n",
    "\n",
    "- **Supervised learning** (this course)\n",
    "- Unsupervised learning"
   ]
  },
  {
   "cell_type": "markdown",
   "metadata": {},
   "source": [
    "### Supervised Learning: \n",
    "\n",
    "> Example: Labelling emails as spam or not\n",
    "\n",
    "- In supervised machine learning, we have a set of observations usually denoted with an uppercase `X`.\n",
    "- We also have a set of corresponding targets usually denoted with a lowercase `y`. \n",
    "- Our goal is to define a function that relates `X` to `y`. \n",
    "- We then use this function to predict the targets of new examples. \n",
    "\n",
    "<br>\n",
    "<br>\n",
    "\n",
    "<img src='imgs/sup-learning.png'  width = \"75%\" alt=\"404 image\" />\n"
   ]
  },
  {
   "cell_type": "markdown",
   "metadata": {},
   "source": [
    "### UnSupervised Learning: (not going into detail here)  \n",
    "\n",
    "> Example: Categorizing Google News articles.\n",
    "\n",
    "\n",
    "- In unsupervised learning, we are not given targets and are only given observations `X`. \n",
    "- We apply some clustering algorithms to create a model that finds patterns in our data and groups together similar characteristics from our data.\n",
    "\n",
    "\n",
    "\n",
    "<img src='imgs/unsup-learning.png'  width = \"75%\" alt=\"404 image\" />"
   ]
  },
  {
   "cell_type": "markdown",
   "metadata": {},
   "source": [
    "## Types of Supervised Learning: Classification vs Regression\n",
    "\n",
    "- Classification\n",
    "- Regression\n",
    "\n",
    "### Classification\n",
    "\n",
    "**Classification** predicting among two or more categories, also known as classes.\n",
    "- *Example1*: Predict whether a customer will default on their credit card or not. \n",
    "- *Example2*: Predict if an animal is a reptile, mammal or bird. \n",
    "    \n",
    "\n",
    "### Regression\n",
    "\n",
    "**Regression** predicting a continuous (in other words, a number) value.\n",
    "- Example1: Predict housing prices\n",
    "- Example2: Predict the length of a snake. \n",
    "    \n",
    "    \n",
    "<img src=\"imgs/classification-vs-regression2.png\" width = \"90%\" alt=\"404 image\" />\n"
   ]
  },
  {
   "cell_type": "markdown",
   "metadata": {},
   "source": [
    "## Let's Practice! \n",
    "\n",
    "\n",
    "Are the following supervised or unsupervised problems?\n",
    "\n",
    "1. Finding groups of similar properties in a real estate data set.\n",
    "2. Predicting real estate prices based on house features like number of rooms, learning from past sales as examples.\n",
    "3. Identifying groups of animals given features such as \"number of legs\", \"wings/no wings\", \"fur/no fur\", etc.\n",
    "4. Detecting heart disease in patients based on different test results and history.\n",
    "5. Grouping articles on different topics from different news sources (something like Google News app).\n",
    "\n",
    "Are the following classification or regression problems?\n",
    "\n",
    "1. Predicting the price of a house based on features such as number of rooms and the year built.\n",
    "2. Predicting if a house will sell or not based on features like the price of the house, number of rooms, etc.\n",
    "3. Predicting your grade in BAIT 509 based on past grades.\n",
    "4. Predicting whether you should bicycle tomorrow or not based on the weather forecast.\n",
    "5. Predicting a cereal’s manufacturer given the nutritional information."
   ]
  },
  {
   "cell_type": "markdown",
   "metadata": {},
   "source": [
    "## Tabular Data and Terminology\n",
    "\n",
    "Basic terminology used in ML:\n",
    "\n",
    "- **examples/observations** = rows \n",
    "- **features/variables** = inputs (columns)\n",
    "- **targets** = outputs (one special column)\n",
    "- **training** = learning = fitting\n",
    "\n",
    "<img src=\"imgs/sup-ml-terminology2.png\" width = \"90%\" alt=\"404 image\" />\n"
   ]
  },
  {
   "cell_type": "markdown",
   "metadata": {},
   "source": [
    "### Example:\n",
    "\n",
    "- This [dataset](http://simplemaps.com/static/demos/resources/us-cities/cities.csv) contains longtitude and latitude data for 400 cities in the US.\n",
    "- Each city is labelled as `red` or `blue` depending on how they voted in the 2012 election."
   ]
  },
  {
   "cell_type": "code",
   "execution_count": 12,
   "metadata": {},
   "outputs": [
    {
     "data": {
      "text/html": [
       "<div>\n",
       "<style scoped>\n",
       "    .dataframe tbody tr th:only-of-type {\n",
       "        vertical-align: middle;\n",
       "    }\n",
       "\n",
       "    .dataframe tbody tr th {\n",
       "        vertical-align: top;\n",
       "    }\n",
       "\n",
       "    .dataframe thead th {\n",
       "        text-align: right;\n",
       "    }\n",
       "</style>\n",
       "<table border=\"1\" class=\"dataframe\">\n",
       "  <thead>\n",
       "    <tr style=\"text-align: right;\">\n",
       "      <th></th>\n",
       "      <th>lon</th>\n",
       "      <th>lat</th>\n",
       "      <th>vote</th>\n",
       "    </tr>\n",
       "  </thead>\n",
       "  <tbody>\n",
       "    <tr>\n",
       "      <th>104</th>\n",
       "      <td>-83.015008</td>\n",
       "      <td>35.882967</td>\n",
       "      <td>red</td>\n",
       "    </tr>\n",
       "    <tr>\n",
       "      <th>205</th>\n",
       "      <td>-105.065549</td>\n",
       "      <td>39.828572</td>\n",
       "      <td>blue</td>\n",
       "    </tr>\n",
       "    <tr>\n",
       "      <th>267</th>\n",
       "      <td>-95.827648</td>\n",
       "      <td>41.364378</td>\n",
       "      <td>blue</td>\n",
       "    </tr>\n",
       "    <tr>\n",
       "      <th>314</th>\n",
       "      <td>-83.304149</td>\n",
       "      <td>42.629449</td>\n",
       "      <td>blue</td>\n",
       "    </tr>\n",
       "    <tr>\n",
       "      <th>53</th>\n",
       "      <td>-89.115371</td>\n",
       "      <td>32.757224</td>\n",
       "      <td>red</td>\n",
       "    </tr>\n",
       "    <tr>\n",
       "      <th>16</th>\n",
       "      <td>-81.640596</td>\n",
       "      <td>29.559354</td>\n",
       "      <td>blue</td>\n",
       "    </tr>\n",
       "    <tr>\n",
       "      <th>282</th>\n",
       "      <td>-86.242893</td>\n",
       "      <td>41.700570</td>\n",
       "      <td>red</td>\n",
       "    </tr>\n",
       "    <tr>\n",
       "      <th>123</th>\n",
       "      <td>-82.852313</td>\n",
       "      <td>37.421491</td>\n",
       "      <td>red</td>\n",
       "    </tr>\n",
       "    <tr>\n",
       "      <th>47</th>\n",
       "      <td>-85.678746</td>\n",
       "      <td>32.166252</td>\n",
       "      <td>red</td>\n",
       "    </tr>\n",
       "    <tr>\n",
       "      <th>250</th>\n",
       "      <td>-85.606726</td>\n",
       "      <td>40.861792</td>\n",
       "      <td>red</td>\n",
       "    </tr>\n",
       "    <tr>\n",
       "      <th>135</th>\n",
       "      <td>-122.158705</td>\n",
       "      <td>37.720467</td>\n",
       "      <td>blue</td>\n",
       "    </tr>\n",
       "    <tr>\n",
       "      <th>140</th>\n",
       "      <td>-122.494555</td>\n",
       "      <td>37.860147</td>\n",
       "      <td>blue</td>\n",
       "    </tr>\n",
       "    <tr>\n",
       "      <th>113</th>\n",
       "      <td>-82.182297</td>\n",
       "      <td>36.618093</td>\n",
       "      <td>blue</td>\n",
       "    </tr>\n",
       "    <tr>\n",
       "      <th>87</th>\n",
       "      <td>-81.372907</td>\n",
       "      <td>34.908396</td>\n",
       "      <td>red</td>\n",
       "    </tr>\n",
       "    <tr>\n",
       "      <th>171</th>\n",
       "      <td>-94.634047</td>\n",
       "      <td>38.901798</td>\n",
       "      <td>red</td>\n",
       "    </tr>\n",
       "    <tr>\n",
       "      <th>88</th>\n",
       "      <td>-85.379384</td>\n",
       "      <td>34.933512</td>\n",
       "      <td>red</td>\n",
       "    </tr>\n",
       "    <tr>\n",
       "      <th>179</th>\n",
       "      <td>-76.959802</td>\n",
       "      <td>39.121343</td>\n",
       "      <td>blue</td>\n",
       "    </tr>\n",
       "    <tr>\n",
       "      <th>228</th>\n",
       "      <td>-101.129464</td>\n",
       "      <td>40.338668</td>\n",
       "      <td>red</td>\n",
       "    </tr>\n",
       "    <tr>\n",
       "      <th>46</th>\n",
       "      <td>-103.199724</td>\n",
       "      <td>32.112816</td>\n",
       "      <td>blue</td>\n",
       "    </tr>\n",
       "    <tr>\n",
       "      <th>78</th>\n",
       "      <td>-81.418375</td>\n",
       "      <td>34.167569</td>\n",
       "      <td>red</td>\n",
       "    </tr>\n",
       "  </tbody>\n",
       "</table>\n",
       "</div>"
      ],
      "text/plain": [
       "            lon        lat  vote\n",
       "104  -83.015008  35.882967   red\n",
       "205 -105.065549  39.828572  blue\n",
       "267  -95.827648  41.364378  blue\n",
       "314  -83.304149  42.629449  blue\n",
       "53   -89.115371  32.757224   red\n",
       "16   -81.640596  29.559354  blue\n",
       "282  -86.242893  41.700570   red\n",
       "123  -82.852313  37.421491   red\n",
       "47   -85.678746  32.166252   red\n",
       "250  -85.606726  40.861792   red\n",
       "135 -122.158705  37.720467  blue\n",
       "140 -122.494555  37.860147  blue\n",
       "113  -82.182297  36.618093  blue\n",
       "87   -81.372907  34.908396   red\n",
       "171  -94.634047  38.901798   red\n",
       "88   -85.379384  34.933512   red\n",
       "179  -76.959802  39.121343  blue\n",
       "228 -101.129464  40.338668   red\n",
       "46  -103.199724  32.112816  blue\n",
       "78   -81.418375  34.167569   red"
      ]
     },
     "execution_count": 12,
     "metadata": {},
     "output_type": "execute_result"
    }
   ],
   "source": [
    "df = pd.read_csv('data/cities_USA.csv', index_col=0).sample(20, random_state=77)\n",
    "df"
   ]
  },
  {
   "cell_type": "code",
   "execution_count": 13,
   "metadata": {},
   "outputs": [
    {
     "data": {
      "text/plain": [
       "(20, 3)"
      ]
     },
     "execution_count": 13,
     "metadata": {},
     "output_type": "execute_result"
    }
   ],
   "source": [
    "df.shape"
   ]
  },
  {
   "cell_type": "markdown",
   "metadata": {},
   "source": [
    "In this dataset, we have:\n",
    "- 2 **features**, (3 columns = 2 **features** + 1 target) and,\n",
    "- 20 **examples**.\n",
    "\n",
    "Our **target** column is `vote` since that is what we are interesting in predicting. "
   ]
  },
  {
   "cell_type": "markdown",
   "metadata": {},
   "source": [
    "## Decision Tree Algorithm"
   ]
  },
  {
   "cell_type": "markdown",
   "metadata": {},
   "source": [
    "### A conceptual introduction to Decision Trees"
   ]
  },
  {
   "cell_type": "markdown",
   "metadata": {},
   "source": [
    "Shown below is some hypothetical data with 2 features (x and y axes) and 1 target (with 2 classes).   \n",
    "The supervised learning problem here is to predict whether a particular observaton belongs to the <font color='blue'>**BLUE**</font> or <font color='orange'>**ORANGE**</font> class.    \n",
    "A fairly intuitive way to do this is to simply use thresholds to split the data up."
   ]
  },
  {
   "cell_type": "markdown",
   "metadata": {},
   "source": [
    "<img src='imgs/scatter_dt1.png'  width = \"40%\" alt=\"404 image\" />"
   ]
  },
  {
   "cell_type": "markdown",
   "metadata": {},
   "source": [
    "For example, we can **split** the data at `Feature_1 = 0.47`.   \n",
    "Everything **less than** the split we can classify as <font color='orange'>**ORANGE**</font>.  \n",
    "Everything **greater than** the split we can classify as <font color='blue'>**BLUE**</font>.   \n",
    "By this method, we can successfully classify 7 / 9 observations."
   ]
  },
  {
   "cell_type": "markdown",
   "metadata": {},
   "source": [
    "<img src='imgs/scatter_dt2.png'  width = \"40%\" alt=\"404 image\" />"
   ]
  },
  {
   "cell_type": "markdown",
   "metadata": {},
   "source": [
    "But we don't have to stop there, we can make another split!   \n",
    "Let's now split the section that is greater than `Feature_1 = 0.47`, using `Feature_2 = 0.52`.\n",
    "We now have the following conditions:    \n",
    "- If `Feature_1 > 0.47` and `Feature_2 < 0.52` classify as <font color='blue'>**BLUE**</font>.    \n",
    "- If `Feature_1 > 0.47` and `Feature_2 > 0.52` classify as <font color='orange'>**ORANGE**</font>.    \n",
    "\n",
    "Using these rules, we now successfully classify 8 / 9 observations.  "
   ]
  },
  {
   "cell_type": "markdown",
   "metadata": {},
   "source": [
    "<img src='imgs/scatter_dt3.png'  width = \"40%\" alt=\"404 image\" />"
   ]
  },
  {
   "cell_type": "markdown",
   "metadata": {},
   "source": [
    "Okay, let's add one more threshhold.    \n",
    "Let's make a final split of the section that is less than `Feature_1 = 0.47`, using `Feature_2 = 0.6`.   \n",
    "By this methodology we have successfully classified all of our data.   "
   ]
  },
  {
   "cell_type": "markdown",
   "metadata": {},
   "source": [
    "<img src='imgs/scatter_dt4.png'  width = \"40%\" alt=\"404 image\" />"
   ]
  },
  {
   "cell_type": "markdown",
   "metadata": {},
   "source": [
    "What we've really done here is create a group of `if` statements:     \n",
    "- If `Feature_1 < 0.47` and `Feature_2 < 0.6` classify as <font color='orange'>**ORANGE**</font>\n",
    "- If `Feature_1 < 0.47` and `Feature_2 > 0.6` classify as <font color='blue'>**BLUE**</font>\n",
    "- If `Feature_1 > 0.47` and `Feature_2 < 0.52` classify as <font color='blue'>**BLUE**</font>\n",
    "- If `Feature_1 > 0.47` and `Feature_2 > 0.52` classify as <font color='orange'>**ORANGE**</font>\n",
    "\n",
    "This is easier to visualize as a tree:"
   ]
  },
  {
   "cell_type": "markdown",
   "metadata": {},
   "source": [
    "<img src='imgs/toy_tree.png'  width = \"40%\" alt=\"404 image\" />"
   ]
  },
  {
   "cell_type": "markdown",
   "metadata": {},
   "source": [
    "We just made our first decision tree!"
   ]
  },
  {
   "cell_type": "markdown",
   "metadata": {},
   "source": [
    "Before we go forward with learning about decision tree classifiers and reggressors we need to understand the structure of a decision tree.\n",
    "Here is the key terminology that you will have to know: \n",
    "\n",
    "- **Root**: Where we start making our conditions.\n",
    "- **Branch**:  A branch connects to the next node (statement). Each branch represents either true or false.\n",
    "- **Internal node**: conditions within the tree.  \n",
    "- **Leaf**: the value predicted from the conditions. \n",
    "- **Tree depth**: The longest path from the root to a leaf.\n",
    "\n",
    "With the decision tree algorithm in machine learning, the tree can have at most two nodes resulting from it, also known as children.\n",
    "\n",
    "If a tree only has a depth of 1, we call that a **decision stump**."
   ]
  },
  {
   "cell_type": "markdown",
   "metadata": {},
   "source": [
    "<img src=\"imgs/lingo_tree.png\"  width = \"55%\" alt=\"404 image\">"
   ]
  },
  {
   "cell_type": "markdown",
   "metadata": {},
   "source": [
    "This tree  and the one in our example above, both have a depth of 2.\n",
    "\n",
    "Trees do not need to be balanced. (You'll see this shortly)"
   ]
  },
  {
   "cell_type": "markdown",
   "metadata": {},
   "source": [
    "### Implimentation with Scikit-learn\n",
    "\n",
    "Before we build any model (we are getting to that so hang tight), we need to make sure we have the right \"parts\" aka inputs and outputs. \n",
    "\n",
    "That means we need to split up our tabular data into the features and the target, also known as $X$ and $y$.\n",
    "\n",
    "$X$ is all of our features in our data, which we also call our ***feature table***. <br>\n",
    "$y$ is our target, which is what we are predicting."
   ]
  },
  {
   "cell_type": "code",
   "execution_count": 14,
   "metadata": {},
   "outputs": [],
   "source": [
    "X = df.drop(columns=[\"vote\"])\n",
    "y = df[\"vote\"]"
   ]
  },
  {
   "cell_type": "code",
   "execution_count": 15,
   "metadata": {},
   "outputs": [
    {
     "data": {
      "text/html": [
       "<div>\n",
       "<style scoped>\n",
       "    .dataframe tbody tr th:only-of-type {\n",
       "        vertical-align: middle;\n",
       "    }\n",
       "\n",
       "    .dataframe tbody tr th {\n",
       "        vertical-align: top;\n",
       "    }\n",
       "\n",
       "    .dataframe thead th {\n",
       "        text-align: right;\n",
       "    }\n",
       "</style>\n",
       "<table border=\"1\" class=\"dataframe\">\n",
       "  <thead>\n",
       "    <tr style=\"text-align: right;\">\n",
       "      <th></th>\n",
       "      <th>lon</th>\n",
       "      <th>lat</th>\n",
       "    </tr>\n",
       "  </thead>\n",
       "  <tbody>\n",
       "    <tr>\n",
       "      <th>104</th>\n",
       "      <td>-83.015008</td>\n",
       "      <td>35.882967</td>\n",
       "    </tr>\n",
       "    <tr>\n",
       "      <th>205</th>\n",
       "      <td>-105.065549</td>\n",
       "      <td>39.828572</td>\n",
       "    </tr>\n",
       "    <tr>\n",
       "      <th>267</th>\n",
       "      <td>-95.827648</td>\n",
       "      <td>41.364378</td>\n",
       "    </tr>\n",
       "    <tr>\n",
       "      <th>314</th>\n",
       "      <td>-83.304149</td>\n",
       "      <td>42.629449</td>\n",
       "    </tr>\n",
       "    <tr>\n",
       "      <th>53</th>\n",
       "      <td>-89.115371</td>\n",
       "      <td>32.757224</td>\n",
       "    </tr>\n",
       "  </tbody>\n",
       "</table>\n",
       "</div>"
      ],
      "text/plain": [
       "            lon        lat\n",
       "104  -83.015008  35.882967\n",
       "205 -105.065549  39.828572\n",
       "267  -95.827648  41.364378\n",
       "314  -83.304149  42.629449\n",
       "53   -89.115371  32.757224"
      ]
     },
     "execution_count": 15,
     "metadata": {},
     "output_type": "execute_result"
    }
   ],
   "source": [
    "X.head()"
   ]
  },
  {
   "cell_type": "code",
   "execution_count": 16,
   "metadata": {},
   "outputs": [
    {
     "data": {
      "text/plain": [
       "104     red\n",
       "205    blue\n",
       "267    blue\n",
       "314    blue\n",
       "53      red\n",
       "Name: vote, dtype: object"
      ]
     },
     "execution_count": 16,
     "metadata": {},
     "output_type": "execute_result"
    }
   ],
   "source": [
    "y.head()"
   ]
  },
  {
   "cell_type": "markdown",
   "metadata": {},
   "source": [
    "There are several machine learning libraries available to use but for this course, we will be using the  Scikit-learn (hereafter, referred to as sklearn) library, which is a popular (41.6k stars on Github) Machine Learning library for Python.\n"
   ]
  },
  {
   "cell_type": "markdown",
   "metadata": {},
   "source": [
    "- We generally import a particular ML algorithm using the following syntax:\n",
    "> `from sklearn.module import algorithm`\n",
    "\n",
    "The decision tree classification algorithm (`DecisionTreeClassifier`) sits within the `tree` module.  \n",
    "(Note there is also a Decision Tree Regression algorithm in this module which we'll come to later...)  \n",
    "Let's import the classifier using the following code:  "
   ]
  },
  {
   "cell_type": "code",
   "execution_count": 17,
   "metadata": {},
   "outputs": [],
   "source": [
    "from sklearn.tree import DecisionTreeClassifier"
   ]
  },
  {
   "cell_type": "markdown",
   "metadata": {},
   "source": [
    "We can begin creating a model by instantiating an instance of the algorithm class.    \n",
    "Here we are naming our decision tree model `model`:   "
   ]
  },
  {
   "cell_type": "code",
   "execution_count": 18,
   "metadata": {},
   "outputs": [
    {
     "data": {
      "text/plain": [
       "DecisionTreeClassifier()"
      ]
     },
     "execution_count": 18,
     "metadata": {},
     "output_type": "execute_result"
    }
   ],
   "source": [
    "model = DecisionTreeClassifier()\n",
    "model"
   ]
  },
  {
   "cell_type": "markdown",
   "metadata": {},
   "source": [
    "At this point we just have the framework of a model.    \n",
    "We can't do anything with our algorithm yet, because it hasn't seen any data!     \n",
    "We need to give our algorithm some data to learn/train/fit a model.    "
   ]
  },
  {
   "cell_type": "markdown",
   "metadata": {},
   "source": [
    "We can now use the `.fit()` method to train our model using the feature `X` and target `y` data we just separated.  \n",
    "When we call fit on our model object, the actual learning happens. "
   ]
  },
  {
   "cell_type": "code",
   "execution_count": 19,
   "metadata": {},
   "outputs": [
    {
     "data": {
      "text/plain": [
       "DecisionTreeClassifier()"
      ]
     },
     "execution_count": 19,
     "metadata": {},
     "output_type": "execute_result"
    }
   ],
   "source": [
    "model.fit(X, y)"
   ]
  },
  {
   "cell_type": "markdown",
   "metadata": {},
   "source": [
    "Now we've used data to learn a model, let's take a look at the model we made!    \n",
    "The code below prints out our model structure for us (like the tree we made ourselves earlier)   \n",
    "\n",
    "*Note: This `display_tree`, function was adapted from the `graphviz` library with some amendments to make the trees easier to understand. You can find the code in the `script` file on Canvas.*   "
   ]
  },
  {
   "cell_type": "code",
   "execution_count": 20,
   "metadata": {},
   "outputs": [
    {
     "data": {
      "image/svg+xml": [
       "<?xml version=\"1.0\" encoding=\"UTF-8\" standalone=\"no\"?>\n",
       "<!DOCTYPE svg PUBLIC \"-//W3C//DTD SVG 1.1//EN\"\n",
       " \"http://www.w3.org/Graphics/SVG/1.1/DTD/svg11.dtd\">\n",
       "<!-- Generated by graphviz version 2.44.1 (20200629.0846)\n",
       " -->\n",
       "<!-- Title: Tree Pages: 1 -->\n",
       "<svg width=\"416pt\" height=\"414pt\"\n",
       " viewBox=\"0.00 0.00 416.00 414.00\" xmlns=\"http://www.w3.org/2000/svg\" xmlns:xlink=\"http://www.w3.org/1999/xlink\">\n",
       "<g id=\"graph0\" class=\"graph\" transform=\"scale(1 1) rotate(0) translate(4 410)\">\n",
       "<title>Tree</title>\n",
       "<polygon fill=\"white\" stroke=\"transparent\" points=\"-4,4 -4,-410 412,-410 412,4 -4,4\"/>\n",
       "<!-- 0 -->\n",
       "<g id=\"node1\" class=\"node\">\n",
       "<title>0</title>\n",
       "<polygon fill=\"none\" stroke=\"black\" points=\"203.5,-406 96.5,-406 96.5,-368 203.5,-368 203.5,-406\"/>\n",
       "<text text-anchor=\"middle\" x=\"150\" y=\"-390.8\" font-family=\"Times,serif\" font-size=\"14.00\">lon &lt;= &#45;102.165</text>\n",
       "<text text-anchor=\"middle\" x=\"150\" y=\"-375.8\" font-family=\"Times,serif\" font-size=\"14.00\">class = red</text>\n",
       "</g>\n",
       "<!-- 1 -->\n",
       "<g id=\"node2\" class=\"node\">\n",
       "<title>1</title>\n",
       "<polygon fill=\"none\" stroke=\"black\" points=\"137,-331 55,-331 55,-295 137,-295 137,-331\"/>\n",
       "<text text-anchor=\"middle\" x=\"96\" y=\"-309.3\" font-family=\"Times,serif\" font-size=\"14.00\">class = blue</text>\n",
       "</g>\n",
       "<!-- 0&#45;&gt;1 -->\n",
       "<g id=\"edge1\" class=\"edge\">\n",
       "<title>0&#45;&gt;1</title>\n",
       "<path fill=\"none\" stroke=\"black\" d=\"M136.37,-367.83C129.96,-359.28 122.21,-348.94 115.21,-339.62\"/>\n",
       "<polygon fill=\"black\" stroke=\"black\" points=\"117.86,-337.32 109.06,-331.42 112.26,-341.52 117.86,-337.32\"/>\n",
       "<text text-anchor=\"middle\" x=\"105.53\" y=\"-352.47\" font-family=\"Times,serif\" font-size=\"14.00\">True</text>\n",
       "</g>\n",
       "<!-- 2 -->\n",
       "<g id=\"node3\" class=\"node\">\n",
       "<title>2</title>\n",
       "<polygon fill=\"none\" stroke=\"black\" points=\"255,-332 155,-332 155,-294 255,-294 255,-332\"/>\n",
       "<text text-anchor=\"middle\" x=\"205\" y=\"-316.8\" font-family=\"Times,serif\" font-size=\"14.00\">lon &lt;= &#45;82.517</text>\n",
       "<text text-anchor=\"middle\" x=\"205\" y=\"-301.8\" font-family=\"Times,serif\" font-size=\"14.00\">class = red</text>\n",
       "</g>\n",
       "<!-- 0&#45;&gt;2 -->\n",
       "<g id=\"edge2\" class=\"edge\">\n",
       "<title>0&#45;&gt;2</title>\n",
       "<path fill=\"none\" stroke=\"black\" d=\"M163.88,-367.83C170.21,-359.54 177.84,-349.56 184.79,-340.45\"/>\n",
       "<polygon fill=\"black\" stroke=\"black\" points=\"187.65,-342.48 190.93,-332.41 182.08,-338.24 187.65,-342.48\"/>\n",
       "<text text-anchor=\"middle\" x=\"194.25\" y=\"-353.49\" font-family=\"Times,serif\" font-size=\"14.00\">False</text>\n",
       "</g>\n",
       "<!-- 3 -->\n",
       "<g id=\"node4\" class=\"node\">\n",
       "<title>3</title>\n",
       "<polygon fill=\"none\" stroke=\"black\" points=\"194,-258 102,-258 102,-220 194,-220 194,-258\"/>\n",
       "<text text-anchor=\"middle\" x=\"148\" y=\"-242.8\" font-family=\"Times,serif\" font-size=\"14.00\">lat &lt;= 41.113</text>\n",
       "<text text-anchor=\"middle\" x=\"148\" y=\"-227.8\" font-family=\"Times,serif\" font-size=\"14.00\">class = red</text>\n",
       "</g>\n",
       "<!-- 2&#45;&gt;3 -->\n",
       "<g id=\"edge3\" class=\"edge\">\n",
       "<title>2&#45;&gt;3</title>\n",
       "<path fill=\"none\" stroke=\"black\" d=\"M190.62,-293.83C184.05,-285.54 176.15,-275.56 168.94,-266.45\"/>\n",
       "<polygon fill=\"black\" stroke=\"black\" points=\"171.53,-264.08 162.58,-258.41 166.04,-268.43 171.53,-264.08\"/>\n",
       "</g>\n",
       "<!-- 10 -->\n",
       "<g id=\"node11\" class=\"node\">\n",
       "<title>10</title>\n",
       "<polygon fill=\"none\" stroke=\"black\" points=\"308,-258 216,-258 216,-220 308,-220 308,-258\"/>\n",
       "<text text-anchor=\"middle\" x=\"262\" y=\"-242.8\" font-family=\"Times,serif\" font-size=\"14.00\">lat &lt;= 35.763</text>\n",
       "<text text-anchor=\"middle\" x=\"262\" y=\"-227.8\" font-family=\"Times,serif\" font-size=\"14.00\">class = blue</text>\n",
       "</g>\n",
       "<!-- 2&#45;&gt;10 -->\n",
       "<g id=\"edge10\" class=\"edge\">\n",
       "<title>2&#45;&gt;10</title>\n",
       "<path fill=\"none\" stroke=\"black\" d=\"M219.38,-293.83C225.95,-285.54 233.85,-275.56 241.06,-266.45\"/>\n",
       "<polygon fill=\"black\" stroke=\"black\" points=\"243.96,-268.43 247.42,-258.41 238.47,-264.08 243.96,-268.43\"/>\n",
       "</g>\n",
       "<!-- 4 -->\n",
       "<g id=\"node5\" class=\"node\">\n",
       "<title>4</title>\n",
       "<polygon fill=\"none\" stroke=\"black\" points=\"80,-183 4,-183 4,-147 80,-147 80,-183\"/>\n",
       "<text text-anchor=\"middle\" x=\"42\" y=\"-161.3\" font-family=\"Times,serif\" font-size=\"14.00\">class = red</text>\n",
       "</g>\n",
       "<!-- 3&#45;&gt;4 -->\n",
       "<g id=\"edge4\" class=\"edge\">\n",
       "<title>3&#45;&gt;4</title>\n",
       "<path fill=\"none\" stroke=\"black\" d=\"M121.25,-219.83C107.41,-210.43 90.37,-198.86 75.64,-188.85\"/>\n",
       "<polygon fill=\"black\" stroke=\"black\" points=\"77.52,-185.9 67.28,-183.17 73.59,-191.69 77.52,-185.9\"/>\n",
       "</g>\n",
       "<!-- 5 -->\n",
       "<g id=\"node6\" class=\"node\">\n",
       "<title>5</title>\n",
       "<polygon fill=\"none\" stroke=\"black\" points=\"198,-184 98,-184 98,-146 198,-146 198,-184\"/>\n",
       "<text text-anchor=\"middle\" x=\"148\" y=\"-168.8\" font-family=\"Times,serif\" font-size=\"14.00\">lon &lt;= &#45;91.035</text>\n",
       "<text text-anchor=\"middle\" x=\"148\" y=\"-153.8\" font-family=\"Times,serif\" font-size=\"14.00\">class = blue</text>\n",
       "</g>\n",
       "<!-- 3&#45;&gt;5 -->\n",
       "<g id=\"edge5\" class=\"edge\">\n",
       "<title>3&#45;&gt;5</title>\n",
       "<path fill=\"none\" stroke=\"black\" d=\"M148,-219.83C148,-212.13 148,-202.97 148,-194.42\"/>\n",
       "<polygon fill=\"black\" stroke=\"black\" points=\"151.5,-194.41 148,-184.41 144.5,-194.41 151.5,-194.41\"/>\n",
       "</g>\n",
       "<!-- 6 -->\n",
       "<g id=\"node7\" class=\"node\">\n",
       "<title>6</title>\n",
       "<polygon fill=\"none\" stroke=\"black\" points=\"82,-109 0,-109 0,-73 82,-73 82,-109\"/>\n",
       "<text text-anchor=\"middle\" x=\"41\" y=\"-87.3\" font-family=\"Times,serif\" font-size=\"14.00\">class = blue</text>\n",
       "</g>\n",
       "<!-- 5&#45;&gt;6 -->\n",
       "<g id=\"edge6\" class=\"edge\">\n",
       "<title>5&#45;&gt;6</title>\n",
       "<path fill=\"none\" stroke=\"black\" d=\"M121,-145.83C107.03,-136.43 89.83,-124.86 74.96,-114.85\"/>\n",
       "<polygon fill=\"black\" stroke=\"black\" points=\"76.77,-111.85 66.52,-109.17 72.86,-117.66 76.77,-111.85\"/>\n",
       "</g>\n",
       "<!-- 7 -->\n",
       "<g id=\"node8\" class=\"node\">\n",
       "<title>7</title>\n",
       "<polygon fill=\"none\" stroke=\"black\" points=\"200,-110 100,-110 100,-72 200,-72 200,-110\"/>\n",
       "<text text-anchor=\"middle\" x=\"150\" y=\"-94.8\" font-family=\"Times,serif\" font-size=\"14.00\">lon &lt;= &#45;84.774</text>\n",
       "<text text-anchor=\"middle\" x=\"150\" y=\"-79.8\" font-family=\"Times,serif\" font-size=\"14.00\">class = blue</text>\n",
       "</g>\n",
       "<!-- 5&#45;&gt;7 -->\n",
       "<g id=\"edge7\" class=\"edge\">\n",
       "<title>5&#45;&gt;7</title>\n",
       "<path fill=\"none\" stroke=\"black\" d=\"M148.5,-145.83C148.72,-138.13 148.97,-128.97 149.21,-120.42\"/>\n",
       "<polygon fill=\"black\" stroke=\"black\" points=\"152.71,-120.51 149.49,-110.41 145.71,-120.31 152.71,-120.51\"/>\n",
       "</g>\n",
       "<!-- 8 -->\n",
       "<g id=\"node9\" class=\"node\">\n",
       "<title>8</title>\n",
       "<polygon fill=\"none\" stroke=\"black\" points=\"139,-36 63,-36 63,0 139,0 139,-36\"/>\n",
       "<text text-anchor=\"middle\" x=\"101\" y=\"-14.3\" font-family=\"Times,serif\" font-size=\"14.00\">class = red</text>\n",
       "</g>\n",
       "<!-- 7&#45;&gt;8 -->\n",
       "<g id=\"edge8\" class=\"edge\">\n",
       "<title>7&#45;&gt;8</title>\n",
       "<path fill=\"none\" stroke=\"black\" d=\"M137.38,-71.72C131.62,-63.37 124.71,-53.35 118.46,-44.3\"/>\n",
       "<polygon fill=\"black\" stroke=\"black\" points=\"121.3,-42.25 112.73,-36 115.53,-46.22 121.3,-42.25\"/>\n",
       "</g>\n",
       "<!-- 9 -->\n",
       "<g id=\"node10\" class=\"node\">\n",
       "<title>9</title>\n",
       "<polygon fill=\"none\" stroke=\"black\" points=\"239,-36 157,-36 157,0 239,0 239,-36\"/>\n",
       "<text text-anchor=\"middle\" x=\"198\" y=\"-14.3\" font-family=\"Times,serif\" font-size=\"14.00\">class = blue</text>\n",
       "</g>\n",
       "<!-- 7&#45;&gt;9 -->\n",
       "<g id=\"edge9\" class=\"edge\">\n",
       "<title>7&#45;&gt;9</title>\n",
       "<path fill=\"none\" stroke=\"black\" d=\"M162.36,-71.72C168,-63.37 174.78,-53.35 180.9,-44.3\"/>\n",
       "<polygon fill=\"black\" stroke=\"black\" points=\"183.8,-46.25 186.5,-36 178,-42.33 183.8,-46.25\"/>\n",
       "</g>\n",
       "<!-- 11 -->\n",
       "<g id=\"node12\" class=\"node\">\n",
       "<title>11</title>\n",
       "<polygon fill=\"none\" stroke=\"black\" points=\"308,-184 216,-184 216,-146 308,-146 308,-184\"/>\n",
       "<text text-anchor=\"middle\" x=\"262\" y=\"-168.8\" font-family=\"Times,serif\" font-size=\"14.00\">lat &lt;= 31.863</text>\n",
       "<text text-anchor=\"middle\" x=\"262\" y=\"-153.8\" font-family=\"Times,serif\" font-size=\"14.00\">class = red</text>\n",
       "</g>\n",
       "<!-- 10&#45;&gt;11 -->\n",
       "<g id=\"edge11\" class=\"edge\">\n",
       "<title>10&#45;&gt;11</title>\n",
       "<path fill=\"none\" stroke=\"black\" d=\"M262,-219.83C262,-212.13 262,-202.97 262,-194.42\"/>\n",
       "<polygon fill=\"black\" stroke=\"black\" points=\"265.5,-194.41 262,-184.41 258.5,-194.41 265.5,-194.41\"/>\n",
       "</g>\n",
       "<!-- 14 -->\n",
       "<g id=\"node15\" class=\"node\">\n",
       "<title>14</title>\n",
       "<polygon fill=\"none\" stroke=\"black\" points=\"408,-183 326,-183 326,-147 408,-147 408,-183\"/>\n",
       "<text text-anchor=\"middle\" x=\"367\" y=\"-161.3\" font-family=\"Times,serif\" font-size=\"14.00\">class = blue</text>\n",
       "</g>\n",
       "<!-- 10&#45;&gt;14 -->\n",
       "<g id=\"edge14\" class=\"edge\">\n",
       "<title>10&#45;&gt;14</title>\n",
       "<path fill=\"none\" stroke=\"black\" d=\"M288.5,-219.83C302.21,-210.43 319.09,-198.86 333.67,-188.85\"/>\n",
       "<polygon fill=\"black\" stroke=\"black\" points=\"335.69,-191.71 341.96,-183.17 331.73,-185.94 335.69,-191.71\"/>\n",
       "</g>\n",
       "<!-- 12 -->\n",
       "<g id=\"node13\" class=\"node\">\n",
       "<title>12</title>\n",
       "<polygon fill=\"none\" stroke=\"black\" points=\"302,-109 220,-109 220,-73 302,-73 302,-109\"/>\n",
       "<text text-anchor=\"middle\" x=\"261\" y=\"-87.3\" font-family=\"Times,serif\" font-size=\"14.00\">class = blue</text>\n",
       "</g>\n",
       "<!-- 11&#45;&gt;12 -->\n",
       "<g id=\"edge12\" class=\"edge\">\n",
       "<title>11&#45;&gt;12</title>\n",
       "<path fill=\"none\" stroke=\"black\" d=\"M261.75,-145.83C261.64,-137.89 261.51,-128.41 261.38,-119.63\"/>\n",
       "<polygon fill=\"black\" stroke=\"black\" points=\"264.88,-119.37 261.24,-109.42 257.88,-119.47 264.88,-119.37\"/>\n",
       "</g>\n",
       "<!-- 13 -->\n",
       "<g id=\"node14\" class=\"node\">\n",
       "<title>13</title>\n",
       "<polygon fill=\"none\" stroke=\"black\" points=\"396,-109 320,-109 320,-73 396,-73 396,-109\"/>\n",
       "<text text-anchor=\"middle\" x=\"358\" y=\"-87.3\" font-family=\"Times,serif\" font-size=\"14.00\">class = red</text>\n",
       "</g>\n",
       "<!-- 11&#45;&gt;13 -->\n",
       "<g id=\"edge13\" class=\"edge\">\n",
       "<title>11&#45;&gt;13</title>\n",
       "<path fill=\"none\" stroke=\"black\" d=\"M286.22,-145.83C298.53,-136.6 313.62,-125.29 326.78,-115.41\"/>\n",
       "<polygon fill=\"black\" stroke=\"black\" points=\"329.2,-117.97 335.1,-109.17 325,-112.37 329.2,-117.97\"/>\n",
       "</g>\n",
       "</g>\n",
       "</svg>\n"
      ],
      "text/plain": [
       "<graphviz.files.Source at 0x1269352e0>"
      ]
     },
     "execution_count": 20,
     "metadata": {
      "filenames": {
       "image/svg+xml": "/Users/icics-user/Documents/BAIT509/BAIT509/_build/jupyter_execute/lectures/lecture1_67_0.svg"
      }
     },
     "output_type": "execute_result"
    }
   ],
   "source": [
    "sys.path.append('code/')\n",
    "from display_tree import display_tree\n",
    "display_tree(X.columns, model, \"imgs/decision_tree\")"
   ]
  },
  {
   "cell_type": "markdown",
   "metadata": {},
   "source": [
    "We can better visualize what's going on by actually plotting our data and the model's  **decision boundaries**.\n",
    "\n",
    "*Note: This `plot_classifier` made by Mike Gelbart, function is available for installation [here](https://github.com/mgelbart/plot-classifier) or using:*\n",
    ">`pip install git+git://github.com/mgelbart/plot-classifier.git`\n",
    "\n",
    "or with conda\n",
    "\n",
    "> `conda install git` <br>\n",
    "> `conda install pip`<br>\n",
    "> `pip install git+git://github.com/mgelbart/plot-classifier.git`"
   ]
  },
  {
   "cell_type": "code",
   "execution_count": 21,
   "metadata": {},
   "outputs": [
    {
     "data": {
      "image/png": "[encoded data removed]",
      "text/plain": [
       "<Figure size 432x288 with 1 Axes>"
      ]
     },
     "metadata": {
      "filenames": {
       "image/png": "/Users/icics-user/Documents/BAIT509/BAIT509/_build/jupyter_execute/lectures/lecture1_69_0.png"
      },
      "needs_background": "light"
     },
     "output_type": "display_data"
    }
   ],
   "source": [
    "from plot_classifier import plot_classifier\n",
    "\n",
    "plot_classifier(X, y, model, ticks=True)\n",
    "plt.xticks(fontsize= 20);\n",
    "plt.yticks(fontsize= 20);\n",
    "plt.xlabel('lon', fontsize=20);\n",
    "plt.ylabel('lat', fontsize=20);  "
   ]
  },
  {
   "cell_type": "markdown",
   "metadata": {},
   "source": [
    "In this plot the shaded regions show what our model predicts for different feature values.  \n",
    "The scatter points are our actual 20 observations.    \n",
    "From the above plot, we can see that our model is classifying all our observations correctly, but there's an easier way to find out how our model is doing.   \n",
    "We can predict the target of examples by calling `.predict()` on the classifier object.     \n",
    "Let’s see what it predicts for a single randomly new observation first:"
   ]
  },
  {
   "cell_type": "code",
   "execution_count": 22,
   "metadata": {},
   "outputs": [
    {
     "data": {
      "text/html": [
       "<div>\n",
       "<style scoped>\n",
       "    .dataframe tbody tr th:only-of-type {\n",
       "        vertical-align: middle;\n",
       "    }\n",
       "\n",
       "    .dataframe tbody tr th {\n",
       "        vertical-align: top;\n",
       "    }\n",
       "\n",
       "    .dataframe thead th {\n",
       "        text-align: right;\n",
       "    }\n",
       "</style>\n",
       "<table border=\"1\" class=\"dataframe\">\n",
       "  <thead>\n",
       "    <tr style=\"text-align: right;\">\n",
       "      <th></th>\n",
       "      <th>lon</th>\n",
       "      <th>lat</th>\n",
       "    </tr>\n",
       "  </thead>\n",
       "  <tbody>\n",
       "    <tr>\n",
       "      <th>0</th>\n",
       "      <td>-87.4</td>\n",
       "      <td>59</td>\n",
       "    </tr>\n",
       "  </tbody>\n",
       "</table>\n",
       "</div>"
      ],
      "text/plain": [
       "    lon  lat\n",
       "0 -87.4   59"
      ]
     },
     "execution_count": 22,
     "metadata": {},
     "output_type": "execute_result"
    }
   ],
   "source": [
    "new_ex = [-87.4, 59]\n",
    "new_example = pd.DataFrame(data= [new_ex], columns = [\"lon\", \"lat\"])\n",
    "new_example"
   ]
  },
  {
   "cell_type": "code",
   "execution_count": 23,
   "metadata": {},
   "outputs": [
    {
     "data": {
      "text/plain": [
       "array(['red'], dtype=object)"
      ]
     },
     "execution_count": 23,
     "metadata": {},
     "output_type": "execute_result"
    }
   ],
   "source": [
    "model.predict(new_example)"
   ]
  },
  {
   "cell_type": "markdown",
   "metadata": {},
   "source": [
    "we get a prediction of `red` for this example!\n",
    "\n",
    "We can also predict on our whole feature table - Here, we are predicting on all of X."
   ]
  },
  {
   "cell_type": "code",
   "execution_count": 24,
   "metadata": {},
   "outputs": [
    {
     "data": {
      "text/plain": [
       "array(['red', 'blue', 'blue', 'blue', 'red', 'blue', 'red', 'red', 'red',\n",
       "       'red', 'blue', 'blue', 'blue', 'red', 'red', 'red', 'blue', 'red',\n",
       "       'blue', 'red'], dtype=object)"
      ]
     },
     "execution_count": 24,
     "metadata": {},
     "output_type": "execute_result"
    }
   ],
   "source": [
    "model.predict(X)"
   ]
  },
  {
   "cell_type": "code",
   "execution_count": 25,
   "metadata": {},
   "outputs": [
    {
     "data": {
      "text/html": [
       "<div>\n",
       "<style scoped>\n",
       "    .dataframe tbody tr th:only-of-type {\n",
       "        vertical-align: middle;\n",
       "    }\n",
       "\n",
       "    .dataframe tbody tr th {\n",
       "        vertical-align: top;\n",
       "    }\n",
       "\n",
       "    .dataframe thead th {\n",
       "        text-align: right;\n",
       "    }\n",
       "</style>\n",
       "<table border=\"1\" class=\"dataframe\">\n",
       "  <thead>\n",
       "    <tr style=\"text-align: right;\">\n",
       "      <th></th>\n",
       "      <th>true_values</th>\n",
       "      <th>predicted</th>\n",
       "    </tr>\n",
       "  </thead>\n",
       "  <tbody>\n",
       "    <tr>\n",
       "      <th>0</th>\n",
       "      <td>red</td>\n",
       "      <td>red</td>\n",
       "    </tr>\n",
       "    <tr>\n",
       "      <th>1</th>\n",
       "      <td>blue</td>\n",
       "      <td>blue</td>\n",
       "    </tr>\n",
       "    <tr>\n",
       "      <th>2</th>\n",
       "      <td>blue</td>\n",
       "      <td>blue</td>\n",
       "    </tr>\n",
       "    <tr>\n",
       "      <th>3</th>\n",
       "      <td>blue</td>\n",
       "      <td>blue</td>\n",
       "    </tr>\n",
       "    <tr>\n",
       "      <th>4</th>\n",
       "      <td>red</td>\n",
       "      <td>red</td>\n",
       "    </tr>\n",
       "    <tr>\n",
       "      <th>5</th>\n",
       "      <td>blue</td>\n",
       "      <td>blue</td>\n",
       "    </tr>\n",
       "    <tr>\n",
       "      <th>6</th>\n",
       "      <td>red</td>\n",
       "      <td>red</td>\n",
       "    </tr>\n",
       "    <tr>\n",
       "      <th>7</th>\n",
       "      <td>red</td>\n",
       "      <td>red</td>\n",
       "    </tr>\n",
       "    <tr>\n",
       "      <th>8</th>\n",
       "      <td>red</td>\n",
       "      <td>red</td>\n",
       "    </tr>\n",
       "    <tr>\n",
       "      <th>9</th>\n",
       "      <td>red</td>\n",
       "      <td>red</td>\n",
       "    </tr>\n",
       "    <tr>\n",
       "      <th>10</th>\n",
       "      <td>blue</td>\n",
       "      <td>blue</td>\n",
       "    </tr>\n",
       "    <tr>\n",
       "      <th>11</th>\n",
       "      <td>blue</td>\n",
       "      <td>blue</td>\n",
       "    </tr>\n",
       "    <tr>\n",
       "      <th>12</th>\n",
       "      <td>blue</td>\n",
       "      <td>blue</td>\n",
       "    </tr>\n",
       "    <tr>\n",
       "      <th>13</th>\n",
       "      <td>red</td>\n",
       "      <td>red</td>\n",
       "    </tr>\n",
       "    <tr>\n",
       "      <th>14</th>\n",
       "      <td>red</td>\n",
       "      <td>red</td>\n",
       "    </tr>\n",
       "    <tr>\n",
       "      <th>15</th>\n",
       "      <td>red</td>\n",
       "      <td>red</td>\n",
       "    </tr>\n",
       "    <tr>\n",
       "      <th>16</th>\n",
       "      <td>blue</td>\n",
       "      <td>blue</td>\n",
       "    </tr>\n",
       "    <tr>\n",
       "      <th>17</th>\n",
       "      <td>red</td>\n",
       "      <td>red</td>\n",
       "    </tr>\n",
       "    <tr>\n",
       "      <th>18</th>\n",
       "      <td>blue</td>\n",
       "      <td>blue</td>\n",
       "    </tr>\n",
       "    <tr>\n",
       "      <th>19</th>\n",
       "      <td>red</td>\n",
       "      <td>red</td>\n",
       "    </tr>\n",
       "  </tbody>\n",
       "</table>\n",
       "</div>"
      ],
      "text/plain": [
       "   true_values predicted\n",
       "0          red       red\n",
       "1         blue      blue\n",
       "2         blue      blue\n",
       "3         blue      blue\n",
       "4          red       red\n",
       "5         blue      blue\n",
       "6          red       red\n",
       "7          red       red\n",
       "8          red       red\n",
       "9          red       red\n",
       "10        blue      blue\n",
       "11        blue      blue\n",
       "12        blue      blue\n",
       "13         red       red\n",
       "14         red       red\n",
       "15         red       red\n",
       "16        blue      blue\n",
       "17         red       red\n",
       "18        blue      blue\n",
       "19         red       red"
      ]
     },
     "execution_count": 25,
     "metadata": {},
     "output_type": "execute_result"
    }
   ],
   "source": [
    "pd.DataFrame({'true_values' : y.to_numpy(), 'predicted' : model.predict(X)})"
   ]
  },
  {
   "cell_type": "markdown",
   "metadata": {},
   "source": [
    "Or if we just want to know how many we got right, in the classification setting, we can use  `score()` which gives the accuracy of the model, i.e., the proportion of correctly predicted examples.\n",
    "\n",
    "Sometimes we will also see people reporting **error**, which is usually 1 - accuracy. \n",
    "\n",
    "Our model has an accurary of 100% (or 0% error)!"
   ]
  },
  {
   "cell_type": "code",
   "execution_count": 26,
   "metadata": {},
   "outputs": [
    {
     "data": {
      "text/plain": [
       "1.0"
      ]
     },
     "execution_count": 26,
     "metadata": {},
     "output_type": "execute_result"
    }
   ],
   "source": [
    "model.score(X,y)"
   ]
  },
  {
   "cell_type": "markdown",
   "metadata": {},
   "source": [
    "### How does `.predict()` work?\n",
    "\n",
    "For us to see how our algorithm predicts for each example, all we have to do is return to our Decision Tree. "
   ]
  },
  {
   "cell_type": "code",
   "execution_count": 27,
   "metadata": {},
   "outputs": [
    {
     "data": {
      "image/svg+xml": [
       "<?xml version=\"1.0\" encoding=\"UTF-8\" standalone=\"no\"?>\n",
       "<!DOCTYPE svg PUBLIC \"-//W3C//DTD SVG 1.1//EN\"\n",
       " \"http://www.w3.org/Graphics/SVG/1.1/DTD/svg11.dtd\">\n",
       "<!-- Generated by graphviz version 2.44.1 (20200629.0846)\n",
       " -->\n",
       "<!-- Title: Tree Pages: 1 -->\n",
       "<svg width=\"416pt\" height=\"414pt\"\n",
       " viewBox=\"0.00 0.00 416.00 414.00\" xmlns=\"http://www.w3.org/2000/svg\" xmlns:xlink=\"http://www.w3.org/1999/xlink\">\n",
       "<g id=\"graph0\" class=\"graph\" transform=\"scale(1 1) rotate(0) translate(4 410)\">\n",
       "<title>Tree</title>\n",
       "<polygon fill=\"white\" stroke=\"transparent\" points=\"-4,4 -4,-410 412,-410 412,4 -4,4\"/>\n",
       "<!-- 0 -->\n",
       "<g id=\"node1\" class=\"node\">\n",
       "<title>0</title>\n",
       "<polygon fill=\"none\" stroke=\"black\" points=\"203.5,-406 96.5,-406 96.5,-368 203.5,-368 203.5,-406\"/>\n",
       "<text text-anchor=\"middle\" x=\"150\" y=\"-390.8\" font-family=\"Times,serif\" font-size=\"14.00\">lon &lt;= &#45;102.165</text>\n",
       "<text text-anchor=\"middle\" x=\"150\" y=\"-375.8\" font-family=\"Times,serif\" font-size=\"14.00\">class = red</text>\n",
       "</g>\n",
       "<!-- 1 -->\n",
       "<g id=\"node2\" class=\"node\">\n",
       "<title>1</title>\n",
       "<polygon fill=\"none\" stroke=\"black\" points=\"137,-331 55,-331 55,-295 137,-295 137,-331\"/>\n",
       "<text text-anchor=\"middle\" x=\"96\" y=\"-309.3\" font-family=\"Times,serif\" font-size=\"14.00\">class = blue</text>\n",
       "</g>\n",
       "<!-- 0&#45;&gt;1 -->\n",
       "<g id=\"edge1\" class=\"edge\">\n",
       "<title>0&#45;&gt;1</title>\n",
       "<path fill=\"none\" stroke=\"black\" d=\"M136.37,-367.83C129.96,-359.28 122.21,-348.94 115.21,-339.62\"/>\n",
       "<polygon fill=\"black\" stroke=\"black\" points=\"117.86,-337.32 109.06,-331.42 112.26,-341.52 117.86,-337.32\"/>\n",
       "<text text-anchor=\"middle\" x=\"105.53\" y=\"-352.47\" font-family=\"Times,serif\" font-size=\"14.00\">True</text>\n",
       "</g>\n",
       "<!-- 2 -->\n",
       "<g id=\"node3\" class=\"node\">\n",
       "<title>2</title>\n",
       "<polygon fill=\"none\" stroke=\"black\" points=\"255,-332 155,-332 155,-294 255,-294 255,-332\"/>\n",
       "<text text-anchor=\"middle\" x=\"205\" y=\"-316.8\" font-family=\"Times,serif\" font-size=\"14.00\">lon &lt;= &#45;82.517</text>\n",
       "<text text-anchor=\"middle\" x=\"205\" y=\"-301.8\" font-family=\"Times,serif\" font-size=\"14.00\">class = red</text>\n",
       "</g>\n",
       "<!-- 0&#45;&gt;2 -->\n",
       "<g id=\"edge2\" class=\"edge\">\n",
       "<title>0&#45;&gt;2</title>\n",
       "<path fill=\"none\" stroke=\"black\" d=\"M163.88,-367.83C170.21,-359.54 177.84,-349.56 184.79,-340.45\"/>\n",
       "<polygon fill=\"black\" stroke=\"black\" points=\"187.65,-342.48 190.93,-332.41 182.08,-338.24 187.65,-342.48\"/>\n",
       "<text text-anchor=\"middle\" x=\"194.25\" y=\"-353.49\" font-family=\"Times,serif\" font-size=\"14.00\">False</text>\n",
       "</g>\n",
       "<!-- 3 -->\n",
       "<g id=\"node4\" class=\"node\">\n",
       "<title>3</title>\n",
       "<polygon fill=\"none\" stroke=\"black\" points=\"194,-258 102,-258 102,-220 194,-220 194,-258\"/>\n",
       "<text text-anchor=\"middle\" x=\"148\" y=\"-242.8\" font-family=\"Times,serif\" font-size=\"14.00\">lat &lt;= 41.113</text>\n",
       "<text text-anchor=\"middle\" x=\"148\" y=\"-227.8\" font-family=\"Times,serif\" font-size=\"14.00\">class = red</text>\n",
       "</g>\n",
       "<!-- 2&#45;&gt;3 -->\n",
       "<g id=\"edge3\" class=\"edge\">\n",
       "<title>2&#45;&gt;3</title>\n",
       "<path fill=\"none\" stroke=\"black\" d=\"M190.62,-293.83C184.05,-285.54 176.15,-275.56 168.94,-266.45\"/>\n",
       "<polygon fill=\"black\" stroke=\"black\" points=\"171.53,-264.08 162.58,-258.41 166.04,-268.43 171.53,-264.08\"/>\n",
       "</g>\n",
       "<!-- 10 -->\n",
       "<g id=\"node11\" class=\"node\">\n",
       "<title>10</title>\n",
       "<polygon fill=\"none\" stroke=\"black\" points=\"308,-258 216,-258 216,-220 308,-220 308,-258\"/>\n",
       "<text text-anchor=\"middle\" x=\"262\" y=\"-242.8\" font-family=\"Times,serif\" font-size=\"14.00\">lat &lt;= 35.763</text>\n",
       "<text text-anchor=\"middle\" x=\"262\" y=\"-227.8\" font-family=\"Times,serif\" font-size=\"14.00\">class = blue</text>\n",
       "</g>\n",
       "<!-- 2&#45;&gt;10 -->\n",
       "<g id=\"edge10\" class=\"edge\">\n",
       "<title>2&#45;&gt;10</title>\n",
       "<path fill=\"none\" stroke=\"black\" d=\"M219.38,-293.83C225.95,-285.54 233.85,-275.56 241.06,-266.45\"/>\n",
       "<polygon fill=\"black\" stroke=\"black\" points=\"243.96,-268.43 247.42,-258.41 238.47,-264.08 243.96,-268.43\"/>\n",
       "</g>\n",
       "<!-- 4 -->\n",
       "<g id=\"node5\" class=\"node\">\n",
       "<title>4</title>\n",
       "<polygon fill=\"none\" stroke=\"black\" points=\"80,-183 4,-183 4,-147 80,-147 80,-183\"/>\n",
       "<text text-anchor=\"middle\" x=\"42\" y=\"-161.3\" font-family=\"Times,serif\" font-size=\"14.00\">class = red</text>\n",
       "</g>\n",
       "<!-- 3&#45;&gt;4 -->\n",
       "<g id=\"edge4\" class=\"edge\">\n",
       "<title>3&#45;&gt;4</title>\n",
       "<path fill=\"none\" stroke=\"black\" d=\"M121.25,-219.83C107.41,-210.43 90.37,-198.86 75.64,-188.85\"/>\n",
       "<polygon fill=\"black\" stroke=\"black\" points=\"77.52,-185.9 67.28,-183.17 73.59,-191.69 77.52,-185.9\"/>\n",
       "</g>\n",
       "<!-- 5 -->\n",
       "<g id=\"node6\" class=\"node\">\n",
       "<title>5</title>\n",
       "<polygon fill=\"none\" stroke=\"black\" points=\"198,-184 98,-184 98,-146 198,-146 198,-184\"/>\n",
       "<text text-anchor=\"middle\" x=\"148\" y=\"-168.8\" font-family=\"Times,serif\" font-size=\"14.00\">lon &lt;= &#45;91.035</text>\n",
       "<text text-anchor=\"middle\" x=\"148\" y=\"-153.8\" font-family=\"Times,serif\" font-size=\"14.00\">class = blue</text>\n",
       "</g>\n",
       "<!-- 3&#45;&gt;5 -->\n",
       "<g id=\"edge5\" class=\"edge\">\n",
       "<title>3&#45;&gt;5</title>\n",
       "<path fill=\"none\" stroke=\"black\" d=\"M148,-219.83C148,-212.13 148,-202.97 148,-194.42\"/>\n",
       "<polygon fill=\"black\" stroke=\"black\" points=\"151.5,-194.41 148,-184.41 144.5,-194.41 151.5,-194.41\"/>\n",
       "</g>\n",
       "<!-- 6 -->\n",
       "<g id=\"node7\" class=\"node\">\n",
       "<title>6</title>\n",
       "<polygon fill=\"none\" stroke=\"black\" points=\"82,-109 0,-109 0,-73 82,-73 82,-109\"/>\n",
       "<text text-anchor=\"middle\" x=\"41\" y=\"-87.3\" font-family=\"Times,serif\" font-size=\"14.00\">class = blue</text>\n",
       "</g>\n",
       "<!-- 5&#45;&gt;6 -->\n",
       "<g id=\"edge6\" class=\"edge\">\n",
       "<title>5&#45;&gt;6</title>\n",
       "<path fill=\"none\" stroke=\"black\" d=\"M121,-145.83C107.03,-136.43 89.83,-124.86 74.96,-114.85\"/>\n",
       "<polygon fill=\"black\" stroke=\"black\" points=\"76.77,-111.85 66.52,-109.17 72.86,-117.66 76.77,-111.85\"/>\n",
       "</g>\n",
       "<!-- 7 -->\n",
       "<g id=\"node8\" class=\"node\">\n",
       "<title>7</title>\n",
       "<polygon fill=\"none\" stroke=\"black\" points=\"200,-110 100,-110 100,-72 200,-72 200,-110\"/>\n",
       "<text text-anchor=\"middle\" x=\"150\" y=\"-94.8\" font-family=\"Times,serif\" font-size=\"14.00\">lon &lt;= &#45;84.774</text>\n",
       "<text text-anchor=\"middle\" x=\"150\" y=\"-79.8\" font-family=\"Times,serif\" font-size=\"14.00\">class = blue</text>\n",
       "</g>\n",
       "<!-- 5&#45;&gt;7 -->\n",
       "<g id=\"edge7\" class=\"edge\">\n",
       "<title>5&#45;&gt;7</title>\n",
       "<path fill=\"none\" stroke=\"black\" d=\"M148.5,-145.83C148.72,-138.13 148.97,-128.97 149.21,-120.42\"/>\n",
       "<polygon fill=\"black\" stroke=\"black\" points=\"152.71,-120.51 149.49,-110.41 145.71,-120.31 152.71,-120.51\"/>\n",
       "</g>\n",
       "<!-- 8 -->\n",
       "<g id=\"node9\" class=\"node\">\n",
       "<title>8</title>\n",
       "<polygon fill=\"none\" stroke=\"black\" points=\"139,-36 63,-36 63,0 139,0 139,-36\"/>\n",
       "<text text-anchor=\"middle\" x=\"101\" y=\"-14.3\" font-family=\"Times,serif\" font-size=\"14.00\">class = red</text>\n",
       "</g>\n",
       "<!-- 7&#45;&gt;8 -->\n",
       "<g id=\"edge8\" class=\"edge\">\n",
       "<title>7&#45;&gt;8</title>\n",
       "<path fill=\"none\" stroke=\"black\" d=\"M137.38,-71.72C131.62,-63.37 124.71,-53.35 118.46,-44.3\"/>\n",
       "<polygon fill=\"black\" stroke=\"black\" points=\"121.3,-42.25 112.73,-36 115.53,-46.22 121.3,-42.25\"/>\n",
       "</g>\n",
       "<!-- 9 -->\n",
       "<g id=\"node10\" class=\"node\">\n",
       "<title>9</title>\n",
       "<polygon fill=\"none\" stroke=\"black\" points=\"239,-36 157,-36 157,0 239,0 239,-36\"/>\n",
       "<text text-anchor=\"middle\" x=\"198\" y=\"-14.3\" font-family=\"Times,serif\" font-size=\"14.00\">class = blue</text>\n",
       "</g>\n",
       "<!-- 7&#45;&gt;9 -->\n",
       "<g id=\"edge9\" class=\"edge\">\n",
       "<title>7&#45;&gt;9</title>\n",
       "<path fill=\"none\" stroke=\"black\" d=\"M162.36,-71.72C168,-63.37 174.78,-53.35 180.9,-44.3\"/>\n",
       "<polygon fill=\"black\" stroke=\"black\" points=\"183.8,-46.25 186.5,-36 178,-42.33 183.8,-46.25\"/>\n",
       "</g>\n",
       "<!-- 11 -->\n",
       "<g id=\"node12\" class=\"node\">\n",
       "<title>11</title>\n",
       "<polygon fill=\"none\" stroke=\"black\" points=\"308,-184 216,-184 216,-146 308,-146 308,-184\"/>\n",
       "<text text-anchor=\"middle\" x=\"262\" y=\"-168.8\" font-family=\"Times,serif\" font-size=\"14.00\">lat &lt;= 31.863</text>\n",
       "<text text-anchor=\"middle\" x=\"262\" y=\"-153.8\" font-family=\"Times,serif\" font-size=\"14.00\">class = red</text>\n",
       "</g>\n",
       "<!-- 10&#45;&gt;11 -->\n",
       "<g id=\"edge11\" class=\"edge\">\n",
       "<title>10&#45;&gt;11</title>\n",
       "<path fill=\"none\" stroke=\"black\" d=\"M262,-219.83C262,-212.13 262,-202.97 262,-194.42\"/>\n",
       "<polygon fill=\"black\" stroke=\"black\" points=\"265.5,-194.41 262,-184.41 258.5,-194.41 265.5,-194.41\"/>\n",
       "</g>\n",
       "<!-- 14 -->\n",
       "<g id=\"node15\" class=\"node\">\n",
       "<title>14</title>\n",
       "<polygon fill=\"none\" stroke=\"black\" points=\"408,-183 326,-183 326,-147 408,-147 408,-183\"/>\n",
       "<text text-anchor=\"middle\" x=\"367\" y=\"-161.3\" font-family=\"Times,serif\" font-size=\"14.00\">class = blue</text>\n",
       "</g>\n",
       "<!-- 10&#45;&gt;14 -->\n",
       "<g id=\"edge14\" class=\"edge\">\n",
       "<title>10&#45;&gt;14</title>\n",
       "<path fill=\"none\" stroke=\"black\" d=\"M288.5,-219.83C302.21,-210.43 319.09,-198.86 333.67,-188.85\"/>\n",
       "<polygon fill=\"black\" stroke=\"black\" points=\"335.69,-191.71 341.96,-183.17 331.73,-185.94 335.69,-191.71\"/>\n",
       "</g>\n",
       "<!-- 12 -->\n",
       "<g id=\"node13\" class=\"node\">\n",
       "<title>12</title>\n",
       "<polygon fill=\"none\" stroke=\"black\" points=\"302,-109 220,-109 220,-73 302,-73 302,-109\"/>\n",
       "<text text-anchor=\"middle\" x=\"261\" y=\"-87.3\" font-family=\"Times,serif\" font-size=\"14.00\">class = blue</text>\n",
       "</g>\n",
       "<!-- 11&#45;&gt;12 -->\n",
       "<g id=\"edge12\" class=\"edge\">\n",
       "<title>11&#45;&gt;12</title>\n",
       "<path fill=\"none\" stroke=\"black\" d=\"M261.75,-145.83C261.64,-137.89 261.51,-128.41 261.38,-119.63\"/>\n",
       "<polygon fill=\"black\" stroke=\"black\" points=\"264.88,-119.37 261.24,-109.42 257.88,-119.47 264.88,-119.37\"/>\n",
       "</g>\n",
       "<!-- 13 -->\n",
       "<g id=\"node14\" class=\"node\">\n",
       "<title>13</title>\n",
       "<polygon fill=\"none\" stroke=\"black\" points=\"396,-109 320,-109 320,-73 396,-73 396,-109\"/>\n",
       "<text text-anchor=\"middle\" x=\"358\" y=\"-87.3\" font-family=\"Times,serif\" font-size=\"14.00\">class = red</text>\n",
       "</g>\n",
       "<!-- 11&#45;&gt;13 -->\n",
       "<g id=\"edge13\" class=\"edge\">\n",
       "<title>11&#45;&gt;13</title>\n",
       "<path fill=\"none\" stroke=\"black\" d=\"M286.22,-145.83C298.53,-136.6 313.62,-125.29 326.78,-115.41\"/>\n",
       "<polygon fill=\"black\" stroke=\"black\" points=\"329.2,-117.97 335.1,-109.17 325,-112.37 329.2,-117.97\"/>\n",
       "</g>\n",
       "</g>\n",
       "</svg>\n"
      ],
      "text/plain": [
       "<graphviz.files.Source at 0x122c98a60>"
      ]
     },
     "execution_count": 27,
     "metadata": {
      "filenames": {
       "image/svg+xml": "/Users/icics-user/Documents/BAIT509/BAIT509/_build/jupyter_execute/lectures/lecture1_79_0.svg"
      }
     },
     "output_type": "execute_result"
    }
   ],
   "source": [
    "display_tree(X.columns, model, \"imgs/decision_tree\")"
   ]
  },
  {
   "cell_type": "markdown",
   "metadata": {},
   "source": [
    "Let's use our `new_example` object for this example."
   ]
  },
  {
   "cell_type": "code",
   "execution_count": 28,
   "metadata": {},
   "outputs": [
    {
     "data": {
      "text/html": [
       "<div>\n",
       "<style scoped>\n",
       "    .dataframe tbody tr th:only-of-type {\n",
       "        vertical-align: middle;\n",
       "    }\n",
       "\n",
       "    .dataframe tbody tr th {\n",
       "        vertical-align: top;\n",
       "    }\n",
       "\n",
       "    .dataframe thead th {\n",
       "        text-align: right;\n",
       "    }\n",
       "</style>\n",
       "<table border=\"1\" class=\"dataframe\">\n",
       "  <thead>\n",
       "    <tr style=\"text-align: right;\">\n",
       "      <th></th>\n",
       "      <th>lon</th>\n",
       "      <th>lat</th>\n",
       "    </tr>\n",
       "  </thead>\n",
       "  <tbody>\n",
       "    <tr>\n",
       "      <th>0</th>\n",
       "      <td>-87.4</td>\n",
       "      <td>59</td>\n",
       "    </tr>\n",
       "  </tbody>\n",
       "</table>\n",
       "</div>"
      ],
      "text/plain": [
       "    lon  lat\n",
       "0 -87.4   59"
      ]
     },
     "execution_count": 28,
     "metadata": {},
     "output_type": "execute_result"
    }
   ],
   "source": [
    "new_example"
   ]
  },
  {
   "cell_type": "markdown",
   "metadata": {},
   "source": [
    "First we start at the root. <br>\n",
    "Is `lon` < -102.165? False, so we go down the right branch. <br>\n",
    "Is `lon` < -81.529? True , so we go down the left branch . <br>\n",
    "We arrive at another node. Is `lat` < 41.113? True , so we go down the left branch and arrive at a prediction of `red`! <br>\n",
    "\n",
    "Let's check this using predict again. "
   ]
  },
  {
   "cell_type": "code",
   "execution_count": 29,
   "metadata": {},
   "outputs": [
    {
     "data": {
      "text/plain": [
       "array(['red'], dtype=object)"
      ]
     },
     "execution_count": 29,
     "metadata": {},
     "output_type": "execute_result"
    }
   ],
   "source": [
    "model.predict(new_example)"
   ]
  },
  {
   "cell_type": "markdown",
   "metadata": {},
   "source": [
    "Nice!"
   ]
  },
  {
   "cell_type": "markdown",
   "metadata": {},
   "source": [
    "### How does `.fit()` work?\n",
    "\n",
    "Or \"How does do Decision Trees decide what values to split on?\"\n",
    "\n",
    "\n",
    "We will not go into detail here, but there the important thing to note here is: \n",
    "\n",
    "- We evaluate the utility of a split using a mathematical formula (see [here](https://scikit-learn.org/stable/modules/tree.html#mathematical-formulation)) where we minimize impurity at each question/node (gives you the least hetegeneous splits)\n",
    "\n",
    "- Common criteria to minimize impurity\n",
    "    - Gini Index\n",
    "    - Information gain\n",
    "    - Cross entropy \n"
   ]
  },
  {
   "cell_type": "markdown",
   "metadata": {},
   "source": [
    "## Let's Practice! \n",
    "\n",
    "Using the data `candybars.csv` from the datafolder to aswer the following questions:\n",
    "\n",
    "1. How many features are there?\n",
    "2. How many observations are there? \n",
    "3. What would be a suitable target with this data?"
   ]
  },
  {
   "cell_type": "code",
   "execution_count": 30,
   "metadata": {},
   "outputs": [
    {
     "data": {
      "text/html": [
       "<div>\n",
       "<style scoped>\n",
       "    .dataframe tbody tr th:only-of-type {\n",
       "        vertical-align: middle;\n",
       "    }\n",
       "\n",
       "    .dataframe tbody tr th {\n",
       "        vertical-align: top;\n",
       "    }\n",
       "\n",
       "    .dataframe thead th {\n",
       "        text-align: right;\n",
       "    }\n",
       "</style>\n",
       "<table border=\"1\" class=\"dataframe\">\n",
       "  <thead>\n",
       "    <tr style=\"text-align: right;\">\n",
       "      <th></th>\n",
       "      <th>chocolate</th>\n",
       "      <th>peanuts</th>\n",
       "      <th>caramel</th>\n",
       "      <th>nougat</th>\n",
       "      <th>cookie_wafer_rice</th>\n",
       "      <th>coconut</th>\n",
       "      <th>white_chocolate</th>\n",
       "      <th>multi</th>\n",
       "      <th>availability</th>\n",
       "    </tr>\n",
       "    <tr>\n",
       "      <th>candy bar</th>\n",
       "      <th></th>\n",
       "      <th></th>\n",
       "      <th></th>\n",
       "      <th></th>\n",
       "      <th></th>\n",
       "      <th></th>\n",
       "      <th></th>\n",
       "      <th></th>\n",
       "      <th></th>\n",
       "    </tr>\n",
       "  </thead>\n",
       "  <tbody>\n",
       "    <tr>\n",
       "      <th>CoffeeCrisp</th>\n",
       "      <td>1</td>\n",
       "      <td>0</td>\n",
       "      <td>0</td>\n",
       "      <td>0</td>\n",
       "      <td>1</td>\n",
       "      <td>0</td>\n",
       "      <td>0</td>\n",
       "      <td>0</td>\n",
       "      <td>Canada</td>\n",
       "    </tr>\n",
       "    <tr>\n",
       "      <th>Butterfinger</th>\n",
       "      <td>1</td>\n",
       "      <td>1</td>\n",
       "      <td>1</td>\n",
       "      <td>0</td>\n",
       "      <td>0</td>\n",
       "      <td>0</td>\n",
       "      <td>0</td>\n",
       "      <td>0</td>\n",
       "      <td>America</td>\n",
       "    </tr>\n",
       "    <tr>\n",
       "      <th>Skor</th>\n",
       "      <td>1</td>\n",
       "      <td>0</td>\n",
       "      <td>1</td>\n",
       "      <td>0</td>\n",
       "      <td>0</td>\n",
       "      <td>0</td>\n",
       "      <td>0</td>\n",
       "      <td>0</td>\n",
       "      <td>Both</td>\n",
       "    </tr>\n",
       "    <tr>\n",
       "      <th>Smarties</th>\n",
       "      <td>1</td>\n",
       "      <td>0</td>\n",
       "      <td>0</td>\n",
       "      <td>0</td>\n",
       "      <td>0</td>\n",
       "      <td>0</td>\n",
       "      <td>0</td>\n",
       "      <td>1</td>\n",
       "      <td>Canada</td>\n",
       "    </tr>\n",
       "    <tr>\n",
       "      <th>Twix</th>\n",
       "      <td>1</td>\n",
       "      <td>0</td>\n",
       "      <td>1</td>\n",
       "      <td>0</td>\n",
       "      <td>1</td>\n",
       "      <td>0</td>\n",
       "      <td>0</td>\n",
       "      <td>1</td>\n",
       "      <td>Both</td>\n",
       "    </tr>\n",
       "  </tbody>\n",
       "</table>\n",
       "</div>"
      ],
      "text/plain": [
       "              chocolate  peanuts  caramel  nougat  cookie_wafer_rice  coconut  \\\n",
       "candy bar                                                                       \n",
       "CoffeeCrisp           1        0        0       0                  1        0   \n",
       "Butterfinger          1        1        1       0                  0        0   \n",
       "Skor                  1        0        1       0                  0        0   \n",
       "Smarties              1        0        0       0                  0        0   \n",
       "Twix                  1        0        1       0                  1        0   \n",
       "\n",
       "              white_chocolate  multi availability  \n",
       "candy bar                                          \n",
       "CoffeeCrisp                 0      0       Canada  \n",
       "Butterfinger                0      0      America  \n",
       "Skor                        0      0         Both  \n",
       "Smarties                    0      1       Canada  \n",
       "Twix                        0      1         Both  "
      ]
     },
     "execution_count": 30,
     "metadata": {},
     "output_type": "execute_result"
    }
   ],
   "source": [
    "candy_df = pd.read_csv('data/candybars.csv', index_col=0)\n",
    "candy_df.head()"
   ]
  },
  {
   "cell_type": "code",
   "execution_count": 31,
   "metadata": {},
   "outputs": [
    {
     "data": {
      "text/plain": [
       "(25, 9)"
      ]
     },
     "execution_count": 31,
     "metadata": {},
     "output_type": "execute_result"
    }
   ],
   "source": [
    "candy_df.shape"
   ]
  },
  {
   "cell_type": "markdown",
   "metadata": {},
   "source": [
    "***Answer as either `fit`  or `predict`***\n",
    "1. Is called first (before the other one).\n",
    "2. Only takes X as an argument.\n",
    "3. In scikit-learn, we can ignore its output.In scikit-learn, we can ignore its output.\n",
    "\n",
    "***Quick Questions***\n",
    "1. What is the top node in a decision tree called? \n",
    "2. What Python structure/syntax are the nodes in a decision tree similar to? "
   ]
  },
  {
   "cell_type": "markdown",
   "metadata": {},
   "source": [
    "## Parameters and Hyperparameters\n",
    "\n",
    "- ***Parameters***:  Derived during training\n",
    "- ***Hyperparameters***: Adjustable parameters that can be set before training. \n",
    "\n",
    "\n",
    "\n",
    "### Parameters \n",
    "\n",
    "When you call `fit` (the training stage of building your model), **parameters** get set, like the split variables and split thresholds. \n",
    "\n",
    "\n",
    "<img src='imgs/parameters.png'  width = \"30%\" alt=\"404 image\" />\n",
    " "
   ]
  },
  {
   "cell_type": "markdown",
   "metadata": {},
   "source": [
    "### Hyperparameters\n",
    "\n",
    "But even before calling `fit` on a specific data set, we can set some some \"knobs\" which that control the learning which are called **hyperparameters**. \n",
    "\n",
    "In scikit-learn, hyperparameters are set in the constructor.\n",
    "\n",
    "`max_depth`is a hyperparameter (of many) that lets us decide and set how \"deep\" we allow our tree to grow."
   ]
  },
  {
   "cell_type": "markdown",
   "metadata": {},
   "source": [
    "Let's practice by making a decision stump (A tree with a depth of 1). Our last model was made where we set the depth to \"unlimited\" so we need to initial a new model and train a new where where we set the `max_depth` hyperparameter. "
   ]
  },
  {
   "cell_type": "code",
   "execution_count": 32,
   "metadata": {},
   "outputs": [
    {
     "data": {
      "text/plain": [
       "DecisionTreeClassifier(max_depth=1)"
      ]
     },
     "execution_count": 32,
     "metadata": {},
     "output_type": "execute_result"
    }
   ],
   "source": [
    "model_1 = DecisionTreeClassifier(max_depth=1).fit(X, y)\n",
    "model_1.fit(X, y)"
   ]
  },
  {
   "cell_type": "markdown",
   "metadata": {},
   "source": [
    "Let's see what the tree looks like now.  "
   ]
  },
  {
   "cell_type": "code",
   "execution_count": 33,
   "metadata": {},
   "outputs": [
    {
     "data": {
      "image/svg+xml": [
       "<?xml version=\"1.0\" encoding=\"UTF-8\" standalone=\"no\"?>\n",
       "<!DOCTYPE svg PUBLIC \"-//W3C//DTD SVG 1.1//EN\"\n",
       " \"http://www.w3.org/Graphics/SVG/1.1/DTD/svg11.dtd\">\n",
       "<!-- Generated by graphviz version 2.44.1 (20200629.0846)\n",
       " -->\n",
       "<!-- Title: Tree Pages: 1 -->\n",
       "<svg width=\"184pt\" height=\"118pt\"\n",
       " viewBox=\"0.00 0.00 184.00 118.00\" xmlns=\"http://www.w3.org/2000/svg\" xmlns:xlink=\"http://www.w3.org/1999/xlink\">\n",
       "<g id=\"graph0\" class=\"graph\" transform=\"scale(1 1) rotate(0) translate(4 114)\">\n",
       "<title>Tree</title>\n",
       "<polygon fill=\"white\" stroke=\"transparent\" points=\"-4,4 -4,-114 180,-114 180,4 -4,4\"/>\n",
       "<!-- 0 -->\n",
       "<g id=\"node1\" class=\"node\">\n",
       "<title>0</title>\n",
       "<polygon fill=\"none\" stroke=\"black\" points=\"142.5,-110 35.5,-110 35.5,-72 142.5,-72 142.5,-110\"/>\n",
       "<text text-anchor=\"middle\" x=\"89\" y=\"-94.8\" font-family=\"Times,serif\" font-size=\"14.00\">lon &lt;= &#45;102.165</text>\n",
       "<text text-anchor=\"middle\" x=\"89\" y=\"-79.8\" font-family=\"Times,serif\" font-size=\"14.00\">class = red</text>\n",
       "</g>\n",
       "<!-- 1 -->\n",
       "<g id=\"node2\" class=\"node\">\n",
       "<title>1</title>\n",
       "<polygon fill=\"none\" stroke=\"black\" points=\"82,-36 0,-36 0,0 82,0 82,-36\"/>\n",
       "<text text-anchor=\"middle\" x=\"41\" y=\"-14.3\" font-family=\"Times,serif\" font-size=\"14.00\">class = blue</text>\n",
       "</g>\n",
       "<!-- 0&#45;&gt;1 -->\n",
       "<g id=\"edge1\" class=\"edge\">\n",
       "<title>0&#45;&gt;1</title>\n",
       "<path fill=\"none\" stroke=\"black\" d=\"M76.64,-71.72C71,-63.37 64.22,-53.35 58.1,-44.3\"/>\n",
       "<polygon fill=\"black\" stroke=\"black\" points=\"61,-42.33 52.5,-36 55.2,-46.25 61,-42.33\"/>\n",
       "<text text-anchor=\"middle\" x=\"47.75\" y=\"-56.85\" font-family=\"Times,serif\" font-size=\"14.00\">True</text>\n",
       "</g>\n",
       "<!-- 2 -->\n",
       "<g id=\"node3\" class=\"node\">\n",
       "<title>2</title>\n",
       "<polygon fill=\"none\" stroke=\"black\" points=\"176,-36 100,-36 100,0 176,0 176,-36\"/>\n",
       "<text text-anchor=\"middle\" x=\"138\" y=\"-14.3\" font-family=\"Times,serif\" font-size=\"14.00\">class = red</text>\n",
       "</g>\n",
       "<!-- 0&#45;&gt;2 -->\n",
       "<g id=\"edge2\" class=\"edge\">\n",
       "<title>0&#45;&gt;2</title>\n",
       "<path fill=\"none\" stroke=\"black\" d=\"M101.62,-71.72C107.38,-63.37 114.29,-53.35 120.54,-44.3\"/>\n",
       "<polygon fill=\"black\" stroke=\"black\" points=\"123.47,-46.22 126.27,-36 117.7,-42.25 123.47,-46.22\"/>\n",
       "<text text-anchor=\"middle\" x=\"130.77\" y=\"-56.89\" font-family=\"Times,serif\" font-size=\"14.00\">False</text>\n",
       "</g>\n",
       "</g>\n",
       "</svg>\n"
      ],
      "text/plain": [
       "<graphviz.files.Source at 0x12582d520>"
      ]
     },
     "execution_count": 33,
     "metadata": {
      "filenames": {
       "image/svg+xml": "/Users/icics-user/Documents/BAIT509/BAIT509/_build/jupyter_execute/lectures/lecture1_95_0.svg"
      }
     },
     "output_type": "execute_result"
    }
   ],
   "source": [
    "display_tree(X.columns, model_1, \"imgs/decision_stump\")"
   ]
  },
  {
   "cell_type": "markdown",
   "metadata": {},
   "source": [
    "We see that it's a depth of one and split on `lon` at -102.165. \n",
    "\n",
    "- The hyperparameter `max_depth`  is being set by us at 1.\n",
    "- The parameter `lon` is set by the algorithm at -102.165. "
   ]
  },
  {
   "cell_type": "markdown",
   "metadata": {},
   "source": [
    "We can see the decision boundary at `lon`= -102.165 with the vertical line in the plot below. "
   ]
  },
  {
   "cell_type": "code",
   "execution_count": 34,
   "metadata": {},
   "outputs": [
    {
     "data": {
      "image/png": "[encoded data removed]",
      "text/plain": [
       "<Figure size 432x288 with 1 Axes>"
      ]
     },
     "metadata": {
      "filenames": {
       "image/png": "/Users/icics-user/Documents/BAIT509/BAIT509/_build/jupyter_execute/lectures/lecture1_98_0.png"
      },
      "needs_background": "light"
     },
     "output_type": "display_data"
    }
   ],
   "source": [
    "plot_classifier(X, y, model_1, ticks=True)\n",
    "plt.xticks(fontsize= 20);\n",
    "plt.yticks(fontsize= 20);\n",
    "plt.xlabel('lon', fontsize=20);\n",
    "plt.ylabel('lat', fontsize=20);  "
   ]
  },
  {
   "cell_type": "markdown",
   "metadata": {},
   "source": [
    "- Looking  at the score of this model, we get an accuracy of 75%."
   ]
  },
  {
   "cell_type": "code",
   "execution_count": 35,
   "metadata": {},
   "outputs": [
    {
     "data": {
      "text/plain": [
       "0.75"
      ]
     },
     "execution_count": 35,
     "metadata": {},
     "output_type": "execute_result"
    }
   ],
   "source": [
    "model_1.score(X, y)"
   ]
  },
  {
   "cell_type": "markdown",
   "metadata": {},
   "source": [
    "Let's try growing a more complex tree model and now set `max_depth = 3`"
   ]
  },
  {
   "cell_type": "code",
   "execution_count": 36,
   "metadata": {},
   "outputs": [],
   "source": [
    "model_3 = DecisionTreeClassifier(max_depth=3).fit(X, y)"
   ]
  },
  {
   "cell_type": "code",
   "execution_count": 37,
   "metadata": {},
   "outputs": [
    {
     "data": {
      "image/svg+xml": [
       "<?xml version=\"1.0\" encoding=\"UTF-8\" standalone=\"no\"?>\n",
       "<!DOCTYPE svg PUBLIC \"-//W3C//DTD SVG 1.1//EN\"\n",
       " \"http://www.w3.org/Graphics/SVG/1.1/DTD/svg11.dtd\">\n",
       "<!-- Generated by graphviz version 2.44.1 (20200629.0846)\n",
       " -->\n",
       "<!-- Title: Tree Pages: 1 -->\n",
       "<svg width=\"384pt\" height=\"266pt\"\n",
       " viewBox=\"0.00 0.00 384.00 266.00\" xmlns=\"http://www.w3.org/2000/svg\" xmlns:xlink=\"http://www.w3.org/1999/xlink\">\n",
       "<g id=\"graph0\" class=\"graph\" transform=\"scale(1 1) rotate(0) translate(4 262)\">\n",
       "<title>Tree</title>\n",
       "<polygon fill=\"white\" stroke=\"transparent\" points=\"-4,4 -4,-262 380,-262 380,4 -4,4\"/>\n",
       "<!-- 0 -->\n",
       "<g id=\"node1\" class=\"node\">\n",
       "<title>0</title>\n",
       "<polygon fill=\"none\" stroke=\"black\" points=\"184.5,-258 77.5,-258 77.5,-220 184.5,-220 184.5,-258\"/>\n",
       "<text text-anchor=\"middle\" x=\"131\" y=\"-242.8\" font-family=\"Times,serif\" font-size=\"14.00\">lon &lt;= &#45;102.165</text>\n",
       "<text text-anchor=\"middle\" x=\"131\" y=\"-227.8\" font-family=\"Times,serif\" font-size=\"14.00\">class = red</text>\n",
       "</g>\n",
       "<!-- 1 -->\n",
       "<g id=\"node2\" class=\"node\">\n",
       "<title>1</title>\n",
       "<polygon fill=\"none\" stroke=\"black\" points=\"118,-183 36,-183 36,-147 118,-147 118,-183\"/>\n",
       "<text text-anchor=\"middle\" x=\"77\" y=\"-161.3\" font-family=\"Times,serif\" font-size=\"14.00\">class = blue</text>\n",
       "</g>\n",
       "<!-- 0&#45;&gt;1 -->\n",
       "<g id=\"edge1\" class=\"edge\">\n",
       "<title>0&#45;&gt;1</title>\n",
       "<path fill=\"none\" stroke=\"black\" d=\"M117.37,-219.83C110.96,-211.28 103.21,-200.94 96.21,-191.62\"/>\n",
       "<polygon fill=\"black\" stroke=\"black\" points=\"98.86,-189.32 90.06,-183.42 93.26,-193.52 98.86,-189.32\"/>\n",
       "<text text-anchor=\"middle\" x=\"86.53\" y=\"-204.47\" font-family=\"Times,serif\" font-size=\"14.00\">True</text>\n",
       "</g>\n",
       "<!-- 2 -->\n",
       "<g id=\"node3\" class=\"node\">\n",
       "<title>2</title>\n",
       "<polygon fill=\"none\" stroke=\"black\" points=\"236,-184 136,-184 136,-146 236,-146 236,-184\"/>\n",
       "<text text-anchor=\"middle\" x=\"186\" y=\"-168.8\" font-family=\"Times,serif\" font-size=\"14.00\">lon &lt;= &#45;82.517</text>\n",
       "<text text-anchor=\"middle\" x=\"186\" y=\"-153.8\" font-family=\"Times,serif\" font-size=\"14.00\">class = red</text>\n",
       "</g>\n",
       "<!-- 0&#45;&gt;2 -->\n",
       "<g id=\"edge2\" class=\"edge\">\n",
       "<title>0&#45;&gt;2</title>\n",
       "<path fill=\"none\" stroke=\"black\" d=\"M144.88,-219.83C151.21,-211.54 158.84,-201.56 165.79,-192.45\"/>\n",
       "<polygon fill=\"black\" stroke=\"black\" points=\"168.65,-194.48 171.93,-184.41 163.08,-190.24 168.65,-194.48\"/>\n",
       "<text text-anchor=\"middle\" x=\"175.25\" y=\"-205.49\" font-family=\"Times,serif\" font-size=\"14.00\">False</text>\n",
       "</g>\n",
       "<!-- 3 -->\n",
       "<g id=\"node4\" class=\"node\">\n",
       "<title>3</title>\n",
       "<polygon fill=\"none\" stroke=\"black\" points=\"177,-110 85,-110 85,-72 177,-72 177,-110\"/>\n",
       "<text text-anchor=\"middle\" x=\"131\" y=\"-94.8\" font-family=\"Times,serif\" font-size=\"14.00\">lat &lt;= 41.113</text>\n",
       "<text text-anchor=\"middle\" x=\"131\" y=\"-79.8\" font-family=\"Times,serif\" font-size=\"14.00\">class = red</text>\n",
       "</g>\n",
       "<!-- 2&#45;&gt;3 -->\n",
       "<g id=\"edge3\" class=\"edge\">\n",
       "<title>2&#45;&gt;3</title>\n",
       "<path fill=\"none\" stroke=\"black\" d=\"M172.12,-145.83C165.79,-137.54 158.16,-127.56 151.21,-118.45\"/>\n",
       "<polygon fill=\"black\" stroke=\"black\" points=\"153.92,-116.24 145.07,-110.41 148.35,-120.48 153.92,-116.24\"/>\n",
       "</g>\n",
       "<!-- 6 -->\n",
       "<g id=\"node7\" class=\"node\">\n",
       "<title>6</title>\n",
       "<polygon fill=\"none\" stroke=\"black\" points=\"287,-110 195,-110 195,-72 287,-72 287,-110\"/>\n",
       "<text text-anchor=\"middle\" x=\"241\" y=\"-94.8\" font-family=\"Times,serif\" font-size=\"14.00\">lat &lt;= 35.763</text>\n",
       "<text text-anchor=\"middle\" x=\"241\" y=\"-79.8\" font-family=\"Times,serif\" font-size=\"14.00\">class = blue</text>\n",
       "</g>\n",
       "<!-- 2&#45;&gt;6 -->\n",
       "<g id=\"edge6\" class=\"edge\">\n",
       "<title>2&#45;&gt;6</title>\n",
       "<path fill=\"none\" stroke=\"black\" d=\"M199.88,-145.83C206.21,-137.54 213.84,-127.56 220.79,-118.45\"/>\n",
       "<polygon fill=\"black\" stroke=\"black\" points=\"223.65,-120.48 226.93,-110.41 218.08,-116.24 223.65,-120.48\"/>\n",
       "</g>\n",
       "<!-- 4 -->\n",
       "<g id=\"node5\" class=\"node\">\n",
       "<title>4</title>\n",
       "<polygon fill=\"none\" stroke=\"black\" points=\"76,-36 0,-36 0,0 76,0 76,-36\"/>\n",
       "<text text-anchor=\"middle\" x=\"38\" y=\"-14.3\" font-family=\"Times,serif\" font-size=\"14.00\">class = red</text>\n",
       "</g>\n",
       "<!-- 3&#45;&gt;4 -->\n",
       "<g id=\"edge4\" class=\"edge\">\n",
       "<title>3&#45;&gt;4</title>\n",
       "<path fill=\"none\" stroke=\"black\" d=\"M107.05,-71.72C95.22,-62.68 80.82,-51.69 68.23,-42.08\"/>\n",
       "<polygon fill=\"black\" stroke=\"black\" points=\"70.34,-39.29 60.27,-36 66.1,-44.85 70.34,-39.29\"/>\n",
       "</g>\n",
       "<!-- 5 -->\n",
       "<g id=\"node6\" class=\"node\">\n",
       "<title>5</title>\n",
       "<polygon fill=\"none\" stroke=\"black\" points=\"176,-36 94,-36 94,0 176,0 176,-36\"/>\n",
       "<text text-anchor=\"middle\" x=\"135\" y=\"-14.3\" font-family=\"Times,serif\" font-size=\"14.00\">class = blue</text>\n",
       "</g>\n",
       "<!-- 3&#45;&gt;5 -->\n",
       "<g id=\"edge5\" class=\"edge\">\n",
       "<title>3&#45;&gt;5</title>\n",
       "<path fill=\"none\" stroke=\"black\" d=\"M132.03,-71.72C132.47,-63.89 133,-54.59 133.48,-45.99\"/>\n",
       "<polygon fill=\"black\" stroke=\"black\" points=\"136.97,-46.18 134.04,-36 129.99,-45.79 136.97,-46.18\"/>\n",
       "</g>\n",
       "<!-- 7 -->\n",
       "<g id=\"node8\" class=\"node\">\n",
       "<title>7</title>\n",
       "<polygon fill=\"none\" stroke=\"black\" points=\"276,-36 200,-36 200,0 276,0 276,-36\"/>\n",
       "<text text-anchor=\"middle\" x=\"238\" y=\"-14.3\" font-family=\"Times,serif\" font-size=\"14.00\">class = red</text>\n",
       "</g>\n",
       "<!-- 6&#45;&gt;7 -->\n",
       "<g id=\"edge7\" class=\"edge\">\n",
       "<title>6&#45;&gt;7</title>\n",
       "<path fill=\"none\" stroke=\"black\" d=\"M240.23,-71.72C239.9,-63.97 239.51,-54.79 239.15,-46.27\"/>\n",
       "<polygon fill=\"black\" stroke=\"black\" points=\"242.64,-45.85 238.72,-36 235.64,-46.14 242.64,-45.85\"/>\n",
       "</g>\n",
       "<!-- 8 -->\n",
       "<g id=\"node9\" class=\"node\">\n",
       "<title>8</title>\n",
       "<polygon fill=\"none\" stroke=\"black\" points=\"376,-36 294,-36 294,0 376,0 376,-36\"/>\n",
       "<text text-anchor=\"middle\" x=\"335\" y=\"-14.3\" font-family=\"Times,serif\" font-size=\"14.00\">class = blue</text>\n",
       "</g>\n",
       "<!-- 6&#45;&gt;8 -->\n",
       "<g id=\"edge8\" class=\"edge\">\n",
       "<title>6&#45;&gt;8</title>\n",
       "<path fill=\"none\" stroke=\"black\" d=\"M265.21,-71.72C277.17,-62.68 291.72,-51.69 304.44,-42.08\"/>\n",
       "<polygon fill=\"black\" stroke=\"black\" points=\"306.62,-44.82 312.49,-36 302.4,-39.24 306.62,-44.82\"/>\n",
       "</g>\n",
       "</g>\n",
       "</svg>\n"
      ],
      "text/plain": [
       "<graphviz.files.Source at 0x105813cd0>"
      ]
     },
     "execution_count": 37,
     "metadata": {
      "filenames": {
       "image/svg+xml": "/Users/icics-user/Documents/BAIT509/BAIT509/_build/jupyter_execute/lectures/lecture1_103_0.svg"
      }
     },
     "output_type": "execute_result"
    }
   ],
   "source": [
    "display_tree(X.columns, model_3, \"imgs/dt_2\")"
   ]
  },
  {
   "cell_type": "markdown",
   "metadata": {},
   "source": [
    "This has 4 splits in the tree so we expect 4 decision boundaries (2 on `lon` and 2 on `lat`). "
   ]
  },
  {
   "cell_type": "code",
   "execution_count": 38,
   "metadata": {},
   "outputs": [
    {
     "data": {
      "image/png": "[encoded data removed]",
      "text/plain": [
       "<Figure size 432x288 with 1 Axes>"
      ]
     },
     "metadata": {
      "filenames": {
       "image/png": "/Users/icics-user/Documents/BAIT509/BAIT509/_build/jupyter_execute/lectures/lecture1_105_0.png"
      },
      "needs_background": "light"
     },
     "output_type": "display_data"
    }
   ],
   "source": [
    "plot_classifier(X, y, model_3, ticks=True)\n",
    "plt.xticks(fontsize= 20);\n",
    "plt.yticks(fontsize= 20);\n",
    "plt.xlabel('lon', fontsize=20);\n",
    "plt.ylabel('lat', fontsize=20);  "
   ]
  },
  {
   "cell_type": "markdown",
   "metadata": {},
   "source": [
    "- Looking at the score of this model now get an accuracy of 90%! "
   ]
  },
  {
   "cell_type": "code",
   "execution_count": 39,
   "metadata": {},
   "outputs": [
    {
     "data": {
      "text/plain": [
       "0.9"
      ]
     },
     "execution_count": 39,
     "metadata": {},
     "output_type": "execute_result"
    }
   ],
   "source": [
    "model_3.score(X, y)"
   ]
  },
  {
   "cell_type": "markdown",
   "metadata": {},
   "source": [
    "Let's do one more and set `max_depth = 5`."
   ]
  },
  {
   "cell_type": "code",
   "execution_count": 40,
   "metadata": {},
   "outputs": [],
   "source": [
    "model_5 = DecisionTreeClassifier(max_depth=5).fit(X, y)"
   ]
  },
  {
   "cell_type": "code",
   "execution_count": 41,
   "metadata": {},
   "outputs": [
    {
     "data": {
      "image/svg+xml": [
       "<?xml version=\"1.0\" encoding=\"UTF-8\" standalone=\"no\"?>\n",
       "<!DOCTYPE svg PUBLIC \"-//W3C//DTD SVG 1.1//EN\"\n",
       " \"http://www.w3.org/Graphics/SVG/1.1/DTD/svg11.dtd\">\n",
       "<!-- Generated by graphviz version 2.44.1 (20200629.0846)\n",
       " -->\n",
       "<!-- Title: Tree Pages: 1 -->\n",
       "<svg width=\"416pt\" height=\"414pt\"\n",
       " viewBox=\"0.00 0.00 416.00 414.00\" xmlns=\"http://www.w3.org/2000/svg\" xmlns:xlink=\"http://www.w3.org/1999/xlink\">\n",
       "<g id=\"graph0\" class=\"graph\" transform=\"scale(1 1) rotate(0) translate(4 410)\">\n",
       "<title>Tree</title>\n",
       "<polygon fill=\"white\" stroke=\"transparent\" points=\"-4,4 -4,-410 412,-410 412,4 -4,4\"/>\n",
       "<!-- 0 -->\n",
       "<g id=\"node1\" class=\"node\">\n",
       "<title>0</title>\n",
       "<polygon fill=\"none\" stroke=\"black\" points=\"199.5,-406 92.5,-406 92.5,-368 199.5,-368 199.5,-406\"/>\n",
       "<text text-anchor=\"middle\" x=\"146\" y=\"-390.8\" font-family=\"Times,serif\" font-size=\"14.00\">lon &lt;= &#45;102.165</text>\n",
       "<text text-anchor=\"middle\" x=\"146\" y=\"-375.8\" font-family=\"Times,serif\" font-size=\"14.00\">class = red</text>\n",
       "</g>\n",
       "<!-- 1 -->\n",
       "<g id=\"node2\" class=\"node\">\n",
       "<title>1</title>\n",
       "<polygon fill=\"none\" stroke=\"black\" points=\"133,-331 51,-331 51,-295 133,-295 133,-331\"/>\n",
       "<text text-anchor=\"middle\" x=\"92\" y=\"-309.3\" font-family=\"Times,serif\" font-size=\"14.00\">class = blue</text>\n",
       "</g>\n",
       "<!-- 0&#45;&gt;1 -->\n",
       "<g id=\"edge1\" class=\"edge\">\n",
       "<title>0&#45;&gt;1</title>\n",
       "<path fill=\"none\" stroke=\"black\" d=\"M132.37,-367.83C125.96,-359.28 118.21,-348.94 111.21,-339.62\"/>\n",
       "<polygon fill=\"black\" stroke=\"black\" points=\"113.86,-337.32 105.06,-331.42 108.26,-341.52 113.86,-337.32\"/>\n",
       "<text text-anchor=\"middle\" x=\"101.53\" y=\"-352.47\" font-family=\"Times,serif\" font-size=\"14.00\">True</text>\n",
       "</g>\n",
       "<!-- 2 -->\n",
       "<g id=\"node3\" class=\"node\">\n",
       "<title>2</title>\n",
       "<polygon fill=\"none\" stroke=\"black\" points=\"251,-332 151,-332 151,-294 251,-294 251,-332\"/>\n",
       "<text text-anchor=\"middle\" x=\"201\" y=\"-316.8\" font-family=\"Times,serif\" font-size=\"14.00\">lon &lt;= &#45;82.517</text>\n",
       "<text text-anchor=\"middle\" x=\"201\" y=\"-301.8\" font-family=\"Times,serif\" font-size=\"14.00\">class = red</text>\n",
       "</g>\n",
       "<!-- 0&#45;&gt;2 -->\n",
       "<g id=\"edge2\" class=\"edge\">\n",
       "<title>0&#45;&gt;2</title>\n",
       "<path fill=\"none\" stroke=\"black\" d=\"M159.88,-367.83C166.21,-359.54 173.84,-349.56 180.79,-340.45\"/>\n",
       "<polygon fill=\"black\" stroke=\"black\" points=\"183.65,-342.48 186.93,-332.41 178.08,-338.24 183.65,-342.48\"/>\n",
       "<text text-anchor=\"middle\" x=\"190.25\" y=\"-353.49\" font-family=\"Times,serif\" font-size=\"14.00\">False</text>\n",
       "</g>\n",
       "<!-- 3 -->\n",
       "<g id=\"node4\" class=\"node\">\n",
       "<title>3</title>\n",
       "<polygon fill=\"none\" stroke=\"black\" points=\"190,-258 98,-258 98,-220 190,-220 190,-258\"/>\n",
       "<text text-anchor=\"middle\" x=\"144\" y=\"-242.8\" font-family=\"Times,serif\" font-size=\"14.00\">lat &lt;= 41.113</text>\n",
       "<text text-anchor=\"middle\" x=\"144\" y=\"-227.8\" font-family=\"Times,serif\" font-size=\"14.00\">class = red</text>\n",
       "</g>\n",
       "<!-- 2&#45;&gt;3 -->\n",
       "<g id=\"edge3\" class=\"edge\">\n",
       "<title>2&#45;&gt;3</title>\n",
       "<path fill=\"none\" stroke=\"black\" d=\"M186.62,-293.83C180.05,-285.54 172.15,-275.56 164.94,-266.45\"/>\n",
       "<polygon fill=\"black\" stroke=\"black\" points=\"167.53,-264.08 158.58,-258.41 162.04,-268.43 167.53,-264.08\"/>\n",
       "</g>\n",
       "<!-- 10 -->\n",
       "<g id=\"node11\" class=\"node\">\n",
       "<title>10</title>\n",
       "<polygon fill=\"none\" stroke=\"black\" points=\"304,-258 212,-258 212,-220 304,-220 304,-258\"/>\n",
       "<text text-anchor=\"middle\" x=\"258\" y=\"-242.8\" font-family=\"Times,serif\" font-size=\"14.00\">lat &lt;= 35.763</text>\n",
       "<text text-anchor=\"middle\" x=\"258\" y=\"-227.8\" font-family=\"Times,serif\" font-size=\"14.00\">class = blue</text>\n",
       "</g>\n",
       "<!-- 2&#45;&gt;10 -->\n",
       "<g id=\"edge10\" class=\"edge\">\n",
       "<title>2&#45;&gt;10</title>\n",
       "<path fill=\"none\" stroke=\"black\" d=\"M215.38,-293.83C221.95,-285.54 229.85,-275.56 237.06,-266.45\"/>\n",
       "<polygon fill=\"black\" stroke=\"black\" points=\"239.96,-268.43 243.42,-258.41 234.47,-264.08 239.96,-268.43\"/>\n",
       "</g>\n",
       "<!-- 4 -->\n",
       "<g id=\"node5\" class=\"node\">\n",
       "<title>4</title>\n",
       "<polygon fill=\"none\" stroke=\"black\" points=\"80,-183 4,-183 4,-147 80,-147 80,-183\"/>\n",
       "<text text-anchor=\"middle\" x=\"42\" y=\"-161.3\" font-family=\"Times,serif\" font-size=\"14.00\">class = red</text>\n",
       "</g>\n",
       "<!-- 3&#45;&gt;4 -->\n",
       "<g id=\"edge4\" class=\"edge\">\n",
       "<title>3&#45;&gt;4</title>\n",
       "<path fill=\"none\" stroke=\"black\" d=\"M118.26,-219.83C105.07,-210.52 88.85,-199.07 74.77,-189.13\"/>\n",
       "<polygon fill=\"black\" stroke=\"black\" points=\"76.51,-186.08 66.33,-183.17 72.48,-191.8 76.51,-186.08\"/>\n",
       "</g>\n",
       "<!-- 5 -->\n",
       "<g id=\"node6\" class=\"node\">\n",
       "<title>5</title>\n",
       "<polygon fill=\"none\" stroke=\"black\" points=\"190,-184 98,-184 98,-146 190,-146 190,-184\"/>\n",
       "<text text-anchor=\"middle\" x=\"144\" y=\"-168.8\" font-family=\"Times,serif\" font-size=\"14.00\">lat &lt;= 41.532</text>\n",
       "<text text-anchor=\"middle\" x=\"144\" y=\"-153.8\" font-family=\"Times,serif\" font-size=\"14.00\">class = blue</text>\n",
       "</g>\n",
       "<!-- 3&#45;&gt;5 -->\n",
       "<g id=\"edge5\" class=\"edge\">\n",
       "<title>3&#45;&gt;5</title>\n",
       "<path fill=\"none\" stroke=\"black\" d=\"M144,-219.83C144,-212.13 144,-202.97 144,-194.42\"/>\n",
       "<polygon fill=\"black\" stroke=\"black\" points=\"147.5,-194.41 144,-184.41 140.5,-194.41 147.5,-194.41\"/>\n",
       "</g>\n",
       "<!-- 6 -->\n",
       "<g id=\"node7\" class=\"node\">\n",
       "<title>6</title>\n",
       "<polygon fill=\"none\" stroke=\"black\" points=\"82,-109 0,-109 0,-73 82,-73 82,-109\"/>\n",
       "<text text-anchor=\"middle\" x=\"41\" y=\"-87.3\" font-family=\"Times,serif\" font-size=\"14.00\">class = blue</text>\n",
       "</g>\n",
       "<!-- 5&#45;&gt;6 -->\n",
       "<g id=\"edge6\" class=\"edge\">\n",
       "<title>5&#45;&gt;6</title>\n",
       "<path fill=\"none\" stroke=\"black\" d=\"M118.01,-145.83C104.68,-136.52 88.31,-125.07 74.09,-115.13\"/>\n",
       "<polygon fill=\"black\" stroke=\"black\" points=\"75.77,-112.03 65.56,-109.17 71.76,-117.77 75.77,-112.03\"/>\n",
       "</g>\n",
       "<!-- 7 -->\n",
       "<g id=\"node8\" class=\"node\">\n",
       "<title>7</title>\n",
       "<polygon fill=\"none\" stroke=\"black\" points=\"192,-110 100,-110 100,-72 192,-72 192,-110\"/>\n",
       "<text text-anchor=\"middle\" x=\"146\" y=\"-94.8\" font-family=\"Times,serif\" font-size=\"14.00\">lat &lt;= 42.165</text>\n",
       "<text text-anchor=\"middle\" x=\"146\" y=\"-79.8\" font-family=\"Times,serif\" font-size=\"14.00\">class = blue</text>\n",
       "</g>\n",
       "<!-- 5&#45;&gt;7 -->\n",
       "<g id=\"edge7\" class=\"edge\">\n",
       "<title>5&#45;&gt;7</title>\n",
       "<path fill=\"none\" stroke=\"black\" d=\"M144.5,-145.83C144.72,-138.13 144.97,-128.97 145.21,-120.42\"/>\n",
       "<polygon fill=\"black\" stroke=\"black\" points=\"148.71,-120.51 145.49,-110.41 141.71,-120.31 148.71,-120.51\"/>\n",
       "</g>\n",
       "<!-- 8 -->\n",
       "<g id=\"node9\" class=\"node\">\n",
       "<title>8</title>\n",
       "<polygon fill=\"none\" stroke=\"black\" points=\"135,-36 59,-36 59,0 135,0 135,-36\"/>\n",
       "<text text-anchor=\"middle\" x=\"97\" y=\"-14.3\" font-family=\"Times,serif\" font-size=\"14.00\">class = red</text>\n",
       "</g>\n",
       "<!-- 7&#45;&gt;8 -->\n",
       "<g id=\"edge8\" class=\"edge\">\n",
       "<title>7&#45;&gt;8</title>\n",
       "<path fill=\"none\" stroke=\"black\" d=\"M133.38,-71.72C127.62,-63.37 120.71,-53.35 114.46,-44.3\"/>\n",
       "<polygon fill=\"black\" stroke=\"black\" points=\"117.3,-42.25 108.73,-36 111.53,-46.22 117.3,-42.25\"/>\n",
       "</g>\n",
       "<!-- 9 -->\n",
       "<g id=\"node10\" class=\"node\">\n",
       "<title>9</title>\n",
       "<polygon fill=\"none\" stroke=\"black\" points=\"235,-36 153,-36 153,0 235,0 235,-36\"/>\n",
       "<text text-anchor=\"middle\" x=\"194\" y=\"-14.3\" font-family=\"Times,serif\" font-size=\"14.00\">class = blue</text>\n",
       "</g>\n",
       "<!-- 7&#45;&gt;9 -->\n",
       "<g id=\"edge9\" class=\"edge\">\n",
       "<title>7&#45;&gt;9</title>\n",
       "<path fill=\"none\" stroke=\"black\" d=\"M158.36,-71.72C164,-63.37 170.78,-53.35 176.9,-44.3\"/>\n",
       "<polygon fill=\"black\" stroke=\"black\" points=\"179.8,-46.25 182.5,-36 174,-42.33 179.8,-46.25\"/>\n",
       "</g>\n",
       "<!-- 11 -->\n",
       "<g id=\"node12\" class=\"node\">\n",
       "<title>11</title>\n",
       "<polygon fill=\"none\" stroke=\"black\" points=\"308,-184 208,-184 208,-146 308,-146 308,-184\"/>\n",
       "<text text-anchor=\"middle\" x=\"258\" y=\"-168.8\" font-family=\"Times,serif\" font-size=\"14.00\">lon &lt;= &#45;81.529</text>\n",
       "<text text-anchor=\"middle\" x=\"258\" y=\"-153.8\" font-family=\"Times,serif\" font-size=\"14.00\">class = red</text>\n",
       "</g>\n",
       "<!-- 10&#45;&gt;11 -->\n",
       "<g id=\"edge11\" class=\"edge\">\n",
       "<title>10&#45;&gt;11</title>\n",
       "<path fill=\"none\" stroke=\"black\" d=\"M258,-219.83C258,-212.13 258,-202.97 258,-194.42\"/>\n",
       "<polygon fill=\"black\" stroke=\"black\" points=\"261.5,-194.41 258,-184.41 254.5,-194.41 261.5,-194.41\"/>\n",
       "</g>\n",
       "<!-- 14 -->\n",
       "<g id=\"node15\" class=\"node\">\n",
       "<title>14</title>\n",
       "<polygon fill=\"none\" stroke=\"black\" points=\"408,-183 326,-183 326,-147 408,-147 408,-183\"/>\n",
       "<text text-anchor=\"middle\" x=\"367\" y=\"-161.3\" font-family=\"Times,serif\" font-size=\"14.00\">class = blue</text>\n",
       "</g>\n",
       "<!-- 10&#45;&gt;14 -->\n",
       "<g id=\"edge14\" class=\"edge\">\n",
       "<title>10&#45;&gt;14</title>\n",
       "<path fill=\"none\" stroke=\"black\" d=\"M285.51,-219.83C299.74,-210.43 317.26,-198.86 332.41,-188.85\"/>\n",
       "<polygon fill=\"black\" stroke=\"black\" points=\"334.59,-191.6 341,-183.17 330.73,-185.76 334.59,-191.6\"/>\n",
       "</g>\n",
       "<!-- 12 -->\n",
       "<g id=\"node13\" class=\"node\">\n",
       "<title>12</title>\n",
       "<polygon fill=\"none\" stroke=\"black\" points=\"296,-109 214,-109 214,-73 296,-73 296,-109\"/>\n",
       "<text text-anchor=\"middle\" x=\"255\" y=\"-87.3\" font-family=\"Times,serif\" font-size=\"14.00\">class = blue</text>\n",
       "</g>\n",
       "<!-- 11&#45;&gt;12 -->\n",
       "<g id=\"edge12\" class=\"edge\">\n",
       "<title>11&#45;&gt;12</title>\n",
       "<path fill=\"none\" stroke=\"black\" d=\"M257.24,-145.83C256.91,-137.89 256.52,-128.41 256.15,-119.63\"/>\n",
       "<polygon fill=\"black\" stroke=\"black\" points=\"259.64,-119.26 255.73,-109.42 252.65,-119.55 259.64,-119.26\"/>\n",
       "</g>\n",
       "<!-- 13 -->\n",
       "<g id=\"node14\" class=\"node\">\n",
       "<title>13</title>\n",
       "<polygon fill=\"none\" stroke=\"black\" points=\"390,-109 314,-109 314,-73 390,-73 390,-109\"/>\n",
       "<text text-anchor=\"middle\" x=\"352\" y=\"-87.3\" font-family=\"Times,serif\" font-size=\"14.00\">class = red</text>\n",
       "</g>\n",
       "<!-- 11&#45;&gt;13 -->\n",
       "<g id=\"edge13\" class=\"edge\">\n",
       "<title>11&#45;&gt;13</title>\n",
       "<path fill=\"none\" stroke=\"black\" d=\"M281.72,-145.83C293.77,-136.6 308.54,-125.29 321.43,-115.41\"/>\n",
       "<polygon fill=\"black\" stroke=\"black\" points=\"323.77,-118.03 329.58,-109.17 319.51,-112.47 323.77,-118.03\"/>\n",
       "</g>\n",
       "</g>\n",
       "</svg>\n"
      ],
      "text/plain": [
       "<graphviz.files.Source at 0x1257b6640>"
      ]
     },
     "execution_count": 41,
     "metadata": {
      "filenames": {
       "image/svg+xml": "/Users/icics-user/Documents/BAIT509/BAIT509/_build/jupyter_execute/lectures/lecture1_110_0.svg"
      }
     },
     "output_type": "execute_result"
    }
   ],
   "source": [
    "display_tree(X.columns, model_5, \"imgs/dt_5\")"
   ]
  },
  {
   "cell_type": "markdown",
   "metadata": {},
   "source": [
    "This has 7 splits in the tree. How many decision boundaries should there be?"
   ]
  },
  {
   "cell_type": "code",
   "execution_count": 42,
   "metadata": {},
   "outputs": [
    {
     "data": {
      "image/png": "[encoded data removed]",
      "text/plain": [
       "<Figure size 432x288 with 1 Axes>"
      ]
     },
     "metadata": {
      "filenames": {
       "image/png": "/Users/icics-user/Documents/BAIT509/BAIT509/_build/jupyter_execute/lectures/lecture1_112_0.png"
      },
      "needs_background": "light"
     },
     "output_type": "display_data"
    }
   ],
   "source": [
    "plot_classifier(X, y, model_5, ticks=True)\n",
    "plt.xticks(fontsize= 20);\n",
    "plt.yticks(fontsize= 20);\n",
    "plt.xlabel('lon', fontsize=20);\n",
    "plt.ylabel('lat', fontsize=20);  "
   ]
  },
  {
   "cell_type": "markdown",
   "metadata": {},
   "source": [
    "And if we check the score of this model we get 100% accuracy! "
   ]
  },
  {
   "cell_type": "code",
   "execution_count": 43,
   "metadata": {},
   "outputs": [
    {
     "data": {
      "text/plain": [
       "1.0"
      ]
     },
     "execution_count": 43,
     "metadata": {},
     "output_type": "execute_result"
    }
   ],
   "source": [
    "model_5.score(X, y)"
   ]
  },
  {
   "cell_type": "markdown",
   "metadata": {},
   "source": [
    "We see here that as `max_depth` increases, the accuracy of the training data does as well.\n",
    "\n",
    "Doing this isn’t always the best idea and we’ll explain this a little bit later on.\n",
    "\n",
    "- This is just one of many other hyperparameters for decision trees that you can explore -> link <a href=\"https://scikit-learn.org/stable/modules/generated/sklearn.tree.DecisionTreeClassifier.html\" target=\"_blank\">here</a> There are many other hyperparameters for decision trees that you can explore at the link <a href=\"https://scikit-learn.org/stable/modules/generated/sklearn.tree.DecisionTreeClassifier.html\" target=\"_blank\">here</a>."
   ]
  },
  {
   "cell_type": "markdown",
   "metadata": {},
   "source": [
    "To summarize this section:\n",
    "- **parameters** are automatically learned by an algorithm during training\n",
    "- **hyperparameters** are specified before training"
   ]
  },
  {
   "cell_type": "markdown",
   "metadata": {},
   "source": [
    "## Decision Tree Regressor "
   ]
  },
  {
   "cell_type": "markdown",
   "metadata": {},
   "source": [
    "We saw that we can use decision trees for classification problems but we can also use this decision tree algorithm for regression problems.  \n",
    "\n",
    "Instead of using Gini impurity (which we briefly mentioned this above), we can use <a href=\"https://scikit-learn.org/stable/modules/tree.html#mathematical-formulation\" target=\"_blank\">some other criteria</a> for splitting. \n",
    "\n",
    "(A common one is mean squared error (MSE) which we will discuss shortly)\n",
    "\n",
    "`scikit-learn` supports regression using decision trees with `DecisionTreeRegressor()` and the `.fit()` and `.predict()` paradigm that is similar to classification.\n",
    "\n",
    "Let's do an example using the `kc_house_data` we saw in example 1. "
   ]
  },
  {
   "cell_type": "code",
   "execution_count": 44,
   "metadata": {},
   "outputs": [
    {
     "data": {
      "text/html": [
       "<div>\n",
       "<style scoped>\n",
       "    .dataframe tbody tr th:only-of-type {\n",
       "        vertical-align: middle;\n",
       "    }\n",
       "\n",
       "    .dataframe tbody tr th {\n",
       "        vertical-align: top;\n",
       "    }\n",
       "\n",
       "    .dataframe thead th {\n",
       "        text-align: right;\n",
       "    }\n",
       "</style>\n",
       "<table border=\"1\" class=\"dataframe\">\n",
       "  <thead>\n",
       "    <tr style=\"text-align: right;\">\n",
       "      <th></th>\n",
       "      <th>price</th>\n",
       "      <th>bedrooms</th>\n",
       "      <th>bathrooms</th>\n",
       "      <th>sqft_living</th>\n",
       "      <th>sqft_lot</th>\n",
       "      <th>floors</th>\n",
       "      <th>waterfront</th>\n",
       "      <th>view</th>\n",
       "      <th>condition</th>\n",
       "      <th>grade</th>\n",
       "      <th>sqft_above</th>\n",
       "      <th>sqft_basement</th>\n",
       "      <th>yr_built</th>\n",
       "      <th>yr_renovated</th>\n",
       "      <th>zipcode</th>\n",
       "      <th>lat</th>\n",
       "      <th>long</th>\n",
       "      <th>sqft_living15</th>\n",
       "      <th>sqft_lot15</th>\n",
       "    </tr>\n",
       "  </thead>\n",
       "  <tbody>\n",
       "    <tr>\n",
       "      <th>0</th>\n",
       "      <td>221900.0</td>\n",
       "      <td>3</td>\n",
       "      <td>1.00</td>\n",
       "      <td>1180</td>\n",
       "      <td>5650</td>\n",
       "      <td>1.0</td>\n",
       "      <td>0</td>\n",
       "      <td>0</td>\n",
       "      <td>3</td>\n",
       "      <td>7</td>\n",
       "      <td>1180</td>\n",
       "      <td>0</td>\n",
       "      <td>1955</td>\n",
       "      <td>0</td>\n",
       "      <td>98178</td>\n",
       "      <td>47.5112</td>\n",
       "      <td>-122.257</td>\n",
       "      <td>1340</td>\n",
       "      <td>5650</td>\n",
       "    </tr>\n",
       "    <tr>\n",
       "      <th>1</th>\n",
       "      <td>538000.0</td>\n",
       "      <td>3</td>\n",
       "      <td>2.25</td>\n",
       "      <td>2570</td>\n",
       "      <td>7242</td>\n",
       "      <td>2.0</td>\n",
       "      <td>0</td>\n",
       "      <td>0</td>\n",
       "      <td>3</td>\n",
       "      <td>7</td>\n",
       "      <td>2170</td>\n",
       "      <td>400</td>\n",
       "      <td>1951</td>\n",
       "      <td>1991</td>\n",
       "      <td>98125</td>\n",
       "      <td>47.7210</td>\n",
       "      <td>-122.319</td>\n",
       "      <td>1690</td>\n",
       "      <td>7639</td>\n",
       "    </tr>\n",
       "    <tr>\n",
       "      <th>2</th>\n",
       "      <td>180000.0</td>\n",
       "      <td>2</td>\n",
       "      <td>1.00</td>\n",
       "      <td>770</td>\n",
       "      <td>10000</td>\n",
       "      <td>1.0</td>\n",
       "      <td>0</td>\n",
       "      <td>0</td>\n",
       "      <td>3</td>\n",
       "      <td>6</td>\n",
       "      <td>770</td>\n",
       "      <td>0</td>\n",
       "      <td>1933</td>\n",
       "      <td>0</td>\n",
       "      <td>98028</td>\n",
       "      <td>47.7379</td>\n",
       "      <td>-122.233</td>\n",
       "      <td>2720</td>\n",
       "      <td>8062</td>\n",
       "    </tr>\n",
       "    <tr>\n",
       "      <th>3</th>\n",
       "      <td>604000.0</td>\n",
       "      <td>4</td>\n",
       "      <td>3.00</td>\n",
       "      <td>1960</td>\n",
       "      <td>5000</td>\n",
       "      <td>1.0</td>\n",
       "      <td>0</td>\n",
       "      <td>0</td>\n",
       "      <td>5</td>\n",
       "      <td>7</td>\n",
       "      <td>1050</td>\n",
       "      <td>910</td>\n",
       "      <td>1965</td>\n",
       "      <td>0</td>\n",
       "      <td>98136</td>\n",
       "      <td>47.5208</td>\n",
       "      <td>-122.393</td>\n",
       "      <td>1360</td>\n",
       "      <td>5000</td>\n",
       "    </tr>\n",
       "    <tr>\n",
       "      <th>4</th>\n",
       "      <td>510000.0</td>\n",
       "      <td>3</td>\n",
       "      <td>2.00</td>\n",
       "      <td>1680</td>\n",
       "      <td>8080</td>\n",
       "      <td>1.0</td>\n",
       "      <td>0</td>\n",
       "      <td>0</td>\n",
       "      <td>3</td>\n",
       "      <td>8</td>\n",
       "      <td>1680</td>\n",
       "      <td>0</td>\n",
       "      <td>1987</td>\n",
       "      <td>0</td>\n",
       "      <td>98074</td>\n",
       "      <td>47.6168</td>\n",
       "      <td>-122.045</td>\n",
       "      <td>1800</td>\n",
       "      <td>7503</td>\n",
       "    </tr>\n",
       "  </tbody>\n",
       "</table>\n",
       "</div>"
      ],
      "text/plain": [
       "      price  bedrooms  bathrooms  sqft_living  sqft_lot  floors  waterfront  \\\n",
       "0  221900.0         3       1.00         1180      5650     1.0           0   \n",
       "1  538000.0         3       2.25         2570      7242     2.0           0   \n",
       "2  180000.0         2       1.00          770     10000     1.0           0   \n",
       "3  604000.0         4       3.00         1960      5000     1.0           0   \n",
       "4  510000.0         3       2.00         1680      8080     1.0           0   \n",
       "\n",
       "   view  condition  grade  sqft_above  sqft_basement  yr_built  yr_renovated  \\\n",
       "0     0          3      7        1180              0      1955             0   \n",
       "1     0          3      7        2170            400      1951          1991   \n",
       "2     0          3      6         770              0      1933             0   \n",
       "3     0          5      7        1050            910      1965             0   \n",
       "4     0          3      8        1680              0      1987             0   \n",
       "\n",
       "   zipcode      lat     long  sqft_living15  sqft_lot15  \n",
       "0    98178  47.5112 -122.257           1340        5650  \n",
       "1    98125  47.7210 -122.319           1690        7639  \n",
       "2    98028  47.7379 -122.233           2720        8062  \n",
       "3    98136  47.5208 -122.393           1360        5000  \n",
       "4    98074  47.6168 -122.045           1800        7503  "
      ]
     },
     "execution_count": 44,
     "metadata": {},
     "output_type": "execute_result"
    }
   ],
   "source": [
    "df = pd.read_csv(\"data/kc_house_data.csv\")\n",
    "df = df.drop(columns=[\"id\", \"date\"])\n",
    "df.head()"
   ]
  },
  {
   "cell_type": "code",
   "execution_count": 45,
   "metadata": {},
   "outputs": [
    {
     "data": {
      "text/html": [
       "<div>\n",
       "<style scoped>\n",
       "    .dataframe tbody tr th:only-of-type {\n",
       "        vertical-align: middle;\n",
       "    }\n",
       "\n",
       "    .dataframe tbody tr th {\n",
       "        vertical-align: top;\n",
       "    }\n",
       "\n",
       "    .dataframe thead th {\n",
       "        text-align: right;\n",
       "    }\n",
       "</style>\n",
       "<table border=\"1\" class=\"dataframe\">\n",
       "  <thead>\n",
       "    <tr style=\"text-align: right;\">\n",
       "      <th></th>\n",
       "      <th>bedrooms</th>\n",
       "      <th>bathrooms</th>\n",
       "      <th>sqft_living</th>\n",
       "      <th>sqft_lot</th>\n",
       "      <th>floors</th>\n",
       "      <th>waterfront</th>\n",
       "      <th>view</th>\n",
       "      <th>condition</th>\n",
       "      <th>grade</th>\n",
       "      <th>sqft_above</th>\n",
       "      <th>sqft_basement</th>\n",
       "      <th>yr_built</th>\n",
       "      <th>yr_renovated</th>\n",
       "      <th>zipcode</th>\n",
       "      <th>lat</th>\n",
       "      <th>long</th>\n",
       "      <th>sqft_living15</th>\n",
       "      <th>sqft_lot15</th>\n",
       "    </tr>\n",
       "  </thead>\n",
       "  <tbody>\n",
       "    <tr>\n",
       "      <th>0</th>\n",
       "      <td>3</td>\n",
       "      <td>1.00</td>\n",
       "      <td>1180</td>\n",
       "      <td>5650</td>\n",
       "      <td>1.0</td>\n",
       "      <td>0</td>\n",
       "      <td>0</td>\n",
       "      <td>3</td>\n",
       "      <td>7</td>\n",
       "      <td>1180</td>\n",
       "      <td>0</td>\n",
       "      <td>1955</td>\n",
       "      <td>0</td>\n",
       "      <td>98178</td>\n",
       "      <td>47.5112</td>\n",
       "      <td>-122.257</td>\n",
       "      <td>1340</td>\n",
       "      <td>5650</td>\n",
       "    </tr>\n",
       "    <tr>\n",
       "      <th>1</th>\n",
       "      <td>3</td>\n",
       "      <td>2.25</td>\n",
       "      <td>2570</td>\n",
       "      <td>7242</td>\n",
       "      <td>2.0</td>\n",
       "      <td>0</td>\n",
       "      <td>0</td>\n",
       "      <td>3</td>\n",
       "      <td>7</td>\n",
       "      <td>2170</td>\n",
       "      <td>400</td>\n",
       "      <td>1951</td>\n",
       "      <td>1991</td>\n",
       "      <td>98125</td>\n",
       "      <td>47.7210</td>\n",
       "      <td>-122.319</td>\n",
       "      <td>1690</td>\n",
       "      <td>7639</td>\n",
       "    </tr>\n",
       "    <tr>\n",
       "      <th>2</th>\n",
       "      <td>2</td>\n",
       "      <td>1.00</td>\n",
       "      <td>770</td>\n",
       "      <td>10000</td>\n",
       "      <td>1.0</td>\n",
       "      <td>0</td>\n",
       "      <td>0</td>\n",
       "      <td>3</td>\n",
       "      <td>6</td>\n",
       "      <td>770</td>\n",
       "      <td>0</td>\n",
       "      <td>1933</td>\n",
       "      <td>0</td>\n",
       "      <td>98028</td>\n",
       "      <td>47.7379</td>\n",
       "      <td>-122.233</td>\n",
       "      <td>2720</td>\n",
       "      <td>8062</td>\n",
       "    </tr>\n",
       "    <tr>\n",
       "      <th>3</th>\n",
       "      <td>4</td>\n",
       "      <td>3.00</td>\n",
       "      <td>1960</td>\n",
       "      <td>5000</td>\n",
       "      <td>1.0</td>\n",
       "      <td>0</td>\n",
       "      <td>0</td>\n",
       "      <td>5</td>\n",
       "      <td>7</td>\n",
       "      <td>1050</td>\n",
       "      <td>910</td>\n",
       "      <td>1965</td>\n",
       "      <td>0</td>\n",
       "      <td>98136</td>\n",
       "      <td>47.5208</td>\n",
       "      <td>-122.393</td>\n",
       "      <td>1360</td>\n",
       "      <td>5000</td>\n",
       "    </tr>\n",
       "    <tr>\n",
       "      <th>4</th>\n",
       "      <td>3</td>\n",
       "      <td>2.00</td>\n",
       "      <td>1680</td>\n",
       "      <td>8080</td>\n",
       "      <td>1.0</td>\n",
       "      <td>0</td>\n",
       "      <td>0</td>\n",
       "      <td>3</td>\n",
       "      <td>8</td>\n",
       "      <td>1680</td>\n",
       "      <td>0</td>\n",
       "      <td>1987</td>\n",
       "      <td>0</td>\n",
       "      <td>98074</td>\n",
       "      <td>47.6168</td>\n",
       "      <td>-122.045</td>\n",
       "      <td>1800</td>\n",
       "      <td>7503</td>\n",
       "    </tr>\n",
       "  </tbody>\n",
       "</table>\n",
       "</div>"
      ],
      "text/plain": [
       "   bedrooms  bathrooms  sqft_living  sqft_lot  floors  waterfront  view  \\\n",
       "0         3       1.00         1180      5650     1.0           0     0   \n",
       "1         3       2.25         2570      7242     2.0           0     0   \n",
       "2         2       1.00          770     10000     1.0           0     0   \n",
       "3         4       3.00         1960      5000     1.0           0     0   \n",
       "4         3       2.00         1680      8080     1.0           0     0   \n",
       "\n",
       "   condition  grade  sqft_above  sqft_basement  yr_built  yr_renovated  \\\n",
       "0          3      7        1180              0      1955             0   \n",
       "1          3      7        2170            400      1951          1991   \n",
       "2          3      6         770              0      1933             0   \n",
       "3          5      7        1050            910      1965             0   \n",
       "4          3      8        1680              0      1987             0   \n",
       "\n",
       "   zipcode      lat     long  sqft_living15  sqft_lot15  \n",
       "0    98178  47.5112 -122.257           1340        5650  \n",
       "1    98125  47.7210 -122.319           1690        7639  \n",
       "2    98028  47.7379 -122.233           2720        8062  \n",
       "3    98136  47.5208 -122.393           1360        5000  \n",
       "4    98074  47.6168 -122.045           1800        7503  "
      ]
     },
     "execution_count": 45,
     "metadata": {},
     "output_type": "execute_result"
    }
   ],
   "source": [
    "X = df.drop(columns=[\"price\"])\n",
    "X.head()"
   ]
  },
  {
   "cell_type": "code",
   "execution_count": 46,
   "metadata": {},
   "outputs": [
    {
     "data": {
      "text/plain": [
       "0    221900.0\n",
       "1    538000.0\n",
       "2    180000.0\n",
       "3    604000.0\n",
       "4    510000.0\n",
       "Name: price, dtype: float64"
      ]
     },
     "execution_count": 46,
     "metadata": {},
     "output_type": "execute_result"
    }
   ],
   "source": [
    "y = df[\"price\"]\n",
    "y.head()"
   ]
  },
  {
   "cell_type": "markdown",
   "metadata": {},
   "source": [
    "We can see that instead of predicting a categorical column like we did with `vote` before, our target column is now numeric. \n",
    "\n",
    "Instead of importing `DecisionTreeClassifier`, we import `DecisionTreeRegressor`.\n",
    "\n",
    "We follow the same steps as before and can even set hyperparameters as we did in classification. \n",
    "\n",
    "Here, when we build our model, we are specifying a `max_depth` of 3. \n",
    "\n",
    "This means our decision tree is going to be constrained to a depth of 3."
   ]
  },
  {
   "cell_type": "code",
   "execution_count": 47,
   "metadata": {},
   "outputs": [
    {
     "data": {
      "text/plain": [
       "DecisionTreeRegressor(max_depth=3, random_state=1)"
      ]
     },
     "execution_count": 47,
     "metadata": {},
     "output_type": "execute_result"
    }
   ],
   "source": [
    "from sklearn.tree import DecisionTreeRegressor\n",
    "\n",
    "depth = 3\n",
    "reg_model = DecisionTreeRegressor(max_depth=depth, random_state=1)\n",
    "reg_model.fit(X, y)"
   ]
  },
  {
   "cell_type": "markdown",
   "metadata": {},
   "source": [
    "Let's look at the tree it produces our leaves used to contain a categorical value for prediction, but this time we see our leaves are predicting numerical values."
   ]
  },
  {
   "cell_type": "markdown",
   "metadata": {},
   "source": [
    "<img src='imgs/dt_reg.png'  width = \"100%\" alt=\"404 image\" />"
   ]
  },
  {
   "cell_type": "markdown",
   "metadata": {},
   "source": [
    "Let's see what our model predicts for a single example. "
   ]
  },
  {
   "cell_type": "code",
   "execution_count": 48,
   "metadata": {},
   "outputs": [
    {
     "data": {
      "text/html": [
       "<div>\n",
       "<style scoped>\n",
       "    .dataframe tbody tr th:only-of-type {\n",
       "        vertical-align: middle;\n",
       "    }\n",
       "\n",
       "    .dataframe tbody tr th {\n",
       "        vertical-align: top;\n",
       "    }\n",
       "\n",
       "    .dataframe thead th {\n",
       "        text-align: right;\n",
       "    }\n",
       "</style>\n",
       "<table border=\"1\" class=\"dataframe\">\n",
       "  <thead>\n",
       "    <tr style=\"text-align: right;\">\n",
       "      <th></th>\n",
       "      <th>bedrooms</th>\n",
       "      <th>bathrooms</th>\n",
       "      <th>sqft_living</th>\n",
       "      <th>sqft_lot</th>\n",
       "      <th>floors</th>\n",
       "      <th>waterfront</th>\n",
       "      <th>view</th>\n",
       "      <th>condition</th>\n",
       "      <th>grade</th>\n",
       "      <th>sqft_above</th>\n",
       "      <th>sqft_basement</th>\n",
       "      <th>yr_built</th>\n",
       "      <th>yr_renovated</th>\n",
       "      <th>zipcode</th>\n",
       "      <th>lat</th>\n",
       "      <th>long</th>\n",
       "      <th>sqft_living15</th>\n",
       "      <th>sqft_lot15</th>\n",
       "    </tr>\n",
       "  </thead>\n",
       "  <tbody>\n",
       "    <tr>\n",
       "      <th>0</th>\n",
       "      <td>3</td>\n",
       "      <td>1.0</td>\n",
       "      <td>1180</td>\n",
       "      <td>5650</td>\n",
       "      <td>1.0</td>\n",
       "      <td>0</td>\n",
       "      <td>0</td>\n",
       "      <td>3</td>\n",
       "      <td>7</td>\n",
       "      <td>1180</td>\n",
       "      <td>0</td>\n",
       "      <td>1955</td>\n",
       "      <td>0</td>\n",
       "      <td>98178</td>\n",
       "      <td>47.5112</td>\n",
       "      <td>-122.257</td>\n",
       "      <td>1340</td>\n",
       "      <td>5650</td>\n",
       "    </tr>\n",
       "  </tbody>\n",
       "</table>\n",
       "</div>"
      ],
      "text/plain": [
       "   bedrooms  bathrooms  sqft_living  sqft_lot  floors  waterfront  view  \\\n",
       "0         3        1.0         1180      5650     1.0           0     0   \n",
       "\n",
       "   condition  grade  sqft_above  sqft_basement  yr_built  yr_renovated  \\\n",
       "0          3      7        1180              0      1955             0   \n",
       "\n",
       "   zipcode      lat     long  sqft_living15  sqft_lot15  \n",
       "0    98178  47.5112 -122.257           1340        5650  "
      ]
     },
     "execution_count": 48,
     "metadata": {},
     "output_type": "execute_result"
    }
   ],
   "source": [
    "X.loc[[0]]"
   ]
  },
  {
   "cell_type": "code",
   "execution_count": 49,
   "metadata": {},
   "outputs": [
    {
     "data": {
      "text/plain": [
       "array([269848.39378011])"
      ]
     },
     "execution_count": 49,
     "metadata": {},
     "output_type": "execute_result"
    }
   ],
   "source": [
    "reg_model.predict(X.loc[[0]])"
   ]
  },
  {
   "cell_type": "markdown",
   "metadata": {},
   "source": [
    "Our model predicts a housing price of $269848.39 \n",
    "\n",
    "Should we see what the true value is? "
   ]
  },
  {
   "cell_type": "code",
   "execution_count": 50,
   "metadata": {},
   "outputs": [
    {
     "data": {
      "text/plain": [
       "0    221900.0\n",
       "Name: price, dtype: float64"
      ]
     },
     "execution_count": 50,
     "metadata": {},
     "output_type": "execute_result"
    }
   ],
   "source": [
    "y.loc[[0]]"
   ]
  },
  {
   "cell_type": "markdown",
   "metadata": {},
   "source": [
    "The true value is $221900.0, but how well did it score? \n",
    "\n",
    "With regression problems we can't use accuracy for a scoring method so instead when we use `.score()`  it returns somethings called an <a href=\"https://scikit-learn.org/stable/modules/generated/sklearn.metrics.r2_score.html#sklearn.metrics.r2_score\" target=\"_blank\"> 𝑅2 </a>."
   ]
  },
  {
   "cell_type": "code",
   "execution_count": 51,
   "metadata": {},
   "outputs": [
    {
     "data": {
      "text/plain": [
       "0.6069320183816143"
      ]
     },
     "execution_count": 51,
     "metadata": {},
     "output_type": "execute_result"
    }
   ],
   "source": [
    "reg_model.score(X,y)"
   ]
  },
  {
   "cell_type": "markdown",
   "metadata": {},
   "source": [
    "The maximum 𝑅2 is 1 for perfect predictions. \n",
    "\n",
    "It can be negative which is very bad. "
   ]
  },
  {
   "cell_type": "markdown",
   "metadata": {},
   "source": [
    "## Let's Practice "
   ]
  },
  {
   "cell_type": "markdown",
   "metadata": {},
   "source": [
    "Using the data `candybars.csv` from the datafolder (or going to exercise 7 [here](https://ml-learn.mds.ubc.ca/en/module2))  for the following:\n",
    "1. Define two objects named `X` and `y` which contain the features and target column respectively.\n",
    "2. Using sklearn, create 3 different decision tree classifiers using 3 different `min_samples_split` values based on this data.\n",
    "3. What is the accuracy of each classifier on the training data?\n",
    "4. a) Which `min_samples_split` value would you choose to predict this data? <br>\n",
    "   b) Would you choose the same `min_samples_split` value to predict new data?\n",
    "5. Do you think most of the computational effort for a decision tree takes place in the `.fit()` stage or `.predict()` stage?"
   ]
  },
  {
   "cell_type": "code",
   "execution_count": 52,
   "metadata": {},
   "outputs": [
    {
     "data": {
      "text/html": [
       "<div>\n",
       "<style scoped>\n",
       "    .dataframe tbody tr th:only-of-type {\n",
       "        vertical-align: middle;\n",
       "    }\n",
       "\n",
       "    .dataframe tbody tr th {\n",
       "        vertical-align: top;\n",
       "    }\n",
       "\n",
       "    .dataframe thead th {\n",
       "        text-align: right;\n",
       "    }\n",
       "</style>\n",
       "<table border=\"1\" class=\"dataframe\">\n",
       "  <thead>\n",
       "    <tr style=\"text-align: right;\">\n",
       "      <th></th>\n",
       "      <th>chocolate</th>\n",
       "      <th>peanuts</th>\n",
       "      <th>caramel</th>\n",
       "      <th>nougat</th>\n",
       "      <th>cookie_wafer_rice</th>\n",
       "      <th>coconut</th>\n",
       "      <th>white_chocolate</th>\n",
       "      <th>multi</th>\n",
       "      <th>availability</th>\n",
       "    </tr>\n",
       "    <tr>\n",
       "      <th>candy bar</th>\n",
       "      <th></th>\n",
       "      <th></th>\n",
       "      <th></th>\n",
       "      <th></th>\n",
       "      <th></th>\n",
       "      <th></th>\n",
       "      <th></th>\n",
       "      <th></th>\n",
       "      <th></th>\n",
       "    </tr>\n",
       "  </thead>\n",
       "  <tbody>\n",
       "    <tr>\n",
       "      <th>CoffeeCrisp</th>\n",
       "      <td>1</td>\n",
       "      <td>0</td>\n",
       "      <td>0</td>\n",
       "      <td>0</td>\n",
       "      <td>1</td>\n",
       "      <td>0</td>\n",
       "      <td>0</td>\n",
       "      <td>0</td>\n",
       "      <td>Canada</td>\n",
       "    </tr>\n",
       "    <tr>\n",
       "      <th>Butterfinger</th>\n",
       "      <td>1</td>\n",
       "      <td>1</td>\n",
       "      <td>1</td>\n",
       "      <td>0</td>\n",
       "      <td>0</td>\n",
       "      <td>0</td>\n",
       "      <td>0</td>\n",
       "      <td>0</td>\n",
       "      <td>America</td>\n",
       "    </tr>\n",
       "    <tr>\n",
       "      <th>Skor</th>\n",
       "      <td>1</td>\n",
       "      <td>0</td>\n",
       "      <td>1</td>\n",
       "      <td>0</td>\n",
       "      <td>0</td>\n",
       "      <td>0</td>\n",
       "      <td>0</td>\n",
       "      <td>0</td>\n",
       "      <td>Both</td>\n",
       "    </tr>\n",
       "    <tr>\n",
       "      <th>Smarties</th>\n",
       "      <td>1</td>\n",
       "      <td>0</td>\n",
       "      <td>0</td>\n",
       "      <td>0</td>\n",
       "      <td>0</td>\n",
       "      <td>0</td>\n",
       "      <td>0</td>\n",
       "      <td>1</td>\n",
       "      <td>Canada</td>\n",
       "    </tr>\n",
       "    <tr>\n",
       "      <th>Twix</th>\n",
       "      <td>1</td>\n",
       "      <td>0</td>\n",
       "      <td>1</td>\n",
       "      <td>0</td>\n",
       "      <td>1</td>\n",
       "      <td>0</td>\n",
       "      <td>0</td>\n",
       "      <td>1</td>\n",
       "      <td>Both</td>\n",
       "    </tr>\n",
       "  </tbody>\n",
       "</table>\n",
       "</div>"
      ],
      "text/plain": [
       "              chocolate  peanuts  caramel  nougat  cookie_wafer_rice  coconut  \\\n",
       "candy bar                                                                       \n",
       "CoffeeCrisp           1        0        0       0                  1        0   \n",
       "Butterfinger          1        1        1       0                  0        0   \n",
       "Skor                  1        0        1       0                  0        0   \n",
       "Smarties              1        0        0       0                  0        0   \n",
       "Twix                  1        0        1       0                  1        0   \n",
       "\n",
       "              white_chocolate  multi availability  \n",
       "candy bar                                          \n",
       "CoffeeCrisp                 0      0       Canada  \n",
       "Butterfinger                0      0      America  \n",
       "Skor                        0      0         Both  \n",
       "Smarties                    0      1       Canada  \n",
       "Twix                        0      1         Both  "
      ]
     },
     "execution_count": 52,
     "metadata": {},
     "output_type": "execute_result"
    }
   ],
   "source": [
    "candy_df = pd.read_csv('data/candybars.csv', index_col=0)\n",
    "candy_df.head()"
   ]
  },
  {
   "cell_type": "markdown",
   "metadata": {},
   "source": [
    "## What We've Learned Today<a id=\"9\"></a>\n",
    "\n",
    "- What is machine learning (supervised/unsupervised, classification/regression)\n",
    "- Machine learning terminology\n",
    "- What is the decision tree algorithm and how does it work\n",
    "- The scikit-learn library\n",
    "- Parameters and hyperparameters"
   ]
  }
 ],
 "metadata": {
  "kernelspec": {
   "display_name": "Python 3",
   "language": "python",
   "name": "python3"
  },
  "language_info": {
   "codemirror_mode": {
    "name": "ipython",
    "version": 3
   },
   "file_extension": ".py",
   "mimetype": "text/x-python",
   "name": "python",
   "nbconvert_exporter": "python",
   "pygments_lexer": "ipython3",
   "version": "3.8.5"
  },
  "toc": {
   "base_numbering": "0",
   "nav_menu": {},
   "number_sections": true,
   "sideBar": true,
   "skip_h1_title": true,
   "title_cell": "Table of Contents",
   "title_sidebar": "Contents",
   "toc_cell": false,
   "toc_position": {},
   "toc_section_display": true,
   "toc_window_display": true
  },
  "toc-autonumbering": false,
  "toc-showmarkdowntxt": true
 },
 "nbformat": 4,
 "nbformat_minor": 4
}