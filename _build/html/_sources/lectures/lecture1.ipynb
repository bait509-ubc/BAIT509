{
 "cells": [
  {
   "cell_type": "markdown",
   "metadata": {},
   "source": [
    "# Lecture 1 - Introduction to Machine Learning & The Decision Tree Algorithm\n",
    "\n",
    "*Hayley Boyce, Monday April 19th 2021*"
   ]
  },
  {
   "cell_type": "markdown",
   "metadata": {},
   "source": [
    "## Welcome"
   ]
  },
  {
   "cell_type": "markdown",
   "metadata": {},
   "source": [
    "Welcome to Bait 509 - Business Application of Machine Learning."
   ]
  },
  {
   "cell_type": "markdown",
   "metadata": {},
   "source": [
    "```{note}\n",
    "Buckle up because there are going to be a lot of new concepts here but in the lyrics of Trooper \"We're here for a good time, \n",
    "Not a long time\". \n",
    "```"
   ]
  },
  {
   "cell_type": "markdown",
   "metadata": {},
   "source": [
    "### Course Learning Objectives\n",
    "\n",
    "1.\tDescribe fundamental machine learning concepts such as: supervised and unsupervised learning, regression and classification, overfitting, training/validation/testing error, parameters and hyperparameters, and the golden rule.\n",
    "2.\tBroadly explain how common machine learning algorithms work, including: naïve Bayes, k-nearest neighbors, decision trees, support vector machines, and logistic regression.\n",
    "3.\tIdentify when and why to apply data pre-processing techniques such as scaling and one-hot encoding.\n",
    "4.\tUse Python and the scikit-learn package to develop an end-to-end supervised machine learning pipeline.\n",
    "5.\tApply and interpret machine learning methods to carry out supervised learning projects and to answer business objectives."
   ]
  },
  {
   "cell_type": "markdown",
   "metadata": {},
   "source": [
    "### Course Structure\n",
    "- 2 lectures per week (Synchonus lecture + class activity)\n",
    "- My office hours: 1-2pm Thursday on Zoom\n",
    "- TA office hours: Fridays 12-1 and Wednesdays 4-5. (all the links are created)\n",
    "- ~Camera on policy!~\n",
    "- Course content available on [this website](https://bait509-ubc.github.io/BAIT509/intro.html) or on [Canvas](https://canvas.ubc.ca/courses/58082). \n",
    "- We will be using [Piazza](https://piazza.com/configure-classes/winterterm22020/bait509ba1) for discussions and questions.\n",
    "- Assessments:\n",
    "\n",
    "| Assessment       | Weight       | Due                            |\n",
    "|     :---:        | :---:        | :---:                          |\n",
    "| 3 Assignments    | 60%(20% each)| April 28th, May 10th, May 19th |\n",
    "| 1 Quiz           | 10%          | May 5th (24 hours to complete) |\n",
    "| Final Project    | 30%          | TBD                            |\n",
    "\n",
    "\n",
    "All assessments will be submitted via Canvas "
   ]
  },
  {
   "cell_type": "markdown",
   "metadata": {},
   "source": [
    "### Who I am\n",
    "\n",
    "![](imgs/hi.png)\n",
    "\n",
    "- I have an undergraduate degree in Applied Mathematics from the University of Western Ontario\n",
    "- I have a master's degree in Data Science from UBC.  \n",
    "- I have experience in Python, R, Tableau, some Latex, Some HTML and CSS and dabble in a few other things - Jack of all trades, master of none. \n",
    "- Worked with companies like Riversol Skincare and Freshprep. "
   ]
  },
  {
   "cell_type": "markdown",
   "metadata": {},
   "source": [
    "### Your TAs\n",
    "\n",
    "- **Daniel Ramandi**: in class questions.\n",
    "- **Ali Seyfi**: Office hours Wednesdays 4-5pm (Starting April 28th).\n",
    "- **Andy Tai**: Office hours Fridays 12-1pm.\n",
    "\n",
    "\n",
    "- Marking your assignments, quiz and project.\n",
    "- All 4 of us will be answering questions on Piazza as well."
   ]
  },
  {
   "cell_type": "markdown",
   "metadata": {},
   "source": [
    "### Python, Jupyter, Visualizations \n",
    "\n",
    "- In this course we be using Python and Jupyter notebooks for lectures as well as assignments. \n",
    "- You are free to use [Anaconda distribution](https://www.anaconda.com/distribution/) to install and manage your Python package installations.\n",
    "- If you are using anaconda, you can install a few key packages we will be using in the course, by typing the following at the command line:\n",
    "    > `conda install pandas numpy scikit-learn matplotlib jupyter altair seaborn python-graphviz`\n",
    "\n",
    "- Or you can simpling use pip and type in at the command line: \n",
    "    > `pip install pandas numpy scikit-learn matplotlib jupyter altair seaborn graphviz`\n",
    "\n",
    "\n",
    "- We will be making visualizations for this course and I give the option of plotting using any Python library but I strongly recommend getting familar with [`altair`](https://altair-viz.github.io/index.html). I have 2 very quick slide decks that teach you a bit about how to plot using `altair`. \n",
    "From the course [Programming in Python for Data Science](https://prog-learn.mds.ubc.ca/en/)\n",
    " - Module 1, exercise 31, 32, 33\n",
    " - Module 2, exercise 29, 30\n",
    " \n",
    "And if you want to dive further there is a whole course dedicated to visualizing plots using `altair` called [Data Visualization](https://viz-learn.mds.ubc.ca/en/).\n"
   ]
  },
  {
   "cell_type": "markdown",
   "metadata": {},
   "source": [
    "### Lecture Learning Objectives \n",
    "\n",
    "- Explain motivation to study machine learning.\n",
    "- Differentiate between supervised and unsupervised learning.\n",
    "- Differentiate between classification and regression problems.\n",
    "- Explain machine learning terminology such as features, targets, training, and error.\n",
    "- Explain the `.fit()` and `.predict()` paradigm and use `.score()` method of ML models.\n",
    "- Broadly describe how decision trees make predictions.\n",
    "- Use `DecisionTreeClassifier()` and `DecisionTreeRegressor()` to build decision trees using scikit-learn.\n",
    "- Explain the difference between parameters and hyperparameters.\n",
    "- Explain how decision boundaries change with `max_depth`."
   ]
  },
  {
   "cell_type": "markdown",
   "metadata": {},
   "source": [
    "## What is Machine Learning (ML)?"
   ]
  },
  {
   "cell_type": "code",
   "execution_count": null,
   "metadata": {},
   "outputs": [],
   "source": [
    "# Let's import our libraries\n",
    "import pandas as pd\n",
    "import numpy as np\n",
    "import glob\n",
    "from sklearn.model_selection import train_test_split\n",
    "import matplotlib.pyplot as plt\n"
   ]
  },
  {
   "cell_type": "markdown",
   "metadata": {},
   "source": [
    "Machine learning is all around us. You can find it in things like: \n",
    "\n",
    "\n",
    "![](imgs/examples.png)\n",
    "\n",
    "\n",
    "- Voice assistance\n",
    "- Google news\n",
    "- Recommender systems\n",
    "- Face recognition\n",
    "- Auto completion\n",
    "- Stock market predictions\n",
    "- Character recognition\n",
    "- Self-driving cars\n",
    "- Cancer diagnosis\n",
    "- Drug discovery"
   ]
  },
  {
   "cell_type": "markdown",
   "metadata": {},
   "source": [
    "Machine Learning has no clear consensus in how it is define but essentially it is a different way to think about problem solving. \n",
    "\n",
    "-  As the [ISLR](http://faculty.marshall.usc.edu/gareth-james/ISL/ISLR%20Seventh%20Printing.pdf) book puts it, ML is a “*vast set of tools for understanding data*” \n",
    "- Usually we think logically and mathematically. In the Machine Learning paradiagm we instead take data and some output and our Machine Learning algorithm will return a program which can be used to make predictions and give an output for data it has yet to see. "
   ]
  },
  {
   "cell_type": "markdown",
   "metadata": {},
   "source": [
    "### Examples of Machine Learning \n",
    "\n",
    "*In all the the upcoming examples, Don't worry about the code. Just focus on the input and output in each example.*\n"
   ]
  },
  {
   "cell_type": "markdown",
   "metadata": {},
   "source": [
    "#### Example 1: Predict Housing Prices\n",
    "**Data Attribution:** <a href=\"https://www.kaggle.com/harlfoxem/housesalesprediction\" target=\"_blank\">house sales prediction dataset.</a>"
   ]
  },
  {
   "cell_type": "code",
   "execution_count": null,
   "metadata": {},
   "outputs": [],
   "source": [
    "df = pd.read_csv(\"data/kc_house_data.csv\")\n",
    "df = df.drop(columns=[\"id\", \"date\"])\n",
    "train_df, test_df = train_test_split(df, test_size=0.2, random_state=4)\n",
    "train_df.head()"
   ]
  },
  {
   "cell_type": "code",
   "execution_count": null,
   "metadata": {},
   "outputs": [],
   "source": [
    "X_train = train_df.drop(columns=[\"price\"])\n",
    "y_train = train_df[\"price\"]\n",
    "X_test = test_df.drop(columns=[\"price\"])\n",
    "y_test = test_df[\"price\"]"
   ]
  },
  {
   "cell_type": "code",
   "execution_count": null,
   "metadata": {},
   "outputs": [],
   "source": [
    "from xgboost import XGBRegressor\n",
    "\n",
    "model = XGBRegressor()\n",
    "model.fit(X_train, y_train);"
   ]
  },
  {
   "cell_type": "code",
   "execution_count": null,
   "metadata": {},
   "outputs": [],
   "source": [
    "pred_df = pd.DataFrame({\"Predicted price\": model.predict(X_test[0:4]).tolist(), \"Actual price\": y_test[0:4].tolist()})\n",
    "df_concat = pd.concat([X_test[0:4].reset_index(drop=True), pred_df], axis=1)\n",
    "df_concat.head()"
   ]
  },
  {
   "cell_type": "markdown",
   "metadata": {},
   "source": [
    "#### Example 2: Predict Creditcard Default \n",
    "\n",
    "**Data Attribution:** <a href=\"https://www.kaggle.com/mlg-ulb/creditcardfraud\" target=\"_blank\">credit card fraud detection data set</a>"
   ]
  },
  {
   "cell_type": "code",
   "execution_count": null,
   "metadata": {},
   "outputs": [],
   "source": [
    "cc_df = pd.read_csv(\"data/creditcard_sample.csv\")\n",
    "\n",
    "train_df, test_df = train_test_split(cc_df, test_size=4, random_state=603)\n",
    "train_df.head(5)"
   ]
  },
  {
   "cell_type": "code",
   "execution_count": null,
   "metadata": {},
   "outputs": [],
   "source": [
    "from xgboost import XGBClassifier\n",
    "X_train = train_df.drop(columns=['Class'])\n",
    "y_train = train_df['Class']\n",
    "X_test = test_df.drop(columns=['Class'])\n",
    "y_test = test_df['Class']\n",
    "model = XGBClassifier()\n",
    "model.fit(X_train, y_train);"
   ]
  },
  {
   "cell_type": "code",
   "execution_count": null,
   "metadata": {},
   "outputs": [],
   "source": [
    "pred_df = pd.DataFrame({\"predicted_label\": model.predict(X_train).tolist()})\n",
    "df_concat = pd.concat([X_train.reset_index(drop=True), pred_df], axis=1)\n",
    "df_concat"
   ]
  },
  {
   "cell_type": "code",
   "execution_count": null,
   "metadata": {},
   "outputs": [],
   "source": [
    "model.score(X_test, y_test)"
   ]
  },
  {
   "cell_type": "markdown",
   "metadata": {},
   "source": [
    "#### Example 3: Image Classification"
   ]
  },
  {
   "cell_type": "code",
   "execution_count": null,
   "metadata": {},
   "outputs": [],
   "source": [
    "import pandas as pd\n",
    "import numpy as np\n",
    "from PIL import Image\n",
    "import sys\n",
    "sys.path.append('code/')\n",
    "from toy_classifier import classify_image\n",
    "\n",
    "\n",
    "img = Image.open(\"imgs/apple.jpg\")\n",
    "img"
   ]
  },
  {
   "cell_type": "code",
   "execution_count": null,
   "metadata": {},
   "outputs": [],
   "source": [
    "classify_image(img, 5)"
   ]
  },
  {
   "cell_type": "markdown",
   "metadata": {},
   "source": [
    "## Types of Machine Learning\n",
    "\n",
    "- **Supervised learning** (this course)\n",
    "- Unsupervised learning"
   ]
  },
  {
   "cell_type": "markdown",
   "metadata": {},
   "source": [
    "### Supervised Learning: \n",
    "\n",
    "> Example: Labelling emails as spam or not\n",
    "\n",
    "- In supervised machine learning, we have a set of observations usually denoted with an uppercase `X`.\n",
    "- We also have a set of corresponding targets usually denoted with a lowercase `y`. \n",
    "- Our goal is to define a function that relates `X` to `y`. \n",
    "- We then use this function to predict the targets of new examples. \n",
    "\n",
    "<br>\n",
    "<br>\n",
    "\n",
    "<img src='imgs/sup-learning.png'  width = \"75%\" alt=\"404 image\" />\n"
   ]
  },
  {
   "cell_type": "markdown",
   "metadata": {},
   "source": [
    "### UnSupervised Learning: (not going into detail here)  \n",
    "\n",
    "> Example: Categorizing Google News articles.\n",
    "\n",
    "\n",
    "- In unsupervised learning, we are not given targets and are only given observations `X`. \n",
    "- We apply some clustering algorithms to create a model that finds patterns in our data and groups together similar characteristics from our data.\n",
    "\n",
    "\n",
    "\n",
    "<img src='imgs/unsup-learning.png'  width = \"75%\" alt=\"404 image\" />"
   ]
  },
  {
   "cell_type": "markdown",
   "metadata": {},
   "source": [
    "## Types of Supervised Learning: Classification vs Regression\n",
    "\n",
    "- Classification\n",
    "- Regression\n",
    "\n",
    "### Classification\n",
    "\n",
    "**Classification** predicting among two or more categories, also known as classes.\n",
    "- *Example1*: Predict whether a customer will default on their credit card or not. \n",
    "- *Example2*: Predict if an animal is a reptile, mammal or bird. \n",
    "    \n",
    "\n",
    "### Regression\n",
    "\n",
    "**Regression** predicting a continuous (in other words, a number) value.\n",
    "- Example1: Predict housing prices\n",
    "- Example2: Predict the length of a snake. \n",
    "    \n",
    "    \n",
    "<img src=\"imgs/classification-vs-regression2.png\" width = \"90%\" alt=\"404 image\" />\n"
   ]
  },
  {
   "cell_type": "markdown",
   "metadata": {},
   "source": [
    "## Let's Practice! \n",
    "\n",
    "\n",
    "Are the following supervised or unsupervised problems?\n",
    "\n",
    "1. Finding groups of similar properties in a real estate data set.\n",
    "2. Predicting real estate prices based on house features like number of rooms, learning from past sales as examples.\n",
    "3. Identifying groups of animals given features such as \"number of legs\", \"wings/no wings\", \"fur/no fur\", etc.\n",
    "4. Detecting heart disease in patients based on different test results and history.\n",
    "5. Grouping articles on different topics from different news sources (something like Google News app).\n",
    "\n",
    "Are the following classification or regression problems?\n",
    "\n",
    "1. Predicting the price of a house based on features such as number of rooms and the year built.\n",
    "2. Predicting if a house will sell or not based on features like the price of the house, number of rooms, etc.\n",
    "3. Predicting your grade in BAIT 509 based on past grades.\n",
    "4. Predicting whether you should bicycle tomorrow or not based on the weather forecast.\n",
    "5. Predicting a cereal’s manufacturer given the nutritional information."
   ]
  },
  {
   "cell_type": "markdown",
   "metadata": {},
   "source": [
    "## Tabular Data and Terminology\n",
    "\n",
    "Basic terminology used in ML:\n",
    "\n",
    "- **examples/observations** = rows \n",
    "- **features/variables** = inputs (columns)\n",
    "- **targets** = outputs (one special column)\n",
    "- **training** = learning = fitting\n",
    "\n",
    "<img src=\"imgs/sup-ml-terminology2.png\" width = \"90%\" alt=\"404 image\" />\n"
   ]
  },
  {
   "cell_type": "markdown",
   "metadata": {},
   "source": [
    "### Example:\n",
    "\n",
    "- This [dataset](http://simplemaps.com/static/demos/resources/us-cities/cities.csv) contains longtitude and latitude data for 400 cities in the US.\n",
    "- Each city is labelled as `red` or `blue` depending on how they voted in the 2012 election."
   ]
  },
  {
   "cell_type": "code",
   "execution_count": null,
   "metadata": {},
   "outputs": [],
   "source": [
    "df = pd.read_csv('data/cities_USA.csv', index_col=0).sample(20, random_state=77)\n",
    "df"
   ]
  },
  {
   "cell_type": "code",
   "execution_count": null,
   "metadata": {},
   "outputs": [],
   "source": [
    "df.shape"
   ]
  },
  {
   "cell_type": "markdown",
   "metadata": {},
   "source": [
    "In this dataset, we have:\n",
    "- 2 **features**, (3 columns = 2 **features** + 1 target) and,\n",
    "- 20 **examples**.\n",
    "\n",
    "Our **target** column is `vote` since that is what we are interesting in predicting. "
   ]
  },
  {
   "cell_type": "markdown",
   "metadata": {},
   "source": [
    "## Decision Tree Algorithm"
   ]
  },
  {
   "cell_type": "markdown",
   "metadata": {},
   "source": [
    "### A conceptual introduction to Decision Trees"
   ]
  },
  {
   "cell_type": "markdown",
   "metadata": {},
   "source": [
    "Shown below is some hypothetical data with 2 features (x and y axes) and 1 target (with 2 classes).   \n",
    "The supervised learning problem here is to predict whether a particular observaton belongs to the <font color='blue'>**BLUE**</font> or <font color='orange'>**ORANGE**</font> class.    \n",
    "A fairly intuitive way to do this is to simply use thresholds to split the data up."
   ]
  },
  {
   "cell_type": "markdown",
   "metadata": {},
   "source": [
    "<img src='imgs/scatter_dt1.png'  width = \"40%\" alt=\"404 image\" />"
   ]
  },
  {
   "cell_type": "markdown",
   "metadata": {},
   "source": [
    "For example, we can **split** the data at `Feature_1 = 0.47`.   \n",
    "Everything **less than** the split we can classify as <font color='orange'>**ORANGE**</font>.  \n",
    "Everything **greater than** the split we can classify as <font color='blue'>**BLUE**</font>.   \n",
    "By this method, we can successfully classify 7 / 9 observations."
   ]
  },
  {
   "cell_type": "markdown",
   "metadata": {},
   "source": [
    "<img src='imgs/scatter_dt2.png'  width = \"40%\" alt=\"404 image\" />"
   ]
  },
  {
   "cell_type": "markdown",
   "metadata": {},
   "source": [
    "But we don't have to stop there, we can make another split!   \n",
    "Let's now split the section that is greater than `Feature_1 = 0.47`, using `Feature_2 = 0.52`.\n",
    "We now have the following conditions:    \n",
    "- If `Feature_1 > 0.47` and `Feature_2 < 0.52` classify as <font color='blue'>**BLUE**</font>.    \n",
    "- If `Feature_1 > 0.47` and `Feature_2 > 0.52` classify as <font color='orange'>**ORANGE**</font>.    \n",
    "\n",
    "Using these rules, we now successfully classify 8 / 9 observations.  "
   ]
  },
  {
   "cell_type": "markdown",
   "metadata": {},
   "source": [
    "<img src='imgs/scatter_dt3.png'  width = \"40%\" alt=\"404 image\" />"
   ]
  },
  {
   "cell_type": "markdown",
   "metadata": {},
   "source": [
    "Okay, let's add one more threshhold.    \n",
    "Let's make a final split of the section that is less than `Feature_1 = 0.47`, using `Feature_2 = 0.6`.   \n",
    "By this methodology we have successfully classified all of our data.   "
   ]
  },
  {
   "cell_type": "markdown",
   "metadata": {},
   "source": [
    "<img src='imgs/scatter_dt4.png'  width = \"40%\" alt=\"404 image\" />"
   ]
  },
  {
   "cell_type": "markdown",
   "metadata": {},
   "source": [
    "What we've really done here is create a group of `if` statements:     \n",
    "- If `Feature_1 < 0.47` and `Feature_2 < 0.6` classify as <font color='orange'>**ORANGE**</font>\n",
    "- If `Feature_1 < 0.47` and `Feature_2 > 0.6` classify as <font color='blue'>**BLUE**</font>\n",
    "- If `Feature_1 > 0.47` and `Feature_2 < 0.52` classify as <font color='blue'>**BLUE**</font>\n",
    "- If `Feature_1 > 0.47` and `Feature_2 > 0.52` classify as <font color='orange'>**ORANGE**</font>\n",
    "\n",
    "This is easier to visualize as a tree:"
   ]
  },
  {
   "cell_type": "markdown",
   "metadata": {},
   "source": [
    "<img src='imgs/toy_tree.png'  width = \"40%\" alt=\"404 image\" />"
   ]
  },
  {
   "cell_type": "markdown",
   "metadata": {},
   "source": [
    "We just made our first decision tree!"
   ]
  },
  {
   "cell_type": "markdown",
   "metadata": {},
   "source": [
    "Before we go forward with learning about decision tree classifiers and reggressors we need to understand the structure of a decision tree.\n",
    "Here is the key terminology that you will have to know: \n",
    "\n",
    "- **Root**: Where we start making our conditions.\n",
    "- **Branch**:  A branch connects to the next node (statement). Each branch represents either true or false.\n",
    "- **Internal node**: conditions within the tree.  \n",
    "- **Leaf**: the value predicted from the conditions. \n",
    "- **Tree depth**: The longest path from the root to a leaf.\n",
    "\n",
    "With the decision tree algorithm in machine learning, the tree can have at most two nodes resulting from it, also known as children.\n",
    "\n",
    "If a tree only has a depth of 1, we call that a **decision stump**."
   ]
  },
  {
   "cell_type": "markdown",
   "metadata": {},
   "source": [
    "<img src=\"imgs/lingo_tree.png\"  width = \"55%\" alt=\"404 image\">"
   ]
  },
  {
   "cell_type": "markdown",
   "metadata": {},
   "source": [
    "This tree  and the one in our example above, both have a depth of 2.\n",
    "\n",
    "Trees do not need to be balanced. (You'll see this shortly)"
   ]
  },
  {
   "cell_type": "markdown",
   "metadata": {},
   "source": [
    "### Implimentation with Scikit-learn\n",
    "\n",
    "Before we build any model (we are getting to that so hang tight), we need to make sure we have the right \"parts\" aka inputs and outputs. \n",
    "\n",
    "That means we need to split up our tabular data into the features and the target, also known as $X$ and $y$.\n",
    "\n",
    "$X$ is all of our features in our data, which we also call our ***feature table***. <br>\n",
    "$y$ is our target, which is what we are predicting."
   ]
  },
  {
   "cell_type": "code",
   "execution_count": null,
   "metadata": {},
   "outputs": [],
   "source": [
    "X = df.drop(columns=[\"vote\"])\n",
    "y = df[\"vote\"]"
   ]
  },
  {
   "cell_type": "code",
   "execution_count": null,
   "metadata": {},
   "outputs": [],
   "source": [
    "X.head()"
   ]
  },
  {
   "cell_type": "code",
   "execution_count": null,
   "metadata": {},
   "outputs": [],
   "source": [
    "y.head()"
   ]
  },
  {
   "cell_type": "markdown",
   "metadata": {},
   "source": [
    "There are several machine learning libraries available to use but for this course, we will be using the  Scikit-learn (hereafter, referred to as sklearn) library, which is a popular (41.6k stars on Github) Machine Learning library for Python.\n"
   ]
  },
  {
   "cell_type": "markdown",
   "metadata": {},
   "source": [
    "- We generally import a particular ML algorithm using the following syntax:\n",
    "> `from sklearn.module import algorithm`\n",
    "\n",
    "The decision tree classification algorithm (`DecisionTreeClassifier`) sits within the `tree` module.  \n",
    "(Note there is also a Decision Tree Regression algorithm in this module which we'll come to later...)  \n",
    "Let's import the classifier using the following code:  "
   ]
  },
  {
   "cell_type": "code",
   "execution_count": null,
   "metadata": {},
   "outputs": [],
   "source": [
    "from sklearn.tree import DecisionTreeClassifier"
   ]
  },
  {
   "cell_type": "markdown",
   "metadata": {},
   "source": [
    "We can begin creating a model by instantiating an instance of the algorithm class.    \n",
    "Here we are naming our decision tree model `model`:   "
   ]
  },
  {
   "cell_type": "code",
   "execution_count": null,
   "metadata": {},
   "outputs": [],
   "source": [
    "model = DecisionTreeClassifier()\n",
    "model"
   ]
  },
  {
   "cell_type": "markdown",
   "metadata": {},
   "source": [
    "At this point we just have the framework of a model.    \n",
    "We can't do anything with our algorithm yet, because it hasn't seen any data!     \n",
    "We need to give our algorithm some data to learn/train/fit a model.    "
   ]
  },
  {
   "cell_type": "markdown",
   "metadata": {},
   "source": [
    "We can now use the `.fit()` method to train our model using the feature `X` and target `y` data we just separated.  \n",
    "When we call fit on our model object, the actual learning happens. "
   ]
  },
  {
   "cell_type": "code",
   "execution_count": null,
   "metadata": {},
   "outputs": [],
   "source": [
    "model.fit(X, y)"
   ]
  },
  {
   "cell_type": "markdown",
   "metadata": {},
   "source": [
    "Now we've used data to learn a model, let's take a look at the model we made!    \n",
    "The code below prints out our model structure for us (like the tree we made ourselves earlier)   \n",
    "\n",
    "*Note: This `display_tree`, function was adapted from the `graphviz` library with some amendments to make the trees easier to understand. You can find the code in the `script` file on Canvas.*   "
   ]
  },
  {
   "cell_type": "code",
   "execution_count": null,
   "metadata": {},
   "outputs": [],
   "source": [
    "sys.path.append('code/')\n",
    "from display_tree import display_tree\n",
    "display_tree(X.columns, model, \"imgs/decision_tree\")"
   ]
  },
  {
   "cell_type": "markdown",
   "metadata": {},
   "source": [
    "We can better visualize what's going on by actually plotting our data and the model's  **decision boundaries**.\n",
    "\n",
    "*Note: This `plot_classifier` made by Mike Gelbart, function is available for installation [here](https://github.com/mgelbart/plot-classifier) or using:*\n",
    ">`pip install git+git://github.com/mgelbart/plot-classifier.git`\n",
    "\n",
    "or with conda\n",
    "\n",
    "> `conda install git` <br>\n",
    "> `conda install pip`<br>\n",
    "> `pip install git+git://github.com/mgelbart/plot-classifier.git`"
   ]
  },
  {
   "cell_type": "code",
   "execution_count": null,
   "metadata": {},
   "outputs": [],
   "source": [
    "from plot_classifier import plot_classifier\n",
    "\n",
    "plot_classifier(X, y, model, ticks=True)\n",
    "plt.xticks(fontsize= 20);\n",
    "plt.yticks(fontsize= 20);\n",
    "plt.xlabel('lon', fontsize=20);\n",
    "plt.ylabel('lat', fontsize=20);  "
   ]
  },
  {
   "cell_type": "markdown",
   "metadata": {},
   "source": [
    "In this plot the shaded regions show what our model predicts for different feature values.  \n",
    "The scatter points are our actual 20 observations.    \n",
    "From the above plot, we can see that our model is classifying all our observations correctly, but there's an easier way to find out how our model is doing.   \n",
    "We can predict the target of examples by calling `.predict()` on the classifier object.     \n",
    "Let’s see what it predicts for a single randomly new observation first:"
   ]
  },
  {
   "cell_type": "code",
   "execution_count": null,
   "metadata": {},
   "outputs": [],
   "source": [
    "new_ex = [-87.4, 59]\n",
    "new_example = pd.DataFrame(data= [new_ex], columns = [\"lon\", \"lat\"])\n",
    "new_example"
   ]
  },
  {
   "cell_type": "code",
   "execution_count": null,
   "metadata": {},
   "outputs": [],
   "source": [
    "model.predict(new_example)"
   ]
  },
  {
   "cell_type": "markdown",
   "metadata": {},
   "source": [
    "we get a prediction of `red` for this example!\n",
    "\n",
    "We can also predict on our whole feature table - Here, we are predicting on all of X."
   ]
  },
  {
   "cell_type": "code",
   "execution_count": null,
   "metadata": {},
   "outputs": [],
   "source": [
    "model.predict(X)"
   ]
  },
  {
   "cell_type": "code",
   "execution_count": null,
   "metadata": {},
   "outputs": [],
   "source": [
    "pd.DataFrame({'true_values' : y.to_numpy(), 'predicted' : model.predict(X)})"
   ]
  },
  {
   "cell_type": "markdown",
   "metadata": {},
   "source": [
    "Or if we just want to know how many we got right, in the classification setting, we can use  `score()` which gives the accuracy of the model, i.e., the proportion of correctly predicted examples.\n",
    "\n",
    "Sometimes we will also see people reporting **error**, which is usually 1 - accuracy. \n",
    "\n",
    "Our model has an accurary of 100% (or 0% error)!"
   ]
  },
  {
   "cell_type": "code",
   "execution_count": null,
   "metadata": {},
   "outputs": [],
   "source": [
    "model.score(X,y)"
   ]
  },
  {
   "cell_type": "markdown",
   "metadata": {},
   "source": [
    "### How does `.predict()` work?\n",
    "\n",
    "For us to see how our algorithm predicts for each example, all we have to do is return to our Decision Tree. "
   ]
  },
  {
   "cell_type": "code",
   "execution_count": null,
   "metadata": {},
   "outputs": [],
   "source": [
    "display_tree(X.columns, model, \"imgs/decision_tree\")"
   ]
  },
  {
   "cell_type": "markdown",
   "metadata": {},
   "source": [
    "Let's use our `new_example` object for this example."
   ]
  },
  {
   "cell_type": "code",
   "execution_count": null,
   "metadata": {},
   "outputs": [],
   "source": [
    "new_example"
   ]
  },
  {
   "cell_type": "markdown",
   "metadata": {},
   "source": [
    "First we start at the root. <br>\n",
    "Is `lon` < -102.165? False, so we go down the right branch. <br>\n",
    "Is `lon` < -81.529? True , so we go down the left branch . <br>\n",
    "We arrive at another node. Is `lat` < 41.113? True , so we go down the left branch and arrive at a prediction of `red`! <br>\n",
    "\n",
    "Let's check this using predict again. "
   ]
  },
  {
   "cell_type": "code",
   "execution_count": null,
   "metadata": {},
   "outputs": [],
   "source": [
    "model.predict(new_example)"
   ]
  },
  {
   "cell_type": "markdown",
   "metadata": {},
   "source": [
    "Nice!"
   ]
  },
  {
   "cell_type": "markdown",
   "metadata": {},
   "source": [
    "### How does `.fit()` work?\n",
    "\n",
    "Or \"How does do Decision Trees decide what values to split on?\"\n",
    "\n",
    "\n",
    "We will not go into detail here, but there the important thing to note here is: \n",
    "\n",
    "- We evaluate the utility of a split using a mathematical formula (see [here](https://scikit-learn.org/stable/modules/tree.html#mathematical-formulation)) where we minimize impurity at each question/node (gives you the least hetegeneous splits)\n",
    "\n",
    "- Common criteria to minimize impurity\n",
    "    - Gini Index\n",
    "    - Information gain\n",
    "    - Cross entropy \n"
   ]
  },
  {
   "cell_type": "markdown",
   "metadata": {},
   "source": [
    "## Let's Practice! \n",
    "\n",
    "Using the data `candybars.csv` from the datafolder to aswer the following questions:\n",
    "\n",
    "1. How many features are there?\n",
    "2. How many observations are there? \n",
    "3. What would be a suitable target with this data?"
   ]
  },
  {
   "cell_type": "code",
   "execution_count": null,
   "metadata": {},
   "outputs": [],
   "source": [
    "candy_df = pd.read_csv('data/candybars.csv', index_col=0)\n",
    "candy_df.head()"
   ]
  },
  {
   "cell_type": "code",
   "execution_count": null,
   "metadata": {},
   "outputs": [],
   "source": [
    "candy_df.shape"
   ]
  },
  {
   "cell_type": "markdown",
   "metadata": {},
   "source": [
    "***Answer as either `fit`  or `predict`***\n",
    "1. Is called first (before the other one).\n",
    "2. Only takes X as an argument.\n",
    "3. In scikit-learn, we can ignore its output.In scikit-learn, we can ignore its output.\n",
    "\n",
    "***Quick Questions***\n",
    "1. What is the top node in a decision tree called? \n",
    "2. What Python structure/syntax are the nodes in a decision tree similar to? "
   ]
  },
  {
   "cell_type": "markdown",
   "metadata": {},
   "source": [
    "## Parameters and Hyperparameters\n",
    "\n",
    "- ***Parameters***:  Derived during training\n",
    "- ***Hyperparameters***: Adjustable parameters that can be set before training. \n",
    "\n",
    "\n",
    "\n",
    "### Parameters \n",
    "\n",
    "When you call `fit` (the training stage of building your model), **parameters** get set, like the split variables and split thresholds. \n",
    "\n",
    "\n",
    "<img src='imgs/parameters.png'  width = \"30%\" alt=\"404 image\" />\n",
    " "
   ]
  },
  {
   "cell_type": "markdown",
   "metadata": {},
   "source": [
    "### Hyperparameters\n",
    "\n",
    "But even before calling `fit` on a specific data set, we can set some some \"knobs\" which that control the learning which are called **hyperparameters**. \n",
    "\n",
    "In scikit-learn, hyperparameters are set in the constructor.\n",
    "\n",
    "`max_depth`is a hyperparameter (of many) that lets us decide and set how \"deep\" we allow our tree to grow."
   ]
  },
  {
   "cell_type": "markdown",
   "metadata": {},
   "source": [
    "Let's practice by making a decision stump (A tree with a depth of 1). Our last model was made where we set the depth to \"unlimited\" so we need to initial a new model and train a new where where we set the `max_depth` hyperparameter. "
   ]
  },
  {
   "cell_type": "code",
   "execution_count": null,
   "metadata": {},
   "outputs": [],
   "source": [
    "model_1 = DecisionTreeClassifier(max_depth=1).fit(X, y)\n",
    "model_1.fit(X, y)"
   ]
  },
  {
   "cell_type": "markdown",
   "metadata": {},
   "source": [
    "Let's see what the tree looks like now.  "
   ]
  },
  {
   "cell_type": "code",
   "execution_count": null,
   "metadata": {},
   "outputs": [],
   "source": [
    "display_tree(X.columns, model_1, \"imgs/decision_stump\")"
   ]
  },
  {
   "cell_type": "markdown",
   "metadata": {},
   "source": [
    "We see that it's a depth of one and split on `lon` at -102.165. \n",
    "\n",
    "- The hyperparameter `max_depth`  is being set by us at 1.\n",
    "- The parameter `lon` is set by the algorithm at -102.165. "
   ]
  },
  {
   "cell_type": "markdown",
   "metadata": {},
   "source": [
    "We can see the decision boundary at `lon`= -102.165 with the vertical line in the plot below. "
   ]
  },
  {
   "cell_type": "code",
   "execution_count": null,
   "metadata": {},
   "outputs": [],
   "source": [
    "plot_classifier(X, y, model_1, ticks=True)\n",
    "plt.xticks(fontsize= 20);\n",
    "plt.yticks(fontsize= 20);\n",
    "plt.xlabel('lon', fontsize=20);\n",
    "plt.ylabel('lat', fontsize=20);  "
   ]
  },
  {
   "cell_type": "markdown",
   "metadata": {},
   "source": [
    "- Looking  at the score of this model, we get an accuracy of 75%."
   ]
  },
  {
   "cell_type": "code",
   "execution_count": null,
   "metadata": {},
   "outputs": [],
   "source": [
    "model_1.score(X, y)"
   ]
  },
  {
   "cell_type": "markdown",
   "metadata": {},
   "source": [
    "Let's try growing a more complex tree model and now set `max_depth = 3`"
   ]
  },
  {
   "cell_type": "code",
   "execution_count": null,
   "metadata": {},
   "outputs": [],
   "source": [
    "model_3 = DecisionTreeClassifier(max_depth=3).fit(X, y)"
   ]
  },
  {
   "cell_type": "code",
   "execution_count": null,
   "metadata": {},
   "outputs": [],
   "source": [
    "display_tree(X.columns, model_3, \"imgs/dt_2\")"
   ]
  },
  {
   "cell_type": "markdown",
   "metadata": {},
   "source": [
    "This has 4 splits in the tree so we expect 4 decision boundaries (2 on `lon` and 2 on `lat`). "
   ]
  },
  {
   "cell_type": "code",
   "execution_count": null,
   "metadata": {},
   "outputs": [],
   "source": [
    "plot_classifier(X, y, model_3, ticks=True)\n",
    "plt.xticks(fontsize= 20);\n",
    "plt.yticks(fontsize= 20);\n",
    "plt.xlabel('lon', fontsize=20);\n",
    "plt.ylabel('lat', fontsize=20);  "
   ]
  },
  {
   "cell_type": "markdown",
   "metadata": {},
   "source": [
    "- Looking at the score of this model now get an accuracy of 90%! "
   ]
  },
  {
   "cell_type": "code",
   "execution_count": null,
   "metadata": {},
   "outputs": [],
   "source": [
    "model_3.score(X, y)"
   ]
  },
  {
   "cell_type": "markdown",
   "metadata": {},
   "source": [
    "Let's do one more and set `max_depth = 5`."
   ]
  },
  {
   "cell_type": "code",
   "execution_count": null,
   "metadata": {},
   "outputs": [],
   "source": [
    "model_5 = DecisionTreeClassifier(max_depth=5).fit(X, y)"
   ]
  },
  {
   "cell_type": "code",
   "execution_count": null,
   "metadata": {},
   "outputs": [],
   "source": [
    "display_tree(X.columns, model_5, \"imgs/dt_5\")"
   ]
  },
  {
   "cell_type": "markdown",
   "metadata": {},
   "source": [
    "This has 7 splits in the tree. How many decision boundaries should there be?"
   ]
  },
  {
   "cell_type": "code",
   "execution_count": null,
   "metadata": {},
   "outputs": [],
   "source": [
    "plot_classifier(X, y, model_5, ticks=True)\n",
    "plt.xticks(fontsize= 20);\n",
    "plt.yticks(fontsize= 20);\n",
    "plt.xlabel('lon', fontsize=20);\n",
    "plt.ylabel('lat', fontsize=20);  "
   ]
  },
  {
   "cell_type": "markdown",
   "metadata": {},
   "source": [
    "And if we check the score of this model we get 100% accuracy! "
   ]
  },
  {
   "cell_type": "code",
   "execution_count": null,
   "metadata": {},
   "outputs": [],
   "source": [
    "model_5.score(X, y)"
   ]
  },
  {
   "cell_type": "markdown",
   "metadata": {},
   "source": [
    "We see here that as `max_depth` increases, the accuracy of the training data does as well.\n",
    "\n",
    "Doing this isn’t always the best idea and we’ll explain this a little bit later on.\n",
    "\n",
    "- This is just one of many other hyperparameters for decision trees that you can explore -> link <a href=\"https://scikit-learn.org/stable/modules/generated/sklearn.tree.DecisionTreeClassifier.html\" target=\"_blank\">here</a> There are many other hyperparameters for decision trees that you can explore at the link <a href=\"https://scikit-learn.org/stable/modules/generated/sklearn.tree.DecisionTreeClassifier.html\" target=\"_blank\">here</a>."
   ]
  },
  {
   "cell_type": "markdown",
   "metadata": {},
   "source": [
    "To summarize this section:\n",
    "- **parameters** are automatically learned by an algorithm during training\n",
    "- **hyperparameters** are specified before training"
   ]
  },
  {
   "cell_type": "markdown",
   "metadata": {},
   "source": [
    "## Decision Tree Regressor "
   ]
  },
  {
   "cell_type": "markdown",
   "metadata": {},
   "source": [
    "We saw that we can use decision trees for classification problems but we can also use this decision tree algorithm for regression problems.  \n",
    "\n",
    "Instead of using Gini impurity (which we briefly mentioned this above), we can use <a href=\"https://scikit-learn.org/stable/modules/tree.html#mathematical-formulation\" target=\"_blank\">some other criteria</a> for splitting. \n",
    "\n",
    "(A common one is mean squared error (MSE) which we will discuss shortly)\n",
    "\n",
    "`scikit-learn` supports regression using decision trees with `DecisionTreeRegressor()` and the `.fit()` and `.predict()` paradigm that is similar to classification.\n",
    "\n",
    "Let's do an example using the `kc_house_data` we saw in example 1. "
   ]
  },
  {
   "cell_type": "code",
   "execution_count": null,
   "metadata": {},
   "outputs": [],
   "source": [
    "df = pd.read_csv(\"data/kc_house_data.csv\")\n",
    "df = df.drop(columns=[\"id\", \"date\"])\n",
    "df.head()"
   ]
  },
  {
   "cell_type": "code",
   "execution_count": null,
   "metadata": {},
   "outputs": [],
   "source": [
    "X = df.drop(columns=[\"price\"])\n",
    "X.head()"
   ]
  },
  {
   "cell_type": "code",
   "execution_count": null,
   "metadata": {},
   "outputs": [],
   "source": [
    "y = df[\"price\"]\n",
    "y.head()"
   ]
  },
  {
   "cell_type": "markdown",
   "metadata": {},
   "source": [
    "We can see that instead of predicting a categorical column like we did with `vote` before, our target column is now numeric. \n",
    "\n",
    "Instead of importing `DecisionTreeClassifier`, we import `DecisionTreeRegressor`.\n",
    "\n",
    "We follow the same steps as before and can even set hyperparameters as we did in classification. \n",
    "\n",
    "Here, when we build our model, we are specifying a `max_depth` of 3. \n",
    "\n",
    "This means our decision tree is going to be constrained to a depth of 3."
   ]
  },
  {
   "cell_type": "code",
   "execution_count": null,
   "metadata": {},
   "outputs": [],
   "source": [
    "from sklearn.tree import DecisionTreeRegressor\n",
    "\n",
    "depth = 3\n",
    "reg_model = DecisionTreeRegressor(max_depth=depth)\n",
    "reg_model.fit(X, y)"
   ]
  },
  {
   "cell_type": "markdown",
   "metadata": {},
   "source": [
    "Let's look at the tree it produces our leaves used to contain a categorical value for prediction, but this time we see our leaves are predicting numerical values."
   ]
  },
  {
   "cell_type": "code",
   "execution_count": null,
   "metadata": {},
   "outputs": [],
   "source": [
    "display_tree(X.columns, reg_model, \"imgs/dt_reg\")"
   ]
  },
  {
   "cell_type": "markdown",
   "metadata": {},
   "source": [
    "Let's see what our model predicts for a single example. "
   ]
  },
  {
   "cell_type": "code",
   "execution_count": null,
   "metadata": {},
   "outputs": [],
   "source": [
    "X.loc[[0]]"
   ]
  },
  {
   "cell_type": "code",
   "execution_count": null,
   "metadata": {},
   "outputs": [],
   "source": [
    "reg_model.predict(X.loc[[0]])"
   ]
  },
  {
   "cell_type": "markdown",
   "metadata": {},
   "source": [
    "Our model predicts a housing price of $269848.39 \n",
    "\n",
    "Should we see what the true value is? "
   ]
  },
  {
   "cell_type": "code",
   "execution_count": null,
   "metadata": {},
   "outputs": [],
   "source": [
    "y.loc[[0]]"
   ]
  },
  {
   "cell_type": "markdown",
   "metadata": {},
   "source": [
    "The true value is $221900.0, but how well did it score? \n",
    "\n",
    "With regression problems we can't use accuracy for a scoring method so instead when we use `.score()`  it returns somethings called an <a href=\"https://scikit-learn.org/stable/modules/generated/sklearn.metrics.r2_score.html#sklearn.metrics.r2_score\" target=\"_blank\"> 𝑅2 </a>."
   ]
  },
  {
   "cell_type": "code",
   "execution_count": null,
   "metadata": {},
   "outputs": [],
   "source": [
    "reg_model.score(X,y)"
   ]
  },
  {
   "cell_type": "markdown",
   "metadata": {},
   "source": [
    "The maximum 𝑅2 is 1 for perfect predictions. \n",
    "\n",
    "It can be negative which is very bad. "
   ]
  },
  {
   "cell_type": "markdown",
   "metadata": {},
   "source": [
    "## Let's Practice "
   ]
  },
  {
   "cell_type": "markdown",
   "metadata": {},
   "source": [
    "Using the data `candybars.csv` from the datafolder (or going to exercise 7 [here](https://ml-learn.mds.ubc.ca/en/module2))  for the following:\n",
    "1. Define two objects named `X` and `y` which contain the features and target column respectively.\n",
    "2. Using sklearn, create 3 different decision tree classifiers using 3 different `min_samples_split` values based on this data.\n",
    "3. What is the accuracy of each classifier on the training data?\n",
    "4. a) Which `min_samples_split` value would you choose to predict this data? <br>\n",
    "   b) Would you choose the same `min_samples_split` value to predict new data?\n",
    "5. Do you think most of the computational effort for a decision tree takes place in the `.fit()` stage or `.predict()` stage?"
   ]
  },
  {
   "cell_type": "code",
   "execution_count": null,
   "metadata": {},
   "outputs": [],
   "source": [
    "candy_df = pd.read_csv('data/candybars.csv', index_col=0)\n",
    "candy_df.head()"
   ]
  },
  {
   "cell_type": "markdown",
   "metadata": {},
   "source": [
    "## What We've Learned Today<a id=\"9\"></a>\n",
    "\n",
    "- What is machine learning (supervised/unsupervised, classification/regression)\n",
    "- Machine learning terminology\n",
    "- What is the decision tree algorithm and how does it work\n",
    "- The scikit-learn library\n",
    "- Parameters and hyperparameters"
   ]
  }
 ],
 "metadata": {
  "kernelspec": {
   "display_name": "Python 3",
   "language": "python",
   "name": "python3"
  },
  "language_info": {
   "codemirror_mode": {
    "name": "ipython",
    "version": 3
   },
   "file_extension": ".py",
   "mimetype": "text/x-python",
   "name": "python",
   "nbconvert_exporter": "python",
   "pygments_lexer": "ipython3",
   "version": "3.8.5"
  },
  "toc": {
   "base_numbering": "0",
   "nav_menu": {},
   "number_sections": true,
   "sideBar": true,
   "skip_h1_title": true,
   "title_cell": "Table of Contents",
   "title_sidebar": "Contents",
   "toc_cell": false,
   "toc_position": {},
   "toc_section_display": true,
   "toc_window_display": true
  },
  "toc-autonumbering": false,
  "toc-showmarkdowntxt": true
 },
 "nbformat": 4,
 "nbformat_minor": 4
}
