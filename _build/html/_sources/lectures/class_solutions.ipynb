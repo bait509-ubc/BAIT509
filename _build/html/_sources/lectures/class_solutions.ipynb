{
 "cells": [
  {
   "cell_type": "markdown",
   "metadata": {},
   "source": [
    "# Exercise Solutions"
   ]
  },
  {
   "cell_type": "code",
   "execution_count": 2,
   "metadata": {},
   "outputs": [],
   "source": [
    "import numpy as np\n",
    "import pandas as pd\n",
    "from sklearn.tree import DecisionTreeClassifier\n",
    "from sklearn.neighbors import KNeighborsClassifier"
   ]
  },
  {
   "cell_type": "markdown",
   "metadata": {},
   "source": [
    "## Lecture 1"
   ]
  },
  {
   "cell_type": "code",
   "execution_count": 9,
   "metadata": {},
   "outputs": [
    {
     "name": "stdout",
     "output_type": "stream",
     "text": [
      "For max_depth=  2 accuracy= 0.84\n",
      "For max_depth=  5 accuracy= 0.68\n",
      "For max_depth=  10 accuracy= 0.64\n"
     ]
    }
   ],
   "source": [
    "# Define X and y\n",
    "candy_df = pd.read_csv('data/candybars.csv')\n",
    "\n",
    "X = candy_df.loc[:, 'chocolate':'multi']\n",
    "y = candy_df['availability']\n",
    "\n",
    "# Creating a model\n",
    "for min_samples_split in [2, 5, 10]:\n",
    "    hyper_tree = DecisionTreeClassifier(random_state=1, max_depth=8, min_samples_split=min_samples_split)\n",
    "    hyper_tree.fit(X,y)\n",
    "    print(\"For max_depth= \",min_samples_split, \"accuracy=\", hyper_tree.score(X, y).round(2))"
   ]
  },
  {
   "cell_type": "markdown",
   "metadata": {},
   "source": [
    "4. a) Which `min_samples_split` value would you choose to predict this data? <br>\n",
    "\n",
    "> Not necessarily the one with the greatest accuracy.\n",
    "   \n",
    "4. b) Would you choose the same `min_samples_split` value to predict new data?\n",
    "\n",
    ">  No and we will explain this next lecture. \n",
    "\n",
    "5. Do you think most of the computational effort for a decision tree takes place in the `.fit()` stage or `.predict()` stage?\n",
    "\n",
    ">  Most of the computational effort takes places in the .fit() stage, when we create the model."
   ]
  }
 ],
 "metadata": {
  "kernelspec": {
   "display_name": "Python 3",
   "language": "python",
   "name": "python3"
  },
  "language_info": {
   "codemirror_mode": {
    "name": "ipython",
    "version": 3
   },
   "file_extension": ".py",
   "mimetype": "text/x-python",
   "name": "python",
   "nbconvert_exporter": "python",
   "pygments_lexer": "ipython3",
   "version": "3.8.5"
  }
 },
 "nbformat": 4,
 "nbformat_minor": 4
}
