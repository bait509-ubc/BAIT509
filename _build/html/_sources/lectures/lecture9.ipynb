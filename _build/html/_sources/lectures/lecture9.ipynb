{
 "cells": [
  {
   "cell_type": "markdown",
   "metadata": {},
   "source": [
    "# Classification and Regression Metrics\n",
    "\n",
    "*Hayley Boyce, May 17th, 2021*"
   ]
  },
  {
   "cell_type": "code",
   "execution_count": 1,
   "metadata": {},
   "outputs": [],
   "source": [
    "# Importing our libraries\n",
    "import pandas as pd\n",
    "import altair as alt\n",
    "import numpy as np\n",
    "from sklearn.tree import DecisionTreeClassifier\n",
    "from sklearn.dummy import DummyClassifier, DummyRegressor\n",
    "from sklearn.neighbors import KNeighborsClassifier, KNeighborsRegressor\n",
    "from sklearn.model_selection import cross_validate, train_test_split\n",
    "from sklearn.svm import SVR, SVC\n",
    "from sklearn import datasets\n",
    "\n",
    "import sys\n",
    "sys.path.append('code/')\n",
    "from display_tree import display_tree\n",
    "from plot_classifier import plot_classifier\n",
    "import matplotlib.pyplot as plt\n",
    "from sklearn.linear_model import LogisticRegression\n",
    "\n",
    "# Preprocessing and pipeline\n",
    "from sklearn.impute import SimpleImputer\n",
    "from sklearn.metrics.pairwise import euclidean_distances\n",
    "from sklearn.pipeline import Pipeline, make_pipeline\n",
    "from sklearn.compose import make_column_transformer\n",
    "\n",
    "\n",
    "from sklearn.preprocessing import OneHotEncoder, OrdinalEncoder, StandardScaler, MinMaxScaler\n",
    "\n",
    "import scipy\n",
    "from sklearn.model_selection import RandomizedSearchCV, GridSearchCV"
   ]
  },
  {
   "cell_type": "markdown",
   "metadata": {},
   "source": [
    "## House Keeping \n",
    "- Big lecture today!\n",
    "- Last class on Wednesday. \n",
    "- Assignment 3 due on Wednesday.\n",
    "- [My Twitter](https://twitter.com/HayleyFBoyce)\n",
    "- Question 3.2 -> most informative negative words\n",
    "- Project clarification (If you have a \"How\" business question) "
   ]
  },
  {
   "cell_type": "markdown",
   "metadata": {},
   "source": [
    "## Lecture Learning Objectives \n",
    "\n",
    "- Explain why accuracy is not always the best metric in ML.\n",
    "- Explain components of a confusion matrix.\n",
    "- Define precision, recall, and f1-score and use them to evaluate different classifiers.\n",
    "- Identify whether there is class imbalance and whether you need to deal with it.\n",
    "- Explain `class_weight` and use it to deal with data imbalance.\n",
    "- Appropriately select a scoring metric given a regression problem.\n",
    "- Interpret and communicate the meanings of different scoring metrics on regression problems. MSE, RMSE, $R^2$, MAPE.\n",
    "- Apply different scoring functions with `cross_validate`, `GridSearchCV` and `RandomizedSearchCV`."
   ]
  },
  {
   "cell_type": "markdown",
   "metadata": {},
   "source": [
    "## Five Minute Recap/ Lightning Questions \n",
    "\n",
    "- What are the 2 types of feature selection methods we saw last class?\n",
    "- What is the name of the function that helps us discover features that potentially contribute to our model in Decision Trees (and other models too)\n",
    "- In a decision tree, where can we see the \"most important\" feature of the model in the structure?\n",
    "- Should we ever question our clients' requests? "
   ]
  },
  {
   "cell_type": "markdown",
   "metadata": {},
   "source": [
    "### Some lingering questions\n",
    "\n",
    "- What happens if we have data where there is a lot of one class and very few of another?\n",
    "- How can we measure our model's success besides using accuracy or $R2$?"
   ]
  },
  {
   "cell_type": "markdown",
   "metadata": {},
   "source": [
    "## Introducing Evaluation Metrics \n",
    "\n",
    "Up until this point, we have been scoring our models the same way every time.\n",
    "\n",
    "We've been using the percentage of correctly predicted examples for classification problems and the $R^2$ metric for regression problems.\n",
    "\n",
    "Let's discuss how we need to expand our horizons and why it's important to evaluate our models in other ways.\n",
    "\n",
    "To help explain why accuracy isn't always the most beneficial option, we are bringing in a new dataset.\n",
    "\n",
    "You've actually seen this data at the very beginning of this course in lecture 1 but it was just a subset of the entire data.\n",
    "\n",
    "Please download the data from Kaggle here and put it in the data folder used for the lectures."
   ]
  },
  {
   "cell_type": "code",
   "execution_count": 2,
   "metadata": {},
   "outputs": [],
   "source": [
    "cc_df = pd.read_csv('data/creditcard.csv', encoding='latin-1')\n",
    "train_df, test_df = train_test_split(cc_df, test_size=0.3, random_state=111)"
   ]
  },
  {
   "cell_type": "code",
   "execution_count": 3,
   "metadata": {},
   "outputs": [
    {
     "data": {
      "text/html": [
       "<div>\n",
       "<style scoped>\n",
       "    .dataframe tbody tr th:only-of-type {\n",
       "        vertical-align: middle;\n",
       "    }\n",
       "\n",
       "    .dataframe tbody tr th {\n",
       "        vertical-align: top;\n",
       "    }\n",
       "\n",
       "    .dataframe thead th {\n",
       "        text-align: right;\n",
       "    }\n",
       "</style>\n",
       "<table border=\"1\" class=\"dataframe\">\n",
       "  <thead>\n",
       "    <tr style=\"text-align: right;\">\n",
       "      <th></th>\n",
       "      <th>Time</th>\n",
       "      <th>V1</th>\n",
       "      <th>V2</th>\n",
       "      <th>V3</th>\n",
       "      <th>V4</th>\n",
       "      <th>V5</th>\n",
       "      <th>V6</th>\n",
       "      <th>V7</th>\n",
       "      <th>V8</th>\n",
       "      <th>V9</th>\n",
       "      <th>...</th>\n",
       "      <th>V21</th>\n",
       "      <th>V22</th>\n",
       "      <th>V23</th>\n",
       "      <th>V24</th>\n",
       "      <th>V25</th>\n",
       "      <th>V26</th>\n",
       "      <th>V27</th>\n",
       "      <th>V28</th>\n",
       "      <th>Amount</th>\n",
       "      <th>Class</th>\n",
       "    </tr>\n",
       "  </thead>\n",
       "  <tbody>\n",
       "    <tr>\n",
       "      <th>64454</th>\n",
       "      <td>51150.0</td>\n",
       "      <td>-3.538816</td>\n",
       "      <td>3.481893</td>\n",
       "      <td>-1.827130</td>\n",
       "      <td>-0.573050</td>\n",
       "      <td>2.644106</td>\n",
       "      <td>-0.340988</td>\n",
       "      <td>2.102135</td>\n",
       "      <td>-2.939006</td>\n",
       "      <td>2.578654</td>\n",
       "      <td>...</td>\n",
       "      <td>0.530978</td>\n",
       "      <td>-0.860677</td>\n",
       "      <td>-0.201810</td>\n",
       "      <td>-1.719747</td>\n",
       "      <td>0.729143</td>\n",
       "      <td>-0.547993</td>\n",
       "      <td>-0.023636</td>\n",
       "      <td>-0.454966</td>\n",
       "      <td>1.00</td>\n",
       "      <td>0</td>\n",
       "    </tr>\n",
       "    <tr>\n",
       "      <th>37906</th>\n",
       "      <td>39163.0</td>\n",
       "      <td>-0.363913</td>\n",
       "      <td>0.853399</td>\n",
       "      <td>1.648195</td>\n",
       "      <td>1.118934</td>\n",
       "      <td>0.100882</td>\n",
       "      <td>0.423852</td>\n",
       "      <td>0.472790</td>\n",
       "      <td>-0.972440</td>\n",
       "      <td>0.033833</td>\n",
       "      <td>...</td>\n",
       "      <td>0.687055</td>\n",
       "      <td>-0.094586</td>\n",
       "      <td>0.121531</td>\n",
       "      <td>0.146830</td>\n",
       "      <td>-0.944092</td>\n",
       "      <td>-0.558564</td>\n",
       "      <td>-0.186814</td>\n",
       "      <td>-0.257103</td>\n",
       "      <td>18.49</td>\n",
       "      <td>0</td>\n",
       "    </tr>\n",
       "    <tr>\n",
       "      <th>79378</th>\n",
       "      <td>57994.0</td>\n",
       "      <td>1.193021</td>\n",
       "      <td>-0.136714</td>\n",
       "      <td>0.622612</td>\n",
       "      <td>0.780864</td>\n",
       "      <td>-0.823511</td>\n",
       "      <td>-0.706444</td>\n",
       "      <td>-0.206073</td>\n",
       "      <td>-0.016918</td>\n",
       "      <td>0.781531</td>\n",
       "      <td>...</td>\n",
       "      <td>-0.310405</td>\n",
       "      <td>-0.842028</td>\n",
       "      <td>0.085477</td>\n",
       "      <td>0.366005</td>\n",
       "      <td>0.254443</td>\n",
       "      <td>0.290002</td>\n",
       "      <td>-0.036764</td>\n",
       "      <td>0.015039</td>\n",
       "      <td>23.74</td>\n",
       "      <td>0</td>\n",
       "    </tr>\n",
       "    <tr>\n",
       "      <th>245686</th>\n",
       "      <td>152859.0</td>\n",
       "      <td>1.604032</td>\n",
       "      <td>-0.808208</td>\n",
       "      <td>-1.594982</td>\n",
       "      <td>0.200475</td>\n",
       "      <td>0.502985</td>\n",
       "      <td>0.832370</td>\n",
       "      <td>-0.034071</td>\n",
       "      <td>0.234040</td>\n",
       "      <td>0.550616</td>\n",
       "      <td>...</td>\n",
       "      <td>0.519029</td>\n",
       "      <td>1.429217</td>\n",
       "      <td>-0.139322</td>\n",
       "      <td>-1.293663</td>\n",
       "      <td>0.037785</td>\n",
       "      <td>0.061206</td>\n",
       "      <td>0.005387</td>\n",
       "      <td>-0.057296</td>\n",
       "      <td>156.52</td>\n",
       "      <td>0</td>\n",
       "    </tr>\n",
       "    <tr>\n",
       "      <th>60943</th>\n",
       "      <td>49575.0</td>\n",
       "      <td>-2.669614</td>\n",
       "      <td>-2.734385</td>\n",
       "      <td>0.662450</td>\n",
       "      <td>-0.059077</td>\n",
       "      <td>3.346850</td>\n",
       "      <td>-2.549682</td>\n",
       "      <td>-1.430571</td>\n",
       "      <td>-0.118450</td>\n",
       "      <td>0.469383</td>\n",
       "      <td>...</td>\n",
       "      <td>-0.228329</td>\n",
       "      <td>-0.370643</td>\n",
       "      <td>-0.211544</td>\n",
       "      <td>-0.300837</td>\n",
       "      <td>-1.174590</td>\n",
       "      <td>0.573818</td>\n",
       "      <td>0.388023</td>\n",
       "      <td>0.161782</td>\n",
       "      <td>57.50</td>\n",
       "      <td>0</td>\n",
       "    </tr>\n",
       "  </tbody>\n",
       "</table>\n",
       "<p>5 rows × 31 columns</p>\n",
       "</div>"
      ],
      "text/plain": [
       "            Time        V1        V2        V3        V4        V5        V6  \\\n",
       "64454    51150.0 -3.538816  3.481893 -1.827130 -0.573050  2.644106 -0.340988   \n",
       "37906    39163.0 -0.363913  0.853399  1.648195  1.118934  0.100882  0.423852   \n",
       "79378    57994.0  1.193021 -0.136714  0.622612  0.780864 -0.823511 -0.706444   \n",
       "245686  152859.0  1.604032 -0.808208 -1.594982  0.200475  0.502985  0.832370   \n",
       "60943    49575.0 -2.669614 -2.734385  0.662450 -0.059077  3.346850 -2.549682   \n",
       "\n",
       "              V7        V8        V9  ...       V21       V22       V23  \\\n",
       "64454   2.102135 -2.939006  2.578654  ...  0.530978 -0.860677 -0.201810   \n",
       "37906   0.472790 -0.972440  0.033833  ...  0.687055 -0.094586  0.121531   \n",
       "79378  -0.206073 -0.016918  0.781531  ... -0.310405 -0.842028  0.085477   \n",
       "245686 -0.034071  0.234040  0.550616  ...  0.519029  1.429217 -0.139322   \n",
       "60943  -1.430571 -0.118450  0.469383  ... -0.228329 -0.370643 -0.211544   \n",
       "\n",
       "             V24       V25       V26       V27       V28  Amount  Class  \n",
       "64454  -1.719747  0.729143 -0.547993 -0.023636 -0.454966    1.00      0  \n",
       "37906   0.146830 -0.944092 -0.558564 -0.186814 -0.257103   18.49      0  \n",
       "79378   0.366005  0.254443  0.290002 -0.036764  0.015039   23.74      0  \n",
       "245686 -1.293663  0.037785  0.061206  0.005387 -0.057296  156.52      0  \n",
       "60943  -0.300837 -1.174590  0.573818  0.388023  0.161782   57.50      0  \n",
       "\n",
       "[5 rows x 31 columns]"
      ]
     },
     "execution_count": 3,
     "metadata": {},
     "output_type": "execute_result"
    }
   ],
   "source": [
    "train_df.head()"
   ]
  },
  {
   "cell_type": "code",
   "execution_count": 4,
   "metadata": {},
   "outputs": [
    {
     "data": {
      "text/plain": [
       "(199364, 31)"
      ]
     },
     "execution_count": 4,
     "metadata": {},
     "output_type": "execute_result"
    }
   ],
   "source": [
    "train_df.shape"
   ]
  },
  {
   "cell_type": "markdown",
   "metadata": {},
   "source": [
    "We can see this is a large dataset with 199364 examples and 31 features in our training set.\n",
    "\n",
    "Hence why I can't distribute it - it's too big! "
   ]
  },
  {
   "cell_type": "code",
   "execution_count": 5,
   "metadata": {},
   "outputs": [
    {
     "data": {
      "text/html": [
       "<div>\n",
       "<style scoped>\n",
       "    .dataframe tbody tr th:only-of-type {\n",
       "        vertical-align: middle;\n",
       "    }\n",
       "\n",
       "    .dataframe tbody tr th {\n",
       "        vertical-align: top;\n",
       "    }\n",
       "\n",
       "    .dataframe thead th {\n",
       "        text-align: right;\n",
       "    }\n",
       "</style>\n",
       "<table border=\"1\" class=\"dataframe\">\n",
       "  <thead>\n",
       "    <tr style=\"text-align: right;\">\n",
       "      <th></th>\n",
       "      <th>Time</th>\n",
       "      <th>V1</th>\n",
       "      <th>V2</th>\n",
       "      <th>V3</th>\n",
       "      <th>V4</th>\n",
       "      <th>V5</th>\n",
       "      <th>V6</th>\n",
       "      <th>V7</th>\n",
       "      <th>V8</th>\n",
       "      <th>V9</th>\n",
       "      <th>...</th>\n",
       "      <th>V21</th>\n",
       "      <th>V22</th>\n",
       "      <th>V23</th>\n",
       "      <th>V24</th>\n",
       "      <th>V25</th>\n",
       "      <th>V26</th>\n",
       "      <th>V27</th>\n",
       "      <th>V28</th>\n",
       "      <th>Amount</th>\n",
       "      <th>Class</th>\n",
       "    </tr>\n",
       "  </thead>\n",
       "  <tbody>\n",
       "    <tr>\n",
       "      <th>count</th>\n",
       "      <td>199364.000000</td>\n",
       "      <td>199364.000000</td>\n",
       "      <td>199364.000000</td>\n",
       "      <td>199364.000000</td>\n",
       "      <td>199364.000000</td>\n",
       "      <td>199364.000000</td>\n",
       "      <td>199364.000000</td>\n",
       "      <td>199364.000000</td>\n",
       "      <td>199364.000000</td>\n",
       "      <td>199364.000000</td>\n",
       "      <td>...</td>\n",
       "      <td>199364.000000</td>\n",
       "      <td>199364.000000</td>\n",
       "      <td>199364.000000</td>\n",
       "      <td>199364.000000</td>\n",
       "      <td>199364.000000</td>\n",
       "      <td>199364.000000</td>\n",
       "      <td>199364.000000</td>\n",
       "      <td>199364.000000</td>\n",
       "      <td>199364.000000</td>\n",
       "      <td>199364.000000</td>\n",
       "    </tr>\n",
       "    <tr>\n",
       "      <th>mean</th>\n",
       "      <td>94888.815669</td>\n",
       "      <td>0.000492</td>\n",
       "      <td>-0.000726</td>\n",
       "      <td>0.000927</td>\n",
       "      <td>0.000630</td>\n",
       "      <td>0.000036</td>\n",
       "      <td>0.000011</td>\n",
       "      <td>-0.001286</td>\n",
       "      <td>-0.002889</td>\n",
       "      <td>-0.000891</td>\n",
       "      <td>...</td>\n",
       "      <td>0.001205</td>\n",
       "      <td>0.000155</td>\n",
       "      <td>-0.000198</td>\n",
       "      <td>0.000113</td>\n",
       "      <td>0.000235</td>\n",
       "      <td>0.000312</td>\n",
       "      <td>-0.000366</td>\n",
       "      <td>0.000227</td>\n",
       "      <td>88.164679</td>\n",
       "      <td>0.001700</td>\n",
       "    </tr>\n",
       "    <tr>\n",
       "      <th>std</th>\n",
       "      <td>47491.435489</td>\n",
       "      <td>1.959870</td>\n",
       "      <td>1.645519</td>\n",
       "      <td>1.505335</td>\n",
       "      <td>1.413958</td>\n",
       "      <td>1.361718</td>\n",
       "      <td>1.327188</td>\n",
       "      <td>1.210001</td>\n",
       "      <td>1.214852</td>\n",
       "      <td>1.096927</td>\n",
       "      <td>...</td>\n",
       "      <td>0.748510</td>\n",
       "      <td>0.726634</td>\n",
       "      <td>0.628139</td>\n",
       "      <td>0.605060</td>\n",
       "      <td>0.520857</td>\n",
       "      <td>0.481960</td>\n",
       "      <td>0.401541</td>\n",
       "      <td>0.333139</td>\n",
       "      <td>238.925768</td>\n",
       "      <td>0.041201</td>\n",
       "    </tr>\n",
       "    <tr>\n",
       "      <th>min</th>\n",
       "      <td>0.000000</td>\n",
       "      <td>-56.407510</td>\n",
       "      <td>-72.715728</td>\n",
       "      <td>-31.813586</td>\n",
       "      <td>-5.683171</td>\n",
       "      <td>-42.147898</td>\n",
       "      <td>-26.160506</td>\n",
       "      <td>-43.557242</td>\n",
       "      <td>-73.216718</td>\n",
       "      <td>-13.320155</td>\n",
       "      <td>...</td>\n",
       "      <td>-34.830382</td>\n",
       "      <td>-8.887017</td>\n",
       "      <td>-44.807735</td>\n",
       "      <td>-2.824849</td>\n",
       "      <td>-10.295397</td>\n",
       "      <td>-2.241620</td>\n",
       "      <td>-22.565679</td>\n",
       "      <td>-11.710896</td>\n",
       "      <td>0.000000</td>\n",
       "      <td>0.000000</td>\n",
       "    </tr>\n",
       "    <tr>\n",
       "      <th>50%</th>\n",
       "      <td>84772.500000</td>\n",
       "      <td>0.018854</td>\n",
       "      <td>0.065463</td>\n",
       "      <td>0.179080</td>\n",
       "      <td>-0.019531</td>\n",
       "      <td>-0.056703</td>\n",
       "      <td>-0.275290</td>\n",
       "      <td>0.040497</td>\n",
       "      <td>0.022039</td>\n",
       "      <td>-0.052607</td>\n",
       "      <td>...</td>\n",
       "      <td>-0.029146</td>\n",
       "      <td>0.007666</td>\n",
       "      <td>-0.011678</td>\n",
       "      <td>0.041031</td>\n",
       "      <td>0.016587</td>\n",
       "      <td>-0.052790</td>\n",
       "      <td>0.001239</td>\n",
       "      <td>0.011234</td>\n",
       "      <td>22.000000</td>\n",
       "      <td>0.000000</td>\n",
       "    </tr>\n",
       "    <tr>\n",
       "      <th>max</th>\n",
       "      <td>172792.000000</td>\n",
       "      <td>2.451888</td>\n",
       "      <td>22.057729</td>\n",
       "      <td>9.382558</td>\n",
       "      <td>16.491217</td>\n",
       "      <td>34.801666</td>\n",
       "      <td>23.917837</td>\n",
       "      <td>44.054461</td>\n",
       "      <td>19.587773</td>\n",
       "      <td>15.594995</td>\n",
       "      <td>...</td>\n",
       "      <td>27.202839</td>\n",
       "      <td>10.503090</td>\n",
       "      <td>22.083545</td>\n",
       "      <td>4.022866</td>\n",
       "      <td>6.070850</td>\n",
       "      <td>3.517346</td>\n",
       "      <td>12.152401</td>\n",
       "      <td>33.847808</td>\n",
       "      <td>11898.090000</td>\n",
       "      <td>1.000000</td>\n",
       "    </tr>\n",
       "  </tbody>\n",
       "</table>\n",
       "<p>6 rows × 31 columns</p>\n",
       "</div>"
      ],
      "text/plain": [
       "                Time             V1             V2             V3  \\\n",
       "count  199364.000000  199364.000000  199364.000000  199364.000000   \n",
       "mean    94888.815669       0.000492      -0.000726       0.000927   \n",
       "std     47491.435489       1.959870       1.645519       1.505335   \n",
       "min         0.000000     -56.407510     -72.715728     -31.813586   \n",
       "50%     84772.500000       0.018854       0.065463       0.179080   \n",
       "max    172792.000000       2.451888      22.057729       9.382558   \n",
       "\n",
       "                  V4             V5             V6             V7  \\\n",
       "count  199364.000000  199364.000000  199364.000000  199364.000000   \n",
       "mean        0.000630       0.000036       0.000011      -0.001286   \n",
       "std         1.413958       1.361718       1.327188       1.210001   \n",
       "min        -5.683171     -42.147898     -26.160506     -43.557242   \n",
       "50%        -0.019531      -0.056703      -0.275290       0.040497   \n",
       "max        16.491217      34.801666      23.917837      44.054461   \n",
       "\n",
       "                  V8             V9  ...            V21            V22  \\\n",
       "count  199364.000000  199364.000000  ...  199364.000000  199364.000000   \n",
       "mean       -0.002889      -0.000891  ...       0.001205       0.000155   \n",
       "std         1.214852       1.096927  ...       0.748510       0.726634   \n",
       "min       -73.216718     -13.320155  ...     -34.830382      -8.887017   \n",
       "50%         0.022039      -0.052607  ...      -0.029146       0.007666   \n",
       "max        19.587773      15.594995  ...      27.202839      10.503090   \n",
       "\n",
       "                 V23            V24            V25            V26  \\\n",
       "count  199364.000000  199364.000000  199364.000000  199364.000000   \n",
       "mean       -0.000198       0.000113       0.000235       0.000312   \n",
       "std         0.628139       0.605060       0.520857       0.481960   \n",
       "min       -44.807735      -2.824849     -10.295397      -2.241620   \n",
       "50%        -0.011678       0.041031       0.016587      -0.052790   \n",
       "max        22.083545       4.022866       6.070850       3.517346   \n",
       "\n",
       "                 V27            V28         Amount          Class  \n",
       "count  199364.000000  199364.000000  199364.000000  199364.000000  \n",
       "mean       -0.000366       0.000227      88.164679       0.001700  \n",
       "std         0.401541       0.333139     238.925768       0.041201  \n",
       "min       -22.565679     -11.710896       0.000000       0.000000  \n",
       "50%         0.001239       0.011234      22.000000       0.000000  \n",
       "max        12.152401      33.847808   11898.090000       1.000000  \n",
       "\n",
       "[6 rows x 31 columns]"
      ]
     },
     "execution_count": 5,
     "metadata": {},
     "output_type": "execute_result"
    }
   ],
   "source": [
    "train_df.describe(include=\"all\", percentiles = [])"
   ]
  },
  {
   "cell_type": "markdown",
   "metadata": {},
   "source": [
    "We see that the columns are all scaled and numerical.\n",
    "\n",
    "You don't need to worry about this now. The original columns have been transformed already for confidentiality and our benefit so now there are no categorical features."
   ]
  },
  {
   "cell_type": "markdown",
   "metadata": {},
   "source": [
    "Let's separate `X` and `y` for train and test splits."
   ]
  },
  {
   "cell_type": "code",
   "execution_count": 6,
   "metadata": {},
   "outputs": [],
   "source": [
    "X_train_big, y_train_big = train_df.drop(columns=[\"Class\"]), train_df[\"Class\"]\n",
    "X_test, y_test = test_df.drop(columns=[\"Class\"]), test_df[\"Class\"]"
   ]
  },
  {
   "cell_type": "markdown",
   "metadata": {},
   "source": [
    "\n",
    "\n",
    "We are going to be talking about evaluation metrics and it's easier to do so if we use an explicit validation set instead of using cross-validation.\n",
    "\n",
    "Our data is large enough so it shouldn't be a problem."
   ]
  },
  {
   "cell_type": "code",
   "execution_count": 7,
   "metadata": {},
   "outputs": [],
   "source": [
    "X_train, X_valid, y_train, y_valid = train_test_split(\n",
    "    X_train_big,  y_train_big, test_size=0.3, random_state=123)"
   ]
  },
  {
   "cell_type": "markdown",
   "metadata": {},
   "source": [
    "### Baseline\n",
    "\n",
    "Just like and predictive question, we start our analysis by building a simple `DummyClassifier` model as our baseline."
   ]
  },
  {
   "cell_type": "code",
   "execution_count": 8,
   "metadata": {},
   "outputs": [
    {
     "data": {
      "text/plain": [
       "0.9983017326626252"
      ]
     },
     "execution_count": 8,
     "metadata": {},
     "output_type": "execute_result"
    }
   ],
   "source": [
    "dummy = DummyClassifier(strategy=\"most_frequent\")\n",
    "dummy.fit(X_train, y_train)\n",
    "dummy.score(X_train, y_train)"
   ]
  },
  {
   "cell_type": "code",
   "execution_count": 9,
   "metadata": {},
   "outputs": [
    {
     "data": {
      "text/plain": [
       "0.9982945995652901"
      ]
     },
     "execution_count": 9,
     "metadata": {},
     "output_type": "execute_result"
    }
   ],
   "source": [
    "dummy.score(X_valid, y_valid)"
   ]
  },
  {
   "cell_type": "markdown",
   "metadata": {},
   "source": [
    "Hang on, what is going on?\n",
    "\n",
    "99.8% accuracy? This is supposed to be a baseline model! How is it getting such high accuracy? \n",
    "\n",
    "Should we just deploy this `DummyClassifier` model for fraud detection?\n"
   ]
  },
  {
   "cell_type": "code",
   "execution_count": 10,
   "metadata": {},
   "outputs": [
    {
     "data": {
      "text/plain": [
       "0    0.9983\n",
       "1    0.0017\n",
       "Name: Class, dtype: float64"
      ]
     },
     "execution_count": 10,
     "metadata": {},
     "output_type": "execute_result"
    }
   ],
   "source": [
    "train_df[\"Class\"].value_counts(normalize=True)"
   ]
  },
  {
   "cell_type": "markdown",
   "metadata": {},
   "source": [
    "If we look at the distribution of fraudulent labels to non-fraudulent labels, we can see there is an imbalance in the classes. \n",
    "\n",
    "Here the `0` class is a Non fraud transaction, and the `1` class is a Fraud transaction. \n",
    "\n",
    "We can see here that there are MANY Non fraud transactions and only a tiny handful of Fraud transactions.\n",
    "\n",
    "So, what would be a good accuracy here? 99.9%? 99.99%?\n",
    "\n",
    "The \"Fraud\" class is the class that we want to spot. The class we are interested in. "
   ]
  },
  {
   "cell_type": "markdown",
   "metadata": {},
   "source": [
    "We can make a model better than the dummy classifier now."
   ]
  },
  {
   "cell_type": "code",
   "execution_count": 11,
   "metadata": {},
   "outputs": [],
   "source": [
    "pipe = make_pipeline(\n",
    "       (StandardScaler()),\n",
    "       (LogisticRegression(random_state=123))\n",
    ")"
   ]
  },
  {
   "cell_type": "code",
   "execution_count": 12,
   "metadata": {},
   "outputs": [
    {
     "data": {
      "text/plain": [
       "fit_time       0.590032\n",
       "score_time     0.011000\n",
       "test_score     0.999176\n",
       "train_score    0.999249\n",
       "dtype: float64"
      ]
     },
     "execution_count": 12,
     "metadata": {},
     "output_type": "execute_result"
    }
   ],
   "source": [
    "pd.DataFrame(cross_validate(pipe, X_train, y_train, return_train_score=True)).mean()"
   ]
  },
  {
   "cell_type": "markdown",
   "metadata": {},
   "source": [
    "This seems slightly better than `DummyClassifier`, but the question is can it really identify fraudulent transactions?\n",
    "\n",
    "This model will cover new tools on how to measure this. "
   ]
  },
  {
   "cell_type": "markdown",
   "metadata": {},
   "source": [
    "## Classification Metrics and tools"
   ]
  },
  {
   "cell_type": "markdown",
   "metadata": {},
   "source": [
    "### What is \"positive\" and \"negative\"?\n",
    "\n",
    "There are two kinds of binary classification problems:\n",
    "\n",
    "- Distinguishing between two classes\n",
    "- Spotting a specific class (fraud transaction, spam, disease)\n",
    "\n",
    "\n",
    "We saw in logistic regression that the model designates a positive and negative class alphabetically when classifying observation but here when we are designating a positive and negative class, we need to be a bit more thoughtful. \n",
    "\n",
    "In the case of spotting problems, the thing that we are interested in spotting is considered \"positive\". \n",
    "\n",
    "In our example, we want to spot **fraudulent** transactions and so fraudulent is the \"positive\" class. \n"
   ]
  },
  {
   "cell_type": "markdown",
   "metadata": {},
   "source": [
    "### Confusion Matrix\n",
    "\n",
    "A **confusion matrix** is a table that visualizes the performance of an algorithm. It shows the possible labels and how many of each label the model predicts correctly and incorrectly. \n",
    "\n",
    "We can import `plot_confusion_matrix` from `sklearn.metrics`."
   ]
  },
  {
   "cell_type": "code",
   "execution_count": 13,
   "metadata": {},
   "outputs": [],
   "source": [
    "from sklearn.metrics import  plot_confusion_matrix"
   ]
  },
  {
   "cell_type": "code",
   "execution_count": 14,
   "metadata": {},
   "outputs": [],
   "source": [
    "pipe.fit(X_train, y_train);"
   ]
  },
  {
   "cell_type": "markdown",
   "metadata": {},
   "source": [
    "Once we fit on our training portion, we can use the `plot_confusion_matrix` function to see how well our model is doing classifying each target class.\n",
    "\n",
    "In this case, we are looking at the validation portion only. \n",
    "\n",
    "This results in a 2 by 2 matrix with the labels `Non fraud` and `Fraud` on each axis. "
   ]
  },
  {
   "cell_type": "code",
   "execution_count": 15,
   "metadata": {},
   "outputs": [
    {
     "data": {
      "image/png": "[encoded data removed]",
      "text/plain": [
       "<Figure size 432x288 with 2 Axes>"
      ]
     },
     "metadata": {
      "needs_background": "light"
     },
     "output_type": "display_data"
    }
   ],
   "source": [
    "plot_confusion_matrix(pipe, X_valid, y_valid, \n",
    "                      display_labels=[\"Non fraud\", \"Fraud\"],\n",
    "                      values_format=\"d\",\n",
    "                      cmap=\"Greens\");"
   ]
  },
  {
   "cell_type": "markdown",
   "metadata": {},
   "source": [
    "**Looking at the arguments:**\n",
    "\n",
    "Similar to other `sklearn` functions, we can the model/pipeline followed by the feature table and then the target value objects. \n",
    "\n",
    "`display_labels` will show more descriptive labels. without this argument, it would simply show the classes we have in the data (`0`, `1`). \n",
    "\n",
    "`values_format` will determine how the numbers are displayed. Specifying `d` avoids scientific notation. \n",
    "\n",
    "`cmap` is the colour argument! The default is `viridis` but other values such as `Blues`, `Purples`, `RdPu` or other colour schemes from [here](https://matplotlib.org/stable/tutorials/colors/colormaps.html) are also possible. "
   ]
  },
  {
   "cell_type": "markdown",
   "metadata": {},
   "source": [
    "#### Confusion Matrix components"
   ]
  },
  {
   "cell_type": "code",
   "execution_count": 16,
   "metadata": {},
   "outputs": [
    {
     "data": {
      "image/png": "[encoded data removed]",
      "text/plain": [
       "<Figure size 432x288 with 2 Axes>"
      ]
     },
     "metadata": {
      "needs_background": "light"
     },
     "output_type": "display_data"
    }
   ],
   "source": [
    "plot_confusion_matrix(pipe, X_valid, y_valid, \n",
    "                      display_labels=[\"Non fraud\", \"Fraud\"],\n",
    "                      values_format=\"d\", cmap=\"Blues\");"
   ]
  },
  {
   "cell_type": "markdown",
   "metadata": {},
   "source": [
    "|   X   | predict negative | predict positive |\n",
    "|------|----------|-------|\n",
    "| negative example | True negative (TN) | False positive (FP)|\n",
    "| positive example | False negative (FN) | True positive (TP) |\n",
    "\n",
    "\n",
    "Remember the Fraud is considered \"positive\" in this case and Non fraud is considered \"negative\". \n",
    "\n",
    "\n",
    "The 4 quadrants of the confusion matrix can be explained as follows. These positions will change depending on what values we deem as the positive label. \n",
    "\n",
    "- **True negative (TN)**: Examples that are negatively labelled that the model correctly predicts. This is in the top left quadrant. \n",
    "- **False positive (FP)**: Examples that are negatively labelled that the model incorrectly predicts as positive. This is in the top right quadrant. \n",
    "- **False negative (FN)**:  Examples that are positively labelled that the model incorrectly predicts as negative. This is in the bottom left quadrant. \n",
    "- **True positive (TP)**:  Examples that are positively labelled that the model correctly predicted as positive. This is in the bottom right quadrant. "
   ]
  },
  {
   "cell_type": "markdown",
   "metadata": {},
   "source": [
    "If you want something more numeric and simpler you can obtain a NumPy array by importing `confusion_matrix` from the sklearn library. (Before we were importing `plot_confusion_matrix`)"
   ]
  },
  {
   "cell_type": "code",
   "execution_count": 17,
   "metadata": {},
   "outputs": [],
   "source": [
    "from sklearn.metrics import confusion_matrix"
   ]
  },
  {
   "cell_type": "markdown",
   "metadata": {},
   "source": [
    "Here we get the predictions of the model first with `.predict()` and compare it with `y_valid` in the function `confusion_matrix()`."
   ]
  },
  {
   "cell_type": "code",
   "execution_count": 18,
   "metadata": {},
   "outputs": [
    {
     "data": {
      "text/plain": [
       "array([[59700,     8],\n",
       "       [   38,    64]])"
      ]
     },
     "execution_count": 18,
     "metadata": {},
     "output_type": "execute_result"
    }
   ],
   "source": [
    "predictions = pipe.predict(X_valid)\n",
    "confusion_matrix(y_valid, predictions)"
   ]
  },
  {
   "cell_type": "markdown",
   "metadata": {},
   "source": [
    "### Accuracy is only part of the story...\n",
    "\n",
    "We have been using `.score` to assess our models, which returns accuracy by default. \n",
    "\n",
    "And we saw that accuracy can be  misleading when we have a class imbalance.\n",
    "\n",
    "We need other metrics to assess our models.\n",
    "\n",
    "Note that the metrics we are going to discuss will only help us assess our model but further into this lecture we'll talk about a few ways to address the class imbalance problem as well. "
   ]
  },
  {
   "cell_type": "markdown",
   "metadata": {},
   "source": [
    "Let's build our pipeline, and fit it. Once we've done that, we can create our confusion matrix."
   ]
  },
  {
   "cell_type": "code",
   "execution_count": 19,
   "metadata": {},
   "outputs": [
    {
     "data": {
      "text/plain": [
       "array([[59700,     8],\n",
       "       [   38,    64]])"
      ]
     },
     "execution_count": 19,
     "metadata": {},
     "output_type": "execute_result"
    }
   ],
   "source": [
    "pipe.fit(X_train,y_train);\n",
    "predictions = pipe.predict(X_valid)\n",
    "confusion_matrix(y_valid, predictions)"
   ]
  },
  {
   "cell_type": "markdown",
   "metadata": {},
   "source": [
    "This time we are going to split up the values in the matrix into the 4 quadrants we saw earlier. \n",
    "\n",
    "- `TN` for the True Negatives\n",
    "- `FP` for the False Positives\n",
    "- `FN` for the False Negatives\n",
    "- `TP` for the True Positives \n",
    "\n",
    "We need each of these values to explain the next measurements."
   ]
  },
  {
   "cell_type": "code",
   "execution_count": 20,
   "metadata": {},
   "outputs": [],
   "source": [
    "TN, FP, FN, TP = confusion_matrix(y_valid, predictions).flatten()"
   ]
  },
  {
   "cell_type": "markdown",
   "metadata": {},
   "source": [
    "### Recall \n",
    "\n",
    "*\"Among all positive examples, how many did you identify?\"*\n",
    "\n",
    "$$ \\text{recall} = \\frac{TP}{TP + FN} = \\frac{\\text{Number of correctly identified positives}}{\\text{Total number of true positives}}$$\n",
    "\n",
    "**Recall**: how many of the actual positive examples did you identify?\n",
    "\n",
    "Since Fraud is our positive label, we see the correctly identified labels in the bottom right quadrant and the ones that we missed in the bottom left quadrant. "
   ]
  },
  {
   "cell_type": "markdown",
   "metadata": {},
   "source": [
    "<img src='imgs/recall.png' width=\"50%\"> "
   ]
  },
  {
   "cell_type": "markdown",
   "metadata": {},
   "source": [
    "$ \\text{recall} = \\frac{TP}{TP + FN}$\n",
    "\n",
    "So here we take our true positives and we divide by all the positive labels in our validation set (the predictions the model incorrectly labelled as negative (the false negatives) as well as those correctly labelled as positive). "
   ]
  },
  {
   "cell_type": "code",
   "execution_count": 21,
   "metadata": {},
   "outputs": [
    {
     "name": "stdout",
     "output_type": "stream",
     "text": [
      "True Positives: 64\n",
      "False Negatives: 38\n"
     ]
    }
   ],
   "source": [
    "print('True Positives:', TP)\n",
    "print('False Negatives:', FN)"
   ]
  },
  {
   "cell_type": "code",
   "execution_count": 22,
   "metadata": {},
   "outputs": [
    {
     "data": {
      "text/plain": [
       "0.6275"
      ]
     },
     "execution_count": 22,
     "metadata": {},
     "output_type": "execute_result"
    }
   ],
   "source": [
    "recall = TP / (TP + FN)\n",
    "recall.round(4)"
   ]
  },
  {
   "cell_type": "markdown",
   "metadata": {},
   "source": [
    "### Precision\n",
    "\n",
    "*\"Among the positive examples you identified, how many were actually positive?\"*\n",
    "\n",
    "$$ \\text{precision} = \\frac{TP}{TP + FP} = \\frac{\\text{Number of correctly identified positives}}{\\text{Total number of predicted positives}}$$\n",
    "\n",
    "**Precision**:  Of the Frauds we \"caught\", the fraction that was actually fraudulent.\n",
    "\n",
    "With Fraud as our positive label,  we see the correctly identified Fraudulent cases in the bottom right quadrant and the labels we incorrectly labelled as Frauds in the top right. "
   ]
  },
  {
   "cell_type": "markdown",
   "metadata": {},
   "source": [
    "<img src='imgs/precision.png' width=\"50%\"> "
   ]
  },
  {
   "cell_type": "markdown",
   "metadata": {},
   "source": [
    "$ \\text{recall} = \\frac{TP}{TP + FP}$\n",
    "\n",
    "So here we take our true positives and we divide by all the positive labels that our model predicted. "
   ]
  },
  {
   "cell_type": "code",
   "execution_count": 23,
   "metadata": {},
   "outputs": [
    {
     "name": "stdout",
     "output_type": "stream",
     "text": [
      "True Positives: 64\n",
      "False Positives: 8\n"
     ]
    }
   ],
   "source": [
    "print('True Positives:', TP)\n",
    "print('False Positives:', FP)"
   ]
  },
  {
   "cell_type": "code",
   "execution_count": 24,
   "metadata": {},
   "outputs": [
    {
     "data": {
      "text/plain": [
       "0.8889"
      ]
     },
     "execution_count": 24,
     "metadata": {},
     "output_type": "execute_result"
    }
   ],
   "source": [
    "precision = TP / (TP + FP)\n",
    "precision.round(4)"
   ]
  },
  {
   "cell_type": "markdown",
   "metadata": {},
   "source": [
    "Of course, we'd like to have high precision and recall but the balance depends on our domain.\n",
    "\n",
    "For credit card fraud detection, recall is really important (catching frauds), precision is less important (reducing false positives)."
   ]
  },
  {
   "cell_type": "markdown",
   "metadata": {},
   "source": [
    "### f1 score\n",
    "\n",
    "Sometimes we need a single score to maximize, e.g., when doing hyperparameter tuning via RandomizedSearchCV.\n",
    "\n",
    "Accuracy is often a bad choice.\n",
    "\n",
    "*f1-score combines precision and recall to give one score.*\n",
    "\n",
    "$$ \\text{f1} = 2 * \\frac{\\text{precision} * \\text{recall}}{\\text{precision} + \\text{recall}} $$\n",
    "\n",
    "**f1**: The harmonic mean of precision and recall. \n",
    "\n",
    "\n",
    "If both precision and recall go up, the f1 score will go up, so in general, we want this to be high."
   ]
  },
  {
   "cell_type": "code",
   "execution_count": 25,
   "metadata": {},
   "outputs": [
    {
     "name": "stdout",
     "output_type": "stream",
     "text": [
      "Precision: 0.8889\n",
      "Recall: 0.6275\n"
     ]
    }
   ],
   "source": [
    "print('Precision:', precision.round(4))\n",
    "print('Recall:', recall.round(4))"
   ]
  },
  {
   "cell_type": "code",
   "execution_count": 26,
   "metadata": {},
   "outputs": [
    {
     "data": {
      "text/plain": [
       "0.7356"
      ]
     },
     "execution_count": 26,
     "metadata": {},
     "output_type": "execute_result"
    }
   ],
   "source": [
    "f1_score = (2 * precision * recall) / (precision + recall)\n",
    "f1_score.round(4)"
   ]
  },
  {
   "cell_type": "markdown",
   "metadata": {},
   "source": [
    "We could calculate all these evaluation metrics by hand: "
   ]
  },
  {
   "cell_type": "code",
   "execution_count": 27,
   "metadata": {},
   "outputs": [
    {
     "data": {
      "text/html": [
       "<div>\n",
       "<style scoped>\n",
       "    .dataframe tbody tr th:only-of-type {\n",
       "        vertical-align: middle;\n",
       "    }\n",
       "\n",
       "    .dataframe tbody tr th {\n",
       "        vertical-align: top;\n",
       "    }\n",
       "\n",
       "    .dataframe thead th {\n",
       "        text-align: right;\n",
       "    }\n",
       "</style>\n",
       "<table border=\"1\" class=\"dataframe\">\n",
       "  <thead>\n",
       "    <tr style=\"text-align: right;\">\n",
       "      <th></th>\n",
       "      <th>accuracy</th>\n",
       "      <th>error</th>\n",
       "      <th>precision</th>\n",
       "      <th>recall</th>\n",
       "      <th>f1 score</th>\n",
       "    </tr>\n",
       "  </thead>\n",
       "  <tbody>\n",
       "    <tr>\n",
       "      <th>ourselves</th>\n",
       "      <td>0.999231</td>\n",
       "      <td>0.000769</td>\n",
       "      <td>0.888889</td>\n",
       "      <td>0.627451</td>\n",
       "      <td>0.735632</td>\n",
       "    </tr>\n",
       "  </tbody>\n",
       "</table>\n",
       "</div>"
      ],
      "text/plain": [
       "           accuracy     error  precision    recall  f1 score\n",
       "ourselves  0.999231  0.000769   0.888889  0.627451  0.735632"
      ]
     },
     "execution_count": 27,
     "metadata": {},
     "output_type": "execute_result"
    }
   ],
   "source": [
    "data = {}\n",
    "data[\"accuracy\"] = [(TP + TN) / (TN + FP + FN + TP)]\n",
    "data[\"error\"] = [(FP + FN) / (TN + FP + FN + TP)]\n",
    "data[\"precision\"] = [ TP / (TP + FP)] \n",
    "data[\"recall\"] = [TP / (TP + FN)] \n",
    "data[\"f1 score\"] = [(2 * precision * recall) / (precision + recall)] \n",
    "\n",
    "measures_df = pd.DataFrame(data, index=['ourselves'])\n",
    "measures_df"
   ]
  },
  {
   "cell_type": "markdown",
   "metadata": {},
   "source": [
    "... or we can use `scikit-learn` which has functions for these metrics.\n",
    "\n",
    "Here we are importing `accuracy_score`, `precision_score`, `recall_score`, `f1_score` from `sklearn.metrics`"
   ]
  },
  {
   "cell_type": "code",
   "execution_count": 28,
   "metadata": {},
   "outputs": [],
   "source": [
    "from sklearn.metrics import accuracy_score, precision_score, recall_score, f1_score"
   ]
  },
  {
   "cell_type": "code",
   "execution_count": 29,
   "metadata": {},
   "outputs": [
    {
     "data": {
      "text/html": [
       "<div>\n",
       "<style scoped>\n",
       "    .dataframe tbody tr th:only-of-type {\n",
       "        vertical-align: middle;\n",
       "    }\n",
       "\n",
       "    .dataframe tbody tr th {\n",
       "        vertical-align: top;\n",
       "    }\n",
       "\n",
       "    .dataframe thead th {\n",
       "        text-align: right;\n",
       "    }\n",
       "</style>\n",
       "<table border=\"1\" class=\"dataframe\">\n",
       "  <thead>\n",
       "    <tr style=\"text-align: right;\">\n",
       "      <th></th>\n",
       "      <th>accuracy</th>\n",
       "      <th>error</th>\n",
       "      <th>precision</th>\n",
       "      <th>recall</th>\n",
       "      <th>f1 score</th>\n",
       "    </tr>\n",
       "  </thead>\n",
       "  <tbody>\n",
       "    <tr>\n",
       "      <th>ourselves</th>\n",
       "      <td>0.999231</td>\n",
       "      <td>0.000769</td>\n",
       "      <td>0.888889</td>\n",
       "      <td>0.627451</td>\n",
       "      <td>0.735632</td>\n",
       "    </tr>\n",
       "    <tr>\n",
       "      <th>sklearn</th>\n",
       "      <td>0.999231</td>\n",
       "      <td>0.000769</td>\n",
       "      <td>0.888889</td>\n",
       "      <td>0.627451</td>\n",
       "      <td>0.735632</td>\n",
       "    </tr>\n",
       "  </tbody>\n",
       "</table>\n",
       "</div>"
      ],
      "text/plain": [
       "           accuracy     error  precision    recall  f1 score\n",
       "ourselves  0.999231  0.000769   0.888889  0.627451  0.735632\n",
       "sklearn    0.999231  0.000769   0.888889  0.627451  0.735632"
      ]
     },
     "execution_count": 29,
     "metadata": {},
     "output_type": "execute_result"
    }
   ],
   "source": [
    "pred_cv =  pipe.predict(X_valid) \n",
    "\n",
    "data[\"accuracy\"].append(accuracy_score(y_valid, pred_cv))\n",
    "data[\"error\"].append(1 - accuracy_score(y_valid, pred_cv))\n",
    "data[\"precision\"].append(precision_score(y_valid, pred_cv, zero_division=1))\n",
    "data[\"recall\"].append(recall_score(y_valid, pred_cv))\n",
    "data[\"f1 score\"].append(f1_score(y_valid, pred_cv))\n",
    "\n",
    "pd.DataFrame(data, index=['ourselves', 'sklearn'])"
   ]
  },
  {
   "cell_type": "markdown",
   "metadata": {},
   "source": [
    "And you can see the scores match. \n",
    "\n",
    "We can even go one step further and \"observe\" the scores using a *Classification report* "
   ]
  },
  {
   "cell_type": "markdown",
   "metadata": {},
   "source": [
    "### Classification report \n",
    "\n",
    "Similar to how a confusion matrix shows the False and True negative and positive labels, a classification report shows us an assortment of metrics, however, we can't flatten or obtain the results from it and only see what is printed as the output. \n",
    "\n",
    "We can import `classification_report` from `sklearn.metrics`"
   ]
  },
  {
   "cell_type": "code",
   "execution_count": 30,
   "metadata": {},
   "outputs": [],
   "source": [
    "from sklearn.metrics import classification_report"
   ]
  },
  {
   "cell_type": "markdown",
   "metadata": {},
   "source": [
    "We can use `classes` to see which position each label takes so we can designate them more comprehensive labels in our report. "
   ]
  },
  {
   "cell_type": "code",
   "execution_count": 31,
   "metadata": {},
   "outputs": [
    {
     "data": {
      "text/plain": [
       "array([0, 1])"
      ]
     },
     "execution_count": 31,
     "metadata": {},
     "output_type": "execute_result"
    }
   ],
   "source": [
    "pipe.classes_"
   ]
  },
  {
   "cell_type": "markdown",
   "metadata": {},
   "source": [
    "In our function, we specify the true labels, followed by the predictions our model made. \n",
    "\n",
    "The argument `target_names`, gives more descriptive labels similar to what `display_labels` did in `plot_confusion_matrix`. "
   ]
  },
  {
   "cell_type": "code",
   "execution_count": 32,
   "metadata": {},
   "outputs": [
    {
     "name": "stdout",
     "output_type": "stream",
     "text": [
      "              precision    recall  f1-score   support\n",
      "\n",
      "   non fraud       1.00      1.00      1.00     59708\n",
      "       Fraud       0.89      0.63      0.74       102\n",
      "\n",
      "    accuracy                           1.00     59810\n",
      "   macro avg       0.94      0.81      0.87     59810\n",
      "weighted avg       1.00      1.00      1.00     59810\n",
      "\n"
     ]
    }
   ],
   "source": [
    "print(classification_report(y_valid, pipe.predict(X_valid),\n",
    "                            target_names=[\"non fraud\", \"Fraud\"]))"
   ]
  },
  {
   "cell_type": "markdown",
   "metadata": {},
   "source": [
    "Note that what you consider \"positive\" (Fraud in our case) is important when calculating precision, recall, and f1-score. \n",
    "\n",
    "If you flip what is considered positive or negative, we'll end up with different True Positive, False Positive, True Negatives and False Negatives, and hence different precision, recall, and f1-scores. \n",
    "\n",
    "The `support` column just shows the number of examples in each class.  \n",
    "\n",
    "\n",
    "You might also be wondering about 2 additional metrics in this report..."
   ]
  },
  {
   "cell_type": "markdown",
   "metadata": {},
   "source": [
    "#### Macro average vs weighted average\n",
    "\n",
    "These metrics are more useful when predicting multiple classes which we will briefly discuss later on. \n",
    "\n",
    "**Macro average** is useful when you want to give equal importance to all classes irrespective of the number of instances in each class.\n",
    "\n",
    "**Weighted average** gives equal importance to all examples. So, when you care about the overall score and do not care about the score on a specific class, you could use it.\n",
    "\n",
    "Which one is relevant, depends upon whether you think each class should have the same weight or each sample should have the same weight. "
   ]
  },
  {
   "cell_type": "markdown",
   "metadata": {},
   "source": [
    "In addition to this lecture, my wonderful colleague [Varada Kolhatkar](https://kvarada.github.io/) has made a cheat sheet for these metrics available in a larger size [here](https://raw.githubusercontent.com/UBC-MDS/introduction-machine-learning/master/static/module7/evaluation-metrics.png)."
   ]
  },
  {
   "cell_type": "markdown",
   "metadata": {},
   "source": [
    "<img src=\"https://raw.githubusercontent.com/UBC-MDS/introduction-machine-learning/master/static/module7/evaluation-metrics.png\"  width = \"70%\" alt=\"404 image\" />"
   ]
  },
  {
   "cell_type": "markdown",
   "metadata": {},
   "source": [
    "### Imbalanced datasets\n",
    "\n",
    "A class imbalance typically refers to having many more examples of one class than another in one's training set.\n",
    "\n",
    "We've seen this in our fraud dataset where our `class` target column had many more non-fraud than fraud examples. \n",
    "\n",
    "Real-world data is often imbalanced and can be seen in scenarios such as:\n",
    "\n",
    "- Ad clicking data (Only around ~0.01% of ads are clicked.)\n",
    "- Spam classification datasets.\n"
   ]
  },
  {
   "cell_type": "code",
   "execution_count": 33,
   "metadata": {},
   "outputs": [
    {
     "data": {
      "text/html": [
       "<div>\n",
       "<style scoped>\n",
       "    .dataframe tbody tr th:only-of-type {\n",
       "        vertical-align: middle;\n",
       "    }\n",
       "\n",
       "    .dataframe tbody tr th {\n",
       "        vertical-align: top;\n",
       "    }\n",
       "\n",
       "    .dataframe thead th {\n",
       "        text-align: right;\n",
       "    }\n",
       "</style>\n",
       "<table border=\"1\" class=\"dataframe\">\n",
       "  <thead>\n",
       "    <tr style=\"text-align: right;\">\n",
       "      <th></th>\n",
       "      <th>Time</th>\n",
       "      <th>V1</th>\n",
       "      <th>V2</th>\n",
       "      <th>V3</th>\n",
       "      <th>V4</th>\n",
       "      <th>V5</th>\n",
       "      <th>V6</th>\n",
       "      <th>V7</th>\n",
       "      <th>V8</th>\n",
       "      <th>V9</th>\n",
       "      <th>...</th>\n",
       "      <th>V20</th>\n",
       "      <th>V21</th>\n",
       "      <th>V22</th>\n",
       "      <th>V23</th>\n",
       "      <th>V24</th>\n",
       "      <th>V25</th>\n",
       "      <th>V26</th>\n",
       "      <th>V27</th>\n",
       "      <th>V28</th>\n",
       "      <th>Amount</th>\n",
       "    </tr>\n",
       "  </thead>\n",
       "  <tbody>\n",
       "    <tr>\n",
       "      <th>80437</th>\n",
       "      <td>58486.0</td>\n",
       "      <td>0.984032</td>\n",
       "      <td>-1.851494</td>\n",
       "      <td>0.670618</td>\n",
       "      <td>-1.192458</td>\n",
       "      <td>-2.092441</td>\n",
       "      <td>-0.511208</td>\n",
       "      <td>-1.014356</td>\n",
       "      <td>-0.088517</td>\n",
       "      <td>-1.947026</td>\n",
       "      <td>...</td>\n",
       "      <td>0.187838</td>\n",
       "      <td>0.151899</td>\n",
       "      <td>0.293799</td>\n",
       "      <td>-0.200566</td>\n",
       "      <td>0.548729</td>\n",
       "      <td>0.207097</td>\n",
       "      <td>-0.159589</td>\n",
       "      <td>0.005833</td>\n",
       "      <td>0.061062</td>\n",
       "      <td>249.00</td>\n",
       "    </tr>\n",
       "    <tr>\n",
       "      <th>60984</th>\n",
       "      <td>49594.0</td>\n",
       "      <td>-0.985503</td>\n",
       "      <td>1.429365</td>\n",
       "      <td>1.528503</td>\n",
       "      <td>0.786004</td>\n",
       "      <td>-0.467397</td>\n",
       "      <td>-0.298816</td>\n",
       "      <td>0.080549</td>\n",
       "      <td>0.464257</td>\n",
       "      <td>-1.157092</td>\n",
       "      <td>...</td>\n",
       "      <td>0.255637</td>\n",
       "      <td>-0.129198</td>\n",
       "      <td>-0.451259</td>\n",
       "      <td>-0.104275</td>\n",
       "      <td>0.346654</td>\n",
       "      <td>-0.039245</td>\n",
       "      <td>0.367483</td>\n",
       "      <td>0.049164</td>\n",
       "      <td>0.053953</td>\n",
       "      <td>5.99</td>\n",
       "    </tr>\n",
       "    <tr>\n",
       "      <th>128056</th>\n",
       "      <td>78583.0</td>\n",
       "      <td>-1.205750</td>\n",
       "      <td>0.892452</td>\n",
       "      <td>2.380624</td>\n",
       "      <td>-0.016385</td>\n",
       "      <td>-0.442344</td>\n",
       "      <td>0.312907</td>\n",
       "      <td>0.158987</td>\n",
       "      <td>0.048223</td>\n",
       "      <td>0.990212</td>\n",
       "      <td>...</td>\n",
       "      <td>0.192520</td>\n",
       "      <td>-0.072519</td>\n",
       "      <td>0.168212</td>\n",
       "      <td>-0.157596</td>\n",
       "      <td>0.084111</td>\n",
       "      <td>-0.172349</td>\n",
       "      <td>0.281843</td>\n",
       "      <td>-0.126878</td>\n",
       "      <td>0.035593</td>\n",
       "      <td>11.50</td>\n",
       "    </tr>\n",
       "    <tr>\n",
       "      <th>71109</th>\n",
       "      <td>54160.0</td>\n",
       "      <td>-1.221491</td>\n",
       "      <td>0.584432</td>\n",
       "      <td>0.260960</td>\n",
       "      <td>-2.183469</td>\n",
       "      <td>0.148069</td>\n",
       "      <td>-0.353845</td>\n",
       "      <td>0.134643</td>\n",
       "      <td>0.220526</td>\n",
       "      <td>-1.162636</td>\n",
       "      <td>...</td>\n",
       "      <td>0.444476</td>\n",
       "      <td>0.182635</td>\n",
       "      <td>0.720601</td>\n",
       "      <td>-0.387976</td>\n",
       "      <td>-0.799762</td>\n",
       "      <td>0.172382</td>\n",
       "      <td>-0.287630</td>\n",
       "      <td>0.301891</td>\n",
       "      <td>0.010734</td>\n",
       "      <td>23.90</td>\n",
       "    </tr>\n",
       "    <tr>\n",
       "      <th>172062</th>\n",
       "      <td>120937.0</td>\n",
       "      <td>2.108906</td>\n",
       "      <td>-0.036505</td>\n",
       "      <td>-1.729322</td>\n",
       "      <td>-0.006799</td>\n",
       "      <td>0.594977</td>\n",
       "      <td>-0.414454</td>\n",
       "      <td>0.167962</td>\n",
       "      <td>-0.220672</td>\n",
       "      <td>0.330188</td>\n",
       "      <td>...</td>\n",
       "      <td>-0.166839</td>\n",
       "      <td>0.231473</td>\n",
       "      <td>0.833535</td>\n",
       "      <td>-0.151937</td>\n",
       "      <td>-1.046125</td>\n",
       "      <td>0.400704</td>\n",
       "      <td>-0.062815</td>\n",
       "      <td>-0.021197</td>\n",
       "      <td>-0.078745</td>\n",
       "      <td>0.89</td>\n",
       "    </tr>\n",
       "  </tbody>\n",
       "</table>\n",
       "<p>5 rows × 30 columns</p>\n",
       "</div>"
      ],
      "text/plain": [
       "            Time        V1        V2        V3        V4        V5        V6  \\\n",
       "80437    58486.0  0.984032 -1.851494  0.670618 -1.192458 -2.092441 -0.511208   \n",
       "60984    49594.0 -0.985503  1.429365  1.528503  0.786004 -0.467397 -0.298816   \n",
       "128056   78583.0 -1.205750  0.892452  2.380624 -0.016385 -0.442344  0.312907   \n",
       "71109    54160.0 -1.221491  0.584432  0.260960 -2.183469  0.148069 -0.353845   \n",
       "172062  120937.0  2.108906 -0.036505 -1.729322 -0.006799  0.594977 -0.414454   \n",
       "\n",
       "              V7        V8        V9  ...       V20       V21       V22  \\\n",
       "80437  -1.014356 -0.088517 -1.947026  ...  0.187838  0.151899  0.293799   \n",
       "60984   0.080549  0.464257 -1.157092  ...  0.255637 -0.129198 -0.451259   \n",
       "128056  0.158987  0.048223  0.990212  ...  0.192520 -0.072519  0.168212   \n",
       "71109   0.134643  0.220526 -1.162636  ...  0.444476  0.182635  0.720601   \n",
       "172062  0.167962 -0.220672  0.330188  ... -0.166839  0.231473  0.833535   \n",
       "\n",
       "             V23       V24       V25       V26       V27       V28  Amount  \n",
       "80437  -0.200566  0.548729  0.207097 -0.159589  0.005833  0.061062  249.00  \n",
       "60984  -0.104275  0.346654 -0.039245  0.367483  0.049164  0.053953    5.99  \n",
       "128056 -0.157596  0.084111 -0.172349  0.281843 -0.126878  0.035593   11.50  \n",
       "71109  -0.387976 -0.799762  0.172382 -0.287630  0.301891  0.010734   23.90  \n",
       "172062 -0.151937 -1.046125  0.400704 -0.062815 -0.021197 -0.078745    0.89  \n",
       "\n",
       "[5 rows x 30 columns]"
      ]
     },
     "execution_count": 33,
     "metadata": {},
     "output_type": "execute_result"
    }
   ],
   "source": [
    "X_train.head()"
   ]
  },
  {
   "cell_type": "code",
   "execution_count": 34,
   "metadata": {},
   "outputs": [
    {
     "data": {
      "text/plain": [
       "0    0.998302\n",
       "1    0.001698\n",
       "Name: Class, dtype: float64"
      ]
     },
     "execution_count": 34,
     "metadata": {},
     "output_type": "execute_result"
    }
   ],
   "source": [
    "y_train.value_counts('Class')"
   ]
  },
  {
   "cell_type": "markdown",
   "metadata": {},
   "source": [
    "#### Addressing class imbalance\n",
    "\n",
    "A very important question to ask yourself: ***\"Why do I have a class imbalance?\"***\n",
    "\n",
    "- Is it because one class is much rarer than the other?\n",
    "    - If it's just because one is rarer than the other, you need to ask whether you care about False positives or False negatives more than the other.   \n",
    "- Is it because of my data collection methods?\n",
    "    - If it's the data collection, then that means _your test and training data come from different distributions_!\n",
    "\n",
    "But, if you answer \"no\" to both of these, it may be fine to just ignore the class imbalance."
   ]
  },
  {
   "cell_type": "markdown",
   "metadata": {},
   "source": [
    "#### Handling imbalance\n",
    "\n",
    "Can we change the model itself so that it considers the errors that are important to us?\n",
    "\n",
    "There are two common approaches to this: \n",
    "\n",
    "1. **Changing the training procedure** \n",
    "\n",
    "2. **Changing the data (not in this course)**\n",
    "    - Undersampling\n",
    "    - Oversampling \n",
    "    "
   ]
  },
  {
   "cell_type": "markdown",
   "metadata": {},
   "source": [
    "#### Changing the training procedure: `class_weight`\n",
    "\n",
    "\n",
    "Most `sklearn` classifiers have a parameter called `class_weight`.\n",
    "\n",
    "This allows you to specify that one class is more important than another.\n",
    "\n",
    "For example, maybe a false negative is 10x more problematic than a false positive. \n",
    "\n",
    "\n",
    "<img src=\"imgs/weights-sklearn.png\"  width = \"100%\" alt=\"404 image\" />\n",
    "\n",
    "So, if you look for example, in the [documentation for the SVM classifier](https://scikit-learn.org/stable/modules/generated/sklearn.svm.SVC.html), or [Logistic Regression](https://scikit-learn.org/stable/modules/generated/sklearn.linear_model.LogisticRegression.html?highlight=logistic%20regression#sklearn.linear_model.LogisticRegression) we see `class_weight` as a parameter.\n",
    "\n",
    "\n",
    "`class_weight: dict or ‘balanced’, default=None`\n",
    "\n",
    "Set the parameter C of class i to class_weight[i] * C for SVC. \n",
    "\n",
    "Weights associated with classes in the form {class_label: weight} for Logistic Regression\n",
    "\n",
    "If not given, all classes are supposed to have weight one.\n",
    "\n",
    "The “balanced” mode uses the values of y to automatically adjust weights inversely proportional to class frequencies in the input data as `n_samples` / (`n_classes` * `np.bincount(y)`).\n",
    "\n",
    "\n",
    "Let's try it out now."
   ]
  },
  {
   "cell_type": "markdown",
   "metadata": {},
   "source": [
    "First, let's build a model where we keep the class_weights as the default. "
   ]
  },
  {
   "cell_type": "code",
   "execution_count": 35,
   "metadata": {},
   "outputs": [],
   "source": [
    "lr_default= LogisticRegression(random_state=12, max_iter=1000)\n",
    "lr_default.fit(X_train,y_train);"
   ]
  },
  {
   "cell_type": "code",
   "execution_count": 36,
   "metadata": {},
   "outputs": [
    {
     "data": {
      "image/png": "[encoded data removed]",
      "text/plain": [
       "<Figure size 432x288 with 2 Axes>"
      ]
     },
     "metadata": {
      "needs_background": "light"
     },
     "output_type": "display_data"
    }
   ],
   "source": [
    "plot_confusion_matrix(lr_default, X_valid, y_valid,\n",
    "                      display_labels=[\"Non fraud\", \"Fraud\"],\n",
    "                      values_format=\"d\", cmap=\"Blues\", ax=plt.gca());"
   ]
  },
  {
   "cell_type": "markdown",
   "metadata": {},
   "source": [
    "Now let's rebuild our pipeline but using the `class_weight` argument and setting it as`class_weight={1:100}`. \n",
    "\n",
    "This is equivalent to saying \"repeat every positive example 100x in the training set\", but repeating data would slow down the code, whereas this doesn't."
   ]
  },
  {
   "cell_type": "code",
   "execution_count": 37,
   "metadata": {},
   "outputs": [],
   "source": [
    "lr_100 = LogisticRegression(random_state=12, max_iter=1000, class_weight={1:100})\n",
    "lr_100.fit(X_train,y_train);"
   ]
  },
  {
   "cell_type": "code",
   "execution_count": 38,
   "metadata": {},
   "outputs": [
    {
     "data": {
      "image/png": "[encoded data removed]",
      "text/plain": [
       "<Figure size 432x288 with 2 Axes>"
      ]
     },
     "metadata": {
      "needs_background": "light"
     },
     "output_type": "display_data"
    }
   ],
   "source": [
    "plot_confusion_matrix(lr_100, X_valid, y_valid,\n",
    "                      display_labels=[\"Non fraud\", \"Fraud\"], \n",
    "                      values_format=\"d\", cmap=\"Blues\", ax=plt.gca());"
   ]
  },
  {
   "cell_type": "markdown",
   "metadata": {},
   "source": [
    "Notice that we now have reduced false negatives and predicted more true positives this time.\n",
    "\n",
    "But, as a consequence, we pay a price since now we are also increasing false positives. "
   ]
  },
  {
   "cell_type": "markdown",
   "metadata": {},
   "source": [
    "We can also set `class_weight=\"balanced\"`.\n",
    "\n",
    "This sets the weights so that the classes are \"equal\"."
   ]
  },
  {
   "cell_type": "code",
   "execution_count": 39,
   "metadata": {},
   "outputs": [
    {
     "data": {
      "image/png": "[encoded data removed]",
      "text/plain": [
       "<Figure size 432x288 with 2 Axes>"
      ]
     },
     "metadata": {
      "needs_background": "light"
     },
     "output_type": "display_data"
    }
   ],
   "source": [
    "lr_balanced = LogisticRegression(random_state=12, max_iter=1000, class_weight=\"balanced\")\n",
    "lr_balanced.fit(X_train,y_train);\n",
    "\n",
    "\n",
    "plot_confusion_matrix(lr_balanced, X_valid, y_valid,\n",
    "                      display_labels=[\"Non fraud\", \"Fraud\"], \n",
    "                      values_format=\"d\", cmap=\"Blues\", ax=plt.gca());"
   ]
  },
  {
   "cell_type": "markdown",
   "metadata": {},
   "source": [
    "Again, we have reduced the number of false negatives and increased the number of true positives but we have many more false positives now!"
   ]
  },
  {
   "cell_type": "markdown",
   "metadata": {},
   "source": [
    "#### Are we doing better with `class_weight=\"balanced\"`?\n",
    "\n",
    "Let's compare some metrics and find out. "
   ]
  },
  {
   "cell_type": "code",
   "execution_count": 40,
   "metadata": {},
   "outputs": [
    {
     "data": {
      "text/plain": [
       "0.99923089784317"
      ]
     },
     "execution_count": 40,
     "metadata": {},
     "output_type": "execute_result"
    }
   ],
   "source": [
    "lr_default.score(X_valid, y_valid)"
   ]
  },
  {
   "cell_type": "code",
   "execution_count": 41,
   "metadata": {},
   "outputs": [
    {
     "data": {
      "text/plain": [
       "0.9628657415147969"
      ]
     },
     "execution_count": 41,
     "metadata": {},
     "output_type": "execute_result"
    }
   ],
   "source": [
    "lr_balanced.score(X_valid, y_valid)"
   ]
  },
  {
   "cell_type": "markdown",
   "metadata": {},
   "source": [
    "Changing the class weight will **generally reduce accuracy**.\n",
    "\n",
    "The original model was trying to maximize accuracy. Now you're telling it to do something different.\n",
    "\n",
    "But we know now that accuracy isn't the only metric that matters.\n",
    "\n",
    "Let's explain why this happens. \n",
    "\n",
    "Since there are so many more negative examples than positive ones, false-positives affect accuracy much more than false negatives.\n",
    "\n",
    "Thus, precision matters a lot more than recall in this accuracy calculation.\n",
    "\n",
    "So, the default method trades off a lot of recall for a bit of precision.\n",
    "\n",
    "We are paying a \"fee\" in precision for a greater recall value. "
   ]
  },
  {
   "cell_type": "markdown",
   "metadata": {},
   "source": [
    "## Let's Practice\n",
    "\n",
    "<img src=\"imgs/Q_cm.png\"  width = \"60%\" alt=\"404 image\" />\n",
    "\n",
    "Use the diagram above to answer the next .... questions.\n",
    "\n",
    "1\\. How many examples did the model of this matrix correctly label as \"Guard\"?   \n",
    "2\\. If **Forward** is the positive label, how many ***false-positive*** values are there?   \n",
    "3\\. How many examples does the model incorrectly predict?   \n",
    "4\\. What is the recall of the confusion matrix assuming that **Forward** is the positive label?    \n",
    "5\\. What is the precision of the confusion matrix assuming that **Forward** is the positive label?   \n",
    "6\\. What is the f1 score assuming that **Forward** is the positive label?   \n",
    "\n",
    "\n",
    "**True or False:**       \n",
    "\n",
    "7\\. In spam classification, false positives are more damaging than false negatives (assume \"positive\" means the email is spam, \"negative\" means it's not).    \n",
    "8\\. In medical diagnosis, high recall is more important than high precision.    \n",
    "9\\. The weighted average gives equal importance to all classes.    \n",
    "10\\. Setting `class_weight={1:100}` will make the second class label 100 times the weight of the first class.    "
   ]
  },
  {
   "cell_type": "markdown",
   "metadata": {},
   "source": [
    "```{admonition} Solutions!\n",
    ":class: dropdown\n",
    "\n",
    "1. 26\n",
    "2. 4\n",
    "3. 7\n",
    "4. $0.86 = 19/22$\n",
    "5. $0.83 = 19/23$\n",
    "6. $ 2 * \\frac{0.86 * 0.83}{0.86 + 0.83} = 0.84$\n",
    "7. True\n",
    "8. True\n",
    "9. False\n",
    "10. False\n",
    "```"
   ]
  },
  {
   "cell_type": "markdown",
   "metadata": {},
   "source": [
    "## Regression Metrics \n",
    "\n",
    "For this part, since we need to use data that corresponds to a regression problem, we are bringing back our [California housing dataset](https://www.kaggle.com/harrywang/housing). \n",
    "\n",
    "We want to predict the median house value for different locations."
   ]
  },
  {
   "cell_type": "code",
   "execution_count": 42,
   "metadata": {},
   "outputs": [],
   "source": [
    "housing_df = pd.read_csv(\"data/housing.csv\")\n",
    "train_df, test_df = train_test_split(housing_df, test_size=0.1, random_state=123)\n",
    "\n",
    "\n",
    "train_df = train_df.assign(rooms_per_household = train_df[\"total_rooms\"]/train_df[\"households\"],\n",
    "                           bedrooms_per_household = train_df[\"total_bedrooms\"]/train_df[\"households\"],\n",
    "                           population_per_household = train_df[\"population\"]/train_df[\"households\"])\n",
    "                        \n",
    "test_df = test_df.assign(rooms_per_household = test_df[\"total_rooms\"]/test_df[\"households\"],\n",
    "                         bedrooms_per_household = test_df[\"total_bedrooms\"]/test_df[\"households\"],\n",
    "                         population_per_household = test_df[\"population\"]/test_df[\"households\"])\n",
    "                         \n",
    "train_df = train_df.drop(columns=['total_rooms', 'total_bedrooms', 'population'])  \n",
    "test_df = test_df.drop(columns=['total_rooms', 'total_bedrooms', 'population']) "
   ]
  },
  {
   "cell_type": "code",
   "execution_count": 43,
   "metadata": {},
   "outputs": [
    {
     "data": {
      "text/html": [
       "<div>\n",
       "<style scoped>\n",
       "    .dataframe tbody tr th:only-of-type {\n",
       "        vertical-align: middle;\n",
       "    }\n",
       "\n",
       "    .dataframe tbody tr th {\n",
       "        vertical-align: top;\n",
       "    }\n",
       "\n",
       "    .dataframe thead th {\n",
       "        text-align: right;\n",
       "    }\n",
       "</style>\n",
       "<table border=\"1\" class=\"dataframe\">\n",
       "  <thead>\n",
       "    <tr style=\"text-align: right;\">\n",
       "      <th></th>\n",
       "      <th>longitude</th>\n",
       "      <th>latitude</th>\n",
       "      <th>housing_median_age</th>\n",
       "      <th>households</th>\n",
       "      <th>median_income</th>\n",
       "      <th>ocean_proximity</th>\n",
       "      <th>rooms_per_household</th>\n",
       "      <th>bedrooms_per_household</th>\n",
       "      <th>population_per_household</th>\n",
       "    </tr>\n",
       "  </thead>\n",
       "  <tbody>\n",
       "    <tr>\n",
       "      <th>6051</th>\n",
       "      <td>-117.75</td>\n",
       "      <td>34.04</td>\n",
       "      <td>22.0</td>\n",
       "      <td>602.0</td>\n",
       "      <td>3.1250</td>\n",
       "      <td>INLAND</td>\n",
       "      <td>4.897010</td>\n",
       "      <td>1.056478</td>\n",
       "      <td>4.318937</td>\n",
       "    </tr>\n",
       "    <tr>\n",
       "      <th>20113</th>\n",
       "      <td>-119.57</td>\n",
       "      <td>37.94</td>\n",
       "      <td>17.0</td>\n",
       "      <td>20.0</td>\n",
       "      <td>3.4861</td>\n",
       "      <td>INLAND</td>\n",
       "      <td>17.300000</td>\n",
       "      <td>6.500000</td>\n",
       "      <td>2.550000</td>\n",
       "    </tr>\n",
       "    <tr>\n",
       "      <th>14289</th>\n",
       "      <td>-117.13</td>\n",
       "      <td>32.74</td>\n",
       "      <td>46.0</td>\n",
       "      <td>708.0</td>\n",
       "      <td>2.6604</td>\n",
       "      <td>NEAR OCEAN</td>\n",
       "      <td>4.738701</td>\n",
       "      <td>1.084746</td>\n",
       "      <td>2.057910</td>\n",
       "    </tr>\n",
       "    <tr>\n",
       "      <th>13665</th>\n",
       "      <td>-117.31</td>\n",
       "      <td>34.02</td>\n",
       "      <td>18.0</td>\n",
       "      <td>285.0</td>\n",
       "      <td>5.2139</td>\n",
       "      <td>INLAND</td>\n",
       "      <td>5.733333</td>\n",
       "      <td>0.961404</td>\n",
       "      <td>3.154386</td>\n",
       "    </tr>\n",
       "    <tr>\n",
       "      <th>14471</th>\n",
       "      <td>-117.23</td>\n",
       "      <td>32.88</td>\n",
       "      <td>18.0</td>\n",
       "      <td>1458.0</td>\n",
       "      <td>1.8580</td>\n",
       "      <td>NEAR OCEAN</td>\n",
       "      <td>3.817558</td>\n",
       "      <td>1.004801</td>\n",
       "      <td>4.323045</td>\n",
       "    </tr>\n",
       "  </tbody>\n",
       "</table>\n",
       "</div>"
      ],
      "text/plain": [
       "       longitude  latitude  housing_median_age  households  median_income  \\\n",
       "6051     -117.75     34.04                22.0       602.0         3.1250   \n",
       "20113    -119.57     37.94                17.0        20.0         3.4861   \n",
       "14289    -117.13     32.74                46.0       708.0         2.6604   \n",
       "13665    -117.31     34.02                18.0       285.0         5.2139   \n",
       "14471    -117.23     32.88                18.0      1458.0         1.8580   \n",
       "\n",
       "      ocean_proximity  rooms_per_household  bedrooms_per_household  \\\n",
       "6051           INLAND             4.897010                1.056478   \n",
       "20113          INLAND            17.300000                6.500000   \n",
       "14289      NEAR OCEAN             4.738701                1.084746   \n",
       "13665          INLAND             5.733333                0.961404   \n",
       "14471      NEAR OCEAN             3.817558                1.004801   \n",
       "\n",
       "       population_per_household  \n",
       "6051                   4.318937  \n",
       "20113                  2.550000  \n",
       "14289                  2.057910  \n",
       "13665                  3.154386  \n",
       "14471                  4.323045  "
      ]
     },
     "execution_count": 43,
     "metadata": {},
     "output_type": "execute_result"
    }
   ],
   "source": [
    "X_train = train_df.drop(columns=[\"median_house_value\"])\n",
    "y_train = train_df[\"median_house_value\"]\n",
    "X_test = test_df.drop(columns=[\"median_house_value\"])\n",
    "y_test = test_df[\"median_house_value\"]\n",
    "\n",
    "numeric_features = [ \"longitude\", \"latitude\",\n",
    "                     \"housing_median_age\",\n",
    "                     \"households\", \"median_income\",\n",
    "                     \"rooms_per_household\",\n",
    "                     \"bedrooms_per_household\",\n",
    "                     \"population_per_household\"]\n",
    "                     \n",
    "categorical_features = [\"ocean_proximity\"]\n",
    "\n",
    "X_train.head()"
   ]
  },
  {
   "cell_type": "markdown",
   "metadata": {},
   "source": [
    "We are going to bring in our previous pipelines and fit our model. "
   ]
  },
  {
   "cell_type": "code",
   "execution_count": 44,
   "metadata": {},
   "outputs": [],
   "source": [
    "numeric_transformer = Pipeline(\n",
    "    steps=[(\"imputer\", SimpleImputer(strategy=\"median\")), \n",
    "           (\"scaler\", StandardScaler())]\n",
    ")\n",
    "\n",
    "categorical_transformer = Pipeline(\n",
    "    steps=[(\"imputer\", SimpleImputer(strategy=\"constant\", fill_value=\"missing\")),\n",
    "           (\"onehot\", OneHotEncoder(handle_unknown=\"ignore\"))]\n",
    ")\n",
    "\n",
    "preprocessor = make_column_transformer(\n",
    "(numeric_transformer, numeric_features),\n",
    "        (categorical_transformer, categorical_features), \n",
    "    remainder='passthrough')\n",
    "\n",
    "pipe = make_pipeline(preprocessor, KNeighborsRegressor())\n",
    "pipe.fit(X_train, y_train);"
   ]
  },
  {
   "cell_type": "markdown",
   "metadata": {},
   "source": [
    "As you know, since we aren't doing classification anymore, so we can't just check for equality. "
   ]
  },
  {
   "cell_type": "code",
   "execution_count": 45,
   "metadata": {},
   "outputs": [],
   "source": [
    "predicted_y = pipe.predict(X_train) "
   ]
  },
  {
   "cell_type": "code",
   "execution_count": 46,
   "metadata": {},
   "outputs": [
    {
     "data": {
      "text/plain": [
       "array([111740., 117380., 187700., ..., 271420., 265180.,  60860.])"
      ]
     },
     "execution_count": 46,
     "metadata": {},
     "output_type": "execute_result"
    }
   ],
   "source": [
    "predicted_y"
   ]
  },
  {
   "cell_type": "code",
   "execution_count": 47,
   "metadata": {},
   "outputs": [
    {
     "data": {
      "text/plain": [
       "array([113600., 137500., 170100., ..., 286200., 412500.,  59300.])"
      ]
     },
     "execution_count": 47,
     "metadata": {},
     "output_type": "execute_result"
    }
   ],
   "source": [
    "y_train.values"
   ]
  },
  {
   "cell_type": "code",
   "execution_count": 48,
   "metadata": {},
   "outputs": [
    {
     "data": {
      "text/plain": [
       "6051     False\n",
       "20113    False\n",
       "14289    False\n",
       "13665    False\n",
       "14471    False\n",
       "         ...  \n",
       "7763     False\n",
       "15377    False\n",
       "17730    False\n",
       "15725    False\n",
       "19966    False\n",
       "Name: median_house_value, Length: 18576, dtype: bool"
      ]
     },
     "execution_count": 48,
     "metadata": {},
     "output_type": "execute_result"
    }
   ],
   "source": [
    "predicted_y == y_train"
   ]
  },
  {
   "cell_type": "markdown",
   "metadata": {},
   "source": [
    "We need a score that reflects how right/wrong each prediction is or how close we are to the actual numeric value.\n",
    "\n",
    "We are going to discuss 4 different ones lightly but, if you want to see more regression metrics in detail, you can refer to the [sklearn documentation](https://scikit-learn.org/stable/modules/model_evaluation.html#regression-metrics). "
   ]
  },
  {
   "cell_type": "markdown",
   "metadata": {},
   "source": [
    "###  Mean squared error (MSE)\n",
    "\n",
    "Mean Squared Error is a common measure.\n",
    "\n",
    "\n",
    "$$MSE = \\frac{1}{n} \\displaystyle\\sum_{i=1}^{n} (y_i - {\\tilde{y_i}})^2$$\n",
    "\n",
    "$$MSE = \\frac{1}{\\text{total samples}} \\displaystyle\\sum_{i=1}^{\\text{total samples}} (\\text{true}_i - {\\text{predicted}_i})^2$$\n",
    "\n",
    "We calculate this by calculating the difference between the predicted and actual value, square it and sum all these values for every example in the data. \n",
    "\n",
    "The higher the MSE, the worse the model performs."
   ]
  },
  {
   "cell_type": "code",
   "execution_count": 49,
   "metadata": {},
   "outputs": [
    {
     "data": {
      "text/plain": [
       "array([111740., 117380., 187700., ..., 271420., 265180.,  60860.])"
      ]
     },
     "execution_count": 49,
     "metadata": {},
     "output_type": "execute_result"
    }
   ],
   "source": [
    "predicted_y"
   ]
  },
  {
   "cell_type": "code",
   "execution_count": 50,
   "metadata": {},
   "outputs": [
    {
     "data": {
      "text/plain": [
       "2570054492.048064"
      ]
     },
     "execution_count": 50,
     "metadata": {},
     "output_type": "execute_result"
    }
   ],
   "source": [
    "((y_train - predicted_y)**2).mean()"
   ]
  },
  {
   "cell_type": "markdown",
   "metadata": {},
   "source": [
    "Perfect predictions would have MSE=0.\n",
    "\n",
    "We can see that by using `y_train` instead of `predicted_y` which demonstrates how we get 0 as a result. "
   ]
  },
  {
   "cell_type": "code",
   "execution_count": 51,
   "metadata": {},
   "outputs": [
    {
     "data": {
      "text/plain": [
       "0.0"
      ]
     },
     "execution_count": 51,
     "metadata": {},
     "output_type": "execute_result"
    }
   ],
   "source": [
    "((y_train - y_train)**2).mean()"
   ]
  },
  {
   "cell_type": "markdown",
   "metadata": {},
   "source": [
    "We can use `mean_squared_error` from `sklearn.metrics` again instead of calculating this ourselves. "
   ]
  },
  {
   "cell_type": "code",
   "execution_count": 52,
   "metadata": {},
   "outputs": [],
   "source": [
    "from sklearn.metrics import mean_squared_error "
   ]
  },
  {
   "cell_type": "code",
   "execution_count": 53,
   "metadata": {},
   "outputs": [
    {
     "data": {
      "text/plain": [
       "2570054492.048064"
      ]
     },
     "execution_count": 53,
     "metadata": {},
     "output_type": "execute_result"
    }
   ],
   "source": [
    "mean_squared_error(y_train, predicted_y)"
   ]
  },
  {
   "cell_type": "markdown",
   "metadata": {},
   "source": [
    "#### The disadvantages\n",
    "\n",
    "If we look at MSE here, it's huge and unreasonable. \n",
    "\n",
    "Is this score good or bad?\n",
    "\n",
    "Unlike classification, in regression, our target has units. \n",
    "\n",
    "In this case, our target column is the median housing value which is in dollars. \n",
    "\n",
    "That means that the mean squared error is in dollars$^2$. \n",
    "\n",
    "The score also depends on the scale of the targets. \n",
    "\n",
    "If we were working in cents instead of dollars, our MSE would be 10,000 X (100<sup>2</sup>) higher!"
   ]
  },
  {
   "cell_type": "markdown",
   "metadata": {},
   "source": [
    "### Quick recap on $R^2$\n",
    "\n",
    "We've seen this before!\n",
    "\n",
    "This is the score that `sklearn` uses by default when you call `.score()` so we've already seen $R^2$ in our regression problems. \n",
    "\n",
    "You can <a href=\"https://en.wikipedia.org/wiki/Coefficient_of_determination\" target=\"_blank\">read about it here</a> but we are going to just give you the quick notes. \n",
    "\n",
    "Intuition: mean squared error, but flipped where higher values mean a better measurement.\n",
    "\n",
    "It's normalized so the max is 1.\n",
    "\n",
    "We can use the default scoring from `.score()` or we can calculate $R^2$ using `r2_score` from `sklearn.metrics`"
   ]
  },
  {
   "cell_type": "code",
   "execution_count": 54,
   "metadata": {},
   "outputs": [],
   "source": [
    "from sklearn.metrics import r2_score"
   ]
  },
  {
   "cell_type": "markdown",
   "metadata": {},
   "source": [
    "When you call `fit` it minimizes MSE / maximizes R<sup>2</sup> (or something like that) by default.\n",
    "\n",
    "Just like how accuracy isn't always what you want in classification, $R^2$ isn't always what you want in regression!\n",
    "\n",
    "\n",
    "Another important thing to note is that we can reverse MSE but not R<sup>2</sup> (optional)."
   ]
  },
  {
   "cell_type": "code",
   "execution_count": 55,
   "metadata": {},
   "outputs": [
    {
     "name": "stdout",
     "output_type": "stream",
     "text": [
      "2570054492.048064\n",
      "2570054492.048064\n"
     ]
    }
   ],
   "source": [
    "print(mean_squared_error(y_train, predicted_y))\n",
    "print(mean_squared_error(predicted_y, y_train))"
   ]
  },
  {
   "cell_type": "code",
   "execution_count": 56,
   "metadata": {},
   "outputs": [
    {
     "name": "stdout",
     "output_type": "stream",
     "text": [
      "0.8059396097446094\n",
      "0.742915970464153\n"
     ]
    }
   ],
   "source": [
    "print(r2_score(y_train, predicted_y))\n",
    "print(r2_score(predicted_y, y_train))"
   ]
  },
  {
   "cell_type": "markdown",
   "metadata": {},
   "source": [
    "### Root mean squared error  (RMSE)\n",
    "\n",
    "Remember the MSE we had before was in $dollars^2$. A more relatable metric would be the root mean squared error, or RMSE. \n",
    "\n",
    "This is the square root of $MSE$.\n",
    "\n",
    "$$RMSE = \\sqrt{MSE}$$\n",
    "\n",
    "\n",
    "\n",
    "$$MSE = \\sqrt{\\frac{1}{n} \\displaystyle\\sum_{i=1}^{n} (y_i - {\\tilde{y_i}})^2}$$\n",
    "\n",
    "$$MSE =  \\sqrt{\\frac{1}{\\text{total samples}} \\displaystyle\\sum_{i=1}^{\\text{total samples}} (\\text{true}_i - {\\text{predicted}_i})^2}$$"
   ]
  },
  {
   "cell_type": "code",
   "execution_count": 57,
   "metadata": {},
   "outputs": [
    {
     "data": {
      "text/plain": [
       "2570054492.048064"
      ]
     },
     "execution_count": 57,
     "metadata": {},
     "output_type": "execute_result"
    }
   ],
   "source": [
    "mean_squared_error(y_train, predicted_y)"
   ]
  },
  {
   "cell_type": "code",
   "execution_count": 58,
   "metadata": {},
   "outputs": [
    {
     "data": {
      "text/plain": [
       "50695.704867849156"
      ]
     },
     "execution_count": 58,
     "metadata": {},
     "output_type": "execute_result"
    }
   ],
   "source": [
    "np.sqrt(mean_squared_error(y_train, predicted_y))"
   ]
  },
  {
   "cell_type": "markdown",
   "metadata": {},
   "source": [
    "This now has the units in dollars.  Instead of 2 billion dollars squared, our error measurement is around $50,000.\n",
    "\n",
    "Let's plot the predicted vs the true housing prices here."
   ]
  },
  {
   "cell_type": "code",
   "execution_count": 59,
   "metadata": {},
   "outputs": [
    {
     "data": {
      "image/png": "[encoded data removed]",
      "text/plain": [
       "<Figure size 432x288 with 1 Axes>"
      ]
     },
     "metadata": {
      "needs_background": "light"
     },
     "output_type": "display_data"
    }
   ],
   "source": [
    "df = pd.DataFrame(y_train).assign(predicted = predicted_y).rename(columns = {'median_house_value': 'true'})\n",
    "df = pd.DataFrame(y_train).assign(predicted = predicted_y).rename(columns = {'median_house_value': 'true'})\n",
    "plt.scatter(y_train, predicted_y, alpha=0.3, s = 5)\n",
    "grid = np.linspace(y_train.min(), y_train.max(), 1000)\n",
    "plt.plot(grid, grid, '--k');\n",
    "plt.xticks(fontsize= 12);\n",
    "plt.yticks(fontsize= 12);\n",
    "plt.xlabel(\"true price\", fontsize=14);\n",
    "plt.ylabel(\"predicted price\", fontsize=14);"
   ]
  },
  {
   "cell_type": "markdown",
   "metadata": {},
   "source": [
    "When we plot our predictions versus the examples' actual value, we can see cases where our prediction is way off.\n",
    "\n",
    "Points under the line $y=x$ means we're under-predicting price, points over the line means we're over-predicting price.\n",
    "\n",
    "*Question: Is an error of \\$30,000 acceptable?*   \n",
    "\n",
    "- For a house worth \\$600k, it seems reasonable! That's a 5% error.\n",
    "- For a house worth \\$60k, that is terrible. It's a 50% error.\n",
    "\n",
    "So how can we adjust to this? \n",
    "\n",
    "...Enter **MAPE**!"
   ]
  },
  {
   "cell_type": "markdown",
   "metadata": {},
   "source": [
    "### MAPE - Mean Absolute Percent Error (MAPE)\n",
    "\n",
    "We can calculate a percentage error for each example. Now the errors are both positive (predict too high) and negative (predict too low).\n",
    "\n",
    "We can look at the absolute percent error which now shows us how far off we were independent of direction. \n",
    "\n",
    "Like MSE, we can take the average over all the examples. This is called **Mean Absolute Percent Error (MAPE)**.\n",
    "\n",
    "Ok, this is quite interpretable. We can see that on average, we have around 18% error in our predicted median housing valuation."
   ]
  },
  {
   "cell_type": "markdown",
   "metadata": {},
   "source": [
    "We can calculate a percentage error for each example. Now the errors are both positive (predict too high) and negative (predict too low)."
   ]
  },
  {
   "cell_type": "code",
   "execution_count": 60,
   "metadata": {},
   "outputs": [
    {
     "data": {
      "text/plain": [
       "6051     -1.637324\n",
       "20113   -14.632727\n",
       "14289    10.346855\n",
       "13665     6.713070\n",
       "14471   -10.965854\n",
       "Name: median_house_value, dtype: float64"
      ]
     },
     "execution_count": 60,
     "metadata": {},
     "output_type": "execute_result"
    }
   ],
   "source": [
    "percent_errors = (predicted_y - y_train)/y_train * 100.\n",
    "percent_errors.head()"
   ]
  },
  {
   "cell_type": "markdown",
   "metadata": {},
   "source": [
    "We can look at the absolute percent error which now shows us how far off we were independent of direction. "
   ]
  },
  {
   "cell_type": "code",
   "execution_count": 61,
   "metadata": {},
   "outputs": [
    {
     "data": {
      "text/plain": [
       "6051      1.637324\n",
       "20113    14.632727\n",
       "14289    10.346855\n",
       "13665     6.713070\n",
       "14471    10.965854\n",
       "Name: median_house_value, dtype: float64"
      ]
     },
     "execution_count": 61,
     "metadata": {},
     "output_type": "execute_result"
    }
   ],
   "source": [
    "np.abs(percent_errors).head()"
   ]
  },
  {
   "cell_type": "markdown",
   "metadata": {},
   "source": [
    "And like MSE, we can take the average over all the examples. "
   ]
  },
  {
   "cell_type": "code",
   "execution_count": 62,
   "metadata": {},
   "outputs": [
    {
     "data": {
      "text/plain": [
       "18.192997502985218"
      ]
     },
     "execution_count": 62,
     "metadata": {},
     "output_type": "execute_result"
    }
   ],
   "source": [
    "np.abs(percent_errors).mean()"
   ]
  },
  {
   "cell_type": "markdown",
   "metadata": {},
   "source": [
    "This is called **Mean Absolute Percent Error (MAPE)**.\n",
    "\n",
    "This is quite interpretable. We can see that on average, we have around 18% error in our predicted median housing valuation."
   ]
  },
  {
   "cell_type": "markdown",
   "metadata": {},
   "source": [
    "## Let's Practice \n",
    "\n",
    "1\\. Which measurement will have units which are the square values of the target column units?    \n",
    "2\\. For which of the following is it possible to have negative values?    \n",
    "3\\. Which measurement is expressed as a percentage?    \n",
    "4\\. Calculate the MSE from the values given below.     \n",
    "\n",
    "\n",
    "|Observation | True Value | Predicted Value |\n",
    "|------------|------------|-----------------|\n",
    "|0           | 4          | 5               |\n",
    "|1           | 12         | 10              |\n",
    "|2           | 6          | 9               |\n",
    "|3           | 9          | 8               |\n",
    "|4           | 3          | 3               |\n",
    "\n",
    "\n",
    "**True or False:**   \n",
    "\n",
    "5\\. We can still use recall and precision for regression problems but now we have other measurements we can use as well.      \n",
    "6\\. A lower RMSE value indicates a better model.      \n",
    "7\\. In regression problems, calculating $R^2$  using `r2_score()` and `.score()` (with default values) will produce the same results.     "
   ]
  },
  {
   "cell_type": "markdown",
   "metadata": {},
   "source": [
    "```{admonition} Solutions!\n",
    ":class: dropdown\n",
    "\n",
    "1. $MSE$\n",
    "2. $R^2$\n",
    "3. $MAPE$\n",
    "4. 3\n",
    "5. False\n",
    "6. True\n",
    "7. True\n",
    "\n",
    "```"
   ]
  },
  {
   "cell_type": "markdown",
   "metadata": {},
   "source": [
    "## Passing Different Scoring Methods\n",
    "\n",
    "We now know about all these metrics; how do we implement them? \n",
    "\n",
    "We are lucky because it's relatively easy and can be applied to both classification and regression problems. \n",
    "\n",
    "Let's start with regression and our regression measurements. \n",
    "\n",
    "This means bringing back our California housing dataset."
   ]
  },
  {
   "cell_type": "code",
   "execution_count": 63,
   "metadata": {},
   "outputs": [
    {
     "data": {
      "text/html": [
       "<div>\n",
       "<style scoped>\n",
       "    .dataframe tbody tr th:only-of-type {\n",
       "        vertical-align: middle;\n",
       "    }\n",
       "\n",
       "    .dataframe tbody tr th {\n",
       "        vertical-align: top;\n",
       "    }\n",
       "\n",
       "    .dataframe thead th {\n",
       "        text-align: right;\n",
       "    }\n",
       "</style>\n",
       "<table border=\"1\" class=\"dataframe\">\n",
       "  <thead>\n",
       "    <tr style=\"text-align: right;\">\n",
       "      <th></th>\n",
       "      <th>longitude</th>\n",
       "      <th>latitude</th>\n",
       "      <th>housing_median_age</th>\n",
       "      <th>households</th>\n",
       "      <th>median_income</th>\n",
       "      <th>ocean_proximity</th>\n",
       "      <th>rooms_per_household</th>\n",
       "      <th>bedrooms_per_household</th>\n",
       "      <th>population_per_household</th>\n",
       "    </tr>\n",
       "  </thead>\n",
       "  <tbody>\n",
       "    <tr>\n",
       "      <th>6051</th>\n",
       "      <td>-117.75</td>\n",
       "      <td>34.04</td>\n",
       "      <td>22.0</td>\n",
       "      <td>602.0</td>\n",
       "      <td>3.1250</td>\n",
       "      <td>INLAND</td>\n",
       "      <td>4.897010</td>\n",
       "      <td>1.056478</td>\n",
       "      <td>4.318937</td>\n",
       "    </tr>\n",
       "    <tr>\n",
       "      <th>20113</th>\n",
       "      <td>-119.57</td>\n",
       "      <td>37.94</td>\n",
       "      <td>17.0</td>\n",
       "      <td>20.0</td>\n",
       "      <td>3.4861</td>\n",
       "      <td>INLAND</td>\n",
       "      <td>17.300000</td>\n",
       "      <td>6.500000</td>\n",
       "      <td>2.550000</td>\n",
       "    </tr>\n",
       "    <tr>\n",
       "      <th>14289</th>\n",
       "      <td>-117.13</td>\n",
       "      <td>32.74</td>\n",
       "      <td>46.0</td>\n",
       "      <td>708.0</td>\n",
       "      <td>2.6604</td>\n",
       "      <td>NEAR OCEAN</td>\n",
       "      <td>4.738701</td>\n",
       "      <td>1.084746</td>\n",
       "      <td>2.057910</td>\n",
       "    </tr>\n",
       "    <tr>\n",
       "      <th>13665</th>\n",
       "      <td>-117.31</td>\n",
       "      <td>34.02</td>\n",
       "      <td>18.0</td>\n",
       "      <td>285.0</td>\n",
       "      <td>5.2139</td>\n",
       "      <td>INLAND</td>\n",
       "      <td>5.733333</td>\n",
       "      <td>0.961404</td>\n",
       "      <td>3.154386</td>\n",
       "    </tr>\n",
       "    <tr>\n",
       "      <th>14471</th>\n",
       "      <td>-117.23</td>\n",
       "      <td>32.88</td>\n",
       "      <td>18.0</td>\n",
       "      <td>1458.0</td>\n",
       "      <td>1.8580</td>\n",
       "      <td>NEAR OCEAN</td>\n",
       "      <td>3.817558</td>\n",
       "      <td>1.004801</td>\n",
       "      <td>4.323045</td>\n",
       "    </tr>\n",
       "  </tbody>\n",
       "</table>\n",
       "</div>"
      ],
      "text/plain": [
       "       longitude  latitude  housing_median_age  households  median_income  \\\n",
       "6051     -117.75     34.04                22.0       602.0         3.1250   \n",
       "20113    -119.57     37.94                17.0        20.0         3.4861   \n",
       "14289    -117.13     32.74                46.0       708.0         2.6604   \n",
       "13665    -117.31     34.02                18.0       285.0         5.2139   \n",
       "14471    -117.23     32.88                18.0      1458.0         1.8580   \n",
       "\n",
       "      ocean_proximity  rooms_per_household  bedrooms_per_household  \\\n",
       "6051           INLAND             4.897010                1.056478   \n",
       "20113          INLAND            17.300000                6.500000   \n",
       "14289      NEAR OCEAN             4.738701                1.084746   \n",
       "13665          INLAND             5.733333                0.961404   \n",
       "14471      NEAR OCEAN             3.817558                1.004801   \n",
       "\n",
       "       population_per_household  \n",
       "6051                   4.318937  \n",
       "20113                  2.550000  \n",
       "14289                  2.057910  \n",
       "13665                  3.154386  \n",
       "14471                  4.323045  "
      ]
     },
     "execution_count": 63,
     "metadata": {},
     "output_type": "execute_result"
    }
   ],
   "source": [
    "X_train.head()"
   ]
  },
  {
   "cell_type": "markdown",
   "metadata": {},
   "source": [
    "And our pipelines. \n",
    "\n",
    "This time we are using $k$-nn."
   ]
  },
  {
   "cell_type": "code",
   "execution_count": 64,
   "metadata": {},
   "outputs": [],
   "source": [
    "numeric_transformer = Pipeline(\n",
    "    steps=[(\"imputer\", SimpleImputer(strategy=\"median\")), \n",
    "           (\"scaler\", StandardScaler())]\n",
    ")\n",
    "\n",
    "categorical_transformer = Pipeline(\n",
    "    steps=[(\"imputer\", SimpleImputer(strategy=\"constant\", fill_value=\"missing\")),\n",
    "           (\"onehot\", OneHotEncoder(handle_unknown=\"ignore\"))]\n",
    ")\n",
    "\n",
    "preprocessor = make_column_transformer(\n",
    "(numeric_transformer, numeric_features),\n",
    "        (categorical_transformer, categorical_features), \n",
    "    remainder='passthrough')\n",
    "\n",
    "pipe_regression = make_pipeline(preprocessor, KNeighborsRegressor())"
   ]
  },
  {
   "cell_type": "markdown",
   "metadata": {},
   "source": [
    "### Cross-validation\n",
    "\n",
    "Normally after building our pipelines, we would now either do cross-validation or hyperparameter tuning but let's start with the `cross_validate()` function. \n",
    "\n",
    "All the possible scoring metrics that this argument accepts are available [here in the sklearn documentation](https://scikit-learn.org/stable/modules/model_evaluation.html#scoring-parameter). \n",
    "\n",
    "In this case, if we wanted the RMSE measure, we would specify `neg_mean_squared_error` and the negated value of the metric will be returned in our dataframe. "
   ]
  },
  {
   "cell_type": "code",
   "execution_count": 65,
   "metadata": {},
   "outputs": [
    {
     "data": {
      "text/html": [
       "<div>\n",
       "<style scoped>\n",
       "    .dataframe tbody tr th:only-of-type {\n",
       "        vertical-align: middle;\n",
       "    }\n",
       "\n",
       "    .dataframe tbody tr th {\n",
       "        vertical-align: top;\n",
       "    }\n",
       "\n",
       "    .dataframe thead th {\n",
       "        text-align: right;\n",
       "    }\n",
       "</style>\n",
       "<table border=\"1\" class=\"dataframe\">\n",
       "  <thead>\n",
       "    <tr style=\"text-align: right;\">\n",
       "      <th></th>\n",
       "      <th>fit_time</th>\n",
       "      <th>score_time</th>\n",
       "      <th>test_score</th>\n",
       "      <th>train_score</th>\n",
       "    </tr>\n",
       "  </thead>\n",
       "  <tbody>\n",
       "    <tr>\n",
       "      <th>0</th>\n",
       "      <td>0.039957</td>\n",
       "      <td>0.289924</td>\n",
       "      <td>0.695818</td>\n",
       "      <td>0.801659</td>\n",
       "    </tr>\n",
       "    <tr>\n",
       "      <th>1</th>\n",
       "      <td>0.032168</td>\n",
       "      <td>0.278022</td>\n",
       "      <td>0.707483</td>\n",
       "      <td>0.799575</td>\n",
       "    </tr>\n",
       "    <tr>\n",
       "      <th>2</th>\n",
       "      <td>0.033430</td>\n",
       "      <td>0.300306</td>\n",
       "      <td>0.713788</td>\n",
       "      <td>0.795944</td>\n",
       "    </tr>\n",
       "    <tr>\n",
       "      <th>3</th>\n",
       "      <td>0.037170</td>\n",
       "      <td>0.280229</td>\n",
       "      <td>0.686938</td>\n",
       "      <td>0.801232</td>\n",
       "    </tr>\n",
       "    <tr>\n",
       "      <th>4</th>\n",
       "      <td>0.031539</td>\n",
       "      <td>0.219956</td>\n",
       "      <td>0.724608</td>\n",
       "      <td>0.832498</td>\n",
       "    </tr>\n",
       "  </tbody>\n",
       "</table>\n",
       "</div>"
      ],
      "text/plain": [
       "   fit_time  score_time  test_score  train_score\n",
       "0  0.039957    0.289924    0.695818     0.801659\n",
       "1  0.032168    0.278022    0.707483     0.799575\n",
       "2  0.033430    0.300306    0.713788     0.795944\n",
       "3  0.037170    0.280229    0.686938     0.801232\n",
       "4  0.031539    0.219956    0.724608     0.832498"
      ]
     },
     "execution_count": 65,
     "metadata": {},
     "output_type": "execute_result"
    }
   ],
   "source": [
    "pd.DataFrame(cross_validate(pipe_regression,\n",
    "                            X_train, y_train, \n",
    "                            return_train_score=True,\n",
    "                      #      scoring = 'neg_root_mean_squared_error')\n",
    "            ))"
   ]
  },
  {
   "cell_type": "code",
   "execution_count": 66,
   "metadata": {},
   "outputs": [
    {
     "data": {
      "text/html": [
       "<div>\n",
       "<style scoped>\n",
       "    .dataframe tbody tr th:only-of-type {\n",
       "        vertical-align: middle;\n",
       "    }\n",
       "\n",
       "    .dataframe tbody tr th {\n",
       "        vertical-align: top;\n",
       "    }\n",
       "\n",
       "    .dataframe thead th {\n",
       "        text-align: right;\n",
       "    }\n",
       "</style>\n",
       "<table border=\"1\" class=\"dataframe\">\n",
       "  <thead>\n",
       "    <tr style=\"text-align: right;\">\n",
       "      <th></th>\n",
       "      <th>fit_time</th>\n",
       "      <th>score_time</th>\n",
       "      <th>test_score</th>\n",
       "      <th>train_score</th>\n",
       "    </tr>\n",
       "  </thead>\n",
       "  <tbody>\n",
       "    <tr>\n",
       "      <th>0</th>\n",
       "      <td>0.036687</td>\n",
       "      <td>0.292240</td>\n",
       "      <td>-62462.584290</td>\n",
       "      <td>-51440.540539</td>\n",
       "    </tr>\n",
       "    <tr>\n",
       "      <th>1</th>\n",
       "      <td>0.033530</td>\n",
       "      <td>0.250330</td>\n",
       "      <td>-63437.715015</td>\n",
       "      <td>-51263.979666</td>\n",
       "    </tr>\n",
       "    <tr>\n",
       "      <th>2</th>\n",
       "      <td>0.030526</td>\n",
       "      <td>0.250198</td>\n",
       "      <td>-62613.202523</td>\n",
       "      <td>-51758.817852</td>\n",
       "    </tr>\n",
       "    <tr>\n",
       "      <th>3</th>\n",
       "      <td>0.029188</td>\n",
       "      <td>0.274914</td>\n",
       "      <td>-64204.295214</td>\n",
       "      <td>-51343.743586</td>\n",
       "    </tr>\n",
       "    <tr>\n",
       "      <th>4</th>\n",
       "      <td>0.028573</td>\n",
       "      <td>0.208082</td>\n",
       "      <td>-59217.838633</td>\n",
       "      <td>-47325.157312</td>\n",
       "    </tr>\n",
       "  </tbody>\n",
       "</table>\n",
       "</div>"
      ],
      "text/plain": [
       "   fit_time  score_time    test_score   train_score\n",
       "0  0.036687    0.292240 -62462.584290 -51440.540539\n",
       "1  0.033530    0.250330 -63437.715015 -51263.979666\n",
       "2  0.030526    0.250198 -62613.202523 -51758.817852\n",
       "3  0.029188    0.274914 -64204.295214 -51343.743586\n",
       "4  0.028573    0.208082 -59217.838633 -47325.157312"
      ]
     },
     "execution_count": 66,
     "metadata": {},
     "output_type": "execute_result"
    }
   ],
   "source": [
    "pd.DataFrame(cross_validate(pipe_regression,\n",
    "                            X_train, y_train, \n",
    "                            return_train_score=True,\n",
    "                            scoring = 'neg_root_mean_squared_error')\n",
    "            )"
   ]
  },
  {
   "cell_type": "markdown",
   "metadata": {},
   "source": [
    "Sometimes they don't have the scoring measure that we want and that's ok.\n",
    "\n",
    "We can make our own using the `make_scorer` from sklearn. \n",
    "\n",
    "First, we import `make_scorer` from `Sklearn`. "
   ]
  },
  {
   "cell_type": "code",
   "execution_count": 67,
   "metadata": {},
   "outputs": [],
   "source": [
    "from sklearn.metrics import make_scorer"
   ]
  },
  {
   "cell_type": "markdown",
   "metadata": {},
   "source": [
    "Next, we can make a function calculating our desired measurement. In this case, we are making a function that has the true and predicted values as inputs and then returns the Mean Absolute percentage Error."
   ]
  },
  {
   "cell_type": "code",
   "execution_count": 68,
   "metadata": {},
   "outputs": [],
   "source": [
    "def mape(true, pred):\n",
    "    return 100.*(np.abs((pred - true)/true)).mean()"
   ]
  },
  {
   "cell_type": "markdown",
   "metadata": {},
   "source": [
    "We can turn this into something that the `scoring` argument will understand by putting our created MAPE function as an input argument in `make_scorer()`. \n",
    "\n",
    "Now when we cross-validate, we can specify the new `mape_scorer` as our measure. "
   ]
  },
  {
   "cell_type": "code",
   "execution_count": 69,
   "metadata": {},
   "outputs": [],
   "source": [
    "mape_scorer = make_scorer(mape)"
   ]
  },
  {
   "cell_type": "markdown",
   "metadata": {},
   "source": [
    "Now when we cross-validate, we can specify the new `mape_scorer` as our measure. "
   ]
  },
  {
   "cell_type": "code",
   "execution_count": 70,
   "metadata": {},
   "outputs": [
    {
     "data": {
      "text/html": [
       "<div>\n",
       "<style scoped>\n",
       "    .dataframe tbody tr th:only-of-type {\n",
       "        vertical-align: middle;\n",
       "    }\n",
       "\n",
       "    .dataframe tbody tr th {\n",
       "        vertical-align: top;\n",
       "    }\n",
       "\n",
       "    .dataframe thead th {\n",
       "        text-align: right;\n",
       "    }\n",
       "</style>\n",
       "<table border=\"1\" class=\"dataframe\">\n",
       "  <thead>\n",
       "    <tr style=\"text-align: right;\">\n",
       "      <th></th>\n",
       "      <th>fit_time</th>\n",
       "      <th>score_time</th>\n",
       "      <th>test_score</th>\n",
       "      <th>train_score</th>\n",
       "    </tr>\n",
       "  </thead>\n",
       "  <tbody>\n",
       "    <tr>\n",
       "      <th>0</th>\n",
       "      <td>0.039827</td>\n",
       "      <td>0.394224</td>\n",
       "      <td>22.709732</td>\n",
       "      <td>18.420969</td>\n",
       "    </tr>\n",
       "    <tr>\n",
       "      <th>1</th>\n",
       "      <td>0.062865</td>\n",
       "      <td>0.408991</td>\n",
       "      <td>22.754570</td>\n",
       "      <td>18.469125</td>\n",
       "    </tr>\n",
       "    <tr>\n",
       "      <th>2</th>\n",
       "      <td>0.032953</td>\n",
       "      <td>0.245034</td>\n",
       "      <td>22.236869</td>\n",
       "      <td>18.674964</td>\n",
       "    </tr>\n",
       "    <tr>\n",
       "      <th>3</th>\n",
       "      <td>0.031604</td>\n",
       "      <td>0.255892</td>\n",
       "      <td>23.016666</td>\n",
       "      <td>18.510766</td>\n",
       "    </tr>\n",
       "    <tr>\n",
       "      <th>4</th>\n",
       "      <td>0.038290</td>\n",
       "      <td>0.278134</td>\n",
       "      <td>21.033519</td>\n",
       "      <td>16.951021</td>\n",
       "    </tr>\n",
       "  </tbody>\n",
       "</table>\n",
       "</div>"
      ],
      "text/plain": [
       "   fit_time  score_time  test_score  train_score\n",
       "0  0.039827    0.394224   22.709732    18.420969\n",
       "1  0.062865    0.408991   22.754570    18.469125\n",
       "2  0.032953    0.245034   22.236869    18.674964\n",
       "3  0.031604    0.255892   23.016666    18.510766\n",
       "4  0.038290    0.278134   21.033519    16.951021"
      ]
     },
     "execution_count": 70,
     "metadata": {},
     "output_type": "execute_result"
    }
   ],
   "source": [
    "pd.DataFrame(cross_validate(\n",
    "    pipe_regression, X_train, y_train, return_train_score=True, scoring=mape_scorer))"
   ]
  },
  {
   "cell_type": "markdown",
   "metadata": {},
   "source": [
    "Now our cross-validation returns percentages! \n",
    "\n",
    "We can also return multiple scoring measures together by making a dictionary and then specifying the dictionary in the `scoring` argument. "
   ]
  },
  {
   "cell_type": "code",
   "execution_count": 71,
   "metadata": {},
   "outputs": [],
   "source": [
    "scoring={\n",
    "    \"r2\": \"r2\",\n",
    "    \"mape_score\": mape_scorer,\n",
    "    \"neg_rmse\": \"neg_root_mean_squared_error\",    \n",
    "    \"neg_mse\": \"neg_mean_squared_error\",    \n",
    "}"
   ]
  },
  {
   "cell_type": "code",
   "execution_count": 72,
   "metadata": {},
   "outputs": [
    {
     "data": {
      "text/html": [
       "<div>\n",
       "<style scoped>\n",
       "    .dataframe tbody tr th:only-of-type {\n",
       "        vertical-align: middle;\n",
       "    }\n",
       "\n",
       "    .dataframe tbody tr th {\n",
       "        vertical-align: top;\n",
       "    }\n",
       "\n",
       "    .dataframe thead th {\n",
       "        text-align: right;\n",
       "    }\n",
       "</style>\n",
       "<table border=\"1\" class=\"dataframe\">\n",
       "  <thead>\n",
       "    <tr style=\"text-align: right;\">\n",
       "      <th></th>\n",
       "      <th>fit_time</th>\n",
       "      <th>score_time</th>\n",
       "      <th>test_r2</th>\n",
       "      <th>train_r2</th>\n",
       "      <th>test_mape_score</th>\n",
       "      <th>train_mape_score</th>\n",
       "      <th>test_neg_rmse</th>\n",
       "      <th>train_neg_rmse</th>\n",
       "      <th>test_neg_mse</th>\n",
       "      <th>train_neg_mse</th>\n",
       "    </tr>\n",
       "  </thead>\n",
       "  <tbody>\n",
       "    <tr>\n",
       "      <th>0</th>\n",
       "      <td>0.037458</td>\n",
       "      <td>0.299782</td>\n",
       "      <td>0.695818</td>\n",
       "      <td>0.801659</td>\n",
       "      <td>22.709732</td>\n",
       "      <td>18.420969</td>\n",
       "      <td>-62462.584290</td>\n",
       "      <td>-51440.540539</td>\n",
       "      <td>-3.901574e+09</td>\n",
       "      <td>-2.646129e+09</td>\n",
       "    </tr>\n",
       "    <tr>\n",
       "      <th>1</th>\n",
       "      <td>0.031972</td>\n",
       "      <td>0.261208</td>\n",
       "      <td>0.707483</td>\n",
       "      <td>0.799575</td>\n",
       "      <td>22.754570</td>\n",
       "      <td>18.469125</td>\n",
       "      <td>-63437.715015</td>\n",
       "      <td>-51263.979666</td>\n",
       "      <td>-4.024344e+09</td>\n",
       "      <td>-2.627996e+09</td>\n",
       "    </tr>\n",
       "    <tr>\n",
       "      <th>2</th>\n",
       "      <td>0.031364</td>\n",
       "      <td>0.261568</td>\n",
       "      <td>0.713788</td>\n",
       "      <td>0.795944</td>\n",
       "      <td>22.236869</td>\n",
       "      <td>18.674964</td>\n",
       "      <td>-62613.202523</td>\n",
       "      <td>-51758.817852</td>\n",
       "      <td>-3.920413e+09</td>\n",
       "      <td>-2.678975e+09</td>\n",
       "    </tr>\n",
       "    <tr>\n",
       "      <th>3</th>\n",
       "      <td>0.030382</td>\n",
       "      <td>0.263205</td>\n",
       "      <td>0.686938</td>\n",
       "      <td>0.801232</td>\n",
       "      <td>23.016666</td>\n",
       "      <td>18.510766</td>\n",
       "      <td>-64204.295214</td>\n",
       "      <td>-51343.743586</td>\n",
       "      <td>-4.122192e+09</td>\n",
       "      <td>-2.636180e+09</td>\n",
       "    </tr>\n",
       "    <tr>\n",
       "      <th>4</th>\n",
       "      <td>0.032217</td>\n",
       "      <td>0.221644</td>\n",
       "      <td>0.724608</td>\n",
       "      <td>0.832498</td>\n",
       "      <td>21.033519</td>\n",
       "      <td>16.951021</td>\n",
       "      <td>-59217.838633</td>\n",
       "      <td>-47325.157312</td>\n",
       "      <td>-3.506752e+09</td>\n",
       "      <td>-2.239671e+09</td>\n",
       "    </tr>\n",
       "  </tbody>\n",
       "</table>\n",
       "</div>"
      ],
      "text/plain": [
       "   fit_time  score_time   test_r2  train_r2  test_mape_score  \\\n",
       "0  0.037458    0.299782  0.695818  0.801659        22.709732   \n",
       "1  0.031972    0.261208  0.707483  0.799575        22.754570   \n",
       "2  0.031364    0.261568  0.713788  0.795944        22.236869   \n",
       "3  0.030382    0.263205  0.686938  0.801232        23.016666   \n",
       "4  0.032217    0.221644  0.724608  0.832498        21.033519   \n",
       "\n",
       "   train_mape_score  test_neg_rmse  train_neg_rmse  test_neg_mse  \\\n",
       "0         18.420969  -62462.584290   -51440.540539 -3.901574e+09   \n",
       "1         18.469125  -63437.715015   -51263.979666 -4.024344e+09   \n",
       "2         18.674964  -62613.202523   -51758.817852 -3.920413e+09   \n",
       "3         18.510766  -64204.295214   -51343.743586 -4.122192e+09   \n",
       "4         16.951021  -59217.838633   -47325.157312 -3.506752e+09   \n",
       "\n",
       "   train_neg_mse  \n",
       "0  -2.646129e+09  \n",
       "1  -2.627996e+09  \n",
       "2  -2.678975e+09  \n",
       "3  -2.636180e+09  \n",
       "4  -2.239671e+09  "
      ]
     },
     "execution_count": 72,
     "metadata": {},
     "output_type": "execute_result"
    }
   ],
   "source": [
    "pd.DataFrame(cross_validate(pipe_regression,\n",
    "                            X_train, y_train,\n",
    "                            return_train_score=True, \n",
    "                            scoring=scoring))"
   ]
  },
  {
   "cell_type": "markdown",
   "metadata": {},
   "source": [
    "This returns a validation and training score for each measurement! "
   ]
  },
  {
   "cell_type": "markdown",
   "metadata": {},
   "source": [
    "### What about hyperparameter tuning?\n",
    "\n",
    "We can do exactly the same thing we saw above with `cross_validate()` but instead with `GridSearchCV` and `RandomizedSearchCV`. "
   ]
  },
  {
   "cell_type": "code",
   "execution_count": 73,
   "metadata": {},
   "outputs": [],
   "source": [
    "param_grid = {\"kneighborsregressor__n_neighbors\": [2, 5, 50, 100]}"
   ]
  },
  {
   "cell_type": "code",
   "execution_count": 74,
   "metadata": {},
   "outputs": [],
   "source": [
    "grid_search = GridSearchCV(pipe_regression, param_grid, cv=5, \n",
    "                           return_train_score=True, n_jobs=-1, \n",
    "                           scoring= mape_scorer);\n",
    "grid_search.fit(X_train, y_train);"
   ]
  },
  {
   "cell_type": "code",
   "execution_count": 75,
   "metadata": {},
   "outputs": [
    {
     "data": {
      "text/plain": [
       "{'kneighborsregressor__n_neighbors': 100}"
      ]
     },
     "execution_count": 75,
     "metadata": {},
     "output_type": "execute_result"
    }
   ],
   "source": [
    "grid_search.best_params_"
   ]
  },
  {
   "cell_type": "code",
   "execution_count": 76,
   "metadata": {},
   "outputs": [
    {
     "data": {
      "text/plain": [
       "24.63336199650092"
      ]
     },
     "execution_count": 76,
     "metadata": {},
     "output_type": "execute_result"
    }
   ],
   "source": [
    "grid_search.best_score_"
   ]
  },
  {
   "cell_type": "markdown",
   "metadata": {},
   "source": [
    "Ok wait hold on, let's think about this again. \n",
    "\n",
    "The way that `best_params_` works is that it selects the parameters where the scoring measure selected is the highest. The problem with that is MAPE is an error, and we want the parameter with the lowest value, not the highest. "
   ]
  },
  {
   "cell_type": "markdown",
   "metadata": {},
   "source": [
    "We use the argument `greater_is_better` to specify if larger values make it a better score or a worse score. The default for this is `True`. \n",
    "\n",
    "We can create a new MAPE scorer by adding the argument `greater_is_better=False` in `make_scorer`.  "
   ]
  },
  {
   "cell_type": "code",
   "execution_count": 77,
   "metadata": {},
   "outputs": [],
   "source": [
    "neg_mape_scorer = make_scorer(mape, greater_is_better=False)"
   ]
  },
  {
   "cell_type": "code",
   "execution_count": 78,
   "metadata": {},
   "outputs": [],
   "source": [
    "grid_search = GridSearchCV(pipe_regression, param_grid, cv=5,\n",
    "                           return_train_score=True, n_jobs=-1,\n",
    "                           scoring= neg_mape_scorer);\n",
    "grid_search.fit(X_train, y_train);"
   ]
  },
  {
   "cell_type": "markdown",
   "metadata": {},
   "source": [
    "Now our `best_params_` will return the parameters will the lowest MAPE (least amount of error). "
   ]
  },
  {
   "cell_type": "code",
   "execution_count": 79,
   "metadata": {},
   "outputs": [
    {
     "data": {
      "text/plain": [
       "{'kneighborsregressor__n_neighbors': 5}"
      ]
     },
     "execution_count": 79,
     "metadata": {},
     "output_type": "execute_result"
    }
   ],
   "source": [
    "grid_search.best_params_"
   ]
  },
  {
   "cell_type": "code",
   "execution_count": 80,
   "metadata": {},
   "outputs": [
    {
     "data": {
      "text/plain": [
       "-22.350271196169718"
      ]
     },
     "execution_count": 80,
     "metadata": {},
     "output_type": "execute_result"
    }
   ],
   "source": [
    "grid_search.best_score_"
   ]
  },
  {
   "cell_type": "markdown",
   "metadata": {},
   "source": [
    "That's better! "
   ]
  },
  {
   "cell_type": "markdown",
   "metadata": {},
   "source": [
    "### ... and with Classification? \n",
    "\n",
    "Let's bring back our credit card data set and build our pipeline."
   ]
  },
  {
   "cell_type": "code",
   "execution_count": 81,
   "metadata": {},
   "outputs": [],
   "source": [
    "cc_df = pd.read_csv('data/creditcard.csv', encoding='latin-1')\n",
    "train_df, test_df = train_test_split(cc_df, test_size=0.3, random_state=111)\n",
    "\n",
    "X_train, y_train = train_df.drop(columns=[\"Class\"]), train_df[\"Class\"]\n",
    "X_test, y_test = test_df.drop(columns=[\"Class\"]), test_df[\"Class\"]"
   ]
  },
  {
   "cell_type": "markdown",
   "metadata": {},
   "source": [
    "We can use `class_weight='balanced'` in our classifier..."
   ]
  },
  {
   "cell_type": "code",
   "execution_count": 82,
   "metadata": {},
   "outputs": [],
   "source": [
    "dt_model = DecisionTreeClassifier(random_state=123, class_weight='balanced')"
   ]
  },
  {
   "cell_type": "code",
   "execution_count": 83,
   "metadata": {},
   "outputs": [],
   "source": [
    "param_grid = {\"max_depth\": scipy.stats.randint(low=1, high=100)}"
   ]
  },
  {
   "cell_type": "markdown",
   "metadata": {},
   "source": [
    "... and tune our model for the thing we care about. \n",
    "\n",
    "In this case, we are specifying the `f1` score."
   ]
  },
  {
   "cell_type": "code",
   "execution_count": 84,
   "metadata": {},
   "outputs": [
    {
     "name": "stdout",
     "output_type": "stream",
     "text": [
      "Fitting 5 folds for each of 6 candidates, totalling 30 fits\n"
     ]
    }
   ],
   "source": [
    "grid_search = RandomizedSearchCV(dt_model, param_grid, cv=5, return_train_score=True,\n",
    "                           verbose=1, n_jobs=-1, scoring= 'f1', n_iter = 6)\n",
    "grid_search.fit(X_train, y_train);"
   ]
  },
  {
   "cell_type": "code",
   "execution_count": 85,
   "metadata": {},
   "outputs": [
    {
     "data": {
      "text/plain": [
       "{'max_depth': 91}"
      ]
     },
     "execution_count": 85,
     "metadata": {},
     "output_type": "execute_result"
    }
   ],
   "source": [
    "grid_search.best_params_"
   ]
  },
  {
   "cell_type": "code",
   "execution_count": 86,
   "metadata": {},
   "outputs": [
    {
     "data": {
      "text/plain": [
       "0.7190834822443745"
      ]
     },
     "execution_count": 86,
     "metadata": {},
     "output_type": "execute_result"
    }
   ],
   "source": [
    "grid_search.best_score_"
   ]
  },
  {
   "cell_type": "markdown",
   "metadata": {},
   "source": [
    "This returns the `max_depth` value that results in the highest `f1` score, not the `max_depth` with the highest accuracy. "
   ]
  },
  {
   "cell_type": "markdown",
   "metadata": {},
   "source": [
    "## Let's Practice\n",
    "\n",
    "**True or False:**     \n",
    "1\\. The `scoring` argument only accepts `str` inputs.   \n",
    "2\\. We are limited to the scoring measures offered from sklearn.    \n",
    "3\\. If we specify the scoring method in `GridSearchCV` and `RandomizedSearchCV`, `best_param_`  will return the parameters with the best specified measure.*    "
   ]
  },
  {
   "cell_type": "markdown",
   "metadata": {},
   "source": [
    "```{admonition} Solutions!\n",
    ":class: dropdown\n",
    "\n",
    "1. False\n",
    "2. False\n",
    "3. True\n",
    "\n",
    "```"
   ]
  },
  {
   "cell_type": "markdown",
   "metadata": {},
   "source": [
    "## Let's Practice - Coding\n",
    "\n",
    "Let’s bring back the Pokémon dataset that we saw previously. \n",
    "\n",
    "This time let's look at the distribution of our target variable `legendary`."
   ]
  },
  {
   "cell_type": "code",
   "execution_count": 87,
   "metadata": {},
   "outputs": [
    {
     "name": "stdout",
     "output_type": "stream",
     "text": [
      "0    405\n",
      "1     43\n",
      "Name: legendary, dtype: int64\n"
     ]
    }
   ],
   "source": [
    "from sklearn.model_selection import train_test_split\n",
    "\n",
    "\n",
    "pk_df = pd.read_csv('data/pokemon.csv')\n",
    "\n",
    "train_df, test_df = train_test_split(pk_df, test_size=0.2, random_state=1)\n",
    "\n",
    "X_train_big = train_df.drop(columns=['legendary'])\n",
    "y_train_big = train_df['legendary']\n",
    "X_test = test_df.drop(columns=['legendary'])\n",
    "y_test = test_df['legendary']\n",
    "\n",
    "X_train, X_valid, y_train, y_valid = train_test_split(X_train_big, \n",
    "                                                      y_train_big, \n",
    "                                                      test_size=0.3, \n",
    "                                                      random_state=123)\n",
    "\n",
    "print(y_train.value_counts())"
   ]
  },
  {
   "cell_type": "markdown",
   "metadata": {},
   "source": [
    "Let's do cross-validation and look at the scores from cross-validation of not just accuracy, but precision and recall and the f1 score as well.\n",
    "\n",
    "\n",
    "1. Build a pipeline containing the column transformer and an SVC model and set `class_weight=\"balanced\"` in the SVM classifier. \n",
    "2. Perform cross-validation using cross-validate on the training split using the scoring measures accuracy, precision, recall and f1.\n",
    "3. Save the results in a dataframe."
   ]
  },
  {
   "cell_type": "code",
   "execution_count": null,
   "metadata": {},
   "outputs": [],
   "source": []
  },
  {
   "cell_type": "markdown",
   "metadata": {},
   "source": [
    "## What We've Learned Today\n",
    "\n",
    "- The components of a confusion matrix.\n",
    "- How to calculate precision, recall, and f1-score.\n",
    "- How to implement the `class_weight` argument.\n",
    "- Some of the different scoring metrics used in assessing regression problems; MSE, RMSE, $R^2$, MAPE.\n",
    "- How to apply different scoring functions with `cross_validate`, `GridSearchCV` and `RandomizedSearchCV`."
   ]
  }
 ],
 "metadata": {
  "kernelspec": {
   "display_name": "Python 3",
   "language": "python",
   "name": "python3"
  },
  "language_info": {
   "codemirror_mode": {
    "name": "ipython",
    "version": 3
   },
   "file_extension": ".py",
   "mimetype": "text/x-python",
   "name": "python",
   "nbconvert_exporter": "python",
   "pygments_lexer": "ipython3",
   "version": "3.8.5"
  },
  "toc": {
   "base_numbering": 1,
   "nav_menu": {},
   "number_sections": true,
   "sideBar": true,
   "skip_h1_title": false,
   "title_cell": "Table of Contents",
   "title_sidebar": "Contents",
   "toc_cell": false,
   "toc_position": {
    "height": "calc(100% - 180px)",
    "left": "10px",
    "top": "150px",
    "width": "274.188px"
   },
   "toc_section_display": true,
   "toc_window_display": true
  }
 },
 "nbformat": 4,
 "nbformat_minor": 4
}
