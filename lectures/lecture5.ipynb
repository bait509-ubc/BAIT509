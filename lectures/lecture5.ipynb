{
 "cells": [
  {
   "cell_type": "markdown",
   "metadata": {},
   "source": [
    "# Lecture 5 - Preprocessing Categorical Features and Column Transformer\n",
    "\n",
    "*Hayley Boyce, Monday, May 3rd, 2021*"
   ]
  },
  {
   "cell_type": "markdown",
   "metadata": {
    "toc": true
   },
   "source": [
    "<h1>Table of Contents<span class=\"tocSkip\"></span></h1>\n",
    "<div class=\"toc\"><ul class=\"toc-item\"><li><span><a href=\"#Lecture-5---Preprocessing-Categorical-Features-and-Column-Transformer\" data-toc-modified-id=\"Lecture-5---Preprocessing-Categorical-Features-and-Column-Transformer-1\"><span class=\"toc-item-num\">1&nbsp;&nbsp;</span>Lecture 5 - Preprocessing Categorical Features and Column Transformer</a></span><ul class=\"toc-item\"><li><span><a href=\"#House-Keeping\" data-toc-modified-id=\"House-Keeping-1.1\"><span class=\"toc-item-num\">1.1&nbsp;&nbsp;</span>House Keeping</a></span></li><li><span><a href=\"#Lecture-Learning-Objectives\" data-toc-modified-id=\"Lecture-Learning-Objectives-1.2\"><span class=\"toc-item-num\">1.2&nbsp;&nbsp;</span>Lecture Learning Objectives</a></span></li><li><span><a href=\"#Five-Minute-Recap/-Lightning-Questions\" data-toc-modified-id=\"Five-Minute-Recap/-Lightning-Questions-1.3\"><span class=\"toc-item-num\">1.3&nbsp;&nbsp;</span>Five Minute Recap/ Lightning Questions</a></span><ul class=\"toc-item\"><li><span><a href=\"#Some-lingering-questions\" data-toc-modified-id=\"Some-lingering-questions-1.3.1\"><span class=\"toc-item-num\">1.3.1&nbsp;&nbsp;</span>Some lingering questions</a></span></li></ul></li><li><span><a href=\"#Introducing-Categorical-Feature-Preprocessing\" data-toc-modified-id=\"Introducing-Categorical-Feature-Preprocessing-1.4\"><span class=\"toc-item-num\">1.4&nbsp;&nbsp;</span>Introducing Categorical Feature Preprocessing</a></span></li><li><span><a href=\"#Ordinal-encoding\" data-toc-modified-id=\"Ordinal-encoding-1.5\"><span class=\"toc-item-num\">1.5&nbsp;&nbsp;</span>Ordinal encoding</a></span></li><li><span><a href=\"#One-Hot-Encoding\" data-toc-modified-id=\"One-Hot-Encoding-1.6\"><span class=\"toc-item-num\">1.6&nbsp;&nbsp;</span>One-Hot Encoding</a></span><ul class=\"toc-item\"><li><span><a href=\"#How-to-one-hot-encode\" data-toc-modified-id=\"How-to-one-hot-encode-1.6.1\"><span class=\"toc-item-num\">1.6.1&nbsp;&nbsp;</span>How to one-hot encode</a></span></li><li><span><a href=\"#What-happens-if-there-are-categories-in-the-test-data,-that-are-not-in-the-training-data?\" data-toc-modified-id=\"What-happens-if-there-are-categories-in-the-test-data,-that-are-not-in-the-training-data?-1.6.2\"><span class=\"toc-item-num\">1.6.2&nbsp;&nbsp;</span>What happens if there are categories in the test data, that are not in the training data?</a></span></li><li><span><a href=\"#Cases-where-it's-OK-to-break-the-golden-rule\" data-toc-modified-id=\"Cases-where-it's-OK-to-break-the-golden-rule-1.6.3\"><span class=\"toc-item-num\">1.6.3&nbsp;&nbsp;</span>Cases where it's OK to break the golden rule</a></span></li></ul></li><li><span><a href=\"#Binary-features\" data-toc-modified-id=\"Binary-features-1.7\"><span class=\"toc-item-num\">1.7&nbsp;&nbsp;</span>Binary features</a></span></li><li><span><a href=\"#Do-we-actually-want-to-use-certain-features-for-prediction?\" data-toc-modified-id=\"Do-we-actually-want-to-use-certain-features-for-prediction?-1.8\"><span class=\"toc-item-num\">1.8&nbsp;&nbsp;</span>Do we actually want to use certain features for prediction?</a></span></li><li><span><a href=\"#Let's-Practice\" data-toc-modified-id=\"Let's-Practice-1.9\"><span class=\"toc-item-num\">1.9&nbsp;&nbsp;</span>Let's Practice</a></span></li><li><span><a href=\"#ColumnTransformer\" data-toc-modified-id=\"ColumnTransformer-1.10\"><span class=\"toc-item-num\">1.10&nbsp;&nbsp;</span>ColumnTransformer</a></span><ul class=\"toc-item\"><li><span><a href=\"#Applying-ColumnTransformer\" data-toc-modified-id=\"Applying-ColumnTransformer-1.10.1\"><span class=\"toc-item-num\">1.10.1&nbsp;&nbsp;</span>Applying ColumnTransformer</a></span><ul class=\"toc-item\"><li><span><a href=\"#Do-we-need-to-preprocess-categorical-values-in-the-target-column?\" data-toc-modified-id=\"Do-we-need-to-preprocess-categorical-values-in-the-target-column?-1.10.1.1\"><span class=\"toc-item-num\">1.10.1.1&nbsp;&nbsp;</span>Do we need to preprocess categorical values in the target column?</a></span></li></ul></li></ul></li><li><span><a href=\"#Make-Syntax\" data-toc-modified-id=\"Make-Syntax-1.11\"><span class=\"toc-item-num\">1.11&nbsp;&nbsp;</span>Make Syntax</a></span><ul class=\"toc-item\"><li><span><a href=\"#make_pipeline\" data-toc-modified-id=\"make_pipeline-1.11.1\"><span class=\"toc-item-num\">1.11.1&nbsp;&nbsp;</span><code>make_pipeline</code></a></span></li></ul></li><li><span><a href=\"#make_column_transformer-syntax\" data-toc-modified-id=\"make_column_transformer-syntax-1.12\"><span class=\"toc-item-num\">1.12&nbsp;&nbsp;</span><em>make_column_transformer</em> syntax</a></span></li><li><span><a href=\"#Let's-Practice\" data-toc-modified-id=\"Let's-Practice-1.13\"><span class=\"toc-item-num\">1.13&nbsp;&nbsp;</span>Let's Practice</a></span></li><li><span><a href=\"#Text-Data\" data-toc-modified-id=\"Text-Data-1.14\"><span class=\"toc-item-num\">1.14&nbsp;&nbsp;</span>Text Data</a></span></li><li><span><a href=\"#Bag-of-words-(BOW)-representation\" data-toc-modified-id=\"Bag-of-words-(BOW)-representation-1.15\"><span class=\"toc-item-num\">1.15&nbsp;&nbsp;</span>Bag of words (BOW) representation</a></span><ul class=\"toc-item\"><li><span><a href=\"#Extracting-BOW-features-using-scikit-learn\" data-toc-modified-id=\"Extracting-BOW-features-using-scikit-learn-1.15.1\"><span class=\"toc-item-num\">1.15.1&nbsp;&nbsp;</span>Extracting BOW features using <em>scikit-learn</em></a></span></li><li><span><a href=\"#Important-hyperparameters-of-CountVectorizer\" data-toc-modified-id=\"Important-hyperparameters-of-CountVectorizer-1.15.2\"><span class=\"toc-item-num\">1.15.2&nbsp;&nbsp;</span>Important hyperparameters of <code>CountVectorizer</code></a></span></li><li><span><a href=\"#Is-this-a-realistic-representation-of-text-data?\" data-toc-modified-id=\"Is-this-a-realistic-representation-of-text-data?-1.15.3\"><span class=\"toc-item-num\">1.15.3&nbsp;&nbsp;</span>Is this a realistic representation of text data?</a></span></li></ul></li><li><span><a href=\"#Let's-Practice\" data-toc-modified-id=\"Let's-Practice-1.16\"><span class=\"toc-item-num\">1.16&nbsp;&nbsp;</span>Let's Practice</a></span><ul class=\"toc-item\"><li><span><a href=\"#Coding-Practice\" data-toc-modified-id=\"Coding-Practice-1.16.1\"><span class=\"toc-item-num\">1.16.1&nbsp;&nbsp;</span>Coding Practice</a></span></li></ul></li></ul></li></ul></div>"
   ]
  },
  {
   "cell_type": "code",
   "execution_count": 90,
   "metadata": {},
   "outputs": [],
   "source": [
    "# Importing our libraries\n",
    "import pandas as pd\n",
    "import altair as alt\n",
    "import numpy as np\n",
    "from sklearn.tree import DecisionTreeClassifier\n",
    "from sklearn.dummy import DummyClassifier, DummyRegressor\n",
    "from sklearn.neighbors import KNeighborsClassifier, KNeighborsRegressor\n",
    "from sklearn.model_selection import cross_validate, train_test_split\n",
    "from sklearn.svm import SVR, SVC\n",
    "\n",
    "import sys\n",
    "sys.path.append('code/')\n",
    "from display_tree import display_tree\n",
    "from plot_classifier import plot_classifier\n",
    "import matplotlib.pyplot as plt\n",
    "\n",
    "# Preprocessing and pipeline\n",
    "from sklearn.impute import SimpleImputer\n",
    "from sklearn.metrics.pairwise import euclidean_distances\n",
    "from sklearn.pipeline import Pipeline\n",
    "from sklearn.preprocessing import OneHotEncoder, OrdinalEncoder, StandardScaler, MinMaxScaler"
   ]
  },
  {
   "cell_type": "markdown",
   "metadata": {},
   "source": [
    "## House Keeping \n",
    "- Quiz on Wednesday \n",
    "- Grading issues contact these TA:\n",
    "    - Question 1 and 2: Andy\n",
    "    - Question 3: Daniel\n",
    "    - Question 4: Ali\n",
    "- Polls! "
   ]
  },
  {
   "cell_type": "markdown",
   "metadata": {},
   "source": [
    "## Lecture Learning Objectives \n",
    "\n",
    "- Explain `handle_unknown=\"ignore\"` hyperparameter of `scikit-learn`'s `OneHotEncoder`.\n",
    "- Identify when it's appropriate to apply ordinal encoding vs one-hot encoding.\n",
    "- Explain strategies to deal with categorical variables with too many categories.\n",
    "- Explain why text data needs a different treatment than categorical variables.\n",
    "- Use the scikit-learn `ColumnTransformer` function to implement preprocessing functions such as `MinMaxScaler` and `OneHotEncoder` to numeric and categorical features simultaneously.\n",
    "- Use `ColumnTransformer` to build all our transformations together into one object and use it with `scikit-learn` pipelines.\n",
    "- Use `scikit-learn`'s `CountVectorizer` to encode text data.\n",
    "- Explain different hyperparameters of `CountVectorizer`."
   ]
  },
  {
   "cell_type": "markdown",
   "metadata": {},
   "source": [
    "## Five Minute Recap/ Lightning Questions \n",
    "\n",
    "- Where does most of the work happen in $k$-nn - `fit` or `predict`?\n",
    "- What are the 2 hyperparameters we looked at with Support Vector Machines with RBF kernel? \n",
    "- What is the range of values after Normalization? \n",
    "- Imputation will help data with missing values by removing which of the following the column or the row?\n",
    "- Pipelines help us not violate what?"
   ]
  },
  {
   "cell_type": "markdown",
   "metadata": {},
   "source": [
    "### Some lingering questions\n",
    "\n",
    "- What about categorical features??!  How do we use them in our model!?\n",
    "- How do we combine everything?!\n",
    "- What about data with text? "
   ]
  },
  {
   "cell_type": "markdown",
   "metadata": {},
   "source": [
    "## Introducing Categorical Feature Preprocessing"
   ]
  },
  {
   "cell_type": "markdown",
   "metadata": {},
   "source": [
    "Let's bring back our California housing dataset that we explored last class. \n",
    "Remember we engineered some of the features in the data."
   ]
  },
  {
   "cell_type": "code",
   "execution_count": 2,
   "metadata": {},
   "outputs": [
    {
     "data": {
      "text/html": [
       "<div>\n",
       "<style scoped>\n",
       "    .dataframe tbody tr th:only-of-type {\n",
       "        vertical-align: middle;\n",
       "    }\n",
       "\n",
       "    .dataframe tbody tr th {\n",
       "        vertical-align: top;\n",
       "    }\n",
       "\n",
       "    .dataframe thead th {\n",
       "        text-align: right;\n",
       "    }\n",
       "</style>\n",
       "<table border=\"1\" class=\"dataframe\">\n",
       "  <thead>\n",
       "    <tr style=\"text-align: right;\">\n",
       "      <th></th>\n",
       "      <th>longitude</th>\n",
       "      <th>latitude</th>\n",
       "      <th>housing_median_age</th>\n",
       "      <th>households</th>\n",
       "      <th>median_income</th>\n",
       "      <th>median_house_value</th>\n",
       "      <th>ocean_proximity</th>\n",
       "      <th>rooms_per_household</th>\n",
       "      <th>bedrooms_per_household</th>\n",
       "      <th>population_per_household</th>\n",
       "    </tr>\n",
       "  </thead>\n",
       "  <tbody>\n",
       "    <tr>\n",
       "      <th>6051</th>\n",
       "      <td>-117.75</td>\n",
       "      <td>34.04</td>\n",
       "      <td>22.0</td>\n",
       "      <td>602.0</td>\n",
       "      <td>3.1250</td>\n",
       "      <td>113600.0</td>\n",
       "      <td>INLAND</td>\n",
       "      <td>4.897010</td>\n",
       "      <td>1.056478</td>\n",
       "      <td>4.318937</td>\n",
       "    </tr>\n",
       "    <tr>\n",
       "      <th>20113</th>\n",
       "      <td>-119.57</td>\n",
       "      <td>37.94</td>\n",
       "      <td>17.0</td>\n",
       "      <td>20.0</td>\n",
       "      <td>3.4861</td>\n",
       "      <td>137500.0</td>\n",
       "      <td>INLAND</td>\n",
       "      <td>17.300000</td>\n",
       "      <td>6.500000</td>\n",
       "      <td>2.550000</td>\n",
       "    </tr>\n",
       "    <tr>\n",
       "      <th>14289</th>\n",
       "      <td>-117.13</td>\n",
       "      <td>32.74</td>\n",
       "      <td>46.0</td>\n",
       "      <td>708.0</td>\n",
       "      <td>2.6604</td>\n",
       "      <td>170100.0</td>\n",
       "      <td>NEAR OCEAN</td>\n",
       "      <td>4.738701</td>\n",
       "      <td>1.084746</td>\n",
       "      <td>2.057910</td>\n",
       "    </tr>\n",
       "    <tr>\n",
       "      <th>13665</th>\n",
       "      <td>-117.31</td>\n",
       "      <td>34.02</td>\n",
       "      <td>18.0</td>\n",
       "      <td>285.0</td>\n",
       "      <td>5.2139</td>\n",
       "      <td>129300.0</td>\n",
       "      <td>INLAND</td>\n",
       "      <td>5.733333</td>\n",
       "      <td>0.961404</td>\n",
       "      <td>3.154386</td>\n",
       "    </tr>\n",
       "    <tr>\n",
       "      <th>14471</th>\n",
       "      <td>-117.23</td>\n",
       "      <td>32.88</td>\n",
       "      <td>18.0</td>\n",
       "      <td>1458.0</td>\n",
       "      <td>1.8580</td>\n",
       "      <td>205000.0</td>\n",
       "      <td>NEAR OCEAN</td>\n",
       "      <td>3.817558</td>\n",
       "      <td>1.004801</td>\n",
       "      <td>4.323045</td>\n",
       "    </tr>\n",
       "  </tbody>\n",
       "</table>\n",
       "</div>"
      ],
      "text/plain": [
       "       longitude  latitude  housing_median_age  households  median_income  \\\n",
       "6051     -117.75     34.04                22.0       602.0         3.1250   \n",
       "20113    -119.57     37.94                17.0        20.0         3.4861   \n",
       "14289    -117.13     32.74                46.0       708.0         2.6604   \n",
       "13665    -117.31     34.02                18.0       285.0         5.2139   \n",
       "14471    -117.23     32.88                18.0      1458.0         1.8580   \n",
       "\n",
       "       median_house_value ocean_proximity  rooms_per_household  \\\n",
       "6051             113600.0          INLAND             4.897010   \n",
       "20113            137500.0          INLAND            17.300000   \n",
       "14289            170100.0      NEAR OCEAN             4.738701   \n",
       "13665            129300.0          INLAND             5.733333   \n",
       "14471            205000.0      NEAR OCEAN             3.817558   \n",
       "\n",
       "       bedrooms_per_household  population_per_household  \n",
       "6051                 1.056478                  4.318937  \n",
       "20113                6.500000                  2.550000  \n",
       "14289                1.084746                  2.057910  \n",
       "13665                0.961404                  3.154386  \n",
       "14471                1.004801                  4.323045  "
      ]
     },
     "execution_count": 2,
     "metadata": {},
     "output_type": "execute_result"
    }
   ],
   "source": [
    "housing_df = pd.read_csv(\"data/housing.csv\")\n",
    "train_df, test_df = train_test_split(housing_df, test_size=0.1, random_state=123)\n",
    "\n",
    "train_df = train_df.assign(rooms_per_household = train_df[\"total_rooms\"]/train_df[\"households\"],\n",
    "                           bedrooms_per_household = train_df[\"total_bedrooms\"]/train_df[\"households\"],\n",
    "                           population_per_household = train_df[\"population\"]/train_df[\"households\"])\n",
    "\n",
    "test_df = test_df.assign(rooms_per_household = test_df[\"total_rooms\"]/test_df[\"households\"],\n",
    "                         bedrooms_per_household = test_df[\"total_bedrooms\"]/test_df[\"households\"],\n",
    "                         population_per_household = test_df[\"population\"]/test_df[\"households\"])\n",
    "\n",
    "train_df = train_df.drop(columns=['total_rooms', 'total_bedrooms', 'population'])  \n",
    "test_df = test_df.drop(columns=['total_rooms', 'total_bedrooms', 'population']) \n",
    "\n",
    "train_df.head()\n"
   ]
  },
  {
   "cell_type": "markdown",
   "metadata": {},
   "source": [
    "Last class, we dropped the categorical feature `ocean_proximity` feature.\n",
    "\n",
    "But it may help with our prediction! We've talked about how dropping columns is not always the best idea especially since we could be dropping potentially useful features.\n",
    "\n",
    "Let's create our `X_train` and `X_test` again but this time keeping the `ocean_proximity` feature in the data."
   ]
  },
  {
   "cell_type": "code",
   "execution_count": 3,
   "metadata": {},
   "outputs": [],
   "source": [
    "X_train = train_df.drop(columns=[\"median_house_value\"])\n",
    "y_train = train_df[\"median_house_value\"]\n",
    "\n",
    "X_test = test_df.drop(columns=[\"median_house_value\"])\n",
    "y_test = test_df[\"median_house_value\"]"
   ]
  },
  {
   "cell_type": "markdown",
   "metadata": {},
   "source": [
    "Can we make a pipeline and fit it with our `X_train` that has this column now? "
   ]
  },
  {
   "cell_type": "code",
   "execution_count": 4,
   "metadata": {},
   "outputs": [],
   "source": [
    "pipe = Pipeline(\n",
    "    steps=[\n",
    "        (\"imputer\", SimpleImputer(strategy=\"median\")),\n",
    "        (\"scaler\", StandardScaler()),\n",
    "        (\"reg\", KNeighborsRegressor()),\n",
    "    ]\n",
    ")"
   ]
  },
  {
   "cell_type": "code",
   "execution_count": 5,
   "metadata": {},
   "outputs": [
    {
     "ename": "ValueError",
     "evalue": "Cannot use median strategy with non-numeric data:\ncould not convert string to float: 'INLAND'",
     "output_type": "error",
     "traceback": [
      "\u001b[0;31m---------------------------------------------------------------------------\u001b[0m",
      "\u001b[0;31mValueError\u001b[0m                                Traceback (most recent call last)",
      "\u001b[0;32m<ipython-input-5-62f05099a2d9>\u001b[0m in \u001b[0;36m<module>\u001b[0;34m\u001b[0m\n\u001b[0;32m----> 1\u001b[0;31m \u001b[0mpipe\u001b[0m\u001b[0;34m.\u001b[0m\u001b[0mfit\u001b[0m\u001b[0;34m(\u001b[0m\u001b[0mX_train\u001b[0m\u001b[0;34m,\u001b[0m \u001b[0my_train\u001b[0m\u001b[0;34m)\u001b[0m\u001b[0;34m\u001b[0m\u001b[0;34m\u001b[0m\u001b[0m\n\u001b[0m",
      "\u001b[0;32m/usr/local/lib/python3.8/site-packages/sklearn/pipeline.py\u001b[0m in \u001b[0;36mfit\u001b[0;34m(self, X, y, **fit_params)\u001b[0m\n\u001b[1;32m    328\u001b[0m         \"\"\"\n\u001b[1;32m    329\u001b[0m         \u001b[0mfit_params_steps\u001b[0m \u001b[0;34m=\u001b[0m \u001b[0mself\u001b[0m\u001b[0;34m.\u001b[0m\u001b[0m_check_fit_params\u001b[0m\u001b[0;34m(\u001b[0m\u001b[0;34m**\u001b[0m\u001b[0mfit_params\u001b[0m\u001b[0;34m)\u001b[0m\u001b[0;34m\u001b[0m\u001b[0;34m\u001b[0m\u001b[0m\n\u001b[0;32m--> 330\u001b[0;31m         \u001b[0mXt\u001b[0m \u001b[0;34m=\u001b[0m \u001b[0mself\u001b[0m\u001b[0;34m.\u001b[0m\u001b[0m_fit\u001b[0m\u001b[0;34m(\u001b[0m\u001b[0mX\u001b[0m\u001b[0;34m,\u001b[0m \u001b[0my\u001b[0m\u001b[0;34m,\u001b[0m \u001b[0;34m**\u001b[0m\u001b[0mfit_params_steps\u001b[0m\u001b[0;34m)\u001b[0m\u001b[0;34m\u001b[0m\u001b[0;34m\u001b[0m\u001b[0m\n\u001b[0m\u001b[1;32m    331\u001b[0m         with _print_elapsed_time('Pipeline',\n\u001b[1;32m    332\u001b[0m                                  self._log_message(len(self.steps) - 1)):\n",
      "\u001b[0;32m/usr/local/lib/python3.8/site-packages/sklearn/pipeline.py\u001b[0m in \u001b[0;36m_fit\u001b[0;34m(self, X, y, **fit_params_steps)\u001b[0m\n\u001b[1;32m    290\u001b[0m                 \u001b[0mcloned_transformer\u001b[0m \u001b[0;34m=\u001b[0m \u001b[0mclone\u001b[0m\u001b[0;34m(\u001b[0m\u001b[0mtransformer\u001b[0m\u001b[0;34m)\u001b[0m\u001b[0;34m\u001b[0m\u001b[0;34m\u001b[0m\u001b[0m\n\u001b[1;32m    291\u001b[0m             \u001b[0;31m# Fit or load from cache the current transformer\u001b[0m\u001b[0;34m\u001b[0m\u001b[0;34m\u001b[0m\u001b[0;34m\u001b[0m\u001b[0m\n\u001b[0;32m--> 292\u001b[0;31m             X, fitted_transformer = fit_transform_one_cached(\n\u001b[0m\u001b[1;32m    293\u001b[0m                 \u001b[0mcloned_transformer\u001b[0m\u001b[0;34m,\u001b[0m \u001b[0mX\u001b[0m\u001b[0;34m,\u001b[0m \u001b[0my\u001b[0m\u001b[0;34m,\u001b[0m \u001b[0;32mNone\u001b[0m\u001b[0;34m,\u001b[0m\u001b[0;34m\u001b[0m\u001b[0;34m\u001b[0m\u001b[0m\n\u001b[1;32m    294\u001b[0m                 \u001b[0mmessage_clsname\u001b[0m\u001b[0;34m=\u001b[0m\u001b[0;34m'Pipeline'\u001b[0m\u001b[0;34m,\u001b[0m\u001b[0;34m\u001b[0m\u001b[0;34m\u001b[0m\u001b[0m\n",
      "\u001b[0;32m/usr/local/lib/python3.8/site-packages/joblib/memory.py\u001b[0m in \u001b[0;36m__call__\u001b[0;34m(self, *args, **kwargs)\u001b[0m\n\u001b[1;32m    350\u001b[0m \u001b[0;34m\u001b[0m\u001b[0m\n\u001b[1;32m    351\u001b[0m     \u001b[0;32mdef\u001b[0m \u001b[0m__call__\u001b[0m\u001b[0;34m(\u001b[0m\u001b[0mself\u001b[0m\u001b[0;34m,\u001b[0m \u001b[0;34m*\u001b[0m\u001b[0margs\u001b[0m\u001b[0;34m,\u001b[0m \u001b[0;34m**\u001b[0m\u001b[0mkwargs\u001b[0m\u001b[0;34m)\u001b[0m\u001b[0;34m:\u001b[0m\u001b[0;34m\u001b[0m\u001b[0;34m\u001b[0m\u001b[0m\n\u001b[0;32m--> 352\u001b[0;31m         \u001b[0;32mreturn\u001b[0m \u001b[0mself\u001b[0m\u001b[0;34m.\u001b[0m\u001b[0mfunc\u001b[0m\u001b[0;34m(\u001b[0m\u001b[0;34m*\u001b[0m\u001b[0margs\u001b[0m\u001b[0;34m,\u001b[0m \u001b[0;34m**\u001b[0m\u001b[0mkwargs\u001b[0m\u001b[0;34m)\u001b[0m\u001b[0;34m\u001b[0m\u001b[0;34m\u001b[0m\u001b[0m\n\u001b[0m\u001b[1;32m    353\u001b[0m \u001b[0;34m\u001b[0m\u001b[0m\n\u001b[1;32m    354\u001b[0m     \u001b[0;32mdef\u001b[0m \u001b[0mcall_and_shelve\u001b[0m\u001b[0;34m(\u001b[0m\u001b[0mself\u001b[0m\u001b[0;34m,\u001b[0m \u001b[0;34m*\u001b[0m\u001b[0margs\u001b[0m\u001b[0;34m,\u001b[0m \u001b[0;34m**\u001b[0m\u001b[0mkwargs\u001b[0m\u001b[0;34m)\u001b[0m\u001b[0;34m:\u001b[0m\u001b[0;34m\u001b[0m\u001b[0;34m\u001b[0m\u001b[0m\n",
      "\u001b[0;32m/usr/local/lib/python3.8/site-packages/sklearn/pipeline.py\u001b[0m in \u001b[0;36m_fit_transform_one\u001b[0;34m(transformer, X, y, weight, message_clsname, message, **fit_params)\u001b[0m\n\u001b[1;32m    738\u001b[0m     \u001b[0;32mwith\u001b[0m \u001b[0m_print_elapsed_time\u001b[0m\u001b[0;34m(\u001b[0m\u001b[0mmessage_clsname\u001b[0m\u001b[0;34m,\u001b[0m \u001b[0mmessage\u001b[0m\u001b[0;34m)\u001b[0m\u001b[0;34m:\u001b[0m\u001b[0;34m\u001b[0m\u001b[0;34m\u001b[0m\u001b[0m\n\u001b[1;32m    739\u001b[0m         \u001b[0;32mif\u001b[0m \u001b[0mhasattr\u001b[0m\u001b[0;34m(\u001b[0m\u001b[0mtransformer\u001b[0m\u001b[0;34m,\u001b[0m \u001b[0;34m'fit_transform'\u001b[0m\u001b[0;34m)\u001b[0m\u001b[0;34m:\u001b[0m\u001b[0;34m\u001b[0m\u001b[0;34m\u001b[0m\u001b[0m\n\u001b[0;32m--> 740\u001b[0;31m             \u001b[0mres\u001b[0m \u001b[0;34m=\u001b[0m \u001b[0mtransformer\u001b[0m\u001b[0;34m.\u001b[0m\u001b[0mfit_transform\u001b[0m\u001b[0;34m(\u001b[0m\u001b[0mX\u001b[0m\u001b[0;34m,\u001b[0m \u001b[0my\u001b[0m\u001b[0;34m,\u001b[0m \u001b[0;34m**\u001b[0m\u001b[0mfit_params\u001b[0m\u001b[0;34m)\u001b[0m\u001b[0;34m\u001b[0m\u001b[0;34m\u001b[0m\u001b[0m\n\u001b[0m\u001b[1;32m    741\u001b[0m         \u001b[0;32melse\u001b[0m\u001b[0;34m:\u001b[0m\u001b[0;34m\u001b[0m\u001b[0;34m\u001b[0m\u001b[0m\n\u001b[1;32m    742\u001b[0m             \u001b[0mres\u001b[0m \u001b[0;34m=\u001b[0m \u001b[0mtransformer\u001b[0m\u001b[0;34m.\u001b[0m\u001b[0mfit\u001b[0m\u001b[0;34m(\u001b[0m\u001b[0mX\u001b[0m\u001b[0;34m,\u001b[0m \u001b[0my\u001b[0m\u001b[0;34m,\u001b[0m \u001b[0;34m**\u001b[0m\u001b[0mfit_params\u001b[0m\u001b[0;34m)\u001b[0m\u001b[0;34m.\u001b[0m\u001b[0mtransform\u001b[0m\u001b[0;34m(\u001b[0m\u001b[0mX\u001b[0m\u001b[0;34m)\u001b[0m\u001b[0;34m\u001b[0m\u001b[0;34m\u001b[0m\u001b[0m\n",
      "\u001b[0;32m/usr/local/lib/python3.8/site-packages/sklearn/base.py\u001b[0m in \u001b[0;36mfit_transform\u001b[0;34m(self, X, y, **fit_params)\u001b[0m\n\u001b[1;32m    691\u001b[0m         \u001b[0;32melse\u001b[0m\u001b[0;34m:\u001b[0m\u001b[0;34m\u001b[0m\u001b[0;34m\u001b[0m\u001b[0m\n\u001b[1;32m    692\u001b[0m             \u001b[0;31m# fit method of arity 2 (supervised transformation)\u001b[0m\u001b[0;34m\u001b[0m\u001b[0;34m\u001b[0m\u001b[0;34m\u001b[0m\u001b[0m\n\u001b[0;32m--> 693\u001b[0;31m             \u001b[0;32mreturn\u001b[0m \u001b[0mself\u001b[0m\u001b[0;34m.\u001b[0m\u001b[0mfit\u001b[0m\u001b[0;34m(\u001b[0m\u001b[0mX\u001b[0m\u001b[0;34m,\u001b[0m \u001b[0my\u001b[0m\u001b[0;34m,\u001b[0m \u001b[0;34m**\u001b[0m\u001b[0mfit_params\u001b[0m\u001b[0;34m)\u001b[0m\u001b[0;34m.\u001b[0m\u001b[0mtransform\u001b[0m\u001b[0;34m(\u001b[0m\u001b[0mX\u001b[0m\u001b[0;34m)\u001b[0m\u001b[0;34m\u001b[0m\u001b[0;34m\u001b[0m\u001b[0m\n\u001b[0m\u001b[1;32m    694\u001b[0m \u001b[0;34m\u001b[0m\u001b[0m\n\u001b[1;32m    695\u001b[0m \u001b[0;34m\u001b[0m\u001b[0m\n",
      "\u001b[0;32m/usr/local/lib/python3.8/site-packages/sklearn/impute/_base.py\u001b[0m in \u001b[0;36mfit\u001b[0;34m(self, X, y)\u001b[0m\n\u001b[1;32m    275\u001b[0m         \u001b[0mself\u001b[0m \u001b[0;34m:\u001b[0m \u001b[0mSimpleImputer\u001b[0m\u001b[0;34m\u001b[0m\u001b[0;34m\u001b[0m\u001b[0m\n\u001b[1;32m    276\u001b[0m         \"\"\"\n\u001b[0;32m--> 277\u001b[0;31m         \u001b[0mX\u001b[0m \u001b[0;34m=\u001b[0m \u001b[0mself\u001b[0m\u001b[0;34m.\u001b[0m\u001b[0m_validate_input\u001b[0m\u001b[0;34m(\u001b[0m\u001b[0mX\u001b[0m\u001b[0;34m,\u001b[0m \u001b[0min_fit\u001b[0m\u001b[0;34m=\u001b[0m\u001b[0;32mTrue\u001b[0m\u001b[0;34m)\u001b[0m\u001b[0;34m\u001b[0m\u001b[0;34m\u001b[0m\u001b[0m\n\u001b[0m\u001b[1;32m    278\u001b[0m         \u001b[0msuper\u001b[0m\u001b[0;34m(\u001b[0m\u001b[0;34m)\u001b[0m\u001b[0;34m.\u001b[0m\u001b[0m_fit_indicator\u001b[0m\u001b[0;34m(\u001b[0m\u001b[0mX\u001b[0m\u001b[0;34m)\u001b[0m\u001b[0;34m\u001b[0m\u001b[0;34m\u001b[0m\u001b[0m\n\u001b[1;32m    279\u001b[0m \u001b[0;34m\u001b[0m\u001b[0m\n",
      "\u001b[0;32m/usr/local/lib/python3.8/site-packages/sklearn/impute/_base.py\u001b[0m in \u001b[0;36m_validate_input\u001b[0;34m(self, X, in_fit)\u001b[0m\n\u001b[1;32m    247\u001b[0m                 new_ve = ValueError(\"Cannot use {} strategy with non-numeric \"\n\u001b[1;32m    248\u001b[0m                                     \"data:\\n{}\".format(self.strategy, ve))\n\u001b[0;32m--> 249\u001b[0;31m                 \u001b[0;32mraise\u001b[0m \u001b[0mnew_ve\u001b[0m \u001b[0;32mfrom\u001b[0m \u001b[0;32mNone\u001b[0m\u001b[0;34m\u001b[0m\u001b[0;34m\u001b[0m\u001b[0m\n\u001b[0m\u001b[1;32m    250\u001b[0m             \u001b[0;32melse\u001b[0m\u001b[0;34m:\u001b[0m\u001b[0;34m\u001b[0m\u001b[0;34m\u001b[0m\u001b[0m\n\u001b[1;32m    251\u001b[0m                 \u001b[0;32mraise\u001b[0m \u001b[0mve\u001b[0m\u001b[0;34m\u001b[0m\u001b[0;34m\u001b[0m\u001b[0m\n",
      "\u001b[0;31mValueError\u001b[0m: Cannot use median strategy with non-numeric data:\ncould not convert string to float: 'INLAND'"
     ]
    }
   ],
   "source": [
    "pipe.fit(X_train, y_train)"
   ]
  },
  {
   "attachments": {
    "fd358ef4-f31e-4964-b879-6f6a18197c56.png": {
     "image/png": "[encoded data removed]"
    }
   },
   "cell_type": "markdown",
   "metadata": {},
   "source": [
    "Well, that was rude. \n",
    "\n",
    "![127c8ad09b02e63d6d971832070d6e2d-sticker.png](attachment:fd358ef4-f31e-4964-b879-6f6a18197c56.png)\n",
    "\n",
    "\n",
    "It does not like the categorical column. \n",
    "\n",
    "`scikit-learn` only accepts numeric data as an input and it's not sure how to handle the `ocean_proximity` feature. \n",
    "\n",
    "\n",
    "**What now?**\n",
    "\n",
    "We can:\n",
    "- Drop the column (not recommended)\n",
    "- We can transform categorical features into numeric ones so that we can use them in the model. \n",
    "- There are two transformations we can do this with:\n",
    "    - <a href=\"https://scikit-learn.org/stable/modules/generated/sklearn.preprocessing.OrdinalEncoder.html\" target=\"_blank\">Ordinal encoding</a>\n",
    "    - <a href=\"https://scikit-learn.org/stable/modules/generated/sklearn.preprocessing.OneHotEncoder.html\" target=\"_blank\">One-hot encoding</a> (recommended in most cases)"
   ]
  },
  {
   "cell_type": "markdown",
   "metadata": {},
   "source": [
    "## Ordinal encoding\n",
    "\n",
    "Ordinal encoding gives an ordinal numeric value to each unique value in the column. \n",
    "\n",
    "Let's take a look at a dummy dataframe to explain how to use ordinal encoding. \n",
    "\n",
    "Here we have a categorical column specifying different movie ratings."
   ]
  },
  {
   "cell_type": "code",
   "execution_count": 6,
   "metadata": {},
   "outputs": [
    {
     "data": {
      "text/html": [
       "<div>\n",
       "<style scoped>\n",
       "    .dataframe tbody tr th:only-of-type {\n",
       "        vertical-align: middle;\n",
       "    }\n",
       "\n",
       "    .dataframe tbody tr th {\n",
       "        vertical-align: top;\n",
       "    }\n",
       "\n",
       "    .dataframe thead th {\n",
       "        text-align: right;\n",
       "    }\n",
       "</style>\n",
       "<table border=\"1\" class=\"dataframe\">\n",
       "  <thead>\n",
       "    <tr style=\"text-align: right;\">\n",
       "      <th></th>\n",
       "      <th>rating</th>\n",
       "    </tr>\n",
       "  </thead>\n",
       "  <tbody>\n",
       "    <tr>\n",
       "      <th>0</th>\n",
       "      <td>Good</td>\n",
       "    </tr>\n",
       "    <tr>\n",
       "      <th>1</th>\n",
       "      <td>Bad</td>\n",
       "    </tr>\n",
       "    <tr>\n",
       "      <th>2</th>\n",
       "      <td>Good</td>\n",
       "    </tr>\n",
       "    <tr>\n",
       "      <th>3</th>\n",
       "      <td>Good</td>\n",
       "    </tr>\n",
       "    <tr>\n",
       "      <th>4</th>\n",
       "      <td>Bad</td>\n",
       "    </tr>\n",
       "    <tr>\n",
       "      <th>5</th>\n",
       "      <td>Neutral</td>\n",
       "    </tr>\n",
       "    <tr>\n",
       "      <th>6</th>\n",
       "      <td>Good</td>\n",
       "    </tr>\n",
       "    <tr>\n",
       "      <th>7</th>\n",
       "      <td>Good</td>\n",
       "    </tr>\n",
       "    <tr>\n",
       "      <th>8</th>\n",
       "      <td>Neutral</td>\n",
       "    </tr>\n",
       "    <tr>\n",
       "      <th>9</th>\n",
       "      <td>Neutral</td>\n",
       "    </tr>\n",
       "    <tr>\n",
       "      <th>10</th>\n",
       "      <td>Neutral</td>\n",
       "    </tr>\n",
       "    <tr>\n",
       "      <th>11</th>\n",
       "      <td>Good</td>\n",
       "    </tr>\n",
       "    <tr>\n",
       "      <th>12</th>\n",
       "      <td>Bad</td>\n",
       "    </tr>\n",
       "    <tr>\n",
       "      <th>13</th>\n",
       "      <td>Good</td>\n",
       "    </tr>\n",
       "  </tbody>\n",
       "</table>\n",
       "</div>"
      ],
      "text/plain": [
       "     rating\n",
       "0      Good\n",
       "1       Bad\n",
       "2      Good\n",
       "3      Good\n",
       "4       Bad\n",
       "5   Neutral\n",
       "6      Good\n",
       "7      Good\n",
       "8   Neutral\n",
       "9   Neutral\n",
       "10  Neutral\n",
       "11     Good\n",
       "12      Bad\n",
       "13     Good"
      ]
     },
     "execution_count": 6,
     "metadata": {},
     "output_type": "execute_result"
    }
   ],
   "source": [
    "X_toy = pd.DataFrame({'rating':['Good', 'Bad', 'Good', 'Good', \n",
    "                                  'Bad', 'Neutral', 'Good', 'Good', \n",
    "                                  'Neutral', 'Neutral', 'Neutral','Good', \n",
    "                                  'Bad', 'Good']})\n",
    "X_toy"
   ]
  },
  {
   "cell_type": "code",
   "execution_count": 7,
   "metadata": {},
   "outputs": [
    {
     "data": {
      "text/html": [
       "<div>\n",
       "<style scoped>\n",
       "    .dataframe tbody tr th:only-of-type {\n",
       "        vertical-align: middle;\n",
       "    }\n",
       "\n",
       "    .dataframe tbody tr th {\n",
       "        vertical-align: top;\n",
       "    }\n",
       "\n",
       "    .dataframe thead th {\n",
       "        text-align: right;\n",
       "    }\n",
       "</style>\n",
       "<table border=\"1\" class=\"dataframe\">\n",
       "  <thead>\n",
       "    <tr style=\"text-align: right;\">\n",
       "      <th></th>\n",
       "      <th>Good</th>\n",
       "      <th>Neutral</th>\n",
       "      <th>Bad</th>\n",
       "    </tr>\n",
       "  </thead>\n",
       "  <tbody>\n",
       "    <tr>\n",
       "      <th>frequency</th>\n",
       "      <td>7</td>\n",
       "      <td>4</td>\n",
       "      <td>3</td>\n",
       "    </tr>\n",
       "  </tbody>\n",
       "</table>\n",
       "</div>"
      ],
      "text/plain": [
       "           Good  Neutral  Bad\n",
       "frequency     7        4    3"
      ]
     },
     "execution_count": 7,
     "metadata": {},
     "output_type": "execute_result"
    }
   ],
   "source": [
    "pd.DataFrame(X_toy['rating'].value_counts()).rename(columns={'rating': 'frequency'}).T"
   ]
  },
  {
   "cell_type": "markdown",
   "metadata": {},
   "source": [
    "Here we can simply assign an integer to each of our unique categorical labels.\n",
    "\n",
    "We can use sklearn's [`OrdinalEncoder`](https://scikit-learn.org/stable/modules/generated/sklearn.preprocessing.OrdinalEncoder.html) transformer. "
   ]
  },
  {
   "cell_type": "code",
   "execution_count": 8,
   "metadata": {},
   "outputs": [],
   "source": [
    "from sklearn.preprocessing import OrdinalEncoder"
   ]
  },
  {
   "cell_type": "code",
   "execution_count": 9,
   "metadata": {},
   "outputs": [
    {
     "data": {
      "text/plain": [
       "array([[1],\n",
       "       [0],\n",
       "       [1],\n",
       "       [1],\n",
       "       [0],\n",
       "       [2],\n",
       "       [1],\n",
       "       [1],\n",
       "       [2],\n",
       "       [2],\n",
       "       [2],\n",
       "       [1],\n",
       "       [0],\n",
       "       [1]])"
      ]
     },
     "execution_count": 9,
     "metadata": {},
     "output_type": "execute_result"
    }
   ],
   "source": [
    "oe = OrdinalEncoder(dtype=int)\n",
    "oe.fit(X_toy)\n",
    "X_toy_ord = oe.transform(X_toy)\n",
    "\n",
    "X_toy_ord"
   ]
  },
  {
   "cell_type": "markdown",
   "metadata": {},
   "source": [
    "Since `sklearn`'s transformed output is an array, we can add it next to our original column to see what happened. "
   ]
  },
  {
   "cell_type": "code",
   "execution_count": 10,
   "metadata": {},
   "outputs": [
    {
     "data": {
      "text/html": [
       "<div>\n",
       "<style scoped>\n",
       "    .dataframe tbody tr th:only-of-type {\n",
       "        vertical-align: middle;\n",
       "    }\n",
       "\n",
       "    .dataframe tbody tr th {\n",
       "        vertical-align: top;\n",
       "    }\n",
       "\n",
       "    .dataframe thead th {\n",
       "        text-align: right;\n",
       "    }\n",
       "</style>\n",
       "<table border=\"1\" class=\"dataframe\">\n",
       "  <thead>\n",
       "    <tr style=\"text-align: right;\">\n",
       "      <th></th>\n",
       "      <th>rating</th>\n",
       "      <th>rating_enc</th>\n",
       "    </tr>\n",
       "  </thead>\n",
       "  <tbody>\n",
       "    <tr>\n",
       "      <th>0</th>\n",
       "      <td>Good</td>\n",
       "      <td>1</td>\n",
       "    </tr>\n",
       "    <tr>\n",
       "      <th>1</th>\n",
       "      <td>Bad</td>\n",
       "      <td>0</td>\n",
       "    </tr>\n",
       "    <tr>\n",
       "      <th>2</th>\n",
       "      <td>Good</td>\n",
       "      <td>1</td>\n",
       "    </tr>\n",
       "    <tr>\n",
       "      <th>3</th>\n",
       "      <td>Good</td>\n",
       "      <td>1</td>\n",
       "    </tr>\n",
       "    <tr>\n",
       "      <th>4</th>\n",
       "      <td>Bad</td>\n",
       "      <td>0</td>\n",
       "    </tr>\n",
       "    <tr>\n",
       "      <th>5</th>\n",
       "      <td>Neutral</td>\n",
       "      <td>2</td>\n",
       "    </tr>\n",
       "    <tr>\n",
       "      <th>6</th>\n",
       "      <td>Good</td>\n",
       "      <td>1</td>\n",
       "    </tr>\n",
       "    <tr>\n",
       "      <th>7</th>\n",
       "      <td>Good</td>\n",
       "      <td>1</td>\n",
       "    </tr>\n",
       "    <tr>\n",
       "      <th>8</th>\n",
       "      <td>Neutral</td>\n",
       "      <td>2</td>\n",
       "    </tr>\n",
       "    <tr>\n",
       "      <th>9</th>\n",
       "      <td>Neutral</td>\n",
       "      <td>2</td>\n",
       "    </tr>\n",
       "    <tr>\n",
       "      <th>10</th>\n",
       "      <td>Neutral</td>\n",
       "      <td>2</td>\n",
       "    </tr>\n",
       "    <tr>\n",
       "      <th>11</th>\n",
       "      <td>Good</td>\n",
       "      <td>1</td>\n",
       "    </tr>\n",
       "    <tr>\n",
       "      <th>12</th>\n",
       "      <td>Bad</td>\n",
       "      <td>0</td>\n",
       "    </tr>\n",
       "    <tr>\n",
       "      <th>13</th>\n",
       "      <td>Good</td>\n",
       "      <td>1</td>\n",
       "    </tr>\n",
       "  </tbody>\n",
       "</table>\n",
       "</div>"
      ],
      "text/plain": [
       "     rating  rating_enc\n",
       "0      Good           1\n",
       "1       Bad           0\n",
       "2      Good           1\n",
       "3      Good           1\n",
       "4       Bad           0\n",
       "5   Neutral           2\n",
       "6      Good           1\n",
       "7      Good           1\n",
       "8   Neutral           2\n",
       "9   Neutral           2\n",
       "10  Neutral           2\n",
       "11     Good           1\n",
       "12      Bad           0\n",
       "13     Good           1"
      ]
     },
     "execution_count": 10,
     "metadata": {},
     "output_type": "execute_result"
    }
   ],
   "source": [
    "encoding_view = X_toy.assign(rating_enc=X_toy_ord)\n",
    "encoding_view"
   ]
  },
  {
   "cell_type": "markdown",
   "metadata": {},
   "source": [
    "we can see that each rating has been designated an integer value. \n",
    "\n",
    "For example, `Neutral` is represented by an encoded value of 2 and `Good` a value of 1. Shouldn't `Good` have a higher value? \n",
    "\n",
    "We can change that by setting the parameter `categories` within `OrdinalEncoder`"
   ]
  },
  {
   "cell_type": "code",
   "execution_count": 11,
   "metadata": {},
   "outputs": [
    {
     "data": {
      "text/html": [
       "<div>\n",
       "<style scoped>\n",
       "    .dataframe tbody tr th:only-of-type {\n",
       "        vertical-align: middle;\n",
       "    }\n",
       "\n",
       "    .dataframe tbody tr th {\n",
       "        vertical-align: top;\n",
       "    }\n",
       "\n",
       "    .dataframe thead th {\n",
       "        text-align: right;\n",
       "    }\n",
       "</style>\n",
       "<table border=\"1\" class=\"dataframe\">\n",
       "  <thead>\n",
       "    <tr style=\"text-align: right;\">\n",
       "      <th></th>\n",
       "      <th>rating</th>\n",
       "      <th>rating_enc</th>\n",
       "    </tr>\n",
       "  </thead>\n",
       "  <tbody>\n",
       "    <tr>\n",
       "      <th>0</th>\n",
       "      <td>Good</td>\n",
       "      <td>2</td>\n",
       "    </tr>\n",
       "    <tr>\n",
       "      <th>1</th>\n",
       "      <td>Bad</td>\n",
       "      <td>0</td>\n",
       "    </tr>\n",
       "    <tr>\n",
       "      <th>2</th>\n",
       "      <td>Good</td>\n",
       "      <td>2</td>\n",
       "    </tr>\n",
       "    <tr>\n",
       "      <th>3</th>\n",
       "      <td>Good</td>\n",
       "      <td>2</td>\n",
       "    </tr>\n",
       "    <tr>\n",
       "      <th>4</th>\n",
       "      <td>Bad</td>\n",
       "      <td>0</td>\n",
       "    </tr>\n",
       "    <tr>\n",
       "      <th>5</th>\n",
       "      <td>Neutral</td>\n",
       "      <td>1</td>\n",
       "    </tr>\n",
       "    <tr>\n",
       "      <th>6</th>\n",
       "      <td>Good</td>\n",
       "      <td>2</td>\n",
       "    </tr>\n",
       "    <tr>\n",
       "      <th>7</th>\n",
       "      <td>Good</td>\n",
       "      <td>2</td>\n",
       "    </tr>\n",
       "    <tr>\n",
       "      <th>8</th>\n",
       "      <td>Neutral</td>\n",
       "      <td>1</td>\n",
       "    </tr>\n",
       "    <tr>\n",
       "      <th>9</th>\n",
       "      <td>Neutral</td>\n",
       "      <td>1</td>\n",
       "    </tr>\n",
       "    <tr>\n",
       "      <th>10</th>\n",
       "      <td>Neutral</td>\n",
       "      <td>1</td>\n",
       "    </tr>\n",
       "    <tr>\n",
       "      <th>11</th>\n",
       "      <td>Good</td>\n",
       "      <td>2</td>\n",
       "    </tr>\n",
       "    <tr>\n",
       "      <th>12</th>\n",
       "      <td>Bad</td>\n",
       "      <td>0</td>\n",
       "    </tr>\n",
       "    <tr>\n",
       "      <th>13</th>\n",
       "      <td>Good</td>\n",
       "      <td>2</td>\n",
       "    </tr>\n",
       "  </tbody>\n",
       "</table>\n",
       "</div>"
      ],
      "text/plain": [
       "     rating  rating_enc\n",
       "0      Good           2\n",
       "1       Bad           0\n",
       "2      Good           2\n",
       "3      Good           2\n",
       "4       Bad           0\n",
       "5   Neutral           1\n",
       "6      Good           2\n",
       "7      Good           2\n",
       "8   Neutral           1\n",
       "9   Neutral           1\n",
       "10  Neutral           1\n",
       "11     Good           2\n",
       "12      Bad           0\n",
       "13     Good           2"
      ]
     },
     "execution_count": 11,
     "metadata": {},
     "output_type": "execute_result"
    }
   ],
   "source": [
    "ratings_order = ['Bad', 'Neutral', 'Good']\n",
    "\n",
    "oe = OrdinalEncoder(categories = [ratings_order], dtype=int)\n",
    "oe.fit(X_toy)\n",
    "X_toy_ord = oe.transform(X_toy)\n",
    "\n",
    "encoding_view = X_toy.assign(rating_enc=X_toy_ord)\n",
    "encoding_view"
   ]
  },
  {
   "cell_type": "markdown",
   "metadata": {},
   "source": [
    "Now our `Good` rating is given an ordinal value of 2 and the `Bad` rating is encoded as 0. \n",
    "\n",
    "But let's see what happens if we look at a different column now, for example, a categorical column specifying different languages. "
   ]
  },
  {
   "cell_type": "code",
   "execution_count": 12,
   "metadata": {},
   "outputs": [
    {
     "data": {
      "text/html": [
       "<div>\n",
       "<style scoped>\n",
       "    .dataframe tbody tr th:only-of-type {\n",
       "        vertical-align: middle;\n",
       "    }\n",
       "\n",
       "    .dataframe tbody tr th {\n",
       "        vertical-align: top;\n",
       "    }\n",
       "\n",
       "    .dataframe thead th {\n",
       "        text-align: right;\n",
       "    }\n",
       "</style>\n",
       "<table border=\"1\" class=\"dataframe\">\n",
       "  <thead>\n",
       "    <tr style=\"text-align: right;\">\n",
       "      <th></th>\n",
       "      <th>language</th>\n",
       "    </tr>\n",
       "  </thead>\n",
       "  <tbody>\n",
       "    <tr>\n",
       "      <th>0</th>\n",
       "      <td>English</td>\n",
       "    </tr>\n",
       "    <tr>\n",
       "      <th>1</th>\n",
       "      <td>Vietnamese</td>\n",
       "    </tr>\n",
       "    <tr>\n",
       "      <th>2</th>\n",
       "      <td>English</td>\n",
       "    </tr>\n",
       "    <tr>\n",
       "      <th>3</th>\n",
       "      <td>Mandarin</td>\n",
       "    </tr>\n",
       "    <tr>\n",
       "      <th>4</th>\n",
       "      <td>English</td>\n",
       "    </tr>\n",
       "    <tr>\n",
       "      <th>5</th>\n",
       "      <td>English</td>\n",
       "    </tr>\n",
       "    <tr>\n",
       "      <th>6</th>\n",
       "      <td>Mandarin</td>\n",
       "    </tr>\n",
       "    <tr>\n",
       "      <th>7</th>\n",
       "      <td>English</td>\n",
       "    </tr>\n",
       "    <tr>\n",
       "      <th>8</th>\n",
       "      <td>Vietnamese</td>\n",
       "    </tr>\n",
       "    <tr>\n",
       "      <th>9</th>\n",
       "      <td>Mandarin</td>\n",
       "    </tr>\n",
       "    <tr>\n",
       "      <th>10</th>\n",
       "      <td>French</td>\n",
       "    </tr>\n",
       "    <tr>\n",
       "      <th>11</th>\n",
       "      <td>Spanish</td>\n",
       "    </tr>\n",
       "    <tr>\n",
       "      <th>12</th>\n",
       "      <td>Mandarin</td>\n",
       "    </tr>\n",
       "    <tr>\n",
       "      <th>13</th>\n",
       "      <td>Hindi</td>\n",
       "    </tr>\n",
       "  </tbody>\n",
       "</table>\n",
       "</div>"
      ],
      "text/plain": [
       "      language\n",
       "0      English\n",
       "1   Vietnamese\n",
       "2      English\n",
       "3     Mandarin\n",
       "4      English\n",
       "5      English\n",
       "6     Mandarin\n",
       "7      English\n",
       "8   Vietnamese\n",
       "9     Mandarin\n",
       "10      French\n",
       "11     Spanish\n",
       "12    Mandarin\n",
       "13       Hindi"
      ]
     },
     "execution_count": 12,
     "metadata": {},
     "output_type": "execute_result"
    }
   ],
   "source": [
    "X_toy = pd.DataFrame({'language':['English', 'Vietnamese', 'English', 'Mandarin', \n",
    "                                  'English', 'English', 'Mandarin', 'English', \n",
    "                                  'Vietnamese', 'Mandarin', 'French','Spanish', \n",
    "                                  'Mandarin', 'Hindi']})\n",
    "X_toy"
   ]
  },
  {
   "cell_type": "code",
   "execution_count": 13,
   "metadata": {},
   "outputs": [
    {
     "data": {
      "text/html": [
       "<div>\n",
       "<style scoped>\n",
       "    .dataframe tbody tr th:only-of-type {\n",
       "        vertical-align: middle;\n",
       "    }\n",
       "\n",
       "    .dataframe tbody tr th {\n",
       "        vertical-align: top;\n",
       "    }\n",
       "\n",
       "    .dataframe thead th {\n",
       "        text-align: right;\n",
       "    }\n",
       "</style>\n",
       "<table border=\"1\" class=\"dataframe\">\n",
       "  <thead>\n",
       "    <tr style=\"text-align: right;\">\n",
       "      <th></th>\n",
       "      <th>English</th>\n",
       "      <th>Mandarin</th>\n",
       "      <th>Vietnamese</th>\n",
       "      <th>Spanish</th>\n",
       "      <th>Hindi</th>\n",
       "      <th>French</th>\n",
       "    </tr>\n",
       "  </thead>\n",
       "  <tbody>\n",
       "    <tr>\n",
       "      <th>frequency</th>\n",
       "      <td>5</td>\n",
       "      <td>4</td>\n",
       "      <td>2</td>\n",
       "      <td>1</td>\n",
       "      <td>1</td>\n",
       "      <td>1</td>\n",
       "    </tr>\n",
       "  </tbody>\n",
       "</table>\n",
       "</div>"
      ],
      "text/plain": [
       "           English  Mandarin  Vietnamese  Spanish  Hindi  French\n",
       "frequency        5         4           2        1      1       1"
      ]
     },
     "execution_count": 13,
     "metadata": {},
     "output_type": "execute_result"
    }
   ],
   "source": [
    "pd.DataFrame(X_toy['language'].value_counts()).rename(columns={'language': 'frequency'}).T"
   ]
  },
  {
   "cell_type": "code",
   "execution_count": 14,
   "metadata": {},
   "outputs": [
    {
     "data": {
      "text/html": [
       "<div>\n",
       "<style scoped>\n",
       "    .dataframe tbody tr th:only-of-type {\n",
       "        vertical-align: middle;\n",
       "    }\n",
       "\n",
       "    .dataframe tbody tr th {\n",
       "        vertical-align: top;\n",
       "    }\n",
       "\n",
       "    .dataframe thead th {\n",
       "        text-align: right;\n",
       "    }\n",
       "</style>\n",
       "<table border=\"1\" class=\"dataframe\">\n",
       "  <thead>\n",
       "    <tr style=\"text-align: right;\">\n",
       "      <th></th>\n",
       "      <th>language</th>\n",
       "      <th>language_enc</th>\n",
       "    </tr>\n",
       "  </thead>\n",
       "  <tbody>\n",
       "    <tr>\n",
       "      <th>0</th>\n",
       "      <td>English</td>\n",
       "      <td>0</td>\n",
       "    </tr>\n",
       "    <tr>\n",
       "      <th>1</th>\n",
       "      <td>Vietnamese</td>\n",
       "      <td>5</td>\n",
       "    </tr>\n",
       "    <tr>\n",
       "      <th>2</th>\n",
       "      <td>English</td>\n",
       "      <td>0</td>\n",
       "    </tr>\n",
       "    <tr>\n",
       "      <th>3</th>\n",
       "      <td>Mandarin</td>\n",
       "      <td>3</td>\n",
       "    </tr>\n",
       "    <tr>\n",
       "      <th>4</th>\n",
       "      <td>English</td>\n",
       "      <td>0</td>\n",
       "    </tr>\n",
       "    <tr>\n",
       "      <th>5</th>\n",
       "      <td>English</td>\n",
       "      <td>0</td>\n",
       "    </tr>\n",
       "    <tr>\n",
       "      <th>6</th>\n",
       "      <td>Mandarin</td>\n",
       "      <td>3</td>\n",
       "    </tr>\n",
       "    <tr>\n",
       "      <th>7</th>\n",
       "      <td>English</td>\n",
       "      <td>0</td>\n",
       "    </tr>\n",
       "    <tr>\n",
       "      <th>8</th>\n",
       "      <td>Vietnamese</td>\n",
       "      <td>5</td>\n",
       "    </tr>\n",
       "    <tr>\n",
       "      <th>9</th>\n",
       "      <td>Mandarin</td>\n",
       "      <td>3</td>\n",
       "    </tr>\n",
       "    <tr>\n",
       "      <th>10</th>\n",
       "      <td>French</td>\n",
       "      <td>1</td>\n",
       "    </tr>\n",
       "    <tr>\n",
       "      <th>11</th>\n",
       "      <td>Spanish</td>\n",
       "      <td>4</td>\n",
       "    </tr>\n",
       "    <tr>\n",
       "      <th>12</th>\n",
       "      <td>Mandarin</td>\n",
       "      <td>3</td>\n",
       "    </tr>\n",
       "    <tr>\n",
       "      <th>13</th>\n",
       "      <td>Hindi</td>\n",
       "      <td>2</td>\n",
       "    </tr>\n",
       "  </tbody>\n",
       "</table>\n",
       "</div>"
      ],
      "text/plain": [
       "      language  language_enc\n",
       "0      English             0\n",
       "1   Vietnamese             5\n",
       "2      English             0\n",
       "3     Mandarin             3\n",
       "4      English             0\n",
       "5      English             0\n",
       "6     Mandarin             3\n",
       "7      English             0\n",
       "8   Vietnamese             5\n",
       "9     Mandarin             3\n",
       "10      French             1\n",
       "11     Spanish             4\n",
       "12    Mandarin             3\n",
       "13       Hindi             2"
      ]
     },
     "execution_count": 14,
     "metadata": {},
     "output_type": "execute_result"
    }
   ],
   "source": [
    "oe = OrdinalEncoder(dtype=int)\n",
    "oe.fit(X_toy);\n",
    "X_toy_ord = oe.transform(X_toy)\n",
    "\n",
    "encoding_view = X_toy.assign(language_enc=X_toy_ord)\n",
    "encoding_view"
   ]
  },
  {
   "cell_type": "markdown",
   "metadata": {},
   "source": [
    "What's the problem here though? \n",
    "- We have imposed ordinality on the feature that is no ordinal in value.\n",
    "- For example, imagine when you are calculating distances. Is it fair to say that French and Hindi are closer than French and Spanish? \n",
    "- In general, label encoding is useful if there is ordinality in your data and capturing it is important for your problem, e.g., `[cold, warm, hot]`. \n",
    "\n",
    "So what do we do when our values are not truly ordinal categories?\n",
    "\n",
    "We can do something called ..."
   ]
  },
  {
   "cell_type": "markdown",
   "metadata": {},
   "source": [
    "## One-Hot Encoding\n",
    "\n",
    "One-hot encoding (OHE) creates a new binary column for each category in a categorical column.\n",
    "- If we have $c$ categories in our column.\n",
    "    - We create $c$ new binary columns to represent those categories.\n",
    "    \n"
   ]
  },
  {
   "cell_type": "markdown",
   "metadata": {},
   "source": [
    "### How to one-hot encode"
   ]
  },
  {
   "cell_type": "code",
   "execution_count": 15,
   "metadata": {},
   "outputs": [
    {
     "data": {
      "text/plain": [
       "array([[1, 0, 0, 0, 0, 0],\n",
       "       [0, 0, 0, 0, 0, 1],\n",
       "       [1, 0, 0, 0, 0, 0],\n",
       "       [0, 0, 0, 1, 0, 0],\n",
       "       [1, 0, 0, 0, 0, 0],\n",
       "       [1, 0, 0, 0, 0, 0],\n",
       "       [0, 0, 0, 1, 0, 0],\n",
       "       [1, 0, 0, 0, 0, 0],\n",
       "       [0, 0, 0, 0, 0, 1],\n",
       "       [0, 0, 0, 1, 0, 0],\n",
       "       [0, 1, 0, 0, 0, 0],\n",
       "       [0, 0, 0, 0, 1, 0],\n",
       "       [0, 0, 0, 1, 0, 0],\n",
       "       [0, 0, 1, 0, 0, 0]])"
      ]
     },
     "execution_count": 15,
     "metadata": {},
     "output_type": "execute_result"
    }
   ],
   "source": [
    "from sklearn.preprocessing import OneHotEncoder\n",
    "\n",
    "ohe = OneHotEncoder(sparse=False, dtype='int')\n",
    "ohe.fit(X_toy);\n",
    "X_toy_ohe = ohe.transform(X_toy)\n",
    "\n",
    "X_toy_ohe"
   ]
  },
  {
   "cell_type": "markdown",
   "metadata": {},
   "source": [
    "We can convert it to a Pandas dataframe and see that instead of 1 column, we have 6! (We don't need to do this step we are just showing you how it works)"
   ]
  },
  {
   "cell_type": "code",
   "execution_count": 16,
   "metadata": {},
   "outputs": [
    {
     "data": {
      "text/html": [
       "<div>\n",
       "<style scoped>\n",
       "    .dataframe tbody tr th:only-of-type {\n",
       "        vertical-align: middle;\n",
       "    }\n",
       "\n",
       "    .dataframe tbody tr th {\n",
       "        vertical-align: top;\n",
       "    }\n",
       "\n",
       "    .dataframe thead th {\n",
       "        text-align: right;\n",
       "    }\n",
       "</style>\n",
       "<table border=\"1\" class=\"dataframe\">\n",
       "  <thead>\n",
       "    <tr style=\"text-align: right;\">\n",
       "      <th></th>\n",
       "      <th>language_English</th>\n",
       "      <th>language_French</th>\n",
       "      <th>language_Hindi</th>\n",
       "      <th>language_Mandarin</th>\n",
       "      <th>language_Spanish</th>\n",
       "      <th>language_Vietnamese</th>\n",
       "    </tr>\n",
       "  </thead>\n",
       "  <tbody>\n",
       "    <tr>\n",
       "      <th>0</th>\n",
       "      <td>1</td>\n",
       "      <td>0</td>\n",
       "      <td>0</td>\n",
       "      <td>0</td>\n",
       "      <td>0</td>\n",
       "      <td>0</td>\n",
       "    </tr>\n",
       "    <tr>\n",
       "      <th>1</th>\n",
       "      <td>0</td>\n",
       "      <td>0</td>\n",
       "      <td>0</td>\n",
       "      <td>0</td>\n",
       "      <td>0</td>\n",
       "      <td>1</td>\n",
       "    </tr>\n",
       "    <tr>\n",
       "      <th>2</th>\n",
       "      <td>1</td>\n",
       "      <td>0</td>\n",
       "      <td>0</td>\n",
       "      <td>0</td>\n",
       "      <td>0</td>\n",
       "      <td>0</td>\n",
       "    </tr>\n",
       "    <tr>\n",
       "      <th>3</th>\n",
       "      <td>0</td>\n",
       "      <td>0</td>\n",
       "      <td>0</td>\n",
       "      <td>1</td>\n",
       "      <td>0</td>\n",
       "      <td>0</td>\n",
       "    </tr>\n",
       "    <tr>\n",
       "      <th>4</th>\n",
       "      <td>1</td>\n",
       "      <td>0</td>\n",
       "      <td>0</td>\n",
       "      <td>0</td>\n",
       "      <td>0</td>\n",
       "      <td>0</td>\n",
       "    </tr>\n",
       "    <tr>\n",
       "      <th>5</th>\n",
       "      <td>1</td>\n",
       "      <td>0</td>\n",
       "      <td>0</td>\n",
       "      <td>0</td>\n",
       "      <td>0</td>\n",
       "      <td>0</td>\n",
       "    </tr>\n",
       "    <tr>\n",
       "      <th>6</th>\n",
       "      <td>0</td>\n",
       "      <td>0</td>\n",
       "      <td>0</td>\n",
       "      <td>1</td>\n",
       "      <td>0</td>\n",
       "      <td>0</td>\n",
       "    </tr>\n",
       "    <tr>\n",
       "      <th>7</th>\n",
       "      <td>1</td>\n",
       "      <td>0</td>\n",
       "      <td>0</td>\n",
       "      <td>0</td>\n",
       "      <td>0</td>\n",
       "      <td>0</td>\n",
       "    </tr>\n",
       "    <tr>\n",
       "      <th>8</th>\n",
       "      <td>0</td>\n",
       "      <td>0</td>\n",
       "      <td>0</td>\n",
       "      <td>0</td>\n",
       "      <td>0</td>\n",
       "      <td>1</td>\n",
       "    </tr>\n",
       "    <tr>\n",
       "      <th>9</th>\n",
       "      <td>0</td>\n",
       "      <td>0</td>\n",
       "      <td>0</td>\n",
       "      <td>1</td>\n",
       "      <td>0</td>\n",
       "      <td>0</td>\n",
       "    </tr>\n",
       "    <tr>\n",
       "      <th>10</th>\n",
       "      <td>0</td>\n",
       "      <td>1</td>\n",
       "      <td>0</td>\n",
       "      <td>0</td>\n",
       "      <td>0</td>\n",
       "      <td>0</td>\n",
       "    </tr>\n",
       "    <tr>\n",
       "      <th>11</th>\n",
       "      <td>0</td>\n",
       "      <td>0</td>\n",
       "      <td>0</td>\n",
       "      <td>0</td>\n",
       "      <td>1</td>\n",
       "      <td>0</td>\n",
       "    </tr>\n",
       "    <tr>\n",
       "      <th>12</th>\n",
       "      <td>0</td>\n",
       "      <td>0</td>\n",
       "      <td>0</td>\n",
       "      <td>1</td>\n",
       "      <td>0</td>\n",
       "      <td>0</td>\n",
       "    </tr>\n",
       "    <tr>\n",
       "      <th>13</th>\n",
       "      <td>0</td>\n",
       "      <td>0</td>\n",
       "      <td>1</td>\n",
       "      <td>0</td>\n",
       "      <td>0</td>\n",
       "      <td>0</td>\n",
       "    </tr>\n",
       "  </tbody>\n",
       "</table>\n",
       "</div>"
      ],
      "text/plain": [
       "    language_English  language_French  language_Hindi  language_Mandarin  \\\n",
       "0                  1                0               0                  0   \n",
       "1                  0                0               0                  0   \n",
       "2                  1                0               0                  0   \n",
       "3                  0                0               0                  1   \n",
       "4                  1                0               0                  0   \n",
       "5                  1                0               0                  0   \n",
       "6                  0                0               0                  1   \n",
       "7                  1                0               0                  0   \n",
       "8                  0                0               0                  0   \n",
       "9                  0                0               0                  1   \n",
       "10                 0                1               0                  0   \n",
       "11                 0                0               0                  0   \n",
       "12                 0                0               0                  1   \n",
       "13                 0                0               1                  0   \n",
       "\n",
       "    language_Spanish  language_Vietnamese  \n",
       "0                  0                    0  \n",
       "1                  0                    1  \n",
       "2                  0                    0  \n",
       "3                  0                    0  \n",
       "4                  0                    0  \n",
       "5                  0                    0  \n",
       "6                  0                    0  \n",
       "7                  0                    0  \n",
       "8                  0                    1  \n",
       "9                  0                    0  \n",
       "10                 0                    0  \n",
       "11                 1                    0  \n",
       "12                 0                    0  \n",
       "13                 0                    0  "
      ]
     },
     "execution_count": 16,
     "metadata": {},
     "output_type": "execute_result"
    }
   ],
   "source": [
    "pd.DataFrame(\n",
    "    data=X_toy_ohe,\n",
    "    columns=ohe.get_feature_names(['language']),\n",
    "    index=X_toy.index,\n",
    ")"
   ]
  },
  {
   "cell_type": "markdown",
   "metadata": {},
   "source": [
    "Let's try this on our California housing dataset now. \n",
    "\n",
    "Although `ocean_proximity` seems like an ordinal feature, let's look at the possible categories.\n",
    "\n"
   ]
  },
  {
   "cell_type": "code",
   "execution_count": 17,
   "metadata": {},
   "outputs": [
    {
     "data": {
      "text/plain": [
       "array(['INLAND', 'NEAR OCEAN', '<1H OCEAN', 'NEAR BAY', 'ISLAND'],\n",
       "      dtype=object)"
      ]
     },
     "execution_count": 17,
     "metadata": {},
     "output_type": "execute_result"
    }
   ],
   "source": [
    "X_train['ocean_proximity'].unique()"
   ]
  },
  {
   "cell_type": "markdown",
   "metadata": {},
   "source": [
    "How would you order these? \n",
    "\n",
    "Should `NEAR OCEAN` be higher in value than `NEAR BAY`? \n",
    "\n",
    "In unsure times, maybe one-hot encoding is the better option. "
   ]
  },
  {
   "cell_type": "code",
   "execution_count": 18,
   "metadata": {},
   "outputs": [
    {
     "data": {
      "text/plain": [
       "array([[0, 1, 0, 0, 0],\n",
       "       [0, 1, 0, 0, 0],\n",
       "       [0, 0, 0, 0, 1],\n",
       "       ...,\n",
       "       [1, 0, 0, 0, 0],\n",
       "       [0, 0, 0, 1, 0],\n",
       "       [0, 1, 0, 0, 0]])"
      ]
     },
     "execution_count": 18,
     "metadata": {},
     "output_type": "execute_result"
    }
   ],
   "source": [
    "ohe = OneHotEncoder(sparse=False, dtype=\"int\")\n",
    "ohe.fit(X_train[[\"ocean_proximity\"]])\n",
    "X_imp_ohe_train = ohe.transform(X_train[[\"ocean_proximity\"]])\n",
    "\n",
    "X_imp_ohe_train"
   ]
  },
  {
   "cell_type": "markdown",
   "metadata": {},
   "source": [
    "Ok great we've transformed our data, however, Just like before, the transformer outputs a NumPy array. "
   ]
  },
  {
   "cell_type": "code",
   "execution_count": 19,
   "metadata": {},
   "outputs": [
    {
     "data": {
      "text/html": [
       "<div>\n",
       "<style scoped>\n",
       "    .dataframe tbody tr th:only-of-type {\n",
       "        vertical-align: middle;\n",
       "    }\n",
       "\n",
       "    .dataframe tbody tr th {\n",
       "        vertical-align: top;\n",
       "    }\n",
       "\n",
       "    .dataframe thead th {\n",
       "        text-align: right;\n",
       "    }\n",
       "</style>\n",
       "<table border=\"1\" class=\"dataframe\">\n",
       "  <thead>\n",
       "    <tr style=\"text-align: right;\">\n",
       "      <th></th>\n",
       "      <th>ocean_proximity_&lt;1H OCEAN</th>\n",
       "      <th>ocean_proximity_INLAND</th>\n",
       "      <th>ocean_proximity_ISLAND</th>\n",
       "      <th>ocean_proximity_NEAR BAY</th>\n",
       "      <th>ocean_proximity_NEAR OCEAN</th>\n",
       "    </tr>\n",
       "  </thead>\n",
       "  <tbody>\n",
       "    <tr>\n",
       "      <th>6051</th>\n",
       "      <td>0</td>\n",
       "      <td>1</td>\n",
       "      <td>0</td>\n",
       "      <td>0</td>\n",
       "      <td>0</td>\n",
       "    </tr>\n",
       "    <tr>\n",
       "      <th>20113</th>\n",
       "      <td>0</td>\n",
       "      <td>1</td>\n",
       "      <td>0</td>\n",
       "      <td>0</td>\n",
       "      <td>0</td>\n",
       "    </tr>\n",
       "    <tr>\n",
       "      <th>14289</th>\n",
       "      <td>0</td>\n",
       "      <td>0</td>\n",
       "      <td>0</td>\n",
       "      <td>0</td>\n",
       "      <td>1</td>\n",
       "    </tr>\n",
       "    <tr>\n",
       "      <th>13665</th>\n",
       "      <td>0</td>\n",
       "      <td>1</td>\n",
       "      <td>0</td>\n",
       "      <td>0</td>\n",
       "      <td>0</td>\n",
       "    </tr>\n",
       "    <tr>\n",
       "      <th>14471</th>\n",
       "      <td>0</td>\n",
       "      <td>0</td>\n",
       "      <td>0</td>\n",
       "      <td>0</td>\n",
       "      <td>1</td>\n",
       "    </tr>\n",
       "  </tbody>\n",
       "</table>\n",
       "</div>"
      ],
      "text/plain": [
       "       ocean_proximity_<1H OCEAN  ocean_proximity_INLAND  \\\n",
       "6051                           0                       1   \n",
       "20113                          0                       1   \n",
       "14289                          0                       0   \n",
       "13665                          0                       1   \n",
       "14471                          0                       0   \n",
       "\n",
       "       ocean_proximity_ISLAND  ocean_proximity_NEAR BAY  \\\n",
       "6051                        0                         0   \n",
       "20113                       0                         0   \n",
       "14289                       0                         0   \n",
       "13665                       0                         0   \n",
       "14471                       0                         0   \n",
       "\n",
       "       ocean_proximity_NEAR OCEAN  \n",
       "6051                            0  \n",
       "20113                           0  \n",
       "14289                           1  \n",
       "13665                           0  \n",
       "14471                           1  "
      ]
     },
     "execution_count": 19,
     "metadata": {},
     "output_type": "execute_result"
    }
   ],
   "source": [
    "transformed_ohe = pd.DataFrame(\n",
    "    data=X_imp_ohe_train,\n",
    "    columns=ohe.get_feature_names(['ocean_proximity']),\n",
    "    index=X_train.index,\n",
    ")\n",
    "\n",
    "transformed_ohe.head()"
   ]
  },
  {
   "cell_type": "markdown",
   "metadata": {},
   "source": [
    "### What happens if there are categories in the test data, that are not in the training data?\n",
    "\n",
    "Usually, if this is the case, an error will occur. (Not buying it? Try one hot-encoding in the assignment without this argument!)\n",
    "\n",
    "In the `OneHotEncoder` we can specify `handle_unknown=\"ignore\"` which will then create a row with all zeros. \n",
    "\n",
    "That means that all categories that are not recognized to the transformer will appear the same for this feature. \n",
    "\n",
    "You'll get to use this in your assignment. \n",
    "\n",
    "So our transformer above would then look like this: "
   ]
  },
  {
   "cell_type": "code",
   "execution_count": 20,
   "metadata": {},
   "outputs": [
    {
     "data": {
      "text/plain": [
       "array([[0, 1, 0, 0, 0],\n",
       "       [0, 1, 0, 0, 0],\n",
       "       [0, 0, 0, 0, 1],\n",
       "       ...,\n",
       "       [1, 0, 0, 0, 0],\n",
       "       [0, 0, 0, 1, 0],\n",
       "       [0, 1, 0, 0, 0]])"
      ]
     },
     "execution_count": 20,
     "metadata": {},
     "output_type": "execute_result"
    }
   ],
   "source": [
    "ohe = OneHotEncoder(sparse=False, dtype=\"int\", handle_unknown=\"ignore\")\n",
    "ohe.fit(X_train[[\"ocean_proximity\"]])\n",
    "X_imp_ohe_train = ohe.transform(X_train[[\"ocean_proximity\"]])\n",
    "\n",
    "X_imp_ohe_train"
   ]
  },
  {
   "cell_type": "markdown",
   "metadata": {},
   "source": [
    "### Cases where it's OK to break the golden rule \n",
    "\n",
    "- If it's some fixed number of categories.\n",
    "\n",
    "For example, if the categories are provinces/territories of Canada, we know the possible values and we can just specify them.\n",
    "\n",
    "If we know the categories, this might be a reasonable time to “violate the Golden Rule” (look at the test set) and just hard-code all the categories.\n",
    "\n",
    "This syntax allows you to pre-define the categories."
   ]
  },
  {
   "cell_type": "code",
   "execution_count": 21,
   "metadata": {},
   "outputs": [],
   "source": [
    "provs_ters = ['AB', 'BC', 'MB', 'NB', 'NL', 'NS', 'NT', 'NU', 'ON', 'PE', 'QC', 'SK', 'YT']"
   ]
  },
  {
   "cell_type": "code",
   "execution_count": 22,
   "metadata": {},
   "outputs": [],
   "source": [
    "ohe_cat_example = OneHotEncoder(categories=provs_ters)"
   ]
  },
  {
   "cell_type": "markdown",
   "metadata": {},
   "source": [
    "## Binary features\n",
    "\n",
    "Let's say we have the following toy feature, that contains information on if a beverage has caffeine in it or not. "
   ]
  },
  {
   "cell_type": "code",
   "execution_count": 23,
   "metadata": {},
   "outputs": [
    {
     "data": {
      "text/html": [
       "<div>\n",
       "<style scoped>\n",
       "    .dataframe tbody tr th:only-of-type {\n",
       "        vertical-align: middle;\n",
       "    }\n",
       "\n",
       "    .dataframe tbody tr th {\n",
       "        vertical-align: top;\n",
       "    }\n",
       "\n",
       "    .dataframe thead th {\n",
       "        text-align: right;\n",
       "    }\n",
       "</style>\n",
       "<table border=\"1\" class=\"dataframe\">\n",
       "  <thead>\n",
       "    <tr style=\"text-align: right;\">\n",
       "      <th></th>\n",
       "      <th>Caffeine</th>\n",
       "    </tr>\n",
       "  </thead>\n",
       "  <tbody>\n",
       "    <tr>\n",
       "      <th>0</th>\n",
       "      <td>No</td>\n",
       "    </tr>\n",
       "    <tr>\n",
       "      <th>1</th>\n",
       "      <td>Yes</td>\n",
       "    </tr>\n",
       "    <tr>\n",
       "      <th>2</th>\n",
       "      <td>Yes</td>\n",
       "    </tr>\n",
       "    <tr>\n",
       "      <th>3</th>\n",
       "      <td>No</td>\n",
       "    </tr>\n",
       "    <tr>\n",
       "      <th>4</th>\n",
       "      <td>Yes</td>\n",
       "    </tr>\n",
       "    <tr>\n",
       "      <th>5</th>\n",
       "      <td>No</td>\n",
       "    </tr>\n",
       "    <tr>\n",
       "      <th>6</th>\n",
       "      <td>No</td>\n",
       "    </tr>\n",
       "    <tr>\n",
       "      <th>7</th>\n",
       "      <td>No</td>\n",
       "    </tr>\n",
       "    <tr>\n",
       "      <th>8</th>\n",
       "      <td>Yes</td>\n",
       "    </tr>\n",
       "    <tr>\n",
       "      <th>9</th>\n",
       "      <td>No</td>\n",
       "    </tr>\n",
       "    <tr>\n",
       "      <th>10</th>\n",
       "      <td>Yes</td>\n",
       "    </tr>\n",
       "    <tr>\n",
       "      <th>11</th>\n",
       "      <td>Yes</td>\n",
       "    </tr>\n",
       "    <tr>\n",
       "      <th>12</th>\n",
       "      <td>No</td>\n",
       "    </tr>\n",
       "    <tr>\n",
       "      <th>13</th>\n",
       "      <td>Yes</td>\n",
       "    </tr>\n",
       "  </tbody>\n",
       "</table>\n",
       "</div>"
      ],
      "text/plain": [
       "   Caffeine\n",
       "0        No\n",
       "1       Yes\n",
       "2       Yes\n",
       "3        No\n",
       "4       Yes\n",
       "5        No\n",
       "6        No\n",
       "7        No\n",
       "8       Yes\n",
       "9        No\n",
       "10      Yes\n",
       "11      Yes\n",
       "12       No\n",
       "13      Yes"
      ]
     },
     "execution_count": 23,
     "metadata": {},
     "output_type": "execute_result"
    }
   ],
   "source": [
    "X_toy = pd.DataFrame({'Caffeine':['No', 'Yes', 'Yes', 'No', \n",
    "                                  'Yes', 'No', 'No', 'No', \n",
    "                                  'Yes', 'No', 'Yes','Yes', \n",
    "                                  'No', 'Yes']})\n",
    "X_toy"
   ]
  },
  {
   "cell_type": "markdown",
   "metadata": {},
   "source": [
    "When we do one-hot encoding on this feature, we get 2 separate columns."
   ]
  },
  {
   "cell_type": "code",
   "execution_count": 24,
   "metadata": {},
   "outputs": [
    {
     "data": {
      "text/plain": [
       "array([[1, 0],\n",
       "       [0, 1],\n",
       "       [0, 1],\n",
       "       [1, 0],\n",
       "       [0, 1],\n",
       "       [1, 0],\n",
       "       [1, 0],\n",
       "       [1, 0],\n",
       "       [0, 1],\n",
       "       [1, 0],\n",
       "       [0, 1],\n",
       "       [0, 1],\n",
       "       [1, 0],\n",
       "       [0, 1]])"
      ]
     },
     "execution_count": 24,
     "metadata": {},
     "output_type": "execute_result"
    }
   ],
   "source": [
    "ohe = OneHotEncoder(sparse=False, dtype='int')\n",
    "ohe.fit(X_toy);\n",
    "X_toy_ohe = ohe.transform(X_toy)\n",
    "\n",
    "X_toy_ohe"
   ]
  },
  {
   "cell_type": "markdown",
   "metadata": {},
   "source": [
    "Do we really need 2 columns for this though? \n",
    "\n",
    "Either something contains caffeine, or it does not. So we only really need 1 column for this. "
   ]
  },
  {
   "cell_type": "code",
   "execution_count": 25,
   "metadata": {},
   "outputs": [
    {
     "data": {
      "text/html": [
       "<div>\n",
       "<style scoped>\n",
       "    .dataframe tbody tr th:only-of-type {\n",
       "        vertical-align: middle;\n",
       "    }\n",
       "\n",
       "    .dataframe tbody tr th {\n",
       "        vertical-align: top;\n",
       "    }\n",
       "\n",
       "    .dataframe thead th {\n",
       "        text-align: right;\n",
       "    }\n",
       "</style>\n",
       "<table border=\"1\" class=\"dataframe\">\n",
       "  <thead>\n",
       "    <tr style=\"text-align: right;\">\n",
       "      <th></th>\n",
       "      <th>Caffeine_No</th>\n",
       "      <th>Caffeine_Yes</th>\n",
       "    </tr>\n",
       "  </thead>\n",
       "  <tbody>\n",
       "    <tr>\n",
       "      <th>0</th>\n",
       "      <td>1</td>\n",
       "      <td>0</td>\n",
       "    </tr>\n",
       "    <tr>\n",
       "      <th>1</th>\n",
       "      <td>0</td>\n",
       "      <td>1</td>\n",
       "    </tr>\n",
       "    <tr>\n",
       "      <th>2</th>\n",
       "      <td>0</td>\n",
       "      <td>1</td>\n",
       "    </tr>\n",
       "    <tr>\n",
       "      <th>3</th>\n",
       "      <td>1</td>\n",
       "      <td>0</td>\n",
       "    </tr>\n",
       "    <tr>\n",
       "      <th>4</th>\n",
       "      <td>0</td>\n",
       "      <td>1</td>\n",
       "    </tr>\n",
       "    <tr>\n",
       "      <th>5</th>\n",
       "      <td>1</td>\n",
       "      <td>0</td>\n",
       "    </tr>\n",
       "    <tr>\n",
       "      <th>6</th>\n",
       "      <td>1</td>\n",
       "      <td>0</td>\n",
       "    </tr>\n",
       "    <tr>\n",
       "      <th>7</th>\n",
       "      <td>1</td>\n",
       "      <td>0</td>\n",
       "    </tr>\n",
       "    <tr>\n",
       "      <th>8</th>\n",
       "      <td>0</td>\n",
       "      <td>1</td>\n",
       "    </tr>\n",
       "    <tr>\n",
       "      <th>9</th>\n",
       "      <td>1</td>\n",
       "      <td>0</td>\n",
       "    </tr>\n",
       "    <tr>\n",
       "      <th>10</th>\n",
       "      <td>0</td>\n",
       "      <td>1</td>\n",
       "    </tr>\n",
       "    <tr>\n",
       "      <th>11</th>\n",
       "      <td>0</td>\n",
       "      <td>1</td>\n",
       "    </tr>\n",
       "    <tr>\n",
       "      <th>12</th>\n",
       "      <td>1</td>\n",
       "      <td>0</td>\n",
       "    </tr>\n",
       "    <tr>\n",
       "      <th>13</th>\n",
       "      <td>0</td>\n",
       "      <td>1</td>\n",
       "    </tr>\n",
       "  </tbody>\n",
       "</table>\n",
       "</div>"
      ],
      "text/plain": [
       "    Caffeine_No  Caffeine_Yes\n",
       "0             1             0\n",
       "1             0             1\n",
       "2             0             1\n",
       "3             1             0\n",
       "4             0             1\n",
       "5             1             0\n",
       "6             1             0\n",
       "7             1             0\n",
       "8             0             1\n",
       "9             1             0\n",
       "10            0             1\n",
       "11            0             1\n",
       "12            1             0\n",
       "13            0             1"
      ]
     },
     "execution_count": 25,
     "metadata": {},
     "output_type": "execute_result"
    }
   ],
   "source": [
    "pd.DataFrame(\n",
    "    data=X_toy_ohe,\n",
    "    columns=ohe.get_feature_names(['Caffeine']),\n",
    "    index=X_toy.index,\n",
    ")"
   ]
  },
  {
   "cell_type": "markdown",
   "metadata": {},
   "source": [
    "So, for this feature with binary values, we can use an argument called `drop` within `OneHotEncoder` and set it to `\"if_binary\"`.\n"
   ]
  },
  {
   "cell_type": "code",
   "execution_count": 26,
   "metadata": {},
   "outputs": [
    {
     "data": {
      "text/plain": [
       "array([[0],\n",
       "       [1],\n",
       "       [1],\n",
       "       [0],\n",
       "       [1],\n",
       "       [0],\n",
       "       [0],\n",
       "       [0],\n",
       "       [1],\n",
       "       [0],\n",
       "       [1],\n",
       "       [1],\n",
       "       [0],\n",
       "       [1]])"
      ]
     },
     "execution_count": 26,
     "metadata": {},
     "output_type": "execute_result"
    }
   ],
   "source": [
    "ohe = OneHotEncoder(sparse=False, dtype='int', drop=\"if_binary\")\n",
    "ohe.fit(X_toy);\n",
    "X_toy_ohe = ohe.transform(X_toy)\n",
    "\n",
    "X_toy_ohe"
   ]
  },
  {
   "cell_type": "code",
   "execution_count": 27,
   "metadata": {},
   "outputs": [
    {
     "data": {
      "text/html": [
       "<div>\n",
       "<style scoped>\n",
       "    .dataframe tbody tr th:only-of-type {\n",
       "        vertical-align: middle;\n",
       "    }\n",
       "\n",
       "    .dataframe tbody tr th {\n",
       "        vertical-align: top;\n",
       "    }\n",
       "\n",
       "    .dataframe thead th {\n",
       "        text-align: right;\n",
       "    }\n",
       "</style>\n",
       "<table border=\"1\" class=\"dataframe\">\n",
       "  <thead>\n",
       "    <tr style=\"text-align: right;\">\n",
       "      <th></th>\n",
       "      <th>Caffeine_Yes</th>\n",
       "    </tr>\n",
       "  </thead>\n",
       "  <tbody>\n",
       "    <tr>\n",
       "      <th>0</th>\n",
       "      <td>0</td>\n",
       "    </tr>\n",
       "    <tr>\n",
       "      <th>1</th>\n",
       "      <td>1</td>\n",
       "    </tr>\n",
       "    <tr>\n",
       "      <th>2</th>\n",
       "      <td>1</td>\n",
       "    </tr>\n",
       "    <tr>\n",
       "      <th>3</th>\n",
       "      <td>0</td>\n",
       "    </tr>\n",
       "    <tr>\n",
       "      <th>4</th>\n",
       "      <td>1</td>\n",
       "    </tr>\n",
       "    <tr>\n",
       "      <th>5</th>\n",
       "      <td>0</td>\n",
       "    </tr>\n",
       "    <tr>\n",
       "      <th>6</th>\n",
       "      <td>0</td>\n",
       "    </tr>\n",
       "    <tr>\n",
       "      <th>7</th>\n",
       "      <td>0</td>\n",
       "    </tr>\n",
       "    <tr>\n",
       "      <th>8</th>\n",
       "      <td>1</td>\n",
       "    </tr>\n",
       "    <tr>\n",
       "      <th>9</th>\n",
       "      <td>0</td>\n",
       "    </tr>\n",
       "    <tr>\n",
       "      <th>10</th>\n",
       "      <td>1</td>\n",
       "    </tr>\n",
       "    <tr>\n",
       "      <th>11</th>\n",
       "      <td>1</td>\n",
       "    </tr>\n",
       "    <tr>\n",
       "      <th>12</th>\n",
       "      <td>0</td>\n",
       "    </tr>\n",
       "    <tr>\n",
       "      <th>13</th>\n",
       "      <td>1</td>\n",
       "    </tr>\n",
       "  </tbody>\n",
       "</table>\n",
       "</div>"
      ],
      "text/plain": [
       "    Caffeine_Yes\n",
       "0              0\n",
       "1              1\n",
       "2              1\n",
       "3              0\n",
       "4              1\n",
       "5              0\n",
       "6              0\n",
       "7              0\n",
       "8              1\n",
       "9              0\n",
       "10             1\n",
       "11             1\n",
       "12             0\n",
       "13             1"
      ]
     },
     "execution_count": 27,
     "metadata": {},
     "output_type": "execute_result"
    }
   ],
   "source": [
    "pd.DataFrame(\n",
    "    data=X_toy_ohe,\n",
    "    columns=ohe.get_feature_names(['Caffeine']),\n",
    "    index=X_toy.index,\n",
    ")"
   ]
  },
  {
   "cell_type": "markdown",
   "metadata": {},
   "source": [
    "Now we see that after one-hot encoding we only get a single column where the encoder has arbitrarily chosen one of the two categories based on the sorting.\n",
    "\n",
    "In this case, alphabetically it was [`'No'`, `'Yes'`] and it dropped the first category; `No`. "
   ]
  },
  {
   "cell_type": "markdown",
   "metadata": {},
   "source": [
    "## Do we actually want to use certain features for prediction?\n",
    "\n",
    "Sometimes we may have column features like `race` or `sex` that may not be a good idea to include in your model. \n",
    "\n",
    "The systems you build are going to be used in some applications. \n",
    "\n",
    "It's extremely important to be mindful of the consequences of including certain features in your predictive model. \n",
    "\n",
    "Dropping the features like this to avoid racial and gender biases would be a strong suggestion. "
   ]
  },
  {
   "cell_type": "markdown",
   "metadata": {},
   "source": [
    "## Let's Practice\n",
    "\n",
    "\n",
    "```\n",
    "           name    colour    location    seed   shape  sweetness   water-content  weight  popularity\n",
    "0         apple       red     canada    True   round     True          84         100      popular\n",
    "1        banana    yellow     mexico   False    long     True          75         120      popular\n",
    "2    cantaloupe    orange      spain    True   round     True          90        1360      neutral\n",
    "3  dragon-fruit   magenta      china    True   round    False          96         600      not popular\n",
    "4    elderberry    purple    austria   False   round     True          80           5      not popular\n",
    "5           fig    purple     turkey   False    oval    False          78          40      neutral\n",
    "6         guava     green     mexico    True    oval     True          83         450      neutral\n",
    "7   huckleberry      blue     canada    True   round     True          73           5      not popular\n",
    "8          kiwi     brown      china    True   round     True          80          76      popular\n",
    "9         lemon    yellow     mexico   False    oval    False          83          65      popular\n",
    "\n",
    "```\n",
    "\n",
    "1.  What would be the unique values given to the categories in the `popularity` column, if we transformed it with ordinal encoding?\n",
    "\n",
    "- `[0, 1, 2, 3, 4, 5, 6, 7, 8, 9]`\n",
    "- `[0, 1, 2]` \n",
    "- `[1, 2, 3]`\n",
    "- `[0, 1, 2, 3]`\n",
    "\n",
    "2. Does it make sense to be doing ordinal transformations on the `colour` column?\n",
    "3. If we one hot encoded the `shape` column, what datatype would be the output after using `transform`?\n",
    "4. Which of the following outputs is the result of one-hot encoding the `shape` column?    \n",
    "\n",
    "a)    \n",
    "\n",
    "``` \n",
    "array([[0, 1, 0, 0, 0, 0, 0, 0, 0, 0],\n",
    "       [0, 0, 0, 0, 0, 1, 1, 0, 0, 1],\n",
    "       [1, 0, 1, 1, 1, 0, 0, 1, 1, 0]])\n",
    "```\n",
    "\n",
    "b)    \n",
    "\n",
    "```\n",
    "array([[0, 0, 1],\n",
    "       [1, 0, 0],\n",
    "       [0, 0, 1],\n",
    "       [0, 0, 1],\n",
    "       [0, 0, 1],\n",
    "       [0, 1, 0],\n",
    "       [0, 1, 0],\n",
    "       [0, 0, 1],\n",
    "       [0, 0, 1],\n",
    "       [0, 1, 0]])\n",
    "```\n",
    "\n",
    "c)\n",
    "\n",
    "```\n",
    "array([[0, 1, 0, 0, 0, 0],\n",
    "       [0, 0, 0, 1, 0, 0],\n",
    "       [0, 0, 0, 0, 1, 0],\n",
    "       [0, 0, 1, 0, 0, 0],\n",
    "       [1, 0, 0, 0, 0, 0],\n",
    "       [0, 0, 0, 0, 0, 1],\n",
    "       [0, 0, 0, 1, 0, 0],\n",
    "       [0, 1, 0, 0, 0, 0],\n",
    "       [0, 0, 1, 0, 0, 0],\n",
    "       [0, 0, 0, 1, 0, 0]])\n",
    "```\n",
    "\n",
    "d) \n",
    "\n",
    "```\n",
    "array([[0],\n",
    "       [5],\n",
    "       [0],\n",
    "       [3],\n",
    "       [0],\n",
    "       [0],\n",
    "       [3],\n",
    "       [0],\n",
    "       [5],\n",
    "       [3],\n",
    "       [1],\n",
    "       [4],\n",
    "       [3],\n",
    "       [2]])\n",
    "\n",
    "```\n",
    "\n",
    "5. On which column(s) would you use `OneHotEncoder(sparse=False, dtype=int, drop=\"if_binary\")`?\n",
    "\n",
    "\n",
    "**True or False?**    \n",
    "    \n",
    "6. Whenever we have categorical values, we should use ordinal encoding.  \n",
    "7. If we include categorical values in our feature table, `sklearn` will throw an error.\n",
    "8. One-hot encoding a column with 5 unique categories will produce 5 new transformed columns.\n",
    "9. The values in the new transformed columns after one-hot encoding, are all possible integer or float values.\n",
    "10. It’s important to be mindful of the consequences of including certain features in your predictive model.\n"
   ]
  },
  {
   "cell_type": "markdown",
   "metadata": {},
   "source": [
    " **But ....now what?**\n",
    "\n",
    "How do we put this together with other columns in the data before fitting a regressor? \n",
    "\n",
    "We want to apply different transformations to different columns.  \n",
    "\n",
    "Enter... `ColumnTransformer`."
   ]
  },
  {
   "cell_type": "markdown",
   "metadata": {},
   "source": [
    "## ColumnTransformer\n",
    "\n",
    "We left off wondering where to go after we transform our categorical features. \n",
    "\n",
    "Problem: Different transformations on different columns.\n",
    "\n",
    "Right now before we can even fit our regressor we have to apply different transformations on different columns:\n",
    "\n",
    "- Numeric columns\n",
    "    - imputation \n",
    "    - scaling         \n",
    "- Categorical columns \n",
    "    - imputation \n",
    "    - one-hot encoding \n",
    "    \n",
    "What if we have features that are binary, features that are ordinal and features that need just standard one-hot encoding? \n",
    "    \n",
    "    \n",
    "We can’t use a pipeline since not all the transformations are occurring on every feature.\n",
    "\n",
    "We could do so without but then we would be violating the Golden Rule of Machine learning when we did cross-validation.\n",
    "\n",
    "So we need a new tool and it’s called ColumnTransformer!\n",
    "    "
   ]
  },
  {
   "cell_type": "markdown",
   "metadata": {},
   "source": [
    "Sklearn's [`ColumnTransformer`](https://scikit-learn.org/stable/modules/generated/sklearn.compose.ColumnTransformer.html?highlight=columntransformer#sklearn.compose.ColumnTransformer) makes this more manageable.\n",
    "\n",
    "A big advantage here is that we build all our transformations together into one object, and that way we're sure we do the same operations to all splits of the data.\n",
    "\n",
    "Otherwise, we might, for example, do the OHE on both train and test but forget to scale the test data.\n",
    "\n",
    "\n",
    "<img src='imgs/column-transformer.png' width=\"100%\">\n",
    "\n"
   ]
  },
  {
   "cell_type": "markdown",
   "metadata": {},
   "source": [
    "### Applying ColumnTransformer\n",
    "\n",
    "Let's use this new tool on our California housing dataset. \n",
    "\n",
    "Just like any new tool we use, we need to import it. "
   ]
  },
  {
   "cell_type": "code",
   "execution_count": 28,
   "metadata": {},
   "outputs": [],
   "source": [
    "from sklearn.compose import ColumnTransformer"
   ]
  },
  {
   "cell_type": "markdown",
   "metadata": {},
   "source": [
    "We must first identify the different feature types perhaps categorical and numeric columns in our feature table. \n",
    "\n",
    "If we had binary values or ordinal features, we would split those up too. "
   ]
  },
  {
   "cell_type": "code",
   "execution_count": 29,
   "metadata": {},
   "outputs": [
    {
     "data": {
      "text/html": [
       "<div>\n",
       "<style scoped>\n",
       "    .dataframe tbody tr th:only-of-type {\n",
       "        vertical-align: middle;\n",
       "    }\n",
       "\n",
       "    .dataframe tbody tr th {\n",
       "        vertical-align: top;\n",
       "    }\n",
       "\n",
       "    .dataframe thead th {\n",
       "        text-align: right;\n",
       "    }\n",
       "</style>\n",
       "<table border=\"1\" class=\"dataframe\">\n",
       "  <thead>\n",
       "    <tr style=\"text-align: right;\">\n",
       "      <th></th>\n",
       "      <th>longitude</th>\n",
       "      <th>latitude</th>\n",
       "      <th>housing_median_age</th>\n",
       "      <th>households</th>\n",
       "      <th>median_income</th>\n",
       "      <th>ocean_proximity</th>\n",
       "      <th>rooms_per_household</th>\n",
       "      <th>bedrooms_per_household</th>\n",
       "      <th>population_per_household</th>\n",
       "    </tr>\n",
       "  </thead>\n",
       "  <tbody>\n",
       "    <tr>\n",
       "      <th>6051</th>\n",
       "      <td>-117.75</td>\n",
       "      <td>34.04</td>\n",
       "      <td>22.0</td>\n",
       "      <td>602.0</td>\n",
       "      <td>3.1250</td>\n",
       "      <td>INLAND</td>\n",
       "      <td>4.897010</td>\n",
       "      <td>1.056478</td>\n",
       "      <td>4.318937</td>\n",
       "    </tr>\n",
       "    <tr>\n",
       "      <th>20113</th>\n",
       "      <td>-119.57</td>\n",
       "      <td>37.94</td>\n",
       "      <td>17.0</td>\n",
       "      <td>20.0</td>\n",
       "      <td>3.4861</td>\n",
       "      <td>INLAND</td>\n",
       "      <td>17.300000</td>\n",
       "      <td>6.500000</td>\n",
       "      <td>2.550000</td>\n",
       "    </tr>\n",
       "    <tr>\n",
       "      <th>14289</th>\n",
       "      <td>-117.13</td>\n",
       "      <td>32.74</td>\n",
       "      <td>46.0</td>\n",
       "      <td>708.0</td>\n",
       "      <td>2.6604</td>\n",
       "      <td>NEAR OCEAN</td>\n",
       "      <td>4.738701</td>\n",
       "      <td>1.084746</td>\n",
       "      <td>2.057910</td>\n",
       "    </tr>\n",
       "    <tr>\n",
       "      <th>13665</th>\n",
       "      <td>-117.31</td>\n",
       "      <td>34.02</td>\n",
       "      <td>18.0</td>\n",
       "      <td>285.0</td>\n",
       "      <td>5.2139</td>\n",
       "      <td>INLAND</td>\n",
       "      <td>5.733333</td>\n",
       "      <td>0.961404</td>\n",
       "      <td>3.154386</td>\n",
       "    </tr>\n",
       "    <tr>\n",
       "      <th>14471</th>\n",
       "      <td>-117.23</td>\n",
       "      <td>32.88</td>\n",
       "      <td>18.0</td>\n",
       "      <td>1458.0</td>\n",
       "      <td>1.8580</td>\n",
       "      <td>NEAR OCEAN</td>\n",
       "      <td>3.817558</td>\n",
       "      <td>1.004801</td>\n",
       "      <td>4.323045</td>\n",
       "    </tr>\n",
       "  </tbody>\n",
       "</table>\n",
       "</div>"
      ],
      "text/plain": [
       "       longitude  latitude  housing_median_age  households  median_income  \\\n",
       "6051     -117.75     34.04                22.0       602.0         3.1250   \n",
       "20113    -119.57     37.94                17.0        20.0         3.4861   \n",
       "14289    -117.13     32.74                46.0       708.0         2.6604   \n",
       "13665    -117.31     34.02                18.0       285.0         5.2139   \n",
       "14471    -117.23     32.88                18.0      1458.0         1.8580   \n",
       "\n",
       "      ocean_proximity  rooms_per_household  bedrooms_per_household  \\\n",
       "6051           INLAND             4.897010                1.056478   \n",
       "20113          INLAND            17.300000                6.500000   \n",
       "14289      NEAR OCEAN             4.738701                1.084746   \n",
       "13665          INLAND             5.733333                0.961404   \n",
       "14471      NEAR OCEAN             3.817558                1.004801   \n",
       "\n",
       "       population_per_household  \n",
       "6051                   4.318937  \n",
       "20113                  2.550000  \n",
       "14289                  2.057910  \n",
       "13665                  3.154386  \n",
       "14471                  4.323045  "
      ]
     },
     "execution_count": 29,
     "metadata": {},
     "output_type": "execute_result"
    }
   ],
   "source": [
    "X_train.head()"
   ]
  },
  {
   "cell_type": "code",
   "execution_count": 30,
   "metadata": {},
   "outputs": [
    {
     "name": "stdout",
     "output_type": "stream",
     "text": [
      "<class 'pandas.core.frame.DataFrame'>\n",
      "Int64Index: 18576 entries, 6051 to 19966\n",
      "Data columns (total 9 columns):\n",
      " #   Column                    Non-Null Count  Dtype  \n",
      "---  ------                    --------------  -----  \n",
      " 0   longitude                 18576 non-null  float64\n",
      " 1   latitude                  18576 non-null  float64\n",
      " 2   housing_median_age        18576 non-null  float64\n",
      " 3   households                18576 non-null  float64\n",
      " 4   median_income             18576 non-null  float64\n",
      " 5   ocean_proximity           18576 non-null  object \n",
      " 6   rooms_per_household       18576 non-null  float64\n",
      " 7   bedrooms_per_household    18391 non-null  float64\n",
      " 8   population_per_household  18576 non-null  float64\n",
      "dtypes: float64(8), object(1)\n",
      "memory usage: 1.4+ MB\n"
     ]
    }
   ],
   "source": [
    "X_train.info()"
   ]
  },
  {
   "cell_type": "code",
   "execution_count": 31,
   "metadata": {},
   "outputs": [],
   "source": [
    "numeric_features = [ \"longitude\",\n",
    "                     \"latitude\",\n",
    "                     \"housing_median_age\",\n",
    "                     \"households\",\n",
    "                     \"median_income\",\n",
    "                     \"rooms_per_household\",\n",
    "                     \"bedrooms_per_household\",\n",
    "                     \"population_per_household\"]\n",
    "                     \n",
    "categorical_features = [\"ocean_proximity\"]"
   ]
  },
  {
   "cell_type": "markdown",
   "metadata": {},
   "source": [
    "Next, we build a pipeline for our dataset.\n",
    "\n",
    "This means we need to make at least 2 preprocessing pipelines; one for the categorical and one for the numeric features! \n",
    "\n",
    "(If we needed to use the ordinal encoder for binary data or ordinal features then we would need a third or fourth.)"
   ]
  },
  {
   "cell_type": "code",
   "execution_count": 32,
   "metadata": {},
   "outputs": [],
   "source": [
    "numeric_transformer = Pipeline(\n",
    "    steps=[(\"imputer\", SimpleImputer(strategy=\"median\")), \n",
    "           (\"scaler\", StandardScaler())]\n",
    ")\n",
    "\n",
    "categorical_transformer = Pipeline(\n",
    "    steps=[(\"imputer\", SimpleImputer(strategy=\"constant\", fill_value=\"missing\")),\n",
    "           (\"onehot\", OneHotEncoder(handle_unknown=\"ignore\"))]\n",
    ")"
   ]
  },
  {
   "cell_type": "markdown",
   "metadata": {},
   "source": [
    "Next, we can actually make our ColumnTransformer."
   ]
  },
  {
   "cell_type": "code",
   "execution_count": 33,
   "metadata": {},
   "outputs": [],
   "source": [
    "col_transformer = ColumnTransformer(\n",
    "    transformers=[\n",
    "        (\"numeric\", numeric_transformer, numeric_features),\n",
    "        (\"categorical\", categorical_transformer, categorical_features)\n",
    "    ], \n",
    "    remainder='passthrough'    \n",
    ")"
   ]
  },
  {
   "cell_type": "markdown",
   "metadata": {},
   "source": [
    "We call the numeric and categorical features with their respective pipelines (transformers)  in `ColumnTransformer()`.\n",
    "\n",
    "The `ColumnTransformer` syntax is somewhat similar to that of `Pipeline` in that you pass in a list of tuples.\n",
    "\n",
    "But, this time, each tuple has 3 values instead of 2: (name of the step, transformer object, list of columns)\n",
    "\n",
    "A big advantage here is that we build all our transformations together into one object, and that way we're sure we do the same operations to all splits of the data."
   ]
  },
  {
   "cell_type": "markdown",
   "metadata": {},
   "source": [
    "**What does `remainder=\"passthrough\"` do?**\n",
    "\n",
    "The `ColumnTransformer` will automatically remove columns that are not being transformed.\n",
    "- AKA: the default value for `remainder` is `'drop'`.\n",
    "    \n",
    "We can instead set  `remainder=\"passthrough\"` to keep the columns in our feature table which do not need any preprocessing.     \n",
    "\n",
    "We don't have any columns that are being removed for this dataset, but this is important to know if we are only interested in a few features. "
   ]
  },
  {
   "cell_type": "markdown",
   "metadata": {},
   "source": [
    "Now, you'll start to foreshadow that just like we've seen with most syntax in `sklearn` we need to `fit` our ColumnTransformer."
   ]
  },
  {
   "cell_type": "code",
   "execution_count": 34,
   "metadata": {},
   "outputs": [
    {
     "data": {
      "text/plain": [
       "ColumnTransformer(remainder='passthrough',\n",
       "                  transformers=[('numeric',\n",
       "                                 Pipeline(steps=[('imputer',\n",
       "                                                  SimpleImputer(strategy='median')),\n",
       "                                                 ('scaler', StandardScaler())]),\n",
       "                                 ['longitude', 'latitude', 'housing_median_age',\n",
       "                                  'households', 'median_income',\n",
       "                                  'rooms_per_household',\n",
       "                                  'bedrooms_per_household',\n",
       "                                  'population_per_household']),\n",
       "                                ('categorical',\n",
       "                                 Pipeline(steps=[('imputer',\n",
       "                                                  SimpleImputer(fill_value='missing',\n",
       "                                                                strategy='constant')),\n",
       "                                                 ('onehot',\n",
       "                                                  OneHotEncoder(handle_unknown='ignore'))]),\n",
       "                                 ['ocean_proximity'])])"
      ]
     },
     "execution_count": 34,
     "metadata": {},
     "output_type": "execute_result"
    }
   ],
   "source": [
    "col_transformer.fit(X_train)"
   ]
  },
  {
   "cell_type": "markdown",
   "metadata": {},
   "source": [
    "When we `fit` with the `col_transformer`, it calls `fit` on ***all*** the transformers.\n",
    "\n",
    "And when we transform with the preprocessor, it calls `transform` on ***all*** the transformers.\n",
    "\n",
    "How do we access information from this now?\n",
    "Let's say I wanted to see the newly created columns from One-hot-encoding? How do I get those? "
   ]
  },
  {
   "cell_type": "code",
   "execution_count": 35,
   "metadata": {},
   "outputs": [
    {
     "data": {
      "text/plain": [
       "array(['ocean_proximity_<1H OCEAN', 'ocean_proximity_INLAND',\n",
       "       'ocean_proximity_ISLAND', 'ocean_proximity_NEAR BAY',\n",
       "       'ocean_proximity_NEAR OCEAN'], dtype=object)"
      ]
     },
     "execution_count": 35,
     "metadata": {},
     "output_type": "execute_result"
    }
   ],
   "source": [
    "onehot_cols = col_transformer.named_transformers_[\"categorical\"].named_steps[\"onehot\"].get_feature_names(categorical_features)\n",
    "onehot_cols"
   ]
  },
  {
   "cell_type": "markdown",
   "metadata": {},
   "source": [
    "Combining this with the numeric feature names gives us all the column names."
   ]
  },
  {
   "cell_type": "code",
   "execution_count": 36,
   "metadata": {},
   "outputs": [
    {
     "data": {
      "text/plain": [
       "['longitude',\n",
       " 'latitude',\n",
       " 'housing_median_age',\n",
       " 'households',\n",
       " 'median_income',\n",
       " 'rooms_per_household',\n",
       " 'bedrooms_per_household',\n",
       " 'population_per_household',\n",
       " 'ocean_proximity_<1H OCEAN',\n",
       " 'ocean_proximity_INLAND',\n",
       " 'ocean_proximity_ISLAND',\n",
       " 'ocean_proximity_NEAR BAY',\n",
       " 'ocean_proximity_NEAR OCEAN']"
      ]
     },
     "execution_count": 36,
     "metadata": {},
     "output_type": "execute_result"
    }
   ],
   "source": [
    "columns = numeric_features + list(onehot_cols)\n",
    "columns"
   ]
  },
  {
   "cell_type": "markdown",
   "metadata": {},
   "source": [
    "Or we can look at what our X_train looks like after transformation. \n",
    "\n",
    "*(Ignore this code, you'll not have to use it in the future, this is just for learning)*"
   ]
  },
  {
   "cell_type": "code",
   "execution_count": 37,
   "metadata": {},
   "outputs": [
    {
     "data": {
      "text/html": [
       "<div>\n",
       "<style scoped>\n",
       "    .dataframe tbody tr th:only-of-type {\n",
       "        vertical-align: middle;\n",
       "    }\n",
       "\n",
       "    .dataframe tbody tr th {\n",
       "        vertical-align: top;\n",
       "    }\n",
       "\n",
       "    .dataframe thead th {\n",
       "        text-align: right;\n",
       "    }\n",
       "</style>\n",
       "<table border=\"1\" class=\"dataframe\">\n",
       "  <thead>\n",
       "    <tr style=\"text-align: right;\">\n",
       "      <th></th>\n",
       "      <th>longitude</th>\n",
       "      <th>latitude</th>\n",
       "      <th>housing_median_age</th>\n",
       "      <th>households</th>\n",
       "      <th>median_income</th>\n",
       "      <th>rooms_per_household</th>\n",
       "      <th>bedrooms_per_household</th>\n",
       "      <th>population_per_household</th>\n",
       "      <th>ocean_proximity_&lt;1H OCEAN</th>\n",
       "      <th>ocean_proximity_INLAND</th>\n",
       "      <th>ocean_proximity_ISLAND</th>\n",
       "      <th>ocean_proximity_NEAR BAY</th>\n",
       "      <th>ocean_proximity_NEAR OCEAN</th>\n",
       "    </tr>\n",
       "  </thead>\n",
       "  <tbody>\n",
       "    <tr>\n",
       "      <th>0</th>\n",
       "      <td>0.908140</td>\n",
       "      <td>-0.743917</td>\n",
       "      <td>-0.526078</td>\n",
       "      <td>0.266135</td>\n",
       "      <td>-0.389736</td>\n",
       "      <td>-0.210591</td>\n",
       "      <td>-0.083813</td>\n",
       "      <td>0.126398</td>\n",
       "      <td>0.0</td>\n",
       "      <td>1.0</td>\n",
       "      <td>0.0</td>\n",
       "      <td>0.0</td>\n",
       "      <td>0.0</td>\n",
       "    </tr>\n",
       "    <tr>\n",
       "      <th>1</th>\n",
       "      <td>-0.002057</td>\n",
       "      <td>1.083123</td>\n",
       "      <td>-0.923283</td>\n",
       "      <td>-1.253312</td>\n",
       "      <td>-0.198924</td>\n",
       "      <td>4.726412</td>\n",
       "      <td>11.166631</td>\n",
       "      <td>-0.050132</td>\n",
       "      <td>0.0</td>\n",
       "      <td>1.0</td>\n",
       "      <td>0.0</td>\n",
       "      <td>0.0</td>\n",
       "      <td>0.0</td>\n",
       "    </tr>\n",
       "    <tr>\n",
       "      <th>2</th>\n",
       "      <td>1.218207</td>\n",
       "      <td>-1.352930</td>\n",
       "      <td>1.380504</td>\n",
       "      <td>0.542873</td>\n",
       "      <td>-0.635239</td>\n",
       "      <td>-0.273606</td>\n",
       "      <td>-0.025391</td>\n",
       "      <td>-0.099240</td>\n",
       "      <td>0.0</td>\n",
       "      <td>0.0</td>\n",
       "      <td>0.0</td>\n",
       "      <td>0.0</td>\n",
       "      <td>1.0</td>\n",
       "    </tr>\n",
       "    <tr>\n",
       "      <th>3</th>\n",
       "      <td>1.128188</td>\n",
       "      <td>-0.753286</td>\n",
       "      <td>-0.843842</td>\n",
       "      <td>-0.561467</td>\n",
       "      <td>0.714077</td>\n",
       "      <td>0.122307</td>\n",
       "      <td>-0.280310</td>\n",
       "      <td>0.010183</td>\n",
       "      <td>0.0</td>\n",
       "      <td>1.0</td>\n",
       "      <td>0.0</td>\n",
       "      <td>0.0</td>\n",
       "      <td>0.0</td>\n",
       "    </tr>\n",
       "    <tr>\n",
       "      <th>4</th>\n",
       "      <td>1.168196</td>\n",
       "      <td>-1.287344</td>\n",
       "      <td>-0.843842</td>\n",
       "      <td>2.500924</td>\n",
       "      <td>-1.059242</td>\n",
       "      <td>-0.640266</td>\n",
       "      <td>-0.190617</td>\n",
       "      <td>0.126808</td>\n",
       "      <td>0.0</td>\n",
       "      <td>0.0</td>\n",
       "      <td>0.0</td>\n",
       "      <td>0.0</td>\n",
       "      <td>1.0</td>\n",
       "    </tr>\n",
       "  </tbody>\n",
       "</table>\n",
       "</div>"
      ],
      "text/plain": [
       "   longitude  latitude  housing_median_age  households  median_income  \\\n",
       "0   0.908140 -0.743917           -0.526078    0.266135      -0.389736   \n",
       "1  -0.002057  1.083123           -0.923283   -1.253312      -0.198924   \n",
       "2   1.218207 -1.352930            1.380504    0.542873      -0.635239   \n",
       "3   1.128188 -0.753286           -0.843842   -0.561467       0.714077   \n",
       "4   1.168196 -1.287344           -0.843842    2.500924      -1.059242   \n",
       "\n",
       "   rooms_per_household  bedrooms_per_household  population_per_household  \\\n",
       "0            -0.210591               -0.083813                  0.126398   \n",
       "1             4.726412               11.166631                 -0.050132   \n",
       "2            -0.273606               -0.025391                 -0.099240   \n",
       "3             0.122307               -0.280310                  0.010183   \n",
       "4            -0.640266               -0.190617                  0.126808   \n",
       "\n",
       "   ocean_proximity_<1H OCEAN  ocean_proximity_INLAND  ocean_proximity_ISLAND  \\\n",
       "0                        0.0                     1.0                     0.0   \n",
       "1                        0.0                     1.0                     0.0   \n",
       "2                        0.0                     0.0                     0.0   \n",
       "3                        0.0                     1.0                     0.0   \n",
       "4                        0.0                     0.0                     0.0   \n",
       "\n",
       "   ocean_proximity_NEAR BAY  ocean_proximity_NEAR OCEAN  \n",
       "0                       0.0                         0.0  \n",
       "1                       0.0                         0.0  \n",
       "2                       0.0                         1.0  \n",
       "3                       0.0                         0.0  \n",
       "4                       0.0                         1.0  "
      ]
     },
     "execution_count": 37,
     "metadata": {},
     "output_type": "execute_result"
    }
   ],
   "source": [
    "x = list(X_train.columns.values)\n",
    "del x[5]\n",
    "X_train_pp = col_transformer.transform(X_train)\n",
    "pd.DataFrame(X_train_pp, columns= (x  + list(col_transformer.named_transformers_[\"categorical\"].named_steps[\"onehot\"].get_feature_names(categorical_features)))).head()"
   ]
  },
  {
   "cell_type": "markdown",
   "metadata": {},
   "source": [
    "Now let's make a pipeline with our column transformer and a $k$-nn regressor.\n",
    "\n",
    "The first step in this pipeline is our `ColumnTransformer` and the second is our  $k$-nn regressor."
   ]
  },
  {
   "cell_type": "code",
   "execution_count": 38,
   "metadata": {},
   "outputs": [],
   "source": [
    "main_pipe = Pipeline(\n",
    "    steps=[\n",
    "        (\"preprocessor\", col_transformer), # <-- this is the ColumnTransformer!\n",
    "        (\"reg\", KNeighborsRegressor())])"
   ]
  },
  {
   "cell_type": "markdown",
   "metadata": {},
   "source": [
    "We can then use `cross_validate()` and find our mean training and validation scores!"
   ]
  },
  {
   "cell_type": "code",
   "execution_count": 39,
   "metadata": {},
   "outputs": [
    {
     "data": {
      "text/html": [
       "<div>\n",
       "<style scoped>\n",
       "    .dataframe tbody tr th:only-of-type {\n",
       "        vertical-align: middle;\n",
       "    }\n",
       "\n",
       "    .dataframe tbody tr th {\n",
       "        vertical-align: top;\n",
       "    }\n",
       "\n",
       "    .dataframe thead th {\n",
       "        text-align: right;\n",
       "    }\n",
       "</style>\n",
       "<table border=\"1\" class=\"dataframe\">\n",
       "  <thead>\n",
       "    <tr style=\"text-align: right;\">\n",
       "      <th></th>\n",
       "      <th>fit_time</th>\n",
       "      <th>score_time</th>\n",
       "      <th>test_score</th>\n",
       "      <th>train_score</th>\n",
       "    </tr>\n",
       "  </thead>\n",
       "  <tbody>\n",
       "    <tr>\n",
       "      <th>0</th>\n",
       "      <td>0.036617</td>\n",
       "      <td>0.287318</td>\n",
       "      <td>0.695818</td>\n",
       "      <td>0.801659</td>\n",
       "    </tr>\n",
       "    <tr>\n",
       "      <th>1</th>\n",
       "      <td>0.035169</td>\n",
       "      <td>0.277411</td>\n",
       "      <td>0.707483</td>\n",
       "      <td>0.799575</td>\n",
       "    </tr>\n",
       "    <tr>\n",
       "      <th>2</th>\n",
       "      <td>0.032765</td>\n",
       "      <td>0.285914</td>\n",
       "      <td>0.713788</td>\n",
       "      <td>0.795944</td>\n",
       "    </tr>\n",
       "    <tr>\n",
       "      <th>3</th>\n",
       "      <td>0.032263</td>\n",
       "      <td>0.290920</td>\n",
       "      <td>0.686938</td>\n",
       "      <td>0.801232</td>\n",
       "    </tr>\n",
       "    <tr>\n",
       "      <th>4</th>\n",
       "      <td>0.034064</td>\n",
       "      <td>0.228176</td>\n",
       "      <td>0.724608</td>\n",
       "      <td>0.832498</td>\n",
       "    </tr>\n",
       "  </tbody>\n",
       "</table>\n",
       "</div>"
      ],
      "text/plain": [
       "   fit_time  score_time  test_score  train_score\n",
       "0  0.036617    0.287318    0.695818     0.801659\n",
       "1  0.035169    0.277411    0.707483     0.799575\n",
       "2  0.032765    0.285914    0.713788     0.795944\n",
       "3  0.032263    0.290920    0.686938     0.801232\n",
       "4  0.034064    0.228176    0.724608     0.832498"
      ]
     },
     "execution_count": 39,
     "metadata": {},
     "output_type": "execute_result"
    }
   ],
   "source": [
    "with_categorical_scores = cross_validate(main_pipe, X_train, y_train, return_train_score=True)\n",
    "categorical_score = pd.DataFrame(with_categorical_scores)\n",
    "categorical_score"
   ]
  },
  {
   "cell_type": "code",
   "execution_count": 40,
   "metadata": {},
   "outputs": [
    {
     "data": {
      "text/plain": [
       "fit_time       0.034176\n",
       "score_time     0.273948\n",
       "test_score     0.705727\n",
       "train_score    0.806182\n",
       "dtype: float64"
      ]
     },
     "execution_count": 40,
     "metadata": {},
     "output_type": "execute_result"
    }
   ],
   "source": [
    "categorical_score.mean()"
   ]
  },
  {
   "cell_type": "markdown",
   "metadata": {},
   "source": [
    "In lecture 4, when we did not include this column, we obtain training and test scores of test_score  0.692972 and   0.797033 respectively so we can see a small increase. \n",
    "\n",
    "if we had more columns, we could improve our scores in a much more substantial way instead of throwing the information away which is what we have been doing!\n",
    "\n",
    "There are a lot of steps happening in `ColumnTransformer`, we can use `set_config` from sklearn and it will display a diagram of what is going on in our main pipeline. "
   ]
  },
  {
   "cell_type": "code",
   "execution_count": 41,
   "metadata": {},
   "outputs": [
    {
     "data": {
      "text/html": [
       "<style>div.sk-top-container {color: black;background-color: white;}div.sk-toggleable {background-color: white;}label.sk-toggleable__label {cursor: pointer;display: block;width: 100%;margin-bottom: 0;padding: 0.2em 0.3em;box-sizing: border-box;text-align: center;}div.sk-toggleable__content {max-height: 0;max-width: 0;overflow: hidden;text-align: left;background-color: #f0f8ff;}div.sk-toggleable__content pre {margin: 0.2em;color: black;border-radius: 0.25em;background-color: #f0f8ff;}input.sk-toggleable__control:checked~div.sk-toggleable__content {max-height: 200px;max-width: 100%;overflow: auto;}div.sk-estimator input.sk-toggleable__control:checked~label.sk-toggleable__label {background-color: #d4ebff;}div.sk-label input.sk-toggleable__control:checked~label.sk-toggleable__label {background-color: #d4ebff;}input.sk-hidden--visually {border: 0;clip: rect(1px 1px 1px 1px);clip: rect(1px, 1px, 1px, 1px);height: 1px;margin: -1px;overflow: hidden;padding: 0;position: absolute;width: 1px;}div.sk-estimator {font-family: monospace;background-color: #f0f8ff;margin: 0.25em 0.25em;border: 1px dotted black;border-radius: 0.25em;box-sizing: border-box;}div.sk-estimator:hover {background-color: #d4ebff;}div.sk-parallel-item::after {content: \"\";width: 100%;border-bottom: 1px solid gray;flex-grow: 1;}div.sk-label:hover label.sk-toggleable__label {background-color: #d4ebff;}div.sk-serial::before {content: \"\";position: absolute;border-left: 1px solid gray;box-sizing: border-box;top: 2em;bottom: 0;left: 50%;}div.sk-serial {display: flex;flex-direction: column;align-items: center;background-color: white;}div.sk-item {z-index: 1;}div.sk-parallel {display: flex;align-items: stretch;justify-content: center;background-color: white;}div.sk-parallel-item {display: flex;flex-direction: column;position: relative;background-color: white;}div.sk-parallel-item:first-child::after {align-self: flex-end;width: 50%;}div.sk-parallel-item:last-child::after {align-self: flex-start;width: 50%;}div.sk-parallel-item:only-child::after {width: 0;}div.sk-dashed-wrapped {border: 1px dashed gray;margin: 0.2em;box-sizing: border-box;padding-bottom: 0.1em;background-color: white;position: relative;}div.sk-label label {font-family: monospace;font-weight: bold;background-color: white;display: inline-block;line-height: 1.2em;}div.sk-label-container {position: relative;z-index: 2;text-align: center;}div.sk-container {display: inline-block;position: relative;}</style><div class=\"sk-top-container\"><div class=\"sk-container\"><div class=\"sk-item sk-dashed-wrapped\"><div class=\"sk-label-container\"><div class=\"sk-label sk-toggleable\"><input class=\"sk-toggleable__control sk-hidden--visually\" id=\"b03df1bf-eb6c-41bc-8c4b-bd761cc04035\" type=\"checkbox\" ><label class=\"sk-toggleable__label\" for=\"b03df1bf-eb6c-41bc-8c4b-bd761cc04035\">Pipeline</label><div class=\"sk-toggleable__content\"><pre>Pipeline(steps=[('preprocessor',\n",
       "                 ColumnTransformer(remainder='passthrough',\n",
       "                                   transformers=[('numeric',\n",
       "                                                  Pipeline(steps=[('imputer',\n",
       "                                                                   SimpleImputer(strategy='median')),\n",
       "                                                                  ('scaler',\n",
       "                                                                   StandardScaler())]),\n",
       "                                                  ['longitude', 'latitude',\n",
       "                                                   'housing_median_age',\n",
       "                                                   'households',\n",
       "                                                   'median_income',\n",
       "                                                   'rooms_per_household',\n",
       "                                                   'bedrooms_per_household',\n",
       "                                                   'population_per_household']),\n",
       "                                                 ('categorical',\n",
       "                                                  Pipeline(steps=[('imputer',\n",
       "                                                                   SimpleImputer(fill_value='missing',\n",
       "                                                                                 strategy='constant')),\n",
       "                                                                  ('onehot',\n",
       "                                                                   OneHotEncoder(handle_unknown='ignore'))]),\n",
       "                                                  ['ocean_proximity'])])),\n",
       "                ('reg', KNeighborsRegressor())])</pre></div></div></div><div class=\"sk-serial\"><div class=\"sk-item sk-dashed-wrapped\"><div class=\"sk-label-container\"><div class=\"sk-label sk-toggleable\"><input class=\"sk-toggleable__control sk-hidden--visually\" id=\"5b8c15e6-488d-4ad3-ae2c-a9189b65a0bc\" type=\"checkbox\" ><label class=\"sk-toggleable__label\" for=\"5b8c15e6-488d-4ad3-ae2c-a9189b65a0bc\">preprocessor: ColumnTransformer</label><div class=\"sk-toggleable__content\"><pre>ColumnTransformer(remainder='passthrough',\n",
       "                  transformers=[('numeric',\n",
       "                                 Pipeline(steps=[('imputer',\n",
       "                                                  SimpleImputer(strategy='median')),\n",
       "                                                 ('scaler', StandardScaler())]),\n",
       "                                 ['longitude', 'latitude', 'housing_median_age',\n",
       "                                  'households', 'median_income',\n",
       "                                  'rooms_per_household',\n",
       "                                  'bedrooms_per_household',\n",
       "                                  'population_per_household']),\n",
       "                                ('categorical',\n",
       "                                 Pipeline(steps=[('imputer',\n",
       "                                                  SimpleImputer(fill_value='missing',\n",
       "                                                                strategy='constant')),\n",
       "                                                 ('onehot',\n",
       "                                                  OneHotEncoder(handle_unknown='ignore'))]),\n",
       "                                 ['ocean_proximity'])])</pre></div></div></div><div class=\"sk-parallel\"><div class=\"sk-parallel-item\"><div class=\"sk-item\"><div class=\"sk-label-container\"><div class=\"sk-label sk-toggleable\"><input class=\"sk-toggleable__control sk-hidden--visually\" id=\"99204708-8e5b-4f4d-aa3d-8f5b813f0766\" type=\"checkbox\" ><label class=\"sk-toggleable__label\" for=\"99204708-8e5b-4f4d-aa3d-8f5b813f0766\">numeric</label><div class=\"sk-toggleable__content\"><pre>['longitude', 'latitude', 'housing_median_age', 'households', 'median_income', 'rooms_per_household', 'bedrooms_per_household', 'population_per_household']</pre></div></div></div><div class=\"sk-serial\"><div class=\"sk-item\"><div class=\"sk-serial\"><div class=\"sk-item\"><div class=\"sk-estimator sk-toggleable\"><input class=\"sk-toggleable__control sk-hidden--visually\" id=\"59c642e7-5a8f-4938-8ba9-16e7312e8448\" type=\"checkbox\" ><label class=\"sk-toggleable__label\" for=\"59c642e7-5a8f-4938-8ba9-16e7312e8448\">SimpleImputer</label><div class=\"sk-toggleable__content\"><pre>SimpleImputer(strategy='median')</pre></div></div></div><div class=\"sk-item\"><div class=\"sk-estimator sk-toggleable\"><input class=\"sk-toggleable__control sk-hidden--visually\" id=\"21b4f3f1-bd83-4a1e-bb61-1b1aff71de56\" type=\"checkbox\" ><label class=\"sk-toggleable__label\" for=\"21b4f3f1-bd83-4a1e-bb61-1b1aff71de56\">StandardScaler</label><div class=\"sk-toggleable__content\"><pre>StandardScaler()</pre></div></div></div></div></div></div></div></div><div class=\"sk-parallel-item\"><div class=\"sk-item\"><div class=\"sk-label-container\"><div class=\"sk-label sk-toggleable\"><input class=\"sk-toggleable__control sk-hidden--visually\" id=\"21378e29-bb85-4dc7-b258-775a5c5f8a83\" type=\"checkbox\" ><label class=\"sk-toggleable__label\" for=\"21378e29-bb85-4dc7-b258-775a5c5f8a83\">categorical</label><div class=\"sk-toggleable__content\"><pre>['ocean_proximity']</pre></div></div></div><div class=\"sk-serial\"><div class=\"sk-item\"><div class=\"sk-serial\"><div class=\"sk-item\"><div class=\"sk-estimator sk-toggleable\"><input class=\"sk-toggleable__control sk-hidden--visually\" id=\"9826d67c-b9a6-4996-914d-c02d9dbb6a8b\" type=\"checkbox\" ><label class=\"sk-toggleable__label\" for=\"9826d67c-b9a6-4996-914d-c02d9dbb6a8b\">SimpleImputer</label><div class=\"sk-toggleable__content\"><pre>SimpleImputer(fill_value='missing', strategy='constant')</pre></div></div></div><div class=\"sk-item\"><div class=\"sk-estimator sk-toggleable\"><input class=\"sk-toggleable__control sk-hidden--visually\" id=\"735fbeab-1e24-410b-af5d-d5f6614ff13b\" type=\"checkbox\" ><label class=\"sk-toggleable__label\" for=\"735fbeab-1e24-410b-af5d-d5f6614ff13b\">OneHotEncoder</label><div class=\"sk-toggleable__content\"><pre>OneHotEncoder(handle_unknown='ignore')</pre></div></div></div></div></div></div></div></div></div></div><div class=\"sk-item\"><div class=\"sk-estimator sk-toggleable\"><input class=\"sk-toggleable__control sk-hidden--visually\" id=\"5801cd15-2901-4af9-8816-b62c4b279a3a\" type=\"checkbox\" ><label class=\"sk-toggleable__label\" for=\"5801cd15-2901-4af9-8816-b62c4b279a3a\">KNeighborsRegressor</label><div class=\"sk-toggleable__content\"><pre>KNeighborsRegressor()</pre></div></div></div></div></div></div></div>"
      ],
      "text/plain": [
       "Pipeline(steps=[('preprocessor',\n",
       "                 ColumnTransformer(remainder='passthrough',\n",
       "                                   transformers=[('numeric',\n",
       "                                                  Pipeline(steps=[('imputer',\n",
       "                                                                   SimpleImputer(strategy='median')),\n",
       "                                                                  ('scaler',\n",
       "                                                                   StandardScaler())]),\n",
       "                                                  ['longitude', 'latitude',\n",
       "                                                   'housing_median_age',\n",
       "                                                   'households',\n",
       "                                                   'median_income',\n",
       "                                                   'rooms_per_household',\n",
       "                                                   'bedrooms_per_household',\n",
       "                                                   'population_per_household']),\n",
       "                                                 ('categorical',\n",
       "                                                  Pipeline(steps=[('imputer',\n",
       "                                                                   SimpleImputer(fill_value='missing',\n",
       "                                                                                 strategy='constant')),\n",
       "                                                                  ('onehot',\n",
       "                                                                   OneHotEncoder(handle_unknown='ignore'))]),\n",
       "                                                  ['ocean_proximity'])])),\n",
       "                ('reg', KNeighborsRegressor())])"
      ]
     },
     "execution_count": 41,
     "metadata": {},
     "output_type": "execute_result"
    }
   ],
   "source": [
    "from sklearn import set_config\n",
    "set_config(display='diagram')\n",
    "main_pipe"
   ]
  },
  {
   "cell_type": "code",
   "execution_count": 64,
   "metadata": {},
   "outputs": [
    {
     "name": "stdout",
     "output_type": "stream",
     "text": [
      "Pipeline(steps=[('preprocessor',\n",
      "                 ColumnTransformer(remainder='passthrough',\n",
      "                                   transformers=[('numeric',\n",
      "                                                  Pipeline(steps=[('imputer',\n",
      "                                                                   SimpleImputer(strategy='median')),\n",
      "                                                                  ('scaler',\n",
      "                                                                   StandardScaler())]),\n",
      "                                                  ['longitude', 'latitude',\n",
      "                                                   'housing_median_age',\n",
      "                                                   'households',\n",
      "                                                   'median_income',\n",
      "                                                   'rooms_per_household',\n",
      "                                                   'bedrooms_per_household',\n",
      "                                                   'population_per_household']),\n",
      "                                                 ('categorical',\n",
      "                                                  Pipeline(steps=[('imputer',\n",
      "                                                                   SimpleImputer(fill_value='missing',\n",
      "                                                                                 strategy='constant')),\n",
      "                                                                  ('onehot',\n",
      "                                                                   OneHotEncoder(handle_unknown='ignore'))]),\n",
      "                                                  ['ocean_proximity'])])),\n",
      "                ('reg', KNeighborsRegressor())])\n"
     ]
    }
   ],
   "source": [
    "print(main_pipe)"
   ]
  },
  {
   "cell_type": "markdown",
   "metadata": {},
   "source": [
    "We can also look at this image which shows the more generic version of what happens in `ColumnTransformer` and where it stands in our main pipeline."
   ]
  },
  {
   "cell_type": "markdown",
   "metadata": {},
   "source": [
    "<center><img src=\"imgs/pipeline.png\"  width = \"90%\" alt=\"404 image\" /></center>"
   ]
  },
  {
   "cell_type": "markdown",
   "metadata": {},
   "source": [
    "#### Do we need to preprocess categorical values in the target column?\n",
    "\n",
    "- Generally, there is no need for this when doing classification. \n",
    "- `sklearn` is fine with categorical labels (y-values) for classification problems. "
   ]
  },
  {
   "cell_type": "markdown",
   "metadata": {},
   "source": [
    "## Make Syntax"
   ]
  },
  {
   "cell_type": "markdown",
   "metadata": {},
   "source": [
    "When we looked at our California housing dataset we had the following pipelines, ColumnTransformer and main pipeline with our model. "
   ]
  },
  {
   "cell_type": "code",
   "execution_count": 57,
   "metadata": {},
   "outputs": [],
   "source": [
    "numeric_transformer = Pipeline(\n",
    "    steps=[(\"imputer\", SimpleImputer(strategy=\"median\")), \n",
    "           (\"scaler\", StandardScaler())]\n",
    ")\n",
    "\n",
    "categorical_transformer = Pipeline(\n",
    "    steps=[(\"imputer\", SimpleImputer(strategy=\"constant\", fill_value=\"missing\")),\n",
    "           (\"onehot\", OneHotEncoder(handle_unknown=\"ignore\"))]\n",
    ")\n",
    "\n",
    "col_transformer = ColumnTransformer(\n",
    "    transformers=[\n",
    "        (\"numeric\", numeric_transformer, numeric_features),\n",
    "        (\"categorical\", categorical_transformer, categorical_features)\n",
    "    ], \n",
    "    remainder='passthrough'    \n",
    ")\n",
    "\n",
    "main_pipe = Pipeline(\n",
    "    steps=[\n",
    "        (\"preprocessor\", col_transformer), \n",
    "        (\"reg\", KNeighborsRegressor())])"
   ]
  },
  {
   "cell_type": "markdown",
   "metadata": {},
   "source": [
    "This seems great but it seems quite a lot. \n",
    "\n",
    "Well, luckily there is another method and tool that helps make our life easier.\n",
    "\n",
    "It's call `make_pipeline` and `make_column_transformer`."
   ]
  },
  {
   "cell_type": "code",
   "execution_count": 43,
   "metadata": {},
   "outputs": [],
   "source": [
    "from sklearn.pipeline import make_pipeline"
   ]
  },
  {
   "cell_type": "code",
   "execution_count": 44,
   "metadata": {},
   "outputs": [],
   "source": [
    "from sklearn.compose import make_column_transformer"
   ]
  },
  {
   "cell_type": "markdown",
   "metadata": {},
   "source": [
    "### `make_pipeline`\n",
    "\n",
    "We can shorten our code when we use `Pipeline` from this: "
   ]
  },
  {
   "cell_type": "code",
   "execution_count": 45,
   "metadata": {},
   "outputs": [],
   "source": [
    "model_pipeline = Pipeline(\n",
    "    steps=[\n",
    "        (\"scaling\", StandardScaler()),\n",
    "        (\"reg\", SVR())])"
   ]
  },
  {
   "cell_type": "code",
   "execution_count": 46,
   "metadata": {},
   "outputs": [
    {
     "data": {
      "text/html": [
       "<style>div.sk-top-container {color: black;background-color: white;}div.sk-toggleable {background-color: white;}label.sk-toggleable__label {cursor: pointer;display: block;width: 100%;margin-bottom: 0;padding: 0.2em 0.3em;box-sizing: border-box;text-align: center;}div.sk-toggleable__content {max-height: 0;max-width: 0;overflow: hidden;text-align: left;background-color: #f0f8ff;}div.sk-toggleable__content pre {margin: 0.2em;color: black;border-radius: 0.25em;background-color: #f0f8ff;}input.sk-toggleable__control:checked~div.sk-toggleable__content {max-height: 200px;max-width: 100%;overflow: auto;}div.sk-estimator input.sk-toggleable__control:checked~label.sk-toggleable__label {background-color: #d4ebff;}div.sk-label input.sk-toggleable__control:checked~label.sk-toggleable__label {background-color: #d4ebff;}input.sk-hidden--visually {border: 0;clip: rect(1px 1px 1px 1px);clip: rect(1px, 1px, 1px, 1px);height: 1px;margin: -1px;overflow: hidden;padding: 0;position: absolute;width: 1px;}div.sk-estimator {font-family: monospace;background-color: #f0f8ff;margin: 0.25em 0.25em;border: 1px dotted black;border-radius: 0.25em;box-sizing: border-box;}div.sk-estimator:hover {background-color: #d4ebff;}div.sk-parallel-item::after {content: \"\";width: 100%;border-bottom: 1px solid gray;flex-grow: 1;}div.sk-label:hover label.sk-toggleable__label {background-color: #d4ebff;}div.sk-serial::before {content: \"\";position: absolute;border-left: 1px solid gray;box-sizing: border-box;top: 2em;bottom: 0;left: 50%;}div.sk-serial {display: flex;flex-direction: column;align-items: center;background-color: white;}div.sk-item {z-index: 1;}div.sk-parallel {display: flex;align-items: stretch;justify-content: center;background-color: white;}div.sk-parallel-item {display: flex;flex-direction: column;position: relative;background-color: white;}div.sk-parallel-item:first-child::after {align-self: flex-end;width: 50%;}div.sk-parallel-item:last-child::after {align-self: flex-start;width: 50%;}div.sk-parallel-item:only-child::after {width: 0;}div.sk-dashed-wrapped {border: 1px dashed gray;margin: 0.2em;box-sizing: border-box;padding-bottom: 0.1em;background-color: white;position: relative;}div.sk-label label {font-family: monospace;font-weight: bold;background-color: white;display: inline-block;line-height: 1.2em;}div.sk-label-container {position: relative;z-index: 2;text-align: center;}div.sk-container {display: inline-block;position: relative;}</style><div class=\"sk-top-container\"><div class=\"sk-container\"><div class=\"sk-item sk-dashed-wrapped\"><div class=\"sk-label-container\"><div class=\"sk-label sk-toggleable\"><input class=\"sk-toggleable__control sk-hidden--visually\" id=\"9eda3a87-4587-4fcd-a8f6-d65173425b36\" type=\"checkbox\" ><label class=\"sk-toggleable__label\" for=\"9eda3a87-4587-4fcd-a8f6-d65173425b36\">Pipeline</label><div class=\"sk-toggleable__content\"><pre>Pipeline(steps=[('scaling', StandardScaler()), ('reg', SVR())])</pre></div></div></div><div class=\"sk-serial\"><div class=\"sk-item\"><div class=\"sk-estimator sk-toggleable\"><input class=\"sk-toggleable__control sk-hidden--visually\" id=\"e2a6c82f-cd28-4d94-a7d4-0a2f16e5704a\" type=\"checkbox\" ><label class=\"sk-toggleable__label\" for=\"e2a6c82f-cd28-4d94-a7d4-0a2f16e5704a\">StandardScaler</label><div class=\"sk-toggleable__content\"><pre>StandardScaler()</pre></div></div></div><div class=\"sk-item\"><div class=\"sk-estimator sk-toggleable\"><input class=\"sk-toggleable__control sk-hidden--visually\" id=\"28c57a78-6341-4019-89d9-7a1894f2b5dc\" type=\"checkbox\" ><label class=\"sk-toggleable__label\" for=\"28c57a78-6341-4019-89d9-7a1894f2b5dc\">SVR</label><div class=\"sk-toggleable__content\"><pre>SVR()</pre></div></div></div></div></div></div></div>"
      ],
      "text/plain": [
       "Pipeline(steps=[('scaling', StandardScaler()), ('reg', SVR())])"
      ]
     },
     "execution_count": 46,
     "metadata": {},
     "output_type": "execute_result"
    }
   ],
   "source": [
    "model_pipeline"
   ]
  },
  {
   "cell_type": "code",
   "execution_count": 65,
   "metadata": {},
   "outputs": [
    {
     "name": "stdout",
     "output_type": "stream",
     "text": [
      "Pipeline(steps=[('standardscaler', StandardScaler()), ('svr', SVR())])\n"
     ]
    }
   ],
   "source": [
    "print(model_pipeline)"
   ]
  },
  {
   "cell_type": "markdown",
   "metadata": {},
   "source": [
    "to this: "
   ]
  },
  {
   "cell_type": "code",
   "execution_count": 47,
   "metadata": {},
   "outputs": [],
   "source": [
    "model_pipeline = make_pipeline(\n",
    "            StandardScaler(), SVR())"
   ]
  },
  {
   "cell_type": "code",
   "execution_count": 48,
   "metadata": {},
   "outputs": [
    {
     "data": {
      "text/html": [
       "<style>div.sk-top-container {color: black;background-color: white;}div.sk-toggleable {background-color: white;}label.sk-toggleable__label {cursor: pointer;display: block;width: 100%;margin-bottom: 0;padding: 0.2em 0.3em;box-sizing: border-box;text-align: center;}div.sk-toggleable__content {max-height: 0;max-width: 0;overflow: hidden;text-align: left;background-color: #f0f8ff;}div.sk-toggleable__content pre {margin: 0.2em;color: black;border-radius: 0.25em;background-color: #f0f8ff;}input.sk-toggleable__control:checked~div.sk-toggleable__content {max-height: 200px;max-width: 100%;overflow: auto;}div.sk-estimator input.sk-toggleable__control:checked~label.sk-toggleable__label {background-color: #d4ebff;}div.sk-label input.sk-toggleable__control:checked~label.sk-toggleable__label {background-color: #d4ebff;}input.sk-hidden--visually {border: 0;clip: rect(1px 1px 1px 1px);clip: rect(1px, 1px, 1px, 1px);height: 1px;margin: -1px;overflow: hidden;padding: 0;position: absolute;width: 1px;}div.sk-estimator {font-family: monospace;background-color: #f0f8ff;margin: 0.25em 0.25em;border: 1px dotted black;border-radius: 0.25em;box-sizing: border-box;}div.sk-estimator:hover {background-color: #d4ebff;}div.sk-parallel-item::after {content: \"\";width: 100%;border-bottom: 1px solid gray;flex-grow: 1;}div.sk-label:hover label.sk-toggleable__label {background-color: #d4ebff;}div.sk-serial::before {content: \"\";position: absolute;border-left: 1px solid gray;box-sizing: border-box;top: 2em;bottom: 0;left: 50%;}div.sk-serial {display: flex;flex-direction: column;align-items: center;background-color: white;}div.sk-item {z-index: 1;}div.sk-parallel {display: flex;align-items: stretch;justify-content: center;background-color: white;}div.sk-parallel-item {display: flex;flex-direction: column;position: relative;background-color: white;}div.sk-parallel-item:first-child::after {align-self: flex-end;width: 50%;}div.sk-parallel-item:last-child::after {align-self: flex-start;width: 50%;}div.sk-parallel-item:only-child::after {width: 0;}div.sk-dashed-wrapped {border: 1px dashed gray;margin: 0.2em;box-sizing: border-box;padding-bottom: 0.1em;background-color: white;position: relative;}div.sk-label label {font-family: monospace;font-weight: bold;background-color: white;display: inline-block;line-height: 1.2em;}div.sk-label-container {position: relative;z-index: 2;text-align: center;}div.sk-container {display: inline-block;position: relative;}</style><div class=\"sk-top-container\"><div class=\"sk-container\"><div class=\"sk-item sk-dashed-wrapped\"><div class=\"sk-label-container\"><div class=\"sk-label sk-toggleable\"><input class=\"sk-toggleable__control sk-hidden--visually\" id=\"f399270a-a789-4153-8774-cf295be3ebe7\" type=\"checkbox\" ><label class=\"sk-toggleable__label\" for=\"f399270a-a789-4153-8774-cf295be3ebe7\">Pipeline</label><div class=\"sk-toggleable__content\"><pre>Pipeline(steps=[('standardscaler', StandardScaler()), ('svr', SVR())])</pre></div></div></div><div class=\"sk-serial\"><div class=\"sk-item\"><div class=\"sk-estimator sk-toggleable\"><input class=\"sk-toggleable__control sk-hidden--visually\" id=\"443c07bf-da71-4b26-a567-eeb46201863b\" type=\"checkbox\" ><label class=\"sk-toggleable__label\" for=\"443c07bf-da71-4b26-a567-eeb46201863b\">StandardScaler</label><div class=\"sk-toggleable__content\"><pre>StandardScaler()</pre></div></div></div><div class=\"sk-item\"><div class=\"sk-estimator sk-toggleable\"><input class=\"sk-toggleable__control sk-hidden--visually\" id=\"f3248eef-e4ae-4308-b64a-ca5a9faef2bd\" type=\"checkbox\" ><label class=\"sk-toggleable__label\" for=\"f3248eef-e4ae-4308-b64a-ca5a9faef2bd\">SVR</label><div class=\"sk-toggleable__content\"><pre>SVR()</pre></div></div></div></div></div></div></div>"
      ],
      "text/plain": [
       "Pipeline(steps=[('standardscaler', StandardScaler()), ('svr', SVR())])"
      ]
     },
     "execution_count": 48,
     "metadata": {},
     "output_type": "execute_result"
    }
   ],
   "source": [
    "model_pipeline"
   ]
  },
  {
   "cell_type": "code",
   "execution_count": 66,
   "metadata": {},
   "outputs": [
    {
     "name": "stdout",
     "output_type": "stream",
     "text": [
      "Pipeline(steps=[('standardscaler', StandardScaler()), ('svr', SVR())])\n"
     ]
    }
   ],
   "source": [
    "print(model_pipeline)"
   ]
  },
  {
   "cell_type": "markdown",
   "metadata": {},
   "source": [
    "`make_pipeline()` is a shorthand for the `Pipeline()` constructor and does not permit, naming the steps.\n",
    "\n",
    "Instead, their names will be set to the lowercase of their types automatically.\n",
    "\n",
    "Now let's adjust our code for our numeric and categoric pipelines for this data using `make_pipeline` instead of `Pipeline()`. "
   ]
  },
  {
   "cell_type": "code",
   "execution_count": 52,
   "metadata": {},
   "outputs": [],
   "source": [
    "numeric_transformer = make_pipeline(SimpleImputer(strategy=\"median\"),\n",
    "                                    StandardScaler())\n",
    "\n",
    "categorical_transformer = make_pipeline(\n",
    "    SimpleImputer(strategy=\"constant\", fill_value=\"missing\"),\n",
    "    OneHotEncoder()\n",
    ")\n",
    "\n",
    "preprocessor = ColumnTransformer(\n",
    "    transformers=[\n",
    "        (\"num\", numeric_transformer, numeric_features),\n",
    "        (\"cat\", categorical_transformer, categorical_features)\n",
    "    ]\n",
    ")\n",
    "\n",
    "pipe = make_pipeline(preprocessor, SVR())"
   ]
  },
  {
   "cell_type": "markdown",
   "metadata": {},
   "source": [
    "Look how much less effort our pipeline took!\n",
    "\n",
    "Our `ColumnTransformer` may still have the same syntax but guess what?! We have a solution for that too! "
   ]
  },
  {
   "cell_type": "markdown",
   "metadata": {},
   "source": [
    "## *make_column_transformer* syntax\n",
    "\n",
    "Just like `make_pipeline()`,  we can make our column transformer with `make_column_transformer()`.\n",
    "\n",
    "This eliminates the need to designate names for the numeric and categorical transformations. \n",
    "\n",
    "Our code goes from this: "
   ]
  },
  {
   "cell_type": "code",
   "execution_count": 70,
   "metadata": {},
   "outputs": [],
   "source": [
    "preprocessor = ColumnTransformer(\n",
    "    transformers=[\n",
    "        (\"num\", numeric_transformer, numeric_features),\n",
    "        (\"cat\", categorical_transformer, categorical_features) ]\n",
    ")"
   ]
  },
  {
   "cell_type": "code",
   "execution_count": 71,
   "metadata": {},
   "outputs": [
    {
     "data": {
      "text/html": [
       "<style>div.sk-top-container {color: black;background-color: white;}div.sk-toggleable {background-color: white;}label.sk-toggleable__label {cursor: pointer;display: block;width: 100%;margin-bottom: 0;padding: 0.2em 0.3em;box-sizing: border-box;text-align: center;}div.sk-toggleable__content {max-height: 0;max-width: 0;overflow: hidden;text-align: left;background-color: #f0f8ff;}div.sk-toggleable__content pre {margin: 0.2em;color: black;border-radius: 0.25em;background-color: #f0f8ff;}input.sk-toggleable__control:checked~div.sk-toggleable__content {max-height: 200px;max-width: 100%;overflow: auto;}div.sk-estimator input.sk-toggleable__control:checked~label.sk-toggleable__label {background-color: #d4ebff;}div.sk-label input.sk-toggleable__control:checked~label.sk-toggleable__label {background-color: #d4ebff;}input.sk-hidden--visually {border: 0;clip: rect(1px 1px 1px 1px);clip: rect(1px, 1px, 1px, 1px);height: 1px;margin: -1px;overflow: hidden;padding: 0;position: absolute;width: 1px;}div.sk-estimator {font-family: monospace;background-color: #f0f8ff;margin: 0.25em 0.25em;border: 1px dotted black;border-radius: 0.25em;box-sizing: border-box;}div.sk-estimator:hover {background-color: #d4ebff;}div.sk-parallel-item::after {content: \"\";width: 100%;border-bottom: 1px solid gray;flex-grow: 1;}div.sk-label:hover label.sk-toggleable__label {background-color: #d4ebff;}div.sk-serial::before {content: \"\";position: absolute;border-left: 1px solid gray;box-sizing: border-box;top: 2em;bottom: 0;left: 50%;}div.sk-serial {display: flex;flex-direction: column;align-items: center;background-color: white;}div.sk-item {z-index: 1;}div.sk-parallel {display: flex;align-items: stretch;justify-content: center;background-color: white;}div.sk-parallel-item {display: flex;flex-direction: column;position: relative;background-color: white;}div.sk-parallel-item:first-child::after {align-self: flex-end;width: 50%;}div.sk-parallel-item:last-child::after {align-self: flex-start;width: 50%;}div.sk-parallel-item:only-child::after {width: 0;}div.sk-dashed-wrapped {border: 1px dashed gray;margin: 0.2em;box-sizing: border-box;padding-bottom: 0.1em;background-color: white;position: relative;}div.sk-label label {font-family: monospace;font-weight: bold;background-color: white;display: inline-block;line-height: 1.2em;}div.sk-label-container {position: relative;z-index: 2;text-align: center;}div.sk-container {display: inline-block;position: relative;}</style><div class=\"sk-top-container\"><div class=\"sk-container\"><div class=\"sk-item sk-dashed-wrapped\"><div class=\"sk-label-container\"><div class=\"sk-label sk-toggleable\"><input class=\"sk-toggleable__control sk-hidden--visually\" id=\"d4babc9c-8d15-4b43-ada6-e84fed12eb00\" type=\"checkbox\" ><label class=\"sk-toggleable__label\" for=\"d4babc9c-8d15-4b43-ada6-e84fed12eb00\">ColumnTransformer</label><div class=\"sk-toggleable__content\"><pre>ColumnTransformer(transformers=[('num',\n",
       "                                 Pipeline(steps=[('simpleimputer',\n",
       "                                                  SimpleImputer(strategy='median')),\n",
       "                                                 ('standardscaler',\n",
       "                                                  StandardScaler())]),\n",
       "                                 ['longitude', 'latitude', 'housing_median_age',\n",
       "                                  'households', 'median_income',\n",
       "                                  'rooms_per_household',\n",
       "                                  'bedrooms_per_household',\n",
       "                                  'population_per_household']),\n",
       "                                ('cat',\n",
       "                                 Pipeline(steps=[('simpleimputer',\n",
       "                                                  SimpleImputer(fill_value='missing',\n",
       "                                                                strategy='constant')),\n",
       "                                                 ('onehotencoder',\n",
       "                                                  OneHotEncoder())]),\n",
       "                                 ['ocean_proximity'])])</pre></div></div></div><div class=\"sk-parallel\"><div class=\"sk-parallel-item\"><div class=\"sk-item\"><div class=\"sk-label-container\"><div class=\"sk-label sk-toggleable\"><input class=\"sk-toggleable__control sk-hidden--visually\" id=\"f0b9e775-619b-40a5-b993-58c3e2bbbcbd\" type=\"checkbox\" ><label class=\"sk-toggleable__label\" for=\"f0b9e775-619b-40a5-b993-58c3e2bbbcbd\">num</label><div class=\"sk-toggleable__content\"><pre>['longitude', 'latitude', 'housing_median_age', 'households', 'median_income', 'rooms_per_household', 'bedrooms_per_household', 'population_per_household']</pre></div></div></div><div class=\"sk-serial\"><div class=\"sk-item\"><div class=\"sk-serial\"><div class=\"sk-item\"><div class=\"sk-estimator sk-toggleable\"><input class=\"sk-toggleable__control sk-hidden--visually\" id=\"d32b2188-629f-4e85-a1cf-0caac12eff80\" type=\"checkbox\" ><label class=\"sk-toggleable__label\" for=\"d32b2188-629f-4e85-a1cf-0caac12eff80\">SimpleImputer</label><div class=\"sk-toggleable__content\"><pre>SimpleImputer(strategy='median')</pre></div></div></div><div class=\"sk-item\"><div class=\"sk-estimator sk-toggleable\"><input class=\"sk-toggleable__control sk-hidden--visually\" id=\"d355adbc-6121-40e8-8898-5b2aa6469c3c\" type=\"checkbox\" ><label class=\"sk-toggleable__label\" for=\"d355adbc-6121-40e8-8898-5b2aa6469c3c\">StandardScaler</label><div class=\"sk-toggleable__content\"><pre>StandardScaler()</pre></div></div></div></div></div></div></div></div><div class=\"sk-parallel-item\"><div class=\"sk-item\"><div class=\"sk-label-container\"><div class=\"sk-label sk-toggleable\"><input class=\"sk-toggleable__control sk-hidden--visually\" id=\"572157f2-908a-4f59-abff-6fd8a39aea00\" type=\"checkbox\" ><label class=\"sk-toggleable__label\" for=\"572157f2-908a-4f59-abff-6fd8a39aea00\">cat</label><div class=\"sk-toggleable__content\"><pre>['ocean_proximity']</pre></div></div></div><div class=\"sk-serial\"><div class=\"sk-item\"><div class=\"sk-serial\"><div class=\"sk-item\"><div class=\"sk-estimator sk-toggleable\"><input class=\"sk-toggleable__control sk-hidden--visually\" id=\"a66b81c9-cee6-460d-88b1-e2240dbac9c9\" type=\"checkbox\" ><label class=\"sk-toggleable__label\" for=\"a66b81c9-cee6-460d-88b1-e2240dbac9c9\">SimpleImputer</label><div class=\"sk-toggleable__content\"><pre>SimpleImputer(fill_value='missing', strategy='constant')</pre></div></div></div><div class=\"sk-item\"><div class=\"sk-estimator sk-toggleable\"><input class=\"sk-toggleable__control sk-hidden--visually\" id=\"a184ad74-3084-4efd-a0c4-d5f204ad741d\" type=\"checkbox\" ><label class=\"sk-toggleable__label\" for=\"a184ad74-3084-4efd-a0c4-d5f204ad741d\">OneHotEncoder</label><div class=\"sk-toggleable__content\"><pre>OneHotEncoder()</pre></div></div></div></div></div></div></div></div></div></div></div></div>"
      ],
      "text/plain": [
       "ColumnTransformer(transformers=[('num',\n",
       "                                 Pipeline(steps=[('simpleimputer',\n",
       "                                                  SimpleImputer(strategy='median')),\n",
       "                                                 ('standardscaler',\n",
       "                                                  StandardScaler())]),\n",
       "                                 ['longitude', 'latitude', 'housing_median_age',\n",
       "                                  'households', 'median_income',\n",
       "                                  'rooms_per_household',\n",
       "                                  'bedrooms_per_household',\n",
       "                                  'population_per_household']),\n",
       "                                ('cat',\n",
       "                                 Pipeline(steps=[('simpleimputer',\n",
       "                                                  SimpleImputer(fill_value='missing',\n",
       "                                                                strategy='constant')),\n",
       "                                                 ('onehotencoder',\n",
       "                                                  OneHotEncoder())]),\n",
       "                                 ['ocean_proximity'])])"
      ]
     },
     "execution_count": 71,
     "metadata": {},
     "output_type": "execute_result"
    }
   ],
   "source": [
    "preprocessor"
   ]
  },
  {
   "cell_type": "code",
   "execution_count": 72,
   "metadata": {},
   "outputs": [
    {
     "name": "stdout",
     "output_type": "stream",
     "text": [
      "ColumnTransformer(transformers=[('num',\n",
      "                                 Pipeline(steps=[('simpleimputer',\n",
      "                                                  SimpleImputer(strategy='median')),\n",
      "                                                 ('standardscaler',\n",
      "                                                  StandardScaler())]),\n",
      "                                 ['longitude', 'latitude', 'housing_median_age',\n",
      "                                  'households', 'median_income',\n",
      "                                  'rooms_per_household',\n",
      "                                  'bedrooms_per_household',\n",
      "                                  'population_per_household']),\n",
      "                                ('cat',\n",
      "                                 Pipeline(steps=[('simpleimputer',\n",
      "                                                  SimpleImputer(fill_value='missing',\n",
      "                                                                strategy='constant')),\n",
      "                                                 ('onehotencoder',\n",
      "                                                  OneHotEncoder())]),\n",
      "                                 ['ocean_proximity'])])\n"
     ]
    }
   ],
   "source": [
    "print(preprocessor)"
   ]
  },
  {
   "cell_type": "markdown",
   "metadata": {},
   "source": [
    "to this:"
   ]
  },
  {
   "cell_type": "code",
   "execution_count": 73,
   "metadata": {},
   "outputs": [],
   "source": [
    "preprocessor = make_column_transformer(\n",
    "    (numeric_transformer, numeric_features),\n",
    "    (categorical_transformer, categorical_features))"
   ]
  },
  {
   "cell_type": "code",
   "execution_count": 74,
   "metadata": {},
   "outputs": [
    {
     "data": {
      "text/html": [
       "<style>div.sk-top-container {color: black;background-color: white;}div.sk-toggleable {background-color: white;}label.sk-toggleable__label {cursor: pointer;display: block;width: 100%;margin-bottom: 0;padding: 0.2em 0.3em;box-sizing: border-box;text-align: center;}div.sk-toggleable__content {max-height: 0;max-width: 0;overflow: hidden;text-align: left;background-color: #f0f8ff;}div.sk-toggleable__content pre {margin: 0.2em;color: black;border-radius: 0.25em;background-color: #f0f8ff;}input.sk-toggleable__control:checked~div.sk-toggleable__content {max-height: 200px;max-width: 100%;overflow: auto;}div.sk-estimator input.sk-toggleable__control:checked~label.sk-toggleable__label {background-color: #d4ebff;}div.sk-label input.sk-toggleable__control:checked~label.sk-toggleable__label {background-color: #d4ebff;}input.sk-hidden--visually {border: 0;clip: rect(1px 1px 1px 1px);clip: rect(1px, 1px, 1px, 1px);height: 1px;margin: -1px;overflow: hidden;padding: 0;position: absolute;width: 1px;}div.sk-estimator {font-family: monospace;background-color: #f0f8ff;margin: 0.25em 0.25em;border: 1px dotted black;border-radius: 0.25em;box-sizing: border-box;}div.sk-estimator:hover {background-color: #d4ebff;}div.sk-parallel-item::after {content: \"\";width: 100%;border-bottom: 1px solid gray;flex-grow: 1;}div.sk-label:hover label.sk-toggleable__label {background-color: #d4ebff;}div.sk-serial::before {content: \"\";position: absolute;border-left: 1px solid gray;box-sizing: border-box;top: 2em;bottom: 0;left: 50%;}div.sk-serial {display: flex;flex-direction: column;align-items: center;background-color: white;}div.sk-item {z-index: 1;}div.sk-parallel {display: flex;align-items: stretch;justify-content: center;background-color: white;}div.sk-parallel-item {display: flex;flex-direction: column;position: relative;background-color: white;}div.sk-parallel-item:first-child::after {align-self: flex-end;width: 50%;}div.sk-parallel-item:last-child::after {align-self: flex-start;width: 50%;}div.sk-parallel-item:only-child::after {width: 0;}div.sk-dashed-wrapped {border: 1px dashed gray;margin: 0.2em;box-sizing: border-box;padding-bottom: 0.1em;background-color: white;position: relative;}div.sk-label label {font-family: monospace;font-weight: bold;background-color: white;display: inline-block;line-height: 1.2em;}div.sk-label-container {position: relative;z-index: 2;text-align: center;}div.sk-container {display: inline-block;position: relative;}</style><div class=\"sk-top-container\"><div class=\"sk-container\"><div class=\"sk-item sk-dashed-wrapped\"><div class=\"sk-label-container\"><div class=\"sk-label sk-toggleable\"><input class=\"sk-toggleable__control sk-hidden--visually\" id=\"a10e5a81-d03f-42f8-81fa-f40cec371e4e\" type=\"checkbox\" ><label class=\"sk-toggleable__label\" for=\"a10e5a81-d03f-42f8-81fa-f40cec371e4e\">ColumnTransformer</label><div class=\"sk-toggleable__content\"><pre>ColumnTransformer(transformers=[('pipeline-1',\n",
       "                                 Pipeline(steps=[('simpleimputer',\n",
       "                                                  SimpleImputer(strategy='median')),\n",
       "                                                 ('standardscaler',\n",
       "                                                  StandardScaler())]),\n",
       "                                 ['longitude', 'latitude', 'housing_median_age',\n",
       "                                  'households', 'median_income',\n",
       "                                  'rooms_per_household',\n",
       "                                  'bedrooms_per_household',\n",
       "                                  'population_per_household']),\n",
       "                                ('pipeline-2',\n",
       "                                 Pipeline(steps=[('simpleimputer',\n",
       "                                                  SimpleImputer(fill_value='missing',\n",
       "                                                                strategy='constant')),\n",
       "                                                 ('onehotencoder',\n",
       "                                                  OneHotEncoder())]),\n",
       "                                 ['ocean_proximity'])])</pre></div></div></div><div class=\"sk-parallel\"><div class=\"sk-parallel-item\"><div class=\"sk-item\"><div class=\"sk-label-container\"><div class=\"sk-label sk-toggleable\"><input class=\"sk-toggleable__control sk-hidden--visually\" id=\"77cd8052-ea1e-43ae-936e-dce2ffe3053c\" type=\"checkbox\" ><label class=\"sk-toggleable__label\" for=\"77cd8052-ea1e-43ae-936e-dce2ffe3053c\">pipeline-1</label><div class=\"sk-toggleable__content\"><pre>['longitude', 'latitude', 'housing_median_age', 'households', 'median_income', 'rooms_per_household', 'bedrooms_per_household', 'population_per_household']</pre></div></div></div><div class=\"sk-serial\"><div class=\"sk-item\"><div class=\"sk-serial\"><div class=\"sk-item\"><div class=\"sk-estimator sk-toggleable\"><input class=\"sk-toggleable__control sk-hidden--visually\" id=\"93ae0944-cb6a-4d92-800f-fb356f8d551e\" type=\"checkbox\" ><label class=\"sk-toggleable__label\" for=\"93ae0944-cb6a-4d92-800f-fb356f8d551e\">SimpleImputer</label><div class=\"sk-toggleable__content\"><pre>SimpleImputer(strategy='median')</pre></div></div></div><div class=\"sk-item\"><div class=\"sk-estimator sk-toggleable\"><input class=\"sk-toggleable__control sk-hidden--visually\" id=\"eddaa289-9c5f-4fa0-befe-aee79222b269\" type=\"checkbox\" ><label class=\"sk-toggleable__label\" for=\"eddaa289-9c5f-4fa0-befe-aee79222b269\">StandardScaler</label><div class=\"sk-toggleable__content\"><pre>StandardScaler()</pre></div></div></div></div></div></div></div></div><div class=\"sk-parallel-item\"><div class=\"sk-item\"><div class=\"sk-label-container\"><div class=\"sk-label sk-toggleable\"><input class=\"sk-toggleable__control sk-hidden--visually\" id=\"8cad02f2-eb1b-40c6-bbb6-d5a8d0beeadd\" type=\"checkbox\" ><label class=\"sk-toggleable__label\" for=\"8cad02f2-eb1b-40c6-bbb6-d5a8d0beeadd\">pipeline-2</label><div class=\"sk-toggleable__content\"><pre>['ocean_proximity']</pre></div></div></div><div class=\"sk-serial\"><div class=\"sk-item\"><div class=\"sk-serial\"><div class=\"sk-item\"><div class=\"sk-estimator sk-toggleable\"><input class=\"sk-toggleable__control sk-hidden--visually\" id=\"851c5b78-4774-40bb-9264-9958cc251489\" type=\"checkbox\" ><label class=\"sk-toggleable__label\" for=\"851c5b78-4774-40bb-9264-9958cc251489\">SimpleImputer</label><div class=\"sk-toggleable__content\"><pre>SimpleImputer(fill_value='missing', strategy='constant')</pre></div></div></div><div class=\"sk-item\"><div class=\"sk-estimator sk-toggleable\"><input class=\"sk-toggleable__control sk-hidden--visually\" id=\"954bd065-c8ab-4831-9912-8e37817cebd6\" type=\"checkbox\" ><label class=\"sk-toggleable__label\" for=\"954bd065-c8ab-4831-9912-8e37817cebd6\">OneHotEncoder</label><div class=\"sk-toggleable__content\"><pre>OneHotEncoder()</pre></div></div></div></div></div></div></div></div></div></div></div></div>"
      ],
      "text/plain": [
       "ColumnTransformer(transformers=[('pipeline-1',\n",
       "                                 Pipeline(steps=[('simpleimputer',\n",
       "                                                  SimpleImputer(strategy='median')),\n",
       "                                                 ('standardscaler',\n",
       "                                                  StandardScaler())]),\n",
       "                                 ['longitude', 'latitude', 'housing_median_age',\n",
       "                                  'households', 'median_income',\n",
       "                                  'rooms_per_household',\n",
       "                                  'bedrooms_per_household',\n",
       "                                  'population_per_household']),\n",
       "                                ('pipeline-2',\n",
       "                                 Pipeline(steps=[('simpleimputer',\n",
       "                                                  SimpleImputer(fill_value='missing',\n",
       "                                                                strategy='constant')),\n",
       "                                                 ('onehotencoder',\n",
       "                                                  OneHotEncoder())]),\n",
       "                                 ['ocean_proximity'])])"
      ]
     },
     "execution_count": 74,
     "metadata": {},
     "output_type": "execute_result"
    }
   ],
   "source": [
    "preprocessor"
   ]
  },
  {
   "cell_type": "code",
   "execution_count": 75,
   "metadata": {},
   "outputs": [
    {
     "name": "stdout",
     "output_type": "stream",
     "text": [
      "ColumnTransformer(transformers=[('pipeline-1',\n",
      "                                 Pipeline(steps=[('simpleimputer',\n",
      "                                                  SimpleImputer(strategy='median')),\n",
      "                                                 ('standardscaler',\n",
      "                                                  StandardScaler())]),\n",
      "                                 ['longitude', 'latitude', 'housing_median_age',\n",
      "                                  'households', 'median_income',\n",
      "                                  'rooms_per_household',\n",
      "                                  'bedrooms_per_household',\n",
      "                                  'population_per_household']),\n",
      "                                ('pipeline-2',\n",
      "                                 Pipeline(steps=[('simpleimputer',\n",
      "                                                  SimpleImputer(fill_value='missing',\n",
      "                                                                strategy='constant')),\n",
      "                                                 ('onehotencoder',\n",
      "                                                  OneHotEncoder())]),\n",
      "                                 ['ocean_proximity'])])\n"
     ]
    }
   ],
   "source": [
    "print(preprocessor)"
   ]
  },
  {
   "cell_type": "markdown",
   "metadata": {},
   "source": [
    "This eliminates the need to designate names for the numeric and categorical transformations. \n",
    "\n",
    "So our whole thing becomes:"
   ]
  },
  {
   "cell_type": "code",
   "execution_count": 76,
   "metadata": {},
   "outputs": [],
   "source": [
    "numeric_transformer = make_pipeline(SimpleImputer(strategy=\"median\"),\n",
    "                                    StandardScaler())\n",
    "\n",
    "categorical_transformer = make_pipeline(\n",
    "                SimpleImputer(strategy=\"constant\", fill_value=\"missing\"),\n",
    "                OneHotEncoder())\n",
    "                \n",
    "preprocessor = make_column_transformer(\n",
    "               (numeric_transformer, numeric_features), \n",
    "               (categorical_transformer, categorical_features))\n",
    "               \n",
    "pipe = make_pipeline(preprocessor, SVR())\n"
   ]
  },
  {
   "cell_type": "code",
   "execution_count": 77,
   "metadata": {},
   "outputs": [],
   "source": [
    "scores = cross_validate(pipe, X_train, y_train, cv=5, return_train_score=True)"
   ]
  },
  {
   "cell_type": "code",
   "execution_count": 78,
   "metadata": {},
   "outputs": [
    {
     "data": {
      "text/html": [
       "<div>\n",
       "<style scoped>\n",
       "    .dataframe tbody tr th:only-of-type {\n",
       "        vertical-align: middle;\n",
       "    }\n",
       "\n",
       "    .dataframe tbody tr th {\n",
       "        vertical-align: top;\n",
       "    }\n",
       "\n",
       "    .dataframe thead th {\n",
       "        text-align: right;\n",
       "    }\n",
       "</style>\n",
       "<table border=\"1\" class=\"dataframe\">\n",
       "  <thead>\n",
       "    <tr style=\"text-align: right;\">\n",
       "      <th></th>\n",
       "      <th>fit_time</th>\n",
       "      <th>score_time</th>\n",
       "      <th>test_score</th>\n",
       "      <th>train_score</th>\n",
       "    </tr>\n",
       "  </thead>\n",
       "  <tbody>\n",
       "    <tr>\n",
       "      <th>0</th>\n",
       "      <td>6.856732</td>\n",
       "      <td>1.011320</td>\n",
       "      <td>-0.029288</td>\n",
       "      <td>-0.048769</td>\n",
       "    </tr>\n",
       "    <tr>\n",
       "      <th>1</th>\n",
       "      <td>6.839377</td>\n",
       "      <td>1.015495</td>\n",
       "      <td>-0.060164</td>\n",
       "      <td>-0.046902</td>\n",
       "    </tr>\n",
       "    <tr>\n",
       "      <th>2</th>\n",
       "      <td>6.561479</td>\n",
       "      <td>1.079988</td>\n",
       "      <td>-0.057491</td>\n",
       "      <td>-0.048523</td>\n",
       "    </tr>\n",
       "    <tr>\n",
       "      <th>3</th>\n",
       "      <td>7.193426</td>\n",
       "      <td>1.095606</td>\n",
       "      <td>-0.046167</td>\n",
       "      <td>-0.047366</td>\n",
       "    </tr>\n",
       "    <tr>\n",
       "      <th>4</th>\n",
       "      <td>6.937953</td>\n",
       "      <td>1.027145</td>\n",
       "      <td>-0.050141</td>\n",
       "      <td>-0.049123</td>\n",
       "    </tr>\n",
       "  </tbody>\n",
       "</table>\n",
       "</div>"
      ],
      "text/plain": [
       "   fit_time  score_time  test_score  train_score\n",
       "0  6.856732    1.011320   -0.029288    -0.048769\n",
       "1  6.839377    1.015495   -0.060164    -0.046902\n",
       "2  6.561479    1.079988   -0.057491    -0.048523\n",
       "3  7.193426    1.095606   -0.046167    -0.047366\n",
       "4  6.937953    1.027145   -0.050141    -0.049123"
      ]
     },
     "execution_count": 78,
     "metadata": {},
     "output_type": "execute_result"
    }
   ],
   "source": [
    "pd.DataFrame(scores)"
   ]
  },
  {
   "cell_type": "markdown",
   "metadata": {},
   "source": [
    "## Let's Practice \n",
    "\n",
    "\n",
    "Refer to the dataframe to answer the following question.\n",
    "```\n",
    "       colour   location    shape   water_content  weight\n",
    "0       red      canada      NaN         84          100\n",
    "1     yellow     mexico     long         75          120\n",
    "2     orange     spain       NaN         90          NaN\n",
    "3    magenta     china      round        NaN         600\n",
    "4     purple    austria      NaN         80          115\n",
    "5     purple    turkey      oval         78          340\n",
    "6     green     mexico      oval         83          NaN\n",
    "7      blue     canada      round        73          535\n",
    "8     brown     china        NaN         NaN        1743  \n",
    "9     yellow    mexico      oval         83          265\n",
    "```\n",
    "\n",
    "<br>\n",
    " \n",
    "1. How many categorical columns are there and how many numeric?\n",
    "2. What transformations are being done to both numeric and categorical columns?\n",
    "\n",
    "\n",
    "Use the diagram below to answer the following questions.\n",
    "\n",
    "```\n",
    "Pipeline(\n",
    "    steps=[('columntransformer',\n",
    "               ColumnTransformer(\n",
    "                  transformers=[('pipeline-1',\n",
    "                                  Pipeline(\n",
    "                                    steps=[('simpleimputer',\n",
    "                                             SimpleImputer(strategy='median')),\n",
    "                                           ('standardscaler',\n",
    "                                             StandardScaler())]),\n",
    "                      ['water_content', 'weight', 'carbs']),\n",
    "                                ('pipeline-2',\n",
    "                                  Pipeline(\n",
    "                                    steps=[('simpleimputer',\n",
    "                                             SimpleImputer(fill_value='missing',\n",
    "                                                                strategy='constant')),\n",
    "                                           ('onehotencoder',\n",
    "                                             OneHotEncoder(handle_unknown='ignore'))]),\n",
    "                      ['colour', 'location', 'seed', 'shape', 'sweetness',\n",
    "                                                   'tropical'])])),\n",
    "         ('decisiontreeclassifier', DecisionTreeClassifier())])\n",
    "```\n",
    "\n",
    "3. How many columns are being transformed in `pipeline-1`?\n",
    "4. Which pipeline is transforming the categorical columns?\n",
    "5. What model is the pipeline fitting on?\n",
    "\n",
    "**True or False**     \n",
    "6. If there are missing values in both numeric and categorical columns, we can specify this in a single step in the main pipeline.   \n",
    "7. If we do not specify `remainder=\"passthrough\"` as an argument in `ColumnTransformer`, the columns not being transformed will be dropped.\n",
    "8. `Pipeline()` is the same as `make_pipeline()` but  `make_pipeline()` requires you to name the steps."
   ]
  },
  {
   "cell_type": "markdown",
   "metadata": {},
   "source": [
    "## Text Data \n",
    "\n",
    "Machine Learning algorithms that we have seen so far prefer numeric and fixed-length input that looks like this. \n",
    "\n",
    "\n",
    "$$X = \\begin{bmatrix}1.0 & 4.0 & \\ldots & & 3.0\\\\ 0.0 & 2.0 & \\ldots & & 6.0\\\\ 1.0 & 0.0 & \\ldots & & 0.0\\\\ \\end{bmatrix}$$ \n",
    "\n",
    "and \n",
    "$$y = \\begin{bmatrix}spam \\\\ non spam \\\\ spam \\end{bmatrix}$$\n",
    "\n",
    "\n",
    "\n",
    "\n",
    "But what if we are only given data in the form of raw text and associated labels?\n",
    "\n",
    "How can we represent such data into a fixed number of features? "
   ]
  },
  {
   "cell_type": "markdown",
   "metadata": {},
   "source": [
    "Spam/non-spam toy example\n",
    "\n",
    "Would you be able to apply the algorithms we have seen so far on the data that looks like this?\n",
    "\n",
    "$$X = \\begin{bmatrix}\\text{\"URGENT!! As a valued network customer you have been selected to receive a £900 prize reward!\",}\\\\ \\text{\"Lol your always so convincing.\"}\\\\ \\text{\"Congrats! 1 year special cinema pass for 2 is yours. call 09061209465 now!\"}\\\\ \\end{bmatrix}$$\n",
    "\n",
    "and \n",
    "\n",
    "$$y = \\begin{bmatrix}spam \\\\ non spam \\\\ spam \\end{bmatrix}$$\n",
    "\n",
    "<br>\n",
    "\n",
    "- In categorical features or ordinal features, we have a fixed number of categories.\n",
    "- In text features such as above, each feature value (i.e., each text message) is going to be different. \n",
    "- How do we encode these features? "
   ]
  },
  {
   "cell_type": "markdown",
   "metadata": {},
   "source": [
    "## Bag of words (BOW) representation\n",
    "\n",
    "<center><img src=\"imgs/bag-of-words.png\"  width = \"75%\" alt=\"404 image\" /></center>\n",
    "\n",
    "<a href=\"https://web.stanford.edu/~jurafsky/slp3/4.pdf\" target=\"_blank\">Attribution: Daniel Jurafsky & James H. Martin</a> \n",
    "\n",
    "\n",
    "One way is to use a simple bag of words (BOW) representation which involves two components. \n",
    "- The vocabulary (all unique words in all documents) \n",
    "- A value indicating either the presence or absence or the count of each word in the document. "
   ]
  },
  {
   "cell_type": "markdown",
   "metadata": {},
   "source": [
    "### Extracting BOW features using *scikit-learn*"
   ]
  },
  {
   "cell_type": "markdown",
   "metadata": {},
   "source": [
    "Let's say we have 1 feature in our `X` dataframe consisting of the following text messages. \n",
    "\n",
    "In our target column, we have the classification of each message as either `spam` or `non spam`. "
   ]
  },
  {
   "cell_type": "code",
   "execution_count": 114,
   "metadata": {},
   "outputs": [],
   "source": [
    "X = [\n",
    "    \"URGENT!! As a valued network customer you have been selected to receive a £900 prize reward!\",\n",
    "    \"Lol you are always so convincing.\",\n",
    "    \"Nah I don't think he goes to usf, he lives around here though\",\n",
    "    \"URGENT! You have won a 1 week FREE membership in our £100000 prize Jackpot!\",\n",
    "    \"Had your mobile 11 months or more? U R entitled to Update to the latest colour mobiles with camera for Free! Call The Mobile Update Co FREE on 08002986030\",\n",
    "    \"As per your request 'Melle Melle (Oru Minnaminunginte Nurungu Vettam)' has been set as your callertune for all Callers. Press *9 to copy your friends Callertune\"]\n",
    "\n",
    "y = [\"spam\", \"non spam\", \"non spam\", \"spam\", \"spam\", \"non spam\"]"
   ]
  },
  {
   "cell_type": "markdown",
   "metadata": {},
   "source": [
    "We import a tool called `CountVectorizer`. "
   ]
  },
  {
   "cell_type": "code",
   "execution_count": 115,
   "metadata": {},
   "outputs": [],
   "source": [
    "from sklearn.feature_extraction.text import CountVectorizer"
   ]
  },
  {
   "cell_type": "markdown",
   "metadata": {},
   "source": [
    "`CountVectorizer` converts a collection of text documents to a matrix of word counts.     \n",
    "\n",
    "- Each row represents a \"document\" (e.g., a text message in our example). \n",
    "- Each column represents a word in the vocabulary in the training data. \n",
    "- Each cell represents how often the word occurs in the document. \n",
    "    \n",
    "    \n",
    "In the NLP community, a text data set is referred to as a **corpus** (plural: corpora).  \n",
    "\n",
    "The features should be a 1 dimension array as an input. "
   ]
  },
  {
   "cell_type": "code",
   "execution_count": 116,
   "metadata": {},
   "outputs": [
    {
     "data": {
      "text/html": [
       "<div>\n",
       "<style scoped>\n",
       "    .dataframe tbody tr th:only-of-type {\n",
       "        vertical-align: middle;\n",
       "    }\n",
       "\n",
       "    .dataframe tbody tr th {\n",
       "        vertical-align: top;\n",
       "    }\n",
       "\n",
       "    .dataframe thead th {\n",
       "        text-align: right;\n",
       "    }\n",
       "</style>\n",
       "<table border=\"1\" class=\"dataframe\">\n",
       "  <thead>\n",
       "    <tr style=\"text-align: right;\">\n",
       "      <th></th>\n",
       "      <th>08002986030</th>\n",
       "      <th>100000</th>\n",
       "      <th>11</th>\n",
       "      <th>900</th>\n",
       "      <th>all</th>\n",
       "      <th>always</th>\n",
       "      <th>are</th>\n",
       "      <th>around</th>\n",
       "      <th>as</th>\n",
       "      <th>been</th>\n",
       "      <th>...</th>\n",
       "      <th>update</th>\n",
       "      <th>urgent</th>\n",
       "      <th>usf</th>\n",
       "      <th>valued</th>\n",
       "      <th>vettam</th>\n",
       "      <th>week</th>\n",
       "      <th>with</th>\n",
       "      <th>won</th>\n",
       "      <th>you</th>\n",
       "      <th>your</th>\n",
       "    </tr>\n",
       "  </thead>\n",
       "  <tbody>\n",
       "    <tr>\n",
       "      <th>URGENT!! As a valued network customer you have been selected to receive a £900 prize reward!</th>\n",
       "      <td>0</td>\n",
       "      <td>0</td>\n",
       "      <td>0</td>\n",
       "      <td>1</td>\n",
       "      <td>0</td>\n",
       "      <td>0</td>\n",
       "      <td>0</td>\n",
       "      <td>0</td>\n",
       "      <td>1</td>\n",
       "      <td>1</td>\n",
       "      <td>...</td>\n",
       "      <td>0</td>\n",
       "      <td>1</td>\n",
       "      <td>0</td>\n",
       "      <td>1</td>\n",
       "      <td>0</td>\n",
       "      <td>0</td>\n",
       "      <td>0</td>\n",
       "      <td>0</td>\n",
       "      <td>1</td>\n",
       "      <td>0</td>\n",
       "    </tr>\n",
       "    <tr>\n",
       "      <th>Lol you are always so convincing.</th>\n",
       "      <td>0</td>\n",
       "      <td>0</td>\n",
       "      <td>0</td>\n",
       "      <td>0</td>\n",
       "      <td>0</td>\n",
       "      <td>1</td>\n",
       "      <td>1</td>\n",
       "      <td>0</td>\n",
       "      <td>0</td>\n",
       "      <td>0</td>\n",
       "      <td>...</td>\n",
       "      <td>0</td>\n",
       "      <td>0</td>\n",
       "      <td>0</td>\n",
       "      <td>0</td>\n",
       "      <td>0</td>\n",
       "      <td>0</td>\n",
       "      <td>0</td>\n",
       "      <td>0</td>\n",
       "      <td>1</td>\n",
       "      <td>0</td>\n",
       "    </tr>\n",
       "    <tr>\n",
       "      <th>Nah I don't think he goes to usf, he lives around here though</th>\n",
       "      <td>0</td>\n",
       "      <td>0</td>\n",
       "      <td>0</td>\n",
       "      <td>0</td>\n",
       "      <td>0</td>\n",
       "      <td>0</td>\n",
       "      <td>0</td>\n",
       "      <td>1</td>\n",
       "      <td>0</td>\n",
       "      <td>0</td>\n",
       "      <td>...</td>\n",
       "      <td>0</td>\n",
       "      <td>0</td>\n",
       "      <td>1</td>\n",
       "      <td>0</td>\n",
       "      <td>0</td>\n",
       "      <td>0</td>\n",
       "      <td>0</td>\n",
       "      <td>0</td>\n",
       "      <td>0</td>\n",
       "      <td>0</td>\n",
       "    </tr>\n",
       "    <tr>\n",
       "      <th>URGENT! You have won a 1 week FREE membership in our £100000 prize Jackpot!</th>\n",
       "      <td>0</td>\n",
       "      <td>1</td>\n",
       "      <td>0</td>\n",
       "      <td>0</td>\n",
       "      <td>0</td>\n",
       "      <td>0</td>\n",
       "      <td>0</td>\n",
       "      <td>0</td>\n",
       "      <td>0</td>\n",
       "      <td>0</td>\n",
       "      <td>...</td>\n",
       "      <td>0</td>\n",
       "      <td>1</td>\n",
       "      <td>0</td>\n",
       "      <td>0</td>\n",
       "      <td>0</td>\n",
       "      <td>1</td>\n",
       "      <td>0</td>\n",
       "      <td>1</td>\n",
       "      <td>1</td>\n",
       "      <td>0</td>\n",
       "    </tr>\n",
       "    <tr>\n",
       "      <th>Had your mobile 11 months or more? U R entitled to Update to the latest colour mobiles with camera for Free! Call The Mobile Update Co FREE on 08002986030</th>\n",
       "      <td>1</td>\n",
       "      <td>0</td>\n",
       "      <td>1</td>\n",
       "      <td>0</td>\n",
       "      <td>0</td>\n",
       "      <td>0</td>\n",
       "      <td>0</td>\n",
       "      <td>0</td>\n",
       "      <td>0</td>\n",
       "      <td>0</td>\n",
       "      <td>...</td>\n",
       "      <td>2</td>\n",
       "      <td>0</td>\n",
       "      <td>0</td>\n",
       "      <td>0</td>\n",
       "      <td>0</td>\n",
       "      <td>0</td>\n",
       "      <td>1</td>\n",
       "      <td>0</td>\n",
       "      <td>0</td>\n",
       "      <td>1</td>\n",
       "    </tr>\n",
       "    <tr>\n",
       "      <th>As per your request 'Melle Melle (Oru Minnaminunginte Nurungu Vettam)' has been set as your callertune for all Callers. Press *9 to copy your friends Callertune</th>\n",
       "      <td>0</td>\n",
       "      <td>0</td>\n",
       "      <td>0</td>\n",
       "      <td>0</td>\n",
       "      <td>1</td>\n",
       "      <td>0</td>\n",
       "      <td>0</td>\n",
       "      <td>0</td>\n",
       "      <td>2</td>\n",
       "      <td>1</td>\n",
       "      <td>...</td>\n",
       "      <td>0</td>\n",
       "      <td>0</td>\n",
       "      <td>0</td>\n",
       "      <td>0</td>\n",
       "      <td>1</td>\n",
       "      <td>0</td>\n",
       "      <td>0</td>\n",
       "      <td>0</td>\n",
       "      <td>0</td>\n",
       "      <td>3</td>\n",
       "    </tr>\n",
       "  </tbody>\n",
       "</table>\n",
       "<p>6 rows × 72 columns</p>\n",
       "</div>"
      ],
      "text/plain": [
       "                                                    08002986030  100000  11  \\\n",
       "URGENT!! As a valued network customer you have ...            0       0   0   \n",
       "Lol you are always so convincing.                             0       0   0   \n",
       "Nah I don't think he goes to usf, he lives arou...            0       0   0   \n",
       "URGENT! You have won a 1 week FREE membership i...            0       1   0   \n",
       "Had your mobile 11 months or more? U R entitled...            1       0   1   \n",
       "As per your request 'Melle Melle (Oru Minnaminu...            0       0   0   \n",
       "\n",
       "                                                    900  all  always  are  \\\n",
       "URGENT!! As a valued network customer you have ...    1    0       0    0   \n",
       "Lol you are always so convincing.                     0    0       1    1   \n",
       "Nah I don't think he goes to usf, he lives arou...    0    0       0    0   \n",
       "URGENT! You have won a 1 week FREE membership i...    0    0       0    0   \n",
       "Had your mobile 11 months or more? U R entitled...    0    0       0    0   \n",
       "As per your request 'Melle Melle (Oru Minnaminu...    0    1       0    0   \n",
       "\n",
       "                                                    around  as  been  ...  \\\n",
       "URGENT!! As a valued network customer you have ...       0   1     1  ...   \n",
       "Lol you are always so convincing.                        0   0     0  ...   \n",
       "Nah I don't think he goes to usf, he lives arou...       1   0     0  ...   \n",
       "URGENT! You have won a 1 week FREE membership i...       0   0     0  ...   \n",
       "Had your mobile 11 months or more? U R entitled...       0   0     0  ...   \n",
       "As per your request 'Melle Melle (Oru Minnaminu...       0   2     1  ...   \n",
       "\n",
       "                                                    update  urgent  usf  \\\n",
       "URGENT!! As a valued network customer you have ...       0       1    0   \n",
       "Lol you are always so convincing.                        0       0    0   \n",
       "Nah I don't think he goes to usf, he lives arou...       0       0    1   \n",
       "URGENT! You have won a 1 week FREE membership i...       0       1    0   \n",
       "Had your mobile 11 months or more? U R entitled...       2       0    0   \n",
       "As per your request 'Melle Melle (Oru Minnaminu...       0       0    0   \n",
       "\n",
       "                                                    valued  vettam  week  \\\n",
       "URGENT!! As a valued network customer you have ...       1       0     0   \n",
       "Lol you are always so convincing.                        0       0     0   \n",
       "Nah I don't think he goes to usf, he lives arou...       0       0     0   \n",
       "URGENT! You have won a 1 week FREE membership i...       0       0     1   \n",
       "Had your mobile 11 months or more? U R entitled...       0       0     0   \n",
       "As per your request 'Melle Melle (Oru Minnaminu...       0       1     0   \n",
       "\n",
       "                                                    with  won  you  your  \n",
       "URGENT!! As a valued network customer you have ...     0    0    1     0  \n",
       "Lol you are always so convincing.                      0    0    1     0  \n",
       "Nah I don't think he goes to usf, he lives arou...     0    0    0     0  \n",
       "URGENT! You have won a 1 week FREE membership i...     0    1    1     0  \n",
       "Had your mobile 11 months or more? U R entitled...     1    0    0     1  \n",
       "As per your request 'Melle Melle (Oru Minnaminu...     0    0    0     3  \n",
       "\n",
       "[6 rows x 72 columns]"
      ]
     },
     "execution_count": 116,
     "metadata": {},
     "output_type": "execute_result"
    }
   ],
   "source": [
    "vec = CountVectorizer()\n",
    "X_counts = vec.fit_transform(X);\n",
    "bow_df = pd.DataFrame(X_counts.toarray(), columns=sorted(vec.vocabulary_), index=X)\n",
    "bow_df"
   ]
  },
  {
   "cell_type": "markdown",
   "metadata": {},
   "source": [
    "### Important hyperparameters of `CountVectorizer` \n",
    "\n",
    "There are many useful and important hyperparameters of `CountVectorizer`. \n",
    "\n",
    "- `binary`:   \n",
    "    - Whether to use absence/presence feature values or counts.\n",
    "- `max_features`:\n",
    "    - Only considers top `max_features` ordered by frequency in the corpus.\n",
    "- `max_df`:\n",
    "    - When building the vocabulary ignore terms that have a document frequency strictly higher than the given threshold.\n",
    "- `min_df`:\n",
    "    - When building the vocabulary ignore terms that have a document frequency strictly lower than the given threshold.\n",
    "- `ngram_range`:\n",
    "    - Consider word sequences in the given range."
   ]
  },
  {
   "cell_type": "code",
   "execution_count": 117,
   "metadata": {},
   "outputs": [
    {
     "data": {
      "text/plain": [
       "['URGENT!! As a valued network customer you have been selected to receive a £900 prize reward!',\n",
       " 'Lol you are always so convincing.',\n",
       " \"Nah I don't think he goes to usf, he lives around here though\",\n",
       " 'URGENT! You have won a 1 week FREE membership in our £100000 prize Jackpot!',\n",
       " 'Had your mobile 11 months or more? U R entitled to Update to the latest colour mobiles with camera for Free! Call The Mobile Update Co FREE on 08002986030',\n",
       " \"As per your request 'Melle Melle (Oru Minnaminunginte Nurungu Vettam)' has been set as your callertune for all Callers. Press *9 to copy your friends Callertune\"]"
      ]
     },
     "execution_count": 117,
     "metadata": {},
     "output_type": "execute_result"
    }
   ],
   "source": [
    "X"
   ]
  },
  {
   "cell_type": "markdown",
   "metadata": {},
   "source": [
    "`CountVectorizer` is carrying out some preprocessing because of the default argument values.   \n",
    "\n",
    "- Converting words to lowercase (`lowercase=True`). Take a look at the word \"urgent\" In both cases. \n",
    "- getting rid of punctuation and special characters (`token_pattern ='(?u)\\\\b\\\\w\\\\w+\\\\b'`)\n"
   ]
  },
  {
   "cell_type": "code",
   "execution_count": 84,
   "metadata": {},
   "outputs": [
    {
     "data": {
      "text/plain": [
       "['08002986030',\n",
       " '100000',\n",
       " '11',\n",
       " '900',\n",
       " 'all',\n",
       " 'always',\n",
       " 'are',\n",
       " 'around',\n",
       " 'as',\n",
       " 'been',\n",
       " 'call',\n",
       " 'callers',\n",
       " 'callertune',\n",
       " 'camera',\n",
       " 'co',\n",
       " 'colour',\n",
       " 'convincing',\n",
       " 'copy',\n",
       " 'customer',\n",
       " 'don',\n",
       " 'entitled',\n",
       " 'for',\n",
       " 'free',\n",
       " 'friends',\n",
       " 'goes',\n",
       " 'had',\n",
       " 'has',\n",
       " 'have',\n",
       " 'he',\n",
       " 'here',\n",
       " 'in',\n",
       " 'jackpot',\n",
       " 'latest',\n",
       " 'lives',\n",
       " 'lol',\n",
       " 'melle',\n",
       " 'membership',\n",
       " 'minnaminunginte',\n",
       " 'mobile',\n",
       " 'mobiles',\n",
       " 'months',\n",
       " 'more',\n",
       " 'nah',\n",
       " 'network',\n",
       " 'nurungu',\n",
       " 'on',\n",
       " 'or',\n",
       " 'oru',\n",
       " 'our',\n",
       " 'per',\n",
       " 'press',\n",
       " 'prize',\n",
       " 'receive',\n",
       " 'request',\n",
       " 'reward',\n",
       " 'selected',\n",
       " 'set',\n",
       " 'so',\n",
       " 'the',\n",
       " 'think',\n",
       " 'though',\n",
       " 'to',\n",
       " 'update',\n",
       " 'urgent',\n",
       " 'usf',\n",
       " 'valued',\n",
       " 'vettam',\n",
       " 'week',\n",
       " 'with',\n",
       " 'won',\n",
       " 'you',\n",
       " 'your']"
      ]
     },
     "execution_count": 84,
     "metadata": {},
     "output_type": "execute_result"
    }
   ],
   "source": [
    "vec.get_feature_names()"
   ]
  },
  {
   "cell_type": "code",
   "execution_count": 85,
   "metadata": {},
   "outputs": [
    {
     "data": {
      "text/html": [
       "<div>\n",
       "<style scoped>\n",
       "    .dataframe tbody tr th:only-of-type {\n",
       "        vertical-align: middle;\n",
       "    }\n",
       "\n",
       "    .dataframe tbody tr th {\n",
       "        vertical-align: top;\n",
       "    }\n",
       "\n",
       "    .dataframe thead th {\n",
       "        text-align: right;\n",
       "    }\n",
       "</style>\n",
       "<table border=\"1\" class=\"dataframe\">\n",
       "  <thead>\n",
       "    <tr style=\"text-align: right;\">\n",
       "      <th></th>\n",
       "      <th>08002986030</th>\n",
       "      <th>100000</th>\n",
       "      <th>11</th>\n",
       "      <th>900</th>\n",
       "      <th>all</th>\n",
       "      <th>always</th>\n",
       "      <th>are</th>\n",
       "      <th>around</th>\n",
       "      <th>as</th>\n",
       "      <th>been</th>\n",
       "      <th>...</th>\n",
       "      <th>update</th>\n",
       "      <th>urgent</th>\n",
       "      <th>usf</th>\n",
       "      <th>valued</th>\n",
       "      <th>vettam</th>\n",
       "      <th>week</th>\n",
       "      <th>with</th>\n",
       "      <th>won</th>\n",
       "      <th>you</th>\n",
       "      <th>your</th>\n",
       "    </tr>\n",
       "  </thead>\n",
       "  <tbody>\n",
       "    <tr>\n",
       "      <th>URGENT!! As a valued network customer you have been selected to receive a £900 prize reward!</th>\n",
       "      <td>0</td>\n",
       "      <td>0</td>\n",
       "      <td>0</td>\n",
       "      <td>1</td>\n",
       "      <td>0</td>\n",
       "      <td>0</td>\n",
       "      <td>0</td>\n",
       "      <td>0</td>\n",
       "      <td>1</td>\n",
       "      <td>1</td>\n",
       "      <td>...</td>\n",
       "      <td>0</td>\n",
       "      <td>1</td>\n",
       "      <td>0</td>\n",
       "      <td>1</td>\n",
       "      <td>0</td>\n",
       "      <td>0</td>\n",
       "      <td>0</td>\n",
       "      <td>0</td>\n",
       "      <td>1</td>\n",
       "      <td>0</td>\n",
       "    </tr>\n",
       "    <tr>\n",
       "      <th>Lol you are always so convincing.</th>\n",
       "      <td>0</td>\n",
       "      <td>0</td>\n",
       "      <td>0</td>\n",
       "      <td>0</td>\n",
       "      <td>0</td>\n",
       "      <td>1</td>\n",
       "      <td>1</td>\n",
       "      <td>0</td>\n",
       "      <td>0</td>\n",
       "      <td>0</td>\n",
       "      <td>...</td>\n",
       "      <td>0</td>\n",
       "      <td>0</td>\n",
       "      <td>0</td>\n",
       "      <td>0</td>\n",
       "      <td>0</td>\n",
       "      <td>0</td>\n",
       "      <td>0</td>\n",
       "      <td>0</td>\n",
       "      <td>1</td>\n",
       "      <td>0</td>\n",
       "    </tr>\n",
       "    <tr>\n",
       "      <th>Nah I don't think he goes to usf, he lives around here though</th>\n",
       "      <td>0</td>\n",
       "      <td>0</td>\n",
       "      <td>0</td>\n",
       "      <td>0</td>\n",
       "      <td>0</td>\n",
       "      <td>0</td>\n",
       "      <td>0</td>\n",
       "      <td>1</td>\n",
       "      <td>0</td>\n",
       "      <td>0</td>\n",
       "      <td>...</td>\n",
       "      <td>0</td>\n",
       "      <td>0</td>\n",
       "      <td>1</td>\n",
       "      <td>0</td>\n",
       "      <td>0</td>\n",
       "      <td>0</td>\n",
       "      <td>0</td>\n",
       "      <td>0</td>\n",
       "      <td>0</td>\n",
       "      <td>0</td>\n",
       "    </tr>\n",
       "    <tr>\n",
       "      <th>URGENT! You have won a 1 week FREE membership in our £100000 prize Jackpot!</th>\n",
       "      <td>0</td>\n",
       "      <td>1</td>\n",
       "      <td>0</td>\n",
       "      <td>0</td>\n",
       "      <td>0</td>\n",
       "      <td>0</td>\n",
       "      <td>0</td>\n",
       "      <td>0</td>\n",
       "      <td>0</td>\n",
       "      <td>0</td>\n",
       "      <td>...</td>\n",
       "      <td>0</td>\n",
       "      <td>1</td>\n",
       "      <td>0</td>\n",
       "      <td>0</td>\n",
       "      <td>0</td>\n",
       "      <td>1</td>\n",
       "      <td>0</td>\n",
       "      <td>1</td>\n",
       "      <td>1</td>\n",
       "      <td>0</td>\n",
       "    </tr>\n",
       "    <tr>\n",
       "      <th>Had your mobile 11 months or more? U R entitled to Update to the latest colour mobiles with camera for Free! Call The Mobile Update Co FREE on 08002986030</th>\n",
       "      <td>1</td>\n",
       "      <td>0</td>\n",
       "      <td>1</td>\n",
       "      <td>0</td>\n",
       "      <td>0</td>\n",
       "      <td>0</td>\n",
       "      <td>0</td>\n",
       "      <td>0</td>\n",
       "      <td>0</td>\n",
       "      <td>0</td>\n",
       "      <td>...</td>\n",
       "      <td>2</td>\n",
       "      <td>0</td>\n",
       "      <td>0</td>\n",
       "      <td>0</td>\n",
       "      <td>0</td>\n",
       "      <td>0</td>\n",
       "      <td>1</td>\n",
       "      <td>0</td>\n",
       "      <td>0</td>\n",
       "      <td>1</td>\n",
       "    </tr>\n",
       "    <tr>\n",
       "      <th>As per your request 'Melle Melle (Oru Minnaminunginte Nurungu Vettam)' has been set as your callertune for all Callers. Press *9 to copy your friends Callertune</th>\n",
       "      <td>0</td>\n",
       "      <td>0</td>\n",
       "      <td>0</td>\n",
       "      <td>0</td>\n",
       "      <td>1</td>\n",
       "      <td>0</td>\n",
       "      <td>0</td>\n",
       "      <td>0</td>\n",
       "      <td>2</td>\n",
       "      <td>1</td>\n",
       "      <td>...</td>\n",
       "      <td>0</td>\n",
       "      <td>0</td>\n",
       "      <td>0</td>\n",
       "      <td>0</td>\n",
       "      <td>1</td>\n",
       "      <td>0</td>\n",
       "      <td>0</td>\n",
       "      <td>0</td>\n",
       "      <td>0</td>\n",
       "      <td>3</td>\n",
       "    </tr>\n",
       "  </tbody>\n",
       "</table>\n",
       "<p>6 rows × 72 columns</p>\n",
       "</div>"
      ],
      "text/plain": [
       "                                                    08002986030  100000  11  \\\n",
       "URGENT!! As a valued network customer you have ...            0       0   0   \n",
       "Lol you are always so convincing.                             0       0   0   \n",
       "Nah I don't think he goes to usf, he lives arou...            0       0   0   \n",
       "URGENT! You have won a 1 week FREE membership i...            0       1   0   \n",
       "Had your mobile 11 months or more? U R entitled...            1       0   1   \n",
       "As per your request 'Melle Melle (Oru Minnaminu...            0       0   0   \n",
       "\n",
       "                                                    900  all  always  are  \\\n",
       "URGENT!! As a valued network customer you have ...    1    0       0    0   \n",
       "Lol you are always so convincing.                     0    0       1    1   \n",
       "Nah I don't think he goes to usf, he lives arou...    0    0       0    0   \n",
       "URGENT! You have won a 1 week FREE membership i...    0    0       0    0   \n",
       "Had your mobile 11 months or more? U R entitled...    0    0       0    0   \n",
       "As per your request 'Melle Melle (Oru Minnaminu...    0    1       0    0   \n",
       "\n",
       "                                                    around  as  been  ...  \\\n",
       "URGENT!! As a valued network customer you have ...       0   1     1  ...   \n",
       "Lol you are always so convincing.                        0   0     0  ...   \n",
       "Nah I don't think he goes to usf, he lives arou...       1   0     0  ...   \n",
       "URGENT! You have won a 1 week FREE membership i...       0   0     0  ...   \n",
       "Had your mobile 11 months or more? U R entitled...       0   0     0  ...   \n",
       "As per your request 'Melle Melle (Oru Minnaminu...       0   2     1  ...   \n",
       "\n",
       "                                                    update  urgent  usf  \\\n",
       "URGENT!! As a valued network customer you have ...       0       1    0   \n",
       "Lol you are always so convincing.                        0       0    0   \n",
       "Nah I don't think he goes to usf, he lives arou...       0       0    1   \n",
       "URGENT! You have won a 1 week FREE membership i...       0       1    0   \n",
       "Had your mobile 11 months or more? U R entitled...       2       0    0   \n",
       "As per your request 'Melle Melle (Oru Minnaminu...       0       0    0   \n",
       "\n",
       "                                                    valued  vettam  week  \\\n",
       "URGENT!! As a valued network customer you have ...       1       0     0   \n",
       "Lol you are always so convincing.                        0       0     0   \n",
       "Nah I don't think he goes to usf, he lives arou...       0       0     0   \n",
       "URGENT! You have won a 1 week FREE membership i...       0       0     1   \n",
       "Had your mobile 11 months or more? U R entitled...       0       0     0   \n",
       "As per your request 'Melle Melle (Oru Minnaminu...       0       1     0   \n",
       "\n",
       "                                                    with  won  you  your  \n",
       "URGENT!! As a valued network customer you have ...     0    0    1     0  \n",
       "Lol you are always so convincing.                      0    0    1     0  \n",
       "Nah I don't think he goes to usf, he lives arou...     0    0    0     0  \n",
       "URGENT! You have won a 1 week FREE membership i...     0    1    1     0  \n",
       "Had your mobile 11 months or more? U R entitled...     1    0    0     1  \n",
       "As per your request 'Melle Melle (Oru Minnaminu...     0    0    0     3  \n",
       "\n",
       "[6 rows x 72 columns]"
      ]
     },
     "execution_count": 85,
     "metadata": {},
     "output_type": "execute_result"
    }
   ],
   "source": [
    "bow_df"
   ]
  },
  {
   "cell_type": "markdown",
   "metadata": {},
   "source": [
    "We can use `CountVectorizer()` in a pipeline just like any other transformer. "
   ]
  },
  {
   "cell_type": "code",
   "execution_count": 91,
   "metadata": {},
   "outputs": [],
   "source": [
    "pipe = make_pipeline(CountVectorizer(), SVC())\n",
    "\n",
    "pipe.fit(X, y);"
   ]
  },
  {
   "cell_type": "code",
   "execution_count": 92,
   "metadata": {},
   "outputs": [
    {
     "data": {
      "text/plain": [
       "array(['spam', 'non spam', 'non spam', 'spam', 'spam', 'non spam'],\n",
       "      dtype='<U8')"
      ]
     },
     "execution_count": 92,
     "metadata": {},
     "output_type": "execute_result"
    }
   ],
   "source": [
    "pipe.predict(X)"
   ]
  },
  {
   "cell_type": "code",
   "execution_count": 93,
   "metadata": {},
   "outputs": [
    {
     "data": {
      "text/plain": [
       "1.0"
      ]
     },
     "execution_count": 93,
     "metadata": {},
     "output_type": "execute_result"
    }
   ],
   "source": [
    "pipe.score(X,y)"
   ]
  },
  {
   "cell_type": "markdown",
   "metadata": {},
   "source": [
    "Here we get a perfect score on our toy dataset data that it's seen already.\n",
    "\n",
    "How well does it do on unseen data?"
   ]
  },
  {
   "cell_type": "code",
   "execution_count": 95,
   "metadata": {},
   "outputs": [],
   "source": [
    "X_new = [\n",
    "    \"Congratulations! You have been awarded $1000!\",\n",
    "    \"Mom, can you pick me up from soccer practice?\",\n",
    "    \"I'm trying to bake a cake and I forgot to put sugar in it smh. \",\n",
    "    \"URGENT: please pick up your car at 2pm from servicing\",\n",
    "    \"Call 234950323 for a FREE consultation. It's your lucky day!\" ]\n",
    "    \n",
    "y_new = [\"spam\", \"non spam\", \"non spam\", \"non spam\", \"spam\"]"
   ]
  },
  {
   "cell_type": "code",
   "execution_count": 96,
   "metadata": {},
   "outputs": [
    {
     "data": {
      "text/plain": [
       "0.8"
      ]
     },
     "execution_count": 96,
     "metadata": {},
     "output_type": "execute_result"
    }
   ],
   "source": [
    "pipe.score(X_new,y_new)"
   ]
  },
  {
   "cell_type": "markdown",
   "metadata": {},
   "source": [
    "It's not perfect but it seems to do well on this data too. "
   ]
  },
  {
   "cell_type": "markdown",
   "metadata": {},
   "source": [
    "### Is this a realistic representation of text data? \n",
    "\n",
    "Of course, this is not a great representation of language.\n",
    "\n",
    "- We are throwing out everything we know about language and losing a lot of information. \n",
    "- It assumes that there is no syntax and compositional meaning in language.  \n",
    "\n",
    "\n",
    " ...But it works surprisingly well for many tasks. "
   ]
  },
  {
   "cell_type": "markdown",
   "metadata": {},
   "source": [
    "## Let's Practice\n",
    "\n",
    "1. \n",
    "What is the size of the vocabulary for the examples below?\n",
    "\n",
    "```\n",
    "X = [ \"Take me to the river\",\n",
    "    \"Drop me in the water\",\n",
    "    \"Push me in the river\",\n",
    "    \"dip me in the water\"]\n",
    "```\n",
    "2. \n",
    "\n",
    "Which of the following is not a hyperparameter of `CountVectorizer()`?   \n",
    "- `binary`\n",
    "- `max_features` \n",
    "- `vocab`\n",
    "- `ngram_range`\n",
    "\n",
    "3. What kind of representation do we use for our vocabulary? \n",
    "\n",
    "**True or False**     \n",
    "\n",
    "3. As you increase the value for the `max_features` hyperparameter of `CountVectorizer`, the training score is likely to go up.\n",
    "\n",
    "4. If we encounter a word in the validation or the test split that's not available in the training data, we'll get an error.\n"
   ]
  },
  {
   "cell_type": "markdown",
   "metadata": {},
   "source": [
    "### Coding Practice \n",
    "\n",
    "We are going to bring in a new dataset for you to practice on. (Make sure you've downloaded it from the `data` folder from the `lectures` section in Canvas). \n",
    "\n",
    "This dataset contains a text column containing tweets associated with disaster keywords and a target column denoting whether a tweet is about a real disaster (1) or not (0). [[Source](Source)]"
   ]
  },
  {
   "cell_type": "code",
   "execution_count": 122,
   "metadata": {},
   "outputs": [
    {
     "data": {
      "text/plain": [
       "3219    Buri handwoven bags : • Buri handbag - Php 280...\n",
       "3825    Energetic and Comedic Redhead Teen, just seen ...\n",
       "1544    A 63 year old man charged in connection with a...\n",
       "1050    Water levels in Venice drastically drop two mo...\n",
       "296     2 buildings on fire at seminole State College ...\n",
       "Name: text, dtype: object"
      ]
     },
     "execution_count": 122,
     "metadata": {},
     "output_type": "execute_result"
    }
   ],
   "source": [
    "# Loading in the data\n",
    "tweets_df = pd.read_csv('data/balanced_tweets.csv').dropna(subset=['target'])\n",
    "\n",
    "# Split the dataset into the feature table `X` and the target value `y`\n",
    "X = tweets_df['text']\n",
    "y = tweets_df['target']\n",
    "\n",
    "# Split the dataset into X_train, X_test, y_train, y_test \n",
    "X_train, X_test, y_train, y_test = train_test_split(X,y, test_size=0.2, random_state=7)\n",
    "\n",
    "X_train.head()"
   ]
  },
  {
   "cell_type": "markdown",
   "metadata": {},
   "source": [
    "1. Make a pipeline with `CountVectorizer` as the first step and `SVC()` as the second.\n",
    "2. Perform 5 fold cross-validation using your pipeline and return the training score. \n",
    "3. Convert the results into a dataframe. \n",
    "4. What are the mean training and validation scores? \n",
    "5. Train your pipeline on the training set.\n",
    "6. Score the pipeline  on the test set."
   ]
  },
  {
   "cell_type": "code",
   "execution_count": null,
   "metadata": {},
   "outputs": [],
   "source": []
  },
  {
   "cell_type": "code",
   "execution_count": null,
   "metadata": {},
   "outputs": [],
   "source": []
  }
 ],
 "metadata": {
  "kernelspec": {
   "display_name": "Python 3",
   "language": "python",
   "name": "python3"
  },
  "language_info": {
   "codemirror_mode": {
    "name": "ipython",
    "version": 3
   },
   "file_extension": ".py",
   "mimetype": "text/x-python",
   "name": "python",
   "nbconvert_exporter": "python",
   "pygments_lexer": "ipython3",
   "version": "3.8.5"
  },
  "toc": {
   "base_numbering": 1,
   "nav_menu": {},
   "number_sections": true,
   "sideBar": true,
   "skip_h1_title": false,
   "title_cell": "Table of Contents",
   "title_sidebar": "Contents",
   "toc_cell": true,
   "toc_position": {},
   "toc_section_display": true,
   "toc_window_display": true
  }
 },
 "nbformat": 4,
 "nbformat_minor": 4
}
