{
 "cells": [
  {
   "cell_type": "markdown",
   "metadata": {},
   "source": [
    "# BAIT 509: Business Applications of Machine Learning\n",
    "## Lecture 7 - Machine learning workflow and forming good machine learning questions from business questions\n",
    "Tomas Beuzen, 27th January 2020"
   ]
  },
  {
   "cell_type": "markdown",
   "metadata": {},
   "source": [
    "# Lecture outline\n",
    "- [0. Recap (5 mins)](#0)\n",
    "- [1. Lecture learning objectives](#1)\n",
    "- [2. Forming statistical questions to answer business objectives](#2)\n",
    "- [--- Break --- (10 mins)](#break)\n",
    "- [3. Machine learning pipelines (advanced material - only if we have time)](#3)\n",
    "- [4. Final project](#4)"
   ]
  },
  {
   "cell_type": "markdown",
   "metadata": {},
   "source": [
    "# Announcements"
   ]
  },
  {
   "cell_type": "markdown",
   "metadata": {},
   "source": [
    "- Final project released! We'll talk about it in today's lecture (due **Friday 14th February, 11:59pm**)\n",
    "- Assignment 3 will be released tomorrow (due **Friday 7th February, 11:59pm**)\n",
    "- Assigment 1 grades will be released tomorrow\n",
    "- A few students have mentioned an issue with their computer running out of memory when using CountVectorizer and fitting an estimator\n",
    "    - This will usually happen if you try to coerce your vectorized data to an array using `.toarray()` (or similar)\n",
    "    - By default, `CountVectorizer` returns a sparse matrix and you should leave the data in this form!\n",
    "    - Sparse matrices are a more memory-efficient way of storing data\n",
    "    \n",
    "<img src='./img/sparse.png' width=\"600\"> "
   ]
  },
  {
   "cell_type": "markdown",
   "metadata": {},
   "source": [
    "# 0. Recap  (5 mins) <a id=0></a>\n",
    "\n",
    "- Feature selection: how to select features that are important for your models\n",
    "- Model selection: how to choose the best model for your problem\n",
    "- Advanced hyperparameter tuning: how to use `GridSearchCV` to efficiently tune our models"
   ]
  },
  {
   "cell_type": "markdown",
   "metadata": {},
   "source": [
    "# 1. Lecture learning objectives <a id=1></a>\n",
    "\n",
    "- Distilling supervised learning questions form business questions/objectives\n",
    "- Describe the typical ML workflow/pipeline\n",
    "- Use the sklearn function `pipeline` to create an ML pipeline"
   ]
  },
  {
   "cell_type": "markdown",
   "metadata": {},
   "source": [
    "# 2. Forming statistical questions to answer business objectives (30 mins) <a id=2></a>\n",
    "\n",
    "Today, we’re going to take a break from supervised learning methods, and look at the process involved to use machine learning to address a question/problem faced by an organization.\n",
    "\n",
    "Generally, there are four parts of a machine learning analysis. In order from high to low level:\n",
    "\n",
    "1. **The business question/objective**\n",
    "2. **The statistical question/objective**\n",
    "3. **The data and model**\n",
    "4. **The data product**"
   ]
  },
  {
   "cell_type": "markdown",
   "metadata": {},
   "source": [
    "Doing a machine learning analysis is about distilling from the highest level to the lowest level. As such, there are three distillations to keep in mind: 1-2, 2-3, and 3-4:\n",
    "\n",
    "- **1-2 is about asking the right questions**\n",
    "- **2-3 is about building a useful model**\n",
    "- **3-4 is about communicating the results**\n",
    "    \n",
    "Note that an analysis isn’t a linear progression through these “steps”; rather, the process is iterative. This is because none of the components are independent. Making progress on any of the three distillations gives you more information as to what the problem is.\n",
    "\n",
    "We’ll look at each of these distillations in turn."
   ]
  },
  {
   "cell_type": "markdown",
   "metadata": {},
   "source": [
    "## 2.1 (1 - 2) Asking useful statistical questions\n",
    "\n",
    "- Usually, a company is not served up a machine learning problem, complete with data and a description of the response and predictors.\n",
    "- Instead, they’re faced with some high-level objective/question that we’ll call the **business question/objective**\n",
    "- This question needs refining to a **statistical question/objective** – one that is directly addressable by machine learning."
   ]
  },
  {
   "cell_type": "markdown",
   "metadata": {},
   "source": [
    "### 2.1.1 Business objectives: examples\n",
    "- This [altexsoft blog post](https://www.altexsoft.com/blog/business/supervised-learning-use-cases-low-hanging-fruit-in-data-science-for-businesses/) is a great introduction to business use cases of data science/ML\n",
    "- Examples of business objectives (for which machine learning is a relevant approach)\n",
    "    - Reduce the amount of spam email received\n",
    "    - Early prediction of product failure\n",
    "    - Find undervalued mines\n",
    "    - Make a transit system more efficient\n",
    "    - Hire efficient staff"
   ]
  },
  {
   "cell_type": "markdown",
   "metadata": {},
   "source": [
    "### 2.1.2 Refining business objectives to statistical objectives\n",
    "- Statistical objectives need to be specific\n",
    "- Remember that supervised learning is about predicting a response $Y$ from predictors $X_1,…,X_p$\n",
    "- So we need to refine our business objectives to a statistical question(s) we can answer\n",
    "- This typically involves:\n",
    "    - Identifying the **response variable** ($Y$) that is most aligned with the business objective.\n",
    "    - Identifying the **data** (observations + features) that will be used for model development/testing.\n",
    "    - Note: part of this is the task of feature selection (a topic that we've covered briefly) – but, this is also largely, a human decision based on what we think is more informative, as well as a resource questions (what data is actually available?)"
   ]
  },
  {
   "cell_type": "markdown",
   "metadata": {},
   "source": [
    "### 2.1.3 Statistical objectives: examples\n",
    "Statistical objectives corresponding to the above business objective examples might be:\n",
    "\n",
    "| Business Objective | Statistical Question |\n",
    "| :--- | :--- |\n",
    "| Reduce the amount of spam email received | <ul><li>$Y$ = classifying an email as spam/not spam <li> $X$ = words present in name and body of email and other metadata (sender email, time, etc.) <li> Cases of spam will be gathered over time as employees identify emails as spam/not spam. Model improved in future as misclassifications are encountered.</ul>\n",
    "| Early prediction of product failure | <ul><li>$Y$ = classifying a product as faulty/not faulty <li> $X$ = Relevant features chosen by expert <li> Data obtained from test facility</ul>\n",
    "| Find undervalued mines | <ul><li>$Y$ = total volume of gold and silver at a site <li> $X$ =  concentrations of other minerals found in drill samples, geographic information, historical data, etc <li> Data obtained from mines where total volumes are already known</ul>\n",
    "| Make a transit system more efficient | <ul><li>$Y$ = predict the time it takes a bus to travel between set stops <li> $X$ = time of day/week/year, weather, etc. <li> Use data from company server tracking bus movements</ul>\n",
    "| Hire efficient staff | <ul><li>$Y$ = predict monthly sales <li> $X$ = a personality test, years of work experience, field of experience, etc. <li> Use data based on current employees</ul>"
   ]
  },
  {
   "cell_type": "markdown",
   "metadata": {},
   "source": [
    "### 2.1.4 Statistical questions are not the full picture!\n",
    "- Almost always, the business objective is more complex than the statistical objective\n",
    "- By refining a business objective to a statistical one, we may lose part of the essence of the business objective.\n",
    "- It’s important to have a sense of the ways in which your statistical objective falls short, and the ways in which it’s on the mark, so that you keep a sense of the big picture.\n",
    "- For example, predicting whether a new staff hire will be efficient or not is a useful statistical question, but doesn't consider why a company might be attracting certain applicants, how long staff will remain, how staff work together, etc."
   ]
  },
  {
   "cell_type": "markdown",
   "metadata": {},
   "source": [
    "### 2.1.5 Statistical objectives unrelated to supervised learning\n",
    "- We are only focussing on statistical questions related to supervised learning and prediction in this course\n",
    "- But there are other kinds of questions you can ask too\n",
    "- Consider the following example\n",
    "\n",
    "**Business objective**: To gain insight into the productivity of two branches of a company.\n",
    "\n",
    "Examples of statistical questions:\n",
    "\n",
    "- **Hypothesis testing**: Is the mean number of sick days per employee different between two branches of a company?\n",
    "    - Supervised learning doesn’t cover testing for differences.\n",
    "- **Unsupervised learning**: What is the mean sentiment of the internal discussion channels from both branches?\n",
    "    - There is no data of feature + response here, as required by supervised learning (by definition).\n",
    "- **Statistical inference**: Estimate the mean difference in monthly revenue generated by both branches, along with how certain you are with that estimate.\n",
    "    - Supervised learning typically isn’t concerned about communicating how certain your estimate is."
   ]
  },
  {
   "cell_type": "markdown",
   "metadata": {},
   "source": [
    "## 2.2 (2 - 3) Building a useful model\n",
    "- This is really the main focus of this course\n",
    "- This involves using ML algorithms (kNN, loess, decision trees, etc) to build a predictive model from data\n",
    "- One piece of advice here is always start with/include a null model (mean/mode prediction) and a simple model (linear regress/logistic regression)\n",
    "- Oftentimes a simple model does as well as a more complex approach! Or at the very least can help guide you on what more complex approaches to take next."
   ]
  },
  {
   "cell_type": "markdown",
   "metadata": {},
   "source": [
    "## 2.3 (3 - 4) Communicating results\n",
    "- So you've distilled your business objectives to a statistical question\n",
    "- You've developed a model to answer the statistical question\n",
    "- Now your model needs to be delivered and used by others (or your future self)!\n",
    "- The final delivery is often called \"the data product\" because it may conist of a variety of things:\n",
    "    - a report\n",
    "    - a presentation\n",
    "    - an app\n",
    "    - a software package/pipeline\n",
    "- Sometimes the client requests a specific data product\n",
    "- But note that their suggestion might not always be the best option. Perhaps they request a report and presentation communicating your findings, when a more appropriate product also includes an interactive app that allows them to explore your findings for themselves.\n",
    "- Either way, the key here is communication. Two import challenges (relevant to your final project):\n",
    "    - Using appropriate language: there is a lot of jargon in ML, the key is to talk more about the output and the general idea of your model(s), but not machine learning or statistical jargon.\n",
    "    - Communication with visual design: this is about choosing what visuals are the most effective for communicating.\n",
    "- Usually, the first step is to set up a framework of your data product. For a report, this means outlining what you intend to write about, and where.\n",
    "- Showing it to your client is useful as a sanity check to see that you’re about to produce something that the client currently sees as being potentially useful."
   ]
  },
  {
   "cell_type": "markdown",
   "metadata": {},
   "source": [
    "# -------- Break (10 mins) -------- <a id=\"break\"></a>"
   ]
  },
  {
   "cell_type": "markdown",
   "metadata": {},
   "source": [
    "# 3. Machine learning pipelines (advanced material - only if we have time) (15 mins) <a id=3></a>\n",
    "\n",
    "- So far we've learned about several key steps in ML development:\n",
    "    - Feature pre-processing\n",
    "    - Feature selection\n",
    "    - Model selection (algorithm choice and hyperparameter tuning)\n",
    "- We've also learned that it's important to keep our training and testing datasets separate (**the golden rule**)\n",
    "- But implementing and remembering all these steps in a suitable way can quickly become unwieldy\n",
    "- [Pipelines](https://scikit-learn.org/stable/modules/compose.html) exists to help with this issue\n",
    "- The most relevant function for you is sklearn's [`Pipeline`](https://scikit-learn.org/stable/modules/generated/sklearn.pipeline.Pipeline.html#sklearn.pipeline.Pipeline)\n",
    "- It will be easiest to see by example\n",
    "- I am going to use the twitter-airline-sentiment dataset we used previously to demonstrate a ML pipeline\n",
    "- We will do the following steps:\n",
    "    - Vectorise the data with `CountVectorizer()`\n",
    "    - Select the best k features\n",
    "    - Select between a Logistic Regression model and Naive Bayes model (including tuning hyperparameters)"
   ]
  },
  {
   "cell_type": "markdown",
   "metadata": {},
   "source": [
    "- First let's load in the packages we need for this demo"
   ]
  },
  {
   "cell_type": "code",
   "execution_count": 1,
   "metadata": {},
   "outputs": [],
   "source": [
    "import numpy as np\n",
    "import pandas as pd\n",
    "from sklearn.linear_model import LogisticRegression\n",
    "from sklearn.naive_bayes import MultinomialNB\n",
    "from sklearn.model_selection import train_test_split, cross_validate\n",
    "from sklearn.feature_extraction.text import CountVectorizer\n",
    "from sklearn.feature_selection import SelectKBest, chi2\n",
    "from sklearn.model_selection import GridSearchCV\n",
    "from sklearn.pipeline import Pipeline # <--- this is the pipeline function!"
   ]
  },
  {
   "cell_type": "markdown",
   "metadata": {},
   "source": [
    "- Now let's load in the twitter airline data and split it into train/test portions"
   ]
  },
  {
   "cell_type": "code",
   "execution_count": 32,
   "metadata": {},
   "outputs": [],
   "source": [
    "df = pd.read_csv('data/twitter-airline-sentiment.csv')\n",
    "X = df['tweet']\n",
    "y = df['sentiment']\n",
    "X_train, X_test, y_train, y_test = train_test_split(X,\n",
    "                                                    y,\n",
    "                                                    test_size=0.2,\n",
    "                                                    random_state=123)"
   ]
  },
  {
   "cell_type": "markdown",
   "metadata": {},
   "source": [
    "- Okay, so we are going to set-up our workflow using a pipeline\n",
    "- Pipelines are simply objects that contain all of our modelling steps in one place\n",
    "- They usually comprise pre-processing techniques, feature selection techniques, and the last step is always a ML algorithm\n",
    "- We enter steps into the pipeline as `(name, estimator)` pairs\n",
    "- The below code sets up a pipeline for our problem, it contains:\n",
    "    - `('vectorizer', CountVectorizer(stop_words='english')`: transforming our words into numeric vectors\n",
    "    - `('selector', SelectKBest(chi2, k=5))`: selecting our best features (we've entered k=5 for now, but it's just a placeholder that will vary in the pipeline)\n",
    "    - `('classifier', LogisticRegression(solver='lbfgs'))`: our ML algorithm (we've entered LogisticRegression for now, but it's just a palceholder that will vary in the pipeline)"
   ]
  },
  {
   "cell_type": "code",
   "execution_count": 33,
   "metadata": {},
   "outputs": [],
   "source": [
    "pipe = Pipeline([('vectorizer', CountVectorizer(stop_words='english')),\n",
    "                 ('selector', SelectKBest(chi2, k=5)),\n",
    "                 ('classifier', LogisticRegression(solver='lbfgs'))])"
   ]
  },
  {
   "cell_type": "markdown",
   "metadata": {},
   "source": [
    "- The next thing we need to do is define our search space\n",
    "- This search space contains all the hyperparameters and models that we want to search through\n",
    "- Let's talk through the following dictionary\n",
    "- Notably, to change the hyperparameters of these different steaps, we need to use double-underscore notation `__`"
   ]
  },
  {
   "cell_type": "code",
   "execution_count": 34,
   "metadata": {},
   "outputs": [],
   "source": [
    "search_space = [{'selector__k': [5, 10, 20, 100]},\n",
    "                {'classifier': [LogisticRegression(solver='lbfgs')],\n",
    "                 'classifier__C': [0.01, 0.1, 1.0]},\n",
    "                {'classifier': [MultinomialNB()],\n",
    "                 'classifier__alpha': [0.01, 0.1, 1, 10]}]"
   ]
  },
  {
   "cell_type": "markdown",
   "metadata": {},
   "source": [
    "- Now we are ready to use `GridSearchCV` to look through our list of hyperparameters!\n",
    "- We will first create the object"
   ]
  },
  {
   "cell_type": "code",
   "execution_count": 35,
   "metadata": {},
   "outputs": [],
   "source": [
    "clf = GridSearchCV(pipe, search_space, cv=5, verbose=0)"
   ]
  },
  {
   "cell_type": "markdown",
   "metadata": {},
   "source": [
    "- Now we will fit the GridSearchCV with our training data"
   ]
  },
  {
   "cell_type": "code",
   "execution_count": 36,
   "metadata": {},
   "outputs": [],
   "source": [
    "best_model = clf.fit(X_train, y_train)"
   ]
  },
  {
   "cell_type": "markdown",
   "metadata": {},
   "source": [
    "- Finally we can access the various results of our model using its attributes\n",
    "- Let's find what the best model was:"
   ]
  },
  {
   "cell_type": "code",
   "execution_count": 44,
   "metadata": {},
   "outputs": [
    {
     "data": {
      "text/plain": [
       "LogisticRegression(C=1.0, class_weight=None, dual=False, fit_intercept=True,\n",
       "                   intercept_scaling=1, l1_ratio=None, max_iter=100,\n",
       "                   multi_class='warn', n_jobs=None, penalty='l2',\n",
       "                   random_state=None, solver='lbfgs', tol=0.0001, verbose=0,\n",
       "                   warm_start=False)"
      ]
     },
     "execution_count": 44,
     "metadata": {},
     "output_type": "execute_result"
    }
   ],
   "source": [
    "best_model.best_estimator_.get_params()['classifier']"
   ]
  },
  {
   "cell_type": "markdown",
   "metadata": {},
   "source": [
    "- Now let's find what the best number of features (`k`) was:"
   ]
  },
  {
   "cell_type": "code",
   "execution_count": 45,
   "metadata": {},
   "outputs": [
    {
     "data": {
      "text/plain": [
       "{'selector__k': 100}"
      ]
     },
     "execution_count": 45,
     "metadata": {},
     "output_type": "execute_result"
    }
   ],
   "source": [
    "best_model.best_params_"
   ]
  },
  {
   "cell_type": "markdown",
   "metadata": {},
   "source": [
    "- We can also find the best cross-validation score that our 'best combination' achieved"
   ]
  },
  {
   "cell_type": "code",
   "execution_count": 48,
   "metadata": {},
   "outputs": [
    {
     "name": "stdout",
     "output_type": "stream",
     "text": [
      "Best model error = 0.11\n"
     ]
    }
   ],
   "source": [
    "print(f\"Best model error = {1 - best_model.best_score_:.2f}\")"
   ]
  },
  {
   "cell_type": "markdown",
   "metadata": {},
   "source": [
    "- Now the wonderful thing here is that everything is contained within our `best_model` object\n",
    "- We can use it to make predictions on new data and it will apply the exact same steps (preprocessing, feature selection, optimum model) to that data\n",
    "- Let's give it a try!\n",
    "- First let's get the error on the test data\n",
    "- Remember that the test data is still in its raw form of tweets"
   ]
  },
  {
   "cell_type": "code",
   "execution_count": 52,
   "metadata": {},
   "outputs": [
    {
     "data": {
      "text/plain": [
       "7240     “@USAirways: @hegshmeg O” thank you for that e...\n",
       "11311    @AmericanAir are you kidding me?  No one answe...\n",
       "7713     @USAirways please thank Mellie at CAE, Tammy i...\n",
       "5613     @JetBlue why would you hire a guy who doesn't ...\n",
       "3537     @SouthwestAir my wife and 9 month old might mi...\n",
       "Name: tweet, dtype: object"
      ]
     },
     "execution_count": 52,
     "metadata": {},
     "output_type": "execute_result"
    }
   ],
   "source": [
    "X_test.head()"
   ]
  },
  {
   "cell_type": "markdown",
   "metadata": {},
   "source": [
    "- But all the necessary preprocessing techniques are built into our `best_model` object\n",
    "- So we can use it to directly test our test data"
   ]
  },
  {
   "cell_type": "code",
   "execution_count": 56,
   "metadata": {},
   "outputs": [
    {
     "name": "stdout",
     "output_type": "stream",
     "text": [
      "Best model error = 0.10\n"
     ]
    }
   ],
   "source": [
    "print(f\"Best model error = {1 - best_model.score(X_test, y_test):.2f}\")"
   ]
  },
  {
   "cell_type": "markdown",
   "metadata": {},
   "source": [
    "- We can also pass in some arbitrary text data to predict!"
   ]
  },
  {
   "cell_type": "code",
   "execution_count": 57,
   "metadata": {},
   "outputs": [
    {
     "data": {
      "text/plain": [
       "array(['negative'], dtype=object)"
      ]
     },
     "execution_count": 57,
     "metadata": {},
     "output_type": "execute_result"
    }
   ],
   "source": [
    "best_model.predict(['this is some text data'])"
   ]
  },
  {
   "cell_type": "markdown",
   "metadata": {},
   "source": [
    "# 4. Final project (40 mins) <a id=4></a>"
   ]
  },
  {
   "cell_type": "markdown",
   "metadata": {},
   "source": [
    "For today’s practical component, you’ll be working with your final project team to start your final projects for this course. Use this time to:\n",
    "\n",
    "- Meet with your team mates;\n",
    "- Think about a project - choose the data and business objective.\n",
    "- Propose a statistical objective to address this.\n",
    "- Also, elaborate on the statistical objective. What’s your plan for the analysis?"
   ]
  }
 ],
 "metadata": {
  "kernelspec": {
   "display_name": "Python 3",
   "language": "python",
   "name": "python3"
  },
  "language_info": {
   "codemirror_mode": {
    "name": "ipython",
    "version": 3
   },
   "file_extension": ".py",
   "mimetype": "text/x-python",
   "name": "python",
   "nbconvert_exporter": "python",
   "pygments_lexer": "ipython3",
   "version": "3.7.4"
  }
 },
 "nbformat": 4,
 "nbformat_minor": 4
}
