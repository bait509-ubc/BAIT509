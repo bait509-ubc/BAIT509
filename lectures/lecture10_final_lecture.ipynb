{
 "cells": [
  {
   "cell_type": "markdown",
   "metadata": {},
   "source": [
    "# BAIT 509: Business Applications of Machine Learning\n",
    "## Lecture 10 - Final Lecture\n",
    "Tomas Beuzen, 3rd February 2020"
   ]
  },
  {
   "cell_type": "markdown",
   "metadata": {},
   "source": [
    "# Lecture outline\n",
    "- [0. Recap (5 mins)](#0)\n",
    "- [1. Moving Forward with Machine Learning (5 mins)](#1)\n",
    "- [2. A Pearl of Wisdom: Pandas Profiling (5 mins)](#2)\n",
    "- [3. Remaining time is to work on your final project](#3)"
   ]
  },
  {
   "cell_type": "markdown",
   "metadata": {},
   "source": [
    "# 0. Recap  (5 mins) <a id=0></a>\n",
    "\n",
    "- Understand how the Random Forest algorithm works\n",
    "- Discuss concepts of bagging and boosting\n",
    "- Describe metrics other than error and r2 for measuring ML performance"
   ]
  },
  {
   "cell_type": "markdown",
   "metadata": {},
   "source": [
    "# 1. Moving Forward with Machine Learning (5 mins) <a id=1></a>\n",
    "\n",
    "- If you're interested in continuing to learn/use ML I recommend the following:\n",
    "    - Start doing [Kaggle competitions](https://www.kaggle.com/competitions)\n",
    "    - Practice, practice, practice: try out these techniques on other datasets you've encountered in your studies, or in real life!\n",
    "    - Go back and dig more into the theory with texts such as:\n",
    "        - [Mathematics for Machine Learning](https://mml-book.github.io/)\n",
    "        - [The Elements of Statistical Learning](https://web.stanford.edu/~hastie/ElemStatLearn/)\n",
    "        - [Interpretable Machine Learning](https://christophm.github.io/interpretable-ml-book/)\n",
    "        - [Data Mining Practical Machine Learning Tools and Techniques](https://www.cs.waikato.ac.nz/ml/weka/book.html)"
   ]
  },
  {
   "cell_type": "markdown",
   "metadata": {},
   "source": [
    "# 2. A Pearl of Wisdom: Pandas Profiling (5 mins) <a id=2></a>\n",
    "\n",
    "- the magic bullet to EDA?\n",
    "- quickly generate summaries of dataframes including dtypes, stats, visuals, etc.\n",
    "- [Pandas profiling](https://github.com/pandas-profiling/pandas-profiling) is not part of base Pandas\n",
    "- If using conda, install with: `conda install -c conda-forge pandas-profiling`"
   ]
  },
  {
   "cell_type": "code",
   "execution_count": 1,
   "metadata": {},
   "outputs": [],
   "source": [
    "import pandas as pd\n",
    "from pandas_profiling import ProfileReport"
   ]
  },
  {
   "cell_type": "code",
   "execution_count": 2,
   "metadata": {},
   "outputs": [
    {
     "data": {
      "application/vnd.jupyter.widget-view+json": {
       "model_id": "e8fe5e061c8f4ec4ba70395f3b48b281",
       "version_major": 2,
       "version_minor": 0
      },
      "text/plain": [
       "Tab(children=(HTML(value='<div id=\"overview-content\" class=\"row variable spacing\">\\n    <div class=\"row\">\\n   …"
      ]
     },
     "metadata": {},
     "output_type": "display_data"
    },
    {
     "data": {
      "text/html": [
       "Report generated with <a href=\"https://github.com/pandas-profiling/pandas-profiling\">pandas-profiling</a>."
      ],
      "text/plain": [
       "<IPython.core.display.HTML object>"
      ]
     },
     "metadata": {},
     "output_type": "display_data"
    },
    {
     "data": {
      "text/plain": []
     },
     "execution_count": 2,
     "metadata": {},
     "output_type": "execute_result"
    }
   ],
   "source": [
    "df = (pd.read_csv('data/weatherAUS.csv')\n",
    "        .drop(columns=['Date', 'Location', 'RainTomorrow']))\n",
    "profile = ProfileReport(df, title='Pandas Profiling Report', html={'style':{'full_width':True}})\n",
    "profile"
   ]
  },
  {
   "cell_type": "markdown",
   "metadata": {},
   "source": [
    "# 3. Remaining time is to work on your final assignment <a id=3></a>"
   ]
  }
 ],
 "metadata": {
  "kernelspec": {
   "display_name": "Python 3",
   "language": "python",
   "name": "python3"
  },
  "language_info": {
   "codemirror_mode": {
    "name": "ipython",
    "version": 3
   },
   "file_extension": ".py",
   "mimetype": "text/x-python",
   "name": "python",
   "nbconvert_exporter": "python",
   "pygments_lexer": "ipython3",
   "version": "3.7.4"
  }
 },
 "nbformat": 4,
 "nbformat_minor": 4
}
