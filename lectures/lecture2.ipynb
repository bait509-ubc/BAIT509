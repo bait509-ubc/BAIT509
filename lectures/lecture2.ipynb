{
 "cells": [
  {
   "cell_type": "markdown",
   "metadata": {},
   "source": [
    "# Splitting and Cross-validation"
   ]
  },
  {
   "cell_type": "markdown",
   "metadata": {},
   "source": [
    "## Lecture Learning Objectives \n",
    "\n",
    "- Explain the concept of generalization.\n",
    "- Split a dataset into train and test sets using `train_test_split` function.\n",
    "- Explain the difference between train, validation, test, and \"deployment\" data.\n",
    "- Identify the difference between training error, validation error, and test error.\n",
    "- Explain cross-validation and use `cross_val_score()` and `cross_validate()` to calculate cross-validation error.\n",
    "- Explain overfitting, underfitting, and the fundamental tradeoff.\n",
    "- State the golden rule and identify the scenarios when it's violated."
   ]
  },
  {
   "cell_type": "markdown",
   "metadata": {},
   "source": [
    "## Five Minute Recap/ Lightning Questions \n",
    "\n",
    "- What is an example of machine learning? \n",
    "- Which type of machine learning does not have labels?\n",
    "- What is an example of a Regression problem? \n",
    "- In a dataframe, what is an observation? \n",
    "- What is the first node of a Decision Tree called?\n",
    "- Where/who determines the parameter values?\n",
    "- What library will we be using for machine learning? "
   ]
  },
  {
   "cell_type": "markdown",
   "metadata": {},
   "source": [
    "Let's start by creating a decision tree model as we did in lecture 1."
   ]
  },
  {
   "cell_type": "code",
   "execution_count": 1,
   "metadata": {},
   "outputs": [
    {
     "data": {
      "text/html": [
       "<div>\n",
       "<style scoped>\n",
       "    .dataframe tbody tr th:only-of-type {\n",
       "        vertical-align: middle;\n",
       "    }\n",
       "\n",
       "    .dataframe tbody tr th {\n",
       "        vertical-align: top;\n",
       "    }\n",
       "\n",
       "    .dataframe thead th {\n",
       "        text-align: right;\n",
       "    }\n",
       "</style>\n",
       "<table border=\"1\" class=\"dataframe\">\n",
       "  <thead>\n",
       "    <tr style=\"text-align: right;\">\n",
       "      <th></th>\n",
       "      <th>lon</th>\n",
       "      <th>lat</th>\n",
       "      <th>vote</th>\n",
       "    </tr>\n",
       "  </thead>\n",
       "  <tbody>\n",
       "    <tr>\n",
       "      <th>1</th>\n",
       "      <td>-80.162475</td>\n",
       "      <td>25.692104</td>\n",
       "      <td>blue</td>\n",
       "    </tr>\n",
       "    <tr>\n",
       "      <th>2</th>\n",
       "      <td>-80.214360</td>\n",
       "      <td>25.944083</td>\n",
       "      <td>blue</td>\n",
       "    </tr>\n",
       "    <tr>\n",
       "      <th>3</th>\n",
       "      <td>-80.094133</td>\n",
       "      <td>26.234314</td>\n",
       "      <td>blue</td>\n",
       "    </tr>\n",
       "    <tr>\n",
       "      <th>4</th>\n",
       "      <td>-80.248086</td>\n",
       "      <td>26.291902</td>\n",
       "      <td>blue</td>\n",
       "    </tr>\n",
       "    <tr>\n",
       "      <th>5</th>\n",
       "      <td>-81.789963</td>\n",
       "      <td>26.348035</td>\n",
       "      <td>blue</td>\n",
       "    </tr>\n",
       "    <tr>\n",
       "      <th>...</th>\n",
       "      <td>...</td>\n",
       "      <td>...</td>\n",
       "      <td>...</td>\n",
       "    </tr>\n",
       "    <tr>\n",
       "      <th>393</th>\n",
       "      <td>-101.115061</td>\n",
       "      <td>47.640333</td>\n",
       "      <td>red</td>\n",
       "    </tr>\n",
       "    <tr>\n",
       "      <th>394</th>\n",
       "      <td>-119.036728</td>\n",
       "      <td>47.926446</td>\n",
       "      <td>blue</td>\n",
       "    </tr>\n",
       "    <tr>\n",
       "      <th>395</th>\n",
       "      <td>-102.142732</td>\n",
       "      <td>47.955970</td>\n",
       "      <td>red</td>\n",
       "    </tr>\n",
       "    <tr>\n",
       "      <th>396</th>\n",
       "      <td>-97.460476</td>\n",
       "      <td>48.225094</td>\n",
       "      <td>red</td>\n",
       "    </tr>\n",
       "    <tr>\n",
       "      <th>397</th>\n",
       "      <td>-96.551116</td>\n",
       "      <td>48.591592</td>\n",
       "      <td>blue</td>\n",
       "    </tr>\n",
       "  </tbody>\n",
       "</table>\n",
       "<p>397 rows × 3 columns</p>\n",
       "</div>"
      ],
      "text/plain": [
       "            lon        lat  vote\n",
       "1    -80.162475  25.692104  blue\n",
       "2    -80.214360  25.944083  blue\n",
       "3    -80.094133  26.234314  blue\n",
       "4    -80.248086  26.291902  blue\n",
       "5    -81.789963  26.348035  blue\n",
       "..          ...        ...   ...\n",
       "393 -101.115061  47.640333   red\n",
       "394 -119.036728  47.926446  blue\n",
       "395 -102.142732  47.955970   red\n",
       "396  -97.460476  48.225094   red\n",
       "397  -96.551116  48.591592  blue\n",
       "\n",
       "[397 rows x 3 columns]"
      ]
     },
     "execution_count": 1,
     "metadata": {},
     "output_type": "execute_result"
    }
   ],
   "source": [
    "import pandas as pd\n",
    "\n",
    "\n",
    "voting_df = pd.read_csv(\n",
    "    'data/cities_USA.csv',\n",
    "    index_col=0\n",
    ").query(\n",
    "    'lon > -140'  # Remove alaska for easier plotting\n",
    ")\n",
    "voting_df"
   ]
  },
  {
   "cell_type": "code",
   "execution_count": 2,
   "metadata": {},
   "outputs": [
    {
     "data": {
      "text/plain": [
       "0.8261964735516373"
      ]
     },
     "execution_count": 2,
     "metadata": {},
     "output_type": "execute_result"
    }
   ],
   "source": [
    "from sklearn.tree import DecisionTreeClassifier\n",
    "\n",
    "\n",
    "# feature table\n",
    "X = voting_df.drop(columns='vote')\n",
    "# the target variable\n",
    "y = voting_df['vote']\n",
    "\n",
    "# initiate model framework with a decision tree of max_depth 2\n",
    "depth=2\n",
    "model = DecisionTreeClassifier(max_depth=depth)\n",
    "# training the model\n",
    "model.fit(X, y)\n",
    "\n",
    "# Score the models overall accuracy on the training data\n",
    "model.score(X, y)"
   ]
  },
  {
   "cell_type": "code",
   "execution_count": 3,
   "metadata": {},
   "outputs": [
    {
     "data": {
      "text/plain": [
       "array(['blue'], dtype=object)"
      ]
     },
     "execution_count": 3,
     "metadata": {},
     "output_type": "execute_result"
    }
   ],
   "source": [
    "# Predict on new data\n",
    "model.predict(pd.DataFrame({'lon': [-75], 'lat': [56]}))"
   ]
  },
  {
   "cell_type": "markdown",
   "metadata": {},
   "source": [
    "### Some lingering questions\n",
    "\n",
    "1. Is model performance on the training data a good indication of how it will perform on new data?\n",
    "2. Can we just use a large `max_depth` for every supervised learning problem and get super high accuracy?\n",
    "3. If not, how do we choose a value of `max_depth` (or other hyperparameters)?\n",
    "\n",
    "We will be answering these questions in this lecture. "
   ]
  },
  {
   "cell_type": "markdown",
   "metadata": {},
   "source": [
    "## Generalization\n",
    "\n",
    "### Visualizing model complexity using decision boundaries\n",
    "\n",
    "In the last lecture, we saw that we could visualize the splitting of decision trees using either a tree diagram or a plot of decision boundaries."
   ]
  },
  {
   "cell_type": "code",
   "execution_count": 4,
   "metadata": {},
   "outputs": [
    {
     "data": {
      "image/png": "[encoded data removed]",
      "text/plain": [
       "<Figure size 864x504 with 1 Axes>"
      ]
     },
     "metadata": {
      "needs_background": "light"
     },
     "output_type": "display_data"
    }
   ],
   "source": [
    "from sklearn.tree import plot_tree\n",
    "import matplotlib.pyplot as plt\n",
    "\n",
    "\n",
    "plot_tree(\n",
    "    model,\n",
    "    feature_names=X.columns,\n",
    "    class_names=y.unique(),\n",
    "    impurity=False,\n",
    "    ax=plt.subplots(figsize=(12, 7))[1]\n",
    ");"
   ]
  },
  {
   "cell_type": "markdown",
   "metadata": {},
   "source": [
    "Plotting the values, we see the two levels of splits indicated by our max_depth=2 hypterparameter."
   ]
  },
  {
   "cell_type": "code",
   "execution_count": 5,
   "metadata": {},
   "outputs": [
    {
     "name": "stderr",
     "output_type": "stream",
     "text": [
      "/home/joel/miniconda3/envs/bait/lib/python3.9/site-packages/sklearn/base.py:450: UserWarning: X does not have valid feature names, but DecisionTreeClassifier was fitted with feature names\n",
      "  warnings.warn(\n"
     ]
    },
    {
     "data": {
      "image/png": "[encoded data removed]",
      "text/plain": [
       "<Figure size 432x288 with 1 Axes>"
      ]
     },
     "metadata": {
      "needs_background": "light"
     },
     "output_type": "display_data"
    }
   ],
   "source": [
    "from plot_classifier import plot_classifier\n",
    "\n",
    "\n",
    "plot_classifier(X, y, model, ticks=True)\n",
    "plt.xlabel('lon', fontsize=14)\n",
    "plt.ylabel('lat', fontsize=14)\n",
    "plt.title(\"Decision tree with depth = %d\" % (depth), fontsize=18);"
   ]
  },
  {
   "cell_type": "markdown",
   "metadata": {},
   "source": [
    "Ok, now let's see what happens to our score and decision boundaries when we change our maximum tree depth."
   ]
  },
  {
   "cell_type": "code",
   "execution_count": 6,
   "metadata": {},
   "outputs": [
    {
     "data": {
      "text/plain": [
       "0.8740554156171285"
      ]
     },
     "execution_count": 6,
     "metadata": {},
     "output_type": "execute_result"
    }
   ],
   "source": [
    "depth = 3\n",
    "model = DecisionTreeClassifier(max_depth=depth)\n",
    "model.fit(X, y)\n",
    "model.score(X, y)"
   ]
  },
  {
   "cell_type": "code",
   "execution_count": 7,
   "metadata": {},
   "outputs": [
    {
     "data": {
      "image/png": "[encoded data removed]",
      "text/plain": [
       "<Figure size 1296x576 with 1 Axes>"
      ]
     },
     "metadata": {
      "needs_background": "light"
     },
     "output_type": "display_data"
    }
   ],
   "source": [
    "plot_tree(\n",
    "    model,\n",
    "    feature_names=X.columns,\n",
    "    class_names=y.unique(),\n",
    "    impurity=False,\n",
    "    ax=plt.subplots(figsize=(18, 8))[1]\n",
    ");"
   ]
  },
  {
   "cell_type": "markdown",
   "metadata": {},
   "source": [
    "The decision boundaries are created by three levels of splits now 3 splits now (for each observation we ask three questions to find out how to classify it).\n",
    "\n",
    "Our score here has increased from 83% to 87%.\n",
    "\n",
    "When we graph it, we can now see more boundaries, meaning that the model has become more specific to our training data."
   ]
  },
  {
   "cell_type": "code",
   "execution_count": 8,
   "metadata": {},
   "outputs": [
    {
     "name": "stderr",
     "output_type": "stream",
     "text": [
      "/home/joel/miniconda3/envs/bait/lib/python3.9/site-packages/sklearn/base.py:450: UserWarning: X does not have valid feature names, but DecisionTreeClassifier was fitted with feature names\n",
      "  warnings.warn(\n"
     ]
    },
    {
     "data": {
      "image/png": "[encoded data removed]",
      "text/plain": [
       "<Figure size 432x288 with 1 Axes>"
      ]
     },
     "metadata": {
      "needs_background": "light"
     },
     "output_type": "display_data"
    }
   ],
   "source": [
    "plot_classifier(X, y, model, ticks=True)\n",
    "plt.xlabel('lon', fontsize=14)\n",
    "plt.ylabel('lat', fontsize=14)\n",
    "plt.title(\"Decision tree with depth = %d\" % (depth), fontsize=18);"
   ]
  },
  {
   "cell_type": "markdown",
   "metadata": {},
   "source": [
    "What happens if we give the model an unlimited `max_depth`?"
   ]
  },
  {
   "cell_type": "code",
   "execution_count": 9,
   "metadata": {},
   "outputs": [
    {
     "data": {
      "text/plain": [
       "8"
      ]
     },
     "execution_count": 9,
     "metadata": {},
     "output_type": "execute_result"
    }
   ],
   "source": [
    "model = DecisionTreeClassifier()\n",
    "model.fit(X, y);\n",
    "model.get_depth()"
   ]
  },
  {
   "cell_type": "code",
   "execution_count": 10,
   "metadata": {},
   "outputs": [
    {
     "data": {
      "image/png": "[encoded data removed]",
      "text/plain": [
       "<Figure size 1728x720 with 1 Axes>"
      ]
     },
     "metadata": {
      "needs_background": "light"
     },
     "output_type": "display_data"
    }
   ],
   "source": [
    "plot_tree(\n",
    "    model,\n",
    "    feature_names=X.columns,\n",
    "    class_names=y.unique(),\n",
    "    impurity=False,\n",
    "    ax=plt.subplots(figsize=(24, 10))[1]\n",
    ");"
   ]
  },
  {
   "cell_type": "code",
   "execution_count": 11,
   "metadata": {},
   "outputs": [
    {
     "name": "stderr",
     "output_type": "stream",
     "text": [
      "/home/joel/miniconda3/envs/bait/lib/python3.9/site-packages/sklearn/base.py:450: UserWarning: X does not have valid feature names, but DecisionTreeClassifier was fitted with feature names\n",
      "  warnings.warn(\n"
     ]
    },
    {
     "data": {
      "image/png": "[encoded data removed]",
      "text/plain": [
       "<Figure size 432x288 with 1 Axes>"
      ]
     },
     "metadata": {
      "needs_background": "light"
     },
     "output_type": "display_data"
    }
   ],
   "source": [
    "plot_classifier(X, y, model, ticks=True)\n",
    "plt.xlabel('lon', fontsize=14)\n",
    "plt.ylabel('lat', fontsize=14)\n",
    "plt.title('Decision tree with unlimited max depth', fontsize=18);"
   ]
  },
  {
   "cell_type": "code",
   "execution_count": 12,
   "metadata": {},
   "outputs": [
    {
     "data": {
      "text/plain": [
       "1.0"
      ]
     },
     "execution_count": 12,
     "metadata": {},
     "output_type": "execute_result"
    }
   ],
   "source": [
    "model.score(X, y)"
   ]
  },
  {
   "cell_type": "markdown",
   "metadata": {},
   "source": [
    "We can see that with this model we are perfectly fitting every observation in the training data.\n",
    "That must be great right?\n",
    "Not so fast.\n",
    "In this toy example,\n",
    "we have evaluated the model on the same data we used to train it,\n",
    "but how would it perform on a city that did not exist in the training data?\n",
    "We can use the cities from alaska that we excluded initially to find out:"
   ]
  },
  {
   "cell_type": "code",
   "execution_count": 13,
   "metadata": {},
   "outputs": [
    {
     "data": {
      "text/html": [
       "<div>\n",
       "<style scoped>\n",
       "    .dataframe tbody tr th:only-of-type {\n",
       "        vertical-align: middle;\n",
       "    }\n",
       "\n",
       "    .dataframe tbody tr th {\n",
       "        vertical-align: top;\n",
       "    }\n",
       "\n",
       "    .dataframe thead th {\n",
       "        text-align: right;\n",
       "    }\n",
       "</style>\n",
       "<table border=\"1\" class=\"dataframe\">\n",
       "  <thead>\n",
       "    <tr style=\"text-align: right;\">\n",
       "      <th></th>\n",
       "      <th>lon</th>\n",
       "      <th>lat</th>\n",
       "      <th>vote</th>\n",
       "    </tr>\n",
       "  </thead>\n",
       "  <tbody>\n",
       "    <tr>\n",
       "      <th>398</th>\n",
       "      <td>-166.519855</td>\n",
       "      <td>53.887114</td>\n",
       "      <td>red</td>\n",
       "    </tr>\n",
       "    <tr>\n",
       "      <th>399</th>\n",
       "      <td>-163.733617</td>\n",
       "      <td>67.665859</td>\n",
       "      <td>red</td>\n",
       "    </tr>\n",
       "    <tr>\n",
       "      <th>400</th>\n",
       "      <td>-145.423115</td>\n",
       "      <td>68.077395</td>\n",
       "      <td>red</td>\n",
       "    </tr>\n",
       "  </tbody>\n",
       "</table>\n",
       "</div>"
      ],
      "text/plain": [
       "            lon        lat vote\n",
       "398 -166.519855  53.887114  red\n",
       "399 -163.733617  67.665859  red\n",
       "400 -145.423115  68.077395  red"
      ]
     },
     "execution_count": 13,
     "metadata": {},
     "output_type": "execute_result"
    }
   ],
   "source": [
    "alaska = pd.read_csv(\n",
    "    'data/cities_USA.csv',\n",
    "    index_col=0\n",
    ").query(\n",
    "    'lon <= -140'  # Remove alaska for easier plotting\n",
    ")\n",
    "alaska"
   ]
  },
  {
   "cell_type": "code",
   "execution_count": 14,
   "metadata": {},
   "outputs": [
    {
     "data": {
      "text/plain": [
       "array(['blue', 'blue', 'blue'], dtype=object)"
      ]
     },
     "execution_count": 14,
     "metadata": {},
     "output_type": "execute_result"
    }
   ],
   "source": [
    "model.predict(alaska[['lon', 'lat']])"
   ]
  },
  {
   "cell_type": "markdown",
   "metadata": {},
   "source": [
    "Terrible! The model incorrectly predicted \"blue\" for all three cities.\n",
    "This illustrates that a model that is more specific to the training data,\n",
    "might not always generalize well to unseen data,\n",
    "which is our eventual goal\n",
    "since we will not have all its true target labels upfront\n",
    "(then we would not need ML in the first place).\n",
    "For our decision tree model,\n",
    "we see that training score increases as we increase `max_depth`.\n",
    "Since we are creating a more complex tree (higher `max_depth`)\n",
    "we can fit all the peculiarities of our data to eventually get 100% accuracy."
   ]
  },
  {
   "cell_type": "markdown",
   "metadata": {},
   "source": [
    "### The Fundamental goal of machine learning\n",
    "\n",
    "Goal: **to generalize beyond what we see in the training examples**. <br>\n",
    "We are only given a sample of the data and do not have the full distribution. <br>\n",
    "Using the training data, we want to come up with a reasonable model that will perform well on some unseen examples. <br>\n",
    "\n",
    "At the end of the day, we want to deploy models that make reasonable predictions on unseen data\n",
    "\n",
    "\n",
    "<!-- <img src='imgs/generalization-train.png'  width = \"30%\" alt=\"404 image\" /> -->"
   ]
  },
  {
   "cell_type": "markdown",
   "metadata": {},
   "source": [
    "### Generalizing to unseen data\n",
    "\n",
    "<img src=\"imgs/generalization-predict.png\" width = \"100%\" alt=\"404 image\" />\n",
    "\n",
    "The point here is that we want this learning to be able to generalize beyond what it sees here and be able to predict and predict labels for the new examples that have some of the characteristics of, but are not identical too, the training data."
   ]
  },
  {
   "cell_type": "markdown",
   "metadata": {},
   "source": [
    "### Training score versus Generalization score (or Error)\n",
    "\n",
    "So would we expect a model with a really high accuracy on the training data to perform equally well on unseen examples? Probably not. \n",
    "\n",
    "Hopefully our training data is representative of the unseen data, but it will not be identical. In general it is difficult to build a model that has close to perfect accuracy so when this happens on the training data, it might mean that we have made the model too specific to the training set.\n",
    "\n",
    "Given a model in machine learning, people usually talk about two kinds of accuracies (scores):\n",
    "\n",
    "1. Accuracy on the training data\n",
    "    \n",
    "2. **Accuracy on the entire distribution of data** (including all the unseen data)\n",
    "\n",
    "We are interested in the score on the entire distribution because at the end of the day we want our model to perform well on unseen examples. \n",
    "\n",
    "But the problem is that we do not have access to the distribution and only the limited training data that is given to us. \n",
    "\n",
    "So, what do we do? Is our only option to use the training data score and hope for the best?"
   ]
  },
  {
   "cell_type": "markdown",
   "metadata": {},
   "source": [
    "## Splitting\n",
    "\n",
    "Although we don't have access to the unseen data, we can withhold some data from the model at training to create unseen data that can be used for evaluation. By splitting our data this way, we can approximate generalization accuracy.\n",
    "\n",
    "\n",
    "<img src=\"imgs/splitted.png\"  width = \"60%\" alt=\"404 image\" />\n",
    "\n",
    "\n",
    "- Keep a randomly selected portion of our data aside that we call that the testing data. \n",
    "\n",
    "- fit (train) a model on the training portion only.\n",
    "- score (assess) the trained model on this set-aside **Testing** data to get a sense of how well the model would be able to generalize.\n"
   ]
  },
  {
   "cell_type": "markdown",
   "metadata": {},
   "source": [
    "###  Simple train and test split\n",
    "\n",
    "\n",
    "<img src=\"imgs/train-test-split.png\"  width = \"100%\" alt=\"404 image\" />\n",
    "\n",
    "\n",
    "\n",
    "\n",
    "- First, the data needs to be shuffled.\n",
    "- Then, we split the rows of the data into 2 sections -> **train** and **test**. \n",
    "\n",
    "- The lock and key icon on the test set symbolizes that we don't want to touch the test data until the very end (more on this soon).\n"
   ]
  },
  {
   "cell_type": "markdown",
   "metadata": {},
   "source": [
    "### How do we do this? \n",
    "\n",
    "In our trusty Scikit Learn package, we have a function for that! \n",
    "- `train_test_split`\n",
    "\n",
    "Let's try it out using a similar yet slightly different dataset. Here we still have `latitude` and `longitude` coordinates but this time our target variable is if the city with these coordinates lies in Canada or the USA. \n",
    "\n",
    "#### First way"
   ]
  },
  {
   "cell_type": "code",
   "execution_count": 15,
   "metadata": {},
   "outputs": [
    {
     "data": {
      "text/html": [
       "<div>\n",
       "<style scoped>\n",
       "    .dataframe tbody tr th:only-of-type {\n",
       "        vertical-align: middle;\n",
       "    }\n",
       "\n",
       "    .dataframe tbody tr th {\n",
       "        vertical-align: top;\n",
       "    }\n",
       "\n",
       "    .dataframe thead th {\n",
       "        text-align: right;\n",
       "    }\n",
       "</style>\n",
       "<table border=\"1\" class=\"dataframe\">\n",
       "  <thead>\n",
       "    <tr style=\"text-align: right;\">\n",
       "      <th></th>\n",
       "      <th>longitude</th>\n",
       "      <th>latitude</th>\n",
       "      <th>country</th>\n",
       "    </tr>\n",
       "  </thead>\n",
       "  <tbody>\n",
       "    <tr>\n",
       "      <th>0</th>\n",
       "      <td>-130.0437</td>\n",
       "      <td>55.9773</td>\n",
       "      <td>USA</td>\n",
       "    </tr>\n",
       "    <tr>\n",
       "      <th>1</th>\n",
       "      <td>-134.4197</td>\n",
       "      <td>58.3019</td>\n",
       "      <td>USA</td>\n",
       "    </tr>\n",
       "    <tr>\n",
       "      <th>2</th>\n",
       "      <td>-123.0780</td>\n",
       "      <td>48.9854</td>\n",
       "      <td>USA</td>\n",
       "    </tr>\n",
       "    <tr>\n",
       "      <th>3</th>\n",
       "      <td>-122.7436</td>\n",
       "      <td>48.9881</td>\n",
       "      <td>USA</td>\n",
       "    </tr>\n",
       "    <tr>\n",
       "      <th>4</th>\n",
       "      <td>-122.2691</td>\n",
       "      <td>48.9951</td>\n",
       "      <td>USA</td>\n",
       "    </tr>\n",
       "    <tr>\n",
       "      <th>...</th>\n",
       "      <td>...</td>\n",
       "      <td>...</td>\n",
       "      <td>...</td>\n",
       "    </tr>\n",
       "    <tr>\n",
       "      <th>204</th>\n",
       "      <td>-72.7218</td>\n",
       "      <td>45.3990</td>\n",
       "      <td>Canada</td>\n",
       "    </tr>\n",
       "    <tr>\n",
       "      <th>205</th>\n",
       "      <td>-66.6458</td>\n",
       "      <td>45.9664</td>\n",
       "      <td>Canada</td>\n",
       "    </tr>\n",
       "    <tr>\n",
       "      <th>206</th>\n",
       "      <td>-79.2506</td>\n",
       "      <td>42.9931</td>\n",
       "      <td>Canada</td>\n",
       "    </tr>\n",
       "    <tr>\n",
       "      <th>207</th>\n",
       "      <td>-72.9406</td>\n",
       "      <td>45.6275</td>\n",
       "      <td>Canada</td>\n",
       "    </tr>\n",
       "    <tr>\n",
       "      <th>208</th>\n",
       "      <td>-79.4608</td>\n",
       "      <td>46.3092</td>\n",
       "      <td>Canada</td>\n",
       "    </tr>\n",
       "  </tbody>\n",
       "</table>\n",
       "<p>209 rows × 3 columns</p>\n",
       "</div>"
      ],
      "text/plain": [
       "     longitude  latitude country\n",
       "0    -130.0437   55.9773     USA\n",
       "1    -134.4197   58.3019     USA\n",
       "2    -123.0780   48.9854     USA\n",
       "3    -122.7436   48.9881     USA\n",
       "4    -122.2691   48.9951     USA\n",
       "..         ...       ...     ...\n",
       "204   -72.7218   45.3990  Canada\n",
       "205   -66.6458   45.9664  Canada\n",
       "206   -79.2506   42.9931  Canada\n",
       "207   -72.9406   45.6275  Canada\n",
       "208   -79.4608   46.3092  Canada\n",
       "\n",
       "[209 rows x 3 columns]"
      ]
     },
     "execution_count": 15,
     "metadata": {},
     "output_type": "execute_result"
    }
   ],
   "source": [
    "cities_df = pd.read_csv('data/canada_usa_cities.csv')\n",
    "\n",
    "cities_df"
   ]
  },
  {
   "cell_type": "code",
   "execution_count": 16,
   "metadata": {},
   "outputs": [
    {
     "data": {
      "text/html": [
       "\n",
       "<div id=\"altair-viz-8ab191747c8d4eedb3b2425df8ce60ac\"></div>\n",
       "<script type=\"text/javascript\">\n",
       "  var VEGA_DEBUG = (typeof VEGA_DEBUG == \"undefined\") ? {} : VEGA_DEBUG;\n",
       "  (function(spec, embedOpt){\n",
       "    let outputDiv = document.currentScript.previousElementSibling;\n",
       "    if (outputDiv.id !== \"altair-viz-8ab191747c8d4eedb3b2425df8ce60ac\") {\n",
       "      outputDiv = document.getElementById(\"altair-viz-8ab191747c8d4eedb3b2425df8ce60ac\");\n",
       "    }\n",
       "    const paths = {\n",
       "      \"vega\": \"https://cdn.jsdelivr.net/npm//vega@5?noext\",\n",
       "      \"vega-lib\": \"https://cdn.jsdelivr.net/npm//vega-lib?noext\",\n",
       "      \"vega-lite\": \"https://cdn.jsdelivr.net/npm//vega-lite@4.17.0?noext\",\n",
       "      \"vega-embed\": \"https://cdn.jsdelivr.net/npm//vega-embed@6?noext\",\n",
       "    };\n",
       "\n",
       "    function maybeLoadScript(lib, version) {\n",
       "      var key = `${lib.replace(\"-\", \"\")}_version`;\n",
       "      return (VEGA_DEBUG[key] == version) ?\n",
       "        Promise.resolve(paths[lib]) :\n",
       "        new Promise(function(resolve, reject) {\n",
       "          var s = document.createElement('script');\n",
       "          document.getElementsByTagName(\"head\")[0].appendChild(s);\n",
       "          s.async = true;\n",
       "          s.onload = () => {\n",
       "            VEGA_DEBUG[key] = version;\n",
       "            return resolve(paths[lib]);\n",
       "          };\n",
       "          s.onerror = () => reject(`Error loading script: ${paths[lib]}`);\n",
       "          s.src = paths[lib];\n",
       "        });\n",
       "    }\n",
       "\n",
       "    function showError(err) {\n",
       "      outputDiv.innerHTML = `<div class=\"error\" style=\"color:red;\">${err}</div>`;\n",
       "      throw err;\n",
       "    }\n",
       "\n",
       "    function displayChart(vegaEmbed) {\n",
       "      vegaEmbed(outputDiv, spec, embedOpt)\n",
       "        .catch(err => showError(`Javascript Error: ${err.message}<br>This usually means there's a typo in your chart specification. See the javascript console for the full traceback.`));\n",
       "    }\n",
       "\n",
       "    if(typeof define === \"function\" && define.amd) {\n",
       "      requirejs.config({paths});\n",
       "      require([\"vega-embed\"], displayChart, err => showError(`Error loading script: ${err.message}`));\n",
       "    } else {\n",
       "      maybeLoadScript(\"vega\", \"5\")\n",
       "        .then(() => maybeLoadScript(\"vega-lite\", \"4.17.0\"))\n",
       "        .then(() => maybeLoadScript(\"vega-embed\", \"6\"))\n",
       "        .catch(showError)\n",
       "        .then(() => displayChart(vegaEmbed));\n",
       "    }\n",
       "  })({\"config\": {\"view\": {\"continuousWidth\": 400, \"continuousHeight\": 300}}, \"data\": {\"name\": \"data-35ac1f4ff8f0ccc6ae1bed0552485cad\"}, \"mark\": {\"type\": \"circle\", \"opacity\": 0.6, \"size\": 20}, \"encoding\": {\"color\": {\"field\": \"country\", \"scale\": {\"domain\": [\"Canada\", \"USA\"], \"range\": [\"red\", \"blue\"]}, \"type\": \"nominal\"}, \"x\": {\"field\": \"longitude\", \"scale\": {\"domain\": [-140, -50]}, \"type\": \"quantitative\"}, \"y\": {\"field\": \"latitude\", \"scale\": {\"domain\": [25, 60]}, \"type\": \"quantitative\"}}, \"$schema\": \"https://vega.github.io/schema/vega-lite/v4.17.0.json\", \"datasets\": {\"data-35ac1f4ff8f0ccc6ae1bed0552485cad\": [{\"longitude\": -130.0437, \"latitude\": 55.9773, \"country\": \"USA\"}, {\"longitude\": -134.4197, \"latitude\": 58.3019, \"country\": \"USA\"}, {\"longitude\": -123.078, \"latitude\": 48.9854, \"country\": \"USA\"}, {\"longitude\": -122.7436, \"latitude\": 48.9881, \"country\": \"USA\"}, {\"longitude\": -122.2691, \"latitude\": 48.9951, \"country\": \"USA\"}, {\"longitude\": -111.9626, \"latitude\": 48.9971, \"country\": \"USA\"}, {\"longitude\": -102.5496, \"latitude\": 48.9959, \"country\": \"USA\"}, {\"longitude\": -97.5533, \"latitude\": 48.7531, \"country\": \"USA\"}, {\"longitude\": -97.2049, \"latitude\": 48.9988, \"country\": \"USA\"}, {\"longitude\": -94.6002, \"latitude\": 48.7124, \"country\": \"USA\"}, {\"longitude\": -93.411, \"latitude\": 48.601, \"country\": \"USA\"}, {\"longitude\": -84.3593, \"latitude\": 46.4906, \"country\": \"USA\"}, {\"longitude\": -82.4405, \"latitude\": 42.9816, \"country\": \"USA\"}, {\"longitude\": -83.0466, \"latitude\": 42.3316, \"country\": \"USA\"}, {\"longitude\": -78.8784, \"latitude\": 42.8867, \"country\": \"USA\"}, {\"longitude\": -79.0615, \"latitude\": 43.0844, \"country\": \"USA\"}, {\"longitude\": -79.0359, \"latitude\": 43.1726, \"country\": \"USA\"}, {\"longitude\": -76.3305, \"latitude\": 44.1255, \"country\": \"USA\"}, {\"longitude\": -75.4864, \"latitude\": 44.6943, \"country\": \"USA\"}, {\"longitude\": -74.8921, \"latitude\": 44.9281, \"country\": \"USA\"}, {\"longitude\": -72.1064, \"latitude\": 45.0004, \"country\": \"USA\"}, {\"longitude\": -71.7961, \"latitude\": 45.0095, \"country\": \"USA\"}, {\"longitude\": -69.2275, \"latitude\": 47.4562, \"country\": \"USA\"}, {\"longitude\": -68.5897, \"latitude\": 47.2587, \"country\": \"USA\"}, {\"longitude\": -68.3219, \"latitude\": 47.3556, \"country\": \"USA\"}, {\"longitude\": -67.9353, \"latitude\": 47.1575, \"country\": \"USA\"}, {\"longitude\": -67.8408, \"latitude\": 46.1251, \"country\": \"USA\"}, {\"longitude\": -67.4297, \"latitude\": 45.5634, \"country\": \"USA\"}, {\"longitude\": -67.2781, \"latitude\": 45.189, \"country\": \"USA\"}, {\"longitude\": -66.9905, \"latitude\": 44.9065, \"country\": \"USA\"}, {\"longitude\": -66.9843, \"latitude\": 44.8607, \"country\": \"USA\"}, {\"longitude\": -74.006, \"latitude\": 40.7127, \"country\": \"USA\"}, {\"longitude\": -118.2428, \"latitude\": 34.0537, \"country\": \"USA\"}, {\"longitude\": -87.6244, \"latitude\": 41.8756, \"country\": \"USA\"}, {\"longitude\": -95.3677, \"latitude\": 29.7589, \"country\": \"USA\"}, {\"longitude\": -112.0741, \"latitude\": 33.4484, \"country\": \"USA\"}, {\"longitude\": -75.1635, \"latitude\": 39.9527, \"country\": \"USA\"}, {\"longitude\": -98.4951, \"latitude\": 29.4246, \"country\": \"USA\"}, {\"longitude\": -117.1628, \"latitude\": 32.7174, \"country\": \"USA\"}, {\"longitude\": -96.7969, \"latitude\": 32.7763, \"country\": \"USA\"}, {\"longitude\": -121.8906, \"latitude\": 37.3362, \"country\": \"USA\"}, {\"longitude\": -97.7437, \"latitude\": 30.2711, \"country\": \"USA\"}, {\"longitude\": -81.6557, \"latitude\": 30.3322, \"country\": \"USA\"}, {\"longitude\": -97.3327, \"latitude\": 32.7532, \"country\": \"USA\"}, {\"longitude\": -83.0007, \"latitude\": 39.9623, \"country\": \"USA\"}, {\"longitude\": -80.8431, \"latitude\": 35.2272, \"country\": \"USA\"}, {\"longitude\": -122.4199, \"latitude\": 37.779, \"country\": \"USA\"}, {\"longitude\": -86.1584, \"latitude\": 39.7683, \"country\": \"USA\"}, {\"longitude\": -122.3301, \"latitude\": 47.6038, \"country\": \"USA\"}, {\"longitude\": -104.9849, \"latitude\": 39.7392, \"country\": \"USA\"}, {\"longitude\": -77.0366, \"latitude\": 38.895, \"country\": \"USA\"}, {\"longitude\": -71.0583, \"latitude\": 42.3603, \"country\": \"USA\"}, {\"longitude\": -106.4646, \"latitude\": 31.7754, \"country\": \"USA\"}, {\"longitude\": -86.7744, \"latitude\": 36.1622, \"country\": \"USA\"}, {\"longitude\": -83.0466, \"latitude\": 42.3316, \"country\": \"USA\"}, {\"longitude\": -97.5171, \"latitude\": 35.473, \"country\": \"USA\"}, {\"longitude\": -122.6742, \"latitude\": 45.5202, \"country\": \"USA\"}, {\"longitude\": -115.1485, \"latitude\": 36.1673, \"country\": \"USA\"}, {\"longitude\": -90.0516, \"latitude\": 35.149, \"country\": \"USA\"}, {\"longitude\": -85.7039, \"latitude\": 38.2092, \"country\": \"USA\"}, {\"longitude\": -76.6108, \"latitude\": 39.2909, \"country\": \"USA\"}, {\"longitude\": -87.9225, \"latitude\": 43.035, \"country\": \"USA\"}, {\"longitude\": -106.651, \"latitude\": 35.0841, \"country\": \"USA\"}, {\"longitude\": -110.9748, \"latitude\": 32.2229, \"country\": \"USA\"}, {\"longitude\": -119.7848, \"latitude\": 36.7394, \"country\": \"USA\"}, {\"longitude\": -111.8315, \"latitude\": 33.4151, \"country\": \"USA\"}, {\"longitude\": -121.4944, \"latitude\": 38.5816, \"country\": \"USA\"}, {\"longitude\": -84.3902, \"latitude\": 33.7491, \"country\": \"USA\"}, {\"longitude\": -94.5781, \"latitude\": 39.1001, \"country\": \"USA\"}, {\"longitude\": -104.8253, \"latitude\": 38.834, \"country\": \"USA\"}, {\"longitude\": -95.9384, \"latitude\": 41.2587, \"country\": \"USA\"}, {\"longitude\": -78.6391, \"latitude\": 35.7804, \"country\": \"USA\"}, {\"longitude\": -80.1937, \"latitude\": 25.7743, \"country\": \"USA\"}, {\"longitude\": -118.1916, \"latitude\": 33.769, \"country\": \"USA\"}, {\"longitude\": -75.9774, \"latitude\": 36.853, \"country\": \"USA\"}, {\"longitude\": -122.2714, \"latitude\": 37.8045, \"country\": \"USA\"}, {\"longitude\": -93.2655, \"latitude\": 44.9773, \"country\": \"USA\"}, {\"longitude\": -95.9929, \"latitude\": 36.1557, \"country\": \"USA\"}, {\"longitude\": -82.4584, \"latitude\": 27.9478, \"country\": \"USA\"}, {\"longitude\": -97.1056, \"latitude\": 32.7019, \"country\": \"USA\"}, {\"longitude\": -90.0701, \"latitude\": 29.9499, \"country\": \"USA\"}, {\"longitude\": -129.9912, \"latitude\": 55.9383, \"country\": \"Canada\"}, {\"longitude\": -123.0833, \"latitude\": 49.0167, \"country\": \"Canada\"}, {\"longitude\": -122.8491, \"latitude\": 49.1913, \"country\": \"Canada\"}, {\"longitude\": -122.3295, \"latitude\": 49.0521, \"country\": \"Canada\"}, {\"longitude\": -111.9639, \"latitude\": 49.0017, \"country\": \"Canada\"}, {\"longitude\": -102.548, \"latitude\": 49.0014, \"country\": \"Canada\"}, {\"longitude\": -97.2089, \"latitude\": 49.0061, \"country\": \"Canada\"}, {\"longitude\": -94.5648, \"latitude\": 48.7227, \"country\": \"Canada\"}, {\"longitude\": -93.3968, \"latitude\": 48.6114, \"country\": \"Canada\"}, {\"longitude\": -84.3201, \"latitude\": 46.5239, \"country\": \"Canada\"}, {\"longitude\": -82.4066, \"latitude\": 42.9746, \"country\": \"Canada\"}, {\"longitude\": -83.0353, \"latitude\": 42.3171, \"country\": \"Canada\"}, {\"longitude\": -78.9186, \"latitude\": 42.9131, \"country\": \"Canada\"}, {\"longitude\": -79.1153, \"latitude\": 43.101, \"country\": \"Canada\"}, {\"longitude\": -79.0546, \"latitude\": 43.1642, \"country\": \"Canada\"}, {\"longitude\": -76.3019, \"latitude\": 44.211, \"country\": \"Canada\"}, {\"longitude\": -75.5192, \"latitude\": 44.7184, \"country\": \"Canada\"}, {\"longitude\": -74.7287, \"latitude\": 45.0184, \"country\": \"Canada\"}, {\"longitude\": -72.0968, \"latitude\": 45.0072, \"country\": \"Canada\"}, {\"longitude\": -71.7985, \"latitude\": 45.0126, \"country\": \"Canada\"}, {\"longitude\": -69.265, \"latitude\": 47.5052, \"country\": \"Canada\"}, {\"longitude\": -68.6034, \"latitude\": 47.2527, \"country\": \"Canada\"}, {\"longitude\": -68.3281, \"latitude\": 47.3644, \"country\": \"Canada\"}, {\"longitude\": -67.9245, \"latitude\": 47.1652, \"country\": \"Canada\"}, {\"longitude\": -67.5735, \"latitude\": 46.1503, \"country\": \"Canada\"}, {\"longitude\": -67.4253, \"latitude\": 45.5672, \"country\": \"Canada\"}, {\"longitude\": -67.2799, \"latitude\": 45.2004, \"country\": \"Canada\"}, {\"longitude\": -66.9861, \"latitude\": 44.9762, \"country\": \"Canada\"}, {\"longitude\": -66.9195, \"latitude\": 44.8938, \"country\": \"Canada\"}, {\"longitude\": -79.3839, \"latitude\": 43.6535, \"country\": \"Canada\"}, {\"longitude\": -73.6104, \"latitude\": 45.4972, \"country\": \"Canada\"}, {\"longitude\": -114.0626, \"latitude\": 51.0534, \"country\": \"Canada\"}, {\"longitude\": -75.6903, \"latitude\": 45.4211, \"country\": \"Canada\"}, {\"longitude\": -113.508, \"latitude\": 53.5354, \"country\": \"Canada\"}, {\"longitude\": -79.6457, \"latitude\": 43.5903, \"country\": \"Canada\"}, {\"longitude\": -97.1385, \"latitude\": 49.8955, \"country\": \"Canada\"}, {\"longitude\": -123.114, \"latitude\": 49.2609, \"country\": \"Canada\"}, {\"longitude\": -79.7599, \"latitude\": 43.6858, \"country\": \"Canada\"}, {\"longitude\": -79.8729, \"latitude\": 43.2561, \"country\": \"Canada\"}, {\"longitude\": -71.2352, \"latitude\": 46.826, \"country\": \"Canada\"}, {\"longitude\": -79.8729, \"latitude\": 43.2561, \"country\": \"Canada\"}, {\"longitude\": -79.7599, \"latitude\": 43.6858, \"country\": \"Canada\"}, {\"longitude\": -122.8491, \"latitude\": 49.1913, \"country\": \"Canada\"}, {\"longitude\": -73.7344, \"latitude\": 45.6056, \"country\": \"Canada\"}, {\"longitude\": -63.5859, \"latitude\": 44.6486, \"country\": \"Canada\"}, {\"longitude\": -79.5656, \"latitude\": 43.6436, \"country\": \"Canada\"}, {\"longitude\": -81.2496, \"latitude\": 42.9837, \"country\": \"Canada\"}, {\"longitude\": -118.7148, \"latitude\": 50.4165, \"country\": \"Canada\"}, {\"longitude\": -123.365, \"latitude\": 48.4283, \"country\": \"Canada\"}, {\"longitude\": -83.0353, \"latitude\": 42.3171, \"country\": \"Canada\"}, {\"longitude\": -79.3377, \"latitude\": 43.8564, \"country\": \"Canada\"}, {\"longitude\": -78.863, \"latitude\": 43.9177, \"country\": \"Canada\"}, {\"longitude\": -75.7106, \"latitude\": 45.4284, \"country\": \"Canada\"}, {\"longitude\": -79.5268, \"latitude\": 43.7942, \"country\": \"Canada\"}, {\"longitude\": -80.4944, \"latitude\": 43.4532, \"country\": \"Canada\"}, {\"longitude\": -73.4467, \"latitude\": 45.5172, \"country\": \"Canada\"}, {\"longitude\": -122.9725, \"latitude\": 49.2434, \"country\": \"Canada\"}, {\"longitude\": -123.0833, \"latitude\": 49.0833, \"country\": \"Canada\"}, {\"longitude\": -106.6608, \"latitude\": 52.1318, \"country\": \"Canada\"}, {\"longitude\": -79.4394, \"latitude\": 43.8801, \"country\": \"Canada\"}, {\"longitude\": -79.6902, \"latitude\": 44.3893, \"country\": \"Canada\"}, {\"longitude\": -123.1374, \"latitude\": 49.1632, \"country\": \"Canada\"}, {\"longitude\": -75.7887, \"latitude\": 45.3113, \"country\": \"Canada\"}, {\"longitude\": -104.6173, \"latitude\": 50.4488, \"country\": \"Canada\"}, {\"longitude\": -79.6667, \"latitude\": 43.4474, \"country\": \"Canada\"}, {\"longitude\": -79.7967, \"latitude\": 43.3249, \"country\": \"Canada\"}, {\"longitude\": -81.0685, \"latitude\": 46.5815, \"country\": \"Canada\"}, {\"longitude\": -122.3295, \"latitude\": 49.0521, \"country\": \"Canada\"}, {\"longitude\": -71.0692, \"latitude\": 48.406, \"country\": \"Canada\"}, {\"longitude\": -79.2441, \"latitude\": 43.158, \"country\": \"Canada\"}, {\"longitude\": -71.889, \"latitude\": 45.4033, \"country\": \"Canada\"}, {\"longitude\": -122.8565, \"latitude\": 49.3144, \"country\": \"Canada\"}, {\"longitude\": -71.1753, \"latitude\": 46.791, \"country\": \"Canada\"}, {\"longitude\": -119.4983, \"latitude\": 49.8893, \"country\": \"Canada\"}, {\"longitude\": -80.3123, \"latitude\": 43.3601, \"country\": \"Canada\"}, {\"longitude\": -72.5565, \"latitude\": 46.3327, \"country\": \"Canada\"}, {\"longitude\": -80.2493, \"latitude\": 43.5461, \"country\": \"Canada\"}, {\"longitude\": -79.3325, \"latitude\": 43.7, \"country\": \"Canada\"}, {\"longitude\": -122.7933, \"latitude\": 49.2843, \"country\": \"Canada\"}, {\"longitude\": -76.4813, \"latitude\": 44.2307, \"country\": \"Canada\"}, {\"longitude\": -60.1941, \"latitude\": 46.138, \"country\": \"Canada\"}, {\"longitude\": -123.0579, \"latitude\": 49.0846, \"country\": \"Canada\"}, {\"longitude\": -63.572, \"latitude\": 44.68, \"country\": \"Canada\"}, {\"longitude\": -89.2598, \"latitude\": 48.4064, \"country\": \"Canada\"}, {\"longitude\": -52.7151, \"latitude\": 47.5617, \"country\": \"Canada\"}, {\"longitude\": -80.5246, \"latitude\": 43.4669, \"country\": \"Canada\"}, {\"longitude\": -73.6515, \"latitude\": 45.7081, \"country\": \"Canada\"}, {\"longitude\": -79.0247, \"latitude\": 43.8504, \"country\": \"Canada\"}, {\"longitude\": -66.058, \"latitude\": 45.2788, \"country\": \"Canada\"}, {\"longitude\": -79.0906, \"latitude\": 43.8358, \"country\": \"Canada\"}, {\"longitude\": -80.2632, \"latitude\": 43.1408, \"country\": \"Canada\"}, {\"longitude\": -64.8001, \"latitude\": 46.098, \"country\": \"Canada\"}, {\"longitude\": -123.938, \"latitude\": 49.1638, \"country\": \"Canada\"}, {\"longitude\": -79.8828, \"latitude\": 43.5137, \"country\": \"Canada\"}, {\"longitude\": -82.4066, \"latitude\": 42.9746, \"country\": \"Canada\"}, {\"longitude\": -79.1153, \"latitude\": 43.101, \"country\": \"Canada\"}, {\"longitude\": -79.4109, \"latitude\": 43.7615, \"country\": \"Canada\"}, {\"longitude\": -73.6875, \"latitude\": 45.5089, \"country\": \"Canada\"}, {\"longitude\": -121.9514, \"latitude\": 49.1577, \"country\": \"Canada\"}, {\"longitude\": -73.4528, \"latitude\": 45.7326, \"country\": \"Canada\"}, {\"longitude\": -111.3885, \"latitude\": 56.7292, \"country\": \"Canada\"}, {\"longitude\": -78.3199, \"latitude\": 44.3048, \"country\": \"Canada\"}, {\"longitude\": -84.3201, \"latitude\": 46.5239, \"country\": \"Canada\"}, {\"longitude\": -79.4617, \"latitude\": 44.0563, \"country\": \"Canada\"}, {\"longitude\": -71.3998, \"latitude\": 46.8884, \"country\": \"Canada\"}, {\"longitude\": -113.8184, \"latitude\": 52.2698, \"country\": \"Canada\"}, {\"longitude\": -67.9245, \"latitude\": 47.1652, \"country\": \"Canada\"}, {\"longitude\": -73.2533, \"latitude\": 45.3057, \"country\": \"Canada\"}, {\"longitude\": -112.8516, \"latitude\": 49.6943, \"country\": \"Canada\"}, {\"longitude\": -122.5997, \"latitude\": 49.2197, \"country\": \"Canada\"}, {\"longitude\": -73.4679, \"latitude\": 45.4555, \"country\": \"Canada\"}, {\"longitude\": -120.3394, \"latitude\": 50.6758, \"country\": \"Canada\"}, {\"longitude\": -73.6289, \"latitude\": 45.468, \"country\": \"Canada\"}, {\"longitude\": -122.7979, \"latitude\": 49.0235, \"country\": \"Canada\"}, {\"longitude\": -122.7454, \"latitude\": 53.9129, \"country\": \"Canada\"}, {\"longitude\": -110.679, \"latitude\": 50.043, \"country\": \"Canada\"}, {\"longitude\": -80.4538, \"latitude\": 42.7972, \"country\": \"Canada\"}, {\"longitude\": -72.5019, \"latitude\": 45.8864, \"country\": \"Canada\"}, {\"longitude\": -122.9109, \"latitude\": 49.2068, \"country\": \"Canada\"}, {\"longitude\": -72.0885, \"latitude\": 46.0004, \"country\": \"Canada\"}, {\"longitude\": -113.2966, \"latitude\": 53.5257, \"country\": \"Canada\"}, {\"longitude\": -74.0132, \"latitude\": 45.7754, \"country\": \"Canada\"}, {\"longitude\": -71.1473, \"latitude\": 48.382, \"country\": \"Canada\"}, {\"longitude\": -72.7218, \"latitude\": 45.399, \"country\": \"Canada\"}, {\"longitude\": -66.6458, \"latitude\": 45.9664, \"country\": \"Canada\"}, {\"longitude\": -79.2506, \"latitude\": 42.9931, \"country\": \"Canada\"}, {\"longitude\": -72.9406, \"latitude\": 45.6275, \"country\": \"Canada\"}, {\"longitude\": -79.4608, \"latitude\": 46.3092, \"country\": \"Canada\"}]}}, {\"mode\": \"vega-lite\"});\n",
       "</script>"
      ],
      "text/plain": [
       "alt.Chart(...)"
      ]
     },
     "execution_count": 16,
     "metadata": {},
     "output_type": "execute_result"
    }
   ],
   "source": [
    "import altair as alt\n",
    "\n",
    "\n",
    "chart_votes = alt.Chart(cities_df).mark_circle(size=20, opacity=0.6).encode(\n",
    "    alt.X('longitude:Q', scale=alt.Scale(domain=[-140, -50])),\n",
    "    alt.Y('latitude:Q', scale=alt.Scale(domain=[25, 60])),\n",
    "    alt.Color('country:N', scale=alt.Scale(domain=['Canada', 'USA'],\n",
    "                                           range=['red', 'blue'])))\n",
    "chart_votes"
   ]
  },
  {
   "cell_type": "code",
   "execution_count": 17,
   "metadata": {},
   "outputs": [
    {
     "data": {
      "text/html": [
       "<div>\n",
       "<style scoped>\n",
       "    .dataframe tbody tr th:only-of-type {\n",
       "        vertical-align: middle;\n",
       "    }\n",
       "\n",
       "    .dataframe tbody tr th {\n",
       "        vertical-align: top;\n",
       "    }\n",
       "\n",
       "    .dataframe thead th {\n",
       "        text-align: right;\n",
       "    }\n",
       "</style>\n",
       "<table border=\"1\" class=\"dataframe\">\n",
       "  <thead>\n",
       "    <tr style=\"text-align: right;\">\n",
       "      <th></th>\n",
       "      <th>longitude</th>\n",
       "      <th>latitude</th>\n",
       "    </tr>\n",
       "  </thead>\n",
       "  <tbody>\n",
       "    <tr>\n",
       "      <th>0</th>\n",
       "      <td>-130.0437</td>\n",
       "      <td>55.9773</td>\n",
       "    </tr>\n",
       "    <tr>\n",
       "      <th>1</th>\n",
       "      <td>-134.4197</td>\n",
       "      <td>58.3019</td>\n",
       "    </tr>\n",
       "    <tr>\n",
       "      <th>2</th>\n",
       "      <td>-123.0780</td>\n",
       "      <td>48.9854</td>\n",
       "    </tr>\n",
       "    <tr>\n",
       "      <th>3</th>\n",
       "      <td>-122.7436</td>\n",
       "      <td>48.9881</td>\n",
       "    </tr>\n",
       "    <tr>\n",
       "      <th>4</th>\n",
       "      <td>-122.2691</td>\n",
       "      <td>48.9951</td>\n",
       "    </tr>\n",
       "    <tr>\n",
       "      <th>...</th>\n",
       "      <td>...</td>\n",
       "      <td>...</td>\n",
       "    </tr>\n",
       "    <tr>\n",
       "      <th>204</th>\n",
       "      <td>-72.7218</td>\n",
       "      <td>45.3990</td>\n",
       "    </tr>\n",
       "    <tr>\n",
       "      <th>205</th>\n",
       "      <td>-66.6458</td>\n",
       "      <td>45.9664</td>\n",
       "    </tr>\n",
       "    <tr>\n",
       "      <th>206</th>\n",
       "      <td>-79.2506</td>\n",
       "      <td>42.9931</td>\n",
       "    </tr>\n",
       "    <tr>\n",
       "      <th>207</th>\n",
       "      <td>-72.9406</td>\n",
       "      <td>45.6275</td>\n",
       "    </tr>\n",
       "    <tr>\n",
       "      <th>208</th>\n",
       "      <td>-79.4608</td>\n",
       "      <td>46.3092</td>\n",
       "    </tr>\n",
       "  </tbody>\n",
       "</table>\n",
       "<p>209 rows × 2 columns</p>\n",
       "</div>"
      ],
      "text/plain": [
       "     longitude  latitude\n",
       "0    -130.0437   55.9773\n",
       "1    -134.4197   58.3019\n",
       "2    -123.0780   48.9854\n",
       "3    -122.7436   48.9881\n",
       "4    -122.2691   48.9951\n",
       "..         ...       ...\n",
       "204   -72.7218   45.3990\n",
       "205   -66.6458   45.9664\n",
       "206   -79.2506   42.9931\n",
       "207   -72.9406   45.6275\n",
       "208   -79.4608   46.3092\n",
       "\n",
       "[209 rows x 2 columns]"
      ]
     },
     "execution_count": 17,
     "metadata": {},
     "output_type": "execute_result"
    }
   ],
   "source": [
    "X = cities_df.drop(columns=[\"country\"])\n",
    "X"
   ]
  },
  {
   "cell_type": "code",
   "execution_count": 18,
   "metadata": {},
   "outputs": [
    {
     "data": {
      "text/plain": [
       "0         USA\n",
       "1         USA\n",
       "2         USA\n",
       "3         USA\n",
       "4         USA\n",
       "        ...  \n",
       "204    Canada\n",
       "205    Canada\n",
       "206    Canada\n",
       "207    Canada\n",
       "208    Canada\n",
       "Name: country, Length: 209, dtype: object"
      ]
     },
     "execution_count": 18,
     "metadata": {},
     "output_type": "execute_result"
    }
   ],
   "source": [
    "y = cities_df[\"country\"]\n",
    "y"
   ]
  },
  {
   "cell_type": "code",
   "execution_count": 19,
   "metadata": {},
   "outputs": [],
   "source": [
    "from sklearn.model_selection import train_test_split\n",
    "\n",
    "\n",
    "# Split the dataset into 80% train and 20% test \n",
    "X_train, X_test, y_train, y_test = train_test_split(X, y, test_size=0.2, random_state=123)"
   ]
  },
  {
   "cell_type": "code",
   "execution_count": 20,
   "metadata": {},
   "outputs": [
    {
     "data": {
      "text/html": [
       "<div>\n",
       "<style scoped>\n",
       "    .dataframe tbody tr th:only-of-type {\n",
       "        vertical-align: middle;\n",
       "    }\n",
       "\n",
       "    .dataframe tbody tr th {\n",
       "        vertical-align: top;\n",
       "    }\n",
       "\n",
       "    .dataframe thead th {\n",
       "        text-align: right;\n",
       "    }\n",
       "</style>\n",
       "<table border=\"1\" class=\"dataframe\">\n",
       "  <thead>\n",
       "    <tr style=\"text-align: right;\">\n",
       "      <th></th>\n",
       "      <th>Variable name</th>\n",
       "      <th>Shape</th>\n",
       "    </tr>\n",
       "  </thead>\n",
       "  <tbody>\n",
       "    <tr>\n",
       "      <th>0</th>\n",
       "      <td>X</td>\n",
       "      <td>(209, 2)</td>\n",
       "    </tr>\n",
       "    <tr>\n",
       "      <th>1</th>\n",
       "      <td>y</td>\n",
       "      <td>(209,)</td>\n",
       "    </tr>\n",
       "    <tr>\n",
       "      <th>2</th>\n",
       "      <td>X_train</td>\n",
       "      <td>(167, 2)</td>\n",
       "    </tr>\n",
       "    <tr>\n",
       "      <th>3</th>\n",
       "      <td>y_train</td>\n",
       "      <td>(167,)</td>\n",
       "    </tr>\n",
       "    <tr>\n",
       "      <th>4</th>\n",
       "      <td>X_test</td>\n",
       "      <td>(42, 2)</td>\n",
       "    </tr>\n",
       "    <tr>\n",
       "      <th>5</th>\n",
       "      <td>y_test</td>\n",
       "      <td>(42,)</td>\n",
       "    </tr>\n",
       "  </tbody>\n",
       "</table>\n",
       "</div>"
      ],
      "text/plain": [
       "  Variable name     Shape\n",
       "0             X  (209, 2)\n",
       "1             y    (209,)\n",
       "2       X_train  (167, 2)\n",
       "3       y_train    (167,)\n",
       "4        X_test   (42, 2)\n",
       "5        y_test     (42,)"
      ]
     },
     "execution_count": 20,
     "metadata": {},
     "output_type": "execute_result"
    }
   ],
   "source": [
    "# Print shapes of the training and testing data (you can ignore the code here)\n",
    "pd.DataFrame({\n",
    "    \"Variable name\": [\"X\", \"y\", \"X_train\", \"y_train\", \"X_test\", \"y_test\"],\n",
    "    \"Shape\": [X.shape, y.shape,\n",
    "              X_train.shape, y_train.shape,\n",
    "              X_test.shape, y_test.shape]\n",
    "})"
   ]
  },
  {
   "cell_type": "markdown",
   "metadata": {},
   "source": [
    "#### Second way\n",
    "\n",
    "Instead of splitting our `X` and `y` objects. We can split the whole dataset first into train and test splits. \n",
    "\n",
    "The earlier to split the data the better,\n",
    "so this alternative is preferred in general."
   ]
  },
  {
   "cell_type": "code",
   "execution_count": 21,
   "metadata": {},
   "outputs": [
    {
     "data": {
      "text/html": [
       "<div>\n",
       "<style scoped>\n",
       "    .dataframe tbody tr th:only-of-type {\n",
       "        vertical-align: middle;\n",
       "    }\n",
       "\n",
       "    .dataframe tbody tr th {\n",
       "        vertical-align: top;\n",
       "    }\n",
       "\n",
       "    .dataframe thead th {\n",
       "        text-align: right;\n",
       "    }\n",
       "</style>\n",
       "<table border=\"1\" class=\"dataframe\">\n",
       "  <thead>\n",
       "    <tr style=\"text-align: right;\">\n",
       "      <th></th>\n",
       "      <th>longitude</th>\n",
       "      <th>latitude</th>\n",
       "      <th>country</th>\n",
       "    </tr>\n",
       "  </thead>\n",
       "  <tbody>\n",
       "    <tr>\n",
       "      <th>0</th>\n",
       "      <td>-130.0437</td>\n",
       "      <td>55.9773</td>\n",
       "      <td>USA</td>\n",
       "    </tr>\n",
       "    <tr>\n",
       "      <th>1</th>\n",
       "      <td>-134.4197</td>\n",
       "      <td>58.3019</td>\n",
       "      <td>USA</td>\n",
       "    </tr>\n",
       "    <tr>\n",
       "      <th>2</th>\n",
       "      <td>-123.0780</td>\n",
       "      <td>48.9854</td>\n",
       "      <td>USA</td>\n",
       "    </tr>\n",
       "    <tr>\n",
       "      <th>3</th>\n",
       "      <td>-122.7436</td>\n",
       "      <td>48.9881</td>\n",
       "      <td>USA</td>\n",
       "    </tr>\n",
       "    <tr>\n",
       "      <th>4</th>\n",
       "      <td>-122.2691</td>\n",
       "      <td>48.9951</td>\n",
       "      <td>USA</td>\n",
       "    </tr>\n",
       "    <tr>\n",
       "      <th>...</th>\n",
       "      <td>...</td>\n",
       "      <td>...</td>\n",
       "      <td>...</td>\n",
       "    </tr>\n",
       "    <tr>\n",
       "      <th>204</th>\n",
       "      <td>-72.7218</td>\n",
       "      <td>45.3990</td>\n",
       "      <td>Canada</td>\n",
       "    </tr>\n",
       "    <tr>\n",
       "      <th>205</th>\n",
       "      <td>-66.6458</td>\n",
       "      <td>45.9664</td>\n",
       "      <td>Canada</td>\n",
       "    </tr>\n",
       "    <tr>\n",
       "      <th>206</th>\n",
       "      <td>-79.2506</td>\n",
       "      <td>42.9931</td>\n",
       "      <td>Canada</td>\n",
       "    </tr>\n",
       "    <tr>\n",
       "      <th>207</th>\n",
       "      <td>-72.9406</td>\n",
       "      <td>45.6275</td>\n",
       "      <td>Canada</td>\n",
       "    </tr>\n",
       "    <tr>\n",
       "      <th>208</th>\n",
       "      <td>-79.4608</td>\n",
       "      <td>46.3092</td>\n",
       "      <td>Canada</td>\n",
       "    </tr>\n",
       "  </tbody>\n",
       "</table>\n",
       "<p>209 rows × 3 columns</p>\n",
       "</div>"
      ],
      "text/plain": [
       "     longitude  latitude country\n",
       "0    -130.0437   55.9773     USA\n",
       "1    -134.4197   58.3019     USA\n",
       "2    -123.0780   48.9854     USA\n",
       "3    -122.7436   48.9881     USA\n",
       "4    -122.2691   48.9951     USA\n",
       "..         ...       ...     ...\n",
       "204   -72.7218   45.3990  Canada\n",
       "205   -66.6458   45.9664  Canada\n",
       "206   -79.2506   42.9931  Canada\n",
       "207   -72.9406   45.6275  Canada\n",
       "208   -79.4608   46.3092  Canada\n",
       "\n",
       "[209 rows x 3 columns]"
      ]
     },
     "execution_count": 21,
     "metadata": {},
     "output_type": "execute_result"
    }
   ],
   "source": [
    "cities_df"
   ]
  },
  {
   "cell_type": "code",
   "execution_count": 22,
   "metadata": {},
   "outputs": [
    {
     "data": {
      "text/html": [
       "<div>\n",
       "<style scoped>\n",
       "    .dataframe tbody tr th:only-of-type {\n",
       "        vertical-align: middle;\n",
       "    }\n",
       "\n",
       "    .dataframe tbody tr th {\n",
       "        vertical-align: top;\n",
       "    }\n",
       "\n",
       "    .dataframe thead th {\n",
       "        text-align: right;\n",
       "    }\n",
       "</style>\n",
       "<table border=\"1\" class=\"dataframe\">\n",
       "  <thead>\n",
       "    <tr style=\"text-align: right;\">\n",
       "      <th></th>\n",
       "      <th>longitude</th>\n",
       "      <th>latitude</th>\n",
       "      <th>country</th>\n",
       "    </tr>\n",
       "  </thead>\n",
       "  <tbody>\n",
       "    <tr>\n",
       "      <th>160</th>\n",
       "      <td>-76.4813</td>\n",
       "      <td>44.2307</td>\n",
       "      <td>Canada</td>\n",
       "    </tr>\n",
       "    <tr>\n",
       "      <th>127</th>\n",
       "      <td>-81.2496</td>\n",
       "      <td>42.9837</td>\n",
       "      <td>Canada</td>\n",
       "    </tr>\n",
       "    <tr>\n",
       "      <th>169</th>\n",
       "      <td>-66.0580</td>\n",
       "      <td>45.2788</td>\n",
       "      <td>Canada</td>\n",
       "    </tr>\n",
       "    <tr>\n",
       "      <th>188</th>\n",
       "      <td>-73.2533</td>\n",
       "      <td>45.3057</td>\n",
       "      <td>Canada</td>\n",
       "    </tr>\n",
       "    <tr>\n",
       "      <th>187</th>\n",
       "      <td>-67.9245</td>\n",
       "      <td>47.1652</td>\n",
       "      <td>Canada</td>\n",
       "    </tr>\n",
       "    <tr>\n",
       "      <th>...</th>\n",
       "      <td>...</td>\n",
       "      <td>...</td>\n",
       "      <td>...</td>\n",
       "    </tr>\n",
       "    <tr>\n",
       "      <th>17</th>\n",
       "      <td>-76.3305</td>\n",
       "      <td>44.1255</td>\n",
       "      <td>USA</td>\n",
       "    </tr>\n",
       "    <tr>\n",
       "      <th>98</th>\n",
       "      <td>-74.7287</td>\n",
       "      <td>45.0184</td>\n",
       "      <td>Canada</td>\n",
       "    </tr>\n",
       "    <tr>\n",
       "      <th>66</th>\n",
       "      <td>-121.4944</td>\n",
       "      <td>38.5816</td>\n",
       "      <td>USA</td>\n",
       "    </tr>\n",
       "    <tr>\n",
       "      <th>126</th>\n",
       "      <td>-79.5656</td>\n",
       "      <td>43.6436</td>\n",
       "      <td>Canada</td>\n",
       "    </tr>\n",
       "    <tr>\n",
       "      <th>109</th>\n",
       "      <td>-66.9195</td>\n",
       "      <td>44.8938</td>\n",
       "      <td>Canada</td>\n",
       "    </tr>\n",
       "  </tbody>\n",
       "</table>\n",
       "<p>167 rows × 3 columns</p>\n",
       "</div>"
      ],
      "text/plain": [
       "     longitude  latitude country\n",
       "160   -76.4813   44.2307  Canada\n",
       "127   -81.2496   42.9837  Canada\n",
       "169   -66.0580   45.2788  Canada\n",
       "188   -73.2533   45.3057  Canada\n",
       "187   -67.9245   47.1652  Canada\n",
       "..         ...       ...     ...\n",
       "17    -76.3305   44.1255     USA\n",
       "98    -74.7287   45.0184  Canada\n",
       "66   -121.4944   38.5816     USA\n",
       "126   -79.5656   43.6436  Canada\n",
       "109   -66.9195   44.8938  Canada\n",
       "\n",
       "[167 rows x 3 columns]"
      ]
     },
     "execution_count": 22,
     "metadata": {},
     "output_type": "execute_result"
    }
   ],
   "source": [
    "train_df, test_df = train_test_split(cities_df, test_size=0.2, random_state=123)\n",
    "\n",
    "X_train = train_df.drop(columns=[\"country\"])\n",
    "y_train = train_df[\"country\"]\n",
    "\n",
    "X_test = test_df.drop(columns=[\"country\"])\n",
    "y_test = test_df[\"country\"]\n",
    "\n",
    "train_df"
   ]
  },
  {
   "cell_type": "markdown",
   "metadata": {},
   "source": [
    "### Applications with Splitting\n",
    "\n",
    "Let's fit a decision tree model with unlimited depth on the training data and look at the tree structure."
   ]
  },
  {
   "cell_type": "code",
   "execution_count": 23,
   "metadata": {},
   "outputs": [
    {
     "data": {
      "image/png": "[encoded data removed]",
      "text/plain": [
       "<Figure size 1728x720 with 1 Axes>"
      ]
     },
     "metadata": {
      "needs_background": "light"
     },
     "output_type": "display_data"
    }
   ],
   "source": [
    "model = DecisionTreeClassifier()\n",
    "model.fit(X_train, y_train)\n",
    "\n",
    "plot_tree(\n",
    "    model,\n",
    "    feature_names=X.columns,\n",
    "    class_names=y.unique(),\n",
    "    impurity=False,\n",
    "    ax=plt.subplots(figsize=(24, 10))[1]\n",
    ");"
   ]
  },
  {
   "cell_type": "markdown",
   "metadata": {},
   "source": [
    "Let's see how on model scores on the training data and the test data."
   ]
  },
  {
   "cell_type": "code",
   "execution_count": 24,
   "metadata": {},
   "outputs": [
    {
     "name": "stdout",
     "output_type": "stream",
     "text": [
      "Train score: 1.0\n",
      "Test score: 0.76\n"
     ]
    }
   ],
   "source": [
    "print(\"Train score: \" + str(round(model.score(X_train, y_train), 2)))\n",
    "print(\"Test score: \" + str(round(model.score(X_test, y_test), 2)))"
   ]
  },
  {
   "cell_type": "markdown",
   "metadata": {},
   "source": [
    "For this tree, the training score is 1.0 and the test score is only 0.74.  \n",
    "\n",
    "The model does not perform quite as well on data that it has not seen, i.e. it is very specific to the training data and does not generalize well.\n",
    "\n",
    "To see this visually, let's look at the training and testing data with the decision boundaries made by the model."
   ]
  },
  {
   "cell_type": "code",
   "execution_count": 25,
   "metadata": {},
   "outputs": [
    {
     "name": "stderr",
     "output_type": "stream",
     "text": [
      "/home/joel/miniconda3/envs/bait/lib/python3.9/site-packages/sklearn/base.py:450: UserWarning: X does not have valid feature names, but DecisionTreeClassifier was fitted with feature names\n",
      "  warnings.warn(\n",
      "/home/joel/miniconda3/envs/bait/lib/python3.9/site-packages/sklearn/base.py:450: UserWarning: X does not have valid feature names, but DecisionTreeClassifier was fitted with feature names\n",
      "  warnings.warn(\n"
     ]
    },
    {
     "data": {
      "image/png": "[encoded data removed]",
      "text/plain": [
       "<Figure size 1152x576 with 2 Axes>"
      ]
     },
     "metadata": {
      "needs_background": "light"
     },
     "output_type": "display_data"
    }
   ],
   "source": [
    "model.fit(X_train, y_train);\n",
    "\n",
    "plt.figure(figsize=(16, 8))\n",
    "plt.suptitle('Decision tree boundaries', fontsize=20)\n",
    "plt.subplot(1, 2, 1);\n",
    "plt.title(\"Training data\", fontsize=16);\n",
    "plot_classifier(X_train, y_train, model, ticks=True, ax=plt.gca(), lims=(-140,-50,25,60))\n",
    "plt.xlabel(\"longitude\")\n",
    "plt.ylabel(\"latitude\")\n",
    "\n",
    "plt.subplot(1, 2, 2);\n",
    "plt.title(\"Test data\", fontsize=16);\n",
    "plot_classifier(X_test, y_test, model, ticks=True, ax=plt.gca(), lims=(-140,-50,25,60))\n",
    "plt.xlabel(\"longitude\")\n",
    "plt.ylabel(\"latitude\");"
   ]
  },
  {
   "cell_type": "markdown",
   "metadata": {},
   "source": [
    "On the left and the right, we have the same boundaries. But different data being shown.\n",
    "\n",
    "The model is getting 100 percent accuracy on the training and for that to happen, the model ends up being extremely specific.\n",
    "\n",
    "The model got over complicated on the training data and this doesn’t generalize to the test data well.\n",
    "\n",
    "In the plot on the right, we can see some red triangles in the blue area. That is the model making mistakes which explains the lower test accuracy."
   ]
  },
  {
   "cell_type": "markdown",
   "metadata": {},
   "source": [
    "### Parameters in `.train_test_split()`\n",
    "\n",
    "- `test_size` - test split size (0-1)\n",
    "- `train_size` - train split size (0-1) (only need to specify one if these\n",
    "- `random_state` - keeps the split randomization consistent between runs"
   ]
  },
  {
   "cell_type": "code",
   "execution_count": 26,
   "metadata": {},
   "outputs": [],
   "source": [
    "train_df, test_df = train_test_split(cities_df, test_size = 0.2, random_state = 123)"
   ]
  },
  {
   "cell_type": "code",
   "execution_count": 27,
   "metadata": {},
   "outputs": [],
   "source": [
    "train_df, test_df = train_test_split(cities_df, train_size = 0.8, random_state = 123)"
   ]
  },
  {
   "cell_type": "code",
   "execution_count": 28,
   "metadata": {},
   "outputs": [],
   "source": [
    "train_df, test_df = train_test_split(cities_df, test_size = 0.2, train_size = 0.8, random_state = 123)"
   ]
  },
  {
   "cell_type": "markdown",
   "metadata": {},
   "source": [
    "There is no hard and fast rule on the split sizes should we use. Some common splits are 90/10, 80/20, 70/30 (training/test).\n",
    "\n",
    "In the above example, we used an 80/20 split.\n",
    "\n",
    "But there is a trade-off:\n",
    "- More training -> More information for our model. \n",
    "- More test -> Better assessment of our model."
   ]
  },
  {
   "cell_type": "markdown",
   "metadata": {},
   "source": [
    "Now let's look at the random_state argument:\n",
    "\n",
    "The random_state argument controls this shuffling and without this argument set, each time we split our data, it will be split in a different way."
   ]
  },
  {
   "cell_type": "code",
   "execution_count": 29,
   "metadata": {},
   "outputs": [
    {
     "data": {
      "text/html": [
       "<div>\n",
       "<style scoped>\n",
       "    .dataframe tbody tr th:only-of-type {\n",
       "        vertical-align: middle;\n",
       "    }\n",
       "\n",
       "    .dataframe tbody tr th {\n",
       "        vertical-align: top;\n",
       "    }\n",
       "\n",
       "    .dataframe thead th {\n",
       "        text-align: right;\n",
       "    }\n",
       "</style>\n",
       "<table border=\"1\" class=\"dataframe\">\n",
       "  <thead>\n",
       "    <tr style=\"text-align: right;\">\n",
       "      <th></th>\n",
       "      <th>longitude</th>\n",
       "      <th>latitude</th>\n",
       "      <th>country</th>\n",
       "    </tr>\n",
       "  </thead>\n",
       "  <tbody>\n",
       "    <tr>\n",
       "      <th>170</th>\n",
       "      <td>-79.0906</td>\n",
       "      <td>43.8358</td>\n",
       "      <td>Canada</td>\n",
       "    </tr>\n",
       "    <tr>\n",
       "      <th>57</th>\n",
       "      <td>-115.1485</td>\n",
       "      <td>36.1673</td>\n",
       "      <td>USA</td>\n",
       "    </tr>\n",
       "    <tr>\n",
       "      <th>16</th>\n",
       "      <td>-79.0359</td>\n",
       "      <td>43.1726</td>\n",
       "      <td>USA</td>\n",
       "    </tr>\n",
       "    <tr>\n",
       "      <th>68</th>\n",
       "      <td>-94.5781</td>\n",
       "      <td>39.1001</td>\n",
       "      <td>USA</td>\n",
       "    </tr>\n",
       "    <tr>\n",
       "      <th>8</th>\n",
       "      <td>-97.2049</td>\n",
       "      <td>48.9988</td>\n",
       "      <td>USA</td>\n",
       "    </tr>\n",
       "    <tr>\n",
       "      <th>...</th>\n",
       "      <td>...</td>\n",
       "      <td>...</td>\n",
       "      <td>...</td>\n",
       "    </tr>\n",
       "    <tr>\n",
       "      <th>151</th>\n",
       "      <td>-71.8890</td>\n",
       "      <td>45.4033</td>\n",
       "      <td>Canada</td>\n",
       "    </tr>\n",
       "    <tr>\n",
       "      <th>0</th>\n",
       "      <td>-130.0437</td>\n",
       "      <td>55.9773</td>\n",
       "      <td>USA</td>\n",
       "    </tr>\n",
       "    <tr>\n",
       "      <th>64</th>\n",
       "      <td>-119.7848</td>\n",
       "      <td>36.7394</td>\n",
       "      <td>USA</td>\n",
       "    </tr>\n",
       "    <tr>\n",
       "      <th>34</th>\n",
       "      <td>-95.3677</td>\n",
       "      <td>29.7589</td>\n",
       "      <td>USA</td>\n",
       "    </tr>\n",
       "    <tr>\n",
       "      <th>10</th>\n",
       "      <td>-93.4110</td>\n",
       "      <td>48.6010</td>\n",
       "      <td>USA</td>\n",
       "    </tr>\n",
       "  </tbody>\n",
       "</table>\n",
       "<p>167 rows × 3 columns</p>\n",
       "</div>"
      ],
      "text/plain": [
       "     longitude  latitude country\n",
       "170   -79.0906   43.8358  Canada\n",
       "57   -115.1485   36.1673     USA\n",
       "16    -79.0359   43.1726     USA\n",
       "68    -94.5781   39.1001     USA\n",
       "8     -97.2049   48.9988     USA\n",
       "..         ...       ...     ...\n",
       "151   -71.8890   45.4033  Canada\n",
       "0    -130.0437   55.9773     USA\n",
       "64   -119.7848   36.7394     USA\n",
       "34    -95.3677   29.7589     USA\n",
       "10    -93.4110   48.6010     USA\n",
       "\n",
       "[167 rows x 3 columns]"
      ]
     },
     "execution_count": 29,
     "metadata": {},
     "output_type": "execute_result"
    }
   ],
   "source": [
    "train_df, test_df = train_test_split(cities_df, test_size = 0.2)\n",
    "train_df"
   ]
  },
  {
   "cell_type": "markdown",
   "metadata": {},
   "source": [
    "We set this to add a component of reproducibility to our code and if we set it with a `random_state` when we run our code again it will produce the same result. "
   ]
  },
  {
   "cell_type": "code",
   "execution_count": 30,
   "metadata": {},
   "outputs": [
    {
     "data": {
      "text/html": [
       "<div>\n",
       "<style scoped>\n",
       "    .dataframe tbody tr th:only-of-type {\n",
       "        vertical-align: middle;\n",
       "    }\n",
       "\n",
       "    .dataframe tbody tr th {\n",
       "        vertical-align: top;\n",
       "    }\n",
       "\n",
       "    .dataframe thead th {\n",
       "        text-align: right;\n",
       "    }\n",
       "</style>\n",
       "<table border=\"1\" class=\"dataframe\">\n",
       "  <thead>\n",
       "    <tr style=\"text-align: right;\">\n",
       "      <th></th>\n",
       "      <th>longitude</th>\n",
       "      <th>latitude</th>\n",
       "      <th>country</th>\n",
       "    </tr>\n",
       "  </thead>\n",
       "  <tbody>\n",
       "    <tr>\n",
       "      <th>39</th>\n",
       "      <td>-96.7969</td>\n",
       "      <td>32.7763</td>\n",
       "      <td>USA</td>\n",
       "    </tr>\n",
       "    <tr>\n",
       "      <th>55</th>\n",
       "      <td>-97.5171</td>\n",
       "      <td>35.4730</td>\n",
       "      <td>USA</td>\n",
       "    </tr>\n",
       "    <tr>\n",
       "      <th>40</th>\n",
       "      <td>-121.8906</td>\n",
       "      <td>37.3362</td>\n",
       "      <td>USA</td>\n",
       "    </tr>\n",
       "    <tr>\n",
       "      <th>54</th>\n",
       "      <td>-83.0466</td>\n",
       "      <td>42.3316</td>\n",
       "      <td>USA</td>\n",
       "    </tr>\n",
       "    <tr>\n",
       "      <th>48</th>\n",
       "      <td>-122.3301</td>\n",
       "      <td>47.6038</td>\n",
       "      <td>USA</td>\n",
       "    </tr>\n",
       "    <tr>\n",
       "      <th>...</th>\n",
       "      <td>...</td>\n",
       "      <td>...</td>\n",
       "      <td>...</td>\n",
       "    </tr>\n",
       "    <tr>\n",
       "      <th>144</th>\n",
       "      <td>-104.6173</td>\n",
       "      <td>50.4488</td>\n",
       "      <td>Canada</td>\n",
       "    </tr>\n",
       "    <tr>\n",
       "      <th>118</th>\n",
       "      <td>-79.7599</td>\n",
       "      <td>43.6858</td>\n",
       "      <td>Canada</td>\n",
       "    </tr>\n",
       "    <tr>\n",
       "      <th>189</th>\n",
       "      <td>-112.8516</td>\n",
       "      <td>49.6943</td>\n",
       "      <td>Canada</td>\n",
       "    </tr>\n",
       "    <tr>\n",
       "      <th>206</th>\n",
       "      <td>-79.2506</td>\n",
       "      <td>42.9931</td>\n",
       "      <td>Canada</td>\n",
       "    </tr>\n",
       "    <tr>\n",
       "      <th>99</th>\n",
       "      <td>-72.0968</td>\n",
       "      <td>45.0072</td>\n",
       "      <td>Canada</td>\n",
       "    </tr>\n",
       "  </tbody>\n",
       "</table>\n",
       "<p>167 rows × 3 columns</p>\n",
       "</div>"
      ],
      "text/plain": [
       "     longitude  latitude country\n",
       "39    -96.7969   32.7763     USA\n",
       "55    -97.5171   35.4730     USA\n",
       "40   -121.8906   37.3362     USA\n",
       "54    -83.0466   42.3316     USA\n",
       "48   -122.3301   47.6038     USA\n",
       "..         ...       ...     ...\n",
       "144  -104.6173   50.4488  Canada\n",
       "118   -79.7599   43.6858  Canada\n",
       "189  -112.8516   49.6943  Canada\n",
       "206   -79.2506   42.9931  Canada\n",
       "99    -72.0968   45.0072  Canada\n",
       "\n",
       "[167 rows x 3 columns]"
      ]
     },
     "execution_count": 30,
     "metadata": {},
     "output_type": "execute_result"
    }
   ],
   "source": [
    "train_df_rs5, test_df_rs5 = train_test_split(cities_df, test_size = 0.2, random_state = 5)\n",
    "train_df_rs5"
   ]
  },
  {
   "cell_type": "code",
   "execution_count": 31,
   "metadata": {},
   "outputs": [
    {
     "data": {
      "text/html": [
       "<div>\n",
       "<style scoped>\n",
       "    .dataframe tbody tr th:only-of-type {\n",
       "        vertical-align: middle;\n",
       "    }\n",
       "\n",
       "    .dataframe tbody tr th {\n",
       "        vertical-align: top;\n",
       "    }\n",
       "\n",
       "    .dataframe thead th {\n",
       "        text-align: right;\n",
       "    }\n",
       "</style>\n",
       "<table border=\"1\" class=\"dataframe\">\n",
       "  <thead>\n",
       "    <tr style=\"text-align: right;\">\n",
       "      <th></th>\n",
       "      <th>longitude</th>\n",
       "      <th>latitude</th>\n",
       "      <th>country</th>\n",
       "    </tr>\n",
       "  </thead>\n",
       "  <tbody>\n",
       "    <tr>\n",
       "      <th>128</th>\n",
       "      <td>-118.7148</td>\n",
       "      <td>50.4165</td>\n",
       "      <td>Canada</td>\n",
       "    </tr>\n",
       "    <tr>\n",
       "      <th>195</th>\n",
       "      <td>-122.7454</td>\n",
       "      <td>53.9129</td>\n",
       "      <td>Canada</td>\n",
       "    </tr>\n",
       "    <tr>\n",
       "      <th>99</th>\n",
       "      <td>-72.0968</td>\n",
       "      <td>45.0072</td>\n",
       "      <td>Canada</td>\n",
       "    </tr>\n",
       "    <tr>\n",
       "      <th>97</th>\n",
       "      <td>-75.5192</td>\n",
       "      <td>44.7184</td>\n",
       "      <td>Canada</td>\n",
       "    </tr>\n",
       "    <tr>\n",
       "      <th>14</th>\n",
       "      <td>-78.8784</td>\n",
       "      <td>42.8867</td>\n",
       "      <td>USA</td>\n",
       "    </tr>\n",
       "    <tr>\n",
       "      <th>...</th>\n",
       "      <td>...</td>\n",
       "      <td>...</td>\n",
       "      <td>...</td>\n",
       "    </tr>\n",
       "    <tr>\n",
       "      <th>151</th>\n",
       "      <td>-71.8890</td>\n",
       "      <td>45.4033</td>\n",
       "      <td>Canada</td>\n",
       "    </tr>\n",
       "    <tr>\n",
       "      <th>67</th>\n",
       "      <td>-84.3902</td>\n",
       "      <td>33.7491</td>\n",
       "      <td>USA</td>\n",
       "    </tr>\n",
       "    <tr>\n",
       "      <th>25</th>\n",
       "      <td>-67.9353</td>\n",
       "      <td>47.1575</td>\n",
       "      <td>USA</td>\n",
       "    </tr>\n",
       "    <tr>\n",
       "      <th>196</th>\n",
       "      <td>-110.6790</td>\n",
       "      <td>50.0430</td>\n",
       "      <td>Canada</td>\n",
       "    </tr>\n",
       "    <tr>\n",
       "      <th>175</th>\n",
       "      <td>-82.4066</td>\n",
       "      <td>42.9746</td>\n",
       "      <td>Canada</td>\n",
       "    </tr>\n",
       "  </tbody>\n",
       "</table>\n",
       "<p>167 rows × 3 columns</p>\n",
       "</div>"
      ],
      "text/plain": [
       "     longitude  latitude country\n",
       "128  -118.7148   50.4165  Canada\n",
       "195  -122.7454   53.9129  Canada\n",
       "99    -72.0968   45.0072  Canada\n",
       "97    -75.5192   44.7184  Canada\n",
       "14    -78.8784   42.8867     USA\n",
       "..         ...       ...     ...\n",
       "151   -71.8890   45.4033  Canada\n",
       "67    -84.3902   33.7491     USA\n",
       "25    -67.9353   47.1575     USA\n",
       "196  -110.6790   50.0430  Canada\n",
       "175   -82.4066   42.9746  Canada\n",
       "\n",
       "[167 rows x 3 columns]"
      ]
     },
     "execution_count": 31,
     "metadata": {},
     "output_type": "execute_result"
    }
   ],
   "source": [
    "train_df_rs7, test_df_rs7 = train_test_split(cities_df, test_size = 0.2, random_state = 7)\n",
    "train_df_rs7"
   ]
  },
  {
   "cell_type": "markdown",
   "metadata": {},
   "source": [
    "## Validation data for hyperparameter optimization\n",
    "\n",
    "We have seen that letting the model set the hypterparameters (such as max_depth) in an unconstrained way, will cause it to become very specific to the training data. How can we come up with a good way to find which hyperparameters produce the best generalized model (also called **hyperparameter optimization**)?      \n",
    " \n",
    "It's a good idea to have separate data for tuning the hyperparameters of a model that is not the test set. Enter, the ***validation*** set. \n",
    "\n",
    "So we actually want to split our dataset into 3 splits: train, validation, and test.\n",
    "\n",
    "<img src='imgs/train-valid-test-split.png' width=\"100%\" />\n"
   ]
  },
  {
   "cell_type": "markdown",
   "metadata": {},
   "source": [
    "***Note: There isn't a good consensus on the terminology of what is validation and what is test data.***\n",
    "\n",
    "We use: \n",
    "- **training data**: The data used when fitting to find the best model parameters.\n",
    "\n",
    "- **validation data**: Data where we have access to the target values, but unlike the training data, we only use this for hyperparameter tuning and model assessment; we don't pass these into `fit`.  This evaluation is still biased as skill on the validation dataset is incorporated into the model hyperparameter configuration.\n",
    "\n",
    "- **test data** (also called holdout data): Data where we have access to the target values, but in this case, unlike training and validation data, we neither use it in training nor hyperparameter optimization and only use it **once** to evaluate the performance of the best performing model on the validation set. We lock it in a \"vault\" until we're ready to evaluate and it gives a more unbiased performance score than the validation score since the model configuration has not been tweaked to perform well on the test data in any way."
   ]
  },
  {
   "cell_type": "markdown",
   "metadata": {},
   "source": [
    "## \"Deployment\" data\n",
    "\n",
    "What's the point of making models? \n",
    " > We want to predict something which we do not know the answer to, so we do not have the target values and we only have the features.\n",
    "\n",
    "After we build and finalize a model, we deploy it, and then the model is used with data in the wild.\n",
    "\n",
    "We will use **deployment data** to refer to data, where we do not have access to the target values.\n",
    "\n",
    "Deployment score is the thing we really care about; it is the performance of the final model on the data in production.\n",
    "\n",
    "We use validation and test scores as proxies for the deployment score, and we hope they are similar.\n",
    "\n",
    "So, if our model does well on the validation and test data, we hope it will do well on deployment data."
   ]
  },
  {
   "cell_type": "markdown",
   "metadata": {},
   "source": [
    "## Let's Practice \n",
    "\n",
    "1\\. When is the most optimal time to split our data?     \n",
    "2\\. Why do we split our data?    \n",
    "3\\. Fill in the table below:    \n",
    "\n",
    "| datasets   | `.fit()` | `.score()` | `.predict()` |\n",
    "|------------|:--------:|:----------:|:------------:|\n",
    "| Train      |    ✔️     |         |             |\n",
    "| Validation |          |          |            |\n",
    "| Test       |          |       |          |\n",
    "| Deployment |          |            |            |\n"
   ]
  },
  {
   "cell_type": "markdown",
   "metadata": {},
   "source": [
    "```{admonition} Solutions!\n",
    ":class: dropdown\n",
    "\n",
    "1. Before we visualize/explore it.\n",
    "\n",
    "2. To help us assess how well our model generalizes.\n",
    "\n",
    "3. Fill in the table below:\n",
    "\n",
    "| datasets   | `.fit()` | `.score()` | `.predict()` |\n",
    "|------------|:--------:|:----------:|:------------:|\n",
    "| Train      |    ✔️    |   ✔️      |   ✔️         |\n",
    "| Validation |          |   ✔️       |     ✔️      |\n",
    "| Test       |          |    Once    |   Once       |\n",
    "| Deployment |          |            |      ✔️      |\n",
    "\n",
    "```"
   ]
  },
  {
   "cell_type": "markdown",
   "metadata": {},
   "source": [
    "## Cross-validation\n",
    "\n",
    "\n",
    "<!-- <img src='imgs/train-valid-test-split.png' width=\"100%\" /> -->\n",
    "\n",
    "Problems with having a single train-validation split:\n",
    "\n",
    "- Only using a portion of your full data set for training/validation (data is our most precious resource!!!)\n",
    "- If your dataset is small you might end up with a tiny training/validation set\n",
    "- Might be unlucky with your splits such that they don't well represent your data (shuffling data, as is done in `train_test_split()`, is not immune to being unlucky!)\n",
    "\n",
    "There must be a better way! \n",
    "\n",
    "<!-- <img src=\"https://media.giphy.com/media/i4gLlAUz2IVIk/giphy.gif\"  width = \"50%\" alt=\"404 image\" /> -->"
   ]
  },
  {
   "cell_type": "markdown",
   "metadata": {},
   "source": [
    "There is! The answer to our problem is called.....\n",
    "\n",
    "**Cross-validation** (CV) or **𝑘-fold cross-validation**.\n",
    "In cross-validation,\n",
    "we perform several training-validation splits and train and evaluate our model across all of them\n",
    "to find the hyperparameters that performs the best on the data in general.\n",
    "\n",
    "<img src='imgs/cross-validation.png' width=\"100%\">\n",
    "\n",
    "- We still have the test set here at the bottom locked away that we will not touch until the end.\n",
    "- But, we split the training data into $k$ folds ($k>2$, often $k=10$). In the graphic above $k=4$.\n",
    "- Each \"fold\" gets a turn at being the validation set.\n",
    "- Each round will produce a score so after 𝑘-fold cross-validation, it will produce 𝑘 scores. We usually average over the 𝑘 results.\n",
    "- Note that cross-validation doesn't shuffle the data; it's done in `train_test_split`.\n",
    "- We can get now a more “robust” score on unseen data since we can see the variation in the scores across folds.  \n"
   ]
  },
  {
   "cell_type": "markdown",
   "metadata": {},
   "source": [
    "Note that for the same reason as we perform CV with the validation dataset,\n",
    "we might also perform it with the test data set.\n",
    "This is referred to as nested CV,\n",
    "as it includes one outer CV loop for splitting the test data from the validation + training data,\n",
    "and one inner CV loop for splitting the validation data from the training data\n",
    "This can be a good idea in practice,\n",
    "especially if your sample dataset is small,\n",
    "but it is not as commonly used\n",
    "as CV for only the validation-training split."
   ]
  },
  {
   "cell_type": "markdown",
   "metadata": {},
   "source": [
    "## Cross-validation using `sklearn`\n",
    "\n",
    "There are 2 ways we can do cross-validation with `sklearn`:\n",
    "- `.cross_val_score()`\n",
    "- `.cross_validate()`\n",
    "\n",
    "Before doing cross-validation we still need to split our data into our training set and our test set and separate the features from the targets. \n",
    "So using our `X` and `y` from our Canadian/United States cities data we split it into train/test splits. "
   ]
  },
  {
   "cell_type": "code",
   "execution_count": 32,
   "metadata": {},
   "outputs": [],
   "source": [
    "X_train, X_test, y_train, y_test = train_test_split(\n",
    "    X, y, test_size=0.2, random_state=123)"
   ]
  },
  {
   "cell_type": "markdown",
   "metadata": {},
   "source": [
    "### `cross_val_score`\n"
   ]
  },
  {
   "cell_type": "code",
   "execution_count": 33,
   "metadata": {},
   "outputs": [
    {
     "data": {
      "text/plain": [
       "array([0.76470588, 0.82352941, 0.78787879, 0.78787879, 0.84848485])"
      ]
     },
     "execution_count": 33,
     "metadata": {},
     "output_type": "execute_result"
    }
   ],
   "source": [
    "from sklearn.model_selection import cross_val_score\n",
    "\n",
    "\n",
    "model = DecisionTreeClassifier(max_depth=4)\n",
    "cv_score = cross_val_score(model, X_train, y_train, cv=5)\n",
    "cv_score"
   ]
  },
  {
   "cell_type": "markdown",
   "metadata": {},
   "source": [
    "Once, we've imported `cross_val_score` we can make our model and call our model, the feature object and target object as arguments. \n",
    "\n",
    "- `cv` determines the cross-validation splitting strategy or how many \"folds\" there are.\n",
    "\n",
    "- For each fold, the model is fitted on the training portion and scores on the validation portion.\n",
    "\n",
    "- The output of `cross_val_score()` is the validation score for each fold. "
   ]
  },
  {
   "cell_type": "code",
   "execution_count": 34,
   "metadata": {},
   "outputs": [
    {
     "data": {
      "text/plain": [
       "0.8024955436720143"
      ]
     },
     "execution_count": 34,
     "metadata": {},
     "output_type": "execute_result"
    }
   ],
   "source": [
    "cv_score.mean()"
   ]
  },
  {
   "cell_type": "code",
   "execution_count": 35,
   "metadata": {},
   "outputs": [
    {
     "data": {
      "text/plain": [
       "array([0.76470588, 0.82352941, 0.70588235, 0.94117647, 0.82352941,\n",
       "       0.82352941, 0.70588235, 0.9375    , 0.9375    , 0.9375    ])"
      ]
     },
     "execution_count": 35,
     "metadata": {},
     "output_type": "execute_result"
    }
   ],
   "source": [
    "cv_score = cross_val_score(model, X_train, y_train, cv=10)\n",
    "cv_score"
   ]
  },
  {
   "cell_type": "code",
   "execution_count": 36,
   "metadata": {},
   "outputs": [
    {
     "data": {
      "text/plain": [
       "0.8400735294117647"
      ]
     },
     "execution_count": 36,
     "metadata": {},
     "output_type": "execute_result"
    }
   ],
   "source": [
    "cv_score.mean()"
   ]
  },
  {
   "cell_type": "markdown",
   "metadata": {},
   "source": [
    "### `cross_validate`\n",
    "\n",
    "- Similar to `cross_val_score` but more informative.\n",
    "- Lets us access training ***and*** validation scores using the parameter `return_train_score`.\n",
    "- Note: in the dictionary output `test_score` and `test_time` refers to *validation score* and *validation time*"
   ]
  },
  {
   "cell_type": "code",
   "execution_count": 37,
   "metadata": {},
   "outputs": [],
   "source": [
    "from sklearn.model_selection import cross_validate"
   ]
  },
  {
   "cell_type": "code",
   "execution_count": 38,
   "metadata": {},
   "outputs": [
    {
     "data": {
      "text/plain": [
       "{'fit_time': array([0.0019505 , 0.00203133, 0.00125265, 0.00115037, 0.00134325,\n",
       "        0.00136256, 0.00123072, 0.00123739, 0.00115228, 0.00114441]),\n",
       " 'score_time': array([0.00133801, 0.00088358, 0.00090146, 0.00074697, 0.00088954,\n",
       "        0.00121808, 0.00108051, 0.00084639, 0.0007391 , 0.00082874]),\n",
       " 'test_score': array([0.76470588, 0.82352941, 0.70588235, 0.94117647, 0.82352941,\n",
       "        0.82352941, 0.70588235, 0.9375    , 0.9375    , 0.9375    ]),\n",
       " 'train_score': array([0.91333333, 0.90666667, 0.90666667, 0.9       , 0.90666667,\n",
       "        0.91333333, 0.92      , 0.90066225, 0.90066225, 0.90066225])}"
      ]
     },
     "execution_count": 38,
     "metadata": {},
     "output_type": "execute_result"
    }
   ],
   "source": [
    "scores = cross_validate(model, X_train, y_train, cv=10, return_train_score=True)\n",
    "scores"
   ]
  },
  {
   "cell_type": "markdown",
   "metadata": {},
   "source": [
    "We can wrap this in a dataframe for easier reading."
   ]
  },
  {
   "cell_type": "code",
   "execution_count": 39,
   "metadata": {},
   "outputs": [
    {
     "data": {
      "text/html": [
       "<div>\n",
       "<style scoped>\n",
       "    .dataframe tbody tr th:only-of-type {\n",
       "        vertical-align: middle;\n",
       "    }\n",
       "\n",
       "    .dataframe tbody tr th {\n",
       "        vertical-align: top;\n",
       "    }\n",
       "\n",
       "    .dataframe thead th {\n",
       "        text-align: right;\n",
       "    }\n",
       "</style>\n",
       "<table border=\"1\" class=\"dataframe\">\n",
       "  <thead>\n",
       "    <tr style=\"text-align: right;\">\n",
       "      <th></th>\n",
       "      <th>fit_time</th>\n",
       "      <th>score_time</th>\n",
       "      <th>test_score</th>\n",
       "      <th>train_score</th>\n",
       "    </tr>\n",
       "  </thead>\n",
       "  <tbody>\n",
       "    <tr>\n",
       "      <th>0</th>\n",
       "      <td>0.001555</td>\n",
       "      <td>0.000896</td>\n",
       "      <td>0.764706</td>\n",
       "      <td>0.913333</td>\n",
       "    </tr>\n",
       "    <tr>\n",
       "      <th>1</th>\n",
       "      <td>0.001644</td>\n",
       "      <td>0.001473</td>\n",
       "      <td>0.823529</td>\n",
       "      <td>0.906667</td>\n",
       "    </tr>\n",
       "    <tr>\n",
       "      <th>2</th>\n",
       "      <td>0.001373</td>\n",
       "      <td>0.000842</td>\n",
       "      <td>0.705882</td>\n",
       "      <td>0.906667</td>\n",
       "    </tr>\n",
       "    <tr>\n",
       "      <th>3</th>\n",
       "      <td>0.001864</td>\n",
       "      <td>0.001024</td>\n",
       "      <td>0.941176</td>\n",
       "      <td>0.900000</td>\n",
       "    </tr>\n",
       "    <tr>\n",
       "      <th>4</th>\n",
       "      <td>0.002614</td>\n",
       "      <td>0.001065</td>\n",
       "      <td>0.823529</td>\n",
       "      <td>0.906667</td>\n",
       "    </tr>\n",
       "    <tr>\n",
       "      <th>5</th>\n",
       "      <td>0.001616</td>\n",
       "      <td>0.001102</td>\n",
       "      <td>0.823529</td>\n",
       "      <td>0.913333</td>\n",
       "    </tr>\n",
       "    <tr>\n",
       "      <th>6</th>\n",
       "      <td>0.001651</td>\n",
       "      <td>0.001004</td>\n",
       "      <td>0.705882</td>\n",
       "      <td>0.920000</td>\n",
       "    </tr>\n",
       "    <tr>\n",
       "      <th>7</th>\n",
       "      <td>0.001375</td>\n",
       "      <td>0.000874</td>\n",
       "      <td>0.937500</td>\n",
       "      <td>0.900662</td>\n",
       "    </tr>\n",
       "    <tr>\n",
       "      <th>8</th>\n",
       "      <td>0.001312</td>\n",
       "      <td>0.000813</td>\n",
       "      <td>0.937500</td>\n",
       "      <td>0.900662</td>\n",
       "    </tr>\n",
       "    <tr>\n",
       "      <th>9</th>\n",
       "      <td>0.001385</td>\n",
       "      <td>0.000896</td>\n",
       "      <td>0.937500</td>\n",
       "      <td>0.900662</td>\n",
       "    </tr>\n",
       "  </tbody>\n",
       "</table>\n",
       "</div>"
      ],
      "text/plain": [
       "   fit_time  score_time  test_score  train_score\n",
       "0  0.001555    0.000896    0.764706     0.913333\n",
       "1  0.001644    0.001473    0.823529     0.906667\n",
       "2  0.001373    0.000842    0.705882     0.906667\n",
       "3  0.001864    0.001024    0.941176     0.900000\n",
       "4  0.002614    0.001065    0.823529     0.906667\n",
       "5  0.001616    0.001102    0.823529     0.913333\n",
       "6  0.001651    0.001004    0.705882     0.920000\n",
       "7  0.001375    0.000874    0.937500     0.900662\n",
       "8  0.001312    0.000813    0.937500     0.900662\n",
       "9  0.001385    0.000896    0.937500     0.900662"
      ]
     },
     "execution_count": 39,
     "metadata": {},
     "output_type": "execute_result"
    }
   ],
   "source": [
    "scores_df = pd.DataFrame(cross_validate(model, X_train, y_train, cv=10, return_train_score=True))\n",
    "scores_df"
   ]
  },
  {
   "cell_type": "code",
   "execution_count": 40,
   "metadata": {},
   "outputs": [
    {
     "data": {
      "text/plain": [
       "fit_time       0.001639\n",
       "score_time     0.000999\n",
       "test_score     0.840074\n",
       "train_score    0.906865\n",
       "dtype: float64"
      ]
     },
     "execution_count": 40,
     "metadata": {},
     "output_type": "execute_result"
    }
   ],
   "source": [
    "scores_df.mean()"
   ]
  },
  {
   "cell_type": "code",
   "execution_count": 41,
   "metadata": {},
   "outputs": [
    {
     "data": {
      "text/plain": [
       "fit_time       0.000383\n",
       "score_time     0.000193\n",
       "test_score     0.094993\n",
       "train_score    0.006822\n",
       "dtype: float64"
      ]
     },
     "execution_count": 41,
     "metadata": {},
     "output_type": "execute_result"
    }
   ],
   "source": [
    "scores_df.std()"
   ]
  },
  {
   "cell_type": "markdown",
   "metadata": {},
   "source": [
    "## Our typical supervised learning set up is as follows: \n",
    "\n",
    "1. Given training data with `X` and `y`.\n",
    "2. We split our data into `X_train, y_train, X_test, y_test`.\n",
    "3. Hyperparameter optimization using cross-validation on `X_train` and `y_train`. \n",
    "4. We assess the best model using  `X_test` and `y_test`.\n",
    "5. The **test score** tells us how well our model generalizes.\n",
    "6. If the **test score** is reasonable, we deploy the model."
   ]
  },
  {
   "cell_type": "markdown",
   "metadata": {},
   "source": [
    "## Let's Practice \n",
    "\n",
    "1\\. We carry out cross-validation to avoid reusing the same validation set again and again. Let’s say you do 10-fold cross-validation on 1000 examples. For each fold, how many examples do you train on?    \n",
    "2\\. With 10-fold cross-validation, you split 1000 examples into 10-folds. For each fold, when you are done, you add up the accuracies from each fold and divide by what?     \n",
    "\n",
    "**True/False:**  \n",
    "\n",
    "3\\. 𝑘-fold cross-validation calls fit 𝑘 times and predict 𝑘 times.\n"
   ]
  },
  {
   "cell_type": "markdown",
   "metadata": {},
   "source": [
    "```{admonition} Solutions!\n",
    ":class: dropdown\n",
    "1. 900\n",
    "2. 10\n",
    "3. True\n",
    "```"
   ]
  },
  {
   "cell_type": "markdown",
   "metadata": {},
   "source": [
    "## Overfitting and Underfitting\n",
    "\n",
    "### Types of scores \n",
    "We've talked about the different types of splits, now we are going to talk about their scores. \n",
    "\n",
    "- **Training score**: The score that our model gets on the same data that it was trained on. (seen data - training data) \n",
    "- **Validation score**: The mean validation score from cross-validation).\n",
    "- **Test score**: This is the score from the data that we locked away. "
   ]
  },
  {
   "cell_type": "markdown",
   "metadata": {},
   "source": [
    "### Overfitting\n",
    "\n",
    "- Overfitting occurs when our model is overly specified to the particular training data and often leads to bad results.\n",
    "- Training score is high but the validation score is much lower.  \n",
    "- The gap between train and validation scores is large.\n",
    "- It's usually common to have a bit of overfitting (only a bit!) \n",
    "- This produces more severe results when the training data is minimal or when the model’s complexity is high."
   ]
  },
  {
   "cell_type": "code",
   "execution_count": 42,
   "metadata": {},
   "outputs": [
    {
     "data": {
      "text/html": [
       "<div>\n",
       "<style scoped>\n",
       "    .dataframe tbody tr th:only-of-type {\n",
       "        vertical-align: middle;\n",
       "    }\n",
       "\n",
       "    .dataframe tbody tr th {\n",
       "        vertical-align: top;\n",
       "    }\n",
       "\n",
       "    .dataframe thead th {\n",
       "        text-align: right;\n",
       "    }\n",
       "</style>\n",
       "<table border=\"1\" class=\"dataframe\">\n",
       "  <thead>\n",
       "    <tr style=\"text-align: right;\">\n",
       "      <th></th>\n",
       "      <th>fit_time</th>\n",
       "      <th>score_time</th>\n",
       "      <th>test_score</th>\n",
       "      <th>train_score</th>\n",
       "    </tr>\n",
       "  </thead>\n",
       "  <tbody>\n",
       "    <tr>\n",
       "      <th>0</th>\n",
       "      <td>0.002418</td>\n",
       "      <td>0.000948</td>\n",
       "      <td>0.588235</td>\n",
       "      <td>1.0</td>\n",
       "    </tr>\n",
       "    <tr>\n",
       "      <th>1</th>\n",
       "      <td>0.001242</td>\n",
       "      <td>0.000793</td>\n",
       "      <td>0.764706</td>\n",
       "      <td>1.0</td>\n",
       "    </tr>\n",
       "    <tr>\n",
       "      <th>2</th>\n",
       "      <td>0.001215</td>\n",
       "      <td>0.000773</td>\n",
       "      <td>0.764706</td>\n",
       "      <td>1.0</td>\n",
       "    </tr>\n",
       "    <tr>\n",
       "      <th>3</th>\n",
       "      <td>0.001173</td>\n",
       "      <td>0.000778</td>\n",
       "      <td>0.941176</td>\n",
       "      <td>1.0</td>\n",
       "    </tr>\n",
       "    <tr>\n",
       "      <th>4</th>\n",
       "      <td>0.001561</td>\n",
       "      <td>0.000949</td>\n",
       "      <td>0.882353</td>\n",
       "      <td>1.0</td>\n",
       "    </tr>\n",
       "    <tr>\n",
       "      <th>5</th>\n",
       "      <td>0.001221</td>\n",
       "      <td>0.000769</td>\n",
       "      <td>0.823529</td>\n",
       "      <td>1.0</td>\n",
       "    </tr>\n",
       "    <tr>\n",
       "      <th>6</th>\n",
       "      <td>0.001213</td>\n",
       "      <td>0.000811</td>\n",
       "      <td>0.705882</td>\n",
       "      <td>1.0</td>\n",
       "    </tr>\n",
       "    <tr>\n",
       "      <th>7</th>\n",
       "      <td>0.001249</td>\n",
       "      <td>0.000795</td>\n",
       "      <td>0.812500</td>\n",
       "      <td>1.0</td>\n",
       "    </tr>\n",
       "    <tr>\n",
       "      <th>8</th>\n",
       "      <td>0.002335</td>\n",
       "      <td>0.001601</td>\n",
       "      <td>0.937500</td>\n",
       "      <td>1.0</td>\n",
       "    </tr>\n",
       "    <tr>\n",
       "      <th>9</th>\n",
       "      <td>0.001605</td>\n",
       "      <td>0.001047</td>\n",
       "      <td>0.812500</td>\n",
       "      <td>1.0</td>\n",
       "    </tr>\n",
       "  </tbody>\n",
       "</table>\n",
       "</div>"
      ],
      "text/plain": [
       "   fit_time  score_time  test_score  train_score\n",
       "0  0.002418    0.000948    0.588235          1.0\n",
       "1  0.001242    0.000793    0.764706          1.0\n",
       "2  0.001215    0.000773    0.764706          1.0\n",
       "3  0.001173    0.000778    0.941176          1.0\n",
       "4  0.001561    0.000949    0.882353          1.0\n",
       "5  0.001221    0.000769    0.823529          1.0\n",
       "6  0.001213    0.000811    0.705882          1.0\n",
       "7  0.001249    0.000795    0.812500          1.0\n",
       "8  0.002335    0.001601    0.937500          1.0\n",
       "9  0.001605    0.001047    0.812500          1.0"
      ]
     },
     "execution_count": 42,
     "metadata": {},
     "output_type": "execute_result"
    }
   ],
   "source": [
    "model = DecisionTreeClassifier()\n",
    "scores = cross_validate(model, X_train, y_train, cv=10, return_train_score=True)\n",
    "\n",
    "pd.DataFrame(scores)"
   ]
  },
  {
   "cell_type": "code",
   "execution_count": 43,
   "metadata": {},
   "outputs": [
    {
     "name": "stdout",
     "output_type": "stream",
     "text": [
      "Train score: 1.0\n",
      "Validation score: 0.8\n"
     ]
    }
   ],
   "source": [
    "print(\"Train score: \" + str(round(scores[\"train_score\"].mean(), 2)))\n",
    "print(\"Validation score: \" + str(round(scores[\"test_score\"].mean(), 2)))"
   ]
  },
  {
   "cell_type": "code",
   "execution_count": 44,
   "metadata": {},
   "outputs": [
    {
     "name": "stderr",
     "output_type": "stream",
     "text": [
      "/home/joel/miniconda3/envs/bait/lib/python3.9/site-packages/sklearn/base.py:450: UserWarning: X does not have valid feature names, but DecisionTreeClassifier was fitted with feature names\n",
      "  warnings.warn(\n"
     ]
    },
    {
     "data": {
      "image/png": "[encoded data removed]",
      "text/plain": [
       "<Figure size 432x288 with 1 Axes>"
      ]
     },
     "metadata": {},
     "output_type": "display_data"
    }
   ],
   "source": [
    "model.fit(X_train, y_train);\n",
    "plot_classifier(X_train, y_train, model);\n",
    "plt.title(\"Decision tree with no max_depth\");"
   ]
  },
  {
   "cell_type": "markdown",
   "metadata": {},
   "source": [
    "### Underfitting \n",
    "\n",
    "- Underfitting is somewhat the opposite of overfitting in the sense that it occurs when the model is not complex enough. \n",
    "- Underfitting is when our model is too simple (`DecisionTreeClassifier` with max_depth=1). \n",
    "- The model doesn't capture the patterns in the training data and the training score is not that high.\n",
    "- Both train and validation scores are low and the gap between train and validation scores is low as well."
   ]
  },
  {
   "cell_type": "code",
   "execution_count": 45,
   "metadata": {},
   "outputs": [
    {
     "name": "stdout",
     "output_type": "stream",
     "text": [
      "Train score: 0.83\n",
      "Validation score: 0.81\n"
     ]
    }
   ],
   "source": [
    "model = DecisionTreeClassifier(max_depth=1)\n",
    "\n",
    "scores = cross_validate(model, X_train, y_train, cv=10, return_train_score=True)\n",
    "print(\"Train score: \" + str(round(scores[\"train_score\"].mean(), 2)))\n",
    "print(\"Validation score: \" + str(round(scores[\"test_score\"].mean(), 2)))"
   ]
  },
  {
   "cell_type": "markdown",
   "metadata": {},
   "source": [
    "Standard question to ask ourselves: \n",
    "***Which of these scenarios am I in?***\n",
    "\n",
    "### How can we figure this out?\n",
    "\n",
    "- If the training and validation scores are very far apart → more likely **overfitting**.     \n",
    "    - Try decreasing model complexity.\n",
    "\n",
    "- If the training and validation scores are very close together → more likely **underfitting**.  \n",
    "    - Try increasing model complexity."
   ]
  },
  {
   "cell_type": "markdown",
   "metadata": {},
   "source": [
    "## The \"Fundamental Tradeoff\" of Supervised Learning\n",
    "\n",
    "As model complexity increases:\n",
    "\n",
    "$\\text{Training score}$  ↑ and ($\\text{Training score} − \\text{Validation score}$) tend to also  ↑\n",
    "\n",
    "\n",
    "If our model is too simple (underfitting) then we won't really learn any \"specific patterns\" of the training set. \n",
    "\n",
    "**BUT** \n",
    "\n",
    "If our model is too complex then we will learn unreliable patterns that get every single training example correct, and there will be a large gap between training error and validation error.\n",
    "\n",
    "The trade-off is there is tension between these two concepts. \n",
    "\n",
    "When we underfit less, we overfit more. \n",
    "\n",
    "How do we know how much overfitting is too much and how much is not enough? "
   ]
  },
  {
   "cell_type": "markdown",
   "metadata": {},
   "source": [
    "### How to pick a model that would generalize better?\n",
    "\n",
    "We can create a loop that tries different values of the hyperparameters to see which give the best results,\n",
    "let's try this with a max depth from 1 to 20."
   ]
  },
  {
   "cell_type": "code",
   "execution_count": 46,
   "metadata": {},
   "outputs": [
    {
     "data": {
      "text/html": [
       "<div>\n",
       "<style scoped>\n",
       "    .dataframe tbody tr th:only-of-type {\n",
       "        vertical-align: middle;\n",
       "    }\n",
       "\n",
       "    .dataframe tbody tr th {\n",
       "        vertical-align: top;\n",
       "    }\n",
       "\n",
       "    .dataframe thead th {\n",
       "        text-align: right;\n",
       "    }\n",
       "</style>\n",
       "<table border=\"1\" class=\"dataframe\">\n",
       "  <thead>\n",
       "    <tr style=\"text-align: right;\">\n",
       "      <th></th>\n",
       "      <th>depth</th>\n",
       "      <th>mean_train_score</th>\n",
       "      <th>mean_cv_score</th>\n",
       "    </tr>\n",
       "  </thead>\n",
       "  <tbody>\n",
       "    <tr>\n",
       "      <th>0</th>\n",
       "      <td>1</td>\n",
       "      <td>0.834349</td>\n",
       "      <td>0.809926</td>\n",
       "    </tr>\n",
       "    <tr>\n",
       "      <th>1</th>\n",
       "      <td>2</td>\n",
       "      <td>0.844989</td>\n",
       "      <td>0.804044</td>\n",
       "    </tr>\n",
       "    <tr>\n",
       "      <th>2</th>\n",
       "      <td>3</td>\n",
       "      <td>0.862967</td>\n",
       "      <td>0.804412</td>\n",
       "    </tr>\n",
       "    <tr>\n",
       "      <th>3</th>\n",
       "      <td>4</td>\n",
       "      <td>0.906865</td>\n",
       "      <td>0.840074</td>\n",
       "    </tr>\n",
       "    <tr>\n",
       "      <th>4</th>\n",
       "      <td>5</td>\n",
       "      <td>0.918848</td>\n",
       "      <td>0.851838</td>\n",
       "    </tr>\n",
       "    <tr>\n",
       "      <th>5</th>\n",
       "      <td>6</td>\n",
       "      <td>0.930817</td>\n",
       "      <td>0.815074</td>\n",
       "    </tr>\n",
       "    <tr>\n",
       "      <th>6</th>\n",
       "      <td>7</td>\n",
       "      <td>0.954115</td>\n",
       "      <td>0.833824</td>\n",
       "    </tr>\n",
       "    <tr>\n",
       "      <th>7</th>\n",
       "      <td>8</td>\n",
       "      <td>0.972066</td>\n",
       "      <td>0.815441</td>\n",
       "    </tr>\n",
       "    <tr>\n",
       "      <th>8</th>\n",
       "      <td>9</td>\n",
       "      <td>0.979382</td>\n",
       "      <td>0.821691</td>\n",
       "    </tr>\n",
       "    <tr>\n",
       "      <th>9</th>\n",
       "      <td>10</td>\n",
       "      <td>0.994013</td>\n",
       "      <td>0.809191</td>\n",
       "    </tr>\n",
       "    <tr>\n",
       "      <th>10</th>\n",
       "      <td>11</td>\n",
       "      <td>0.998004</td>\n",
       "      <td>0.815074</td>\n",
       "    </tr>\n",
       "    <tr>\n",
       "      <th>11</th>\n",
       "      <td>12</td>\n",
       "      <td>1.000000</td>\n",
       "      <td>0.809191</td>\n",
       "    </tr>\n",
       "    <tr>\n",
       "      <th>12</th>\n",
       "      <td>13</td>\n",
       "      <td>1.000000</td>\n",
       "      <td>0.815074</td>\n",
       "    </tr>\n",
       "    <tr>\n",
       "      <th>13</th>\n",
       "      <td>14</td>\n",
       "      <td>1.000000</td>\n",
       "      <td>0.809191</td>\n",
       "    </tr>\n",
       "    <tr>\n",
       "      <th>14</th>\n",
       "      <td>15</td>\n",
       "      <td>1.000000</td>\n",
       "      <td>0.809191</td>\n",
       "    </tr>\n",
       "    <tr>\n",
       "      <th>15</th>\n",
       "      <td>16</td>\n",
       "      <td>1.000000</td>\n",
       "      <td>0.809191</td>\n",
       "    </tr>\n",
       "    <tr>\n",
       "      <th>16</th>\n",
       "      <td>17</td>\n",
       "      <td>1.000000</td>\n",
       "      <td>0.809191</td>\n",
       "    </tr>\n",
       "    <tr>\n",
       "      <th>17</th>\n",
       "      <td>18</td>\n",
       "      <td>1.000000</td>\n",
       "      <td>0.809191</td>\n",
       "    </tr>\n",
       "    <tr>\n",
       "      <th>18</th>\n",
       "      <td>19</td>\n",
       "      <td>1.000000</td>\n",
       "      <td>0.803309</td>\n",
       "    </tr>\n",
       "  </tbody>\n",
       "</table>\n",
       "</div>"
      ],
      "text/plain": [
       "    depth  mean_train_score  mean_cv_score\n",
       "0       1          0.834349       0.809926\n",
       "1       2          0.844989       0.804044\n",
       "2       3          0.862967       0.804412\n",
       "3       4          0.906865       0.840074\n",
       "4       5          0.918848       0.851838\n",
       "5       6          0.930817       0.815074\n",
       "6       7          0.954115       0.833824\n",
       "7       8          0.972066       0.815441\n",
       "8       9          0.979382       0.821691\n",
       "9      10          0.994013       0.809191\n",
       "10     11          0.998004       0.815074\n",
       "11     12          1.000000       0.809191\n",
       "12     13          1.000000       0.815074\n",
       "13     14          1.000000       0.809191\n",
       "14     15          1.000000       0.809191\n",
       "15     16          1.000000       0.809191\n",
       "16     17          1.000000       0.809191\n",
       "17     18          1.000000       0.809191\n",
       "18     19          1.000000       0.803309"
      ]
     },
     "execution_count": 46,
     "metadata": {},
     "output_type": "execute_result"
    }
   ],
   "source": [
    "results_dict = {\"depth\": list(), \"mean_train_score\": list(), \"mean_cv_score\": list()}\n",
    "\n",
    "for depth in range(1, 20):\n",
    "    model = DecisionTreeClassifier(max_depth=depth)\n",
    "    scores = cross_validate(model, X_train, y_train, cv=10, return_train_score=True)\n",
    "    results_dict[\"depth\"].append(depth)\n",
    "    results_dict[\"mean_cv_score\"].append(scores[\"test_score\"].mean())\n",
    "    results_dict[\"mean_train_score\"].append(scores[\"train_score\"].mean())\n",
    "\n",
    "results_df = pd.DataFrame(results_dict)\n",
    "results_df"
   ]
  },
  {
   "cell_type": "code",
   "execution_count": 47,
   "metadata": {},
   "outputs": [
    {
     "data": {
      "text/html": [
       "\n",
       "<div id=\"altair-viz-bf55c0fe2f9546baa8de1d43fffccc0d\"></div>\n",
       "<script type=\"text/javascript\">\n",
       "  var VEGA_DEBUG = (typeof VEGA_DEBUG == \"undefined\") ? {} : VEGA_DEBUG;\n",
       "  (function(spec, embedOpt){\n",
       "    let outputDiv = document.currentScript.previousElementSibling;\n",
       "    if (outputDiv.id !== \"altair-viz-bf55c0fe2f9546baa8de1d43fffccc0d\") {\n",
       "      outputDiv = document.getElementById(\"altair-viz-bf55c0fe2f9546baa8de1d43fffccc0d\");\n",
       "    }\n",
       "    const paths = {\n",
       "      \"vega\": \"https://cdn.jsdelivr.net/npm//vega@5?noext\",\n",
       "      \"vega-lib\": \"https://cdn.jsdelivr.net/npm//vega-lib?noext\",\n",
       "      \"vega-lite\": \"https://cdn.jsdelivr.net/npm//vega-lite@4.17.0?noext\",\n",
       "      \"vega-embed\": \"https://cdn.jsdelivr.net/npm//vega-embed@6?noext\",\n",
       "    };\n",
       "\n",
       "    function maybeLoadScript(lib, version) {\n",
       "      var key = `${lib.replace(\"-\", \"\")}_version`;\n",
       "      return (VEGA_DEBUG[key] == version) ?\n",
       "        Promise.resolve(paths[lib]) :\n",
       "        new Promise(function(resolve, reject) {\n",
       "          var s = document.createElement('script');\n",
       "          document.getElementsByTagName(\"head\")[0].appendChild(s);\n",
       "          s.async = true;\n",
       "          s.onload = () => {\n",
       "            VEGA_DEBUG[key] = version;\n",
       "            return resolve(paths[lib]);\n",
       "          };\n",
       "          s.onerror = () => reject(`Error loading script: ${paths[lib]}`);\n",
       "          s.src = paths[lib];\n",
       "        });\n",
       "    }\n",
       "\n",
       "    function showError(err) {\n",
       "      outputDiv.innerHTML = `<div class=\"error\" style=\"color:red;\">${err}</div>`;\n",
       "      throw err;\n",
       "    }\n",
       "\n",
       "    function displayChart(vegaEmbed) {\n",
       "      vegaEmbed(outputDiv, spec, embedOpt)\n",
       "        .catch(err => showError(`Javascript Error: ${err.message}<br>This usually means there's a typo in your chart specification. See the javascript console for the full traceback.`));\n",
       "    }\n",
       "\n",
       "    if(typeof define === \"function\" && define.amd) {\n",
       "      requirejs.config({paths});\n",
       "      require([\"vega-embed\"], displayChart, err => showError(`Error loading script: ${err.message}`));\n",
       "    } else {\n",
       "      maybeLoadScript(\"vega\", \"5\")\n",
       "        .then(() => maybeLoadScript(\"vega-lite\", \"4.17.0\"))\n",
       "        .then(() => maybeLoadScript(\"vega-embed\", \"6\"))\n",
       "        .catch(showError)\n",
       "        .then(() => displayChart(vegaEmbed));\n",
       "    }\n",
       "  })({\"config\": {\"view\": {\"continuousWidth\": 400, \"continuousHeight\": 300}}, \"data\": {\"name\": \"data-297d928773aed4cc3ce3248f2a66b51c\"}, \"mark\": \"line\", \"encoding\": {\"color\": {\"field\": \"score_type\", \"scale\": {\"domain\": [\"mean_train_score\", \"mean_cv_score\"], \"range\": [\"teal\", \"gold\"]}, \"type\": \"nominal\"}, \"x\": {\"axis\": {\"title\": \"Tree Depth\"}, \"field\": \"depth\", \"type\": \"quantitative\"}, \"y\": {\"field\": \"accuracy\", \"type\": \"quantitative\"}}, \"$schema\": \"https://vega.github.io/schema/vega-lite/v4.17.0.json\", \"datasets\": {\"data-297d928773aed4cc3ce3248f2a66b51c\": [{\"depth\": 1, \"score_type\": \"mean_train_score\", \"accuracy\": 0.8343487858719646}, {\"depth\": 2, \"score_type\": \"mean_train_score\", \"accuracy\": 0.8449889624724062}, {\"depth\": 3, \"score_type\": \"mean_train_score\", \"accuracy\": 0.8629668874172186}, {\"depth\": 4, \"score_type\": \"mean_train_score\", \"accuracy\": 0.9068653421633552}, {\"depth\": 5, \"score_type\": \"mean_train_score\", \"accuracy\": 0.9188476821192054}, {\"depth\": 6, \"score_type\": \"mean_train_score\", \"accuracy\": 0.9308167770419427}, {\"depth\": 7, \"score_type\": \"mean_train_score\", \"accuracy\": 0.9541147902869757}, {\"depth\": 8, \"score_type\": \"mean_train_score\", \"accuracy\": 0.9720662251655628}, {\"depth\": 9, \"score_type\": \"mean_train_score\", \"accuracy\": 0.9793818984547462}, {\"depth\": 10, \"score_type\": \"mean_train_score\", \"accuracy\": 0.9940132450331127}, {\"depth\": 11, \"score_type\": \"mean_train_score\", \"accuracy\": 0.9980044150110375}, {\"depth\": 12, \"score_type\": \"mean_train_score\", \"accuracy\": 1.0}, {\"depth\": 13, \"score_type\": \"mean_train_score\", \"accuracy\": 1.0}, {\"depth\": 14, \"score_type\": \"mean_train_score\", \"accuracy\": 1.0}, {\"depth\": 15, \"score_type\": \"mean_train_score\", \"accuracy\": 1.0}, {\"depth\": 16, \"score_type\": \"mean_train_score\", \"accuracy\": 1.0}, {\"depth\": 17, \"score_type\": \"mean_train_score\", \"accuracy\": 1.0}, {\"depth\": 18, \"score_type\": \"mean_train_score\", \"accuracy\": 1.0}, {\"depth\": 19, \"score_type\": \"mean_train_score\", \"accuracy\": 1.0}, {\"depth\": 1, \"score_type\": \"mean_cv_score\", \"accuracy\": 0.8099264705882353}, {\"depth\": 2, \"score_type\": \"mean_cv_score\", \"accuracy\": 0.8040441176470589}, {\"depth\": 3, \"score_type\": \"mean_cv_score\", \"accuracy\": 0.8044117647058824}, {\"depth\": 4, \"score_type\": \"mean_cv_score\", \"accuracy\": 0.8400735294117647}, {\"depth\": 5, \"score_type\": \"mean_cv_score\", \"accuracy\": 0.8518382352941176}, {\"depth\": 6, \"score_type\": \"mean_cv_score\", \"accuracy\": 0.8150735294117647}, {\"depth\": 7, \"score_type\": \"mean_cv_score\", \"accuracy\": 0.8338235294117646}, {\"depth\": 8, \"score_type\": \"mean_cv_score\", \"accuracy\": 0.8154411764705882}, {\"depth\": 9, \"score_type\": \"mean_cv_score\", \"accuracy\": 0.8216911764705882}, {\"depth\": 10, \"score_type\": \"mean_cv_score\", \"accuracy\": 0.8091911764705882}, {\"depth\": 11, \"score_type\": \"mean_cv_score\", \"accuracy\": 0.8150735294117648}, {\"depth\": 12, \"score_type\": \"mean_cv_score\", \"accuracy\": 0.8091911764705882}, {\"depth\": 13, \"score_type\": \"mean_cv_score\", \"accuracy\": 0.8150735294117648}, {\"depth\": 14, \"score_type\": \"mean_cv_score\", \"accuracy\": 0.8091911764705882}, {\"depth\": 15, \"score_type\": \"mean_cv_score\", \"accuracy\": 0.8091911764705882}, {\"depth\": 16, \"score_type\": \"mean_cv_score\", \"accuracy\": 0.8091911764705882}, {\"depth\": 17, \"score_type\": \"mean_cv_score\", \"accuracy\": 0.8091911764705882}, {\"depth\": 18, \"score_type\": \"mean_cv_score\", \"accuracy\": 0.8091911764705882}, {\"depth\": 19, \"score_type\": \"mean_cv_score\", \"accuracy\": 0.8033088235294118}]}}, {\"mode\": \"vega-lite\"});\n",
       "</script>"
      ],
      "text/plain": [
       "alt.Chart(...)"
      ]
     },
     "execution_count": 47,
     "metadata": {},
     "output_type": "execute_result"
    }
   ],
   "source": [
    "source = results_df.melt(id_vars=['depth'] , \n",
    "                              value_vars=['mean_train_score', 'mean_cv_score'], \n",
    "                              var_name='score_type', value_name='accuracy')\n",
    "chart1 = alt.Chart(source).mark_line().encode(\n",
    "    alt.X('depth:Q', axis=alt.Axis(title=\"Tree Depth\")),\n",
    "    alt.Y('accuracy:Q'),\n",
    "    alt.Color('score_type:N', scale=alt.Scale(domain=['mean_train_score', 'mean_cv_score'],\n",
    "                                           range=['teal', 'gold'])))\n",
    "chart1"
   ]
  },
  {
   "cell_type": "markdown",
   "metadata": {},
   "source": [
    "- As we increase our depth (increase our complexity) our training data increases. \n",
    "- As we increase our depth, we overfit more, and the gap between the train score and validation score also increases... except  ... "
   ]
  },
  {
   "cell_type": "markdown",
   "metadata": {},
   "source": [
    "- There is a spot where the gap between the validation score and test score is the smallest while still producing a decent validation score.\n",
    "- In the plot, this would be around `max_depth` is 5. \n",
    "- Commonly, we look at the cross-validation score and pick the hyperparameter with the highest cross-validation score. "
   ]
  },
  {
   "cell_type": "code",
   "execution_count": 48,
   "metadata": {},
   "outputs": [
    {
     "data": {
      "text/html": [
       "<div>\n",
       "<style scoped>\n",
       "    .dataframe tbody tr th:only-of-type {\n",
       "        vertical-align: middle;\n",
       "    }\n",
       "\n",
       "    .dataframe tbody tr th {\n",
       "        vertical-align: top;\n",
       "    }\n",
       "\n",
       "    .dataframe thead th {\n",
       "        text-align: right;\n",
       "    }\n",
       "</style>\n",
       "<table border=\"1\" class=\"dataframe\">\n",
       "  <thead>\n",
       "    <tr style=\"text-align: right;\">\n",
       "      <th></th>\n",
       "      <th>depth</th>\n",
       "      <th>mean_train_score</th>\n",
       "      <th>mean_cv_score</th>\n",
       "    </tr>\n",
       "  </thead>\n",
       "  <tbody>\n",
       "    <tr>\n",
       "      <th>4</th>\n",
       "      <td>5</td>\n",
       "      <td>0.918848</td>\n",
       "      <td>0.851838</td>\n",
       "    </tr>\n",
       "    <tr>\n",
       "      <th>3</th>\n",
       "      <td>4</td>\n",
       "      <td>0.906865</td>\n",
       "      <td>0.840074</td>\n",
       "    </tr>\n",
       "    <tr>\n",
       "      <th>6</th>\n",
       "      <td>7</td>\n",
       "      <td>0.954115</td>\n",
       "      <td>0.833824</td>\n",
       "    </tr>\n",
       "    <tr>\n",
       "      <th>8</th>\n",
       "      <td>9</td>\n",
       "      <td>0.979382</td>\n",
       "      <td>0.821691</td>\n",
       "    </tr>\n",
       "    <tr>\n",
       "      <th>7</th>\n",
       "      <td>8</td>\n",
       "      <td>0.972066</td>\n",
       "      <td>0.815441</td>\n",
       "    </tr>\n",
       "    <tr>\n",
       "      <th>10</th>\n",
       "      <td>11</td>\n",
       "      <td>0.998004</td>\n",
       "      <td>0.815074</td>\n",
       "    </tr>\n",
       "    <tr>\n",
       "      <th>12</th>\n",
       "      <td>13</td>\n",
       "      <td>1.000000</td>\n",
       "      <td>0.815074</td>\n",
       "    </tr>\n",
       "    <tr>\n",
       "      <th>5</th>\n",
       "      <td>6</td>\n",
       "      <td>0.930817</td>\n",
       "      <td>0.815074</td>\n",
       "    </tr>\n",
       "    <tr>\n",
       "      <th>0</th>\n",
       "      <td>1</td>\n",
       "      <td>0.834349</td>\n",
       "      <td>0.809926</td>\n",
       "    </tr>\n",
       "    <tr>\n",
       "      <th>14</th>\n",
       "      <td>15</td>\n",
       "      <td>1.000000</td>\n",
       "      <td>0.809191</td>\n",
       "    </tr>\n",
       "    <tr>\n",
       "      <th>17</th>\n",
       "      <td>18</td>\n",
       "      <td>1.000000</td>\n",
       "      <td>0.809191</td>\n",
       "    </tr>\n",
       "    <tr>\n",
       "      <th>16</th>\n",
       "      <td>17</td>\n",
       "      <td>1.000000</td>\n",
       "      <td>0.809191</td>\n",
       "    </tr>\n",
       "    <tr>\n",
       "      <th>15</th>\n",
       "      <td>16</td>\n",
       "      <td>1.000000</td>\n",
       "      <td>0.809191</td>\n",
       "    </tr>\n",
       "    <tr>\n",
       "      <th>9</th>\n",
       "      <td>10</td>\n",
       "      <td>0.994013</td>\n",
       "      <td>0.809191</td>\n",
       "    </tr>\n",
       "    <tr>\n",
       "      <th>13</th>\n",
       "      <td>14</td>\n",
       "      <td>1.000000</td>\n",
       "      <td>0.809191</td>\n",
       "    </tr>\n",
       "    <tr>\n",
       "      <th>11</th>\n",
       "      <td>12</td>\n",
       "      <td>1.000000</td>\n",
       "      <td>0.809191</td>\n",
       "    </tr>\n",
       "    <tr>\n",
       "      <th>2</th>\n",
       "      <td>3</td>\n",
       "      <td>0.862967</td>\n",
       "      <td>0.804412</td>\n",
       "    </tr>\n",
       "    <tr>\n",
       "      <th>1</th>\n",
       "      <td>2</td>\n",
       "      <td>0.844989</td>\n",
       "      <td>0.804044</td>\n",
       "    </tr>\n",
       "    <tr>\n",
       "      <th>18</th>\n",
       "      <td>19</td>\n",
       "      <td>1.000000</td>\n",
       "      <td>0.803309</td>\n",
       "    </tr>\n",
       "  </tbody>\n",
       "</table>\n",
       "</div>"
      ],
      "text/plain": [
       "    depth  mean_train_score  mean_cv_score\n",
       "4       5          0.918848       0.851838\n",
       "3       4          0.906865       0.840074\n",
       "6       7          0.954115       0.833824\n",
       "8       9          0.979382       0.821691\n",
       "7       8          0.972066       0.815441\n",
       "10     11          0.998004       0.815074\n",
       "12     13          1.000000       0.815074\n",
       "5       6          0.930817       0.815074\n",
       "0       1          0.834349       0.809926\n",
       "14     15          1.000000       0.809191\n",
       "17     18          1.000000       0.809191\n",
       "16     17          1.000000       0.809191\n",
       "15     16          1.000000       0.809191\n",
       "9      10          0.994013       0.809191\n",
       "13     14          1.000000       0.809191\n",
       "11     12          1.000000       0.809191\n",
       "2       3          0.862967       0.804412\n",
       "1       2          0.844989       0.804044\n",
       "18     19          1.000000       0.803309"
      ]
     },
     "execution_count": 48,
     "metadata": {},
     "output_type": "execute_result"
    }
   ],
   "source": [
    "results_df.sort_values('mean_cv_score', ascending=False)"
   ]
  },
  {
   "cell_type": "markdown",
   "metadata": {},
   "source": [
    "Now that we know the best value to use for `max_depth`, we can build a new classifier setting `max_depth=5`, train it and now (only now) do we score our model on the test set."
   ]
  },
  {
   "cell_type": "code",
   "execution_count": 49,
   "metadata": {},
   "outputs": [
    {
     "name": "stdout",
     "output_type": "stream",
     "text": [
      "Score on test set: 0.81\n"
     ]
    }
   ],
   "source": [
    "model = DecisionTreeClassifier(max_depth=5)\n",
    "model.fit(X_train, y_train);\n",
    "print(\"Score on test set: \" + str(round(model.score(X_test, y_test), 2)))"
   ]
  },
  {
   "cell_type": "markdown",
   "metadata": {},
   "source": [
    "- Is the test error comparable with the cross-validation error?\n",
    "- Do we feel confident that this model would give a similar performance when deployed? "
   ]
  },
  {
   "cell_type": "markdown",
   "metadata": {},
   "source": [
    "## The Golden Rule \n",
    "\n",
    "- Even though we care the most about test error **THE TEST DATA CANNOT INFLUENCE THE TRAINING PHASE IN ANY WAY**. \n",
    "- We have to be very careful not to violate it while developing our ML pipeline. \n",
    "- Why? When this happens, the test data influences our training and the test data is no longer unseen data and so the test score will be too optimistic.\n",
    "- Even experts end up breaking it sometimes which leads to misleading results and lack of generalization on the real data. \n",
    "    - https://www.theregister.com/2019/07/03/nature_study_earthquakes/\n",
    "    - https://www.technologyreview.com/2015/06/04/72951/why-and-how-baidu-cheated-an-artificial-intelligence-test/\n",
    "    \n",
    "How do we avoid this? \n",
    "\n",
    "The most important thing is when splitting the data, we lock away the test set and keep it separate from the training data.\n",
    "\n",
    "Forget it exists temporarily - kinda like forgetting where you put your passport until you need to travel. "
   ]
  },
  {
   "cell_type": "markdown",
   "metadata": {},
   "source": [
    "To summarize, the workflow we generally follow is:\n",
    "\n",
    "- **Splitting**: Before doing anything, split the data `X` and `y` into `X_train`, `X_test`, `y_train`, `y_test` or `train_df` and `test_df` using `train_test_split`.  \n",
    "- **Select the best model using cross-validation**: Use `cross_validate` with `return_train_score = True` so that we can get access to training scores in each fold. (If we want to plot train vs validation error plots, for instance.) \n",
    "- **Scoring on test data**: Finally, score on the test data with the chosen hyperparameters to examine the generalization performance."
   ]
  },
  {
   "cell_type": "markdown",
   "metadata": {},
   "source": [
    "## Let's Practice\n",
    "\n",
    "**Overfitting or Underfitting**:     \n",
    "\n",
    "1\\. If our train accuracy is much higher than our test accuracy.     \n",
    "2\\. If our train accuracy and our test accuracy are both low and relatively similar in value.     \n",
    "3\\. If our model is using a Decision Tree Classifier for a classification problem with no limit on `max_depth`.    \n",
    " \n",
    "**True or False**:  \n",
    "\n",
    "4\\. In supervised learning, the training score is always higher than the validation score.     \n",
    "5\\. The fundamental tradeoff of ML states that as training score goes up, validation score goes down.      \n",
    "6\\. More \"complicated\" models are more likely to overfit than \"simple\" ones.      \n",
    "7\\. If our training score is extremely high, that means we're overfitting.      "
   ]
  },
  {
   "cell_type": "markdown",
   "metadata": {},
   "source": [
    "```{admonition} Solutions!\n",
    ":class: dropdown\n",
    "1. Overfitting\n",
    "2. Underfitting\n",
    "3. Likely overfitting\n",
    "4. False\n",
    "5. False\n",
    "6. True\n",
    "7. False\n",
    "```"
   ]
  },
  {
   "cell_type": "markdown",
   "metadata": {},
   "source": [
    "## Let's Practice - Coding \n",
    "\n",
    "Below is some starter code that creates your feature table and target column from the data from the `bball.csv` dataset (in the data folder)."
   ]
  },
  {
   "cell_type": "code",
   "execution_count": 50,
   "metadata": {},
   "outputs": [],
   "source": [
    "bball_df = pd.read_csv('data/bball.csv')\n",
    "bball_df = bball_df[(bball_df['position'] =='G') | (bball_df['position'] =='F')]\n",
    "\n",
    "# Define X and y\n",
    "X = bball_df.loc[:, ['height', 'weight', 'salary']]\n",
    "y = bball_df['position']"
   ]
  },
  {
   "cell_type": "markdown",
   "metadata": {},
   "source": [
    "1. Split the dataset into 4 objects: `X_train`, `X_test`, `y_train`, `y_test`. Make the test set 0.2 (or the train set 0.8) and make sure to use `random_state=7`.\n",
    "2. Build a decision tree model with `max_depth=5`. \n",
    "3. Cross-validate using cross_validate() on the objects X_train and y_train specifying the model and making sure to use 10 fold cross-validation and `return_train_score=True`.\n",
    "4. Convert the scores into a dataframe and save it in an object named scores_df.\n",
    "5. Calculate the mean value of each column and save this in an object named mean_scores.\n",
    "6. Is your model overfitting or underfitting? "
   ]
  },
  {
   "cell_type": "code",
   "execution_count": null,
   "metadata": {},
   "outputs": [],
   "source": []
  },
  {
   "cell_type": "markdown",
   "metadata": {},
   "source": [
    "## What We've Learned Today<a id=\"9\"></a>\n",
    "\n",
    "- The concept of generalization.\n",
    "- How to split a dataset into train and test sets using `train_test_split` function.\n",
    "- The difference between train, validation, test, and \"deployment\" data.\n",
    "- The difference between training error, validation error, and test error.\n",
    "- Cross-validation and use `cross_val_score()` and `cross_validate()` to calculate cross-validation error.\n",
    "- Overfitting, underfitting, and the fundamental tradeoff.\n",
    "- Golden rule and identify the scenarios when it's violated."
   ]
  }
 ],
 "metadata": {
  "kernelspec": {
   "display_name": "Python [conda env:bait]",
   "language": "python",
   "name": "conda-env-bait-py"
  },
  "language_info": {
   "codemirror_mode": {
    "name": "ipython",
    "version": 3
   },
   "file_extension": ".py",
   "mimetype": "text/x-python",
   "name": "python",
   "nbconvert_exporter": "python",
   "pygments_lexer": "ipython3",
   "version": "3.9.9"
  },
  "toc": {
   "base_numbering": "0",
   "nav_menu": {},
   "number_sections": true,
   "sideBar": true,
   "skip_h1_title": true,
   "title_cell": "Table of Contents",
   "title_sidebar": "Contents",
   "toc_cell": false,
   "toc_position": {
    "height": "calc(100% - 180px)",
    "left": "10px",
    "top": "150px",
    "width": "274.188px"
   },
   "toc_section_display": true,
   "toc_window_display": true
  },
  "toc-autonumbering": false,
  "toc-showmarkdowntxt": true
 },
 "nbformat": 4,
 "nbformat_minor": 4
}
