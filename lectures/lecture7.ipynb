{
 "cells": [
  {
   "cell_type": "markdown",
   "metadata": {},
   "source": [
    "# Linear Models\n",
    "\n",
    "*Hayley Boyce, May 10th, 2021*"
   ]
  },
  {
   "cell_type": "code",
   "execution_count": 1,
   "metadata": {},
   "outputs": [],
   "source": [
    "# Importing our libraries\n",
    "import pandas as pd\n",
    "import altair as alt\n",
    "import numpy as np\n",
    "from sklearn.tree import DecisionTreeClassifier\n",
    "from sklearn.dummy import DummyClassifier, DummyRegressor\n",
    "from sklearn.neighbors import KNeighborsClassifier, KNeighborsRegressor\n",
    "from sklearn.model_selection import cross_validate, train_test_split\n",
    "from sklearn.svm import SVR, SVC\n",
    "from sklearn import datasets\n",
    "\n",
    "import sys\n",
    "sys.path.append('code/')\n",
    "from display_tree import display_tree\n",
    "from plot_classifier import plot_classifier\n",
    "import matplotlib.pyplot as plt\n",
    "\n",
    "# Preprocessing and pipeline\n",
    "from sklearn.impute import SimpleImputer\n",
    "from sklearn.metrics.pairwise import euclidean_distances\n",
    "from sklearn.pipeline import Pipeline, make_pipeline\n",
    "from sklearn.compose import make_column_transformer\n",
    "\n",
    "from sklearn.preprocessing import OneHotEncoder, OrdinalEncoder, StandardScaler, MinMaxScaler\n",
    "\n",
    "import scipy\n",
    "from sklearn.model_selection import RandomizedSearchCV"
   ]
  },
  {
   "cell_type": "markdown",
   "metadata": {},
   "source": [
    "## House Keeping \n",
    "- The assignment is due today!\n",
    "- Project instructions this week!\n",
    "- Quiz results"
   ]
  },
  {
   "cell_type": "markdown",
   "metadata": {},
   "source": [
    "## Lecture Learning Objectives \n",
    "\n",
    "- Explain the general intuition behind linear models.\n",
    "- Explain the `fit` and `predict` paradigm of linear models.\n",
    "- Use `scikit-learn`'s `LogisticRegression` classifier.\n",
    "    - Use `fit`, `predict` and `predict_proba`.   \n",
    "    - Use `coef_` to interpret the model weights.\n",
    "- Explain the advantages and limitations of linear classifiers. \n",
    "- Apply scikit-learn regression model (e.g., Ridge) to regression problems.\n",
    "- Relate the Ridge hyperparameter `alpha` to the `LogisticRegression` hyperparameter `C`.\n",
    "- Compare logistic regression with naive Bayes."
   ]
  },
  {
   "cell_type": "markdown",
   "metadata": {},
   "source": [
    "## Five Minute Recap/ Lightning Questions \n",
    "\n",
    "- To avoid the problem of zero probability in Naïve Bayes, what technique do we use?\n",
    "- *True or False:* We only calculate the probabilities of the words that occur in our spam/non spam case study?\n",
    "- What is the name of the function we use to perform Exhaustive Hyperparameter Optimization?\n",
    "- Repeating cross-validation over and over again with different hyperparameters can cause our model to suffer from what? \n",
    "- What parameter does `RandomizedSearchCV` have that the Exhaustive Hyperparameter tuning function not have? "
   ]
  },
  {
   "cell_type": "markdown",
   "metadata": {},
   "source": [
    "### Some lingering questions\n",
    "\n",
    "- What was that `predict_proba` function we looked at briefly when learning about naive Bayes?\n",
    "- Are there any models that function in a linear manner? \n",
    "- Is there any particular model that is best for all problems? -> let's answer this one right away... **NO!** "
   ]
  },
  {
   "cell_type": "markdown",
   "metadata": {},
   "source": [
    "## Linear Regression\n",
    "\n",
    "We've seen many regression models such as:\n",
    "- `DecisionTreeRegressor` \n",
    "- `KNeighborsRegressor`\n",
    "- `SVR`\n",
    "\n",
    "but now we have a new one that we are going to explore called  **linear regression**. \n",
    "\n",
    "Linear regression is one of the most basic and popular ML/statistical techniques.\n",
    "\n",
    "For this section let's bring back some hypothetical snake data that we saw in Lecture 3 when we were discussing $K$-nn regression.\n",
    "\n",
    "*(We can ignore how this code was made)*"
   ]
  },
  {
   "cell_type": "code",
   "execution_count": 2,
   "metadata": {},
   "outputs": [
    {
     "data": {
      "text/html": [
       "<div>\n",
       "<style scoped>\n",
       "    .dataframe tbody tr th:only-of-type {\n",
       "        vertical-align: middle;\n",
       "    }\n",
       "\n",
       "    .dataframe tbody tr th {\n",
       "        vertical-align: top;\n",
       "    }\n",
       "\n",
       "    .dataframe thead th {\n",
       "        text-align: right;\n",
       "    }\n",
       "</style>\n",
       "<table border=\"1\" class=\"dataframe\">\n",
       "  <thead>\n",
       "    <tr style=\"text-align: right;\">\n",
       "      <th></th>\n",
       "      <th>length</th>\n",
       "      <th>weight</th>\n",
       "    </tr>\n",
       "  </thead>\n",
       "  <tbody>\n",
       "    <tr>\n",
       "      <th>73</th>\n",
       "      <td>1.489130</td>\n",
       "      <td>10.507995</td>\n",
       "    </tr>\n",
       "    <tr>\n",
       "      <th>53</th>\n",
       "      <td>1.073233</td>\n",
       "      <td>7.658047</td>\n",
       "    </tr>\n",
       "    <tr>\n",
       "      <th>80</th>\n",
       "      <td>1.622709</td>\n",
       "      <td>9.748797</td>\n",
       "    </tr>\n",
       "    <tr>\n",
       "      <th>49</th>\n",
       "      <td>0.984653</td>\n",
       "      <td>9.731572</td>\n",
       "    </tr>\n",
       "    <tr>\n",
       "      <th>23</th>\n",
       "      <td>0.484937</td>\n",
       "      <td>3.016555</td>\n",
       "    </tr>\n",
       "  </tbody>\n",
       "</table>\n",
       "</div>"
      ],
      "text/plain": [
       "      length     weight\n",
       "73  1.489130  10.507995\n",
       "53  1.073233   7.658047\n",
       "80  1.622709   9.748797\n",
       "49  0.984653   9.731572\n",
       "23  0.484937   3.016555"
      ]
     },
     "execution_count": 2,
     "metadata": {},
     "output_type": "execute_result"
    }
   ],
   "source": [
    "np.random.seed(7)\n",
    "n = 100\n",
    "X_1 = np.linspace(0,2,n) + np.random.randn(n)*0.01\n",
    "X = pd.DataFrame(X_1[:,None], columns=['length'])\n",
    "\n",
    "y = abs(np.random.randn(n,1))*3 + X_1[:,None]*5 + .2\n",
    "y = pd.DataFrame(y, columns=['weight'])\n",
    "snakes_df = pd.concat([X,y], axis=1)\n",
    "\n",
    "train_df, test_df = train_test_split(snakes_df, test_size=0.2, random_state=77)\n",
    "\n",
    "X_train = train_df[['length']]\n",
    "y_train = train_df['weight']\n",
    "X_test = test_df[['length']]\n",
    "y_test = test_df['weight']\n",
    "\n",
    "train_df.head()"
   ]
  },
  {
   "cell_type": "markdown",
   "metadata": {},
   "source": [
    "### Ridge\n",
    "\n",
    "We can import the `LinearRegression` model as we have for all the previous models we've used:"
   ]
  },
  {
   "cell_type": "code",
   "execution_count": 3,
   "metadata": {},
   "outputs": [
    {
     "data": {
      "text/plain": [
       "LinearRegression()"
      ]
     },
     "execution_count": 3,
     "metadata": {},
     "output_type": "execute_result"
    }
   ],
   "source": [
    "from sklearn.linear_model import LinearRegression\n",
    "\n",
    "LinearRegression()"
   ]
  },
  {
   "cell_type": "markdown",
   "metadata": {},
   "source": [
    "... except now we are going to instead focus on its close cousin `Ridge`. \n",
    "\n",
    "`Ridge` is more flexible than `LinearRegression` and we will explain why shortly. "
   ]
  },
  {
   "cell_type": "code",
   "execution_count": 4,
   "metadata": {},
   "outputs": [],
   "source": [
    "from sklearn.linear_model import Ridge"
   ]
  },
  {
   "cell_type": "markdown",
   "metadata": {},
   "source": [
    "`Ridge`, has the same fit-predict paradigm as the other models we have seen. \n",
    "\n",
    "That means we can `fit` on the training set and `predict` a numeric prediction. "
   ]
  },
  {
   "cell_type": "code",
   "execution_count": 5,
   "metadata": {},
   "outputs": [],
   "source": [
    "rm = Ridge()\n",
    "rm.fit(X_train, y_train);"
   ]
  },
  {
   "cell_type": "markdown",
   "metadata": {},
   "source": [
    "We see that `predict` returns the predicted snake weight for our examples. "
   ]
  },
  {
   "cell_type": "code",
   "execution_count": 6,
   "metadata": {},
   "outputs": [
    {
     "data": {
      "text/plain": [
       "array([10.09739051,  7.90823334, 10.80050927,  7.44197529,  4.81162144])"
      ]
     },
     "execution_count": 6,
     "metadata": {},
     "output_type": "execute_result"
    }
   ],
   "source": [
    "rm.predict(X_train)[:5]"
   ]
  },
  {
   "cell_type": "code",
   "execution_count": 7,
   "metadata": {},
   "outputs": [
    {
     "data": {
      "text/plain": [
       "0.8125029624787177"
      ]
     },
     "execution_count": 7,
     "metadata": {},
     "output_type": "execute_result"
    }
   ],
   "source": [
    "rm.score(X_train, y_train)"
   ]
  },
  {
   "cell_type": "markdown",
   "metadata": {},
   "source": [
    "### Hyperparameter - `alpha`\n",
    "\n",
    "Ridge has hyperparameters just like the rest of the models we learned. \n",
    "\n",
    "The `alpha` hyperparameter is what makes it more flexible than using `LinearRegression`. \n",
    "\n",
    "Remember the fundamental trade-off? \n",
    "\n",
    "Well, similar to the other hyperparameters that we saw, `alpha` will control this.\n",
    "\n",
    "Note: if we set `alpha=0` that is the same as using `LinearRegression`."
   ]
  },
  {
   "cell_type": "code",
   "execution_count": 8,
   "metadata": {},
   "outputs": [
    {
     "data": {
      "text/plain": [
       "0.8125029624787177"
      ]
     },
     "execution_count": 8,
     "metadata": {},
     "output_type": "execute_result"
    }
   ],
   "source": [
    "rm_a1 = Ridge(alpha=1)\n",
    "rm_a1.fit(X_train, y_train);\n",
    "rm_a1.score(X_train, y_train)"
   ]
  },
  {
   "cell_type": "code",
   "execution_count": 9,
   "metadata": {},
   "outputs": [
    {
     "data": {
      "text/plain": [
       "0.004541128724857568"
      ]
     },
     "execution_count": 9,
     "metadata": {},
     "output_type": "execute_result"
    }
   ],
   "source": [
    "rm_a1000 = Ridge(alpha=10000)\n",
    "rm_a1000.fit(X_train, y_train);\n",
    "rm_a1000.score(X_train, y_train)"
   ]
  },
  {
   "cell_type": "code",
   "execution_count": 10,
   "metadata": {},
   "outputs": [
    {
     "data": {
      "text/html": [
       "<div>\n",
       "<style scoped>\n",
       "    .dataframe tbody tr th:only-of-type {\n",
       "        vertical-align: middle;\n",
       "    }\n",
       "\n",
       "    .dataframe tbody tr th {\n",
       "        vertical-align: top;\n",
       "    }\n",
       "\n",
       "    .dataframe thead th {\n",
       "        text-align: right;\n",
       "    }\n",
       "</style>\n",
       "<table border=\"1\" class=\"dataframe\">\n",
       "  <thead>\n",
       "    <tr style=\"text-align: right;\">\n",
       "      <th></th>\n",
       "      <th>alpha</th>\n",
       "      <th>train_scores</th>\n",
       "      <th>cv_scores</th>\n",
       "    </tr>\n",
       "  </thead>\n",
       "  <tbody>\n",
       "    <tr>\n",
       "      <th>0</th>\n",
       "      <td>0.01</td>\n",
       "      <td>0.812961</td>\n",
       "      <td>0.799169</td>\n",
       "    </tr>\n",
       "    <tr>\n",
       "      <th>1</th>\n",
       "      <td>0.10</td>\n",
       "      <td>0.812945</td>\n",
       "      <td>0.799199</td>\n",
       "    </tr>\n",
       "    <tr>\n",
       "      <th>2</th>\n",
       "      <td>1.00</td>\n",
       "      <td>0.811461</td>\n",
       "      <td>0.798103</td>\n",
       "    </tr>\n",
       "    <tr>\n",
       "      <th>3</th>\n",
       "      <td>10.00</td>\n",
       "      <td>0.735071</td>\n",
       "      <td>0.721655</td>\n",
       "    </tr>\n",
       "    <tr>\n",
       "      <th>4</th>\n",
       "      <td>100.00</td>\n",
       "      <td>0.270059</td>\n",
       "      <td>0.244916</td>\n",
       "    </tr>\n",
       "    <tr>\n",
       "      <th>5</th>\n",
       "      <td>1000.00</td>\n",
       "      <td>0.035217</td>\n",
       "      <td>0.003744</td>\n",
       "    </tr>\n",
       "    <tr>\n",
       "      <th>6</th>\n",
       "      <td>10000.00</td>\n",
       "      <td>0.003629</td>\n",
       "      <td>-0.028689</td>\n",
       "    </tr>\n",
       "    <tr>\n",
       "      <th>7</th>\n",
       "      <td>100000.00</td>\n",
       "      <td>0.000364</td>\n",
       "      <td>-0.032041</td>\n",
       "    </tr>\n",
       "  </tbody>\n",
       "</table>\n",
       "</div>"
      ],
      "text/plain": [
       "       alpha  train_scores  cv_scores\n",
       "0       0.01      0.812961   0.799169\n",
       "1       0.10      0.812945   0.799199\n",
       "2       1.00      0.811461   0.798103\n",
       "3      10.00      0.735071   0.721655\n",
       "4     100.00      0.270059   0.244916\n",
       "5    1000.00      0.035217   0.003744\n",
       "6   10000.00      0.003629  -0.028689\n",
       "7  100000.00      0.000364  -0.032041"
      ]
     },
     "execution_count": 10,
     "metadata": {},
     "output_type": "execute_result"
    }
   ],
   "source": [
    "scores_dict ={\n",
    "\"alpha\" :10.0**np.arange(-2,6,1),\n",
    "\"train_scores\" : list(),\n",
    "\"cv_scores\" : list(),\n",
    "}\n",
    "for alpha in scores_dict['alpha']:\n",
    "    ridge_model = Ridge(alpha=alpha)\n",
    "    results = cross_validate(ridge_model, X_train, y_train, return_train_score=True)\n",
    "    scores_dict['train_scores'].append(results[\"train_score\"].mean())\n",
    "    scores_dict['cv_scores'].append(results[\"test_score\"].mean())\n",
    "    \n",
    "pd.DataFrame(scores_dict)"
   ]
  },
  {
   "cell_type": "markdown",
   "metadata": {},
   "source": [
    "- As we increase `alpha`, we are ***decreasing*** our model complexity which means our training score is lower and we are more likely to underfit. \n",
    "\n",
    "- If we decrease `alpha`, our model complexity is increasing and consequentially our training score is increasing. Our chances of overfitting are going up. "
   ]
  },
  {
   "cell_type": "markdown",
   "metadata": {},
   "source": [
    "### Visualizing linear regression (Ridge)"
   ]
  },
  {
   "cell_type": "code",
   "execution_count": 11,
   "metadata": {},
   "outputs": [
    {
     "data": {
      "text/html": [
       "\n",
       "<div id=\"altair-viz-4c50a95947cf462ea06deba05d0e54be\"></div>\n",
       "<script type=\"text/javascript\">\n",
       "  (function(spec, embedOpt){\n",
       "    let outputDiv = document.currentScript.previousElementSibling;\n",
       "    if (outputDiv.id !== \"altair-viz-4c50a95947cf462ea06deba05d0e54be\") {\n",
       "      outputDiv = document.getElementById(\"altair-viz-4c50a95947cf462ea06deba05d0e54be\");\n",
       "    }\n",
       "    const paths = {\n",
       "      \"vega\": \"https://cdn.jsdelivr.net/npm//vega@5?noext\",\n",
       "      \"vega-lib\": \"https://cdn.jsdelivr.net/npm//vega-lib?noext\",\n",
       "      \"vega-lite\": \"https://cdn.jsdelivr.net/npm//vega-lite@4.8.1?noext\",\n",
       "      \"vega-embed\": \"https://cdn.jsdelivr.net/npm//vega-embed@6?noext\",\n",
       "    };\n",
       "\n",
       "    function loadScript(lib) {\n",
       "      return new Promise(function(resolve, reject) {\n",
       "        var s = document.createElement('script');\n",
       "        s.src = paths[lib];\n",
       "        s.async = true;\n",
       "        s.onload = () => resolve(paths[lib]);\n",
       "        s.onerror = () => reject(`Error loading script: ${paths[lib]}`);\n",
       "        document.getElementsByTagName(\"head\")[0].appendChild(s);\n",
       "      });\n",
       "    }\n",
       "\n",
       "    function showError(err) {\n",
       "      outputDiv.innerHTML = `<div class=\"error\" style=\"color:red;\">${err}</div>`;\n",
       "      throw err;\n",
       "    }\n",
       "\n",
       "    function displayChart(vegaEmbed) {\n",
       "      vegaEmbed(outputDiv, spec, embedOpt)\n",
       "        .catch(err => showError(`Javascript Error: ${err.message}<br>This usually means there's a typo in your chart specification. See the javascript console for the full traceback.`));\n",
       "    }\n",
       "\n",
       "    if(typeof define === \"function\" && define.amd) {\n",
       "      requirejs.config({paths});\n",
       "      require([\"vega-embed\"], displayChart, err => showError(`Error loading script: ${err.message}`));\n",
       "    } else if (typeof vegaEmbed === \"function\") {\n",
       "      displayChart(vegaEmbed);\n",
       "    } else {\n",
       "      loadScript(\"vega\")\n",
       "        .then(() => loadScript(\"vega-lite\"))\n",
       "        .then(() => loadScript(\"vega-embed\"))\n",
       "        .catch(showError)\n",
       "        .then(() => displayChart(vegaEmbed));\n",
       "    }\n",
       "  })({\"config\": {\"view\": {\"continuousWidth\": 400, \"continuousHeight\": 300}}, \"layer\": [{\"mark\": \"circle\", \"encoding\": {\"x\": {\"type\": \"quantitative\", \"field\": \"length\", \"title\": \"Length\"}, \"y\": {\"type\": \"quantitative\", \"field\": \"weight\", \"title\": \"Weight\"}}, \"height\": 300, \"width\": 500}, {\"mark\": {\"type\": \"line\", \"color\": \"orange\"}, \"encoding\": {\"x\": {\"type\": \"quantitative\", \"field\": \"length\", \"title\": \"Length\"}, \"y\": {\"type\": \"quantitative\", \"field\": \"predicted\", \"title\": \"Weight\"}}, \"height\": 300, \"width\": 500}], \"data\": {\"name\": \"data-9a474cec69cb70890c963e4b8e15291e\"}, \"$schema\": \"https://vega.github.io/schema/vega-lite/v4.8.1.json\", \"datasets\": {\"data-9a474cec69cb70890c963e4b8e15291e\": [{\"length\": 1.4891298699548126, \"weight\": 10.507994972940256, \"predicted\": 10.09739051488952}, {\"length\": 1.0732328480626239, \"weight\": 7.658046569651847, \"predicted\": 7.908233341040291}, {\"length\": 1.6227086731986475, \"weight\": 9.748797005406935, \"predicted\": 10.800509267856306}, {\"length\": 0.9846529437049815, \"weight\": 9.73157160716233, \"predicted\": 7.441975294273899}, {\"length\": 0.48493718685407583, \"weight\": 3.0165548660571386, \"predicted\": 4.811621441249101}, {\"length\": 1.3430351854245999, \"weight\": 8.664086836980864, \"predicted\": 9.328391917002321}, {\"length\": 1.6675322302005446, \"weight\": 12.19561780290861, \"predicted\": 11.036447026972024}, {\"length\": 1.660720682708637, \"weight\": 9.405644658611909, \"predicted\": 11.00059308411597}, {\"length\": 0.26001269847434616, \"weight\": 3.1977109582539485, \"predicted\": 3.6276864011023258}, {\"length\": 0.9331241478105046, \"weight\": 5.685769157789863, \"predicted\": 7.170743168881453}, {\"length\": 0.6720209602299276, \"weight\": 4.18927097207944, \"predicted\": 5.796374308036151}, {\"length\": 0.7853383764560611, \"weight\": 9.98262617791568, \"predicted\": 6.392843197197385}, {\"length\": 1.3213974141107516, \"weight\": 8.896760117529569, \"predicted\": 9.214497179111895}, {\"length\": 1.5130241854813398, \"weight\": 8.158947877684195, \"predicted\": 10.223163024659195}, {\"length\": 0.040732242040826254, \"weight\": 1.5782982907118732, \"predicted\": 2.473459852178366}, {\"length\": 0.5225713944348283, \"weight\": 3.8994269750274193, \"predicted\": 5.009716621475931}, {\"length\": 1.8046739799138949, \"weight\": 12.637307079851663, \"predicted\": 11.758320061439296}, {\"length\": 1.4291178052973903, \"weight\": 9.796829766973492, \"predicted\": 9.781505007307416}, {\"length\": 0.12386689835068723, \"weight\": 1.2898664428659872, \"predicted\": 2.911055746537523}, {\"length\": 1.7930735741117094, \"weight\": 9.94031687027138, \"predicted\": 11.697259004868421}, {\"length\": 1.8584634367197943, \"weight\": 12.739537462768615, \"predicted\": 12.041451627778361}, {\"length\": 1.8922534471161385, \"weight\": 15.819173760406724, \"predicted\": 12.219312107103391}, {\"length\": 0.18782316697737733, \"weight\": 2.513496213544915, \"predicted\": 3.2477023607396354}, {\"length\": 1.578179467430011, \"weight\": 10.086508392023187, \"predicted\": 10.566120885341057}, {\"length\": 1.3707354363693722, \"weight\": 10.266354705831471, \"predicted\": 9.47419772921343}, {\"length\": 1.2132595335379277, \"weight\": 7.501688161037575, \"predicted\": 8.645291812014516}, {\"length\": 0.6662245388374752, \"weight\": 6.765077376939494, \"predicted\": 5.7658636844779245}, {\"length\": 0.34467315248721386, \"weight\": 3.2105715431040456, \"predicted\": 4.073313636903128}, {\"length\": 0.5212002466982484, \"weight\": 4.271877481169299, \"predicted\": 5.002499311069898}, {\"length\": 1.2084330274367336, \"weight\": 9.030136582502383, \"predicted\": 8.619886531620864}, {\"length\": 1.8236692693796017, \"weight\": 10.13866280069108, \"predicted\": 11.858305567500395}, {\"length\": 0.28040079204155743, \"weight\": 5.302575791390477, \"predicted\": 3.7350032101785393}, {\"length\": 0.8910599225061118, \"weight\": 6.200081280641692, \"predicted\": 6.949329704152695}, {\"length\": 0.44057304501158057, \"weight\": 4.314203723495225, \"predicted\": 4.5781019057297065}, {\"length\": 0.4257857795969878, \"weight\": 4.866696809368363, \"predicted\": 4.500266176065935}, {\"length\": 1.7112640189830859, \"weight\": 14.317737709438546, \"predicted\": 11.26663804565976}, {\"length\": 1.0515193903571667, \"weight\": 6.039165902648527, \"predicted\": 7.793940212686764}, {\"length\": 0.36638096287396327, \"weight\": 3.976220693046897, \"predicted\": 4.187577039464905}, {\"length\": 0.06468122343602568, \"weight\": 4.8527710881829424, \"predicted\": 2.5995201066835625}, {\"length\": 1.5386732775084204, \"weight\": 10.776595778382621, \"predicted\": 10.358172151578017}, {\"length\": 1.9763768095637113, \"weight\": 12.898439354694574, \"predicted\": 12.662112254006491}, {\"length\": 0.49054371805903935, \"weight\": 4.996624023446674, \"predicted\": 4.8411325398184415}, {\"length\": 1.455631938260402, \"weight\": 7.751103489400314, \"predicted\": 9.921067450241704}, {\"length\": 1.3042327445211057, \"weight\": 10.058035179582774, \"predicted\": 9.124147506979195}, {\"length\": 0.016905257038003562, \"weight\": 2.8779962599472553, \"predicted\": 2.3480417500895063}, {\"length\": 0.5761505311499983, \"weight\": 5.973354108924219, \"predicted\": 5.291741125943455}, {\"length\": 1.382139573004812, \"weight\": 9.547323609319276, \"predicted\": 9.534225683762}, {\"length\": 0.5816938426733856, \"weight\": 3.959378484871299, \"predicted\": 5.320919455071886}, {\"length\": 0.07291885052182343, \"weight\": 2.0235998443342242, \"predicted\": 2.6428805047655755}, {\"length\": 1.0326760487694024, \"weight\": 10.744326469248147, \"predicted\": 7.694754514677994}, {\"length\": 1.734376625000459, \"weight\": 12.981462281939878, \"predicted\": 11.388295871049046}, {\"length\": 1.5629058213993292, \"weight\": 9.696860623701482, \"predicted\": 10.48572499400532}, {\"length\": 0.8164881405022435, \"weight\": 6.415600290881839, \"predicted\": 6.5568062116839085}, {\"length\": 1.116963496652776, \"weight\": 10.453680423809956, \"predicted\": 8.138418358097297}, {\"length\": 0.42054740095226884, \"weight\": 3.473896448846035, \"predicted\": 4.472692922145406}, {\"length\": 0.1212032173535419, \"weight\": 5.086179556714217, \"predicted\": 2.8970349287465793}, {\"length\": 0.220506739610265, \"weight\": 2.2019587548610247, \"predicted\": 3.4197388835567084}, {\"length\": 0.015542646496611877, \"weight\": 1.400824281695786, \"predicted\": 2.340869376918189}, {\"length\": 1.9952807334786649, \"weight\": 10.6176012566981, \"predicted\": 12.761616839213758}, {\"length\": 0.7004491136740391, \"weight\": 9.199523468555924, \"predicted\": 5.9460115806675375}, {\"length\": 1.4315170819826806, \"weight\": 7.93450850637016, \"predicted\": 9.794134080109515}, {\"length\": 0.19576591228053444, \"weight\": 2.042781160965016, \"predicted\": 3.289510589568384}, {\"length\": 0.28849788890539513, \"weight\": 2.191191549371276, \"predicted\": 3.777623899324559}, {\"length\": 1.5738290211540782, \"weight\": 12.043069112514083, \"predicted\": 10.543221441072202}, {\"length\": 0.9719709000230267, \"weight\": 7.5302347521637145, \"predicted\": 7.375220820344009}, {\"length\": 0.71523052881673, \"weight\": 4.040617417878837, \"predicted\": 6.023816516254823}, {\"length\": 1.0895853189334226, \"weight\": 8.923743001401581, \"predicted\": 7.994307842738092}, {\"length\": 1.2038500511426322, \"weight\": 9.160921210227059, \"predicted\": 8.59576311908435}, {\"length\": 0.6299538905705881, \"weight\": 4.912686458765877, \"predicted\": 5.574945871476125}, {\"length\": 0.3685731385196855, \"weight\": 7.28559741064436, \"predicted\": 4.199115994515212}, {\"length\": 0.8718054968572184, \"weight\": 8.28958002585414, \"predicted\": 6.847980182951872}, {\"length\": 0.7845846503596573, \"weight\": 5.242915603248352, \"predicted\": 6.388875809108015}, {\"length\": 1.156531392746962, \"weight\": 8.258832565398267, \"predicted\": 8.346691894643953}, {\"length\": 0.6369873275783813, \"weight\": 4.471783323151077, \"predicted\": 5.611967774187461}, {\"length\": 0.4843946245498784, \"weight\": 2.8494147216671455, \"predicted\": 4.808765556022777}, {\"length\": 0.7620945037468827, \"weight\": 8.020034168601496, \"predicted\": 6.270494423316222}, {\"length\": 1.968286352888498, \"weight\": 11.950670341380446, \"predicted\": 12.619526516821647}, {\"length\": 1.6950094238466173, \"weight\": 9.024726938439192, \"predicted\": 11.181078732469395}, {\"length\": 1.9186332446914185, \"weight\": 15.984552876645637, \"predicted\": 12.358167448850907}, {\"length\": 1.7705446095030246, \"weight\": 11.246186203797295, \"predicted\": 11.57867329278972}]}}, {\"mode\": \"vega-lite\"});\n",
       "</script>"
      ],
      "text/plain": [
       "alt.LayerChart(...)"
      ]
     },
     "execution_count": 11,
     "metadata": {},
     "output_type": "execute_result"
    }
   ],
   "source": [
    "source = pd.DataFrame(data= {'length':  X_train['length'],\n",
    "                             'weight':  y_train,\n",
    "                             'predicted': rm.predict(X_train)})\n",
    "chart1 = alt.Chart(source, width=500, height=300).mark_circle().encode(\n",
    "x = alt.X('length:Q', title= \"Length\"), \n",
    "y = alt.Y('weight:Q', title= \"Weight\"))\n",
    "chart2 = alt.Chart(source, width=500, height=300).mark_line(color= 'orange').encode(\n",
    "x = alt.X('length:Q', title= \"Length\"), \n",
    "y = alt.Y('predicted:Q', title = \"Weight\"))\n",
    "\n",
    "chart3 = chart1 + chart2\n",
    "chart3"
   ]
  },
  {
   "cell_type": "markdown",
   "metadata": {},
   "source": [
    "In this plot, the blue markers are the examples and our orange line is our Ridge regression line. \n",
    "\n",
    "In our data, we only have 1 feature - `length` which helps predict our target feature `weight`. \n",
    "\n",
    "We can use a 2D graph to plot this and our ridge regression corresponds to a line. \n",
    "\n",
    "If we had many features, our predictions would be represented as a hyperplane of some sort instead\n",
    "\n",
    "If we extend our line, we can also see that we will get some predictions for values that don't really make sense, like if a snake had a negative length, we would predict, a negative weight."
   ]
  },
  {
   "cell_type": "markdown",
   "metadata": {},
   "source": [
    "### The intuition behind linear regression\n",
    "\n",
    "| listing number | Number of Bedrooms | Number of Bathrooms | Square Footage | Age | Price |\n",
    "|----------------|--------------------|---------------------|----------------|-----|-------| \n",
    "| 1              | 5                  | 6                   | 3000           | 2   | \\$6.39 million|\n",
    "| 2              | 1                  | 1                   | 800            | 90  | \\$1.67 million|\n",
    "| 3              | 3                  | 2                   | 1875           | 66  | \\$3.92 million|\n"
   ]
  },
  {
   "cell_type": "markdown",
   "metadata": {},
   "source": [
    "Unlike with decision trees where we make predictions with rules and analogy-based models where we predict a certain class using distance to other examples, linear classifiers use **coefficients** (or sometimes known as \"weights\") associated with features.\n",
    "\n",
    "When we call fit, each feature is going to obtain a coefficient which is going to be a number that is going to help give meaning to our model. \n",
    "\n",
    "These coefficients are learned from the training data. "
   ]
  },
  {
   "cell_type": "markdown",
   "metadata": {},
   "source": [
    "<img src=\"imgs/house_table.png\"  width = \"50%\" alt=\"404 image\" />\n",
    "\n"
   ]
  },
  {
   "cell_type": "markdown",
   "metadata": {},
   "source": [
    "### How does predict work?\n",
    "\n",
    "Let's look at the house listing with the following features: \n",
    "\n",
    "<br>\n",
    "\n",
    "| listing number | Number of Bedrooms | Number of Bathrooms | Square Footage | Age |\n",
    "|----------------|--------------------|---------------------|----------------|-----| \n",
    "| 3              | 3                  | 2                   | 1875           | 66  |\n",
    "\n",
    "<br>"
   ]
  },
  {
   "cell_type": "markdown",
   "metadata": {},
   "source": [
    "To calculate our predicted price we sum up the multiplication of each coefficient by its feature value plus an intercept. "
   ]
  },
  {
   "cell_type": "markdown",
   "metadata": {},
   "source": [
    "\n",
    "\n",
    "\n",
    "$\\text{predicted}(price) \\text{       } =   \\text{coefficient}_{\\text{bedrooms}} * \\text{#bedrooms}  \\\\ + \\text{ }\\text{coefficient}_{\\text{bathrooms}} * \\text{#bathrooms} \\\\  + \\text{ } \\text{coefficient}_{\\text{sqfeet}} * \\text{#sqfeet}  \\\\ + \\text{ } \\text{coefficient}_{\\text{age}} * \\text{age}  \\\\ + \\text{ } \\text{intercept}$\n"
   ]
  },
  {
   "cell_type": "markdown",
   "metadata": {},
   "source": [
    "\n",
    "$\\text{predicted}(price) \\text{       } =  0.03 * 3  \\\\ \\text{ } 0.04 * 2 \\\\  + \\text{ } 0.002 * 1875  \\\\ + \\text{ } -0.01* 66  \\\\ + \\text{ } 0\n",
    "$"
   ]
  },
  {
   "cell_type": "markdown",
   "metadata": {},
   "source": [
    "$\n",
    "\\text{predicted}(price)  =  3.26\n",
    "$"
   ]
  },
  {
   "cell_type": "markdown",
   "metadata": {},
   "source": [
    "#### How do we interpret these coefficients?\n",
    "\n",
    "##### Sign\n",
    "\n",
    "If the coefficient is a positive number (like 0.03 for the number of bedrooms) that means that this feature is contributing to the prediction in a positive. \n",
    "This means that the more bedrooms a house has, the higher the price the model will predict. \n",
    "\n",
    "In this, we have a negative coefficient -> age. Here, as age increases, the bigger the feature value, the lower the predicted price. The feature is contributing to the predicted price in a negative way. \n",
    "Older houses will have a lower, predicted price. \n",
    "\n",
    "##### Magnitude\n",
    "\n",
    "The magnitude of the coefficient also has a direct effect on the predicted price. \n",
    "here for every additional bedroom, we are adding 0.03 million dollars to our prediction. \n",
    "\n",
    "Here we are learning every additional bedroom is worth 0.03 million dollars and every additional year is decreasing 0.01 million dollars to our prediction. "
   ]
  },
  {
   "cell_type": "markdown",
   "metadata": {},
   "source": [
    "### Components of a linear model\n",
    "\n",
    "\n",
    "<font size=\"3\"><em> predicted(price) = (<font  color=\"#b1d78c\">coefficient<sub>bedrooms</sub></font>   x  <font  color=\"7bd1ec\">#bedrooms</font>)   +  (<font  color=\"#b1d78c\">coefficient<sub>bathrooms</sub></font>  x  <font  color=\"7bd1ec\">#bathrooms</font>)  +  (<font  color=\"#b1d78c\">coefficient<sub>sqfeet</sub></font>   x   <font  color=\"7bd1ec\">#sqfeet</font>)  +  (<font  color=\"#b1d78c\">coefficient<sub>age</sub></font>  x <font  color=\"7bd1ec\">age</font>)  +  <font  color=\"e8b0d0\">intercept</font> </em> </font> \n",
    "\n",
    "\n",
    "- <font  color=\"7bd1ec\"> Input features</font>     \n",
    "- <font  color=\"#b1d78c\"> Coefficients, one per feature</font>      \n",
    "- <font  color=\"e8b0d0\"> Bias or intercept</font> \n",
    "\n",
    "\n",
    "When we build a particular model, the <font  color=\"#b1d78c\"> Coefficients</font> and  <font  color=\"e8b0d0\">intercept</font>  will remain the same, but the blue <font  color=\"7bd1ec\"> Input features</font>  will differ for each observation - in this case for every house listing. \n"
   ]
  },
  {
   "cell_type": "markdown",
   "metadata": {},
   "source": [
    "### Using sklearn\n",
    "\n",
    "Let's take a look at a [Taiwan housing dataset](https://archive.ics.uci.edu/ml/datasets/Real+estate+valuation+data+set) that I've wrangled a bit. (Available in the data folder)  \n",
    "\n",
    "**Attribution:**\n",
    "Real Estate Dataset - The UCI Machine Learning Repository\n",
    "Yeh, I. C., & Hsu, T. K. (2018). Building real estate valuation models with comparative approach through case-based reasoning. Applied Soft Computing, 65, 260-271."
   ]
  },
  {
   "cell_type": "code",
   "execution_count": 12,
   "metadata": {},
   "outputs": [
    {
     "data": {
      "text/html": [
       "<div>\n",
       "<style scoped>\n",
       "    .dataframe tbody tr th:only-of-type {\n",
       "        vertical-align: middle;\n",
       "    }\n",
       "\n",
       "    .dataframe tbody tr th {\n",
       "        vertical-align: top;\n",
       "    }\n",
       "\n",
       "    .dataframe thead th {\n",
       "        text-align: right;\n",
       "    }\n",
       "</style>\n",
       "<table border=\"1\" class=\"dataframe\">\n",
       "  <thead>\n",
       "    <tr style=\"text-align: right;\">\n",
       "      <th></th>\n",
       "      <th>house_age</th>\n",
       "      <th>distance_station</th>\n",
       "      <th>num_stores</th>\n",
       "      <th>latitude</th>\n",
       "      <th>longitude</th>\n",
       "      <th>price</th>\n",
       "    </tr>\n",
       "  </thead>\n",
       "  <tbody>\n",
       "    <tr>\n",
       "      <th>172</th>\n",
       "      <td>6.6</td>\n",
       "      <td>90.45606</td>\n",
       "      <td>9</td>\n",
       "      <td>24.97433</td>\n",
       "      <td>121.54310</td>\n",
       "      <td>58.1</td>\n",
       "    </tr>\n",
       "    <tr>\n",
       "      <th>230</th>\n",
       "      <td>4.0</td>\n",
       "      <td>2147.37600</td>\n",
       "      <td>3</td>\n",
       "      <td>24.96299</td>\n",
       "      <td>121.51284</td>\n",
       "      <td>33.4</td>\n",
       "    </tr>\n",
       "    <tr>\n",
       "      <th>346</th>\n",
       "      <td>13.2</td>\n",
       "      <td>1712.63200</td>\n",
       "      <td>2</td>\n",
       "      <td>24.96412</td>\n",
       "      <td>121.51670</td>\n",
       "      <td>30.8</td>\n",
       "    </tr>\n",
       "    <tr>\n",
       "      <th>244</th>\n",
       "      <td>4.8</td>\n",
       "      <td>1559.82700</td>\n",
       "      <td>3</td>\n",
       "      <td>24.97213</td>\n",
       "      <td>121.51627</td>\n",
       "      <td>21.7</td>\n",
       "    </tr>\n",
       "    <tr>\n",
       "      <th>367</th>\n",
       "      <td>15.0</td>\n",
       "      <td>1828.31900</td>\n",
       "      <td>2</td>\n",
       "      <td>24.96464</td>\n",
       "      <td>121.51531</td>\n",
       "      <td>20.9</td>\n",
       "    </tr>\n",
       "  </tbody>\n",
       "</table>\n",
       "</div>"
      ],
      "text/plain": [
       "     house_age  distance_station  num_stores  latitude  longitude  price\n",
       "172        6.6          90.45606           9  24.97433  121.54310   58.1\n",
       "230        4.0        2147.37600           3  24.96299  121.51284   33.4\n",
       "346       13.2        1712.63200           2  24.96412  121.51670   30.8\n",
       "244        4.8        1559.82700           3  24.97213  121.51627   21.7\n",
       "367       15.0        1828.31900           2  24.96464  121.51531   20.9"
      ]
     },
     "execution_count": 12,
     "metadata": {},
     "output_type": "execute_result"
    }
   ],
   "source": [
    "housing_df = pd.read_csv(\"data/real_estate.csv\")\n",
    "train_df, test_df = train_test_split(housing_df, test_size=0.1, random_state=1)\n",
    "train_df.head()"
   ]
  },
  {
   "cell_type": "markdown",
   "metadata": {},
   "source": [
    "I separate this into our `X` and `y` objects for each of our splits as follows: "
   ]
  },
  {
   "cell_type": "code",
   "execution_count": 13,
   "metadata": {},
   "outputs": [],
   "source": [
    "X_train, y_train = train_df.drop(columns =['price']), train_df['price']\n",
    "X_test, y_test = test_df.drop(columns =['price']), test_df['price']"
   ]
  },
  {
   "cell_type": "markdown",
   "metadata": {},
   "source": [
    "And now we can now use `Ridge` to predict the house price. \n",
    "\n",
    "We can make our model as usual and train it, and assess our training score."
   ]
  },
  {
   "cell_type": "code",
   "execution_count": 14,
   "metadata": {},
   "outputs": [
    {
     "data": {
      "text/plain": [
       "0.5170145681350131"
      ]
     },
     "execution_count": 14,
     "metadata": {},
     "output_type": "execute_result"
    }
   ],
   "source": [
    "lm = Ridge(random_state=1)\n",
    "lm.fit(X_train, y_train);\n",
    "training_score = lm.score(X_train, y_train)\n",
    "training_score"
   ]
  },
  {
   "cell_type": "markdown",
   "metadata": {},
   "source": [
    "We saw that with linear classifiers we have coefficients associated with each feature of our model. \n",
    "\n",
    "How do we get that? We can use `.coef_` to obtain them from our trained model. "
   ]
  },
  {
   "cell_type": "code",
   "execution_count": 15,
   "metadata": {},
   "outputs": [
    {
     "data": {
      "text/plain": [
       "array([-2.43214368e-01, -5.33723544e-03,  1.25878207e+00,  8.92353624e+00,\n",
       "       -1.34523313e+00])"
      ]
     },
     "execution_count": 15,
     "metadata": {},
     "output_type": "execute_result"
    }
   ],
   "source": [
    "ridge_coeffs = lm.coef_\n",
    "ridge_coeffs"
   ]
  },
  {
   "cell_type": "markdown",
   "metadata": {},
   "source": [
    "It gives us 5 coefficients one for each feature. \n",
    "\n",
    "These coefficients are learned during the fit stage. \n",
    "\n",
    "We can also get the intercept with `.intercept_`"
   ]
  },
  {
   "cell_type": "code",
   "execution_count": 16,
   "metadata": {},
   "outputs": [
    {
     "data": {
      "text/plain": [
       "-16.240516720277654"
      ]
     },
     "execution_count": 16,
     "metadata": {},
     "output_type": "execute_result"
    }
   ],
   "source": [
    "ridge_intercept = lm.intercept_\n",
    "ridge_intercept"
   ]
  },
  {
   "cell_type": "markdown",
   "metadata": {},
   "source": [
    "But how are these useful? \n",
    "\n",
    "One of the primary advantages of linear classifiers is their ability to interpret models using these coefficients. \n",
    "\n",
    "What do these mean? \n",
    "\n",
    "We have our coefficients but we should see which feature corresponds to which coefficient. \n",
    "\n",
    "We can do that by making a dataframe with both values. "
   ]
  },
  {
   "cell_type": "code",
   "execution_count": 17,
   "metadata": {},
   "outputs": [
    {
     "data": {
      "text/html": [
       "<div>\n",
       "<style scoped>\n",
       "    .dataframe tbody tr th:only-of-type {\n",
       "        vertical-align: middle;\n",
       "    }\n",
       "\n",
       "    .dataframe tbody tr th {\n",
       "        vertical-align: top;\n",
       "    }\n",
       "\n",
       "    .dataframe thead th {\n",
       "        text-align: right;\n",
       "    }\n",
       "</style>\n",
       "<table border=\"1\" class=\"dataframe\">\n",
       "  <thead>\n",
       "    <tr style=\"text-align: right;\">\n",
       "      <th></th>\n",
       "      <th>Coefficients</th>\n",
       "    </tr>\n",
       "  </thead>\n",
       "  <tbody>\n",
       "    <tr>\n",
       "      <th>house_age</th>\n",
       "      <td>-0.243214</td>\n",
       "    </tr>\n",
       "    <tr>\n",
       "      <th>distance_station</th>\n",
       "      <td>-0.005337</td>\n",
       "    </tr>\n",
       "    <tr>\n",
       "      <th>num_stores</th>\n",
       "      <td>1.258782</td>\n",
       "    </tr>\n",
       "    <tr>\n",
       "      <th>latitude</th>\n",
       "      <td>8.923536</td>\n",
       "    </tr>\n",
       "    <tr>\n",
       "      <th>longitude</th>\n",
       "      <td>-1.345233</td>\n",
       "    </tr>\n",
       "  </tbody>\n",
       "</table>\n",
       "</div>"
      ],
      "text/plain": [
       "                  Coefficients\n",
       "house_age            -0.243214\n",
       "distance_station     -0.005337\n",
       "num_stores            1.258782\n",
       "latitude              8.923536\n",
       "longitude            -1.345233"
      ]
     },
     "execution_count": 17,
     "metadata": {},
     "output_type": "execute_result"
    }
   ],
   "source": [
    "words_coeffs_df = pd.DataFrame(data=ridge_coeffs, index=X_train.columns, columns=['Coefficients'])\n",
    "words_coeffs_df"
   ]
  },
  {
   "cell_type": "markdown",
   "metadata": {},
   "source": [
    "We can use these coefficients to interpret our model (Not the world! Just how our model makes predictions, we need more serious statistics for that). They show us how much each of these features affects our **model's** prediction.\n",
    "\n",
    "For example, if we had a house with 2 stores nearby, our `num_stores` value is 2. That means that 2 * 1.26 = 2.52 will contribute to our predicted price!\n",
    "\n",
    "The negative coefficients work in the opposite way, for example, every unit increase in age of a house will, subtracts 0.243 from the house's predicted value.\n",
    "\n",
    "We can also look at the absolute values of the coefficients to see how important a feature is. \n",
    "\n",
    "However, we have to be very careful about this - remember scaling?! We can't necessarily say latitude is the most important since latitude may be on a different scale. \n",
    "\n",
    "It's important to be careful here though because this depends on the scaling of the features. Larger features will have smaller coefficients, but if we scale our features before we build our model then they are on a somewhat level playing field! (Another reason we should be scaling our features!)"
   ]
  },
  {
   "cell_type": "code",
   "execution_count": 18,
   "metadata": {},
   "outputs": [
    {
     "data": {
      "text/html": [
       "<div>\n",
       "<style scoped>\n",
       "    .dataframe tbody tr th:only-of-type {\n",
       "        vertical-align: middle;\n",
       "    }\n",
       "\n",
       "    .dataframe tbody tr th {\n",
       "        vertical-align: top;\n",
       "    }\n",
       "\n",
       "    .dataframe thead th {\n",
       "        text-align: right;\n",
       "    }\n",
       "</style>\n",
       "<table border=\"1\" class=\"dataframe\">\n",
       "  <thead>\n",
       "    <tr style=\"text-align: right;\">\n",
       "      <th></th>\n",
       "      <th>Coefficients</th>\n",
       "    </tr>\n",
       "  </thead>\n",
       "  <tbody>\n",
       "    <tr>\n",
       "      <th>distance_station</th>\n",
       "      <td>0.005337</td>\n",
       "    </tr>\n",
       "    <tr>\n",
       "      <th>house_age</th>\n",
       "      <td>0.243214</td>\n",
       "    </tr>\n",
       "    <tr>\n",
       "      <th>num_stores</th>\n",
       "      <td>1.258782</td>\n",
       "    </tr>\n",
       "    <tr>\n",
       "      <th>longitude</th>\n",
       "      <td>1.345233</td>\n",
       "    </tr>\n",
       "    <tr>\n",
       "      <th>latitude</th>\n",
       "      <td>8.923536</td>\n",
       "    </tr>\n",
       "  </tbody>\n",
       "</table>\n",
       "</div>"
      ],
      "text/plain": [
       "                  Coefficients\n",
       "distance_station      0.005337\n",
       "house_age             0.243214\n",
       "num_stores            1.258782\n",
       "longitude             1.345233\n",
       "latitude              8.923536"
      ]
     },
     "execution_count": 18,
     "metadata": {},
     "output_type": "execute_result"
    }
   ],
   "source": [
    "words_coeffs_df.abs().sort_values(by='Coefficients')"
   ]
  },
  {
   "cell_type": "markdown",
   "metadata": {},
   "source": [
    "### To summarize\n",
    "\n",
    "In linear models: \n",
    "\n",
    "- if the coefficient is positive, then increasing the feature values increases the prediction value.  \n",
    "- if the coefficient is negative, then increasing the feature values decreases the prediction value.  \n",
    "- if the coefficient is zero, the feature is not used in making a prediction\n"
   ]
  },
  {
   "cell_type": "markdown",
   "metadata": {},
   "source": [
    "### Prediction Example \n",
    "\n",
    "Let's take a look at a single example here. \n",
    "\n",
    "The values in this are the input features. \n",
    "\n",
    "We can use `predict()` on our features to get a prediction of 52.36."
   ]
  },
  {
   "cell_type": "code",
   "execution_count": 19,
   "metadata": {},
   "outputs": [
    {
     "data": {
      "text/html": [
       "<div>\n",
       "<style scoped>\n",
       "    .dataframe tbody tr th:only-of-type {\n",
       "        vertical-align: middle;\n",
       "    }\n",
       "\n",
       "    .dataframe tbody tr th {\n",
       "        vertical-align: top;\n",
       "    }\n",
       "\n",
       "    .dataframe thead th {\n",
       "        text-align: right;\n",
       "    }\n",
       "</style>\n",
       "<table border=\"1\" class=\"dataframe\">\n",
       "  <thead>\n",
       "    <tr style=\"text-align: right;\">\n",
       "      <th></th>\n",
       "      <th>house_age</th>\n",
       "      <th>distance_station</th>\n",
       "      <th>num_stores</th>\n",
       "      <th>latitude</th>\n",
       "      <th>longitude</th>\n",
       "    </tr>\n",
       "  </thead>\n",
       "  <tbody>\n",
       "    <tr>\n",
       "      <th>172</th>\n",
       "      <td>6.6</td>\n",
       "      <td>90.45606</td>\n",
       "      <td>9</td>\n",
       "      <td>24.97433</td>\n",
       "      <td>121.5431</td>\n",
       "    </tr>\n",
       "  </tbody>\n",
       "</table>\n",
       "</div>"
      ],
      "text/plain": [
       "     house_age  distance_station  num_stores  latitude  longitude\n",
       "172        6.6          90.45606           9  24.97433   121.5431"
      ]
     },
     "execution_count": 19,
     "metadata": {},
     "output_type": "execute_result"
    }
   ],
   "source": [
    "X_train.iloc[0:1]"
   ]
  },
  {
   "cell_type": "code",
   "execution_count": 20,
   "metadata": {},
   "outputs": [
    {
     "data": {
      "text/plain": [
       "array([52.35605528])"
      ]
     },
     "execution_count": 20,
     "metadata": {},
     "output_type": "execute_result"
    }
   ],
   "source": [
    "lm.predict(X_train.iloc[0:1])"
   ]
  },
  {
   "cell_type": "markdown",
   "metadata": {},
   "source": [
    "Using our coefficients, and the model's intercept we can calculate the model's predictions ourselves as well. "
   ]
  },
  {
   "cell_type": "code",
   "execution_count": 21,
   "metadata": {},
   "outputs": [
    {
     "data": {
      "text/html": [
       "<div>\n",
       "<style scoped>\n",
       "    .dataframe tbody tr th:only-of-type {\n",
       "        vertical-align: middle;\n",
       "    }\n",
       "\n",
       "    .dataframe tbody tr th {\n",
       "        vertical-align: top;\n",
       "    }\n",
       "\n",
       "    .dataframe thead th {\n",
       "        text-align: right;\n",
       "    }\n",
       "</style>\n",
       "<table border=\"1\" class=\"dataframe\">\n",
       "  <thead>\n",
       "    <tr style=\"text-align: right;\">\n",
       "      <th></th>\n",
       "      <th>house_age</th>\n",
       "      <th>distance_station</th>\n",
       "      <th>num_stores</th>\n",
       "      <th>latitude</th>\n",
       "      <th>longitude</th>\n",
       "    </tr>\n",
       "  </thead>\n",
       "  <tbody>\n",
       "    <tr>\n",
       "      <th>Coefficients</th>\n",
       "      <td>-0.243214</td>\n",
       "      <td>-0.005337</td>\n",
       "      <td>1.258782</td>\n",
       "      <td>8.923536</td>\n",
       "      <td>-1.345233</td>\n",
       "    </tr>\n",
       "  </tbody>\n",
       "</table>\n",
       "</div>"
      ],
      "text/plain": [
       "              house_age  distance_station  num_stores  latitude  longitude\n",
       "Coefficients  -0.243214         -0.005337    1.258782  8.923536  -1.345233"
      ]
     },
     "execution_count": 21,
     "metadata": {},
     "output_type": "execute_result"
    }
   ],
   "source": [
    "words_coeffs_df.T"
   ]
  },
  {
   "cell_type": "code",
   "execution_count": 22,
   "metadata": {},
   "outputs": [
    {
     "data": {
      "text/html": [
       "<div>\n",
       "<style scoped>\n",
       "    .dataframe tbody tr th:only-of-type {\n",
       "        vertical-align: middle;\n",
       "    }\n",
       "\n",
       "    .dataframe tbody tr th {\n",
       "        vertical-align: top;\n",
       "    }\n",
       "\n",
       "    .dataframe thead th {\n",
       "        text-align: right;\n",
       "    }\n",
       "</style>\n",
       "<table border=\"1\" class=\"dataframe\">\n",
       "  <thead>\n",
       "    <tr style=\"text-align: right;\">\n",
       "      <th></th>\n",
       "      <th>house_age</th>\n",
       "      <th>distance_station</th>\n",
       "      <th>num_stores</th>\n",
       "      <th>latitude</th>\n",
       "      <th>longitude</th>\n",
       "    </tr>\n",
       "  </thead>\n",
       "  <tbody>\n",
       "    <tr>\n",
       "      <th>172</th>\n",
       "      <td>6.6</td>\n",
       "      <td>90.45606</td>\n",
       "      <td>9</td>\n",
       "      <td>24.97433</td>\n",
       "      <td>121.5431</td>\n",
       "    </tr>\n",
       "  </tbody>\n",
       "</table>\n",
       "</div>"
      ],
      "text/plain": [
       "     house_age  distance_station  num_stores  latitude  longitude\n",
       "172        6.6          90.45606           9  24.97433   121.5431"
      ]
     },
     "execution_count": 22,
     "metadata": {},
     "output_type": "execute_result"
    }
   ],
   "source": [
    "X_train.iloc[0:1]"
   ]
  },
  {
   "cell_type": "code",
   "execution_count": 23,
   "metadata": {},
   "outputs": [
    {
     "data": {
      "text/plain": [
       "-16.240516720277654"
      ]
     },
     "execution_count": 23,
     "metadata": {},
     "output_type": "execute_result"
    }
   ],
   "source": [
    "intercept = lm.intercept_\n",
    "intercept"
   ]
  },
  {
   "cell_type": "markdown",
   "metadata": {},
   "source": [
    "$\n",
    "\\text{predicted}(price) \\text{       } =   \\text{coefficient}_{\\text{house_age}} * \\text{house_age}  \\\\ + \\text{ }\\text{coefficient}_{\\text{distance_station}} * \\text{distance_station} \\\\  + \\text{ } \\text{coefficient}_{\\text{num_stores}} * \\text{num_stores}  \\\\ + \\text{ } \\text{coefficient}_{\\text{latitude}} * \\text{latitude}\n",
    "\\\\ + \\text{ } \\text{coefficient}_{\\text{longitude}} * \\text{longitude} \\\\ + \\text{ } \\text{intercept}\n",
    "$"
   ]
  },
  {
   "cell_type": "code",
   "execution_count": 24,
   "metadata": {},
   "outputs": [
    {
     "data": {
      "text/plain": [
       "172    52.356055\n",
       "dtype: float64"
      ]
     },
     "execution_count": 24,
     "metadata": {},
     "output_type": "execute_result"
    }
   ],
   "source": [
    "(ridge_coeffs * X_train.iloc[0:1]).sum(axis=1) + intercept "
   ]
  },
  {
   "cell_type": "markdown",
   "metadata": {},
   "source": [
    "All of these feature values multiplied by the coefficients then adding the intercept, contribute to our prediction. \n",
    "\n",
    "When we do this by hand using the model's coefficients and intercept, we get the same as if we used `predict`."
   ]
  },
  {
   "cell_type": "markdown",
   "metadata": {},
   "source": [
    "## Let's Practice\n",
    "\n",
    "1\\. What is the name of a well-known `Ridge` hyperparameter?   \n",
    "2\\. What value of this hyperparameter makes it equivalent to using `LinearRegression`?    \n",
    "\n",
    "\n",
    "3\\. Use the following equation to answer the questions below:     \n",
    "\n",
    "$ \\text{predicted(backpack_weight)} =  3.02 * \\text{#laptops} + 0.3 * \\text{#pencils} + 0.5 $\n",
    "\n",
    "What is our intercept value?    \n",
    "\n",
    "4\\. If I had 2 laptops 3 pencils in my backpack, what weight would my model predict for my backpack?   \n",
    "\n",
    "**True or False:**  \n",
    "\n",
    "5\\. Ridge is a regression modelling approach.       \n",
    "6\\. Increasing the hyperparameter from Question 1 increases model complexity.      \n",
    "7\\. `Ridge` can be used with datasets that have multiple features.      \n",
    "8\\. With `Ridge`, we learn one coefficient per training example.      \n",
    "9\\. Coefficients can help us interpret our model even if unscaled.    \n"
   ]
  },
  {
   "cell_type": "markdown",
   "metadata": {},
   "source": [
    "```{admonition} Solutions!\n",
    ":class: dropdown\n",
    "\n",
    "1. `alpha`\n",
    "2. 0\n",
    "3. 0.5\n",
    "4. 7.44\n",
    "5. True\n",
    "6. False\n",
    "7. True\n",
    "8. False\n",
    "9. True\n",
    "```"
   ]
  },
  {
   "cell_type": "markdown",
   "metadata": {},
   "source": [
    "## Logistic regression\n",
    "\n",
    "Next, we are going to introduce to you a new model called **logistic regression**. \n",
    "\n",
    "It's very similar to `Ridge` we saw earlier but this one has some key differences. \n",
    "\n",
    "For one, we can use it with classification instead of regression problems. (Super confusing, we know -> in stats 'regression' means something else)\n",
    "\n",
    "<img src='imgs/confused.png' width=\"50%\"> \n",
    "\n",
    "\n",
    "Ridge = linear model for regression   \n",
    "Logistic regression = linear model for classification. "
   ]
  },
  {
   "cell_type": "markdown",
   "metadata": {},
   "source": [
    "We are going to bring back our cities dataset we saw at the beginning of this course."
   ]
  },
  {
   "cell_type": "code",
   "execution_count": 25,
   "metadata": {},
   "outputs": [
    {
     "data": {
      "text/html": [
       "<div>\n",
       "<style scoped>\n",
       "    .dataframe tbody tr th:only-of-type {\n",
       "        vertical-align: middle;\n",
       "    }\n",
       "\n",
       "    .dataframe tbody tr th {\n",
       "        vertical-align: top;\n",
       "    }\n",
       "\n",
       "    .dataframe thead th {\n",
       "        text-align: right;\n",
       "    }\n",
       "</style>\n",
       "<table border=\"1\" class=\"dataframe\">\n",
       "  <thead>\n",
       "    <tr style=\"text-align: right;\">\n",
       "      <th></th>\n",
       "      <th>longitude</th>\n",
       "      <th>latitude</th>\n",
       "      <th>country</th>\n",
       "    </tr>\n",
       "  </thead>\n",
       "  <tbody>\n",
       "    <tr>\n",
       "      <th>160</th>\n",
       "      <td>-76.4813</td>\n",
       "      <td>44.2307</td>\n",
       "      <td>Canada</td>\n",
       "    </tr>\n",
       "    <tr>\n",
       "      <th>127</th>\n",
       "      <td>-81.2496</td>\n",
       "      <td>42.9837</td>\n",
       "      <td>Canada</td>\n",
       "    </tr>\n",
       "    <tr>\n",
       "      <th>169</th>\n",
       "      <td>-66.0580</td>\n",
       "      <td>45.2788</td>\n",
       "      <td>Canada</td>\n",
       "    </tr>\n",
       "    <tr>\n",
       "      <th>188</th>\n",
       "      <td>-73.2533</td>\n",
       "      <td>45.3057</td>\n",
       "      <td>Canada</td>\n",
       "    </tr>\n",
       "    <tr>\n",
       "      <th>187</th>\n",
       "      <td>-67.9245</td>\n",
       "      <td>47.1652</td>\n",
       "      <td>Canada</td>\n",
       "    </tr>\n",
       "  </tbody>\n",
       "</table>\n",
       "</div>"
      ],
      "text/plain": [
       "     longitude  latitude country\n",
       "160   -76.4813   44.2307  Canada\n",
       "127   -81.2496   42.9837  Canada\n",
       "169   -66.0580   45.2788  Canada\n",
       "188   -73.2533   45.3057  Canada\n",
       "187   -67.9245   47.1652  Canada"
      ]
     },
     "execution_count": 25,
     "metadata": {},
     "output_type": "execute_result"
    }
   ],
   "source": [
    "cities_df = pd.read_csv(\"data/canada_usa_cities.csv\")\n",
    "train_df, test_df = train_test_split(cities_df, test_size=0.2, random_state=123)\n",
    "X_train, y_train = train_df.drop(columns=[\"country\"], axis=1), train_df[\"country\"]\n",
    "X_test, y_test = test_df.drop(columns=[\"country\"], axis=1), test_df[\"country\"]\n",
    "\n",
    "train_df.head()"
   ]
  },
  {
   "cell_type": "markdown",
   "metadata": {},
   "source": [
    "Although we have not always been doing this, we should always be building a baseline model before we do any type of meaningful modelling. \n",
    "\n",
    "Let's do that before we get straight into it so we can have a better idea of how well our model performs. "
   ]
  },
  {
   "cell_type": "code",
   "execution_count": 26,
   "metadata": {},
   "outputs": [
    {
     "data": {
      "text/plain": [
       "0.5988023952095808"
      ]
     },
     "execution_count": 26,
     "metadata": {},
     "output_type": "execute_result"
    }
   ],
   "source": [
    "from sklearn.dummy import DummyClassifier\n",
    "dc = DummyClassifier(strategy=\"prior\")\n",
    "dc.fit(X_train, y_train)\n",
    "dc.score(X_train, y_train)"
   ]
  },
  {
   "cell_type": "markdown",
   "metadata": {},
   "source": [
    "We import `LogisticRegression` from the `sklearn.linear_model` library as we did with `Ridge`. "
   ]
  },
  {
   "cell_type": "code",
   "execution_count": 27,
   "metadata": {},
   "outputs": [],
   "source": [
    "from sklearn.linear_model import LogisticRegression"
   ]
  },
  {
   "cell_type": "markdown",
   "metadata": {},
   "source": [
    "Let's make a pipeline and obtain the cross-validation scores. "
   ]
  },
  {
   "cell_type": "code",
   "execution_count": 28,
   "metadata": {},
   "outputs": [],
   "source": [
    "log_pipe = make_pipeline(SimpleImputer(), \n",
    "                        StandardScaler(),\n",
    "                       LogisticRegression())"
   ]
  },
  {
   "cell_type": "code",
   "execution_count": 29,
   "metadata": {},
   "outputs": [
    {
     "data": {
      "text/html": [
       "<div>\n",
       "<style scoped>\n",
       "    .dataframe tbody tr th:only-of-type {\n",
       "        vertical-align: middle;\n",
       "    }\n",
       "\n",
       "    .dataframe tbody tr th {\n",
       "        vertical-align: top;\n",
       "    }\n",
       "\n",
       "    .dataframe thead th {\n",
       "        text-align: right;\n",
       "    }\n",
       "</style>\n",
       "<table border=\"1\" class=\"dataframe\">\n",
       "  <thead>\n",
       "    <tr style=\"text-align: right;\">\n",
       "      <th></th>\n",
       "      <th>fit_time</th>\n",
       "      <th>score_time</th>\n",
       "      <th>test_score</th>\n",
       "      <th>train_score</th>\n",
       "    </tr>\n",
       "  </thead>\n",
       "  <tbody>\n",
       "    <tr>\n",
       "      <th>0</th>\n",
       "      <td>0.007766</td>\n",
       "      <td>0.001932</td>\n",
       "      <td>0.852941</td>\n",
       "      <td>0.827068</td>\n",
       "    </tr>\n",
       "    <tr>\n",
       "      <th>1</th>\n",
       "      <td>0.006833</td>\n",
       "      <td>0.001637</td>\n",
       "      <td>0.823529</td>\n",
       "      <td>0.827068</td>\n",
       "    </tr>\n",
       "    <tr>\n",
       "      <th>2</th>\n",
       "      <td>0.006129</td>\n",
       "      <td>0.002038</td>\n",
       "      <td>0.696970</td>\n",
       "      <td>0.858209</td>\n",
       "    </tr>\n",
       "    <tr>\n",
       "      <th>3</th>\n",
       "      <td>0.006212</td>\n",
       "      <td>0.001670</td>\n",
       "      <td>0.818182</td>\n",
       "      <td>0.828358</td>\n",
       "    </tr>\n",
       "    <tr>\n",
       "      <th>4</th>\n",
       "      <td>0.006026</td>\n",
       "      <td>0.001632</td>\n",
       "      <td>0.939394</td>\n",
       "      <td>0.805970</td>\n",
       "    </tr>\n",
       "  </tbody>\n",
       "</table>\n",
       "</div>"
      ],
      "text/plain": [
       "   fit_time  score_time  test_score  train_score\n",
       "0  0.007766    0.001932    0.852941     0.827068\n",
       "1  0.006833    0.001637    0.823529     0.827068\n",
       "2  0.006129    0.002038    0.696970     0.858209\n",
       "3  0.006212    0.001670    0.818182     0.828358\n",
       "4  0.006026    0.001632    0.939394     0.805970"
      ]
     },
     "execution_count": 29,
     "metadata": {},
     "output_type": "execute_result"
    }
   ],
   "source": [
    "scores = pd.DataFrame(cross_validate(log_pipe, X_train, y_train, return_train_score=True))\n",
    "scores"
   ]
  },
  {
   "cell_type": "code",
   "execution_count": 30,
   "metadata": {},
   "outputs": [
    {
     "data": {
      "text/plain": [
       "fit_time       0.006593\n",
       "score_time     0.001782\n",
       "test_score     0.826203\n",
       "train_score    0.829335\n",
       "dtype: float64"
      ]
     },
     "execution_count": 30,
     "metadata": {},
     "output_type": "execute_result"
    }
   ],
   "source": [
    "scores.mean()"
   ]
  },
  {
   "cell_type": "markdown",
   "metadata": {},
   "source": [
    "This time we can see that our training and cross-validation scores have increased from those of our `DummyClassifier`. \n",
    "\n",
    "We saw that with SVMs and decision trees that  we could visualize our model with decision boundaries and we can do the same thing with logistic regression.\n",
    "\n",
    "Here, we can see we get a line(*cough **Linear** *cough) that separates our two target classes. "
   ]
  },
  {
   "cell_type": "code",
   "execution_count": 31,
   "metadata": {},
   "outputs": [
    {
     "data": {
      "image/png": "[encoded data removed]",
      "text/plain": [
       "<Figure size 432x288 with 1 Axes>"
      ]
     },
     "metadata": {
      "needs_background": "light"
     },
     "output_type": "display_data"
    }
   ],
   "source": [
    "log_pipe.fit(X_train, y_train);\n",
    "plot_classifier(X_train, y_train, log_pipe, ax=plt.gca(), ticks=True)\n",
    "plt.xticks(fontsize= 16);\n",
    "plt.yticks(fontsize= 16);\n",
    "plt.title(\"Logistic Regression\", fontsize=22);\n",
    "plt.xlabel(\"longitude\", fontsize=18);\n",
    "plt.ylabel(\"latitude\", fontsize=18);"
   ]
  },
  {
   "cell_type": "markdown",
   "metadata": {},
   "source": [
    "Note:\n",
    "With the regression plots we saw earlier we could only show a 1 feature problem since we need one dimension to show the target value. \n",
    "\n",
    "With classification, we can show the target value with colour instead of using the y-axis so we can use 2 features instead. "
   ]
  },
  {
   "cell_type": "markdown",
   "metadata": {},
   "source": [
    "If we look at some other models that we did this in comparison for you can understand a bit more on why we call Logistic Regression a “linear classifier”."
   ]
  },
  {
   "cell_type": "code",
   "execution_count": 32,
   "metadata": {},
   "outputs": [
    {
     "data": {
      "image/png": "[encoded data removed]",
      "text/plain": [
       "<Figure size 1440x288 with 3 Axes>"
      ]
     },
     "metadata": {},
     "output_type": "display_data"
    }
   ],
   "source": [
    "models = {\n",
    "    \"KNN\": KNeighborsClassifier(),    \n",
    "    \"RBF SVM\": SVC(gamma = 0.01),    \n",
    "    \"Logistic Regression\": LogisticRegression()\n",
    "}\n",
    "\n",
    "plt.figure(figsize=(20, 4))\n",
    "i = 0\n",
    "for name, model in models.items():    \n",
    "    plt.subplot(1, 4, i + 1)\n",
    "    model.fit(X_train, y_train)\n",
    "    plot_classifier(X_train, y_train, model, ax=plt.gca())\n",
    "    plt.xticks();\n",
    "    plt.yticks();\n",
    "    plt.title(name, fontsize=14)\n",
    "    plt.xlabel(\"longitude\")\n",
    "    plt.ylabel(\"latitude\")\n",
    "    i += 1"
   ]
  },
  {
   "cell_type": "markdown",
   "metadata": {},
   "source": [
    "Notice a linear decision boundary (a line in our case)."
   ]
  },
  {
   "cell_type": "markdown",
   "metadata": {},
   "source": [
    "### Coefficients \n",
    "\n",
    "Just like we saw for `Ridge`. we can get the equation of that line and the coefficients of our `latitude` and `longitude` features using `.coef_`."
   ]
  },
  {
   "cell_type": "code",
   "execution_count": 33,
   "metadata": {},
   "outputs": [],
   "source": [
    "logr_step_pipe = log_pipe.named_steps['logisticregression']"
   ]
  },
  {
   "cell_type": "code",
   "execution_count": 34,
   "metadata": {},
   "outputs": [
    {
     "name": "stdout",
     "output_type": "stream",
     "text": [
      "Model coefficients: [[-0.72330355 -1.64254763]]\n",
      "Model intercept: [-0.30837315]\n"
     ]
    }
   ],
   "source": [
    "print(\"Model coefficients:\", logr_step_pipe.coef_)\n",
    "print(\"Model intercept:\", logr_step_pipe.intercept_)"
   ]
  },
  {
   "cell_type": "code",
   "execution_count": 35,
   "metadata": {},
   "outputs": [
    {
     "data": {
      "text/html": [
       "<div>\n",
       "<style scoped>\n",
       "    .dataframe tbody tr th:only-of-type {\n",
       "        vertical-align: middle;\n",
       "    }\n",
       "\n",
       "    .dataframe tbody tr th {\n",
       "        vertical-align: top;\n",
       "    }\n",
       "\n",
       "    .dataframe thead th {\n",
       "        text-align: right;\n",
       "    }\n",
       "</style>\n",
       "<table border=\"1\" class=\"dataframe\">\n",
       "  <thead>\n",
       "    <tr style=\"text-align: right;\">\n",
       "      <th></th>\n",
       "      <th>features</th>\n",
       "      <th>coefficients</th>\n",
       "    </tr>\n",
       "  </thead>\n",
       "  <tbody>\n",
       "    <tr>\n",
       "      <th>0</th>\n",
       "      <td>longitude</td>\n",
       "      <td>-0.723304</td>\n",
       "    </tr>\n",
       "    <tr>\n",
       "      <th>1</th>\n",
       "      <td>latitude</td>\n",
       "      <td>-1.642548</td>\n",
       "    </tr>\n",
       "  </tbody>\n",
       "</table>\n",
       "</div>"
      ],
      "text/plain": [
       "    features  coefficients\n",
       "0  longitude     -0.723304\n",
       "1   latitude     -1.642548"
      ]
     },
     "execution_count": 35,
     "metadata": {},
     "output_type": "execute_result"
    }
   ],
   "source": [
    "data = {'features': X_train.columns, 'coefficients':logr_step_pipe.coef_[0]}\n",
    "pd.DataFrame(data)"
   ]
  },
  {
   "cell_type": "markdown",
   "metadata": {},
   "source": [
    "In this case, we see that both are negative coefficients. \n",
    "\n",
    "We also can see that the coefficient of latitude is larger in magnitude than that of longitude. \n",
    "\n",
    "This makes a lot of sense because Canada as a country lies above the USA and so we expect `latitude` values to contribute more to a prediction than `longitude` which Canada and the `USA` have quite similar values."
   ]
  },
  {
   "cell_type": "markdown",
   "metadata": {},
   "source": [
    "### Predictions"
   ]
  },
  {
   "cell_type": "markdown",
   "metadata": {},
   "source": [
    "Before we said that larger coefficients \"contribute\" more to the prediction than smaller ones for `Ridge`. What is the analog for logistic regression?\n",
    "\n",
    "With logistic regression, the model randomly assigns one of the classes as a positive class and the other as negative. \n",
    "\n",
    "Here since \"Canada\" comes first when we call `.classes_` it is the \"negative class and `USA` is the positive class. (This is in alphabetical order). "
   ]
  },
  {
   "cell_type": "code",
   "execution_count": 36,
   "metadata": {},
   "outputs": [
    {
     "data": {
      "text/plain": [
       "array(['Canada', 'USA'], dtype=object)"
      ]
     },
     "execution_count": 36,
     "metadata": {},
     "output_type": "execute_result"
    }
   ],
   "source": [
    "logr_step_pipe.classes_"
   ]
  },
  {
   "cell_type": "markdown",
   "metadata": {},
   "source": [
    "When it comes to the coefficients, when there is a positive coefficient, increasing that feature will make our prediction more positive which means our prediction is going to lean more toward the positive class (in this case `USA`).\n",
    "\n",
    "Ok, let's take an example from our test set and calculate the outcome using our coefficients and intercept. "
   ]
  },
  {
   "cell_type": "code",
   "execution_count": 37,
   "metadata": {},
   "outputs": [
    {
     "data": {
      "text/plain": [
       "[-64.8001, 46.098]"
      ]
     },
     "execution_count": 37,
     "metadata": {},
     "output_type": "execute_result"
    }
   ],
   "source": [
    "example = X_test.iloc[0,:]\n",
    "example.tolist()"
   ]
  },
  {
   "cell_type": "markdown",
   "metadata": {},
   "source": [
    "We can do this the exact same way as we did for Ridge. "
   ]
  },
  {
   "cell_type": "code",
   "execution_count": 38,
   "metadata": {},
   "outputs": [
    {
     "data": {
      "text/plain": [
       "array([-29.15639126])"
      ]
     },
     "execution_count": 38,
     "metadata": {},
     "output_type": "execute_result"
    }
   ],
   "source": [
    "(example.tolist() * logr_step_pipe.coef_).sum(axis=1) + logr_step_pipe.intercept_ "
   ]
  },
  {
   "cell_type": "markdown",
   "metadata": {},
   "source": [
    "We get a value of -29.15639126. \n",
    "\n",
    "What does that mean? I thought we were predicting a class? \n",
    "\n",
    "For logistic regression, we check the **sign** of the calculation only.\n",
    "\n",
    "If the result was positive, it predicts one class; if negative, it predicts the other.\n",
    "\n",
    "That means everything negative corresponds to \"Canada\" and everything positive predicts a class of \"USA\".\n",
    "\n",
    "Since it's negative we predict `Canada`, which is our negative class. "
   ]
  },
  {
   "cell_type": "code",
   "execution_count": 39,
   "metadata": {},
   "outputs": [
    {
     "data": {
      "text/plain": [
       "array(['Canada'], dtype=object)"
      ]
     },
     "execution_count": 39,
     "metadata": {},
     "output_type": "execute_result"
    }
   ],
   "source": [
    "log_pipe.predict([example])"
   ]
  },
  {
   "cell_type": "markdown",
   "metadata": {},
   "source": [
    "Using `predict`, we can see that it predicts the negative class as well! \n",
    "\n",
    "These are \"hard predictions\" but we can also use this for something called \"soft predictions\" as well. (Remember `predict_proba`? That's going to be coming back in a second) "
   ]
  },
  {
   "cell_type": "markdown",
   "metadata": {},
   "source": [
    "### Logistic Regression Hyperparameter `C`\n",
    "\n",
    "At this point, you should be feeling pretty comfortable with hyperparameters. \n",
    "\n",
    "We saw that `Ridge` has the hyperparameter `alpha`, well `C` (annoyingly) has the opposite effect on the fundamental trade-off. \n",
    "\n",
    "In general, we say smaller `C` leads to a less complex model (whereas with `Ridge`, lower `alpha` means higher complexity). \n",
    "\n",
    "Higher values of `C` leads to more overfitting and lower values to less overfitting. "
   ]
  },
  {
   "cell_type": "code",
   "execution_count": 40,
   "metadata": {},
   "outputs": [
    {
     "data": {
      "text/html": [
       "<div>\n",
       "<style scoped>\n",
       "    .dataframe tbody tr th:only-of-type {\n",
       "        vertical-align: middle;\n",
       "    }\n",
       "\n",
       "    .dataframe tbody tr th {\n",
       "        vertical-align: top;\n",
       "    }\n",
       "\n",
       "    .dataframe thead th {\n",
       "        text-align: right;\n",
       "    }\n",
       "</style>\n",
       "<table border=\"1\" class=\"dataframe\">\n",
       "  <thead>\n",
       "    <tr style=\"text-align: right;\">\n",
       "      <th></th>\n",
       "      <th>C</th>\n",
       "      <th>train_score</th>\n",
       "      <th>cv_score</th>\n",
       "    </tr>\n",
       "  </thead>\n",
       "  <tbody>\n",
       "    <tr>\n",
       "      <th>0</th>\n",
       "      <td>0.000001</td>\n",
       "      <td>0.598810</td>\n",
       "      <td>0.598930</td>\n",
       "    </tr>\n",
       "    <tr>\n",
       "      <th>1</th>\n",
       "      <td>0.000010</td>\n",
       "      <td>0.598810</td>\n",
       "      <td>0.598930</td>\n",
       "    </tr>\n",
       "    <tr>\n",
       "      <th>2</th>\n",
       "      <td>0.000100</td>\n",
       "      <td>0.664707</td>\n",
       "      <td>0.658645</td>\n",
       "    </tr>\n",
       "    <tr>\n",
       "      <th>3</th>\n",
       "      <td>0.001000</td>\n",
       "      <td>0.784424</td>\n",
       "      <td>0.790731</td>\n",
       "    </tr>\n",
       "    <tr>\n",
       "      <th>4</th>\n",
       "      <td>0.010000</td>\n",
       "      <td>0.827842</td>\n",
       "      <td>0.826203</td>\n",
       "    </tr>\n",
       "    <tr>\n",
       "      <th>5</th>\n",
       "      <td>0.100000</td>\n",
       "      <td>0.832320</td>\n",
       "      <td>0.820143</td>\n",
       "    </tr>\n",
       "    <tr>\n",
       "      <th>6</th>\n",
       "      <td>1.000000</td>\n",
       "      <td>0.832320</td>\n",
       "      <td>0.820143</td>\n",
       "    </tr>\n",
       "    <tr>\n",
       "      <th>7</th>\n",
       "      <td>10.000000</td>\n",
       "      <td>0.832320</td>\n",
       "      <td>0.820143</td>\n",
       "    </tr>\n",
       "  </tbody>\n",
       "</table>\n",
       "</div>"
      ],
      "text/plain": [
       "           C  train_score  cv_score\n",
       "0   0.000001     0.598810  0.598930\n",
       "1   0.000010     0.598810  0.598930\n",
       "2   0.000100     0.664707  0.658645\n",
       "3   0.001000     0.784424  0.790731\n",
       "4   0.010000     0.827842  0.826203\n",
       "5   0.100000     0.832320  0.820143\n",
       "6   1.000000     0.832320  0.820143\n",
       "7  10.000000     0.832320  0.820143"
      ]
     },
     "execution_count": 40,
     "metadata": {},
     "output_type": "execute_result"
    }
   ],
   "source": [
    "scores_dict ={\n",
    "\"C\" :10.0**np.arange(-6,2,1),\n",
    "\"train_score\" : list(),\n",
    "\"cv_score\" : list(),\n",
    "}\n",
    "for C in scores_dict['C']:\n",
    "    lr_model = LogisticRegression(C=C)\n",
    "    results = cross_validate(lr_model, X_train, y_train, return_train_score=True)\n",
    "    scores_dict['train_score'].append(results[\"train_score\"].mean())\n",
    "    scores_dict['cv_score'].append(results[\"test_score\"].mean())\n",
    "    \n",
    "pd.DataFrame(scores_dict)"
   ]
  },
  {
   "cell_type": "markdown",
   "metadata": {},
   "source": [
    "`LogisticRegression`'s default `C` hyperparameter is 1. \n",
    "\n",
    "Let's see what kind of value we get if we do `RandomizedGrid`. "
   ]
  },
  {
   "cell_type": "code",
   "execution_count": 41,
   "metadata": {},
   "outputs": [
    {
     "name": "stdout",
     "output_type": "stream",
     "text": [
      "Fitting 5 folds for each of 10 candidates, totalling 50 fits\n"
     ]
    }
   ],
   "source": [
    "import scipy\n",
    "from sklearn.model_selection import RandomizedSearchCV\n",
    "\n",
    "param_grid = {\n",
    "    \"logisticregression__C\": scipy.stats.uniform(0, 100)}\n",
    "\n",
    "grid_search = RandomizedSearchCV(log_pipe, param_grid, cv=5, return_train_score=True, verbose=1, n_jobs=-1)\n",
    "grid_search.fit(X_train, y_train);"
   ]
  },
  {
   "cell_type": "code",
   "execution_count": 42,
   "metadata": {},
   "outputs": [
    {
     "data": {
      "text/plain": [
       "{'logisticregression__C': 71.5182105727749}"
      ]
     },
     "execution_count": 42,
     "metadata": {},
     "output_type": "execute_result"
    }
   ],
   "source": [
    "grid_search.best_params_"
   ]
  },
  {
   "cell_type": "code",
   "execution_count": 43,
   "metadata": {},
   "outputs": [
    {
     "data": {
      "text/plain": [
       "0.8201426024955436"
      ]
     },
     "execution_count": 43,
     "metadata": {},
     "output_type": "execute_result"
    }
   ],
   "source": [
    "grid_search.best_score_"
   ]
  },
  {
   "cell_type": "markdown",
   "metadata": {},
   "source": [
    "### Predicting probabilities \n",
    "\n",
    "we saw that we can make \"hard predictions\" with logistic regression using `predict` but logistic regression also can make something called \"soft predictions\". \n",
    "\n",
    "We saw this when we use `predict_proba` in naive Bayes. These are called \"soft predictions\" because instead of predicting a specific class, the model returns a probability for each class."
   ]
  },
  {
   "cell_type": "code",
   "execution_count": 44,
   "metadata": {},
   "outputs": [
    {
     "data": {
      "text/plain": [
       "array(['Canada'], dtype=object)"
      ]
     },
     "execution_count": 44,
     "metadata": {},
     "output_type": "execute_result"
    }
   ],
   "source": [
    "log_pipe.predict(X_test[:1])"
   ]
  },
  {
   "cell_type": "markdown",
   "metadata": {},
   "source": [
    "I just want to state here we are using our pipeline to make a prediction but we could have also used our `grid_search` object that calls `log_pipe` to make the prediction as well. "
   ]
  },
  {
   "cell_type": "code",
   "execution_count": 45,
   "metadata": {},
   "outputs": [
    {
     "data": {
      "text/plain": [
       "array(['Canada'], dtype=object)"
      ]
     },
     "execution_count": 45,
     "metadata": {},
     "output_type": "execute_result"
    }
   ],
   "source": [
    "grid_search.predict(X_test[:1])"
   ]
  },
  {
   "cell_type": "markdown",
   "metadata": {},
   "source": [
    "We could also have called a simple model without the scaling if we did: "
   ]
  },
  {
   "cell_type": "code",
   "execution_count": 46,
   "metadata": {},
   "outputs": [
    {
     "data": {
      "text/plain": [
       "array(['Canada'], dtype=object)"
      ]
     },
     "execution_count": 46,
     "metadata": {},
     "output_type": "execute_result"
    }
   ],
   "source": [
    "lr = LogisticRegression()\n",
    "lr.fit(X_train, y_train)\n",
    "lr.predict(X_test[:1])"
   ]
  },
  {
   "cell_type": "markdown",
   "metadata": {},
   "source": [
    "And now with`predict_proba`: "
   ]
  },
  {
   "cell_type": "code",
   "execution_count": 47,
   "metadata": {},
   "outputs": [
    {
     "data": {
      "text/plain": [
       "array([[0.86175442, 0.13824558]])"
      ]
     },
     "execution_count": 47,
     "metadata": {},
     "output_type": "execute_result"
    }
   ],
   "source": [
    "log_pipe.predict_proba(X_test[:1])"
   ]
  },
  {
   "cell_type": "code",
   "execution_count": 48,
   "metadata": {},
   "outputs": [
    {
     "data": {
      "text/plain": [
       "array([[0.87868202, 0.12131798]])"
      ]
     },
     "execution_count": 48,
     "metadata": {},
     "output_type": "execute_result"
    }
   ],
   "source": [
    "grid_search.predict_proba(X_test[:1])"
   ]
  },
  {
   "cell_type": "code",
   "execution_count": 49,
   "metadata": {},
   "outputs": [
    {
     "data": {
      "text/plain": [
       "array([[0.87848688, 0.12151312]])"
      ]
     },
     "execution_count": 49,
     "metadata": {},
     "output_type": "execute_result"
    }
   ],
   "source": [
    "lr.predict_proba(X_test[:1])"
   ]
  },
  {
   "cell_type": "markdown",
   "metadata": {},
   "source": [
    "Let's look at the last one where we predict with `lr`:\n",
    "\n",
    "So these \"probabilities\" correspond to the classes in the same order as `.classes_`"
   ]
  },
  {
   "cell_type": "code",
   "execution_count": 50,
   "metadata": {},
   "outputs": [
    {
     "data": {
      "text/plain": [
       "array(['Canada', 'USA'], dtype=object)"
      ]
     },
     "execution_count": 50,
     "metadata": {},
     "output_type": "execute_result"
    }
   ],
   "source": [
    "lr.classes_"
   ]
  },
  {
   "cell_type": "markdown",
   "metadata": {},
   "source": [
    "This returns an array with a probability of how confident the model is for each target class.\n",
    "\n",
    "We can see that the model is 87.8% sure that example 1 is class 0 (\"Canada\") and 12.15% confident that example 1 is class 0 (\"USA\"). \n",
    "\n",
    "We are going to call these values a probability *score*. It is a score that takes the form of a probability. Take it with a grain of salt. \n",
    "\n",
    "We don't want to say \"I am 88% sure that this example is 'Canada'\" That's too in-depth here, but we can say that we are more sure of one class than another.\n",
    "\n",
    "`predict` works by predicting the class with the highest probability."
   ]
  },
  {
   "cell_type": "markdown",
   "metadata": {},
   "source": [
    "### How is this being done?\n",
    "\n",
    "For linear regression we used something like this: \n",
    "\n",
    "$\\text{predicted(value)} = \\text{coefficient}_\\text{feature-1} * \\text{feature-1} + \\text{coefficient}_\\text{feature-2} * \\text{feature-2} + ... + \\text{coefficient}_\\text{feature-n} * \\text{feature-n} + \\text{intercept} $\n",
    "\n",
    "But this won't work with probabilities. \n",
    "\n",
    "So how do we calculate these probability scores?\n",
    "\n",
    "We need something that will:\n",
    "1. Make our predictions bounded between 0 and 1 (since probabilities as between 0 and 1)\n",
    "2. Make our predictions change rapidly around 0.5 (the threshold) and slower away from 0.5\n",
    "\n",
    "Enter -> **The sigmoid function**!"
   ]
  },
  {
   "cell_type": "code",
   "execution_count": 51,
   "metadata": {},
   "outputs": [
    {
     "data": {
      "image/png": "[encoded data removed]",
      "text/plain": [
       "<Figure size 432x288 with 1 Axes>"
      ]
     },
     "metadata": {
      "needs_background": "light"
     },
     "output_type": "display_data"
    }
   ],
   "source": [
    "sigmoid = lambda x: 1/(1+np.exp(-x))\n",
    "raw_model_output = np.linspace(-8,8,1000)\n",
    "plt.plot(raw_model_output, sigmoid(raw_model_output));\n",
    "plt.plot([0,0],[0,0.5], '--k')\n",
    "plt.plot([-8,0],[0.5,0.5], '--k')\n",
    "plt.xticks(fontsize= 16);\n",
    "plt.yticks(fontsize= 16);\n",
    "plt.xlabel(\"raw model output\", fontsize=16); \n",
    "plt.ylabel(\"predicted probability\", fontsize=16);\n",
    "plt.title(\"The sigmoid function\", fontsize=18);"
   ]
  },
  {
   "cell_type": "markdown",
   "metadata": {},
   "source": [
    "If we now compare `predict` with `predict_proba` we can see how `predict` made a prediction based on the probabilities."
   ]
  },
  {
   "cell_type": "code",
   "execution_count": 52,
   "metadata": {},
   "outputs": [
    {
     "data": {
      "text/plain": [
       "array(['Canada', 'Canada', 'USA', 'Canada', 'Canada'], dtype=object)"
      ]
     },
     "execution_count": 52,
     "metadata": {},
     "output_type": "execute_result"
    }
   ],
   "source": [
    "predict_y = lr.predict(X_train)\n",
    "predict_y[-5:]"
   ]
  },
  {
   "cell_type": "code",
   "execution_count": 53,
   "metadata": {},
   "outputs": [
    {
     "data": {
      "text/plain": [
       "array([[0.69848481, 0.30151519],\n",
       "       [0.76970638, 0.23029362],\n",
       "       [0.05301712, 0.94698288],\n",
       "       [0.63294488, 0.36705512],\n",
       "       [0.81540165, 0.18459835]])"
      ]
     },
     "execution_count": 53,
     "metadata": {},
     "output_type": "execute_result"
    }
   ],
   "source": [
    "y_proba = lr.predict_proba(X_train)\n",
    "y_proba[-5:]"
   ]
  },
  {
   "cell_type": "markdown",
   "metadata": {},
   "source": [
    "Here we can look at the first column and if the probability is greater than 0.5, our `predict` function predicts the target of Canada and if the probability is lower than 0.5, it predicts `USA`.\n",
    "\n",
    "Let's take a look and compare them to the actual correct labels. "
   ]
  },
  {
   "cell_type": "code",
   "execution_count": 54,
   "metadata": {},
   "outputs": [
    {
     "data": {
      "text/html": [
       "<div>\n",
       "<style scoped>\n",
       "    .dataframe tbody tr th:only-of-type {\n",
       "        vertical-align: middle;\n",
       "    }\n",
       "\n",
       "    .dataframe tbody tr th {\n",
       "        vertical-align: top;\n",
       "    }\n",
       "\n",
       "    .dataframe thead th {\n",
       "        text-align: right;\n",
       "    }\n",
       "</style>\n",
       "<table border=\"1\" class=\"dataframe\">\n",
       "  <thead>\n",
       "    <tr style=\"text-align: right;\">\n",
       "      <th></th>\n",
       "      <th>y</th>\n",
       "      <th>pred y</th>\n",
       "      <th>probabilities</th>\n",
       "    </tr>\n",
       "  </thead>\n",
       "  <tbody>\n",
       "    <tr>\n",
       "      <th>96</th>\n",
       "      <td>Canada</td>\n",
       "      <td>Canada</td>\n",
       "      <td>[0.7047596510140418, 0.2952403489859582]</td>\n",
       "    </tr>\n",
       "    <tr>\n",
       "      <th>57</th>\n",
       "      <td>USA</td>\n",
       "      <td>USA</td>\n",
       "      <td>[0.03121394423109436, 0.9687860557689056]</td>\n",
       "    </tr>\n",
       "    <tr>\n",
       "      <th>123</th>\n",
       "      <td>Canada</td>\n",
       "      <td>Canada</td>\n",
       "      <td>[0.6537036743991862, 0.3462963256008138]</td>\n",
       "    </tr>\n",
       "    <tr>\n",
       "      <th>106</th>\n",
       "      <td>Canada</td>\n",
       "      <td>Canada</td>\n",
       "      <td>[0.8444267867198362, 0.1555732132801638]</td>\n",
       "    </tr>\n",
       "    <tr>\n",
       "      <th>83</th>\n",
       "      <td>Canada</td>\n",
       "      <td>Canada</td>\n",
       "      <td>[0.6537036743991862, 0.3462963256008138]</td>\n",
       "    </tr>\n",
       "    <tr>\n",
       "      <th>17</th>\n",
       "      <td>USA</td>\n",
       "      <td>Canada</td>\n",
       "      <td>[0.6984848138411375, 0.3015151861588626]</td>\n",
       "    </tr>\n",
       "    <tr>\n",
       "      <th>98</th>\n",
       "      <td>Canada</td>\n",
       "      <td>Canada</td>\n",
       "      <td>[0.769706381275301, 0.23029361872469897]</td>\n",
       "    </tr>\n",
       "    <tr>\n",
       "      <th>66</th>\n",
       "      <td>USA</td>\n",
       "      <td>USA</td>\n",
       "      <td>[0.053017116268726405, 0.9469828837312736]</td>\n",
       "    </tr>\n",
       "    <tr>\n",
       "      <th>126</th>\n",
       "      <td>Canada</td>\n",
       "      <td>Canada</td>\n",
       "      <td>[0.6329448842395046, 0.36705511576049543]</td>\n",
       "    </tr>\n",
       "    <tr>\n",
       "      <th>109</th>\n",
       "      <td>Canada</td>\n",
       "      <td>Canada</td>\n",
       "      <td>[0.8154016516676702, 0.1845983483323298]</td>\n",
       "    </tr>\n",
       "  </tbody>\n",
       "</table>\n",
       "</div>"
      ],
      "text/plain": [
       "          y  pred y                               probabilities\n",
       "96   Canada  Canada    [0.7047596510140418, 0.2952403489859582]\n",
       "57      USA     USA   [0.03121394423109436, 0.9687860557689056]\n",
       "123  Canada  Canada    [0.6537036743991862, 0.3462963256008138]\n",
       "106  Canada  Canada    [0.8444267867198362, 0.1555732132801638]\n",
       "83   Canada  Canada    [0.6537036743991862, 0.3462963256008138]\n",
       "17      USA  Canada    [0.6984848138411375, 0.3015151861588626]\n",
       "98   Canada  Canada    [0.769706381275301, 0.23029361872469897]\n",
       "66      USA     USA  [0.053017116268726405, 0.9469828837312736]\n",
       "126  Canada  Canada   [0.6329448842395046, 0.36705511576049543]\n",
       "109  Canada  Canada    [0.8154016516676702, 0.1845983483323298]"
      ]
     },
     "execution_count": 54,
     "metadata": {},
     "output_type": "execute_result"
    }
   ],
   "source": [
    "data_dict = {\"y\":y_train, \n",
    "             \"pred y\": predict_y.tolist(),\n",
    "             \"probabilities\": y_proba.tolist()}\n",
    "pd.DataFrame(data_dict).tail(10)"
   ]
  },
  {
   "cell_type": "markdown",
   "metadata": {},
   "source": [
    "We can see that in the example at index 17, the model incorrectly predicted as \"Canada\" instead of \"USA\" but we also see that the model was not extremely confident in this prediction. It was 69.8% confident. \n",
    "\n",
    "For the rest of this selection, the model corrected predicted each city but the model was more confident in some than others. "
   ]
  },
  {
   "cell_type": "markdown",
   "metadata": {},
   "source": [
    "### Decision boundaries with `predict_proba`\n",
    "\n",
    "When we use `predict`, we get a decision boundary with either blue or red background a colour for each class we are predicting. "
   ]
  },
  {
   "cell_type": "code",
   "execution_count": 55,
   "metadata": {},
   "outputs": [
    {
     "data": {
      "image/png": "[encoded data removed]",
      "text/plain": [
       "<Figure size 1152x576 with 3 Axes>"
      ]
     },
     "metadata": {
      "needs_background": "light"
     },
     "output_type": "display_data"
    }
   ],
   "source": [
    "plt.figure(figsize=(16, 8))\n",
    "plt.subplot(1, 2, 1);\n",
    "plot_classifier(X_train[-10:], y_train[-10:], lr, ax=plt.gca(), ticks=True)\n",
    "plt.xticks(fontsize= 14);\n",
    "plt.yticks(fontsize= 14);\n",
    "plt.xlabel(\"latitude\", fontsize=14); plt.ylabel(\"longitude\", fontsize=14)\n",
    "plt.title(\"Logistic regression - predict\", fontsize=16)\n",
    "plt.subplot(1, 2, 2);\n",
    "plot_classifier(X_train[-10:], y_train[-10:], lr, proba=True, ax=plt.gca(), ticks=True)\n",
    "plt.xticks(fontsize= 14);\n",
    "plt.yticks(fontsize= 14);\n",
    "plt.xlabel(\"latitude\", fontsize=14); plt.ylabel(\"longitude\", fontsize=14)\n",
    "plt.title(\"Logistic regression - predict_proba\", fontsize=16);"
   ]
  },
  {
   "cell_type": "markdown",
   "metadata": {},
   "source": [
    "With probabilities using `predict_proba`,  we can now use a colour to represent the probability, a scale.     \n",
    "We can see that the model is less confident the closer the observations are to the decision boundary. \n",
    "\n",
    "Let's find some examples where the model is pretty confident in its predictions.\n",
    "\n",
    "This time, when we make our dataframe, we are only bringing in the probability of predicting \"Canada\". This is because if we are 10% confident a prediction is \"Canada\", the model is 90% confident in \"USA\"."
   ]
  },
  {
   "cell_type": "code",
   "execution_count": 56,
   "metadata": {},
   "outputs": [
    {
     "data": {
      "text/html": [
       "<div>\n",
       "<style scoped>\n",
       "    .dataframe tbody tr th:only-of-type {\n",
       "        vertical-align: middle;\n",
       "    }\n",
       "\n",
       "    .dataframe tbody tr th {\n",
       "        vertical-align: top;\n",
       "    }\n",
       "\n",
       "    .dataframe thead th {\n",
       "        text-align: right;\n",
       "    }\n",
       "</style>\n",
       "<table border=\"1\" class=\"dataframe\">\n",
       "  <thead>\n",
       "    <tr style=\"text-align: right;\">\n",
       "      <th></th>\n",
       "      <th>y</th>\n",
       "      <th>pred y</th>\n",
       "      <th>probability_canada</th>\n",
       "    </tr>\n",
       "  </thead>\n",
       "  <tbody>\n",
       "    <tr>\n",
       "      <th>160</th>\n",
       "      <td>Canada</td>\n",
       "      <td>Canada</td>\n",
       "      <td>0.704607</td>\n",
       "    </tr>\n",
       "    <tr>\n",
       "      <th>127</th>\n",
       "      <td>Canada</td>\n",
       "      <td>Canada</td>\n",
       "      <td>0.563017</td>\n",
       "    </tr>\n",
       "    <tr>\n",
       "      <th>169</th>\n",
       "      <td>Canada</td>\n",
       "      <td>Canada</td>\n",
       "      <td>0.838968</td>\n",
       "    </tr>\n",
       "  </tbody>\n",
       "</table>\n",
       "</div>"
      ],
      "text/plain": [
       "          y  pred y  probability_canada\n",
       "160  Canada  Canada            0.704607\n",
       "127  Canada  Canada            0.563017\n",
       "169  Canada  Canada            0.838968"
      ]
     },
     "execution_count": 56,
     "metadata": {},
     "output_type": "execute_result"
    }
   ],
   "source": [
    "lr_targets = pd.DataFrame({\"y\":y_train,\n",
    "                           \"pred y\": predict_y.tolist(),\n",
    "                           \"probability_canada\": y_proba[:,0].tolist()})\n",
    "lr_targets.head(3)"
   ]
  },
  {
   "cell_type": "code",
   "execution_count": 57,
   "metadata": {},
   "outputs": [
    {
     "data": {
      "text/html": [
       "<div>\n",
       "<style scoped>\n",
       "    .dataframe tbody tr th:only-of-type {\n",
       "        vertical-align: middle;\n",
       "    }\n",
       "\n",
       "    .dataframe tbody tr th {\n",
       "        vertical-align: top;\n",
       "    }\n",
       "\n",
       "    .dataframe thead th {\n",
       "        text-align: right;\n",
       "    }\n",
       "</style>\n",
       "<table border=\"1\" class=\"dataframe\">\n",
       "  <thead>\n",
       "    <tr style=\"text-align: right;\">\n",
       "      <th></th>\n",
       "      <th>y</th>\n",
       "      <th>pred y</th>\n",
       "      <th>probability_canada</th>\n",
       "    </tr>\n",
       "  </thead>\n",
       "  <tbody>\n",
       "    <tr>\n",
       "      <th>37</th>\n",
       "      <td>USA</td>\n",
       "      <td>USA</td>\n",
       "      <td>0.006547</td>\n",
       "    </tr>\n",
       "    <tr>\n",
       "      <th>78</th>\n",
       "      <td>USA</td>\n",
       "      <td>USA</td>\n",
       "      <td>0.007685</td>\n",
       "    </tr>\n",
       "    <tr>\n",
       "      <th>34</th>\n",
       "      <td>USA</td>\n",
       "      <td>USA</td>\n",
       "      <td>0.008317</td>\n",
       "    </tr>\n",
       "    <tr>\n",
       "      <th>41</th>\n",
       "      <td>USA</td>\n",
       "      <td>USA</td>\n",
       "      <td>0.008958</td>\n",
       "    </tr>\n",
       "    <tr>\n",
       "      <th>38</th>\n",
       "      <td>USA</td>\n",
       "      <td>USA</td>\n",
       "      <td>0.009194</td>\n",
       "    </tr>\n",
       "    <tr>\n",
       "      <th>...</th>\n",
       "      <td>...</td>\n",
       "      <td>...</td>\n",
       "      <td>...</td>\n",
       "    </tr>\n",
       "    <tr>\n",
       "      <th>149</th>\n",
       "      <td>Canada</td>\n",
       "      <td>Canada</td>\n",
       "      <td>0.924004</td>\n",
       "    </tr>\n",
       "    <tr>\n",
       "      <th>81</th>\n",
       "      <td>Canada</td>\n",
       "      <td>Canada</td>\n",
       "      <td>0.931792</td>\n",
       "    </tr>\n",
       "    <tr>\n",
       "      <th>0</th>\n",
       "      <td>USA</td>\n",
       "      <td>Canada</td>\n",
       "      <td>0.932487</td>\n",
       "    </tr>\n",
       "    <tr>\n",
       "      <th>165</th>\n",
       "      <td>Canada</td>\n",
       "      <td>Canada</td>\n",
       "      <td>0.951092</td>\n",
       "    </tr>\n",
       "    <tr>\n",
       "      <th>1</th>\n",
       "      <td>USA</td>\n",
       "      <td>Canada</td>\n",
       "      <td>0.961902</td>\n",
       "    </tr>\n",
       "  </tbody>\n",
       "</table>\n",
       "<p>167 rows × 3 columns</p>\n",
       "</div>"
      ],
      "text/plain": [
       "          y  pred y  probability_canada\n",
       "37      USA     USA            0.006547\n",
       "78      USA     USA            0.007685\n",
       "34      USA     USA            0.008317\n",
       "41      USA     USA            0.008958\n",
       "38      USA     USA            0.009194\n",
       "..      ...     ...                 ...\n",
       "149  Canada  Canada            0.924004\n",
       "81   Canada  Canada            0.931792\n",
       "0       USA  Canada            0.932487\n",
       "165  Canada  Canada            0.951092\n",
       "1       USA  Canada            0.961902\n",
       "\n",
       "[167 rows x 3 columns]"
      ]
     },
     "execution_count": 57,
     "metadata": {},
     "output_type": "execute_result"
    }
   ],
   "source": [
    "lr_targets.sort_values(by='probability_canada')"
   ]
  },
  {
   "cell_type": "markdown",
   "metadata": {},
   "source": [
    "Here we can see both extremes. \n",
    "\n",
    "At the bottom are the observations the model is most confident the class is Canada, and at the top, we can see the observations the model was least confident the class is Canada which is the same saying the most confident in USA. \n",
    "\n",
    "We are 99.345% (1- 0.006547) confident that city 37 is \"USA\" and 96.19% confident that city 1 is \"Canada\". \n",
    "\n",
    "The model got the first example right, but the second one, wrong.\n",
    "\n",
    "Let's plot this and see why. "
   ]
  },
  {
   "cell_type": "code",
   "execution_count": 58,
   "metadata": {},
   "outputs": [
    {
     "data": {
      "text/html": [
       "<div>\n",
       "<style scoped>\n",
       "    .dataframe tbody tr th:only-of-type {\n",
       "        vertical-align: middle;\n",
       "    }\n",
       "\n",
       "    .dataframe tbody tr th {\n",
       "        vertical-align: top;\n",
       "    }\n",
       "\n",
       "    .dataframe thead th {\n",
       "        text-align: right;\n",
       "    }\n",
       "</style>\n",
       "<table border=\"1\" class=\"dataframe\">\n",
       "  <thead>\n",
       "    <tr style=\"text-align: right;\">\n",
       "      <th></th>\n",
       "      <th>longitude</th>\n",
       "      <th>latitude</th>\n",
       "      <th>country</th>\n",
       "    </tr>\n",
       "  </thead>\n",
       "  <tbody>\n",
       "    <tr>\n",
       "      <th>1</th>\n",
       "      <td>-134.4197</td>\n",
       "      <td>58.3019</td>\n",
       "      <td>USA</td>\n",
       "    </tr>\n",
       "    <tr>\n",
       "      <th>37</th>\n",
       "      <td>-98.4951</td>\n",
       "      <td>29.4246</td>\n",
       "      <td>USA</td>\n",
       "    </tr>\n",
       "  </tbody>\n",
       "</table>\n",
       "</div>"
      ],
      "text/plain": [
       "    longitude  latitude country\n",
       "1   -134.4197   58.3019     USA\n",
       "37   -98.4951   29.4246     USA"
      ]
     },
     "execution_count": 58,
     "metadata": {},
     "output_type": "execute_result"
    }
   ],
   "source": [
    "train_df.loc[[1,37]]"
   ]
  },
  {
   "cell_type": "markdown",
   "metadata": {},
   "source": [
    "I am get each of these observations by calling the index of each city on our training dataset.\n",
    "\n",
    "The top one is index 37 and the bottom one is index 1."
   ]
  },
  {
   "cell_type": "code",
   "execution_count": 59,
   "metadata": {},
   "outputs": [
    {
     "data": {
      "image/png": "[encoded data removed]",
      "text/plain": [
       "<Figure size 432x288 with 2 Axes>"
      ]
     },
     "metadata": {
      "needs_background": "light"
     },
     "output_type": "display_data"
    }
   ],
   "source": [
    "plot_classifier(X_train.loc[[1,37]], y_train.loc[[1,37]], lr, proba=True, ax=plt.gca(), ticks=True,  lims=(-140,-55,25,60))\n",
    "plt.xticks(fontsize= 14);\n",
    "plt.yticks(fontsize= 14);\n",
    "plt.xlabel(\"latitude\", fontsize=14); plt.ylabel(\"longitude\", fontsize=14)\n",
    "plt.title(\"Logistic regression - certain predictions\", fontsize=16);"
   ]
  },
  {
   "cell_type": "markdown",
   "metadata": {},
   "source": [
    "Both points are \"USA\" cities but we can now see why the model was so confident in its predictions for both cities.\n",
    "\n",
    "The \"USA\" city it got wrong is likely in Alaska but the model doesn't know that and predicts more so on how close and on which side it lies to the decision boundary. \n",
    "\n",
    "Let's now find an example where the model is less certain on its prediction. \n",
    "\n",
    "We can do this by finding the absolute value of the difference between the two probabilities. \n",
    "\n",
    "The smaller the value, the more uncertain the model is. "
   ]
  },
  {
   "cell_type": "code",
   "execution_count": 60,
   "metadata": {},
   "outputs": [
    {
     "data": {
      "text/html": [
       "<div>\n",
       "<style scoped>\n",
       "    .dataframe tbody tr th:only-of-type {\n",
       "        vertical-align: middle;\n",
       "    }\n",
       "\n",
       "    .dataframe tbody tr th {\n",
       "        vertical-align: top;\n",
       "    }\n",
       "\n",
       "    .dataframe thead th {\n",
       "        text-align: right;\n",
       "    }\n",
       "</style>\n",
       "<table border=\"1\" class=\"dataframe\">\n",
       "  <thead>\n",
       "    <tr style=\"text-align: right;\">\n",
       "      <th></th>\n",
       "      <th>y</th>\n",
       "      <th>pred y</th>\n",
       "      <th>prob_difference</th>\n",
       "    </tr>\n",
       "  </thead>\n",
       "  <tbody>\n",
       "    <tr>\n",
       "      <th>61</th>\n",
       "      <td>USA</td>\n",
       "      <td>USA</td>\n",
       "      <td>0.001719</td>\n",
       "    </tr>\n",
       "    <tr>\n",
       "      <th>54</th>\n",
       "      <td>USA</td>\n",
       "      <td>USA</td>\n",
       "      <td>0.020025</td>\n",
       "    </tr>\n",
       "    <tr>\n",
       "      <th>13</th>\n",
       "      <td>USA</td>\n",
       "      <td>USA</td>\n",
       "      <td>0.020025</td>\n",
       "    </tr>\n",
       "    <tr>\n",
       "      <th>130</th>\n",
       "      <td>Canada</td>\n",
       "      <td>USA</td>\n",
       "      <td>0.022234</td>\n",
       "    </tr>\n",
       "    <tr>\n",
       "      <th>92</th>\n",
       "      <td>Canada</td>\n",
       "      <td>USA</td>\n",
       "      <td>0.022234</td>\n",
       "    </tr>\n",
       "  </tbody>\n",
       "</table>\n",
       "</div>"
      ],
      "text/plain": [
       "          y pred y  prob_difference\n",
       "61      USA    USA         0.001719\n",
       "54      USA    USA         0.020025\n",
       "13      USA    USA         0.020025\n",
       "130  Canada    USA         0.022234\n",
       "92   Canada    USA         0.022234"
      ]
     },
     "execution_count": 60,
     "metadata": {},
     "output_type": "execute_result"
    }
   ],
   "source": [
    "lr_targets = pd.DataFrame({\"y\":y_train,\n",
    "                           \"pred y\": predict_y.tolist(),\n",
    "                           \"prob_difference\": (abs(y_proba[:,0] - y_proba[:,1])).tolist()})\n",
    "lr_targets.sort_values(by=\"prob_difference\").head()"
   ]
  },
  {
   "cell_type": "markdown",
   "metadata": {},
   "source": [
    "Here we can see that city 61 and 54 have the model pretty stumped. \n",
    "\n",
    "Let's plot them and see why."
   ]
  },
  {
   "cell_type": "code",
   "execution_count": 61,
   "metadata": {},
   "outputs": [
    {
     "data": {
      "text/html": [
       "<div>\n",
       "<style scoped>\n",
       "    .dataframe tbody tr th:only-of-type {\n",
       "        vertical-align: middle;\n",
       "    }\n",
       "\n",
       "    .dataframe tbody tr th {\n",
       "        vertical-align: top;\n",
       "    }\n",
       "\n",
       "    .dataframe thead th {\n",
       "        text-align: right;\n",
       "    }\n",
       "</style>\n",
       "<table border=\"1\" class=\"dataframe\">\n",
       "  <thead>\n",
       "    <tr style=\"text-align: right;\">\n",
       "      <th></th>\n",
       "      <th>longitude</th>\n",
       "      <th>latitude</th>\n",
       "      <th>country</th>\n",
       "    </tr>\n",
       "  </thead>\n",
       "  <tbody>\n",
       "    <tr>\n",
       "      <th>61</th>\n",
       "      <td>-87.9225</td>\n",
       "      <td>43.0350</td>\n",
       "      <td>USA</td>\n",
       "    </tr>\n",
       "    <tr>\n",
       "      <th>54</th>\n",
       "      <td>-83.0466</td>\n",
       "      <td>42.3316</td>\n",
       "      <td>USA</td>\n",
       "    </tr>\n",
       "  </tbody>\n",
       "</table>\n",
       "</div>"
      ],
      "text/plain": [
       "    longitude  latitude country\n",
       "61   -87.9225   43.0350     USA\n",
       "54   -83.0466   42.3316     USA"
      ]
     },
     "execution_count": 61,
     "metadata": {},
     "output_type": "execute_result"
    }
   ],
   "source": [
    "train_df.loc[[61, 54]]"
   ]
  },
  {
   "cell_type": "code",
   "execution_count": 62,
   "metadata": {},
   "outputs": [
    {
     "data": {
      "image/png": "[encoded data removed]",
      "text/plain": [
       "<Figure size 432x288 with 2 Axes>"
      ]
     },
     "metadata": {
      "needs_background": "light"
     },
     "output_type": "display_data"
    }
   ],
   "source": [
    "plot_classifier(X_train.loc[[61, 54]], y_train.loc[[61, 54]], lr, proba=True, ax=plt.gca(), ticks=True,  lims=(-115,-55,25,60))\n",
    "plt.xticks(fontsize= 14);\n",
    "plt.yticks(fontsize= 14);\n",
    "plt.xlabel(\"latitude\", fontsize=14); plt.ylabel(\"longitude\", fontsize=14)\n",
    "plt.title(\"Logistic regression - uncertain prediction\", fontsize=16);"
   ]
  },
  {
   "cell_type": "markdown",
   "metadata": {},
   "source": [
    "Plot the cities with the decision boundary, helps us understand why.\n",
    "\n",
    "The cities lie almost completely on the boundary, this makes the model very divided on how to classify them."
   ]
  },
  {
   "cell_type": "markdown",
   "metadata": {},
   "source": [
    "## Limitations of linear classifiers \n",
    "\n",
    "- Is your data \"linearly separable\"? Can you draw a hyperplane between these datapoints that separates them with low error? \n",
    "- If the training examples can be separated by a linear decision rule, they are **linearly separable**.\n",
    "\n",
    "... but sometimes are data just can't be linearly separated well and hence these models will not perform well. \n"
   ]
  },
  {
   "cell_type": "markdown",
   "metadata": {},
   "source": [
    "## Compare to naive Bayes\n",
    "\n",
    "- Both are simple, fast, probabilistic classifiers.\n",
    "- Both work well with large numbers of features.\n",
    "- Naive Bayes has overly strong conditional independence assumptions. So it is not great when features are correlated. \n",
    "- Logistic regression is much more robust to correlated features."
   ]
  },
  {
   "cell_type": "markdown",
   "metadata": {},
   "source": [
    "## Let's Practice \n",
    "\n",
    "1\\. We have the following text, which we wish to classify as either a positive or negative movie review.        \n",
    "Using the words below (which are features in our model) with associated coefficients, answer the next 2 questions.        \n",
    "The input for the feature value is the number of times the word appears in the review.     \n",
    "\n",
    "\n",
    "|   Word            | Coefficient | \n",
    "|--------------------|-------------|\n",
    "|excellent           | 2.2         | \n",
    "|disappointment      | -2.4        |\n",
    "|flawless            | 1.4         |\n",
    "|boring              | -1.3        |\n",
    "|unwatchable         | -1.7        |\n",
    "\n",
    "Intercept = 1.3    \n",
    "\n",
    "What value do you calculate after using the weights in the model above for the above review?     \n",
    "\n",
    "***I thought it was going to be excellent but instead, it was unwatchable and boring.***    \n",
    "\n",
    "The input feature value would be the number of times the word appears in the review (like `CountVectorizer`).   \n",
    "\n",
    "2\\. Would the model classify this review as a positive or negative review (classes are specified alphabetically) ?     \n",
    "We are trying to predict if a job applicant would be hired based on some features contained in their resume.     \n",
    "Below we have the output of `.predict_proba()` where column 0 shows the probability the model would predict \"hired\" and column 1 shows the probability the model would predict \"not hired\".     \n",
    "\n",
    "```\n",
    "array([[0.04971843, 0.95028157],\n",
    "       [0.94173513, 0.05826487],\n",
    "       [0.74133975, 0.25866025],\n",
    "       [0.13024982, 0.86975018],\n",
    "       [0.17126403, 0.82873597]])\n",
    "```\n",
    "\n",
    "Use this output to answer the following questions.        \n",
    "\n",
    "3\\. If we had used `.predict()` for these examples instead of `.predict_proba()`, how many of the examples would the model have predicted \"hired\"?     \n",
    "4\\. If the true class labels are below, how many examples would the model have correctly predicted with `predict()`?     \n",
    "\n",
    "```\n",
    "['hired', 'hired', 'hired', 'not hired', 'not hired']\n",
    "```\n",
    "\n",
    "**True or False:**        \n",
    "5\\. Increasing logistic regression's `C` hyperparameter increases the model's complexity.      \n",
    "6\\. Unlike with `Ridge` regression, coefficients are not interpretable with logistic regression.       \n",
    "7\\.  `predict` returns the positive class if the predicted probability of the positive class is greater than 0.5.       \n",
    "8\\. In logistic regression, a function is applied to convert the raw model output into probabilities.      \n"
   ]
  },
  {
   "cell_type": "markdown",
   "metadata": {},
   "source": [
    "```{admonition} Solutions!\n",
    ":class: dropdown\n",
    "\n",
    "1. 0.5\n",
    "2. Positive review\n",
    "3. 2\n",
    "4. 4\n",
    "5. True\n",
    "6. False\n",
    "7. True\n",
    "8. True\n",
    "```"
   ]
  },
  {
   "cell_type": "markdown",
   "metadata": {},
   "source": [
    "## Let's Practice - Coding\n",
    "\n",
    "Let’s import the Pokémon dataset from our `data` folder. We want to see how well our model does with logistic regression. Let’s try building a simple model with default parameters."
   ]
  },
  {
   "cell_type": "code",
   "execution_count": 63,
   "metadata": {},
   "outputs": [],
   "source": [
    "pk_df = pd.read_csv('data/pokemon.csv')\n",
    "\n",
    "train_df, test_df = train_test_split(pk_df, test_size=0.2, random_state=1)\n",
    "\n",
    "X_train = train_df.drop(columns=['legendary'])\n",
    "y_train = train_df['legendary']\n",
    "X_test = test_df.drop(columns=['legendary'])\n",
    "y_test = test_df['legendary']\n",
    "\n",
    "\n",
    "numeric_features = [\"attack\",\n",
    "                    \"defense\" ,\n",
    "                    \"sp_attack\",\n",
    "                    \"sp_defense\",\n",
    "                    \"speed\",\n",
    "                    \"capture_rt\"]\n",
    "\n",
    "drop_features = [\"type\", \"deck_no\", \"gen\", \"name\", \"total_bs\"]\n",
    "\n",
    "numeric_transformer = make_pipeline(\n",
    "    SimpleImputer(strategy=\"median\"),\n",
    "    StandardScaler())\n",
    "\n",
    "preprocessor = make_column_transformer(\n",
    "    (\"drop\", drop_features),\n",
    "    (numeric_transformer, numeric_features))"
   ]
  },
  {
   "cell_type": "markdown",
   "metadata": {},
   "source": [
    "1. Build and fit a pipeline containing the column transformer and a logistic regression model using the parameter class_weight=\"balanced\" (you will learn about this in lecture 9!).\n",
    "2. Score your model on the test set.\n",
    "3. Find the model’s feature coefficients and answer the below questions \n",
    "    a. Which feature contributes the most in predicting if an example is legendary or not.\n",
    "    b.As the capture rate value increases, will the model more likely predict a legendary or not legendary Pokémon?"
   ]
  },
  {
   "cell_type": "code",
   "execution_count": null,
   "metadata": {},
   "outputs": [],
   "source": []
  },
  {
   "cell_type": "markdown",
   "metadata": {},
   "source": [
    "## What We've Learned Today\n",
    "\n",
    "- The name of the function used to bound our values between 0 and 1\n",
    "- How `predict_proba` can be particularly useful when it comes to Logistic Regression. \n",
    "- The advantages and limitations of linear classifiers. \n",
    "- How to use `scikit-learn`'s `LogisticRegression` classifier.\n",
    "- One of the hyperparameters of `Ridge` (`alpha`)\n",
    "- One of the hyperparameters of `LogisticRegression` (`C`).\n",
    "- How logistic regression is compared to naive Bayes."
   ]
  },
  {
   "cell_type": "code",
   "execution_count": null,
   "metadata": {},
   "outputs": [],
   "source": []
  }
 ],
 "metadata": {
  "kernelspec": {
   "display_name": "Python 3",
   "language": "python",
   "name": "python3"
  },
  "language_info": {
   "codemirror_mode": {
    "name": "ipython",
    "version": 3
   },
   "file_extension": ".py",
   "mimetype": "text/x-python",
   "name": "python",
   "nbconvert_exporter": "python",
   "pygments_lexer": "ipython3",
   "version": "3.8.5"
  },
  "toc": {
   "base_numbering": 1,
   "nav_menu": {},
   "number_sections": true,
   "sideBar": true,
   "skip_h1_title": false,
   "title_cell": "Table of Contents",
   "title_sidebar": "Contents",
   "toc_cell": false,
   "toc_position": {
    "height": "calc(100% - 180px)",
    "left": "10px",
    "top": "150px",
    "width": "274.188px"
   },
   "toc_section_display": true,
   "toc_window_display": true
  }
 },
 "nbformat": 4,
 "nbformat_minor": 4
}
