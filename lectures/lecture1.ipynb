{
 "cells": [
  {
   "cell_type": "markdown",
   "metadata": {},
   "source": [
    "# Intro to ML &  Decision Trees"
   ]
  },
  {
   "cell_type": "markdown",
   "metadata": {},
   "source": [
    "## Welcome"
   ]
  },
  {
   "cell_type": "markdown",
   "metadata": {},
   "source": [
    "Welcome to Bait 509 - Business Application of Machine Learning!"
   ]
  },
  {
   "cell_type": "markdown",
   "metadata": {},
   "source": [
    "```{note}\n",
    "Buckle up because there are going to be a lot of new concepts here but in the lyrics of Trooper \"We're here for a good time, \n",
    "Not a long time\". \n",
    "```"
   ]
  },
  {
   "cell_type": "markdown",
   "metadata": {},
   "source": [
    "### Course Learning Objectives\n",
    "\n",
    "1.\tDescribe fundamental machine learning concepts such as: supervised and unsupervised learning, regression and classification, overfitting, training/validation/testing error, parameters and hyperparameters, and the golden rule.\n",
    "2.\tBroadly explain how common machine learning algorithms work, including: naïve Bayes, k-nearest neighbors, decision trees, support vector machines, and logistic regression.\n",
    "3.\tIdentify when and why to apply data pre-processing techniques such as scaling and one-hot encoding.\n",
    "4.\tUse Python and the scikit-learn package to develop an end-to-end supervised machine learning pipeline.\n",
    "5.\tApply and interpret machine learning methods to carry out supervised learning projects and to answer business objectives."
   ]
  },
  {
   "cell_type": "markdown",
   "metadata": {},
   "source": [
    "### Course Structure\n",
    "- 2 lectures per week (Synchonus lecture + class activity)\n",
    "- My office hours: 2-3 pm Thursday on Zoom\n",
    "- Course content available on [this website](https://bait509-ubc.github.io/BAIT509/intro.html) or on [Canvas](https://canvas.ubc.ca/courses/82520). \n",
    "- We will be using [Piazza](https://piazza.com/ubc.ca/winterterm22022/bait509ba12021w2) for discussions and questions.\n",
    "- Assessments:\n",
    "\n",
    "| Assessment       | Weight       | Due                            |\n",
    "|     :---:        | :---:        | :---:                          |\n",
    "| 3 Assignments    | 60%(20% each)| April 28th, May 10th, May 19th |\n",
    "| 1 Quiz           | 10%          | May 5th (24 hours to complete) |\n",
    "| Final Project    | 30%          | May 29th                       |\n",
    "\n",
    "\n",
    "All assessments will be submitted via Canvas."
   ]
  },
  {
   "cell_type": "markdown",
   "metadata": {},
   "source": [
    "### Python, Jupyter, Visualizations \n",
    "\n",
    "- In this course we be using Python and Jupyter notebooks for lectures as well as assignments. \n",
    "- I recommend using the [Miniconda distribution](https://docs.conda.io/en/latest/miniconda.html) to install and manage your Python package installations, but you are free to use either Anaconda or pip if you prefer that.\n",
    "- If you are using Miniconda or Anaconda, you can install a few key packages we will be using in the course, by typing the following at the command line (the \"Anaconda prompt\" on Windows, and the default terminal application on MacOS/Linux):\n",
    "    > `conda install xgboost jupyter altair seaborn`\n",
    "\n",
    "- Otherwise you can use pip and type the following at the command line: \n",
    "    > `pip install xgboost jupyter altair seaborn`\n",
    "\n",
    "- Some packages that we will make heavy use of are installed together with the packages above, most notably `pandas`, `numpy`, `matplotlib`, and `scikit-learn`.\n",
    "\n",
    "- We will be making visualizations for this course and I give the option of plotting using any Python library but I strongly recommend getting familiar with [`altair`](https://altair-viz.github.io/index.html). I have 2 very quick slide decks that teach you a bit about how to plot using `altair`. \n",
    "From the course [Programming in Python for Data Science](https://prog-learn.mds.ubc.ca/en/)\n",
    " - Module 1, exercise 31, 32, 33\n",
    " - Module 2, exercise 29, 30\n",
    " \n",
    "And if you want to dive further there is a whole course dedicated to visualizing plots using `altair` called [Data Visualization](https://viz-learn.mds.ubc.ca/en/)."
   ]
  },
  {
   "cell_type": "markdown",
   "metadata": {},
   "source": [
    "### Lecture Learning Objectives\n",
    "\n",
    "Don't worry if some of these terms don't make sense up front, they will after we have covered them during today's lecture.\n",
    "\n",
    "- Explain motivation to study machine learning.\n",
    "- Differentiate between supervised and unsupervised learning.\n",
    "- Differentiate between classification and regression problems.\n",
    "- Explain machine learning terminology such as features, targets, training, and error.\n",
    "- Explain the `.fit()` and `.predict()` paradigm and use `.score()` method of ML models.\n",
    "- Broadly describe how decision trees make predictions.\n",
    "- Use `DecisionTreeClassifier()` and `DecisionTreeRegressor()` to build decision trees using scikit-learn.\n",
    "- Explain the difference between parameters and hyperparameters.\n",
    "- Explain how decision boundaries change with `max_depth`."
   ]
  },
  {
   "cell_type": "markdown",
   "metadata": {},
   "source": [
    "## What is Machine Learning (ML)?"
   ]
  },
  {
   "cell_type": "markdown",
   "metadata": {},
   "source": [
    "Machine learning is all around us. You can find it in things like: \n",
    "\n",
    "\n",
    "![](imgs/examples.png)\n",
    "\n",
    "\n",
    "- Voice assistance\n",
    "- Google news\n",
    "- Recommender systems\n",
    "- Face recognition\n",
    "- Auto completion\n",
    "- Stock market predictions\n",
    "- Character recognition\n",
    "- Self-driving cars\n",
    "- Cancer diagnosis\n",
    "- Drug discovery"
   ]
  },
  {
   "cell_type": "markdown",
   "metadata": {},
   "source": [
    "Machine Learning can mean many different things to different people. In this course, we will stick to how it is defined in the seminal textbook [\"Introduction to Statistical Learning\"](https://www.statlearning.com/) which defines Statistical/Machine Learning as a \"*set of tools for making sense of complex datasets*\". As you can hear, this is still rather broad, and we will refine our understanding throughout this course. Let's start right now by looking at some specific examples of Machine Learning problems."
   ]
  },
  {
   "cell_type": "markdown",
   "metadata": {},
   "source": [
    "### Examples of Machine Learning \n",
    "\n",
    "*In all the the upcoming examples, Don't worry about the code. Just focus on the input and output in each example.*\n"
   ]
  },
  {
   "cell_type": "markdown",
   "metadata": {
    "tags": []
   },
   "source": [
    "#### Example 1: Predict Housing Prices\n",
    "**Data Attribution:** <a href=\"https://www.kaggle.com/harlfoxem/housesalesprediction\" target=\"_blank\">house sales prediction dataset.</a>"
   ]
  },
  {
   "cell_type": "markdown",
   "metadata": {},
   "source": [
    "First, let's read in and have a glance at the dataset we will be using."
   ]
  },
  {
   "cell_type": "code",
   "execution_count": 1,
   "metadata": {},
   "outputs": [
    {
     "data": {
      "text/html": [
       "<div>\n",
       "<style scoped>\n",
       "    .dataframe tbody tr th:only-of-type {\n",
       "        vertical-align: middle;\n",
       "    }\n",
       "\n",
       "    .dataframe tbody tr th {\n",
       "        vertical-align: top;\n",
       "    }\n",
       "\n",
       "    .dataframe thead th {\n",
       "        text-align: right;\n",
       "    }\n",
       "</style>\n",
       "<table border=\"1\" class=\"dataframe\">\n",
       "  <thead>\n",
       "    <tr style=\"text-align: right;\">\n",
       "      <th></th>\n",
       "      <th>price</th>\n",
       "      <th>bedrooms</th>\n",
       "      <th>bathrooms</th>\n",
       "      <th>sqft_living</th>\n",
       "      <th>sqft_lot</th>\n",
       "      <th>floors</th>\n",
       "      <th>waterfront</th>\n",
       "      <th>view</th>\n",
       "      <th>condition</th>\n",
       "      <th>grade</th>\n",
       "      <th>sqft_above</th>\n",
       "      <th>sqft_basement</th>\n",
       "      <th>yr_built</th>\n",
       "      <th>yr_renovated</th>\n",
       "      <th>zipcode</th>\n",
       "      <th>lat</th>\n",
       "      <th>long</th>\n",
       "      <th>sqft_living15</th>\n",
       "      <th>sqft_lot15</th>\n",
       "    </tr>\n",
       "  </thead>\n",
       "  <tbody>\n",
       "    <tr>\n",
       "      <th>0</th>\n",
       "      <td>221900.0</td>\n",
       "      <td>3</td>\n",
       "      <td>1.00</td>\n",
       "      <td>1180</td>\n",
       "      <td>5650</td>\n",
       "      <td>1.0</td>\n",
       "      <td>0</td>\n",
       "      <td>0</td>\n",
       "      <td>3</td>\n",
       "      <td>7</td>\n",
       "      <td>1180</td>\n",
       "      <td>0</td>\n",
       "      <td>1955</td>\n",
       "      <td>0</td>\n",
       "      <td>98178</td>\n",
       "      <td>47.5112</td>\n",
       "      <td>-122.257</td>\n",
       "      <td>1340</td>\n",
       "      <td>5650</td>\n",
       "    </tr>\n",
       "    <tr>\n",
       "      <th>1</th>\n",
       "      <td>538000.0</td>\n",
       "      <td>3</td>\n",
       "      <td>2.25</td>\n",
       "      <td>2570</td>\n",
       "      <td>7242</td>\n",
       "      <td>2.0</td>\n",
       "      <td>0</td>\n",
       "      <td>0</td>\n",
       "      <td>3</td>\n",
       "      <td>7</td>\n",
       "      <td>2170</td>\n",
       "      <td>400</td>\n",
       "      <td>1951</td>\n",
       "      <td>1991</td>\n",
       "      <td>98125</td>\n",
       "      <td>47.7210</td>\n",
       "      <td>-122.319</td>\n",
       "      <td>1690</td>\n",
       "      <td>7639</td>\n",
       "    </tr>\n",
       "    <tr>\n",
       "      <th>2</th>\n",
       "      <td>180000.0</td>\n",
       "      <td>2</td>\n",
       "      <td>1.00</td>\n",
       "      <td>770</td>\n",
       "      <td>10000</td>\n",
       "      <td>1.0</td>\n",
       "      <td>0</td>\n",
       "      <td>0</td>\n",
       "      <td>3</td>\n",
       "      <td>6</td>\n",
       "      <td>770</td>\n",
       "      <td>0</td>\n",
       "      <td>1933</td>\n",
       "      <td>0</td>\n",
       "      <td>98028</td>\n",
       "      <td>47.7379</td>\n",
       "      <td>-122.233</td>\n",
       "      <td>2720</td>\n",
       "      <td>8062</td>\n",
       "    </tr>\n",
       "    <tr>\n",
       "      <th>3</th>\n",
       "      <td>604000.0</td>\n",
       "      <td>4</td>\n",
       "      <td>3.00</td>\n",
       "      <td>1960</td>\n",
       "      <td>5000</td>\n",
       "      <td>1.0</td>\n",
       "      <td>0</td>\n",
       "      <td>0</td>\n",
       "      <td>5</td>\n",
       "      <td>7</td>\n",
       "      <td>1050</td>\n",
       "      <td>910</td>\n",
       "      <td>1965</td>\n",
       "      <td>0</td>\n",
       "      <td>98136</td>\n",
       "      <td>47.5208</td>\n",
       "      <td>-122.393</td>\n",
       "      <td>1360</td>\n",
       "      <td>5000</td>\n",
       "    </tr>\n",
       "    <tr>\n",
       "      <th>4</th>\n",
       "      <td>510000.0</td>\n",
       "      <td>3</td>\n",
       "      <td>2.00</td>\n",
       "      <td>1680</td>\n",
       "      <td>8080</td>\n",
       "      <td>1.0</td>\n",
       "      <td>0</td>\n",
       "      <td>0</td>\n",
       "      <td>3</td>\n",
       "      <td>8</td>\n",
       "      <td>1680</td>\n",
       "      <td>0</td>\n",
       "      <td>1987</td>\n",
       "      <td>0</td>\n",
       "      <td>98074</td>\n",
       "      <td>47.6168</td>\n",
       "      <td>-122.045</td>\n",
       "      <td>1800</td>\n",
       "      <td>7503</td>\n",
       "    </tr>\n",
       "    <tr>\n",
       "      <th>...</th>\n",
       "      <td>...</td>\n",
       "      <td>...</td>\n",
       "      <td>...</td>\n",
       "      <td>...</td>\n",
       "      <td>...</td>\n",
       "      <td>...</td>\n",
       "      <td>...</td>\n",
       "      <td>...</td>\n",
       "      <td>...</td>\n",
       "      <td>...</td>\n",
       "      <td>...</td>\n",
       "      <td>...</td>\n",
       "      <td>...</td>\n",
       "      <td>...</td>\n",
       "      <td>...</td>\n",
       "      <td>...</td>\n",
       "      <td>...</td>\n",
       "      <td>...</td>\n",
       "      <td>...</td>\n",
       "    </tr>\n",
       "    <tr>\n",
       "      <th>21608</th>\n",
       "      <td>360000.0</td>\n",
       "      <td>3</td>\n",
       "      <td>2.50</td>\n",
       "      <td>1530</td>\n",
       "      <td>1131</td>\n",
       "      <td>3.0</td>\n",
       "      <td>0</td>\n",
       "      <td>0</td>\n",
       "      <td>3</td>\n",
       "      <td>8</td>\n",
       "      <td>1530</td>\n",
       "      <td>0</td>\n",
       "      <td>2009</td>\n",
       "      <td>0</td>\n",
       "      <td>98103</td>\n",
       "      <td>47.6993</td>\n",
       "      <td>-122.346</td>\n",
       "      <td>1530</td>\n",
       "      <td>1509</td>\n",
       "    </tr>\n",
       "    <tr>\n",
       "      <th>21609</th>\n",
       "      <td>400000.0</td>\n",
       "      <td>4</td>\n",
       "      <td>2.50</td>\n",
       "      <td>2310</td>\n",
       "      <td>5813</td>\n",
       "      <td>2.0</td>\n",
       "      <td>0</td>\n",
       "      <td>0</td>\n",
       "      <td>3</td>\n",
       "      <td>8</td>\n",
       "      <td>2310</td>\n",
       "      <td>0</td>\n",
       "      <td>2014</td>\n",
       "      <td>0</td>\n",
       "      <td>98146</td>\n",
       "      <td>47.5107</td>\n",
       "      <td>-122.362</td>\n",
       "      <td>1830</td>\n",
       "      <td>7200</td>\n",
       "    </tr>\n",
       "    <tr>\n",
       "      <th>21610</th>\n",
       "      <td>402101.0</td>\n",
       "      <td>2</td>\n",
       "      <td>0.75</td>\n",
       "      <td>1020</td>\n",
       "      <td>1350</td>\n",
       "      <td>2.0</td>\n",
       "      <td>0</td>\n",
       "      <td>0</td>\n",
       "      <td>3</td>\n",
       "      <td>7</td>\n",
       "      <td>1020</td>\n",
       "      <td>0</td>\n",
       "      <td>2009</td>\n",
       "      <td>0</td>\n",
       "      <td>98144</td>\n",
       "      <td>47.5944</td>\n",
       "      <td>-122.299</td>\n",
       "      <td>1020</td>\n",
       "      <td>2007</td>\n",
       "    </tr>\n",
       "    <tr>\n",
       "      <th>21611</th>\n",
       "      <td>400000.0</td>\n",
       "      <td>3</td>\n",
       "      <td>2.50</td>\n",
       "      <td>1600</td>\n",
       "      <td>2388</td>\n",
       "      <td>2.0</td>\n",
       "      <td>0</td>\n",
       "      <td>0</td>\n",
       "      <td>3</td>\n",
       "      <td>8</td>\n",
       "      <td>1600</td>\n",
       "      <td>0</td>\n",
       "      <td>2004</td>\n",
       "      <td>0</td>\n",
       "      <td>98027</td>\n",
       "      <td>47.5345</td>\n",
       "      <td>-122.069</td>\n",
       "      <td>1410</td>\n",
       "      <td>1287</td>\n",
       "    </tr>\n",
       "    <tr>\n",
       "      <th>21612</th>\n",
       "      <td>325000.0</td>\n",
       "      <td>2</td>\n",
       "      <td>0.75</td>\n",
       "      <td>1020</td>\n",
       "      <td>1076</td>\n",
       "      <td>2.0</td>\n",
       "      <td>0</td>\n",
       "      <td>0</td>\n",
       "      <td>3</td>\n",
       "      <td>7</td>\n",
       "      <td>1020</td>\n",
       "      <td>0</td>\n",
       "      <td>2008</td>\n",
       "      <td>0</td>\n",
       "      <td>98144</td>\n",
       "      <td>47.5941</td>\n",
       "      <td>-122.299</td>\n",
       "      <td>1020</td>\n",
       "      <td>1357</td>\n",
       "    </tr>\n",
       "  </tbody>\n",
       "</table>\n",
       "<p>21613 rows × 19 columns</p>\n",
       "</div>"
      ],
      "text/plain": [
       "          price  bedrooms  bathrooms  sqft_living  sqft_lot  floors  \\\n",
       "0      221900.0         3       1.00         1180      5650     1.0   \n",
       "1      538000.0         3       2.25         2570      7242     2.0   \n",
       "2      180000.0         2       1.00          770     10000     1.0   \n",
       "3      604000.0         4       3.00         1960      5000     1.0   \n",
       "4      510000.0         3       2.00         1680      8080     1.0   \n",
       "...         ...       ...        ...          ...       ...     ...   \n",
       "21608  360000.0         3       2.50         1530      1131     3.0   \n",
       "21609  400000.0         4       2.50         2310      5813     2.0   \n",
       "21610  402101.0         2       0.75         1020      1350     2.0   \n",
       "21611  400000.0         3       2.50         1600      2388     2.0   \n",
       "21612  325000.0         2       0.75         1020      1076     2.0   \n",
       "\n",
       "       waterfront  view  condition  grade  sqft_above  sqft_basement  \\\n",
       "0               0     0          3      7        1180              0   \n",
       "1               0     0          3      7        2170            400   \n",
       "2               0     0          3      6         770              0   \n",
       "3               0     0          5      7        1050            910   \n",
       "4               0     0          3      8        1680              0   \n",
       "...           ...   ...        ...    ...         ...            ...   \n",
       "21608           0     0          3      8        1530              0   \n",
       "21609           0     0          3      8        2310              0   \n",
       "21610           0     0          3      7        1020              0   \n",
       "21611           0     0          3      8        1600              0   \n",
       "21612           0     0          3      7        1020              0   \n",
       "\n",
       "       yr_built  yr_renovated  zipcode      lat     long  sqft_living15  \\\n",
       "0          1955             0    98178  47.5112 -122.257           1340   \n",
       "1          1951          1991    98125  47.7210 -122.319           1690   \n",
       "2          1933             0    98028  47.7379 -122.233           2720   \n",
       "3          1965             0    98136  47.5208 -122.393           1360   \n",
       "4          1987             0    98074  47.6168 -122.045           1800   \n",
       "...         ...           ...      ...      ...      ...            ...   \n",
       "21608      2009             0    98103  47.6993 -122.346           1530   \n",
       "21609      2014             0    98146  47.5107 -122.362           1830   \n",
       "21610      2009             0    98144  47.5944 -122.299           1020   \n",
       "21611      2004             0    98027  47.5345 -122.069           1410   \n",
       "21612      2008             0    98144  47.5941 -122.299           1020   \n",
       "\n",
       "       sqft_lot15  \n",
       "0            5650  \n",
       "1            7639  \n",
       "2            8062  \n",
       "3            5000  \n",
       "4            7503  \n",
       "...           ...  \n",
       "21608        1509  \n",
       "21609        7200  \n",
       "21610        2007  \n",
       "21611        1287  \n",
       "21612        1357  \n",
       "\n",
       "[21613 rows x 19 columns]"
      ]
     },
     "execution_count": 1,
     "metadata": {},
     "output_type": "execute_result"
    }
   ],
   "source": [
    "import pandas as pd\n",
    "\n",
    "df = pd.read_csv(\"data/kc_house_data.csv\").drop(columns=[\"id\", \"date\"])\n",
    "df"
   ]
  },
  {
   "cell_type": "markdown",
   "metadata": {},
   "source": [
    "The next step is to divide the rows of the data in one subset that we will use for training the model\n",
    "and one subset that we will use for testing/evaluating the model.\n",
    "We will also divide the columns into the ones we want to use as the input \"features\"\n",
    "and the one(s) we are trying to predict, the output \"target\".\n",
    "By convention we call the input features `X`\n",
    "and the target that we are trying to predict for `y`.\n",
    "Here we want to try to predict the price columns\n",
    "using the information from all the other columns in the data."
   ]
  },
  {
   "cell_type": "code",
   "execution_count": 2,
   "metadata": {},
   "outputs": [],
   "source": [
    "from sklearn.model_selection import train_test_split\n",
    "\n",
    "# Split the rows into train and test\n",
    "train_df, test_df = train_test_split(df, test_size=0.2, random_state=4)\n",
    "\n",
    "# Split the columns into intput (X) and output (y)\n",
    "X_train = train_df.drop(columns=[\"price\"])\n",
    "y_train = train_df[\"price\"]\n",
    "X_test = test_df.drop(columns=[\"price\"])\n",
    "y_test = test_df[\"price\"]"
   ]
  },
  {
   "cell_type": "markdown",
   "metadata": {},
   "source": [
    "Next let's train a of our choice model using the dedicated training data.\n",
    "Here we are using a model called xgboost,\n",
    "and since we are trying to predict a numerical value,\n",
    "we are using the regression xgboost model.\n",
    "You will see below that a description of the model is outputted\n",
    "when the code is run,\n",
    "but for now we don't need to worry about what this means."
   ]
  },
  {
   "cell_type": "code",
   "execution_count": 3,
   "metadata": {},
   "outputs": [],
   "source": [
    "from xgboost import XGBRegressor\n",
    "\n",
    "model = XGBRegressor()\n",
    "model.fit(X_train, y_train);"
   ]
  },
  {
   "cell_type": "markdown",
   "metadata": {},
   "source": [
    "Finally we want to check how well our model performed.\n",
    "First we will just eyeball the predicted the prices for the test data\n",
    "and compare them to the actual prices."
   ]
  },
  {
   "cell_type": "code",
   "execution_count": 4,
   "metadata": {},
   "outputs": [
    {
     "data": {
      "text/html": [
       "<div>\n",
       "<style scoped>\n",
       "    .dataframe tbody tr th:only-of-type {\n",
       "        vertical-align: middle;\n",
       "    }\n",
       "\n",
       "    .dataframe tbody tr th {\n",
       "        vertical-align: top;\n",
       "    }\n",
       "\n",
       "    .dataframe thead th {\n",
       "        text-align: right;\n",
       "    }\n",
       "</style>\n",
       "<table border=\"1\" class=\"dataframe\">\n",
       "  <thead>\n",
       "    <tr style=\"text-align: right;\">\n",
       "      <th></th>\n",
       "      <th>predicted_price</th>\n",
       "      <th>actual_price</th>\n",
       "      <th>bedrooms</th>\n",
       "      <th>bathrooms</th>\n",
       "      <th>sqft_living</th>\n",
       "      <th>sqft_lot</th>\n",
       "      <th>floors</th>\n",
       "      <th>waterfront</th>\n",
       "      <th>view</th>\n",
       "      <th>condition</th>\n",
       "      <th>grade</th>\n",
       "      <th>sqft_above</th>\n",
       "      <th>sqft_basement</th>\n",
       "      <th>yr_built</th>\n",
       "      <th>yr_renovated</th>\n",
       "      <th>zipcode</th>\n",
       "      <th>lat</th>\n",
       "      <th>long</th>\n",
       "      <th>sqft_living15</th>\n",
       "      <th>sqft_lot15</th>\n",
       "    </tr>\n",
       "  </thead>\n",
       "  <tbody>\n",
       "    <tr>\n",
       "      <th>13248</th>\n",
       "      <td>333981.62500</td>\n",
       "      <td>311100.0</td>\n",
       "      <td>4</td>\n",
       "      <td>2.25</td>\n",
       "      <td>2130</td>\n",
       "      <td>8078</td>\n",
       "      <td>1.0</td>\n",
       "      <td>0</td>\n",
       "      <td>0</td>\n",
       "      <td>4</td>\n",
       "      <td>7</td>\n",
       "      <td>1380</td>\n",
       "      <td>750</td>\n",
       "      <td>1977</td>\n",
       "      <td>0</td>\n",
       "      <td>98055</td>\n",
       "      <td>47.4482</td>\n",
       "      <td>-122.209</td>\n",
       "      <td>2300</td>\n",
       "      <td>8112</td>\n",
       "    </tr>\n",
       "    <tr>\n",
       "      <th>5309</th>\n",
       "      <td>615222.43750</td>\n",
       "      <td>535000.0</td>\n",
       "      <td>3</td>\n",
       "      <td>2.50</td>\n",
       "      <td>2210</td>\n",
       "      <td>7620</td>\n",
       "      <td>2.0</td>\n",
       "      <td>0</td>\n",
       "      <td>0</td>\n",
       "      <td>3</td>\n",
       "      <td>8</td>\n",
       "      <td>2210</td>\n",
       "      <td>0</td>\n",
       "      <td>1994</td>\n",
       "      <td>0</td>\n",
       "      <td>98052</td>\n",
       "      <td>47.6938</td>\n",
       "      <td>-122.130</td>\n",
       "      <td>1920</td>\n",
       "      <td>7440</td>\n",
       "    </tr>\n",
       "    <tr>\n",
       "      <th>10962</th>\n",
       "      <td>329770.06250</td>\n",
       "      <td>271000.0</td>\n",
       "      <td>4</td>\n",
       "      <td>1.50</td>\n",
       "      <td>1800</td>\n",
       "      <td>9576</td>\n",
       "      <td>1.0</td>\n",
       "      <td>0</td>\n",
       "      <td>0</td>\n",
       "      <td>4</td>\n",
       "      <td>7</td>\n",
       "      <td>1800</td>\n",
       "      <td>0</td>\n",
       "      <td>1977</td>\n",
       "      <td>0</td>\n",
       "      <td>98045</td>\n",
       "      <td>47.4664</td>\n",
       "      <td>-121.747</td>\n",
       "      <td>1370</td>\n",
       "      <td>9576</td>\n",
       "    </tr>\n",
       "    <tr>\n",
       "      <th>20976</th>\n",
       "      <td>565091.62500</td>\n",
       "      <td>705000.0</td>\n",
       "      <td>3</td>\n",
       "      <td>2.50</td>\n",
       "      <td>1580</td>\n",
       "      <td>1321</td>\n",
       "      <td>2.0</td>\n",
       "      <td>0</td>\n",
       "      <td>2</td>\n",
       "      <td>3</td>\n",
       "      <td>8</td>\n",
       "      <td>1080</td>\n",
       "      <td>500</td>\n",
       "      <td>2014</td>\n",
       "      <td>0</td>\n",
       "      <td>98107</td>\n",
       "      <td>47.6688</td>\n",
       "      <td>-122.402</td>\n",
       "      <td>1530</td>\n",
       "      <td>1357</td>\n",
       "    </tr>\n",
       "    <tr>\n",
       "      <th>19957</th>\n",
       "      <td>807697.87500</td>\n",
       "      <td>840000.0</td>\n",
       "      <td>2</td>\n",
       "      <td>2.50</td>\n",
       "      <td>1680</td>\n",
       "      <td>975</td>\n",
       "      <td>3.0</td>\n",
       "      <td>0</td>\n",
       "      <td>0</td>\n",
       "      <td>3</td>\n",
       "      <td>9</td>\n",
       "      <td>1680</td>\n",
       "      <td>0</td>\n",
       "      <td>2009</td>\n",
       "      <td>0</td>\n",
       "      <td>98119</td>\n",
       "      <td>47.6321</td>\n",
       "      <td>-122.361</td>\n",
       "      <td>1680</td>\n",
       "      <td>977</td>\n",
       "    </tr>\n",
       "    <tr>\n",
       "      <th>...</th>\n",
       "      <td>...</td>\n",
       "      <td>...</td>\n",
       "      <td>...</td>\n",
       "      <td>...</td>\n",
       "      <td>...</td>\n",
       "      <td>...</td>\n",
       "      <td>...</td>\n",
       "      <td>...</td>\n",
       "      <td>...</td>\n",
       "      <td>...</td>\n",
       "      <td>...</td>\n",
       "      <td>...</td>\n",
       "      <td>...</td>\n",
       "      <td>...</td>\n",
       "      <td>...</td>\n",
       "      <td>...</td>\n",
       "      <td>...</td>\n",
       "      <td>...</td>\n",
       "      <td>...</td>\n",
       "      <td>...</td>\n",
       "    </tr>\n",
       "    <tr>\n",
       "      <th>8527</th>\n",
       "      <td>820445.50000</td>\n",
       "      <td>610000.0</td>\n",
       "      <td>4</td>\n",
       "      <td>2.75</td>\n",
       "      <td>2640</td>\n",
       "      <td>8400</td>\n",
       "      <td>1.0</td>\n",
       "      <td>0</td>\n",
       "      <td>2</td>\n",
       "      <td>3</td>\n",
       "      <td>8</td>\n",
       "      <td>1440</td>\n",
       "      <td>1200</td>\n",
       "      <td>1947</td>\n",
       "      <td>0</td>\n",
       "      <td>98144</td>\n",
       "      <td>47.5882</td>\n",
       "      <td>-122.290</td>\n",
       "      <td>2610</td>\n",
       "      <td>6000</td>\n",
       "    </tr>\n",
       "    <tr>\n",
       "      <th>16521</th>\n",
       "      <td>244517.59375</td>\n",
       "      <td>187000.0</td>\n",
       "      <td>3</td>\n",
       "      <td>2.50</td>\n",
       "      <td>1730</td>\n",
       "      <td>1803</td>\n",
       "      <td>2.0</td>\n",
       "      <td>0</td>\n",
       "      <td>0</td>\n",
       "      <td>3</td>\n",
       "      <td>7</td>\n",
       "      <td>1730</td>\n",
       "      <td>0</td>\n",
       "      <td>2005</td>\n",
       "      <td>0</td>\n",
       "      <td>98166</td>\n",
       "      <td>47.4648</td>\n",
       "      <td>-122.335</td>\n",
       "      <td>1190</td>\n",
       "      <td>7980</td>\n",
       "    </tr>\n",
       "    <tr>\n",
       "      <th>17198</th>\n",
       "      <td>294955.50000</td>\n",
       "      <td>305000.0</td>\n",
       "      <td>3</td>\n",
       "      <td>2.00</td>\n",
       "      <td>1490</td>\n",
       "      <td>7697</td>\n",
       "      <td>1.0</td>\n",
       "      <td>0</td>\n",
       "      <td>0</td>\n",
       "      <td>3</td>\n",
       "      <td>7</td>\n",
       "      <td>1490</td>\n",
       "      <td>0</td>\n",
       "      <td>1994</td>\n",
       "      <td>0</td>\n",
       "      <td>98059</td>\n",
       "      <td>47.4852</td>\n",
       "      <td>-122.164</td>\n",
       "      <td>1540</td>\n",
       "      <td>7529</td>\n",
       "    </tr>\n",
       "    <tr>\n",
       "      <th>7539</th>\n",
       "      <td>936004.12500</td>\n",
       "      <td>809000.0</td>\n",
       "      <td>4</td>\n",
       "      <td>1.50</td>\n",
       "      <td>1840</td>\n",
       "      <td>4337</td>\n",
       "      <td>2.0</td>\n",
       "      <td>0</td>\n",
       "      <td>0</td>\n",
       "      <td>4</td>\n",
       "      <td>8</td>\n",
       "      <td>1840</td>\n",
       "      <td>0</td>\n",
       "      <td>1917</td>\n",
       "      <td>0</td>\n",
       "      <td>98112</td>\n",
       "      <td>47.6312</td>\n",
       "      <td>-122.307</td>\n",
       "      <td>2250</td>\n",
       "      <td>4337</td>\n",
       "    </tr>\n",
       "    <tr>\n",
       "      <th>4853</th>\n",
       "      <td>787805.25000</td>\n",
       "      <td>840000.0</td>\n",
       "      <td>4</td>\n",
       "      <td>2.25</td>\n",
       "      <td>2100</td>\n",
       "      <td>3671</td>\n",
       "      <td>1.5</td>\n",
       "      <td>0</td>\n",
       "      <td>0</td>\n",
       "      <td>3</td>\n",
       "      <td>8</td>\n",
       "      <td>1750</td>\n",
       "      <td>350</td>\n",
       "      <td>1929</td>\n",
       "      <td>0</td>\n",
       "      <td>98112</td>\n",
       "      <td>47.6359</td>\n",
       "      <td>-122.300</td>\n",
       "      <td>1800</td>\n",
       "      <td>4560</td>\n",
       "    </tr>\n",
       "  </tbody>\n",
       "</table>\n",
       "<p>4323 rows × 20 columns</p>\n",
       "</div>"
      ],
      "text/plain": [
       "       predicted_price  actual_price  bedrooms  bathrooms  sqft_living  \\\n",
       "13248     333981.62500      311100.0         4       2.25         2130   \n",
       "5309      615222.43750      535000.0         3       2.50         2210   \n",
       "10962     329770.06250      271000.0         4       1.50         1800   \n",
       "20976     565091.62500      705000.0         3       2.50         1580   \n",
       "19957     807697.87500      840000.0         2       2.50         1680   \n",
       "...                ...           ...       ...        ...          ...   \n",
       "8527      820445.50000      610000.0         4       2.75         2640   \n",
       "16521     244517.59375      187000.0         3       2.50         1730   \n",
       "17198     294955.50000      305000.0         3       2.00         1490   \n",
       "7539      936004.12500      809000.0         4       1.50         1840   \n",
       "4853      787805.25000      840000.0         4       2.25         2100   \n",
       "\n",
       "       sqft_lot  floors  waterfront  view  condition  grade  sqft_above  \\\n",
       "13248      8078     1.0           0     0          4      7        1380   \n",
       "5309       7620     2.0           0     0          3      8        2210   \n",
       "10962      9576     1.0           0     0          4      7        1800   \n",
       "20976      1321     2.0           0     2          3      8        1080   \n",
       "19957       975     3.0           0     0          3      9        1680   \n",
       "...         ...     ...         ...   ...        ...    ...         ...   \n",
       "8527       8400     1.0           0     2          3      8        1440   \n",
       "16521      1803     2.0           0     0          3      7        1730   \n",
       "17198      7697     1.0           0     0          3      7        1490   \n",
       "7539       4337     2.0           0     0          4      8        1840   \n",
       "4853       3671     1.5           0     0          3      8        1750   \n",
       "\n",
       "       sqft_basement  yr_built  yr_renovated  zipcode      lat     long  \\\n",
       "13248            750      1977             0    98055  47.4482 -122.209   \n",
       "5309               0      1994             0    98052  47.6938 -122.130   \n",
       "10962              0      1977             0    98045  47.4664 -121.747   \n",
       "20976            500      2014             0    98107  47.6688 -122.402   \n",
       "19957              0      2009             0    98119  47.6321 -122.361   \n",
       "...              ...       ...           ...      ...      ...      ...   \n",
       "8527            1200      1947             0    98144  47.5882 -122.290   \n",
       "16521              0      2005             0    98166  47.4648 -122.335   \n",
       "17198              0      1994             0    98059  47.4852 -122.164   \n",
       "7539               0      1917             0    98112  47.6312 -122.307   \n",
       "4853             350      1929             0    98112  47.6359 -122.300   \n",
       "\n",
       "       sqft_living15  sqft_lot15  \n",
       "13248           2300        8112  \n",
       "5309            1920        7440  \n",
       "10962           1370        9576  \n",
       "20976           1530        1357  \n",
       "19957           1680         977  \n",
       "...              ...         ...  \n",
       "8527            2610        6000  \n",
       "16521           1190        7980  \n",
       "17198           1540        7529  \n",
       "7539            2250        4337  \n",
       "4853            1800        4560  \n",
       "\n",
       "[4323 rows x 20 columns]"
      ]
     },
     "execution_count": 4,
     "metadata": {},
     "output_type": "execute_result"
    }
   ],
   "source": [
    "pred_df = pd.DataFrame({\n",
    "    \"predicted_price\": model.predict(X_test),\n",
    "    \"actual_price\": y_test\n",
    "})\n",
    "pred_df.join(X_test)"
   ]
  },
  {
   "cell_type": "markdown",
   "metadata": {},
   "source": [
    "From this quick glance at the results,\n",
    "the model seems to do OK\n",
    "in the sense that it largely understand which houses should be valued more or less,\n",
    "but the exact values are still a bit off.\n",
    "\n",
    "There are format metrics to more accurately describe how well our model performed.\n",
    "We will talk more about this later,\n",
    "but the general idea is that we can get a number between 0-1\n",
    "on how good our model is in general\n",
    "instead of having to look at the prediction for each row individually."
   ]
  },
  {
   "cell_type": "code",
   "execution_count": 5,
   "metadata": {},
   "outputs": [
    {
     "data": {
      "text/plain": [
       "0.8880546138276236"
      ]
     },
     "execution_count": 5,
     "metadata": {},
     "output_type": "execute_result"
    }
   ],
   "source": [
    "model.score(X_test, y_test)"
   ]
  },
  {
   "cell_type": "markdown",
   "metadata": {},
   "source": [
    "#### Example 2: Predict Creditcard Default \n",
    "\n",
    "**Data Attribution:** <a href=\"https://www.kaggle.com/mlg-ulb/creditcardfraud\" target=\"_blank\">credit card fraud detection data set</a>\n",
    "\n",
    "Here we will go through the same steps as in the example above,\n",
    "but rather than trying to determine an exact numerical value,\n",
    "we are trying to determine a categorical outcome.\n",
    "In this case we are trying to predict whether a person is likely to default (class = 1) or not (class = 0)\n",
    "on their credit card\n",
    "given a bunch of input features.\n",
    "Note that although we don't know what the input features are,\n",
    "the model might still use them\n",
    "to find which values of which input features are related to defaulting on your credit card."
   ]
  },
  {
   "cell_type": "code",
   "execution_count": 6,
   "metadata": {},
   "outputs": [
    {
     "data": {
      "text/html": [
       "<div>\n",
       "<style scoped>\n",
       "    .dataframe tbody tr th:only-of-type {\n",
       "        vertical-align: middle;\n",
       "    }\n",
       "\n",
       "    .dataframe tbody tr th {\n",
       "        vertical-align: top;\n",
       "    }\n",
       "\n",
       "    .dataframe thead th {\n",
       "        text-align: right;\n",
       "    }\n",
       "</style>\n",
       "<table border=\"1\" class=\"dataframe\">\n",
       "  <thead>\n",
       "    <tr style=\"text-align: right;\">\n",
       "      <th></th>\n",
       "      <th>Time</th>\n",
       "      <th>V1</th>\n",
       "      <th>V2</th>\n",
       "      <th>V3</th>\n",
       "      <th>V4</th>\n",
       "      <th>V5</th>\n",
       "      <th>V6</th>\n",
       "      <th>V7</th>\n",
       "      <th>V8</th>\n",
       "      <th>V9</th>\n",
       "      <th>...</th>\n",
       "      <th>V21</th>\n",
       "      <th>V22</th>\n",
       "      <th>V23</th>\n",
       "      <th>V24</th>\n",
       "      <th>V25</th>\n",
       "      <th>V26</th>\n",
       "      <th>V27</th>\n",
       "      <th>V28</th>\n",
       "      <th>Amount</th>\n",
       "      <th>Class</th>\n",
       "    </tr>\n",
       "  </thead>\n",
       "  <tbody>\n",
       "    <tr>\n",
       "      <th>77244</th>\n",
       "      <td>148572.0</td>\n",
       "      <td>-2.192803</td>\n",
       "      <td>-1.184063</td>\n",
       "      <td>-0.587411</td>\n",
       "      <td>-0.624137</td>\n",
       "      <td>2.856276</td>\n",
       "      <td>-2.058827</td>\n",
       "      <td>0.253898</td>\n",
       "      <td>-0.361502</td>\n",
       "      <td>0.473344</td>\n",
       "      <td>...</td>\n",
       "      <td>-0.006427</td>\n",
       "      <td>0.627750</td>\n",
       "      <td>-0.634097</td>\n",
       "      <td>0.693558</td>\n",
       "      <td>-0.258117</td>\n",
       "      <td>-0.753612</td>\n",
       "      <td>0.538571</td>\n",
       "      <td>0.305432</td>\n",
       "      <td>94.47</td>\n",
       "      <td>0</td>\n",
       "    </tr>\n",
       "    <tr>\n",
       "      <th>112513</th>\n",
       "      <td>97024.0</td>\n",
       "      <td>-1.958810</td>\n",
       "      <td>0.992661</td>\n",
       "      <td>0.229305</td>\n",
       "      <td>3.158607</td>\n",
       "      <td>2.590061</td>\n",
       "      <td>-1.197520</td>\n",
       "      <td>1.031590</td>\n",
       "      <td>0.102072</td>\n",
       "      <td>-1.639767</td>\n",
       "      <td>...</td>\n",
       "      <td>0.300789</td>\n",
       "      <td>0.423192</td>\n",
       "      <td>-0.680045</td>\n",
       "      <td>1.130778</td>\n",
       "      <td>1.439294</td>\n",
       "      <td>0.377042</td>\n",
       "      <td>-0.209320</td>\n",
       "      <td>-0.242601</td>\n",
       "      <td>1.51</td>\n",
       "      <td>0</td>\n",
       "    </tr>\n",
       "    <tr>\n",
       "      <th>98163</th>\n",
       "      <td>138463.0</td>\n",
       "      <td>0.123289</td>\n",
       "      <td>1.079440</td>\n",
       "      <td>-0.466330</td>\n",
       "      <td>-0.420373</td>\n",
       "      <td>1.105829</td>\n",
       "      <td>-0.739383</td>\n",
       "      <td>1.156067</td>\n",
       "      <td>-0.392044</td>\n",
       "      <td>-0.146092</td>\n",
       "      <td>...</td>\n",
       "      <td>0.270423</td>\n",
       "      <td>1.183270</td>\n",
       "      <td>-0.297665</td>\n",
       "      <td>-0.437083</td>\n",
       "      <td>-0.337571</td>\n",
       "      <td>-0.177253</td>\n",
       "      <td>0.097323</td>\n",
       "      <td>-0.046671</td>\n",
       "      <td>8.39</td>\n",
       "      <td>0</td>\n",
       "    </tr>\n",
       "    <tr>\n",
       "      <th>16889</th>\n",
       "      <td>148014.0</td>\n",
       "      <td>2.205836</td>\n",
       "      <td>0.170743</td>\n",
       "      <td>-2.480998</td>\n",
       "      <td>-0.183286</td>\n",
       "      <td>1.001373</td>\n",
       "      <td>-1.222709</td>\n",
       "      <td>0.852123</td>\n",
       "      <td>-0.604090</td>\n",
       "      <td>0.151221</td>\n",
       "      <td>...</td>\n",
       "      <td>0.089298</td>\n",
       "      <td>0.454132</td>\n",
       "      <td>-0.180294</td>\n",
       "      <td>-0.921876</td>\n",
       "      <td>0.604957</td>\n",
       "      <td>0.300060</td>\n",
       "      <td>-0.082035</td>\n",
       "      <td>-0.087539</td>\n",
       "      <td>3.85</td>\n",
       "      <td>0</td>\n",
       "    </tr>\n",
       "    <tr>\n",
       "      <th>30631</th>\n",
       "      <td>168840.0</td>\n",
       "      <td>-1.233511</td>\n",
       "      <td>-0.769039</td>\n",
       "      <td>-0.311892</td>\n",
       "      <td>-0.751171</td>\n",
       "      <td>-0.212926</td>\n",
       "      <td>-0.962064</td>\n",
       "      <td>0.092553</td>\n",
       "      <td>0.402238</td>\n",
       "      <td>-1.286992</td>\n",
       "      <td>...</td>\n",
       "      <td>0.290688</td>\n",
       "      <td>0.833095</td>\n",
       "      <td>0.186440</td>\n",
       "      <td>-0.007625</td>\n",
       "      <td>-0.434240</td>\n",
       "      <td>-0.080610</td>\n",
       "      <td>0.320599</td>\n",
       "      <td>0.074183</td>\n",
       "      <td>147.50</td>\n",
       "      <td>0</td>\n",
       "    </tr>\n",
       "    <tr>\n",
       "      <th>...</th>\n",
       "      <td>...</td>\n",
       "      <td>...</td>\n",
       "      <td>...</td>\n",
       "      <td>...</td>\n",
       "      <td>...</td>\n",
       "      <td>...</td>\n",
       "      <td>...</td>\n",
       "      <td>...</td>\n",
       "      <td>...</td>\n",
       "      <td>...</td>\n",
       "      <td>...</td>\n",
       "      <td>...</td>\n",
       "      <td>...</td>\n",
       "      <td>...</td>\n",
       "      <td>...</td>\n",
       "      <td>...</td>\n",
       "      <td>...</td>\n",
       "      <td>...</td>\n",
       "      <td>...</td>\n",
       "      <td>...</td>\n",
       "      <td>...</td>\n",
       "    </tr>\n",
       "    <tr>\n",
       "      <th>84485</th>\n",
       "      <td>41258.0</td>\n",
       "      <td>1.157116</td>\n",
       "      <td>-0.227916</td>\n",
       "      <td>1.122789</td>\n",
       "      <td>0.671485</td>\n",
       "      <td>-0.872917</td>\n",
       "      <td>0.213669</td>\n",
       "      <td>-0.731842</td>\n",
       "      <td>0.241341</td>\n",
       "      <td>0.694209</td>\n",
       "      <td>...</td>\n",
       "      <td>-0.060517</td>\n",
       "      <td>-0.020915</td>\n",
       "      <td>-0.024279</td>\n",
       "      <td>0.046264</td>\n",
       "      <td>0.267848</td>\n",
       "      <td>0.319370</td>\n",
       "      <td>0.012120</td>\n",
       "      <td>0.014212</td>\n",
       "      <td>11.49</td>\n",
       "      <td>0</td>\n",
       "    </tr>\n",
       "    <tr>\n",
       "      <th>60723</th>\n",
       "      <td>22476.0</td>\n",
       "      <td>1.314683</td>\n",
       "      <td>0.188203</td>\n",
       "      <td>-1.150419</td>\n",
       "      <td>-0.279736</td>\n",
       "      <td>2.213941</td>\n",
       "      <td>3.228529</td>\n",
       "      <td>-0.598057</td>\n",
       "      <td>0.724365</td>\n",
       "      <td>1.210910</td>\n",
       "      <td>...</td>\n",
       "      <td>-0.493294</td>\n",
       "      <td>-1.334642</td>\n",
       "      <td>0.107215</td>\n",
       "      <td>0.885085</td>\n",
       "      <td>0.346663</td>\n",
       "      <td>0.072047</td>\n",
       "      <td>-0.048533</td>\n",
       "      <td>0.017192</td>\n",
       "      <td>1.79</td>\n",
       "      <td>0</td>\n",
       "    </tr>\n",
       "    <tr>\n",
       "      <th>39885</th>\n",
       "      <td>143578.0</td>\n",
       "      <td>1.761024</td>\n",
       "      <td>-1.325650</td>\n",
       "      <td>-1.875881</td>\n",
       "      <td>-0.641276</td>\n",
       "      <td>0.205655</td>\n",
       "      <td>0.844432</td>\n",
       "      <td>-0.280825</td>\n",
       "      <td>0.202457</td>\n",
       "      <td>-0.696063</td>\n",
       "      <td>...</td>\n",
       "      <td>-0.353462</td>\n",
       "      <td>-0.740336</td>\n",
       "      <td>0.172985</td>\n",
       "      <td>-1.664172</td>\n",
       "      <td>-0.472072</td>\n",
       "      <td>0.579761</td>\n",
       "      <td>-0.060095</td>\n",
       "      <td>-0.066952</td>\n",
       "      <td>162.47</td>\n",
       "      <td>0</td>\n",
       "    </tr>\n",
       "    <tr>\n",
       "      <th>5043</th>\n",
       "      <td>142589.0</td>\n",
       "      <td>1.381656</td>\n",
       "      <td>-2.291059</td>\n",
       "      <td>-1.357021</td>\n",
       "      <td>-0.960894</td>\n",
       "      <td>-0.337165</td>\n",
       "      <td>1.837831</td>\n",
       "      <td>-0.860187</td>\n",
       "      <td>0.524134</td>\n",
       "      <td>0.025136</td>\n",
       "      <td>...</td>\n",
       "      <td>0.066074</td>\n",
       "      <td>-0.517941</td>\n",
       "      <td>0.157722</td>\n",
       "      <td>-0.989422</td>\n",
       "      <td>-0.771393</td>\n",
       "      <td>-0.524638</td>\n",
       "      <td>-0.021692</td>\n",
       "      <td>-0.006208</td>\n",
       "      <td>353.36</td>\n",
       "      <td>0</td>\n",
       "    </tr>\n",
       "    <tr>\n",
       "      <th>50693</th>\n",
       "      <td>52408.0</td>\n",
       "      <td>-1.121774</td>\n",
       "      <td>1.046825</td>\n",
       "      <td>1.449851</td>\n",
       "      <td>-0.853597</td>\n",
       "      <td>-0.697472</td>\n",
       "      <td>-0.891311</td>\n",
       "      <td>-0.019569</td>\n",
       "      <td>0.531940</td>\n",
       "      <td>-0.019775</td>\n",
       "      <td>...</td>\n",
       "      <td>-0.095875</td>\n",
       "      <td>-0.278814</td>\n",
       "      <td>0.167095</td>\n",
       "      <td>0.637857</td>\n",
       "      <td>-0.326769</td>\n",
       "      <td>0.659947</td>\n",
       "      <td>0.175923</td>\n",
       "      <td>0.061234</td>\n",
       "      <td>4.13</td>\n",
       "      <td>0</td>\n",
       "    </tr>\n",
       "  </tbody>\n",
       "</table>\n",
       "<p>10000 rows × 31 columns</p>\n",
       "</div>"
      ],
      "text/plain": [
       "            Time        V1        V2        V3        V4        V5        V6  \\\n",
       "77244   148572.0 -2.192803 -1.184063 -0.587411 -0.624137  2.856276 -2.058827   \n",
       "112513   97024.0 -1.958810  0.992661  0.229305  3.158607  2.590061 -1.197520   \n",
       "98163   138463.0  0.123289  1.079440 -0.466330 -0.420373  1.105829 -0.739383   \n",
       "16889   148014.0  2.205836  0.170743 -2.480998 -0.183286  1.001373 -1.222709   \n",
       "30631   168840.0 -1.233511 -0.769039 -0.311892 -0.751171 -0.212926 -0.962064   \n",
       "...          ...       ...       ...       ...       ...       ...       ...   \n",
       "84485    41258.0  1.157116 -0.227916  1.122789  0.671485 -0.872917  0.213669   \n",
       "60723    22476.0  1.314683  0.188203 -1.150419 -0.279736  2.213941  3.228529   \n",
       "39885   143578.0  1.761024 -1.325650 -1.875881 -0.641276  0.205655  0.844432   \n",
       "5043    142589.0  1.381656 -2.291059 -1.357021 -0.960894 -0.337165  1.837831   \n",
       "50693    52408.0 -1.121774  1.046825  1.449851 -0.853597 -0.697472 -0.891311   \n",
       "\n",
       "              V7        V8        V9  ...       V21       V22       V23  \\\n",
       "77244   0.253898 -0.361502  0.473344  ... -0.006427  0.627750 -0.634097   \n",
       "112513  1.031590  0.102072 -1.639767  ...  0.300789  0.423192 -0.680045   \n",
       "98163   1.156067 -0.392044 -0.146092  ...  0.270423  1.183270 -0.297665   \n",
       "16889   0.852123 -0.604090  0.151221  ...  0.089298  0.454132 -0.180294   \n",
       "30631   0.092553  0.402238 -1.286992  ...  0.290688  0.833095  0.186440   \n",
       "...          ...       ...       ...  ...       ...       ...       ...   \n",
       "84485  -0.731842  0.241341  0.694209  ... -0.060517 -0.020915 -0.024279   \n",
       "60723  -0.598057  0.724365  1.210910  ... -0.493294 -1.334642  0.107215   \n",
       "39885  -0.280825  0.202457 -0.696063  ... -0.353462 -0.740336  0.172985   \n",
       "5043   -0.860187  0.524134  0.025136  ...  0.066074 -0.517941  0.157722   \n",
       "50693  -0.019569  0.531940 -0.019775  ... -0.095875 -0.278814  0.167095   \n",
       "\n",
       "             V24       V25       V26       V27       V28  Amount  Class  \n",
       "77244   0.693558 -0.258117 -0.753612  0.538571  0.305432   94.47      0  \n",
       "112513  1.130778  1.439294  0.377042 -0.209320 -0.242601    1.51      0  \n",
       "98163  -0.437083 -0.337571 -0.177253  0.097323 -0.046671    8.39      0  \n",
       "16889  -0.921876  0.604957  0.300060 -0.082035 -0.087539    3.85      0  \n",
       "30631  -0.007625 -0.434240 -0.080610  0.320599  0.074183  147.50      0  \n",
       "...          ...       ...       ...       ...       ...     ...    ...  \n",
       "84485   0.046264  0.267848  0.319370  0.012120  0.014212   11.49      0  \n",
       "60723   0.885085  0.346663  0.072047 -0.048533  0.017192    1.79      0  \n",
       "39885  -1.664172 -0.472072  0.579761 -0.060095 -0.066952  162.47      0  \n",
       "5043   -0.989422 -0.771393 -0.524638 -0.021692 -0.006208  353.36      0  \n",
       "50693   0.637857 -0.326769  0.659947  0.175923  0.061234    4.13      0  \n",
       "\n",
       "[10000 rows x 31 columns]"
      ]
     },
     "execution_count": 6,
     "metadata": {},
     "output_type": "execute_result"
    }
   ],
   "source": [
    "cc_df = pd.read_csv(\"data/creditcard_sample.csv\").sample(10_000, random_state=390)\n",
    "cc_df"
   ]
  },
  {
   "cell_type": "code",
   "execution_count": 7,
   "metadata": {},
   "outputs": [],
   "source": [
    "train_df, test_df = train_test_split(cc_df, test_size=.2, random_state=413)\n",
    "\n",
    "X_train = train_df.drop(columns=['Class'])\n",
    "y_train = train_df['Class']\n",
    "X_test = test_df.drop(columns=['Class'])\n",
    "y_test = test_df['Class']"
   ]
  },
  {
   "cell_type": "code",
   "execution_count": 8,
   "metadata": {},
   "outputs": [
    {
     "name": "stdout",
     "output_type": "stream",
     "text": [
      "[00:33:20] WARNING: /home/conda/feedstock_root/build_artifacts/xgboost-split_1637426272325/work/src/learner.cc:1115: Starting in XGBoost 1.3.0, the default evaluation metric used with the objective 'binary:logistic' was changed from 'error' to 'logloss'. Explicitly set eval_metric if you'd like to restore the old behavior.\n"
     ]
    }
   ],
   "source": [
    "from xgboost import XGBClassifier\n",
    "\n",
    "model = XGBClassifier(use_label_encoder=False)\n",
    "model.fit(X_train, y_train);\n",
    "# This will output a warning which refers to a change in the default behavior and that can be ignored for now"
   ]
  },
  {
   "cell_type": "code",
   "execution_count": 9,
   "metadata": {},
   "outputs": [
    {
     "data": {
      "text/html": [
       "<div>\n",
       "<style scoped>\n",
       "    .dataframe tbody tr th:only-of-type {\n",
       "        vertical-align: middle;\n",
       "    }\n",
       "\n",
       "    .dataframe tbody tr th {\n",
       "        vertical-align: top;\n",
       "    }\n",
       "\n",
       "    .dataframe thead th {\n",
       "        text-align: right;\n",
       "    }\n",
       "</style>\n",
       "<table border=\"1\" class=\"dataframe\">\n",
       "  <thead>\n",
       "    <tr style=\"text-align: right;\">\n",
       "      <th></th>\n",
       "      <th>predicted_price</th>\n",
       "      <th>actual_price</th>\n",
       "      <th>Time</th>\n",
       "      <th>V1</th>\n",
       "      <th>V2</th>\n",
       "      <th>V3</th>\n",
       "      <th>V4</th>\n",
       "      <th>V5</th>\n",
       "      <th>V6</th>\n",
       "      <th>V7</th>\n",
       "      <th>...</th>\n",
       "      <th>V20</th>\n",
       "      <th>V21</th>\n",
       "      <th>V22</th>\n",
       "      <th>V23</th>\n",
       "      <th>V24</th>\n",
       "      <th>V25</th>\n",
       "      <th>V26</th>\n",
       "      <th>V27</th>\n",
       "      <th>V28</th>\n",
       "      <th>Amount</th>\n",
       "    </tr>\n",
       "  </thead>\n",
       "  <tbody>\n",
       "    <tr>\n",
       "      <th>111132</th>\n",
       "      <td>0</td>\n",
       "      <td>0</td>\n",
       "      <td>99190.0</td>\n",
       "      <td>-0.136738</td>\n",
       "      <td>0.564715</td>\n",
       "      <td>0.157284</td>\n",
       "      <td>-0.719750</td>\n",
       "      <td>1.175614</td>\n",
       "      <td>0.920017</td>\n",
       "      <td>0.387763</td>\n",
       "      <td>...</td>\n",
       "      <td>-0.287078</td>\n",
       "      <td>-0.316661</td>\n",
       "      <td>-0.524482</td>\n",
       "      <td>0.151172</td>\n",
       "      <td>-1.542696</td>\n",
       "      <td>-0.796923</td>\n",
       "      <td>0.209887</td>\n",
       "      <td>0.253875</td>\n",
       "      <td>0.062003</td>\n",
       "      <td>3.99</td>\n",
       "    </tr>\n",
       "    <tr>\n",
       "      <th>121903</th>\n",
       "      <td>0</td>\n",
       "      <td>0</td>\n",
       "      <td>130274.0</td>\n",
       "      <td>2.113383</td>\n",
       "      <td>-0.084617</td>\n",
       "      <td>-1.462568</td>\n",
       "      <td>0.004176</td>\n",
       "      <td>0.250580</td>\n",
       "      <td>-0.800686</td>\n",
       "      <td>0.175293</td>\n",
       "      <td>...</td>\n",
       "      <td>-0.149559</td>\n",
       "      <td>0.283130</td>\n",
       "      <td>1.187823</td>\n",
       "      <td>-0.185627</td>\n",
       "      <td>-0.560881</td>\n",
       "      <td>0.563192</td>\n",
       "      <td>-0.204496</td>\n",
       "      <td>0.021032</td>\n",
       "      <td>-0.060979</td>\n",
       "      <td>1.04</td>\n",
       "    </tr>\n",
       "    <tr>\n",
       "      <th>87849</th>\n",
       "      <td>0</td>\n",
       "      <td>0</td>\n",
       "      <td>39423.0</td>\n",
       "      <td>-1.841569</td>\n",
       "      <td>-0.924729</td>\n",
       "      <td>0.683529</td>\n",
       "      <td>-1.240802</td>\n",
       "      <td>-0.040076</td>\n",
       "      <td>-1.644745</td>\n",
       "      <td>0.028578</td>\n",
       "      <td>...</td>\n",
       "      <td>-0.295739</td>\n",
       "      <td>-0.287965</td>\n",
       "      <td>-0.448146</td>\n",
       "      <td>-0.241471</td>\n",
       "      <td>0.458841</td>\n",
       "      <td>-0.488022</td>\n",
       "      <td>0.795167</td>\n",
       "      <td>0.016911</td>\n",
       "      <td>-0.297358</td>\n",
       "      <td>88.00</td>\n",
       "    </tr>\n",
       "    <tr>\n",
       "      <th>134</th>\n",
       "      <td>1</td>\n",
       "      <td>1</td>\n",
       "      <td>70270.0</td>\n",
       "      <td>-1.512516</td>\n",
       "      <td>1.133139</td>\n",
       "      <td>-1.601052</td>\n",
       "      <td>2.813401</td>\n",
       "      <td>-2.664503</td>\n",
       "      <td>-0.310371</td>\n",
       "      <td>-1.520895</td>\n",
       "      <td>...</td>\n",
       "      <td>1.249586</td>\n",
       "      <td>0.729828</td>\n",
       "      <td>0.485286</td>\n",
       "      <td>0.567005</td>\n",
       "      <td>0.323586</td>\n",
       "      <td>0.040871</td>\n",
       "      <td>0.825814</td>\n",
       "      <td>0.414482</td>\n",
       "      <td>0.267265</td>\n",
       "      <td>318.11</td>\n",
       "    </tr>\n",
       "    <tr>\n",
       "      <th>115580</th>\n",
       "      <td>0</td>\n",
       "      <td>0</td>\n",
       "      <td>129611.0</td>\n",
       "      <td>1.983675</td>\n",
       "      <td>-0.563139</td>\n",
       "      <td>-0.556800</td>\n",
       "      <td>0.070248</td>\n",
       "      <td>-0.240229</td>\n",
       "      <td>0.532842</td>\n",
       "      <td>-0.824306</td>\n",
       "      <td>...</td>\n",
       "      <td>-0.073943</td>\n",
       "      <td>0.036475</td>\n",
       "      <td>0.226705</td>\n",
       "      <td>0.117428</td>\n",
       "      <td>-0.331401</td>\n",
       "      <td>-0.147280</td>\n",
       "      <td>-0.700302</td>\n",
       "      <td>0.072757</td>\n",
       "      <td>-0.019535</td>\n",
       "      <td>39.42</td>\n",
       "    </tr>\n",
       "    <tr>\n",
       "      <th>...</th>\n",
       "      <td>...</td>\n",
       "      <td>...</td>\n",
       "      <td>...</td>\n",
       "      <td>...</td>\n",
       "      <td>...</td>\n",
       "      <td>...</td>\n",
       "      <td>...</td>\n",
       "      <td>...</td>\n",
       "      <td>...</td>\n",
       "      <td>...</td>\n",
       "      <td>...</td>\n",
       "      <td>...</td>\n",
       "      <td>...</td>\n",
       "      <td>...</td>\n",
       "      <td>...</td>\n",
       "      <td>...</td>\n",
       "      <td>...</td>\n",
       "      <td>...</td>\n",
       "      <td>...</td>\n",
       "      <td>...</td>\n",
       "      <td>...</td>\n",
       "    </tr>\n",
       "    <tr>\n",
       "      <th>68059</th>\n",
       "      <td>0</td>\n",
       "      <td>0</td>\n",
       "      <td>46546.0</td>\n",
       "      <td>-1.906055</td>\n",
       "      <td>1.330466</td>\n",
       "      <td>0.822306</td>\n",
       "      <td>-0.209197</td>\n",
       "      <td>-0.246915</td>\n",
       "      <td>-0.205031</td>\n",
       "      <td>0.117844</td>\n",
       "      <td>...</td>\n",
       "      <td>-0.147033</td>\n",
       "      <td>-0.109164</td>\n",
       "      <td>-0.433282</td>\n",
       "      <td>0.235205</td>\n",
       "      <td>-0.022674</td>\n",
       "      <td>-0.248697</td>\n",
       "      <td>0.035313</td>\n",
       "      <td>-0.444826</td>\n",
       "      <td>0.234728</td>\n",
       "      <td>13.28</td>\n",
       "    </tr>\n",
       "    <tr>\n",
       "      <th>21742</th>\n",
       "      <td>0</td>\n",
       "      <td>0</td>\n",
       "      <td>150611.0</td>\n",
       "      <td>-4.853459</td>\n",
       "      <td>3.917655</td>\n",
       "      <td>-1.728775</td>\n",
       "      <td>1.001013</td>\n",
       "      <td>-2.521175</td>\n",
       "      <td>0.154400</td>\n",
       "      <td>-2.298054</td>\n",
       "      <td>...</td>\n",
       "      <td>-0.151779</td>\n",
       "      <td>-0.365927</td>\n",
       "      <td>-1.562024</td>\n",
       "      <td>0.294809</td>\n",
       "      <td>0.576851</td>\n",
       "      <td>0.807743</td>\n",
       "      <td>-0.796429</td>\n",
       "      <td>-0.363074</td>\n",
       "      <td>-0.100201</td>\n",
       "      <td>20.93</td>\n",
       "    </tr>\n",
       "    <tr>\n",
       "      <th>7003</th>\n",
       "      <td>0</td>\n",
       "      <td>0</td>\n",
       "      <td>145475.0</td>\n",
       "      <td>-0.574999</td>\n",
       "      <td>-0.249851</td>\n",
       "      <td>1.507838</td>\n",
       "      <td>-2.183949</td>\n",
       "      <td>-0.233760</td>\n",
       "      <td>-0.089817</td>\n",
       "      <td>-0.177221</td>\n",
       "      <td>...</td>\n",
       "      <td>0.374122</td>\n",
       "      <td>0.029454</td>\n",
       "      <td>0.063281</td>\n",
       "      <td>-0.215382</td>\n",
       "      <td>0.318620</td>\n",
       "      <td>0.596239</td>\n",
       "      <td>-0.236673</td>\n",
       "      <td>0.014326</td>\n",
       "      <td>-0.184974</td>\n",
       "      <td>55.95</td>\n",
       "    </tr>\n",
       "    <tr>\n",
       "      <th>45985</th>\n",
       "      <td>0</td>\n",
       "      <td>0</td>\n",
       "      <td>53355.0</td>\n",
       "      <td>1.257516</td>\n",
       "      <td>0.097742</td>\n",
       "      <td>-0.299899</td>\n",
       "      <td>0.869715</td>\n",
       "      <td>0.715477</td>\n",
       "      <td>1.119524</td>\n",
       "      <td>-0.116036</td>\n",
       "      <td>...</td>\n",
       "      <td>-0.170771</td>\n",
       "      <td>-0.174101</td>\n",
       "      <td>-0.300020</td>\n",
       "      <td>-0.275479</td>\n",
       "      <td>-1.704110</td>\n",
       "      <td>0.849335</td>\n",
       "      <td>-0.220576</td>\n",
       "      <td>0.031867</td>\n",
       "      <td>-0.014047</td>\n",
       "      <td>1.00</td>\n",
       "    </tr>\n",
       "    <tr>\n",
       "      <th>87194</th>\n",
       "      <td>0</td>\n",
       "      <td>0</td>\n",
       "      <td>45069.0</td>\n",
       "      <td>1.076270</td>\n",
       "      <td>-1.898885</td>\n",
       "      <td>0.065107</td>\n",
       "      <td>-1.316359</td>\n",
       "      <td>-1.669659</td>\n",
       "      <td>-0.382944</td>\n",
       "      <td>-0.846787</td>\n",
       "      <td>...</td>\n",
       "      <td>0.133069</td>\n",
       "      <td>-0.286476</td>\n",
       "      <td>-1.098696</td>\n",
       "      <td>-0.130274</td>\n",
       "      <td>-0.534818</td>\n",
       "      <td>0.108739</td>\n",
       "      <td>-0.380314</td>\n",
       "      <td>-0.013497</td>\n",
       "      <td>0.062206</td>\n",
       "      <td>263.70</td>\n",
       "    </tr>\n",
       "  </tbody>\n",
       "</table>\n",
       "<p>2000 rows × 32 columns</p>\n",
       "</div>"
      ],
      "text/plain": [
       "        predicted_price  actual_price      Time        V1        V2        V3  \\\n",
       "111132                0             0   99190.0 -0.136738  0.564715  0.157284   \n",
       "121903                0             0  130274.0  2.113383 -0.084617 -1.462568   \n",
       "87849                 0             0   39423.0 -1.841569 -0.924729  0.683529   \n",
       "134                   1             1   70270.0 -1.512516  1.133139 -1.601052   \n",
       "115580                0             0  129611.0  1.983675 -0.563139 -0.556800   \n",
       "...                 ...           ...       ...       ...       ...       ...   \n",
       "68059                 0             0   46546.0 -1.906055  1.330466  0.822306   \n",
       "21742                 0             0  150611.0 -4.853459  3.917655 -1.728775   \n",
       "7003                  0             0  145475.0 -0.574999 -0.249851  1.507838   \n",
       "45985                 0             0   53355.0  1.257516  0.097742 -0.299899   \n",
       "87194                 0             0   45069.0  1.076270 -1.898885  0.065107   \n",
       "\n",
       "              V4        V5        V6        V7  ...       V20       V21  \\\n",
       "111132 -0.719750  1.175614  0.920017  0.387763  ... -0.287078 -0.316661   \n",
       "121903  0.004176  0.250580 -0.800686  0.175293  ... -0.149559  0.283130   \n",
       "87849  -1.240802 -0.040076 -1.644745  0.028578  ... -0.295739 -0.287965   \n",
       "134     2.813401 -2.664503 -0.310371 -1.520895  ...  1.249586  0.729828   \n",
       "115580  0.070248 -0.240229  0.532842 -0.824306  ... -0.073943  0.036475   \n",
       "...          ...       ...       ...       ...  ...       ...       ...   \n",
       "68059  -0.209197 -0.246915 -0.205031  0.117844  ... -0.147033 -0.109164   \n",
       "21742   1.001013 -2.521175  0.154400 -2.298054  ... -0.151779 -0.365927   \n",
       "7003   -2.183949 -0.233760 -0.089817 -0.177221  ...  0.374122  0.029454   \n",
       "45985   0.869715  0.715477  1.119524 -0.116036  ... -0.170771 -0.174101   \n",
       "87194  -1.316359 -1.669659 -0.382944 -0.846787  ...  0.133069 -0.286476   \n",
       "\n",
       "             V22       V23       V24       V25       V26       V27       V28  \\\n",
       "111132 -0.524482  0.151172 -1.542696 -0.796923  0.209887  0.253875  0.062003   \n",
       "121903  1.187823 -0.185627 -0.560881  0.563192 -0.204496  0.021032 -0.060979   \n",
       "87849  -0.448146 -0.241471  0.458841 -0.488022  0.795167  0.016911 -0.297358   \n",
       "134     0.485286  0.567005  0.323586  0.040871  0.825814  0.414482  0.267265   \n",
       "115580  0.226705  0.117428 -0.331401 -0.147280 -0.700302  0.072757 -0.019535   \n",
       "...          ...       ...       ...       ...       ...       ...       ...   \n",
       "68059  -0.433282  0.235205 -0.022674 -0.248697  0.035313 -0.444826  0.234728   \n",
       "21742  -1.562024  0.294809  0.576851  0.807743 -0.796429 -0.363074 -0.100201   \n",
       "7003    0.063281 -0.215382  0.318620  0.596239 -0.236673  0.014326 -0.184974   \n",
       "45985  -0.300020 -0.275479 -1.704110  0.849335 -0.220576  0.031867 -0.014047   \n",
       "87194  -1.098696 -0.130274 -0.534818  0.108739 -0.380314 -0.013497  0.062206   \n",
       "\n",
       "        Amount  \n",
       "111132    3.99  \n",
       "121903    1.04  \n",
       "87849    88.00  \n",
       "134     318.11  \n",
       "115580   39.42  \n",
       "...        ...  \n",
       "68059    13.28  \n",
       "21742    20.93  \n",
       "7003     55.95  \n",
       "45985     1.00  \n",
       "87194   263.70  \n",
       "\n",
       "[2000 rows x 32 columns]"
      ]
     },
     "execution_count": 9,
     "metadata": {},
     "output_type": "execute_result"
    }
   ],
   "source": [
    "pred_df = pd.DataFrame({\n",
    "    \"predicted_price\": model.predict(X_test),\n",
    "    \"actual_price\": y_test\n",
    "})\n",
    "pred_df.join(X_test)"
   ]
  },
  {
   "cell_type": "code",
   "execution_count": 10,
   "metadata": {},
   "outputs": [
    {
     "data": {
      "text/plain": [
       "0.9985"
      ]
     },
     "execution_count": 10,
     "metadata": {},
     "output_type": "execute_result"
    }
   ],
   "source": [
    "model.score(X_test, y_test)"
   ]
  },
  {
   "cell_type": "markdown",
   "metadata": {},
   "source": [
    "A score this high means that almost all observations were correctly predicted!"
   ]
  },
  {
   "cell_type": "markdown",
   "metadata": {},
   "source": [
    "## Types of Machine Learning\n",
    "\n",
    "- **Supervised learning** (this course)\n",
    "- Unsupervised learning"
   ]
  },
  {
   "cell_type": "markdown",
   "metadata": {},
   "source": [
    "### Supervised Learning: \n",
    "\n",
    "> Example: Labelling emails as spam or not\n",
    "\n",
    "- In supervised machine learning, we have a set of observations usually denoted with an uppercase `X`.\n",
    "- We also have a set of corresponding targets usually denoted with a lowercase `y`. \n",
    "- Our goal is to define a function that relates `X` to `y`. \n",
    "- We then use this function to predict the targets of new examples. \n",
    "\n",
    "<br>\n",
    "<br>\n",
    "\n",
    "<img src='imgs/sup-learning.png'  width = \"75%\" alt=\"404 image\" />\n"
   ]
  },
  {
   "cell_type": "markdown",
   "metadata": {},
   "source": [
    "### UnSupervised Learning: (not going into detail here)  \n",
    "\n",
    "> Example: Categorizing Google News articles.\n",
    "\n",
    "\n",
    "- In unsupervised learning, we are not given target labels and are instead only given observations `X`. \n",
    "- We apply an algorithm to try find patterns/structure in our data and divide the observations into groups/clusters that share similar characteristics from our data.\n",
    "- E.g. it could be that we want find out if there are groups of business that operate similarly based a few key business metrics. We might not know up front how many groups there are in the data, and an unsupervised clustering algorithm could help us understand if there e.g. are two very distinct set of strategies that business employ (two clusters), or if there is a big mix and no clear structure at all in our data.\n",
    "- Another example can be seen below, we might get input images of cats and dogs and ask the algorithm to cluster them together based on any property that can be extracted from the images (color, size, shapes, etc).\n",
    "\n",
    "\n",
    "<img src='imgs/unsup-learning.png'  width = \"75%\" alt=\"404 image\" />"
   ]
  },
  {
   "cell_type": "markdown",
   "metadata": {},
   "source": [
    "## Types of Supervised Learning: Classification vs Regression\n",
    "\n",
    "- Classification\n",
    "- Regression\n",
    "\n",
    "### Classification\n",
    "\n",
    "**Classification** predicting among two or more categories, also known as classes.\n",
    "- *Example1*: Predict whether a customer will default on their credit card or not. \n",
    "- *Example2*: Predict if an animal is a reptile, mammal or bird. \n",
    "    \n",
    "\n",
    "### Regression\n",
    "\n",
    "**Regression** predicting a continuous (in other words, a number) value.\n",
    "- Example1: Predict housing prices\n",
    "- Example2: Predict the length of a snake. \n",
    "    \n",
    "    \n",
    "<img src=\"imgs/classification-vs-regression2.png\" width = \"90%\" alt=\"404 image\" />\n"
   ]
  },
  {
   "cell_type": "markdown",
   "metadata": {},
   "source": [
    "## Let's Practice\n",
    "\n",
    "**Are the following supervised or unsupervised problems?**   \n",
    "\n",
    "1\\. Finding groups of similar properties in a real estate data set.   \n",
    "2\\. Predicting real estate prices based on house features like number of rooms, learning from past sales as examples.    \n",
    "3\\. Identifying groups of animals given features such as \"number of legs\", \"wings/no wings\", \"fur/no fur\", etc.    \n",
    "4\\. Detecting heart disease in patients based on different test results and history.    \n",
    "5\\. Grouping articles on different topics from different news sources (something like Google News app).    \n",
    "\n",
    "**Are the following classification or regression problems?**   \n",
    "\n",
    "6\\. Predicting the price of a house based on features such as number of rooms and the year built.    \n",
    "7\\. Predicting if a house will sell or not based on features like the price of the house, number of rooms, etc.     \n",
    "8\\. Predicting your grade in BAIT 509 based on past grades.     \n",
    "9\\. Predicting whether you should bicycle tomorrow or not based on the weather forecast.     \n",
    "10\\. Predicting a cereal’s manufacturer given the nutritional information.     "
   ]
  },
  {
   "cell_type": "markdown",
   "metadata": {},
   "source": [
    "```{admonition} Solutions!\n",
    ":class: dropdown\n",
    "1. Unsupervised\n",
    "2. Supervised\n",
    "3. Unsupervised\n",
    "4. Supervised\n",
    "5. Unsupervised\n",
    "6. Regression\n",
    "7. Classification\n",
    "8. Regression\n",
    "9. Classification\n",
    "10. Classification \n",
    "```"
   ]
  },
  {
   "cell_type": "markdown",
   "metadata": {},
   "source": [
    "## Tabular Data and Terminology\n",
    "\n",
    "Basic terminology used in ML:\n",
    "\n",
    "- **examples/observations** = rows \n",
    "- **features/variables** = inputs (columns)\n",
    "- **targets** = outputs (one special column)\n",
    "- **training** = learning = fitting\n",
    "\n",
    "<img src=\"imgs/sup-ML-terminology2.png\" width = \"90%\" alt=\"404 image\" />\n"
   ]
  },
  {
   "cell_type": "markdown",
   "metadata": {},
   "source": [
    "### Example:\n",
    "\n",
    "- This [dataset](http://simplemaps.com/static/demos/resources/us-cities/cities.csv) contains longtitude and latitude data for 400 cities in the US.\n",
    "- Each city is labelled as `red` or `blue` depending on how they voted in the 2012 election."
   ]
  },
  {
   "cell_type": "code",
   "execution_count": 11,
   "metadata": {},
   "outputs": [
    {
     "data": {
      "text/html": [
       "<div>\n",
       "<style scoped>\n",
       "    .dataframe tbody tr th:only-of-type {\n",
       "        vertical-align: middle;\n",
       "    }\n",
       "\n",
       "    .dataframe tbody tr th {\n",
       "        vertical-align: top;\n",
       "    }\n",
       "\n",
       "    .dataframe thead th {\n",
       "        text-align: right;\n",
       "    }\n",
       "</style>\n",
       "<table border=\"1\" class=\"dataframe\">\n",
       "  <thead>\n",
       "    <tr style=\"text-align: right;\">\n",
       "      <th></th>\n",
       "      <th>lon</th>\n",
       "      <th>lat</th>\n",
       "      <th>vote</th>\n",
       "    </tr>\n",
       "  </thead>\n",
       "  <tbody>\n",
       "    <tr>\n",
       "      <th>146</th>\n",
       "      <td>-82.155358</td>\n",
       "      <td>38.008878</td>\n",
       "      <td>red</td>\n",
       "    </tr>\n",
       "    <tr>\n",
       "      <th>33</th>\n",
       "      <td>-92.744478</td>\n",
       "      <td>31.226442</td>\n",
       "      <td>red</td>\n",
       "    </tr>\n",
       "    <tr>\n",
       "      <th>389</th>\n",
       "      <td>-96.505225</td>\n",
       "      <td>47.070528</td>\n",
       "      <td>blue</td>\n",
       "    </tr>\n",
       "    <tr>\n",
       "      <th>297</th>\n",
       "      <td>-87.964364</td>\n",
       "      <td>42.159843</td>\n",
       "      <td>blue</td>\n",
       "    </tr>\n",
       "    <tr>\n",
       "      <th>230</th>\n",
       "      <td>-88.137965</td>\n",
       "      <td>40.374736</td>\n",
       "      <td>blue</td>\n",
       "    </tr>\n",
       "    <tr>\n",
       "      <th>292</th>\n",
       "      <td>-87.686544</td>\n",
       "      <td>42.030220</td>\n",
       "      <td>blue</td>\n",
       "    </tr>\n",
       "    <tr>\n",
       "      <th>91</th>\n",
       "      <td>-92.787976</td>\n",
       "      <td>35.042732</td>\n",
       "      <td>red</td>\n",
       "    </tr>\n",
       "    <tr>\n",
       "      <th>198</th>\n",
       "      <td>-80.305106</td>\n",
       "      <td>39.702072</td>\n",
       "      <td>red</td>\n",
       "    </tr>\n",
       "    <tr>\n",
       "      <th>369</th>\n",
       "      <td>-92.697108</td>\n",
       "      <td>45.321757</td>\n",
       "      <td>blue</td>\n",
       "    </tr>\n",
       "    <tr>\n",
       "      <th>392</th>\n",
       "      <td>-101.189807</td>\n",
       "      <td>47.460163</td>\n",
       "      <td>red</td>\n",
       "    </tr>\n",
       "    <tr>\n",
       "      <th>377</th>\n",
       "      <td>-99.772543</td>\n",
       "      <td>46.005476</td>\n",
       "      <td>red</td>\n",
       "    </tr>\n",
       "    <tr>\n",
       "      <th>199</th>\n",
       "      <td>-76.344101</td>\n",
       "      <td>39.751754</td>\n",
       "      <td>blue</td>\n",
       "    </tr>\n",
       "  </tbody>\n",
       "</table>\n",
       "</div>"
      ],
      "text/plain": [
       "            lon        lat  vote\n",
       "146  -82.155358  38.008878   red\n",
       "33   -92.744478  31.226442   red\n",
       "389  -96.505225  47.070528  blue\n",
       "297  -87.964364  42.159843  blue\n",
       "230  -88.137965  40.374736  blue\n",
       "292  -87.686544  42.030220  blue\n",
       "91   -92.787976  35.042732   red\n",
       "198  -80.305106  39.702072   red\n",
       "369  -92.697108  45.321757  blue\n",
       "392 -101.189807  47.460163   red\n",
       "377  -99.772543  46.005476   red\n",
       "199  -76.344101  39.751754  blue"
      ]
     },
     "execution_count": 11,
     "metadata": {},
     "output_type": "execute_result"
    }
   ],
   "source": [
    "df = pd.read_csv('data/cities_USA.csv', index_col=0).sample(12, random_state=89)\n",
    "df"
   ]
  },
  {
   "cell_type": "code",
   "execution_count": 12,
   "metadata": {},
   "outputs": [
    {
     "data": {
      "text/plain": [
       "(12, 3)"
      ]
     },
     "execution_count": 12,
     "metadata": {},
     "output_type": "execute_result"
    }
   ],
   "source": [
    "df.shape"
   ]
  },
  {
   "cell_type": "markdown",
   "metadata": {},
   "source": [
    "In this dataset, we have:\n",
    "- 2 **features**, (3 columns = 2 **features** + 1 target) and,\n",
    "- 20 **examples**.\n",
    "\n",
    "Our **target** column is `vote` since that is what we are interesting in predicting. "
   ]
  },
  {
   "cell_type": "markdown",
   "metadata": {},
   "source": [
    "## Decision Tree Algorithm"
   ]
  },
  {
   "cell_type": "markdown",
   "metadata": {},
   "source": [
    "### A conceptual introduction to Decision Trees"
   ]
  },
  {
   "cell_type": "markdown",
   "metadata": {},
   "source": [
    "Shown below is some hypothetical data with 2 features (x and y axes) and 1 target (with 2 classes).   \n",
    "The supervised learning problem here is to predict whether a particular observaton belongs to the <font color='blue'>**BLUE**</font> or <font color='orange'>**ORANGE**</font> class.    \n",
    "A fairly intuitive way to do this is to simply use thresholds to split the data up."
   ]
  },
  {
   "cell_type": "markdown",
   "metadata": {},
   "source": [
    "<img src='imgs/scatter_dt1.png'  width = \"40%\" alt=\"404 image\" />"
   ]
  },
  {
   "cell_type": "markdown",
   "metadata": {},
   "source": [
    "For example, we can **split** the data at `Feature_1 = 0.47`.   \n",
    "Everything **less than** the split we can classify as <font color='orange'>**ORANGE**</font>.  \n",
    "Everything **greater than** the split we can classify as <font color='blue'>**BLUE**</font>.   \n",
    "By this method, we can successfully classify 7 / 9 observations."
   ]
  },
  {
   "cell_type": "markdown",
   "metadata": {},
   "source": [
    "<img src='imgs/scatter_dt2.png'  width = \"40%\" alt=\"404 image\" />"
   ]
  },
  {
   "cell_type": "markdown",
   "metadata": {},
   "source": [
    "But we don't have to stop there, we can make another split!   \n",
    "Let's now split the section that is greater than `Feature_1 = 0.47`, using `Feature_2 = 0.52`.\n",
    "We now have the following conditions:    \n",
    "- If `Feature_1 > 0.47` and `Feature_2 < 0.52` classify as <font color='blue'>**BLUE**</font>.    \n",
    "- If `Feature_1 > 0.47` and `Feature_2 > 0.52` classify as <font color='orange'>**ORANGE**</font>.    \n",
    "\n",
    "Using these rules, we now successfully classify 8 / 9 observations.  "
   ]
  },
  {
   "cell_type": "markdown",
   "metadata": {},
   "source": [
    "<img src='imgs/scatter_dt3.png'  width = \"40%\" alt=\"404 image\" />"
   ]
  },
  {
   "cell_type": "markdown",
   "metadata": {},
   "source": [
    "Okay, let's add one more threshhold.    \n",
    "Let's make a final split of the section that is less than `Feature_1 = 0.47`, using `Feature_2 = 0.6`.   \n",
    "By this methodology we have successfully classified all of our data.   "
   ]
  },
  {
   "cell_type": "markdown",
   "metadata": {},
   "source": [
    "<img src='imgs/scatter_dt4.png'  width = \"40%\" alt=\"404 image\" />"
   ]
  },
  {
   "cell_type": "markdown",
   "metadata": {},
   "source": [
    "What we've really done here is create a group of `if` statements:     \n",
    "- If `Feature_1 < 0.47` and `Feature_2 < 0.6` classify as <font color='orange'>**ORANGE**</font>\n",
    "- If `Feature_1 < 0.47` and `Feature_2 > 0.6` classify as <font color='blue'>**BLUE**</font>\n",
    "- If `Feature_1 > 0.47` and `Feature_2 < 0.52` classify as <font color='blue'>**BLUE**</font>\n",
    "- If `Feature_1 > 0.47` and `Feature_2 > 0.52` classify as <font color='orange'>**ORANGE**</font>\n",
    "\n",
    "This is easier to visualize as a tree:"
   ]
  },
  {
   "cell_type": "markdown",
   "metadata": {},
   "source": [
    "<img src='imgs/toy_tree.png'  width = \"40%\" alt=\"404 image\" />"
   ]
  },
  {
   "cell_type": "markdown",
   "metadata": {},
   "source": [
    "We just made our first decision tree!"
   ]
  },
  {
   "cell_type": "markdown",
   "metadata": {},
   "source": [
    "Before we go forward with learning about decision tree classifiers and reggressors we need to understand the structure of a decision tree.\n",
    "Here is the key terminology that you will have to know: \n",
    "\n",
    "- **Root**: Where we start making our conditions.\n",
    "- **Branch**:  A branch connects to the next node (statement). Each branch represents either true or false.\n",
    "- **Internal node**: conditions within the tree.  \n",
    "- **Leaf**: the value predicted from the conditions. \n",
    "- **Tree depth**: The longest path from the root to a leaf.\n",
    "\n",
    "With the decision tree algorithm in machine learning, the tree can have at most two nodes resulting from it, also known as children.\n",
    "\n",
    "If a tree only has a depth of 1, we call that a **decision stump**."
   ]
  },
  {
   "cell_type": "markdown",
   "metadata": {},
   "source": [
    "<img src=\"imgs/lingo_tree.png\"  width = \"55%\" alt=\"404 image\">"
   ]
  },
  {
   "cell_type": "markdown",
   "metadata": {},
   "source": [
    "This tree  and the one in our example above, both have a depth of 2.\n",
    "\n",
    "Trees do not need to be balanced. (You'll see this shortly)"
   ]
  },
  {
   "cell_type": "markdown",
   "metadata": {},
   "source": [
    "### Implimentation with Scikit-learn\n",
    "\n",
    "Before we build any model (we are getting to that so hang tight), we need to make sure we have the right \"parts\" aka inputs and outputs. \n",
    "\n",
    "That means we need to split up our tabular data into the features and the target, also known as $X$ and $y$.\n",
    "\n",
    "$X$ is all of our features in our data, which we also call our ***feature table***. <br>\n",
    "$y$ is our target, which is what we are predicting."
   ]
  },
  {
   "cell_type": "code",
   "execution_count": 13,
   "metadata": {},
   "outputs": [],
   "source": [
    "X = df.drop(columns=[\"vote\"])\n",
    "y = df[\"vote\"]"
   ]
  },
  {
   "cell_type": "code",
   "execution_count": 14,
   "metadata": {},
   "outputs": [
    {
     "data": {
      "text/html": [
       "<div>\n",
       "<style scoped>\n",
       "    .dataframe tbody tr th:only-of-type {\n",
       "        vertical-align: middle;\n",
       "    }\n",
       "\n",
       "    .dataframe tbody tr th {\n",
       "        vertical-align: top;\n",
       "    }\n",
       "\n",
       "    .dataframe thead th {\n",
       "        text-align: right;\n",
       "    }\n",
       "</style>\n",
       "<table border=\"1\" class=\"dataframe\">\n",
       "  <thead>\n",
       "    <tr style=\"text-align: right;\">\n",
       "      <th></th>\n",
       "      <th>lon</th>\n",
       "      <th>lat</th>\n",
       "    </tr>\n",
       "  </thead>\n",
       "  <tbody>\n",
       "    <tr>\n",
       "      <th>146</th>\n",
       "      <td>-82.155358</td>\n",
       "      <td>38.008878</td>\n",
       "    </tr>\n",
       "    <tr>\n",
       "      <th>33</th>\n",
       "      <td>-92.744478</td>\n",
       "      <td>31.226442</td>\n",
       "    </tr>\n",
       "    <tr>\n",
       "      <th>389</th>\n",
       "      <td>-96.505225</td>\n",
       "      <td>47.070528</td>\n",
       "    </tr>\n",
       "    <tr>\n",
       "      <th>297</th>\n",
       "      <td>-87.964364</td>\n",
       "      <td>42.159843</td>\n",
       "    </tr>\n",
       "    <tr>\n",
       "      <th>230</th>\n",
       "      <td>-88.137965</td>\n",
       "      <td>40.374736</td>\n",
       "    </tr>\n",
       "  </tbody>\n",
       "</table>\n",
       "</div>"
      ],
      "text/plain": [
       "           lon        lat\n",
       "146 -82.155358  38.008878\n",
       "33  -92.744478  31.226442\n",
       "389 -96.505225  47.070528\n",
       "297 -87.964364  42.159843\n",
       "230 -88.137965  40.374736"
      ]
     },
     "execution_count": 14,
     "metadata": {},
     "output_type": "execute_result"
    }
   ],
   "source": [
    "X.head()"
   ]
  },
  {
   "cell_type": "code",
   "execution_count": 15,
   "metadata": {},
   "outputs": [
    {
     "data": {
      "text/plain": [
       "146     red\n",
       "33      red\n",
       "389    blue\n",
       "297    blue\n",
       "230    blue\n",
       "Name: vote, dtype: object"
      ]
     },
     "execution_count": 15,
     "metadata": {},
     "output_type": "execute_result"
    }
   ],
   "source": [
    "y.head()"
   ]
  },
  {
   "cell_type": "markdown",
   "metadata": {},
   "source": [
    "There are several machine learning libraries available to use but for this course, we will be using the  Scikit-learn (hereafter, referred to as sklearn) library, which is a popular (41.6k stars on Github) Machine Learning library for Python.\n"
   ]
  },
  {
   "cell_type": "markdown",
   "metadata": {},
   "source": [
    "- We generally import a particular ML algorithm using the following syntax:\n",
    "> `from sklearn.module import algorithm`\n",
    "\n",
    "The decision tree classification algorithm (`DecisionTreeClassifier`) sits within the `tree` module.  \n",
    "(Note there is also a Decision Tree Regression algorithm in this module which we'll come to later...)  \n",
    "Let's import the classifier using the following code:  "
   ]
  },
  {
   "cell_type": "code",
   "execution_count": 16,
   "metadata": {},
   "outputs": [],
   "source": [
    "from sklearn.tree import DecisionTreeClassifier"
   ]
  },
  {
   "cell_type": "markdown",
   "metadata": {},
   "source": [
    "We can begin creating a model by instantiating an instance of the algorithm class.    \n",
    "Here we are naming our decision tree model `model`:   "
   ]
  },
  {
   "cell_type": "code",
   "execution_count": 17,
   "metadata": {},
   "outputs": [
    {
     "data": {
      "text/plain": [
       "DecisionTreeClassifier()"
      ]
     },
     "execution_count": 17,
     "metadata": {},
     "output_type": "execute_result"
    }
   ],
   "source": [
    "model = DecisionTreeClassifier()\n",
    "model"
   ]
  },
  {
   "cell_type": "markdown",
   "metadata": {},
   "source": [
    "At this point we just have the framework of a model.    \n",
    "We can't do anything with our algorithm yet, because it hasn't seen any data!     \n",
    "We need to give our algorithm some data to learn/train/fit a model.    "
   ]
  },
  {
   "cell_type": "markdown",
   "metadata": {},
   "source": [
    "We can now use the `.fit()` method to train our model using the feature `X` and target `y` data we just separated.  \n",
    "When we call fit on our model object, the actual learning happens. "
   ]
  },
  {
   "cell_type": "code",
   "execution_count": 18,
   "metadata": {},
   "outputs": [
    {
     "data": {
      "text/plain": [
       "DecisionTreeClassifier()"
      ]
     },
     "execution_count": 18,
     "metadata": {},
     "output_type": "execute_result"
    }
   ],
   "source": [
    "model.fit(X, y)"
   ]
  },
  {
   "cell_type": "markdown",
   "metadata": {},
   "source": [
    "Now we've used data to learn a model, let's take a look at the model we made!    \n",
    "The code below prints out our model structure for us (like the tree we made ourselves earlier)   \n",
    "\n",
    "The way to read the decision tree visualization below\n",
    "is that if the condition on top of a box is true,\n",
    "then you follow the left arrow and if it is false you follow the right arrow.\n",
    "`samples` indicated how many observations there are in the node\n",
    "and `values` how many of those are `[blue, red]`.\n",
    "The class of each node indicated what class most samples in that node belong to.\n",
    "Note that you need to make sure that the feature and class names are passed in the correct order,\n",
    "and the best way to do this is to crosscheck with the next plot we will make,\n",
    "but for now you can rely on that I have put these in the expected order."
   ]
  },
  {
   "cell_type": "code",
   "execution_count": 19,
   "metadata": {},
   "outputs": [
    {
     "data": {
      "image/png": "[encoded data removed]",
      "text/plain": [
       "<Figure size 504x648 with 1 Axes>"
      ]
     },
     "metadata": {
      "needs_background": "light"
     },
     "output_type": "display_data"
    }
   ],
   "source": [
    "from sklearn.tree import plot_tree\n",
    "import matplotlib.pyplot as plt\n",
    "\n",
    "\n",
    "plot_tree(\n",
    "    model,\n",
    "    feature_names=X.columns,\n",
    "    class_names=y.unique()[::-1],\n",
    "    impurity=False,\n",
    "    ax=plt.subplots(figsize=(7, 9))[1]  # We need to create a figure to control the overall plot size\n",
    ");"
   ]
  },
  {
   "cell_type": "markdown",
   "metadata": {},
   "source": [
    "We can better visualize what's going on by actually plotting our data and the model's  **decision boundaries**.\n",
    "\n",
    "*Note: This `plot_classifier` made by Mike Gelbart, function is available for installation [here](https://github.com/mgelbart/plot-classifier) or using:*\n",
    ">`pip install git+git://github.com/mgelbart/plot-classifier.git`\n",
    "\n",
    "or with conda\n",
    "\n",
    "> `conda install git` <br>\n",
    "> `conda install pip`<br>\n",
    "> `pip install git+git://github.com/mgelbart/plot-classifier.git`"
   ]
  },
  {
   "cell_type": "code",
   "execution_count": 20,
   "metadata": {},
   "outputs": [
    {
     "name": "stderr",
     "output_type": "stream",
     "text": [
      "/home/joel/miniconda3/envs/bait/lib/python3.10/site-packages/sklearn/base.py:450: UserWarning: X does not have valid feature names, but DecisionTreeClassifier was fitted with feature names\n",
      "  warnings.warn(\n"
     ]
    },
    {
     "data": {
      "image/png": "[encoded data removed]",
      "text/plain": [
       "<Figure size 432x288 with 1 Axes>"
      ]
     },
     "metadata": {
      "needs_background": "light"
     },
     "output_type": "display_data"
    }
   ],
   "source": [
    "from plot_classifier import plot_classifier\n",
    "\n",
    "\n",
    "ax = plot_classifier(X, y, model, ticks=True)\n",
    "ax.set_xlabel('lon', fontsize=20)\n",
    "ax.set_ylabel('lat', fontsize=20);"
   ]
  },
  {
   "cell_type": "markdown",
   "metadata": {},
   "source": [
    "In this plot the shaded regions show what our model predicts for different feature values.  \n",
    "The scatter points are our actual 20 observations.    \n",
    "From the above plot, we can see that our model is classifying all our observations correctly, but there's an easier way to find out how our model is doing.   \n",
    "We can predict the target of examples by calling `.predict()` on the classifier object.     \n",
    "Let’s see what it predicts for a single randomly new observation first:"
   ]
  },
  {
   "cell_type": "code",
   "execution_count": 21,
   "metadata": {},
   "outputs": [
    {
     "data": {
      "text/html": [
       "<div>\n",
       "<style scoped>\n",
       "    .dataframe tbody tr th:only-of-type {\n",
       "        vertical-align: middle;\n",
       "    }\n",
       "\n",
       "    .dataframe tbody tr th {\n",
       "        vertical-align: top;\n",
       "    }\n",
       "\n",
       "    .dataframe thead th {\n",
       "        text-align: right;\n",
       "    }\n",
       "</style>\n",
       "<table border=\"1\" class=\"dataframe\">\n",
       "  <thead>\n",
       "    <tr style=\"text-align: right;\">\n",
       "      <th></th>\n",
       "      <th>lon</th>\n",
       "      <th>lat</th>\n",
       "    </tr>\n",
       "  </thead>\n",
       "  <tbody>\n",
       "    <tr>\n",
       "      <th>0</th>\n",
       "      <td>-87.4</td>\n",
       "      <td>59</td>\n",
       "    </tr>\n",
       "  </tbody>\n",
       "</table>\n",
       "</div>"
      ],
      "text/plain": [
       "    lon  lat\n",
       "0 -87.4   59"
      ]
     },
     "execution_count": 21,
     "metadata": {},
     "output_type": "execute_result"
    }
   ],
   "source": [
    "new_ex = [-87.4, 59]\n",
    "new_example = pd.DataFrame(data=[new_ex], columns=[\"lon\", \"lat\"])\n",
    "new_example"
   ]
  },
  {
   "cell_type": "code",
   "execution_count": 22,
   "metadata": {},
   "outputs": [
    {
     "data": {
      "text/plain": [
       "array(['blue'], dtype=object)"
      ]
     },
     "execution_count": 22,
     "metadata": {},
     "output_type": "execute_result"
    }
   ],
   "source": [
    "model.predict(new_example)"
   ]
  },
  {
   "cell_type": "markdown",
   "metadata": {},
   "source": [
    "we get a prediction of `blue` for this example!\n",
    "\n",
    "We can also predict on our whole feature table - Here, we are predicting on all of X."
   ]
  },
  {
   "cell_type": "code",
   "execution_count": 23,
   "metadata": {},
   "outputs": [
    {
     "data": {
      "text/plain": [
       "array(['red', 'red', 'blue', 'blue', 'blue', 'blue', 'red', 'red', 'blue',\n",
       "       'red', 'red', 'blue'], dtype=object)"
      ]
     },
     "execution_count": 23,
     "metadata": {},
     "output_type": "execute_result"
    }
   ],
   "source": [
    "model.predict(X)"
   ]
  },
  {
   "cell_type": "code",
   "execution_count": 24,
   "metadata": {},
   "outputs": [
    {
     "data": {
      "text/html": [
       "<div>\n",
       "<style scoped>\n",
       "    .dataframe tbody tr th:only-of-type {\n",
       "        vertical-align: middle;\n",
       "    }\n",
       "\n",
       "    .dataframe tbody tr th {\n",
       "        vertical-align: top;\n",
       "    }\n",
       "\n",
       "    .dataframe thead th {\n",
       "        text-align: right;\n",
       "    }\n",
       "</style>\n",
       "<table border=\"1\" class=\"dataframe\">\n",
       "  <thead>\n",
       "    <tr style=\"text-align: right;\">\n",
       "      <th></th>\n",
       "      <th>true_values</th>\n",
       "      <th>predicted</th>\n",
       "    </tr>\n",
       "  </thead>\n",
       "  <tbody>\n",
       "    <tr>\n",
       "      <th>0</th>\n",
       "      <td>red</td>\n",
       "      <td>red</td>\n",
       "    </tr>\n",
       "    <tr>\n",
       "      <th>1</th>\n",
       "      <td>red</td>\n",
       "      <td>red</td>\n",
       "    </tr>\n",
       "    <tr>\n",
       "      <th>2</th>\n",
       "      <td>blue</td>\n",
       "      <td>blue</td>\n",
       "    </tr>\n",
       "    <tr>\n",
       "      <th>3</th>\n",
       "      <td>blue</td>\n",
       "      <td>blue</td>\n",
       "    </tr>\n",
       "    <tr>\n",
       "      <th>4</th>\n",
       "      <td>blue</td>\n",
       "      <td>blue</td>\n",
       "    </tr>\n",
       "    <tr>\n",
       "      <th>5</th>\n",
       "      <td>blue</td>\n",
       "      <td>blue</td>\n",
       "    </tr>\n",
       "    <tr>\n",
       "      <th>6</th>\n",
       "      <td>red</td>\n",
       "      <td>red</td>\n",
       "    </tr>\n",
       "    <tr>\n",
       "      <th>7</th>\n",
       "      <td>red</td>\n",
       "      <td>red</td>\n",
       "    </tr>\n",
       "    <tr>\n",
       "      <th>8</th>\n",
       "      <td>blue</td>\n",
       "      <td>blue</td>\n",
       "    </tr>\n",
       "    <tr>\n",
       "      <th>9</th>\n",
       "      <td>red</td>\n",
       "      <td>red</td>\n",
       "    </tr>\n",
       "    <tr>\n",
       "      <th>10</th>\n",
       "      <td>red</td>\n",
       "      <td>red</td>\n",
       "    </tr>\n",
       "    <tr>\n",
       "      <th>11</th>\n",
       "      <td>blue</td>\n",
       "      <td>blue</td>\n",
       "    </tr>\n",
       "  </tbody>\n",
       "</table>\n",
       "</div>"
      ],
      "text/plain": [
       "   true_values predicted\n",
       "0          red       red\n",
       "1          red       red\n",
       "2         blue      blue\n",
       "3         blue      blue\n",
       "4         blue      blue\n",
       "5         blue      blue\n",
       "6          red       red\n",
       "7          red       red\n",
       "8         blue      blue\n",
       "9          red       red\n",
       "10         red       red\n",
       "11        blue      blue"
      ]
     },
     "execution_count": 24,
     "metadata": {},
     "output_type": "execute_result"
    }
   ],
   "source": [
    "pd.DataFrame({'true_values' : y.to_numpy(), 'predicted' : model.predict(X)})"
   ]
  },
  {
   "cell_type": "markdown",
   "metadata": {},
   "source": [
    "Or if we just want to know how many we got right, in the classification setting, we can use  `score()` which gives the accuracy of the model, i.e., the proportion of correctly predicted examples.\n",
    "\n",
    "Sometimes we will also see people reporting **error**, which is usually 1 - accuracy. \n",
    "\n",
    "Our model has an accurary of 100% (or 0% error)!"
   ]
  },
  {
   "cell_type": "code",
   "execution_count": 25,
   "metadata": {},
   "outputs": [
    {
     "data": {
      "text/plain": [
       "1.0"
      ]
     },
     "execution_count": 25,
     "metadata": {},
     "output_type": "execute_result"
    }
   ],
   "source": [
    "model.score(X,y)"
   ]
  },
  {
   "cell_type": "markdown",
   "metadata": {},
   "source": [
    "### How does `.predict()` work?\n",
    "\n",
    "For us to see how our algorithm predicts for each example, all we have to do is return to our Decision Tree. "
   ]
  },
  {
   "cell_type": "code",
   "execution_count": 26,
   "metadata": {},
   "outputs": [
    {
     "data": {
      "image/png": "[encoded data removed]",
      "text/plain": [
       "<Figure size 504x648 with 1 Axes>"
      ]
     },
     "metadata": {
      "needs_background": "light"
     },
     "output_type": "display_data"
    }
   ],
   "source": [
    "plot_tree(\n",
    "    model,\n",
    "    feature_names=X.columns,\n",
    "    class_names=y.unique()[::-1],\n",
    "    impurity=False,\n",
    "    ax=plt.subplots(figsize=(7, 9))[1]\n",
    ");"
   ]
  },
  {
   "cell_type": "markdown",
   "metadata": {},
   "source": [
    "Let's use our `new_example` object for this example."
   ]
  },
  {
   "cell_type": "code",
   "execution_count": 27,
   "metadata": {},
   "outputs": [
    {
     "data": {
      "text/html": [
       "<div>\n",
       "<style scoped>\n",
       "    .dataframe tbody tr th:only-of-type {\n",
       "        vertical-align: middle;\n",
       "    }\n",
       "\n",
       "    .dataframe tbody tr th {\n",
       "        vertical-align: top;\n",
       "    }\n",
       "\n",
       "    .dataframe thead th {\n",
       "        text-align: right;\n",
       "    }\n",
       "</style>\n",
       "<table border=\"1\" class=\"dataframe\">\n",
       "  <thead>\n",
       "    <tr style=\"text-align: right;\">\n",
       "      <th></th>\n",
       "      <th>lon</th>\n",
       "      <th>lat</th>\n",
       "    </tr>\n",
       "  </thead>\n",
       "  <tbody>\n",
       "    <tr>\n",
       "      <th>0</th>\n",
       "      <td>-87.4</td>\n",
       "      <td>59</td>\n",
       "    </tr>\n",
       "  </tbody>\n",
       "</table>\n",
       "</div>"
      ],
      "text/plain": [
       "    lon  lat\n",
       "0 -87.4   59"
      ]
     },
     "execution_count": 27,
     "metadata": {},
     "output_type": "execute_result"
    }
   ],
   "source": [
    "new_example"
   ]
  },
  {
   "cell_type": "markdown",
   "metadata": {},
   "source": [
    "- First we start at the root.\n",
    "- Is `lon` <= -102...? False, so we go down the right branch.\n",
    "- Is `lon` <= -82...? True , so we go down the left branch.\n",
    "- Is `lat` <= 41...? False , so we go down the left branch.\n",
    "- Is `lon` <= -91...? False , so we go down the left branch.\n",
    "- Is `lat` <= 42...? False , so we go down the left branch and arrive at blue!\n",
    "\n",
    "Let's check this using predict again. "
   ]
  },
  {
   "cell_type": "code",
   "execution_count": 28,
   "metadata": {},
   "outputs": [
    {
     "data": {
      "text/plain": [
       "array(['blue'], dtype=object)"
      ]
     },
     "execution_count": 28,
     "metadata": {},
     "output_type": "execute_result"
    }
   ],
   "source": [
    "model.predict(new_example)"
   ]
  },
  {
   "cell_type": "markdown",
   "metadata": {},
   "source": [
    "Nice!"
   ]
  },
  {
   "cell_type": "markdown",
   "metadata": {},
   "source": [
    "### How does `.fit()` work?\n",
    "\n",
    "Or \"How does do Decision Trees decide what values to split on?\"\n",
    "\n",
    "We will not go into detail here,\n",
    "but in general the algorithm is trying to maximize the homogeneity of the target variable\n",
    "within each of the groups created from a split.\n",
    "In other words,\n",
    "observations on the left of a split should all be similar to each other\n",
    "and observation on the right of the split should all be similar to each other.\n",
    "\n",
    "There are different ways to measure similarity between observations\n",
    "and some of the most common metrics include:\n",
    "\n",
    "- Gini Index\n",
    "- Information gain\n",
    "- Cross entropy \n",
    "\n",
    "You can read more about these metrics here)[https://en.wikipedia.org/wiki/Decision_tree_learning#Metrics]\n"
   ]
  },
  {
   "cell_type": "markdown",
   "metadata": {},
   "source": [
    "## Let's Practice\n",
    "\n",
    "Using the data `candybars.csv` from the datafolder to aswer the following questions:  \n",
    "\n",
    "1\\. How many features are there?    \n",
    "2\\. How many observations are there?     \n",
    "3\\. What would be a suitable target with this data?    "
   ]
  },
  {
   "cell_type": "code",
   "execution_count": 29,
   "metadata": {},
   "outputs": [
    {
     "data": {
      "text/html": [
       "<div>\n",
       "<style scoped>\n",
       "    .dataframe tbody tr th:only-of-type {\n",
       "        vertical-align: middle;\n",
       "    }\n",
       "\n",
       "    .dataframe tbody tr th {\n",
       "        vertical-align: top;\n",
       "    }\n",
       "\n",
       "    .dataframe thead th {\n",
       "        text-align: right;\n",
       "    }\n",
       "</style>\n",
       "<table border=\"1\" class=\"dataframe\">\n",
       "  <thead>\n",
       "    <tr style=\"text-align: right;\">\n",
       "      <th></th>\n",
       "      <th>chocolate</th>\n",
       "      <th>peanuts</th>\n",
       "      <th>caramel</th>\n",
       "      <th>nougat</th>\n",
       "      <th>cookie_wafer_rice</th>\n",
       "      <th>coconut</th>\n",
       "      <th>white_chocolate</th>\n",
       "      <th>multi</th>\n",
       "      <th>availability</th>\n",
       "    </tr>\n",
       "    <tr>\n",
       "      <th>candy bar</th>\n",
       "      <th></th>\n",
       "      <th></th>\n",
       "      <th></th>\n",
       "      <th></th>\n",
       "      <th></th>\n",
       "      <th></th>\n",
       "      <th></th>\n",
       "      <th></th>\n",
       "      <th></th>\n",
       "    </tr>\n",
       "  </thead>\n",
       "  <tbody>\n",
       "    <tr>\n",
       "      <th>CoffeeCrisp</th>\n",
       "      <td>1</td>\n",
       "      <td>0</td>\n",
       "      <td>0</td>\n",
       "      <td>0</td>\n",
       "      <td>1</td>\n",
       "      <td>0</td>\n",
       "      <td>0</td>\n",
       "      <td>0</td>\n",
       "      <td>Canada</td>\n",
       "    </tr>\n",
       "    <tr>\n",
       "      <th>Butterfinger</th>\n",
       "      <td>1</td>\n",
       "      <td>1</td>\n",
       "      <td>1</td>\n",
       "      <td>0</td>\n",
       "      <td>0</td>\n",
       "      <td>0</td>\n",
       "      <td>0</td>\n",
       "      <td>0</td>\n",
       "      <td>America</td>\n",
       "    </tr>\n",
       "    <tr>\n",
       "      <th>Skor</th>\n",
       "      <td>1</td>\n",
       "      <td>0</td>\n",
       "      <td>1</td>\n",
       "      <td>0</td>\n",
       "      <td>0</td>\n",
       "      <td>0</td>\n",
       "      <td>0</td>\n",
       "      <td>0</td>\n",
       "      <td>Both</td>\n",
       "    </tr>\n",
       "    <tr>\n",
       "      <th>Smarties</th>\n",
       "      <td>1</td>\n",
       "      <td>0</td>\n",
       "      <td>0</td>\n",
       "      <td>0</td>\n",
       "      <td>0</td>\n",
       "      <td>0</td>\n",
       "      <td>0</td>\n",
       "      <td>1</td>\n",
       "      <td>Canada</td>\n",
       "    </tr>\n",
       "    <tr>\n",
       "      <th>Twix</th>\n",
       "      <td>1</td>\n",
       "      <td>0</td>\n",
       "      <td>1</td>\n",
       "      <td>0</td>\n",
       "      <td>1</td>\n",
       "      <td>0</td>\n",
       "      <td>0</td>\n",
       "      <td>1</td>\n",
       "      <td>Both</td>\n",
       "    </tr>\n",
       "    <tr>\n",
       "      <th>ReesesPeanutButterCups</th>\n",
       "      <td>1</td>\n",
       "      <td>1</td>\n",
       "      <td>0</td>\n",
       "      <td>0</td>\n",
       "      <td>0</td>\n",
       "      <td>0</td>\n",
       "      <td>0</td>\n",
       "      <td>1</td>\n",
       "      <td>Both</td>\n",
       "    </tr>\n",
       "    <tr>\n",
       "      <th>3Musketeers</th>\n",
       "      <td>1</td>\n",
       "      <td>0</td>\n",
       "      <td>0</td>\n",
       "      <td>1</td>\n",
       "      <td>0</td>\n",
       "      <td>0</td>\n",
       "      <td>0</td>\n",
       "      <td>0</td>\n",
       "      <td>America</td>\n",
       "    </tr>\n",
       "    <tr>\n",
       "      <th>Kinder Surprise</th>\n",
       "      <td>1</td>\n",
       "      <td>0</td>\n",
       "      <td>0</td>\n",
       "      <td>0</td>\n",
       "      <td>0</td>\n",
       "      <td>0</td>\n",
       "      <td>1</td>\n",
       "      <td>0</td>\n",
       "      <td>Canada</td>\n",
       "    </tr>\n",
       "    <tr>\n",
       "      <th>M&amp;Ms</th>\n",
       "      <td>1</td>\n",
       "      <td>1</td>\n",
       "      <td>0</td>\n",
       "      <td>0</td>\n",
       "      <td>0</td>\n",
       "      <td>0</td>\n",
       "      <td>0</td>\n",
       "      <td>1</td>\n",
       "      <td>Both</td>\n",
       "    </tr>\n",
       "    <tr>\n",
       "      <th>Glosettes</th>\n",
       "      <td>1</td>\n",
       "      <td>0</td>\n",
       "      <td>0</td>\n",
       "      <td>0</td>\n",
       "      <td>0</td>\n",
       "      <td>0</td>\n",
       "      <td>0</td>\n",
       "      <td>1</td>\n",
       "      <td>Canada</td>\n",
       "    </tr>\n",
       "    <tr>\n",
       "      <th>KitKat</th>\n",
       "      <td>1</td>\n",
       "      <td>0</td>\n",
       "      <td>0</td>\n",
       "      <td>0</td>\n",
       "      <td>1</td>\n",
       "      <td>0</td>\n",
       "      <td>0</td>\n",
       "      <td>1</td>\n",
       "      <td>Both</td>\n",
       "    </tr>\n",
       "    <tr>\n",
       "      <th>Babe Ruth</th>\n",
       "      <td>1</td>\n",
       "      <td>1</td>\n",
       "      <td>1</td>\n",
       "      <td>1</td>\n",
       "      <td>0</td>\n",
       "      <td>0</td>\n",
       "      <td>0</td>\n",
       "      <td>0</td>\n",
       "      <td>America</td>\n",
       "    </tr>\n",
       "    <tr>\n",
       "      <th>Caramilk</th>\n",
       "      <td>1</td>\n",
       "      <td>0</td>\n",
       "      <td>1</td>\n",
       "      <td>0</td>\n",
       "      <td>0</td>\n",
       "      <td>0</td>\n",
       "      <td>0</td>\n",
       "      <td>0</td>\n",
       "      <td>Canada</td>\n",
       "    </tr>\n",
       "    <tr>\n",
       "      <th>Aero</th>\n",
       "      <td>1</td>\n",
       "      <td>0</td>\n",
       "      <td>0</td>\n",
       "      <td>0</td>\n",
       "      <td>0</td>\n",
       "      <td>0</td>\n",
       "      <td>0</td>\n",
       "      <td>0</td>\n",
       "      <td>Canada</td>\n",
       "    </tr>\n",
       "    <tr>\n",
       "      <th>Mars</th>\n",
       "      <td>1</td>\n",
       "      <td>0</td>\n",
       "      <td>1</td>\n",
       "      <td>1</td>\n",
       "      <td>0</td>\n",
       "      <td>0</td>\n",
       "      <td>0</td>\n",
       "      <td>0</td>\n",
       "      <td>Both</td>\n",
       "    </tr>\n",
       "    <tr>\n",
       "      <th>Payday</th>\n",
       "      <td>0</td>\n",
       "      <td>1</td>\n",
       "      <td>1</td>\n",
       "      <td>0</td>\n",
       "      <td>0</td>\n",
       "      <td>0</td>\n",
       "      <td>0</td>\n",
       "      <td>0</td>\n",
       "      <td>America</td>\n",
       "    </tr>\n",
       "    <tr>\n",
       "      <th>Snickers</th>\n",
       "      <td>1</td>\n",
       "      <td>1</td>\n",
       "      <td>1</td>\n",
       "      <td>1</td>\n",
       "      <td>0</td>\n",
       "      <td>0</td>\n",
       "      <td>0</td>\n",
       "      <td>0</td>\n",
       "      <td>Both</td>\n",
       "    </tr>\n",
       "    <tr>\n",
       "      <th>Crunchie</th>\n",
       "      <td>1</td>\n",
       "      <td>0</td>\n",
       "      <td>0</td>\n",
       "      <td>0</td>\n",
       "      <td>0</td>\n",
       "      <td>0</td>\n",
       "      <td>0</td>\n",
       "      <td>0</td>\n",
       "      <td>Canada</td>\n",
       "    </tr>\n",
       "    <tr>\n",
       "      <th>Wonderbar</th>\n",
       "      <td>1</td>\n",
       "      <td>1</td>\n",
       "      <td>1</td>\n",
       "      <td>0</td>\n",
       "      <td>0</td>\n",
       "      <td>0</td>\n",
       "      <td>0</td>\n",
       "      <td>0</td>\n",
       "      <td>Canada</td>\n",
       "    </tr>\n",
       "    <tr>\n",
       "      <th>100Grand</th>\n",
       "      <td>1</td>\n",
       "      <td>0</td>\n",
       "      <td>1</td>\n",
       "      <td>0</td>\n",
       "      <td>1</td>\n",
       "      <td>0</td>\n",
       "      <td>0</td>\n",
       "      <td>0</td>\n",
       "      <td>America</td>\n",
       "    </tr>\n",
       "    <tr>\n",
       "      <th>Take5</th>\n",
       "      <td>1</td>\n",
       "      <td>1</td>\n",
       "      <td>1</td>\n",
       "      <td>0</td>\n",
       "      <td>1</td>\n",
       "      <td>0</td>\n",
       "      <td>0</td>\n",
       "      <td>0</td>\n",
       "      <td>America</td>\n",
       "    </tr>\n",
       "    <tr>\n",
       "      <th>Whatchamacallits</th>\n",
       "      <td>1</td>\n",
       "      <td>1</td>\n",
       "      <td>0</td>\n",
       "      <td>0</td>\n",
       "      <td>1</td>\n",
       "      <td>0</td>\n",
       "      <td>0</td>\n",
       "      <td>0</td>\n",
       "      <td>America</td>\n",
       "    </tr>\n",
       "    <tr>\n",
       "      <th>AlmondJoy</th>\n",
       "      <td>1</td>\n",
       "      <td>0</td>\n",
       "      <td>0</td>\n",
       "      <td>0</td>\n",
       "      <td>0</td>\n",
       "      <td>1</td>\n",
       "      <td>0</td>\n",
       "      <td>0</td>\n",
       "      <td>America</td>\n",
       "    </tr>\n",
       "    <tr>\n",
       "      <th>OhHenry</th>\n",
       "      <td>1</td>\n",
       "      <td>1</td>\n",
       "      <td>1</td>\n",
       "      <td>0</td>\n",
       "      <td>0</td>\n",
       "      <td>0</td>\n",
       "      <td>0</td>\n",
       "      <td>0</td>\n",
       "      <td>Both</td>\n",
       "    </tr>\n",
       "    <tr>\n",
       "      <th>CookiesandCream</th>\n",
       "      <td>0</td>\n",
       "      <td>0</td>\n",
       "      <td>0</td>\n",
       "      <td>0</td>\n",
       "      <td>1</td>\n",
       "      <td>0</td>\n",
       "      <td>1</td>\n",
       "      <td>0</td>\n",
       "      <td>Both</td>\n",
       "    </tr>\n",
       "  </tbody>\n",
       "</table>\n",
       "</div>"
      ],
      "text/plain": [
       "                         chocolate  peanuts  caramel  nougat  \\\n",
       "candy bar                                                      \n",
       "CoffeeCrisp                      1        0        0       0   \n",
       "Butterfinger                     1        1        1       0   \n",
       "Skor                             1        0        1       0   \n",
       "Smarties                         1        0        0       0   \n",
       "Twix                             1        0        1       0   \n",
       "ReesesPeanutButterCups           1        1        0       0   \n",
       "3Musketeers                      1        0        0       1   \n",
       "Kinder Surprise                  1        0        0       0   \n",
       "M&Ms                             1        1        0       0   \n",
       "Glosettes                        1        0        0       0   \n",
       "KitKat                           1        0        0       0   \n",
       "Babe Ruth                        1        1        1       1   \n",
       "Caramilk                         1        0        1       0   \n",
       "Aero                             1        0        0       0   \n",
       "Mars                             1        0        1       1   \n",
       "Payday                           0        1        1       0   \n",
       "Snickers                         1        1        1       1   \n",
       "Crunchie                         1        0        0       0   \n",
       "Wonderbar                        1        1        1       0   \n",
       "100Grand                         1        0        1       0   \n",
       "Take5                            1        1        1       0   \n",
       "Whatchamacallits                 1        1        0       0   \n",
       "AlmondJoy                        1        0        0       0   \n",
       "OhHenry                          1        1        1       0   \n",
       "CookiesandCream                  0        0        0       0   \n",
       "\n",
       "                         cookie_wafer_rice  coconut  white_chocolate  multi  \\\n",
       "candy bar                                                                     \n",
       "CoffeeCrisp                              1        0                0      0   \n",
       "Butterfinger                             0        0                0      0   \n",
       "Skor                                     0        0                0      0   \n",
       "Smarties                                 0        0                0      1   \n",
       "Twix                                     1        0                0      1   \n",
       "ReesesPeanutButterCups                   0        0                0      1   \n",
       "3Musketeers                              0        0                0      0   \n",
       "Kinder Surprise                          0        0                1      0   \n",
       "M&Ms                                     0        0                0      1   \n",
       "Glosettes                                0        0                0      1   \n",
       "KitKat                                   1        0                0      1   \n",
       "Babe Ruth                                0        0                0      0   \n",
       "Caramilk                                 0        0                0      0   \n",
       "Aero                                     0        0                0      0   \n",
       "Mars                                     0        0                0      0   \n",
       "Payday                                   0        0                0      0   \n",
       "Snickers                                 0        0                0      0   \n",
       "Crunchie                                 0        0                0      0   \n",
       "Wonderbar                                0        0                0      0   \n",
       "100Grand                                 1        0                0      0   \n",
       "Take5                                    1        0                0      0   \n",
       "Whatchamacallits                         1        0                0      0   \n",
       "AlmondJoy                                0        1                0      0   \n",
       "OhHenry                                  0        0                0      0   \n",
       "CookiesandCream                          1        0                1      0   \n",
       "\n",
       "                        availability  \n",
       "candy bar                             \n",
       "CoffeeCrisp                   Canada  \n",
       "Butterfinger                 America  \n",
       "Skor                            Both  \n",
       "Smarties                      Canada  \n",
       "Twix                            Both  \n",
       "ReesesPeanutButterCups          Both  \n",
       "3Musketeers                  America  \n",
       "Kinder Surprise               Canada  \n",
       "M&Ms                            Both  \n",
       "Glosettes                     Canada  \n",
       "KitKat                          Both  \n",
       "Babe Ruth                    America  \n",
       "Caramilk                      Canada  \n",
       "Aero                          Canada  \n",
       "Mars                            Both  \n",
       "Payday                       America  \n",
       "Snickers                        Both  \n",
       "Crunchie                      Canada  \n",
       "Wonderbar                     Canada  \n",
       "100Grand                     America  \n",
       "Take5                        America  \n",
       "Whatchamacallits             America  \n",
       "AlmondJoy                    America  \n",
       "OhHenry                         Both  \n",
       "CookiesandCream                 Both  "
      ]
     },
     "execution_count": 29,
     "metadata": {},
     "output_type": "execute_result"
    }
   ],
   "source": [
    "candy_df = pd.read_csv('data/candybars.csv', index_col=0)\n",
    "candy_df"
   ]
  },
  {
   "cell_type": "code",
   "execution_count": 30,
   "metadata": {},
   "outputs": [
    {
     "data": {
      "text/plain": [
       "(25, 9)"
      ]
     },
     "execution_count": 30,
     "metadata": {},
     "output_type": "execute_result"
    }
   ],
   "source": [
    "candy_df.shape"
   ]
  },
  {
   "cell_type": "markdown",
   "metadata": {},
   "source": [
    "**Answer as either `fit`  or `predict`:**   \n",
    "\n",
    "4. Is called first (before the other one).    \n",
    "5. Only takes X as an argument.    \n",
    "6. In scikit-learn, we can ignore its output.\n",
    " \n",
    "**Quick Questions:**   \n",
    "\n",
    "7. What is the top node in a decision tree called?    \n",
    "8. What Python structure/syntax are the nodes in a decision tree similar to?    "
   ]
  },
  {
   "cell_type": "markdown",
   "metadata": {},
   "source": [
    "```{admonition} Solutions!\n",
    ":class: dropdown\n",
    "1. 8\n",
    "2. 25\n",
    "3. Probably `availability` but we could use the other features as well. \n",
    "4. `fit`\n",
    "5. `predict`\n",
    "6. `fit`\n",
    "7. the root\n",
    "8. if/else conditions\n",
    "```"
   ]
  },
  {
   "cell_type": "markdown",
   "metadata": {},
   "source": [
    "## Parameters and Hyperparameters\n",
    "\n",
    "- ***Parameters***:  Derived during training and automatically set by the model.\n",
    "- ***Hyperparameters***: Can be set before training by the data scientist to influence how the model sets it parameters.\n",
    "\n",
    "E.g., we can tell the tree to use a certain metric (a hyperparameter)\n",
    "to derive the splits at each leaf (the parameters of the model).\n",
    "\n",
    "### Parameters \n",
    "\n",
    "When you call `fit` (the training stage of building your model), **parameters** get set, like the split variables and split thresholds. \n",
    "\n",
    "\n",
    "<img src='imgs/parameters.png'  width = \"30%\" alt=\"404 image\" />\n",
    " "
   ]
  },
  {
   "cell_type": "markdown",
   "metadata": {},
   "source": [
    "### Hyperparameters\n",
    "\n",
    "But even before calling `fit` on a specific data set, we can set some some \"knobs\" which that control the learning which are called **hyperparameters**. \n",
    "\n",
    "In scikit-learn, hyperparameters are set in the constructor.\n",
    "\n",
    "`max_depth`is a hyperparameter (of many) that lets us decide and set how \"deep\" we allow our tree to grow."
   ]
  },
  {
   "cell_type": "markdown",
   "metadata": {},
   "source": [
    "Let's practice by making a decision stump (A tree with a depth of 1). Our last model was made where we set the depth to \"unlimited\" so we need to initial a new model and train a new where where we set the `max_depth` hyperparameter. "
   ]
  },
  {
   "cell_type": "markdown",
   "metadata": {},
   "source": [
    "Let's see what the tree looks like now.  "
   ]
  },
  {
   "cell_type": "code",
   "execution_count": 31,
   "metadata": {},
   "outputs": [
    {
     "data": {
      "text/plain": [
       "DecisionTreeClassifier(max_depth=1)"
      ]
     },
     "execution_count": 31,
     "metadata": {},
     "output_type": "execute_result"
    }
   ],
   "source": [
    "model_1 = DecisionTreeClassifier(max_depth=1).fit(X, y)\n",
    "model_1.fit(X, y)"
   ]
  },
  {
   "cell_type": "code",
   "execution_count": 32,
   "metadata": {},
   "outputs": [
    {
     "data": {
      "image/png": "[encoded data removed]",
      "text/plain": [
       "<Figure size 360x360 with 1 Axes>"
      ]
     },
     "metadata": {
      "needs_background": "light"
     },
     "output_type": "display_data"
    }
   ],
   "source": [
    "plot_tree(\n",
    "    model_1,\n",
    "    feature_names=X.columns,\n",
    "    class_names=y.unique()[::-1],\n",
    "    impurity=False,\n",
    "    ax=plt.subplots(figsize=(5, 5))[1]\n",
    ");"
   ]
  },
  {
   "cell_type": "markdown",
   "metadata": {},
   "source": [
    "We see that it's a depth of one and split on `lon` at -102.165. \n",
    "\n",
    "- The hyperparameter `max_depth`  is being set by us at 1.\n",
    "- The parameter `lon` is set by the algorithm at -102.165. "
   ]
  },
  {
   "cell_type": "markdown",
   "metadata": {},
   "source": [
    "We can see the decision boundary at `lon`= -102.165 with the vertical line in the plot below. "
   ]
  },
  {
   "cell_type": "code",
   "execution_count": 33,
   "metadata": {},
   "outputs": [
    {
     "name": "stderr",
     "output_type": "stream",
     "text": [
      "/home/joel/miniconda3/envs/bait/lib/python3.10/site-packages/sklearn/base.py:450: UserWarning: X does not have valid feature names, but DecisionTreeClassifier was fitted with feature names\n",
      "  warnings.warn(\n"
     ]
    },
    {
     "data": {
      "image/png": "[encoded data removed]",
      "text/plain": [
       "<Figure size 432x288 with 1 Axes>"
      ]
     },
     "metadata": {
      "needs_background": "light"
     },
     "output_type": "display_data"
    }
   ],
   "source": [
    "ax = plot_classifier(X, y, model_1, ticks=True)\n",
    "ax.set_xlabel('lon', fontsize=20)\n",
    "ax.set_ylabel('lat', fontsize=20);"
   ]
  },
  {
   "cell_type": "markdown",
   "metadata": {},
   "source": [
    "- Looking  at the score of this model, we get an accuracy of 75%."
   ]
  },
  {
   "cell_type": "code",
   "execution_count": 34,
   "metadata": {},
   "outputs": [
    {
     "data": {
      "text/plain": [
       "0.8333333333333334"
      ]
     },
     "execution_count": 34,
     "metadata": {},
     "output_type": "execute_result"
    }
   ],
   "source": [
    "model_1.score(X, y)"
   ]
  },
  {
   "cell_type": "markdown",
   "metadata": {},
   "source": [
    "Let's try growing a more complex tree model and now set `max_depth = 3`"
   ]
  },
  {
   "cell_type": "code",
   "execution_count": 35,
   "metadata": {},
   "outputs": [],
   "source": [
    "model_3 = DecisionTreeClassifier(max_depth=3).fit(X, y)"
   ]
  },
  {
   "cell_type": "code",
   "execution_count": 36,
   "metadata": {},
   "outputs": [
    {
     "data": {
      "image/png": "[encoded data removed]",
      "text/plain": [
       "<Figure size 432x432 with 1 Axes>"
      ]
     },
     "metadata": {
      "needs_background": "light"
     },
     "output_type": "display_data"
    }
   ],
   "source": [
    "plot_tree(\n",
    "    model_3,\n",
    "    feature_names=X.columns,\n",
    "    class_names=y.unique()[::-1],\n",
    "    impurity=False,\n",
    "    ax=plt.subplots(figsize=(6, 6))[1]\n",
    ");"
   ]
  },
  {
   "cell_type": "markdown",
   "metadata": {},
   "source": [
    "This has 4 splits in the tree so we expect 4 decision boundaries (2 on `lon` and 2 on `lat`). "
   ]
  },
  {
   "cell_type": "code",
   "execution_count": 37,
   "metadata": {},
   "outputs": [
    {
     "name": "stderr",
     "output_type": "stream",
     "text": [
      "/home/joel/miniconda3/envs/bait/lib/python3.10/site-packages/sklearn/base.py:450: UserWarning: X does not have valid feature names, but DecisionTreeClassifier was fitted with feature names\n",
      "  warnings.warn(\n"
     ]
    },
    {
     "data": {
      "image/png": "[encoded data removed]",
      "text/plain": [
       "<Figure size 432x288 with 1 Axes>"
      ]
     },
     "metadata": {
      "needs_background": "light"
     },
     "output_type": "display_data"
    }
   ],
   "source": [
    "plot_classifier(X, y, model_3, ticks=True)\n",
    "ax.set_xlabel('lon', fontsize=20)\n",
    "ax.set_ylabel('lat', fontsize=20);"
   ]
  },
  {
   "cell_type": "markdown",
   "metadata": {},
   "source": [
    "- Looking at the score of this model now get an accuracy of 90%! "
   ]
  },
  {
   "cell_type": "code",
   "execution_count": 38,
   "metadata": {},
   "outputs": [
    {
     "data": {
      "text/plain": [
       "1.0"
      ]
     },
     "execution_count": 38,
     "metadata": {},
     "output_type": "execute_result"
    }
   ],
   "source": [
    "model_3.score(X, y)"
   ]
  },
  {
   "cell_type": "markdown",
   "metadata": {},
   "source": [
    "Let's do one more and set `max_depth = 5`."
   ]
  },
  {
   "cell_type": "code",
   "execution_count": 39,
   "metadata": {},
   "outputs": [],
   "source": [
    "model_5 = DecisionTreeClassifier(max_depth=5).fit(X, y)"
   ]
  },
  {
   "cell_type": "code",
   "execution_count": 40,
   "metadata": {},
   "outputs": [
    {
     "data": {
      "image/png": "[encoded data removed]",
      "text/plain": [
       "<Figure size 576x576 with 1 Axes>"
      ]
     },
     "metadata": {
      "needs_background": "light"
     },
     "output_type": "display_data"
    }
   ],
   "source": [
    "plot_tree(\n",
    "    model_5,\n",
    "    feature_names=X.columns,\n",
    "    class_names=y.unique()[::-1],\n",
    "    impurity=False,\n",
    "    ax=plt.subplots(figsize=(8, 8))[1]\n",
    ");"
   ]
  },
  {
   "cell_type": "markdown",
   "metadata": {},
   "source": [
    "This has 7 splits in the tree. How many decision boundaries should there be?"
   ]
  },
  {
   "cell_type": "code",
   "execution_count": 41,
   "metadata": {},
   "outputs": [
    {
     "name": "stderr",
     "output_type": "stream",
     "text": [
      "/home/joel/miniconda3/envs/bait/lib/python3.10/site-packages/sklearn/base.py:450: UserWarning: X does not have valid feature names, but DecisionTreeClassifier was fitted with feature names\n",
      "  warnings.warn(\n"
     ]
    },
    {
     "data": {
      "image/png": "[encoded data removed]",
      "text/plain": [
       "<Figure size 432x288 with 1 Axes>"
      ]
     },
     "metadata": {
      "needs_background": "light"
     },
     "output_type": "display_data"
    }
   ],
   "source": [
    "plot_classifier(X, y, model_5, ticks=True)\n",
    "ax.set_xlabel('lon', fontsize=20)\n",
    "ax.set_ylabel('lat', fontsize=20);"
   ]
  },
  {
   "cell_type": "markdown",
   "metadata": {},
   "source": [
    "And if we check the score of this model we get 100% accuracy! "
   ]
  },
  {
   "cell_type": "code",
   "execution_count": 42,
   "metadata": {},
   "outputs": [
    {
     "data": {
      "text/plain": [
       "1.0"
      ]
     },
     "execution_count": 42,
     "metadata": {},
     "output_type": "execute_result"
    }
   ],
   "source": [
    "model_5.score(X, y)"
   ]
  },
  {
   "cell_type": "markdown",
   "metadata": {},
   "source": [
    "We see here that as `max_depth` increases, the accuracy of the training data does as well.\n",
    "\n",
    "Doing this isn’t always the best idea and we’ll explain this a little bit later on.\n",
    "\n",
    "- This is just one of many other hyperparameters for decision trees that you can explore -> link <a href=\"https://scikit-learn.org/stable/modules/generated/sklearn.tree.DecisionTreeClassifier.html\" target=\"_blank\">here</a> There are many other hyperparameters for decision trees that you can explore at the link <a href=\"https://scikit-learn.org/stable/modules/generated/sklearn.tree.DecisionTreeClassifier.html\" target=\"_blank\">here</a>."
   ]
  },
  {
   "cell_type": "markdown",
   "metadata": {},
   "source": [
    "To summarize this section:\n",
    "- **parameters** are automatically learned by an algorithm during training\n",
    "- **hyperparameters** are specified before training"
   ]
  },
  {
   "cell_type": "markdown",
   "metadata": {},
   "source": [
    "## Decision Tree Regressor "
   ]
  },
  {
   "cell_type": "markdown",
   "metadata": {},
   "source": [
    "We saw that we can use decision trees for classification problems but we can also use this decision tree algorithm for regression problems.  \n",
    "\n",
    "Instead of using Gini impurity (which we briefly mentioned this above), we can use <a href=\"https://scikit-learn.org/stable/modules/tree.html#mathematical-formulation\" target=\"_blank\">some other criteria</a> for splitting. \n",
    "\n",
    "(A common one is mean squared error (MSE) which we will discuss shortly)\n",
    "\n",
    "`scikit-learn` supports regression using decision trees with `DecisionTreeRegressor()` and the `.fit()` and `.predict()` paradigm that is similar to classification.\n",
    "\n",
    "Let's do an example using the `kc_house_data` we saw in example 1. "
   ]
  },
  {
   "cell_type": "code",
   "execution_count": 43,
   "metadata": {},
   "outputs": [
    {
     "data": {
      "text/html": [
       "<div>\n",
       "<style scoped>\n",
       "    .dataframe tbody tr th:only-of-type {\n",
       "        vertical-align: middle;\n",
       "    }\n",
       "\n",
       "    .dataframe tbody tr th {\n",
       "        vertical-align: top;\n",
       "    }\n",
       "\n",
       "    .dataframe thead th {\n",
       "        text-align: right;\n",
       "    }\n",
       "</style>\n",
       "<table border=\"1\" class=\"dataframe\">\n",
       "  <thead>\n",
       "    <tr style=\"text-align: right;\">\n",
       "      <th></th>\n",
       "      <th>price</th>\n",
       "      <th>bedrooms</th>\n",
       "      <th>bathrooms</th>\n",
       "      <th>sqft_living</th>\n",
       "      <th>sqft_lot</th>\n",
       "      <th>floors</th>\n",
       "      <th>waterfront</th>\n",
       "      <th>view</th>\n",
       "      <th>condition</th>\n",
       "      <th>grade</th>\n",
       "      <th>sqft_above</th>\n",
       "      <th>sqft_basement</th>\n",
       "      <th>yr_built</th>\n",
       "      <th>yr_renovated</th>\n",
       "      <th>zipcode</th>\n",
       "      <th>lat</th>\n",
       "      <th>long</th>\n",
       "      <th>sqft_living15</th>\n",
       "      <th>sqft_lot15</th>\n",
       "    </tr>\n",
       "  </thead>\n",
       "  <tbody>\n",
       "    <tr>\n",
       "      <th>0</th>\n",
       "      <td>221900.0</td>\n",
       "      <td>3</td>\n",
       "      <td>1.00</td>\n",
       "      <td>1180</td>\n",
       "      <td>5650</td>\n",
       "      <td>1.0</td>\n",
       "      <td>0</td>\n",
       "      <td>0</td>\n",
       "      <td>3</td>\n",
       "      <td>7</td>\n",
       "      <td>1180</td>\n",
       "      <td>0</td>\n",
       "      <td>1955</td>\n",
       "      <td>0</td>\n",
       "      <td>98178</td>\n",
       "      <td>47.5112</td>\n",
       "      <td>-122.257</td>\n",
       "      <td>1340</td>\n",
       "      <td>5650</td>\n",
       "    </tr>\n",
       "    <tr>\n",
       "      <th>1</th>\n",
       "      <td>538000.0</td>\n",
       "      <td>3</td>\n",
       "      <td>2.25</td>\n",
       "      <td>2570</td>\n",
       "      <td>7242</td>\n",
       "      <td>2.0</td>\n",
       "      <td>0</td>\n",
       "      <td>0</td>\n",
       "      <td>3</td>\n",
       "      <td>7</td>\n",
       "      <td>2170</td>\n",
       "      <td>400</td>\n",
       "      <td>1951</td>\n",
       "      <td>1991</td>\n",
       "      <td>98125</td>\n",
       "      <td>47.7210</td>\n",
       "      <td>-122.319</td>\n",
       "      <td>1690</td>\n",
       "      <td>7639</td>\n",
       "    </tr>\n",
       "    <tr>\n",
       "      <th>2</th>\n",
       "      <td>180000.0</td>\n",
       "      <td>2</td>\n",
       "      <td>1.00</td>\n",
       "      <td>770</td>\n",
       "      <td>10000</td>\n",
       "      <td>1.0</td>\n",
       "      <td>0</td>\n",
       "      <td>0</td>\n",
       "      <td>3</td>\n",
       "      <td>6</td>\n",
       "      <td>770</td>\n",
       "      <td>0</td>\n",
       "      <td>1933</td>\n",
       "      <td>0</td>\n",
       "      <td>98028</td>\n",
       "      <td>47.7379</td>\n",
       "      <td>-122.233</td>\n",
       "      <td>2720</td>\n",
       "      <td>8062</td>\n",
       "    </tr>\n",
       "    <tr>\n",
       "      <th>3</th>\n",
       "      <td>604000.0</td>\n",
       "      <td>4</td>\n",
       "      <td>3.00</td>\n",
       "      <td>1960</td>\n",
       "      <td>5000</td>\n",
       "      <td>1.0</td>\n",
       "      <td>0</td>\n",
       "      <td>0</td>\n",
       "      <td>5</td>\n",
       "      <td>7</td>\n",
       "      <td>1050</td>\n",
       "      <td>910</td>\n",
       "      <td>1965</td>\n",
       "      <td>0</td>\n",
       "      <td>98136</td>\n",
       "      <td>47.5208</td>\n",
       "      <td>-122.393</td>\n",
       "      <td>1360</td>\n",
       "      <td>5000</td>\n",
       "    </tr>\n",
       "    <tr>\n",
       "      <th>4</th>\n",
       "      <td>510000.0</td>\n",
       "      <td>3</td>\n",
       "      <td>2.00</td>\n",
       "      <td>1680</td>\n",
       "      <td>8080</td>\n",
       "      <td>1.0</td>\n",
       "      <td>0</td>\n",
       "      <td>0</td>\n",
       "      <td>3</td>\n",
       "      <td>8</td>\n",
       "      <td>1680</td>\n",
       "      <td>0</td>\n",
       "      <td>1987</td>\n",
       "      <td>0</td>\n",
       "      <td>98074</td>\n",
       "      <td>47.6168</td>\n",
       "      <td>-122.045</td>\n",
       "      <td>1800</td>\n",
       "      <td>7503</td>\n",
       "    </tr>\n",
       "  </tbody>\n",
       "</table>\n",
       "</div>"
      ],
      "text/plain": [
       "      price  bedrooms  bathrooms  sqft_living  sqft_lot  floors  waterfront  \\\n",
       "0  221900.0         3       1.00         1180      5650     1.0           0   \n",
       "1  538000.0         3       2.25         2570      7242     2.0           0   \n",
       "2  180000.0         2       1.00          770     10000     1.0           0   \n",
       "3  604000.0         4       3.00         1960      5000     1.0           0   \n",
       "4  510000.0         3       2.00         1680      8080     1.0           0   \n",
       "\n",
       "   view  condition  grade  sqft_above  sqft_basement  yr_built  yr_renovated  \\\n",
       "0     0          3      7        1180              0      1955             0   \n",
       "1     0          3      7        2170            400      1951          1991   \n",
       "2     0          3      6         770              0      1933             0   \n",
       "3     0          5      7        1050            910      1965             0   \n",
       "4     0          3      8        1680              0      1987             0   \n",
       "\n",
       "   zipcode      lat     long  sqft_living15  sqft_lot15  \n",
       "0    98178  47.5112 -122.257           1340        5650  \n",
       "1    98125  47.7210 -122.319           1690        7639  \n",
       "2    98028  47.7379 -122.233           2720        8062  \n",
       "3    98136  47.5208 -122.393           1360        5000  \n",
       "4    98074  47.6168 -122.045           1800        7503  "
      ]
     },
     "execution_count": 43,
     "metadata": {},
     "output_type": "execute_result"
    }
   ],
   "source": [
    "df = pd.read_csv(\"data/kc_house_data.csv\")\n",
    "df = df.drop(columns=[\"id\", \"date\"])\n",
    "df.head()"
   ]
  },
  {
   "cell_type": "code",
   "execution_count": 44,
   "metadata": {},
   "outputs": [
    {
     "data": {
      "text/html": [
       "<div>\n",
       "<style scoped>\n",
       "    .dataframe tbody tr th:only-of-type {\n",
       "        vertical-align: middle;\n",
       "    }\n",
       "\n",
       "    .dataframe tbody tr th {\n",
       "        vertical-align: top;\n",
       "    }\n",
       "\n",
       "    .dataframe thead th {\n",
       "        text-align: right;\n",
       "    }\n",
       "</style>\n",
       "<table border=\"1\" class=\"dataframe\">\n",
       "  <thead>\n",
       "    <tr style=\"text-align: right;\">\n",
       "      <th></th>\n",
       "      <th>bedrooms</th>\n",
       "      <th>bathrooms</th>\n",
       "      <th>sqft_living</th>\n",
       "      <th>sqft_lot</th>\n",
       "      <th>floors</th>\n",
       "      <th>waterfront</th>\n",
       "      <th>view</th>\n",
       "      <th>condition</th>\n",
       "      <th>grade</th>\n",
       "      <th>sqft_above</th>\n",
       "      <th>sqft_basement</th>\n",
       "      <th>yr_built</th>\n",
       "      <th>yr_renovated</th>\n",
       "      <th>zipcode</th>\n",
       "      <th>lat</th>\n",
       "      <th>long</th>\n",
       "      <th>sqft_living15</th>\n",
       "      <th>sqft_lot15</th>\n",
       "    </tr>\n",
       "  </thead>\n",
       "  <tbody>\n",
       "    <tr>\n",
       "      <th>0</th>\n",
       "      <td>3</td>\n",
       "      <td>1.00</td>\n",
       "      <td>1180</td>\n",
       "      <td>5650</td>\n",
       "      <td>1.0</td>\n",
       "      <td>0</td>\n",
       "      <td>0</td>\n",
       "      <td>3</td>\n",
       "      <td>7</td>\n",
       "      <td>1180</td>\n",
       "      <td>0</td>\n",
       "      <td>1955</td>\n",
       "      <td>0</td>\n",
       "      <td>98178</td>\n",
       "      <td>47.5112</td>\n",
       "      <td>-122.257</td>\n",
       "      <td>1340</td>\n",
       "      <td>5650</td>\n",
       "    </tr>\n",
       "    <tr>\n",
       "      <th>1</th>\n",
       "      <td>3</td>\n",
       "      <td>2.25</td>\n",
       "      <td>2570</td>\n",
       "      <td>7242</td>\n",
       "      <td>2.0</td>\n",
       "      <td>0</td>\n",
       "      <td>0</td>\n",
       "      <td>3</td>\n",
       "      <td>7</td>\n",
       "      <td>2170</td>\n",
       "      <td>400</td>\n",
       "      <td>1951</td>\n",
       "      <td>1991</td>\n",
       "      <td>98125</td>\n",
       "      <td>47.7210</td>\n",
       "      <td>-122.319</td>\n",
       "      <td>1690</td>\n",
       "      <td>7639</td>\n",
       "    </tr>\n",
       "    <tr>\n",
       "      <th>2</th>\n",
       "      <td>2</td>\n",
       "      <td>1.00</td>\n",
       "      <td>770</td>\n",
       "      <td>10000</td>\n",
       "      <td>1.0</td>\n",
       "      <td>0</td>\n",
       "      <td>0</td>\n",
       "      <td>3</td>\n",
       "      <td>6</td>\n",
       "      <td>770</td>\n",
       "      <td>0</td>\n",
       "      <td>1933</td>\n",
       "      <td>0</td>\n",
       "      <td>98028</td>\n",
       "      <td>47.7379</td>\n",
       "      <td>-122.233</td>\n",
       "      <td>2720</td>\n",
       "      <td>8062</td>\n",
       "    </tr>\n",
       "    <tr>\n",
       "      <th>3</th>\n",
       "      <td>4</td>\n",
       "      <td>3.00</td>\n",
       "      <td>1960</td>\n",
       "      <td>5000</td>\n",
       "      <td>1.0</td>\n",
       "      <td>0</td>\n",
       "      <td>0</td>\n",
       "      <td>5</td>\n",
       "      <td>7</td>\n",
       "      <td>1050</td>\n",
       "      <td>910</td>\n",
       "      <td>1965</td>\n",
       "      <td>0</td>\n",
       "      <td>98136</td>\n",
       "      <td>47.5208</td>\n",
       "      <td>-122.393</td>\n",
       "      <td>1360</td>\n",
       "      <td>5000</td>\n",
       "    </tr>\n",
       "    <tr>\n",
       "      <th>4</th>\n",
       "      <td>3</td>\n",
       "      <td>2.00</td>\n",
       "      <td>1680</td>\n",
       "      <td>8080</td>\n",
       "      <td>1.0</td>\n",
       "      <td>0</td>\n",
       "      <td>0</td>\n",
       "      <td>3</td>\n",
       "      <td>8</td>\n",
       "      <td>1680</td>\n",
       "      <td>0</td>\n",
       "      <td>1987</td>\n",
       "      <td>0</td>\n",
       "      <td>98074</td>\n",
       "      <td>47.6168</td>\n",
       "      <td>-122.045</td>\n",
       "      <td>1800</td>\n",
       "      <td>7503</td>\n",
       "    </tr>\n",
       "  </tbody>\n",
       "</table>\n",
       "</div>"
      ],
      "text/plain": [
       "   bedrooms  bathrooms  sqft_living  sqft_lot  floors  waterfront  view  \\\n",
       "0         3       1.00         1180      5650     1.0           0     0   \n",
       "1         3       2.25         2570      7242     2.0           0     0   \n",
       "2         2       1.00          770     10000     1.0           0     0   \n",
       "3         4       3.00         1960      5000     1.0           0     0   \n",
       "4         3       2.00         1680      8080     1.0           0     0   \n",
       "\n",
       "   condition  grade  sqft_above  sqft_basement  yr_built  yr_renovated  \\\n",
       "0          3      7        1180              0      1955             0   \n",
       "1          3      7        2170            400      1951          1991   \n",
       "2          3      6         770              0      1933             0   \n",
       "3          5      7        1050            910      1965             0   \n",
       "4          3      8        1680              0      1987             0   \n",
       "\n",
       "   zipcode      lat     long  sqft_living15  sqft_lot15  \n",
       "0    98178  47.5112 -122.257           1340        5650  \n",
       "1    98125  47.7210 -122.319           1690        7639  \n",
       "2    98028  47.7379 -122.233           2720        8062  \n",
       "3    98136  47.5208 -122.393           1360        5000  \n",
       "4    98074  47.6168 -122.045           1800        7503  "
      ]
     },
     "execution_count": 44,
     "metadata": {},
     "output_type": "execute_result"
    }
   ],
   "source": [
    "X = df.drop(columns=[\"price\"])\n",
    "X.head()"
   ]
  },
  {
   "cell_type": "code",
   "execution_count": 45,
   "metadata": {},
   "outputs": [
    {
     "data": {
      "text/plain": [
       "0    221900.0\n",
       "1    538000.0\n",
       "2    180000.0\n",
       "3    604000.0\n",
       "4    510000.0\n",
       "Name: price, dtype: float64"
      ]
     },
     "execution_count": 45,
     "metadata": {},
     "output_type": "execute_result"
    }
   ],
   "source": [
    "y = df[\"price\"]\n",
    "y.head()"
   ]
  },
  {
   "cell_type": "markdown",
   "metadata": {},
   "source": [
    "We can see that instead of predicting a categorical column like we did with `vote` before, our target column is now numeric. \n",
    "\n",
    "Instead of importing `DecisionTreeClassifier`, we import `DecisionTreeRegressor`.\n",
    "\n",
    "We follow the same steps as before and can even set hyperparameters as we did in classification. \n",
    "\n",
    "Here, when we build our model, we are specifying a `max_depth` of 3. \n",
    "\n",
    "This means our decision tree is going to be constrained to a depth of 3."
   ]
  },
  {
   "cell_type": "code",
   "execution_count": 46,
   "metadata": {},
   "outputs": [
    {
     "data": {
      "text/plain": [
       "DecisionTreeRegressor(max_depth=3, random_state=1)"
      ]
     },
     "execution_count": 46,
     "metadata": {},
     "output_type": "execute_result"
    }
   ],
   "source": [
    "from sklearn.tree import DecisionTreeRegressor\n",
    "\n",
    "depth = 3\n",
    "reg_model = DecisionTreeRegressor(max_depth=depth, random_state=1)\n",
    "reg_model.fit(X, y)"
   ]
  },
  {
   "cell_type": "markdown",
   "metadata": {},
   "source": [
    "Let's look at the tree it produces our leaves used to contain a categorical value for prediction, but this time we see our leaves are predicting numerical values."
   ]
  },
  {
   "cell_type": "code",
   "execution_count": 47,
   "metadata": {},
   "outputs": [
    {
     "data": {
      "image/png": "[encoded data removed]",
      "text/plain": [
       "<Figure size 1080x720 with 1 Axes>"
      ]
     },
     "metadata": {
      "needs_background": "light"
     },
     "output_type": "display_data"
    }
   ],
   "source": [
    "plot_tree(\n",
    "    reg_model,\n",
    "    feature_names=X.columns,\n",
    "    impurity=False,\n",
    "    ax=plt.subplots(figsize=(15, 10))[1]\n",
    ");"
   ]
  },
  {
   "cell_type": "markdown",
   "metadata": {},
   "source": [
    "Let's see what our model predicts for a single example. "
   ]
  },
  {
   "cell_type": "code",
   "execution_count": 48,
   "metadata": {},
   "outputs": [
    {
     "data": {
      "text/html": [
       "<div>\n",
       "<style scoped>\n",
       "    .dataframe tbody tr th:only-of-type {\n",
       "        vertical-align: middle;\n",
       "    }\n",
       "\n",
       "    .dataframe tbody tr th {\n",
       "        vertical-align: top;\n",
       "    }\n",
       "\n",
       "    .dataframe thead th {\n",
       "        text-align: right;\n",
       "    }\n",
       "</style>\n",
       "<table border=\"1\" class=\"dataframe\">\n",
       "  <thead>\n",
       "    <tr style=\"text-align: right;\">\n",
       "      <th></th>\n",
       "      <th>bedrooms</th>\n",
       "      <th>bathrooms</th>\n",
       "      <th>sqft_living</th>\n",
       "      <th>sqft_lot</th>\n",
       "      <th>floors</th>\n",
       "      <th>waterfront</th>\n",
       "      <th>view</th>\n",
       "      <th>condition</th>\n",
       "      <th>grade</th>\n",
       "      <th>sqft_above</th>\n",
       "      <th>sqft_basement</th>\n",
       "      <th>yr_built</th>\n",
       "      <th>yr_renovated</th>\n",
       "      <th>zipcode</th>\n",
       "      <th>lat</th>\n",
       "      <th>long</th>\n",
       "      <th>sqft_living15</th>\n",
       "      <th>sqft_lot15</th>\n",
       "    </tr>\n",
       "  </thead>\n",
       "  <tbody>\n",
       "    <tr>\n",
       "      <th>0</th>\n",
       "      <td>3</td>\n",
       "      <td>1.0</td>\n",
       "      <td>1180</td>\n",
       "      <td>5650</td>\n",
       "      <td>1.0</td>\n",
       "      <td>0</td>\n",
       "      <td>0</td>\n",
       "      <td>3</td>\n",
       "      <td>7</td>\n",
       "      <td>1180</td>\n",
       "      <td>0</td>\n",
       "      <td>1955</td>\n",
       "      <td>0</td>\n",
       "      <td>98178</td>\n",
       "      <td>47.5112</td>\n",
       "      <td>-122.257</td>\n",
       "      <td>1340</td>\n",
       "      <td>5650</td>\n",
       "    </tr>\n",
       "  </tbody>\n",
       "</table>\n",
       "</div>"
      ],
      "text/plain": [
       "   bedrooms  bathrooms  sqft_living  sqft_lot  floors  waterfront  view  \\\n",
       "0         3        1.0         1180      5650     1.0           0     0   \n",
       "\n",
       "   condition  grade  sqft_above  sqft_basement  yr_built  yr_renovated  \\\n",
       "0          3      7        1180              0      1955             0   \n",
       "\n",
       "   zipcode      lat     long  sqft_living15  sqft_lot15  \n",
       "0    98178  47.5112 -122.257           1340        5650  "
      ]
     },
     "execution_count": 48,
     "metadata": {},
     "output_type": "execute_result"
    }
   ],
   "source": [
    "X.loc[[0]]"
   ]
  },
  {
   "cell_type": "code",
   "execution_count": 49,
   "metadata": {},
   "outputs": [
    {
     "data": {
      "text/plain": [
       "array([269848.39378011])"
      ]
     },
     "execution_count": 49,
     "metadata": {},
     "output_type": "execute_result"
    }
   ],
   "source": [
    "reg_model.predict(X.loc[[0]])"
   ]
  },
  {
   "cell_type": "markdown",
   "metadata": {},
   "source": [
    "Our model predicts a housing price of $269848.39 \n",
    "\n",
    "Should we see what the true value is? "
   ]
  },
  {
   "cell_type": "code",
   "execution_count": 50,
   "metadata": {},
   "outputs": [
    {
     "data": {
      "text/plain": [
       "0    221900.0\n",
       "Name: price, dtype: float64"
      ]
     },
     "execution_count": 50,
     "metadata": {},
     "output_type": "execute_result"
    }
   ],
   "source": [
    "y.loc[[0]]"
   ]
  },
  {
   "cell_type": "markdown",
   "metadata": {},
   "source": [
    "The true value is $221900.0, but how well did it score? \n",
    "\n",
    "With regression problems we can't use accuracy for a scoring method so instead when we use `.score()`  it returns somethings called an <a href=\"https://scikit-learn.org/stable/modules/generated/sklearn.metrics.r2_score.html#sklearn.metrics.r2_score\" target=\"_blank\"> 𝑅2 (r squared) score</a>."
   ]
  },
  {
   "cell_type": "code",
   "execution_count": 51,
   "metadata": {},
   "outputs": [
    {
     "data": {
      "text/plain": [
       "0.6069320183816143"
      ]
     },
     "execution_count": 51,
     "metadata": {},
     "output_type": "execute_result"
    }
   ],
   "source": [
    "reg_model.score(X,y)"
   ]
  },
  {
   "cell_type": "markdown",
   "metadata": {},
   "source": [
    "The maximum 𝑅2 is 1 for perfect predictions,\n",
    "0 means that the same value would be predicted regardless of the input value,\n",
    "and a negative value would mean that the model is performing worse than outputting a constant value\n",
    "(e.g. the higher the actual value, the lower the prediction is)."
   ]
  },
  {
   "cell_type": "markdown",
   "metadata": {},
   "source": [
    "## Let's Practice - Coding "
   ]
  },
  {
   "cell_type": "markdown",
   "metadata": {},
   "source": [
    "Using the data `candybars.csv` from the datafolder (or going to exercise 7 [here](https://ml-learn.mds.ubc.ca/en/module2))  for the following:\n",
    "1. Define two objects named `X` and `y` which contain the features and target column respectively.\n",
    "2. Using sklearn, create 3 different decision tree classifiers using 3 different `min_samples_split` values based on this data.\n",
    "3. What is the accuracy of each classifier on the training data?\n",
    "4. a) Which `min_samples_split` value would you choose to predict this data? <br>\n",
    "   b) Would you choose the same `min_samples_split` value to predict new data?\n",
    "5. Do you think most of the computational effort for a decision tree takes place in the `.fit()` stage or `.predict()` stage?"
   ]
  },
  {
   "cell_type": "code",
   "execution_count": 52,
   "metadata": {
    "scrolled": true
   },
   "outputs": [
    {
     "data": {
      "text/html": [
       "<div>\n",
       "<style scoped>\n",
       "    .dataframe tbody tr th:only-of-type {\n",
       "        vertical-align: middle;\n",
       "    }\n",
       "\n",
       "    .dataframe tbody tr th {\n",
       "        vertical-align: top;\n",
       "    }\n",
       "\n",
       "    .dataframe thead th {\n",
       "        text-align: right;\n",
       "    }\n",
       "</style>\n",
       "<table border=\"1\" class=\"dataframe\">\n",
       "  <thead>\n",
       "    <tr style=\"text-align: right;\">\n",
       "      <th></th>\n",
       "      <th>chocolate</th>\n",
       "      <th>peanuts</th>\n",
       "      <th>caramel</th>\n",
       "      <th>nougat</th>\n",
       "      <th>cookie_wafer_rice</th>\n",
       "      <th>coconut</th>\n",
       "      <th>white_chocolate</th>\n",
       "      <th>multi</th>\n",
       "      <th>availability</th>\n",
       "    </tr>\n",
       "    <tr>\n",
       "      <th>candy bar</th>\n",
       "      <th></th>\n",
       "      <th></th>\n",
       "      <th></th>\n",
       "      <th></th>\n",
       "      <th></th>\n",
       "      <th></th>\n",
       "      <th></th>\n",
       "      <th></th>\n",
       "      <th></th>\n",
       "    </tr>\n",
       "  </thead>\n",
       "  <tbody>\n",
       "    <tr>\n",
       "      <th>CoffeeCrisp</th>\n",
       "      <td>1</td>\n",
       "      <td>0</td>\n",
       "      <td>0</td>\n",
       "      <td>0</td>\n",
       "      <td>1</td>\n",
       "      <td>0</td>\n",
       "      <td>0</td>\n",
       "      <td>0</td>\n",
       "      <td>Canada</td>\n",
       "    </tr>\n",
       "    <tr>\n",
       "      <th>Butterfinger</th>\n",
       "      <td>1</td>\n",
       "      <td>1</td>\n",
       "      <td>1</td>\n",
       "      <td>0</td>\n",
       "      <td>0</td>\n",
       "      <td>0</td>\n",
       "      <td>0</td>\n",
       "      <td>0</td>\n",
       "      <td>America</td>\n",
       "    </tr>\n",
       "    <tr>\n",
       "      <th>Skor</th>\n",
       "      <td>1</td>\n",
       "      <td>0</td>\n",
       "      <td>1</td>\n",
       "      <td>0</td>\n",
       "      <td>0</td>\n",
       "      <td>0</td>\n",
       "      <td>0</td>\n",
       "      <td>0</td>\n",
       "      <td>Both</td>\n",
       "    </tr>\n",
       "    <tr>\n",
       "      <th>Smarties</th>\n",
       "      <td>1</td>\n",
       "      <td>0</td>\n",
       "      <td>0</td>\n",
       "      <td>0</td>\n",
       "      <td>0</td>\n",
       "      <td>0</td>\n",
       "      <td>0</td>\n",
       "      <td>1</td>\n",
       "      <td>Canada</td>\n",
       "    </tr>\n",
       "    <tr>\n",
       "      <th>Twix</th>\n",
       "      <td>1</td>\n",
       "      <td>0</td>\n",
       "      <td>1</td>\n",
       "      <td>0</td>\n",
       "      <td>1</td>\n",
       "      <td>0</td>\n",
       "      <td>0</td>\n",
       "      <td>1</td>\n",
       "      <td>Both</td>\n",
       "    </tr>\n",
       "  </tbody>\n",
       "</table>\n",
       "</div>"
      ],
      "text/plain": [
       "              chocolate  peanuts  caramel  nougat  cookie_wafer_rice  coconut  \\\n",
       "candy bar                                                                       \n",
       "CoffeeCrisp           1        0        0       0                  1        0   \n",
       "Butterfinger          1        1        1       0                  0        0   \n",
       "Skor                  1        0        1       0                  0        0   \n",
       "Smarties              1        0        0       0                  0        0   \n",
       "Twix                  1        0        1       0                  1        0   \n",
       "\n",
       "              white_chocolate  multi availability  \n",
       "candy bar                                          \n",
       "CoffeeCrisp                 0      0       Canada  \n",
       "Butterfinger                0      0      America  \n",
       "Skor                        0      0         Both  \n",
       "Smarties                    0      1       Canada  \n",
       "Twix                        0      1         Both  "
      ]
     },
     "execution_count": 52,
     "metadata": {},
     "output_type": "execute_result"
    }
   ],
   "source": [
    "candy_df = pd.read_csv('data/candybars.csv', index_col=0)\n",
    "candy_df.head()"
   ]
  },
  {
   "cell_type": "markdown",
   "metadata": {},
   "source": [
    "## What We've Learned Today<a id=\"9\"></a>\n",
    "\n",
    "- What is machine learning (supervised/unsupervised, classification/regression)\n",
    "- Machine learning terminology\n",
    "- What is the decision tree algorithm and how does it work\n",
    "- The scikit-learn library\n",
    "- Parameters and hyperparameters"
   ]
  }
 ],
 "metadata": {
  "kernelspec": {
   "display_name": "Python [conda env:bait]",
   "language": "python",
   "name": "conda-env-bait-py"
  },
  "language_info": {
   "codemirror_mode": {
    "name": "ipython",
    "version": 3
   },
   "file_extension": ".py",
   "mimetype": "text/x-python",
   "name": "python",
   "nbconvert_exporter": "python",
   "pygments_lexer": "ipython3",
   "version": "3.10.1"
  },
  "toc": {
   "base_numbering": "0",
   "nav_menu": {},
   "number_sections": true,
   "sideBar": true,
   "skip_h1_title": true,
   "title_cell": "Table of Contents",
   "title_sidebar": "Contents",
   "toc_cell": false,
   "toc_position": {
    "height": "calc(100% - 180px)",
    "left": "10px",
    "top": "150px",
    "width": "274.188px"
   },
   "toc_section_display": true,
   "toc_window_display": true
  },
  "toc-autonumbering": false,
  "toc-showmarkdowntxt": true
 },
 "nbformat": 4,
 "nbformat_minor": 4
}
