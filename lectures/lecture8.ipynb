{
 "cells": [
  {
   "cell_type": "markdown",
   "metadata": {},
   "source": [
    "# Business Objectives/Statistical Questions and Feature Selection"
   ]
  },
  {
   "cell_type": "markdown",
   "metadata": {},
   "source": [
    "## Lecture Learning Objectives \n",
    "\n",
    "- In the context of supervised learning, form statistical questions  from business questions/objectives.\n",
    "- Understand the different forms your client may expect you to communicate results. \n",
    "- Explain the general concept of feature selection.\n",
    "- Discuss and compare different feature selection methods at a high level.\n",
    "- Use sklearn's implementation of recursive feature elimination (RFE).\n",
    "- Implement the forward search algorithm."
   ]
  },
  {
   "cell_type": "markdown",
   "metadata": {},
   "source": [
    "## Five Minute Recap/ Lightning Questions \n",
    "\n",
    "- What is the hyperparameter we learned for Ridge and how does it affect the Fundamental Trade-off?\n",
    "- What is the hyperparameter we learned for Logistic Regression and how does it affect the Fundamental Trade-off?\n",
    "- What is the name of the function used to bound our values between 0 and 1\n",
    "- What is the name of the function that gives \"hard\" predictions?\n",
    "- What is the name of the function that gives \"soft\" predictions?"
   ]
  },
  {
   "cell_type": "markdown",
   "metadata": {},
   "source": [
    "### Some lingering questions\n",
    "\n",
    "- How can we start forming good business questions that can be addressed with Machine Learning? \n",
    "- Is the best model always the one with all the features? If not, how to select features for our models? "
   ]
  },
  {
   "cell_type": "markdown",
   "metadata": {},
   "source": [
    "## Forming statistical questions to answer business objectives\n",
    "\n",
    "So far you've seen how to solve predictive problems using machine learning but today, we are going to look at the process involved in asking the questions and problems faced by organizations. \n",
    "\n",
    "\n",
    "Generally, there are four parts of a machine learning analysis. In order from high to low level:\n",
    "\n",
    "1. **The business question/objective**\n",
    "2. **The statistical question/objective**\n",
    "3. **The data and model**\n",
    "4. **The data product**"
   ]
  },
  {
   "cell_type": "markdown",
   "metadata": {},
   "source": [
    "Doing a machine learning analysis is about distilling from the highest level to the lowest level. As such, there are three distillations to keep in mind: 1-2, 2-3, and 3-4:\n",
    "\n",
    "- **1-2 is about asking the right questions**\n",
    "- **2-3 is about building a useful model**\n",
    "- **3-4 is about communicating the results**\n",
    "\n",
    "<!-- <center><img src=\"https://images.unsplash.com/photo-1511225317751-5c2d61819d58?ixid=MnwxMjA3fDB8MHxwaG90by1wYWdlfHx8fGVufDB8fHx8&ixlib=rb-1.2.1&auto=format&fit=crop&w=2734&q=80\" width=\"50%\"></center> -->\n",
    "    \n",
    "Note that an analysis isn’t a linear progression through these “steps”; rather, the process is iterative. This is because none of the components are independent. Making progress on any of the three distillations gives you more information as to what the problem is.\n",
    "\n",
    "We’ll look at each of these distillations in turn."
   ]
  },
  {
   "cell_type": "markdown",
   "metadata": {},
   "source": [
    "## (1 - 2) Asking useful statistical questions\n",
    "\n",
    "- Usually, a company is not served up a machine learning problem, complete with data and a description of the response and predictors.\n",
    "    - Companies don't exactly know what question is the right question but they do know what they want  to be accomplished. \n",
    "- Instead, they’re faced with some high-level objective/question that we’ll call the **business question/objective**.\n",
    "- This question needs refining to a **statistical question/objective** – one that is directly addressable by machine learning."
   ]
  },
  {
   "cell_type": "markdown",
   "metadata": {},
   "source": [
    "### Business objectives: examples\n",
    "- This [altexsoft blog post](https://www.altexsoft.com/blog/business/supervised-learning-use-cases-low-hanging-fruit-in-data-science-for-businesses/) is a great introduction to business use cases of data science/ML\n",
    "- Examples of business objectives (for which machine learning is a relevant approach)\n",
    "    - Reduce the amount of spam email received\n",
    "    - Early prediction of product failure\n",
    "    - Find undervalued mines\n",
    "    - Make a transit system more efficient\n",
    "    - Hire efficient staff\n",
    "    - Predict Customer Lifetime Value\n",
    "    - Understand Sales performance\n",
    "    - Fraud detection"
   ]
  },
  {
   "cell_type": "markdown",
   "metadata": {},
   "source": [
    "### Refining business objectives to statistical objectives\n",
    "\n",
    "<!-- <img src='https://media.giphy.com/media/bLcMOxvIak4iZieaut/giphy.gif' width=\"50%\">  -->\n",
    "\n",
    "- Statistical objectives need to be specific\n",
    "- Remember that supervised learning is about predicting a response $Y$ from predictors $X_1,…,X_p$\n",
    "- So we need to refine our business objectives to a statistical question(s) we can answer\n",
    "- This typically involves:\n",
    "    - Identifying the **response variable** ($Y$) that is most aligned with the business objective.\n",
    "    - Identifying the **data** (observations + features) that will be used for model development/testing.\n",
    "    - Note: part of this is the task of feature selection via machine learning methods – but this is also a human decision based on what we think is more informative, as well as a resource questions (what data is actually available?)"
   ]
  },
  {
   "cell_type": "markdown",
   "metadata": {},
   "source": [
    "### Statistical objectives: examples\n",
    "Statistical objectives corresponding to the above business objective examples might be:\n",
    "\n",
    "| Business Objective | Statistical Question |\n",
    "| :--- | :--- |\n",
    "| Reduce the amount of spam email received | <ul><li>$Y$ = classifying an email as spam/not spam <li> $X$ = words present in name and the body of email and other metadata (sender email, time, etc.) <li> Cases of spam will be gathered over time as employees identify emails as spam/not spam. The model can be improved as misclassifications are encountered.</ul>\n",
    "| Early prediction of product failure (Kickstarter?) | <ul><li>$Y$ = classifying a product as faulty/not faulty <li> $X$ = Relevant features chosen by an expert <li> Data obtained from the test facility</ul>\n",
    "| Find undervalued mines | <ul><li>$Y$ = total volume of gold and silver at a site <li> $X$ =  concentrations of other minerals found in drill samples, geographic information, historical data, etc <li> Data obtained from mines where total volumes are already known</ul>\n",
    "| Make a transit system more efficient | <ul><li>$Y$ = predict the time it takes a bus to travel between set stops <li> $X$ = time of day/week/year, weather, etc. <li> Use data from company server tracking bus movements</ul>\n",
    "| Hire efficient staff | <ul><li>$Y$ = predict monthly sales <li> $X$ = interview questions, years of work experience, field of expertise, etc. <li> Use data based on current employees</ul>"
   ]
  },
  {
   "cell_type": "markdown",
   "metadata": {},
   "source": [
    "### Statistical questions are not the full picture!\n",
    "- Almost always, the business objective is more complex than the statistical question.\n",
    "- By refining a business objective to a statistical one, we may lose part of the essence of the business objective.\n",
    "- It’s important to have a sense of the ways in which your statistical objective falls short, and the ways in which it’s on the mark, so that you keep an idea of the big picture.\n",
    "- For example, predicting whether a new staff hire will be efficient or not is a useful statistical question, but doesn't consider why a company might be attracting certain applicants, how long staff will remain, how staff work together, etc."
   ]
  },
  {
   "cell_type": "markdown",
   "metadata": {},
   "source": [
    "### Statistical objectives unrelated to supervised learning\n",
    "\n",
    "- We are only focussing on statistical questions related to supervised learning and prediction in this course\n",
    "- But there are other kinds of questions you can ask too\n",
    "- Consider the following example\n",
    "\n",
    "**Business objective**: To gain insight into the productivity of two branches of a company.\n",
    "\n",
    "Examples of statistical questions:\n",
    "\n",
    "- **Hypothesis testing**: Is the mean number of sick days per employee different between two branches of a company?\n",
    "    - Supervised learning doesn’t cover testing for differences.\n",
    "- **Unsupervised learning**: What is the mean sentiment of the internal discussion channels from both branches?\n",
    "    - There is no data of feature + response here, as required by supervised learning (by definition).\n",
    "- **Statistical inference**: Estimate the mean difference in monthly revenue generated by both branches, along with how certain you are with that estimate.\n",
    "    - Supervised learning typically isn’t concerned about communicating how certain your estimate is. (BUT it should and progress is occuring to change this!)  "
   ]
  },
  {
   "cell_type": "markdown",
   "metadata": {},
   "source": [
    "## (2 - 3) Building a useful model\n",
    "- This is the main focus of BAIT509.\n",
    "- This involves using ML algorithms (kNN, loess, decision trees, etc) to build a predictive model from data\n",
    "- You always should include a baseline model to assess how well the models you build are giving you some leg up. \n",
    "- Remember that a simple model like logistic regression often does as well as more complex approaches, and has the advantage that it is easier to explain. At the very least, simpler models can help guide you on what more complex approaches to take next, and provide another baseline so that you can assess if a more complex and harder to explain model is worthwhile."
   ]
  },
  {
   "cell_type": "markdown",
   "metadata": {},
   "source": [
    "## (3 - 4) Communicating results\n",
    "\n",
    "- So you've distilled your business objectives to a statistical question.\n",
    "- You've developed a model to answer the statistical question.\n",
    "- Now your model needs to be delivered and used by others (or your future self)!\n",
    "- The final delivery is often called \"the data product\" because it may consist of a variety of things:\n",
    "    - a report\n",
    "    - a presentation\n",
    "    - an app\n",
    "    - a dashboard\n",
    "    - a software package/pipeline\n",
    "- Sometimes the client requests a specific data product -> But note that their suggestion might not always be the best option. \n",
    "    - Perhaps they request a report and presentation communicating your findings, when a more appropriate product also includes an interactive app that allows them to explore your findings for themselves.\n",
    "- Either way, the key here is communication. Two import challenges (relevant to your final project):\n",
    "    - Using appropriate language: there is a lot of jargon in ML, the key is to talk more about the output and the general idea of your model(s), but not machine learning or statistical jargon.\n",
    "    - Communication with visual design: this is about choosing what visuals are the most effective for communicating. -> Plug: https://viz-learn.mds.ubc.ca/en/\n",
    "- Usually, the first step is to set up a framework for your data product. For a report, this means outlining what you intend to write about, and where.\n",
    "- Iterating with your client is useful to make sure that you are on track to produce something that the client currently sees as being potentially useful.\n",
    "    - Don't waste your time by working for months on your own and then realizing your misunderstood the ask when you are showing your final product.\n",
    "- It is easy to get lost in finding the coolest model or using the latest ML technique, and forget about the overarching question and the purpose of your analysis.\n",
    "    - Take a step back and look at the big picture.\n",
    "    - Adapt the mind-set of a researcher rather than an ML engineer.\n",
    "    - How can I best help the client?"
   ]
  },
  {
   "cell_type": "markdown",
   "metadata": {},
   "source": [
    "## Let's Practice \n",
    "\n",
    "1. What question is usually more complex: The business or statistical one?    \n",
    "2. What model needs to be made for all problems to create a baseline? \n",
    "3. In supervised learning, once we have our business objective, part of our statistical question is identifying what?    \n",
    "\n",
    "**True or False:**     \n",
    "\n",
    "4. When writing your reports, it's important to consider who is reading it.         \n",
    "5. Sometimes you may need to dig a little to figure out exactly what the client wants.         \n",
    "6. In supervised learning, we should take into consideration the uncertainty of our models.         "
   ]
  },
  {
   "cell_type": "markdown",
   "metadata": {},
   "source": [
    "```{admonition} Solutions!\n",
    ":class: dropdown\n",
    "\n",
    "1. Business question/objective\n",
    "2. Baseline - Dummy\n",
    "3. Our target variable\n",
    "4. True\n",
    "5. True\n",
    "6. True\n",
    "\n",
    "```"
   ]
  },
  {
   "cell_type": "markdown",
   "metadata": {},
   "source": [
    "## Feature Selection \n",
    "\n",
    "### Motivation \n",
    "\n",
    "Remember the curse of dimensionality? \n",
    "\n",
    "We spoke about this briefly when we discussed $k$-nn and how when we add many different dimensions (features) it makes the data more sparse since the ratio of observations to features/dimensions goes down.\n",
    "This can make it harder for the model to learn which features are relevant to predict the outcome,\n",
    "since there is now a lower density of training samples to query.\n",
    "With many irrelevant features, the model can disintegrate towards predictions no better than random guessing.\n",
    "\n",
    "Another drawback with a model that has many features\n",
    "is that it can be harder to interpret and explain\n",
    "what is important in the model's decision making.\n",
    "\n",
    "Reasons like this are why we need to be careful about which features we include in our model.\n",
    "\n",
    "### How do we limit the number of features in our model\n",
    "\n",
    "1. **Use domain knowledge** and manually select features (often in combination with one of the approaches below).\n",
    "2. We could **systematically rearrange and drop features**\n",
    "   to create one dataset for each possible combination/permutation of features.\n",
    "   Then we would have a score for each possible feature combination and we could compare which features are the most important for model accuracy.\n",
    "   Although this makes sense conceptually,\n",
    "   it is practically infeasible since we would have feature factorial (often written as $p!$) as the number of datasets\n",
    "   and on each dataset we would also need to perform a hyperparameter search.\n",
    "   This would take too long for most real world datasets.\n",
    "3. We could **use machine learning** to identify which features are important.\n",
    "   For example,\n",
    "   we talked about how lasso regression tries to bring some coefficients to 0,\n",
    "   which means we can remove them from the model.\n",
    "   This could be used as a preprocessing step\n",
    "   before fitting another model on the selected features.\n",
    "4. We could compute some type of **score for how important a feature is** for the model prediction,\n",
    "   and then drop features under a threshold.\n",
    "   \n",
    "We will mostly talk about point 4 in this lecture.\n",
    "\n",
    "### What is an important feature?\n",
    "\n",
    "There are several definitions of how to measure how important a feature is.\n",
    "We have already seen that in scaled data,\n",
    "the magnitude of the coefficients in a linear regression\n",
    "can indicate how much the predicted value change\n",
    "when the value of that feature changes;\n",
    "this is one type of indication of the importance of that feature.\n",
    "But what can we do for models that don't have coefficients,\n",
    "such as decision trees?\n",
    "\n",
    "Decision trees actually have a built in feature importance estimate.\n",
    "Recall that the splits in a decision tree are chosen to maximize the homogeneity \n",
    "in each of the groups remaining after the split.\n",
    "Another way of saying this,\n",
    "is that \"impurity\" of the sample is decreasing with each split\n",
    ".\n",
    "The built-in decision tree feature importance \n",
    "is based on the total decrease in impurity from all nodes/splits of a particular feature,\n",
    "weighted by the number of samples that reach these nodes/splits.\n",
    "Features used at the top of the tree\n",
    "contribute to the final prediction decision of a larger fraction of the input samples\n",
    "and therefore often have a higher contribution to the decrease in impurity\n",
    "(a high feature importance).\n",
    "\n",
    "> You can think of \"impurity\" here in a colloquial sense of the word.\n",
    "Technically it is defined as proportion of mislabeled observations\n",
    "in a node if we were to label the observations at random\n",
    "based on the occurrence of each class among the observations in that node.\n",
    "Impurity is 0 when all observations in the node come from the same class."
   ]
  },
  {
   "cell_type": "markdown",
   "metadata": {},
   "source": [
    "### Feature importance \n",
    "\n",
    "We can find out which features are most important in a decision tree model using an attribute called `feature_importances_`."
   ]
  },
  {
   "cell_type": "code",
   "execution_count": 1,
   "metadata": {},
   "outputs": [
    {
     "data": {
      "text/html": [
       "<div>\n",
       "<style scoped>\n",
       "    .dataframe tbody tr th:only-of-type {\n",
       "        vertical-align: middle;\n",
       "    }\n",
       "\n",
       "    .dataframe tbody tr th {\n",
       "        vertical-align: top;\n",
       "    }\n",
       "\n",
       "    .dataframe thead th {\n",
       "        text-align: right;\n",
       "    }\n",
       "</style>\n",
       "<table border=\"1\" class=\"dataframe\">\n",
       "  <thead>\n",
       "    <tr style=\"text-align: right;\">\n",
       "      <th></th>\n",
       "      <th>longitude</th>\n",
       "      <th>latitude</th>\n",
       "      <th>country</th>\n",
       "    </tr>\n",
       "  </thead>\n",
       "  <tbody>\n",
       "    <tr>\n",
       "      <th>160</th>\n",
       "      <td>-76.4813</td>\n",
       "      <td>44.2307</td>\n",
       "      <td>Canada</td>\n",
       "    </tr>\n",
       "    <tr>\n",
       "      <th>127</th>\n",
       "      <td>-81.2496</td>\n",
       "      <td>42.9837</td>\n",
       "      <td>Canada</td>\n",
       "    </tr>\n",
       "    <tr>\n",
       "      <th>169</th>\n",
       "      <td>-66.0580</td>\n",
       "      <td>45.2788</td>\n",
       "      <td>Canada</td>\n",
       "    </tr>\n",
       "    <tr>\n",
       "      <th>188</th>\n",
       "      <td>-73.2533</td>\n",
       "      <td>45.3057</td>\n",
       "      <td>Canada</td>\n",
       "    </tr>\n",
       "    <tr>\n",
       "      <th>187</th>\n",
       "      <td>-67.9245</td>\n",
       "      <td>47.1652</td>\n",
       "      <td>Canada</td>\n",
       "    </tr>\n",
       "  </tbody>\n",
       "</table>\n",
       "</div>"
      ],
      "text/plain": [
       "     longitude  latitude country\n",
       "160   -76.4813   44.2307  Canada\n",
       "127   -81.2496   42.9837  Canada\n",
       "169   -66.0580   45.2788  Canada\n",
       "188   -73.2533   45.3057  Canada\n",
       "187   -67.9245   47.1652  Canada"
      ]
     },
     "execution_count": 1,
     "metadata": {},
     "output_type": "execute_result"
    }
   ],
   "source": [
    "import pandas as pd\n",
    "from sklearn.model_selection import train_test_split\n",
    "\n",
    "\n",
    "cities_df = pd.read_csv(\"data/canada_usa_cities.csv\")\n",
    "train_df, test_df = train_test_split(cities_df, test_size=0.2, random_state=123)\n",
    "X_train, y_train = train_df.drop(columns=[\"country\"], axis=1), train_df[\"country\"]\n",
    "X_test, y_test = test_df.drop(columns=[\"country\"], axis=1), test_df[\"country\"]\n",
    "\n",
    "train_df.head()"
   ]
  },
  {
   "cell_type": "code",
   "execution_count": 2,
   "metadata": {},
   "outputs": [
    {
     "data": {
      "text/plain": [
       "array([0.27718465, 0.72281535])"
      ]
     },
     "execution_count": 2,
     "metadata": {},
     "output_type": "execute_result"
    }
   ],
   "source": [
    "from sklearn.tree import DecisionTreeClassifier\n",
    "\n",
    "\n",
    "dt_model = DecisionTreeClassifier(max_depth=5)\n",
    "dt_model.fit(X_train, y_train)\n",
    "dt_model.feature_importances_"
   ]
  },
  {
   "cell_type": "markdown",
   "metadata": {},
   "source": [
    "We can use the `.feature_importances_` attribute to see the decrease in impurity.\n",
    "A higher value = a more important features."
   ]
  },
  {
   "cell_type": "code",
   "execution_count": 3,
   "metadata": {},
   "outputs": [
    {
     "data": {
      "text/plain": [
       "Index(['longitude', 'latitude'], dtype='object')"
      ]
     },
     "execution_count": 3,
     "metadata": {},
     "output_type": "execute_result"
    }
   ],
   "source": [
    "X_train.columns"
   ]
  },
  {
   "cell_type": "markdown",
   "metadata": {},
   "source": [
    "Here we can see that most of the importance is on the column `latitude`,\n",
    "which makes sense since USA and Canada are separated mainly in latitude."
   ]
  },
  {
   "cell_type": "markdown",
   "metadata": {},
   "source": [
    "If we graph this, the root of the decision tree will usually reflect the top feature.\n",
    "Just like we can see here (here we also include the impurity of each node, called \"gini\"):"
   ]
  },
  {
   "cell_type": "code",
   "execution_count": 4,
   "metadata": {},
   "outputs": [
    {
     "data": {
      "image/png": "[encoded data removed]",
      "text/plain": [
       "<Figure size 1400x1200 with 1 Axes>"
      ]
     },
     "metadata": {},
     "output_type": "display_data"
    }
   ],
   "source": [
    "from sklearn.tree import plot_tree\n",
    "import matplotlib.pyplot as plt\n",
    "\n",
    "\n",
    "plot_tree(\n",
    "    dt_model,\n",
    "    feature_names=X_train.columns,\n",
    "    class_names=y_train.unique()[::-1],\n",
    "    impurity=True,\n",
    "    ax=plt.subplots(figsize=(14, 12))[1]  # We need to create a figure to control the overall plot size\n",
    ");"
   ]
  },
  {
   "cell_type": "markdown",
   "metadata": {},
   "source": [
    "## Are impurity based features importances reliable?\n",
    "\n",
    "[Betteridge's law of headlines](https://en.wikipedia.org/wiki/Betteridge%27s_law_of_headlines):\n",
    "\"Any headline that ends in a question mark can be answered by the word no.\"\n",
    "As is the case here.\n",
    "The default feature importance calculated by decisions trees\n",
    "is not always reliable and tend to give too high weight to features \n",
    "with many unique values.\n",
    "Let's see an example using a dataset from the passengers of the Titanic."
   ]
  },
  {
   "cell_type": "code",
   "execution_count": 5,
   "metadata": {},
   "outputs": [
    {
     "name": "stderr",
     "output_type": "stream",
     "text": [
      "/Users/quannguyen/opt/miniconda3/envs/571/lib/python3.10/site-packages/sklearn/datasets/_openml.py:1022: FutureWarning: The default value of `parser` will change from `'liac-arff'` to `'auto'` in 1.4. You can set `parser='auto'` to silence this warning. Therefore, an `ImportError` will be raised from 1.4 if the dataset is dense and pandas is not installed. Note that the pandas parser may return different data types. See the Notes Section in fetch_openml's API doc for details.\n",
      "  warn(\n"
     ]
    },
    {
     "data": {
      "text/html": [
       "<div>\n",
       "<style scoped>\n",
       "    .dataframe tbody tr th:only-of-type {\n",
       "        vertical-align: middle;\n",
       "    }\n",
       "\n",
       "    .dataframe tbody tr th {\n",
       "        vertical-align: top;\n",
       "    }\n",
       "\n",
       "    .dataframe thead th {\n",
       "        text-align: right;\n",
       "    }\n",
       "</style>\n",
       "<table border=\"1\" class=\"dataframe\">\n",
       "  <thead>\n",
       "    <tr style=\"text-align: right;\">\n",
       "      <th></th>\n",
       "      <th>pclass</th>\n",
       "      <th>sex</th>\n",
       "      <th>embarked</th>\n",
       "      <th>random_cat</th>\n",
       "      <th>age</th>\n",
       "      <th>sibsp</th>\n",
       "      <th>parch</th>\n",
       "      <th>fare</th>\n",
       "      <th>random_num</th>\n",
       "    </tr>\n",
       "  </thead>\n",
       "  <tbody>\n",
       "    <tr>\n",
       "      <th>1216</th>\n",
       "      <td>3.0</td>\n",
       "      <td>female</td>\n",
       "      <td>Q</td>\n",
       "      <td>1</td>\n",
       "      <td>NaN</td>\n",
       "      <td>0.0</td>\n",
       "      <td>0.0</td>\n",
       "      <td>7.7333</td>\n",
       "      <td>-0.436386</td>\n",
       "    </tr>\n",
       "    <tr>\n",
       "      <th>819</th>\n",
       "      <td>3.0</td>\n",
       "      <td>female</td>\n",
       "      <td>Q</td>\n",
       "      <td>2</td>\n",
       "      <td>NaN</td>\n",
       "      <td>0.0</td>\n",
       "      <td>0.0</td>\n",
       "      <td>7.7500</td>\n",
       "      <td>2.006093</td>\n",
       "    </tr>\n",
       "    <tr>\n",
       "      <th>1286</th>\n",
       "      <td>3.0</td>\n",
       "      <td>female</td>\n",
       "      <td>C</td>\n",
       "      <td>2</td>\n",
       "      <td>38.0</td>\n",
       "      <td>0.0</td>\n",
       "      <td>0.0</td>\n",
       "      <td>7.2292</td>\n",
       "      <td>0.521122</td>\n",
       "    </tr>\n",
       "    <tr>\n",
       "      <th>1280</th>\n",
       "      <td>3.0</td>\n",
       "      <td>male</td>\n",
       "      <td>S</td>\n",
       "      <td>1</td>\n",
       "      <td>22.0</td>\n",
       "      <td>0.0</td>\n",
       "      <td>0.0</td>\n",
       "      <td>7.8958</td>\n",
       "      <td>-2.135674</td>\n",
       "    </tr>\n",
       "    <tr>\n",
       "      <th>761</th>\n",
       "      <td>3.0</td>\n",
       "      <td>male</td>\n",
       "      <td>S</td>\n",
       "      <td>0</td>\n",
       "      <td>16.0</td>\n",
       "      <td>0.0</td>\n",
       "      <td>0.0</td>\n",
       "      <td>9.5000</td>\n",
       "      <td>1.607346</td>\n",
       "    </tr>\n",
       "    <tr>\n",
       "      <th>...</th>\n",
       "      <td>...</td>\n",
       "      <td>...</td>\n",
       "      <td>...</td>\n",
       "      <td>...</td>\n",
       "      <td>...</td>\n",
       "      <td>...</td>\n",
       "      <td>...</td>\n",
       "      <td>...</td>\n",
       "      <td>...</td>\n",
       "    </tr>\n",
       "    <tr>\n",
       "      <th>872</th>\n",
       "      <td>3.0</td>\n",
       "      <td>female</td>\n",
       "      <td>S</td>\n",
       "      <td>0</td>\n",
       "      <td>NaN</td>\n",
       "      <td>0.0</td>\n",
       "      <td>0.0</td>\n",
       "      <td>8.0500</td>\n",
       "      <td>0.766080</td>\n",
       "    </tr>\n",
       "    <tr>\n",
       "      <th>777</th>\n",
       "      <td>3.0</td>\n",
       "      <td>male</td>\n",
       "      <td>S</td>\n",
       "      <td>0</td>\n",
       "      <td>19.0</td>\n",
       "      <td>0.0</td>\n",
       "      <td>0.0</td>\n",
       "      <td>8.0500</td>\n",
       "      <td>2.601683</td>\n",
       "    </tr>\n",
       "    <tr>\n",
       "      <th>423</th>\n",
       "      <td>2.0</td>\n",
       "      <td>male</td>\n",
       "      <td>S</td>\n",
       "      <td>0</td>\n",
       "      <td>34.0</td>\n",
       "      <td>0.0</td>\n",
       "      <td>0.0</td>\n",
       "      <td>13.0000</td>\n",
       "      <td>0.346488</td>\n",
       "    </tr>\n",
       "    <tr>\n",
       "      <th>668</th>\n",
       "      <td>3.0</td>\n",
       "      <td>male</td>\n",
       "      <td>S</td>\n",
       "      <td>0</td>\n",
       "      <td>22.0</td>\n",
       "      <td>0.0</td>\n",
       "      <td>0.0</td>\n",
       "      <td>8.0500</td>\n",
       "      <td>0.949554</td>\n",
       "    </tr>\n",
       "    <tr>\n",
       "      <th>2</th>\n",
       "      <td>1.0</td>\n",
       "      <td>female</td>\n",
       "      <td>S</td>\n",
       "      <td>2</td>\n",
       "      <td>2.0</td>\n",
       "      <td>1.0</td>\n",
       "      <td>2.0</td>\n",
       "      <td>151.5500</td>\n",
       "      <td>0.935678</td>\n",
       "    </tr>\n",
       "  </tbody>\n",
       "</table>\n",
       "<p>981 rows × 9 columns</p>\n",
       "</div>"
      ],
      "text/plain": [
       "      pclass     sex embarked  random_cat   age  sibsp  parch      fare  \\\n",
       "1216     3.0  female        Q           1   NaN    0.0    0.0    7.7333   \n",
       "819      3.0  female        Q           2   NaN    0.0    0.0    7.7500   \n",
       "1286     3.0  female        C           2  38.0    0.0    0.0    7.2292   \n",
       "1280     3.0    male        S           1  22.0    0.0    0.0    7.8958   \n",
       "761      3.0    male        S           0  16.0    0.0    0.0    9.5000   \n",
       "...      ...     ...      ...         ...   ...    ...    ...       ...   \n",
       "872      3.0  female        S           0   NaN    0.0    0.0    8.0500   \n",
       "777      3.0    male        S           0  19.0    0.0    0.0    8.0500   \n",
       "423      2.0    male        S           0  34.0    0.0    0.0   13.0000   \n",
       "668      3.0    male        S           0  22.0    0.0    0.0    8.0500   \n",
       "2        1.0  female        S           2   2.0    1.0    2.0  151.5500   \n",
       "\n",
       "      random_num  \n",
       "1216   -0.436386  \n",
       "819     2.006093  \n",
       "1286    0.521122  \n",
       "1280   -2.135674  \n",
       "761     1.607346  \n",
       "...          ...  \n",
       "872     0.766080  \n",
       "777     2.601683  \n",
       "423     0.346488  \n",
       "668     0.949554  \n",
       "2       0.935678  \n",
       "\n",
       "[981 rows x 9 columns]"
      ]
     },
     "execution_count": 5,
     "metadata": {},
     "output_type": "execute_result"
    }
   ],
   "source": [
    "# Example adapted from https://scikit-learn.org/stable/auto_examples/inspection/plot_permutation_importance.html\n",
    "\n",
    "from sklearn.datasets import fetch_openml\n",
    "import numpy as np\n",
    "\n",
    "X, y = fetch_openml(\"titanic\", version=1, as_frame=True, return_X_y=True)\n",
    "rng = np.random.RandomState(seed=42)\n",
    "X[\"random_cat\"] = rng.randint(3, size=X.shape[0])\n",
    "X[\"random_num\"] = rng.randn(X.shape[0])\n",
    "\n",
    "categorical_columns = [\"pclass\", \"sex\", \"embarked\", \"random_cat\"]\n",
    "numerical_columns = [\"age\", \"sibsp\", \"parch\", \"fare\", \"random_num\"]\n",
    "\n",
    "X = X[categorical_columns + numerical_columns]\n",
    "\n",
    "X_train, X_test, y_train, y_test = train_test_split(X, y, stratify=y, random_state=42)\n",
    "X_train"
   ]
  },
  {
   "cell_type": "markdown",
   "metadata": {},
   "source": [
    "We have added two random columns to the data,\n",
    "ideally they should have near 0 feature importance,\n",
    "since they are just assigned a random value by us\n",
    "and thus have no predictive value."
   ]
  },
  {
   "cell_type": "markdown",
   "metadata": {},
   "source": [
    "`y` is whether the passenger survived the titanic or not."
   ]
  },
  {
   "cell_type": "code",
   "execution_count": 6,
   "metadata": {},
   "outputs": [
    {
     "data": {
      "text/plain": [
       "0       1\n",
       "1       1\n",
       "2       0\n",
       "3       0\n",
       "4       0\n",
       "       ..\n",
       "1304    0\n",
       "1305    0\n",
       "1306    0\n",
       "1307    0\n",
       "1308    0\n",
       "Name: survived, Length: 1309, dtype: category\n",
       "Categories (2, object): ['0', '1']"
      ]
     },
     "execution_count": 6,
     "metadata": {},
     "output_type": "execute_result"
    }
   ],
   "source": [
    "y"
   ]
  },
  {
   "cell_type": "markdown",
   "metadata": {},
   "source": [
    "Create a decision tree pipeline with some preprocessing."
   ]
  },
  {
   "cell_type": "code",
   "execution_count": 7,
   "metadata": {},
   "outputs": [
    {
     "data": {
      "text/plain": [
       "1.0"
      ]
     },
     "execution_count": 7,
     "metadata": {},
     "output_type": "execute_result"
    }
   ],
   "source": [
    "from sklearn.preprocessing import OneHotEncoder\n",
    "from sklearn.compose import ColumnTransformer\n",
    "from sklearn.pipeline import Pipeline\n",
    "from sklearn.tree import DecisionTreeClassifier\n",
    "from sklearn.impute import SimpleImputer\n",
    "\n",
    "\n",
    "categorical_encoder = OneHotEncoder(handle_unknown=\"ignore\")\n",
    "numerical_pipe = Pipeline([(\"imputer\", SimpleImputer(strategy=\"mean\"))])\n",
    "\n",
    "preprocessing = ColumnTransformer(\n",
    "    [\n",
    "        (\"cat\", categorical_encoder, categorical_columns),\n",
    "        (\"num\", numerical_pipe, numerical_columns),\n",
    "    ]\n",
    ")\n",
    "\n",
    "pipe = Pipeline(\n",
    "    [\n",
    "        (\"preprocess\", preprocessing),\n",
    "        (\"classifier\", DecisionTreeClassifier(random_state=42)),\n",
    "    ]\n",
    ")\n",
    "pipe.fit(X_train, y_train)\n",
    "pipe.score(X_train, y_train)"
   ]
  },
  {
   "cell_type": "code",
   "execution_count": 8,
   "metadata": {},
   "outputs": [
    {
     "data": {
      "text/plain": [
       "22"
      ]
     },
     "execution_count": 8,
     "metadata": {},
     "output_type": "execute_result"
    }
   ],
   "source": [
    "pipe.named_steps[\"classifier\"].get_depth()"
   ]
  },
  {
   "cell_type": "code",
   "execution_count": 9,
   "metadata": {},
   "outputs": [
    {
     "data": {
      "text/plain": [
       "0.7530487804878049"
      ]
     },
     "execution_count": 9,
     "metadata": {},
     "output_type": "execute_result"
    }
   ],
   "source": [
    "pipe.score(X_test, y_test)"
   ]
  },
  {
   "cell_type": "markdown",
   "metadata": {},
   "source": [
    "We can use the `.feature_importances_` attribute to see the mean decrease in impurity.\n",
    "A higher value = a more important features."
   ]
  },
  {
   "cell_type": "code",
   "execution_count": 10,
   "metadata": {},
   "outputs": [
    {
     "data": {
      "text/plain": [
       "array([0.01654092, 0.        , 0.06896032, 0.        , 0.26473697,\n",
       "       0.00758303, 0.00801158, 0.0102391 , 0.0161727 , 0.00590995,\n",
       "       0.01372136, 0.15099661, 0.0381931 , 0.0167087 , 0.16208436,\n",
       "       0.2201413 ])"
      ]
     },
     "execution_count": 10,
     "metadata": {},
     "output_type": "execute_result"
    }
   ],
   "source": [
    "pipe.named_steps[\"classifier\"].feature_importances_"
   ]
  },
  {
   "cell_type": "markdown",
   "metadata": {},
   "source": [
    "Let's plot them instead so it is easier to see."
   ]
  },
  {
   "cell_type": "code",
   "execution_count": 11,
   "metadata": {},
   "outputs": [
    {
     "data": {
      "image/png": "[encoded data removed]",
      "text/plain": [
       "<Figure size 1000x600 with 1 Axes>"
      ]
     },
     "metadata": {},
     "output_type": "display_data"
    }
   ],
   "source": [
    "import matplotlib.pyplot as plt\n",
    "\n",
    "\n",
    "ohe = pipe.named_steps[\"preprocess\"].named_transformers_[\"cat\"]\n",
    "feature_names = ohe.get_feature_names_out(categorical_columns)\n",
    "feature_names = np.r_[feature_names, numerical_columns]\n",
    "\n",
    "tree_feature_importances = pipe.named_steps[\"classifier\"].feature_importances_\n",
    "sorted_idx = tree_feature_importances.argsort()[::-1]\n",
    "\n",
    "y_ticks = np.arange(0, len(feature_names))\n",
    "fig, ax = plt.subplots(figsize=(10, 6))\n",
    "ax.barh(y_ticks, tree_feature_importances[sorted_idx])\n",
    "ax.set_yticks(y_ticks)\n",
    "ax.set_yticklabels(feature_names[sorted_idx])\n",
    "ax.set_title(\"Feature Importances (MDI)\")\n",
    "fig.tight_layout()\n",
    "plt.show()"
   ]
  },
  {
   "cell_type": "markdown",
   "metadata": {},
   "source": [
    "The impurity-based feature importance ranks the numerical features to be the most important features. As a result, the non-predictive random_num variable is ranked the second most important!\n",
    "\n",
    "This problem stems from two limitations of impurity-based feature importances:\n",
    "\n",
    "- impurity-based importances are biased towards high cardinality features (features with many unique values)\n",
    "    - You can think of this as a feature with many unique values will be part of many splits in the decision tree (although with few samples). Limiting the depth of the decision tree can reduce this effect, but might lead to underfitting instead.\n",
    "- impurity-based importances are computed on training set statistics and therefore do not reflect the ability of feature to be useful to make predictions that generalize to the test set.\n",
    "\n",
    "A reminder about binary OneHotEncoded features is that only one of them is useful.\n",
    "You can see here that all the information contained in `sex_male` and `sex_female` is the same,\n",
    "and although this is very predictive of the survival outcome,\n",
    "the model only needed one of them (the other has 0 feature importance).\n",
    "- Also note that just because the column is called `sex_male`, it doesn't mean that males had a higher chance of survival. Remember that this feature is encoded as 0 and 1 so it contains information about males and females. In fact, a much higher proportion of the female passengers survived the Titanic:"
   ]
  },
  {
   "cell_type": "code",
   "execution_count": 12,
   "metadata": {},
   "outputs": [
    {
     "name": "stderr",
     "output_type": "stream",
     "text": [
      "/var/folders/q8/b0hct6591d77ky6m9kfk2jhw0000gp/T/ipykernel_11687/3116214982.py:1: FutureWarning: The default of observed=False is deprecated and will be changed to True in a future version of pandas. Pass observed=False to retain current behavior or observed=True to adopt the future default and silence this warning.\n",
      "  X_train.join(y).groupby('sex')['survived'].value_counts(normalize=True, sort=False)\n"
     ]
    },
    {
     "data": {
      "text/plain": [
       "sex     survived\n",
       "female  0           0.278261\n",
       "        1           0.721739\n",
       "male    0           0.801887\n",
       "        1           0.198113\n",
       "Name: proportion, dtype: float64"
      ]
     },
     "execution_count": 12,
     "metadata": {},
     "output_type": "execute_result"
    }
   ],
   "source": [
    "X_train.join(y).groupby('sex')['survived'].value_counts(normalize=True, sort=False)"
   ]
  },
  {
   "cell_type": "markdown",
   "metadata": {},
   "source": [
    "### Permutation importances as an alternative to impurity-based feature importances\n",
    "\n",
    "From https://christophm.github.io/interpretable-ml-book/feature-importance.html\n",
    "\n",
    "> The concept is really straightforward: We measure the importance of a feature by calculating the increase in the model’s prediction error after permuting the feature. A feature is “important” if shuffling its values increases the model error, because in this case the model relied on the feature for the prediction. A feature is “unimportant” if shuffling its values leaves the model error unchanged, because in this case the model ignored the feature for the prediction. The permutation feature importance measurement was introduced by Breiman (2001)43 for random forests\n",
    "\n",
    "Permutation importances can also be computed on the test/validation set\n",
    "to show what was most useful for the model in making predictions on unseen data."
   ]
  },
  {
   "cell_type": "code",
   "execution_count": 13,
   "metadata": {},
   "outputs": [
    {
     "data": {
      "text/plain": [
       "{'importances_mean': array([ 0.09603659,  0.14268293,  0.01981707, -0.00579268,  0.03993902,\n",
       "         0.01219512,  0.00243902,  0.02987805,  0.00213415]),\n",
       " 'importances_std': array([0.01280851, 0.02115775, 0.01092893, 0.00877816, 0.01949551,\n",
       "        0.00304878, 0.00404466, 0.01529261, 0.00862864]),\n",
       " 'importances': array([[ 0.11280488,  0.1097561 ,  0.10060976,  0.10060976,  0.09146341,\n",
       "          0.1097561 ,  0.09756098,  0.07926829,  0.08536585,  0.07317073],\n",
       "        [ 0.11890244,  0.14939024,  0.17682927,  0.17378049,  0.13719512,\n",
       "          0.10670732,  0.12804878,  0.1554878 ,  0.13719512,  0.14329268],\n",
       "        [ 0.00609756,  0.02743902,  0.01829268,  0.03963415,  0.        ,\n",
       "          0.01829268,  0.02439024,  0.02439024,  0.02743902,  0.01219512],\n",
       "        [-0.01219512,  0.00304878,  0.00304878, -0.00609756, -0.00914634,\n",
       "         -0.02134146,  0.00304878, -0.01829268,  0.00304878, -0.00304878],\n",
       "        [ 0.03353659,  0.03963415,  0.04268293,  0.04268293,  0.05182927,\n",
       "          0.08536585,  0.04573171,  0.01829268,  0.0304878 ,  0.00914634],\n",
       "        [ 0.00914634,  0.01219512,  0.0152439 ,  0.0152439 ,  0.01829268,\n",
       "          0.00914634,  0.00914634,  0.01219512,  0.00914634,  0.01219512],\n",
       "        [ 0.00304878,  0.        ,  0.00914634,  0.00609756,  0.00914634,\n",
       "          0.        ,  0.        ,  0.        , -0.00304878,  0.        ],\n",
       "        [ 0.03963415,  0.04878049,  0.04268293,  0.04268293,  0.0304878 ,\n",
       "          0.03353659,  0.00304878,  0.0152439 ,  0.00609756,  0.03658537],\n",
       "        [ 0.02134146, -0.00304878,  0.        , -0.00609756,  0.        ,\n",
       "          0.00304878,  0.        , -0.00304878,  0.0152439 , -0.00609756]])}"
      ]
     },
     "execution_count": 13,
     "metadata": {},
     "output_type": "execute_result"
    }
   ],
   "source": [
    "from sklearn.inspection import permutation_importance\n",
    "\n",
    "\n",
    "result = permutation_importance(\n",
    "    pipe, X_test, y_test, n_repeats=10, random_state=42,\n",
    ")\n",
    "result"
   ]
  },
  {
   "cell_type": "markdown",
   "metadata": {},
   "source": [
    "Let's visualize the results."
   ]
  },
  {
   "cell_type": "code",
   "execution_count": 14,
   "metadata": {},
   "outputs": [
    {
     "data": {
      "image/png": "[encoded data removed]",
      "text/plain": [
       "<Figure size 800x600 with 1 Axes>"
      ]
     },
     "metadata": {},
     "output_type": "display_data"
    }
   ],
   "source": [
    "sorted_idx = result.importances_mean.argsort()\n",
    "fig, ax = plt.subplots(figsize=(8, 6))\n",
    "ax.boxplot(result.importances[sorted_idx].T, vert=False, labels=X_test.columns[sorted_idx])\n",
    "ax.set_title(\"Permutation Importances (test set)\")\n",
    "ax.set_xlabel(\"Model error increase when the feature was permutated\")\n",
    "fig.tight_layout()\n",
    "plt.show()"
   ]
  },
  {
   "cell_type": "markdown",
   "metadata": {},
   "source": [
    "This shows that the low cardinality categorical feature, sex is the most important feature,\n",
    "and passenger class affect the model error more than both age and fare.\n",
    "Also note that both random features have very low importances (close to 0) as expected.\n",
    "\n",
    "**Note** Remember that explaining the model $\\neq$ explaining the data.\n",
    "Especially if we have a badly performing model,\n",
    "it might not matter that much to us what the most important features are\n",
    "and they might be quite different for a model that performs well.\n",
    "\n",
    "Once we have found a feature importance score that we think is useful for our application,\n",
    "we could simply set a threshold for what should be included.\n",
    "This threshold might be specific for our application\n",
    "and could for example be \"Select feature that contribute more than 5% to the model error\".\n",
    "We could also have a pre-determined number of features we want to select\n",
    "or look for a drastic change in the plot.\n",
    "Above it looks like the top two features are quite more important than the rest.\n",
    "\n",
    "However,\n",
    "although these plots can be informative for the importance of features \n",
    "in models where they are all included,\n",
    "it doesn't really tell us how well a model with only the most important features will perform.\n",
    "Are we missing some interaction with the other features so that our model will fewer feature will score worse?\n",
    "Or are the other features mostly adding noise,\n",
    "so that our model will fewer features will score better?\n",
    "To find out,\n",
    "we would still need to score the model with a different amount of features,\n",
    "but now that we have an indication of how important the features are,\n",
    "we can use this info to tell us which ones to start removing."
   ]
  },
  {
   "cell_type": "markdown",
   "metadata": {},
   "source": [
    "### Recursive feature elimination - RFE \n",
    "\n",
    "The basic idea with recursive feature elimination is that we remove features according to the following steps: \n",
    "\n",
    "1. We decide $k$ - the number of features to select.\n",
    "2. Assign importances to features, e.g. by fitting a model and looking at coef_ or feature_importances_.\n",
    "3. Remove the least important feature.\n",
    "4. Repeat steps 2-3 until only $k$ features are remaining.\n",
    "\n",
    "**Note** This is not the same as just removing all the less important features in one shot. Here we actually evaluate each model to see if it is getting better or worse.\n",
    "\n",
    "Unfortunately,\n",
    "RFE does currently not work with permutation importances in sklearn (yet),\n",
    "so we would have to use models with built-in feature importances,\n",
    "such as those in `.coef_` or `.feature_importances_`.\n",
    "Here we will fit a logistic regression model\n",
    "and show how we can use its coefficients in RFE to select features."
   ]
  },
  {
   "cell_type": "markdown",
   "metadata": {},
   "source": [
    "### New housing data \n",
    "\n",
    "I know at this point you are probably annoyed and bored of housing data, but good, interesting open-source data is hard to come by. For this example, I really want to show you an example with LOTS of features. \n",
    "\n",
    "Here is (yet another) housing dataset we acquired from [this GitHub repo](https://github.com/melindaleung/Ames-Iowa-Housing-Dataset), originally created by Dean De Cock. \n",
    "*(We are using the raw data so we do not need to store it and import it simply from the url.)*\n",
    "\n",
    "\n",
    "**Attribution:** \n",
    "\n",
    "The Ames Housing dataset was compiled by Dean De Cock for use in data science education. \n",
    "\n",
    "His publication can be found [here](http://jse.amstat.org/v19n3/decock.pdf)."
   ]
  },
  {
   "cell_type": "code",
   "execution_count": 15,
   "metadata": {},
   "outputs": [
    {
     "data": {
      "text/html": [
       "<div>\n",
       "<style scoped>\n",
       "    .dataframe tbody tr th:only-of-type {\n",
       "        vertical-align: middle;\n",
       "    }\n",
       "\n",
       "    .dataframe tbody tr th {\n",
       "        vertical-align: top;\n",
       "    }\n",
       "\n",
       "    .dataframe thead th {\n",
       "        text-align: right;\n",
       "    }\n",
       "</style>\n",
       "<table border=\"1\" class=\"dataframe\">\n",
       "  <thead>\n",
       "    <tr style=\"text-align: right;\">\n",
       "      <th></th>\n",
       "      <th>MSSubClass</th>\n",
       "      <th>MSZoning</th>\n",
       "      <th>LotFrontage</th>\n",
       "      <th>LotArea</th>\n",
       "      <th>Street</th>\n",
       "      <th>Alley</th>\n",
       "      <th>LotShape</th>\n",
       "      <th>LandContour</th>\n",
       "      <th>Utilities</th>\n",
       "      <th>LotConfig</th>\n",
       "      <th>...</th>\n",
       "      <th>PoolArea</th>\n",
       "      <th>PoolQC</th>\n",
       "      <th>Fence</th>\n",
       "      <th>MiscFeature</th>\n",
       "      <th>MiscVal</th>\n",
       "      <th>MoSold</th>\n",
       "      <th>YrSold</th>\n",
       "      <th>SaleType</th>\n",
       "      <th>SaleCondition</th>\n",
       "      <th>SalePrice</th>\n",
       "    </tr>\n",
       "    <tr>\n",
       "      <th>Id</th>\n",
       "      <th></th>\n",
       "      <th></th>\n",
       "      <th></th>\n",
       "      <th></th>\n",
       "      <th></th>\n",
       "      <th></th>\n",
       "      <th></th>\n",
       "      <th></th>\n",
       "      <th></th>\n",
       "      <th></th>\n",
       "      <th></th>\n",
       "      <th></th>\n",
       "      <th></th>\n",
       "      <th></th>\n",
       "      <th></th>\n",
       "      <th></th>\n",
       "      <th></th>\n",
       "      <th></th>\n",
       "      <th></th>\n",
       "      <th></th>\n",
       "      <th></th>\n",
       "    </tr>\n",
       "  </thead>\n",
       "  <tbody>\n",
       "    <tr>\n",
       "      <th>1</th>\n",
       "      <td>60</td>\n",
       "      <td>RL</td>\n",
       "      <td>65.0</td>\n",
       "      <td>8450</td>\n",
       "      <td>Pave</td>\n",
       "      <td>NaN</td>\n",
       "      <td>Reg</td>\n",
       "      <td>Lvl</td>\n",
       "      <td>AllPub</td>\n",
       "      <td>Inside</td>\n",
       "      <td>...</td>\n",
       "      <td>0</td>\n",
       "      <td>NaN</td>\n",
       "      <td>NaN</td>\n",
       "      <td>NaN</td>\n",
       "      <td>0</td>\n",
       "      <td>2</td>\n",
       "      <td>2008</td>\n",
       "      <td>WD</td>\n",
       "      <td>Normal</td>\n",
       "      <td>208500</td>\n",
       "    </tr>\n",
       "    <tr>\n",
       "      <th>2</th>\n",
       "      <td>20</td>\n",
       "      <td>RL</td>\n",
       "      <td>80.0</td>\n",
       "      <td>9600</td>\n",
       "      <td>Pave</td>\n",
       "      <td>NaN</td>\n",
       "      <td>Reg</td>\n",
       "      <td>Lvl</td>\n",
       "      <td>AllPub</td>\n",
       "      <td>FR2</td>\n",
       "      <td>...</td>\n",
       "      <td>0</td>\n",
       "      <td>NaN</td>\n",
       "      <td>NaN</td>\n",
       "      <td>NaN</td>\n",
       "      <td>0</td>\n",
       "      <td>5</td>\n",
       "      <td>2007</td>\n",
       "      <td>WD</td>\n",
       "      <td>Normal</td>\n",
       "      <td>181500</td>\n",
       "    </tr>\n",
       "    <tr>\n",
       "      <th>3</th>\n",
       "      <td>60</td>\n",
       "      <td>RL</td>\n",
       "      <td>68.0</td>\n",
       "      <td>11250</td>\n",
       "      <td>Pave</td>\n",
       "      <td>NaN</td>\n",
       "      <td>IR1</td>\n",
       "      <td>Lvl</td>\n",
       "      <td>AllPub</td>\n",
       "      <td>Inside</td>\n",
       "      <td>...</td>\n",
       "      <td>0</td>\n",
       "      <td>NaN</td>\n",
       "      <td>NaN</td>\n",
       "      <td>NaN</td>\n",
       "      <td>0</td>\n",
       "      <td>9</td>\n",
       "      <td>2008</td>\n",
       "      <td>WD</td>\n",
       "      <td>Normal</td>\n",
       "      <td>223500</td>\n",
       "    </tr>\n",
       "    <tr>\n",
       "      <th>4</th>\n",
       "      <td>70</td>\n",
       "      <td>RL</td>\n",
       "      <td>60.0</td>\n",
       "      <td>9550</td>\n",
       "      <td>Pave</td>\n",
       "      <td>NaN</td>\n",
       "      <td>IR1</td>\n",
       "      <td>Lvl</td>\n",
       "      <td>AllPub</td>\n",
       "      <td>Corner</td>\n",
       "      <td>...</td>\n",
       "      <td>0</td>\n",
       "      <td>NaN</td>\n",
       "      <td>NaN</td>\n",
       "      <td>NaN</td>\n",
       "      <td>0</td>\n",
       "      <td>2</td>\n",
       "      <td>2006</td>\n",
       "      <td>WD</td>\n",
       "      <td>Abnormal</td>\n",
       "      <td>140000</td>\n",
       "    </tr>\n",
       "    <tr>\n",
       "      <th>5</th>\n",
       "      <td>60</td>\n",
       "      <td>RL</td>\n",
       "      <td>84.0</td>\n",
       "      <td>14260</td>\n",
       "      <td>Pave</td>\n",
       "      <td>NaN</td>\n",
       "      <td>IR1</td>\n",
       "      <td>Lvl</td>\n",
       "      <td>AllPub</td>\n",
       "      <td>FR2</td>\n",
       "      <td>...</td>\n",
       "      <td>0</td>\n",
       "      <td>NaN</td>\n",
       "      <td>NaN</td>\n",
       "      <td>NaN</td>\n",
       "      <td>0</td>\n",
       "      <td>12</td>\n",
       "      <td>2008</td>\n",
       "      <td>WD</td>\n",
       "      <td>Normal</td>\n",
       "      <td>250000</td>\n",
       "    </tr>\n",
       "    <tr>\n",
       "      <th>...</th>\n",
       "      <td>...</td>\n",
       "      <td>...</td>\n",
       "      <td>...</td>\n",
       "      <td>...</td>\n",
       "      <td>...</td>\n",
       "      <td>...</td>\n",
       "      <td>...</td>\n",
       "      <td>...</td>\n",
       "      <td>...</td>\n",
       "      <td>...</td>\n",
       "      <td>...</td>\n",
       "      <td>...</td>\n",
       "      <td>...</td>\n",
       "      <td>...</td>\n",
       "      <td>...</td>\n",
       "      <td>...</td>\n",
       "      <td>...</td>\n",
       "      <td>...</td>\n",
       "      <td>...</td>\n",
       "      <td>...</td>\n",
       "      <td>...</td>\n",
       "    </tr>\n",
       "    <tr>\n",
       "      <th>1456</th>\n",
       "      <td>60</td>\n",
       "      <td>RL</td>\n",
       "      <td>62.0</td>\n",
       "      <td>7917</td>\n",
       "      <td>Pave</td>\n",
       "      <td>NaN</td>\n",
       "      <td>Reg</td>\n",
       "      <td>Lvl</td>\n",
       "      <td>AllPub</td>\n",
       "      <td>Inside</td>\n",
       "      <td>...</td>\n",
       "      <td>0</td>\n",
       "      <td>NaN</td>\n",
       "      <td>NaN</td>\n",
       "      <td>NaN</td>\n",
       "      <td>0</td>\n",
       "      <td>8</td>\n",
       "      <td>2007</td>\n",
       "      <td>WD</td>\n",
       "      <td>Normal</td>\n",
       "      <td>175000</td>\n",
       "    </tr>\n",
       "    <tr>\n",
       "      <th>1457</th>\n",
       "      <td>20</td>\n",
       "      <td>RL</td>\n",
       "      <td>85.0</td>\n",
       "      <td>13175</td>\n",
       "      <td>Pave</td>\n",
       "      <td>NaN</td>\n",
       "      <td>Reg</td>\n",
       "      <td>Lvl</td>\n",
       "      <td>AllPub</td>\n",
       "      <td>Inside</td>\n",
       "      <td>...</td>\n",
       "      <td>0</td>\n",
       "      <td>NaN</td>\n",
       "      <td>MnPrv</td>\n",
       "      <td>NaN</td>\n",
       "      <td>0</td>\n",
       "      <td>2</td>\n",
       "      <td>2010</td>\n",
       "      <td>WD</td>\n",
       "      <td>Normal</td>\n",
       "      <td>210000</td>\n",
       "    </tr>\n",
       "    <tr>\n",
       "      <th>1458</th>\n",
       "      <td>70</td>\n",
       "      <td>RL</td>\n",
       "      <td>66.0</td>\n",
       "      <td>9042</td>\n",
       "      <td>Pave</td>\n",
       "      <td>NaN</td>\n",
       "      <td>Reg</td>\n",
       "      <td>Lvl</td>\n",
       "      <td>AllPub</td>\n",
       "      <td>Inside</td>\n",
       "      <td>...</td>\n",
       "      <td>0</td>\n",
       "      <td>NaN</td>\n",
       "      <td>GdPrv</td>\n",
       "      <td>Shed</td>\n",
       "      <td>2500</td>\n",
       "      <td>5</td>\n",
       "      <td>2010</td>\n",
       "      <td>WD</td>\n",
       "      <td>Normal</td>\n",
       "      <td>266500</td>\n",
       "    </tr>\n",
       "    <tr>\n",
       "      <th>1459</th>\n",
       "      <td>20</td>\n",
       "      <td>RL</td>\n",
       "      <td>68.0</td>\n",
       "      <td>9717</td>\n",
       "      <td>Pave</td>\n",
       "      <td>NaN</td>\n",
       "      <td>Reg</td>\n",
       "      <td>Lvl</td>\n",
       "      <td>AllPub</td>\n",
       "      <td>Inside</td>\n",
       "      <td>...</td>\n",
       "      <td>0</td>\n",
       "      <td>NaN</td>\n",
       "      <td>NaN</td>\n",
       "      <td>NaN</td>\n",
       "      <td>0</td>\n",
       "      <td>4</td>\n",
       "      <td>2010</td>\n",
       "      <td>WD</td>\n",
       "      <td>Normal</td>\n",
       "      <td>142125</td>\n",
       "    </tr>\n",
       "    <tr>\n",
       "      <th>1460</th>\n",
       "      <td>20</td>\n",
       "      <td>RL</td>\n",
       "      <td>75.0</td>\n",
       "      <td>9937</td>\n",
       "      <td>Pave</td>\n",
       "      <td>NaN</td>\n",
       "      <td>Reg</td>\n",
       "      <td>Lvl</td>\n",
       "      <td>AllPub</td>\n",
       "      <td>Inside</td>\n",
       "      <td>...</td>\n",
       "      <td>0</td>\n",
       "      <td>NaN</td>\n",
       "      <td>NaN</td>\n",
       "      <td>NaN</td>\n",
       "      <td>0</td>\n",
       "      <td>6</td>\n",
       "      <td>2008</td>\n",
       "      <td>WD</td>\n",
       "      <td>Normal</td>\n",
       "      <td>147500</td>\n",
       "    </tr>\n",
       "  </tbody>\n",
       "</table>\n",
       "<p>1460 rows × 80 columns</p>\n",
       "</div>"
      ],
      "text/plain": [
       "      MSSubClass MSZoning  LotFrontage  LotArea Street Alley LotShape  \\\n",
       "Id                                                                      \n",
       "1             60       RL         65.0     8450   Pave   NaN      Reg   \n",
       "2             20       RL         80.0     9600   Pave   NaN      Reg   \n",
       "3             60       RL         68.0    11250   Pave   NaN      IR1   \n",
       "4             70       RL         60.0     9550   Pave   NaN      IR1   \n",
       "5             60       RL         84.0    14260   Pave   NaN      IR1   \n",
       "...          ...      ...          ...      ...    ...   ...      ...   \n",
       "1456          60       RL         62.0     7917   Pave   NaN      Reg   \n",
       "1457          20       RL         85.0    13175   Pave   NaN      Reg   \n",
       "1458          70       RL         66.0     9042   Pave   NaN      Reg   \n",
       "1459          20       RL         68.0     9717   Pave   NaN      Reg   \n",
       "1460          20       RL         75.0     9937   Pave   NaN      Reg   \n",
       "\n",
       "     LandContour Utilities LotConfig  ... PoolArea PoolQC  Fence MiscFeature  \\\n",
       "Id                                    ...                                      \n",
       "1            Lvl    AllPub    Inside  ...        0    NaN    NaN         NaN   \n",
       "2            Lvl    AllPub       FR2  ...        0    NaN    NaN         NaN   \n",
       "3            Lvl    AllPub    Inside  ...        0    NaN    NaN         NaN   \n",
       "4            Lvl    AllPub    Corner  ...        0    NaN    NaN         NaN   \n",
       "5            Lvl    AllPub       FR2  ...        0    NaN    NaN         NaN   \n",
       "...          ...       ...       ...  ...      ...    ...    ...         ...   \n",
       "1456         Lvl    AllPub    Inside  ...        0    NaN    NaN         NaN   \n",
       "1457         Lvl    AllPub    Inside  ...        0    NaN  MnPrv         NaN   \n",
       "1458         Lvl    AllPub    Inside  ...        0    NaN  GdPrv        Shed   \n",
       "1459         Lvl    AllPub    Inside  ...        0    NaN    NaN         NaN   \n",
       "1460         Lvl    AllPub    Inside  ...        0    NaN    NaN         NaN   \n",
       "\n",
       "     MiscVal MoSold  YrSold  SaleType  SaleCondition  SalePrice  \n",
       "Id                                                               \n",
       "1          0      2    2008        WD         Normal     208500  \n",
       "2          0      5    2007        WD         Normal     181500  \n",
       "3          0      9    2008        WD         Normal     223500  \n",
       "4          0      2    2006        WD       Abnormal     140000  \n",
       "5          0     12    2008        WD         Normal     250000  \n",
       "...      ...    ...     ...       ...            ...        ...  \n",
       "1456       0      8    2007        WD         Normal     175000  \n",
       "1457       0      2    2010        WD         Normal     210000  \n",
       "1458    2500      5    2010        WD         Normal     266500  \n",
       "1459       0      4    2010        WD         Normal     142125  \n",
       "1460       0      6    2008        WD         Normal     147500  \n",
       "\n",
       "[1460 rows x 80 columns]"
      ]
     },
     "execution_count": 15,
     "metadata": {},
     "output_type": "execute_result"
    }
   ],
   "source": [
    "ames_df = pd.read_csv('https://raw.githubusercontent.com/melindaleung/Ames-Iowa-Housing-Dataset/master/data/ames%20iowa%20housing.csv', index_col=0)\n",
    "ames_df.loc[ames_df['SaleCondition'] != 'Normal', 'SaleCondition'] = 'Abnormal'\n",
    "ames_df"
   ]
  },
  {
   "cell_type": "code",
   "execution_count": 16,
   "metadata": {},
   "outputs": [
    {
     "name": "stdout",
     "output_type": "stream",
     "text": [
      "<class 'pandas.core.frame.DataFrame'>\n",
      "Index: 1460 entries, 1 to 1460\n",
      "Data columns (total 80 columns):\n",
      " #   Column         Non-Null Count  Dtype  \n",
      "---  ------         --------------  -----  \n",
      " 0   MSSubClass     1460 non-null   int64  \n",
      " 1   MSZoning       1460 non-null   object \n",
      " 2   LotFrontage    1201 non-null   float64\n",
      " 3   LotArea        1460 non-null   int64  \n",
      " 4   Street         1460 non-null   object \n",
      " 5   Alley          91 non-null     object \n",
      " 6   LotShape       1460 non-null   object \n",
      " 7   LandContour    1460 non-null   object \n",
      " 8   Utilities      1460 non-null   object \n",
      " 9   LotConfig      1460 non-null   object \n",
      " 10  LandSlope      1460 non-null   object \n",
      " 11  Neighborhood   1460 non-null   object \n",
      " 12  Condition1     1460 non-null   object \n",
      " 13  Condition2     1460 non-null   object \n",
      " 14  BldgType       1460 non-null   object \n",
      " 15  HouseStyle     1460 non-null   object \n",
      " 16  OverallQual    1460 non-null   int64  \n",
      " 17  OverallCond    1460 non-null   int64  \n",
      " 18  YearBuilt      1460 non-null   int64  \n",
      " 19  YearRemodAdd   1460 non-null   int64  \n",
      " 20  RoofStyle      1460 non-null   object \n",
      " 21  RoofMatl       1460 non-null   object \n",
      " 22  Exterior1st    1460 non-null   object \n",
      " 23  Exterior2nd    1460 non-null   object \n",
      " 24  MasVnrType     588 non-null    object \n",
      " 25  MasVnrArea     1452 non-null   float64\n",
      " 26  ExterQual      1460 non-null   object \n",
      " 27  ExterCond      1460 non-null   object \n",
      " 28  Foundation     1460 non-null   object \n",
      " 29  BsmtQual       1423 non-null   object \n",
      " 30  BsmtCond       1423 non-null   object \n",
      " 31  BsmtExposure   1422 non-null   object \n",
      " 32  BsmtFinType1   1423 non-null   object \n",
      " 33  BsmtFinSF1     1460 non-null   int64  \n",
      " 34  BsmtFinType2   1422 non-null   object \n",
      " 35  BsmtFinSF2     1460 non-null   int64  \n",
      " 36  BsmtUnfSF      1460 non-null   int64  \n",
      " 37  TotalBsmtSF    1460 non-null   int64  \n",
      " 38  Heating        1460 non-null   object \n",
      " 39  HeatingQC      1460 non-null   object \n",
      " 40  CentralAir     1460 non-null   object \n",
      " 41  Electrical     1459 non-null   object \n",
      " 42  1stFlrSF       1460 non-null   int64  \n",
      " 43  2ndFlrSF       1460 non-null   int64  \n",
      " 44  LowQualFinSF   1460 non-null   int64  \n",
      " 45  GrLivArea      1460 non-null   int64  \n",
      " 46  BsmtFullBath   1460 non-null   int64  \n",
      " 47  BsmtHalfBath   1460 non-null   int64  \n",
      " 48  FullBath       1460 non-null   int64  \n",
      " 49  HalfBath       1460 non-null   int64  \n",
      " 50  BedroomAbvGr   1460 non-null   int64  \n",
      " 51  KitchenAbvGr   1460 non-null   int64  \n",
      " 52  KitchenQual    1460 non-null   object \n",
      " 53  TotRmsAbvGrd   1460 non-null   int64  \n",
      " 54  Functional     1460 non-null   object \n",
      " 55  Fireplaces     1460 non-null   int64  \n",
      " 56  FireplaceQu    770 non-null    object \n",
      " 57  GarageType     1379 non-null   object \n",
      " 58  GarageYrBlt    1379 non-null   float64\n",
      " 59  GarageFinish   1379 non-null   object \n",
      " 60  GarageCars     1460 non-null   int64  \n",
      " 61  GarageArea     1460 non-null   int64  \n",
      " 62  GarageQual     1379 non-null   object \n",
      " 63  GarageCond     1379 non-null   object \n",
      " 64  PavedDrive     1460 non-null   object \n",
      " 65  WoodDeckSF     1460 non-null   int64  \n",
      " 66  OpenPorchSF    1460 non-null   int64  \n",
      " 67  EnclosedPorch  1460 non-null   int64  \n",
      " 68  3SsnPorch      1460 non-null   int64  \n",
      " 69  ScreenPorch    1460 non-null   int64  \n",
      " 70  PoolArea       1460 non-null   int64  \n",
      " 71  PoolQC         7 non-null      object \n",
      " 72  Fence          281 non-null    object \n",
      " 73  MiscFeature    54 non-null     object \n",
      " 74  MiscVal        1460 non-null   int64  \n",
      " 75  MoSold         1460 non-null   int64  \n",
      " 76  YrSold         1460 non-null   int64  \n",
      " 77  SaleType       1460 non-null   object \n",
      " 78  SaleCondition  1460 non-null   object \n",
      " 79  SalePrice      1460 non-null   int64  \n",
      "dtypes: float64(3), int64(34), object(43)\n",
      "memory usage: 923.9+ KB\n"
     ]
    }
   ],
   "source": [
    "ames_df.info()"
   ]
  },
  {
   "cell_type": "markdown",
   "metadata": {},
   "source": [
    "Here, we use `.info()` to identify our categorical and numeric features. I split my features and identify my target. \n",
    "\n",
    "The target variable for this question is `SaleCondition` and we are doing classification."
   ]
  },
  {
   "cell_type": "code",
   "execution_count": 17,
   "metadata": {},
   "outputs": [],
   "source": [
    "train_df, test_df = train_test_split(ames_df, test_size=0.2, random_state=77)\n",
    "\n",
    "X_train = train_df.drop(columns=['SaleCondition', 'PoolQC', 'MiscFeature', 'Alley'])\n",
    "X_test =  test_df.drop(columns=['SaleCondition', 'PoolQC', 'MiscFeature', 'Alley'])\n",
    "\n",
    "y_train = train_df['SaleCondition']\n",
    "y_test = test_df['SaleCondition']"
   ]
  },
  {
   "cell_type": "markdown",
   "metadata": {},
   "source": [
    " Note, you should be looking at these individually but I'm being a little lazy here. "
   ]
  },
  {
   "cell_type": "code",
   "execution_count": 18,
   "metadata": {},
   "outputs": [],
   "source": [
    "numeric_features = X_train.select_dtypes('number').columns.to_list()\n",
    "categorical_features = X_train.select_dtypes('object').columns.to_list()"
   ]
  },
  {
   "cell_type": "markdown",
   "metadata": {},
   "source": [
    "Next, we need to make our pipelines and column transformer. \n",
    "\n",
    "We can also cross-validate, but here my main goal is to show you how to get our feature importances from our pipeline! "
   ]
  },
  {
   "cell_type": "code",
   "execution_count": 19,
   "metadata": {},
   "outputs": [
    {
     "data": {
      "text/plain": [
       "fit_time       0.061272\n",
       "score_time     0.006526\n",
       "test_score     0.900704\n",
       "train_score    0.936003\n",
       "dtype: float64"
      ]
     },
     "execution_count": 19,
     "metadata": {},
     "output_type": "execute_result"
    }
   ],
   "source": [
    "from sklearn.pipeline import make_pipeline\n",
    "from sklearn.impute import SimpleImputer\n",
    "from sklearn.preprocessing import StandardScaler, OneHotEncoder\n",
    "from sklearn.linear_model import LogisticRegression\n",
    "from sklearn.model_selection import cross_validate\n",
    "from sklearn.compose import make_column_transformer\n",
    "\n",
    "\n",
    "numeric_pipe = make_pipeline(\n",
    "    SimpleImputer(strategy='median'),\n",
    "    StandardScaler()\n",
    ")\n",
    "categoric_pipe = make_pipeline(\n",
    "    SimpleImputer(strategy=\"constant\", fill_value=\"missing\"),\n",
    "    OneHotEncoder(dtype=int, handle_unknown=\"ignore\")\n",
    ")\n",
    "preprocessor = make_column_transformer(\n",
    "    (numeric_pipe, numeric_features),\n",
    "    (categoric_pipe, categorical_features)\n",
    ")\n",
    "main_pipe = make_pipeline(\n",
    "    preprocessor,\n",
    "    LogisticRegression(max_iter=1000)  # This max_iter is just a detail to avoid an sklearn warning\n",
    ")\n",
    "scores = cross_validate(\n",
    "    main_pipe,\n",
    "    X_train,\n",
    "    y_train,\n",
    "    return_train_score=True\n",
    ")\n",
    "\n",
    "pd.DataFrame(scores).mean()"
   ]
  },
  {
   "cell_type": "markdown",
   "metadata": {},
   "source": [
    "Once we fit our pipeline outside of `cross_validate()` we can use `coef_` to get our features that contribute to our predictions. "
   ]
  },
  {
   "cell_type": "code",
   "execution_count": 20,
   "metadata": {},
   "outputs": [
    {
     "data": {
      "text/plain": [
       "array([[-1.13086132e-01,  3.15165220e-02,  2.37488838e-01,\n",
       "        -1.41058318e-01,  2.33744312e-01,  2.59411629e-01,\n",
       "         8.55948622e-02,  5.36547257e-02, -3.14691953e-01,\n",
       "        -7.73012922e-02,  1.06317820e-01, -2.44534430e-01,\n",
       "        -2.59477640e-01,  1.11200954e-01,  8.78382152e-02,\n",
       "        -9.49713049e-02,  1.65370060e-01, -1.87080669e-01,\n",
       "         1.61917554e-01, -5.70456559e-02,  4.25096727e-02,\n",
       "        -6.71453522e-02, -2.73963521e-01,  5.19292801e-02,\n",
       "         2.52445270e-01, -2.52898469e-01,  2.80517473e-01,\n",
       "         1.18089718e-01, -3.07605607e-02,  1.46161884e-01,\n",
       "         5.58452397e-03, -1.19728587e-01, -2.22793866e-01,\n",
       "         3.88682706e-01,  1.00619000e-01,  3.17180814e-01,\n",
       "         8.17807294e-01, -5.43797176e-01, -2.90156006e-01,\n",
       "        -3.82688209e-01,  5.73412646e-01,  6.43168121e-01,\n",
       "         2.06342648e-01, -2.06403271e-01,  3.56806562e-01,\n",
       "         6.95761524e-02, -3.78008947e-01, -4.84343897e-02,\n",
       "        -2.86152124e-01, -2.53144217e-01,  1.68448720e-01,\n",
       "         3.70786998e-01, -6.06232808e-05, -3.46698315e-01,\n",
       "        -5.84519592e-02,  2.33270610e-01,  8.98503013e-02,\n",
       "         8.19687396e-02,  7.43746728e-01,  1.84881675e-01,\n",
       "        -9.28689026e-01,  6.21563188e-01,  1.54362159e-01,\n",
       "        -1.06832504e+00,  1.47217750e-01, -6.36747456e-01,\n",
       "         9.43624537e-01, -7.02458691e-01,  5.32003842e-01,\n",
       "        -2.54365590e-01,  2.70048740e-01,  1.68302040e-01,\n",
       "         8.35756855e-01, -1.27087410e-01, -2.00134544e-01,\n",
       "        -4.77447861e-01, -9.73943238e-01,  4.16471243e-01,\n",
       "        -2.76244365e-01,  2.64016994e-01,  6.65141182e-01,\n",
       "        -4.44831331e-01,  9.82271449e-02, -1.45731490e-01,\n",
       "        -4.60859182e-02,  2.36606638e-01, -1.05321562e-01,\n",
       "        -4.71860253e-01, -2.46880459e-01,  2.10450434e-01,\n",
       "         3.43772283e-01, -3.04336857e-01,  2.09852454e-01,\n",
       "         3.64263337e-01, -5.52427267e-01,  9.90794776e-02,\n",
       "         2.29095828e-01,  1.38065150e-03, -1.39646408e-01,\n",
       "        -1.75363718e-05,  2.31827581e-01,  1.30647050e-01,\n",
       "        -3.85378623e-01,  5.34383522e-01,  1.59654840e-01,\n",
       "        -3.94044041e-01,  8.53236784e-02, -1.98038782e-01,\n",
       "         4.12727353e-01, -2.44368656e-01, -1.72907492e-01,\n",
       "         9.37043820e-01,  2.84108714e-01, -1.05673704e+00,\n",
       "         3.81114598e-02, -6.73322846e-01, -2.11442119e-01,\n",
       "         1.62723913e-01,  3.52648229e-01,  1.43614154e-01,\n",
       "         2.25718047e-01,  4.75531193e-05,  1.83520279e-01,\n",
       "         7.90910845e-02,  4.79068770e-02, -5.72560093e-01,\n",
       "         1.16251344e-01,  1.45682332e-01, -3.63975558e-01,\n",
       "         8.71409994e-02, -3.64066487e-01,  2.78914810e-01,\n",
       "         1.34565042e-01,  2.20646556e-01,  1.09764840e-01,\n",
       "         2.29804377e-01,  1.00828053e-02,  3.40476620e-01,\n",
       "        -6.55687793e-01,  4.82348209e-01, -4.43834941e-01,\n",
       "        -4.66477540e-01,  4.00237436e-01,  2.13116601e-01,\n",
       "         1.73821437e-01, -2.48084617e-01,  1.11865436e+00,\n",
       "         1.34565042e-01,  2.39619188e-01,  8.77210524e-03,\n",
       "        -8.56784759e-01, -4.19781865e-03, -3.79293135e-01,\n",
       "        -9.36575914e-01, -4.30630001e-01, -5.68914566e-02,\n",
       "         9.76525930e-01,  4.73224198e-02, -5.59194525e-01,\n",
       "         3.65838948e-01, -1.40119197e-01,  3.33414151e-01,\n",
       "        -2.93166677e-02, -1.15056694e-01,  4.21337160e-02,\n",
       "         1.02179022e-01,  7.89772014e-02, -8.79265558e-03,\n",
       "        -1.31776628e-01,  1.98901841e-01, -1.37370382e-01,\n",
       "        -1.89622179e-01,  1.93169588e-01, -1.77310402e-01,\n",
       "         4.41967383e-01, -3.09492493e-01,  4.12274792e-02,\n",
       "         3.42331614e-02,  8.02536607e-03, -2.64509962e-03,\n",
       "         6.43493662e-02, -1.04023417e-01,  5.19803377e-01,\n",
       "        -2.87865563e-01, -2.50775609e-01,  1.22800589e-01,\n",
       "        -1.04023417e-01,  7.48343355e-02,  7.80501567e-02,\n",
       "        -2.53858719e-01,  1.83789227e-01, -8.28756244e-02,\n",
       "        -6.13648204e-02,  3.58043238e-01, -1.46860482e-02,\n",
       "         2.41198796e-01,  1.96367799e-01, -6.15596171e-01,\n",
       "        -1.04023417e-01,  2.78942993e-01, -1.44884065e-01,\n",
       "         1.35855262e-01, -2.64806948e-01,  1.85163961e-01,\n",
       "        -1.13114602e-01, -7.72172244e-02,  3.01034809e-02,\n",
       "        -4.91066926e-01,  5.27425949e-01, -1.76188998e-01,\n",
       "         4.75673293e-02,  6.20985412e-02, -4.47850068e-01,\n",
       "         2.81212139e-01,  7.53015920e-01,  1.22987922e-02,\n",
       "        -5.98737407e-01,  1.28068596e-01, -1.28129220e-01,\n",
       "         2.88243580e-01,  4.04447499e-01, -4.61071693e-01,\n",
       "        -4.24598523e-01,  1.92918513e-01, -9.68363117e-01,\n",
       "         5.83503287e-01,  6.57997106e-02,  3.18999496e-01,\n",
       "         3.54472523e-01, -1.72720210e-01, -3.10721043e-01,\n",
       "         6.11403937e-01,  4.36304428e-01, -6.59119322e-01,\n",
       "        -2.59680936e-01, -3.35392218e-01,  4.22856540e-01,\n",
       "         2.64834624e-02,  5.30640483e-01, -7.10133859e-02,\n",
       "        -5.73635506e-01,  7.16093163e-02,  5.30099436e-01,\n",
       "        -5.89023964e-01, -2.77040017e-01, -1.24806087e-01,\n",
       "         4.79821549e-01, -9.07208562e-02, -2.08774584e-01,\n",
       "         1.20851901e-01,  1.78582915e-01, -9.07208562e-02,\n",
       "         2.77448590e-02,  2.09679607e-01, -2.88251463e-03,\n",
       "        -3.15035744e-01,  1.71154025e-01, -9.07208562e-02,\n",
       "         2.77448590e-02,  5.60140410e-01, -5.22120104e-01,\n",
       "         1.38455835e-01, -1.13560768e-01, -9.07208562e-02,\n",
       "         5.15805726e-02,  2.57171103e-01, -3.08812299e-01,\n",
       "         2.33281682e-01, -1.07743388e-01, -2.46263248e-01,\n",
       "        -2.24340661e-01,  3.45004992e-01,  1.45187519e-01,\n",
       "        -3.28106990e-01,  2.55962756e-01,  4.26908544e-01,\n",
       "         4.89621641e-01,  9.37637274e-01, -3.84198628e+00,\n",
       "        -6.81971349e-01,  2.59668626e+00]])"
      ]
     },
     "execution_count": 20,
     "metadata": {},
     "output_type": "execute_result"
    }
   ],
   "source": [
    "main_pipe.fit(X_train, y_train)\n",
    "feats_coef = main_pipe.named_steps['logisticregression'].coef_\n",
    "feats_coef"
   ]
  },
  {
   "cell_type": "markdown",
   "metadata": {},
   "source": [
    "The problem here, is we don't know which value corresponds to which feature! \n",
    "\n",
    "Let's first take a look at how many features we have now after preprocessing. "
   ]
  },
  {
   "cell_type": "code",
   "execution_count": 21,
   "metadata": {},
   "outputs": [
    {
     "data": {
      "text/plain": [
       "(1, 281)"
      ]
     },
     "execution_count": 21,
     "metadata": {},
     "output_type": "execute_result"
    }
   ],
   "source": [
    "feats_coef.shape"
   ]
  },
  {
   "cell_type": "markdown",
   "metadata": {},
   "source": [
    "The 282 is refering to the number of features after preprocessing!\n",
    "\n",
    "Let's get the feature names after preprocessing.  "
   ]
  },
  {
   "cell_type": "markdown",
   "metadata": {},
   "source": [
    "We can obtain the categorical features and combine them with the  numeric features."
   ]
  },
  {
   "cell_type": "code",
   "execution_count": 26,
   "metadata": {},
   "outputs": [],
   "source": [
    "cat_feats = preprocessor.named_transformers_['pipeline-2'].named_steps[\n",
    "    'onehotencoder'].get_feature_names_out(categorical_features).tolist()"
   ]
  },
  {
   "cell_type": "code",
   "execution_count": 27,
   "metadata": {},
   "outputs": [],
   "source": [
    "all_feat_names = numeric_features + cat_feats"
   ]
  },
  {
   "cell_type": "markdown",
   "metadata": {},
   "source": [
    "We can see now that we have the same number of feature names as we do coefficients. "
   ]
  },
  {
   "cell_type": "code",
   "execution_count": 28,
   "metadata": {},
   "outputs": [
    {
     "data": {
      "text/plain": [
       "281"
      ]
     },
     "execution_count": 28,
     "metadata": {},
     "output_type": "execute_result"
    }
   ],
   "source": [
    "len(all_feat_names)"
   ]
  },
  {
   "cell_type": "markdown",
   "metadata": {},
   "source": [
    "Let's get them into a dataframe now and sort them:"
   ]
  },
  {
   "cell_type": "code",
   "execution_count": 29,
   "metadata": {},
   "outputs": [
    {
     "data": {
      "text/html": [
       "<div>\n",
       "<style scoped>\n",
       "    .dataframe tbody tr th:only-of-type {\n",
       "        vertical-align: middle;\n",
       "    }\n",
       "\n",
       "    .dataframe tbody tr th {\n",
       "        vertical-align: top;\n",
       "    }\n",
       "\n",
       "    .dataframe thead th {\n",
       "        text-align: right;\n",
       "    }\n",
       "</style>\n",
       "<table border=\"1\" class=\"dataframe\">\n",
       "  <thead>\n",
       "    <tr style=\"text-align: right;\">\n",
       "      <th></th>\n",
       "      <th>feature</th>\n",
       "      <th>feature_coefs</th>\n",
       "    </tr>\n",
       "  </thead>\n",
       "  <tbody>\n",
       "    <tr>\n",
       "      <th>278</th>\n",
       "      <td>SaleType_New</td>\n",
       "      <td>-3.841986</td>\n",
       "    </tr>\n",
       "    <tr>\n",
       "      <th>280</th>\n",
       "      <td>SaleType_WD</td>\n",
       "      <td>2.596686</td>\n",
       "    </tr>\n",
       "    <tr>\n",
       "      <th>146</th>\n",
       "      <td>Exterior2nd_BrkFace</td>\n",
       "      <td>1.118654</td>\n",
       "    </tr>\n",
       "    <tr>\n",
       "      <th>63</th>\n",
       "      <td>Neighborhood_BrDale</td>\n",
       "      <td>-1.068325</td>\n",
       "    </tr>\n",
       "    <tr>\n",
       "      <th>113</th>\n",
       "      <td>HouseStyle_SFoyer</td>\n",
       "      <td>-1.056737</td>\n",
       "    </tr>\n",
       "    <tr>\n",
       "      <th>...</th>\n",
       "      <td>...</td>\n",
       "      <td>...</td>\n",
       "    </tr>\n",
       "    <tr>\n",
       "      <th>179</th>\n",
       "      <td>BsmtQual_Gd</td>\n",
       "      <td>-0.002645</td>\n",
       "    </tr>\n",
       "    <tr>\n",
       "      <th>97</th>\n",
       "      <td>Condition2_PosA</td>\n",
       "      <td>0.001381</td>\n",
       "    </tr>\n",
       "    <tr>\n",
       "      <th>52</th>\n",
       "      <td>Utilities_AllPub</td>\n",
       "      <td>-0.000061</td>\n",
       "    </tr>\n",
       "    <tr>\n",
       "      <th>121</th>\n",
       "      <td>RoofMatl_ClyTile</td>\n",
       "      <td>0.000048</td>\n",
       "    </tr>\n",
       "    <tr>\n",
       "      <th>99</th>\n",
       "      <td>Condition2_RRAe</td>\n",
       "      <td>-0.000018</td>\n",
       "    </tr>\n",
       "  </tbody>\n",
       "</table>\n",
       "<p>281 rows × 2 columns</p>\n",
       "</div>"
      ],
      "text/plain": [
       "                 feature feature_coefs\n",
       "278         SaleType_New     -3.841986\n",
       "280          SaleType_WD      2.596686\n",
       "146  Exterior2nd_BrkFace      1.118654\n",
       "63   Neighborhood_BrDale     -1.068325\n",
       "113    HouseStyle_SFoyer     -1.056737\n",
       "..                   ...           ...\n",
       "179          BsmtQual_Gd     -0.002645\n",
       "97       Condition2_PosA      0.001381\n",
       "52      Utilities_AllPub     -0.000061\n",
       "121     RoofMatl_ClyTile      0.000048\n",
       "99       Condition2_RRAe     -0.000018\n",
       "\n",
       "[281 rows x 2 columns]"
      ]
     },
     "execution_count": 29,
     "metadata": {},
     "output_type": "execute_result"
    }
   ],
   "source": [
    "features_df = pd.DataFrame(data = [all_feat_names,\n",
    "                                feats_coef.flatten()]).T.rename(columns={0:'feature', 1:'feature_coefs'})\n",
    "features_df.sort_values('feature_coefs',key= abs, ascending=False)\n"
   ]
  },
  {
   "cell_type": "markdown",
   "metadata": {},
   "source": [
    "We can see that `SaleType_New` is the most important feature in our model.\n",
    "\n",
    "From here we can decide to manually remove some of the columns with a threshold as we mention above,\n",
    "or we can use Recursive feature elimination to perform the iterative process of fitting a model\n",
    "removing some features\n",
    "and then fitting a model again with the reduced number of features."
   ]
  },
  {
   "cell_type": "markdown",
   "metadata": {},
   "source": [
    "\n",
    "\n",
    "Let's take a look at how we can do this. \n",
    "\n",
    "First we import `RFE` from `sklearn.feature_selection`: "
   ]
  },
  {
   "cell_type": "code",
   "execution_count": 30,
   "metadata": {},
   "outputs": [],
   "source": [
    "from sklearn.feature_selection import RFE"
   ]
  },
  {
   "cell_type": "markdown",
   "metadata": {},
   "source": [
    "Now instead of simply using `LogisticRegression`, we can wrap it around the `RFE` function and specify how many features we want with `n_features_to_select`. \n",
    "\n",
    "Here I'm capping the number of features to 30 (an arbitrary number I picked).\n",
    "\n",
    "This is going to take about 1-2 minutes to run because now, it's recursively removing 1 feature at a time and cross-validating on the final result.\n"
   ]
  },
  {
   "cell_type": "code",
   "execution_count": 31,
   "metadata": {},
   "outputs": [
    {
     "name": "stdout",
     "output_type": "stream",
     "text": [
      "Fitting estimator with 275 features.\n",
      "Fitting estimator with 225 features.\n",
      "Fitting estimator with 175 features.\n",
      "Fitting estimator with 125 features.\n",
      "Fitting estimator with 75 features.\n",
      "Fitting estimator with 276 features.\n"
     ]
    },
    {
     "name": "stdout",
     "output_type": "stream",
     "text": [
      "Fitting estimator with 226 features.\n",
      "Fitting estimator with 176 features.\n",
      "Fitting estimator with 126 features.\n",
      "Fitting estimator with 76 features.\n",
      "Fitting estimator with 275 features.\n",
      "Fitting estimator with 225 features.\n",
      "Fitting estimator with 175 features.\n",
      "Fitting estimator with 125 features.\n",
      "Fitting estimator with 75 features.\n",
      "Fitting estimator with 278 features.\n",
      "Fitting estimator with 228 features.\n",
      "Fitting estimator with 178 features.\n",
      "Fitting estimator with 128 features.\n",
      "Fitting estimator with 78 features.\n",
      "Fitting estimator with 278 features.\n",
      "Fitting estimator with 228 features.\n",
      "Fitting estimator with 178 features.\n",
      "Fitting estimator with 128 features.\n",
      "Fitting estimator with 78 features.\n"
     ]
    },
    {
     "data": {
      "text/html": [
       "<div>\n",
       "<style scoped>\n",
       "    .dataframe tbody tr th:only-of-type {\n",
       "        vertical-align: middle;\n",
       "    }\n",
       "\n",
       "    .dataframe tbody tr th {\n",
       "        vertical-align: top;\n",
       "    }\n",
       "\n",
       "    .dataframe thead th {\n",
       "        text-align: right;\n",
       "    }\n",
       "</style>\n",
       "<table border=\"1\" class=\"dataframe\">\n",
       "  <thead>\n",
       "    <tr style=\"text-align: right;\">\n",
       "      <th></th>\n",
       "      <th>fit_time</th>\n",
       "      <th>score_time</th>\n",
       "      <th>test_score</th>\n",
       "      <th>train_score</th>\n",
       "    </tr>\n",
       "  </thead>\n",
       "  <tbody>\n",
       "    <tr>\n",
       "      <th>0</th>\n",
       "      <td>0.181349</td>\n",
       "      <td>0.009148</td>\n",
       "      <td>0.893162</td>\n",
       "      <td>0.915418</td>\n",
       "    </tr>\n",
       "    <tr>\n",
       "      <th>1</th>\n",
       "      <td>0.187679</td>\n",
       "      <td>0.006660</td>\n",
       "      <td>0.884615</td>\n",
       "      <td>0.922912</td>\n",
       "    </tr>\n",
       "    <tr>\n",
       "      <th>2</th>\n",
       "      <td>0.170722</td>\n",
       "      <td>0.006677</td>\n",
       "      <td>0.905983</td>\n",
       "      <td>0.918630</td>\n",
       "    </tr>\n",
       "    <tr>\n",
       "      <th>3</th>\n",
       "      <td>0.168004</td>\n",
       "      <td>0.006295</td>\n",
       "      <td>0.931330</td>\n",
       "      <td>0.914439</td>\n",
       "    </tr>\n",
       "    <tr>\n",
       "      <th>4</th>\n",
       "      <td>0.165910</td>\n",
       "      <td>0.006184</td>\n",
       "      <td>0.914163</td>\n",
       "      <td>0.917647</td>\n",
       "    </tr>\n",
       "  </tbody>\n",
       "</table>\n",
       "</div>"
      ],
      "text/plain": [
       "   fit_time  score_time  test_score  train_score\n",
       "0  0.181349    0.009148    0.893162     0.915418\n",
       "1  0.187679    0.006660    0.884615     0.922912\n",
       "2  0.170722    0.006677    0.905983     0.918630\n",
       "3  0.168004    0.006295    0.931330     0.914439\n",
       "4  0.165910    0.006184    0.914163     0.917647"
      ]
     },
     "execution_count": 31,
     "metadata": {},
     "output_type": "execute_result"
    }
   ],
   "source": [
    "main_pipe = make_pipeline(\n",
    "    preprocessor,\n",
    "    RFE(LogisticRegression(max_iter=1000), n_features_to_select=30, step=50, verbose=1)\n",
    ")\n",
    "\n",
    "scores = cross_validate(main_pipe, X_train, y_train, return_train_score=True)\n",
    "\n",
    "pd.DataFrame(scores)"
   ]
  },
  {
   "cell_type": "code",
   "execution_count": 32,
   "metadata": {},
   "outputs": [
    {
     "data": {
      "text/plain": [
       "fit_time       0.174733\n",
       "score_time     0.006993\n",
       "test_score     0.905851\n",
       "train_score    0.917809\n",
       "dtype: float64"
      ]
     },
     "execution_count": 32,
     "metadata": {},
     "output_type": "execute_result"
    }
   ],
   "source": [
    "pd.DataFrame(scores).mean()"
   ]
  },
  {
   "cell_type": "markdown",
   "metadata": {},
   "source": [
    "Looking at this mean validation score compared to when the model was using all the features, we can see it increased a tiny bit!\n",
    "And more importantly, we are using much fewer features now\n",
    "so our model is both easier to explain and faster to train:"
   ]
  },
  {
   "cell_type": "code",
   "execution_count": 33,
   "metadata": {},
   "outputs": [
    {
     "name": "stdout",
     "output_type": "stream",
     "text": [
      "Fitting estimator with 281 features.\n",
      "Fitting estimator with 231 features.\n",
      "Fitting estimator with 181 features.\n",
      "Fitting estimator with 131 features.\n",
      "Fitting estimator with 81 features.\n",
      "Fitting estimator with 31 features.\n"
     ]
    },
    {
     "data": {
      "text/plain": [
       "0.8904109589041096"
      ]
     },
     "execution_count": 33,
     "metadata": {},
     "output_type": "execute_result"
    }
   ],
   "source": [
    "main_pipe.fit(X_train, y_train)\n",
    "main_pipe.score(X_test, y_test)"
   ]
  },
  {
   "cell_type": "code",
   "execution_count": 34,
   "metadata": {},
   "outputs": [
    {
     "data": {
      "text/plain": [
       "30"
      ]
     },
     "execution_count": 34,
     "metadata": {},
     "output_type": "execute_result"
    }
   ],
   "source": [
    "main_pipe.named_steps[\"rfe\"].n_features_"
   ]
  },
  {
   "cell_type": "markdown",
   "metadata": {},
   "source": [
    "But now our next question is how do we select a good value for $k$?\n",
    "How do we know how many features is the optimal amount... Well, you guessed it! There is a tool for that too! "
   ]
  },
  {
   "cell_type": "markdown",
   "metadata": {},
   "source": [
    "### RFECV\n",
    "\n",
    "You can find the optimal number of features using cross-validation with `RFECV` where the optimal $k$ value is selected based on the highest validation score. \n",
    "\n",
    "You would definitely not want to use the training score! - Why?\n",
    " > Because with training score the more features you add the higher the score, this isn't the case with validation score. \n",
    " \n",
    "We can import `RFECV` from `sklearn.feature_selection` like we did for `RFE`. "
   ]
  },
  {
   "cell_type": "code",
   "execution_count": 35,
   "metadata": {},
   "outputs": [],
   "source": [
    "from sklearn.feature_selection import RFECV"
   ]
  },
  {
   "cell_type": "markdown",
   "metadata": {},
   "source": [
    "Instead of `RFE` now we simply use `RFECV` in our pipeline and we do not need to specify the argument `n_features_to_select` like we did with `RFE` since $k$ is selected based on the highest validation score. \n",
    "\n",
    "(*This is also going to take a couple of minutes*)"
   ]
  },
  {
   "cell_type": "code",
   "execution_count": 36,
   "metadata": {},
   "outputs": [
    {
     "name": "stdout",
     "output_type": "stream",
     "text": [
      "Fitting estimator with 262 features.\n",
      "Fitting estimator with 252 features.\n",
      "Fitting estimator with 242 features.\n",
      "Fitting estimator with 232 features.\n",
      "Fitting estimator with 222 features.\n",
      "Fitting estimator with 212 features.\n",
      "Fitting estimator with 202 features.\n",
      "Fitting estimator with 192 features.\n",
      "Fitting estimator with 182 features.\n",
      "Fitting estimator with 172 features.\n",
      "Fitting estimator with 162 features.\n",
      "Fitting estimator with 152 features.\n",
      "Fitting estimator with 142 features.\n",
      "Fitting estimator with 132 features.\n",
      "Fitting estimator with 122 features.\n",
      "Fitting estimator with 112 features.\n",
      "Fitting estimator with 102 features.\n",
      "Fitting estimator with 92 features.\n",
      "Fitting estimator with 82 features.\n",
      "Fitting estimator with 72 features.\n",
      "Fitting estimator with 62 features.\n",
      "Fitting estimator with 52 features.\n",
      "Fitting estimator with 42 features.\n",
      "Fitting estimator with 32 features.\n",
      "Fitting estimator with 22 features.\n",
      "Fitting estimator with 12 features.\n",
      "Fitting estimator with 2 features.\n",
      "Fitting estimator with 262 features.\n",
      "Fitting estimator with 252 features.\n",
      "Fitting estimator with 242 features.\n",
      "Fitting estimator with 232 features.\n",
      "Fitting estimator with 222 features.\n",
      "Fitting estimator with 212 features.\n",
      "Fitting estimator with 202 features.\n",
      "Fitting estimator with 192 features.\n",
      "Fitting estimator with 182 features.\n",
      "Fitting estimator with 172 features.\n",
      "Fitting estimator with 162 features.\n",
      "Fitting estimator with 152 features.\n",
      "Fitting estimator with 142 features.\n",
      "Fitting estimator with 132 features.\n",
      "Fitting estimator with 122 features.\n",
      "Fitting estimator with 112 features.\n",
      "Fitting estimator with 102 features.\n",
      "Fitting estimator with 92 features.\n",
      "Fitting estimator with 82 features.\n",
      "Fitting estimator with 72 features.\n",
      "Fitting estimator with 62 features.\n",
      "Fitting estimator with 52 features.\n",
      "Fitting estimator with 42 features.\n",
      "Fitting estimator with 32 features.\n",
      "Fitting estimator with 22 features.\n",
      "Fitting estimator with 12 features.\n",
      "Fitting estimator with 2 features.\n",
      "Fitting estimator with 262 features.\n",
      "Fitting estimator with 252 features.\n",
      "Fitting estimator with 242 features.\n",
      "Fitting estimator with 232 features.\n",
      "Fitting estimator with 222 features.\n",
      "Fitting estimator with 212 features.\n",
      "Fitting estimator with 202 features.\n",
      "Fitting estimator with 192 features.\n",
      "Fitting estimator with 182 features.\n",
      "Fitting estimator with 172 features.\n",
      "Fitting estimator with 162 features.\n",
      "Fitting estimator with 152 features.\n",
      "Fitting estimator with 142 features.\n",
      "Fitting estimator with 132 features.\n",
      "Fitting estimator with 122 features.\n",
      "Fitting estimator with 112 features.\n",
      "Fitting estimator with 102 features.\n",
      "Fitting estimator with 92 features.\n",
      "Fitting estimator with 82 features.\n",
      "Fitting estimator with 72 features.\n",
      "Fitting estimator with 62 features.\n",
      "Fitting estimator with 52 features.\n",
      "Fitting estimator with 42 features.\n",
      "Fitting estimator with 32 features.\n",
      "Fitting estimator with 22 features.\n",
      "Fitting estimator with 272 features.\n",
      "Fitting estimator with 262 features.\n",
      "Fitting estimator with 252 features.\n",
      "Fitting estimator with 242 features.\n",
      "Fitting estimator with 232 features.\n",
      "Fitting estimator with 222 features.\n",
      "Fitting estimator with 212 features.\n",
      "Fitting estimator with 202 features.\n",
      "Fitting estimator with 192 features.\n",
      "Fitting estimator with 182 features.\n",
      "Fitting estimator with 172 features.\n",
      "Fitting estimator with 162 features.\n",
      "Fitting estimator with 152 features.\n",
      "Fitting estimator with 142 features.\n",
      "Fitting estimator with 132 features.\n",
      "Fitting estimator with 122 features.\n",
      "Fitting estimator with 112 features.\n",
      "Fitting estimator with 102 features.\n",
      "Fitting estimator with 92 features.\n",
      "Fitting estimator with 82 features.\n",
      "Fitting estimator with 72 features.\n",
      "Fitting estimator with 62 features.\n",
      "Fitting estimator with 52 features.\n",
      "Fitting estimator with 42 features.\n",
      "Fitting estimator with 32 features.\n",
      "Fitting estimator with 22 features.\n",
      "Fitting estimator with 12 features.\n",
      "Fitting estimator with 2 features.\n",
      "Fitting estimator with 272 features.\n",
      "Fitting estimator with 262 features.\n",
      "Fitting estimator with 252 features.\n",
      "Fitting estimator with 242 features.\n",
      "Fitting estimator with 232 features.\n",
      "Fitting estimator with 222 features.\n",
      "Fitting estimator with 212 features.\n",
      "Fitting estimator with 202 features.\n",
      "Fitting estimator with 192 features.\n",
      "Fitting estimator with 182 features.\n",
      "Fitting estimator with 172 features.\n",
      "Fitting estimator with 162 features.\n",
      "Fitting estimator with 152 features.\n",
      "Fitting estimator with 142 features.\n",
      "Fitting estimator with 132 features.\n",
      "Fitting estimator with 122 features.\n",
      "Fitting estimator with 112 features.\n",
      "Fitting estimator with 102 features.\n",
      "Fitting estimator with 92 features.\n",
      "Fitting estimator with 82 features.\n",
      "Fitting estimator with 72 features.\n",
      "Fitting estimator with 62 features.\n",
      "Fitting estimator with 52 features.\n",
      "Fitting estimator with 42 features.\n",
      "Fitting estimator with 32 features.\n",
      "Fitting estimator with 22 features.\n",
      "Fitting estimator with 12 features.\n",
      "Fitting estimator with 2 features.\n",
      "Fitting estimator with 272 features.\n",
      "Fitting estimator with 262 features.\n",
      "Fitting estimator with 252 features.\n",
      "Fitting estimator with 242 features.\n",
      "Fitting estimator with 232 features.\n",
      "Fitting estimator with 222 features.\n",
      "Fitting estimator with 212 features.\n",
      "Fitting estimator with 202 features.\n",
      "Fitting estimator with 192 features.\n",
      "Fitting estimator with 182 features.\n",
      "Fitting estimator with 172 features.\n",
      "Fitting estimator with 162 features.\n",
      "Fitting estimator with 152 features.\n",
      "Fitting estimator with 142 features.\n",
      "Fitting estimator with 132 features.\n",
      "Fitting estimator with 122 features.\n",
      "Fitting estimator with 112 features.\n",
      "Fitting estimator with 102 features.\n",
      "Fitting estimator with 92 features.\n",
      "Fitting estimator with 82 features.\n",
      "Fitting estimator with 72 features.\n",
      "Fitting estimator with 62 features.\n",
      "Fitting estimator with 52 features.\n",
      "Fitting estimator with 42 features.\n",
      "Fitting estimator with 32 features.\n",
      "Fitting estimator with 22 features.\n",
      "Fitting estimator with 12 features.\n",
      "Fitting estimator with 2 features.\n"
     ]
    },
    {
     "data": {
      "text/plain": [
       "fit_time       1.177414\n",
       "score_time     0.009818\n",
       "test_score     0.906678\n",
       "train_score    0.910103\n",
       "dtype: float64"
      ]
     },
     "execution_count": 36,
     "metadata": {},
     "output_type": "execute_result"
    }
   ],
   "source": [
    "main_pipe = make_pipeline(\n",
    "    preprocessor,\n",
    "    RFECV(LogisticRegression(max_iter=1000), cv=2, step=10, verbose=1)\n",
    ")\n",
    "\n",
    "scores = cross_validate(main_pipe, X_train, y_train, return_train_score=True, cv=2)\n",
    "\n",
    "pd.DataFrame(scores).mean()"
   ]
  },
  {
   "cell_type": "markdown",
   "metadata": {},
   "source": [
    "Now we have ~91% for our validation score! "
   ]
  },
  {
   "cell_type": "code",
   "execution_count": 37,
   "metadata": {},
   "outputs": [
    {
     "name": "stdout",
     "output_type": "stream",
     "text": [
      "Fitting estimator with 281 features.\n"
     ]
    },
    {
     "name": "stdout",
     "output_type": "stream",
     "text": [
      "Fitting estimator with 271 features.\n",
      "Fitting estimator with 261 features.\n",
      "Fitting estimator with 251 features.\n",
      "Fitting estimator with 241 features.\n",
      "Fitting estimator with 231 features.\n",
      "Fitting estimator with 221 features.\n",
      "Fitting estimator with 211 features.\n",
      "Fitting estimator with 201 features.\n",
      "Fitting estimator with 191 features.\n",
      "Fitting estimator with 181 features.\n",
      "Fitting estimator with 171 features.\n",
      "Fitting estimator with 161 features.\n",
      "Fitting estimator with 151 features.\n",
      "Fitting estimator with 141 features.\n",
      "Fitting estimator with 131 features.\n",
      "Fitting estimator with 121 features.\n",
      "Fitting estimator with 111 features.\n",
      "Fitting estimator with 101 features.\n",
      "Fitting estimator with 91 features.\n",
      "Fitting estimator with 81 features.\n",
      "Fitting estimator with 71 features.\n",
      "Fitting estimator with 61 features.\n",
      "Fitting estimator with 51 features.\n",
      "Fitting estimator with 41 features.\n",
      "Fitting estimator with 31 features.\n",
      "Fitting estimator with 21 features.\n",
      "Fitting estimator with 11 features.\n",
      "Fitting estimator with 281 features.\n",
      "Fitting estimator with 271 features.\n",
      "Fitting estimator with 261 features.\n",
      "Fitting estimator with 251 features.\n",
      "Fitting estimator with 241 features.\n",
      "Fitting estimator with 231 features.\n",
      "Fitting estimator with 221 features.\n",
      "Fitting estimator with 211 features.\n",
      "Fitting estimator with 201 features.\n",
      "Fitting estimator with 191 features.\n",
      "Fitting estimator with 181 features.\n",
      "Fitting estimator with 171 features.\n",
      "Fitting estimator with 161 features.\n",
      "Fitting estimator with 151 features.\n",
      "Fitting estimator with 141 features.\n",
      "Fitting estimator with 131 features.\n",
      "Fitting estimator with 121 features.\n",
      "Fitting estimator with 111 features.\n",
      "Fitting estimator with 101 features.\n",
      "Fitting estimator with 91 features.\n",
      "Fitting estimator with 81 features.\n",
      "Fitting estimator with 71 features.\n",
      "Fitting estimator with 61 features.\n",
      "Fitting estimator with 51 features.\n",
      "Fitting estimator with 41 features.\n",
      "Fitting estimator with 31 features.\n",
      "Fitting estimator with 21 features.\n",
      "Fitting estimator with 11 features.\n",
      "Fitting estimator with 281 features.\n",
      "Fitting estimator with 271 features.\n",
      "Fitting estimator with 261 features.\n",
      "Fitting estimator with 251 features.\n",
      "Fitting estimator with 241 features.\n",
      "Fitting estimator with 231 features.\n",
      "Fitting estimator with 221 features.\n",
      "Fitting estimator with 211 features.\n",
      "Fitting estimator with 201 features.\n",
      "Fitting estimator with 191 features.\n",
      "Fitting estimator with 181 features.\n",
      "Fitting estimator with 171 features.\n",
      "Fitting estimator with 161 features.\n",
      "Fitting estimator with 151 features.\n",
      "Fitting estimator with 141 features.\n",
      "Fitting estimator with 131 features.\n",
      "Fitting estimator with 121 features.\n",
      "Fitting estimator with 111 features.\n",
      "Fitting estimator with 101 features.\n",
      "Fitting estimator with 91 features.\n",
      "Fitting estimator with 81 features.\n",
      "Fitting estimator with 71 features.\n",
      "Fitting estimator with 61 features.\n",
      "Fitting estimator with 51 features.\n",
      "Fitting estimator with 41 features.\n",
      "Fitting estimator with 31 features.\n",
      "Fitting estimator with 21 features.\n",
      "Fitting estimator with 11 features.\n"
     ]
    },
    {
     "data": {
      "text/plain": [
       "0.8904109589041096"
      ]
     },
     "execution_count": 37,
     "metadata": {},
     "output_type": "execute_result"
    }
   ],
   "source": [
    "main_pipe.fit(X_train, y_train)\n",
    "main_pipe.score(X_test, y_test)"
   ]
  },
  {
   "cell_type": "code",
   "execution_count": 38,
   "metadata": {},
   "outputs": [
    {
     "data": {
      "text/plain": [
       "1"
      ]
     },
     "execution_count": 38,
     "metadata": {},
     "output_type": "execute_result"
    }
   ],
   "source": [
    "main_pipe.named_steps[\"rfecv\"].n_features_"
   ]
  },
  {
   "cell_type": "code",
   "execution_count": 39,
   "metadata": {},
   "outputs": [
    {
     "data": {
      "text/plain": [
       "array(['SaleType_New'], dtype='<U20')"
      ]
     },
     "execution_count": 39,
     "metadata": {},
     "output_type": "execute_result"
    }
   ],
   "source": [
    "feature_names = all_feat_names\n",
    "support = main_pipe.named_steps[\"rfecv\"].support_\n",
    "RFE_selected_feats = np.array(feature_names)[support]\n",
    "RFE_selected_feats"
   ]
  },
  {
   "cell_type": "markdown",
   "metadata": {},
   "source": [
    "RFECV selects the features by references their `feature_importances`/`coefs_` as well as the validation score after each feature is removed and seeing if it is increasing. \n",
    "\n",
    "When a feature is removed and the validation score is no longer increasing, then it stops removing features. "
   ]
  },
  {
   "cell_type": "markdown",
   "metadata": {},
   "source": [
    "## Sequantial Feature Selection \n",
    "\n",
    "Sequential Feature Selection is similar to the approach where we try all possible combinations\n",
    "of features.\n",
    "SFS differs from RFE in that it does not require the underlying model to expose a coef_ or feature_importances_ attribute.\n",
    "It may however be slower considering that more models need to be evaluated,\n",
    "compared to the other approaches.\n",
    "\n",
    "SFS can be either forwards (starting with 0 features and adding one at a time)\n",
    "or backwards (starting with all features and removing one at a time).\n",
    "With RFE we removed the least important feature like in backwards selection,\n",
    "whereas with forward selection we add features until our cross-validation score starts to decreases. "
   ]
  },
  {
   "cell_type": "code",
   "execution_count": 40,
   "metadata": {},
   "outputs": [],
   "source": [
    "from sklearn.feature_selection import SequentialFeatureSelector"
   ]
  },
  {
   "cell_type": "markdown",
   "metadata": {},
   "source": [
    "We can import it as follows: "
   ]
  },
  {
   "cell_type": "code",
   "execution_count": 41,
   "metadata": {},
   "outputs": [],
   "source": [
    "pipe_forward = make_pipeline(\n",
    "    preprocessor,\n",
    "    SequentialFeatureSelector(\n",
    "        LogisticRegression(max_iter=1000),\n",
    "        direction='forward',\n",
    "        n_features_to_select=5,\n",
    "        n_jobs=-1\n",
    "    ),\n",
    "    LogisticRegression(max_iter=1000)\n",
    ")"
   ]
  },
  {
   "cell_type": "markdown",
   "metadata": {},
   "source": [
    "Running this next cell is going to take a LONG LONG LONG time. "
   ]
  },
  {
   "cell_type": "code",
   "execution_count": 42,
   "metadata": {},
   "outputs": [
    {
     "data": {
      "text/plain": [
       "fit_time       27.396991\n",
       "score_time      0.008717\n",
       "test_score      0.907546\n",
       "train_score     0.907535\n",
       "dtype: float64"
      ]
     },
     "execution_count": 42,
     "metadata": {},
     "output_type": "execute_result"
    }
   ],
   "source": [
    "scores = cross_validate(\n",
    "    pipe_forward, X_train, y_train, \n",
    "    return_train_score=True\n",
    ")\n",
    "pd.DataFrame(scores).mean()"
   ]
  },
  {
   "cell_type": "markdown",
   "metadata": {},
   "source": [
    "## Let's Practice \n",
    "\n",
    "1\\. As we increase features, which score will always increase?    \n",
    "2\\. Between `RFE` and `RFECV` which one finds the optimal number of features for us?    \n",
    "3\\. Which method starts with all our features and iteratively removes them from our model?    \n",
    "4\\. Which method starts with no features and iteratively adds features?    \n",
    "5\\. Which method does not take into consideration `feature_importances_`/`coefs_` when adding/removing features?     "
   ]
  },
  {
   "cell_type": "markdown",
   "metadata": {},
   "source": [
    "```{admonition} Solutions!\n",
    ":class: dropdown\n",
    "\n",
    "1. Training score\n",
    "2. `RFECV`\n",
    "3. Recursive Feature Elimination\n",
    "4. Forward Selection\n",
    "5. Forward Selection\n",
    "```"
   ]
  },
  {
   "cell_type": "markdown",
   "metadata": {},
   "source": [
    "## What We've Learned Today\n",
    "\n",
    "- How to construct a statistical question from a business objective. \n",
    "- What steps are important in building your analysis.\n",
    "- How to discover important features in your model. \n",
    "- the 2 different methods (RFE, Forward selection) to conduct feature selection on your model. "
   ]
  }
 ],
 "metadata": {
  "kernelspec": {
   "display_name": "571",
   "language": "python",
   "name": "python3"
  },
  "language_info": {
   "codemirror_mode": {
    "name": "ipython",
    "version": 3
   },
   "file_extension": ".py",
   "mimetype": "text/x-python",
   "name": "python",
   "nbconvert_exporter": "python",
   "pygments_lexer": "ipython3",
   "version": "3.10.0"
  },
  "toc": {
   "base_numbering": 1,
   "nav_menu": {},
   "number_sections": true,
   "sideBar": true,
   "skip_h1_title": false,
   "title_cell": "Table of Contents",
   "title_sidebar": "Contents",
   "toc_cell": false,
   "toc_position": {
    "height": "calc(100% - 180px)",
    "left": "10px",
    "top": "150px",
    "width": "274.188px"
   },
   "toc_section_display": true,
   "toc_window_display": true
  }
 },
 "nbformat": 4,
 "nbformat_minor": 4
}
