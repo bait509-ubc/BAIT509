{
 "cells": [
  {
   "cell_type": "markdown",
   "metadata": {},
   "source": [
    "# BAIT 509: Business Applications of Machine Learning\n",
    "## Lecture 9 - Ensembles, Probabilistic Forecasting, Metrics\n",
    "Tomas Beuzen, 3rd February 2020"
   ]
  },
  {
   "cell_type": "markdown",
   "metadata": {},
   "source": [
    "# Lecture outline\n",
    "- [0. Recap (5 mins)](#0)\n",
    "- [1. Lecture learning objectives](#1)\n",
    "- [2. Random forests (30 mins)](#2)\n",
    "- [3. Other ensemble methods (15 mins)](#3)\n",
    "- [--- Break --- (10 mins)](#break)\n",
    "- [4. Beyond \"error rate\" and \"r2\" metrics (20 mins)](#4)\n",
    "- [5. Remaing time is to work on your final project!](#5)"
   ]
  },
  {
   "cell_type": "markdown",
   "metadata": {},
   "source": [
    "# Announcements\n",
    "- Assignment 2 grades released tomorrow\n",
    "- Assigntment 3 **due next Friday 7th Feb, 11:59pm**"
   ]
  },
  {
   "cell_type": "markdown",
   "metadata": {},
   "source": [
    "# 0. Recap  (5 mins) <a id=0></a>\n",
    "\n",
    "- Maximal-margin classifier\n",
    "- Support vector classifier\n",
    "- Support vector machines\n",
    "- Multi-class classification"
   ]
  },
  {
   "cell_type": "markdown",
   "metadata": {},
   "source": [
    "- If our data are linearly separable, it makes sense to choose a line that maximises the space (the \"margin\") between the observations\n",
    "- This line is called the **Maximal Margin Hyperplane**"
   ]
  },
  {
   "cell_type": "markdown",
   "metadata": {},
   "source": [
    "<img src='./img/svm_2.png' width=\"1000\"> "
   ]
  },
  {
   "cell_type": "markdown",
   "metadata": {},
   "source": [
    "- Unfortunately, our data is rarely linearly separable\n",
    "- We still want to find the best line, but to find the best line we might have to poorly predict some of our data\n",
    "- We penalise our classifier for predicting data poorly\n",
    "- We can impose a threshold on this penalty to control the width of our margin\n",
    "- The idea is to find the orientation of our line and the width of our margin to find the optimal set-up\n",
    "    - A narrow margin tends towards overfitting\n",
    "    - A wider margin tends towards underfitting\n",
    "- We typically use cross-validation to find the optimum line & margin\n",
    "- We call this model a **Support Vector Classifier**"
   ]
  },
  {
   "cell_type": "markdown",
   "metadata": {},
   "source": [
    "<img src='./img/svm_4.png' width=\"450\">"
   ]
  },
  {
   "cell_type": "markdown",
   "metadata": {},
   "source": [
    "- But even these more generalised, penalty-based system, would struggle with data such as that shown below\n",
    "- So we introduce the notion of a kernel to look at the relationships between our data in \"higher dimensional space\"\n",
    "- A SVC coupled with a kernel trick is referred to as a **Support Vector Machine**"
   ]
  },
  {
   "cell_type": "markdown",
   "metadata": {},
   "source": [
    "<img src='./img/svm_6.png' width=\"450\"> "
   ]
  },
  {
   "cell_type": "markdown",
   "metadata": {},
   "source": [
    "<img src='./img/svm_8.png' width=\"450\"> "
   ]
  },
  {
   "cell_type": "markdown",
   "metadata": {},
   "source": [
    "- Separating this data with a SVM implemented in sklearn:"
   ]
  },
  {
   "cell_type": "markdown",
   "metadata": {},
   "source": [
    "<img src='./img/svm_9.png' width=\"450\"> "
   ]
  },
  {
   "cell_type": "markdown",
   "metadata": {},
   "source": [
    "<img src='./img/svm_10.png' width=\"450\"> "
   ]
  },
  {
   "cell_type": "markdown",
   "metadata": {},
   "source": [
    "# 1. Lecture learning objectives <a id=1></a>\n",
    "\n",
    "- Understand how the Random Forest algorithm works\n",
    "- Discuss concepts of bagging and boosting\n",
    "- Describe metrics other than error and r2 for measuring ML performance"
   ]
  },
  {
   "cell_type": "markdown",
   "metadata": {},
   "source": [
    "# 2. Random Forests (30 mins)<a id=2></a>"
   ]
  },
  {
   "cell_type": "markdown",
   "metadata": {},
   "source": [
    "## 2.1 Motivation"
   ]
  },
  {
   "cell_type": "markdown",
   "metadata": {},
   "source": [
    "- Recall that we could fit a Decision Tree with a large/unlimited `max_depth` to any dataset and get very low bias\n",
    "- We say that such a model is overfit to the training data, it doesn't generalise well to new datasets, and therefore has high variance\n",
    "- There is usually a trade-off between bias and variance. We learned that we could decrease the variance in this model by reducing its complexity, i.e., limiting the `max_depth`, but this in turn increases the bias.\n",
    "- It's natural to wonder if there is another way we can reduce variance whilst retaining low bias."
   ]
  },
  {
   "cell_type": "markdown",
   "metadata": {},
   "source": [
    "<img src='./img/tradeoff.png' width=\"500\">\n",
    "\n",
    "[Source: dziganto.github.io](https://dziganto.github.io/cross-validation/data%20science/machine%20learning/model%20tuning/python/Model-Tuning-with-Validation-and-Cross-Validation/) "
   ]
  },
  {
   "cell_type": "markdown",
   "metadata": {},
   "source": [
    "- One way to reduce variance is to use multiple different models to make a prediction\n",
    "- An analogy is using a jury to make a decision rather than a single judge\n",
    "- Consider the hypothetical situation of collecting *B* data sets (of equal size), and fitting a decision tree to each one\n",
    "- These *B* models are called an ensemble\n",
    "- When we want to predict a new observation we can take the average prediction of our *B* trees in the case of regression, or the mode prediction of the *B* trees in the case of classification\n",
    "- This \"averaging\" process can reduce variance"
   ]
  },
  {
   "cell_type": "markdown",
   "metadata": {},
   "source": [
    "## 2.2 Bagging (bootstrap aggregation)"
   ]
  },
  {
   "cell_type": "markdown",
   "metadata": {},
   "source": [
    "- Unfortunately, collecting multiple different data sets in the real world is not practical, we usually only have one dataset to work with\n",
    "- But we can emulate the collection of *B* datasets using **bootstrapping**\n",
    "- A bootstrap sample is one where we randomly draw (with replacement) *n* observations from our original dataset\n",
    "- We can generate as many bootstrap samples as we like!\n",
    "- The resulting datasets are related in some sense, so are not as good as having *B* independent data sets. But it still gives us something useful!\n",
    "- We can fit a tree on each data set, and combining the results is called \"aggregation\"\n",
    "- So bootstrap + aggregation = bagging!"
   ]
  },
  {
   "cell_type": "markdown",
   "metadata": {},
   "source": [
    "<img src='./img/bootstrap.png' width=\"700\"> "
   ]
  },
  {
   "cell_type": "markdown",
   "metadata": {},
   "source": [
    "### Size of B"
   ]
  },
  {
   "cell_type": "markdown",
   "metadata": {},
   "source": [
    "- A natural question to ask is how many bootstrap samples should you draw? (i.e., how many trees should I build in my ensemble?)\n",
    "- We can’t really overfit by increasing *B*, because this just results in new data sets being generated – not fitting more and more models to a single data set\n",
    "- You'll find that as B increases the error rate will drop (because we are reducing variance by using more models) until it reaches a stable point where it no longer drops\n",
    "- Once this point is reached, increasing *B* does not do us much good\n",
    "- You can optimise *B* using cross-validatio, but a common approach is to just use a large number (the default in sklearn for Random Forests is 100)"
   ]
  },
  {
   "cell_type": "markdown",
   "metadata": {},
   "source": [
    "### What max_depth to use for each individual tree?"
   ]
  },
  {
   "cell_type": "markdown",
   "metadata": {},
   "source": [
    "- The whole idea of bagging is to reduce variance\n",
    "- We therefore tend to want to use indiviudal models that have low bias and high variance to aggregate together\n",
    "- So we usually deliberately overfit each tree in the ensemble (i.e., no max_depth), to get trees with low bias and high variance – the variance of which will be reduced in the ensemble\n",
    "- We are talking about trees here but you can of course use bagging on other models and the same ideas as discussed above apply.\n",
    "- It's just that tree-based algorithms allow us to make a little trick to further improve our ensemble - this trick results in what we call a Random Forest!"
   ]
  },
  {
   "cell_type": "markdown",
   "metadata": {},
   "source": [
    "## 2.3 Random Forests"
   ]
  },
  {
   "cell_type": "markdown",
   "metadata": {},
   "source": [
    "- One problem with **Bagging** is that the trees in the ensemble tend to be correlated – that is, they share similarities\n",
    "- We don't really want to use similar models to make our predictions - we want to use models that differ slightly, so that by averaging them, we can try and reduce variance\n",
    "- **Random forests** attempt to fix this problem by introducing additional randomness into each individual tree\n",
    "- Recall that, when making a split in a decision tree, we choose one feature out of the total *d* features to split on\n",
    "- The idea behind **Random forests** is to consider only a random subset of the *d* features at each split\n",
    "- The result is an ensemble of indiviudal trees that are less correlated and the combination of their predictions results in an overall better result\n",
    "- We'll use a Random Forest shortly, but first, a few additional advantages of the method..."
   ]
  },
  {
   "cell_type": "markdown",
   "metadata": {},
   "source": [
    "### Probabilistic Predictions\n",
    "- When using tree-based methods, we are dealing with frequencies of class labels (at least in classification problems)\n",
    "- Every leaf will have a distribution of the number of classes that falls into that leaf\n",
    "- The example below is from last lecture, a tree modelling a dataset with 3 classes (\"blue\", \"orange\", \"red\")\n",
    "- The very first node has a probability distribution of:\n",
    "    - 40% chance of blue\n",
    "    - 30% chance of orange\n",
    "    - 30% chance of red\n",
    "- Each of the leaf nodes, in this case, have 100% probability of predicting a particular class (because there is only one class evident in each leaf)\n",
    "- In a RF the probability distribution is the average predicted probability for some given test data across all trees in the forest"
   ]
  },
  {
   "cell_type": "markdown",
   "metadata": {},
   "source": [
    "<img src='./img/multi_class_dt_graph.png' width=\"450\">"
   ]
  },
  {
   "cell_type": "markdown",
   "metadata": {},
   "source": [
    "### Feature Importance\n",
    "- Another advantage of using RFs is that they provide a measure of feature importance (which is useful for interpretability and feature selection)\n",
    "- Every split in an indiviudal tree reduces the training error (if it didn't then the split wouldn't be made)\n",
    "- We can measure how much each predictor reduces training error within each tree, and then average that across all trees in the forest to determine which features are most useful for modelling our data (read more [here](https://stackoverflow.com/questions/15810339/how-are-feature-importances-in-randomforestclassifier-determined))"
   ]
  },
  {
   "cell_type": "markdown",
   "metadata": {},
   "source": [
    "## 2.4 Quick exercise on concepts\n",
    "1. Bagging is a special case of random forests under which case?\n",
    "2. What are the main hyperparameters we can control for random forests (we haven't seen them yet, but conceptually, what do you think we can control)?\n",
    "3. Suppose you have the following paired data of (X,y): (1,2), (1,5), (2,0). Which of the following are valid bootstrapped data sets? Why/why not?\n",
    "    - (1,0), (1,2), (1,5)\n",
    "    - (1,2), (2,0)\n",
    "    - (1,2), (1,2), (1,5)\n",
    "4. You make a random forest consisting of four trees. You obtain a new observation, and would like to predict the response. What would your prediction be in the following cases?\n",
    "    - Regression: your trees make the following four predictions: 1,1,3,3.\n",
    "    - Classification: your trees make the following four predictions: “A”, “A”, “B”, “C”."
   ]
  },
  {
   "cell_type": "markdown",
   "metadata": {},
   "source": [
    "## 2.5 A practical example: Predicting rain in Australia"
   ]
  },
  {
   "cell_type": "markdown",
   "metadata": {},
   "source": [
    "- In this example I'll be using meteorological measurements to predict whether or not it will rain tomorrow\n",
    "- This datset has not been provided on Canvas, you can download it from Kaggle [here](https://www.kaggle.com/jsphyg/weather-dataset-rattle-package)"
   ]
  },
  {
   "cell_type": "code",
   "execution_count": 1,
   "metadata": {},
   "outputs": [],
   "source": [
    "import numpy as np\n",
    "import pandas as pd\n",
    "from sklearn.model_selection import train_test_split, cross_validate\n",
    "from sklearn.ensemble import RandomForestClassifier"
   ]
  },
  {
   "cell_type": "code",
   "execution_count": 2,
   "metadata": {},
   "outputs": [
    {
     "data": {
      "text/html": [
       "<div>\n",
       "<style scoped>\n",
       "    .dataframe tbody tr th:only-of-type {\n",
       "        vertical-align: middle;\n",
       "    }\n",
       "\n",
       "    .dataframe tbody tr th {\n",
       "        vertical-align: top;\n",
       "    }\n",
       "\n",
       "    .dataframe thead th {\n",
       "        text-align: right;\n",
       "    }\n",
       "</style>\n",
       "<table border=\"1\" class=\"dataframe\">\n",
       "  <thead>\n",
       "    <tr style=\"text-align: right;\">\n",
       "      <th></th>\n",
       "      <th>Date</th>\n",
       "      <th>Location</th>\n",
       "      <th>MinTemp</th>\n",
       "      <th>MaxTemp</th>\n",
       "      <th>Rainfall</th>\n",
       "      <th>Evaporation</th>\n",
       "      <th>Sunshine</th>\n",
       "      <th>Humidity9am</th>\n",
       "      <th>Humidity3pm</th>\n",
       "      <th>Pressure9am</th>\n",
       "      <th>Pressure3pm</th>\n",
       "      <th>Cloud9am</th>\n",
       "      <th>Cloud3pm</th>\n",
       "      <th>Temp9am</th>\n",
       "      <th>Temp3pm</th>\n",
       "      <th>RainToday</th>\n",
       "      <th>RainTomorrow</th>\n",
       "    </tr>\n",
       "  </thead>\n",
       "  <tbody>\n",
       "    <tr>\n",
       "      <th>0</th>\n",
       "      <td>2008-12-01</td>\n",
       "      <td>Albury</td>\n",
       "      <td>13.4</td>\n",
       "      <td>22.9</td>\n",
       "      <td>0.6</td>\n",
       "      <td>NaN</td>\n",
       "      <td>NaN</td>\n",
       "      <td>71.0</td>\n",
       "      <td>22.0</td>\n",
       "      <td>1007.7</td>\n",
       "      <td>1007.1</td>\n",
       "      <td>8.0</td>\n",
       "      <td>NaN</td>\n",
       "      <td>16.9</td>\n",
       "      <td>21.8</td>\n",
       "      <td>No</td>\n",
       "      <td>No</td>\n",
       "    </tr>\n",
       "    <tr>\n",
       "      <th>1</th>\n",
       "      <td>2008-12-02</td>\n",
       "      <td>Albury</td>\n",
       "      <td>7.4</td>\n",
       "      <td>25.1</td>\n",
       "      <td>0.0</td>\n",
       "      <td>NaN</td>\n",
       "      <td>NaN</td>\n",
       "      <td>44.0</td>\n",
       "      <td>25.0</td>\n",
       "      <td>1010.6</td>\n",
       "      <td>1007.8</td>\n",
       "      <td>NaN</td>\n",
       "      <td>NaN</td>\n",
       "      <td>17.2</td>\n",
       "      <td>24.3</td>\n",
       "      <td>No</td>\n",
       "      <td>No</td>\n",
       "    </tr>\n",
       "    <tr>\n",
       "      <th>2</th>\n",
       "      <td>2008-12-03</td>\n",
       "      <td>Albury</td>\n",
       "      <td>12.9</td>\n",
       "      <td>25.7</td>\n",
       "      <td>0.0</td>\n",
       "      <td>NaN</td>\n",
       "      <td>NaN</td>\n",
       "      <td>38.0</td>\n",
       "      <td>30.0</td>\n",
       "      <td>1007.6</td>\n",
       "      <td>1008.7</td>\n",
       "      <td>NaN</td>\n",
       "      <td>2.0</td>\n",
       "      <td>21.0</td>\n",
       "      <td>23.2</td>\n",
       "      <td>No</td>\n",
       "      <td>No</td>\n",
       "    </tr>\n",
       "    <tr>\n",
       "      <th>3</th>\n",
       "      <td>2008-12-04</td>\n",
       "      <td>Albury</td>\n",
       "      <td>9.2</td>\n",
       "      <td>28.0</td>\n",
       "      <td>0.0</td>\n",
       "      <td>NaN</td>\n",
       "      <td>NaN</td>\n",
       "      <td>45.0</td>\n",
       "      <td>16.0</td>\n",
       "      <td>1017.6</td>\n",
       "      <td>1012.8</td>\n",
       "      <td>NaN</td>\n",
       "      <td>NaN</td>\n",
       "      <td>18.1</td>\n",
       "      <td>26.5</td>\n",
       "      <td>No</td>\n",
       "      <td>No</td>\n",
       "    </tr>\n",
       "    <tr>\n",
       "      <th>4</th>\n",
       "      <td>2008-12-05</td>\n",
       "      <td>Albury</td>\n",
       "      <td>17.5</td>\n",
       "      <td>32.3</td>\n",
       "      <td>1.0</td>\n",
       "      <td>NaN</td>\n",
       "      <td>NaN</td>\n",
       "      <td>82.0</td>\n",
       "      <td>33.0</td>\n",
       "      <td>1010.8</td>\n",
       "      <td>1006.0</td>\n",
       "      <td>7.0</td>\n",
       "      <td>8.0</td>\n",
       "      <td>17.8</td>\n",
       "      <td>29.7</td>\n",
       "      <td>No</td>\n",
       "      <td>No</td>\n",
       "    </tr>\n",
       "  </tbody>\n",
       "</table>\n",
       "</div>"
      ],
      "text/plain": [
       "         Date Location  MinTemp  MaxTemp  Rainfall  Evaporation  Sunshine  \\\n",
       "0  2008-12-01   Albury     13.4     22.9       0.6          NaN       NaN   \n",
       "1  2008-12-02   Albury      7.4     25.1       0.0          NaN       NaN   \n",
       "2  2008-12-03   Albury     12.9     25.7       0.0          NaN       NaN   \n",
       "3  2008-12-04   Albury      9.2     28.0       0.0          NaN       NaN   \n",
       "4  2008-12-05   Albury     17.5     32.3       1.0          NaN       NaN   \n",
       "\n",
       "   Humidity9am  Humidity3pm  Pressure9am  Pressure3pm  Cloud9am  Cloud3pm  \\\n",
       "0         71.0         22.0       1007.7       1007.1       8.0       NaN   \n",
       "1         44.0         25.0       1010.6       1007.8       NaN       NaN   \n",
       "2         38.0         30.0       1007.6       1008.7       NaN       2.0   \n",
       "3         45.0         16.0       1017.6       1012.8       NaN       NaN   \n",
       "4         82.0         33.0       1010.8       1006.0       7.0       8.0   \n",
       "\n",
       "   Temp9am  Temp3pm RainToday RainTomorrow  \n",
       "0     16.9     21.8        No           No  \n",
       "1     17.2     24.3        No           No  \n",
       "2     21.0     23.2        No           No  \n",
       "3     18.1     26.5        No           No  \n",
       "4     17.8     29.7        No           No  "
      ]
     },
     "execution_count": 2,
     "metadata": {},
     "output_type": "execute_result"
    }
   ],
   "source": [
    "df = pd.read_csv('data/weatherAUS.csv')\n",
    "df.head()"
   ]
  },
  {
   "cell_type": "markdown",
   "metadata": {},
   "source": [
    "- We can see that there are quite a few missing values here\n",
    "- Most sklearn algorithms won't work with missing values so we either need to remove them or fill them\n",
    "- We can use `df.info()` to see exactly how many missing values there are"
   ]
  },
  {
   "cell_type": "code",
   "execution_count": 3,
   "metadata": {},
   "outputs": [
    {
     "name": "stdout",
     "output_type": "stream",
     "text": [
      "<class 'pandas.core.frame.DataFrame'>\n",
      "RangeIndex: 142193 entries, 0 to 142192\n",
      "Data columns (total 17 columns):\n",
      "Date            142193 non-null object\n",
      "Location        142193 non-null object\n",
      "MinTemp         141556 non-null float64\n",
      "MaxTemp         141871 non-null float64\n",
      "Rainfall        140787 non-null float64\n",
      "Evaporation     81350 non-null float64\n",
      "Sunshine        74377 non-null float64\n",
      "Humidity9am     140419 non-null float64\n",
      "Humidity3pm     138583 non-null float64\n",
      "Pressure9am     128179 non-null float64\n",
      "Pressure3pm     128212 non-null float64\n",
      "Cloud9am        88536 non-null float64\n",
      "Cloud3pm        85099 non-null float64\n",
      "Temp9am         141289 non-null float64\n",
      "Temp3pm         139467 non-null float64\n",
      "RainToday       140787 non-null object\n",
      "RainTomorrow    142193 non-null object\n",
      "dtypes: float64(13), object(4)\n",
      "memory usage: 18.4+ MB\n"
     ]
    }
   ],
   "source": [
    "df.info()"
   ]
  },
  {
   "cell_type": "markdown",
   "metadata": {},
   "source": [
    "- I'm going to drop all the missing rows for this simple example\n",
    "- This leaves us with 56,420 observations"
   ]
  },
  {
   "cell_type": "code",
   "execution_count": 4,
   "metadata": {},
   "outputs": [
    {
     "data": {
      "text/html": [
       "<div>\n",
       "<style scoped>\n",
       "    .dataframe tbody tr th:only-of-type {\n",
       "        vertical-align: middle;\n",
       "    }\n",
       "\n",
       "    .dataframe tbody tr th {\n",
       "        vertical-align: top;\n",
       "    }\n",
       "\n",
       "    .dataframe thead th {\n",
       "        text-align: right;\n",
       "    }\n",
       "</style>\n",
       "<table border=\"1\" class=\"dataframe\">\n",
       "  <thead>\n",
       "    <tr style=\"text-align: right;\">\n",
       "      <th></th>\n",
       "      <th>Date</th>\n",
       "      <th>Location</th>\n",
       "      <th>MinTemp</th>\n",
       "      <th>MaxTemp</th>\n",
       "      <th>Rainfall</th>\n",
       "      <th>Evaporation</th>\n",
       "      <th>Sunshine</th>\n",
       "      <th>Humidity9am</th>\n",
       "      <th>Humidity3pm</th>\n",
       "      <th>Pressure9am</th>\n",
       "      <th>Pressure3pm</th>\n",
       "      <th>Cloud9am</th>\n",
       "      <th>Cloud3pm</th>\n",
       "      <th>Temp9am</th>\n",
       "      <th>Temp3pm</th>\n",
       "      <th>RainToday</th>\n",
       "      <th>RainTomorrow</th>\n",
       "    </tr>\n",
       "  </thead>\n",
       "  <tbody>\n",
       "    <tr>\n",
       "      <th>5939</th>\n",
       "      <td>2009-01-01</td>\n",
       "      <td>Cobar</td>\n",
       "      <td>17.9</td>\n",
       "      <td>35.2</td>\n",
       "      <td>0.0</td>\n",
       "      <td>12.0</td>\n",
       "      <td>12.3</td>\n",
       "      <td>20.0</td>\n",
       "      <td>13.0</td>\n",
       "      <td>1006.3</td>\n",
       "      <td>1004.4</td>\n",
       "      <td>2.0</td>\n",
       "      <td>5.0</td>\n",
       "      <td>26.6</td>\n",
       "      <td>33.4</td>\n",
       "      <td>No</td>\n",
       "      <td>No</td>\n",
       "    </tr>\n",
       "    <tr>\n",
       "      <th>5940</th>\n",
       "      <td>2009-01-02</td>\n",
       "      <td>Cobar</td>\n",
       "      <td>18.4</td>\n",
       "      <td>28.9</td>\n",
       "      <td>0.0</td>\n",
       "      <td>14.8</td>\n",
       "      <td>13.0</td>\n",
       "      <td>30.0</td>\n",
       "      <td>8.0</td>\n",
       "      <td>1012.9</td>\n",
       "      <td>1012.1</td>\n",
       "      <td>1.0</td>\n",
       "      <td>1.0</td>\n",
       "      <td>20.3</td>\n",
       "      <td>27.0</td>\n",
       "      <td>No</td>\n",
       "      <td>No</td>\n",
       "    </tr>\n",
       "    <tr>\n",
       "      <th>5942</th>\n",
       "      <td>2009-01-04</td>\n",
       "      <td>Cobar</td>\n",
       "      <td>19.4</td>\n",
       "      <td>37.6</td>\n",
       "      <td>0.0</td>\n",
       "      <td>10.8</td>\n",
       "      <td>10.6</td>\n",
       "      <td>42.0</td>\n",
       "      <td>22.0</td>\n",
       "      <td>1012.3</td>\n",
       "      <td>1009.2</td>\n",
       "      <td>1.0</td>\n",
       "      <td>6.0</td>\n",
       "      <td>28.7</td>\n",
       "      <td>34.9</td>\n",
       "      <td>No</td>\n",
       "      <td>No</td>\n",
       "    </tr>\n",
       "    <tr>\n",
       "      <th>5943</th>\n",
       "      <td>2009-01-05</td>\n",
       "      <td>Cobar</td>\n",
       "      <td>21.9</td>\n",
       "      <td>38.4</td>\n",
       "      <td>0.0</td>\n",
       "      <td>11.4</td>\n",
       "      <td>12.2</td>\n",
       "      <td>37.0</td>\n",
       "      <td>22.0</td>\n",
       "      <td>1012.7</td>\n",
       "      <td>1009.1</td>\n",
       "      <td>1.0</td>\n",
       "      <td>5.0</td>\n",
       "      <td>29.1</td>\n",
       "      <td>35.6</td>\n",
       "      <td>No</td>\n",
       "      <td>No</td>\n",
       "    </tr>\n",
       "    <tr>\n",
       "      <th>5944</th>\n",
       "      <td>2009-01-06</td>\n",
       "      <td>Cobar</td>\n",
       "      <td>24.2</td>\n",
       "      <td>41.0</td>\n",
       "      <td>0.0</td>\n",
       "      <td>11.2</td>\n",
       "      <td>8.4</td>\n",
       "      <td>19.0</td>\n",
       "      <td>15.0</td>\n",
       "      <td>1010.7</td>\n",
       "      <td>1007.4</td>\n",
       "      <td>1.0</td>\n",
       "      <td>6.0</td>\n",
       "      <td>33.6</td>\n",
       "      <td>37.6</td>\n",
       "      <td>No</td>\n",
       "      <td>No</td>\n",
       "    </tr>\n",
       "  </tbody>\n",
       "</table>\n",
       "</div>"
      ],
      "text/plain": [
       "            Date Location  MinTemp  MaxTemp  Rainfall  Evaporation  Sunshine  \\\n",
       "5939  2009-01-01    Cobar     17.9     35.2       0.0         12.0      12.3   \n",
       "5940  2009-01-02    Cobar     18.4     28.9       0.0         14.8      13.0   \n",
       "5942  2009-01-04    Cobar     19.4     37.6       0.0         10.8      10.6   \n",
       "5943  2009-01-05    Cobar     21.9     38.4       0.0         11.4      12.2   \n",
       "5944  2009-01-06    Cobar     24.2     41.0       0.0         11.2       8.4   \n",
       "\n",
       "      Humidity9am  Humidity3pm  Pressure9am  Pressure3pm  Cloud9am  Cloud3pm  \\\n",
       "5939         20.0         13.0       1006.3       1004.4       2.0       5.0   \n",
       "5940         30.0          8.0       1012.9       1012.1       1.0       1.0   \n",
       "5942         42.0         22.0       1012.3       1009.2       1.0       6.0   \n",
       "5943         37.0         22.0       1012.7       1009.1       1.0       5.0   \n",
       "5944         19.0         15.0       1010.7       1007.4       1.0       6.0   \n",
       "\n",
       "      Temp9am  Temp3pm RainToday RainTomorrow  \n",
       "5939     26.6     33.4        No           No  \n",
       "5940     20.3     27.0        No           No  \n",
       "5942     28.7     34.9        No           No  \n",
       "5943     29.1     35.6        No           No  \n",
       "5944     33.6     37.6        No           No  "
      ]
     },
     "execution_count": 4,
     "metadata": {},
     "output_type": "execute_result"
    }
   ],
   "source": [
    "df = df.dropna()\n",
    "df.head()"
   ]
  },
  {
   "cell_type": "markdown",
   "metadata": {},
   "source": [
    "- I'm going to drop the `Data` and `Location` column\n",
    "- I also need to encode my categorical data\n",
    "- Usually I suggest using sklearn's OneHotEncoder for this, because it's easier to work into pipelines and combine with numeric scaling\n",
    "- But here, we don't need to do numeric scaling (we are using a tree-based method)\n",
    "- So I'm going to use the Panda's in-built one hot encode function, `get_dummies()`"
   ]
  },
  {
   "cell_type": "code",
   "execution_count": 5,
   "metadata": {},
   "outputs": [
    {
     "data": {
      "text/html": [
       "<div>\n",
       "<style scoped>\n",
       "    .dataframe tbody tr th:only-of-type {\n",
       "        vertical-align: middle;\n",
       "    }\n",
       "\n",
       "    .dataframe tbody tr th {\n",
       "        vertical-align: top;\n",
       "    }\n",
       "\n",
       "    .dataframe thead th {\n",
       "        text-align: right;\n",
       "    }\n",
       "</style>\n",
       "<table border=\"1\" class=\"dataframe\">\n",
       "  <thead>\n",
       "    <tr style=\"text-align: right;\">\n",
       "      <th></th>\n",
       "      <th>MinTemp</th>\n",
       "      <th>MaxTemp</th>\n",
       "      <th>Rainfall</th>\n",
       "      <th>Evaporation</th>\n",
       "      <th>Sunshine</th>\n",
       "      <th>Humidity9am</th>\n",
       "      <th>Humidity3pm</th>\n",
       "      <th>Pressure9am</th>\n",
       "      <th>Pressure3pm</th>\n",
       "      <th>Cloud9am</th>\n",
       "      <th>Cloud3pm</th>\n",
       "      <th>Temp9am</th>\n",
       "      <th>Temp3pm</th>\n",
       "      <th>RainToday_Yes</th>\n",
       "    </tr>\n",
       "  </thead>\n",
       "  <tbody>\n",
       "    <tr>\n",
       "      <th>5939</th>\n",
       "      <td>17.9</td>\n",
       "      <td>35.2</td>\n",
       "      <td>0.0</td>\n",
       "      <td>12.0</td>\n",
       "      <td>12.3</td>\n",
       "      <td>20.0</td>\n",
       "      <td>13.0</td>\n",
       "      <td>1006.3</td>\n",
       "      <td>1004.4</td>\n",
       "      <td>2.0</td>\n",
       "      <td>5.0</td>\n",
       "      <td>26.6</td>\n",
       "      <td>33.4</td>\n",
       "      <td>0</td>\n",
       "    </tr>\n",
       "    <tr>\n",
       "      <th>5940</th>\n",
       "      <td>18.4</td>\n",
       "      <td>28.9</td>\n",
       "      <td>0.0</td>\n",
       "      <td>14.8</td>\n",
       "      <td>13.0</td>\n",
       "      <td>30.0</td>\n",
       "      <td>8.0</td>\n",
       "      <td>1012.9</td>\n",
       "      <td>1012.1</td>\n",
       "      <td>1.0</td>\n",
       "      <td>1.0</td>\n",
       "      <td>20.3</td>\n",
       "      <td>27.0</td>\n",
       "      <td>0</td>\n",
       "    </tr>\n",
       "    <tr>\n",
       "      <th>5942</th>\n",
       "      <td>19.4</td>\n",
       "      <td>37.6</td>\n",
       "      <td>0.0</td>\n",
       "      <td>10.8</td>\n",
       "      <td>10.6</td>\n",
       "      <td>42.0</td>\n",
       "      <td>22.0</td>\n",
       "      <td>1012.3</td>\n",
       "      <td>1009.2</td>\n",
       "      <td>1.0</td>\n",
       "      <td>6.0</td>\n",
       "      <td>28.7</td>\n",
       "      <td>34.9</td>\n",
       "      <td>0</td>\n",
       "    </tr>\n",
       "    <tr>\n",
       "      <th>5943</th>\n",
       "      <td>21.9</td>\n",
       "      <td>38.4</td>\n",
       "      <td>0.0</td>\n",
       "      <td>11.4</td>\n",
       "      <td>12.2</td>\n",
       "      <td>37.0</td>\n",
       "      <td>22.0</td>\n",
       "      <td>1012.7</td>\n",
       "      <td>1009.1</td>\n",
       "      <td>1.0</td>\n",
       "      <td>5.0</td>\n",
       "      <td>29.1</td>\n",
       "      <td>35.6</td>\n",
       "      <td>0</td>\n",
       "    </tr>\n",
       "    <tr>\n",
       "      <th>5944</th>\n",
       "      <td>24.2</td>\n",
       "      <td>41.0</td>\n",
       "      <td>0.0</td>\n",
       "      <td>11.2</td>\n",
       "      <td>8.4</td>\n",
       "      <td>19.0</td>\n",
       "      <td>15.0</td>\n",
       "      <td>1010.7</td>\n",
       "      <td>1007.4</td>\n",
       "      <td>1.0</td>\n",
       "      <td>6.0</td>\n",
       "      <td>33.6</td>\n",
       "      <td>37.6</td>\n",
       "      <td>0</td>\n",
       "    </tr>\n",
       "  </tbody>\n",
       "</table>\n",
       "</div>"
      ],
      "text/plain": [
       "      MinTemp  MaxTemp  Rainfall  Evaporation  Sunshine  Humidity9am  \\\n",
       "5939     17.9     35.2       0.0         12.0      12.3         20.0   \n",
       "5940     18.4     28.9       0.0         14.8      13.0         30.0   \n",
       "5942     19.4     37.6       0.0         10.8      10.6         42.0   \n",
       "5943     21.9     38.4       0.0         11.4      12.2         37.0   \n",
       "5944     24.2     41.0       0.0         11.2       8.4         19.0   \n",
       "\n",
       "      Humidity3pm  Pressure9am  Pressure3pm  Cloud9am  Cloud3pm  Temp9am  \\\n",
       "5939         13.0       1006.3       1004.4       2.0       5.0     26.6   \n",
       "5940          8.0       1012.9       1012.1       1.0       1.0     20.3   \n",
       "5942         22.0       1012.3       1009.2       1.0       6.0     28.7   \n",
       "5943         22.0       1012.7       1009.1       1.0       5.0     29.1   \n",
       "5944         15.0       1010.7       1007.4       1.0       6.0     33.6   \n",
       "\n",
       "      Temp3pm  RainToday_Yes  \n",
       "5939     33.4              0  \n",
       "5940     27.0              0  \n",
       "5942     34.9              0  \n",
       "5943     35.6              0  \n",
       "5944     37.6              0  "
      ]
     },
     "execution_count": 5,
     "metadata": {},
     "output_type": "execute_result"
    }
   ],
   "source": [
    "X = df.drop(columns=['Date', 'Location', 'RainTomorrow'])\n",
    "X = pd.get_dummies(X, drop_first=True)\n",
    "y = df['RainTomorrow']\n",
    "X.head()"
   ]
  },
  {
   "cell_type": "markdown",
   "metadata": {},
   "source": [
    "- Okay lets separate that data into `X` and `y` and then into training and testing splits"
   ]
  },
  {
   "cell_type": "code",
   "execution_count": 6,
   "metadata": {},
   "outputs": [],
   "source": [
    "X_train, X_test, y_train, y_test = train_test_split(X,\n",
    "                                                    y,\n",
    "                                                    test_size=0.2,\n",
    "                                                    random_state=123)"
   ]
  },
  {
   "cell_type": "markdown",
   "metadata": {},
   "source": [
    "- Now let's create our model\n",
    "- I'm going to use `n_estimators=100` and `max_depth=None` (note these are the default hyperparameters anyway)\n",
    "- I'm not doing any hyperparameter tuning here, but you will do some in your assignment\n",
    "- Don't forget about the helpful GridSearchCV function!"
   ]
  },
  {
   "cell_type": "code",
   "execution_count": 7,
   "metadata": {},
   "outputs": [],
   "source": [
    "model = RandomForestClassifier(n_estimators=100, max_depth=None)"
   ]
  },
  {
   "cell_type": "code",
   "execution_count": 8,
   "metadata": {},
   "outputs": [
    {
     "data": {
      "text/plain": [
       "RandomForestClassifier(bootstrap=True, ccp_alpha=0.0, class_weight=None,\n",
       "                       criterion='gini', max_depth=None, max_features='auto',\n",
       "                       max_leaf_nodes=None, max_samples=None,\n",
       "                       min_impurity_decrease=0.0, min_impurity_split=None,\n",
       "                       min_samples_leaf=1, min_samples_split=2,\n",
       "                       min_weight_fraction_leaf=0.0, n_estimators=100,\n",
       "                       n_jobs=None, oob_score=False, random_state=None,\n",
       "                       verbose=0, warm_start=False)"
      ]
     },
     "execution_count": 8,
     "metadata": {},
     "output_type": "execute_result"
    }
   ],
   "source": [
    "model.fit(X_train, y_train)"
   ]
  },
  {
   "cell_type": "markdown",
   "metadata": {},
   "source": [
    "- We can take a look at which features are most important in our model using the `.feature_importances_` attribute"
   ]
  },
  {
   "cell_type": "code",
   "execution_count": 9,
   "metadata": {},
   "outputs": [
    {
     "data": {
      "text/html": [
       "<div>\n",
       "<style scoped>\n",
       "    .dataframe tbody tr th:only-of-type {\n",
       "        vertical-align: middle;\n",
       "    }\n",
       "\n",
       "    .dataframe tbody tr th {\n",
       "        vertical-align: top;\n",
       "    }\n",
       "\n",
       "    .dataframe thead th {\n",
       "        text-align: right;\n",
       "    }\n",
       "</style>\n",
       "<table border=\"1\" class=\"dataframe\">\n",
       "  <thead>\n",
       "    <tr style=\"text-align: right;\">\n",
       "      <th></th>\n",
       "      <th>feature</th>\n",
       "      <th>importance</th>\n",
       "    </tr>\n",
       "  </thead>\n",
       "  <tbody>\n",
       "    <tr>\n",
       "      <th>6</th>\n",
       "      <td>Humidity3pm</td>\n",
       "      <td>0.172066</td>\n",
       "    </tr>\n",
       "    <tr>\n",
       "      <th>4</th>\n",
       "      <td>Sunshine</td>\n",
       "      <td>0.124574</td>\n",
       "    </tr>\n",
       "    <tr>\n",
       "      <th>8</th>\n",
       "      <td>Pressure3pm</td>\n",
       "      <td>0.092837</td>\n",
       "    </tr>\n",
       "    <tr>\n",
       "      <th>7</th>\n",
       "      <td>Pressure9am</td>\n",
       "      <td>0.080156</td>\n",
       "    </tr>\n",
       "    <tr>\n",
       "      <th>5</th>\n",
       "      <td>Humidity9am</td>\n",
       "      <td>0.063546</td>\n",
       "    </tr>\n",
       "    <tr>\n",
       "      <th>12</th>\n",
       "      <td>Temp3pm</td>\n",
       "      <td>0.061743</td>\n",
       "    </tr>\n",
       "    <tr>\n",
       "      <th>0</th>\n",
       "      <td>MinTemp</td>\n",
       "      <td>0.061069</td>\n",
       "    </tr>\n",
       "    <tr>\n",
       "      <th>10</th>\n",
       "      <td>Cloud3pm</td>\n",
       "      <td>0.060286</td>\n",
       "    </tr>\n",
       "    <tr>\n",
       "      <th>1</th>\n",
       "      <td>MaxTemp</td>\n",
       "      <td>0.058477</td>\n",
       "    </tr>\n",
       "    <tr>\n",
       "      <th>11</th>\n",
       "      <td>Temp9am</td>\n",
       "      <td>0.058050</td>\n",
       "    </tr>\n",
       "    <tr>\n",
       "      <th>2</th>\n",
       "      <td>Rainfall</td>\n",
       "      <td>0.054798</td>\n",
       "    </tr>\n",
       "    <tr>\n",
       "      <th>3</th>\n",
       "      <td>Evaporation</td>\n",
       "      <td>0.054668</td>\n",
       "    </tr>\n",
       "    <tr>\n",
       "      <th>9</th>\n",
       "      <td>Cloud9am</td>\n",
       "      <td>0.037403</td>\n",
       "    </tr>\n",
       "    <tr>\n",
       "      <th>13</th>\n",
       "      <td>RainToday_Yes</td>\n",
       "      <td>0.020326</td>\n",
       "    </tr>\n",
       "  </tbody>\n",
       "</table>\n",
       "</div>"
      ],
      "text/plain": [
       "          feature  importance\n",
       "6     Humidity3pm    0.172066\n",
       "4        Sunshine    0.124574\n",
       "8     Pressure3pm    0.092837\n",
       "7     Pressure9am    0.080156\n",
       "5     Humidity9am    0.063546\n",
       "12        Temp3pm    0.061743\n",
       "0         MinTemp    0.061069\n",
       "10       Cloud3pm    0.060286\n",
       "1         MaxTemp    0.058477\n",
       "11        Temp9am    0.058050\n",
       "2        Rainfall    0.054798\n",
       "3     Evaporation    0.054668\n",
       "9        Cloud9am    0.037403\n",
       "13  RainToday_Yes    0.020326"
      ]
     },
     "execution_count": 9,
     "metadata": {},
     "output_type": "execute_result"
    }
   ],
   "source": [
    "pd.DataFrame({'feature': X_train.columns,\n",
    "              'importance':model.feature_importances_}).sort_values(by='importance', ascending=False)"
   ]
  },
  {
   "cell_type": "markdown",
   "metadata": {},
   "source": [
    "- Based on the above I might want to do some feature selection\n",
    "- Let's calculate a cross-validation score on the training data"
   ]
  },
  {
   "cell_type": "code",
   "execution_count": 10,
   "metadata": {},
   "outputs": [
    {
     "name": "stdout",
     "output_type": "stream",
     "text": [
      "Cross-validation error = 0.15\n"
     ]
    }
   ],
   "source": [
    "cv = cross_validate(model, X_train, y_train, cv=5)\n",
    "print(f\"Cross-validation error = {1 - cv['test_score'].mean():.2f}\")"
   ]
  },
  {
   "cell_type": "markdown",
   "metadata": {},
   "source": [
    "- So let's see if we can remove some features to make our model simpler and to try and improve, or at least retain, that validation error\n",
    "- I'll drop the 5 \"worst\" features and re-calculate the cross-validation error"
   ]
  },
  {
   "cell_type": "code",
   "execution_count": 11,
   "metadata": {},
   "outputs": [
    {
     "name": "stdout",
     "output_type": "stream",
     "text": [
      "Cross-validation error = 0.15\n"
     ]
    }
   ],
   "source": [
    "X_train_drop = X_train.drop(columns=['RainToday_Yes', 'Cloud9am', 'Rainfall', 'Evaporation', 'MaxTemp'])\n",
    "cv = cross_validate(model, X_train_drop, y_train, cv=5)\n",
    "print(f\"Cross-validation error = {1 - cv['test_score'].mean():.2f}\")"
   ]
  },
  {
   "cell_type": "markdown",
   "metadata": {},
   "source": [
    "- Okay so we reduced our number of features without impacting cross-validation error\n",
    "- Usually I would continue with this process to refine my model further, i.e., dropping features, adding new ones, etc.\n",
    "- But for now, let's just test on our test data\n",
    "- Don't forget to re-train your model and drop those \"worst\" features in the test set... (this is where pipelines come in handy! They remember these steps for you!)"
   ]
  },
  {
   "cell_type": "code",
   "execution_count": 12,
   "metadata": {},
   "outputs": [
    {
     "name": "stdout",
     "output_type": "stream",
     "text": [
      "Error on test data = 0.15\n"
     ]
    }
   ],
   "source": [
    "model.fit(X_train_drop, y_train)\n",
    "X_test_drop = X_test.drop(columns=['RainToday_Yes', 'Cloud9am', 'Rainfall', 'Evaporation', 'MaxTemp'])\n",
    "print(f\"Error on test data = {1 - model.score(X_test_drop, y_test):.2f}\")"
   ]
  },
  {
   "cell_type": "markdown",
   "metadata": {},
   "source": [
    "- We can also calculate the probability of a particular observation\n",
    "- Let's take a look at our features and come up with a typical 'dry' and 'wet' day to test our model"
   ]
  },
  {
   "cell_type": "code",
   "execution_count": 13,
   "metadata": {},
   "outputs": [
    {
     "data": {
      "text/html": [
       "<div>\n",
       "<style scoped>\n",
       "    .dataframe tbody tr th:only-of-type {\n",
       "        vertical-align: middle;\n",
       "    }\n",
       "\n",
       "    .dataframe tbody tr th {\n",
       "        vertical-align: top;\n",
       "    }\n",
       "\n",
       "    .dataframe thead th {\n",
       "        text-align: right;\n",
       "    }\n",
       "</style>\n",
       "<table border=\"1\" class=\"dataframe\">\n",
       "  <thead>\n",
       "    <tr style=\"text-align: right;\">\n",
       "      <th></th>\n",
       "      <th>MinTemp</th>\n",
       "      <th>Sunshine</th>\n",
       "      <th>Humidity9am</th>\n",
       "      <th>Humidity3pm</th>\n",
       "      <th>Pressure9am</th>\n",
       "      <th>Pressure3pm</th>\n",
       "      <th>Cloud3pm</th>\n",
       "      <th>Temp9am</th>\n",
       "      <th>Temp3pm</th>\n",
       "    </tr>\n",
       "  </thead>\n",
       "  <tbody>\n",
       "    <tr>\n",
       "      <th>21977</th>\n",
       "      <td>17.2</td>\n",
       "      <td>11.6</td>\n",
       "      <td>83.0</td>\n",
       "      <td>76.0</td>\n",
       "      <td>1016.7</td>\n",
       "      <td>1014.4</td>\n",
       "      <td>1.0</td>\n",
       "      <td>19.7</td>\n",
       "      <td>20.7</td>\n",
       "    </tr>\n",
       "    <tr>\n",
       "      <th>92946</th>\n",
       "      <td>23.3</td>\n",
       "      <td>12.3</td>\n",
       "      <td>52.0</td>\n",
       "      <td>48.0</td>\n",
       "      <td>1012.3</td>\n",
       "      <td>1010.1</td>\n",
       "      <td>1.0</td>\n",
       "      <td>29.2</td>\n",
       "      <td>31.0</td>\n",
       "    </tr>\n",
       "    <tr>\n",
       "      <th>82137</th>\n",
       "      <td>18.5</td>\n",
       "      <td>10.7</td>\n",
       "      <td>62.0</td>\n",
       "      <td>48.0</td>\n",
       "      <td>1015.8</td>\n",
       "      <td>1011.8</td>\n",
       "      <td>1.0</td>\n",
       "      <td>24.5</td>\n",
       "      <td>27.5</td>\n",
       "    </tr>\n",
       "    <tr>\n",
       "      <th>64106</th>\n",
       "      <td>11.0</td>\n",
       "      <td>3.8</td>\n",
       "      <td>75.0</td>\n",
       "      <td>51.0</td>\n",
       "      <td>1008.4</td>\n",
       "      <td>1013.1</td>\n",
       "      <td>7.0</td>\n",
       "      <td>13.2</td>\n",
       "      <td>14.4</td>\n",
       "    </tr>\n",
       "    <tr>\n",
       "      <th>116366</th>\n",
       "      <td>14.0</td>\n",
       "      <td>11.2</td>\n",
       "      <td>35.0</td>\n",
       "      <td>26.0</td>\n",
       "      <td>1016.0</td>\n",
       "      <td>1011.7</td>\n",
       "      <td>5.0</td>\n",
       "      <td>20.7</td>\n",
       "      <td>26.3</td>\n",
       "    </tr>\n",
       "  </tbody>\n",
       "</table>\n",
       "</div>"
      ],
      "text/plain": [
       "        MinTemp  Sunshine  Humidity9am  Humidity3pm  Pressure9am  Pressure3pm  \\\n",
       "21977      17.2      11.6         83.0         76.0       1016.7       1014.4   \n",
       "92946      23.3      12.3         52.0         48.0       1012.3       1010.1   \n",
       "82137      18.5      10.7         62.0         48.0       1015.8       1011.8   \n",
       "64106      11.0       3.8         75.0         51.0       1008.4       1013.1   \n",
       "116366     14.0      11.2         35.0         26.0       1016.0       1011.7   \n",
       "\n",
       "        Cloud3pm  Temp9am  Temp3pm  \n",
       "21977        1.0     19.7     20.7  \n",
       "92946        1.0     29.2     31.0  \n",
       "82137        1.0     24.5     27.5  \n",
       "64106        7.0     13.2     14.4  \n",
       "116366       5.0     20.7     26.3  "
      ]
     },
     "execution_count": 13,
     "metadata": {},
     "output_type": "execute_result"
    }
   ],
   "source": [
    "X_train_drop.head()"
   ]
  },
  {
   "cell_type": "code",
   "execution_count": 14,
   "metadata": {},
   "outputs": [],
   "source": [
    "dry = np.atleast_2d([18, 10, 50, 40, 1010, 1005, 1, 23, 33])\n",
    "wet = np.atleast_2d([10, 2, 70, 90, 1000, 1000, 10, 11, 16])"
   ]
  },
  {
   "cell_type": "code",
   "execution_count": 15,
   "metadata": {},
   "outputs": [
    {
     "data": {
      "text/html": [
       "<div>\n",
       "<style scoped>\n",
       "    .dataframe tbody tr th:only-of-type {\n",
       "        vertical-align: middle;\n",
       "    }\n",
       "\n",
       "    .dataframe tbody tr th {\n",
       "        vertical-align: top;\n",
       "    }\n",
       "\n",
       "    .dataframe thead th {\n",
       "        text-align: right;\n",
       "    }\n",
       "</style>\n",
       "<table border=\"1\" class=\"dataframe\">\n",
       "  <thead>\n",
       "    <tr style=\"text-align: right;\">\n",
       "      <th></th>\n",
       "      <th>Dry</th>\n",
       "      <th>Wet</th>\n",
       "    </tr>\n",
       "  </thead>\n",
       "  <tbody>\n",
       "    <tr>\n",
       "      <th>Rain tomorrow: No</th>\n",
       "      <td>0.92</td>\n",
       "      <td>0.02</td>\n",
       "    </tr>\n",
       "    <tr>\n",
       "      <th>Rain tomorrow: Yes</th>\n",
       "      <td>0.08</td>\n",
       "      <td>0.98</td>\n",
       "    </tr>\n",
       "  </tbody>\n",
       "</table>\n",
       "</div>"
      ],
      "text/plain": [
       "                     Dry   Wet\n",
       "Rain tomorrow: No   0.92  0.02\n",
       "Rain tomorrow: Yes  0.08  0.98"
      ]
     },
     "execution_count": 15,
     "metadata": {},
     "output_type": "execute_result"
    }
   ],
   "source": [
    "pd.DataFrame({'Dry': model.predict_proba(dry)[0],\n",
    "              'Wet': model.predict_proba(wet)[0]},\n",
    "             index=['Rain tomorrow: No', 'Rain tomorrow: Yes'])"
   ]
  },
  {
   "cell_type": "markdown",
   "metadata": {},
   "source": [
    "# 3. Other Ensemble Methods (15 mins) <a id=3></a>"
   ]
  },
  {
   "cell_type": "markdown",
   "metadata": {},
   "source": [
    "## 3.1 Voting"
   ]
  },
  {
   "cell_type": "markdown",
   "metadata": {},
   "source": [
    "- Voting here is essentially what we talked about as \"aggregation\" previously\n",
    "- It's about collecting predictions from multiple different models and aggregating them into a single prediction\n",
    "- sklearn has a [`VotingClassifier`](https://scikit-learn.org/stable/modules/generated/sklearn.ensemble.VotingClassifier.html#sklearn.ensemble.VotingClassifier) and [`VotingRegressor`](https://scikit-learn.org/stable/modules/generated/sklearn.ensemble.VotingRegressor.html#sklearn.ensemble.VotingRegressor) to facilitate this kind of ensembling\n",
    "- Just so show you how it works, let's create a voting classifier on the rainfall data above using a `RandomForestClassifier`, `LogisticRegression` and `KNeighborsClassifier`:"
   ]
  },
  {
   "cell_type": "code",
   "execution_count": 16,
   "metadata": {},
   "outputs": [
    {
     "name": "stderr",
     "output_type": "stream",
     "text": [
      "/Users/tbeuzen/miniconda3/lib/python3.7/site-packages/sklearn/linear_model/_logistic.py:940: ConvergenceWarning: lbfgs failed to converge (status=1):\n",
      "STOP: TOTAL NO. of ITERATIONS REACHED LIMIT.\n",
      "\n",
      "Increase the number of iterations (max_iter) or scale the data as shown in:\n",
      "    https://scikit-learn.org/stable/modules/preprocessing.html\n",
      "Please also refer to the documentation for alternative solver options:\n",
      "    https://scikit-learn.org/stable/modules/linear_model.html#logistic-regression\n",
      "  extra_warning_msg=_LOGISTIC_SOLVER_CONVERGENCE_MSG)\n"
     ]
    },
    {
     "name": "stdout",
     "output_type": "stream",
     "text": [
      "Error on test data = 0.15\n"
     ]
    }
   ],
   "source": [
    "from sklearn.linear_model import LogisticRegression\n",
    "from sklearn.neighbors import KNeighborsClassifier\n",
    "from sklearn.ensemble import RandomForestClassifier, VotingClassifier\n",
    "\n",
    "model1 = LogisticRegression(solver='lbfgs')\n",
    "model2 = KNeighborsClassifier(n_neighbors=1)\n",
    "model3 = RandomForestClassifier(n_estimators=100)\n",
    "voter = VotingClassifier(estimators=[\n",
    "    ('lr', model1),\n",
    "    ('knn', model2),\n",
    "    ('rf', model3)])\n",
    "voter.fit(X_train_drop, y_train)\n",
    "print(f\"Error on test data = {1 - voter.score(X_test_drop, y_test):.2f}\")"
   ]
  },
  {
   "cell_type": "markdown",
   "metadata": {},
   "source": [
    "## 3.2 Boosting"
   ]
  },
  {
   "cell_type": "markdown",
   "metadata": {},
   "source": [
    "- Boosting is another common ensemble method\n",
    "- I will go over the basic concepts of boosting here, but encourage you to see this [blog post](https://www.gormanalysis.com/blog/gradient-boosting-explained/) if you want to learn more"
   ]
  },
  {
   "cell_type": "markdown",
   "metadata": {},
   "source": [
    "### Basics\n",
    "- Essentially, boosting is the opposite of bagging in the sense that we make an ensemble of models with *high bias* and *low variance*, e.g., an underfit model\n",
    "- The idea is to build models sequentially to address the short-comings of the previous model\n",
    "- Consider a simple two-tree boosting ensemble for regression. The boosting framework is as follows:\n",
    "    1. Fit a tree to your data\n",
    "    2. Record the predictions of your tree;\n",
    "    3. Compute the residuals (actual minus predicted values);\n",
    "    4. Fit a second tree to the residuals;\n",
    "    5. Record the predictions of the second tree;\n",
    "    6. Record the final prediction as the prediction of the first tree plus the prediction of the second tree\n",
    "    \n",
    "- This process is illustrated by the table below which is taken directly from the blog post linked above.\n",
    "- Essentially, the second tree captures patterns in the data that the first tree missed, which is why boosting is so useful."
   ]
  },
  {
   "cell_type": "markdown",
   "metadata": {},
   "source": [
    "<img src='./img/boosting.png' width=\"700\"> \n",
    "\n",
    "Source: [GormAnalysis](https://www.gormanalysis.com/blog/gradient-boosting-explained/)"
   ]
  },
  {
   "cell_type": "markdown",
   "metadata": {},
   "source": [
    "- Boosting is about improving predictions by learning on residuals\n",
    "- We therefore want to use \"weak\" learners to help us slowly get at the structure of the underyling the data\n",
    "- The idea is to use a low-variance/high-bias model, like a decision stump, for which we can use boosting to reduce the bias"
   ]
  },
  {
   "cell_type": "markdown",
   "metadata": {},
   "source": [
    "## 3.3 Current Popular Algorithms"
   ]
  },
  {
   "cell_type": "markdown",
   "metadata": {},
   "source": [
    "- [XGBoost](https://xgboost.readthedocs.io/en/latest/)/[LGBM](https://lightgbm.readthedocs.io/en/latest/): these are two of the most common algorithms used in practice at the moment. These are both boosting algorithms based on decision trees that vary in their implementation (e.g., how they combine predictions, how they decide on splits, etc.)\n",
    "- The above are not built into sklearn, they require separate installation as outlined in the documentation above\n",
    "- Stacking: uses the predictions of various different models as inputs to another model which learns how to \"aggregate\" these predictions to a better prediction."
   ]
  },
  {
   "cell_type": "markdown",
   "metadata": {},
   "source": [
    "# -------- Break (10 mins) -------- <a id=\"break\"></a>"
   ]
  },
  {
   "cell_type": "markdown",
   "metadata": {},
   "source": [
    "# 4. Beyond \"error rate\" and \"r2\" metrics (20 mins)<a id=4></a>"
   ]
  },
  {
   "cell_type": "markdown",
   "metadata": {},
   "source": [
    "## 4.1 Probabilistic Predictions"
   ]
  },
  {
   "cell_type": "markdown",
   "metadata": {},
   "source": [
    "### Classification\n",
    "- We've already looked at several examples of generating probabilistic predictions for classification algorithms (e.g., Logistic Regression, Naive Bayes, Random Forests)\n",
    "- With these methods we can get a probability for each class label and plot a histogram as an approximate \"probability distribution\" - you'll do this in Assignment 3\n",
    "- As an example, I'll use our rain forecasting model from before:"
   ]
  },
  {
   "cell_type": "code",
   "execution_count": 17,
   "metadata": {},
   "outputs": [
    {
     "data": {
      "image/png": "[encoded data removed]",
      "text/plain": [
       "<Figure size 432x288 with 1 Axes>"
      ]
     },
     "metadata": {
      "needs_background": "light"
     },
     "output_type": "display_data"
    }
   ],
   "source": [
    "import matplotlib.pyplot as plt\n",
    "plt.rcParams.update({'font.size': 18})\n",
    "plt.rcParams['axes.axisbelow'] = True\n",
    "predictions = model.predict_proba(dry)\n",
    "plt.bar([0,1],predictions[0], tick_label=['No Rain', 'Rain'])\n",
    "plt.ylim(0,1)\n",
    "plt.ylabel('Probability')\n",
    "plt.grid()"
   ]
  },
  {
   "cell_type": "markdown",
   "metadata": {},
   "source": [
    "### Regression\n",
    "- The reason probabilities are useful is because they helps us understand the uncertainty in our predictions\n",
    "- You've probably already had some practice generating confidence and/or prediction intervals using linear models, perhaps using the `confint` or `predict` functions\n",
    "- You may recall that confidence intervals are intervals around the expected value of Y given x: $E[Y|x]$ (they have 1 source of uncertainty, uncertainty in model parameters)\n",
    "- Prediction intervals are intervals around some $\\hat{y}$ given x: $\\hat{y}|x$ (they have 2 sources of uncertainty, uncertainty in model parameters and uncertainty in our data)\n",
    "- Prediction intervals are really what we are interested in here\n",
    "- In your linear regression courses, you may have seen the following formula for calculating prediction intervals:\n",
    "$$\\hat{y}\\pm{}t_{\\frac{\\alpha}{2},{n-2}}*\\sqrt{MSE(1+\\frac{1}{n}+\\frac{(x-\\bar{x}^2)}{\\sum{(x_i-\\bar{x}^2)}}}$$\n",
    "\n",
    "- Unfortunately, this formula **strongly** relies on the condition that the residuals are normally distributed (which often they are not)\n",
    "- An alternative strategy to forming prediction intervals that does not make assumptions on the distribution of the residuals is **quantile regression**"
   ]
  },
  {
   "cell_type": "markdown",
   "metadata": {},
   "source": [
    "- Quantile regression is conceptually the same as the OLS method you've seen so far\n",
    "- But instead of regressing on the conditional expectation (the mean) we fit a model to a particular quantile, e.g., the 0.5 quantile (the median), the 0.1 quantile, the 0.9 quantile, etc.\n",
    "- We can easily do quantile regression with a standard linear model, using the `statsmodels` package\n",
    "- The below example is adapted from the `statsmodels` docs [here](https://www.statsmodels.org/dev/examples/notebooks/generated/quantile_regression.html), predicting `food expenditure` vs `income`"
   ]
  },
  {
   "cell_type": "code",
   "execution_count": 18,
   "metadata": {},
   "outputs": [
    {
     "data": {
      "text/html": [
       "<div>\n",
       "<style scoped>\n",
       "    .dataframe tbody tr th:only-of-type {\n",
       "        vertical-align: middle;\n",
       "    }\n",
       "\n",
       "    .dataframe tbody tr th {\n",
       "        vertical-align: top;\n",
       "    }\n",
       "\n",
       "    .dataframe thead th {\n",
       "        text-align: right;\n",
       "    }\n",
       "</style>\n",
       "<table border=\"1\" class=\"dataframe\">\n",
       "  <thead>\n",
       "    <tr style=\"text-align: right;\">\n",
       "      <th></th>\n",
       "      <th>income</th>\n",
       "      <th>foodexp</th>\n",
       "    </tr>\n",
       "  </thead>\n",
       "  <tbody>\n",
       "    <tr>\n",
       "      <th>40</th>\n",
       "      <td>377.058369</td>\n",
       "      <td>276.560610</td>\n",
       "    </tr>\n",
       "    <tr>\n",
       "      <th>171</th>\n",
       "      <td>387.319526</td>\n",
       "      <td>242.320202</td>\n",
       "    </tr>\n",
       "    <tr>\n",
       "      <th>170</th>\n",
       "      <td>387.319526</td>\n",
       "      <td>242.320202</td>\n",
       "    </tr>\n",
       "    <tr>\n",
       "      <th>193</th>\n",
       "      <td>408.339934</td>\n",
       "      <td>284.800803</td>\n",
       "    </tr>\n",
       "    <tr>\n",
       "      <th>172</th>\n",
       "      <td>410.998679</td>\n",
       "      <td>266.000982</td>\n",
       "    </tr>\n",
       "  </tbody>\n",
       "</table>\n",
       "</div>"
      ],
      "text/plain": [
       "         income     foodexp\n",
       "40   377.058369  276.560610\n",
       "171  387.319526  242.320202\n",
       "170  387.319526  242.320202\n",
       "193  408.339934  284.800803\n",
       "172  410.998679  266.000982"
      ]
     },
     "execution_count": 18,
     "metadata": {},
     "output_type": "execute_result"
    }
   ],
   "source": [
    "import numpy as np\n",
    "import pandas as pd\n",
    "import statsmodels.api as sm\n",
    "import statsmodels.formula.api as smf\n",
    "import matplotlib.pyplot as plt\n",
    "data = sm.datasets.engel.load_pandas().data.sort_values(by='income')\n",
    "x = data['income'].to_numpy()\n",
    "y = data['foodexp'].to_numpy()\n",
    "data.head()"
   ]
  },
  {
   "cell_type": "markdown",
   "metadata": {},
   "source": [
    "- I'll leave it to you to run through the code if you're interested, I'm going to skip straight to the plot..."
   ]
  },
  {
   "cell_type": "code",
   "execution_count": 19,
   "metadata": {},
   "outputs": [
    {
     "data": {
      "image/png": "[encoded data removed]",
      "text/plain": [
       "<Figure size 576x432 with 1 Axes>"
      ]
     },
     "metadata": {
      "needs_background": "light"
     },
     "output_type": "display_data"
    }
   ],
   "source": [
    "# Define alpha level (will draw PI between alpha and 1-alpha)\n",
    "alpha = 0.95\n",
    "# Get model predictions\n",
    "model = smf.quantreg('foodexp ~ income', data)\n",
    "y_upper = model.fit(q=alpha).predict() # prediction of alpha quantile\n",
    "y_lower = model.fit(q=(1 - alpha)).predict()  # prediction of 1 - alpha quantile\n",
    "y_pred = smf.ols('foodexp ~ income', data).fit().predict()  # prediction of OLS model for comparison\n",
    "# plot\n",
    "fig, ax = plt.subplots(figsize=(8, 6))\n",
    "plt.fill_between(x,\n",
    "                 y_lower,\n",
    "                 y_upper,\n",
    "                 alpha=0.2, fc='red', ec='k',\n",
    "                 label=str(round((alpha-(1-alpha))*100)) + '% PI')\n",
    "plt.plot(x, y_pred, color='red', label='OLS')\n",
    "plt.scatter(x, y, ec='k')\n",
    "plt.xlabel('Income', fontsize=16)\n",
    "plt.ylabel('Food expenditure', fontsize=16)\n",
    "plt.legend(loc=2);"
   ]
  },
  {
   "cell_type": "markdown",
   "metadata": {},
   "source": [
    "- Quantile regression has also been implemented in tree-based models\n",
    "- For example, sklearn's [`GradientBoostingRegressor`](https://scikit-learn.org/stable/modules/generated/sklearn.ensemble.GradientBoostingRegressor.html#sklearn.ensemble.GradientBoostingRegressor) implements quantile regression, the below code is adapted from [this example](https://scikit-learn.org/stable/auto_examples/ensemble/plot_gradient_boosting_quantile.html)"
   ]
  },
  {
   "cell_type": "code",
   "execution_count": 20,
   "metadata": {},
   "outputs": [
    {
     "data": {
      "image/png": "[encoded data removed]",
      "text/plain": [
       "<Figure size 576x432 with 1 Axes>"
      ]
     },
     "metadata": {
      "needs_background": "light"
     },
     "output_type": "display_data"
    }
   ],
   "source": [
    "from sklearn.ensemble import GradientBoostingRegressor\n",
    "# create model and specify alpha level\n",
    "alpha = 0.95\n",
    "model = GradientBoostingRegressor(loss='quantile', alpha=alpha,\n",
    "                                  n_estimators=250, max_depth=3,\n",
    "                                  learning_rate=.1, min_samples_leaf=9)\n",
    "x = x.reshape(-1, 1)\n",
    "xx = np.arange(data.income.min(), data.income.max(), 100).reshape(-1, 1) # grid for predictions\n",
    "y_upper = model.fit(x, y).predict(xx) # predictions for alpha quantile\n",
    "model.set_params(alpha=1.0 - alpha) # change to 1 - alpha\n",
    "y_lower = model.fit(x, y).predict(xx) # predictions for 1 - alpha quantile\n",
    "model.set_params(loss='ls') # change to OLS\n",
    "y_pred = model.fit(x, y).predict(xx) # predictions for OLS (mean)\n",
    "# Plot\n",
    "fig, ax = plt.subplots(figsize=(8, 6))\n",
    "plt.scatter(x, y, ec='k')\n",
    "plt.plot(xx, y_pred, 'r-', label='OLS')\n",
    "plt.fill_between(np.squeeze(xx),\n",
    "                 y_upper,\n",
    "                 y_lower,\n",
    "                 alpha=0.2, fc='red', ec='k',\n",
    "                 label=str(round((alpha-(1-alpha))*100)) + '% PI')\n",
    "plt.xlabel('Income', fontsize=16)\n",
    "plt.ylabel('Food expenditure', fontsize=16);\n",
    "plt.legend(loc=2);"
   ]
  },
  {
   "cell_type": "markdown",
   "metadata": {},
   "source": [
    "## 4.2 Classification Metrics"
   ]
  },
  {
   "cell_type": "markdown",
   "metadata": {},
   "source": [
    "- Until now, we've only used error/accuracy to measure the performance of our models\n",
    "- However, this is not the whole story\n",
    "- It's helpful to look at the distribution of our predictions in a **confusion matrix**\n",
    "- This is a table of our predictions, available in the sklearn function `plot_confusion_matrix`\n",
    "- (this function was only introduced in v 0.22.1, you may need to update: `conda install scikit-learn=0.22.1`)\n",
    "- I'll plot the confusion matrix for our rainfall prediction model from earlier"
   ]
  },
  {
   "cell_type": "code",
   "execution_count": 21,
   "metadata": {},
   "outputs": [],
   "source": [
    "from sklearn.metrics import plot_confusion_matrix"
   ]
  },
  {
   "cell_type": "code",
   "execution_count": 22,
   "metadata": {},
   "outputs": [
    {
     "data": {
      "image/png": "[encoded data removed]",
      "text/plain": [
       "<Figure size 432x288 with 2 Axes>"
      ]
     },
     "metadata": {
      "needs_background": "light"
     },
     "output_type": "display_data"
    }
   ],
   "source": [
    "model = RandomForestClassifier(n_estimators=100, max_depth=None, random_state=123).fit(X_train_drop, y_train)\n",
    "plot_confusion_matrix(model, X_test_drop, y_test, cmap='YlGn', values_format='.0f');"
   ]
  },
  {
   "cell_type": "markdown",
   "metadata": {},
   "source": [
    "- The confusion matrix helps us see where our model does well and where it does poorly\n",
    "- We can see that our model predicts \"No\" correctly 95% of the time\n",
    "- But we also see that our model predicts \"No\" when it does in fact rain, 48% of the time...\n",
    "- Let's introduce two new metrics:\n",
    "    - $Precision=\\frac{TP}{TP+FP}$ (what proportion of positive predictions was actually correct?)\n",
    "    - $Recall=\\frac{TP}{TP+FN}$ (what proportion of true positives was identified correctly?)\n",
    "- For the above confusion matrix:\n",
    "    - $Precision=\\frac{1443}{1443+544}=0.73$\n",
    "    - $Recall=\\frac{1443}{1443+1254}=0.54$\n",
    "- Read more about these metrics [here](https://developers.google.com/machine-learning/crash-course/classification/precision-and-recall)\n",
    "- There's generally a trade-off between precision and recall: improving precision typically reduces recall and vice versa\n",
    "- We typically use two other popular measures of performance known as [ROC and AUC](https://developers.google.com/machine-learning/crash-course/classification/roc-and-auc) to find the best balance (but outside the scope of this course)\n",
    "- What you need to know is that \"error\" is not always the best metric! Looking at the confusion matrix above, we may decide to change our model so that we get more **True Positives**, we have two options here"
   ]
  },
  {
   "cell_type": "markdown",
   "metadata": {},
   "source": [
    "#### Change the classification threshold!\n",
    "- We can use the probabilistic predictions of our random forest classifier to make our own predictions based on some threshold\n",
    "- We can get more *true positive* by decreasing our threshold (i.e., classifying more observations as positive)\n",
    "- But that means we also get more *false positives*)\n",
    "- This requires some manual coding..."
   ]
  },
  {
   "cell_type": "code",
   "execution_count": 23,
   "metadata": {},
   "outputs": [
    {
     "data": {
      "text/plain": [
       "array([[8080, 1607],\n",
       "       [ 644, 2053]])"
      ]
     },
     "execution_count": 23,
     "metadata": {},
     "output_type": "execute_result"
    }
   ],
   "source": [
    "from sklearn.metrics import confusion_matrix\n",
    "threshold = 0.3\n",
    "predicted_proba = model.predict_proba(X_test_drop)\n",
    "y_predicted = (predicted_proba[:,1] >= threshold).astype('int')\n",
    "confusion_matrix(y_test.replace({'Yes':1,\n",
    "                                 'No': 0}), y_predicted)"
   ]
  },
  {
   "cell_type": "markdown",
   "metadata": {},
   "source": [
    "- In this case, my recall will go up, but my precision will go down\n",
    "    - $Precision=\\frac{2068}{2068+1608}=0.56$\n",
    "    - $Recall=\\frac{2068}{2068+629}=0.77$"
   ]
  },
  {
   "cell_type": "markdown",
   "metadata": {},
   "source": [
    "#### Weight classes differently!"
   ]
  },
  {
   "cell_type": "code",
   "execution_count": 24,
   "metadata": {},
   "outputs": [
    {
     "data": {
      "image/png": "[encoded data removed]",
      "text/plain": [
       "<Figure size 432x288 with 2 Axes>"
      ]
     },
     "metadata": {
      "needs_background": "light"
     },
     "output_type": "display_data"
    }
   ],
   "source": [
    "model = RandomForestClassifier(n_estimators=100, max_depth=None, class_weight={'Yes':1, 'No':100})\n",
    "model.fit(X_train_drop, y_train)\n",
    "plot_confusion_matrix(model, X_test_drop, y_test, cmap='YlGn', values_format='.0f');"
   ]
  },
  {
   "cell_type": "markdown",
   "metadata": {},
   "source": [
    "## 4.3 Regression Metrics"
   ]
  },
  {
   "cell_type": "markdown",
   "metadata": {},
   "source": [
    "- We only looked at one regression metric during the course: $R^2$\n",
    "- But there are [many more](https://scikit-learn.org/stable/modules/model_evaluation.html#regression-metrics)\n",
    "- Some other common ones are:\n",
    "    - Mean absolute error (MAE) - good if you want error to add linearly, so an error of 10 is twice as bad as an error of 5\n",
    "    - Mean squared error (MSE) - good if you want to penalise outliers heavily, so an error of 10 is 4x as bad as an error of 5\n",
    "    - Root-mean squared error (RMSE) - like MSE but on the same scale as the response\n"
   ]
  },
  {
   "cell_type": "markdown",
   "metadata": {},
   "source": [
    "# 5. Remaing time is to work on your final project! <a id=5></a>"
   ]
  }
 ],
 "metadata": {
  "kernelspec": {
   "display_name": "Python 3",
   "language": "python",
   "name": "python3"
  },
  "language_info": {
   "codemirror_mode": {
    "name": "ipython",
    "version": 3
   },
   "file_extension": ".py",
   "mimetype": "text/x-python",
   "name": "python",
   "nbconvert_exporter": "python",
   "pygments_lexer": "ipython3",
   "version": "3.7.4"
  }
 },
 "nbformat": 4,
 "nbformat_minor": 4
}
