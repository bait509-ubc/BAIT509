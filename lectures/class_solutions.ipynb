{
 "cells": [
  {
   "cell_type": "markdown",
   "metadata": {},
   "source": [
    "# Exercise Solutions"
   ]
  },
  {
   "cell_type": "code",
   "execution_count": 57,
   "metadata": {},
   "outputs": [],
   "source": [
    "import numpy as np\n",
    "import pandas as pd\n",
    "from sklearn.tree import DecisionTreeClassifier\n",
    "from sklearn.neighbors import KNeighborsClassifier\n",
    "from sklearn.model_selection import train_test_split, cross_validate\n",
    "from sklearn.impute import SimpleImputer\n",
    "from sklearn.pipeline import Pipeline\n",
    "from sklearn.preprocessing import OneHotEncoder, OrdinalEncoder, StandardScaler, MinMaxScaler\n",
    "from sklearn.svm import SVC"
   ]
  },
  {
   "cell_type": "markdown",
   "metadata": {},
   "source": [
    "## Lecture 1"
   ]
  },
  {
   "cell_type": "code",
   "execution_count": 58,
   "metadata": {},
   "outputs": [],
   "source": [
    "candy_df = pd.read_csv('data/candybars.csv',index_col=0)"
   ]
  },
  {
   "cell_type": "code",
   "execution_count": 59,
   "metadata": {},
   "outputs": [
    {
     "name": "stdout",
     "output_type": "stream",
     "text": [
      "For min_sample_split = 2 accuracy= 0.84\n",
      "For min_sample_split = 5 accuracy= 0.68\n",
      "For min_sample_split = 10 accuracy= 0.64\n"
     ]
    }
   ],
   "source": [
    "# Define X and y\n",
    "X = candy_df.drop(columns=['availability'])\n",
    "y = candy_df['availability']\n",
    "\n",
    "# Creating a model\n",
    "for min_samples_split in [2, 5, 10]:\n",
    "    hyper_tree = DecisionTreeClassifier(random_state=1, min_samples_split=min_samples_split)\n",
    "    hyper_tree.fit(X,y)\n",
    "    print(\"For min_sample_split =\",min_samples_split, \"accuracy=\", hyper_tree.score(X, y).round(2))"
   ]
  },
  {
   "cell_type": "markdown",
   "metadata": {},
   "source": [
    "4. a) Which `min_samples_split` value would you choose to predict this data? <br>\n",
    "\n",
    "> It has the best accuracy with the lowest value of `min_sample_split`.\n",
    "   \n",
    "4. b) Would you choose the same `min_samples_split` value to predict new data?\n",
    "\n",
    ">  No and we will explain this next lecture. \n",
    "\n",
    "5. Do you think most of the computational effort for a decision tree takes place in the `.fit()` stage or `.predict()` stage?\n",
    "\n",
    ">  Most of the computational effort takes places in the .fit() stage, when we create the model."
   ]
  },
  {
   "cell_type": "markdown",
   "metadata": {},
   "source": [
    "## Lecture 2"
   ]
  },
  {
   "cell_type": "code",
   "execution_count": 60,
   "metadata": {},
   "outputs": [
    {
     "data": {
      "text/plain": [
       "fit_time       0.002964\n",
       "score_time     0.001910\n",
       "test_score     0.832667\n",
       "train_score    0.957826\n",
       "dtype: float64"
      ]
     },
     "execution_count": 60,
     "metadata": {},
     "output_type": "execute_result"
    }
   ],
   "source": [
    "bball_df = pd.read_csv('data/bball.csv')\n",
    "bball_df = bball_df[(bball_df['position'] =='G') | (bball_df['position'] =='F')]\n",
    "\n",
    "# Define X and y\n",
    "X = bball_df.loc[:, ['height', 'weight', 'salary']]\n",
    "y = bball_df['position']\n",
    "\n",
    "# 1. Split the dataset\n",
    "X_train, X_test, y_train, y_test = train_test_split(\n",
    "    X, y, test_size=0.2, random_state=7)\n",
    "\n",
    "# 2. Create a model\n",
    "model = DecisionTreeClassifier(max_depth=5)\n",
    "\n",
    "# 3. Cross validate\n",
    "scores = cross_validate(model, X_train, y_train, cv=10, return_train_score=True)\n",
    "\n",
    "# 4. Covert scores into a dataframe\n",
    "scores_df = pd.DataFrame(scores)\n",
    "\n",
    "# 5. Calculate the mean value of each column\n",
    "mean_scores = scores_df.mean()\n",
    "mean_scores"
   ]
  },
  {
   "cell_type": "markdown",
   "metadata": {},
   "source": [
    "6. Is your model overfitting or underfitting? \n",
    "\n",
    "> The training score is a little higher than the validation score and thus the model is overfitting. "
   ]
  },
  {
   "cell_type": "code",
   "execution_count": null,
   "metadata": {},
   "outputs": [],
   "source": []
  }
 ],
 "metadata": {
  "kernelspec": {
   "display_name": "Python 3",
   "language": "python",
   "name": "python3"
  },
  "language_info": {
   "codemirror_mode": {
    "name": "ipython",
    "version": 3
   },
   "file_extension": ".py",
   "mimetype": "text/x-python",
   "name": "python",
   "nbconvert_exporter": "python",
   "pygments_lexer": "ipython3",
   "version": "3.8.5"
  }
 },
 "nbformat": 4,
 "nbformat_minor": 4
}
