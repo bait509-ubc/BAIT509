{
 "cells": [
  {
   "cell_type": "markdown",
   "metadata": {},
   "source": [
    "# Baseline models & k-Nearest Neighbours"
   ]
  },
  {
   "cell_type": "markdown",
   "metadata": {},
   "source": [
    "## Lecture Learning Objectives \n",
    "\n",
    "- Use `DummyClassifier` and `DummyRegressor` as baselines for machine learning problems.\n",
    "- Explain the notion of similarity-based algorithms .\n",
    "- Broadly describe how KNNs use distances.\n",
    "- Discuss the effect of using a small/large value of the hyperparameter $K$ when using the KNN algorithm \n",
    "- Describe the problem of the curse of dimensionality."
   ]
  },
  {
   "cell_type": "markdown",
   "metadata": {},
   "source": [
    "## Five Minute Recap/ Lightning Questions \n",
    "\n",
    "- What are the 4 types of data/splits that we discussed last class?\n",
    "- What is the \"Golden Rule of Machine Learning\"?\n",
    "- What do we use to split our data?\n",
    "- What is overfitting and underfitting? "
   ]
  },
  {
   "cell_type": "markdown",
   "metadata": {},
   "source": [
    "### Some lingering questions\n",
    "\n",
    "- Are decision trees the most basic model?\n",
    "- What other models can we build?"
   ]
  },
  {
   "cell_type": "markdown",
   "metadata": {},
   "source": [
    "## Baseline Models\n",
    "\n",
    "We saw in the last 2 lectures how to build decision tree models which are based on rules (if-else statements), but how can we be sure that these models are doing a good job besides just accuracy? \n",
    "\n",
    "Back in high school in chemistry or biology, we've all likely seen and heard of the \"control group\" where we have an experimental group, does not receive any experimental treatment.  This control group increases the reliability of the results, often through a comparison between control measurements and the other measurements. \n",
    "\n",
    "\n",
    "Our baseline model is something like a control group in the sense that it provides a way to sanity-check your machine learning model. We make baseline models not to use for prediction purposes, but as a reference point when we are building other more sophisticated models.\n",
    "\n",
    "So what is a baseline model then? \n",
    "\n",
    "- Baseline: A simple machine learning algorithm based on simple rules of thumb. For example, \n",
    "    - most frequent baseline: always predicts the most frequent label in the training set. \n"
   ]
  },
  {
   "cell_type": "markdown",
   "metadata": {},
   "source": [
    "### Dummy Classifier\n",
    "\n",
    "We are going to build a most frequent baseline model which always predicts the most frequently labelled in the training set."
   ]
  },
  {
   "cell_type": "code",
   "execution_count": 1,
   "metadata": {},
   "outputs": [
    {
     "data": {
      "text/html": [
       "<div>\n",
       "<style scoped>\n",
       "    .dataframe tbody tr th:only-of-type {\n",
       "        vertical-align: middle;\n",
       "    }\n",
       "\n",
       "    .dataframe tbody tr th {\n",
       "        vertical-align: top;\n",
       "    }\n",
       "\n",
       "    .dataframe thead th {\n",
       "        text-align: right;\n",
       "    }\n",
       "</style>\n",
       "<table border=\"1\" class=\"dataframe\">\n",
       "  <thead>\n",
       "    <tr style=\"text-align: right;\">\n",
       "      <th></th>\n",
       "      <th>lon</th>\n",
       "      <th>lat</th>\n",
       "      <th>vote</th>\n",
       "    </tr>\n",
       "  </thead>\n",
       "  <tbody>\n",
       "    <tr>\n",
       "      <th>1</th>\n",
       "      <td>-80.162475</td>\n",
       "      <td>25.692104</td>\n",
       "      <td>blue</td>\n",
       "    </tr>\n",
       "    <tr>\n",
       "      <th>2</th>\n",
       "      <td>-80.214360</td>\n",
       "      <td>25.944083</td>\n",
       "      <td>blue</td>\n",
       "    </tr>\n",
       "    <tr>\n",
       "      <th>3</th>\n",
       "      <td>-80.094133</td>\n",
       "      <td>26.234314</td>\n",
       "      <td>blue</td>\n",
       "    </tr>\n",
       "    <tr>\n",
       "      <th>4</th>\n",
       "      <td>-80.248086</td>\n",
       "      <td>26.291902</td>\n",
       "      <td>blue</td>\n",
       "    </tr>\n",
       "    <tr>\n",
       "      <th>5</th>\n",
       "      <td>-81.789963</td>\n",
       "      <td>26.348035</td>\n",
       "      <td>blue</td>\n",
       "    </tr>\n",
       "    <tr>\n",
       "      <th>...</th>\n",
       "      <td>...</td>\n",
       "      <td>...</td>\n",
       "      <td>...</td>\n",
       "    </tr>\n",
       "    <tr>\n",
       "      <th>396</th>\n",
       "      <td>-97.460476</td>\n",
       "      <td>48.225094</td>\n",
       "      <td>red</td>\n",
       "    </tr>\n",
       "    <tr>\n",
       "      <th>397</th>\n",
       "      <td>-96.551116</td>\n",
       "      <td>48.591592</td>\n",
       "      <td>blue</td>\n",
       "    </tr>\n",
       "    <tr>\n",
       "      <th>398</th>\n",
       "      <td>-166.519855</td>\n",
       "      <td>53.887114</td>\n",
       "      <td>red</td>\n",
       "    </tr>\n",
       "    <tr>\n",
       "      <th>399</th>\n",
       "      <td>-163.733617</td>\n",
       "      <td>67.665859</td>\n",
       "      <td>red</td>\n",
       "    </tr>\n",
       "    <tr>\n",
       "      <th>400</th>\n",
       "      <td>-145.423115</td>\n",
       "      <td>68.077395</td>\n",
       "      <td>red</td>\n",
       "    </tr>\n",
       "  </tbody>\n",
       "</table>\n",
       "<p>400 rows × 3 columns</p>\n",
       "</div>"
      ],
      "text/plain": [
       "            lon        lat  vote\n",
       "1    -80.162475  25.692104  blue\n",
       "2    -80.214360  25.944083  blue\n",
       "3    -80.094133  26.234314  blue\n",
       "4    -80.248086  26.291902  blue\n",
       "5    -81.789963  26.348035  blue\n",
       "..          ...        ...   ...\n",
       "396  -97.460476  48.225094   red\n",
       "397  -96.551116  48.591592  blue\n",
       "398 -166.519855  53.887114   red\n",
       "399 -163.733617  67.665859   red\n",
       "400 -145.423115  68.077395   red\n",
       "\n",
       "[400 rows x 3 columns]"
      ]
     },
     "execution_count": 1,
     "metadata": {},
     "output_type": "execute_result"
    }
   ],
   "source": [
    "import pandas as pd\n",
    "\n",
    "\n",
    "voting_df = pd.read_csv('data/cities_USA.csv', index_col=0)\n",
    "voting_df"
   ]
  },
  {
   "cell_type": "code",
   "execution_count": 2,
   "metadata": {},
   "outputs": [],
   "source": [
    "# feature table\n",
    "X = voting_df.drop(columns='vote')\n",
    "\n",
    "# the target variable\n",
    "y = voting_df[['vote']]"
   ]
  },
  {
   "cell_type": "code",
   "execution_count": 3,
   "metadata": {},
   "outputs": [],
   "source": [
    "from sklearn.model_selection import cross_validate, train_test_split\n",
    "\n",
    "\n",
    "X_train, X_test, y_train, y_test = train_test_split(\n",
    "    X, y, test_size=0.2, random_state=123)"
   ]
  },
  {
   "cell_type": "markdown",
   "metadata": {},
   "source": [
    "We build our model, in the same way as we built a decision tree model but this time using `DummyClassifier`. \n",
    "\n",
    "Since we are using a \"most frequent\" baseline model, we specify the argument `strategy` as `\"most_frequent\"`\n",
    "\n",
    "There are other options that you you read about in the [sklearn documentation](https://scikit-learn.org/stable/modules/generated/sklearn.dummy.DummyClassifier.html) but you just need to know `most_frequent` for now. "
   ]
  },
  {
   "cell_type": "code",
   "execution_count": 4,
   "metadata": {},
   "outputs": [],
   "source": [
    "from sklearn.dummy import DummyClassifier\n",
    "\n",
    "\n",
    "dummy_clf = DummyClassifier(strategy=\"most_frequent\")"
   ]
  },
  {
   "cell_type": "markdown",
   "metadata": {},
   "source": [
    "In the last lecture, we stated that it's at this point that we would usually perform cross-validation\n",
    "to evaluate the model performance."
   ]
  },
  {
   "cell_type": "markdown",
   "metadata": {},
   "source": [
    "With Dummy Classifiers, we won't need to because we are not hyperparameter tuning. We are using this just to get a base training score. "
   ]
  },
  {
   "cell_type": "code",
   "execution_count": 5,
   "metadata": {},
   "outputs": [
    {
     "data": {
      "text/plain": [
       "0.578125"
      ]
     },
     "execution_count": 5,
     "metadata": {},
     "output_type": "execute_result"
    }
   ],
   "source": [
    "dummy_clf.fit(X_train, y_train)\n",
    "dummy_clf.score(X_train, y_train)"
   ]
  },
  {
   "cell_type": "markdown",
   "metadata": {},
   "source": [
    "If we see what our model predicts on the feature table for our training split `X_train`, our model will predict the most occurring class from our training data. "
   ]
  },
  {
   "cell_type": "code",
   "execution_count": 6,
   "metadata": {},
   "outputs": [
    {
     "data": {
      "text/plain": [
       "vote\n",
       "blue    185\n",
       "red     135\n",
       "dtype: int64"
      ]
     },
     "execution_count": 6,
     "metadata": {},
     "output_type": "execute_result"
    }
   ],
   "source": [
    "y_train.value_counts()"
   ]
  },
  {
   "cell_type": "code",
   "execution_count": 7,
   "metadata": {},
   "outputs": [
    {
     "data": {
      "text/plain": [
       "array(['blue', 'blue', 'blue', 'blue', 'blue', 'blue', 'blue', 'blue',\n",
       "       'blue', 'blue', 'blue', 'blue', 'blue', 'blue', 'blue', 'blue',\n",
       "       'blue', 'blue', 'blue', 'blue', 'blue', 'blue', 'blue', 'blue',\n",
       "       'blue', 'blue', 'blue', 'blue', 'blue', 'blue', 'blue', 'blue',\n",
       "       'blue', 'blue', 'blue', 'blue', 'blue', 'blue', 'blue', 'blue',\n",
       "       'blue', 'blue', 'blue', 'blue', 'blue', 'blue', 'blue', 'blue',\n",
       "       'blue', 'blue', 'blue', 'blue', 'blue', 'blue', 'blue', 'blue',\n",
       "       'blue', 'blue', 'blue', 'blue', 'blue', 'blue', 'blue', 'blue',\n",
       "       'blue', 'blue', 'blue', 'blue', 'blue', 'blue', 'blue', 'blue',\n",
       "       'blue', 'blue', 'blue', 'blue', 'blue', 'blue', 'blue', 'blue',\n",
       "       'blue', 'blue', 'blue', 'blue', 'blue', 'blue', 'blue', 'blue',\n",
       "       'blue', 'blue', 'blue', 'blue', 'blue', 'blue', 'blue', 'blue',\n",
       "       'blue', 'blue', 'blue', 'blue', 'blue', 'blue', 'blue', 'blue',\n",
       "       'blue', 'blue', 'blue', 'blue', 'blue', 'blue', 'blue', 'blue',\n",
       "       'blue', 'blue', 'blue', 'blue', 'blue', 'blue', 'blue', 'blue',\n",
       "       'blue', 'blue', 'blue', 'blue', 'blue', 'blue', 'blue', 'blue',\n",
       "       'blue', 'blue', 'blue', 'blue', 'blue', 'blue', 'blue', 'blue',\n",
       "       'blue', 'blue', 'blue', 'blue', 'blue', 'blue', 'blue', 'blue',\n",
       "       'blue', 'blue', 'blue', 'blue', 'blue', 'blue', 'blue', 'blue',\n",
       "       'blue', 'blue', 'blue', 'blue', 'blue', 'blue', 'blue', 'blue',\n",
       "       'blue', 'blue', 'blue', 'blue', 'blue', 'blue', 'blue', 'blue',\n",
       "       'blue', 'blue', 'blue', 'blue', 'blue', 'blue', 'blue', 'blue',\n",
       "       'blue', 'blue', 'blue', 'blue', 'blue', 'blue', 'blue', 'blue',\n",
       "       'blue', 'blue', 'blue', 'blue', 'blue', 'blue', 'blue', 'blue',\n",
       "       'blue', 'blue', 'blue', 'blue', 'blue', 'blue', 'blue', 'blue',\n",
       "       'blue', 'blue', 'blue', 'blue', 'blue', 'blue', 'blue', 'blue',\n",
       "       'blue', 'blue', 'blue', 'blue', 'blue', 'blue', 'blue', 'blue',\n",
       "       'blue', 'blue', 'blue', 'blue', 'blue', 'blue', 'blue', 'blue',\n",
       "       'blue', 'blue', 'blue', 'blue', 'blue', 'blue', 'blue', 'blue',\n",
       "       'blue', 'blue', 'blue', 'blue', 'blue', 'blue', 'blue', 'blue',\n",
       "       'blue', 'blue', 'blue', 'blue', 'blue', 'blue', 'blue', 'blue',\n",
       "       'blue', 'blue', 'blue', 'blue', 'blue', 'blue', 'blue', 'blue',\n",
       "       'blue', 'blue', 'blue', 'blue', 'blue', 'blue', 'blue', 'blue',\n",
       "       'blue', 'blue', 'blue', 'blue', 'blue', 'blue', 'blue', 'blue',\n",
       "       'blue', 'blue', 'blue', 'blue', 'blue', 'blue', 'blue', 'blue',\n",
       "       'blue', 'blue', 'blue', 'blue', 'blue', 'blue', 'blue', 'blue',\n",
       "       'blue', 'blue', 'blue', 'blue', 'blue', 'blue', 'blue', 'blue',\n",
       "       'blue', 'blue', 'blue', 'blue', 'blue', 'blue', 'blue', 'blue',\n",
       "       'blue', 'blue', 'blue', 'blue', 'blue', 'blue', 'blue', 'blue',\n",
       "       'blue', 'blue', 'blue', 'blue', 'blue', 'blue', 'blue', 'blue'],\n",
       "      dtype='<U4')"
      ]
     },
     "execution_count": 7,
     "metadata": {},
     "output_type": "execute_result"
    }
   ],
   "source": [
    "dummy_clf.predict(X_train)"
   ]
  },
  {
   "cell_type": "markdown",
   "metadata": {},
   "source": [
    "We can also now take the test score. "
   ]
  },
  {
   "cell_type": "code",
   "execution_count": 8,
   "metadata": {},
   "outputs": [
    {
     "data": {
      "text/plain": [
       "0.6125"
      ]
     },
     "execution_count": 8,
     "metadata": {},
     "output_type": "execute_result"
    }
   ],
   "source": [
    "dummy_clf.score(X_test, y_test)"
   ]
  },
  {
   "cell_type": "markdown",
   "metadata": {},
   "source": [
    "Here is a good example of when we occasionally have test scores better than the training scores.\n",
    "\n",
    "In this case, it's higher because our test split has a higher proportion of observations that are of class blue and so more of them will be predicted correctly."
   ]
  },
  {
   "cell_type": "markdown",
   "metadata": {},
   "source": [
    "Now if we build a decision tree, we can compare it to the baseline model score.\n",
    "\n",
    "Here we use crossvalidation to score the model although we are not tuning any hyperparameters.\n",
    "It is general a good idea to get into the habit of doing this for all models except baseline/dummy models,\n",
    "because the split can influence the model score (this is true to a much lesser extent for baseline models)"
   ]
  },
  {
   "cell_type": "code",
   "execution_count": 9,
   "metadata": {},
   "outputs": [
    {
     "data": {
      "text/plain": [
       "test_score     0.884375\n",
       "train_score    1.000000\n",
       "dtype: float64"
      ]
     },
     "execution_count": 9,
     "metadata": {},
     "output_type": "execute_result"
    }
   ],
   "source": [
    "from sklearn.tree import DecisionTreeClassifier\n",
    "\n",
    "\n",
    "dt_clf = DecisionTreeClassifier()\n",
    "\n",
    "scores = cross_validate(dt_clf, X_train, y_train, cv=10, return_train_score=True)\n",
    "pd.DataFrame(scores).mean()[-2:]"
   ]
  },
  {
   "cell_type": "code",
   "execution_count": 10,
   "metadata": {},
   "outputs": [
    {
     "data": {
      "text/plain": [
       "0.8875"
      ]
     },
     "execution_count": 10,
     "metadata": {},
     "output_type": "execute_result"
    }
   ],
   "source": [
    "dt_clf.fit(X_train, y_train)\n",
    "dt_clf.score(X_test, y_test)"
   ]
  },
  {
   "cell_type": "markdown",
   "metadata": {},
   "source": [
    "We can see that our decision tree is doing better than a model build on this simple \"most frequently\" occurring model. \n",
    "This makes us trust our model a little more\n",
    "and we know that it has identified some structure in the data that is more complicated than simply predicting the most common label.\n",
    "This is especially important if we have an unbalanced training data set with much more of one label than of another,\n",
    "but there are also more sophisticated strategies to handle that situation,\n",
    "which we will discuss later."
   ]
  },
  {
   "cell_type": "markdown",
   "metadata": {},
   "source": [
    "### Dummy Regressor\n",
    "\n",
    "For a Dummy regressor, the same principles can be applied but by using different strategies.\n",
    "\n",
    "[“mean”, “median”, “quantile”, “constant”](https://scikit-learn.org/stable/modules/generated/sklearn.dummy.DummyRegressor.html?highlight=dummyregressor)\n",
    "\n",
    "The one we are going to become most familiar with is:\n",
    "\n",
    "**Average (mean) target value:** always predicts the mean of the training set."
   ]
  },
  {
   "cell_type": "code",
   "execution_count": 11,
   "metadata": {},
   "outputs": [
    {
     "data": {
      "text/html": [
       "<div>\n",
       "<style scoped>\n",
       "    .dataframe tbody tr th:only-of-type {\n",
       "        vertical-align: middle;\n",
       "    }\n",
       "\n",
       "    .dataframe tbody tr th {\n",
       "        vertical-align: top;\n",
       "    }\n",
       "\n",
       "    .dataframe thead th {\n",
       "        text-align: right;\n",
       "    }\n",
       "</style>\n",
       "<table border=\"1\" class=\"dataframe\">\n",
       "  <thead>\n",
       "    <tr style=\"text-align: right;\">\n",
       "      <th></th>\n",
       "      <th>price</th>\n",
       "      <th>bedrooms</th>\n",
       "      <th>bathrooms</th>\n",
       "      <th>sqft_living</th>\n",
       "      <th>sqft_lot</th>\n",
       "      <th>floors</th>\n",
       "      <th>waterfront</th>\n",
       "      <th>view</th>\n",
       "      <th>condition</th>\n",
       "      <th>grade</th>\n",
       "      <th>sqft_above</th>\n",
       "      <th>sqft_basement</th>\n",
       "      <th>yr_built</th>\n",
       "      <th>yr_renovated</th>\n",
       "      <th>zipcode</th>\n",
       "      <th>lat</th>\n",
       "      <th>long</th>\n",
       "      <th>sqft_living15</th>\n",
       "      <th>sqft_lot15</th>\n",
       "    </tr>\n",
       "  </thead>\n",
       "  <tbody>\n",
       "    <tr>\n",
       "      <th>0</th>\n",
       "      <td>221900.0</td>\n",
       "      <td>3</td>\n",
       "      <td>1.00</td>\n",
       "      <td>1180</td>\n",
       "      <td>5650</td>\n",
       "      <td>1.0</td>\n",
       "      <td>0</td>\n",
       "      <td>0</td>\n",
       "      <td>3</td>\n",
       "      <td>7</td>\n",
       "      <td>1180</td>\n",
       "      <td>0</td>\n",
       "      <td>1955</td>\n",
       "      <td>0</td>\n",
       "      <td>98178</td>\n",
       "      <td>47.5112</td>\n",
       "      <td>-122.257</td>\n",
       "      <td>1340</td>\n",
       "      <td>5650</td>\n",
       "    </tr>\n",
       "    <tr>\n",
       "      <th>1</th>\n",
       "      <td>538000.0</td>\n",
       "      <td>3</td>\n",
       "      <td>2.25</td>\n",
       "      <td>2570</td>\n",
       "      <td>7242</td>\n",
       "      <td>2.0</td>\n",
       "      <td>0</td>\n",
       "      <td>0</td>\n",
       "      <td>3</td>\n",
       "      <td>7</td>\n",
       "      <td>2170</td>\n",
       "      <td>400</td>\n",
       "      <td>1951</td>\n",
       "      <td>1991</td>\n",
       "      <td>98125</td>\n",
       "      <td>47.7210</td>\n",
       "      <td>-122.319</td>\n",
       "      <td>1690</td>\n",
       "      <td>7639</td>\n",
       "    </tr>\n",
       "    <tr>\n",
       "      <th>2</th>\n",
       "      <td>180000.0</td>\n",
       "      <td>2</td>\n",
       "      <td>1.00</td>\n",
       "      <td>770</td>\n",
       "      <td>10000</td>\n",
       "      <td>1.0</td>\n",
       "      <td>0</td>\n",
       "      <td>0</td>\n",
       "      <td>3</td>\n",
       "      <td>6</td>\n",
       "      <td>770</td>\n",
       "      <td>0</td>\n",
       "      <td>1933</td>\n",
       "      <td>0</td>\n",
       "      <td>98028</td>\n",
       "      <td>47.7379</td>\n",
       "      <td>-122.233</td>\n",
       "      <td>2720</td>\n",
       "      <td>8062</td>\n",
       "    </tr>\n",
       "    <tr>\n",
       "      <th>3</th>\n",
       "      <td>604000.0</td>\n",
       "      <td>4</td>\n",
       "      <td>3.00</td>\n",
       "      <td>1960</td>\n",
       "      <td>5000</td>\n",
       "      <td>1.0</td>\n",
       "      <td>0</td>\n",
       "      <td>0</td>\n",
       "      <td>5</td>\n",
       "      <td>7</td>\n",
       "      <td>1050</td>\n",
       "      <td>910</td>\n",
       "      <td>1965</td>\n",
       "      <td>0</td>\n",
       "      <td>98136</td>\n",
       "      <td>47.5208</td>\n",
       "      <td>-122.393</td>\n",
       "      <td>1360</td>\n",
       "      <td>5000</td>\n",
       "    </tr>\n",
       "    <tr>\n",
       "      <th>4</th>\n",
       "      <td>510000.0</td>\n",
       "      <td>3</td>\n",
       "      <td>2.00</td>\n",
       "      <td>1680</td>\n",
       "      <td>8080</td>\n",
       "      <td>1.0</td>\n",
       "      <td>0</td>\n",
       "      <td>0</td>\n",
       "      <td>3</td>\n",
       "      <td>8</td>\n",
       "      <td>1680</td>\n",
       "      <td>0</td>\n",
       "      <td>1987</td>\n",
       "      <td>0</td>\n",
       "      <td>98074</td>\n",
       "      <td>47.6168</td>\n",
       "      <td>-122.045</td>\n",
       "      <td>1800</td>\n",
       "      <td>7503</td>\n",
       "    </tr>\n",
       "    <tr>\n",
       "      <th>...</th>\n",
       "      <td>...</td>\n",
       "      <td>...</td>\n",
       "      <td>...</td>\n",
       "      <td>...</td>\n",
       "      <td>...</td>\n",
       "      <td>...</td>\n",
       "      <td>...</td>\n",
       "      <td>...</td>\n",
       "      <td>...</td>\n",
       "      <td>...</td>\n",
       "      <td>...</td>\n",
       "      <td>...</td>\n",
       "      <td>...</td>\n",
       "      <td>...</td>\n",
       "      <td>...</td>\n",
       "      <td>...</td>\n",
       "      <td>...</td>\n",
       "      <td>...</td>\n",
       "      <td>...</td>\n",
       "    </tr>\n",
       "    <tr>\n",
       "      <th>21608</th>\n",
       "      <td>360000.0</td>\n",
       "      <td>3</td>\n",
       "      <td>2.50</td>\n",
       "      <td>1530</td>\n",
       "      <td>1131</td>\n",
       "      <td>3.0</td>\n",
       "      <td>0</td>\n",
       "      <td>0</td>\n",
       "      <td>3</td>\n",
       "      <td>8</td>\n",
       "      <td>1530</td>\n",
       "      <td>0</td>\n",
       "      <td>2009</td>\n",
       "      <td>0</td>\n",
       "      <td>98103</td>\n",
       "      <td>47.6993</td>\n",
       "      <td>-122.346</td>\n",
       "      <td>1530</td>\n",
       "      <td>1509</td>\n",
       "    </tr>\n",
       "    <tr>\n",
       "      <th>21609</th>\n",
       "      <td>400000.0</td>\n",
       "      <td>4</td>\n",
       "      <td>2.50</td>\n",
       "      <td>2310</td>\n",
       "      <td>5813</td>\n",
       "      <td>2.0</td>\n",
       "      <td>0</td>\n",
       "      <td>0</td>\n",
       "      <td>3</td>\n",
       "      <td>8</td>\n",
       "      <td>2310</td>\n",
       "      <td>0</td>\n",
       "      <td>2014</td>\n",
       "      <td>0</td>\n",
       "      <td>98146</td>\n",
       "      <td>47.5107</td>\n",
       "      <td>-122.362</td>\n",
       "      <td>1830</td>\n",
       "      <td>7200</td>\n",
       "    </tr>\n",
       "    <tr>\n",
       "      <th>21610</th>\n",
       "      <td>402101.0</td>\n",
       "      <td>2</td>\n",
       "      <td>0.75</td>\n",
       "      <td>1020</td>\n",
       "      <td>1350</td>\n",
       "      <td>2.0</td>\n",
       "      <td>0</td>\n",
       "      <td>0</td>\n",
       "      <td>3</td>\n",
       "      <td>7</td>\n",
       "      <td>1020</td>\n",
       "      <td>0</td>\n",
       "      <td>2009</td>\n",
       "      <td>0</td>\n",
       "      <td>98144</td>\n",
       "      <td>47.5944</td>\n",
       "      <td>-122.299</td>\n",
       "      <td>1020</td>\n",
       "      <td>2007</td>\n",
       "    </tr>\n",
       "    <tr>\n",
       "      <th>21611</th>\n",
       "      <td>400000.0</td>\n",
       "      <td>3</td>\n",
       "      <td>2.50</td>\n",
       "      <td>1600</td>\n",
       "      <td>2388</td>\n",
       "      <td>2.0</td>\n",
       "      <td>0</td>\n",
       "      <td>0</td>\n",
       "      <td>3</td>\n",
       "      <td>8</td>\n",
       "      <td>1600</td>\n",
       "      <td>0</td>\n",
       "      <td>2004</td>\n",
       "      <td>0</td>\n",
       "      <td>98027</td>\n",
       "      <td>47.5345</td>\n",
       "      <td>-122.069</td>\n",
       "      <td>1410</td>\n",
       "      <td>1287</td>\n",
       "    </tr>\n",
       "    <tr>\n",
       "      <th>21612</th>\n",
       "      <td>325000.0</td>\n",
       "      <td>2</td>\n",
       "      <td>0.75</td>\n",
       "      <td>1020</td>\n",
       "      <td>1076</td>\n",
       "      <td>2.0</td>\n",
       "      <td>0</td>\n",
       "      <td>0</td>\n",
       "      <td>3</td>\n",
       "      <td>7</td>\n",
       "      <td>1020</td>\n",
       "      <td>0</td>\n",
       "      <td>2008</td>\n",
       "      <td>0</td>\n",
       "      <td>98144</td>\n",
       "      <td>47.5941</td>\n",
       "      <td>-122.299</td>\n",
       "      <td>1020</td>\n",
       "      <td>1357</td>\n",
       "    </tr>\n",
       "  </tbody>\n",
       "</table>\n",
       "<p>21613 rows × 19 columns</p>\n",
       "</div>"
      ],
      "text/plain": [
       "          price  bedrooms  bathrooms  sqft_living  sqft_lot  floors  \\\n",
       "0      221900.0         3       1.00         1180      5650     1.0   \n",
       "1      538000.0         3       2.25         2570      7242     2.0   \n",
       "2      180000.0         2       1.00          770     10000     1.0   \n",
       "3      604000.0         4       3.00         1960      5000     1.0   \n",
       "4      510000.0         3       2.00         1680      8080     1.0   \n",
       "...         ...       ...        ...          ...       ...     ...   \n",
       "21608  360000.0         3       2.50         1530      1131     3.0   \n",
       "21609  400000.0         4       2.50         2310      5813     2.0   \n",
       "21610  402101.0         2       0.75         1020      1350     2.0   \n",
       "21611  400000.0         3       2.50         1600      2388     2.0   \n",
       "21612  325000.0         2       0.75         1020      1076     2.0   \n",
       "\n",
       "       waterfront  view  condition  grade  sqft_above  sqft_basement  \\\n",
       "0               0     0          3      7        1180              0   \n",
       "1               0     0          3      7        2170            400   \n",
       "2               0     0          3      6         770              0   \n",
       "3               0     0          5      7        1050            910   \n",
       "4               0     0          3      8        1680              0   \n",
       "...           ...   ...        ...    ...         ...            ...   \n",
       "21608           0     0          3      8        1530              0   \n",
       "21609           0     0          3      8        2310              0   \n",
       "21610           0     0          3      7        1020              0   \n",
       "21611           0     0          3      8        1600              0   \n",
       "21612           0     0          3      7        1020              0   \n",
       "\n",
       "       yr_built  yr_renovated  zipcode      lat     long  sqft_living15  \\\n",
       "0          1955             0    98178  47.5112 -122.257           1340   \n",
       "1          1951          1991    98125  47.7210 -122.319           1690   \n",
       "2          1933             0    98028  47.7379 -122.233           2720   \n",
       "3          1965             0    98136  47.5208 -122.393           1360   \n",
       "4          1987             0    98074  47.6168 -122.045           1800   \n",
       "...         ...           ...      ...      ...      ...            ...   \n",
       "21608      2009             0    98103  47.6993 -122.346           1530   \n",
       "21609      2014             0    98146  47.5107 -122.362           1830   \n",
       "21610      2009             0    98144  47.5944 -122.299           1020   \n",
       "21611      2004             0    98027  47.5345 -122.069           1410   \n",
       "21612      2008             0    98144  47.5941 -122.299           1020   \n",
       "\n",
       "       sqft_lot15  \n",
       "0            5650  \n",
       "1            7639  \n",
       "2            8062  \n",
       "3            5000  \n",
       "4            7503  \n",
       "...           ...  \n",
       "21608        1509  \n",
       "21609        7200  \n",
       "21610        2007  \n",
       "21611        1287  \n",
       "21612        1357  \n",
       "\n",
       "[21613 rows x 19 columns]"
      ]
     },
     "execution_count": 11,
     "metadata": {},
     "output_type": "execute_result"
    }
   ],
   "source": [
    "house_df = pd.read_csv(\"data/kc_house_data.csv\")\n",
    "house_df = house_df.drop(columns=[\"id\", \"date\"])\n",
    "house_df"
   ]
  },
  {
   "cell_type": "markdown",
   "metadata": {},
   "source": [
    "Let get our `X` and `y` objects and split our data. "
   ]
  },
  {
   "cell_type": "code",
   "execution_count": 12,
   "metadata": {},
   "outputs": [],
   "source": [
    "X = house_df.drop(columns=[\"price\"])\n",
    "y = house_df[\"price\"]"
   ]
  },
  {
   "cell_type": "markdown",
   "metadata": {},
   "source": [
    "We still need to make sure we split our data with baseline models."
   ]
  },
  {
   "cell_type": "code",
   "execution_count": 13,
   "metadata": {},
   "outputs": [],
   "source": [
    "X_train, X_test, y_train, y_test = train_test_split(\n",
    "    X, y, test_size=0.2, random_state=123)"
   ]
  },
  {
   "cell_type": "markdown",
   "metadata": {},
   "source": [
    "we need to import `DummyRegressor` and construct our model. \n",
    "\n",
    "We specify `strategy=\"mean\"` however this is the default value so technically we don't need to specify this. \n",
    "\n",
    "We train our model and again, it's not needed to cross-validate for this type of algorithm. "
   ]
  },
  {
   "cell_type": "code",
   "execution_count": 14,
   "metadata": {},
   "outputs": [
    {
     "data": {
      "text/plain": [
       "DummyRegressor()"
      ]
     },
     "execution_count": 14,
     "metadata": {},
     "output_type": "execute_result"
    }
   ],
   "source": [
    "from sklearn.dummy import DummyRegressor\n",
    "\n",
    "\n",
    "dummy_reg = DummyRegressor(strategy=\"mean\")\n",
    "dummy_reg.fit(X_train,y_train)"
   ]
  },
  {
   "cell_type": "markdown",
   "metadata": {},
   "source": [
    "If we predict on our training data, we see it's making the same prediction for each observation. "
   ]
  },
  {
   "cell_type": "code",
   "execution_count": 15,
   "metadata": {},
   "outputs": [
    {
     "data": {
      "text/plain": [
       "array([539306.46784268, 539306.46784268, 539306.46784268, ...,\n",
       "       539306.46784268, 539306.46784268, 539306.46784268])"
      ]
     },
     "execution_count": 15,
     "metadata": {},
     "output_type": "execute_result"
    }
   ],
   "source": [
    "dummy_reg.predict(X_train)"
   ]
  },
  {
   "cell_type": "markdown",
   "metadata": {},
   "source": [
    "if we compare the mean value of the target, we see that our model is simply predicting the average of the training data which is exactly what we expect. "
   ]
  },
  {
   "cell_type": "code",
   "execution_count": 16,
   "metadata": {},
   "outputs": [
    {
     "data": {
      "text/plain": [
       "539306.4678426837"
      ]
     },
     "execution_count": 16,
     "metadata": {},
     "output_type": "execute_result"
    }
   ],
   "source": [
    "y_train.mean()"
   ]
  },
  {
   "cell_type": "markdown",
   "metadata": {},
   "source": [
    "How well does it do? "
   ]
  },
  {
   "cell_type": "code",
   "execution_count": 17,
   "metadata": {},
   "outputs": [
    {
     "data": {
      "text/plain": [
       "0.0"
      ]
     },
     "execution_count": 17,
     "metadata": {},
     "output_type": "execute_result"
    }
   ],
   "source": [
    "dummy_reg.score(X_train, y_train)"
   ]
  },
  {
   "cell_type": "markdown",
   "metadata": {},
   "source": [
    "We get an $R^2$ value of 0.0. \n",
    "\n",
    "When a model has an  $R^2$=0 that means that the model is doing no better than a model that using the mean which is exactly the case here. "
   ]
  },
  {
   "cell_type": "markdown",
   "metadata": {},
   "source": [
    "Looking at the test score we see that our model get's a slightly negative value,\n",
    "which means that it is doing a little worse than constantly predicting the mean of the test data."
   ]
  },
  {
   "cell_type": "code",
   "execution_count": 18,
   "metadata": {},
   "outputs": [
    {
     "data": {
      "text/plain": [
       "-0.00010814646015933072"
      ]
     },
     "execution_count": 18,
     "metadata": {},
     "output_type": "execute_result"
    }
   ],
   "source": [
    "dummy_reg.score(X_test, y_test)"
   ]
  },
  {
   "cell_type": "markdown",
   "metadata": {},
   "source": [
    "## Let's Practice \n",
    "\n",
    "1\\. Below we have the output of `y_train.value_counts()`\n",
    "\n",
    "```\n",
    "Position\n",
    "Forward     13\n",
    "Defense      7\n",
    "Goalie       2\n",
    "dtype: int64\n",
    "```\n",
    "\n",
    "In this scenario, what would a `DummyClassifier(strategy='most_frequent')` model predict on the following observation: \n",
    "\n",
    "\n",
    "```\n",
    "   No.  Age  Height  Weight  Experience     Salary\n",
    "1   83   34     191     210          11  3200000.0\n",
    "```\n",
    "\n",
    "2\\. When using a regression model, which of the following is not a possible return value from .score(X,y) ?\n",
    "\n",
    "a) 0.0    \n",
    "b) 1.0    \n",
    "c) -0.1    \n",
    "d) 1.5    \n",
    "    \n",
    "    \n",
    "3\\.  Below are the values for `y` that were used to train  `DummyRegressor(strategy='mean')`:\n",
    "\n",
    "```\n",
    "Grade\n",
    "0     75\n",
    "1     80\n",
    "2     90\n",
    "3     95\n",
    "4     85\n",
    "dtype: int64\n",
    "```\n",
    "\n",
    "What value will the model predict for every example?\n"
   ]
  },
  {
   "cell_type": "markdown",
   "metadata": {},
   "source": [
    "```{admonition} Solutions!\n",
    ":class: dropdown\n",
    "\n",
    "1. `Forward`\n",
    "2. d) 1.5\n",
    "3. 85\n",
    "```"
   ]
  },
  {
   "cell_type": "markdown",
   "metadata": {},
   "source": [
    "## Similarity/analogy-based models\n",
    "\n",
    "Let's switch topics from baseline models and talked about the concept of similarity based models.\n",
    "\n",
    "Suppose you are given the following training images with the corresponding actor's name as the label.\n",
    "Then we are given an unseen test images of the same actors but from different angles and are asked to label a given test example.\n",
    "\n",
    "An intuitive way to classify the test example is by finding the most \"similar\" example from the training images and use that label for the test example.  \n",
    "\n",
    "<img src='imgs/knn-motivation.png' width=\"100%\">"
   ]
  },
  {
   "cell_type": "markdown",
   "metadata": {},
   "source": [
    "#### Example: \n",
    "\n",
    "Suppose we are given many images and their labels.\n",
    "\n",
    "`X` = set of pictures \n",
    "\n",
    "`y` = names associated with those pictures. \n",
    "\n",
    "Then we are given a new unseen test example, a picture in this particular case.\n",
    "\n",
    "\n",
    "<img src='imgs/test_pic.png' width=\"5%\">\n",
    "\n",
    "\n",
    "We want to find out the label for this new test picture. \n",
    "\n",
    "Naturally, we would try and find the most similar picture in our training set and using the label of the most similar picture as the label of this new test example. \n",
    "\n",
    "That's the basic idea behind similarity/analogy-based algorithms.\n",
    "\n",
    "This is different from Decision trees, where we tried to learn a set of rules/conditions to label observations correctly."
   ]
  },
  {
   "cell_type": "markdown",
   "metadata": {},
   "source": [
    "### Similarity/Analogy-based models in real life\n",
    "\n",
    "\n",
    "- <a href=\"https://www.hertasecurity.com/en\" target=\"_blank\">Herta's High-tech Facial Recognition</a>\n",
    "\n",
    "<img src=\"imgs/face_rec.png\"  width = \"20%\" alt=\"404 image\" />\n",
    "\n",
    "- Recommendation systems \n",
    "\n",
    "<img src=\"imgs/book_rec.png\"  width = \"90%\" alt=\"404 image\" />"
   ]
  },
  {
   "cell_type": "markdown",
   "metadata": {},
   "source": [
    "## Terminology \n",
    "\n",
    "In analogy-based algorithms, our goal is to come up with a way to find similarities between examples.\n",
    "\"similarity\" is a bit ambiguous so we need some terminology.\n",
    "\n",
    "\n",
    "- data: think of observations (rows) as points in a high dimensional space. \n",
    "- Each feature: Additional dimension. \n",
    "\n",
    "\n",
    "\n",
    "\n",
    "\n",
    "<img src=\"imgs/3d-table.png\"  width = \"60%\" alt=\"404 image\" />\n",
    "\n",
    "Above we have: \n",
    "- Three features; speed attack and defense. \n",
    "- 7 points in this three-dimensional space.\n",
    "\n",
    "Let's go back to our Canada/USA cities dataset. "
   ]
  },
  {
   "cell_type": "code",
   "execution_count": 19,
   "metadata": {},
   "outputs": [
    {
     "data": {
      "text/html": [
       "<div>\n",
       "<style scoped>\n",
       "    .dataframe tbody tr th:only-of-type {\n",
       "        vertical-align: middle;\n",
       "    }\n",
       "\n",
       "    .dataframe tbody tr th {\n",
       "        vertical-align: top;\n",
       "    }\n",
       "\n",
       "    .dataframe thead th {\n",
       "        text-align: right;\n",
       "    }\n",
       "</style>\n",
       "<table border=\"1\" class=\"dataframe\">\n",
       "  <thead>\n",
       "    <tr style=\"text-align: right;\">\n",
       "      <th></th>\n",
       "      <th>longitude</th>\n",
       "      <th>latitude</th>\n",
       "      <th>country</th>\n",
       "    </tr>\n",
       "  </thead>\n",
       "  <tbody>\n",
       "    <tr>\n",
       "      <th>160</th>\n",
       "      <td>-76.4813</td>\n",
       "      <td>44.2307</td>\n",
       "      <td>Canada</td>\n",
       "    </tr>\n",
       "    <tr>\n",
       "      <th>127</th>\n",
       "      <td>-81.2496</td>\n",
       "      <td>42.9837</td>\n",
       "      <td>Canada</td>\n",
       "    </tr>\n",
       "    <tr>\n",
       "      <th>169</th>\n",
       "      <td>-66.0580</td>\n",
       "      <td>45.2788</td>\n",
       "      <td>Canada</td>\n",
       "    </tr>\n",
       "    <tr>\n",
       "      <th>188</th>\n",
       "      <td>-73.2533</td>\n",
       "      <td>45.3057</td>\n",
       "      <td>Canada</td>\n",
       "    </tr>\n",
       "    <tr>\n",
       "      <th>187</th>\n",
       "      <td>-67.9245</td>\n",
       "      <td>47.1652</td>\n",
       "      <td>Canada</td>\n",
       "    </tr>\n",
       "    <tr>\n",
       "      <th>...</th>\n",
       "      <td>...</td>\n",
       "      <td>...</td>\n",
       "      <td>...</td>\n",
       "    </tr>\n",
       "    <tr>\n",
       "      <th>17</th>\n",
       "      <td>-76.3305</td>\n",
       "      <td>44.1255</td>\n",
       "      <td>USA</td>\n",
       "    </tr>\n",
       "    <tr>\n",
       "      <th>98</th>\n",
       "      <td>-74.7287</td>\n",
       "      <td>45.0184</td>\n",
       "      <td>Canada</td>\n",
       "    </tr>\n",
       "    <tr>\n",
       "      <th>66</th>\n",
       "      <td>-121.4944</td>\n",
       "      <td>38.5816</td>\n",
       "      <td>USA</td>\n",
       "    </tr>\n",
       "    <tr>\n",
       "      <th>126</th>\n",
       "      <td>-79.5656</td>\n",
       "      <td>43.6436</td>\n",
       "      <td>Canada</td>\n",
       "    </tr>\n",
       "    <tr>\n",
       "      <th>109</th>\n",
       "      <td>-66.9195</td>\n",
       "      <td>44.8938</td>\n",
       "      <td>Canada</td>\n",
       "    </tr>\n",
       "  </tbody>\n",
       "</table>\n",
       "<p>167 rows × 3 columns</p>\n",
       "</div>"
      ],
      "text/plain": [
       "     longitude  latitude country\n",
       "160   -76.4813   44.2307  Canada\n",
       "127   -81.2496   42.9837  Canada\n",
       "169   -66.0580   45.2788  Canada\n",
       "188   -73.2533   45.3057  Canada\n",
       "187   -67.9245   47.1652  Canada\n",
       "..         ...       ...     ...\n",
       "17    -76.3305   44.1255     USA\n",
       "98    -74.7287   45.0184  Canada\n",
       "66   -121.4944   38.5816     USA\n",
       "126   -79.5656   43.6436  Canada\n",
       "109   -66.9195   44.8938  Canada\n",
       "\n",
       "[167 rows x 3 columns]"
      ]
     },
     "execution_count": 19,
     "metadata": {},
     "output_type": "execute_result"
    }
   ],
   "source": [
    "cities_df = pd.read_csv(\"data/canada_usa_cities.csv\")\n",
    "cities_train_df, cities_test_df = train_test_split(cities_df, test_size=0.2, random_state=123)\n",
    "cities_train_df"
   ]
  },
  {
   "cell_type": "markdown",
   "metadata": {},
   "source": [
    "We have 2 features, so 2 dimensions (`longitude` and `latitude`)  and 167 points.\n",
    "Visualizing this in 2 dimensions gives us the following: "
   ]
  },
  {
   "cell_type": "code",
   "execution_count": 20,
   "metadata": {},
   "outputs": [
    {
     "data": {
      "text/html": [
       "\n",
       "<div id=\"altair-viz-95d26a72a560425a9875f4921be0e45f\"></div>\n",
       "<script type=\"text/javascript\">\n",
       "  var VEGA_DEBUG = (typeof VEGA_DEBUG == \"undefined\") ? {} : VEGA_DEBUG;\n",
       "  (function(spec, embedOpt){\n",
       "    let outputDiv = document.currentScript.previousElementSibling;\n",
       "    if (outputDiv.id !== \"altair-viz-95d26a72a560425a9875f4921be0e45f\") {\n",
       "      outputDiv = document.getElementById(\"altair-viz-95d26a72a560425a9875f4921be0e45f\");\n",
       "    }\n",
       "    const paths = {\n",
       "      \"vega\": \"https://cdn.jsdelivr.net/npm//vega@5?noext\",\n",
       "      \"vega-lib\": \"https://cdn.jsdelivr.net/npm//vega-lib?noext\",\n",
       "      \"vega-lite\": \"https://cdn.jsdelivr.net/npm//vega-lite@4.17.0?noext\",\n",
       "      \"vega-embed\": \"https://cdn.jsdelivr.net/npm//vega-embed@6?noext\",\n",
       "    };\n",
       "\n",
       "    function maybeLoadScript(lib, version) {\n",
       "      var key = `${lib.replace(\"-\", \"\")}_version`;\n",
       "      return (VEGA_DEBUG[key] == version) ?\n",
       "        Promise.resolve(paths[lib]) :\n",
       "        new Promise(function(resolve, reject) {\n",
       "          var s = document.createElement('script');\n",
       "          document.getElementsByTagName(\"head\")[0].appendChild(s);\n",
       "          s.async = true;\n",
       "          s.onload = () => {\n",
       "            VEGA_DEBUG[key] = version;\n",
       "            return resolve(paths[lib]);\n",
       "          };\n",
       "          s.onerror = () => reject(`Error loading script: ${paths[lib]}`);\n",
       "          s.src = paths[lib];\n",
       "        });\n",
       "    }\n",
       "\n",
       "    function showError(err) {\n",
       "      outputDiv.innerHTML = `<div class=\"error\" style=\"color:red;\">${err}</div>`;\n",
       "      throw err;\n",
       "    }\n",
       "\n",
       "    function displayChart(vegaEmbed) {\n",
       "      vegaEmbed(outputDiv, spec, embedOpt)\n",
       "        .catch(err => showError(`Javascript Error: ${err.message}<br>This usually means there's a typo in your chart specification. See the javascript console for the full traceback.`));\n",
       "    }\n",
       "\n",
       "    if(typeof define === \"function\" && define.amd) {\n",
       "      requirejs.config({paths});\n",
       "      require([\"vega-embed\"], displayChart, err => showError(`Error loading script: ${err.message}`));\n",
       "    } else {\n",
       "      maybeLoadScript(\"vega\", \"5\")\n",
       "        .then(() => maybeLoadScript(\"vega-lite\", \"4.17.0\"))\n",
       "        .then(() => maybeLoadScript(\"vega-embed\", \"6\"))\n",
       "        .catch(showError)\n",
       "        .then(() => displayChart(vegaEmbed));\n",
       "    }\n",
       "  })({\"config\": {\"view\": {\"continuousWidth\": 400, \"continuousHeight\": 300}}, \"data\": {\"name\": \"data-66158384001fb6a73b6445c49f67d5ce\"}, \"mark\": {\"type\": \"circle\", \"opacity\": 0.6, \"size\": 20}, \"encoding\": {\"color\": {\"field\": \"country\", \"scale\": {\"domain\": [\"Canada\", \"USA\"], \"range\": [\"red\", \"blue\"]}, \"type\": \"nominal\"}, \"x\": {\"field\": \"longitude\", \"scale\": {\"domain\": [-140, -40]}, \"type\": \"quantitative\"}, \"y\": {\"field\": \"latitude\", \"scale\": {\"domain\": [20, 60]}, \"type\": \"quantitative\"}}, \"$schema\": \"https://vega.github.io/schema/vega-lite/v4.17.0.json\", \"datasets\": {\"data-66158384001fb6a73b6445c49f67d5ce\": [{\"longitude\": -76.4813, \"latitude\": 44.2307, \"country\": \"Canada\"}, {\"longitude\": -81.2496, \"latitude\": 42.9837, \"country\": \"Canada\"}, {\"longitude\": -66.058, \"latitude\": 45.2788, \"country\": \"Canada\"}, {\"longitude\": -73.2533, \"latitude\": 45.3057, \"country\": \"Canada\"}, {\"longitude\": -67.9245, \"latitude\": 47.1652, \"country\": \"Canada\"}, {\"longitude\": -120.3394, \"latitude\": 50.6758, \"country\": \"Canada\"}, {\"longitude\": -106.651, \"latitude\": 35.0841, \"country\": \"USA\"}, {\"longitude\": -79.6902, \"latitude\": 44.3893, \"country\": \"Canada\"}, {\"longitude\": -84.3201, \"latitude\": 46.5239, \"country\": \"Canada\"}, {\"longitude\": -98.4951, \"latitude\": 29.4246, \"country\": \"USA\"}, {\"longitude\": -77.0366, \"latitude\": 38.895, \"country\": \"USA\"}, {\"longitude\": -93.3968, \"latitude\": 48.6114, \"country\": \"Canada\"}, {\"longitude\": -67.2799, \"latitude\": 45.2004, \"country\": \"Canada\"}, {\"longitude\": -122.8565, \"latitude\": 49.3144, \"country\": \"Canada\"}, {\"longitude\": -63.572, \"latitude\": 44.68, \"country\": \"Canada\"}, {\"longitude\": -68.3219, \"latitude\": 47.3556, \"country\": \"USA\"}, {\"longitude\": -97.1385, \"latitude\": 49.8955, \"country\": \"Canada\"}, {\"longitude\": -122.3295, \"latitude\": 49.0521, \"country\": \"Canada\"}, {\"longitude\": -87.6244, \"latitude\": 41.8756, \"country\": \"USA\"}, {\"longitude\": -68.5897, \"latitude\": 47.2587, \"country\": \"USA\"}, {\"longitude\": -73.4467, \"latitude\": 45.5172, \"country\": \"Canada\"}, {\"longitude\": -63.5859, \"latitude\": 44.6486, \"country\": \"Canada\"}, {\"longitude\": -97.7437, \"latitude\": 30.2711, \"country\": \"USA\"}, {\"longitude\": -79.0247, \"latitude\": 43.8504, \"country\": \"Canada\"}, {\"longitude\": -111.9639, \"latitude\": 49.0017, \"country\": \"Canada\"}, {\"longitude\": -129.9912, \"latitude\": 55.9383, \"country\": \"Canada\"}, {\"longitude\": -78.9186, \"latitude\": 42.9131, \"country\": \"Canada\"}, {\"longitude\": -71.7985, \"latitude\": 45.0126, \"country\": \"Canada\"}, {\"longitude\": -95.9929, \"latitude\": 36.1557, \"country\": \"USA\"}, {\"longitude\": -123.0833, \"latitude\": 49.0167, \"country\": \"Canada\"}, {\"longitude\": -94.5648, \"latitude\": 48.7227, \"country\": \"Canada\"}, {\"longitude\": -118.7148, \"latitude\": 50.4165, \"country\": \"Canada\"}, {\"longitude\": -97.2049, \"latitude\": 48.9988, \"country\": \"USA\"}, {\"longitude\": -122.7933, \"latitude\": 49.2843, \"country\": \"Canada\"}, {\"longitude\": -97.1056, \"latitude\": 32.7019, \"country\": \"USA\"}, {\"longitude\": -72.5565, \"latitude\": 46.3327, \"country\": \"Canada\"}, {\"longitude\": -75.1635, \"latitude\": 39.9527, \"country\": \"USA\"}, {\"longitude\": -110.9748, \"latitude\": 32.2229, \"country\": \"USA\"}, {\"longitude\": -67.2781, \"latitude\": 45.189, \"country\": \"USA\"}, {\"longitude\": -83.0466, \"latitude\": 42.3316, \"country\": \"USA\"}, {\"longitude\": -79.7599, \"latitude\": 43.6858, \"country\": \"Canada\"}, {\"longitude\": -84.3201, \"latitude\": 46.5239, \"country\": \"Canada\"}, {\"longitude\": -106.6608, \"latitude\": 52.1318, \"country\": \"Canada\"}, {\"longitude\": -83.0007, \"latitude\": 39.9623, \"country\": \"USA\"}, {\"longitude\": -75.7106, \"latitude\": 45.4284, \"country\": \"Canada\"}, {\"longitude\": -52.7151, \"latitude\": 47.5617, \"country\": \"Canada\"}, {\"longitude\": -113.508, \"latitude\": 53.5354, \"country\": \"Canada\"}, {\"longitude\": -76.6108, \"latitude\": 39.2909, \"country\": \"USA\"}, {\"longitude\": -97.5533, \"latitude\": 48.7531, \"country\": \"USA\"}, {\"longitude\": -66.9843, \"latitude\": 44.8607, \"country\": \"USA\"}, {\"longitude\": -113.8184, \"latitude\": 52.2698, \"country\": \"Canada\"}, {\"longitude\": -113.2966, \"latitude\": 53.5257, \"country\": \"Canada\"}, {\"longitude\": -79.4394, \"latitude\": 43.8801, \"country\": \"Canada\"}, {\"longitude\": -66.9905, \"latitude\": 44.9065, \"country\": \"USA\"}, {\"longitude\": -112.0741, \"latitude\": 33.4484, \"country\": \"USA\"}, {\"longitude\": -130.0437, \"latitude\": 55.9773, \"country\": \"USA\"}, {\"longitude\": -75.7887, \"latitude\": 45.3113, \"country\": \"Canada\"}, {\"longitude\": -80.8431, \"latitude\": 35.2272, \"country\": \"USA\"}, {\"longitude\": -79.6667, \"latitude\": 43.4474, \"country\": \"Canada\"}, {\"longitude\": -121.8906, \"latitude\": 37.3362, \"country\": \"USA\"}, {\"longitude\": -85.7039, \"latitude\": 38.2092, \"country\": \"USA\"}, {\"longitude\": -73.6515, \"latitude\": 45.7081, \"country\": \"Canada\"}, {\"longitude\": -122.4199, \"latitude\": 37.779, \"country\": \"USA\"}, {\"longitude\": -79.4109, \"latitude\": 43.7615, \"country\": \"Canada\"}, {\"longitude\": -67.9245, \"latitude\": 47.1652, \"country\": \"Canada\"}, {\"longitude\": -111.9626, \"latitude\": 48.9971, \"country\": \"USA\"}, {\"longitude\": -79.0359, \"latitude\": 43.1726, \"country\": \"USA\"}, {\"longitude\": -73.6875, \"latitude\": 45.5089, \"country\": \"Canada\"}, {\"longitude\": -111.8315, \"latitude\": 33.4151, \"country\": \"USA\"}, {\"longitude\": -114.0626, \"latitude\": 51.0534, \"country\": \"Canada\"}, {\"longitude\": -73.6289, \"latitude\": 45.468, \"country\": \"Canada\"}, {\"longitude\": -75.9774, \"latitude\": 36.853, \"country\": \"USA\"}, {\"longitude\": -79.3839, \"latitude\": 43.6535, \"country\": \"Canada\"}, {\"longitude\": -87.9225, \"latitude\": 43.035, \"country\": \"USA\"}, {\"longitude\": -72.7218, \"latitude\": 45.399, \"country\": \"Canada\"}, {\"longitude\": -117.1628, \"latitude\": 32.7174, \"country\": \"USA\"}, {\"longitude\": -67.4297, \"latitude\": 45.5634, \"country\": \"USA\"}, {\"longitude\": -83.0466, \"latitude\": 42.3316, \"country\": \"USA\"}, {\"longitude\": -123.1374, \"latitude\": 49.1632, \"country\": \"Canada\"}, {\"longitude\": -119.4983, \"latitude\": 49.8893, \"country\": \"Canada\"}, {\"longitude\": -79.8729, \"latitude\": 43.2561, \"country\": \"Canada\"}, {\"longitude\": -122.5997, \"latitude\": 49.2197, \"country\": \"Canada\"}, {\"longitude\": -80.2632, \"latitude\": 43.1408, \"country\": \"Canada\"}, {\"longitude\": -79.2441, \"latitude\": 43.158, \"country\": \"Canada\"}, {\"longitude\": -97.2089, \"latitude\": 49.0061, \"country\": \"Canada\"}, {\"longitude\": -94.6002, \"latitude\": 48.7124, \"country\": \"USA\"}, {\"longitude\": -102.5496, \"latitude\": 48.9959, \"country\": \"USA\"}, {\"longitude\": -83.0353, \"latitude\": 42.3171, \"country\": \"Canada\"}, {\"longitude\": -71.889, \"latitude\": 45.4033, \"country\": \"Canada\"}, {\"longitude\": -66.6458, \"latitude\": 45.9664, \"country\": \"Canada\"}, {\"longitude\": -71.0692, \"latitude\": 48.406, \"country\": \"Canada\"}, {\"longitude\": -84.3902, \"latitude\": 33.7491, \"country\": \"USA\"}, {\"longitude\": -122.7436, \"latitude\": 48.9881, \"country\": \"USA\"}, {\"longitude\": -102.548, \"latitude\": 49.0014, \"country\": \"Canada\"}, {\"longitude\": -104.6173, \"latitude\": 50.4488, \"country\": \"Canada\"}, {\"longitude\": -122.3301, \"latitude\": 47.6038, \"country\": \"USA\"}, {\"longitude\": -123.114, \"latitude\": 49.2609, \"country\": \"Canada\"}, {\"longitude\": -71.0583, \"latitude\": 42.3603, \"country\": \"USA\"}, {\"longitude\": -134.4197, \"latitude\": 58.3019, \"country\": \"USA\"}, {\"longitude\": -75.4864, \"latitude\": 44.6943, \"country\": \"USA\"}, {\"longitude\": -82.4405, \"latitude\": 42.9816, \"country\": \"USA\"}, {\"longitude\": -71.3998, \"latitude\": 46.8884, \"country\": \"Canada\"}, {\"longitude\": -122.6742, \"latitude\": 45.5202, \"country\": \"USA\"}, {\"longitude\": -67.9353, \"latitude\": 47.1575, \"country\": \"USA\"}, {\"longitude\": -69.265, \"latitude\": 47.5052, \"country\": \"Canada\"}, {\"longitude\": -97.3327, \"latitude\": 32.7532, \"country\": \"USA\"}, {\"longitude\": -123.365, \"latitude\": 48.4283, \"country\": \"Canada\"}, {\"longitude\": -68.3281, \"latitude\": 47.3644, \"country\": \"Canada\"}, {\"longitude\": -78.8784, \"latitude\": 42.8867, \"country\": \"USA\"}, {\"longitude\": -79.5268, \"latitude\": 43.7942, \"country\": \"Canada\"}, {\"longitude\": -79.6457, \"latitude\": 43.5903, \"country\": \"Canada\"}, {\"longitude\": -79.4608, \"latitude\": 46.3092, \"country\": \"Canada\"}, {\"longitude\": -95.9384, \"latitude\": 41.2587, \"country\": \"USA\"}, {\"longitude\": -79.0615, \"latitude\": 43.0844, \"country\": \"USA\"}, {\"longitude\": -79.7967, \"latitude\": 43.3249, \"country\": \"Canada\"}, {\"longitude\": -69.2275, \"latitude\": 47.4562, \"country\": \"USA\"}, {\"longitude\": -123.0833, \"latitude\": 49.0833, \"country\": \"Canada\"}, {\"longitude\": -90.0516, \"latitude\": 35.149, \"country\": \"USA\"}, {\"longitude\": -122.2714, \"latitude\": 37.8045, \"country\": \"USA\"}, {\"longitude\": -119.7848, \"latitude\": 36.7394, \"country\": \"USA\"}, {\"longitude\": -104.8253, \"latitude\": 38.834, \"country\": \"USA\"}, {\"longitude\": -74.0132, \"latitude\": 45.7754, \"country\": \"Canada\"}, {\"longitude\": -79.3377, \"latitude\": 43.8564, \"country\": \"Canada\"}, {\"longitude\": -93.2655, \"latitude\": 44.9773, \"country\": \"USA\"}, {\"longitude\": -95.3677, \"latitude\": 29.7589, \"country\": \"USA\"}, {\"longitude\": -80.3123, \"latitude\": 43.3601, \"country\": \"Canada\"}, {\"longitude\": -79.1153, \"latitude\": 43.101, \"country\": \"Canada\"}, {\"longitude\": -79.7599, \"latitude\": 43.6858, \"country\": \"Canada\"}, {\"longitude\": -75.5192, \"latitude\": 44.7184, \"country\": \"Canada\"}, {\"longitude\": -68.6034, \"latitude\": 47.2527, \"country\": \"Canada\"}, {\"longitude\": -83.0353, \"latitude\": 42.3171, \"country\": \"Canada\"}, {\"longitude\": -73.7344, \"latitude\": 45.6056, \"country\": \"Canada\"}, {\"longitude\": -72.0968, \"latitude\": 45.0072, \"country\": \"Canada\"}, {\"longitude\": -67.5735, \"latitude\": 46.1503, \"country\": \"Canada\"}, {\"longitude\": -80.4944, \"latitude\": 43.4532, \"country\": \"Canada\"}, {\"longitude\": -79.1153, \"latitude\": 43.101, \"country\": \"Canada\"}, {\"longitude\": -110.679, \"latitude\": 50.043, \"country\": \"Canada\"}, {\"longitude\": -78.3199, \"latitude\": 44.3048, \"country\": \"Canada\"}, {\"longitude\": -79.2506, \"latitude\": 42.9931, \"country\": \"Canada\"}, {\"longitude\": -96.7969, \"latitude\": 32.7763, \"country\": \"USA\"}, {\"longitude\": -122.3295, \"latitude\": 49.0521, \"country\": \"Canada\"}, {\"longitude\": -123.078, \"latitude\": 48.9854, \"country\": \"USA\"}, {\"longitude\": -97.5171, \"latitude\": 35.473, \"country\": \"USA\"}, {\"longitude\": -104.9849, \"latitude\": 39.7392, \"country\": \"USA\"}, {\"longitude\": -94.5781, \"latitude\": 39.1001, \"country\": \"USA\"}, {\"longitude\": -122.9109, \"latitude\": 49.2068, \"country\": \"Canada\"}, {\"longitude\": -89.2598, \"latitude\": 48.4064, \"country\": \"Canada\"}, {\"longitude\": -82.4584, \"latitude\": 27.9478, \"country\": \"USA\"}, {\"longitude\": -71.1473, \"latitude\": 48.382, \"country\": \"Canada\"}, {\"longitude\": -71.1753, \"latitude\": 46.791, \"country\": \"Canada\"}, {\"longitude\": -73.6104, \"latitude\": 45.4972, \"country\": \"Canada\"}, {\"longitude\": -79.8828, \"latitude\": 43.5137, \"country\": \"Canada\"}, {\"longitude\": -118.2428, \"latitude\": 34.0537, \"country\": \"USA\"}, {\"longitude\": -118.1916, \"latitude\": 33.769, \"country\": \"USA\"}, {\"longitude\": -86.1584, \"latitude\": 39.7683, \"country\": \"USA\"}, {\"longitude\": -72.9406, \"latitude\": 45.6275, \"country\": \"Canada\"}, {\"longitude\": -75.6903, \"latitude\": 45.4211, \"country\": \"Canada\"}, {\"longitude\": -76.3019, \"latitude\": 44.211, \"country\": \"Canada\"}, {\"longitude\": -115.1485, \"latitude\": 36.1673, \"country\": \"USA\"}, {\"longitude\": -122.8491, \"latitude\": 49.1913, \"country\": \"Canada\"}, {\"longitude\": -67.4253, \"latitude\": 45.5672, \"country\": \"Canada\"}, {\"longitude\": -122.8491, \"latitude\": 49.1913, \"country\": \"Canada\"}, {\"longitude\": -76.3305, \"latitude\": 44.1255, \"country\": \"USA\"}, {\"longitude\": -74.7287, \"latitude\": 45.0184, \"country\": \"Canada\"}, {\"longitude\": -121.4944, \"latitude\": 38.5816, \"country\": \"USA\"}, {\"longitude\": -79.5656, \"latitude\": 43.6436, \"country\": \"Canada\"}, {\"longitude\": -66.9195, \"latitude\": 44.8938, \"country\": \"Canada\"}]}}, {\"mode\": \"vega-lite\"});\n",
       "</script>"
      ],
      "text/plain": [
       "alt.Chart(...)"
      ]
     },
     "execution_count": 20,
     "metadata": {},
     "output_type": "execute_result"
    }
   ],
   "source": [
    "import altair as alt\n",
    "\n",
    "\n",
    "cities_viz = alt.Chart(cities_train_df).mark_circle(size=20, opacity=0.6).encode(\n",
    "    alt.X('longitude:Q', scale=alt.Scale(domain=[-140, -40])),\n",
    "    alt.Y('latitude:Q', scale=alt.Scale(domain=[20, 60])),\n",
    "    alt.Color('country:N', scale=alt.Scale(domain=['Canada', 'USA'],\n",
    "                                           range=['red', 'blue']))\n",
    ")\n",
    "cities_viz"
   ]
  },
  {
   "cell_type": "markdown",
   "metadata": {},
   "source": [
    "What about the housing training dataset we saw? "
   ]
  },
  {
   "cell_type": "code",
   "execution_count": 21,
   "metadata": {},
   "outputs": [
    {
     "data": {
      "text/html": [
       "<div>\n",
       "<style scoped>\n",
       "    .dataframe tbody tr th:only-of-type {\n",
       "        vertical-align: middle;\n",
       "    }\n",
       "\n",
       "    .dataframe tbody tr th {\n",
       "        vertical-align: top;\n",
       "    }\n",
       "\n",
       "    .dataframe thead th {\n",
       "        text-align: right;\n",
       "    }\n",
       "</style>\n",
       "<table border=\"1\" class=\"dataframe\">\n",
       "  <thead>\n",
       "    <tr style=\"text-align: right;\">\n",
       "      <th></th>\n",
       "      <th>bedrooms</th>\n",
       "      <th>bathrooms</th>\n",
       "      <th>sqft_living</th>\n",
       "      <th>sqft_lot</th>\n",
       "      <th>floors</th>\n",
       "      <th>waterfront</th>\n",
       "      <th>view</th>\n",
       "      <th>condition</th>\n",
       "      <th>grade</th>\n",
       "      <th>sqft_above</th>\n",
       "      <th>sqft_basement</th>\n",
       "      <th>yr_built</th>\n",
       "      <th>yr_renovated</th>\n",
       "      <th>zipcode</th>\n",
       "      <th>lat</th>\n",
       "      <th>long</th>\n",
       "      <th>sqft_living15</th>\n",
       "      <th>sqft_lot15</th>\n",
       "    </tr>\n",
       "  </thead>\n",
       "  <tbody>\n",
       "    <tr>\n",
       "      <th>14305</th>\n",
       "      <td>3</td>\n",
       "      <td>2.75</td>\n",
       "      <td>2170</td>\n",
       "      <td>2738</td>\n",
       "      <td>1.5</td>\n",
       "      <td>0</td>\n",
       "      <td>0</td>\n",
       "      <td>4</td>\n",
       "      <td>9</td>\n",
       "      <td>1550</td>\n",
       "      <td>620</td>\n",
       "      <td>1930</td>\n",
       "      <td>0</td>\n",
       "      <td>98109</td>\n",
       "      <td>47.6389</td>\n",
       "      <td>-122.349</td>\n",
       "      <td>1170</td>\n",
       "      <td>1062</td>\n",
       "    </tr>\n",
       "    <tr>\n",
       "      <th>19844</th>\n",
       "      <td>4</td>\n",
       "      <td>2.75</td>\n",
       "      <td>3550</td>\n",
       "      <td>9400</td>\n",
       "      <td>2.0</td>\n",
       "      <td>0</td>\n",
       "      <td>0</td>\n",
       "      <td>3</td>\n",
       "      <td>9</td>\n",
       "      <td>3550</td>\n",
       "      <td>0</td>\n",
       "      <td>2014</td>\n",
       "      <td>0</td>\n",
       "      <td>98059</td>\n",
       "      <td>47.4827</td>\n",
       "      <td>-122.131</td>\n",
       "      <td>3550</td>\n",
       "      <td>9421</td>\n",
       "    </tr>\n",
       "    <tr>\n",
       "      <th>2686</th>\n",
       "      <td>3</td>\n",
       "      <td>3.25</td>\n",
       "      <td>1210</td>\n",
       "      <td>1173</td>\n",
       "      <td>2.0</td>\n",
       "      <td>0</td>\n",
       "      <td>0</td>\n",
       "      <td>3</td>\n",
       "      <td>8</td>\n",
       "      <td>1000</td>\n",
       "      <td>210</td>\n",
       "      <td>2002</td>\n",
       "      <td>0</td>\n",
       "      <td>98133</td>\n",
       "      <td>47.7114</td>\n",
       "      <td>-122.356</td>\n",
       "      <td>1650</td>\n",
       "      <td>1493</td>\n",
       "    </tr>\n",
       "    <tr>\n",
       "      <th>11926</th>\n",
       "      <td>3</td>\n",
       "      <td>2.50</td>\n",
       "      <td>2370</td>\n",
       "      <td>7875</td>\n",
       "      <td>2.0</td>\n",
       "      <td>0</td>\n",
       "      <td>0</td>\n",
       "      <td>3</td>\n",
       "      <td>9</td>\n",
       "      <td>2370</td>\n",
       "      <td>0</td>\n",
       "      <td>2003</td>\n",
       "      <td>0</td>\n",
       "      <td>98065</td>\n",
       "      <td>47.5427</td>\n",
       "      <td>-121.863</td>\n",
       "      <td>2660</td>\n",
       "      <td>7752</td>\n",
       "    </tr>\n",
       "    <tr>\n",
       "      <th>13873</th>\n",
       "      <td>5</td>\n",
       "      <td>1.75</td>\n",
       "      <td>2250</td>\n",
       "      <td>8970</td>\n",
       "      <td>1.0</td>\n",
       "      <td>0</td>\n",
       "      <td>0</td>\n",
       "      <td>4</td>\n",
       "      <td>7</td>\n",
       "      <td>1500</td>\n",
       "      <td>750</td>\n",
       "      <td>1966</td>\n",
       "      <td>0</td>\n",
       "      <td>98034</td>\n",
       "      <td>47.7217</td>\n",
       "      <td>-122.188</td>\n",
       "      <td>1940</td>\n",
       "      <td>8710</td>\n",
       "    </tr>\n",
       "    <tr>\n",
       "      <th>...</th>\n",
       "      <td>...</td>\n",
       "      <td>...</td>\n",
       "      <td>...</td>\n",
       "      <td>...</td>\n",
       "      <td>...</td>\n",
       "      <td>...</td>\n",
       "      <td>...</td>\n",
       "      <td>...</td>\n",
       "      <td>...</td>\n",
       "      <td>...</td>\n",
       "      <td>...</td>\n",
       "      <td>...</td>\n",
       "      <td>...</td>\n",
       "      <td>...</td>\n",
       "      <td>...</td>\n",
       "      <td>...</td>\n",
       "      <td>...</td>\n",
       "      <td>...</td>\n",
       "    </tr>\n",
       "    <tr>\n",
       "      <th>15377</th>\n",
       "      <td>4</td>\n",
       "      <td>2.50</td>\n",
       "      <td>3440</td>\n",
       "      <td>14554</td>\n",
       "      <td>2.0</td>\n",
       "      <td>1</td>\n",
       "      <td>4</td>\n",
       "      <td>3</td>\n",
       "      <td>8</td>\n",
       "      <td>2170</td>\n",
       "      <td>1270</td>\n",
       "      <td>2012</td>\n",
       "      <td>0</td>\n",
       "      <td>98155</td>\n",
       "      <td>47.7364</td>\n",
       "      <td>-122.286</td>\n",
       "      <td>3170</td>\n",
       "      <td>11810</td>\n",
       "    </tr>\n",
       "    <tr>\n",
       "      <th>21602</th>\n",
       "      <td>3</td>\n",
       "      <td>1.75</td>\n",
       "      <td>1500</td>\n",
       "      <td>11968</td>\n",
       "      <td>1.0</td>\n",
       "      <td>0</td>\n",
       "      <td>0</td>\n",
       "      <td>3</td>\n",
       "      <td>6</td>\n",
       "      <td>1500</td>\n",
       "      <td>0</td>\n",
       "      <td>2014</td>\n",
       "      <td>0</td>\n",
       "      <td>98010</td>\n",
       "      <td>47.3095</td>\n",
       "      <td>-122.002</td>\n",
       "      <td>1320</td>\n",
       "      <td>11303</td>\n",
       "    </tr>\n",
       "    <tr>\n",
       "      <th>17730</th>\n",
       "      <td>2</td>\n",
       "      <td>1.00</td>\n",
       "      <td>1640</td>\n",
       "      <td>5200</td>\n",
       "      <td>1.0</td>\n",
       "      <td>0</td>\n",
       "      <td>0</td>\n",
       "      <td>4</td>\n",
       "      <td>7</td>\n",
       "      <td>1040</td>\n",
       "      <td>600</td>\n",
       "      <td>1937</td>\n",
       "      <td>0</td>\n",
       "      <td>98199</td>\n",
       "      <td>47.6426</td>\n",
       "      <td>-122.403</td>\n",
       "      <td>1780</td>\n",
       "      <td>5040</td>\n",
       "    </tr>\n",
       "    <tr>\n",
       "      <th>15725</th>\n",
       "      <td>3</td>\n",
       "      <td>3.00</td>\n",
       "      <td>1560</td>\n",
       "      <td>1466</td>\n",
       "      <td>3.0</td>\n",
       "      <td>0</td>\n",
       "      <td>0</td>\n",
       "      <td>3</td>\n",
       "      <td>8</td>\n",
       "      <td>1560</td>\n",
       "      <td>0</td>\n",
       "      <td>2006</td>\n",
       "      <td>0</td>\n",
       "      <td>98103</td>\n",
       "      <td>47.6604</td>\n",
       "      <td>-122.352</td>\n",
       "      <td>1530</td>\n",
       "      <td>2975</td>\n",
       "    </tr>\n",
       "    <tr>\n",
       "      <th>19966</th>\n",
       "      <td>4</td>\n",
       "      <td>2.50</td>\n",
       "      <td>2300</td>\n",
       "      <td>3825</td>\n",
       "      <td>2.0</td>\n",
       "      <td>0</td>\n",
       "      <td>0</td>\n",
       "      <td>3</td>\n",
       "      <td>7</td>\n",
       "      <td>2300</td>\n",
       "      <td>0</td>\n",
       "      <td>2012</td>\n",
       "      <td>0</td>\n",
       "      <td>98042</td>\n",
       "      <td>47.3594</td>\n",
       "      <td>-122.082</td>\n",
       "      <td>2110</td>\n",
       "      <td>3825</td>\n",
       "    </tr>\n",
       "  </tbody>\n",
       "</table>\n",
       "<p>17290 rows × 18 columns</p>\n",
       "</div>"
      ],
      "text/plain": [
       "       bedrooms  bathrooms  sqft_living  sqft_lot  floors  waterfront  view  \\\n",
       "14305         3       2.75         2170      2738     1.5           0     0   \n",
       "19844         4       2.75         3550      9400     2.0           0     0   \n",
       "2686          3       3.25         1210      1173     2.0           0     0   \n",
       "11926         3       2.50         2370      7875     2.0           0     0   \n",
       "13873         5       1.75         2250      8970     1.0           0     0   \n",
       "...         ...        ...          ...       ...     ...         ...   ...   \n",
       "15377         4       2.50         3440     14554     2.0           1     4   \n",
       "21602         3       1.75         1500     11968     1.0           0     0   \n",
       "17730         2       1.00         1640      5200     1.0           0     0   \n",
       "15725         3       3.00         1560      1466     3.0           0     0   \n",
       "19966         4       2.50         2300      3825     2.0           0     0   \n",
       "\n",
       "       condition  grade  sqft_above  sqft_basement  yr_built  yr_renovated  \\\n",
       "14305          4      9        1550            620      1930             0   \n",
       "19844          3      9        3550              0      2014             0   \n",
       "2686           3      8        1000            210      2002             0   \n",
       "11926          3      9        2370              0      2003             0   \n",
       "13873          4      7        1500            750      1966             0   \n",
       "...          ...    ...         ...            ...       ...           ...   \n",
       "15377          3      8        2170           1270      2012             0   \n",
       "21602          3      6        1500              0      2014             0   \n",
       "17730          4      7        1040            600      1937             0   \n",
       "15725          3      8        1560              0      2006             0   \n",
       "19966          3      7        2300              0      2012             0   \n",
       "\n",
       "       zipcode      lat     long  sqft_living15  sqft_lot15  \n",
       "14305    98109  47.6389 -122.349           1170        1062  \n",
       "19844    98059  47.4827 -122.131           3550        9421  \n",
       "2686     98133  47.7114 -122.356           1650        1493  \n",
       "11926    98065  47.5427 -121.863           2660        7752  \n",
       "13873    98034  47.7217 -122.188           1940        8710  \n",
       "...        ...      ...      ...            ...         ...  \n",
       "15377    98155  47.7364 -122.286           3170       11810  \n",
       "21602    98010  47.3095 -122.002           1320       11303  \n",
       "17730    98199  47.6426 -122.403           1780        5040  \n",
       "15725    98103  47.6604 -122.352           1530        2975  \n",
       "19966    98042  47.3594 -122.082           2110        3825  \n",
       "\n",
       "[17290 rows x 18 columns]"
      ]
     },
     "execution_count": 21,
     "metadata": {},
     "output_type": "execute_result"
    }
   ],
   "source": [
    "house_df = pd.read_csv(\"data/kc_house_data.csv\")\n",
    "house_df = house_df.drop(columns=[\"id\", \"date\"])\n",
    "\n",
    "X = house_df.drop(columns=[\"price\"])\n",
    "y = house_df[\"price\"]\n",
    "\n",
    "\n",
    "house_X_train, house_X_test, house_y_train, house_y_test = train_test_split(\n",
    "    X, y, test_size=0.2, random_state=123)\n",
    "\n",
    "house_X_train"
   ]
  },
  {
   "cell_type": "markdown",
   "metadata": {},
   "source": [
    "Notice a problem?!\n",
    "\n",
    "We can only visualize data when the dimensions <= 3. \n",
    "\n",
    "BUT, in ML, we usually deal with high-dimensional problems where examples are hard to visualize.\n",
    "High dimensional = 100s or 1000s of dimensions (roughly speaking, it depends on the specific problem at hands and the density of the data)."
   ]
  },
  {
   "cell_type": "markdown",
   "metadata": {},
   "source": [
    "### Feature Vectors\n",
    "\n",
    "**Feature vector**: a vector composed of feature values associated with an example.\n",
    "\n",
    "\n",
    "An example feature vector from the cities dataset:"
   ]
  },
  {
   "cell_type": "code",
   "execution_count": 22,
   "metadata": {},
   "outputs": [
    {
     "data": {
      "text/plain": [
       "array([-76.4813,  44.2307])"
      ]
     },
     "execution_count": 22,
     "metadata": {},
     "output_type": "execute_result"
    }
   ],
   "source": [
    "cities_train_df.drop(columns=[\"country\"]).iloc[0].to_numpy()"
   ]
  },
  {
   "cell_type": "markdown",
   "metadata": {},
   "source": [
    "An example feature vector from the housing dataset:"
   ]
  },
  {
   "cell_type": "code",
   "execution_count": 23,
   "metadata": {},
   "outputs": [
    {
     "data": {
      "text/plain": [
       "array([ 3.00000e+00,  2.75000e+00,  2.17000e+03,  2.73800e+03,\n",
       "        1.50000e+00,  0.00000e+00,  0.00000e+00,  4.00000e+00,\n",
       "        9.00000e+00,  1.55000e+03,  6.20000e+02,  1.93000e+03,\n",
       "        0.00000e+00,  9.81090e+04,  4.76389e+01, -1.22349e+02,\n",
       "        1.17000e+03,  1.06200e+03])"
      ]
     },
     "execution_count": 23,
     "metadata": {},
     "output_type": "execute_result"
    }
   ],
   "source": [
    "house_X_train.iloc[0].to_numpy()"
   ]
  },
  {
   "cell_type": "markdown",
   "metadata": {},
   "source": [
    "## Distance\n",
    "\n",
    "We have our feature vectors, one for each observation, but how we calculate the similarity between these feature vectors? \n",
    "\n",
    "One way to calculate the similarity between two points in high-dimensional space is by calculating the distance between them. \n",
    "\n",
    "So, if the distance is higher, that means that the points are less similar and when the distance is smaller, that means that the points are more similar. "
   ]
  },
  {
   "cell_type": "markdown",
   "metadata": {},
   "source": [
    "### Euclidean distance\n",
    "\n",
    "There are different ways to calculate distance but we are going to focus on Euclidean distance. \n",
    "\n",
    "**Euclidean distance:** Euclidean distance is a measure of the true straight line distance between two points in Euclidean space. ([source](https://hlab.stanford.edu/brian/euclidean_distance_in.html))\n",
    "\n",
    "\n",
    "The Euclidean distance between vectors \n",
    "\n",
    "$$u = <u_1, u_2, \\dots, u_n>$$ and \n",
    "\n",
    "$$v = <v_1, v_2, \\dots, v_n>$$ is defined as: \n",
    "\n",
    "<br>\n",
    "\n",
    "$distance(u, v) = \\sqrt{\\sum_{i =1}^{n} (u_i - v_i)^2}$\n"
   ]
  },
  {
   "cell_type": "markdown",
   "metadata": {},
   "source": [
    "Because that equation can look a bit intimidating, let's use it in an example, particularly our Canadian/US cities data."
   ]
  },
  {
   "cell_type": "markdown",
   "metadata": {},
   "source": [
    "#### Calculating Euclidean distance \"by hand\""
   ]
  },
  {
   "cell_type": "code",
   "execution_count": 24,
   "metadata": {},
   "outputs": [
    {
     "data": {
      "text/html": [
       "<div>\n",
       "<style scoped>\n",
       "    .dataframe tbody tr th:only-of-type {\n",
       "        vertical-align: middle;\n",
       "    }\n",
       "\n",
       "    .dataframe tbody tr th {\n",
       "        vertical-align: top;\n",
       "    }\n",
       "\n",
       "    .dataframe thead th {\n",
       "        text-align: right;\n",
       "    }\n",
       "</style>\n",
       "<table border=\"1\" class=\"dataframe\">\n",
       "  <thead>\n",
       "    <tr style=\"text-align: right;\">\n",
       "      <th></th>\n",
       "      <th>longitude</th>\n",
       "      <th>latitude</th>\n",
       "      <th>country</th>\n",
       "    </tr>\n",
       "  </thead>\n",
       "  <tbody>\n",
       "    <tr>\n",
       "      <th>160</th>\n",
       "      <td>-76.4813</td>\n",
       "      <td>44.2307</td>\n",
       "      <td>Canada</td>\n",
       "    </tr>\n",
       "    <tr>\n",
       "      <th>127</th>\n",
       "      <td>-81.2496</td>\n",
       "      <td>42.9837</td>\n",
       "      <td>Canada</td>\n",
       "    </tr>\n",
       "    <tr>\n",
       "      <th>169</th>\n",
       "      <td>-66.0580</td>\n",
       "      <td>45.2788</td>\n",
       "      <td>Canada</td>\n",
       "    </tr>\n",
       "    <tr>\n",
       "      <th>188</th>\n",
       "      <td>-73.2533</td>\n",
       "      <td>45.3057</td>\n",
       "      <td>Canada</td>\n",
       "    </tr>\n",
       "    <tr>\n",
       "      <th>187</th>\n",
       "      <td>-67.9245</td>\n",
       "      <td>47.1652</td>\n",
       "      <td>Canada</td>\n",
       "    </tr>\n",
       "    <tr>\n",
       "      <th>...</th>\n",
       "      <td>...</td>\n",
       "      <td>...</td>\n",
       "      <td>...</td>\n",
       "    </tr>\n",
       "    <tr>\n",
       "      <th>17</th>\n",
       "      <td>-76.3305</td>\n",
       "      <td>44.1255</td>\n",
       "      <td>USA</td>\n",
       "    </tr>\n",
       "    <tr>\n",
       "      <th>98</th>\n",
       "      <td>-74.7287</td>\n",
       "      <td>45.0184</td>\n",
       "      <td>Canada</td>\n",
       "    </tr>\n",
       "    <tr>\n",
       "      <th>66</th>\n",
       "      <td>-121.4944</td>\n",
       "      <td>38.5816</td>\n",
       "      <td>USA</td>\n",
       "    </tr>\n",
       "    <tr>\n",
       "      <th>126</th>\n",
       "      <td>-79.5656</td>\n",
       "      <td>43.6436</td>\n",
       "      <td>Canada</td>\n",
       "    </tr>\n",
       "    <tr>\n",
       "      <th>109</th>\n",
       "      <td>-66.9195</td>\n",
       "      <td>44.8938</td>\n",
       "      <td>Canada</td>\n",
       "    </tr>\n",
       "  </tbody>\n",
       "</table>\n",
       "<p>167 rows × 3 columns</p>\n",
       "</div>"
      ],
      "text/plain": [
       "     longitude  latitude country\n",
       "160   -76.4813   44.2307  Canada\n",
       "127   -81.2496   42.9837  Canada\n",
       "169   -66.0580   45.2788  Canada\n",
       "188   -73.2533   45.3057  Canada\n",
       "187   -67.9245   47.1652  Canada\n",
       "..         ...       ...     ...\n",
       "17    -76.3305   44.1255     USA\n",
       "98    -74.7287   45.0184  Canada\n",
       "66   -121.4944   38.5816     USA\n",
       "126   -79.5656   43.6436  Canada\n",
       "109   -66.9195   44.8938  Canada\n",
       "\n",
       "[167 rows x 3 columns]"
      ]
     },
     "execution_count": 24,
     "metadata": {},
     "output_type": "execute_result"
    }
   ],
   "source": [
    "cities_train_df"
   ]
  },
  {
   "cell_type": "markdown",
   "metadata": {},
   "source": [
    "Let’s take 2 points (two feature vectors) from the cities dataset."
   ]
  },
  {
   "cell_type": "code",
   "execution_count": 25,
   "metadata": {},
   "outputs": [
    {
     "data": {
      "text/html": [
       "<div>\n",
       "<style scoped>\n",
       "    .dataframe tbody tr th:only-of-type {\n",
       "        vertical-align: middle;\n",
       "    }\n",
       "\n",
       "    .dataframe tbody tr th {\n",
       "        vertical-align: top;\n",
       "    }\n",
       "\n",
       "    .dataframe thead th {\n",
       "        text-align: right;\n",
       "    }\n",
       "</style>\n",
       "<table border=\"1\" class=\"dataframe\">\n",
       "  <thead>\n",
       "    <tr style=\"text-align: right;\">\n",
       "      <th></th>\n",
       "      <th>longitude</th>\n",
       "      <th>latitude</th>\n",
       "    </tr>\n",
       "  </thead>\n",
       "  <tbody>\n",
       "    <tr>\n",
       "      <th>30</th>\n",
       "      <td>-66.9843</td>\n",
       "      <td>44.8607</td>\n",
       "    </tr>\n",
       "    <tr>\n",
       "      <th>171</th>\n",
       "      <td>-80.2632</td>\n",
       "      <td>43.1408</td>\n",
       "    </tr>\n",
       "  </tbody>\n",
       "</table>\n",
       "</div>"
      ],
      "text/plain": [
       "     longitude  latitude\n",
       "30    -66.9843   44.8607\n",
       "171   -80.2632   43.1408"
      ]
     },
     "execution_count": 25,
     "metadata": {},
     "output_type": "execute_result"
    }
   ],
   "source": [
    "two_cities = cities_df.sample(2, random_state=42).drop(columns=[\"country\"])\n",
    "two_cities"
   ]
  },
  {
   "cell_type": "markdown",
   "metadata": {},
   "source": [
    "The two sampled points are shown as black circles below.\n",
    "\n",
    "Our goal is to find how similar these two points are."
   ]
  },
  {
   "cell_type": "code",
   "execution_count": 26,
   "metadata": {},
   "outputs": [
    {
     "data": {
      "text/html": [
       "\n",
       "<div id=\"altair-viz-2f747c3788eb42aa8a07647c88c69432\"></div>\n",
       "<script type=\"text/javascript\">\n",
       "  var VEGA_DEBUG = (typeof VEGA_DEBUG == \"undefined\") ? {} : VEGA_DEBUG;\n",
       "  (function(spec, embedOpt){\n",
       "    let outputDiv = document.currentScript.previousElementSibling;\n",
       "    if (outputDiv.id !== \"altair-viz-2f747c3788eb42aa8a07647c88c69432\") {\n",
       "      outputDiv = document.getElementById(\"altair-viz-2f747c3788eb42aa8a07647c88c69432\");\n",
       "    }\n",
       "    const paths = {\n",
       "      \"vega\": \"https://cdn.jsdelivr.net/npm//vega@5?noext\",\n",
       "      \"vega-lib\": \"https://cdn.jsdelivr.net/npm//vega-lib?noext\",\n",
       "      \"vega-lite\": \"https://cdn.jsdelivr.net/npm//vega-lite@4.17.0?noext\",\n",
       "      \"vega-embed\": \"https://cdn.jsdelivr.net/npm//vega-embed@6?noext\",\n",
       "    };\n",
       "\n",
       "    function maybeLoadScript(lib, version) {\n",
       "      var key = `${lib.replace(\"-\", \"\")}_version`;\n",
       "      return (VEGA_DEBUG[key] == version) ?\n",
       "        Promise.resolve(paths[lib]) :\n",
       "        new Promise(function(resolve, reject) {\n",
       "          var s = document.createElement('script');\n",
       "          document.getElementsByTagName(\"head\")[0].appendChild(s);\n",
       "          s.async = true;\n",
       "          s.onload = () => {\n",
       "            VEGA_DEBUG[key] = version;\n",
       "            return resolve(paths[lib]);\n",
       "          };\n",
       "          s.onerror = () => reject(`Error loading script: ${paths[lib]}`);\n",
       "          s.src = paths[lib];\n",
       "        });\n",
       "    }\n",
       "\n",
       "    function showError(err) {\n",
       "      outputDiv.innerHTML = `<div class=\"error\" style=\"color:red;\">${err}</div>`;\n",
       "      throw err;\n",
       "    }\n",
       "\n",
       "    function displayChart(vegaEmbed) {\n",
       "      vegaEmbed(outputDiv, spec, embedOpt)\n",
       "        .catch(err => showError(`Javascript Error: ${err.message}<br>This usually means there's a typo in your chart specification. See the javascript console for the full traceback.`));\n",
       "    }\n",
       "\n",
       "    if(typeof define === \"function\" && define.amd) {\n",
       "      requirejs.config({paths});\n",
       "      require([\"vega-embed\"], displayChart, err => showError(`Error loading script: ${err.message}`));\n",
       "    } else {\n",
       "      maybeLoadScript(\"vega\", \"5\")\n",
       "        .then(() => maybeLoadScript(\"vega-lite\", \"4.17.0\"))\n",
       "        .then(() => maybeLoadScript(\"vega-embed\", \"6\"))\n",
       "        .catch(showError)\n",
       "        .then(() => displayChart(vegaEmbed));\n",
       "    }\n",
       "  })({\"config\": {\"view\": {\"continuousWidth\": 400, \"continuousHeight\": 300}}, \"layer\": [{\"data\": {\"name\": \"data-66158384001fb6a73b6445c49f67d5ce\"}, \"mark\": {\"type\": \"circle\", \"opacity\": 0.6, \"size\": 20}, \"encoding\": {\"color\": {\"field\": \"country\", \"scale\": {\"domain\": [\"Canada\", \"USA\"], \"range\": [\"red\", \"blue\"]}, \"type\": \"nominal\"}, \"x\": {\"field\": \"longitude\", \"scale\": {\"domain\": [-140, -40]}, \"type\": \"quantitative\"}, \"y\": {\"field\": \"latitude\", \"scale\": {\"domain\": [20, 60]}, \"type\": \"quantitative\"}}}, {\"data\": {\"name\": \"data-7c144ccbe61beb3e29b101c8ca59a046\"}, \"mark\": {\"type\": \"circle\", \"color\": \"black\", \"size\": 130}, \"encoding\": {\"x\": {\"field\": \"longitude\", \"type\": \"quantitative\"}, \"y\": {\"field\": \"latitude\", \"type\": \"quantitative\"}}}], \"$schema\": \"https://vega.github.io/schema/vega-lite/v4.17.0.json\", \"datasets\": {\"data-66158384001fb6a73b6445c49f67d5ce\": [{\"longitude\": -76.4813, \"latitude\": 44.2307, \"country\": \"Canada\"}, {\"longitude\": -81.2496, \"latitude\": 42.9837, \"country\": \"Canada\"}, {\"longitude\": -66.058, \"latitude\": 45.2788, \"country\": \"Canada\"}, {\"longitude\": -73.2533, \"latitude\": 45.3057, \"country\": \"Canada\"}, {\"longitude\": -67.9245, \"latitude\": 47.1652, \"country\": \"Canada\"}, {\"longitude\": -120.3394, \"latitude\": 50.6758, \"country\": \"Canada\"}, {\"longitude\": -106.651, \"latitude\": 35.0841, \"country\": \"USA\"}, {\"longitude\": -79.6902, \"latitude\": 44.3893, \"country\": \"Canada\"}, {\"longitude\": -84.3201, \"latitude\": 46.5239, \"country\": \"Canada\"}, {\"longitude\": -98.4951, \"latitude\": 29.4246, \"country\": \"USA\"}, {\"longitude\": -77.0366, \"latitude\": 38.895, \"country\": \"USA\"}, {\"longitude\": -93.3968, \"latitude\": 48.6114, \"country\": \"Canada\"}, {\"longitude\": -67.2799, \"latitude\": 45.2004, \"country\": \"Canada\"}, {\"longitude\": -122.8565, \"latitude\": 49.3144, \"country\": \"Canada\"}, {\"longitude\": -63.572, \"latitude\": 44.68, \"country\": \"Canada\"}, {\"longitude\": -68.3219, \"latitude\": 47.3556, \"country\": \"USA\"}, {\"longitude\": -97.1385, \"latitude\": 49.8955, \"country\": \"Canada\"}, {\"longitude\": -122.3295, \"latitude\": 49.0521, \"country\": \"Canada\"}, {\"longitude\": -87.6244, \"latitude\": 41.8756, \"country\": \"USA\"}, {\"longitude\": -68.5897, \"latitude\": 47.2587, \"country\": \"USA\"}, {\"longitude\": -73.4467, \"latitude\": 45.5172, \"country\": \"Canada\"}, {\"longitude\": -63.5859, \"latitude\": 44.6486, \"country\": \"Canada\"}, {\"longitude\": -97.7437, \"latitude\": 30.2711, \"country\": \"USA\"}, {\"longitude\": -79.0247, \"latitude\": 43.8504, \"country\": \"Canada\"}, {\"longitude\": -111.9639, \"latitude\": 49.0017, \"country\": \"Canada\"}, {\"longitude\": -129.9912, \"latitude\": 55.9383, \"country\": \"Canada\"}, {\"longitude\": -78.9186, \"latitude\": 42.9131, \"country\": \"Canada\"}, {\"longitude\": -71.7985, \"latitude\": 45.0126, \"country\": \"Canada\"}, {\"longitude\": -95.9929, \"latitude\": 36.1557, \"country\": \"USA\"}, {\"longitude\": -123.0833, \"latitude\": 49.0167, \"country\": \"Canada\"}, {\"longitude\": -94.5648, \"latitude\": 48.7227, \"country\": \"Canada\"}, {\"longitude\": -118.7148, \"latitude\": 50.4165, \"country\": \"Canada\"}, {\"longitude\": -97.2049, \"latitude\": 48.9988, \"country\": \"USA\"}, {\"longitude\": -122.7933, \"latitude\": 49.2843, \"country\": \"Canada\"}, {\"longitude\": -97.1056, \"latitude\": 32.7019, \"country\": \"USA\"}, {\"longitude\": -72.5565, \"latitude\": 46.3327, \"country\": \"Canada\"}, {\"longitude\": -75.1635, \"latitude\": 39.9527, \"country\": \"USA\"}, {\"longitude\": -110.9748, \"latitude\": 32.2229, \"country\": \"USA\"}, {\"longitude\": -67.2781, \"latitude\": 45.189, \"country\": \"USA\"}, {\"longitude\": -83.0466, \"latitude\": 42.3316, \"country\": \"USA\"}, {\"longitude\": -79.7599, \"latitude\": 43.6858, \"country\": \"Canada\"}, {\"longitude\": -84.3201, \"latitude\": 46.5239, \"country\": \"Canada\"}, {\"longitude\": -106.6608, \"latitude\": 52.1318, \"country\": \"Canada\"}, {\"longitude\": -83.0007, \"latitude\": 39.9623, \"country\": \"USA\"}, {\"longitude\": -75.7106, \"latitude\": 45.4284, \"country\": \"Canada\"}, {\"longitude\": -52.7151, \"latitude\": 47.5617, \"country\": \"Canada\"}, {\"longitude\": -113.508, \"latitude\": 53.5354, \"country\": \"Canada\"}, {\"longitude\": -76.6108, \"latitude\": 39.2909, \"country\": \"USA\"}, {\"longitude\": -97.5533, \"latitude\": 48.7531, \"country\": \"USA\"}, {\"longitude\": -66.9843, \"latitude\": 44.8607, \"country\": \"USA\"}, {\"longitude\": -113.8184, \"latitude\": 52.2698, \"country\": \"Canada\"}, {\"longitude\": -113.2966, \"latitude\": 53.5257, \"country\": \"Canada\"}, {\"longitude\": -79.4394, \"latitude\": 43.8801, \"country\": \"Canada\"}, {\"longitude\": -66.9905, \"latitude\": 44.9065, \"country\": \"USA\"}, {\"longitude\": -112.0741, \"latitude\": 33.4484, \"country\": \"USA\"}, {\"longitude\": -130.0437, \"latitude\": 55.9773, \"country\": \"USA\"}, {\"longitude\": -75.7887, \"latitude\": 45.3113, \"country\": \"Canada\"}, {\"longitude\": -80.8431, \"latitude\": 35.2272, \"country\": \"USA\"}, {\"longitude\": -79.6667, \"latitude\": 43.4474, \"country\": \"Canada\"}, {\"longitude\": -121.8906, \"latitude\": 37.3362, \"country\": \"USA\"}, {\"longitude\": -85.7039, \"latitude\": 38.2092, \"country\": \"USA\"}, {\"longitude\": -73.6515, \"latitude\": 45.7081, \"country\": \"Canada\"}, {\"longitude\": -122.4199, \"latitude\": 37.779, \"country\": \"USA\"}, {\"longitude\": -79.4109, \"latitude\": 43.7615, \"country\": \"Canada\"}, {\"longitude\": -67.9245, \"latitude\": 47.1652, \"country\": \"Canada\"}, {\"longitude\": -111.9626, \"latitude\": 48.9971, \"country\": \"USA\"}, {\"longitude\": -79.0359, \"latitude\": 43.1726, \"country\": \"USA\"}, {\"longitude\": -73.6875, \"latitude\": 45.5089, \"country\": \"Canada\"}, {\"longitude\": -111.8315, \"latitude\": 33.4151, \"country\": \"USA\"}, {\"longitude\": -114.0626, \"latitude\": 51.0534, \"country\": \"Canada\"}, {\"longitude\": -73.6289, \"latitude\": 45.468, \"country\": \"Canada\"}, {\"longitude\": -75.9774, \"latitude\": 36.853, \"country\": \"USA\"}, {\"longitude\": -79.3839, \"latitude\": 43.6535, \"country\": \"Canada\"}, {\"longitude\": -87.9225, \"latitude\": 43.035, \"country\": \"USA\"}, {\"longitude\": -72.7218, \"latitude\": 45.399, \"country\": \"Canada\"}, {\"longitude\": -117.1628, \"latitude\": 32.7174, \"country\": \"USA\"}, {\"longitude\": -67.4297, \"latitude\": 45.5634, \"country\": \"USA\"}, {\"longitude\": -83.0466, \"latitude\": 42.3316, \"country\": \"USA\"}, {\"longitude\": -123.1374, \"latitude\": 49.1632, \"country\": \"Canada\"}, {\"longitude\": -119.4983, \"latitude\": 49.8893, \"country\": \"Canada\"}, {\"longitude\": -79.8729, \"latitude\": 43.2561, \"country\": \"Canada\"}, {\"longitude\": -122.5997, \"latitude\": 49.2197, \"country\": \"Canada\"}, {\"longitude\": -80.2632, \"latitude\": 43.1408, \"country\": \"Canada\"}, {\"longitude\": -79.2441, \"latitude\": 43.158, \"country\": \"Canada\"}, {\"longitude\": -97.2089, \"latitude\": 49.0061, \"country\": \"Canada\"}, {\"longitude\": -94.6002, \"latitude\": 48.7124, \"country\": \"USA\"}, {\"longitude\": -102.5496, \"latitude\": 48.9959, \"country\": \"USA\"}, {\"longitude\": -83.0353, \"latitude\": 42.3171, \"country\": \"Canada\"}, {\"longitude\": -71.889, \"latitude\": 45.4033, \"country\": \"Canada\"}, {\"longitude\": -66.6458, \"latitude\": 45.9664, \"country\": \"Canada\"}, {\"longitude\": -71.0692, \"latitude\": 48.406, \"country\": \"Canada\"}, {\"longitude\": -84.3902, \"latitude\": 33.7491, \"country\": \"USA\"}, {\"longitude\": -122.7436, \"latitude\": 48.9881, \"country\": \"USA\"}, {\"longitude\": -102.548, \"latitude\": 49.0014, \"country\": \"Canada\"}, {\"longitude\": -104.6173, \"latitude\": 50.4488, \"country\": \"Canada\"}, {\"longitude\": -122.3301, \"latitude\": 47.6038, \"country\": \"USA\"}, {\"longitude\": -123.114, \"latitude\": 49.2609, \"country\": \"Canada\"}, {\"longitude\": -71.0583, \"latitude\": 42.3603, \"country\": \"USA\"}, {\"longitude\": -134.4197, \"latitude\": 58.3019, \"country\": \"USA\"}, {\"longitude\": -75.4864, \"latitude\": 44.6943, \"country\": \"USA\"}, {\"longitude\": -82.4405, \"latitude\": 42.9816, \"country\": \"USA\"}, {\"longitude\": -71.3998, \"latitude\": 46.8884, \"country\": \"Canada\"}, {\"longitude\": -122.6742, \"latitude\": 45.5202, \"country\": \"USA\"}, {\"longitude\": -67.9353, \"latitude\": 47.1575, \"country\": \"USA\"}, {\"longitude\": -69.265, \"latitude\": 47.5052, \"country\": \"Canada\"}, {\"longitude\": -97.3327, \"latitude\": 32.7532, \"country\": \"USA\"}, {\"longitude\": -123.365, \"latitude\": 48.4283, \"country\": \"Canada\"}, {\"longitude\": -68.3281, \"latitude\": 47.3644, \"country\": \"Canada\"}, {\"longitude\": -78.8784, \"latitude\": 42.8867, \"country\": \"USA\"}, {\"longitude\": -79.5268, \"latitude\": 43.7942, \"country\": \"Canada\"}, {\"longitude\": -79.6457, \"latitude\": 43.5903, \"country\": \"Canada\"}, {\"longitude\": -79.4608, \"latitude\": 46.3092, \"country\": \"Canada\"}, {\"longitude\": -95.9384, \"latitude\": 41.2587, \"country\": \"USA\"}, {\"longitude\": -79.0615, \"latitude\": 43.0844, \"country\": \"USA\"}, {\"longitude\": -79.7967, \"latitude\": 43.3249, \"country\": \"Canada\"}, {\"longitude\": -69.2275, \"latitude\": 47.4562, \"country\": \"USA\"}, {\"longitude\": -123.0833, \"latitude\": 49.0833, \"country\": \"Canada\"}, {\"longitude\": -90.0516, \"latitude\": 35.149, \"country\": \"USA\"}, {\"longitude\": -122.2714, \"latitude\": 37.8045, \"country\": \"USA\"}, {\"longitude\": -119.7848, \"latitude\": 36.7394, \"country\": \"USA\"}, {\"longitude\": -104.8253, \"latitude\": 38.834, \"country\": \"USA\"}, {\"longitude\": -74.0132, \"latitude\": 45.7754, \"country\": \"Canada\"}, {\"longitude\": -79.3377, \"latitude\": 43.8564, \"country\": \"Canada\"}, {\"longitude\": -93.2655, \"latitude\": 44.9773, \"country\": \"USA\"}, {\"longitude\": -95.3677, \"latitude\": 29.7589, \"country\": \"USA\"}, {\"longitude\": -80.3123, \"latitude\": 43.3601, \"country\": \"Canada\"}, {\"longitude\": -79.1153, \"latitude\": 43.101, \"country\": \"Canada\"}, {\"longitude\": -79.7599, \"latitude\": 43.6858, \"country\": \"Canada\"}, {\"longitude\": -75.5192, \"latitude\": 44.7184, \"country\": \"Canada\"}, {\"longitude\": -68.6034, \"latitude\": 47.2527, \"country\": \"Canada\"}, {\"longitude\": -83.0353, \"latitude\": 42.3171, \"country\": \"Canada\"}, {\"longitude\": -73.7344, \"latitude\": 45.6056, \"country\": \"Canada\"}, {\"longitude\": -72.0968, \"latitude\": 45.0072, \"country\": \"Canada\"}, {\"longitude\": -67.5735, \"latitude\": 46.1503, \"country\": \"Canada\"}, {\"longitude\": -80.4944, \"latitude\": 43.4532, \"country\": \"Canada\"}, {\"longitude\": -79.1153, \"latitude\": 43.101, \"country\": \"Canada\"}, {\"longitude\": -110.679, \"latitude\": 50.043, \"country\": \"Canada\"}, {\"longitude\": -78.3199, \"latitude\": 44.3048, \"country\": \"Canada\"}, {\"longitude\": -79.2506, \"latitude\": 42.9931, \"country\": \"Canada\"}, {\"longitude\": -96.7969, \"latitude\": 32.7763, \"country\": \"USA\"}, {\"longitude\": -122.3295, \"latitude\": 49.0521, \"country\": \"Canada\"}, {\"longitude\": -123.078, \"latitude\": 48.9854, \"country\": \"USA\"}, {\"longitude\": -97.5171, \"latitude\": 35.473, \"country\": \"USA\"}, {\"longitude\": -104.9849, \"latitude\": 39.7392, \"country\": \"USA\"}, {\"longitude\": -94.5781, \"latitude\": 39.1001, \"country\": \"USA\"}, {\"longitude\": -122.9109, \"latitude\": 49.2068, \"country\": \"Canada\"}, {\"longitude\": -89.2598, \"latitude\": 48.4064, \"country\": \"Canada\"}, {\"longitude\": -82.4584, \"latitude\": 27.9478, \"country\": \"USA\"}, {\"longitude\": -71.1473, \"latitude\": 48.382, \"country\": \"Canada\"}, {\"longitude\": -71.1753, \"latitude\": 46.791, \"country\": \"Canada\"}, {\"longitude\": -73.6104, \"latitude\": 45.4972, \"country\": \"Canada\"}, {\"longitude\": -79.8828, \"latitude\": 43.5137, \"country\": \"Canada\"}, {\"longitude\": -118.2428, \"latitude\": 34.0537, \"country\": \"USA\"}, {\"longitude\": -118.1916, \"latitude\": 33.769, \"country\": \"USA\"}, {\"longitude\": -86.1584, \"latitude\": 39.7683, \"country\": \"USA\"}, {\"longitude\": -72.9406, \"latitude\": 45.6275, \"country\": \"Canada\"}, {\"longitude\": -75.6903, \"latitude\": 45.4211, \"country\": \"Canada\"}, {\"longitude\": -76.3019, \"latitude\": 44.211, \"country\": \"Canada\"}, {\"longitude\": -115.1485, \"latitude\": 36.1673, \"country\": \"USA\"}, {\"longitude\": -122.8491, \"latitude\": 49.1913, \"country\": \"Canada\"}, {\"longitude\": -67.4253, \"latitude\": 45.5672, \"country\": \"Canada\"}, {\"longitude\": -122.8491, \"latitude\": 49.1913, \"country\": \"Canada\"}, {\"longitude\": -76.3305, \"latitude\": 44.1255, \"country\": \"USA\"}, {\"longitude\": -74.7287, \"latitude\": 45.0184, \"country\": \"Canada\"}, {\"longitude\": -121.4944, \"latitude\": 38.5816, \"country\": \"USA\"}, {\"longitude\": -79.5656, \"latitude\": 43.6436, \"country\": \"Canada\"}, {\"longitude\": -66.9195, \"latitude\": 44.8938, \"country\": \"Canada\"}], \"data-7c144ccbe61beb3e29b101c8ca59a046\": [{\"longitude\": -66.9843, \"latitude\": 44.8607}, {\"longitude\": -80.2632, \"latitude\": 43.1408}]}}, {\"mode\": \"vega-lite\"});\n",
       "</script>"
      ],
      "text/plain": [
       "alt.LayerChart(...)"
      ]
     },
     "execution_count": 26,
     "metadata": {},
     "output_type": "execute_result"
    }
   ],
   "source": [
    "cities_viz + alt.Chart(two_cities).mark_circle(size=130, color='black').encode(\n",
    "    alt.X('longitude'),\n",
    "    alt.Y('latitude')\n",
    ")"
   ]
  },
  {
   "cell_type": "markdown",
   "metadata": {},
   "source": [
    "First, we subtract these two cities. We are subtracting the city at index 0 from the city at index 1."
   ]
  },
  {
   "cell_type": "code",
   "execution_count": 27,
   "metadata": {},
   "outputs": [
    {
     "data": {
      "text/plain": [
       "longitude   -13.2789\n",
       "latitude     -1.7199\n",
       "dtype: float64"
      ]
     },
     "execution_count": 27,
     "metadata": {},
     "output_type": "execute_result"
    }
   ],
   "source": [
    "two_cities.iloc[1] - two_cities.iloc[0]"
   ]
  },
  {
   "cell_type": "markdown",
   "metadata": {},
   "source": [
    "Next, we square the differences."
   ]
  },
  {
   "cell_type": "code",
   "execution_count": 28,
   "metadata": {},
   "outputs": [
    {
     "data": {
      "text/plain": [
       "longitude    176.329185\n",
       "latitude       2.958056\n",
       "dtype: float64"
      ]
     },
     "execution_count": 28,
     "metadata": {},
     "output_type": "execute_result"
    }
   ],
   "source": [
    "(two_cities.iloc[1] - two_cities.iloc[0])**2"
   ]
  },
  {
   "cell_type": "markdown",
   "metadata": {},
   "source": [
    "Then we sum up the squared differences."
   ]
  },
  {
   "cell_type": "code",
   "execution_count": 29,
   "metadata": {},
   "outputs": [
    {
     "data": {
      "text/plain": [
       "179.28724121999983"
      ]
     },
     "execution_count": 29,
     "metadata": {},
     "output_type": "execute_result"
    }
   ],
   "source": [
    "((two_cities.iloc[1] - two_cities.iloc[0])**2).sum()"
   ]
  },
  {
   "cell_type": "markdown",
   "metadata": {},
   "source": [
    "And then take the square root of the value."
   ]
  },
  {
   "cell_type": "code",
   "execution_count": 30,
   "metadata": {},
   "outputs": [
    {
     "data": {
      "text/plain": [
       "13.389818565611703"
      ]
     },
     "execution_count": 30,
     "metadata": {},
     "output_type": "execute_result"
    }
   ],
   "source": [
    "# To the power of 0.5 is the same as square root\n",
    "((two_cities.iloc[1] - two_cities.iloc[0])**2).sum()**0.5"
   ]
  },
  {
   "cell_type": "markdown",
   "metadata": {},
   "source": [
    "We end with a value of 13.3898 which is the distance between the two cities in feature space."
   ]
  },
  {
   "cell_type": "markdown",
   "metadata": {},
   "source": [
    "#### Calculating Euclidean distance  with `sklearn`\n",
    "\n",
    "That's more work than we really have time for and since `sklearn` knows we are very busy people, they have a function that does this for us. "
   ]
  },
  {
   "cell_type": "code",
   "execution_count": 31,
   "metadata": {},
   "outputs": [
    {
     "data": {
      "text/plain": [
       "array([[ 0.        , 13.38981857],\n",
       "       [13.38981857,  0.        ]])"
      ]
     },
     "execution_count": 31,
     "metadata": {},
     "output_type": "execute_result"
    }
   ],
   "source": [
    "from sklearn.metrics.pairwise import euclidean_distances\n",
    "\n",
    "\n",
    "euclidean_distances(two_cities)"
   ]
  },
  {
   "cell_type": "markdown",
   "metadata": {},
   "source": [
    "When we call this function on our two cities data, it outputs this matrix with four values.\n",
    "\n",
    "- Our first value is the distance between city 0 and itself. \n",
    "- Our second value is the distance between city 0 and city1. \n",
    "- Our third value is the distance between city 1and city 0.\n",
    "- Our fourth value is the distance between city 1 and itself.\n",
    "\n",
    "As we can see, the distances are symmetric. If we calculate the distance between city 0 and city1, it’s going to have the same value as if we calculated the distance between city 1 and city 0.\n",
    "\n",
    "This isn’t always the case if we use a different metric to calculate distances. "
   ]
  },
  {
   "cell_type": "markdown",
   "metadata": {},
   "source": [
    "## Finding the Nearest Neighbour \n",
    "\n",
    "Now that we know how to calculate the distance between two points,\n",
    "we can use this metric as a definition for what \"most similar\" means in our cities data.\n",
    "In this case,\n",
    "we would say that it is the cities that have the shortest distance between them.\n",
    "These are often called the \"Nearest Neighbors\".\n",
    "\n",
    "Let's find the closest cities to City 0 from our `cities_train_df` dataframe. \n",
    "\n",
    "Using `euclidean_distances` on the entire dataset will calculate the distances from all the cities to all other cities in our dataframe."
   ]
  },
  {
   "cell_type": "code",
   "execution_count": 32,
   "metadata": {},
   "outputs": [
    {
     "data": {
      "text/plain": [
       "array([[ 0.        ,  4.92866046, 10.47586257, ..., 45.36619339,\n",
       "         3.13968038,  9.58476504],\n",
       "       [ 4.92866046,  0.        , 15.36399019, ..., 40.48484175,\n",
       "         1.80868018, 14.45684087],\n",
       "       [10.47586257, 15.36399019,  0.        , ..., 55.83947468,\n",
       "        13.60621684,  0.94361393],\n",
       "       ...,\n",
       "       [45.36619339, 40.48484175, 55.83947468, ...,  0.        ,\n",
       "        42.23325838, 54.93872568],\n",
       "       [ 3.13968038,  1.80868018, 13.60621684, ..., 42.23325838,\n",
       "         0.        , 12.70774745],\n",
       "       [ 9.58476504, 14.45684087,  0.94361393, ..., 54.93872568,\n",
       "        12.70774745,  0.        ]])"
      ]
     },
     "execution_count": 32,
     "metadata": {},
     "output_type": "execute_result"
    }
   ],
   "source": [
    "dists = euclidean_distances(cities_train_df[[\"latitude\", \"longitude\"]])\n",
    "dists"
   ]
  },
  {
   "cell_type": "markdown",
   "metadata": {},
   "source": [
    "This is going to be of shape 167 by 167 as this was the number of examples in our training portion.\n",
    "\n",
    "Each row here gives us the distance of that particular city to all other cities in the training data."
   ]
  },
  {
   "cell_type": "code",
   "execution_count": 33,
   "metadata": {},
   "outputs": [
    {
     "data": {
      "text/plain": [
       "(167, 167)"
      ]
     },
     "execution_count": 33,
     "metadata": {},
     "output_type": "execute_result"
    }
   ],
   "source": [
    "dists.shape"
   ]
  },
  {
   "cell_type": "code",
   "execution_count": 34,
   "metadata": {},
   "outputs": [
    {
     "data": {
      "text/html": [
       "<div>\n",
       "<style scoped>\n",
       "    .dataframe tbody tr th:only-of-type {\n",
       "        vertical-align: middle;\n",
       "    }\n",
       "\n",
       "    .dataframe tbody tr th {\n",
       "        vertical-align: top;\n",
       "    }\n",
       "\n",
       "    .dataframe thead th {\n",
       "        text-align: right;\n",
       "    }\n",
       "</style>\n",
       "<table border=\"1\" class=\"dataframe\">\n",
       "  <thead>\n",
       "    <tr style=\"text-align: right;\">\n",
       "      <th></th>\n",
       "      <th>0</th>\n",
       "      <th>1</th>\n",
       "      <th>2</th>\n",
       "      <th>3</th>\n",
       "      <th>4</th>\n",
       "      <th>5</th>\n",
       "      <th>6</th>\n",
       "      <th>7</th>\n",
       "      <th>8</th>\n",
       "      <th>9</th>\n",
       "      <th>...</th>\n",
       "      <th>157</th>\n",
       "      <th>158</th>\n",
       "      <th>159</th>\n",
       "      <th>160</th>\n",
       "      <th>161</th>\n",
       "      <th>162</th>\n",
       "      <th>163</th>\n",
       "      <th>164</th>\n",
       "      <th>165</th>\n",
       "      <th>166</th>\n",
       "    </tr>\n",
       "  </thead>\n",
       "  <tbody>\n",
       "    <tr>\n",
       "      <th>0</th>\n",
       "      <td>0.000000</td>\n",
       "      <td>4.928660</td>\n",
       "      <td>10.475863</td>\n",
       "      <td>3.402295</td>\n",
       "      <td>9.046000</td>\n",
       "      <td>44.329135</td>\n",
       "      <td>31.525721</td>\n",
       "      <td>3.212817</td>\n",
       "      <td>8.167347</td>\n",
       "      <td>26.529757</td>\n",
       "      <td>...</td>\n",
       "      <td>0.180478</td>\n",
       "      <td>39.498997</td>\n",
       "      <td>46.632397</td>\n",
       "      <td>9.154090</td>\n",
       "      <td>46.632397</td>\n",
       "      <td>0.183869</td>\n",
       "      <td>1.921478</td>\n",
       "      <td>45.366193</td>\n",
       "      <td>3.139680</td>\n",
       "      <td>9.584765</td>\n",
       "    </tr>\n",
       "    <tr>\n",
       "      <th>1</th>\n",
       "      <td>4.928660</td>\n",
       "      <td>0.000000</td>\n",
       "      <td>15.363990</td>\n",
       "      <td>8.326614</td>\n",
       "      <td>13.965788</td>\n",
       "      <td>39.839439</td>\n",
       "      <td>26.601406</td>\n",
       "      <td>2.099390</td>\n",
       "      <td>4.686255</td>\n",
       "      <td>21.937558</td>\n",
       "      <td>...</td>\n",
       "      <td>5.097647</td>\n",
       "      <td>34.577431</td>\n",
       "      <td>42.060108</td>\n",
       "      <td>14.063632</td>\n",
       "      <td>42.060108</td>\n",
       "      <td>5.049876</td>\n",
       "      <td>6.830969</td>\n",
       "      <td>40.484842</td>\n",
       "      <td>1.808680</td>\n",
       "      <td>14.456841</td>\n",
       "    </tr>\n",
       "    <tr>\n",
       "      <th>2</th>\n",
       "      <td>10.475863</td>\n",
       "      <td>15.363990</td>\n",
       "      <td>0.000000</td>\n",
       "      <td>7.195350</td>\n",
       "      <td>2.653738</td>\n",
       "      <td>54.549042</td>\n",
       "      <td>41.853597</td>\n",
       "      <td>13.661189</td>\n",
       "      <td>18.304496</td>\n",
       "      <td>36.104309</td>\n",
       "      <td>...</td>\n",
       "      <td>10.299402</td>\n",
       "      <td>49.928916</td>\n",
       "      <td>56.925712</td>\n",
       "      <td>1.397385</td>\n",
       "      <td>56.925712</td>\n",
       "      <td>10.337038</td>\n",
       "      <td>8.674609</td>\n",
       "      <td>55.839475</td>\n",
       "      <td>13.606217</td>\n",
       "      <td>0.943614</td>\n",
       "    </tr>\n",
       "    <tr>\n",
       "      <th>3</th>\n",
       "      <td>3.402295</td>\n",
       "      <td>8.326614</td>\n",
       "      <td>7.195350</td>\n",
       "      <td>0.000000</td>\n",
       "      <td>5.643921</td>\n",
       "      <td>47.391337</td>\n",
       "      <td>34.926888</td>\n",
       "      <td>6.501805</td>\n",
       "      <td>11.133646</td>\n",
       "      <td>29.822103</td>\n",
       "      <td>...</td>\n",
       "      <td>3.239187</td>\n",
       "      <td>42.880277</td>\n",
       "      <td>49.747776</td>\n",
       "      <td>5.833864</td>\n",
       "      <td>49.747776</td>\n",
       "      <td>3.295760</td>\n",
       "      <td>1.503112</td>\n",
       "      <td>48.707466</td>\n",
       "      <td>6.527458</td>\n",
       "      <td>6.347179</td>\n",
       "    </tr>\n",
       "    <tr>\n",
       "      <th>4</th>\n",
       "      <td>9.046000</td>\n",
       "      <td>13.965788</td>\n",
       "      <td>2.653738</td>\n",
       "      <td>5.643921</td>\n",
       "      <td>0.000000</td>\n",
       "      <td>52.532333</td>\n",
       "      <td>40.567164</td>\n",
       "      <td>12.088727</td>\n",
       "      <td>16.408137</td>\n",
       "      <td>35.345303</td>\n",
       "      <td>...</td>\n",
       "      <td>8.883025</td>\n",
       "      <td>48.487730</td>\n",
       "      <td>54.961957</td>\n",
       "      <td>1.674158</td>\n",
       "      <td>54.961957</td>\n",
       "      <td>8.938714</td>\n",
       "      <td>7.134836</td>\n",
       "      <td>54.253225</td>\n",
       "      <td>12.162108</td>\n",
       "      <td>2.483804</td>\n",
       "    </tr>\n",
       "    <tr>\n",
       "      <th>...</th>\n",
       "      <td>...</td>\n",
       "      <td>...</td>\n",
       "      <td>...</td>\n",
       "      <td>...</td>\n",
       "      <td>...</td>\n",
       "      <td>...</td>\n",
       "      <td>...</td>\n",
       "      <td>...</td>\n",
       "      <td>...</td>\n",
       "      <td>...</td>\n",
       "      <td>...</td>\n",
       "      <td>...</td>\n",
       "      <td>...</td>\n",
       "      <td>...</td>\n",
       "      <td>...</td>\n",
       "      <td>...</td>\n",
       "      <td>...</td>\n",
       "      <td>...</td>\n",
       "      <td>...</td>\n",
       "      <td>...</td>\n",
       "      <td>...</td>\n",
       "    </tr>\n",
       "    <tr>\n",
       "      <th>162</th>\n",
       "      <td>0.183869</td>\n",
       "      <td>5.049876</td>\n",
       "      <td>10.337038</td>\n",
       "      <td>3.295760</td>\n",
       "      <td>8.938714</td>\n",
       "      <td>44.493704</td>\n",
       "      <td>31.639843</td>\n",
       "      <td>3.370041</td>\n",
       "      <td>8.341824</td>\n",
       "      <td>26.596728</td>\n",
       "      <td>...</td>\n",
       "      <td>0.090157</td>\n",
       "      <td>39.625372</td>\n",
       "      <td>46.793616</td>\n",
       "      <td>9.021147</td>\n",
       "      <td>46.793616</td>\n",
       "      <td>0.000000</td>\n",
       "      <td>1.833858</td>\n",
       "      <td>45.502887</td>\n",
       "      <td>3.270795</td>\n",
       "      <td>9.442309</td>\n",
       "    </tr>\n",
       "    <tr>\n",
       "      <th>163</th>\n",
       "      <td>1.921478</td>\n",
       "      <td>6.830969</td>\n",
       "      <td>8.674609</td>\n",
       "      <td>1.503112</td>\n",
       "      <td>7.134836</td>\n",
       "      <td>45.960223</td>\n",
       "      <td>33.432373</td>\n",
       "      <td>5.001225</td>\n",
       "      <td>9.708835</td>\n",
       "      <td>28.425488</td>\n",
       "      <td>...</td>\n",
       "      <td>1.768291</td>\n",
       "      <td>41.377557</td>\n",
       "      <td>48.300994</td>\n",
       "      <td>7.323990</td>\n",
       "      <td>48.300994</td>\n",
       "      <td>1.833858</td>\n",
       "      <td>0.000000</td>\n",
       "      <td>47.206600</td>\n",
       "      <td>5.028487</td>\n",
       "      <td>7.810194</td>\n",
       "    </tr>\n",
       "    <tr>\n",
       "      <th>164</th>\n",
       "      <td>45.366193</td>\n",
       "      <td>40.484842</td>\n",
       "      <td>55.839475</td>\n",
       "      <td>48.707466</td>\n",
       "      <td>54.253225</td>\n",
       "      <td>12.149226</td>\n",
       "      <td>15.249886</td>\n",
       "      <td>42.205693</td>\n",
       "      <td>38.013270</td>\n",
       "      <td>24.755170</td>\n",
       "      <td>...</td>\n",
       "      <td>45.541763</td>\n",
       "      <td>6.789646</td>\n",
       "      <td>10.695838</td>\n",
       "      <td>54.518494</td>\n",
       "      <td>10.695838</td>\n",
       "      <td>45.502887</td>\n",
       "      <td>47.206600</td>\n",
       "      <td>0.000000</td>\n",
       "      <td>42.233258</td>\n",
       "      <td>54.938726</td>\n",
       "    </tr>\n",
       "    <tr>\n",
       "      <th>165</th>\n",
       "      <td>3.139680</td>\n",
       "      <td>1.808680</td>\n",
       "      <td>13.606217</td>\n",
       "      <td>6.527458</td>\n",
       "      <td>12.162108</td>\n",
       "      <td>41.375773</td>\n",
       "      <td>28.405702</td>\n",
       "      <td>0.756038</td>\n",
       "      <td>5.558903</td>\n",
       "      <td>23.675006</td>\n",
       "      <td>...</td>\n",
       "      <td>3.312655</td>\n",
       "      <td>36.359838</td>\n",
       "      <td>43.637580</td>\n",
       "      <td>12.291750</td>\n",
       "      <td>43.637580</td>\n",
       "      <td>3.270795</td>\n",
       "      <td>5.028487</td>\n",
       "      <td>42.233258</td>\n",
       "      <td>0.000000</td>\n",
       "      <td>12.707747</td>\n",
       "    </tr>\n",
       "    <tr>\n",
       "      <th>166</th>\n",
       "      <td>9.584765</td>\n",
       "      <td>14.456841</td>\n",
       "      <td>0.943614</td>\n",
       "      <td>6.347179</td>\n",
       "      <td>2.483804</td>\n",
       "      <td>53.731902</td>\n",
       "      <td>40.924593</td>\n",
       "      <td>12.780661</td>\n",
       "      <td>17.476788</td>\n",
       "      <td>35.161267</td>\n",
       "      <td>...</td>\n",
       "      <td>9.407212</td>\n",
       "      <td>49.012123</td>\n",
       "      <td>56.094462</td>\n",
       "      <td>0.842200</td>\n",
       "      <td>56.094462</td>\n",
       "      <td>9.442309</td>\n",
       "      <td>7.810194</td>\n",
       "      <td>54.938726</td>\n",
       "      <td>12.707747</td>\n",
       "      <td>0.000000</td>\n",
       "    </tr>\n",
       "  </tbody>\n",
       "</table>\n",
       "<p>167 rows × 167 columns</p>\n",
       "</div>"
      ],
      "text/plain": [
       "           0          1          2          3          4          5    \\\n",
       "0     0.000000   4.928660  10.475863   3.402295   9.046000  44.329135   \n",
       "1     4.928660   0.000000  15.363990   8.326614  13.965788  39.839439   \n",
       "2    10.475863  15.363990   0.000000   7.195350   2.653738  54.549042   \n",
       "3     3.402295   8.326614   7.195350   0.000000   5.643921  47.391337   \n",
       "4     9.046000  13.965788   2.653738   5.643921   0.000000  52.532333   \n",
       "..         ...        ...        ...        ...        ...        ...   \n",
       "162   0.183869   5.049876  10.337038   3.295760   8.938714  44.493704   \n",
       "163   1.921478   6.830969   8.674609   1.503112   7.134836  45.960223   \n",
       "164  45.366193  40.484842  55.839475  48.707466  54.253225  12.149226   \n",
       "165   3.139680   1.808680  13.606217   6.527458  12.162108  41.375773   \n",
       "166   9.584765  14.456841   0.943614   6.347179   2.483804  53.731902   \n",
       "\n",
       "           6          7          8          9    ...        157        158  \\\n",
       "0    31.525721   3.212817   8.167347  26.529757  ...   0.180478  39.498997   \n",
       "1    26.601406   2.099390   4.686255  21.937558  ...   5.097647  34.577431   \n",
       "2    41.853597  13.661189  18.304496  36.104309  ...  10.299402  49.928916   \n",
       "3    34.926888   6.501805  11.133646  29.822103  ...   3.239187  42.880277   \n",
       "4    40.567164  12.088727  16.408137  35.345303  ...   8.883025  48.487730   \n",
       "..         ...        ...        ...        ...  ...        ...        ...   \n",
       "162  31.639843   3.370041   8.341824  26.596728  ...   0.090157  39.625372   \n",
       "163  33.432373   5.001225   9.708835  28.425488  ...   1.768291  41.377557   \n",
       "164  15.249886  42.205693  38.013270  24.755170  ...  45.541763   6.789646   \n",
       "165  28.405702   0.756038   5.558903  23.675006  ...   3.312655  36.359838   \n",
       "166  40.924593  12.780661  17.476788  35.161267  ...   9.407212  49.012123   \n",
       "\n",
       "           159        160        161        162        163        164  \\\n",
       "0    46.632397   9.154090  46.632397   0.183869   1.921478  45.366193   \n",
       "1    42.060108  14.063632  42.060108   5.049876   6.830969  40.484842   \n",
       "2    56.925712   1.397385  56.925712  10.337038   8.674609  55.839475   \n",
       "3    49.747776   5.833864  49.747776   3.295760   1.503112  48.707466   \n",
       "4    54.961957   1.674158  54.961957   8.938714   7.134836  54.253225   \n",
       "..         ...        ...        ...        ...        ...        ...   \n",
       "162  46.793616   9.021147  46.793616   0.000000   1.833858  45.502887   \n",
       "163  48.300994   7.323990  48.300994   1.833858   0.000000  47.206600   \n",
       "164  10.695838  54.518494  10.695838  45.502887  47.206600   0.000000   \n",
       "165  43.637580  12.291750  43.637580   3.270795   5.028487  42.233258   \n",
       "166  56.094462   0.842200  56.094462   9.442309   7.810194  54.938726   \n",
       "\n",
       "           165        166  \n",
       "0     3.139680   9.584765  \n",
       "1     1.808680  14.456841  \n",
       "2    13.606217   0.943614  \n",
       "3     6.527458   6.347179  \n",
       "4    12.162108   2.483804  \n",
       "..         ...        ...  \n",
       "162   3.270795   9.442309  \n",
       "163   5.028487   7.810194  \n",
       "164  42.233258  54.938726  \n",
       "165   0.000000  12.707747  \n",
       "166  12.707747   0.000000  \n",
       "\n",
       "[167 rows x 167 columns]"
      ]
     },
     "execution_count": 34,
     "metadata": {},
     "output_type": "execute_result"
    }
   ],
   "source": [
    "pd.DataFrame(dists)"
   ]
  },
  {
   "cell_type": "markdown",
   "metadata": {},
   "source": [
    "The distance of each city to itself is going to be zero.\n",
    "\n",
    "If we don’t replace the 0's on the diagonal with infinity, each city’s most similar city is going to be itself which is not useful."
   ]
  },
  {
   "cell_type": "code",
   "execution_count": 35,
   "metadata": {},
   "outputs": [
    {
     "data": {
      "text/html": [
       "<div>\n",
       "<style scoped>\n",
       "    .dataframe tbody tr th:only-of-type {\n",
       "        vertical-align: middle;\n",
       "    }\n",
       "\n",
       "    .dataframe tbody tr th {\n",
       "        vertical-align: top;\n",
       "    }\n",
       "\n",
       "    .dataframe thead th {\n",
       "        text-align: right;\n",
       "    }\n",
       "</style>\n",
       "<table border=\"1\" class=\"dataframe\">\n",
       "  <thead>\n",
       "    <tr style=\"text-align: right;\">\n",
       "      <th></th>\n",
       "      <th>0</th>\n",
       "      <th>1</th>\n",
       "      <th>2</th>\n",
       "      <th>3</th>\n",
       "      <th>4</th>\n",
       "      <th>5</th>\n",
       "      <th>6</th>\n",
       "      <th>7</th>\n",
       "      <th>8</th>\n",
       "      <th>9</th>\n",
       "      <th>...</th>\n",
       "      <th>157</th>\n",
       "      <th>158</th>\n",
       "      <th>159</th>\n",
       "      <th>160</th>\n",
       "      <th>161</th>\n",
       "      <th>162</th>\n",
       "      <th>163</th>\n",
       "      <th>164</th>\n",
       "      <th>165</th>\n",
       "      <th>166</th>\n",
       "    </tr>\n",
       "  </thead>\n",
       "  <tbody>\n",
       "    <tr>\n",
       "      <th>0</th>\n",
       "      <td>inf</td>\n",
       "      <td>4.928660</td>\n",
       "      <td>10.475863</td>\n",
       "      <td>3.402295</td>\n",
       "      <td>9.046000</td>\n",
       "      <td>44.329135</td>\n",
       "      <td>31.525721</td>\n",
       "      <td>3.212817</td>\n",
       "      <td>8.167347</td>\n",
       "      <td>26.529757</td>\n",
       "      <td>...</td>\n",
       "      <td>0.180478</td>\n",
       "      <td>39.498997</td>\n",
       "      <td>46.632397</td>\n",
       "      <td>9.154090</td>\n",
       "      <td>46.632397</td>\n",
       "      <td>0.183869</td>\n",
       "      <td>1.921478</td>\n",
       "      <td>45.366193</td>\n",
       "      <td>3.139680</td>\n",
       "      <td>9.584765</td>\n",
       "    </tr>\n",
       "    <tr>\n",
       "      <th>1</th>\n",
       "      <td>4.928660</td>\n",
       "      <td>inf</td>\n",
       "      <td>15.363990</td>\n",
       "      <td>8.326614</td>\n",
       "      <td>13.965788</td>\n",
       "      <td>39.839439</td>\n",
       "      <td>26.601406</td>\n",
       "      <td>2.099390</td>\n",
       "      <td>4.686255</td>\n",
       "      <td>21.937558</td>\n",
       "      <td>...</td>\n",
       "      <td>5.097647</td>\n",
       "      <td>34.577431</td>\n",
       "      <td>42.060108</td>\n",
       "      <td>14.063632</td>\n",
       "      <td>42.060108</td>\n",
       "      <td>5.049876</td>\n",
       "      <td>6.830969</td>\n",
       "      <td>40.484842</td>\n",
       "      <td>1.808680</td>\n",
       "      <td>14.456841</td>\n",
       "    </tr>\n",
       "    <tr>\n",
       "      <th>2</th>\n",
       "      <td>10.475863</td>\n",
       "      <td>15.363990</td>\n",
       "      <td>inf</td>\n",
       "      <td>7.195350</td>\n",
       "      <td>2.653738</td>\n",
       "      <td>54.549042</td>\n",
       "      <td>41.853597</td>\n",
       "      <td>13.661189</td>\n",
       "      <td>18.304496</td>\n",
       "      <td>36.104309</td>\n",
       "      <td>...</td>\n",
       "      <td>10.299402</td>\n",
       "      <td>49.928916</td>\n",
       "      <td>56.925712</td>\n",
       "      <td>1.397385</td>\n",
       "      <td>56.925712</td>\n",
       "      <td>10.337038</td>\n",
       "      <td>8.674609</td>\n",
       "      <td>55.839475</td>\n",
       "      <td>13.606217</td>\n",
       "      <td>0.943614</td>\n",
       "    </tr>\n",
       "    <tr>\n",
       "      <th>3</th>\n",
       "      <td>3.402295</td>\n",
       "      <td>8.326614</td>\n",
       "      <td>7.195350</td>\n",
       "      <td>inf</td>\n",
       "      <td>5.643921</td>\n",
       "      <td>47.391337</td>\n",
       "      <td>34.926888</td>\n",
       "      <td>6.501805</td>\n",
       "      <td>11.133646</td>\n",
       "      <td>29.822103</td>\n",
       "      <td>...</td>\n",
       "      <td>3.239187</td>\n",
       "      <td>42.880277</td>\n",
       "      <td>49.747776</td>\n",
       "      <td>5.833864</td>\n",
       "      <td>49.747776</td>\n",
       "      <td>3.295760</td>\n",
       "      <td>1.503112</td>\n",
       "      <td>48.707466</td>\n",
       "      <td>6.527458</td>\n",
       "      <td>6.347179</td>\n",
       "    </tr>\n",
       "    <tr>\n",
       "      <th>4</th>\n",
       "      <td>9.046000</td>\n",
       "      <td>13.965788</td>\n",
       "      <td>2.653738</td>\n",
       "      <td>5.643921</td>\n",
       "      <td>inf</td>\n",
       "      <td>52.532333</td>\n",
       "      <td>40.567164</td>\n",
       "      <td>12.088727</td>\n",
       "      <td>16.408137</td>\n",
       "      <td>35.345303</td>\n",
       "      <td>...</td>\n",
       "      <td>8.883025</td>\n",
       "      <td>48.487730</td>\n",
       "      <td>54.961957</td>\n",
       "      <td>1.674158</td>\n",
       "      <td>54.961957</td>\n",
       "      <td>8.938714</td>\n",
       "      <td>7.134836</td>\n",
       "      <td>54.253225</td>\n",
       "      <td>12.162108</td>\n",
       "      <td>2.483804</td>\n",
       "    </tr>\n",
       "    <tr>\n",
       "      <th>...</th>\n",
       "      <td>...</td>\n",
       "      <td>...</td>\n",
       "      <td>...</td>\n",
       "      <td>...</td>\n",
       "      <td>...</td>\n",
       "      <td>...</td>\n",
       "      <td>...</td>\n",
       "      <td>...</td>\n",
       "      <td>...</td>\n",
       "      <td>...</td>\n",
       "      <td>...</td>\n",
       "      <td>...</td>\n",
       "      <td>...</td>\n",
       "      <td>...</td>\n",
       "      <td>...</td>\n",
       "      <td>...</td>\n",
       "      <td>...</td>\n",
       "      <td>...</td>\n",
       "      <td>...</td>\n",
       "      <td>...</td>\n",
       "      <td>...</td>\n",
       "    </tr>\n",
       "    <tr>\n",
       "      <th>162</th>\n",
       "      <td>0.183869</td>\n",
       "      <td>5.049876</td>\n",
       "      <td>10.337038</td>\n",
       "      <td>3.295760</td>\n",
       "      <td>8.938714</td>\n",
       "      <td>44.493704</td>\n",
       "      <td>31.639843</td>\n",
       "      <td>3.370041</td>\n",
       "      <td>8.341824</td>\n",
       "      <td>26.596728</td>\n",
       "      <td>...</td>\n",
       "      <td>0.090157</td>\n",
       "      <td>39.625372</td>\n",
       "      <td>46.793616</td>\n",
       "      <td>9.021147</td>\n",
       "      <td>46.793616</td>\n",
       "      <td>inf</td>\n",
       "      <td>1.833858</td>\n",
       "      <td>45.502887</td>\n",
       "      <td>3.270795</td>\n",
       "      <td>9.442309</td>\n",
       "    </tr>\n",
       "    <tr>\n",
       "      <th>163</th>\n",
       "      <td>1.921478</td>\n",
       "      <td>6.830969</td>\n",
       "      <td>8.674609</td>\n",
       "      <td>1.503112</td>\n",
       "      <td>7.134836</td>\n",
       "      <td>45.960223</td>\n",
       "      <td>33.432373</td>\n",
       "      <td>5.001225</td>\n",
       "      <td>9.708835</td>\n",
       "      <td>28.425488</td>\n",
       "      <td>...</td>\n",
       "      <td>1.768291</td>\n",
       "      <td>41.377557</td>\n",
       "      <td>48.300994</td>\n",
       "      <td>7.323990</td>\n",
       "      <td>48.300994</td>\n",
       "      <td>1.833858</td>\n",
       "      <td>inf</td>\n",
       "      <td>47.206600</td>\n",
       "      <td>5.028487</td>\n",
       "      <td>7.810194</td>\n",
       "    </tr>\n",
       "    <tr>\n",
       "      <th>164</th>\n",
       "      <td>45.366193</td>\n",
       "      <td>40.484842</td>\n",
       "      <td>55.839475</td>\n",
       "      <td>48.707466</td>\n",
       "      <td>54.253225</td>\n",
       "      <td>12.149226</td>\n",
       "      <td>15.249886</td>\n",
       "      <td>42.205693</td>\n",
       "      <td>38.013270</td>\n",
       "      <td>24.755170</td>\n",
       "      <td>...</td>\n",
       "      <td>45.541763</td>\n",
       "      <td>6.789646</td>\n",
       "      <td>10.695838</td>\n",
       "      <td>54.518494</td>\n",
       "      <td>10.695838</td>\n",
       "      <td>45.502887</td>\n",
       "      <td>47.206600</td>\n",
       "      <td>inf</td>\n",
       "      <td>42.233258</td>\n",
       "      <td>54.938726</td>\n",
       "    </tr>\n",
       "    <tr>\n",
       "      <th>165</th>\n",
       "      <td>3.139680</td>\n",
       "      <td>1.808680</td>\n",
       "      <td>13.606217</td>\n",
       "      <td>6.527458</td>\n",
       "      <td>12.162108</td>\n",
       "      <td>41.375773</td>\n",
       "      <td>28.405702</td>\n",
       "      <td>0.756038</td>\n",
       "      <td>5.558903</td>\n",
       "      <td>23.675006</td>\n",
       "      <td>...</td>\n",
       "      <td>3.312655</td>\n",
       "      <td>36.359838</td>\n",
       "      <td>43.637580</td>\n",
       "      <td>12.291750</td>\n",
       "      <td>43.637580</td>\n",
       "      <td>3.270795</td>\n",
       "      <td>5.028487</td>\n",
       "      <td>42.233258</td>\n",
       "      <td>inf</td>\n",
       "      <td>12.707747</td>\n",
       "    </tr>\n",
       "    <tr>\n",
       "      <th>166</th>\n",
       "      <td>9.584765</td>\n",
       "      <td>14.456841</td>\n",
       "      <td>0.943614</td>\n",
       "      <td>6.347179</td>\n",
       "      <td>2.483804</td>\n",
       "      <td>53.731902</td>\n",
       "      <td>40.924593</td>\n",
       "      <td>12.780661</td>\n",
       "      <td>17.476788</td>\n",
       "      <td>35.161267</td>\n",
       "      <td>...</td>\n",
       "      <td>9.407212</td>\n",
       "      <td>49.012123</td>\n",
       "      <td>56.094462</td>\n",
       "      <td>0.842200</td>\n",
       "      <td>56.094462</td>\n",
       "      <td>9.442309</td>\n",
       "      <td>7.810194</td>\n",
       "      <td>54.938726</td>\n",
       "      <td>12.707747</td>\n",
       "      <td>inf</td>\n",
       "    </tr>\n",
       "  </tbody>\n",
       "</table>\n",
       "<p>167 rows × 167 columns</p>\n",
       "</div>"
      ],
      "text/plain": [
       "           0          1          2          3          4          5    \\\n",
       "0          inf   4.928660  10.475863   3.402295   9.046000  44.329135   \n",
       "1     4.928660        inf  15.363990   8.326614  13.965788  39.839439   \n",
       "2    10.475863  15.363990        inf   7.195350   2.653738  54.549042   \n",
       "3     3.402295   8.326614   7.195350        inf   5.643921  47.391337   \n",
       "4     9.046000  13.965788   2.653738   5.643921        inf  52.532333   \n",
       "..         ...        ...        ...        ...        ...        ...   \n",
       "162   0.183869   5.049876  10.337038   3.295760   8.938714  44.493704   \n",
       "163   1.921478   6.830969   8.674609   1.503112   7.134836  45.960223   \n",
       "164  45.366193  40.484842  55.839475  48.707466  54.253225  12.149226   \n",
       "165   3.139680   1.808680  13.606217   6.527458  12.162108  41.375773   \n",
       "166   9.584765  14.456841   0.943614   6.347179   2.483804  53.731902   \n",
       "\n",
       "           6          7          8          9    ...        157        158  \\\n",
       "0    31.525721   3.212817   8.167347  26.529757  ...   0.180478  39.498997   \n",
       "1    26.601406   2.099390   4.686255  21.937558  ...   5.097647  34.577431   \n",
       "2    41.853597  13.661189  18.304496  36.104309  ...  10.299402  49.928916   \n",
       "3    34.926888   6.501805  11.133646  29.822103  ...   3.239187  42.880277   \n",
       "4    40.567164  12.088727  16.408137  35.345303  ...   8.883025  48.487730   \n",
       "..         ...        ...        ...        ...  ...        ...        ...   \n",
       "162  31.639843   3.370041   8.341824  26.596728  ...   0.090157  39.625372   \n",
       "163  33.432373   5.001225   9.708835  28.425488  ...   1.768291  41.377557   \n",
       "164  15.249886  42.205693  38.013270  24.755170  ...  45.541763   6.789646   \n",
       "165  28.405702   0.756038   5.558903  23.675006  ...   3.312655  36.359838   \n",
       "166  40.924593  12.780661  17.476788  35.161267  ...   9.407212  49.012123   \n",
       "\n",
       "           159        160        161        162        163        164  \\\n",
       "0    46.632397   9.154090  46.632397   0.183869   1.921478  45.366193   \n",
       "1    42.060108  14.063632  42.060108   5.049876   6.830969  40.484842   \n",
       "2    56.925712   1.397385  56.925712  10.337038   8.674609  55.839475   \n",
       "3    49.747776   5.833864  49.747776   3.295760   1.503112  48.707466   \n",
       "4    54.961957   1.674158  54.961957   8.938714   7.134836  54.253225   \n",
       "..         ...        ...        ...        ...        ...        ...   \n",
       "162  46.793616   9.021147  46.793616        inf   1.833858  45.502887   \n",
       "163  48.300994   7.323990  48.300994   1.833858        inf  47.206600   \n",
       "164  10.695838  54.518494  10.695838  45.502887  47.206600        inf   \n",
       "165  43.637580  12.291750  43.637580   3.270795   5.028487  42.233258   \n",
       "166  56.094462   0.842200  56.094462   9.442309   7.810194  54.938726   \n",
       "\n",
       "           165        166  \n",
       "0     3.139680   9.584765  \n",
       "1     1.808680  14.456841  \n",
       "2    13.606217   0.943614  \n",
       "3     6.527458   6.347179  \n",
       "4    12.162108   2.483804  \n",
       "..         ...        ...  \n",
       "162   3.270795   9.442309  \n",
       "163   5.028487   7.810194  \n",
       "164  42.233258  54.938726  \n",
       "165        inf  12.707747  \n",
       "166  12.707747        inf  \n",
       "\n",
       "[167 rows x 167 columns]"
      ]
     },
     "execution_count": 35,
     "metadata": {},
     "output_type": "execute_result"
    }
   ],
   "source": [
    "import numpy as np\n",
    "\n",
    "\n",
    "np.fill_diagonal(dists, np.inf)\n",
    "pd.DataFrame(dists)"
   ]
  },
  {
   "cell_type": "markdown",
   "metadata": {},
   "source": [
    "Now let's look at the distance between city 0 and some other cities. \n",
    "\n",
    "We can look at city 0 with its respective `longitude` and `latitude` values. "
   ]
  },
  {
   "cell_type": "code",
   "execution_count": 36,
   "metadata": {},
   "outputs": [
    {
     "data": {
      "text/html": [
       "<div>\n",
       "<style scoped>\n",
       "    .dataframe tbody tr th:only-of-type {\n",
       "        vertical-align: middle;\n",
       "    }\n",
       "\n",
       "    .dataframe tbody tr th {\n",
       "        vertical-align: top;\n",
       "    }\n",
       "\n",
       "    .dataframe thead th {\n",
       "        text-align: right;\n",
       "    }\n",
       "</style>\n",
       "<table border=\"1\" class=\"dataframe\">\n",
       "  <thead>\n",
       "    <tr style=\"text-align: right;\">\n",
       "      <th></th>\n",
       "      <th>longitude</th>\n",
       "      <th>latitude</th>\n",
       "      <th>country</th>\n",
       "    </tr>\n",
       "  </thead>\n",
       "  <tbody>\n",
       "    <tr>\n",
       "      <th>160</th>\n",
       "      <td>-76.4813</td>\n",
       "      <td>44.2307</td>\n",
       "      <td>Canada</td>\n",
       "    </tr>\n",
       "  </tbody>\n",
       "</table>\n",
       "</div>"
      ],
      "text/plain": [
       "     longitude  latitude country\n",
       "160   -76.4813   44.2307  Canada"
      ]
     },
     "execution_count": 36,
     "metadata": {},
     "output_type": "execute_result"
    }
   ],
   "source": [
    "cities_train_df.iloc[[0]]"
   ]
  },
  {
   "cell_type": "markdown",
   "metadata": {},
   "source": [
    "And the distances from city 0 to the other cities in the training dataset."
   ]
  },
  {
   "cell_type": "code",
   "execution_count": 37,
   "metadata": {},
   "outputs": [
    {
     "data": {
      "text/plain": [
       "array([        inf,  4.92866046, 10.47586257,  3.40229467,  9.04600003,\n",
       "       44.32913545, 31.52572108,  3.21281701,  8.16734667, 26.52975665,\n",
       "        5.36451793, 17.47354208,  9.25235538, 46.65300827, 12.91711643,\n",
       "        8.73732272, 21.41984759, 46.10101237, 11.38925694,  8.45258153,\n",
       "        3.29603996, 12.90216965, 25.43541008,  2.57167487, 35.80191816,\n",
       "       54.77569987,  2.77064993,  4.74762925, 21.11653758, 46.84711517,\n",
       "       18.63306299, 42.68410294, 21.26505054, 46.58691036, 23.62784332,\n",
       "        4.45224202,  4.47636916, 36.52381145,  9.25295786,  6.83445279,\n",
       "        3.32357247,  8.16734667, 31.19662805,  7.79242035,  1.42424148,\n",
       "       23.99849627, 38.17792497,  4.94149717, 21.5518279 ,  9.51787313,\n",
       "       38.19275017, 37.97055885,  2.97880445,  9.51483002, 37.1901251 ,\n",
       "       54.83532899,  1.28350735, 10.0044146 ,  3.28029451, 45.92971431,\n",
       "       11.01430039,  3.19225293, 46.38943202,  2.96693525,  9.04600003,\n",
       "       35.80001702,  2.76505999,  3.07231406, 36.96774058, 38.19559327,\n",
       "        3.10919556,  7.39488827,  2.95943349, 11.50351059,  3.93684711,\n",
       "       42.2793155 ,  9.14918312,  6.83445279, 46.91610836, 43.38757936,\n",
       "        3.5288519 , 46.38746533,  3.93581626,  2.96373905, 21.27058643,\n",
       "       18.66494501, 26.50025275,  6.82764827,  4.7396424 ,  9.9874779 ,\n",
       "        6.83549241, 13.13067545, 46.50627115, 26.49966844, 28.81491391,\n",
       "       45.97271218, 46.90321547,  5.73649067, 59.62262041,  1.09761148,\n",
       "        6.08870392,  5.73454545, 46.21089504,  9.03328701,  7.92447701,\n",
       "       23.80155222, 47.07123507,  8.73468637,  2.74816746,  3.07662193,\n",
       "        3.22855068,  3.63284771, 19.68277227,  2.82337311,  3.43691007,\n",
       "        7.93860597, 46.85396601, 16.3288186 , 46.23882897, 43.94670281,\n",
       "       28.85319232,  2.91163454,  2.88081958, 16.80079704, 23.7934676 ,\n",
       "        3.9286773 ,  2.86603875,  3.32357247,  1.07865087,  8.4376414 ,\n",
       "        6.82764827,  3.0717763 ,  4.45272866,  9.11228649,  4.08772282,\n",
       "        2.86603875, 34.6881178 ,  1.8400926 ,  3.03326165, 23.32224009,\n",
       "       46.10101237, 46.83865522, 22.78600867, 28.85530775, 18.81002995,\n",
       "       46.69549579, 13.44345687, 17.34527477,  6.75905672,  5.89141512,\n",
       "        3.13784784,  3.47624672, 42.98365051, 43.00228242, 10.65641958,\n",
       "        3.80625889,  1.42924216,  0.18047839, 39.49899714, 46.63239678,\n",
       "        9.15409025, 46.63239678,  0.18386865,  1.92147809, 45.36619339,\n",
       "        3.13968038,  9.58476504])"
      ]
     },
     "execution_count": 37,
     "metadata": {},
     "output_type": "execute_result"
    }
   ],
   "source": [
    "dists[0]"
   ]
  },
  {
   "cell_type": "markdown",
   "metadata": {},
   "source": [
    "Remember that our goal is to find the closest example to city 0. \n",
    "\n",
    "We can find the closest city to city 0 by finding the city with the minimum distance. "
   ]
  },
  {
   "cell_type": "code",
   "execution_count": 38,
   "metadata": {},
   "outputs": [
    {
     "data": {
      "text/plain": [
       "157"
      ]
     },
     "execution_count": 38,
     "metadata": {},
     "output_type": "execute_result"
    }
   ],
   "source": [
    "np.argmin(dists[0])"
   ]
  },
  {
   "cell_type": "markdown",
   "metadata": {},
   "source": [
    "The closest city in the training dataset is the city with index 157.\n",
    "\n",
    "This corresponds to index 96 from the original dataset before shuffling."
   ]
  },
  {
   "cell_type": "code",
   "execution_count": 39,
   "metadata": {},
   "outputs": [
    {
     "data": {
      "text/html": [
       "<div>\n",
       "<style scoped>\n",
       "    .dataframe tbody tr th:only-of-type {\n",
       "        vertical-align: middle;\n",
       "    }\n",
       "\n",
       "    .dataframe tbody tr th {\n",
       "        vertical-align: top;\n",
       "    }\n",
       "\n",
       "    .dataframe thead th {\n",
       "        text-align: right;\n",
       "    }\n",
       "</style>\n",
       "<table border=\"1\" class=\"dataframe\">\n",
       "  <thead>\n",
       "    <tr style=\"text-align: right;\">\n",
       "      <th></th>\n",
       "      <th>longitude</th>\n",
       "      <th>latitude</th>\n",
       "      <th>country</th>\n",
       "    </tr>\n",
       "  </thead>\n",
       "  <tbody>\n",
       "    <tr>\n",
       "      <th>96</th>\n",
       "      <td>-76.3019</td>\n",
       "      <td>44.211</td>\n",
       "      <td>Canada</td>\n",
       "    </tr>\n",
       "  </tbody>\n",
       "</table>\n",
       "</div>"
      ],
      "text/plain": [
       "    longitude  latitude country\n",
       "96   -76.3019    44.211  Canada"
      ]
     },
     "execution_count": 39,
     "metadata": {},
     "output_type": "execute_result"
    }
   ],
   "source": [
    "cities_train_df.iloc[[157]]"
   ]
  },
  {
   "cell_type": "markdown",
   "metadata": {},
   "source": [
    "If we look at the `longitude` and `latitude` values for the city at index 157 (labelled 96), they look pretty close to those of city 0. "
   ]
  },
  {
   "cell_type": "code",
   "execution_count": 40,
   "metadata": {},
   "outputs": [
    {
     "data": {
      "text/html": [
       "<div>\n",
       "<style scoped>\n",
       "    .dataframe tbody tr th:only-of-type {\n",
       "        vertical-align: middle;\n",
       "    }\n",
       "\n",
       "    .dataframe tbody tr th {\n",
       "        vertical-align: top;\n",
       "    }\n",
       "\n",
       "    .dataframe thead th {\n",
       "        text-align: right;\n",
       "    }\n",
       "</style>\n",
       "<table border=\"1\" class=\"dataframe\">\n",
       "  <thead>\n",
       "    <tr style=\"text-align: right;\">\n",
       "      <th></th>\n",
       "      <th>longitude</th>\n",
       "      <th>latitude</th>\n",
       "      <th>country</th>\n",
       "    </tr>\n",
       "  </thead>\n",
       "  <tbody>\n",
       "    <tr>\n",
       "      <th>160</th>\n",
       "      <td>-76.4813</td>\n",
       "      <td>44.2307</td>\n",
       "      <td>Canada</td>\n",
       "    </tr>\n",
       "  </tbody>\n",
       "</table>\n",
       "</div>"
      ],
      "text/plain": [
       "     longitude  latitude country\n",
       "160   -76.4813   44.2307  Canada"
      ]
     },
     "execution_count": 40,
     "metadata": {},
     "output_type": "execute_result"
    }
   ],
   "source": [
    "cities_train_df.iloc[[0]]"
   ]
  },
  {
   "cell_type": "code",
   "execution_count": 41,
   "metadata": {},
   "outputs": [
    {
     "data": {
      "text/plain": [
       "0.18047839205805613"
      ]
     },
     "execution_count": 41,
     "metadata": {},
     "output_type": "execute_result"
    }
   ],
   "source": [
    "dists[0][157]"
   ]
  },
  {
   "cell_type": "markdown",
   "metadata": {},
   "source": [
    "So, in this case, the closest city to city 0 is city 157 and the Euclidean distance between the two cities is 0.184. "
   ]
  },
  {
   "cell_type": "markdown",
   "metadata": {},
   "source": [
    "### Nearest city to a query point\n",
    "\n",
    "We can also find the distances to a new \"test\" or \"query\" city:"
   ]
  },
  {
   "cell_type": "code",
   "execution_count": 42,
   "metadata": {},
   "outputs": [
    {
     "data": {
      "text/plain": [
       "array([[19.54996348],\n",
       "       [18.02706204],\n",
       "       [24.60912622],\n",
       "       [21.39718237],\n",
       "       [25.24111312],\n",
       "       [47.81750619],\n",
       "       [28.49499735],\n",
       "       [19.39177482],\n",
       "       [21.95316686],\n",
       "       [19.01698738]])"
      ]
     },
     "execution_count": 42,
     "metadata": {},
     "output_type": "execute_result"
    }
   ],
   "source": [
    "query_point = [[-80, 25]]\n",
    "\n",
    "\n",
    "dists = euclidean_distances(cities_train_df[[\"longitude\", \"latitude\"]], query_point)\n",
    "dists[:10]  # Only show the first few observations"
   ]
  },
  {
   "cell_type": "markdown",
   "metadata": {},
   "source": [
    "We can find the city closest to the query point (-80, 25) using:"
   ]
  },
  {
   "cell_type": "code",
   "execution_count": 43,
   "metadata": {},
   "outputs": [
    {
     "data": {
      "text/plain": [
       "147"
      ]
     },
     "execution_count": 43,
     "metadata": {},
     "output_type": "execute_result"
    }
   ],
   "source": [
    "np.argmin(dists)"
   ]
  },
  {
   "cell_type": "code",
   "execution_count": 44,
   "metadata": {},
   "outputs": [
    {
     "data": {
      "text/plain": [
       "array([3.83839229])"
      ]
     },
     "execution_count": 44,
     "metadata": {},
     "output_type": "execute_result"
    }
   ],
   "source": [
    "dists[np.argmin(dists)]"
   ]
  },
  {
   "cell_type": "markdown",
   "metadata": {},
   "source": [
    "So the city at index 147 is the closest point to (-80, 25) with the Euclidean distance between the two equal to 3.838"
   ]
  },
  {
   "cell_type": "markdown",
   "metadata": {},
   "source": [
    "Instead of doing this manually we can use Sklearn's `NearestNeighbors` function to get the closest example and the distance between the query point and the closest example."
   ]
  },
  {
   "cell_type": "code",
   "execution_count": 45,
   "metadata": {},
   "outputs": [
    {
     "name": "stderr",
     "output_type": "stream",
     "text": [
      "/home/joel/miniconda3/envs/bait/lib/python3.9/site-packages/sklearn/base.py:450: UserWarning: X does not have valid feature names, but NearestNeighbors was fitted with feature names\n",
      "  warnings.warn(\n"
     ]
    },
    {
     "data": {
      "text/plain": [
       "(array([[3.83839229]]), array([[147]]))"
      ]
     },
     "execution_count": 45,
     "metadata": {},
     "output_type": "execute_result"
    }
   ],
   "source": [
    "from sklearn.neighbors import NearestNeighbors\n",
    "\n",
    "\n",
    "nn = NearestNeighbors(n_neighbors=1)\n",
    "nn.fit(cities_train_df[['longitude', 'latitude']]);\n",
    "nn.kneighbors([[-80, 25]])"
   ]
  },
  {
   "cell_type": "markdown",
   "metadata": {},
   "source": [
    "We can also use `kneighbors` to find the 5 nearest cities in the training split to one of the cities in the test split. "
   ]
  },
  {
   "cell_type": "code",
   "execution_count": 46,
   "metadata": {},
   "outputs": [
    {
     "data": {
      "text/plain": [
       "(array([[0.03461517, 0.90722048, 0.90722048, 0.90970871, 0.90970871]]),\n",
       " array([[100,  77,  39,  87, 130]]))"
      ]
     },
     "execution_count": 46,
     "metadata": {},
     "output_type": "execute_result"
    }
   ],
   "source": [
    "cities_test_X = cities_test_df[['longitude', 'latitude']]\n",
    "\n",
    "nn = NearestNeighbors(n_neighbors=5)\n",
    "nn.fit(cities_train_df[['longitude', 'latitude']]);\n",
    "nn.kneighbors(cities_test_X.iloc[[1]])"
   ]
  },
  {
   "cell_type": "markdown",
   "metadata": {},
   "source": [
    "On the last line,\n",
    "we need to be careful and make sure that we pass in either a 2D numpy array\n",
    "or a dataframe as our input.\n",
    "This is why we use 2 sets of square brackets with our city above."
   ]
  },
  {
   "cell_type": "markdown",
   "metadata": {},
   "source": [
    "## Let's Practice\n",
    "\n",
    "\n",
    "```             \n",
    "       seeds   shape  sweetness   water-content      weight    fruit_veg\n",
    "0      1        0        35          84               100        fruit\n",
    "1      0        0        23          75               120        fruit\n",
    "2      1        1        15          90              1360         veg\n",
    "3      1        1         7          96               600         veg\n",
    "4      0        0        37          80                 5        fruit\n",
    "5      0        0        45          78                40        fruit  \n",
    "6      1        0        27          83               450         veg\n",
    "7      1        1        18          73                 5         veg\n",
    "8      1        1        32          80                76         veg\n",
    "9      0        0        40          83                65        fruit\n",
    "```\n",
    "\n",
    "1\\. Giving the table above and that we are trying to predict if each example is either a fruit or a vegetable, what would be the dimension of feature vectors in this problem?\n",
    "\n",
    "\n",
    "2\\. Which of the following would be the feature vector for example 0. \n",
    "\n",
    "a) `array([1,  0, 1, 1, 0, 0, 1, 1, 1, 0])`    \n",
    "b) `array([fruit,  fruit, veg, veg, fruit, fruit, veg, veg, veg, fruit])`     \n",
    "c) `array([1, 0, 35, 84, 100])`    \n",
    "d) `array([1, 0, 35, 84, 100,  fruit])`     \n",
    "\n",
    "\n",
    "3\\. Given the following 2 feature vectors, what is the Euclidean distance between the following two feature vectors?\n",
    "\n",
    "```\n",
    "u = np.array([5, 0, 22, -11])\n",
    "v = np.array([-1, 0, 19, -9])\n",
    "```\n",
    "\n",
    "\n",
    "\n",
    "**True or False**     \n",
    "\n",
    "4\\. Analogy-based models find examples from the test set that are most similar to the test example we are predicting.   \n",
    "5\\. Feature vectors can only be of length 3 since we cannot visualize past that.    \n",
    "6\\. Euclidean distance will always have a positive value.    \n",
    "7\\. When finding the nearest neighbour in a dataset using `kneighbors()` from the `sklearn` library, we must `fit`  the data first.   "
   ]
  },
  {
   "cell_type": "markdown",
   "metadata": {},
   "source": [
    "```{admonition} Solutions!\n",
    ":class: dropdown\n",
    "\n",
    "1. 5 dimensions.\n",
    "2. c) `array([1, 0, 35, 84, 100])`\n",
    "3. 7\n",
    "4. False   \n",
    "5. False\n",
    "6. True\n",
    "7. True\n",
    "\n",
    "```"
   ]
  },
  {
   "cell_type": "markdown",
   "metadata": {},
   "source": [
    "## $k$ -Nearest Neighbours ($k$-NNs) Classifier\n",
    "\n",
    "Now that we have learned how to find similar examples, can we use this idea in a predictive model?\n",
    "\n",
    "- Yes! The k Nearest Neighbors (kNN) algorithm\n",
    "- This is a fairly simple algorithm that is best understood by example\n",
    "\n",
    "\n",
    "<img src=\"imgs/scatter.png\"  width = \"30%\" alt=\"404 image\" />\n",
    "\n",
    "\n",
    "We have two features in our toy example; feature 1 and feature 2.\n",
    "\n",
    "We have two targets; 0 represented with  <font color=\"blue\">blue</font> points and 1 represented with  <font color=\"orange\">orange</font> points.\n",
    "\n",
    "We want to predict the point in gray."
   ]
  },
  {
   "cell_type": "markdown",
   "metadata": {},
   "source": [
    "Based on what we have been doing so far, we can find the closest example ($k$=1) to this gray point and use its class as the class for our grey point. \n",
    "\n",
    "In this particular case, we will predict orange as the class for our query point. \n",
    "\n",
    "<img src=\"imgs/scatter_k1.png\"  width = \"30%\" alt=\"404 image\" />"
   ]
  },
  {
   "cell_type": "markdown",
   "metadata": {},
   "source": [
    "What if we consider more than one nearest example and let them vote on the target of the query example. \n",
    "\n",
    "Let's consider the nearest 3 neighbours and let them vote. \n",
    "\n",
    "<img src=\"imgs/scatter_k3.png\"  width = \"30%\" alt=\"404 image\" />"
   ]
  },
  {
   "cell_type": "markdown",
   "metadata": {},
   "source": [
    "Let's try this with a smaller set of our data and `sklearn`. "
   ]
  },
  {
   "cell_type": "code",
   "execution_count": 47,
   "metadata": {},
   "outputs": [],
   "source": [
    "small_train_df = cities_train_df.sample(30, random_state=1223)\n",
    "small_X_train = small_train_df.drop(columns=[\"country\"])\n",
    "small_y_train = small_train_df[\"country\"]"
   ]
  },
  {
   "cell_type": "code",
   "execution_count": 48,
   "metadata": {},
   "outputs": [
    {
     "data": {
      "text/html": [
       "<div>\n",
       "<style scoped>\n",
       "    .dataframe tbody tr th:only-of-type {\n",
       "        vertical-align: middle;\n",
       "    }\n",
       "\n",
       "    .dataframe tbody tr th {\n",
       "        vertical-align: top;\n",
       "    }\n",
       "\n",
       "    .dataframe thead th {\n",
       "        text-align: right;\n",
       "    }\n",
       "</style>\n",
       "<table border=\"1\" class=\"dataframe\">\n",
       "  <thead>\n",
       "    <tr style=\"text-align: right;\">\n",
       "      <th></th>\n",
       "      <th>longitude</th>\n",
       "      <th>latitude</th>\n",
       "      <th>country</th>\n",
       "    </tr>\n",
       "  </thead>\n",
       "  <tbody>\n",
       "    <tr>\n",
       "      <th>195</th>\n",
       "      <td>-122.7454</td>\n",
       "      <td>53.9129</td>\n",
       "      <td>Canada</td>\n",
       "    </tr>\n",
       "  </tbody>\n",
       "</table>\n",
       "</div>"
      ],
      "text/plain": [
       "     longitude  latitude country\n",
       "195  -122.7454   53.9129  Canada"
      ]
     },
     "execution_count": 48,
     "metadata": {},
     "output_type": "execute_result"
    }
   ],
   "source": [
    "one_city = cities_test_df.sample(1, random_state=33)\n",
    "one_city"
   ]
  },
  {
   "cell_type": "code",
   "execution_count": 49,
   "metadata": {},
   "outputs": [
    {
     "data": {
      "text/html": [
       "\n",
       "<div id=\"altair-viz-ec5f28b5d8084dad968e2d2c3fad60f3\"></div>\n",
       "<script type=\"text/javascript\">\n",
       "  var VEGA_DEBUG = (typeof VEGA_DEBUG == \"undefined\") ? {} : VEGA_DEBUG;\n",
       "  (function(spec, embedOpt){\n",
       "    let outputDiv = document.currentScript.previousElementSibling;\n",
       "    if (outputDiv.id !== \"altair-viz-ec5f28b5d8084dad968e2d2c3fad60f3\") {\n",
       "      outputDiv = document.getElementById(\"altair-viz-ec5f28b5d8084dad968e2d2c3fad60f3\");\n",
       "    }\n",
       "    const paths = {\n",
       "      \"vega\": \"https://cdn.jsdelivr.net/npm//vega@5?noext\",\n",
       "      \"vega-lib\": \"https://cdn.jsdelivr.net/npm//vega-lib?noext\",\n",
       "      \"vega-lite\": \"https://cdn.jsdelivr.net/npm//vega-lite@4.17.0?noext\",\n",
       "      \"vega-embed\": \"https://cdn.jsdelivr.net/npm//vega-embed@6?noext\",\n",
       "    };\n",
       "\n",
       "    function maybeLoadScript(lib, version) {\n",
       "      var key = `${lib.replace(\"-\", \"\")}_version`;\n",
       "      return (VEGA_DEBUG[key] == version) ?\n",
       "        Promise.resolve(paths[lib]) :\n",
       "        new Promise(function(resolve, reject) {\n",
       "          var s = document.createElement('script');\n",
       "          document.getElementsByTagName(\"head\")[0].appendChild(s);\n",
       "          s.async = true;\n",
       "          s.onload = () => {\n",
       "            VEGA_DEBUG[key] = version;\n",
       "            return resolve(paths[lib]);\n",
       "          };\n",
       "          s.onerror = () => reject(`Error loading script: ${paths[lib]}`);\n",
       "          s.src = paths[lib];\n",
       "        });\n",
       "    }\n",
       "\n",
       "    function showError(err) {\n",
       "      outputDiv.innerHTML = `<div class=\"error\" style=\"color:red;\">${err}</div>`;\n",
       "      throw err;\n",
       "    }\n",
       "\n",
       "    function displayChart(vegaEmbed) {\n",
       "      vegaEmbed(outputDiv, spec, embedOpt)\n",
       "        .catch(err => showError(`Javascript Error: ${err.message}<br>This usually means there's a typo in your chart specification. See the javascript console for the full traceback.`));\n",
       "    }\n",
       "\n",
       "    if(typeof define === \"function\" && define.amd) {\n",
       "      requirejs.config({paths});\n",
       "      require([\"vega-embed\"], displayChart, err => showError(`Error loading script: ${err.message}`));\n",
       "    } else {\n",
       "      maybeLoadScript(\"vega\", \"5\")\n",
       "        .then(() => maybeLoadScript(\"vega-lite\", \"4.17.0\"))\n",
       "        .then(() => maybeLoadScript(\"vega-embed\", \"6\"))\n",
       "        .catch(showError)\n",
       "        .then(() => displayChart(vegaEmbed));\n",
       "    }\n",
       "  })({\"config\": {\"view\": {\"continuousWidth\": 400, \"continuousHeight\": 300}}, \"layer\": [{\"data\": {\"name\": \"data-c4c6612deb1589c1d2e3cbfa1b504ae9\"}, \"mark\": \"circle\", \"encoding\": {\"color\": {\"field\": \"country\", \"scale\": {\"domain\": [\"Canada\", \"USA\"], \"range\": [\"red\", \"blue\"]}, \"type\": \"nominal\"}, \"x\": {\"field\": \"longitude\", \"scale\": {\"domain\": [-140, -40]}, \"type\": \"quantitative\"}, \"y\": {\"field\": \"latitude\", \"scale\": {\"domain\": [20, 60]}, \"type\": \"quantitative\"}}}, {\"data\": {\"name\": \"data-d0ae25a3f6b392271f284534b330ba9e\"}, \"mark\": {\"type\": \"point\", \"fill\": \"darkgreen\", \"opacity\": 1, \"shape\": \"triangle-up\", \"size\": 400}, \"encoding\": {\"x\": {\"field\": \"longitude\", \"type\": \"quantitative\"}, \"y\": {\"field\": \"latitude\", \"type\": \"quantitative\"}}}], \"$schema\": \"https://vega.github.io/schema/vega-lite/v4.17.0.json\", \"datasets\": {\"data-c4c6612deb1589c1d2e3cbfa1b504ae9\": [{\"longitude\": -79.4608, \"latitude\": 46.3092, \"country\": \"Canada\"}, {\"longitude\": -84.3902, \"latitude\": 33.7491, \"country\": \"USA\"}, {\"longitude\": -67.4253, \"latitude\": 45.5672, \"country\": \"Canada\"}, {\"longitude\": -97.7437, \"latitude\": 30.2711, \"country\": \"USA\"}, {\"longitude\": -97.1385, \"latitude\": 49.8955, \"country\": \"Canada\"}, {\"longitude\": -82.4584, \"latitude\": 27.9478, \"country\": \"USA\"}, {\"longitude\": -71.1473, \"latitude\": 48.382, \"country\": \"Canada\"}, {\"longitude\": -104.9849, \"latitude\": 39.7392, \"country\": \"USA\"}, {\"longitude\": -76.3305, \"latitude\": 44.1255, \"country\": \"USA\"}, {\"longitude\": -76.4813, \"latitude\": 44.2307, \"country\": \"Canada\"}, {\"longitude\": -111.8315, \"latitude\": 33.4151, \"country\": \"USA\"}, {\"longitude\": -115.1485, \"latitude\": 36.1673, \"country\": \"USA\"}, {\"longitude\": -102.5496, \"latitude\": 48.9959, \"country\": \"USA\"}, {\"longitude\": -68.5897, \"latitude\": 47.2587, \"country\": \"USA\"}, {\"longitude\": -71.0692, \"latitude\": 48.406, \"country\": \"Canada\"}, {\"longitude\": -66.9905, \"latitude\": 44.9065, \"country\": \"USA\"}, {\"longitude\": -122.8491, \"latitude\": 49.1913, \"country\": \"Canada\"}, {\"longitude\": -84.3201, \"latitude\": 46.5239, \"country\": \"Canada\"}, {\"longitude\": -79.1153, \"latitude\": 43.101, \"country\": \"Canada\"}, {\"longitude\": -122.4199, \"latitude\": 37.779, \"country\": \"USA\"}, {\"longitude\": -122.6742, \"latitude\": 45.5202, \"country\": \"USA\"}, {\"longitude\": -66.9843, \"latitude\": 44.8607, \"country\": \"USA\"}, {\"longitude\": -71.3998, \"latitude\": 46.8884, \"country\": \"Canada\"}, {\"longitude\": -95.9384, \"latitude\": 41.2587, \"country\": \"USA\"}, {\"longitude\": -98.4951, \"latitude\": 29.4246, \"country\": \"USA\"}, {\"longitude\": -82.4405, \"latitude\": 42.9816, \"country\": \"USA\"}, {\"longitude\": -79.2506, \"latitude\": 42.9931, \"country\": \"Canada\"}, {\"longitude\": -118.1916, \"latitude\": 33.769, \"country\": \"USA\"}, {\"longitude\": -86.1584, \"latitude\": 39.7683, \"country\": \"USA\"}, {\"longitude\": -75.9774, \"latitude\": 36.853, \"country\": \"USA\"}], \"data-d0ae25a3f6b392271f284534b330ba9e\": [{\"longitude\": -122.7454, \"latitude\": 53.9129, \"country\": \"Canada\"}]}}, {\"mode\": \"vega-lite\"});\n",
       "</script>"
      ],
      "text/plain": [
       "alt.LayerChart(...)"
      ]
     },
     "execution_count": 49,
     "metadata": {},
     "output_type": "execute_result"
    }
   ],
   "source": [
    "chart_knn = alt.Chart(small_train_df).mark_circle().encode(\n",
    "    alt.X('longitude', scale=alt.Scale(domain=[-140, -40])),\n",
    "    alt.Y('latitude', scale=alt.Scale(domain=[20, 60])),\n",
    "    alt.Color('country', scale=alt.Scale(domain=['Canada', 'USA'], range=['red', 'blue'])))\n",
    "\n",
    "one_city_point = alt.Chart(one_city).mark_point(\n",
    "    shape='triangle-up', size=400, fill='darkgreen', opacity=1).encode(\n",
    "    alt.X('longitude'),\n",
    "    alt.Y('latitude')\n",
    ")\n",
    "\n",
    "chart_knn +  one_city_point"
   ]
  },
  {
   "cell_type": "markdown",
   "metadata": {},
   "source": [
    "We want to find the class for this green triangle city.  \n",
    "\n",
    "\n"
   ]
  },
  {
   "cell_type": "code",
   "execution_count": 50,
   "metadata": {},
   "outputs": [
    {
     "data": {
      "text/plain": [
       "array(['Canada'], dtype=object)"
      ]
     },
     "execution_count": 50,
     "metadata": {},
     "output_type": "execute_result"
    }
   ],
   "source": [
    "from sklearn.neighbors import KNeighborsClassifier\n",
    "\n",
    "\n",
    "neigh_clf = KNeighborsClassifier(n_neighbors=1)\n",
    "neigh_clf.fit(small_X_train, small_y_train)\n",
    "neigh_clf.predict(one_city.drop(columns=[\"country\"]))"
   ]
  },
  {
   "cell_type": "markdown",
   "metadata": {},
   "source": [
    "We can set `n_neighbors` equal to 1 to classify this triangle based on one neighbouring point. \n",
    "\n",
    "Our prediction here is Canada since the closest point to the green triangle is a city with the class “Canada”.\n",
    "\n",
    "Now, what if we consider the nearest 3 neighbours?"
   ]
  },
  {
   "cell_type": "code",
   "execution_count": 51,
   "metadata": {},
   "outputs": [
    {
     "data": {
      "text/plain": [
       "array(['USA'], dtype=object)"
      ]
     },
     "execution_count": 51,
     "metadata": {},
     "output_type": "execute_result"
    }
   ],
   "source": [
    "neigh_clf = KNeighborsClassifier(n_neighbors=3)\n",
    "neigh_clf.fit(small_X_train, small_y_train)\n",
    "neigh_clf.predict(one_city.drop(columns=[\"country\"]))"
   ]
  },
  {
   "cell_type": "markdown",
   "metadata": {},
   "source": [
    "When we change our model to consider the nearest 3 neighbours, our prediction changes!\n",
    "\n",
    "It now predicts \"USA\" since the majority of the 3 nearest points are \"USA\" cities. "
   ]
  },
  {
   "cell_type": "markdown",
   "metadata": {},
   "source": [
    "Let's use our entire training dataset and calculate our training and validation scores "
   ]
  },
  {
   "cell_type": "code",
   "execution_count": 52,
   "metadata": {},
   "outputs": [],
   "source": [
    "cities_X_train = cities_train_df.drop(columns=['country'])\n",
    "cities_y_train = cities_train_df['country']\n",
    "cities_X_test = cities_test_df.drop(columns=['country'])\n",
    "cities_y_test = cities_test_df['country']\n",
    "\n",
    "\n",
    "kn1_model = KNeighborsClassifier(n_neighbors=1)\n",
    "scores = cross_validate(kn1_model, cities_X_train, cities_y_train, cv=10, return_train_score=True)"
   ]
  },
  {
   "cell_type": "code",
   "execution_count": 53,
   "metadata": {},
   "outputs": [
    {
     "data": {
      "text/html": [
       "<div>\n",
       "<style scoped>\n",
       "    .dataframe tbody tr th:only-of-type {\n",
       "        vertical-align: middle;\n",
       "    }\n",
       "\n",
       "    .dataframe tbody tr th {\n",
       "        vertical-align: top;\n",
       "    }\n",
       "\n",
       "    .dataframe thead th {\n",
       "        text-align: right;\n",
       "    }\n",
       "</style>\n",
       "<table border=\"1\" class=\"dataframe\">\n",
       "  <thead>\n",
       "    <tr style=\"text-align: right;\">\n",
       "      <th></th>\n",
       "      <th>fit_time</th>\n",
       "      <th>score_time</th>\n",
       "      <th>test_score</th>\n",
       "      <th>train_score</th>\n",
       "    </tr>\n",
       "  </thead>\n",
       "  <tbody>\n",
       "    <tr>\n",
       "      <th>0</th>\n",
       "      <td>0.002475</td>\n",
       "      <td>0.002093</td>\n",
       "      <td>0.823529</td>\n",
       "      <td>1.0</td>\n",
       "    </tr>\n",
       "    <tr>\n",
       "      <th>1</th>\n",
       "      <td>0.001399</td>\n",
       "      <td>0.001869</td>\n",
       "      <td>0.705882</td>\n",
       "      <td>1.0</td>\n",
       "    </tr>\n",
       "    <tr>\n",
       "      <th>2</th>\n",
       "      <td>0.001503</td>\n",
       "      <td>0.001856</td>\n",
       "      <td>0.647059</td>\n",
       "      <td>1.0</td>\n",
       "    </tr>\n",
       "    <tr>\n",
       "      <th>3</th>\n",
       "      <td>0.001508</td>\n",
       "      <td>0.001797</td>\n",
       "      <td>0.941176</td>\n",
       "      <td>1.0</td>\n",
       "    </tr>\n",
       "    <tr>\n",
       "      <th>4</th>\n",
       "      <td>0.001377</td>\n",
       "      <td>0.001621</td>\n",
       "      <td>0.823529</td>\n",
       "      <td>1.0</td>\n",
       "    </tr>\n",
       "    <tr>\n",
       "      <th>5</th>\n",
       "      <td>0.001268</td>\n",
       "      <td>0.001399</td>\n",
       "      <td>0.588235</td>\n",
       "      <td>1.0</td>\n",
       "    </tr>\n",
       "    <tr>\n",
       "      <th>6</th>\n",
       "      <td>0.001389</td>\n",
       "      <td>0.001456</td>\n",
       "      <td>0.647059</td>\n",
       "      <td>1.0</td>\n",
       "    </tr>\n",
       "    <tr>\n",
       "      <th>7</th>\n",
       "      <td>0.001302</td>\n",
       "      <td>0.001423</td>\n",
       "      <td>0.812500</td>\n",
       "      <td>1.0</td>\n",
       "    </tr>\n",
       "    <tr>\n",
       "      <th>8</th>\n",
       "      <td>0.001266</td>\n",
       "      <td>0.001498</td>\n",
       "      <td>0.937500</td>\n",
       "      <td>1.0</td>\n",
       "    </tr>\n",
       "    <tr>\n",
       "      <th>9</th>\n",
       "      <td>0.001331</td>\n",
       "      <td>0.001545</td>\n",
       "      <td>0.750000</td>\n",
       "      <td>1.0</td>\n",
       "    </tr>\n",
       "  </tbody>\n",
       "</table>\n",
       "</div>"
      ],
      "text/plain": [
       "   fit_time  score_time  test_score  train_score\n",
       "0  0.002475    0.002093    0.823529          1.0\n",
       "1  0.001399    0.001869    0.705882          1.0\n",
       "2  0.001503    0.001856    0.647059          1.0\n",
       "3  0.001508    0.001797    0.941176          1.0\n",
       "4  0.001377    0.001621    0.823529          1.0\n",
       "5  0.001268    0.001399    0.588235          1.0\n",
       "6  0.001389    0.001456    0.647059          1.0\n",
       "7  0.001302    0.001423    0.812500          1.0\n",
       "8  0.001266    0.001498    0.937500          1.0\n",
       "9  0.001331    0.001545    0.750000          1.0"
      ]
     },
     "execution_count": 53,
     "metadata": {},
     "output_type": "execute_result"
    }
   ],
   "source": [
    "scores_df = pd.DataFrame(scores)\n",
    "scores_df"
   ]
  },
  {
   "cell_type": "code",
   "execution_count": 54,
   "metadata": {},
   "outputs": [
    {
     "data": {
      "text/plain": [
       "fit_time       0.001482\n",
       "score_time     0.001656\n",
       "test_score     0.767647\n",
       "train_score    1.000000\n",
       "dtype: float64"
      ]
     },
     "execution_count": 54,
     "metadata": {},
     "output_type": "execute_result"
    }
   ],
   "source": [
    "scores_df.mean()"
   ]
  },
  {
   "cell_type": "markdown",
   "metadata": {},
   "source": [
    "## Choosing K\n",
    "\n",
    "Ok, so we saw our validation and training scores for `n_neighbors` =1. What happens when we change that? "
   ]
  },
  {
   "cell_type": "code",
   "execution_count": 55,
   "metadata": {},
   "outputs": [
    {
     "data": {
      "text/html": [
       "<div>\n",
       "<style scoped>\n",
       "    .dataframe tbody tr th:only-of-type {\n",
       "        vertical-align: middle;\n",
       "    }\n",
       "\n",
       "    .dataframe tbody tr th {\n",
       "        vertical-align: top;\n",
       "    }\n",
       "\n",
       "    .dataframe thead th {\n",
       "        text-align: right;\n",
       "    }\n",
       "</style>\n",
       "<table border=\"1\" class=\"dataframe\">\n",
       "  <thead>\n",
       "    <tr style=\"text-align: right;\">\n",
       "      <th></th>\n",
       "      <th>fit_time</th>\n",
       "      <th>score_time</th>\n",
       "      <th>test_score</th>\n",
       "      <th>train_score</th>\n",
       "    </tr>\n",
       "  </thead>\n",
       "  <tbody>\n",
       "    <tr>\n",
       "      <th>0</th>\n",
       "      <td>0.001924</td>\n",
       "      <td>0.002541</td>\n",
       "      <td>0.705882</td>\n",
       "      <td>0.620000</td>\n",
       "    </tr>\n",
       "    <tr>\n",
       "      <th>1</th>\n",
       "      <td>0.001278</td>\n",
       "      <td>0.002043</td>\n",
       "      <td>0.588235</td>\n",
       "      <td>0.620000</td>\n",
       "    </tr>\n",
       "    <tr>\n",
       "      <th>2</th>\n",
       "      <td>0.001830</td>\n",
       "      <td>0.002455</td>\n",
       "      <td>0.588235</td>\n",
       "      <td>0.633333</td>\n",
       "    </tr>\n",
       "    <tr>\n",
       "      <th>3</th>\n",
       "      <td>0.001358</td>\n",
       "      <td>0.001940</td>\n",
       "      <td>0.588235</td>\n",
       "      <td>0.606667</td>\n",
       "    </tr>\n",
       "    <tr>\n",
       "      <th>4</th>\n",
       "      <td>0.001391</td>\n",
       "      <td>0.001709</td>\n",
       "      <td>0.588235</td>\n",
       "      <td>0.620000</td>\n",
       "    </tr>\n",
       "    <tr>\n",
       "      <th>5</th>\n",
       "      <td>0.001365</td>\n",
       "      <td>0.001626</td>\n",
       "      <td>0.588235</td>\n",
       "      <td>0.633333</td>\n",
       "    </tr>\n",
       "    <tr>\n",
       "      <th>6</th>\n",
       "      <td>0.001363</td>\n",
       "      <td>0.001619</td>\n",
       "      <td>0.647059</td>\n",
       "      <td>0.700000</td>\n",
       "    </tr>\n",
       "    <tr>\n",
       "      <th>7</th>\n",
       "      <td>0.001348</td>\n",
       "      <td>0.001807</td>\n",
       "      <td>0.625000</td>\n",
       "      <td>0.629139</td>\n",
       "    </tr>\n",
       "    <tr>\n",
       "      <th>8</th>\n",
       "      <td>0.001831</td>\n",
       "      <td>0.002362</td>\n",
       "      <td>0.687500</td>\n",
       "      <td>0.622517</td>\n",
       "    </tr>\n",
       "    <tr>\n",
       "      <th>9</th>\n",
       "      <td>0.002112</td>\n",
       "      <td>0.002652</td>\n",
       "      <td>0.625000</td>\n",
       "      <td>0.629139</td>\n",
       "    </tr>\n",
       "  </tbody>\n",
       "</table>\n",
       "</div>"
      ],
      "text/plain": [
       "   fit_time  score_time  test_score  train_score\n",
       "0  0.001924    0.002541    0.705882     0.620000\n",
       "1  0.001278    0.002043    0.588235     0.620000\n",
       "2  0.001830    0.002455    0.588235     0.633333\n",
       "3  0.001358    0.001940    0.588235     0.606667\n",
       "4  0.001391    0.001709    0.588235     0.620000\n",
       "5  0.001365    0.001626    0.588235     0.633333\n",
       "6  0.001363    0.001619    0.647059     0.700000\n",
       "7  0.001348    0.001807    0.625000     0.629139\n",
       "8  0.001831    0.002362    0.687500     0.622517\n",
       "9  0.002112    0.002652    0.625000     0.629139"
      ]
     },
     "execution_count": 55,
     "metadata": {},
     "output_type": "execute_result"
    }
   ],
   "source": [
    "kn90_model = KNeighborsClassifier(n_neighbors=90)\n",
    "\n",
    "scores_df = pd.DataFrame(cross_validate(kn90_model, cities_X_train, cities_y_train, cv=10, return_train_score=True))\n",
    "scores_df"
   ]
  },
  {
   "cell_type": "code",
   "execution_count": 56,
   "metadata": {},
   "outputs": [
    {
     "data": {
      "text/plain": [
       "fit_time       0.001580\n",
       "score_time     0.002075\n",
       "test_score     0.623162\n",
       "train_score    0.631413\n",
       "dtype: float64"
      ]
     },
     "execution_count": 56,
     "metadata": {},
     "output_type": "execute_result"
    }
   ],
   "source": [
    "scores_df.mean()"
   ]
  },
  {
   "cell_type": "markdown",
   "metadata": {},
   "source": [
    "Comparing this with the results of `n_neighbors=1` we see that we went from overfitting to underfitting.\n",
    "\n",
    "Let's look at the decision boundaries now. "
   ]
  },
  {
   "cell_type": "code",
   "execution_count": 57,
   "metadata": {},
   "outputs": [
    {
     "name": "stderr",
     "output_type": "stream",
     "text": [
      "/home/joel/miniconda3/envs/bait/lib/python3.9/site-packages/sklearn/base.py:450: UserWarning: X does not have valid feature names, but KNeighborsClassifier was fitted with feature names\n",
      "  warnings.warn(\n",
      "/home/joel/miniconda3/envs/bait/lib/python3.9/site-packages/sklearn/base.py:450: UserWarning: X does not have valid feature names, but KNeighborsClassifier was fitted with feature names\n",
      "  warnings.warn(\n"
     ]
    },
    {
     "data": {
      "text/plain": [
       "<AxesSubplot:title={'center':'n_neighbors = 90'}, xlabel='longitude', ylabel='latitude'>"
      ]
     },
     "execution_count": 57,
     "metadata": {},
     "output_type": "execute_result"
    },
    {
     "data": {
      "image/png": "[encoded data removed]",
      "text/plain": [
       "<Figure size 1152x576 with 2 Axes>"
      ]
     },
     "metadata": {
      "needs_background": "light"
     },
     "output_type": "display_data"
    }
   ],
   "source": [
    "from plot_classifier import plot_classifier\n",
    "import matplotlib.pyplot as plt\n",
    "\n",
    "\n",
    "plt.figure(figsize=(16, 8))\n",
    "plt.subplot(1, 2, 1)\n",
    "kn1_model.fit(cities_X_train, cities_y_train);\n",
    "plt.title(\"n_neighbors = 1\")\n",
    "plt.ylabel(\"latitude\")\n",
    "plt.xlabel(\"longitude\")\n",
    "plot_classifier(cities_X_train, cities_y_train, kn1_model, ax=plt.gca(), ticks=True)\n",
    "\n",
    "\n",
    "plt.subplot(1, 2, 2)\n",
    "plt.title(\"n_neighbors = 90\")\n",
    "kn90_model.fit(cities_X_train, cities_y_train);\n",
    "plt.ylabel(\"latitude\")\n",
    "plt.xlabel(\"longitude\")\n",
    "plot_classifier(cities_X_train, cities_y_train, kn90_model, ax=plt.gca(), ticks=True)"
   ]
  },
  {
   "cell_type": "markdown",
   "metadata": {},
   "source": [
    "If we plot these two models with $k=1$ on the left and $k=90$ on the right. \n",
    "\n",
    "The left plot shows a much more complex model where it is much more specific and attempts to get every example correct. \n",
    "\n",
    "The plot on right is plotting a simpler model and we can see more training examples are being predicted incorrectly. "
   ]
  },
  {
   "cell_type": "markdown",
   "metadata": {},
   "source": [
    "### How to choose $K$ (`n_neighbors`)?\n",
    "\n",
    "So we saw the model was overfitting with $k$=1 and  when $k$=90, the model was underfitting.\n",
    "\n",
    "So, the question is how do we pick $k$?\n",
    "\n",
    "- Since $k$ is a hyperparameter (`n_neighbors` in `sklearn`), we can use hyperparameter optimization to choose $k$.\n",
    "\n",
    "Here we are looping over different values of $k$ and performing cross-validation on each one."
   ]
  },
  {
   "cell_type": "code",
   "execution_count": 58,
   "metadata": {},
   "outputs": [
    {
     "data": {
      "text/html": [
       "<div>\n",
       "<style scoped>\n",
       "    .dataframe tbody tr th:only-of-type {\n",
       "        vertical-align: middle;\n",
       "    }\n",
       "\n",
       "    .dataframe tbody tr th {\n",
       "        vertical-align: top;\n",
       "    }\n",
       "\n",
       "    .dataframe thead th {\n",
       "        text-align: right;\n",
       "    }\n",
       "</style>\n",
       "<table border=\"1\" class=\"dataframe\">\n",
       "  <thead>\n",
       "    <tr style=\"text-align: right;\">\n",
       "      <th></th>\n",
       "      <th>n_neighbors</th>\n",
       "      <th>mean_train_score</th>\n",
       "      <th>mean_cv_score</th>\n",
       "    </tr>\n",
       "  </thead>\n",
       "  <tbody>\n",
       "    <tr>\n",
       "      <th>0</th>\n",
       "      <td>1</td>\n",
       "      <td>1.000000</td>\n",
       "      <td>0.767647</td>\n",
       "    </tr>\n",
       "    <tr>\n",
       "      <th>1</th>\n",
       "      <td>6</td>\n",
       "      <td>0.841660</td>\n",
       "      <td>0.785662</td>\n",
       "    </tr>\n",
       "    <tr>\n",
       "      <th>2</th>\n",
       "      <td>11</td>\n",
       "      <td>0.823051</td>\n",
       "      <td>0.811029</td>\n",
       "    </tr>\n",
       "    <tr>\n",
       "      <th>3</th>\n",
       "      <td>16</td>\n",
       "      <td>0.807726</td>\n",
       "      <td>0.793382</td>\n",
       "    </tr>\n",
       "    <tr>\n",
       "      <th>4</th>\n",
       "      <td>21</td>\n",
       "      <td>0.777810</td>\n",
       "      <td>0.756985</td>\n",
       "    </tr>\n",
       "    <tr>\n",
       "      <th>5</th>\n",
       "      <td>26</td>\n",
       "      <td>0.765854</td>\n",
       "      <td>0.739338</td>\n",
       "    </tr>\n",
       "    <tr>\n",
       "      <th>6</th>\n",
       "      <td>31</td>\n",
       "      <td>0.758525</td>\n",
       "      <td>0.738971</td>\n",
       "    </tr>\n",
       "    <tr>\n",
       "      <th>7</th>\n",
       "      <td>36</td>\n",
       "      <td>0.738583</td>\n",
       "      <td>0.720221</td>\n",
       "    </tr>\n",
       "    <tr>\n",
       "      <th>8</th>\n",
       "      <td>41</td>\n",
       "      <td>0.725912</td>\n",
       "      <td>0.726471</td>\n",
       "    </tr>\n",
       "    <tr>\n",
       "      <th>9</th>\n",
       "      <td>46</td>\n",
       "      <td>0.733916</td>\n",
       "      <td>0.713971</td>\n",
       "    </tr>\n",
       "  </tbody>\n",
       "</table>\n",
       "</div>"
      ],
      "text/plain": [
       "   n_neighbors  mean_train_score  mean_cv_score\n",
       "0            1          1.000000       0.767647\n",
       "1            6          0.841660       0.785662\n",
       "2           11          0.823051       0.811029\n",
       "3           16          0.807726       0.793382\n",
       "4           21          0.777810       0.756985\n",
       "5           26          0.765854       0.739338\n",
       "6           31          0.758525       0.738971\n",
       "7           36          0.738583       0.720221\n",
       "8           41          0.725912       0.726471\n",
       "9           46          0.733916       0.713971"
      ]
     },
     "execution_count": 58,
     "metadata": {},
     "output_type": "execute_result"
    }
   ],
   "source": [
    "results_dict = {\"n_neighbors\": list(), \"mean_train_score\": list(), \"mean_cv_score\": list()}\n",
    "\n",
    "for k in range(1, 50, 5):\n",
    "    knn = KNeighborsClassifier(n_neighbors=k)\n",
    "    scores = cross_validate(knn, cities_X_train, cities_y_train, cv=10, return_train_score=True)\n",
    "    results_dict[\"n_neighbors\"].append(k)\n",
    "    results_dict[\"mean_cv_score\"].append(np.mean(scores[\"test_score\"]))\n",
    "    results_dict[\"mean_train_score\"].append(np.mean(scores[\"train_score\"]))\n",
    "\n",
    "results_df = pd.DataFrame(results_dict)\n",
    "results_df"
   ]
  },
  {
   "cell_type": "code",
   "execution_count": 59,
   "metadata": {},
   "outputs": [
    {
     "data": {
      "text/html": [
       "\n",
       "<div id=\"altair-viz-be0d2e4b98f542a5a5791e4fe3b65e63\"></div>\n",
       "<script type=\"text/javascript\">\n",
       "  var VEGA_DEBUG = (typeof VEGA_DEBUG == \"undefined\") ? {} : VEGA_DEBUG;\n",
       "  (function(spec, embedOpt){\n",
       "    let outputDiv = document.currentScript.previousElementSibling;\n",
       "    if (outputDiv.id !== \"altair-viz-be0d2e4b98f542a5a5791e4fe3b65e63\") {\n",
       "      outputDiv = document.getElementById(\"altair-viz-be0d2e4b98f542a5a5791e4fe3b65e63\");\n",
       "    }\n",
       "    const paths = {\n",
       "      \"vega\": \"https://cdn.jsdelivr.net/npm//vega@5?noext\",\n",
       "      \"vega-lib\": \"https://cdn.jsdelivr.net/npm//vega-lib?noext\",\n",
       "      \"vega-lite\": \"https://cdn.jsdelivr.net/npm//vega-lite@4.17.0?noext\",\n",
       "      \"vega-embed\": \"https://cdn.jsdelivr.net/npm//vega-embed@6?noext\",\n",
       "    };\n",
       "\n",
       "    function maybeLoadScript(lib, version) {\n",
       "      var key = `${lib.replace(\"-\", \"\")}_version`;\n",
       "      return (VEGA_DEBUG[key] == version) ?\n",
       "        Promise.resolve(paths[lib]) :\n",
       "        new Promise(function(resolve, reject) {\n",
       "          var s = document.createElement('script');\n",
       "          document.getElementsByTagName(\"head\")[0].appendChild(s);\n",
       "          s.async = true;\n",
       "          s.onload = () => {\n",
       "            VEGA_DEBUG[key] = version;\n",
       "            return resolve(paths[lib]);\n",
       "          };\n",
       "          s.onerror = () => reject(`Error loading script: ${paths[lib]}`);\n",
       "          s.src = paths[lib];\n",
       "        });\n",
       "    }\n",
       "\n",
       "    function showError(err) {\n",
       "      outputDiv.innerHTML = `<div class=\"error\" style=\"color:red;\">${err}</div>`;\n",
       "      throw err;\n",
       "    }\n",
       "\n",
       "    function displayChart(vegaEmbed) {\n",
       "      vegaEmbed(outputDiv, spec, embedOpt)\n",
       "        .catch(err => showError(`Javascript Error: ${err.message}<br>This usually means there's a typo in your chart specification. See the javascript console for the full traceback.`));\n",
       "    }\n",
       "\n",
       "    if(typeof define === \"function\" && define.amd) {\n",
       "      requirejs.config({paths});\n",
       "      require([\"vega-embed\"], displayChart, err => showError(`Error loading script: ${err.message}`));\n",
       "    } else {\n",
       "      maybeLoadScript(\"vega\", \"5\")\n",
       "        .then(() => maybeLoadScript(\"vega-lite\", \"4.17.0\"))\n",
       "        .then(() => maybeLoadScript(\"vega-embed\", \"6\"))\n",
       "        .catch(showError)\n",
       "        .then(() => displayChart(vegaEmbed));\n",
       "    }\n",
       "  })({\"config\": {\"view\": {\"continuousWidth\": 400, \"continuousHeight\": 300}}, \"data\": {\"name\": \"data-0a30ebbeafb719cb7f4a23a7432da33a\"}, \"mark\": \"line\", \"encoding\": {\"color\": {\"field\": \"score_type\", \"type\": \"nominal\"}, \"x\": {\"field\": \"n_neighbors\", \"type\": \"quantitative\"}, \"y\": {\"field\": \"accuracy\", \"scale\": {\"domain\": [0.67, 1.0]}, \"type\": \"quantitative\"}}, \"height\": 300, \"title\": \"Accuracies of n_neighbors for KNeighborsClassifier\", \"width\": 500, \"$schema\": \"https://vega.github.io/schema/vega-lite/v4.17.0.json\", \"datasets\": {\"data-0a30ebbeafb719cb7f4a23a7432da33a\": [{\"n_neighbors\": 1, \"score_type\": \"mean_train_score\", \"accuracy\": 1.0}, {\"n_neighbors\": 6, \"score_type\": \"mean_train_score\", \"accuracy\": 0.8416600441501103}, {\"n_neighbors\": 11, \"score_type\": \"mean_train_score\", \"accuracy\": 0.8230507726269316}, {\"n_neighbors\": 16, \"score_type\": \"mean_train_score\", \"accuracy\": 0.8077262693156733}, {\"n_neighbors\": 21, \"score_type\": \"mean_train_score\", \"accuracy\": 0.7778101545253863}, {\"n_neighbors\": 26, \"score_type\": \"mean_train_score\", \"accuracy\": 0.7658543046357617}, {\"n_neighbors\": 31, \"score_type\": \"mean_train_score\", \"accuracy\": 0.7585253863134657}, {\"n_neighbors\": 36, \"score_type\": \"mean_train_score\", \"accuracy\": 0.7385827814569536}, {\"n_neighbors\": 41, \"score_type\": \"mean_train_score\", \"accuracy\": 0.7259116997792494}, {\"n_neighbors\": 46, \"score_type\": \"mean_train_score\", \"accuracy\": 0.7339161147902871}, {\"n_neighbors\": 1, \"score_type\": \"mean_cv_score\", \"accuracy\": 0.7676470588235293}, {\"n_neighbors\": 6, \"score_type\": \"mean_cv_score\", \"accuracy\": 0.7856617647058823}, {\"n_neighbors\": 11, \"score_type\": \"mean_cv_score\", \"accuracy\": 0.8110294117647058}, {\"n_neighbors\": 16, \"score_type\": \"mean_cv_score\", \"accuracy\": 0.7933823529411764}, {\"n_neighbors\": 21, \"score_type\": \"mean_cv_score\", \"accuracy\": 0.7569852941176471}, {\"n_neighbors\": 26, \"score_type\": \"mean_cv_score\", \"accuracy\": 0.7393382352941177}, {\"n_neighbors\": 31, \"score_type\": \"mean_cv_score\", \"accuracy\": 0.7389705882352942}, {\"n_neighbors\": 36, \"score_type\": \"mean_cv_score\", \"accuracy\": 0.7202205882352942}, {\"n_neighbors\": 41, \"score_type\": \"mean_cv_score\", \"accuracy\": 0.7264705882352942}, {\"n_neighbors\": 46, \"score_type\": \"mean_cv_score\", \"accuracy\": 0.7139705882352942}]}}, {\"mode\": \"vega-lite\"});\n",
       "</script>"
      ],
      "text/plain": [
       "alt.Chart(...)"
      ]
     },
     "execution_count": 59,
     "metadata": {},
     "output_type": "execute_result"
    }
   ],
   "source": [
    "plotting_source = results_df.melt(\n",
    "    id_vars='n_neighbors',\n",
    "    value_vars=['mean_train_score', 'mean_cv_score'],\n",
    "    var_name='score_type',\n",
    "    value_name='accuracy'\n",
    ")\n",
    "\n",
    "K_plot = alt.Chart(plotting_source, width=500, height=300).mark_line().encode(\n",
    "    alt.X('n_neighbors:Q'),\n",
    "    alt.Y('accuracy:Q', scale=alt.Scale(domain=[.67, 1.00])),\n",
    "    alt.Color('score_type:N')\n",
    ").properties(title=\"Accuracies of n_neighbors for KNeighborsClassifier\")\n",
    "\n",
    "K_plot"
   ]
  },
  {
   "cell_type": "markdown",
   "metadata": {},
   "source": [
    "Looking at this graph with k on the x-axis and accuracy on the y-axis, we can see there is a sweet spot where the gap between the validation and training scores is the lowest and cross-validation score is the highest. Here it’s when `n_neighbors` is 11.\n",
    "\n",
    "How do I know it's 11? \n",
    "Here's how! "
   ]
  },
  {
   "cell_type": "code",
   "execution_count": 60,
   "metadata": {},
   "outputs": [
    {
     "data": {
      "text/html": [
       "<div>\n",
       "<style scoped>\n",
       "    .dataframe tbody tr th:only-of-type {\n",
       "        vertical-align: middle;\n",
       "    }\n",
       "\n",
       "    .dataframe tbody tr th {\n",
       "        vertical-align: top;\n",
       "    }\n",
       "\n",
       "    .dataframe thead th {\n",
       "        text-align: right;\n",
       "    }\n",
       "</style>\n",
       "<table border=\"1\" class=\"dataframe\">\n",
       "  <thead>\n",
       "    <tr style=\"text-align: right;\">\n",
       "      <th></th>\n",
       "      <th>n_neighbors</th>\n",
       "      <th>mean_train_score</th>\n",
       "      <th>mean_cv_score</th>\n",
       "    </tr>\n",
       "  </thead>\n",
       "  <tbody>\n",
       "    <tr>\n",
       "      <th>2</th>\n",
       "      <td>11</td>\n",
       "      <td>0.823051</td>\n",
       "      <td>0.811029</td>\n",
       "    </tr>\n",
       "    <tr>\n",
       "      <th>3</th>\n",
       "      <td>16</td>\n",
       "      <td>0.807726</td>\n",
       "      <td>0.793382</td>\n",
       "    </tr>\n",
       "    <tr>\n",
       "      <th>1</th>\n",
       "      <td>6</td>\n",
       "      <td>0.841660</td>\n",
       "      <td>0.785662</td>\n",
       "    </tr>\n",
       "    <tr>\n",
       "      <th>0</th>\n",
       "      <td>1</td>\n",
       "      <td>1.000000</td>\n",
       "      <td>0.767647</td>\n",
       "    </tr>\n",
       "    <tr>\n",
       "      <th>4</th>\n",
       "      <td>21</td>\n",
       "      <td>0.777810</td>\n",
       "      <td>0.756985</td>\n",
       "    </tr>\n",
       "    <tr>\n",
       "      <th>5</th>\n",
       "      <td>26</td>\n",
       "      <td>0.765854</td>\n",
       "      <td>0.739338</td>\n",
       "    </tr>\n",
       "    <tr>\n",
       "      <th>6</th>\n",
       "      <td>31</td>\n",
       "      <td>0.758525</td>\n",
       "      <td>0.738971</td>\n",
       "    </tr>\n",
       "    <tr>\n",
       "      <th>8</th>\n",
       "      <td>41</td>\n",
       "      <td>0.725912</td>\n",
       "      <td>0.726471</td>\n",
       "    </tr>\n",
       "    <tr>\n",
       "      <th>7</th>\n",
       "      <td>36</td>\n",
       "      <td>0.738583</td>\n",
       "      <td>0.720221</td>\n",
       "    </tr>\n",
       "    <tr>\n",
       "      <th>9</th>\n",
       "      <td>46</td>\n",
       "      <td>0.733916</td>\n",
       "      <td>0.713971</td>\n",
       "    </tr>\n",
       "  </tbody>\n",
       "</table>\n",
       "</div>"
      ],
      "text/plain": [
       "   n_neighbors  mean_train_score  mean_cv_score\n",
       "2           11          0.823051       0.811029\n",
       "3           16          0.807726       0.793382\n",
       "1            6          0.841660       0.785662\n",
       "0            1          1.000000       0.767647\n",
       "4           21          0.777810       0.756985\n",
       "5           26          0.765854       0.739338\n",
       "6           31          0.758525       0.738971\n",
       "8           41          0.725912       0.726471\n",
       "7           36          0.738583       0.720221\n",
       "9           46          0.733916       0.713971"
      ]
     },
     "execution_count": 60,
     "metadata": {},
     "output_type": "execute_result"
    }
   ],
   "source": [
    "results_df.sort_values(\"mean_cv_score\", ascending=False)"
   ]
  },
  {
   "cell_type": "code",
   "execution_count": 61,
   "metadata": {},
   "outputs": [
    {
     "name": "stdout",
     "output_type": "stream",
     "text": [
      "Test accuracy: 0.857\n"
     ]
    }
   ],
   "source": [
    "knn = KNeighborsClassifier(n_neighbors=11)\n",
    "knn.fit(cities_X_train, cities_y_train);\n",
    "print(\"Test accuracy:\", round(knn.score(cities_X_test, cities_y_test), 3))"
   ]
  },
  {
   "cell_type": "markdown",
   "metadata": {},
   "source": [
    "This testing accuracy even higher than the validation mean accuracy we had earlier. "
   ]
  },
  {
   "cell_type": "markdown",
   "metadata": {},
   "source": [
    "## Curse of Dimensionality \n",
    "\n",
    "> $k$ -NN usually works well when the number of dimensions is small.\n",
    "\n",
    "In the previous module, we discussed one of the most important problems in machine learning which was overfitting.\n",
    "The second most important problem in machine learning is **the curse of dimensionality**.\n",
    "This refers to that datasets with many many features generally have a sparser distribution of observations within this feature space,\n",
    "since there are so many possible unique combinations of features.\n",
    "This makes it both harder to detect the same general patterns between observations in the data\n",
    "and easier to accidentally mistake \"noise\" (meaningless correlations) for general patterns.\n",
    "\n",
    "We will talk more later about what can be done to alleviate the curse of dimensionality,\n",
    "but for now it is enough to know that many supervised ML algorithms, including k-NN,\n",
    "can perform poorly when there are too high dimensionality in the data.\n",
    "With enough irrelevant features, the accidental similarity between features wipes out any meaningful similarity and $k$-NN is no better than random guessing.\n"
   ]
  },
  {
   "cell_type": "markdown",
   "metadata": {},
   "source": [
    "## Let's Practice \n",
    "\n",
    "Consider this toy dataset:\n",
    "\n",
    "$$ X = \\begin{bmatrix}5 & 2\\\\4 & 3\\\\  2 & 2\\\\ 10 & 10\\\\ 9 & -1\\\\ 9& 9\\end{bmatrix}, \\quad y = \\begin{bmatrix}A\\\\A\\\\B\\\\B\\\\B\\\\C\\end{bmatrix}.$$\n",
    "\n",
    "What would you predict for $x=\\begin{bmatrix} 0 & 0\\end{bmatrix}$:\n",
    "\n",
    "1\\. If $k=1$?    \n",
    "2\\. If $k=3$?     \n",
    "\n",
    "\n",
    "**True or False**       \n",
    "\n",
    "3\\. The classification of the closest neighbour to the test example always contributes the most to the prediction.    \n",
    "4\\. The `n_neighbors` hyperparameter must be less than the number of examples in the training set.     \n",
    "5\\. Similar to decision trees, $k$-NNs find a small set of good features.     \n",
    "6\\. With  $k$-NN, setting the hyperparameter  $k$  to larger values typically increases training score.      \n",
    "7\\. $k$-NN may perform poorly in high-dimensional space (say, d > 100)     \n",
    "8\\. Based on the graph below, what value of `n_neighbors` would you choose to train your model on?    \n",
    "\n",
    "<img src=\"imgs/Q18a.png\"  width = \"70%\" alt=\"404 image\" />\n",
    "\n"
   ]
  },
  {
   "cell_type": "markdown",
   "metadata": {},
   "source": [
    "```{admonition} Solutions!\n",
    ":class: dropdown\n",
    "\n",
    "1. B\n",
    "2. A\n",
    "3. False\n",
    "4. True   \n",
    "5. False\n",
    "6. False \n",
    "7. True\n",
    "8. 12\n",
    "\n",
    "```"
   ]
  },
  {
   "cell_type": "markdown",
   "metadata": {},
   "source": [
    "## What We've Learned Today<a id=\"9\"></a>\n",
    "\n",
    "- The concept of baseline models.\n",
    "- How to initiate a Dummy Classifier and Regressor.\n",
    "- How to measure Euclidean distance.\n",
    "- How the $k$NN algorithm works for classification.\n",
    "- How changing $k$ (`n_neighbors`) affects a model.\n",
    "- What the curse of dimensionality is.\n"
   ]
  }
 ],
 "metadata": {
  "kernelspec": {
   "display_name": "Python [conda env:bait]",
   "language": "python",
   "name": "conda-env-bait-py"
  },
  "language_info": {
   "codemirror_mode": {
    "name": "ipython",
    "version": 3
   },
   "file_extension": ".py",
   "mimetype": "text/x-python",
   "name": "python",
   "nbconvert_exporter": "python",
   "pygments_lexer": "ipython3",
   "version": "3.9.9"
  },
  "toc": {
   "base_numbering": 1,
   "nav_menu": {},
   "number_sections": true,
   "sideBar": true,
   "skip_h1_title": true,
   "title_cell": "Table of Contents",
   "title_sidebar": "Contents",
   "toc_cell": false,
   "toc_position": {
    "height": "calc(100% - 180px)",
    "left": "10px",
    "top": "150px",
    "width": "402.125px"
   },
   "toc_section_display": true,
   "toc_window_display": true
  }
 },
 "nbformat": 4,
 "nbformat_minor": 4
}
