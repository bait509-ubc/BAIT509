{
 "cells": [
  {
   "cell_type": "markdown",
   "metadata": {},
   "source": [
    "# Classification and Regression Metrics"
   ]
  },
  {
   "cell_type": "markdown",
   "metadata": {},
   "source": [
    "## Lecture Learning Objectives \n",
    "\n",
    "- Explain why accuracy is not always the best metric in ML.\n",
    "- Explain components of a confusion matrix.\n",
    "- Define precision, recall, and f1-score and use them to evaluate different classifiers.\n",
    "- Identify whether there is class imbalance and whether you need to deal with it.\n",
    "- Explain `class_weight` and use it to deal with data imbalance.\n",
    "- Appropriately select a scoring metric given a regression problem.\n",
    "- Interpret and communicate the meanings of different scoring metrics on regression problems. MSE, RMSE, $R^2$, MAPE.\n",
    "- Apply different scoring functions with `cross_validate`, `GridSearchCV` and `RandomizedSearchCV`."
   ]
  },
  {
   "cell_type": "markdown",
   "metadata": {},
   "source": [
    "## Five Minute Recap/ Lightning Questions \n",
    "\n",
    "- What is the difference between a business and a statistical question?\n",
    "- Should we ever question our clients' requests? \n",
    "- What is an important feature?\n",
    "- What are some types of feature selection methods?"
   ]
  },
  {
   "cell_type": "markdown",
   "metadata": {},
   "source": [
    "### Some lingering questions\n",
    "\n",
    "- How can we measure our model's success besides using accuracy or $R2$?\n",
    "- How should we interpret our model score if we have data where there is a lot of one class and very few of another?"
   ]
  },
  {
   "cell_type": "markdown",
   "metadata": {},
   "source": [
    "## Introducing Evaluation Metrics \n",
    "\n",
    "Up until this point, we have been scoring our models the same way every time.\n",
    "We've been using the percentage of correctly predicted examples for classification problems and the $R^2$ metric for regression problems.\n",
    "Let's discuss how we need to expand our horizons and why it's important to evaluate our models in other ways.\n",
    "\n",
    "To help explain why accuracy isn't always the most beneficial option, we are going back to the creditcard data set from the first class."
   ]
  },
  {
   "cell_type": "code",
   "execution_count": 1,
   "metadata": {},
   "outputs": [
    {
     "data": {
      "text/html": [
       "<div>\n",
       "<style scoped>\n",
       "    .dataframe tbody tr th:only-of-type {\n",
       "        vertical-align: middle;\n",
       "    }\n",
       "\n",
       "    .dataframe tbody tr th {\n",
       "        vertical-align: top;\n",
       "    }\n",
       "\n",
       "    .dataframe thead th {\n",
       "        text-align: right;\n",
       "    }\n",
       "</style>\n",
       "<table border=\"1\" class=\"dataframe\">\n",
       "  <thead>\n",
       "    <tr style=\"text-align: right;\">\n",
       "      <th></th>\n",
       "      <th>Time</th>\n",
       "      <th>V1</th>\n",
       "      <th>V2</th>\n",
       "      <th>V3</th>\n",
       "      <th>V4</th>\n",
       "      <th>V5</th>\n",
       "      <th>V6</th>\n",
       "      <th>V7</th>\n",
       "      <th>V8</th>\n",
       "      <th>V9</th>\n",
       "      <th>...</th>\n",
       "      <th>V21</th>\n",
       "      <th>V22</th>\n",
       "      <th>V23</th>\n",
       "      <th>V24</th>\n",
       "      <th>V25</th>\n",
       "      <th>V26</th>\n",
       "      <th>V27</th>\n",
       "      <th>V28</th>\n",
       "      <th>Amount</th>\n",
       "      <th>Class</th>\n",
       "    </tr>\n",
       "  </thead>\n",
       "  <tbody>\n",
       "    <tr>\n",
       "      <th>2210</th>\n",
       "      <td>139995.0</td>\n",
       "      <td>0.000822</td>\n",
       "      <td>0.176378</td>\n",
       "      <td>-0.081084</td>\n",
       "      <td>-2.240657</td>\n",
       "      <td>0.266328</td>\n",
       "      <td>-1.458596</td>\n",
       "      <td>0.658240</td>\n",
       "      <td>-0.340358</td>\n",
       "      <td>-1.124072</td>\n",
       "      <td>...</td>\n",
       "      <td>0.574194</td>\n",
       "      <td>1.741723</td>\n",
       "      <td>-0.110379</td>\n",
       "      <td>0.053146</td>\n",
       "      <td>-0.692897</td>\n",
       "      <td>-0.207781</td>\n",
       "      <td>0.460053</td>\n",
       "      <td>0.307173</td>\n",
       "      <td>15.00</td>\n",
       "      <td>0</td>\n",
       "    </tr>\n",
       "    <tr>\n",
       "      <th>98478</th>\n",
       "      <td>139199.0</td>\n",
       "      <td>1.898426</td>\n",
       "      <td>-0.544627</td>\n",
       "      <td>0.021055</td>\n",
       "      <td>0.233999</td>\n",
       "      <td>-0.690212</td>\n",
       "      <td>0.343812</td>\n",
       "      <td>-0.976358</td>\n",
       "      <td>0.241278</td>\n",
       "      <td>0.957517</td>\n",
       "      <td>...</td>\n",
       "      <td>0.118648</td>\n",
       "      <td>0.439855</td>\n",
       "      <td>0.323290</td>\n",
       "      <td>0.749224</td>\n",
       "      <td>-0.580108</td>\n",
       "      <td>0.317277</td>\n",
       "      <td>-0.005703</td>\n",
       "      <td>-0.034896</td>\n",
       "      <td>23.36</td>\n",
       "      <td>0</td>\n",
       "    </tr>\n",
       "    <tr>\n",
       "      <th>75264</th>\n",
       "      <td>147031.0</td>\n",
       "      <td>1.852468</td>\n",
       "      <td>-0.216744</td>\n",
       "      <td>-1.956124</td>\n",
       "      <td>0.360745</td>\n",
       "      <td>0.415657</td>\n",
       "      <td>-0.577488</td>\n",
       "      <td>0.229426</td>\n",
       "      <td>-0.215398</td>\n",
       "      <td>0.913203</td>\n",
       "      <td>...</td>\n",
       "      <td>-0.198389</td>\n",
       "      <td>-0.526080</td>\n",
       "      <td>0.093325</td>\n",
       "      <td>0.322035</td>\n",
       "      <td>-0.030224</td>\n",
       "      <td>-0.113123</td>\n",
       "      <td>-0.022952</td>\n",
       "      <td>0.000988</td>\n",
       "      <td>109.54</td>\n",
       "      <td>0</td>\n",
       "    </tr>\n",
       "    <tr>\n",
       "      <th>66130</th>\n",
       "      <td>50102.0</td>\n",
       "      <td>-0.999481</td>\n",
       "      <td>0.849393</td>\n",
       "      <td>-0.556091</td>\n",
       "      <td>0.259464</td>\n",
       "      <td>2.298113</td>\n",
       "      <td>3.728162</td>\n",
       "      <td>-0.258322</td>\n",
       "      <td>1.353233</td>\n",
       "      <td>-0.503258</td>\n",
       "      <td>...</td>\n",
       "      <td>-0.082967</td>\n",
       "      <td>-0.136016</td>\n",
       "      <td>0.092160</td>\n",
       "      <td>1.009201</td>\n",
       "      <td>0.216844</td>\n",
       "      <td>-0.236471</td>\n",
       "      <td>0.201575</td>\n",
       "      <td>0.101621</td>\n",
       "      <td>20.24</td>\n",
       "      <td>0</td>\n",
       "    </tr>\n",
       "    <tr>\n",
       "      <th>82331</th>\n",
       "      <td>41819.0</td>\n",
       "      <td>-0.417792</td>\n",
       "      <td>1.027810</td>\n",
       "      <td>1.560763</td>\n",
       "      <td>-0.029187</td>\n",
       "      <td>-0.076807</td>\n",
       "      <td>-0.904689</td>\n",
       "      <td>0.688554</td>\n",
       "      <td>-0.056332</td>\n",
       "      <td>-0.369867</td>\n",
       "      <td>...</td>\n",
       "      <td>-0.229592</td>\n",
       "      <td>-0.609212</td>\n",
       "      <td>-0.019424</td>\n",
       "      <td>0.356282</td>\n",
       "      <td>-0.198697</td>\n",
       "      <td>0.072055</td>\n",
       "      <td>0.264011</td>\n",
       "      <td>0.120743</td>\n",
       "      <td>2.69</td>\n",
       "      <td>0</td>\n",
       "    </tr>\n",
       "    <tr>\n",
       "      <th>...</th>\n",
       "      <td>...</td>\n",
       "      <td>...</td>\n",
       "      <td>...</td>\n",
       "      <td>...</td>\n",
       "      <td>...</td>\n",
       "      <td>...</td>\n",
       "      <td>...</td>\n",
       "      <td>...</td>\n",
       "      <td>...</td>\n",
       "      <td>...</td>\n",
       "      <td>...</td>\n",
       "      <td>...</td>\n",
       "      <td>...</td>\n",
       "      <td>...</td>\n",
       "      <td>...</td>\n",
       "      <td>...</td>\n",
       "      <td>...</td>\n",
       "      <td>...</td>\n",
       "      <td>...</td>\n",
       "      <td>...</td>\n",
       "      <td>...</td>\n",
       "    </tr>\n",
       "    <tr>\n",
       "      <th>105747</th>\n",
       "      <td>86420.0</td>\n",
       "      <td>1.539769</td>\n",
       "      <td>-0.710190</td>\n",
       "      <td>-0.779133</td>\n",
       "      <td>0.972778</td>\n",
       "      <td>0.521677</td>\n",
       "      <td>1.992379</td>\n",
       "      <td>-0.538152</td>\n",
       "      <td>0.592431</td>\n",
       "      <td>0.530753</td>\n",
       "      <td>...</td>\n",
       "      <td>-0.020365</td>\n",
       "      <td>-0.203199</td>\n",
       "      <td>0.323143</td>\n",
       "      <td>-0.793579</td>\n",
       "      <td>-0.611899</td>\n",
       "      <td>-0.926726</td>\n",
       "      <td>0.073134</td>\n",
       "      <td>-0.018315</td>\n",
       "      <td>147.80</td>\n",
       "      <td>0</td>\n",
       "    </tr>\n",
       "    <tr>\n",
       "      <th>102486</th>\n",
       "      <td>113038.0</td>\n",
       "      <td>-0.509300</td>\n",
       "      <td>1.128383</td>\n",
       "      <td>-0.876960</td>\n",
       "      <td>-0.568208</td>\n",
       "      <td>0.819440</td>\n",
       "      <td>-0.749178</td>\n",
       "      <td>0.903256</td>\n",
       "      <td>0.068764</td>\n",
       "      <td>0.068195</td>\n",
       "      <td>...</td>\n",
       "      <td>-0.391476</td>\n",
       "      <td>-0.860542</td>\n",
       "      <td>0.061769</td>\n",
       "      <td>0.387231</td>\n",
       "      <td>-0.334076</td>\n",
       "      <td>0.101585</td>\n",
       "      <td>0.085727</td>\n",
       "      <td>-0.194219</td>\n",
       "      <td>44.99</td>\n",
       "      <td>0</td>\n",
       "    </tr>\n",
       "    <tr>\n",
       "      <th>4820</th>\n",
       "      <td>142604.0</td>\n",
       "      <td>1.906919</td>\n",
       "      <td>-0.398941</td>\n",
       "      <td>0.275837</td>\n",
       "      <td>1.736308</td>\n",
       "      <td>-0.710844</td>\n",
       "      <td>0.682936</td>\n",
       "      <td>-1.180614</td>\n",
       "      <td>0.443751</td>\n",
       "      <td>0.047498</td>\n",
       "      <td>...</td>\n",
       "      <td>-0.022269</td>\n",
       "      <td>-0.163610</td>\n",
       "      <td>0.499126</td>\n",
       "      <td>0.731827</td>\n",
       "      <td>-1.088328</td>\n",
       "      <td>2.005337</td>\n",
       "      <td>-0.153967</td>\n",
       "      <td>-0.061703</td>\n",
       "      <td>3.75</td>\n",
       "      <td>0</td>\n",
       "    </tr>\n",
       "    <tr>\n",
       "      <th>10196</th>\n",
       "      <td>139585.0</td>\n",
       "      <td>2.106285</td>\n",
       "      <td>-0.102411</td>\n",
       "      <td>-1.815538</td>\n",
       "      <td>0.256847</td>\n",
       "      <td>0.340938</td>\n",
       "      <td>-1.002490</td>\n",
       "      <td>0.373141</td>\n",
       "      <td>-0.314247</td>\n",
       "      <td>0.541619</td>\n",
       "      <td>...</td>\n",
       "      <td>-0.060222</td>\n",
       "      <td>-0.047904</td>\n",
       "      <td>0.124192</td>\n",
       "      <td>0.771908</td>\n",
       "      <td>0.144864</td>\n",
       "      <td>0.645126</td>\n",
       "      <td>-0.117185</td>\n",
       "      <td>-0.074093</td>\n",
       "      <td>5.41</td>\n",
       "      <td>0</td>\n",
       "    </tr>\n",
       "    <tr>\n",
       "      <th>77652</th>\n",
       "      <td>148922.0</td>\n",
       "      <td>2.157147</td>\n",
       "      <td>-1.138329</td>\n",
       "      <td>-0.775495</td>\n",
       "      <td>-0.887122</td>\n",
       "      <td>-1.019818</td>\n",
       "      <td>-0.489387</td>\n",
       "      <td>-1.024161</td>\n",
       "      <td>-0.069089</td>\n",
       "      <td>0.329227</td>\n",
       "      <td>...</td>\n",
       "      <td>0.282963</td>\n",
       "      <td>0.802273</td>\n",
       "      <td>0.037861</td>\n",
       "      <td>-0.642100</td>\n",
       "      <td>-0.101534</td>\n",
       "      <td>-0.046669</td>\n",
       "      <td>-0.001974</td>\n",
       "      <td>-0.052120</td>\n",
       "      <td>39.99</td>\n",
       "      <td>0</td>\n",
       "    </tr>\n",
       "  </tbody>\n",
       "</table>\n",
       "<p>85504 rows × 31 columns</p>\n",
       "</div>"
      ],
      "text/plain": [
       "            Time        V1        V2        V3        V4        V5        V6  \\\n",
       "2210    139995.0  0.000822  0.176378 -0.081084 -2.240657  0.266328 -1.458596   \n",
       "98478   139199.0  1.898426 -0.544627  0.021055  0.233999 -0.690212  0.343812   \n",
       "75264   147031.0  1.852468 -0.216744 -1.956124  0.360745  0.415657 -0.577488   \n",
       "66130    50102.0 -0.999481  0.849393 -0.556091  0.259464  2.298113  3.728162   \n",
       "82331    41819.0 -0.417792  1.027810  1.560763 -0.029187 -0.076807 -0.904689   \n",
       "...          ...       ...       ...       ...       ...       ...       ...   \n",
       "105747   86420.0  1.539769 -0.710190 -0.779133  0.972778  0.521677  1.992379   \n",
       "102486  113038.0 -0.509300  1.128383 -0.876960 -0.568208  0.819440 -0.749178   \n",
       "4820    142604.0  1.906919 -0.398941  0.275837  1.736308 -0.710844  0.682936   \n",
       "10196   139585.0  2.106285 -0.102411 -1.815538  0.256847  0.340938 -1.002490   \n",
       "77652   148922.0  2.157147 -1.138329 -0.775495 -0.887122 -1.019818 -0.489387   \n",
       "\n",
       "              V7        V8        V9  ...       V21       V22       V23  \\\n",
       "2210    0.658240 -0.340358 -1.124072  ...  0.574194  1.741723 -0.110379   \n",
       "98478  -0.976358  0.241278  0.957517  ...  0.118648  0.439855  0.323290   \n",
       "75264   0.229426 -0.215398  0.913203  ... -0.198389 -0.526080  0.093325   \n",
       "66130  -0.258322  1.353233 -0.503258  ... -0.082967 -0.136016  0.092160   \n",
       "82331   0.688554 -0.056332 -0.369867  ... -0.229592 -0.609212 -0.019424   \n",
       "...          ...       ...       ...  ...       ...       ...       ...   \n",
       "105747 -0.538152  0.592431  0.530753  ... -0.020365 -0.203199  0.323143   \n",
       "102486  0.903256  0.068764  0.068195  ... -0.391476 -0.860542  0.061769   \n",
       "4820   -1.180614  0.443751  0.047498  ... -0.022269 -0.163610  0.499126   \n",
       "10196   0.373141 -0.314247  0.541619  ... -0.060222 -0.047904  0.124192   \n",
       "77652  -1.024161 -0.069089  0.329227  ...  0.282963  0.802273  0.037861   \n",
       "\n",
       "             V24       V25       V26       V27       V28  Amount  Class  \n",
       "2210    0.053146 -0.692897 -0.207781  0.460053  0.307173   15.00      0  \n",
       "98478   0.749224 -0.580108  0.317277 -0.005703 -0.034896   23.36      0  \n",
       "75264   0.322035 -0.030224 -0.113123 -0.022952  0.000988  109.54      0  \n",
       "66130   1.009201  0.216844 -0.236471  0.201575  0.101621   20.24      0  \n",
       "82331   0.356282 -0.198697  0.072055  0.264011  0.120743    2.69      0  \n",
       "...          ...       ...       ...       ...       ...     ...    ...  \n",
       "105747 -0.793579 -0.611899 -0.926726  0.073134 -0.018315  147.80      0  \n",
       "102486  0.387231 -0.334076  0.101585  0.085727 -0.194219   44.99      0  \n",
       "4820    0.731827 -1.088328  2.005337 -0.153967 -0.061703    3.75      0  \n",
       "10196   0.771908  0.144864  0.645126 -0.117185 -0.074093    5.41      0  \n",
       "77652  -0.642100 -0.101534 -0.046669 -0.001974 -0.052120   39.99      0  \n",
       "\n",
       "[85504 rows x 31 columns]"
      ]
     },
     "execution_count": 1,
     "metadata": {},
     "output_type": "execute_result"
    }
   ],
   "source": [
    "import pandas as pd\n",
    "from sklearn.model_selection import train_test_split\n",
    "\n",
    "\n",
    "cc_df = pd.read_csv('data/creditcard_sample.csv', encoding='latin-1')\n",
    "train_df, test_df = train_test_split(cc_df, test_size=0.3, random_state=111)\n",
    "train_df"
   ]
  },
  {
   "cell_type": "code",
   "execution_count": 2,
   "metadata": {},
   "outputs": [
    {
     "data": {
      "text/plain": [
       "(85504, 31)"
      ]
     },
     "execution_count": 2,
     "metadata": {},
     "output_type": "execute_result"
    }
   ],
   "source": [
    "train_df.shape"
   ]
  },
  {
   "cell_type": "markdown",
   "metadata": {},
   "source": [
    "We can see this is a quite large dataset!"
   ]
  },
  {
   "cell_type": "code",
   "execution_count": 3,
   "metadata": {},
   "outputs": [
    {
     "data": {
      "text/html": [
       "<div>\n",
       "<style scoped>\n",
       "    .dataframe tbody tr th:only-of-type {\n",
       "        vertical-align: middle;\n",
       "    }\n",
       "\n",
       "    .dataframe tbody tr th {\n",
       "        vertical-align: top;\n",
       "    }\n",
       "\n",
       "    .dataframe thead th {\n",
       "        text-align: right;\n",
       "    }\n",
       "</style>\n",
       "<table border=\"1\" class=\"dataframe\">\n",
       "  <thead>\n",
       "    <tr style=\"text-align: right;\">\n",
       "      <th></th>\n",
       "      <th>Time</th>\n",
       "      <th>V1</th>\n",
       "      <th>V2</th>\n",
       "      <th>V3</th>\n",
       "      <th>V4</th>\n",
       "      <th>V5</th>\n",
       "      <th>V6</th>\n",
       "      <th>V7</th>\n",
       "      <th>V8</th>\n",
       "      <th>V9</th>\n",
       "      <th>...</th>\n",
       "      <th>V21</th>\n",
       "      <th>V22</th>\n",
       "      <th>V23</th>\n",
       "      <th>V24</th>\n",
       "      <th>V25</th>\n",
       "      <th>V26</th>\n",
       "      <th>V27</th>\n",
       "      <th>V28</th>\n",
       "      <th>Amount</th>\n",
       "      <th>Class</th>\n",
       "    </tr>\n",
       "  </thead>\n",
       "  <tbody>\n",
       "    <tr>\n",
       "      <th>count</th>\n",
       "      <td>85504.000000</td>\n",
       "      <td>85504.000000</td>\n",
       "      <td>85504.000000</td>\n",
       "      <td>85504.000000</td>\n",
       "      <td>85504.000000</td>\n",
       "      <td>85504.000000</td>\n",
       "      <td>85504.000000</td>\n",
       "      <td>85504.000000</td>\n",
       "      <td>85504.000000</td>\n",
       "      <td>85504.000000</td>\n",
       "      <td>...</td>\n",
       "      <td>85504.000000</td>\n",
       "      <td>85504.000000</td>\n",
       "      <td>85504.000000</td>\n",
       "      <td>85504.000000</td>\n",
       "      <td>85504.000000</td>\n",
       "      <td>85504.000000</td>\n",
       "      <td>85504.000000</td>\n",
       "      <td>85504.000000</td>\n",
       "      <td>85504.000000</td>\n",
       "      <td>85504.000000</td>\n",
       "    </tr>\n",
       "    <tr>\n",
       "      <th>mean</th>\n",
       "      <td>111177.965218</td>\n",
       "      <td>0.069621</td>\n",
       "      <td>-0.035379</td>\n",
       "      <td>-0.296593</td>\n",
       "      <td>-0.028028</td>\n",
       "      <td>0.086975</td>\n",
       "      <td>-0.030399</td>\n",
       "      <td>0.025395</td>\n",
       "      <td>-0.017036</td>\n",
       "      <td>0.042680</td>\n",
       "      <td>...</td>\n",
       "      <td>0.017353</td>\n",
       "      <td>0.052381</td>\n",
       "      <td>0.012560</td>\n",
       "      <td>-0.009845</td>\n",
       "      <td>-0.048255</td>\n",
       "      <td>-0.014074</td>\n",
       "      <td>-0.003047</td>\n",
       "      <td>-0.002209</td>\n",
       "      <td>92.724942</td>\n",
       "      <td>0.004128</td>\n",
       "    </tr>\n",
       "    <tr>\n",
       "      <th>std</th>\n",
       "      <td>48027.531032</td>\n",
       "      <td>2.108440</td>\n",
       "      <td>1.780371</td>\n",
       "      <td>1.631892</td>\n",
       "      <td>1.466457</td>\n",
       "      <td>1.452847</td>\n",
       "      <td>1.354052</td>\n",
       "      <td>1.361786</td>\n",
       "      <td>1.258107</td>\n",
       "      <td>1.131435</td>\n",
       "      <td>...</td>\n",
       "      <td>0.776954</td>\n",
       "      <td>0.755315</td>\n",
       "      <td>0.670336</td>\n",
       "      <td>0.607638</td>\n",
       "      <td>0.548000</td>\n",
       "      <td>0.481118</td>\n",
       "      <td>0.414234</td>\n",
       "      <td>0.369266</td>\n",
       "      <td>271.297276</td>\n",
       "      <td>0.064121</td>\n",
       "    </tr>\n",
       "    <tr>\n",
       "      <th>min</th>\n",
       "      <td>406.000000</td>\n",
       "      <td>-56.407510</td>\n",
       "      <td>-72.715728</td>\n",
       "      <td>-33.680984</td>\n",
       "      <td>-5.683171</td>\n",
       "      <td>-40.427726</td>\n",
       "      <td>-26.160506</td>\n",
       "      <td>-43.557242</td>\n",
       "      <td>-73.216718</td>\n",
       "      <td>-13.434066</td>\n",
       "      <td>...</td>\n",
       "      <td>-34.830382</td>\n",
       "      <td>-10.933144</td>\n",
       "      <td>-36.666000</td>\n",
       "      <td>-2.824849</td>\n",
       "      <td>-8.696627</td>\n",
       "      <td>-2.534330</td>\n",
       "      <td>-9.895244</td>\n",
       "      <td>-8.656570</td>\n",
       "      <td>0.000000</td>\n",
       "      <td>0.000000</td>\n",
       "    </tr>\n",
       "    <tr>\n",
       "      <th>25%</th>\n",
       "      <td>50814.000000</td>\n",
       "      <td>-0.886089</td>\n",
       "      <td>-0.634044</td>\n",
       "      <td>-1.228706</td>\n",
       "      <td>-0.871992</td>\n",
       "      <td>-0.622997</td>\n",
       "      <td>-0.801849</td>\n",
       "      <td>-0.550769</td>\n",
       "      <td>-0.234941</td>\n",
       "      <td>-0.616671</td>\n",
       "      <td>...</td>\n",
       "      <td>-0.225345</td>\n",
       "      <td>-0.524692</td>\n",
       "      <td>-0.160006</td>\n",
       "      <td>-0.365718</td>\n",
       "      <td>-0.375934</td>\n",
       "      <td>-0.331664</td>\n",
       "      <td>-0.074373</td>\n",
       "      <td>-0.058973</td>\n",
       "      <td>5.990000</td>\n",
       "      <td>0.000000</td>\n",
       "    </tr>\n",
       "    <tr>\n",
       "      <th>50%</th>\n",
       "      <td>133031.500000</td>\n",
       "      <td>0.064451</td>\n",
       "      <td>0.027790</td>\n",
       "      <td>-0.206322</td>\n",
       "      <td>-0.099292</td>\n",
       "      <td>0.060853</td>\n",
       "      <td>-0.300730</td>\n",
       "      <td>0.076727</td>\n",
       "      <td>0.001596</td>\n",
       "      <td>0.003678</td>\n",
       "      <td>...</td>\n",
       "      <td>-0.008602</td>\n",
       "      <td>0.074564</td>\n",
       "      <td>0.002990</td>\n",
       "      <td>0.027268</td>\n",
       "      <td>-0.062231</td>\n",
       "      <td>-0.061101</td>\n",
       "      <td>-0.003718</td>\n",
       "      <td>-0.003411</td>\n",
       "      <td>22.660000</td>\n",
       "      <td>0.000000</td>\n",
       "    </tr>\n",
       "    <tr>\n",
       "      <th>75%</th>\n",
       "      <td>148203.000000</td>\n",
       "      <td>1.832261</td>\n",
       "      <td>0.796311</td>\n",
       "      <td>0.767406</td>\n",
       "      <td>0.635543</td>\n",
       "      <td>0.735001</td>\n",
       "      <td>0.374897</td>\n",
       "      <td>0.632747</td>\n",
       "      <td>0.310501</td>\n",
       "      <td>0.658517</td>\n",
       "      <td>...</td>\n",
       "      <td>0.215080</td>\n",
       "      <td>0.622089</td>\n",
       "      <td>0.177875</td>\n",
       "      <td>0.458784</td>\n",
       "      <td>0.317849</td>\n",
       "      <td>0.230836</td>\n",
       "      <td>0.088166</td>\n",
       "      <td>0.076868</td>\n",
       "      <td>80.000000</td>\n",
       "      <td>0.000000</td>\n",
       "    </tr>\n",
       "    <tr>\n",
       "      <th>max</th>\n",
       "      <td>172788.000000</td>\n",
       "      <td>2.451888</td>\n",
       "      <td>22.057729</td>\n",
       "      <td>4.187811</td>\n",
       "      <td>16.715537</td>\n",
       "      <td>34.801666</td>\n",
       "      <td>23.917837</td>\n",
       "      <td>44.054461</td>\n",
       "      <td>19.587773</td>\n",
       "      <td>9.234623</td>\n",
       "      <td>...</td>\n",
       "      <td>27.202839</td>\n",
       "      <td>10.503090</td>\n",
       "      <td>20.803344</td>\n",
       "      <td>3.979637</td>\n",
       "      <td>7.519589</td>\n",
       "      <td>3.155327</td>\n",
       "      <td>10.507884</td>\n",
       "      <td>33.847808</td>\n",
       "      <td>19656.530000</td>\n",
       "      <td>1.000000</td>\n",
       "    </tr>\n",
       "  </tbody>\n",
       "</table>\n",
       "<p>8 rows × 31 columns</p>\n",
       "</div>"
      ],
      "text/plain": [
       "                Time            V1            V2            V3            V4  \\\n",
       "count   85504.000000  85504.000000  85504.000000  85504.000000  85504.000000   \n",
       "mean   111177.965218      0.069621     -0.035379     -0.296593     -0.028028   \n",
       "std     48027.531032      2.108440      1.780371      1.631892      1.466457   \n",
       "min       406.000000    -56.407510    -72.715728    -33.680984     -5.683171   \n",
       "25%     50814.000000     -0.886089     -0.634044     -1.228706     -0.871992   \n",
       "50%    133031.500000      0.064451      0.027790     -0.206322     -0.099292   \n",
       "75%    148203.000000      1.832261      0.796311      0.767406      0.635543   \n",
       "max    172788.000000      2.451888     22.057729      4.187811     16.715537   \n",
       "\n",
       "                 V5            V6            V7            V8            V9  \\\n",
       "count  85504.000000  85504.000000  85504.000000  85504.000000  85504.000000   \n",
       "mean       0.086975     -0.030399      0.025395     -0.017036      0.042680   \n",
       "std        1.452847      1.354052      1.361786      1.258107      1.131435   \n",
       "min      -40.427726    -26.160506    -43.557242    -73.216718    -13.434066   \n",
       "25%       -0.622997     -0.801849     -0.550769     -0.234941     -0.616671   \n",
       "50%        0.060853     -0.300730      0.076727      0.001596      0.003678   \n",
       "75%        0.735001      0.374897      0.632747      0.310501      0.658517   \n",
       "max       34.801666     23.917837     44.054461     19.587773      9.234623   \n",
       "\n",
       "       ...           V21           V22           V23           V24  \\\n",
       "count  ...  85504.000000  85504.000000  85504.000000  85504.000000   \n",
       "mean   ...      0.017353      0.052381      0.012560     -0.009845   \n",
       "std    ...      0.776954      0.755315      0.670336      0.607638   \n",
       "min    ...    -34.830382    -10.933144    -36.666000     -2.824849   \n",
       "25%    ...     -0.225345     -0.524692     -0.160006     -0.365718   \n",
       "50%    ...     -0.008602      0.074564      0.002990      0.027268   \n",
       "75%    ...      0.215080      0.622089      0.177875      0.458784   \n",
       "max    ...     27.202839     10.503090     20.803344      3.979637   \n",
       "\n",
       "                V25           V26           V27           V28        Amount  \\\n",
       "count  85504.000000  85504.000000  85504.000000  85504.000000  85504.000000   \n",
       "mean      -0.048255     -0.014074     -0.003047     -0.002209     92.724942   \n",
       "std        0.548000      0.481118      0.414234      0.369266    271.297276   \n",
       "min       -8.696627     -2.534330     -9.895244     -8.656570      0.000000   \n",
       "25%       -0.375934     -0.331664     -0.074373     -0.058973      5.990000   \n",
       "50%       -0.062231     -0.061101     -0.003718     -0.003411     22.660000   \n",
       "75%        0.317849      0.230836      0.088166      0.076868     80.000000   \n",
       "max        7.519589      3.155327     10.507884     33.847808  19656.530000   \n",
       "\n",
       "              Class  \n",
       "count  85504.000000  \n",
       "mean       0.004128  \n",
       "std        0.064121  \n",
       "min        0.000000  \n",
       "25%        0.000000  \n",
       "50%        0.000000  \n",
       "75%        0.000000  \n",
       "max        1.000000  \n",
       "\n",
       "[8 rows x 31 columns]"
      ]
     },
     "execution_count": 3,
     "metadata": {},
     "output_type": "execute_result"
    }
   ],
   "source": [
    "train_df.describe(include='all')"
   ]
  },
  {
   "cell_type": "markdown",
   "metadata": {},
   "source": [
    "We see that the columns are all scaled and numerical.\n",
    "\n",
    "You don't need to worry about this now. The original columns have been transformed already for confidentiality and our benefit so now there are no categorical features."
   ]
  },
  {
   "cell_type": "markdown",
   "metadata": {},
   "source": [
    "Let's separate `X` and `y` for train and test splits."
   ]
  },
  {
   "cell_type": "code",
   "execution_count": 4,
   "metadata": {},
   "outputs": [],
   "source": [
    "X_train_big, y_train_big = train_df.drop(columns=[\"Class\"]), train_df[\"Class\"]\n",
    "X_test, y_test = test_df.drop(columns=[\"Class\"]), test_df[\"Class\"]"
   ]
  },
  {
   "cell_type": "markdown",
   "metadata": {},
   "source": [
    "\n",
    "\n",
    "We are going to be talking about evaluation metrics and it's easier to do so if we use an explicit validation set instead of using cross-validation.\n",
    "\n",
    "Our data is large enough so it shouldn't be a problem."
   ]
  },
  {
   "cell_type": "code",
   "execution_count": 5,
   "metadata": {},
   "outputs": [],
   "source": [
    "X_train, X_valid, y_train, y_valid = train_test_split(\n",
    "    X_train_big,  y_train_big, test_size=0.3, random_state=123)"
   ]
  },
  {
   "cell_type": "markdown",
   "metadata": {},
   "source": [
    "### Baseline\n",
    "\n",
    "Just like and predictive question, we start our analysis by building a simple `DummyClassifier` model as our baseline."
   ]
  },
  {
   "cell_type": "code",
   "execution_count": 6,
   "metadata": {},
   "outputs": [
    {
     "data": {
      "text/plain": [
       "0.9958564458998864"
      ]
     },
     "execution_count": 6,
     "metadata": {},
     "output_type": "execute_result"
    }
   ],
   "source": [
    "from sklearn.dummy import DummyClassifier\n",
    "\n",
    "dummy = DummyClassifier(strategy=\"most_frequent\")\n",
    "dummy.fit(X_train, y_train)\n",
    "dummy.score(X_train, y_train)"
   ]
  },
  {
   "cell_type": "code",
   "execution_count": 7,
   "metadata": {},
   "outputs": [
    {
     "data": {
      "text/plain": [
       "0.9959067519101824"
      ]
     },
     "execution_count": 7,
     "metadata": {},
     "output_type": "execute_result"
    }
   ],
   "source": [
    "dummy.score(X_valid, y_valid)"
   ]
  },
  {
   "cell_type": "markdown",
   "metadata": {},
   "source": [
    "Almost 100% accuracy? This is supposed to be a baseline model! How is it getting such high accuracy? \n",
    "Should we just deploy this `DummyClassifier` model for fraud detection?\n",
    "\n",
    "Not so fast...\n",
    "If we look at the distribution of fraudulent labels to non-fraudulent labels, we can see there is an imbalance in the classes. "
   ]
  },
  {
   "cell_type": "code",
   "execution_count": 8,
   "metadata": {},
   "outputs": [
    {
     "data": {
      "text/plain": [
       "Class\n",
       "0    0.995872\n",
       "1    0.004128\n",
       "Name: proportion, dtype: float64"
      ]
     },
     "execution_count": 8,
     "metadata": {},
     "output_type": "execute_result"
    }
   ],
   "source": [
    "train_df[\"Class\"].value_counts(normalize=True)"
   ]
  },
  {
   "cell_type": "markdown",
   "metadata": {},
   "source": [
    "Here the `0` class is a Non fraud transaction, and the `1` class is a Fraud transaction. \n",
    "We can see here that there are MANY Non fraud transactions and only a tiny handful of Fraud transactions.\n",
    "So, what would be a good accuracy here? 99.9%? 99.99%?"
   ]
  },
  {
   "cell_type": "markdown",
   "metadata": {},
   "source": [
    "Let's see if a logistic regression model would get a higher score than the Dummary model."
   ]
  },
  {
   "cell_type": "code",
   "execution_count": 9,
   "metadata": {},
   "outputs": [
    {
     "data": {
      "text/plain": [
       "fit_time       0.172872\n",
       "score_time     0.002629\n",
       "test_score     0.998830\n",
       "train_score    0.998993\n",
       "dtype: float64"
      ]
     },
     "execution_count": 9,
     "metadata": {},
     "output_type": "execute_result"
    }
   ],
   "source": [
    "from sklearn.pipeline import make_pipeline\n",
    "from sklearn.preprocessing import StandardScaler\n",
    "from sklearn.linear_model import LogisticRegression\n",
    "from sklearn.model_selection import cross_validate\n",
    "\n",
    "pipe = make_pipeline(\n",
    "       (StandardScaler()),\n",
    "       (LogisticRegression(random_state=123))\n",
    ")\n",
    "\n",
    "pd.DataFrame(cross_validate(pipe, X_train, y_train, return_train_score=True)).mean()"
   ]
  },
  {
   "cell_type": "markdown",
   "metadata": {},
   "source": [
    "This seems slightly better than `DummyClassifier`, but the question is can it really identify fraudulent transactions?\n",
    "The \"Fraud\" class is the class that we want to spot. The class we are interested in. \n",
    "Let's looks at some new metrics that can help us assess how well our model is doing overall and not just for the majority class label."
   ]
  },
  {
   "cell_type": "markdown",
   "metadata": {},
   "source": [
    "## Classification Metrics and tools"
   ]
  },
  {
   "cell_type": "markdown",
   "metadata": {},
   "source": [
    "### What is \"positive\" and \"negative\"?\n",
    "\n",
    "There are two kinds of binary classification problems:\n",
    "\n",
    "- Distinguishing between two classes\n",
    "- Spotting a specific class (fraud transaction, spam, disease)\n",
    "\n",
    "In the case of spotting problems, the thing that we are interested in spotting is considered \"positive\"\n",
    "(not related to how a logistic regression model internall defines a \"positive\" and \"negative\" class). \n",
    "In our example, we want to spot **fraudulent** transactions and so fraudulent is the \"positive\" class. "
   ]
  },
  {
   "cell_type": "markdown",
   "metadata": {},
   "source": [
    "### Confusion Matrix\n",
    "\n",
    "A **confusion matrix** is a table that visualizes the performance of an algorithm. It shows the possible labels and how many of each label the model predicts correctly and incorrectly. "
   ]
  },
  {
   "cell_type": "markdown",
   "metadata": {},
   "source": [
    "Here we first fit and predict the model,\n",
    "and then show it's confusion matrix."
   ]
  },
  {
   "cell_type": "code",
   "execution_count": 10,
   "metadata": {},
   "outputs": [
    {
     "data": {
      "text/plain": [
       "array([[25541,     6],\n",
       "       [   25,    80]])"
      ]
     },
     "execution_count": 10,
     "metadata": {},
     "output_type": "execute_result"
    }
   ],
   "source": [
    "from sklearn.metrics import confusion_matrix\n",
    "\n",
    "\n",
    "pipe.fit(X_train, y_train)\n",
    "predictions = pipe.predict(X_valid)\n",
    "cm = confusion_matrix(y_valid, predictions)\n",
    "cm"
   ]
  },
  {
   "cell_type": "markdown",
   "metadata": {},
   "source": [
    "#### Confusion Matrix components"
   ]
  },
  {
   "cell_type": "markdown",
   "metadata": {},
   "source": [
    "|   X   | predict negative | predict positive |\n",
    "|------|----------|-------|\n",
    "| negative example | True negative (TN) | False positive (FP)|\n",
    "| positive example | False negative (FN) | True positive (TP) |\n",
    "\n",
    "\n",
    "Remember the Fraud is considered \"positive\" in this case and Non fraud is considered \"negative\". \n",
    "\n",
    "\n",
    "The 4 quadrants of the confusion matrix can be explained as follows. These positions will change depending on what values we deem as the positive label. \n",
    "\n",
    "- **True negative (TN)**: Examples that are negatively labelled that the model correctly predicts. This is in the top left quadrant. \n",
    "- **False positive (FP)**: Examples that are negatively labelled that the model incorrectly predicts as positive. This is in the top right quadrant. \n",
    "- **False negative (FN)**:  Examples that are positively labelled that the model incorrectly predicts as negative. This is in the bottom left quadrant. \n",
    "- **True positive (TP)**:  Examples that are positively labelled that the model correctly predicted as positive. This is in the bottom right quadrant. "
   ]
  },
  {
   "cell_type": "markdown",
   "metadata": {},
   "source": [
    "Instead of looking just at the numbers and remembering what each category represents,\n",
    "we can use the `ConfusionMatrixDisplay` class\n",
    "(the `plot_confusion_matrix` function in earlier version of sklearn)\n",
    "to visualize how well our model is doing classifying each target class."
   ]
  },
  {
   "cell_type": "markdown",
   "metadata": {},
   "source": [
    "We can use `classes` to see which position each label takes so we can designate them more comprehensive labels in our plot. "
   ]
  },
  {
   "cell_type": "code",
   "execution_count": 11,
   "metadata": {},
   "outputs": [
    {
     "data": {
      "text/plain": [
       "array([0, 1])"
      ]
     },
     "execution_count": 11,
     "metadata": {},
     "output_type": "execute_result"
    }
   ],
   "source": [
    "pipe.classes_"
   ]
  },
  {
   "cell_type": "code",
   "execution_count": 12,
   "metadata": {},
   "outputs": [
    {
     "data": {
      "text/plain": [
       "<sklearn.metrics._plot.confusion_matrix.ConfusionMatrixDisplay at 0x179d97e50>"
      ]
     },
     "execution_count": 12,
     "metadata": {},
     "output_type": "execute_result"
    },
    {
     "data": {
      "image/png": "[encoded data removed]",
      "text/plain": [
       "<Figure size 640x480 with 2 Axes>"
      ]
     },
     "metadata": {},
     "output_type": "display_data"
    }
   ],
   "source": [
    "from sklearn.metrics import ConfusionMatrixDisplay\n",
    "import matplotlib.pyplot as plt\n",
    "\n",
    "\n",
    "plt.rc('font', size=12) # bigger font sizes\n",
    "ConfusionMatrixDisplay(cm, display_labels=[\"Non fraud\", \"Fraud\"]).plot()"
   ]
  },
  {
   "cell_type": "markdown",
   "metadata": {},
   "source": [
    "In fact,\n",
    "we don't even need to manually create the confusion matrix before plotting it,\n",
    "but can instead build it straight from the fitted estimator.\n",
    "In this case, we only need to fit the model before visualizing it\n",
    "(the predictions are done automatically on the validation/test data set that we pass in)\n",
    "This results in a 2 by 2 matrix with the labels `Non fraud` and `Fraud` on each axis. "
   ]
  },
  {
   "cell_type": "code",
   "execution_count": 13,
   "metadata": {},
   "outputs": [
    {
     "data": {
      "image/png": "[encoded data removed]",
      "text/plain": [
       "<Figure size 640x480 with 2 Axes>"
      ]
     },
     "metadata": {},
     "output_type": "display_data"
    }
   ],
   "source": [
    "pipe.fit(X_train, y_train)  # We already did this above, but adding it here for clarity\n",
    "\n",
    "ConfusionMatrixDisplay.from_estimator(\n",
    "    pipe,\n",
    "    X_valid,\n",
    "    y_valid,\n",
    "    display_labels=[\"Non fraud\", \"Fraud\"],\n",
    ");"
   ]
  },
  {
   "cell_type": "markdown",
   "metadata": {},
   "source": [
    "**Looking at the plotting arguments:**\n",
    "\n",
    "- Similar to other `sklearn` functions, we pass the model/pipeline followed by the feature table and then the target values. \n",
    "- `display_labels` will show more descriptive labels. without this argument, it would simply show the classes we have in the data (`0`, `1`). \n",
    "- `values_format` will determine how the numbers are displayed. Specifying `d` avoids scientific notation for large numbers (not needed in this example). \n",
    "- `cmap` is the colour argument! The default is `viridis` but other values such as `Blues`, `Purples`, `RdPu` or other colour schemes from [here](https://matplotlib.org/stable/tutorials/colors/colormaps.html) are also possible. "
   ]
  },
  {
   "cell_type": "markdown",
   "metadata": {},
   "source": [
    "### Accuracy is only part of the story...\n",
    "\n",
    "We have been using `.score` to assess our models, which returns accuracy by default\n",
    "for classification models.\n",
    "We just saw that accuracy can be  misleading when we have a class imbalance,\n",
    "so maybe there are other metrics that are more suitable in these cases?\n",
    "\n",
    "*Note that the metrics we are going to discuss will only help us assess our model assessment.\n",
    "Further into this lecture we'll talk about a few ways to address the class imbalance problem as well.*"
   ]
  },
  {
   "cell_type": "markdown",
   "metadata": {},
   "source": [
    "To understand the metrics we are going to talk about next,\n",
    "we will need our values for the four different quadrants in the confusion matrix.\n",
    "We are going to split up the values in the matrix into four separate variables\n",
    "\n",
    "- `TN` for the True Negatives\n",
    "- `FP` for the False Positives\n",
    "- `FN` for the False Negatives\n",
    "- `TP` for the True Positives "
   ]
  },
  {
   "cell_type": "code",
   "execution_count": 14,
   "metadata": {},
   "outputs": [],
   "source": [
    "TN, FP, FN, TP = cm.flatten()"
   ]
  },
  {
   "cell_type": "markdown",
   "metadata": {},
   "source": [
    "Now let's look at the first metric, \"Recall\""
   ]
  },
  {
   "cell_type": "markdown",
   "metadata": {},
   "source": [
    "### Recall \n",
    "\n",
    "*\"Among all positive examples, how many did the model identify?\"*\n",
    "\n",
    "Recall is the ability of the classifier to find all the positive samples.\n",
    "You can think of this as \"What was the model's recall/hit rate out of **all the truly positive observations**\".\n",
    "The denominator in the equation below is all the truly positive values.\n",
    "\n",
    "$$ \\text{recall} = \\frac{\\text{Number of correctly identified positives}}{\\text{Total number of true positives}} = \\frac{TP}{TP + FN} $$\n",
    "\n",
    "In binary classification,\n",
    "recall is sometimes used more generally for either the positive or negative class:\n",
    "recall of the positive class is also known as \"sensitivity\"\n",
    "and recall of the negative class is \"specificity\",\n",
    "which are terms you might recognize from your statistics classes.\n",
    "In machine learning we almost always refer to \"sensitivity\" when we just say \"recall\".\n",
    "\n",
    "Since Fraud is our positive label, we see the correctly identified labels in the bottom right quadrant and the ones that we missed in the bottom left quadrant. "
   ]
  },
  {
   "cell_type": "markdown",
   "metadata": {},
   "source": [
    "<!-- <img src='imgs/recall.png' width=\"50%\">  -->\n",
    "\n",
    "![image.png](imgs/cm-recall.png)"
   ]
  },
  {
   "cell_type": "markdown",
   "metadata": {},
   "source": [
    "So here we take our true positives and we divide by all the positive labels in our validation set (the predictions the model incorrectly labelled as negative (the false negatives) as well as those correctly labelled as positive). "
   ]
  },
  {
   "cell_type": "code",
   "execution_count": 15,
   "metadata": {},
   "outputs": [
    {
     "name": "stdout",
     "output_type": "stream",
     "text": [
      "True Positives: 80\n",
      "False Negatives: 25\n"
     ]
    }
   ],
   "source": [
    "print('True Positives:', TP)\n",
    "print('False Negatives:', FN)"
   ]
  },
  {
   "cell_type": "code",
   "execution_count": 16,
   "metadata": {},
   "outputs": [
    {
     "data": {
      "text/plain": [
       "0.762"
      ]
     },
     "execution_count": 16,
     "metadata": {},
     "output_type": "execute_result"
    }
   ],
   "source": [
    "recall = TP / (TP + FN)\n",
    "recall.round(3)"
   ]
  },
  {
   "cell_type": "markdown",
   "metadata": {},
   "source": [
    "### Precision\n",
    "\n",
    "*\"Among the positive examples you identified, how many were actually positive?\"*\n",
    "\n",
    "Precision is the ability of the classifier to avoid putting a positive label on a negative observation.\n",
    "You can think of this as \"How precise are the model's **predictions**?\".\n",
    "The denominator in the equation below is all the predicted positive values.\n",
    "\n",
    "$$ \\text{precision} = \\frac{\\text{Number of correctly identified positives}}{\\text{Total number of predicted positives}} = \\frac{TP}{TP + FP} $$\n",
    "\n",
    "\n",
    "With Fraud as our positive label,  we see the correctly identified Fraudulent cases in the bottom right quadrant and the labels we incorrectly labelled as Frauds in the top right. "
   ]
  },
  {
   "cell_type": "markdown",
   "metadata": {},
   "source": [
    "<!-- <img src='imgs/precision.png' width=\"50%\">  -->\n",
    "\n",
    "![image.png](imgs/cm-precision.png)"
   ]
  },
  {
   "cell_type": "markdown",
   "metadata": {},
   "source": [
    "So here we take our true positives and we divide by all the positive labels that our model predicted. "
   ]
  },
  {
   "cell_type": "code",
   "execution_count": 17,
   "metadata": {},
   "outputs": [
    {
     "name": "stdout",
     "output_type": "stream",
     "text": [
      "True Positives: 80\n",
      "False Positives: 6\n"
     ]
    }
   ],
   "source": [
    "print('True Positives:', TP)\n",
    "print('False Positives:', FP)"
   ]
  },
  {
   "cell_type": "code",
   "execution_count": 18,
   "metadata": {},
   "outputs": [
    {
     "data": {
      "text/plain": [
       "0.93"
      ]
     },
     "execution_count": 18,
     "metadata": {},
     "output_type": "execute_result"
    }
   ],
   "source": [
    "precision = TP / (TP + FP)\n",
    "precision.round(3)"
   ]
  },
  {
   "cell_type": "markdown",
   "metadata": {},
   "source": [
    "Of course, we'd like to have both high precision and recall but the balance depends on our domain,\n",
    "and which type of error we think is more important to avoid.\n",
    "For credit card fraud detection,\n",
    "recall is really important (catching frauds),\n",
    "precision is less important (reducing false positives)\n",
    "since there likely will be a manual review process in place to look closer at the predicted frauds\n",
    "and prevent false accusations\n",
    "(whereas there likely are too many observations to have a manual review process for all the potentially missed frauds)."
   ]
  },
  {
   "cell_type": "markdown",
   "metadata": {},
   "source": [
    "### Visualization of precision and recall\n",
    "\n",
    "In case you find the concepts above hard to follow or remember,\n",
    "I am including this schematic as a visual aid\n",
    "\n",
    "![image.png](imgs/recall-precision-schematic.png)\n",
    "\n",
    "Source: https://en.wikipedia.org/wiki/Precision_and_recall"
   ]
  },
  {
   "cell_type": "markdown",
   "metadata": {},
   "source": [
    "### f1 score\n",
    "\n",
    "Sometimes we need a single score to maximize, e.g., when doing hyperparameter tuning via RandomizedSearchCV.\n",
    "Accuracy is often a not the ideal choice,\n",
    "and we might care about both the precision and recall.\n",
    "One way of combining these two into a single score is to average them.\n",
    "However,\n",
    "in machine learning,\n",
    "we usually use a different way of averaging these metrics together,\n",
    "which is called the \"harmonic mean\".\n",
    "The advantage of this is that it penalizes the model more for performing poorly in either of the precision or recall,\n",
    "whether if we just took the common arithmetic mean,\n",
    "the model could compensate e.g. for a low recall with a high precision and still get a high overall score.\n",
    "\n",
    "The harmonic mean of the precision and recall is called the `f1` score:\n",
    "\n",
    "$$ \\text{f1} = 2 * \\frac{\\text{precision} * \\text{recall}}{\\text{precision} + \\text{recall}} $$"
   ]
  },
  {
   "cell_type": "code",
   "execution_count": 19,
   "metadata": {},
   "outputs": [
    {
     "name": "stdout",
     "output_type": "stream",
     "text": [
      "Precision: 0.9302\n",
      "Recall: 0.7619\n"
     ]
    }
   ],
   "source": [
    "print('Precision:', precision.round(4))\n",
    "print('Recall:', recall.round(4))"
   ]
  },
  {
   "cell_type": "code",
   "execution_count": 20,
   "metadata": {},
   "outputs": [
    {
     "data": {
      "text/plain": [
       "0.838"
      ]
     },
     "execution_count": 20,
     "metadata": {},
     "output_type": "execute_result"
    }
   ],
   "source": [
    "f1_score = (2 * precision * recall) / (precision + recall)\n",
    "f1_score.round(3)"
   ]
  },
  {
   "cell_type": "markdown",
   "metadata": {},
   "source": [
    "We could calculate all these evaluation metrics by hand\n",
    "using the formulas we have covered so far: "
   ]
  },
  {
   "cell_type": "code",
   "execution_count": 21,
   "metadata": {},
   "outputs": [
    {
     "data": {
      "text/html": [
       "<div>\n",
       "<style scoped>\n",
       "    .dataframe tbody tr th:only-of-type {\n",
       "        vertical-align: middle;\n",
       "    }\n",
       "\n",
       "    .dataframe tbody tr th {\n",
       "        vertical-align: top;\n",
       "    }\n",
       "\n",
       "    .dataframe thead th {\n",
       "        text-align: right;\n",
       "    }\n",
       "</style>\n",
       "<table border=\"1\" class=\"dataframe\">\n",
       "  <thead>\n",
       "    <tr style=\"text-align: right;\">\n",
       "      <th></th>\n",
       "      <th>accuracy</th>\n",
       "      <th>precision</th>\n",
       "      <th>recall</th>\n",
       "      <th>f1 score</th>\n",
       "    </tr>\n",
       "  </thead>\n",
       "  <tbody>\n",
       "    <tr>\n",
       "      <th>0</th>\n",
       "      <td>0.998792</td>\n",
       "      <td>0.930233</td>\n",
       "      <td>0.761905</td>\n",
       "      <td>0.837696</td>\n",
       "    </tr>\n",
       "  </tbody>\n",
       "</table>\n",
       "</div>"
      ],
      "text/plain": [
       "   accuracy  precision    recall  f1 score\n",
       "0  0.998792   0.930233  0.761905  0.837696"
      ]
     },
     "execution_count": 21,
     "metadata": {},
     "output_type": "execute_result"
    }
   ],
   "source": [
    "data = {}\n",
    "data[\"accuracy\"] = [(TP + TN) / (TN + FP + FN + TP)]\n",
    "data[\"precision\"] = [ TP / (TP + FP)] \n",
    "data[\"recall\"] = [TP / (TP + FN)] \n",
    "data[\"f1 score\"] = [(2 * precision * recall) / (precision + recall)] \n",
    "\n",
    "measures_df = pd.DataFrame(data)\n",
    "measures_df"
   ]
  },
  {
   "cell_type": "markdown",
   "metadata": {},
   "source": [
    "... or we can use `scikit-learn` which has functions for these metrics.\n",
    "\n",
    "Here we are importing `accuracy_score`, `precision_score`, `recall_score`, `f1_score` from `sklearn.metrics`"
   ]
  },
  {
   "cell_type": "code",
   "execution_count": 22,
   "metadata": {},
   "outputs": [
    {
     "data": {
      "text/html": [
       "<div>\n",
       "<style scoped>\n",
       "    .dataframe tbody tr th:only-of-type {\n",
       "        vertical-align: middle;\n",
       "    }\n",
       "\n",
       "    .dataframe tbody tr th {\n",
       "        vertical-align: top;\n",
       "    }\n",
       "\n",
       "    .dataframe thead th {\n",
       "        text-align: right;\n",
       "    }\n",
       "</style>\n",
       "<table border=\"1\" class=\"dataframe\">\n",
       "  <thead>\n",
       "    <tr style=\"text-align: right;\">\n",
       "      <th></th>\n",
       "      <th>accuracy</th>\n",
       "      <th>precision</th>\n",
       "      <th>recall</th>\n",
       "      <th>f1 score</th>\n",
       "    </tr>\n",
       "  </thead>\n",
       "  <tbody>\n",
       "    <tr>\n",
       "      <th>by-hand</th>\n",
       "      <td>0.998792</td>\n",
       "      <td>0.930233</td>\n",
       "      <td>0.761905</td>\n",
       "      <td>0.837696</td>\n",
       "    </tr>\n",
       "    <tr>\n",
       "      <th>sklearn</th>\n",
       "      <td>0.998792</td>\n",
       "      <td>0.930233</td>\n",
       "      <td>0.761905</td>\n",
       "      <td>0.837696</td>\n",
       "    </tr>\n",
       "  </tbody>\n",
       "</table>\n",
       "</div>"
      ],
      "text/plain": [
       "         accuracy  precision    recall  f1 score\n",
       "by-hand  0.998792   0.930233  0.761905  0.837696\n",
       "sklearn  0.998792   0.930233  0.761905  0.837696"
      ]
     },
     "execution_count": 22,
     "metadata": {},
     "output_type": "execute_result"
    }
   ],
   "source": [
    "from sklearn.metrics import accuracy_score, precision_score, recall_score, f1_score\n",
    "\n",
    "\n",
    "pred_cv =  pipe.predict(X_valid) \n",
    "\n",
    "data[\"accuracy\"].append(accuracy_score(y_valid, pred_cv))\n",
    "data[\"precision\"].append(precision_score(y_valid, pred_cv))\n",
    "data[\"recall\"].append(recall_score(y_valid, pred_cv))\n",
    "data[\"f1 score\"].append(f1_score(y_valid, pred_cv))\n",
    "\n",
    "pd.DataFrame(data, index=['by-hand', 'sklearn'])"
   ]
  },
  {
   "cell_type": "markdown",
   "metadata": {},
   "source": [
    "And you can see the scores match. \n",
    "\n",
    "We can even go one step further and \"observe\" the scores using a *Classification report* "
   ]
  },
  {
   "cell_type": "markdown",
   "metadata": {},
   "source": [
    "### Classification report \n",
    "\n",
    "Similar to how a confusion matrix shows the False and True negative and positive labels, a classification report shows us an assortment of metrics, however, we can't flatten or obtain the results from it and only see what is printed as the output. \n",
    "\n",
    "We can import `classification_report` from `sklearn.metrics`"
   ]
  },
  {
   "cell_type": "code",
   "execution_count": 23,
   "metadata": {},
   "outputs": [],
   "source": [
    "from sklearn.metrics import classification_report"
   ]
  },
  {
   "cell_type": "markdown",
   "metadata": {},
   "source": [
    "In our function, we specify the true labels, followed by the predictions our model made. \n",
    "\n",
    "The argument `target_names`, gives more descriptive labels similar to what `display_labels` did when plotting the confusion matrix. "
   ]
  },
  {
   "cell_type": "code",
   "execution_count": 24,
   "metadata": {},
   "outputs": [
    {
     "name": "stdout",
     "output_type": "stream",
     "text": [
      "              precision    recall  f1-score   support\n",
      "\n",
      "   non fraud       1.00      1.00      1.00     25547\n",
      "       Fraud       0.93      0.76      0.84       105\n",
      "\n",
      "    accuracy                           1.00     25652\n",
      "   macro avg       0.96      0.88      0.92     25652\n",
      "weighted avg       1.00      1.00      1.00     25652\n",
      "\n"
     ]
    }
   ],
   "source": [
    "print(\n",
    "    classification_report(\n",
    "        y_valid,\n",
    "        pipe.predict(X_valid),\n",
    "        target_names=[\"non fraud\", \"Fraud\"]\n",
    "    )\n",
    ")"
   ]
  },
  {
   "cell_type": "markdown",
   "metadata": {},
   "source": [
    "Note that what you consider \"positive\" (Fraud in our case) is important when calculating precision, recall, and f1-score. \n",
    "If you flip what is considered positive or negative, we'll end up with different True Positive, False Positive, True Negatives and False Negatives, and hence different precision, recall, and f1-scores. \n",
    "The `support` column just shows the number of examples in each class.  \n",
    "\n",
    "You might be wondering about the two lines at the end of this report,\n",
    "so let's cover that next."
   ]
  },
  {
   "cell_type": "markdown",
   "metadata": {},
   "source": [
    "#### Macro average vs weighted average\n",
    "\n",
    "These are the average for the positive and negative class in each of the metrics.\n",
    "\n",
    "- **Macro average** gives equal importance to all classes irrespective of the number of observations (support) in each class.\n",
    "- **Weighted average** weighs the average by the number of observations (support) in each class.\n",
    "\n",
    "Which one is relevant, depends upon whether you think each class should have the same weight or each sample should have the same weight. \n",
    "These metrics are often useful when predicting multiple classes which we will briefly discuss later on. "
   ]
  },
  {
   "cell_type": "markdown",
   "metadata": {},
   "source": [
    "In addition to this lecture, my wonderful colleague [Varada Kolhatkar](https://kvarada.github.io/) has made a cheat sheet for these metrics available in a larger size [here](https://raw.githubusercontent.com/UBC-MDS/introduction-machine-learning/master/static/module7/evaluation-metrics.png)."
   ]
  },
  {
   "cell_type": "markdown",
   "metadata": {},
   "source": [
    "<img src=\"https://raw.githubusercontent.com/UBC-MDS/introduction-machine-learning/master/static/module7/evaluation-metrics.png\"  width = \"90%\" alt=\"404 image\" />"
   ]
  },
  {
   "cell_type": "markdown",
   "metadata": {},
   "source": [
    "### Imbalanced datasets\n",
    "\n",
    "A class imbalance typically refers to having many more examples of one class than another in one's training set.\n",
    "We've seen this in our fraud dataset where our `class` target column had many more non-fraud than fraud examples. \n",
    "Real-world data is often imbalanced and can be seen in scenarios such as:\n",
    "\n",
    "- Ad clicking data (Only around ~0.01% of ads are clicked.)\n",
    "- Spam classification datasets.\n"
   ]
  },
  {
   "cell_type": "code",
   "execution_count": 25,
   "metadata": {},
   "outputs": [
    {
     "data": {
      "text/plain": [
       "Class\n",
       "0    0.995856\n",
       "1    0.004144\n",
       "Name: proportion, dtype: float64"
      ]
     },
     "execution_count": 25,
     "metadata": {},
     "output_type": "execute_result"
    }
   ],
   "source": [
    "y_train.value_counts('Class')"
   ]
  },
  {
   "cell_type": "markdown",
   "metadata": {},
   "source": [
    "#### Addressing class imbalance\n",
    "\n",
    "A very important question to ask yourself: ***\"Why do I have a class imbalance?\"***\n",
    "\n",
    "- Is it because of my data collection methods?\n",
    "    - If it's the data collection, then that means the you need to rethink how you have collected the data and if you can recollect it to balance the classes (note: it might be dangerous to go out and just collect new observations of the least common class since these would be collected after the original data and if the data changed over time, these newly collected observations will be different than the old one not because of their class, but because of the date they were collected.\n",
    "- Is it because one class is much rarer than the other?\n",
    "    - If it's because one is rarer than the other in the true data distribution, you need to think about which type of error is more important to the stakeholders and prioritize how you train the model and how you assess its performance."
   ]
  },
  {
   "cell_type": "markdown",
   "metadata": {},
   "source": [
    "#### Handling imbalance\n",
    "\n",
    "Can we change the model itself so that it considers the errors that are important to us?\n",
    "\n",
    "There are two common approaches to this: \n",
    "\n",
    "1. **Changing the training procedure** \n",
    "\n",
    "2. **Changing the data (not in this course)**\n",
    "    - Undersampling\n",
    "    - Oversampling \n",
    "    "
   ]
  },
  {
   "cell_type": "markdown",
   "metadata": {},
   "source": [
    "#### Changing the training procedure: `class_weight`\n",
    "\n",
    "If you look for example, in the [documentation for the SVM classifier](https://scikit-learn.org/stable/modules/generated/sklearn.svm.SVC.html), or [Logistic Regression](https://scikit-learn.org/stable/modules/generated/sklearn.linear_model.LogisticRegression.html?highlight=logistic%20regression#sklearn.linear_model.LogisticRegression) we see `class_weight` as a parameter.\n",
    "\n",
    "<img src=\"imgs/weights-sklearn.png\"  width = \"100%\" alt=\"404 image\" />\n",
    "\n",
    "How can this help use work with class imbalances?\n",
    "\n",
    "The default `class_weight` is 1 for all classes;\n",
    "which means that all classes are equally important.\n",
    "By setting the class weight to another value,\n",
    "we can say that errors on one class are more important than errors on another class,\n",
    "and when we perform the final computation of the error score,\n",
    "this class's errors will have more weight and contribute more to the final error score.\n",
    "\n",
    "Let's see an example."
   ]
  },
  {
   "cell_type": "markdown",
   "metadata": {},
   "source": [
    "First, let's build a model where we keep the class_weights as the default. "
   ]
  },
  {
   "cell_type": "code",
   "execution_count": 26,
   "metadata": {},
   "outputs": [],
   "source": [
    "lr_default= LogisticRegression(random_state=12, max_iter=1000)\n",
    "lr_default.fit(X_train,y_train);"
   ]
  },
  {
   "cell_type": "code",
   "execution_count": 27,
   "metadata": {},
   "outputs": [
    {
     "data": {
      "image/png": "[encoded data removed]",
      "text/plain": [
       "<Figure size 640x480 with 2 Axes>"
      ]
     },
     "metadata": {},
     "output_type": "display_data"
    }
   ],
   "source": [
    "ConfusionMatrixDisplay.from_estimator(\n",
    "    lr_default, X_valid, y_valid,\n",
    "    display_labels=[\"Non fraud\", \"Fraud\"],\n",
    ");"
   ]
  },
  {
   "cell_type": "markdown",
   "metadata": {},
   "source": [
    "Now let's rebuild our pipeline but using the `class_weight` argument and setting it as `class_weight={1:100}`. \n",
    "This is equivalent to saying \"repeat every positive example 100x in the training set\",\n",
    "but repeating data would slow down the code, whereas this doesn't\n",
    "since it just weights the error on the second class 100x more than the first class.\n",
    "In the context of our data, we are saying that a false negative is 100x more problematic than a false positive. "
   ]
  },
  {
   "cell_type": "code",
   "execution_count": 28,
   "metadata": {},
   "outputs": [],
   "source": [
    "lr_100 = LogisticRegression(random_state=12, max_iter=1000, class_weight={1:100})\n",
    "lr_100.fit(X_train,y_train);"
   ]
  },
  {
   "cell_type": "code",
   "execution_count": 29,
   "metadata": {},
   "outputs": [
    {
     "data": {
      "image/png": "[encoded data removed]",
      "text/plain": [
       "<Figure size 640x480 with 2 Axes>"
      ]
     },
     "metadata": {},
     "output_type": "display_data"
    }
   ],
   "source": [
    "ConfusionMatrixDisplay.from_estimator(\n",
    "    lr_100,\n",
    "    X_valid,\n",
    "    y_valid,\n",
    "    display_labels=[\"Non fraud\", \"Fraud\"],\n",
    ");"
   ]
  },
  {
   "cell_type": "markdown",
   "metadata": {},
   "source": [
    "Notice that we now have reduced false negatives and predicted more true positives this time.\n",
    "But, as a consequence, we pay a price since now we are also increasing false positives. \n",
    "\n",
    "We can also set `class_weight=\"balanced\"`.\n",
    "This sets the weights automatically so that the classes are \"equal\",\n",
    "by automatically adjust weights inversely proportional to class frequencies in the input data.\n",
    "So if there is 10x less of class 2 in the data,\n",
    "its errors will be weighted 10x in the computation of the final score."
   ]
  },
  {
   "cell_type": "code",
   "execution_count": 30,
   "metadata": {},
   "outputs": [],
   "source": [
    "lr_balanced = LogisticRegression(random_state=12, max_iter=1000, class_weight=\"balanced\")\n",
    "lr_balanced.fit(X_train,y_train);"
   ]
  },
  {
   "cell_type": "code",
   "execution_count": 31,
   "metadata": {},
   "outputs": [
    {
     "data": {
      "image/png": "[encoded data removed]",
      "text/plain": [
       "<Figure size 640x480 with 2 Axes>"
      ]
     },
     "metadata": {},
     "output_type": "display_data"
    }
   ],
   "source": [
    "ConfusionMatrixDisplay.from_estimator(\n",
    "    lr_balanced,\n",
    "    X_valid,\n",
    "    y_valid,\n",
    "    display_labels=[\"Non fraud\", \"Fraud\"],\n",
    ");"
   ]
  },
  {
   "cell_type": "markdown",
   "metadata": {},
   "source": [
    "Again, we have reduced the number of false negatives and increased the number of true positives but we have many more false positives now!\n",
    "Overall, we can say that our weight adjustments are making the model more likely to make the prediction \"fraud\" on a sample."
   ]
  },
  {
   "cell_type": "markdown",
   "metadata": {},
   "source": [
    "#### Are we doing better with `class_weight=\"balanced\"`?\n",
    "\n",
    "Let's compare some metrics and find out. "
   ]
  },
  {
   "cell_type": "code",
   "execution_count": 32,
   "metadata": {},
   "outputs": [
    {
     "data": {
      "text/plain": [
       "0.9988305005457664"
      ]
     },
     "execution_count": 32,
     "metadata": {},
     "output_type": "execute_result"
    }
   ],
   "source": [
    "lr_default.score(X_valid, y_valid)"
   ]
  },
  {
   "cell_type": "code",
   "execution_count": 33,
   "metadata": {},
   "outputs": [
    {
     "data": {
      "text/plain": [
       "0.9676048651177296"
      ]
     },
     "execution_count": 33,
     "metadata": {},
     "output_type": "execute_result"
    }
   ],
   "source": [
    "lr_balanced.score(X_valid, y_valid)"
   ]
  },
  {
   "cell_type": "markdown",
   "metadata": {},
   "source": [
    "Changing the class weight will **generally reduce accuracy**.\n",
    "The original model was trying to maximize accuracy. Now you're telling it to do something different.\n",
    "But we know now that accuracy isn't the only metric that matters.\n",
    "Let's explain why this happens. \n",
    "\n",
    "Since there are so many more negative examples than positive ones, false-positives affect accuracy much more than false negatives.\n",
    "Thus, precision matters a lot more than recall in this accuracy calculation.\n",
    "So, the default method trades off a lot of recall for a bit of precision.\n",
    "We are paying a \"fee\" in precision for a greater recall value. "
   ]
  },
  {
   "cell_type": "markdown",
   "metadata": {},
   "source": [
    "## Let's Practice\n",
    "\n",
    "<img src=\"imgs/Q_cm.png\"  width = \"60%\" alt=\"404 image\" />\n",
    "\n",
    "Use the diagram above to answer the questions.\n",
    "\n",
    "1\\. How many examples did the model of this matrix correctly label as \"Guard\"?   \n",
    "2\\. If **Forward** is the positive label, how many ***false-positive*** values are there?   \n",
    "3\\. How many examples does the model incorrectly predict?   \n",
    "4\\. What is the recall of the confusion matrix assuming that **Forward** is the positive label?    \n",
    "5\\. What is the precision of the confusion matrix assuming that **Forward** is the positive label?   \n",
    "6\\. What is the f1 score assuming that **Forward** is the positive label?   \n",
    "\n",
    "\n",
    "**True or False:**       \n",
    "\n",
    "7\\. In spam classification, false positives are often more damaging than false negatives (assume \"positive\" means the email is spam, \"negative\" means it's not).    \n",
    "8\\. In medical diagnosis, high recall is often more important than high precision.    \n",
    "9\\. The weighted average in the classification report gives equal importance to all classes.    \n",
    "10\\. Setting `class_weight={1:100}` will make each example of the second class label be counted 100 times."
   ]
  },
  {
   "cell_type": "markdown",
   "metadata": {},
   "source": [
    "```{admonition} Solutions!\n",
    ":class: dropdown\n",
    "\n",
    "1. 26\n",
    "2. 4\n",
    "3. 7\n",
    "4. $0.86 = 19/22$\n",
    "5. $0.83 = 19/23$\n",
    "6. $ 2 * \\frac{0.86 * 0.83}{0.86 + 0.83} = 0.84$\n",
    "7. True\n",
    "8. True\n",
    "9. False\n",
    "10. True\n",
    "```"
   ]
  },
  {
   "cell_type": "markdown",
   "metadata": {},
   "source": [
    "## Regression Metrics \n",
    "\n",
    "For this part, since we need to use data that corresponds to a regression problem, we are bringing back our [California housing dataset](https://www.kaggle.com/harrywang/housing). \n",
    "\n",
    "We want to predict the median house value for different locations."
   ]
  },
  {
   "cell_type": "code",
   "execution_count": 34,
   "metadata": {},
   "outputs": [],
   "source": [
    "housing_df = pd.read_csv(\"data/housing.csv\")\n",
    "train_df, test_df = train_test_split(housing_df, test_size=0.1, random_state=123)\n",
    "\n",
    "\n",
    "train_df = train_df.assign(rooms_per_household = train_df[\"total_rooms\"]/train_df[\"households\"],\n",
    "                           bedrooms_per_household = train_df[\"total_bedrooms\"]/train_df[\"households\"],\n",
    "                           population_per_household = train_df[\"population\"]/train_df[\"households\"])\n",
    "                        \n",
    "test_df = test_df.assign(rooms_per_household = test_df[\"total_rooms\"]/test_df[\"households\"],\n",
    "                         bedrooms_per_household = test_df[\"total_bedrooms\"]/test_df[\"households\"],\n",
    "                         population_per_household = test_df[\"population\"]/test_df[\"households\"])\n",
    "                         \n",
    "train_df = train_df.drop(columns=['total_rooms', 'total_bedrooms', 'population'])  \n",
    "test_df = test_df.drop(columns=['total_rooms', 'total_bedrooms', 'population']) "
   ]
  },
  {
   "cell_type": "code",
   "execution_count": 35,
   "metadata": {},
   "outputs": [
    {
     "data": {
      "text/html": [
       "<div>\n",
       "<style scoped>\n",
       "    .dataframe tbody tr th:only-of-type {\n",
       "        vertical-align: middle;\n",
       "    }\n",
       "\n",
       "    .dataframe tbody tr th {\n",
       "        vertical-align: top;\n",
       "    }\n",
       "\n",
       "    .dataframe thead th {\n",
       "        text-align: right;\n",
       "    }\n",
       "</style>\n",
       "<table border=\"1\" class=\"dataframe\">\n",
       "  <thead>\n",
       "    <tr style=\"text-align: right;\">\n",
       "      <th></th>\n",
       "      <th>longitude</th>\n",
       "      <th>latitude</th>\n",
       "      <th>housing_median_age</th>\n",
       "      <th>households</th>\n",
       "      <th>median_income</th>\n",
       "      <th>ocean_proximity</th>\n",
       "      <th>rooms_per_household</th>\n",
       "      <th>bedrooms_per_household</th>\n",
       "      <th>population_per_household</th>\n",
       "    </tr>\n",
       "  </thead>\n",
       "  <tbody>\n",
       "    <tr>\n",
       "      <th>6051</th>\n",
       "      <td>-117.75</td>\n",
       "      <td>34.04</td>\n",
       "      <td>22.0</td>\n",
       "      <td>602.0</td>\n",
       "      <td>3.1250</td>\n",
       "      <td>INLAND</td>\n",
       "      <td>4.897010</td>\n",
       "      <td>1.056478</td>\n",
       "      <td>4.318937</td>\n",
       "    </tr>\n",
       "    <tr>\n",
       "      <th>20113</th>\n",
       "      <td>-119.57</td>\n",
       "      <td>37.94</td>\n",
       "      <td>17.0</td>\n",
       "      <td>20.0</td>\n",
       "      <td>3.4861</td>\n",
       "      <td>INLAND</td>\n",
       "      <td>17.300000</td>\n",
       "      <td>6.500000</td>\n",
       "      <td>2.550000</td>\n",
       "    </tr>\n",
       "    <tr>\n",
       "      <th>14289</th>\n",
       "      <td>-117.13</td>\n",
       "      <td>32.74</td>\n",
       "      <td>46.0</td>\n",
       "      <td>708.0</td>\n",
       "      <td>2.6604</td>\n",
       "      <td>NEAR OCEAN</td>\n",
       "      <td>4.738701</td>\n",
       "      <td>1.084746</td>\n",
       "      <td>2.057910</td>\n",
       "    </tr>\n",
       "    <tr>\n",
       "      <th>13665</th>\n",
       "      <td>-117.31</td>\n",
       "      <td>34.02</td>\n",
       "      <td>18.0</td>\n",
       "      <td>285.0</td>\n",
       "      <td>5.2139</td>\n",
       "      <td>INLAND</td>\n",
       "      <td>5.733333</td>\n",
       "      <td>0.961404</td>\n",
       "      <td>3.154386</td>\n",
       "    </tr>\n",
       "    <tr>\n",
       "      <th>14471</th>\n",
       "      <td>-117.23</td>\n",
       "      <td>32.88</td>\n",
       "      <td>18.0</td>\n",
       "      <td>1458.0</td>\n",
       "      <td>1.8580</td>\n",
       "      <td>NEAR OCEAN</td>\n",
       "      <td>3.817558</td>\n",
       "      <td>1.004801</td>\n",
       "      <td>4.323045</td>\n",
       "    </tr>\n",
       "  </tbody>\n",
       "</table>\n",
       "</div>"
      ],
      "text/plain": [
       "       longitude  latitude  housing_median_age  households  median_income  \\\n",
       "6051     -117.75     34.04                22.0       602.0         3.1250   \n",
       "20113    -119.57     37.94                17.0        20.0         3.4861   \n",
       "14289    -117.13     32.74                46.0       708.0         2.6604   \n",
       "13665    -117.31     34.02                18.0       285.0         5.2139   \n",
       "14471    -117.23     32.88                18.0      1458.0         1.8580   \n",
       "\n",
       "      ocean_proximity  rooms_per_household  bedrooms_per_household  \\\n",
       "6051           INLAND             4.897010                1.056478   \n",
       "20113          INLAND            17.300000                6.500000   \n",
       "14289      NEAR OCEAN             4.738701                1.084746   \n",
       "13665          INLAND             5.733333                0.961404   \n",
       "14471      NEAR OCEAN             3.817558                1.004801   \n",
       "\n",
       "       population_per_household  \n",
       "6051                   4.318937  \n",
       "20113                  2.550000  \n",
       "14289                  2.057910  \n",
       "13665                  3.154386  \n",
       "14471                  4.323045  "
      ]
     },
     "execution_count": 35,
     "metadata": {},
     "output_type": "execute_result"
    }
   ],
   "source": [
    "X_train = train_df.drop(columns=[\"median_house_value\"])\n",
    "y_train = train_df[\"median_house_value\"]\n",
    "X_test = test_df.drop(columns=[\"median_house_value\"])\n",
    "y_test = test_df[\"median_house_value\"]\n",
    "\n",
    "numeric_features = [ \"longitude\", \"latitude\",\n",
    "                     \"housing_median_age\",\n",
    "                     \"households\", \"median_income\",\n",
    "                     \"rooms_per_household\",\n",
    "                     \"bedrooms_per_household\",\n",
    "                     \"population_per_household\"]\n",
    "                     \n",
    "categorical_features = [\"ocean_proximity\"]\n",
    "\n",
    "X_train.head()"
   ]
  },
  {
   "cell_type": "markdown",
   "metadata": {},
   "source": [
    "We are going to bring in our previous pipelines and fit our model. "
   ]
  },
  {
   "cell_type": "code",
   "execution_count": 36,
   "metadata": {},
   "outputs": [],
   "source": [
    "from sklearn.pipeline import Pipeline\n",
    "from sklearn.impute import SimpleImputer\n",
    "from sklearn.preprocessing import OneHotEncoder\n",
    "from sklearn.compose import make_column_transformer\n",
    "from sklearn.neighbors import KNeighborsRegressor\n",
    "\n",
    "numeric_transformer = Pipeline(\n",
    "    steps=[(\"imputer\", SimpleImputer(strategy=\"median\")), \n",
    "           (\"scaler\", StandardScaler())]\n",
    ")\n",
    "\n",
    "categorical_transformer = Pipeline(\n",
    "    steps=[(\"imputer\", SimpleImputer(strategy=\"constant\", fill_value=\"missing\")),\n",
    "           (\"onehot\", OneHotEncoder(handle_unknown=\"ignore\"))]\n",
    ")\n",
    "\n",
    "preprocessor = make_column_transformer(\n",
    "(numeric_transformer, numeric_features),\n",
    "        (categorical_transformer, categorical_features), \n",
    "    remainder='passthrough')\n",
    "\n",
    "pipe = make_pipeline(preprocessor, KNeighborsRegressor())\n",
    "pipe.fit(X_train, y_train);"
   ]
  },
  {
   "cell_type": "markdown",
   "metadata": {},
   "source": [
    "As you know, since we aren't doing classification anymore, so we can't just check for equality."
   ]
  },
  {
   "cell_type": "code",
   "execution_count": 37,
   "metadata": {},
   "outputs": [],
   "source": [
    "predicted_y = pipe.predict(X_train) "
   ]
  },
  {
   "cell_type": "code",
   "execution_count": 38,
   "metadata": {},
   "outputs": [
    {
     "data": {
      "text/plain": [
       "array([111740., 117380., 187700., ..., 271420., 265180.,  60860.])"
      ]
     },
     "execution_count": 38,
     "metadata": {},
     "output_type": "execute_result"
    }
   ],
   "source": [
    "predicted_y"
   ]
  },
  {
   "cell_type": "code",
   "execution_count": 39,
   "metadata": {},
   "outputs": [
    {
     "data": {
      "text/plain": [
       "array([113600., 137500., 170100., ..., 286200., 412500.,  59300.])"
      ]
     },
     "execution_count": 39,
     "metadata": {},
     "output_type": "execute_result"
    }
   ],
   "source": [
    "y_train.values"
   ]
  },
  {
   "cell_type": "code",
   "execution_count": 40,
   "metadata": {},
   "outputs": [
    {
     "data": {
      "text/plain": [
       "0.01232773471145564"
      ]
     },
     "execution_count": 40,
     "metadata": {},
     "output_type": "execute_result"
    }
   ],
   "source": [
    "(predicted_y == y_train).mean()  # \"Accuracy\""
   ]
  },
  {
   "cell_type": "markdown",
   "metadata": {},
   "source": [
    "The predicted values will rarely be exactly the same as the real ones.\n",
    "Instead, we need a score that reflects how right/wrong each prediction is or how close we are to the actual numeric value.\n",
    "\n",
    "We are going to discuss 4 different ones lightly but, if you want to see more regression metrics in detail, you can refer to the [sklearn documentation](https://scikit-learn.org/stable/modules/model_evaluation.html#regression-metrics). "
   ]
  },
  {
   "cell_type": "markdown",
   "metadata": {},
   "source": [
    "###  Mean squared error (MSE)\n",
    "\n",
    "Mean Squared Error is a common measure for error and it is the same as taking the residual sum of squares (RSS, which we saw in linear regression) and dividing it on the number of samples to get an average error per sample.\n",
    "\n",
    "$$MSE = \\frac{1}{\\text{total samples}} \\displaystyle\\sum_{i=1}^{\\text{total samples}} (\\text{true}_i - {\\text{predicted}_i})^2$$\n",
    "\n",
    "$$MSE = \\frac{1}{n} \\displaystyle\\sum_{i=1}^{n} (y_i - {f(x_i)})^2$$\n",
    "\n",
    "We calculate this by calculating the difference between the predicted and actual value, square it and sum all these values for every example in the data. \n",
    "The higher the MSE, the worse the model performs."
   ]
  },
  {
   "cell_type": "code",
   "execution_count": 41,
   "metadata": {},
   "outputs": [
    {
     "data": {
      "text/plain": [
       "2570054492.048064"
      ]
     },
     "execution_count": 41,
     "metadata": {},
     "output_type": "execute_result"
    }
   ],
   "source": [
    "((y_train - predicted_y)**2).mean()"
   ]
  },
  {
   "cell_type": "markdown",
   "metadata": {},
   "source": [
    "Perfect predictions would have MSE = 0 (no error in any predictions)."
   ]
  },
  {
   "cell_type": "markdown",
   "metadata": {},
   "source": [
    "We can use `mean_squared_error` from `sklearn.metrics` again instead of calculating this ourselves. "
   ]
  },
  {
   "cell_type": "code",
   "execution_count": 42,
   "metadata": {},
   "outputs": [],
   "source": [
    "from sklearn.metrics import mean_squared_error "
   ]
  },
  {
   "cell_type": "code",
   "execution_count": 43,
   "metadata": {},
   "outputs": [
    {
     "data": {
      "text/plain": [
       "2570054492.048064"
      ]
     },
     "execution_count": 43,
     "metadata": {},
     "output_type": "execute_result"
    }
   ],
   "source": [
    "mean_squared_error(y_train, predicted_y)"
   ]
  },
  {
   "cell_type": "markdown",
   "metadata": {},
   "source": [
    "#### The disadvantages\n",
    "\n",
    "If we look at MSE value, it's huge.\n",
    "Having a mean error of 2.5 billion certainly sounds like a lot,\n",
    "but is it bad?\n",
    "How do we know how big a \"good\" error is?\n",
    "\n",
    "Unlike classification, in regression, our target has units. \n",
    "In this case, our target column is the median housing value which is in dollars. \n",
    "That means that the mean squared error is in dollars$^2$. \n",
    "This is a benefit in the sense that our error has units,\n",
    "however the units itself are not that helpful (what is a squared dollar?).\n",
    "Having problem-specific units can also make it hard to compare between models\n",
    "and develop an intuition for what is a good value\n",
    "since the score depends on the scale of the targets. \n",
    "If we were working in cents instead of dollars, our MSE would be 10,000 X (100<sup>2</sup>) higher!"
   ]
  },
  {
   "cell_type": "markdown",
   "metadata": {},
   "source": [
    "### Root mean squared error  (RMSE)\n",
    "\n",
    "The MSE we had before was in $dollars^2$,\n",
    "so an intuitive way to make this more interpretable\n",
    "would be to take the square root of the value to get the units in dollars.\n",
    "This is a more relatable metric and it is called the root mean squared error, or RMSE. \n",
    "\n",
    "This is the square root of $MSE$.\n",
    "\n",
    "$$RMSE = \\sqrt{MSE}$$\n",
    "\n",
    "$$RMSE =  \\sqrt{\\frac{1}{\\text{total samples}} \\displaystyle\\sum_{i=1}^{\\text{total samples}} (\\text{true}_i - {\\text{predicted}_i})^2}$$\n",
    "\n",
    "$$RMSE = \\sqrt{\\frac{1}{n} \\displaystyle\\sum_{i=1}^{n} (y_i - {f(x_i)})^2}$$\n"
   ]
  },
  {
   "cell_type": "code",
   "execution_count": 44,
   "metadata": {},
   "outputs": [
    {
     "data": {
      "text/plain": [
       "2570054492.048064"
      ]
     },
     "execution_count": 44,
     "metadata": {},
     "output_type": "execute_result"
    }
   ],
   "source": [
    "mean_squared_error(y_train, predicted_y)"
   ]
  },
  {
   "cell_type": "code",
   "execution_count": 45,
   "metadata": {},
   "outputs": [
    {
     "data": {
      "text/plain": [
       "50695.704867849156"
      ]
     },
     "execution_count": 45,
     "metadata": {},
     "output_type": "execute_result"
    }
   ],
   "source": [
    "import numpy as np\n",
    "\n",
    "np.sqrt(mean_squared_error(y_train, predicted_y))"
   ]
  },
  {
   "cell_type": "markdown",
   "metadata": {},
   "source": [
    "This now has the units in dollars.  Instead of 2 billion dollars squared, our error measurement is around $50,000.\n",
    "This is interpretable for a single prediction,\n",
    "but how would it work to report an RMSE for an entire dataset?\n",
    "\n",
    "Let's plot the predicted vs the true housing prices here."
   ]
  },
  {
   "cell_type": "code",
   "execution_count": 46,
   "metadata": {},
   "outputs": [
    {
     "data": {
      "image/png": "[encoded data removed]",
      "text/plain": [
       "<Figure size 640x480 with 1 Axes>"
      ]
     },
     "metadata": {},
     "output_type": "display_data"
    }
   ],
   "source": [
    "df = pd.DataFrame(y_train).assign(predicted = predicted_y).rename(columns = {'median_house_value': 'true'})\n",
    "df = pd.DataFrame(y_train).assign(predicted = predicted_y).rename(columns = {'median_house_value': 'true'})\n",
    "plt.scatter(y_train, predicted_y, alpha=0.3, s = 5)\n",
    "grid = np.linspace(y_train.min(), y_train.max(), 1000)\n",
    "plt.plot(grid, grid, '--k');\n",
    "plt.xticks(fontsize= 12);\n",
    "plt.yticks(fontsize= 12);\n",
    "plt.xlabel(\"true price\", fontsize=14);\n",
    "plt.ylabel(\"predicted price\", fontsize=14);"
   ]
  },
  {
   "cell_type": "markdown",
   "metadata": {},
   "source": [
    "When we plot our predictions versus the examples' actual value, we can see cases where our prediction is way off.\n",
    "Points under the line $y=x$ means we're under-predicting price, points over the line means we're over-predicting price.\n",
    "\n",
    "*Question: Is an RMSE of \\$30,000 acceptable?*   \n",
    "\n",
    "- For a house worth \\$600k, it seems reasonable! That's a 5% error.\n",
    "- For a house worth \\$60k, that is terrible. It's a 50% error.\n",
    "\n",
    "RMSE is in absolute units and does not account for the original value of the prediction.\n",
    "So how can we adjust to this? \n",
    "\n",
    "...Enter **MAPE**!"
   ]
  },
  {
   "cell_type": "markdown",
   "metadata": {},
   "source": [
    "### MAPE - Mean Absolute Percent Error (MAPE)\n",
    "\n",
    "Instead of computing the absolute error,\n",
    "we can calculate a percentage error for each example.\n",
    "Now the errors are both positive (predict too high) and negative (predict too low)."
   ]
  },
  {
   "cell_type": "code",
   "execution_count": 47,
   "metadata": {},
   "outputs": [
    {
     "data": {
      "text/plain": [
       "6051     -1.637324\n",
       "20113   -14.632727\n",
       "14289    10.346855\n",
       "13665     6.713070\n",
       "14471   -10.965854\n",
       "Name: median_house_value, dtype: float64"
      ]
     },
     "execution_count": 47,
     "metadata": {},
     "output_type": "execute_result"
    }
   ],
   "source": [
    "percent_errors = (predicted_y - y_train)/y_train * 100.\n",
    "percent_errors.head()"
   ]
  },
  {
   "cell_type": "markdown",
   "metadata": {},
   "source": [
    "We can look at the absolute percent error which now shows us how far off we were independent of direction. "
   ]
  },
  {
   "cell_type": "code",
   "execution_count": 48,
   "metadata": {},
   "outputs": [
    {
     "data": {
      "text/plain": [
       "6051      1.637324\n",
       "20113    14.632727\n",
       "14289    10.346855\n",
       "13665     6.713070\n",
       "14471    10.965854\n",
       "Name: median_house_value, dtype: float64"
      ]
     },
     "execution_count": 48,
     "metadata": {},
     "output_type": "execute_result"
    }
   ],
   "source": [
    "np.abs(percent_errors).head()"
   ]
  },
  {
   "cell_type": "markdown",
   "metadata": {},
   "source": [
    "And like MSE, we can take the average over all the examples. "
   ]
  },
  {
   "cell_type": "code",
   "execution_count": 49,
   "metadata": {},
   "outputs": [
    {
     "data": {
      "text/plain": [
       "18.192997502985218"
      ]
     },
     "execution_count": 49,
     "metadata": {},
     "output_type": "execute_result"
    }
   ],
   "source": [
    "np.abs(percent_errors).mean()"
   ]
  },
  {
   "cell_type": "markdown",
   "metadata": {},
   "source": [
    "This is called **Mean Absolute Percent Error (MAPE)**.\n",
    "The value is quite interpretable. We can see that on average, we have around 18% error in our predicted median housing valuation.\n",
    "\n",
    "However,\n",
    "it is worth pointing out that MAPE also has drawbacks,\n",
    "most notably that it don't work well with non-positive values \n",
    "and that it is biased towards low forecasts,\n",
    "which makes it unsuitable for predictive models where large errors are expected\n",
    "(for more details, see https://www.ncbi.nlm.nih.gov/pmc/articles/PMC8279135/).\n",
    "MAPE is still commonly used because of its ease of interpretation\n",
    "and there there are variations of MAPE to asses these shortcoming,\n",
    "most notably symmetric MAPE (SMAPE)).\n",
    "\n",
    "<!-- For example, for the actual value 100 and estimated value of 90, the MAPE is 0.10. For the same estimated value and actual value of 80, the MAPE is 0.125. Therefore when using MAPE as an objective function, the estimator prefers smaller values and can be biased towards negative errors. -->"
   ]
  },
  {
   "cell_type": "markdown",
   "metadata": {},
   "source": [
    "### $R^2$ (R squared)\n",
    "\n",
    "We've seen this before!\n",
    "This is the score that `sklearn` uses by default when you call `.score()` so we've already seen $R^2$ in our regression problems. \n",
    "You can <a href=\"https://en.wikipedia.org/wiki/Coefficient_of_determination\" target=\"_blank\">read about it here</a> but we are going to just give you the quick notes. \n",
    "\n",
    "Intuition: $R^2$ is the residual sum of squares normalized to the total sum of squares. In other words, it is the proportion of the variation in the target feature that the model is able to explain using the variation in the input features.\n",
    "\n",
    "- 1 = Perfect score, all the variation in the target variable can be explained by the model applied to the input features.\n",
    "- 0 = None of the variation in the target variable can be explained by the model applied to the input features. There is no predictive value in the model as we would achieve the same result by constantly predicting constantly predicting the mean of the data.\n",
    "- < 0 = The model is performing worse than constantly predicting the mean of the data.\n",
    "\n",
    "We can use the default scoring from `.score()` or we can calculate $R^2$ using `r2_score` from `sklearn.metrics`"
   ]
  },
  {
   "cell_type": "code",
   "execution_count": 50,
   "metadata": {},
   "outputs": [],
   "source": [
    "from sklearn.metrics import r2_score"
   ]
  },
  {
   "cell_type": "markdown",
   "metadata": {},
   "source": [
    "$R^2$ is a great default to use for reporting the performance of regression models,\n",
    "and if you need something that is easier to interpret (such as a percentage)\n",
    "or an error with units,\n",
    "you can opt for one of the other metrics above\n",
    "(there are more notes on R2 versus MAPE in pubmed article I linked to in the MAPE section).\n",
    "\n",
    "Note that we can reverse the variables in the calculation of MSE but not R<sup>2</sup>."
   ]
  },
  {
   "cell_type": "code",
   "execution_count": 51,
   "metadata": {},
   "outputs": [
    {
     "name": "stdout",
     "output_type": "stream",
     "text": [
      "2570054492.048064\n",
      "2570054492.048064\n"
     ]
    }
   ],
   "source": [
    "print(mean_squared_error(y_train, predicted_y))\n",
    "print(mean_squared_error(predicted_y, y_train))"
   ]
  },
  {
   "cell_type": "code",
   "execution_count": 52,
   "metadata": {},
   "outputs": [
    {
     "name": "stdout",
     "output_type": "stream",
     "text": [
      "0.8059396097446094\n",
      "0.742915970464153\n"
     ]
    }
   ],
   "source": [
    "print(r2_score(y_train, predicted_y))\n",
    "print(r2_score(predicted_y, y_train))"
   ]
  },
  {
   "cell_type": "markdown",
   "metadata": {},
   "source": [
    "## Let's Practice \n",
    "\n",
    "1\\. Which measurement will have units which are the square values of the target column units?    \n",
    "2\\. For which of the following is it possible to have negative values?    \n",
    "3\\. Which measurement is expressed as a percentage?    \n",
    "4\\. Calculate the MSE from the values given below.     \n",
    "\n",
    "\n",
    "|Observation | True Value | Predicted Value |\n",
    "|------------|------------|-----------------|\n",
    "|0           | 4          | 5               |\n",
    "|1           | 12         | 10              |\n",
    "|2           | 6          | 9               |\n",
    "|3           | 9          | 8               |\n",
    "|4           | 3          | 3               |\n",
    "\n",
    "\n",
    "**True or False:**   \n",
    "\n",
    "5\\. We can still use recall and precision for regression problems but now we have other measurements we can use as well.      \n",
    "6\\. A lower RMSE value indicates a better model.      \n",
    "7\\. In regression problems, calculating $R^2$  using `r2_score()` and `.score()` (with default values) will produce the same results.     "
   ]
  },
  {
   "cell_type": "markdown",
   "metadata": {},
   "source": [
    "```{admonition} Solutions!\n",
    ":class: dropdown\n",
    "\n",
    "1. $MSE$\n",
    "2. $R^2$\n",
    "3. $MAPE$\n",
    "4. 3\n",
    "5. False\n",
    "6. True\n",
    "7. True\n",
    "\n",
    "```"
   ]
  },
  {
   "cell_type": "markdown",
   "metadata": {},
   "source": [
    "## Passing Different Scoring Methods\n",
    "\n",
    "We now know about all these metrics; how do we implement them? \n",
    "We are lucky because it's relatively easy and can be applied to both classification and regression problems. \n",
    "\n",
    "Let's start with regression and our regression measurements. \n",
    "This means bringing back our California housing dataset."
   ]
  },
  {
   "cell_type": "code",
   "execution_count": 53,
   "metadata": {},
   "outputs": [
    {
     "data": {
      "text/html": [
       "<div>\n",
       "<style scoped>\n",
       "    .dataframe tbody tr th:only-of-type {\n",
       "        vertical-align: middle;\n",
       "    }\n",
       "\n",
       "    .dataframe tbody tr th {\n",
       "        vertical-align: top;\n",
       "    }\n",
       "\n",
       "    .dataframe thead th {\n",
       "        text-align: right;\n",
       "    }\n",
       "</style>\n",
       "<table border=\"1\" class=\"dataframe\">\n",
       "  <thead>\n",
       "    <tr style=\"text-align: right;\">\n",
       "      <th></th>\n",
       "      <th>longitude</th>\n",
       "      <th>latitude</th>\n",
       "      <th>housing_median_age</th>\n",
       "      <th>households</th>\n",
       "      <th>median_income</th>\n",
       "      <th>ocean_proximity</th>\n",
       "      <th>rooms_per_household</th>\n",
       "      <th>bedrooms_per_household</th>\n",
       "      <th>population_per_household</th>\n",
       "    </tr>\n",
       "  </thead>\n",
       "  <tbody>\n",
       "    <tr>\n",
       "      <th>6051</th>\n",
       "      <td>-117.75</td>\n",
       "      <td>34.04</td>\n",
       "      <td>22.0</td>\n",
       "      <td>602.0</td>\n",
       "      <td>3.1250</td>\n",
       "      <td>INLAND</td>\n",
       "      <td>4.897010</td>\n",
       "      <td>1.056478</td>\n",
       "      <td>4.318937</td>\n",
       "    </tr>\n",
       "    <tr>\n",
       "      <th>20113</th>\n",
       "      <td>-119.57</td>\n",
       "      <td>37.94</td>\n",
       "      <td>17.0</td>\n",
       "      <td>20.0</td>\n",
       "      <td>3.4861</td>\n",
       "      <td>INLAND</td>\n",
       "      <td>17.300000</td>\n",
       "      <td>6.500000</td>\n",
       "      <td>2.550000</td>\n",
       "    </tr>\n",
       "    <tr>\n",
       "      <th>14289</th>\n",
       "      <td>-117.13</td>\n",
       "      <td>32.74</td>\n",
       "      <td>46.0</td>\n",
       "      <td>708.0</td>\n",
       "      <td>2.6604</td>\n",
       "      <td>NEAR OCEAN</td>\n",
       "      <td>4.738701</td>\n",
       "      <td>1.084746</td>\n",
       "      <td>2.057910</td>\n",
       "    </tr>\n",
       "    <tr>\n",
       "      <th>13665</th>\n",
       "      <td>-117.31</td>\n",
       "      <td>34.02</td>\n",
       "      <td>18.0</td>\n",
       "      <td>285.0</td>\n",
       "      <td>5.2139</td>\n",
       "      <td>INLAND</td>\n",
       "      <td>5.733333</td>\n",
       "      <td>0.961404</td>\n",
       "      <td>3.154386</td>\n",
       "    </tr>\n",
       "    <tr>\n",
       "      <th>14471</th>\n",
       "      <td>-117.23</td>\n",
       "      <td>32.88</td>\n",
       "      <td>18.0</td>\n",
       "      <td>1458.0</td>\n",
       "      <td>1.8580</td>\n",
       "      <td>NEAR OCEAN</td>\n",
       "      <td>3.817558</td>\n",
       "      <td>1.004801</td>\n",
       "      <td>4.323045</td>\n",
       "    </tr>\n",
       "  </tbody>\n",
       "</table>\n",
       "</div>"
      ],
      "text/plain": [
       "       longitude  latitude  housing_median_age  households  median_income  \\\n",
       "6051     -117.75     34.04                22.0       602.0         3.1250   \n",
       "20113    -119.57     37.94                17.0        20.0         3.4861   \n",
       "14289    -117.13     32.74                46.0       708.0         2.6604   \n",
       "13665    -117.31     34.02                18.0       285.0         5.2139   \n",
       "14471    -117.23     32.88                18.0      1458.0         1.8580   \n",
       "\n",
       "      ocean_proximity  rooms_per_household  bedrooms_per_household  \\\n",
       "6051           INLAND             4.897010                1.056478   \n",
       "20113          INLAND            17.300000                6.500000   \n",
       "14289      NEAR OCEAN             4.738701                1.084746   \n",
       "13665          INLAND             5.733333                0.961404   \n",
       "14471      NEAR OCEAN             3.817558                1.004801   \n",
       "\n",
       "       population_per_household  \n",
       "6051                   4.318937  \n",
       "20113                  2.550000  \n",
       "14289                  2.057910  \n",
       "13665                  3.154386  \n",
       "14471                  4.323045  "
      ]
     },
     "execution_count": 53,
     "metadata": {},
     "output_type": "execute_result"
    }
   ],
   "source": [
    "X_train.head()"
   ]
  },
  {
   "cell_type": "markdown",
   "metadata": {},
   "source": [
    "And our pipelines. \n",
    "\n",
    "This time we are using $k$-nn."
   ]
  },
  {
   "cell_type": "code",
   "execution_count": 54,
   "metadata": {},
   "outputs": [],
   "source": [
    "numeric_transformer = Pipeline(\n",
    "    steps=[(\"imputer\", SimpleImputer(strategy=\"median\")), \n",
    "           (\"scaler\", StandardScaler())]\n",
    ")\n",
    "\n",
    "categorical_transformer = Pipeline(\n",
    "    steps=[(\"imputer\", SimpleImputer(strategy=\"constant\", fill_value=\"missing\")),\n",
    "           (\"onehot\", OneHotEncoder(handle_unknown=\"ignore\"))]\n",
    ")\n",
    "\n",
    "preprocessor = make_column_transformer(\n",
    "(numeric_transformer, numeric_features),\n",
    "        (categorical_transformer, categorical_features), \n",
    "    remainder='passthrough')\n",
    "\n",
    "pipe_regression = make_pipeline(preprocessor, KNeighborsRegressor())"
   ]
  },
  {
   "cell_type": "markdown",
   "metadata": {},
   "source": [
    "### Cross-validation\n",
    "\n",
    "Normally after building our pipelines, we would now either do cross-validation or hyperparameter tuning but let's start with the `cross_validate()` function. \n",
    "\n",
    "All the possible scoring metrics that this argument accepts are available [here in the sklearn documentation](https://scikit-learn.org/stable/modules/model_evaluation.html#scoring-parameter). \n",
    "Directly from the docs:\n",
    "\n",
    "> All scorer objects follow the convention that higher return values are better than lower return values. Thus metrics which measure the distance between the model and the data, like metrics.mean_squared_error, are available as neg_mean_squared_error which return the negated value of the metric.\n",
    "\n",
    "So if we wanted the RMSE measure, we would specify `neg_mean_squared_error` and the negated value of the metric will be returned in our dataframe. "
   ]
  },
  {
   "cell_type": "code",
   "execution_count": 55,
   "metadata": {},
   "outputs": [
    {
     "data": {
      "text/html": [
       "<div>\n",
       "<style scoped>\n",
       "    .dataframe tbody tr th:only-of-type {\n",
       "        vertical-align: middle;\n",
       "    }\n",
       "\n",
       "    .dataframe tbody tr th {\n",
       "        vertical-align: top;\n",
       "    }\n",
       "\n",
       "    .dataframe thead th {\n",
       "        text-align: right;\n",
       "    }\n",
       "</style>\n",
       "<table border=\"1\" class=\"dataframe\">\n",
       "  <thead>\n",
       "    <tr style=\"text-align: right;\">\n",
       "      <th></th>\n",
       "      <th>fit_time</th>\n",
       "      <th>score_time</th>\n",
       "      <th>test_score</th>\n",
       "    </tr>\n",
       "  </thead>\n",
       "  <tbody>\n",
       "    <tr>\n",
       "      <th>0</th>\n",
       "      <td>0.032128</td>\n",
       "      <td>0.226627</td>\n",
       "      <td>0.695818</td>\n",
       "    </tr>\n",
       "    <tr>\n",
       "      <th>1</th>\n",
       "      <td>0.030844</td>\n",
       "      <td>0.210495</td>\n",
       "      <td>0.707483</td>\n",
       "    </tr>\n",
       "    <tr>\n",
       "      <th>2</th>\n",
       "      <td>0.031129</td>\n",
       "      <td>0.217490</td>\n",
       "      <td>0.713788</td>\n",
       "    </tr>\n",
       "    <tr>\n",
       "      <th>3</th>\n",
       "      <td>0.030537</td>\n",
       "      <td>0.209025</td>\n",
       "      <td>0.686938</td>\n",
       "    </tr>\n",
       "    <tr>\n",
       "      <th>4</th>\n",
       "      <td>0.027322</td>\n",
       "      <td>0.171605</td>\n",
       "      <td>0.724608</td>\n",
       "    </tr>\n",
       "  </tbody>\n",
       "</table>\n",
       "</div>"
      ],
      "text/plain": [
       "   fit_time  score_time  test_score\n",
       "0  0.032128    0.226627    0.695818\n",
       "1  0.030844    0.210495    0.707483\n",
       "2  0.031129    0.217490    0.713788\n",
       "3  0.030537    0.209025    0.686938\n",
       "4  0.027322    0.171605    0.724608"
      ]
     },
     "execution_count": 55,
     "metadata": {},
     "output_type": "execute_result"
    }
   ],
   "source": [
    "pd.DataFrame(\n",
    "    cross_validate(\n",
    "        pipe_regression,\n",
    "        X_train,\n",
    "        y_train, \n",
    "    )\n",
    ")"
   ]
  },
  {
   "cell_type": "code",
   "execution_count": 56,
   "metadata": {},
   "outputs": [
    {
     "data": {
      "text/html": [
       "<div>\n",
       "<style scoped>\n",
       "    .dataframe tbody tr th:only-of-type {\n",
       "        vertical-align: middle;\n",
       "    }\n",
       "\n",
       "    .dataframe tbody tr th {\n",
       "        vertical-align: top;\n",
       "    }\n",
       "\n",
       "    .dataframe thead th {\n",
       "        text-align: right;\n",
       "    }\n",
       "</style>\n",
       "<table border=\"1\" class=\"dataframe\">\n",
       "  <thead>\n",
       "    <tr style=\"text-align: right;\">\n",
       "      <th></th>\n",
       "      <th>fit_time</th>\n",
       "      <th>score_time</th>\n",
       "      <th>test_score</th>\n",
       "    </tr>\n",
       "  </thead>\n",
       "  <tbody>\n",
       "    <tr>\n",
       "      <th>0</th>\n",
       "      <td>0.031523</td>\n",
       "      <td>0.212269</td>\n",
       "      <td>-62462.584290</td>\n",
       "    </tr>\n",
       "    <tr>\n",
       "      <th>1</th>\n",
       "      <td>0.027885</td>\n",
       "      <td>0.198421</td>\n",
       "      <td>-63437.715015</td>\n",
       "    </tr>\n",
       "    <tr>\n",
       "      <th>2</th>\n",
       "      <td>0.027871</td>\n",
       "      <td>0.203763</td>\n",
       "      <td>-62613.202523</td>\n",
       "    </tr>\n",
       "    <tr>\n",
       "      <th>3</th>\n",
       "      <td>0.027251</td>\n",
       "      <td>0.227063</td>\n",
       "      <td>-64204.295214</td>\n",
       "    </tr>\n",
       "    <tr>\n",
       "      <th>4</th>\n",
       "      <td>0.027771</td>\n",
       "      <td>0.172859</td>\n",
       "      <td>-59217.838633</td>\n",
       "    </tr>\n",
       "  </tbody>\n",
       "</table>\n",
       "</div>"
      ],
      "text/plain": [
       "   fit_time  score_time    test_score\n",
       "0  0.031523    0.212269 -62462.584290\n",
       "1  0.027885    0.198421 -63437.715015\n",
       "2  0.027871    0.203763 -62613.202523\n",
       "3  0.027251    0.227063 -64204.295214\n",
       "4  0.027771    0.172859 -59217.838633"
      ]
     },
     "execution_count": 56,
     "metadata": {},
     "output_type": "execute_result"
    }
   ],
   "source": [
    "pd.DataFrame(\n",
    "    cross_validate(\n",
    "        pipe_regression,\n",
    "        X_train,\n",
    "        y_train, \n",
    "        scoring = 'neg_root_mean_squared_error'\n",
    "    )\n",
    ")"
   ]
  },
  {
   "cell_type": "markdown",
   "metadata": {},
   "source": [
    "Now our cross-validation returns percentages! \n",
    "\n",
    "We can also return multiple scoring measures together by making a dictionary and then specifying the dictionary in the `scoring` argument. "
   ]
  },
  {
   "cell_type": "code",
   "execution_count": 57,
   "metadata": {},
   "outputs": [],
   "source": [
    "scoring={\n",
    "    \"neg_mse\": \"neg_mean_squared_error\",    \n",
    "    \"neg_rmse\": \"neg_root_mean_squared_error\",    \n",
    "    \"mape_score\": 'neg_mean_absolute_percentage_error',\n",
    "    \"r2\": \"r2\",\n",
    "}"
   ]
  },
  {
   "cell_type": "code",
   "execution_count": 58,
   "metadata": {},
   "outputs": [
    {
     "data": {
      "text/html": [
       "<div>\n",
       "<style scoped>\n",
       "    .dataframe tbody tr th:only-of-type {\n",
       "        vertical-align: middle;\n",
       "    }\n",
       "\n",
       "    .dataframe tbody tr th {\n",
       "        vertical-align: top;\n",
       "    }\n",
       "\n",
       "    .dataframe thead th {\n",
       "        text-align: right;\n",
       "    }\n",
       "</style>\n",
       "<table border=\"1\" class=\"dataframe\">\n",
       "  <thead>\n",
       "    <tr style=\"text-align: right;\">\n",
       "      <th></th>\n",
       "      <th>fit_time</th>\n",
       "      <th>score_time</th>\n",
       "      <th>test_neg_mse</th>\n",
       "      <th>test_neg_rmse</th>\n",
       "      <th>test_mape_score</th>\n",
       "      <th>test_r2</th>\n",
       "    </tr>\n",
       "  </thead>\n",
       "  <tbody>\n",
       "    <tr>\n",
       "      <th>0</th>\n",
       "      <td>0.030613</td>\n",
       "      <td>0.214975</td>\n",
       "      <td>-3.901574e+09</td>\n",
       "      <td>-62462.584290</td>\n",
       "      <td>-0.227097</td>\n",
       "      <td>0.695818</td>\n",
       "    </tr>\n",
       "    <tr>\n",
       "      <th>1</th>\n",
       "      <td>0.027247</td>\n",
       "      <td>0.203607</td>\n",
       "      <td>-4.024344e+09</td>\n",
       "      <td>-63437.715015</td>\n",
       "      <td>-0.227546</td>\n",
       "      <td>0.707483</td>\n",
       "    </tr>\n",
       "    <tr>\n",
       "      <th>2</th>\n",
       "      <td>0.028034</td>\n",
       "      <td>0.205147</td>\n",
       "      <td>-3.920413e+09</td>\n",
       "      <td>-62613.202523</td>\n",
       "      <td>-0.222369</td>\n",
       "      <td>0.713788</td>\n",
       "    </tr>\n",
       "    <tr>\n",
       "      <th>3</th>\n",
       "      <td>0.027603</td>\n",
       "      <td>0.208715</td>\n",
       "      <td>-4.122192e+09</td>\n",
       "      <td>-64204.295214</td>\n",
       "      <td>-0.230167</td>\n",
       "      <td>0.686938</td>\n",
       "    </tr>\n",
       "    <tr>\n",
       "      <th>4</th>\n",
       "      <td>0.027986</td>\n",
       "      <td>0.175747</td>\n",
       "      <td>-3.506752e+09</td>\n",
       "      <td>-59217.838633</td>\n",
       "      <td>-0.210335</td>\n",
       "      <td>0.724608</td>\n",
       "    </tr>\n",
       "  </tbody>\n",
       "</table>\n",
       "</div>"
      ],
      "text/plain": [
       "   fit_time  score_time  test_neg_mse  test_neg_rmse  test_mape_score  \\\n",
       "0  0.030613    0.214975 -3.901574e+09  -62462.584290        -0.227097   \n",
       "1  0.027247    0.203607 -4.024344e+09  -63437.715015        -0.227546   \n",
       "2  0.028034    0.205147 -3.920413e+09  -62613.202523        -0.222369   \n",
       "3  0.027603    0.208715 -4.122192e+09  -64204.295214        -0.230167   \n",
       "4  0.027986    0.175747 -3.506752e+09  -59217.838633        -0.210335   \n",
       "\n",
       "    test_r2  \n",
       "0  0.695818  \n",
       "1  0.707483  \n",
       "2  0.713788  \n",
       "3  0.686938  \n",
       "4  0.724608  "
      ]
     },
     "execution_count": 58,
     "metadata": {},
     "output_type": "execute_result"
    }
   ],
   "source": [
    "pd.DataFrame(\n",
    "    cross_validate(\n",
    "        pipe_regression,\n",
    "        X_train,\n",
    "        y_train,\n",
    "        scoring=scoring\n",
    "    )\n",
    ")"
   ]
  },
  {
   "cell_type": "markdown",
   "metadata": {},
   "source": [
    "If we set `return_train_score=True` we would return a validation and training score for each measurement! "
   ]
  },
  {
   "cell_type": "code",
   "execution_count": 59,
   "metadata": {},
   "outputs": [
    {
     "data": {
      "text/html": [
       "<div>\n",
       "<style scoped>\n",
       "    .dataframe tbody tr th:only-of-type {\n",
       "        vertical-align: middle;\n",
       "    }\n",
       "\n",
       "    .dataframe tbody tr th {\n",
       "        vertical-align: top;\n",
       "    }\n",
       "\n",
       "    .dataframe thead th {\n",
       "        text-align: right;\n",
       "    }\n",
       "</style>\n",
       "<table border=\"1\" class=\"dataframe\">\n",
       "  <thead>\n",
       "    <tr style=\"text-align: right;\">\n",
       "      <th></th>\n",
       "      <th>fit_time</th>\n",
       "      <th>score_time</th>\n",
       "      <th>test_neg_mse</th>\n",
       "      <th>train_neg_mse</th>\n",
       "      <th>test_neg_rmse</th>\n",
       "      <th>train_neg_rmse</th>\n",
       "      <th>test_mape_score</th>\n",
       "      <th>train_mape_score</th>\n",
       "      <th>test_r2</th>\n",
       "      <th>train_r2</th>\n",
       "    </tr>\n",
       "  </thead>\n",
       "  <tbody>\n",
       "    <tr>\n",
       "      <th>0</th>\n",
       "      <td>0.030596</td>\n",
       "      <td>0.213980</td>\n",
       "      <td>-3.901574e+09</td>\n",
       "      <td>-2.646129e+09</td>\n",
       "      <td>-62462.584290</td>\n",
       "      <td>-51440.540539</td>\n",
       "      <td>-0.227097</td>\n",
       "      <td>-0.184210</td>\n",
       "      <td>0.695818</td>\n",
       "      <td>0.801659</td>\n",
       "    </tr>\n",
       "    <tr>\n",
       "      <th>1</th>\n",
       "      <td>0.028104</td>\n",
       "      <td>0.199698</td>\n",
       "      <td>-4.024344e+09</td>\n",
       "      <td>-2.627996e+09</td>\n",
       "      <td>-63437.715015</td>\n",
       "      <td>-51263.979666</td>\n",
       "      <td>-0.227546</td>\n",
       "      <td>-0.184691</td>\n",
       "      <td>0.707483</td>\n",
       "      <td>0.799575</td>\n",
       "    </tr>\n",
       "    <tr>\n",
       "      <th>2</th>\n",
       "      <td>0.027226</td>\n",
       "      <td>0.204043</td>\n",
       "      <td>-3.920413e+09</td>\n",
       "      <td>-2.678975e+09</td>\n",
       "      <td>-62613.202523</td>\n",
       "      <td>-51758.817852</td>\n",
       "      <td>-0.222369</td>\n",
       "      <td>-0.186750</td>\n",
       "      <td>0.713788</td>\n",
       "      <td>0.795944</td>\n",
       "    </tr>\n",
       "    <tr>\n",
       "      <th>3</th>\n",
       "      <td>0.027180</td>\n",
       "      <td>0.206620</td>\n",
       "      <td>-4.122192e+09</td>\n",
       "      <td>-2.636180e+09</td>\n",
       "      <td>-64204.295214</td>\n",
       "      <td>-51343.743586</td>\n",
       "      <td>-0.230167</td>\n",
       "      <td>-0.185108</td>\n",
       "      <td>0.686938</td>\n",
       "      <td>0.801232</td>\n",
       "    </tr>\n",
       "    <tr>\n",
       "      <th>4</th>\n",
       "      <td>0.027144</td>\n",
       "      <td>0.173949</td>\n",
       "      <td>-3.506752e+09</td>\n",
       "      <td>-2.239671e+09</td>\n",
       "      <td>-59217.838633</td>\n",
       "      <td>-47325.157312</td>\n",
       "      <td>-0.210335</td>\n",
       "      <td>-0.169510</td>\n",
       "      <td>0.724608</td>\n",
       "      <td>0.832498</td>\n",
       "    </tr>\n",
       "  </tbody>\n",
       "</table>\n",
       "</div>"
      ],
      "text/plain": [
       "   fit_time  score_time  test_neg_mse  train_neg_mse  test_neg_rmse  \\\n",
       "0  0.030596    0.213980 -3.901574e+09  -2.646129e+09  -62462.584290   \n",
       "1  0.028104    0.199698 -4.024344e+09  -2.627996e+09  -63437.715015   \n",
       "2  0.027226    0.204043 -3.920413e+09  -2.678975e+09  -62613.202523   \n",
       "3  0.027180    0.206620 -4.122192e+09  -2.636180e+09  -64204.295214   \n",
       "4  0.027144    0.173949 -3.506752e+09  -2.239671e+09  -59217.838633   \n",
       "\n",
       "   train_neg_rmse  test_mape_score  train_mape_score   test_r2  train_r2  \n",
       "0   -51440.540539        -0.227097         -0.184210  0.695818  0.801659  \n",
       "1   -51263.979666        -0.227546         -0.184691  0.707483  0.799575  \n",
       "2   -51758.817852        -0.222369         -0.186750  0.713788  0.795944  \n",
       "3   -51343.743586        -0.230167         -0.185108  0.686938  0.801232  \n",
       "4   -47325.157312        -0.210335         -0.169510  0.724608  0.832498  "
      ]
     },
     "execution_count": 59,
     "metadata": {},
     "output_type": "execute_result"
    }
   ],
   "source": [
    "pd.DataFrame(\n",
    "    cross_validate(\n",
    "        pipe_regression,\n",
    "        X_train,\n",
    "        y_train,\n",
    "        scoring=scoring,\n",
    "        return_train_score=True\n",
    "    )\n",
    ")"
   ]
  },
  {
   "cell_type": "markdown",
   "metadata": {},
   "source": [
    "### What about hyperparameter tuning?\n",
    "\n",
    "We can do exactly the same thing we saw above with `cross_validate()` but instead with `GridSearchCV` and `RandomizedSearchCV`. "
   ]
  },
  {
   "cell_type": "code",
   "execution_count": 60,
   "metadata": {},
   "outputs": [],
   "source": [
    "from sklearn.model_selection import GridSearchCV\n",
    "\n",
    "\n",
    "param_grid = {\"kneighborsregressor__n_neighbors\": [2, 5, 50, 100]}\n",
    "\n",
    "grid_search = GridSearchCV(\n",
    "    pipe_regression,\n",
    "    param_grid,\n",
    "    cv=5, \n",
    "    return_train_score=True,\n",
    "    n_jobs=-1, \n",
    "    scoring='neg_mean_absolute_percentage_error'\n",
    ");\n",
    "grid_search.fit(X_train, y_train);"
   ]
  },
  {
   "cell_type": "code",
   "execution_count": 61,
   "metadata": {},
   "outputs": [
    {
     "data": {
      "text/plain": [
       "{'kneighborsregressor__n_neighbors': 5}"
      ]
     },
     "execution_count": 61,
     "metadata": {},
     "output_type": "execute_result"
    }
   ],
   "source": [
    "grid_search.best_params_"
   ]
  },
  {
   "cell_type": "code",
   "execution_count": 62,
   "metadata": {},
   "outputs": [
    {
     "data": {
      "text/plain": [
       "-0.2235027119616972"
      ]
     },
     "execution_count": 62,
     "metadata": {},
     "output_type": "execute_result"
    }
   ],
   "source": [
    "grid_search.best_score_"
   ]
  },
  {
   "cell_type": "markdown",
   "metadata": {},
   "source": [
    "If we used another scoring metric,\n",
    "we might end up with another results for the best hyperparameter."
   ]
  },
  {
   "cell_type": "code",
   "execution_count": 63,
   "metadata": {},
   "outputs": [],
   "source": [
    "# 'max_error' is a metric we haven't talked about and it is not that useful,\n",
    "# I just use it here to show that the choice of metric can influence the returned best hyperparameters.\n",
    "\n",
    "grid_search = GridSearchCV(\n",
    "    pipe_regression,\n",
    "    param_grid,\n",
    "    cv=5, \n",
    "    return_train_score=True,\n",
    "    n_jobs=-1, \n",
    "    scoring='max_error'\n",
    ");\n",
    "grid_search.fit(X_train, y_train);"
   ]
  },
  {
   "cell_type": "code",
   "execution_count": 64,
   "metadata": {},
   "outputs": [
    {
     "data": {
      "text/plain": [
       "{'kneighborsregressor__n_neighbors': 100}"
      ]
     },
     "execution_count": 64,
     "metadata": {},
     "output_type": "execute_result"
    }
   ],
   "source": [
    "grid_search.best_params_"
   ]
  },
  {
   "cell_type": "code",
   "execution_count": 65,
   "metadata": {},
   "outputs": [
    {
     "data": {
      "text/plain": [
       "-373468.55"
      ]
     },
     "execution_count": 65,
     "metadata": {},
     "output_type": "execute_result"
    }
   ],
   "source": [
    "grid_search.best_score_"
   ]
  },
  {
   "cell_type": "markdown",
   "metadata": {},
   "source": [
    "### ... and with Classification? \n",
    "\n",
    "Let's bring back our credit card data set and build our pipeline."
   ]
  },
  {
   "cell_type": "code",
   "execution_count": 66,
   "metadata": {},
   "outputs": [],
   "source": [
    "train_df, test_df = train_test_split(cc_df, test_size=0.3, random_state=111)\n",
    "\n",
    "X_train, y_train = train_df.drop(columns=[\"Class\"]), train_df[\"Class\"]\n",
    "X_test, y_test = test_df.drop(columns=[\"Class\"]), test_df[\"Class\"]"
   ]
  },
  {
   "cell_type": "markdown",
   "metadata": {},
   "source": [
    "We can use `class_weight='balanced'` in our classifier..."
   ]
  },
  {
   "cell_type": "code",
   "execution_count": 67,
   "metadata": {},
   "outputs": [],
   "source": [
    "from sklearn.tree import DecisionTreeClassifier\n",
    "\n",
    "\n",
    "dt_model = DecisionTreeClassifier(random_state=123, class_weight='balanced')"
   ]
  },
  {
   "cell_type": "code",
   "execution_count": 68,
   "metadata": {},
   "outputs": [],
   "source": [
    "import scipy\n",
    "\n",
    "param_grid = {\"max_depth\": scipy.stats.randint(low=1, high=100)}"
   ]
  },
  {
   "cell_type": "markdown",
   "metadata": {},
   "source": [
    "... and tune our model for the thing we care about. \n",
    "\n",
    "In this case, we are specifying the `f1` score."
   ]
  },
  {
   "cell_type": "code",
   "execution_count": 69,
   "metadata": {},
   "outputs": [
    {
     "name": "stdout",
     "output_type": "stream",
     "text": [
      "Fitting 3 folds for each of 6 candidates, totalling 18 fits\n"
     ]
    },
    {
     "name": "stdout",
     "output_type": "stream",
     "text": [
      "[CV] END .......................................max_depth=65; total time=   2.3s\n",
      "[CV] END .......................................max_depth=12; total time=   2.4s\n",
      "[CV] END .......................................max_depth=69; total time=   2.5s\n",
      "[CV] END .......................................max_depth=69; total time=   2.6s\n",
      "[CV] END .......................................max_depth=12; total time=   2.6s\n",
      "[CV] END .......................................max_depth=12; total time=   2.7s\n",
      "[CV] END .......................................max_depth=65; total time=   2.6s\n",
      "[CV] END .......................................max_depth=69; total time=   3.1s\n",
      "[CV] END ........................................max_depth=4; total time=   2.0s\n",
      "[CV] END ........................................max_depth=4; total time=   1.9s\n",
      "[CV] END ........................................max_depth=4; total time=   2.0s\n",
      "[CV] END .......................................max_depth=43; total time=   2.8s\n",
      "[CV] END .......................................max_depth=65; total time=   2.9s\n",
      "[CV] END .......................................max_depth=43; total time=   3.0s\n",
      "[CV] END .......................................max_depth=43; total time=   3.0s\n",
      "[CV] END .......................................max_depth=62; total time=   2.7s\n",
      "[CV] END .......................................max_depth=62; total time=   2.1s\n",
      "[CV] END .......................................max_depth=62; total time=   2.1s\n"
     ]
    }
   ],
   "source": [
    "from sklearn.model_selection import RandomizedSearchCV\n",
    "grid_search = RandomizedSearchCV(\n",
    "    dt_model,\n",
    "    param_grid,\n",
    "    cv=3,\n",
    "    return_train_score=True,\n",
    "    verbose=2,\n",
    "    n_jobs=-1,\n",
    "    n_iter = 6,\n",
    "    scoring='f1',\n",
    "    random_state=2080\n",
    ")\n",
    "grid_search.fit(X_train, y_train);"
   ]
  },
  {
   "cell_type": "code",
   "execution_count": 70,
   "metadata": {},
   "outputs": [
    {
     "data": {
      "text/plain": [
       "{'max_depth': 69}"
      ]
     },
     "execution_count": 70,
     "metadata": {},
     "output_type": "execute_result"
    }
   ],
   "source": [
    "grid_search.best_params_"
   ]
  },
  {
   "cell_type": "markdown",
   "metadata": {},
   "source": [
    "This returns the `max_depth` value that results in the highest `f1` score, not the `max_depth` with the highest accuracy."
   ]
  },
  {
   "cell_type": "code",
   "execution_count": 71,
   "metadata": {},
   "outputs": [
    {
     "data": {
      "text/plain": [
       "0.7877624963028689"
      ]
     },
     "execution_count": 71,
     "metadata": {},
     "output_type": "execute_result"
    }
   ],
   "source": [
    "# Validation performance\n",
    "grid_search.best_score_"
   ]
  },
  {
   "cell_type": "code",
   "execution_count": 72,
   "metadata": {},
   "outputs": [
    {
     "data": {
      "text/plain": [
       "0.7698113207547169"
      ]
     },
     "execution_count": 72,
     "metadata": {},
     "output_type": "execute_result"
    }
   ],
   "source": [
    "# Test performance\n",
    "grid_search.score(X_test, y_test)"
   ]
  },
  {
   "cell_type": "markdown",
   "metadata": {},
   "source": [
    "Let's look at our recall score to compare to the next section."
   ]
  },
  {
   "cell_type": "code",
   "execution_count": 73,
   "metadata": {},
   "outputs": [
    {
     "data": {
      "text/plain": [
       "0.7338129496402878"
      ]
     },
     "execution_count": 73,
     "metadata": {},
     "output_type": "execute_result"
    }
   ],
   "source": [
    "recall_score(y_test, grid_search.predict(X_test))"
   ]
  },
  {
   "cell_type": "code",
   "execution_count": 74,
   "metadata": {},
   "outputs": [
    {
     "data": {
      "image/png": "[encoded data removed]",
      "text/plain": [
       "<Figure size 640x480 with 2 Axes>"
      ]
     },
     "metadata": {},
     "output_type": "display_data"
    }
   ],
   "source": [
    "ConfusionMatrixDisplay.from_estimator(grid_search, X_test, y_test);"
   ]
  },
  {
   "cell_type": "markdown",
   "metadata": {},
   "source": [
    "If we now tune hyperparameters based on their recall score instead of precision,\n",
    "you will se that we select a different value for `max_depth`\n",
    "and that our recall score is higher with this value."
   ]
  },
  {
   "cell_type": "code",
   "execution_count": 75,
   "metadata": {},
   "outputs": [
    {
     "name": "stdout",
     "output_type": "stream",
     "text": [
      "Fitting 3 folds for each of 6 candidates, totalling 18 fits\n"
     ]
    },
    {
     "name": "stdout",
     "output_type": "stream",
     "text": [
      "[CV] END .......................................max_depth=69; total time=   2.3s\n",
      "[CV] END .......................................max_depth=12; total time=   2.4s\n",
      "[CV] END .......................................max_depth=65; total time=   2.5s\n",
      "[CV] END .......................................max_depth=12; total time=   2.5s\n",
      "[CV] END .......................................max_depth=69; total time=   2.7s\n",
      "[CV] END .......................................max_depth=69; total time=   2.7s\n",
      "[CV] END .......................................max_depth=12; total time=   2.7s\n",
      "[CV] END .......................................max_depth=65; total time=   2.7s\n",
      "[CV] END ........................................max_depth=4; total time=   1.6s\n",
      "[CV] END ........................................max_depth=4; total time=   1.6s\n",
      "[CV] END ........................................max_depth=4; total time=   1.8s\n",
      "[CV] END .......................................max_depth=65; total time=   2.5s\n",
      "[CV] END .......................................max_depth=43; total time=   2.5s\n",
      "[CV] END .......................................max_depth=62; total time=   2.1s\n",
      "[CV] END .......................................max_depth=43; total time=   2.5s\n",
      "[CV] END .......................................max_depth=43; total time=   2.5s\n",
      "[CV] END .......................................max_depth=62; total time=   2.0s\n",
      "[CV] END .......................................max_depth=62; total time=   1.8s\n"
     ]
    }
   ],
   "source": [
    "grid_search = RandomizedSearchCV(\n",
    "    dt_model,\n",
    "    param_grid,\n",
    "    cv=3,\n",
    "    return_train_score=True,\n",
    "    verbose=2,\n",
    "    n_jobs=-1,\n",
    "    n_iter = 6,\n",
    "    scoring='recall',\n",
    "    random_state=2080\n",
    ")\n",
    "grid_search.fit(X_train, y_train);"
   ]
  },
  {
   "cell_type": "code",
   "execution_count": 76,
   "metadata": {},
   "outputs": [
    {
     "data": {
      "text/plain": [
       "{'max_depth': 4}"
      ]
     },
     "execution_count": 76,
     "metadata": {},
     "output_type": "execute_result"
    }
   ],
   "source": [
    "grid_search.best_params_"
   ]
  },
  {
   "cell_type": "markdown",
   "metadata": {},
   "source": [
    "This returns the `max_depth` value that results in the highest `f1` score, not the `max_depth` with the highest accuracy."
   ]
  },
  {
   "cell_type": "code",
   "execution_count": 77,
   "metadata": {},
   "outputs": [
    {
     "data": {
      "text/plain": [
       "0.8839152059491043"
      ]
     },
     "execution_count": 77,
     "metadata": {},
     "output_type": "execute_result"
    }
   ],
   "source": [
    "# Validation performance\n",
    "grid_search.best_score_"
   ]
  },
  {
   "cell_type": "code",
   "execution_count": 78,
   "metadata": {},
   "outputs": [
    {
     "data": {
      "text/plain": [
       "0.841726618705036"
      ]
     },
     "execution_count": 78,
     "metadata": {},
     "output_type": "execute_result"
    }
   ],
   "source": [
    "# Test performance\n",
    "grid_search.score(X_test, y_test)"
   ]
  },
  {
   "cell_type": "markdown",
   "metadata": {},
   "source": [
    "As you can see above,\n",
    "our recall score is now higher\n",
    "(remember that the default scoring method changes to the metric used during hyperparameter optimization)\n",
    "If we look at our f1 score we can see that it is worse than before,\n",
    "as expected.\n",
    "When we are optimizing on recall alone,\n",
    "we are only trying to catch as many of the true positives as possible\n",
    "and don't care about that we are incorrectly classifying many negatives as positives\n",
    "which will lead to a lower precision and f1 score."
   ]
  },
  {
   "cell_type": "code",
   "execution_count": 79,
   "metadata": {},
   "outputs": [
    {
     "data": {
      "text/plain": [
       "0.1984732824427481"
      ]
     },
     "execution_count": 79,
     "metadata": {},
     "output_type": "execute_result"
    }
   ],
   "source": [
    "f1_score(y_test, grid_search.predict(X_test))"
   ]
  },
  {
   "cell_type": "markdown",
   "metadata": {},
   "source": [
    "In the confusion matrix,\n",
    "we have many more values in the top right quadrant\n",
    "because there is no penalty for incorrectly classifying observations here when just using recall."
   ]
  },
  {
   "cell_type": "code",
   "execution_count": 80,
   "metadata": {},
   "outputs": [
    {
     "data": {
      "image/png": "[encoded data removed]",
      "text/plain": [
       "<Figure size 640x480 with 2 Axes>"
      ]
     },
     "metadata": {},
     "output_type": "display_data"
    }
   ],
   "source": [
    "ConfusionMatrixDisplay.from_estimator( grid_search, X_test, y_test);"
   ]
  },
  {
   "cell_type": "markdown",
   "metadata": {},
   "source": [
    "## Let's Practice\n",
    "\n",
    "**True or False:**     \n",
    "1. We are limited to the scoring measures offered from sklearn.    \n",
    "2. If we specify the scoring method in `GridSearchCV` and `RandomizedSearchCV`, `best_param_`  will return the parameters with the best specified measure.*    "
   ]
  },
  {
   "cell_type": "markdown",
   "metadata": {},
   "source": [
    "```{admonition} Solutions!\n",
    ":class: dropdown\n",
    "\n",
    "2. False, we could also specify our own scorer function https://scikit-learn.org/stable/modules/model_evaluation.html#scoring\n",
    "3. True\n",
    "\n",
    "```"
   ]
  },
  {
   "cell_type": "markdown",
   "metadata": {},
   "source": [
    "## Let's Practice - Coding\n",
    "\n",
    "Let’s bring back the Pokémon dataset that we saw previously. \n",
    "\n",
    "This time let's try to predict whether a Pokémon has a legendary status or not based on their other attributes."
   ]
  },
  {
   "cell_type": "code",
   "execution_count": 81,
   "metadata": {},
   "outputs": [
    {
     "name": "stdout",
     "output_type": "stream",
     "text": [
      "legendary\n",
      "0    359\n",
      "1     33\n",
      "Name: count, dtype: int64\n"
     ]
    },
    {
     "data": {
      "text/html": [
       "<div>\n",
       "<style scoped>\n",
       "    .dataframe tbody tr th:only-of-type {\n",
       "        vertical-align: middle;\n",
       "    }\n",
       "\n",
       "    .dataframe tbody tr th {\n",
       "        vertical-align: top;\n",
       "    }\n",
       "\n",
       "    .dataframe thead th {\n",
       "        text-align: right;\n",
       "    }\n",
       "</style>\n",
       "<table border=\"1\" class=\"dataframe\">\n",
       "  <thead>\n",
       "    <tr style=\"text-align: right;\">\n",
       "      <th></th>\n",
       "      <th>name</th>\n",
       "      <th>deck_no</th>\n",
       "      <th>attack</th>\n",
       "      <th>defense</th>\n",
       "      <th>sp_attack</th>\n",
       "      <th>sp_defense</th>\n",
       "      <th>speed</th>\n",
       "      <th>capture_rt</th>\n",
       "      <th>total_bs</th>\n",
       "      <th>type</th>\n",
       "      <th>gen</th>\n",
       "    </tr>\n",
       "  </thead>\n",
       "  <tbody>\n",
       "    <tr>\n",
       "      <th>124</th>\n",
       "      <td>Electabuzz</td>\n",
       "      <td>125</td>\n",
       "      <td>83</td>\n",
       "      <td>57</td>\n",
       "      <td>95</td>\n",
       "      <td>85</td>\n",
       "      <td>105</td>\n",
       "      <td>45</td>\n",
       "      <td>490</td>\n",
       "      <td>electric</td>\n",
       "      <td>1</td>\n",
       "    </tr>\n",
       "    <tr>\n",
       "      <th>11</th>\n",
       "      <td>Butterfree</td>\n",
       "      <td>12</td>\n",
       "      <td>45</td>\n",
       "      <td>50</td>\n",
       "      <td>90</td>\n",
       "      <td>80</td>\n",
       "      <td>70</td>\n",
       "      <td>45</td>\n",
       "      <td>395</td>\n",
       "      <td>bug</td>\n",
       "      <td>1</td>\n",
       "    </tr>\n",
       "    <tr>\n",
       "      <th>77</th>\n",
       "      <td>Rapidash</td>\n",
       "      <td>78</td>\n",
       "      <td>100</td>\n",
       "      <td>70</td>\n",
       "      <td>80</td>\n",
       "      <td>80</td>\n",
       "      <td>105</td>\n",
       "      <td>60</td>\n",
       "      <td>500</td>\n",
       "      <td>fire</td>\n",
       "      <td>1</td>\n",
       "    </tr>\n",
       "    <tr>\n",
       "      <th>405</th>\n",
       "      <td>Budew</td>\n",
       "      <td>406</td>\n",
       "      <td>30</td>\n",
       "      <td>35</td>\n",
       "      <td>50</td>\n",
       "      <td>70</td>\n",
       "      <td>55</td>\n",
       "      <td>255</td>\n",
       "      <td>280</td>\n",
       "      <td>grass</td>\n",
       "      <td>4</td>\n",
       "    </tr>\n",
       "    <tr>\n",
       "      <th>799</th>\n",
       "      <td>Necrozma</td>\n",
       "      <td>800</td>\n",
       "      <td>107</td>\n",
       "      <td>101</td>\n",
       "      <td>127</td>\n",
       "      <td>89</td>\n",
       "      <td>79</td>\n",
       "      <td>3</td>\n",
       "      <td>600</td>\n",
       "      <td>psychic</td>\n",
       "      <td>7</td>\n",
       "    </tr>\n",
       "    <tr>\n",
       "      <th>...</th>\n",
       "      <td>...</td>\n",
       "      <td>...</td>\n",
       "      <td>...</td>\n",
       "      <td>...</td>\n",
       "      <td>...</td>\n",
       "      <td>...</td>\n",
       "      <td>...</td>\n",
       "      <td>...</td>\n",
       "      <td>...</td>\n",
       "      <td>...</td>\n",
       "      <td>...</td>\n",
       "    </tr>\n",
       "    <tr>\n",
       "      <th>33</th>\n",
       "      <td>Nidoking</td>\n",
       "      <td>34</td>\n",
       "      <td>102</td>\n",
       "      <td>77</td>\n",
       "      <td>85</td>\n",
       "      <td>75</td>\n",
       "      <td>85</td>\n",
       "      <td>45</td>\n",
       "      <td>505</td>\n",
       "      <td>poison</td>\n",
       "      <td>1</td>\n",
       "    </tr>\n",
       "    <tr>\n",
       "      <th>458</th>\n",
       "      <td>Snover</td>\n",
       "      <td>459</td>\n",
       "      <td>62</td>\n",
       "      <td>50</td>\n",
       "      <td>62</td>\n",
       "      <td>60</td>\n",
       "      <td>40</td>\n",
       "      <td>120</td>\n",
       "      <td>334</td>\n",
       "      <td>grass</td>\n",
       "      <td>4</td>\n",
       "    </tr>\n",
       "    <tr>\n",
       "      <th>234</th>\n",
       "      <td>Smeargle</td>\n",
       "      <td>235</td>\n",
       "      <td>20</td>\n",
       "      <td>35</td>\n",
       "      <td>20</td>\n",
       "      <td>45</td>\n",
       "      <td>75</td>\n",
       "      <td>45</td>\n",
       "      <td>250</td>\n",
       "      <td>normal</td>\n",
       "      <td>2</td>\n",
       "    </tr>\n",
       "    <tr>\n",
       "      <th>287</th>\n",
       "      <td>Vigoroth</td>\n",
       "      <td>288</td>\n",
       "      <td>80</td>\n",
       "      <td>80</td>\n",
       "      <td>55</td>\n",
       "      <td>55</td>\n",
       "      <td>90</td>\n",
       "      <td>120</td>\n",
       "      <td>440</td>\n",
       "      <td>normal</td>\n",
       "      <td>3</td>\n",
       "    </tr>\n",
       "    <tr>\n",
       "      <th>561</th>\n",
       "      <td>Yamask</td>\n",
       "      <td>562</td>\n",
       "      <td>30</td>\n",
       "      <td>85</td>\n",
       "      <td>55</td>\n",
       "      <td>65</td>\n",
       "      <td>30</td>\n",
       "      <td>190</td>\n",
       "      <td>303</td>\n",
       "      <td>ghost</td>\n",
       "      <td>5</td>\n",
       "    </tr>\n",
       "  </tbody>\n",
       "</table>\n",
       "<p>392 rows × 11 columns</p>\n",
       "</div>"
      ],
      "text/plain": [
       "           name  deck_no  attack  defense  sp_attack  sp_defense  speed  \\\n",
       "124  Electabuzz      125      83       57         95          85    105   \n",
       "11   Butterfree       12      45       50         90          80     70   \n",
       "77     Rapidash       78     100       70         80          80    105   \n",
       "405       Budew      406      30       35         50          70     55   \n",
       "799    Necrozma      800     107      101        127          89     79   \n",
       "..          ...      ...     ...      ...        ...         ...    ...   \n",
       "33     Nidoking       34     102       77         85          75     85   \n",
       "458      Snover      459      62       50         62          60     40   \n",
       "234    Smeargle      235      20       35         20          45     75   \n",
       "287    Vigoroth      288      80       80         55          55     90   \n",
       "561      Yamask      562      30       85         55          65     30   \n",
       "\n",
       "     capture_rt  total_bs      type  gen  \n",
       "124          45       490  electric    1  \n",
       "11           45       395       bug    1  \n",
       "77           60       500      fire    1  \n",
       "405         255       280     grass    4  \n",
       "799           3       600   psychic    7  \n",
       "..          ...       ...       ...  ...  \n",
       "33           45       505    poison    1  \n",
       "458         120       334     grass    4  \n",
       "234          45       250    normal    2  \n",
       "287         120       440    normal    3  \n",
       "561         190       303     ghost    5  \n",
       "\n",
       "[392 rows x 11 columns]"
      ]
     },
     "execution_count": 81,
     "metadata": {},
     "output_type": "execute_result"
    }
   ],
   "source": [
    "pk_df = pd.read_csv('data/pokemon.csv')\n",
    "\n",
    "train_df, test_df = train_test_split(pk_df, test_size=0.3, random_state=1)\n",
    "\n",
    "X_train_big = train_df.drop(columns=['legendary'])\n",
    "y_train_big = train_df['legendary']\n",
    "X_test = test_df.drop(columns=['legendary'])\n",
    "y_test = test_df['legendary']\n",
    "\n",
    "X_train, X_valid, y_train, y_valid = train_test_split(\n",
    "    X_train_big, \n",
    "    y_train_big, \n",
    "    test_size=0.3, \n",
    "    random_state=123\n",
    ")\n",
    "\n",
    "print(y_train.value_counts())\n",
    "X_train"
   ]
  },
  {
   "cell_type": "markdown",
   "metadata": {},
   "source": [
    "Let's do cross-validation and look at the scores from cross-validation of not just accuracy, but precision and recall and the f1 score as well.\n",
    "\n",
    "\n",
    "1. Build a pipeline containing the column transformer and an SVC model and set `class_weight=\"balanced\"` in the SVM classifier. \n",
    "2. Perform cross-validation using cross-validate on the training split using the scoring measures accuracy, precision, recall and f1. Save the results in a dataframe."
   ]
  },
  {
   "cell_type": "markdown",
   "metadata": {},
   "source": [
    "**Solutions**\n",
    "\n",
    "1\\."
   ]
  },
  {
   "cell_type": "code",
   "execution_count": 82,
   "metadata": {
    "tags": [
     "hide-cell"
    ]
   },
   "outputs": [],
   "source": [
    "from sklearn.svm import SVC\n",
    "\n",
    "\n",
    "num_pipe = make_pipeline(\n",
    "    SimpleImputer(),\n",
    "    StandardScaler()\n",
    ")\n",
    "\n",
    "cat_pipe = make_pipeline(\n",
    "    SimpleImputer(strategy='constant'),\n",
    "    OneHotEncoder(handle_unknown='ignore')\n",
    ")\n",
    "\n",
    "num_cols = X_train.select_dtypes('number').columns\n",
    "\n",
    "num_cols = [\n",
    " 'capture_rt',\n",
    " 'total_bs',\n",
    " 'gen']\n",
    "cat_cols = ['type']\n",
    "\n",
    "preprocessing = make_column_transformer(\n",
    "    (num_pipe, num_cols),\n",
    "    (cat_pipe, cat_cols)\n",
    ")\n",
    "\n",
    "main_pipe = make_pipeline(\n",
    "    preprocessing,\n",
    "    SVC(class_weight='balanced')\n",
    ")"
   ]
  },
  {
   "cell_type": "markdown",
   "metadata": {},
   "source": [
    "2\\."
   ]
  },
  {
   "cell_type": "code",
   "execution_count": 83,
   "metadata": {
    "tags": [
     "hide-cell"
    ]
   },
   "outputs": [
    {
     "data": {
      "text/html": [
       "<div>\n",
       "<style scoped>\n",
       "    .dataframe tbody tr th:only-of-type {\n",
       "        vertical-align: middle;\n",
       "    }\n",
       "\n",
       "    .dataframe tbody tr th {\n",
       "        vertical-align: top;\n",
       "    }\n",
       "\n",
       "    .dataframe thead th {\n",
       "        text-align: right;\n",
       "    }\n",
       "</style>\n",
       "<table border=\"1\" class=\"dataframe\">\n",
       "  <thead>\n",
       "    <tr style=\"text-align: right;\">\n",
       "      <th></th>\n",
       "      <th>fit_time</th>\n",
       "      <th>score_time</th>\n",
       "      <th>test_accuracy</th>\n",
       "      <th>test_precision</th>\n",
       "      <th>test_recall</th>\n",
       "      <th>test_f1</th>\n",
       "    </tr>\n",
       "  </thead>\n",
       "  <tbody>\n",
       "    <tr>\n",
       "      <th>0</th>\n",
       "      <td>0.015617</td>\n",
       "      <td>0.007359</td>\n",
       "      <td>0.941176</td>\n",
       "      <td>0.666667</td>\n",
       "      <td>0.666667</td>\n",
       "      <td>0.666667</td>\n",
       "    </tr>\n",
       "    <tr>\n",
       "      <th>1</th>\n",
       "      <td>0.006605</td>\n",
       "      <td>0.008269</td>\n",
       "      <td>0.941176</td>\n",
       "      <td>0.666667</td>\n",
       "      <td>0.666667</td>\n",
       "      <td>0.666667</td>\n",
       "    </tr>\n",
       "    <tr>\n",
       "      <th>2</th>\n",
       "      <td>0.006800</td>\n",
       "      <td>0.006950</td>\n",
       "      <td>0.911765</td>\n",
       "      <td>0.500000</td>\n",
       "      <td>0.666667</td>\n",
       "      <td>0.571429</td>\n",
       "    </tr>\n",
       "    <tr>\n",
       "      <th>3</th>\n",
       "      <td>0.007100</td>\n",
       "      <td>0.008601</td>\n",
       "      <td>0.939394</td>\n",
       "      <td>0.500000</td>\n",
       "      <td>0.500000</td>\n",
       "      <td>0.500000</td>\n",
       "    </tr>\n",
       "    <tr>\n",
       "      <th>4</th>\n",
       "      <td>0.007335</td>\n",
       "      <td>0.006308</td>\n",
       "      <td>0.909091</td>\n",
       "      <td>0.500000</td>\n",
       "      <td>0.333333</td>\n",
       "      <td>0.400000</td>\n",
       "    </tr>\n",
       "  </tbody>\n",
       "</table>\n",
       "</div>"
      ],
      "text/plain": [
       "   fit_time  score_time  test_accuracy  test_precision  test_recall   test_f1\n",
       "0  0.015617    0.007359       0.941176        0.666667     0.666667  0.666667\n",
       "1  0.006605    0.008269       0.941176        0.666667     0.666667  0.666667\n",
       "2  0.006800    0.006950       0.911765        0.500000     0.666667  0.571429\n",
       "3  0.007100    0.008601       0.939394        0.500000     0.500000  0.500000\n",
       "4  0.007335    0.006308       0.909091        0.500000     0.333333  0.400000"
      ]
     },
     "execution_count": 83,
     "metadata": {},
     "output_type": "execute_result"
    }
   ],
   "source": [
    "pd.DataFrame(\n",
    "    cross_validate(\n",
    "        main_pipe,\n",
    "        X_valid,\n",
    "        y_valid,\n",
    "        scoring=['accuracy', 'precision', 'recall', 'f1']\n",
    "    )\n",
    ")"
   ]
  },
  {
   "cell_type": "markdown",
   "metadata": {},
   "source": [
    "## What We've Learned Today\n",
    "\n",
    "- The components of a confusion matrix.\n",
    "- How to calculate precision, recall, and f1-score.\n",
    "- How to implement the `class_weight` argument.\n",
    "- Some of the different scoring metrics used in assessing regression problems; MSE, RMSE, $R^2$, MAPE.\n",
    "- How to apply different scoring functions with `cross_validate`, `GridSearchCV` and `RandomizedSearchCV`."
   ]
  }
 ],
 "metadata": {
  "kernelspec": {
   "display_name": "571",
   "language": "python",
   "name": "python3"
  },
  "language_info": {
   "codemirror_mode": {
    "name": "ipython",
    "version": 3
   },
   "file_extension": ".py",
   "mimetype": "text/x-python",
   "name": "python",
   "nbconvert_exporter": "python",
   "pygments_lexer": "ipython3",
   "version": "3.10.0"
  },
  "toc": {
   "base_numbering": 1,
   "nav_menu": {},
   "number_sections": true,
   "sideBar": true,
   "skip_h1_title": false,
   "title_cell": "Table of Contents",
   "title_sidebar": "Contents",
   "toc_cell": false,
   "toc_position": {
    "height": "calc(100% - 180px)",
    "left": "10px",
    "top": "150px",
    "width": "274.188px"
   },
   "toc_section_display": true,
   "toc_window_display": true
  }
 },
 "nbformat": 4,
 "nbformat_minor": 4
}
