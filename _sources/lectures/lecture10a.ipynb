{
 "cells": [
  {
   "cell_type": "markdown",
   "id": "1077a13c-60ef-44a5-bf07-195cccfe7f13",
   "metadata": {},
   "source": [
    "# Data Science Ethics"
   ]
  },
  {
   "cell_type": "markdown",
   "id": "00588979-f1d7-49c4-b05c-e6a572437fda",
   "metadata": {},
   "source": [
    "<!-- This pdf file is copied into `_build/html/lectures/` before running `ghp-import` in the Makefile. -->\n",
    "\n",
    "<iframe src=\"lecture10-ethics.pdf#zoom=100&navpanes=0&statusbar=0&messages=0&pagemode=none\" width=\"135%\" height=\"600px\" style=\"position: relative;z-index: 9999999;\">\n",
    "</iframe>"
   ]
  }
 ],
 "metadata": {
  "kernelspec": {
   "display_name": "Python [conda env:bait]",
   "language": "python",
   "name": "conda-env-bait-py"
  },
  "language_info": {
   "codemirror_mode": {
    "name": "ipython",
    "version": 3
   },
   "file_extension": ".py",
   "mimetype": "text/x-python",
   "name": "python",
   "nbconvert_exporter": "python",
   "pygments_lexer": "ipython3",
   "version": "3.9.9"
  }
 },
 "nbformat": 4,
 "nbformat_minor": 5
}
