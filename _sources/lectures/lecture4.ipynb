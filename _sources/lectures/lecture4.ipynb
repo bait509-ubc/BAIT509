{
 "cells": [
  {
   "cell_type": "markdown",
   "metadata": {},
   "source": [
    "# kNN regression, Support Vector Machines, and Feature Preprocessing"
   ]
  },
  {
   "cell_type": "code",
   "execution_count": 1,
   "metadata": {},
   "outputs": [],
   "source": [
    "# Importing common libraries that we have been using previously\n",
    "import altair as alt\n",
    "import matplotlib.pyplot as plt\n",
    "import numpy as np\n",
    "import pandas as pd\n",
    "from plot_classifier import plot_classifier\n",
    "from sklearn.tree import DecisionTreeClassifier\n",
    "from sklearn.dummy import DummyClassifier, DummyRegressor\n",
    "from sklearn.neighbors import KNeighborsClassifier, KNeighborsRegressor\n",
    "from sklearn.model_selection import cross_validate, train_test_split\n",
    "from sklearn.metrics.pairwise import euclidean_distances"
   ]
  },
  {
   "cell_type": "markdown",
   "metadata": {},
   "source": [
    "## Lecture Learning Objectives \n",
    "\n",
    "- Explain kNN for regression.\n",
    "- Explain the concept of SVMs\n",
    "- Use SVMs with the RBF kernel.\n",
    "- Identify when to implement feature transformations such as imputation and scaling.\n",
    "- Describe the difference between normalizing and standardizing and be able to use scikit-learn's `MinMaxScaler()` and `StandardScaler()` to pre-process numeric features.\n",
    "- Apply `sklearn.pipeline.Pipeline` to build a machine learning pipeline.\n",
    "- Use `sklearn` for applying numerical feature transformations to the data.\n",
    "- Discuss the golden rule in the context of feature transformations."
   ]
  },
  {
   "cell_type": "markdown",
   "metadata": {},
   "source": [
    "## Five Minute Recap/ Lightning Questions \n",
    "\n",
    "- When using a Dummy Regressor what value does the model predict for unseen data? \n",
    "- When using a Dummy Classifier (the one we examined in lecture) what class does the model predict for unseen data? \n",
    "- What is the name of the distance metric used in the $k$-nn model we looked at?\n",
    "- If a dataset has 14 features and 1 target column, how many dimensions will the feature vector be?\n",
    "- What is the hyperparameter name of the $k$-nn classifier we looked at last lecture?"
   ]
  },
  {
   "cell_type": "markdown",
   "metadata": {},
   "source": [
    "### Some lingering questions\n",
    "\n",
    "- How does a $k$-nn Regressor work?\n",
    "- Are we ready to do machine learning on real-world datasets?\n",
    "- We've looked at data with numeric features but what do we do if we have features with categories or string values?\n",
    "- What happens if we are missing data in our features?\n",
    "- Is there a cleaner way to do all the steps we need to do? "
   ]
  },
  {
   "cell_type": "markdown",
   "metadata": {},
   "source": [
    "## Regression with $k$-NN \n",
    "\n",
    "In $k$-nearest neighbour regression, we take the average of $k$-nearest neighbours instead of the majority vote.\n",
    "\n",
    "Let's look at an example. \n",
    "\n",
    "Here we are creating some synthetic data with fifty examples and only one feature. \n",
    "\n",
    "We only have one feature of `length` and our goal is to predict `weight`. \n",
    "\n",
    "Regression plots more naturally in 1D, classification in 2D, but of course we can do either for any $d$\n",
    "\n",
    "Right now, do not worry about the code and only focus on data and our model. "
   ]
  },
  {
   "cell_type": "code",
   "execution_count": 2,
   "metadata": {},
   "outputs": [
    {
     "data": {
      "text/html": [
       "<div>\n",
       "<style scoped>\n",
       "    .dataframe tbody tr th:only-of-type {\n",
       "        vertical-align: middle;\n",
       "    }\n",
       "\n",
       "    .dataframe tbody tr th {\n",
       "        vertical-align: top;\n",
       "    }\n",
       "\n",
       "    .dataframe thead th {\n",
       "        text-align: right;\n",
       "    }\n",
       "</style>\n",
       "<table border=\"1\" class=\"dataframe\">\n",
       "  <thead>\n",
       "    <tr style=\"text-align: right;\">\n",
       "      <th></th>\n",
       "      <th>length</th>\n",
       "    </tr>\n",
       "  </thead>\n",
       "  <tbody>\n",
       "    <tr>\n",
       "      <th>0</th>\n",
       "      <td>0.017641</td>\n",
       "    </tr>\n",
       "    <tr>\n",
       "      <th>1</th>\n",
       "      <td>0.044818</td>\n",
       "    </tr>\n",
       "    <tr>\n",
       "      <th>2</th>\n",
       "      <td>0.091420</td>\n",
       "    </tr>\n",
       "    <tr>\n",
       "      <th>3</th>\n",
       "      <td>0.144858</td>\n",
       "    </tr>\n",
       "    <tr>\n",
       "      <th>4</th>\n",
       "      <td>0.181941</td>\n",
       "    </tr>\n",
       "  </tbody>\n",
       "</table>\n",
       "</div>"
      ],
      "text/plain": [
       "     length\n",
       "0  0.017641\n",
       "1  0.044818\n",
       "2  0.091420\n",
       "3  0.144858\n",
       "4  0.181941"
      ]
     },
     "execution_count": 2,
     "metadata": {},
     "output_type": "execute_result"
    }
   ],
   "source": [
    "np.random.seed(0)\n",
    "n = 50\n",
    "X_1 = np.linspace(0,2,n)+np.random.randn(n)*0.01\n",
    "X = pd.DataFrame(X_1[:,None], columns=['length'])\n",
    "X.head()"
   ]
  },
  {
   "cell_type": "code",
   "execution_count": 3,
   "metadata": {},
   "outputs": [
    {
     "data": {
      "text/html": [
       "<div>\n",
       "<style scoped>\n",
       "    .dataframe tbody tr th:only-of-type {\n",
       "        vertical-align: middle;\n",
       "    }\n",
       "\n",
       "    .dataframe tbody tr th {\n",
       "        vertical-align: top;\n",
       "    }\n",
       "\n",
       "    .dataframe thead th {\n",
       "        text-align: right;\n",
       "    }\n",
       "</style>\n",
       "<table border=\"1\" class=\"dataframe\">\n",
       "  <thead>\n",
       "    <tr style=\"text-align: right;\">\n",
       "      <th></th>\n",
       "      <th>weight</th>\n",
       "    </tr>\n",
       "  </thead>\n",
       "  <tbody>\n",
       "    <tr>\n",
       "      <th>0</th>\n",
       "      <td>1.879136</td>\n",
       "    </tr>\n",
       "    <tr>\n",
       "      <th>1</th>\n",
       "      <td>0.997894</td>\n",
       "    </tr>\n",
       "    <tr>\n",
       "      <th>2</th>\n",
       "      <td>1.478710</td>\n",
       "    </tr>\n",
       "    <tr>\n",
       "      <th>3</th>\n",
       "      <td>3.085554</td>\n",
       "    </tr>\n",
       "    <tr>\n",
       "      <th>4</th>\n",
       "      <td>0.966069</td>\n",
       "    </tr>\n",
       "  </tbody>\n",
       "</table>\n",
       "</div>"
      ],
      "text/plain": [
       "     weight\n",
       "0  1.879136\n",
       "1  0.997894\n",
       "2  1.478710\n",
       "3  3.085554\n",
       "4  0.966069"
      ]
     },
     "execution_count": 3,
     "metadata": {},
     "output_type": "execute_result"
    }
   ],
   "source": [
    "y = abs(np.random.randn(n,1))*2 + X_1[:,None]*5\n",
    "y = pd.DataFrame(y, columns=['weight'])\n",
    "y.head()"
   ]
  },
  {
   "cell_type": "code",
   "execution_count": 4,
   "metadata": {},
   "outputs": [],
   "source": [
    "snake_X_train, snake_X_test, snake_y_train, snake_y_test = train_test_split(X, y, test_size=0.2, random_state=123)"
   ]
  },
  {
   "cell_type": "markdown",
   "metadata": {},
   "source": [
    "Now let's visualize our training data. "
   ]
  },
  {
   "cell_type": "code",
   "execution_count": 5,
   "metadata": {},
   "outputs": [
    {
     "data": {
      "text/html": [
       "\n",
       "<div id=\"altair-viz-453b661ff594410f8382b519c8ca1fe6\"></div>\n",
       "<script type=\"text/javascript\">\n",
       "  var VEGA_DEBUG = (typeof VEGA_DEBUG == \"undefined\") ? {} : VEGA_DEBUG;\n",
       "  (function(spec, embedOpt){\n",
       "    let outputDiv = document.currentScript.previousElementSibling;\n",
       "    if (outputDiv.id !== \"altair-viz-453b661ff594410f8382b519c8ca1fe6\") {\n",
       "      outputDiv = document.getElementById(\"altair-viz-453b661ff594410f8382b519c8ca1fe6\");\n",
       "    }\n",
       "    const paths = {\n",
       "      \"vega\": \"https://cdn.jsdelivr.net/npm//vega@5?noext\",\n",
       "      \"vega-lib\": \"https://cdn.jsdelivr.net/npm//vega-lib?noext\",\n",
       "      \"vega-lite\": \"https://cdn.jsdelivr.net/npm//vega-lite@4.17.0?noext\",\n",
       "      \"vega-embed\": \"https://cdn.jsdelivr.net/npm//vega-embed@6?noext\",\n",
       "    };\n",
       "\n",
       "    function maybeLoadScript(lib, version) {\n",
       "      var key = `${lib.replace(\"-\", \"\")}_version`;\n",
       "      return (VEGA_DEBUG[key] == version) ?\n",
       "        Promise.resolve(paths[lib]) :\n",
       "        new Promise(function(resolve, reject) {\n",
       "          var s = document.createElement('script');\n",
       "          document.getElementsByTagName(\"head\")[0].appendChild(s);\n",
       "          s.async = true;\n",
       "          s.onload = () => {\n",
       "            VEGA_DEBUG[key] = version;\n",
       "            return resolve(paths[lib]);\n",
       "          };\n",
       "          s.onerror = () => reject(`Error loading script: ${paths[lib]}`);\n",
       "          s.src = paths[lib];\n",
       "        });\n",
       "    }\n",
       "\n",
       "    function showError(err) {\n",
       "      outputDiv.innerHTML = `<div class=\"error\" style=\"color:red;\">${err}</div>`;\n",
       "      throw err;\n",
       "    }\n",
       "\n",
       "    function displayChart(vegaEmbed) {\n",
       "      vegaEmbed(outputDiv, spec, embedOpt)\n",
       "        .catch(err => showError(`Javascript Error: ${err.message}<br>This usually means there's a typo in your chart specification. See the javascript console for the full traceback.`));\n",
       "    }\n",
       "\n",
       "    if(typeof define === \"function\" && define.amd) {\n",
       "      requirejs.config({paths});\n",
       "      require([\"vega-embed\"], displayChart, err => showError(`Error loading script: ${err.message}`));\n",
       "    } else {\n",
       "      maybeLoadScript(\"vega\", \"5\")\n",
       "        .then(() => maybeLoadScript(\"vega-lite\", \"4.17.0\"))\n",
       "        .then(() => maybeLoadScript(\"vega-embed\", \"6\"))\n",
       "        .catch(showError)\n",
       "        .then(() => displayChart(vegaEmbed));\n",
       "    }\n",
       "  })({\"config\": {\"view\": {\"continuousWidth\": 400, \"continuousHeight\": 300}}, \"data\": {\"name\": \"data-b6b36d9253ffa44549ee85a5d64b6eb6\"}, \"mark\": {\"type\": \"point\", \"color\": \"green\", \"filled\": true}, \"encoding\": {\"x\": {\"field\": \"length\", \"type\": \"quantitative\"}, \"y\": {\"field\": \"weight\", \"type\": \"quantitative\"}}, \"height\": 300, \"width\": 500, \"$schema\": \"https://vega.github.io/schema/vega-lite/v4.17.0.json\", \"datasets\": {\"data-b6b36d9253ffa44549ee85a5d64b6eb6\": [{\"length\": 0.8636790430972607, \"weight\": 4.576361037001124}, {\"length\": 1.9261422504970944, \"weight\": 13.202452240297143}, {\"length\": 0.4635223269063644, \"weight\": 3.036717957612905}, {\"length\": 1.659269208383312, \"weight\": 10.741236182681416}, {\"length\": 0.19430885385429708, \"weight\": 1.8282080103323208}, {\"length\": 0.04481789861428447, \"weight\": 0.9978944887899464}, {\"length\": 0.25439884335892937, \"weight\": 1.4050286615609828}, {\"length\": 1.1001689778262722, \"weight\": 6.658544218660192}, {\"length\": 1.9978725971978604, \"weight\": 10.793341712878705}, {\"length\": 1.00228938297457, \"weight\": 5.816130197227949}, {\"length\": 1.269087747645001, \"weight\": 8.14709171213338}, {\"length\": 0.6155816412329262, \"weight\": 3.8814700785811547}, {\"length\": 1.430134918262468, \"weight\": 10.942452943373507}, {\"length\": 1.0616820749689326, \"weight\": 7.050004673208427}, {\"length\": 0.2842007136313087, \"weight\": 2.0259473636361065}, {\"length\": 0.790796632453904, \"weight\": 5.412164286624593}, {\"length\": 1.9430446949938083, \"weight\": 9.969047660376281}, {\"length\": 0.1448579115838513, \"weight\": 3.0855539261640805}, {\"length\": 0.9313538600000172, \"weight\": 7.126420940707391}, {\"length\": 1.790821845529422, \"weight\": 9.666842021995915}, {\"length\": 0.18194088602394864, \"weight\": 0.9660688867970529}, {\"length\": 0.6680020152213719, \"weight\": 6.6004067700389495}, {\"length\": 1.481690661909318, \"weight\": 9.76601245186589}, {\"length\": 0.5758672037560256, \"weight\": 3.2341883032876337}, {\"length\": 1.7746097947686443, \"weight\": 10.826327046810647}, {\"length\": 1.0058645065193186, \"weight\": 6.3989427144772195}, {\"length\": 1.5222278801204971, \"weight\": 7.970989072227188}, {\"length\": 1.5888137071881239, \"weight\": 10.052971989802893}, {\"length\": 0.3714529237948939, \"weight\": 2.5827469509487457}, {\"length\": 1.2972445915032906, \"weight\": 7.4175478369773735}, {\"length\": 1.3271308108279647, \"weight\": 9.708141426694272}, {\"length\": 0.9066035456620644, \"weight\": 6.811819097396922}, {\"length\": 1.697223012379464, \"weight\": 8.902665018051042}, {\"length\": 0.7669692466886153, \"weight\": 3.9387370250353544}, {\"length\": 0.6918259683827501, \"weight\": 4.384694352965299}, {\"length\": 1.5471471399891856, \"weight\": 9.877240942967013}, {\"length\": 1.3842759805475549, \"weight\": 9.897884290328975}, {\"length\": 1.1581849350007274, \"weight\": 6.414029739258383}, {\"length\": 0.09142003290228187, \"weight\": 1.4787104396491553}, {\"length\": 1.832353950861439, \"weight\": 10.574916090691092}]}}, {\"mode\": \"vega-lite\"});\n",
       "</script>"
      ],
      "text/plain": [
       "alt.Chart(...)"
      ]
     },
     "execution_count": 5,
     "metadata": {},
     "output_type": "execute_result"
    }
   ],
   "source": [
    "source = pd.concat([snake_X_train, snake_y_train], axis=1)\n",
    "\n",
    "scatter = alt.Chart(source, width=500, height=300).mark_point(filled=True, color='green').encode(\n",
    "    alt.X('length:Q'),\n",
    "    alt.Y('weight:Q'))\n",
    "\n",
    "scatter"
   ]
  },
  {
   "cell_type": "markdown",
   "metadata": {},
   "source": [
    "Now let's try the $k$-nearest neighbours regressor on this data. \n",
    "\n",
    "Then we create our `KNeighborsRegressor` object with `n_neighbors=1` so we are only considering 1 neighbour and with `uniform` weights (the default)."
   ]
  },
  {
   "cell_type": "code",
   "execution_count": 6,
   "metadata": {},
   "outputs": [
    {
     "data": {
      "text/plain": [
       "array([[ 4.57636104],\n",
       "       [13.20245224],\n",
       "       [ 3.03671796],\n",
       "       [10.74123618],\n",
       "       [ 1.82820801],\n",
       "       [ 0.99789449],\n",
       "       [ 1.40502866],\n",
       "       [ 6.65854422],\n",
       "       [10.79334171],\n",
       "       [ 5.8161302 ],\n",
       "       [ 8.14709171],\n",
       "       [ 3.88147008],\n",
       "       [10.94245294],\n",
       "       [ 7.05000467],\n",
       "       [ 2.02594736],\n",
       "       [ 5.41216429],\n",
       "       [ 9.96904766],\n",
       "       [ 3.08555393],\n",
       "       [ 7.12642094],\n",
       "       [ 9.66684202],\n",
       "       [ 0.96606889],\n",
       "       [ 6.60040677],\n",
       "       [ 9.76601245],\n",
       "       [ 3.2341883 ],\n",
       "       [10.82632705],\n",
       "       [ 6.39894271],\n",
       "       [ 7.97098907],\n",
       "       [10.05297199],\n",
       "       [ 2.58274695],\n",
       "       [ 7.41754784],\n",
       "       [ 9.70814143],\n",
       "       [ 6.8118191 ],\n",
       "       [ 8.90266502],\n",
       "       [ 3.93873703],\n",
       "       [ 4.38469435],\n",
       "       [ 9.87724094],\n",
       "       [ 9.89788429],\n",
       "       [ 6.41402974],\n",
       "       [ 1.47871044],\n",
       "       [10.57491609]])"
      ]
     },
     "execution_count": 6,
     "metadata": {},
     "output_type": "execute_result"
    }
   ],
   "source": [
    "from sklearn.neighbors import KNeighborsRegressor\n",
    "\n",
    "knnr_1 = KNeighborsRegressor(n_neighbors=1)\n",
    "knnr_1.fit(snake_X_train,snake_y_train);\n",
    "\n",
    "predicted = knnr_1.predict(snake_X_train)\n",
    "predicted"
   ]
  },
  {
   "cell_type": "markdown",
   "metadata": {},
   "source": [
    "If we scored over regressors we get this perfect score of one since we have `n_neighbors=1` we are likely to overfit."
   ]
  },
  {
   "cell_type": "code",
   "execution_count": 7,
   "metadata": {},
   "outputs": [
    {
     "data": {
      "text/plain": [
       "1.0"
      ]
     },
     "execution_count": 7,
     "metadata": {},
     "output_type": "execute_result"
    }
   ],
   "source": [
    "knnr_1.score(snake_X_train, snake_y_train)  "
   ]
  },
  {
   "cell_type": "markdown",
   "metadata": {},
   "source": [
    "Plotting this we can see our model is trying to get every example correct since n_neighbors=1. (the mean of 1 point is just going to be the point value)"
   ]
  },
  {
   "cell_type": "code",
   "execution_count": 8,
   "metadata": {},
   "outputs": [
    {
     "name": "stderr",
     "output_type": "stream",
     "text": [
      "/home/joel/miniconda3/envs/bait/lib/python3.9/site-packages/sklearn/base.py:450: UserWarning: X does not have valid feature names, but KNeighborsRegressor was fitted with feature names\n",
      "  warnings.warn(\n",
      "/tmp/ipykernel_701289/2889281394.py:4: UserWarning: color is redundantly defined by the 'color' keyword argument and the fmt string \".r\" (-> color='r'). The keyword argument will take precedence.\n",
      "  plt.plot(snake_X_train, snake_y_train, \".r\", markersize=10, color='green')\n"
     ]
    },
    {
     "data": {
      "image/png": "[encoded data removed]",
      "text/plain": [
       "<Figure size 576x360 with 1 Axes>"
      ]
     },
     "metadata": {
      "needs_background": "light"
     },
     "output_type": "display_data"
    }
   ],
   "source": [
    "plt.figure(figsize=(8, 5))\n",
    "grid = np.linspace(np.min(snake_X_train), np.max(snake_X_train), 1000)\n",
    "plt.plot(grid, knnr_1.predict(grid), color='orange', linewidth=1)\n",
    "plt.plot(snake_X_train, snake_y_train, \".r\", markersize=10, color='green')\n",
    "plt.xticks(fontsize= 14);\n",
    "plt.yticks(fontsize= 14);\n",
    "plt.xlabel(\"length\",fontsize= 14)\n",
    "plt.ylabel(\"weight\",fontsize= 14);"
   ]
  },
  {
   "cell_type": "markdown",
   "metadata": {},
   "source": [
    "What happens when we use `n_neighbors=10`?"
   ]
  },
  {
   "cell_type": "code",
   "execution_count": 9,
   "metadata": {},
   "outputs": [
    {
     "data": {
      "text/plain": [
       "0.9254540554756747"
      ]
     },
     "execution_count": 9,
     "metadata": {},
     "output_type": "execute_result"
    }
   ],
   "source": [
    "knnr_10 = KNeighborsRegressor(n_neighbors=10, weights=\"uniform\")\n",
    "knnr_10.fit(snake_X_train, snake_y_train)\n",
    "knnr_10.score(snake_X_train, snake_y_train)"
   ]
  },
  {
   "cell_type": "markdown",
   "metadata": {},
   "source": [
    " Now we can see we are getting a lower score over the training set. Our score decreased from 1.0 when to had `n_neighbors=1` to now having a score of 0.925.  \n",
    "\n",
    "When we plot our model, we can see that it no longer is trying to get every example correct. "
   ]
  },
  {
   "cell_type": "code",
   "execution_count": 10,
   "metadata": {},
   "outputs": [
    {
     "name": "stderr",
     "output_type": "stream",
     "text": [
      "/home/joel/miniconda3/envs/bait/lib/python3.9/site-packages/sklearn/base.py:450: UserWarning: X does not have valid feature names, but KNeighborsRegressor was fitted with feature names\n",
      "  warnings.warn(\n",
      "/tmp/ipykernel_701289/3006408244.py:3: UserWarning: color is redundantly defined by the 'color' keyword argument and the fmt string \".r\" (-> color='r'). The keyword argument will take precedence.\n",
      "  plt.plot(snake_X_train, snake_y_train, \".r\", markersize=10, color='green')\n"
     ]
    },
    {
     "data": {
      "image/png": "[encoded data removed]",
      "text/plain": [
       "<Figure size 576x360 with 1 Axes>"
      ]
     },
     "metadata": {
      "needs_background": "light"
     },
     "output_type": "display_data"
    }
   ],
   "source": [
    "plt.figure(figsize=(8, 5))\n",
    "plt.plot(grid, knnr_10.predict(grid), color='orange', linewidth=1)\n",
    "plt.plot(snake_X_train, snake_y_train, \".r\", markersize=10, color='green')\n",
    "plt.xticks(fontsize= 16);\n",
    "plt.yticks(fontsize= 16);\n",
    "plt.xlabel(\"length\",fontsize= 16)\n",
    "plt.ylabel(\"weight\",fontsize= 16);"
   ]
  },
  {
   "cell_type": "markdown",
   "metadata": {},
   "source": [
    "## Pros and Cons of 𝑘 -Nearest Neighbours\n",
    "\n",
    "\n",
    "### Pros:\n",
    "\n",
    "- Easy to understand, interpret.\n",
    "- Simply hyperparameter $k$ (`n_neighbors`) controlling the fundamental tradeoff.\n",
    "- Can learn very complex functions given enough data.\n",
    "- Lazy learning: Takes no time to `fit`\n",
    "\n",
    "<br>\n",
    "\n",
    "### Cons:\n",
    "\n",
    "- Can potentially be VERY slow during prediction time. \n",
    "- Often not that great test accuracy compared to the modern approaches.\n",
    "- Need to scale your features."
   ]
  },
  {
   "cell_type": "markdown",
   "metadata": {},
   "source": [
    "## Let's Practice\n",
    "\n",
    "$$ X = \\begin{bmatrix}5 & 2\\\\4 & 3\\\\  2 & 2\\\\ 10 & 10\\\\ 9 & -1\\\\ 9& 9\\end{bmatrix}, \\quad y = \\begin{bmatrix}0\\\\0\\\\1\\\\1\\\\1\\\\2\\end{bmatrix}.$$\n",
    "\n",
    "If $k=3$, what would you predict for $x=\\begin{bmatrix} 0 & 0\\end{bmatrix}$ if we were doing regression rather than classification?\n"
   ]
  },
  {
   "cell_type": "markdown",
   "metadata": {},
   "source": [
    "```{admonition} Solutions!\n",
    ":class: dropdown\n",
    "\n",
    "1. 1/3 ($\\frac{0 + 0 + 1}{3}$) \n",
    "```"
   ]
  },
  {
   "cell_type": "markdown",
   "metadata": {},
   "source": [
    "## Support Vector Machines (SVMs) with RBF Kernel\n",
    "\n",
    "Another popular similarity-based algorithm is Support Vector Machines (SVM).\n",
    "\n",
    "Conceptually,\n",
    "SVMs try to compute which is the best linear decision boundary that can be drawn to separate two (or more) classes.\n",
    "For data in 2D this would be a line, in 3D it would be a plane/surface and so on.\n",
    "A general name for this decision boundary is a hyperplane.\n",
    "\n",
    "With the training data points below ([images in the intro are from this article](https://iaviral.medium.com/what-is-support-vector-machine-svm-c1b759db65ba)),\n",
    "there are multiple linear lines/hyperplanes that we could draw that would perfectly\n",
    "separate the points.\n",
    "\n",
    "![image.png](imgs/svm1.png)\n",
    "\n",
    "So which one is best?\n",
    "SVMs define \"best\" as the one with the largest margin to the points from both classes.\n",
    "In other words, the line that are the most in the middle of the border points in each cluster.\n",
    "Since the location of the best margin only depends on the border points from each cluster,\n",
    "these points are called \"support points/vectors\" (hence the name \"support vector machines\").\n",
    "\n",
    "![image.png](imgs/svm2.png)\n",
    "\n",
    "Conceptually it makes sense that the line in the middle of both the clusters is chosen,\n",
    "since we would expect this border to best separate unseen data points.\n",
    "If we instead put the border really close to the green or red cluster,\n",
    "we might make a miss-classification on the new data points if they are not in the exact same spots as the training data.\n",
    "However,\n",
    "we also don't want one outlier in the training data to completely change the border\n",
    "and we have hyperparameters that can control this as we will see soon.\n",
    "\n",
    "What happens if there is no linear boundary that can be drawn to separate the data\n",
    "as with the points below?\n",
    "\n",
    "![image.png](imgs/svm3.png)\n",
    "\n",
    "A key concept of SVMs is the transformation of existing dimensions into new ones,\n",
    "where a linear decision boundary can be found.\n",
    "The transformation function is referred to as a kernel,\n",
    "and in this case,\n",
    "we could use a polynomial kernel to create a new dimension such that $z = x^2 + y^2$.\n",
    "If we plot x (or y) vs z, we can see that there is a linear decision boundary in this new dimension,\n",
    "which perfectly separates the points.\n",
    "\n",
    "![image.png](imgs/svm4.png)\n",
    "\n",
    "If we transform this decision boundary back to our original xy-space,\n",
    "we can see that it has the shape of a ring.\n",
    "([Here is an animation of this process to help you visualize it](https://www.youtube.com/watch?v=OdlNM96sHio&t=0s)).\n",
    "\n",
    "![image.png](imgs/svm5.png)"
   ]
  },
  {
   "cell_type": "markdown",
   "metadata": {},
   "source": [
    "Kernel transformations allows us to use SVMs on data with complex non-linear decision borders in the original data dimensions.\n",
    "Here, we are going to concentrate on the specific kernel called Radial Basis Functions (RBFs),\n",
    "which is one of the most common and effective kernels\n",
    "and also the default in scikit-learn.\n",
    "\n",
    "Let's start by reading in out Canadian and USA cities data yet again."
   ]
  },
  {
   "cell_type": "code",
   "execution_count": 11,
   "metadata": {},
   "outputs": [
    {
     "data": {
      "text/html": [
       "<div>\n",
       "<style scoped>\n",
       "    .dataframe tbody tr th:only-of-type {\n",
       "        vertical-align: middle;\n",
       "    }\n",
       "\n",
       "    .dataframe tbody tr th {\n",
       "        vertical-align: top;\n",
       "    }\n",
       "\n",
       "    .dataframe thead th {\n",
       "        text-align: right;\n",
       "    }\n",
       "</style>\n",
       "<table border=\"1\" class=\"dataframe\">\n",
       "  <thead>\n",
       "    <tr style=\"text-align: right;\">\n",
       "      <th></th>\n",
       "      <th>longitude</th>\n",
       "      <th>latitude</th>\n",
       "      <th>country</th>\n",
       "    </tr>\n",
       "  </thead>\n",
       "  <tbody>\n",
       "    <tr>\n",
       "      <th>160</th>\n",
       "      <td>-76.4813</td>\n",
       "      <td>44.2307</td>\n",
       "      <td>Canada</td>\n",
       "    </tr>\n",
       "    <tr>\n",
       "      <th>127</th>\n",
       "      <td>-81.2496</td>\n",
       "      <td>42.9837</td>\n",
       "      <td>Canada</td>\n",
       "    </tr>\n",
       "    <tr>\n",
       "      <th>169</th>\n",
       "      <td>-66.0580</td>\n",
       "      <td>45.2788</td>\n",
       "      <td>Canada</td>\n",
       "    </tr>\n",
       "    <tr>\n",
       "      <th>188</th>\n",
       "      <td>-73.2533</td>\n",
       "      <td>45.3057</td>\n",
       "      <td>Canada</td>\n",
       "    </tr>\n",
       "    <tr>\n",
       "      <th>187</th>\n",
       "      <td>-67.9245</td>\n",
       "      <td>47.1652</td>\n",
       "      <td>Canada</td>\n",
       "    </tr>\n",
       "    <tr>\n",
       "      <th>...</th>\n",
       "      <td>...</td>\n",
       "      <td>...</td>\n",
       "      <td>...</td>\n",
       "    </tr>\n",
       "    <tr>\n",
       "      <th>17</th>\n",
       "      <td>-76.3305</td>\n",
       "      <td>44.1255</td>\n",
       "      <td>USA</td>\n",
       "    </tr>\n",
       "    <tr>\n",
       "      <th>98</th>\n",
       "      <td>-74.7287</td>\n",
       "      <td>45.0184</td>\n",
       "      <td>Canada</td>\n",
       "    </tr>\n",
       "    <tr>\n",
       "      <th>66</th>\n",
       "      <td>-121.4944</td>\n",
       "      <td>38.5816</td>\n",
       "      <td>USA</td>\n",
       "    </tr>\n",
       "    <tr>\n",
       "      <th>126</th>\n",
       "      <td>-79.5656</td>\n",
       "      <td>43.6436</td>\n",
       "      <td>Canada</td>\n",
       "    </tr>\n",
       "    <tr>\n",
       "      <th>109</th>\n",
       "      <td>-66.9195</td>\n",
       "      <td>44.8938</td>\n",
       "      <td>Canada</td>\n",
       "    </tr>\n",
       "  </tbody>\n",
       "</table>\n",
       "<p>167 rows × 3 columns</p>\n",
       "</div>"
      ],
      "text/plain": [
       "     longitude  latitude country\n",
       "160   -76.4813   44.2307  Canada\n",
       "127   -81.2496   42.9837  Canada\n",
       "169   -66.0580   45.2788  Canada\n",
       "188   -73.2533   45.3057  Canada\n",
       "187   -67.9245   47.1652  Canada\n",
       "..         ...       ...     ...\n",
       "17    -76.3305   44.1255     USA\n",
       "98    -74.7287   45.0184  Canada\n",
       "66   -121.4944   38.5816     USA\n",
       "126   -79.5656   43.6436  Canada\n",
       "109   -66.9195   44.8938  Canada\n",
       "\n",
       "[167 rows x 3 columns]"
      ]
     },
     "execution_count": 11,
     "metadata": {},
     "output_type": "execute_result"
    }
   ],
   "source": [
    "cities_df = pd.read_csv(\"data/canada_usa_cities.csv\")\n",
    "cities_train_df, cities_test_df = train_test_split(cities_df, test_size=0.2, random_state=123)\n",
    "cities_train_df"
   ]
  },
  {
   "cell_type": "code",
   "execution_count": 12,
   "metadata": {},
   "outputs": [
    {
     "data": {
      "text/html": [
       "<div>\n",
       "<style scoped>\n",
       "    .dataframe tbody tr th:only-of-type {\n",
       "        vertical-align: middle;\n",
       "    }\n",
       "\n",
       "    .dataframe tbody tr th {\n",
       "        vertical-align: top;\n",
       "    }\n",
       "\n",
       "    .dataframe thead th {\n",
       "        text-align: right;\n",
       "    }\n",
       "</style>\n",
       "<table border=\"1\" class=\"dataframe\">\n",
       "  <thead>\n",
       "    <tr style=\"text-align: right;\">\n",
       "      <th></th>\n",
       "      <th>longitude</th>\n",
       "      <th>latitude</th>\n",
       "    </tr>\n",
       "  </thead>\n",
       "  <tbody>\n",
       "    <tr>\n",
       "      <th>160</th>\n",
       "      <td>-76.4813</td>\n",
       "      <td>44.2307</td>\n",
       "    </tr>\n",
       "    <tr>\n",
       "      <th>127</th>\n",
       "      <td>-81.2496</td>\n",
       "      <td>42.9837</td>\n",
       "    </tr>\n",
       "    <tr>\n",
       "      <th>169</th>\n",
       "      <td>-66.0580</td>\n",
       "      <td>45.2788</td>\n",
       "    </tr>\n",
       "    <tr>\n",
       "      <th>188</th>\n",
       "      <td>-73.2533</td>\n",
       "      <td>45.3057</td>\n",
       "    </tr>\n",
       "    <tr>\n",
       "      <th>187</th>\n",
       "      <td>-67.9245</td>\n",
       "      <td>47.1652</td>\n",
       "    </tr>\n",
       "    <tr>\n",
       "      <th>...</th>\n",
       "      <td>...</td>\n",
       "      <td>...</td>\n",
       "    </tr>\n",
       "    <tr>\n",
       "      <th>17</th>\n",
       "      <td>-76.3305</td>\n",
       "      <td>44.1255</td>\n",
       "    </tr>\n",
       "    <tr>\n",
       "      <th>98</th>\n",
       "      <td>-74.7287</td>\n",
       "      <td>45.0184</td>\n",
       "    </tr>\n",
       "    <tr>\n",
       "      <th>66</th>\n",
       "      <td>-121.4944</td>\n",
       "      <td>38.5816</td>\n",
       "    </tr>\n",
       "    <tr>\n",
       "      <th>126</th>\n",
       "      <td>-79.5656</td>\n",
       "      <td>43.6436</td>\n",
       "    </tr>\n",
       "    <tr>\n",
       "      <th>109</th>\n",
       "      <td>-66.9195</td>\n",
       "      <td>44.8938</td>\n",
       "    </tr>\n",
       "  </tbody>\n",
       "</table>\n",
       "<p>167 rows × 2 columns</p>\n",
       "</div>"
      ],
      "text/plain": [
       "     longitude  latitude\n",
       "160   -76.4813   44.2307\n",
       "127   -81.2496   42.9837\n",
       "169   -66.0580   45.2788\n",
       "188   -73.2533   45.3057\n",
       "187   -67.9245   47.1652\n",
       "..         ...       ...\n",
       "17    -76.3305   44.1255\n",
       "98    -74.7287   45.0184\n",
       "66   -121.4944   38.5816\n",
       "126   -79.5656   43.6436\n",
       "109   -66.9195   44.8938\n",
       "\n",
       "[167 rows x 2 columns]"
      ]
     },
     "execution_count": 12,
     "metadata": {},
     "output_type": "execute_result"
    }
   ],
   "source": [
    "cities_X_train = cities_train_df.drop(columns=['country'])\n",
    "cities_y_train = cities_train_df['country']\n",
    "cities_X_test = cities_test_df.drop(columns=['country'])\n",
    "cities_y_test = cities_test_df['country']\n",
    "\n",
    "cities_X_train"
   ]
  },
  {
   "cell_type": "code",
   "execution_count": 13,
   "metadata": {},
   "outputs": [
    {
     "data": {
      "text/plain": [
       "160    Canada\n",
       "127    Canada\n",
       "169    Canada\n",
       "188    Canada\n",
       "187    Canada\n",
       "        ...  \n",
       "17        USA\n",
       "98     Canada\n",
       "66        USA\n",
       "126    Canada\n",
       "109    Canada\n",
       "Name: country, Length: 167, dtype: object"
      ]
     },
     "execution_count": 13,
     "metadata": {},
     "output_type": "execute_result"
    }
   ],
   "source": [
    "cities_y_train"
   ]
  },
  {
   "cell_type": "markdown",
   "metadata": {},
   "source": [
    "We can use our training feature table ($X$) and target ($y$) values by using this new SVM model with (RBF) but with the old set up with `.fit()` and `.score()` that we have seen time and time again. "
   ]
  },
  {
   "cell_type": "markdown",
   "metadata": {},
   "source": [
    "We import the `SVC` tool from the `sklearn.svm` library (The \"C\" in SVC represents  *Classifier*). \n",
    "To import the regressor we import `SVR` - R for *Regressor*)"
   ]
  },
  {
   "cell_type": "code",
   "execution_count": 14,
   "metadata": {},
   "outputs": [],
   "source": [
    "from sklearn.svm import SVC"
   ]
  },
  {
   "cell_type": "markdown",
   "metadata": {},
   "source": [
    "We can cross-validate and score exactly how we have done it in previous lectures."
   ]
  },
  {
   "cell_type": "code",
   "execution_count": 15,
   "metadata": {},
   "outputs": [
    {
     "data": {
      "text/html": [
       "<div>\n",
       "<style scoped>\n",
       "    .dataframe tbody tr th:only-of-type {\n",
       "        vertical-align: middle;\n",
       "    }\n",
       "\n",
       "    .dataframe tbody tr th {\n",
       "        vertical-align: top;\n",
       "    }\n",
       "\n",
       "    .dataframe thead th {\n",
       "        text-align: right;\n",
       "    }\n",
       "</style>\n",
       "<table border=\"1\" class=\"dataframe\">\n",
       "  <thead>\n",
       "    <tr style=\"text-align: right;\">\n",
       "      <th></th>\n",
       "      <th>fit_time</th>\n",
       "      <th>score_time</th>\n",
       "      <th>test_score</th>\n",
       "      <th>train_score</th>\n",
       "    </tr>\n",
       "  </thead>\n",
       "  <tbody>\n",
       "    <tr>\n",
       "      <th>0</th>\n",
       "      <td>0.002240</td>\n",
       "      <td>0.001367</td>\n",
       "      <td>0.735294</td>\n",
       "      <td>0.714286</td>\n",
       "    </tr>\n",
       "    <tr>\n",
       "      <th>1</th>\n",
       "      <td>0.001958</td>\n",
       "      <td>0.001234</td>\n",
       "      <td>0.705882</td>\n",
       "      <td>0.714286</td>\n",
       "    </tr>\n",
       "    <tr>\n",
       "      <th>2</th>\n",
       "      <td>0.001712</td>\n",
       "      <td>0.001071</td>\n",
       "      <td>0.636364</td>\n",
       "      <td>0.761194</td>\n",
       "    </tr>\n",
       "    <tr>\n",
       "      <th>3</th>\n",
       "      <td>0.001775</td>\n",
       "      <td>0.001104</td>\n",
       "      <td>0.696970</td>\n",
       "      <td>0.723881</td>\n",
       "    </tr>\n",
       "    <tr>\n",
       "      <th>4</th>\n",
       "      <td>0.001784</td>\n",
       "      <td>0.001022</td>\n",
       "      <td>0.696970</td>\n",
       "      <td>0.626866</td>\n",
       "    </tr>\n",
       "  </tbody>\n",
       "</table>\n",
       "</div>"
      ],
      "text/plain": [
       "   fit_time  score_time  test_score  train_score\n",
       "0  0.002240    0.001367    0.735294     0.714286\n",
       "1  0.001958    0.001234    0.705882     0.714286\n",
       "2  0.001712    0.001071    0.636364     0.761194\n",
       "3  0.001775    0.001104    0.696970     0.723881\n",
       "4  0.001784    0.001022    0.696970     0.626866"
      ]
     },
     "execution_count": 15,
     "metadata": {},
     "output_type": "execute_result"
    }
   ],
   "source": [
    "svm = SVC()\n",
    "scores = cross_validate(svm, cities_X_train, cities_y_train, return_train_score=True)\n",
    "scores_df = pd.DataFrame(scores)\n",
    "scores_df"
   ]
  },
  {
   "cell_type": "code",
   "execution_count": 16,
   "metadata": {},
   "outputs": [
    {
     "data": {
      "text/plain": [
       "fit_time       0.001894\n",
       "score_time     0.001159\n",
       "test_score     0.694296\n",
       "train_score    0.708102\n",
       "dtype: float64"
      ]
     },
     "execution_count": 16,
     "metadata": {},
     "output_type": "execute_result"
    }
   ],
   "source": [
    "svm_cv_score = scores_df.mean()\n",
    "svm_cv_score"
   ]
  },
  {
   "cell_type": "markdown",
   "metadata": {},
   "source": [
    "That validation accuracy does not look too great,\n",
    "let's have a look at the decision boundary."
   ]
  },
  {
   "cell_type": "code",
   "execution_count": 17,
   "metadata": {},
   "outputs": [
    {
     "name": "stderr",
     "output_type": "stream",
     "text": [
      "/home/joel/miniconda3/envs/bait/lib/python3.9/site-packages/sklearn/base.py:450: UserWarning: X does not have valid feature names, but SVC was fitted with feature names\n",
      "  warnings.warn(\n"
     ]
    },
    {
     "data": {
      "text/plain": [
       "<AxesSubplot:>"
      ]
     },
     "execution_count": 17,
     "metadata": {},
     "output_type": "execute_result"
    },
    {
     "data": {
      "image/png": "[encoded data removed]",
      "text/plain": [
       "<Figure size 432x288 with 1 Axes>"
      ]
     },
     "metadata": {},
     "output_type": "display_data"
    }
   ],
   "source": [
    "svm.fit(cities_X_train, cities_y_train)\n",
    "\n",
    "plot_classifier(cities_X_train, cities_y_train, svm, ax=plt.gca())"
   ]
  },
  {
   "cell_type": "markdown",
   "metadata": {},
   "source": [
    "It seems like our model is quite simple,\n",
    "in other words,\n",
    "it is underfitting\n",
    "and not using enough of the specific structure of the training data to draw the decision boundary.\n",
    "\n",
    "To draw a more specific boundary,\n",
    "we need to tune the SVM hyperparameters."
   ]
  },
  {
   "cell_type": "markdown",
   "metadata": {},
   "source": [
    "### Hyperparameters of SVM\n",
    "\n",
    "There are  2 main hyperparameters for support vector machines with an RBF kernel;\n",
    "\n",
    "- `C`\n",
    "- `gamma` \n",
    "    \n",
    "In short, `C` is the cost/penalty the model accepts for wrongly classified examples in the training data;\n",
    "it trades off correct classification of training examples against maximization of the decision function’s margin.\n",
    "A lower C will reduce the cost/penalty of incorrectly classifying training data,\n",
    "which allows the SVM can be more lenient and draw a simpler decision boundary that likely generalizes better,\n",
    "even if that means getting a few training examples incorrect.\n",
    "\n",
    "The gamma parameter is specific to the RBF kernel and defines how far the influence of a single training point reaches when constructing the decision boundary.\n",
    "Low values mean ‘far’, creating a simple decision boundary with low curvature (at really low \"gamma\", the RBF kernel behaves as a linear SVM kernel).\n",
    "High values mean ‘close’, creating a complex decision boundary with high curvature. \n",
    "Another way of thinking of this is that if you have two dimensional points,\n",
    "and want to construct a third dimension to separate them,\n",
    "gamma controls the shape of the \"peaks\" when the points are raised.\n",
    "A large gamma gives pointed bumps in the higher dimensions,\n",
    "whereas a small gamma gives a softer, broader bumps.\n",
    "\n",
    "You can read more [in this article](https://towardsdatascience.com/hyperparameter-tuning-for-support-vector-machines-c-and-gamma-parameters-6a5097416167) \n",
    "and in the [`scikit-learn`'s explanation of RBF SVM parameters](https://scikit-learn.org/stable/auto_examples/svm/plot_rbf_parameters.html)."
   ]
  },
  {
   "cell_type": "markdown",
   "metadata": {},
   "source": [
    "#### `gamma` and the fundamental trade-off\n",
    "\n",
    "`gamma` controls the complexity of a model, just like other hyperparameters we've seen.\n",
    "\n",
    "- higher gamma, higher the complexity.\n",
    "- lower gamma, lower the complexity."
   ]
  },
  {
   "cell_type": "code",
   "execution_count": 18,
   "metadata": {},
   "outputs": [
    {
     "name": "stderr",
     "output_type": "stream",
     "text": [
      "/home/joel/miniconda3/envs/bait/lib/python3.9/site-packages/sklearn/base.py:450: UserWarning: X does not have valid feature names, but SVC was fitted with feature names\n",
      "  warnings.warn(\n",
      "/home/joel/miniconda3/envs/bait/lib/python3.9/site-packages/sklearn/base.py:450: UserWarning: X does not have valid feature names, but SVC was fitted with feature names\n",
      "  warnings.warn(\n",
      "/home/joel/miniconda3/envs/bait/lib/python3.9/site-packages/sklearn/base.py:450: UserWarning: X does not have valid feature names, but SVC was fitted with feature names\n",
      "  warnings.warn(\n",
      "/home/joel/miniconda3/envs/bait/lib/python3.9/site-packages/sklearn/base.py:450: UserWarning: X does not have valid feature names, but SVC was fitted with feature names\n",
      "  warnings.warn(\n"
     ]
    },
    {
     "data": {
      "image/png": "[encoded data removed]",
      "text/plain": [
       "<Figure size 1728x432 with 4 Axes>"
      ]
     },
     "metadata": {},
     "output_type": "display_data"
    }
   ],
   "source": [
    "plt.figure(figsize=(24, 6))\n",
    "for i in range(4):\n",
    "    plt.subplot(1, 4, i + 1)\n",
    "    gamma = 10.0 ** (i - 3)\n",
    "    rbf_svm = SVC(gamma=gamma)\n",
    "    rbf_svm.fit(cities_X_train, cities_y_train)\n",
    "    plt.title(\"gamma = %s\" % gamma);\n",
    "    plot_classifier(cities_X_train, cities_y_train, rbf_svm, ax=plt.gca())"
   ]
  },
  {
   "cell_type": "markdown",
   "metadata": {},
   "source": [
    "#### `C` and the fundamental trade-off\n",
    "\n",
    "`C` also controls the complexity of a model and in turn the fundamental tradeoff.\n",
    "\n",
    "- higher `C` values, higher the complexity.\n",
    "- lower `C` values, lower the complexity."
   ]
  },
  {
   "cell_type": "code",
   "execution_count": 19,
   "metadata": {},
   "outputs": [
    {
     "name": "stderr",
     "output_type": "stream",
     "text": [
      "/home/joel/miniconda3/envs/bait/lib/python3.9/site-packages/sklearn/base.py:450: UserWarning: X does not have valid feature names, but SVC was fitted with feature names\n",
      "  warnings.warn(\n",
      "/home/joel/miniconda3/envs/bait/lib/python3.9/site-packages/sklearn/base.py:450: UserWarning: X does not have valid feature names, but SVC was fitted with feature names\n",
      "  warnings.warn(\n",
      "/home/joel/miniconda3/envs/bait/lib/python3.9/site-packages/sklearn/base.py:450: UserWarning: X does not have valid feature names, but SVC was fitted with feature names\n",
      "  warnings.warn(\n",
      "/home/joel/miniconda3/envs/bait/lib/python3.9/site-packages/sklearn/base.py:450: UserWarning: X does not have valid feature names, but SVC was fitted with feature names\n",
      "  warnings.warn(\n"
     ]
    },
    {
     "data": {
      "image/png": "[encoded data removed]",
      "text/plain": [
       "<Figure size 1728x432 with 4 Axes>"
      ]
     },
     "metadata": {},
     "output_type": "display_data"
    }
   ],
   "source": [
    "plt.figure(figsize=(24, 6))\n",
    "for i, C in zip(range(4), [0.1, 10, 1000, 10000.0]):\n",
    "    plt.subplot(1, 4, i + 1)\n",
    "    rbf_svm = SVC(C=C)\n",
    "    rbf_svm.fit(cities_X_train, cities_y_train)\n",
    "    plt.title(\"C = %s\" % C);\n",
    "    plot_classifier(cities_X_train, cities_y_train, rbf_svm, ax=plt.gca())"
   ]
  },
  {
   "cell_type": "markdown",
   "metadata": {},
   "source": [
    "Obtaining optimal validation scores requires a hyperparameter search between both `gamma` and `C` to balance the fundamental trade-off.\n",
    "We will learn how to search over multiple hyperparameters at a time in lecture 5. "
   ]
  },
  {
   "cell_type": "markdown",
   "metadata": {},
   "source": [
    "## Let's Practice\n",
    "\n",
    "**True or False** \n",
    "\n",
    "1. In Scikit Learn’s SVC classifier, large values of gamma tend to result in higher training scores but probably lower validation scores.     \n",
    "2. If we increase both `gamma` and `C`, we can't be certain if the model becomes more complex or less complex.\n"
   ]
  },
  {
   "cell_type": "markdown",
   "metadata": {},
   "source": [
    "```{admonition} Solutions!\n",
    ":class: dropdown\n",
    "\n",
    "1. True\n",
    "2. False\n",
    "```"
   ]
  },
  {
   "cell_type": "markdown",
   "metadata": {},
   "source": [
    "## Let's Practice - Coding\n",
    "\n",
    "Below is some starter code that creates your feature table and target column from the data from the `bball.csv` dataset (in the data folder)."
   ]
  },
  {
   "cell_type": "code",
   "execution_count": 20,
   "metadata": {},
   "outputs": [],
   "source": [
    "bball_df = pd.read_csv('data/bball.csv')\n",
    "bball_df = bball_df[(bball_df['position'] =='G') | (bball_df['position'] =='F')]\n",
    "\n",
    "# Define X and y\n",
    "X = bball_df.loc[:, ['height', 'weight', 'salary']]\n",
    "y = bball_df['position']"
   ]
  },
  {
   "cell_type": "markdown",
   "metadata": {},
   "source": [
    "1. Split the dataset into 4 objects: `X_train`, `X_test`, `y_train`, `y_test`. Make the test set 0.2 (or the train set 0.8) and make sure to use `random_state=7`.\n",
    "2. Create an `SVM` model with `gamma` equal to 0.1 and `C` equal to 10.\n",
    "3. Cross-validate using cross_validate() on the objects X_train and y_train specifying the model and making sure to use 5 fold cross-validation and `return_train_score=True`.\n",
    "4. Calculate the mean training and cross-validation scores."
   ]
  },
  {
   "cell_type": "code",
   "execution_count": 21,
   "metadata": {},
   "outputs": [],
   "source": [
    "# 1. Split the dataset\n",
    "X_train, X_test, y_train, y_test = train_test_split(\n",
    "    X, y, test_size=0.2, random_state=7)"
   ]
  },
  {
   "cell_type": "code",
   "execution_count": 22,
   "metadata": {},
   "outputs": [],
   "source": [
    "model = SVC(gamma=0.1, C=10)"
   ]
  },
  {
   "cell_type": "code",
   "execution_count": 23,
   "metadata": {},
   "outputs": [],
   "source": [
    "# 3. Cross-validate\n",
    "scores_df = pd.DataFrame(cross_validate(model,X_train,y_train, cv=5, return_train_score=True))"
   ]
  },
  {
   "cell_type": "code",
   "execution_count": 24,
   "metadata": {
    "tags": []
   },
   "outputs": [
    {
     "data": {
      "text/html": [
       "<div>\n",
       "<style scoped>\n",
       "    .dataframe tbody tr th:only-of-type {\n",
       "        vertical-align: middle;\n",
       "    }\n",
       "\n",
       "    .dataframe tbody tr th {\n",
       "        vertical-align: top;\n",
       "    }\n",
       "\n",
       "    .dataframe thead th {\n",
       "        text-align: right;\n",
       "    }\n",
       "</style>\n",
       "<table border=\"1\" class=\"dataframe\">\n",
       "  <thead>\n",
       "    <tr style=\"text-align: right;\">\n",
       "      <th></th>\n",
       "      <th>fit_time</th>\n",
       "      <th>score_time</th>\n",
       "      <th>test_score</th>\n",
       "      <th>train_score</th>\n",
       "    </tr>\n",
       "  </thead>\n",
       "  <tbody>\n",
       "    <tr>\n",
       "      <th>0</th>\n",
       "      <td>0.004901</td>\n",
       "      <td>0.002197</td>\n",
       "      <td>0.571429</td>\n",
       "      <td>0.994898</td>\n",
       "    </tr>\n",
       "    <tr>\n",
       "      <th>1</th>\n",
       "      <td>0.003920</td>\n",
       "      <td>0.002178</td>\n",
       "      <td>0.571429</td>\n",
       "      <td>0.994898</td>\n",
       "    </tr>\n",
       "    <tr>\n",
       "      <th>2</th>\n",
       "      <td>0.003406</td>\n",
       "      <td>0.001426</td>\n",
       "      <td>0.551020</td>\n",
       "      <td>0.994898</td>\n",
       "    </tr>\n",
       "    <tr>\n",
       "      <th>3</th>\n",
       "      <td>0.002506</td>\n",
       "      <td>0.001989</td>\n",
       "      <td>0.530612</td>\n",
       "      <td>1.000000</td>\n",
       "    </tr>\n",
       "    <tr>\n",
       "      <th>4</th>\n",
       "      <td>0.003672</td>\n",
       "      <td>0.001590</td>\n",
       "      <td>0.571429</td>\n",
       "      <td>0.994898</td>\n",
       "    </tr>\n",
       "  </tbody>\n",
       "</table>\n",
       "</div>"
      ],
      "text/plain": [
       "   fit_time  score_time  test_score  train_score\n",
       "0  0.004901    0.002197    0.571429     0.994898\n",
       "1  0.003920    0.002178    0.571429     0.994898\n",
       "2  0.003406    0.001426    0.551020     0.994898\n",
       "3  0.002506    0.001989    0.530612     1.000000\n",
       "4  0.003672    0.001590    0.571429     0.994898"
      ]
     },
     "execution_count": 24,
     "metadata": {},
     "output_type": "execute_result"
    }
   ],
   "source": [
    "scores_df"
   ]
  },
  {
   "cell_type": "code",
   "execution_count": 25,
   "metadata": {},
   "outputs": [
    {
     "data": {
      "text/plain": [
       "fit_time       0.003681\n",
       "score_time     0.001876\n",
       "test_score     0.559184\n",
       "train_score    0.995918\n",
       "dtype: float64"
      ]
     },
     "execution_count": 25,
     "metadata": {},
     "output_type": "execute_result"
    }
   ],
   "source": [
    "# 4. Calculate the mean training and cross-validation scores.\n",
    "scores_df.mean()"
   ]
  },
  {
   "cell_type": "markdown",
   "metadata": {},
   "source": [
    "## Preprocessing"
   ]
  },
  {
   "cell_type": "markdown",
   "metadata": {},
   "source": [
    "### The importance of Preprocessing - An Example of Why\n",
    "\n",
    "So far we have seen:   \n",
    " \n",
    "- Models: Decision trees, 𝑘-NNs, SVMs with RBF kernel.\n",
    "- Fundamentals: Train-validation-test split, cross-validation, the fundamental tradeoff, the golden rule.\n",
    " \n",
    "\n",
    "\n",
    "Now ...\n",
    " \n",
    "**Preprocessing**: Transforming input data into a format a machine learning model can use and understand.\n",
    " "
   ]
  },
  {
   "cell_type": "markdown",
   "metadata": {},
   "source": [
    "#### Basketball dataset\n",
    "\n",
    "Let's take a look at the `bball.csv` dataset we just used in practice.\n",
    "\n",
    "- Let's look at the  3 feature columns `height`, `weight` and `salary`. \n",
    "- Let's see if these features can help predict the `position` basketball players is. "
   ]
  },
  {
   "cell_type": "code",
   "execution_count": 26,
   "metadata": {},
   "outputs": [],
   "source": [
    "bball_df = pd.read_csv('data/bball.csv')\n",
    "bball_df = bball_df[(bball_df['position'] =='G') | (bball_df['position'] =='F')]\n",
    "X = bball_df[['weight', 'height', 'salary']]\n",
    "y =bball_df[\"position\"]\n",
    "X_train, X_test, y_train, y_test =train_test_split(X, y, test_size=0.20, random_state=123)"
   ]
  },
  {
   "cell_type": "code",
   "execution_count": 27,
   "metadata": {},
   "outputs": [
    {
     "data": {
      "text/html": [
       "<div>\n",
       "<style scoped>\n",
       "    .dataframe tbody tr th:only-of-type {\n",
       "        vertical-align: middle;\n",
       "    }\n",
       "\n",
       "    .dataframe tbody tr th {\n",
       "        vertical-align: top;\n",
       "    }\n",
       "\n",
       "    .dataframe thead th {\n",
       "        text-align: right;\n",
       "    }\n",
       "</style>\n",
       "<table border=\"1\" class=\"dataframe\">\n",
       "  <thead>\n",
       "    <tr style=\"text-align: right;\">\n",
       "      <th></th>\n",
       "      <th>weight</th>\n",
       "      <th>height</th>\n",
       "      <th>salary</th>\n",
       "    </tr>\n",
       "  </thead>\n",
       "  <tbody>\n",
       "    <tr>\n",
       "      <th>152</th>\n",
       "      <td>79.4</td>\n",
       "      <td>1.88</td>\n",
       "      <td>1588231.0</td>\n",
       "    </tr>\n",
       "    <tr>\n",
       "      <th>337</th>\n",
       "      <td>82.1</td>\n",
       "      <td>1.91</td>\n",
       "      <td>2149560.0</td>\n",
       "    </tr>\n",
       "    <tr>\n",
       "      <th>130</th>\n",
       "      <td>106.6</td>\n",
       "      <td>2.03</td>\n",
       "      <td>6500000.0</td>\n",
       "    </tr>\n",
       "    <tr>\n",
       "      <th>340</th>\n",
       "      <td>106.1</td>\n",
       "      <td>2.08</td>\n",
       "      <td>2961120.0</td>\n",
       "    </tr>\n",
       "    <tr>\n",
       "      <th>50</th>\n",
       "      <td>96.2</td>\n",
       "      <td>1.93</td>\n",
       "      <td>4861207.0</td>\n",
       "    </tr>\n",
       "    <tr>\n",
       "      <th>...</th>\n",
       "      <td>...</td>\n",
       "      <td>...</td>\n",
       "      <td>...</td>\n",
       "    </tr>\n",
       "    <tr>\n",
       "      <th>151</th>\n",
       "      <td>100.7</td>\n",
       "      <td>2.06</td>\n",
       "      <td>4464286.0</td>\n",
       "    </tr>\n",
       "    <tr>\n",
       "      <th>120</th>\n",
       "      <td>97.5</td>\n",
       "      <td>1.91</td>\n",
       "      <td>14057730.0</td>\n",
       "    </tr>\n",
       "    <tr>\n",
       "      <th>26</th>\n",
       "      <td>96.6</td>\n",
       "      <td>1.93</td>\n",
       "      <td>21000000.0</td>\n",
       "    </tr>\n",
       "    <tr>\n",
       "      <th>328</th>\n",
       "      <td>85.7</td>\n",
       "      <td>1.88</td>\n",
       "      <td>15643750.0</td>\n",
       "    </tr>\n",
       "    <tr>\n",
       "      <th>139</th>\n",
       "      <td>97.5</td>\n",
       "      <td>2.03</td>\n",
       "      <td>9258000.0</td>\n",
       "    </tr>\n",
       "  </tbody>\n",
       "</table>\n",
       "<p>245 rows × 3 columns</p>\n",
       "</div>"
      ],
      "text/plain": [
       "     weight  height      salary\n",
       "152    79.4    1.88   1588231.0\n",
       "337    82.1    1.91   2149560.0\n",
       "130   106.6    2.03   6500000.0\n",
       "340   106.1    2.08   2961120.0\n",
       "50     96.2    1.93   4861207.0\n",
       "..      ...     ...         ...\n",
       "151   100.7    2.06   4464286.0\n",
       "120    97.5    1.91  14057730.0\n",
       "26     96.6    1.93  21000000.0\n",
       "328    85.7    1.88  15643750.0\n",
       "139    97.5    2.03   9258000.0\n",
       "\n",
       "[245 rows x 3 columns]"
      ]
     },
     "execution_count": 27,
     "metadata": {},
     "output_type": "execute_result"
    }
   ],
   "source": [
    "X_train"
   ]
  },
  {
   "cell_type": "code",
   "execution_count": 28,
   "metadata": {},
   "outputs": [
    {
     "data": {
      "text/plain": [
       "152    G\n",
       "337    G\n",
       "130    F\n",
       "340    F\n",
       "50     G\n",
       "      ..\n",
       "151    F\n",
       "120    G\n",
       "26     G\n",
       "328    G\n",
       "139    F\n",
       "Name: position, Length: 245, dtype: object"
      ]
     },
     "execution_count": 28,
     "metadata": {},
     "output_type": "execute_result"
    }
   ],
   "source": [
    "y_train"
   ]
  },
  {
   "cell_type": "markdown",
   "metadata": {},
   "source": [
    "First, let's see what validations scores we get if we simply predict the most occurring target value in the dataset using the dummy classifier model we saw in the last lecture."
   ]
  },
  {
   "cell_type": "code",
   "execution_count": 29,
   "metadata": {},
   "outputs": [
    {
     "name": "stdout",
     "output_type": "stream",
     "text": [
      "Mean training score 0.57\n",
      "Mean validation score 0.57\n"
     ]
    }
   ],
   "source": [
    "dummy = DummyClassifier(strategy=\"most_frequent\")\n",
    "scores = cross_validate(dummy, X_train, y_train, return_train_score=True)\n",
    "print('Mean training score', scores['train_score'].mean().round(2))\n",
    "print('Mean validation score', scores['test_score'].mean().round(2))"
   ]
  },
  {
   "cell_type": "markdown",
   "metadata": {},
   "source": [
    "Here we get a mean validation score for our 5 fold cross_validation (5 is the default) of 57%. Let's now see how much better a $k$-nn model does on the data. We saw that it doesn't do to well on SVM, let's see if there is a difference with $k$-nn. "
   ]
  },
  {
   "cell_type": "code",
   "execution_count": 30,
   "metadata": {},
   "outputs": [
    {
     "name": "stdout",
     "output_type": "stream",
     "text": [
      "Mean training score 0.7\n",
      "Mean validation score 0.5\n"
     ]
    }
   ],
   "source": [
    "knn = KNeighborsClassifier()\n",
    "scores = cross_validate(knn, X_train, y_train, return_train_score=True)\n",
    "print('Mean training score', scores['train_score'].mean().round(2))\n",
    "print('Mean validation score', scores['test_score'].mean().round(2))"
   ]
  },
  {
   "cell_type": "markdown",
   "metadata": {},
   "source": [
    "Ok, not the score we were hoping for. \n",
    "\n",
    "We are getting a worse score than the dummy classifier. This can't be right..... and it isn't and we are going to explain why!\n",
    "\n",
    "Let's have a look at just 2 players. \n",
    "\n",
    "We can see the values in each column. "
   ]
  },
  {
   "cell_type": "code",
   "execution_count": 31,
   "metadata": {},
   "outputs": [
    {
     "data": {
      "text/html": [
       "<div>\n",
       "<style scoped>\n",
       "    .dataframe tbody tr th:only-of-type {\n",
       "        vertical-align: middle;\n",
       "    }\n",
       "\n",
       "    .dataframe tbody tr th {\n",
       "        vertical-align: top;\n",
       "    }\n",
       "\n",
       "    .dataframe thead th {\n",
       "        text-align: right;\n",
       "    }\n",
       "</style>\n",
       "<table border=\"1\" class=\"dataframe\">\n",
       "  <thead>\n",
       "    <tr style=\"text-align: right;\">\n",
       "      <th></th>\n",
       "      <th>weight</th>\n",
       "      <th>height</th>\n",
       "      <th>salary</th>\n",
       "    </tr>\n",
       "  </thead>\n",
       "  <tbody>\n",
       "    <tr>\n",
       "      <th>285</th>\n",
       "      <td>91.2</td>\n",
       "      <td>1.98</td>\n",
       "      <td>1882867.0</td>\n",
       "    </tr>\n",
       "    <tr>\n",
       "      <th>236</th>\n",
       "      <td>112.0</td>\n",
       "      <td>2.08</td>\n",
       "      <td>2000000.0</td>\n",
       "    </tr>\n",
       "  </tbody>\n",
       "</table>\n",
       "</div>"
      ],
      "text/plain": [
       "     weight  height     salary\n",
       "285    91.2    1.98  1882867.0\n",
       "236   112.0    2.08  2000000.0"
      ]
     },
     "execution_count": 31,
     "metadata": {},
     "output_type": "execute_result"
    }
   ],
   "source": [
    "two_players = X_train.sample(2, random_state=42)\n",
    "two_players"
   ]
  },
  {
   "cell_type": "markdown",
   "metadata": {},
   "source": [
    "- The values in the `weight` column are around 100.\n",
    "- The values in the `height` column are around 2.\n",
    "- The values in the `salary` column are much higher at around 2 million.\n",
    "\n",
    "Let’s now calculate the distance between the two players."
   ]
  },
  {
   "cell_type": "code",
   "execution_count": 32,
   "metadata": {},
   "outputs": [
    {
     "data": {
      "text/plain": [
       "array([[     0.        , 117133.00184683],\n",
       "       [117133.00184683,      0.        ]])"
      ]
     },
     "execution_count": 32,
     "metadata": {},
     "output_type": "execute_result"
    }
   ],
   "source": [
    "euclidean_distances(two_players)"
   ]
  },
  {
   "cell_type": "markdown",
   "metadata": {},
   "source": [
    "So the distance between the players is 117133.0018.\n",
    "\n",
    "What happens if we only consider the salary column?"
   ]
  },
  {
   "cell_type": "code",
   "execution_count": 33,
   "metadata": {},
   "outputs": [
    {
     "data": {
      "text/plain": [
       "array([[     0., 117133.],\n",
       "       [117133.,      0.]])"
      ]
     },
     "execution_count": 33,
     "metadata": {},
     "output_type": "execute_result"
    }
   ],
   "source": [
    "euclidean_distances(two_players[[\"salary\"]])"
   ]
  },
  {
   "cell_type": "markdown",
   "metadata": {},
   "source": [
    "It looks like it's almost the same distance!\n",
    "\n",
    "The distance is completely dominated by the `salary` column, the feature with the largest values and the `weight` and `height` columns are being ignored in the distance calculation. \n",
    "\n",
    "**Does it matter?**\n",
    "\n",
    "Yes! The scale is based on how data was collected.\n",
    "\n",
    "Features on a smaller scale can be highly informative and there is no good reason to ignore them.\n",
    "We want our model to be robust and not sensitive to the scale."
   ]
  },
  {
   "cell_type": "markdown",
   "metadata": {},
   "source": [
    "**What about for decision trees? Did scale matter then?**\n",
    "\n",
    "No. In decision trees we ask questions on one feature at a time and so the nodes are created independently without considering others. \n",
    "\n",
    "\n",
    "We have to scale our columns before we use our $k$-nn algorithm (and many others) so they are all using a similar range of values!\n",
    "\n",
    "And you guessed it - Sklearn has tools called transformers for this.\n",
    "\n",
    "We'll be using `sklearn`'s [`StandardScaler`](https://scikit-learn.org/stable/modules/generated/sklearn.preprocessing.StandardScaler.html) for this example.\n",
    "We will talk about this type of preprocessing in more detail in a hot minute but for now, concentrate on the syntax. "
   ]
  },
  {
   "cell_type": "code",
   "execution_count": 34,
   "metadata": {},
   "outputs": [],
   "source": [
    "from sklearn.preprocessing import StandardScaler"
   ]
  },
  {
   "cell_type": "code",
   "execution_count": 35,
   "metadata": {},
   "outputs": [],
   "source": [
    "scaler = StandardScaler()                    # Create feature transformer object, can accept hyperparameters like models can! \n",
    "scaler.fit(X_train)                          # Fitting the transformer on the train split\n",
    "X_train_scaled = scaler.transform(X_train)   # Transforming the train split\n",
    "X_test_scaled = scaler.transform(X_test)     # Transforming the test split"
   ]
  },
  {
   "cell_type": "markdown",
   "metadata": {},
   "source": [
    "`sklearn` uses `fit` and `transform` paradigms for feature transformations. (In model building it was `fit` and `predict` or `score`)\n",
    "\n",
    "We `fit` the transformer on the train split and then `transform` the train split as well as the test split."
   ]
  },
  {
   "cell_type": "code",
   "execution_count": 36,
   "metadata": {},
   "outputs": [
    {
     "data": {
      "text/html": [
       "<div>\n",
       "<style scoped>\n",
       "    .dataframe tbody tr th:only-of-type {\n",
       "        vertical-align: middle;\n",
       "    }\n",
       "\n",
       "    .dataframe tbody tr th {\n",
       "        vertical-align: top;\n",
       "    }\n",
       "\n",
       "    .dataframe thead th {\n",
       "        text-align: right;\n",
       "    }\n",
       "</style>\n",
       "<table border=\"1\" class=\"dataframe\">\n",
       "  <thead>\n",
       "    <tr style=\"text-align: right;\">\n",
       "      <th></th>\n",
       "      <th>weight</th>\n",
       "      <th>height</th>\n",
       "      <th>salary</th>\n",
       "    </tr>\n",
       "  </thead>\n",
       "  <tbody>\n",
       "    <tr>\n",
       "      <th>0</th>\n",
       "      <td>-1.552775</td>\n",
       "      <td>-1.236056</td>\n",
       "      <td>-0.728809</td>\n",
       "    </tr>\n",
       "    <tr>\n",
       "      <th>1</th>\n",
       "      <td>-1.257147</td>\n",
       "      <td>-0.800950</td>\n",
       "      <td>-0.670086</td>\n",
       "    </tr>\n",
       "    <tr>\n",
       "      <th>2</th>\n",
       "      <td>1.425407</td>\n",
       "      <td>0.939473</td>\n",
       "      <td>-0.214967</td>\n",
       "    </tr>\n",
       "    <tr>\n",
       "      <th>3</th>\n",
       "      <td>1.370661</td>\n",
       "      <td>1.664650</td>\n",
       "      <td>-0.585185</td>\n",
       "    </tr>\n",
       "    <tr>\n",
       "      <th>4</th>\n",
       "      <td>0.286690</td>\n",
       "      <td>-0.510879</td>\n",
       "      <td>-0.386408</td>\n",
       "    </tr>\n",
       "    <tr>\n",
       "      <th>...</th>\n",
       "      <td>...</td>\n",
       "      <td>...</td>\n",
       "      <td>...</td>\n",
       "    </tr>\n",
       "    <tr>\n",
       "      <th>240</th>\n",
       "      <td>0.779404</td>\n",
       "      <td>1.374579</td>\n",
       "      <td>-0.427932</td>\n",
       "    </tr>\n",
       "    <tr>\n",
       "      <th>241</th>\n",
       "      <td>0.429030</td>\n",
       "      <td>-0.800950</td>\n",
       "      <td>0.575680</td>\n",
       "    </tr>\n",
       "    <tr>\n",
       "      <th>242</th>\n",
       "      <td>0.330487</td>\n",
       "      <td>-0.510879</td>\n",
       "      <td>1.301942</td>\n",
       "    </tr>\n",
       "    <tr>\n",
       "      <th>243</th>\n",
       "      <td>-0.862975</td>\n",
       "      <td>-1.236056</td>\n",
       "      <td>0.741601</td>\n",
       "    </tr>\n",
       "    <tr>\n",
       "      <th>244</th>\n",
       "      <td>0.429030</td>\n",
       "      <td>0.939473</td>\n",
       "      <td>0.073560</td>\n",
       "    </tr>\n",
       "  </tbody>\n",
       "</table>\n",
       "<p>245 rows × 3 columns</p>\n",
       "</div>"
      ],
      "text/plain": [
       "       weight    height    salary\n",
       "0   -1.552775 -1.236056 -0.728809\n",
       "1   -1.257147 -0.800950 -0.670086\n",
       "2    1.425407  0.939473 -0.214967\n",
       "3    1.370661  1.664650 -0.585185\n",
       "4    0.286690 -0.510879 -0.386408\n",
       "..        ...       ...       ...\n",
       "240  0.779404  1.374579 -0.427932\n",
       "241  0.429030 -0.800950  0.575680\n",
       "242  0.330487 -0.510879  1.301942\n",
       "243 -0.862975 -1.236056  0.741601\n",
       "244  0.429030  0.939473  0.073560\n",
       "\n",
       "[245 rows x 3 columns]"
      ]
     },
     "execution_count": 36,
     "metadata": {},
     "output_type": "execute_result"
    }
   ],
   "source": [
    "pd.DataFrame(X_train_scaled, columns=X_train.columns)"
   ]
  },
  {
   "cell_type": "markdown",
   "metadata": {},
   "source": [
    "Now if we look at our features they are all within the same scales as opposed to what it was before: "
   ]
  },
  {
   "cell_type": "code",
   "execution_count": 37,
   "metadata": {},
   "outputs": [
    {
     "data": {
      "text/html": [
       "<div>\n",
       "<style scoped>\n",
       "    .dataframe tbody tr th:only-of-type {\n",
       "        vertical-align: middle;\n",
       "    }\n",
       "\n",
       "    .dataframe tbody tr th {\n",
       "        vertical-align: top;\n",
       "    }\n",
       "\n",
       "    .dataframe thead th {\n",
       "        text-align: right;\n",
       "    }\n",
       "</style>\n",
       "<table border=\"1\" class=\"dataframe\">\n",
       "  <thead>\n",
       "    <tr style=\"text-align: right;\">\n",
       "      <th></th>\n",
       "      <th>weight</th>\n",
       "      <th>height</th>\n",
       "      <th>salary</th>\n",
       "    </tr>\n",
       "  </thead>\n",
       "  <tbody>\n",
       "    <tr>\n",
       "      <th>152</th>\n",
       "      <td>79.4</td>\n",
       "      <td>1.88</td>\n",
       "      <td>1588231.0</td>\n",
       "    </tr>\n",
       "    <tr>\n",
       "      <th>337</th>\n",
       "      <td>82.1</td>\n",
       "      <td>1.91</td>\n",
       "      <td>2149560.0</td>\n",
       "    </tr>\n",
       "    <tr>\n",
       "      <th>130</th>\n",
       "      <td>106.6</td>\n",
       "      <td>2.03</td>\n",
       "      <td>6500000.0</td>\n",
       "    </tr>\n",
       "    <tr>\n",
       "      <th>340</th>\n",
       "      <td>106.1</td>\n",
       "      <td>2.08</td>\n",
       "      <td>2961120.0</td>\n",
       "    </tr>\n",
       "    <tr>\n",
       "      <th>50</th>\n",
       "      <td>96.2</td>\n",
       "      <td>1.93</td>\n",
       "      <td>4861207.0</td>\n",
       "    </tr>\n",
       "    <tr>\n",
       "      <th>...</th>\n",
       "      <td>...</td>\n",
       "      <td>...</td>\n",
       "      <td>...</td>\n",
       "    </tr>\n",
       "    <tr>\n",
       "      <th>151</th>\n",
       "      <td>100.7</td>\n",
       "      <td>2.06</td>\n",
       "      <td>4464286.0</td>\n",
       "    </tr>\n",
       "    <tr>\n",
       "      <th>120</th>\n",
       "      <td>97.5</td>\n",
       "      <td>1.91</td>\n",
       "      <td>14057730.0</td>\n",
       "    </tr>\n",
       "    <tr>\n",
       "      <th>26</th>\n",
       "      <td>96.6</td>\n",
       "      <td>1.93</td>\n",
       "      <td>21000000.0</td>\n",
       "    </tr>\n",
       "    <tr>\n",
       "      <th>328</th>\n",
       "      <td>85.7</td>\n",
       "      <td>1.88</td>\n",
       "      <td>15643750.0</td>\n",
       "    </tr>\n",
       "    <tr>\n",
       "      <th>139</th>\n",
       "      <td>97.5</td>\n",
       "      <td>2.03</td>\n",
       "      <td>9258000.0</td>\n",
       "    </tr>\n",
       "  </tbody>\n",
       "</table>\n",
       "<p>245 rows × 3 columns</p>\n",
       "</div>"
      ],
      "text/plain": [
       "     weight  height      salary\n",
       "152    79.4    1.88   1588231.0\n",
       "337    82.1    1.91   2149560.0\n",
       "130   106.6    2.03   6500000.0\n",
       "340   106.1    2.08   2961120.0\n",
       "50     96.2    1.93   4861207.0\n",
       "..      ...     ...         ...\n",
       "151   100.7    2.06   4464286.0\n",
       "120    97.5    1.91  14057730.0\n",
       "26     96.6    1.93  21000000.0\n",
       "328    85.7    1.88  15643750.0\n",
       "139    97.5    2.03   9258000.0\n",
       "\n",
       "[245 rows x 3 columns]"
      ]
     },
     "execution_count": 37,
     "metadata": {},
     "output_type": "execute_result"
    }
   ],
   "source": [
    "X_train"
   ]
  },
  {
   "cell_type": "markdown",
   "metadata": {},
   "source": [
    "### Sklearn's *predict* vs *transform*\n",
    "\n",
    "When we make models, we `fit` and `predict`(`score`) with the syntax: \n",
    "\n",
    "```\n",
    "model.fit(X_train, y_train)\n",
    "X_train_predictions = model.predict(X_train)\n",
    "```\n",
    "\n",
    "With preprocessing, we replace the `.predict()` step with a `.transform()` step. We can pass `y_train` in `fit` but it's usually ignored. It allows us to pass it just to be consistent with the usual usage of `sklearn`'s `fit` method.  \n",
    "\n",
    "```\n",
    "transformer.fit(X_train, [y_train])\n",
    "X_train_transformed = transformer.transform(X_train)\n",
    "```\n",
    "\n",
    "\n",
    "We can also carry out fitting and transforming in one call using `.fit_transform()`, but we must be mindful to use it only on the train split and **NOT** on the test split.\n",
    "\n",
    "```\n",
    "X_train_transformed = transformer.fit_transform(X_train)\n",
    "```"
   ]
  },
  {
   "cell_type": "markdown",
   "metadata": {},
   "source": [
    "Let's scale our features for this basketball dataset and then compare the results with our original score without scaling. "
   ]
  },
  {
   "cell_type": "code",
   "execution_count": 38,
   "metadata": {},
   "outputs": [
    {
     "name": "stdout",
     "output_type": "stream",
     "text": [
      "Train score:  0.71\n",
      "Test score:  0.45\n"
     ]
    }
   ],
   "source": [
    "knn_unscaled = KNeighborsClassifier()\n",
    "knn_unscaled.fit(X_train, y_train);\n",
    "print('Train score: ', (knn_unscaled.score(X_train, y_train).round(2)))\n",
    "print('Test score: ', (knn_unscaled.score(X_test, y_test).round(2)))"
   ]
  },
  {
   "cell_type": "code",
   "execution_count": 39,
   "metadata": {},
   "outputs": [
    {
     "name": "stdout",
     "output_type": "stream",
     "text": [
      "Train score:  0.94\n",
      "Test score:  0.89\n"
     ]
    }
   ],
   "source": [
    "knn_scaled = KNeighborsClassifier()\n",
    "knn_scaled.fit(X_train_scaled, y_train);\n",
    "print('Train score: ', (knn_scaled.score(X_train_scaled, y_train).round(2)))\n",
    "print('Test score: ', (knn_scaled.score(X_test_scaled, y_test).round(2)))"
   ]
  },
  {
   "cell_type": "markdown",
   "metadata": {},
   "source": [
    "The scores with scaled data are now much better compared to the unscaled data in the case of 𝑘-NNs.\n",
    "\n",
    "We can see now that 𝑘-NN is doing better than the Dummy Classifier when we scaled our features. \n",
    " \n",
    "We are not carrying out cross-validation here for a reason that we'll look into soon."
   ]
  },
  {
   "cell_type": "markdown",
   "metadata": {},
   "source": [
    "### Common preprocessing techniques\n",
    "\n",
    "Here are some commonly performed feature transformation techniques we will focus on in this lesson. \n",
    "- Imputation \n",
    "    - Tackling missing values\n",
    "- Scaling \n",
    "    - Scaling of numeric features"
   ]
  },
  {
   "cell_type": "markdown",
   "metadata": {},
   "source": [
    "## Let's Practice\n",
    "\n",
    "1. Name a model that will still produce meaningful predictions with different scaled column values.     \n",
    "2. Complete the following statement with one of the alternatives below: Preprocessing is done ______.        \n",
    "    a) To the model but before training    \n",
    "    b) To the data before training the model     \n",
    "    c) To the model after training     \n",
    "    d) To the data after training the model    \n",
    "3. `StandardScaler` is a type of what?    \n",
    "\n",
    "**True or False**    \n",
    " \n",
    "4\\. Columns with lower magnitudes compared to columns with higher magnitudes are less important when making predictions.      \n",
    "5\\. A model less sensitive to the scale of the data makes it more robust.   \n"
   ]
  },
  {
   "cell_type": "markdown",
   "metadata": {},
   "source": [
    "```{admonition} Solutions!\n",
    ":class: dropdown\n",
    "\n",
    "1. Decision Tree Algorithm\n",
    "2. b) To the data before training the model\n",
    "3. Transformer\n",
    "4. False\n",
    "5. True\n",
    "\n",
    "```"
   ]
  },
  {
   "cell_type": "markdown",
   "metadata": {},
   "source": [
    "## California housing data (A case study) \n",
    "\n",
    "For the next few examples of preprocessing,  we are going to be using a dataset exploring the prices of homes in California to demonstrate feature transformation techniques.  The data can be downloaded from this site [here](https://www.kaggle.com/harrywang/housing). Please make sure that you include it in your `data` folder that resides in `lectures`. \n",
    "\n",
    "This dataset is a modified version of the California Housing dataset available from [Luís Torgo's University of Porto website](https://www.dcc.fc.up.pt/~ltorgo/Regression/cal_housing.html)\n",
    "\n",
    "\n",
    "The task is to predict median house values in California districts, given several features from these districts. \n"
   ]
  },
  {
   "cell_type": "code",
   "execution_count": 40,
   "metadata": {},
   "outputs": [
    {
     "data": {
      "text/html": [
       "<div>\n",
       "<style scoped>\n",
       "    .dataframe tbody tr th:only-of-type {\n",
       "        vertical-align: middle;\n",
       "    }\n",
       "\n",
       "    .dataframe tbody tr th {\n",
       "        vertical-align: top;\n",
       "    }\n",
       "\n",
       "    .dataframe thead th {\n",
       "        text-align: right;\n",
       "    }\n",
       "</style>\n",
       "<table border=\"1\" class=\"dataframe\">\n",
       "  <thead>\n",
       "    <tr style=\"text-align: right;\">\n",
       "      <th></th>\n",
       "      <th>longitude</th>\n",
       "      <th>latitude</th>\n",
       "      <th>housing_median_age</th>\n",
       "      <th>total_rooms</th>\n",
       "      <th>total_bedrooms</th>\n",
       "      <th>population</th>\n",
       "      <th>households</th>\n",
       "      <th>median_income</th>\n",
       "      <th>median_house_value</th>\n",
       "      <th>ocean_proximity</th>\n",
       "    </tr>\n",
       "  </thead>\n",
       "  <tbody>\n",
       "    <tr>\n",
       "      <th>6051</th>\n",
       "      <td>-117.75</td>\n",
       "      <td>34.04</td>\n",
       "      <td>22.0</td>\n",
       "      <td>2948.0</td>\n",
       "      <td>636.0</td>\n",
       "      <td>2600.0</td>\n",
       "      <td>602.0</td>\n",
       "      <td>3.1250</td>\n",
       "      <td>113600.0</td>\n",
       "      <td>INLAND</td>\n",
       "    </tr>\n",
       "    <tr>\n",
       "      <th>20113</th>\n",
       "      <td>-119.57</td>\n",
       "      <td>37.94</td>\n",
       "      <td>17.0</td>\n",
       "      <td>346.0</td>\n",
       "      <td>130.0</td>\n",
       "      <td>51.0</td>\n",
       "      <td>20.0</td>\n",
       "      <td>3.4861</td>\n",
       "      <td>137500.0</td>\n",
       "      <td>INLAND</td>\n",
       "    </tr>\n",
       "    <tr>\n",
       "      <th>14289</th>\n",
       "      <td>-117.13</td>\n",
       "      <td>32.74</td>\n",
       "      <td>46.0</td>\n",
       "      <td>3355.0</td>\n",
       "      <td>768.0</td>\n",
       "      <td>1457.0</td>\n",
       "      <td>708.0</td>\n",
       "      <td>2.6604</td>\n",
       "      <td>170100.0</td>\n",
       "      <td>NEAR OCEAN</td>\n",
       "    </tr>\n",
       "    <tr>\n",
       "      <th>13665</th>\n",
       "      <td>-117.31</td>\n",
       "      <td>34.02</td>\n",
       "      <td>18.0</td>\n",
       "      <td>1634.0</td>\n",
       "      <td>274.0</td>\n",
       "      <td>899.0</td>\n",
       "      <td>285.0</td>\n",
       "      <td>5.2139</td>\n",
       "      <td>129300.0</td>\n",
       "      <td>INLAND</td>\n",
       "    </tr>\n",
       "    <tr>\n",
       "      <th>14471</th>\n",
       "      <td>-117.23</td>\n",
       "      <td>32.88</td>\n",
       "      <td>18.0</td>\n",
       "      <td>5566.0</td>\n",
       "      <td>1465.0</td>\n",
       "      <td>6303.0</td>\n",
       "      <td>1458.0</td>\n",
       "      <td>1.8580</td>\n",
       "      <td>205000.0</td>\n",
       "      <td>NEAR OCEAN</td>\n",
       "    </tr>\n",
       "    <tr>\n",
       "      <th>...</th>\n",
       "      <td>...</td>\n",
       "      <td>...</td>\n",
       "      <td>...</td>\n",
       "      <td>...</td>\n",
       "      <td>...</td>\n",
       "      <td>...</td>\n",
       "      <td>...</td>\n",
       "      <td>...</td>\n",
       "      <td>...</td>\n",
       "      <td>...</td>\n",
       "    </tr>\n",
       "    <tr>\n",
       "      <th>7763</th>\n",
       "      <td>-118.10</td>\n",
       "      <td>33.91</td>\n",
       "      <td>36.0</td>\n",
       "      <td>726.0</td>\n",
       "      <td>NaN</td>\n",
       "      <td>490.0</td>\n",
       "      <td>130.0</td>\n",
       "      <td>3.6389</td>\n",
       "      <td>167600.0</td>\n",
       "      <td>&lt;1H OCEAN</td>\n",
       "    </tr>\n",
       "    <tr>\n",
       "      <th>15377</th>\n",
       "      <td>-117.24</td>\n",
       "      <td>33.37</td>\n",
       "      <td>14.0</td>\n",
       "      <td>4687.0</td>\n",
       "      <td>793.0</td>\n",
       "      <td>2436.0</td>\n",
       "      <td>779.0</td>\n",
       "      <td>4.5391</td>\n",
       "      <td>180900.0</td>\n",
       "      <td>&lt;1H OCEAN</td>\n",
       "    </tr>\n",
       "    <tr>\n",
       "      <th>17730</th>\n",
       "      <td>-121.76</td>\n",
       "      <td>37.33</td>\n",
       "      <td>5.0</td>\n",
       "      <td>4153.0</td>\n",
       "      <td>719.0</td>\n",
       "      <td>2435.0</td>\n",
       "      <td>697.0</td>\n",
       "      <td>5.6306</td>\n",
       "      <td>286200.0</td>\n",
       "      <td>&lt;1H OCEAN</td>\n",
       "    </tr>\n",
       "    <tr>\n",
       "      <th>15725</th>\n",
       "      <td>-122.44</td>\n",
       "      <td>37.78</td>\n",
       "      <td>44.0</td>\n",
       "      <td>1545.0</td>\n",
       "      <td>334.0</td>\n",
       "      <td>561.0</td>\n",
       "      <td>326.0</td>\n",
       "      <td>3.8750</td>\n",
       "      <td>412500.0</td>\n",
       "      <td>NEAR BAY</td>\n",
       "    </tr>\n",
       "    <tr>\n",
       "      <th>19966</th>\n",
       "      <td>-119.08</td>\n",
       "      <td>36.21</td>\n",
       "      <td>20.0</td>\n",
       "      <td>1911.0</td>\n",
       "      <td>389.0</td>\n",
       "      <td>1241.0</td>\n",
       "      <td>348.0</td>\n",
       "      <td>2.5156</td>\n",
       "      <td>59300.0</td>\n",
       "      <td>INLAND</td>\n",
       "    </tr>\n",
       "  </tbody>\n",
       "</table>\n",
       "<p>18576 rows × 10 columns</p>\n",
       "</div>"
      ],
      "text/plain": [
       "       longitude  latitude  housing_median_age  total_rooms  total_bedrooms  \\\n",
       "6051     -117.75     34.04                22.0       2948.0           636.0   \n",
       "20113    -119.57     37.94                17.0        346.0           130.0   \n",
       "14289    -117.13     32.74                46.0       3355.0           768.0   \n",
       "13665    -117.31     34.02                18.0       1634.0           274.0   \n",
       "14471    -117.23     32.88                18.0       5566.0          1465.0   \n",
       "...          ...       ...                 ...          ...             ...   \n",
       "7763     -118.10     33.91                36.0        726.0             NaN   \n",
       "15377    -117.24     33.37                14.0       4687.0           793.0   \n",
       "17730    -121.76     37.33                 5.0       4153.0           719.0   \n",
       "15725    -122.44     37.78                44.0       1545.0           334.0   \n",
       "19966    -119.08     36.21                20.0       1911.0           389.0   \n",
       "\n",
       "       population  households  median_income  median_house_value  \\\n",
       "6051       2600.0       602.0         3.1250            113600.0   \n",
       "20113        51.0        20.0         3.4861            137500.0   \n",
       "14289      1457.0       708.0         2.6604            170100.0   \n",
       "13665       899.0       285.0         5.2139            129300.0   \n",
       "14471      6303.0      1458.0         1.8580            205000.0   \n",
       "...           ...         ...            ...                 ...   \n",
       "7763        490.0       130.0         3.6389            167600.0   \n",
       "15377      2436.0       779.0         4.5391            180900.0   \n",
       "17730      2435.0       697.0         5.6306            286200.0   \n",
       "15725       561.0       326.0         3.8750            412500.0   \n",
       "19966      1241.0       348.0         2.5156             59300.0   \n",
       "\n",
       "      ocean_proximity  \n",
       "6051           INLAND  \n",
       "20113          INLAND  \n",
       "14289      NEAR OCEAN  \n",
       "13665          INLAND  \n",
       "14471      NEAR OCEAN  \n",
       "...               ...  \n",
       "7763        <1H OCEAN  \n",
       "15377       <1H OCEAN  \n",
       "17730       <1H OCEAN  \n",
       "15725        NEAR BAY  \n",
       "19966          INLAND  \n",
       "\n",
       "[18576 rows x 10 columns]"
      ]
     },
     "execution_count": 40,
     "metadata": {},
     "output_type": "execute_result"
    }
   ],
   "source": [
    "housing_df = pd.read_csv(\"data/housing.csv\")\n",
    "train_df, test_df = train_test_split(housing_df, test_size=0.1, random_state=123)\n",
    "\n",
    "train_df"
   ]
  },
  {
   "cell_type": "markdown",
   "metadata": {},
   "source": [
    "Some column values are mean/median but some are not.\n",
    "\n",
    "Before we use this data we need to do some **feature engineering**. \n",
    "\n",
    "That means we are going to transform our data into features that may be more meaningful for our prediction.\n",
    "\n",
    "Let's add some new features to the dataset which could help predict the target: `median_house_value`."
   ]
  },
  {
   "cell_type": "code",
   "execution_count": 41,
   "metadata": {},
   "outputs": [
    {
     "data": {
      "text/html": [
       "<div>\n",
       "<style scoped>\n",
       "    .dataframe tbody tr th:only-of-type {\n",
       "        vertical-align: middle;\n",
       "    }\n",
       "\n",
       "    .dataframe tbody tr th {\n",
       "        vertical-align: top;\n",
       "    }\n",
       "\n",
       "    .dataframe thead th {\n",
       "        text-align: right;\n",
       "    }\n",
       "</style>\n",
       "<table border=\"1\" class=\"dataframe\">\n",
       "  <thead>\n",
       "    <tr style=\"text-align: right;\">\n",
       "      <th></th>\n",
       "      <th>longitude</th>\n",
       "      <th>latitude</th>\n",
       "      <th>housing_median_age</th>\n",
       "      <th>households</th>\n",
       "      <th>median_income</th>\n",
       "      <th>median_house_value</th>\n",
       "      <th>ocean_proximity</th>\n",
       "      <th>rooms_per_household</th>\n",
       "      <th>bedrooms_per_household</th>\n",
       "      <th>population_per_household</th>\n",
       "    </tr>\n",
       "  </thead>\n",
       "  <tbody>\n",
       "    <tr>\n",
       "      <th>6051</th>\n",
       "      <td>-117.75</td>\n",
       "      <td>34.04</td>\n",
       "      <td>22.0</td>\n",
       "      <td>602.0</td>\n",
       "      <td>3.1250</td>\n",
       "      <td>113600.0</td>\n",
       "      <td>INLAND</td>\n",
       "      <td>4.897010</td>\n",
       "      <td>1.056478</td>\n",
       "      <td>4.318937</td>\n",
       "    </tr>\n",
       "    <tr>\n",
       "      <th>20113</th>\n",
       "      <td>-119.57</td>\n",
       "      <td>37.94</td>\n",
       "      <td>17.0</td>\n",
       "      <td>20.0</td>\n",
       "      <td>3.4861</td>\n",
       "      <td>137500.0</td>\n",
       "      <td>INLAND</td>\n",
       "      <td>17.300000</td>\n",
       "      <td>6.500000</td>\n",
       "      <td>2.550000</td>\n",
       "    </tr>\n",
       "    <tr>\n",
       "      <th>14289</th>\n",
       "      <td>-117.13</td>\n",
       "      <td>32.74</td>\n",
       "      <td>46.0</td>\n",
       "      <td>708.0</td>\n",
       "      <td>2.6604</td>\n",
       "      <td>170100.0</td>\n",
       "      <td>NEAR OCEAN</td>\n",
       "      <td>4.738701</td>\n",
       "      <td>1.084746</td>\n",
       "      <td>2.057910</td>\n",
       "    </tr>\n",
       "    <tr>\n",
       "      <th>13665</th>\n",
       "      <td>-117.31</td>\n",
       "      <td>34.02</td>\n",
       "      <td>18.0</td>\n",
       "      <td>285.0</td>\n",
       "      <td>5.2139</td>\n",
       "      <td>129300.0</td>\n",
       "      <td>INLAND</td>\n",
       "      <td>5.733333</td>\n",
       "      <td>0.961404</td>\n",
       "      <td>3.154386</td>\n",
       "    </tr>\n",
       "    <tr>\n",
       "      <th>14471</th>\n",
       "      <td>-117.23</td>\n",
       "      <td>32.88</td>\n",
       "      <td>18.0</td>\n",
       "      <td>1458.0</td>\n",
       "      <td>1.8580</td>\n",
       "      <td>205000.0</td>\n",
       "      <td>NEAR OCEAN</td>\n",
       "      <td>3.817558</td>\n",
       "      <td>1.004801</td>\n",
       "      <td>4.323045</td>\n",
       "    </tr>\n",
       "    <tr>\n",
       "      <th>...</th>\n",
       "      <td>...</td>\n",
       "      <td>...</td>\n",
       "      <td>...</td>\n",
       "      <td>...</td>\n",
       "      <td>...</td>\n",
       "      <td>...</td>\n",
       "      <td>...</td>\n",
       "      <td>...</td>\n",
       "      <td>...</td>\n",
       "      <td>...</td>\n",
       "    </tr>\n",
       "    <tr>\n",
       "      <th>7763</th>\n",
       "      <td>-118.10</td>\n",
       "      <td>33.91</td>\n",
       "      <td>36.0</td>\n",
       "      <td>130.0</td>\n",
       "      <td>3.6389</td>\n",
       "      <td>167600.0</td>\n",
       "      <td>&lt;1H OCEAN</td>\n",
       "      <td>5.584615</td>\n",
       "      <td>NaN</td>\n",
       "      <td>3.769231</td>\n",
       "    </tr>\n",
       "    <tr>\n",
       "      <th>15377</th>\n",
       "      <td>-117.24</td>\n",
       "      <td>33.37</td>\n",
       "      <td>14.0</td>\n",
       "      <td>779.0</td>\n",
       "      <td>4.5391</td>\n",
       "      <td>180900.0</td>\n",
       "      <td>&lt;1H OCEAN</td>\n",
       "      <td>6.016688</td>\n",
       "      <td>1.017972</td>\n",
       "      <td>3.127086</td>\n",
       "    </tr>\n",
       "    <tr>\n",
       "      <th>17730</th>\n",
       "      <td>-121.76</td>\n",
       "      <td>37.33</td>\n",
       "      <td>5.0</td>\n",
       "      <td>697.0</td>\n",
       "      <td>5.6306</td>\n",
       "      <td>286200.0</td>\n",
       "      <td>&lt;1H OCEAN</td>\n",
       "      <td>5.958393</td>\n",
       "      <td>1.031564</td>\n",
       "      <td>3.493544</td>\n",
       "    </tr>\n",
       "    <tr>\n",
       "      <th>15725</th>\n",
       "      <td>-122.44</td>\n",
       "      <td>37.78</td>\n",
       "      <td>44.0</td>\n",
       "      <td>326.0</td>\n",
       "      <td>3.8750</td>\n",
       "      <td>412500.0</td>\n",
       "      <td>NEAR BAY</td>\n",
       "      <td>4.739264</td>\n",
       "      <td>1.024540</td>\n",
       "      <td>1.720859</td>\n",
       "    </tr>\n",
       "    <tr>\n",
       "      <th>19966</th>\n",
       "      <td>-119.08</td>\n",
       "      <td>36.21</td>\n",
       "      <td>20.0</td>\n",
       "      <td>348.0</td>\n",
       "      <td>2.5156</td>\n",
       "      <td>59300.0</td>\n",
       "      <td>INLAND</td>\n",
       "      <td>5.491379</td>\n",
       "      <td>1.117816</td>\n",
       "      <td>3.566092</td>\n",
       "    </tr>\n",
       "  </tbody>\n",
       "</table>\n",
       "<p>18576 rows × 10 columns</p>\n",
       "</div>"
      ],
      "text/plain": [
       "       longitude  latitude  housing_median_age  households  median_income  \\\n",
       "6051     -117.75     34.04                22.0       602.0         3.1250   \n",
       "20113    -119.57     37.94                17.0        20.0         3.4861   \n",
       "14289    -117.13     32.74                46.0       708.0         2.6604   \n",
       "13665    -117.31     34.02                18.0       285.0         5.2139   \n",
       "14471    -117.23     32.88                18.0      1458.0         1.8580   \n",
       "...          ...       ...                 ...         ...            ...   \n",
       "7763     -118.10     33.91                36.0       130.0         3.6389   \n",
       "15377    -117.24     33.37                14.0       779.0         4.5391   \n",
       "17730    -121.76     37.33                 5.0       697.0         5.6306   \n",
       "15725    -122.44     37.78                44.0       326.0         3.8750   \n",
       "19966    -119.08     36.21                20.0       348.0         2.5156   \n",
       "\n",
       "       median_house_value ocean_proximity  rooms_per_household  \\\n",
       "6051             113600.0          INLAND             4.897010   \n",
       "20113            137500.0          INLAND            17.300000   \n",
       "14289            170100.0      NEAR OCEAN             4.738701   \n",
       "13665            129300.0          INLAND             5.733333   \n",
       "14471            205000.0      NEAR OCEAN             3.817558   \n",
       "...                   ...             ...                  ...   \n",
       "7763             167600.0       <1H OCEAN             5.584615   \n",
       "15377            180900.0       <1H OCEAN             6.016688   \n",
       "17730            286200.0       <1H OCEAN             5.958393   \n",
       "15725            412500.0        NEAR BAY             4.739264   \n",
       "19966             59300.0          INLAND             5.491379   \n",
       "\n",
       "       bedrooms_per_household  population_per_household  \n",
       "6051                 1.056478                  4.318937  \n",
       "20113                6.500000                  2.550000  \n",
       "14289                1.084746                  2.057910  \n",
       "13665                0.961404                  3.154386  \n",
       "14471                1.004801                  4.323045  \n",
       "...                       ...                       ...  \n",
       "7763                      NaN                  3.769231  \n",
       "15377                1.017972                  3.127086  \n",
       "17730                1.031564                  3.493544  \n",
       "15725                1.024540                  1.720859  \n",
       "19966                1.117816                  3.566092  \n",
       "\n",
       "[18576 rows x 10 columns]"
      ]
     },
     "execution_count": 41,
     "metadata": {},
     "output_type": "execute_result"
    }
   ],
   "source": [
    "train_df = train_df.assign(rooms_per_household = train_df[\"total_rooms\"]/train_df[\"households\"],\n",
    "                           bedrooms_per_household = train_df[\"total_bedrooms\"]/train_df[\"households\"],\n",
    "                           population_per_household = train_df[\"population\"]/train_df[\"households\"])\n",
    "\n",
    "test_df = test_df.assign(rooms_per_household = test_df[\"total_rooms\"]/test_df[\"households\"],\n",
    "                         bedrooms_per_household = test_df[\"total_bedrooms\"]/test_df[\"households\"],\n",
    "                         population_per_household = test_df[\"population\"]/test_df[\"households\"])\n",
    "\n",
    "train_df = train_df.drop(columns=['total_rooms', 'total_bedrooms', 'population'])  \n",
    "test_df = test_df.drop(columns=['total_rooms', 'total_bedrooms', 'population']) \n",
    "\n",
    "train_df"
   ]
  },
  {
   "cell_type": "markdown",
   "metadata": {},
   "source": [
    "### When is it OK process the data before splitting of the test portion? \n",
    "\n",
    "- Here it would have been OK to add new features before splitting because we are not using any global information in the data but only looking at one row at a time. \n",
    "- But just to be safe and to avoid accidentally breaking the golden rule, it's better to do it after splitting. "
   ]
  },
  {
   "cell_type": "markdown",
   "metadata": {},
   "source": [
    "## Preprocessing: Imputation \n",
    "\n",
    "Imputation is handling missing values in our data so let's explore this a little. \n",
    "\n",
    "We can `.info()` we can we all the different column dtypes and also all the number of null values."
   ]
  },
  {
   "cell_type": "code",
   "execution_count": 42,
   "metadata": {},
   "outputs": [
    {
     "name": "stdout",
     "output_type": "stream",
     "text": [
      "<class 'pandas.core.frame.DataFrame'>\n",
      "Int64Index: 18576 entries, 6051 to 19966\n",
      "Data columns (total 10 columns):\n",
      " #   Column                    Non-Null Count  Dtype  \n",
      "---  ------                    --------------  -----  \n",
      " 0   longitude                 18576 non-null  float64\n",
      " 1   latitude                  18576 non-null  float64\n",
      " 2   housing_median_age        18576 non-null  float64\n",
      " 3   households                18576 non-null  float64\n",
      " 4   median_income             18576 non-null  float64\n",
      " 5   median_house_value        18576 non-null  float64\n",
      " 6   ocean_proximity           18576 non-null  object \n",
      " 7   rooms_per_household       18576 non-null  float64\n",
      " 8   bedrooms_per_household    18391 non-null  float64\n",
      " 9   population_per_household  18576 non-null  float64\n",
      "dtypes: float64(9), object(1)\n",
      "memory usage: 1.6+ MB\n"
     ]
    }
   ],
   "source": [
    "train_df.info()"
   ]
  },
  {
   "cell_type": "markdown",
   "metadata": {},
   "source": [
    "We see that we have all columns with dtype `float64` except for `ocean_proximity` which appears categorical.\n",
    "\n",
    "We also notice that the `bedrooms_per_household` column appears to have some `Non-Null` rows (ie missing values). "
   ]
  },
  {
   "cell_type": "code",
   "execution_count": 43,
   "metadata": {},
   "outputs": [
    {
     "data": {
      "text/plain": [
       "185"
      ]
     },
     "execution_count": 43,
     "metadata": {},
     "output_type": "execute_result"
    }
   ],
   "source": [
    "train_df[\"bedrooms_per_household\"].isnull().sum()"
   ]
  },
  {
   "cell_type": "markdown",
   "metadata": {},
   "source": [
    "Knowing this information let's build a model. \n",
    "\n",
    "When we create our feature table and target objects, we are going to drop the categorical variable `ocean_proximity`.  Currently, we don't know how to build models with categorical data, but we will shortly. We will return to this column soon. "
   ]
  },
  {
   "cell_type": "code",
   "execution_count": 44,
   "metadata": {},
   "outputs": [],
   "source": [
    "X_train = train_df.drop(columns=[\"median_house_value\", \"ocean_proximity\"])\n",
    "y_train = train_df[\"median_house_value\"]\n",
    "\n",
    "X_test = test_df.drop(columns=[\"median_house_value\", \"ocean_proximity\"])\n",
    "y_test = test_df[\"median_house_value\"]\n",
    "\n",
    "knn = KNeighborsRegressor()"
   ]
  },
  {
   "cell_type": "markdown",
   "metadata": {},
   "source": [
    "What happens when we try to fit our model with this data?"
   ]
  },
  {
   "cell_type": "code",
   "execution_count": 45,
   "metadata": {},
   "outputs": [
    {
     "ename": "ValueError",
     "evalue": "Input contains NaN, infinity or a value too large for dtype('float64').",
     "output_type": "error",
     "traceback": [
      "\u001b[0;31m---------------------------------------------------------------------------\u001b[0m",
      "\u001b[0;31mValueError\u001b[0m                                Traceback (most recent call last)",
      "\u001b[0;32m/tmp/ipykernel_701289/131641130.py\u001b[0m in \u001b[0;36m<module>\u001b[0;34m\u001b[0m\n\u001b[0;32m----> 1\u001b[0;31m \u001b[0mknn\u001b[0m\u001b[0;34m.\u001b[0m\u001b[0mfit\u001b[0m\u001b[0;34m(\u001b[0m\u001b[0mX_train\u001b[0m\u001b[0;34m,\u001b[0m \u001b[0my_train\u001b[0m\u001b[0;34m)\u001b[0m\u001b[0;34m\u001b[0m\u001b[0;34m\u001b[0m\u001b[0m\n\u001b[0m",
      "\u001b[0;32m~/miniconda3/envs/bait/lib/python3.9/site-packages/sklearn/neighbors/_regression.py\u001b[0m in \u001b[0;36mfit\u001b[0;34m(self, X, y)\u001b[0m\n\u001b[1;32m    211\u001b[0m         \u001b[0mself\u001b[0m\u001b[0;34m.\u001b[0m\u001b[0mweights\u001b[0m \u001b[0;34m=\u001b[0m \u001b[0m_check_weights\u001b[0m\u001b[0;34m(\u001b[0m\u001b[0mself\u001b[0m\u001b[0;34m.\u001b[0m\u001b[0mweights\u001b[0m\u001b[0;34m)\u001b[0m\u001b[0;34m\u001b[0m\u001b[0;34m\u001b[0m\u001b[0m\n\u001b[1;32m    212\u001b[0m \u001b[0;34m\u001b[0m\u001b[0m\n\u001b[0;32m--> 213\u001b[0;31m         \u001b[0;32mreturn\u001b[0m \u001b[0mself\u001b[0m\u001b[0;34m.\u001b[0m\u001b[0m_fit\u001b[0m\u001b[0;34m(\u001b[0m\u001b[0mX\u001b[0m\u001b[0;34m,\u001b[0m \u001b[0my\u001b[0m\u001b[0;34m)\u001b[0m\u001b[0;34m\u001b[0m\u001b[0;34m\u001b[0m\u001b[0m\n\u001b[0m\u001b[1;32m    214\u001b[0m \u001b[0;34m\u001b[0m\u001b[0m\n\u001b[1;32m    215\u001b[0m     \u001b[0;32mdef\u001b[0m \u001b[0mpredict\u001b[0m\u001b[0;34m(\u001b[0m\u001b[0mself\u001b[0m\u001b[0;34m,\u001b[0m \u001b[0mX\u001b[0m\u001b[0;34m)\u001b[0m\u001b[0;34m:\u001b[0m\u001b[0;34m\u001b[0m\u001b[0;34m\u001b[0m\u001b[0m\n",
      "\u001b[0;32m~/miniconda3/envs/bait/lib/python3.9/site-packages/sklearn/neighbors/_base.py\u001b[0m in \u001b[0;36m_fit\u001b[0;34m(self, X, y)\u001b[0m\n\u001b[1;32m    398\u001b[0m         \u001b[0;32mif\u001b[0m \u001b[0mself\u001b[0m\u001b[0;34m.\u001b[0m\u001b[0m_get_tags\u001b[0m\u001b[0;34m(\u001b[0m\u001b[0;34m)\u001b[0m\u001b[0;34m[\u001b[0m\u001b[0;34m\"requires_y\"\u001b[0m\u001b[0;34m]\u001b[0m\u001b[0;34m:\u001b[0m\u001b[0;34m\u001b[0m\u001b[0;34m\u001b[0m\u001b[0m\n\u001b[1;32m    399\u001b[0m             \u001b[0;32mif\u001b[0m \u001b[0;32mnot\u001b[0m \u001b[0misinstance\u001b[0m\u001b[0;34m(\u001b[0m\u001b[0mX\u001b[0m\u001b[0;34m,\u001b[0m \u001b[0;34m(\u001b[0m\u001b[0mKDTree\u001b[0m\u001b[0;34m,\u001b[0m \u001b[0mBallTree\u001b[0m\u001b[0;34m,\u001b[0m \u001b[0mNeighborsBase\u001b[0m\u001b[0;34m)\u001b[0m\u001b[0;34m)\u001b[0m\u001b[0;34m:\u001b[0m\u001b[0;34m\u001b[0m\u001b[0;34m\u001b[0m\u001b[0m\n\u001b[0;32m--> 400\u001b[0;31m                 \u001b[0mX\u001b[0m\u001b[0;34m,\u001b[0m \u001b[0my\u001b[0m \u001b[0;34m=\u001b[0m \u001b[0mself\u001b[0m\u001b[0;34m.\u001b[0m\u001b[0m_validate_data\u001b[0m\u001b[0;34m(\u001b[0m\u001b[0mX\u001b[0m\u001b[0;34m,\u001b[0m \u001b[0my\u001b[0m\u001b[0;34m,\u001b[0m \u001b[0maccept_sparse\u001b[0m\u001b[0;34m=\u001b[0m\u001b[0;34m\"csr\"\u001b[0m\u001b[0;34m,\u001b[0m \u001b[0mmulti_output\u001b[0m\u001b[0;34m=\u001b[0m\u001b[0;32mTrue\u001b[0m\u001b[0;34m)\u001b[0m\u001b[0;34m\u001b[0m\u001b[0;34m\u001b[0m\u001b[0m\n\u001b[0m\u001b[1;32m    401\u001b[0m \u001b[0;34m\u001b[0m\u001b[0m\n\u001b[1;32m    402\u001b[0m             \u001b[0;32mif\u001b[0m \u001b[0mis_classifier\u001b[0m\u001b[0;34m(\u001b[0m\u001b[0mself\u001b[0m\u001b[0;34m)\u001b[0m\u001b[0;34m:\u001b[0m\u001b[0;34m\u001b[0m\u001b[0;34m\u001b[0m\u001b[0m\n",
      "\u001b[0;32m~/miniconda3/envs/bait/lib/python3.9/site-packages/sklearn/base.py\u001b[0m in \u001b[0;36m_validate_data\u001b[0;34m(self, X, y, reset, validate_separately, **check_params)\u001b[0m\n\u001b[1;32m    579\u001b[0m                 \u001b[0my\u001b[0m \u001b[0;34m=\u001b[0m \u001b[0mcheck_array\u001b[0m\u001b[0;34m(\u001b[0m\u001b[0my\u001b[0m\u001b[0;34m,\u001b[0m \u001b[0;34m**\u001b[0m\u001b[0mcheck_y_params\u001b[0m\u001b[0;34m)\u001b[0m\u001b[0;34m\u001b[0m\u001b[0;34m\u001b[0m\u001b[0m\n\u001b[1;32m    580\u001b[0m             \u001b[0;32melse\u001b[0m\u001b[0;34m:\u001b[0m\u001b[0;34m\u001b[0m\u001b[0;34m\u001b[0m\u001b[0m\n\u001b[0;32m--> 581\u001b[0;31m                 \u001b[0mX\u001b[0m\u001b[0;34m,\u001b[0m \u001b[0my\u001b[0m \u001b[0;34m=\u001b[0m \u001b[0mcheck_X_y\u001b[0m\u001b[0;34m(\u001b[0m\u001b[0mX\u001b[0m\u001b[0;34m,\u001b[0m \u001b[0my\u001b[0m\u001b[0;34m,\u001b[0m \u001b[0;34m**\u001b[0m\u001b[0mcheck_params\u001b[0m\u001b[0;34m)\u001b[0m\u001b[0;34m\u001b[0m\u001b[0;34m\u001b[0m\u001b[0m\n\u001b[0m\u001b[1;32m    582\u001b[0m             \u001b[0mout\u001b[0m \u001b[0;34m=\u001b[0m \u001b[0mX\u001b[0m\u001b[0;34m,\u001b[0m \u001b[0my\u001b[0m\u001b[0;34m\u001b[0m\u001b[0;34m\u001b[0m\u001b[0m\n\u001b[1;32m    583\u001b[0m \u001b[0;34m\u001b[0m\u001b[0m\n",
      "\u001b[0;32m~/miniconda3/envs/bait/lib/python3.9/site-packages/sklearn/utils/validation.py\u001b[0m in \u001b[0;36mcheck_X_y\u001b[0;34m(X, y, accept_sparse, accept_large_sparse, dtype, order, copy, force_all_finite, ensure_2d, allow_nd, multi_output, ensure_min_samples, ensure_min_features, y_numeric, estimator)\u001b[0m\n\u001b[1;32m    962\u001b[0m         \u001b[0;32mraise\u001b[0m \u001b[0mValueError\u001b[0m\u001b[0;34m(\u001b[0m\u001b[0;34m\"y cannot be None\"\u001b[0m\u001b[0;34m)\u001b[0m\u001b[0;34m\u001b[0m\u001b[0;34m\u001b[0m\u001b[0m\n\u001b[1;32m    963\u001b[0m \u001b[0;34m\u001b[0m\u001b[0m\n\u001b[0;32m--> 964\u001b[0;31m     X = check_array(\n\u001b[0m\u001b[1;32m    965\u001b[0m         \u001b[0mX\u001b[0m\u001b[0;34m,\u001b[0m\u001b[0;34m\u001b[0m\u001b[0;34m\u001b[0m\u001b[0m\n\u001b[1;32m    966\u001b[0m         \u001b[0maccept_sparse\u001b[0m\u001b[0;34m=\u001b[0m\u001b[0maccept_sparse\u001b[0m\u001b[0;34m,\u001b[0m\u001b[0;34m\u001b[0m\u001b[0;34m\u001b[0m\u001b[0m\n",
      "\u001b[0;32m~/miniconda3/envs/bait/lib/python3.9/site-packages/sklearn/utils/validation.py\u001b[0m in \u001b[0;36mcheck_array\u001b[0;34m(array, accept_sparse, accept_large_sparse, dtype, order, copy, force_all_finite, ensure_2d, allow_nd, ensure_min_samples, ensure_min_features, estimator)\u001b[0m\n\u001b[1;32m    798\u001b[0m \u001b[0;34m\u001b[0m\u001b[0m\n\u001b[1;32m    799\u001b[0m         \u001b[0;32mif\u001b[0m \u001b[0mforce_all_finite\u001b[0m\u001b[0;34m:\u001b[0m\u001b[0;34m\u001b[0m\u001b[0;34m\u001b[0m\u001b[0m\n\u001b[0;32m--> 800\u001b[0;31m             \u001b[0m_assert_all_finite\u001b[0m\u001b[0;34m(\u001b[0m\u001b[0marray\u001b[0m\u001b[0;34m,\u001b[0m \u001b[0mallow_nan\u001b[0m\u001b[0;34m=\u001b[0m\u001b[0mforce_all_finite\u001b[0m \u001b[0;34m==\u001b[0m \u001b[0;34m\"allow-nan\"\u001b[0m\u001b[0;34m)\u001b[0m\u001b[0;34m\u001b[0m\u001b[0;34m\u001b[0m\u001b[0m\n\u001b[0m\u001b[1;32m    801\u001b[0m \u001b[0;34m\u001b[0m\u001b[0m\n\u001b[1;32m    802\u001b[0m     \u001b[0;32mif\u001b[0m \u001b[0mensure_min_samples\u001b[0m \u001b[0;34m>\u001b[0m \u001b[0;36m0\u001b[0m\u001b[0;34m:\u001b[0m\u001b[0;34m\u001b[0m\u001b[0;34m\u001b[0m\u001b[0m\n",
      "\u001b[0;32m~/miniconda3/envs/bait/lib/python3.9/site-packages/sklearn/utils/validation.py\u001b[0m in \u001b[0;36m_assert_all_finite\u001b[0;34m(X, allow_nan, msg_dtype)\u001b[0m\n\u001b[1;32m    112\u001b[0m         ):\n\u001b[1;32m    113\u001b[0m             \u001b[0mtype_err\u001b[0m \u001b[0;34m=\u001b[0m \u001b[0;34m\"infinity\"\u001b[0m \u001b[0;32mif\u001b[0m \u001b[0mallow_nan\u001b[0m \u001b[0;32melse\u001b[0m \u001b[0;34m\"NaN, infinity\"\u001b[0m\u001b[0;34m\u001b[0m\u001b[0;34m\u001b[0m\u001b[0m\n\u001b[0;32m--> 114\u001b[0;31m             raise ValueError(\n\u001b[0m\u001b[1;32m    115\u001b[0m                 msg_err.format(\n\u001b[1;32m    116\u001b[0m                     \u001b[0mtype_err\u001b[0m\u001b[0;34m,\u001b[0m \u001b[0mmsg_dtype\u001b[0m \u001b[0;32mif\u001b[0m \u001b[0mmsg_dtype\u001b[0m \u001b[0;32mis\u001b[0m \u001b[0;32mnot\u001b[0m \u001b[0;32mNone\u001b[0m \u001b[0;32melse\u001b[0m \u001b[0mX\u001b[0m\u001b[0;34m.\u001b[0m\u001b[0mdtype\u001b[0m\u001b[0;34m\u001b[0m\u001b[0;34m\u001b[0m\u001b[0m\n",
      "\u001b[0;31mValueError\u001b[0m: Input contains NaN, infinity or a value too large for dtype('float64')."
     ]
    }
   ],
   "source": [
    "knn.fit(X_train, y_train)"
   ]
  },
  {
   "cell_type": "markdown",
   "metadata": {},
   "source": [
    "> `Input contains NaN, infinity or a value too large for dtype('float64').`\n",
    "\n",
    "The classifier can't deal with missing values (NaNs).\n",
    "\n",
    "How can we deal with this problem? "
   ]
  },
  {
   "cell_type": "markdown",
   "metadata": {},
   "source": [
    "### Why we don't drop the rows \n",
    "\n",
    "We could drop any rows that are missing information but that's problematic too. \n",
    "\n",
    "Then we would need to do the same in our test set.\n",
    "\n",
    "And what happens if we get missing values in our deployment data? what then?\n",
    "\n",
    "Furthermore, what if the missing values don't occur at random and we're systematically dropping certain data?\n",
    "Perhaps a certain type of house contributes to more missing values. \n",
    "\n",
    "Dropping the rows is not a great solution, especially if there's a lot of missing values."
   ]
  },
  {
   "cell_type": "code",
   "execution_count": 46,
   "metadata": {},
   "outputs": [
    {
     "data": {
      "text/plain": [
       "(18576, 8)"
      ]
     },
     "execution_count": 46,
     "metadata": {},
     "output_type": "execute_result"
    }
   ],
   "source": [
    "X_train.shape"
   ]
  },
  {
   "cell_type": "code",
   "execution_count": 47,
   "metadata": {},
   "outputs": [
    {
     "data": {
      "text/plain": [
       "(18391, 8)"
      ]
     },
     "execution_count": 47,
     "metadata": {},
     "output_type": "execute_result"
    }
   ],
   "source": [
    "X_train_no_nan = X_train.dropna()\n",
    "X_train_no_nan.shape"
   ]
  },
  {
   "cell_type": "markdown",
   "metadata": {},
   "source": [
    "### Why we don't drop the column \n",
    "\n",
    "If we drop the column instead of the rows, we are throwing away, in this case, 18391 values just because we don't have 185 missing values out of a total of 18567. \n",
    "\n",
    "We are throwing away 99% of the column’s data because we are missing 1%.\n",
    "\n",
    "But perhaps if we were missing 99.9% of the column values, for example, it would make more sense to drop the column.\n"
   ]
  },
  {
   "cell_type": "code",
   "execution_count": 48,
   "metadata": {},
   "outputs": [
    {
     "data": {
      "text/plain": [
       "(18576, 8)"
      ]
     },
     "execution_count": 48,
     "metadata": {},
     "output_type": "execute_result"
    }
   ],
   "source": [
    "X_train.shape"
   ]
  },
  {
   "cell_type": "code",
   "execution_count": 49,
   "metadata": {},
   "outputs": [
    {
     "data": {
      "text/plain": [
       "(18576, 7)"
      ]
     },
     "execution_count": 49,
     "metadata": {},
     "output_type": "execute_result"
    }
   ],
   "source": [
    "X_train_no_col = X_train.dropna(axis=1)\n",
    "X_train_no_col.shape"
   ]
  },
  {
   "cell_type": "markdown",
   "metadata": {},
   "source": [
    "### Why we use imputation \n",
    "\n",
    "With **Imputation**, we invent values for the missing data.\n",
    "\n",
    "Using `sklearn`'s **transformer** `SimpleImputer`, we can impute the `NaN` values in the data with some value. "
   ]
  },
  {
   "cell_type": "code",
   "execution_count": 50,
   "metadata": {},
   "outputs": [],
   "source": [
    "from sklearn.impute import SimpleImputer"
   ]
  },
  {
   "cell_type": "markdown",
   "metadata": {},
   "source": [
    "We can impute missing values in:\n",
    "\n",
    "- **Categorical columns**: \n",
    "    - with the most frequent value \n",
    "    - with a constant of our choosing.\n",
    "- **Numeric columns**: \n",
    "    - with the mean  of the column\n",
    "    - with the median of the column \n",
    "    - or a constant of our choosing."
   ]
  },
  {
   "cell_type": "markdown",
   "metadata": {},
   "source": [
    "If I sort the values by `bedrooms_per_household` and look at the end of the dataframe, we can see our missing values in the `bedrooms_per_household` column. \n",
    "\n",
    "Pay close attention to index 7763 since we are going to look at this row after imputation. "
   ]
  },
  {
   "cell_type": "code",
   "execution_count": 51,
   "metadata": {},
   "outputs": [
    {
     "data": {
      "text/html": [
       "<div>\n",
       "<style scoped>\n",
       "    .dataframe tbody tr th:only-of-type {\n",
       "        vertical-align: middle;\n",
       "    }\n",
       "\n",
       "    .dataframe tbody tr th {\n",
       "        vertical-align: top;\n",
       "    }\n",
       "\n",
       "    .dataframe thead th {\n",
       "        text-align: right;\n",
       "    }\n",
       "</style>\n",
       "<table border=\"1\" class=\"dataframe\">\n",
       "  <thead>\n",
       "    <tr style=\"text-align: right;\">\n",
       "      <th></th>\n",
       "      <th>longitude</th>\n",
       "      <th>latitude</th>\n",
       "      <th>housing_median_age</th>\n",
       "      <th>households</th>\n",
       "      <th>median_income</th>\n",
       "      <th>rooms_per_household</th>\n",
       "      <th>bedrooms_per_household</th>\n",
       "      <th>population_per_household</th>\n",
       "    </tr>\n",
       "  </thead>\n",
       "  <tbody>\n",
       "    <tr>\n",
       "      <th>18786</th>\n",
       "      <td>-122.42</td>\n",
       "      <td>40.44</td>\n",
       "      <td>16.0</td>\n",
       "      <td>181.0</td>\n",
       "      <td>2.1875</td>\n",
       "      <td>5.491713</td>\n",
       "      <td>NaN</td>\n",
       "      <td>2.734807</td>\n",
       "    </tr>\n",
       "    <tr>\n",
       "      <th>17923</th>\n",
       "      <td>-121.97</td>\n",
       "      <td>37.35</td>\n",
       "      <td>30.0</td>\n",
       "      <td>386.0</td>\n",
       "      <td>4.6328</td>\n",
       "      <td>5.064767</td>\n",
       "      <td>NaN</td>\n",
       "      <td>2.588083</td>\n",
       "    </tr>\n",
       "    <tr>\n",
       "      <th>16880</th>\n",
       "      <td>-122.39</td>\n",
       "      <td>37.59</td>\n",
       "      <td>32.0</td>\n",
       "      <td>715.0</td>\n",
       "      <td>6.1323</td>\n",
       "      <td>6.289510</td>\n",
       "      <td>NaN</td>\n",
       "      <td>2.581818</td>\n",
       "    </tr>\n",
       "    <tr>\n",
       "      <th>4309</th>\n",
       "      <td>-118.32</td>\n",
       "      <td>34.09</td>\n",
       "      <td>44.0</td>\n",
       "      <td>726.0</td>\n",
       "      <td>1.6760</td>\n",
       "      <td>3.672176</td>\n",
       "      <td>NaN</td>\n",
       "      <td>3.163912</td>\n",
       "    </tr>\n",
       "    <tr>\n",
       "      <th>538</th>\n",
       "      <td>-122.28</td>\n",
       "      <td>37.78</td>\n",
       "      <td>29.0</td>\n",
       "      <td>1273.0</td>\n",
       "      <td>2.5762</td>\n",
       "      <td>4.048704</td>\n",
       "      <td>NaN</td>\n",
       "      <td>2.938727</td>\n",
       "    </tr>\n",
       "    <tr>\n",
       "      <th>4591</th>\n",
       "      <td>-118.28</td>\n",
       "      <td>34.06</td>\n",
       "      <td>42.0</td>\n",
       "      <td>1179.0</td>\n",
       "      <td>1.2254</td>\n",
       "      <td>2.096692</td>\n",
       "      <td>NaN</td>\n",
       "      <td>3.218830</td>\n",
       "    </tr>\n",
       "    <tr>\n",
       "      <th>19485</th>\n",
       "      <td>-120.98</td>\n",
       "      <td>37.66</td>\n",
       "      <td>10.0</td>\n",
       "      <td>255.0</td>\n",
       "      <td>0.9336</td>\n",
       "      <td>3.662745</td>\n",
       "      <td>NaN</td>\n",
       "      <td>1.572549</td>\n",
       "    </tr>\n",
       "    <tr>\n",
       "      <th>6962</th>\n",
       "      <td>-118.05</td>\n",
       "      <td>33.99</td>\n",
       "      <td>38.0</td>\n",
       "      <td>357.0</td>\n",
       "      <td>3.7328</td>\n",
       "      <td>4.535014</td>\n",
       "      <td>NaN</td>\n",
       "      <td>2.481793</td>\n",
       "    </tr>\n",
       "    <tr>\n",
       "      <th>14970</th>\n",
       "      <td>-117.01</td>\n",
       "      <td>32.74</td>\n",
       "      <td>31.0</td>\n",
       "      <td>677.0</td>\n",
       "      <td>2.6973</td>\n",
       "      <td>5.129985</td>\n",
       "      <td>NaN</td>\n",
       "      <td>3.098966</td>\n",
       "    </tr>\n",
       "    <tr>\n",
       "      <th>7763</th>\n",
       "      <td>-118.10</td>\n",
       "      <td>33.91</td>\n",
       "      <td>36.0</td>\n",
       "      <td>130.0</td>\n",
       "      <td>3.6389</td>\n",
       "      <td>5.584615</td>\n",
       "      <td>NaN</td>\n",
       "      <td>3.769231</td>\n",
       "    </tr>\n",
       "  </tbody>\n",
       "</table>\n",
       "</div>"
      ],
      "text/plain": [
       "       longitude  latitude  housing_median_age  households  median_income  \\\n",
       "18786    -122.42     40.44                16.0       181.0         2.1875   \n",
       "17923    -121.97     37.35                30.0       386.0         4.6328   \n",
       "16880    -122.39     37.59                32.0       715.0         6.1323   \n",
       "4309     -118.32     34.09                44.0       726.0         1.6760   \n",
       "538      -122.28     37.78                29.0      1273.0         2.5762   \n",
       "4591     -118.28     34.06                42.0      1179.0         1.2254   \n",
       "19485    -120.98     37.66                10.0       255.0         0.9336   \n",
       "6962     -118.05     33.99                38.0       357.0         3.7328   \n",
       "14970    -117.01     32.74                31.0       677.0         2.6973   \n",
       "7763     -118.10     33.91                36.0       130.0         3.6389   \n",
       "\n",
       "       rooms_per_household  bedrooms_per_household  population_per_household  \n",
       "18786             5.491713                     NaN                  2.734807  \n",
       "17923             5.064767                     NaN                  2.588083  \n",
       "16880             6.289510                     NaN                  2.581818  \n",
       "4309              3.672176                     NaN                  3.163912  \n",
       "538               4.048704                     NaN                  2.938727  \n",
       "4591              2.096692                     NaN                  3.218830  \n",
       "19485             3.662745                     NaN                  1.572549  \n",
       "6962              4.535014                     NaN                  2.481793  \n",
       "14970             5.129985                     NaN                  3.098966  \n",
       "7763              5.584615                     NaN                  3.769231  "
      ]
     },
     "execution_count": 51,
     "metadata": {},
     "output_type": "execute_result"
    }
   ],
   "source": [
    "X_train.sort_values('bedrooms_per_household').tail(10)"
   ]
  },
  {
   "cell_type": "markdown",
   "metadata": {},
   "source": [
    "Using the same `fit` and `transform` syntax we saw earlier for transformers, we can impute the `NaN` values. \n",
    "\n",
    "Here we specify `strategy=\"median\"` which replaces all the missing values with the column median. \n",
    "\n",
    "We fit on the training data and transform it on the train and test splits. \n"
   ]
  },
  {
   "cell_type": "code",
   "execution_count": 52,
   "metadata": {},
   "outputs": [],
   "source": [
    "imputer = SimpleImputer(strategy=\"median\")\n",
    "imputer.fit(X_train);\n",
    "X_train_imp = imputer.transform(X_train)\n",
    "X_test_imp = imputer.transform(X_test)"
   ]
  },
  {
   "cell_type": "code",
   "execution_count": 53,
   "metadata": {},
   "outputs": [
    {
     "data": {
      "text/plain": [
       "array([[-117.75      ,   34.04      ,   22.        , ...,    4.89700997,\n",
       "           1.05647841,    4.31893688],\n",
       "       [-119.57      ,   37.94      ,   17.        , ...,   17.3       ,\n",
       "           6.5       ,    2.55      ],\n",
       "       [-117.13      ,   32.74      ,   46.        , ...,    4.73870056,\n",
       "           1.08474576,    2.0579096 ],\n",
       "       ...,\n",
       "       [-121.76      ,   37.33      ,    5.        , ...,    5.95839311,\n",
       "           1.03156385,    3.49354376],\n",
       "       [-122.44      ,   37.78      ,   44.        , ...,    4.7392638 ,\n",
       "           1.02453988,    1.7208589 ],\n",
       "       [-119.08      ,   36.21      ,   20.        , ...,    5.49137931,\n",
       "           1.11781609,    3.56609195]])"
      ]
     },
     "execution_count": 53,
     "metadata": {},
     "output_type": "execute_result"
    }
   ],
   "source": [
    "X_train_imp"
   ]
  },
  {
   "cell_type": "markdown",
   "metadata": {},
   "source": [
    "Ok, the output of this isn't a dataframe but a NumPy array! \n",
    "\n",
    "I can do a bit of wrangling here to take a look at this new array with our previous column labels and as a dataframe. \n",
    "\n",
    "If I search for our index 7763 which previously contained a `NaN` value, we can see that now I have the median value for the `bedrooms_per_household` column from the `X_train` dataframe. "
   ]
  },
  {
   "cell_type": "code",
   "execution_count": 54,
   "metadata": {},
   "outputs": [
    {
     "data": {
      "text/html": [
       "<div>\n",
       "<style scoped>\n",
       "    .dataframe tbody tr th:only-of-type {\n",
       "        vertical-align: middle;\n",
       "    }\n",
       "\n",
       "    .dataframe tbody tr th {\n",
       "        vertical-align: top;\n",
       "    }\n",
       "\n",
       "    .dataframe thead th {\n",
       "        text-align: right;\n",
       "    }\n",
       "</style>\n",
       "<table border=\"1\" class=\"dataframe\">\n",
       "  <thead>\n",
       "    <tr style=\"text-align: right;\">\n",
       "      <th></th>\n",
       "      <th>longitude</th>\n",
       "      <th>latitude</th>\n",
       "      <th>housing_median_age</th>\n",
       "      <th>households</th>\n",
       "      <th>median_income</th>\n",
       "      <th>rooms_per_household</th>\n",
       "      <th>bedrooms_per_household</th>\n",
       "      <th>population_per_household</th>\n",
       "    </tr>\n",
       "  </thead>\n",
       "  <tbody>\n",
       "    <tr>\n",
       "      <th>7763</th>\n",
       "      <td>-118.1</td>\n",
       "      <td>33.91</td>\n",
       "      <td>36.0</td>\n",
       "      <td>130.0</td>\n",
       "      <td>3.6389</td>\n",
       "      <td>5.584615</td>\n",
       "      <td>1.04886</td>\n",
       "      <td>3.769231</td>\n",
       "    </tr>\n",
       "  </tbody>\n",
       "</table>\n",
       "</div>"
      ],
      "text/plain": [
       "      longitude  latitude  housing_median_age  households  median_income  \\\n",
       "7763     -118.1     33.91                36.0       130.0         3.6389   \n",
       "\n",
       "      rooms_per_household  bedrooms_per_household  population_per_household  \n",
       "7763             5.584615                 1.04886                  3.769231  "
      ]
     },
     "execution_count": 54,
     "metadata": {},
     "output_type": "execute_result"
    }
   ],
   "source": [
    "X_train_imp_df = pd.DataFrame(X_train_imp, columns = X_train.columns, index = X_train.index)\n",
    "X_train_imp_df.loc[[7763]]"
   ]
  },
  {
   "cell_type": "code",
   "execution_count": 55,
   "metadata": {},
   "outputs": [
    {
     "data": {
      "text/plain": [
       "1.0488599348534202"
      ]
     },
     "execution_count": 55,
     "metadata": {},
     "output_type": "execute_result"
    }
   ],
   "source": [
    "X_train['bedrooms_per_household'].median()"
   ]
  },
  {
   "cell_type": "code",
   "execution_count": 56,
   "metadata": {},
   "outputs": [
    {
     "data": {
      "text/html": [
       "<div>\n",
       "<style scoped>\n",
       "    .dataframe tbody tr th:only-of-type {\n",
       "        vertical-align: middle;\n",
       "    }\n",
       "\n",
       "    .dataframe tbody tr th {\n",
       "        vertical-align: top;\n",
       "    }\n",
       "\n",
       "    .dataframe thead th {\n",
       "        text-align: right;\n",
       "    }\n",
       "</style>\n",
       "<table border=\"1\" class=\"dataframe\">\n",
       "  <thead>\n",
       "    <tr style=\"text-align: right;\">\n",
       "      <th></th>\n",
       "      <th>longitude</th>\n",
       "      <th>latitude</th>\n",
       "      <th>housing_median_age</th>\n",
       "      <th>households</th>\n",
       "      <th>median_income</th>\n",
       "      <th>rooms_per_household</th>\n",
       "      <th>bedrooms_per_household</th>\n",
       "      <th>population_per_household</th>\n",
       "    </tr>\n",
       "  </thead>\n",
       "  <tbody>\n",
       "    <tr>\n",
       "      <th>7763</th>\n",
       "      <td>-118.1</td>\n",
       "      <td>33.91</td>\n",
       "      <td>36.0</td>\n",
       "      <td>130.0</td>\n",
       "      <td>3.6389</td>\n",
       "      <td>5.584615</td>\n",
       "      <td>NaN</td>\n",
       "      <td>3.769231</td>\n",
       "    </tr>\n",
       "  </tbody>\n",
       "</table>\n",
       "</div>"
      ],
      "text/plain": [
       "      longitude  latitude  housing_median_age  households  median_income  \\\n",
       "7763     -118.1     33.91                36.0       130.0         3.6389   \n",
       "\n",
       "      rooms_per_household  bedrooms_per_household  population_per_household  \n",
       "7763             5.584615                     NaN                  3.769231  "
      ]
     },
     "execution_count": 56,
     "metadata": {},
     "output_type": "execute_result"
    }
   ],
   "source": [
    "X_train.loc[[7763]]"
   ]
  },
  {
   "cell_type": "markdown",
   "metadata": {},
   "source": [
    "Now when we try and fit our model using `X_train_imp`, it works!"
   ]
  },
  {
   "cell_type": "code",
   "execution_count": 57,
   "metadata": {},
   "outputs": [
    {
     "data": {
      "text/plain": [
       "0.5609808539232339"
      ]
     },
     "execution_count": 57,
     "metadata": {},
     "output_type": "execute_result"
    }
   ],
   "source": [
    "knn = KNeighborsRegressor()\n",
    "knn.fit(X_train_imp, y_train)\n",
    "knn.score(X_train_imp, y_train)"
   ]
  },
  {
   "cell_type": "markdown",
   "metadata": {},
   "source": [
    "### More sophisticated imputation methods\n",
    "\n",
    "Instead of using the most frequent label or an average of all the data when we impute,\n",
    "we can try to use ML-techniques also for the imputation step.\n",
    "For example,\n",
    "we can use an average value from the rows that are the most similar to observation that have a missing value,\n",
    "by first running a similarity ML-method such as kNN to determine which these rows are\n",
    "(but note that this is still sensitive to rescaling of the data).\n",
    "Instead of subsetting the data we can also use different regression methods\n",
    "to build a function that uses all the existing features to predicted what the value of the missing feature should be.\n",
    "These methods generally perform better than simple imputation that we use here,\n",
    "but they also require more careful implementation and higher computational cost.\n",
    "You can read more about them in these links:\n",
    "\n",
    "- https://scikit-learn.org/stable/modules/impute.html\n",
    "- https://scikit-learn.org/stable/auto_examples/impute/plot_iterative_imputer_variants_comparison.html#sphx-glr-auto-examples-impute-plot-iterative-imputer-variants-comparison-py\n",
    "- https://towardsdatascience.com/6-different-ways-to-compensate-for-missing-values-data-imputation-with-examples-6022d9ca0779"
   ]
  },
  {
   "cell_type": "markdown",
   "metadata": {},
   "source": [
    "## Preprocessing: Scaling \n",
    "\n",
    "So we've seen why scaling is important earlier but let's take a little bit of a closer look here. \n",
    "There are many ways to scale your data but we are going to look at 2 of them. \n",
    "\n",
    "\n",
    "![](https://amueller.github.io/COMS4995-s19/slides/aml-05-preprocessing/images/scaler_comparison_scatter.png)"
   ]
  },
  {
   "cell_type": "markdown",
   "metadata": {},
   "source": [
    " \n",
    "| Approach | What it does | How to update $X$ (but see below!) | sklearn implementation | \n",
    "|---------|------------|-----------------------|----------------|\n",
    "| normalization | sets range to $[0,1]$   | `X -= np.min(X,axis=0)`<br>`X /= np.max(X,axis=0)`  | [`MinMaxScaler()`](https://scikit-learn.org/stable/modules/generated/sklearn.preprocessing.MinMaxScaler.html)\n",
    "| standardization | sets sample mean to $0$, s.d. to $1$   | `X -= np.mean(X,axis=0)`<br>`X /=  np.std(X,axis=0)` | [`StandardScaler()`](https://scikit-learn.org/stable/modules/generated/sklearn.preprocessing.StandardScaler.html#sklearn.preprocessing.StandardScaler) |\n",
    "\n",
    "For more resources and articles on this, see [here](http://www.dataminingblog.com/standardization-vs-normalization/) and [here](https://medium.com/@rrfd/standardize-or-normalize-examples-in-python-e3f174b65dfc)."
   ]
  },
  {
   "cell_type": "markdown",
   "metadata": {},
   "source": [
    "Let's see what happens when we use each of them. "
   ]
  },
  {
   "cell_type": "code",
   "execution_count": 58,
   "metadata": {},
   "outputs": [],
   "source": [
    "from sklearn.preprocessing import MinMaxScaler, StandardScaler"
   ]
  },
  {
   "cell_type": "markdown",
   "metadata": {},
   "source": [
    "First, let's see how standardization is done first. "
   ]
  },
  {
   "cell_type": "code",
   "execution_count": 59,
   "metadata": {},
   "outputs": [
    {
     "data": {
      "text/html": [
       "<div>\n",
       "<style scoped>\n",
       "    .dataframe tbody tr th:only-of-type {\n",
       "        vertical-align: middle;\n",
       "    }\n",
       "\n",
       "    .dataframe tbody tr th {\n",
       "        vertical-align: top;\n",
       "    }\n",
       "\n",
       "    .dataframe thead th {\n",
       "        text-align: right;\n",
       "    }\n",
       "</style>\n",
       "<table border=\"1\" class=\"dataframe\">\n",
       "  <thead>\n",
       "    <tr style=\"text-align: right;\">\n",
       "      <th></th>\n",
       "      <th>longitude</th>\n",
       "      <th>latitude</th>\n",
       "      <th>housing_median_age</th>\n",
       "      <th>households</th>\n",
       "      <th>median_income</th>\n",
       "      <th>rooms_per_household</th>\n",
       "      <th>bedrooms_per_household</th>\n",
       "      <th>population_per_household</th>\n",
       "    </tr>\n",
       "  </thead>\n",
       "  <tbody>\n",
       "    <tr>\n",
       "      <th>6051</th>\n",
       "      <td>0.908140</td>\n",
       "      <td>-0.743917</td>\n",
       "      <td>-0.526078</td>\n",
       "      <td>0.266135</td>\n",
       "      <td>-0.389736</td>\n",
       "      <td>-0.210591</td>\n",
       "      <td>-0.083813</td>\n",
       "      <td>0.126398</td>\n",
       "    </tr>\n",
       "    <tr>\n",
       "      <th>20113</th>\n",
       "      <td>-0.002057</td>\n",
       "      <td>1.083123</td>\n",
       "      <td>-0.923283</td>\n",
       "      <td>-1.253312</td>\n",
       "      <td>-0.198924</td>\n",
       "      <td>4.726412</td>\n",
       "      <td>11.166631</td>\n",
       "      <td>-0.050132</td>\n",
       "    </tr>\n",
       "    <tr>\n",
       "      <th>14289</th>\n",
       "      <td>1.218207</td>\n",
       "      <td>-1.352930</td>\n",
       "      <td>1.380504</td>\n",
       "      <td>0.542873</td>\n",
       "      <td>-0.635239</td>\n",
       "      <td>-0.273606</td>\n",
       "      <td>-0.025391</td>\n",
       "      <td>-0.099240</td>\n",
       "    </tr>\n",
       "    <tr>\n",
       "      <th>13665</th>\n",
       "      <td>1.128188</td>\n",
       "      <td>-0.753286</td>\n",
       "      <td>-0.843842</td>\n",
       "      <td>-0.561467</td>\n",
       "      <td>0.714077</td>\n",
       "      <td>0.122307</td>\n",
       "      <td>-0.280310</td>\n",
       "      <td>0.010183</td>\n",
       "    </tr>\n",
       "    <tr>\n",
       "      <th>14471</th>\n",
       "      <td>1.168196</td>\n",
       "      <td>-1.287344</td>\n",
       "      <td>-0.843842</td>\n",
       "      <td>2.500924</td>\n",
       "      <td>-1.059242</td>\n",
       "      <td>-0.640266</td>\n",
       "      <td>-0.190617</td>\n",
       "      <td>0.126808</td>\n",
       "    </tr>\n",
       "    <tr>\n",
       "      <th>...</th>\n",
       "      <td>...</td>\n",
       "      <td>...</td>\n",
       "      <td>...</td>\n",
       "      <td>...</td>\n",
       "      <td>...</td>\n",
       "      <td>...</td>\n",
       "      <td>...</td>\n",
       "      <td>...</td>\n",
       "    </tr>\n",
       "    <tr>\n",
       "      <th>7763</th>\n",
       "      <td>0.733102</td>\n",
       "      <td>-0.804818</td>\n",
       "      <td>0.586095</td>\n",
       "      <td>-0.966131</td>\n",
       "      <td>-0.118182</td>\n",
       "      <td>0.063110</td>\n",
       "      <td>-0.099558</td>\n",
       "      <td>0.071541</td>\n",
       "    </tr>\n",
       "    <tr>\n",
       "      <th>15377</th>\n",
       "      <td>1.163195</td>\n",
       "      <td>-1.057793</td>\n",
       "      <td>-1.161606</td>\n",
       "      <td>0.728235</td>\n",
       "      <td>0.357500</td>\n",
       "      <td>0.235096</td>\n",
       "      <td>-0.163397</td>\n",
       "      <td>0.007458</td>\n",
       "    </tr>\n",
       "    <tr>\n",
       "      <th>17730</th>\n",
       "      <td>-1.097293</td>\n",
       "      <td>0.797355</td>\n",
       "      <td>-1.876574</td>\n",
       "      <td>0.514155</td>\n",
       "      <td>0.934269</td>\n",
       "      <td>0.211892</td>\n",
       "      <td>-0.135305</td>\n",
       "      <td>0.044029</td>\n",
       "    </tr>\n",
       "    <tr>\n",
       "      <th>15725</th>\n",
       "      <td>-1.437367</td>\n",
       "      <td>1.008167</td>\n",
       "      <td>1.221622</td>\n",
       "      <td>-0.454427</td>\n",
       "      <td>0.006578</td>\n",
       "      <td>-0.273382</td>\n",
       "      <td>-0.149822</td>\n",
       "      <td>-0.132875</td>\n",
       "    </tr>\n",
       "    <tr>\n",
       "      <th>19966</th>\n",
       "      <td>0.242996</td>\n",
       "      <td>0.272667</td>\n",
       "      <td>-0.684960</td>\n",
       "      <td>-0.396991</td>\n",
       "      <td>-0.711754</td>\n",
       "      <td>0.025998</td>\n",
       "      <td>0.042957</td>\n",
       "      <td>0.051269</td>\n",
       "    </tr>\n",
       "  </tbody>\n",
       "</table>\n",
       "<p>18576 rows × 8 columns</p>\n",
       "</div>"
      ],
      "text/plain": [
       "       longitude  latitude  housing_median_age  households  median_income  \\\n",
       "6051    0.908140 -0.743917           -0.526078    0.266135      -0.389736   \n",
       "20113  -0.002057  1.083123           -0.923283   -1.253312      -0.198924   \n",
       "14289   1.218207 -1.352930            1.380504    0.542873      -0.635239   \n",
       "13665   1.128188 -0.753286           -0.843842   -0.561467       0.714077   \n",
       "14471   1.168196 -1.287344           -0.843842    2.500924      -1.059242   \n",
       "...          ...       ...                 ...         ...            ...   \n",
       "7763    0.733102 -0.804818            0.586095   -0.966131      -0.118182   \n",
       "15377   1.163195 -1.057793           -1.161606    0.728235       0.357500   \n",
       "17730  -1.097293  0.797355           -1.876574    0.514155       0.934269   \n",
       "15725  -1.437367  1.008167            1.221622   -0.454427       0.006578   \n",
       "19966   0.242996  0.272667           -0.684960   -0.396991      -0.711754   \n",
       "\n",
       "       rooms_per_household  bedrooms_per_household  population_per_household  \n",
       "6051             -0.210591               -0.083813                  0.126398  \n",
       "20113             4.726412               11.166631                 -0.050132  \n",
       "14289            -0.273606               -0.025391                 -0.099240  \n",
       "13665             0.122307               -0.280310                  0.010183  \n",
       "14471            -0.640266               -0.190617                  0.126808  \n",
       "...                    ...                     ...                       ...  \n",
       "7763              0.063110               -0.099558                  0.071541  \n",
       "15377             0.235096               -0.163397                  0.007458  \n",
       "17730             0.211892               -0.135305                  0.044029  \n",
       "15725            -0.273382               -0.149822                 -0.132875  \n",
       "19966             0.025998                0.042957                  0.051269  \n",
       "\n",
       "[18576 rows x 8 columns]"
      ]
     },
     "execution_count": 59,
     "metadata": {},
     "output_type": "execute_result"
    }
   ],
   "source": [
    "scaler = StandardScaler()\n",
    "X_train_scaled_std = scaler.fit_transform(X_train_imp)\n",
    "X_test_scaled_std = scaler.transform(X_test_imp)\n",
    "pd.DataFrame(X_train_scaled_std, columns=X_train.columns, index=X_train.index)"
   ]
  },
  {
   "cell_type": "markdown",
   "metadata": {},
   "source": [
    "Here, any negative values represent values that are lower than the calculated feature mean and anything positive and greater than 0 are values greater than the original column mean."
   ]
  },
  {
   "cell_type": "code",
   "execution_count": 60,
   "metadata": {},
   "outputs": [
    {
     "name": "stdout",
     "output_type": "stream",
     "text": [
      "Unscaled training score : 0.561\n"
     ]
    }
   ],
   "source": [
    "knn = KNeighborsRegressor()\n",
    "knn.fit(X_train_imp, y_train);\n",
    "print('Unscaled training score :', knn.score(X_train_imp, y_train).round(3))"
   ]
  },
  {
   "cell_type": "code",
   "execution_count": 61,
   "metadata": {},
   "outputs": [
    {
     "name": "stdout",
     "output_type": "stream",
     "text": [
      "Scaled training score : 0.7978563117812038\n"
     ]
    }
   ],
   "source": [
    "knn = KNeighborsRegressor()\n",
    "knn.fit(X_train_scaled_std, y_train)\n",
    "print('Scaled training score :', knn.score(X_train_scaled_std, y_train))"
   ]
  },
  {
   "cell_type": "code",
   "execution_count": 62,
   "metadata": {},
   "outputs": [
    {
     "data": {
      "text/html": [
       "<div>\n",
       "<style scoped>\n",
       "    .dataframe tbody tr th:only-of-type {\n",
       "        vertical-align: middle;\n",
       "    }\n",
       "\n",
       "    .dataframe tbody tr th {\n",
       "        vertical-align: top;\n",
       "    }\n",
       "\n",
       "    .dataframe thead th {\n",
       "        text-align: right;\n",
       "    }\n",
       "</style>\n",
       "<table border=\"1\" class=\"dataframe\">\n",
       "  <thead>\n",
       "    <tr style=\"text-align: right;\">\n",
       "      <th></th>\n",
       "      <th>longitude</th>\n",
       "      <th>latitude</th>\n",
       "      <th>housing_median_age</th>\n",
       "      <th>households</th>\n",
       "      <th>median_income</th>\n",
       "      <th>rooms_per_household</th>\n",
       "      <th>bedrooms_per_household</th>\n",
       "      <th>population_per_household</th>\n",
       "    </tr>\n",
       "  </thead>\n",
       "  <tbody>\n",
       "    <tr>\n",
       "      <th>6051</th>\n",
       "      <td>0.657371</td>\n",
       "      <td>0.159405</td>\n",
       "      <td>0.411765</td>\n",
       "      <td>0.098832</td>\n",
       "      <td>0.181039</td>\n",
       "      <td>0.028717</td>\n",
       "      <td>0.021437</td>\n",
       "      <td>0.002918</td>\n",
       "    </tr>\n",
       "    <tr>\n",
       "      <th>20113</th>\n",
       "      <td>0.476096</td>\n",
       "      <td>0.573858</td>\n",
       "      <td>0.313725</td>\n",
       "      <td>0.003124</td>\n",
       "      <td>0.205942</td>\n",
       "      <td>0.116642</td>\n",
       "      <td>0.182806</td>\n",
       "      <td>0.001495</td>\n",
       "    </tr>\n",
       "    <tr>\n",
       "      <th>14289</th>\n",
       "      <td>0.719124</td>\n",
       "      <td>0.021254</td>\n",
       "      <td>0.882353</td>\n",
       "      <td>0.116264</td>\n",
       "      <td>0.148998</td>\n",
       "      <td>0.027594</td>\n",
       "      <td>0.022275</td>\n",
       "      <td>0.001099</td>\n",
       "    </tr>\n",
       "    <tr>\n",
       "      <th>13665</th>\n",
       "      <td>0.701195</td>\n",
       "      <td>0.157279</td>\n",
       "      <td>0.333333</td>\n",
       "      <td>0.046703</td>\n",
       "      <td>0.325099</td>\n",
       "      <td>0.034645</td>\n",
       "      <td>0.018619</td>\n",
       "      <td>0.001981</td>\n",
       "    </tr>\n",
       "    <tr>\n",
       "      <th>14471</th>\n",
       "      <td>0.709163</td>\n",
       "      <td>0.036132</td>\n",
       "      <td>0.333333</td>\n",
       "      <td>0.239599</td>\n",
       "      <td>0.093661</td>\n",
       "      <td>0.021064</td>\n",
       "      <td>0.019905</td>\n",
       "      <td>0.002922</td>\n",
       "    </tr>\n",
       "  </tbody>\n",
       "</table>\n",
       "</div>"
      ],
      "text/plain": [
       "       longitude  latitude  housing_median_age  households  median_income  \\\n",
       "6051    0.657371  0.159405            0.411765    0.098832       0.181039   \n",
       "20113   0.476096  0.573858            0.313725    0.003124       0.205942   \n",
       "14289   0.719124  0.021254            0.882353    0.116264       0.148998   \n",
       "13665   0.701195  0.157279            0.333333    0.046703       0.325099   \n",
       "14471   0.709163  0.036132            0.333333    0.239599       0.093661   \n",
       "\n",
       "       rooms_per_household  bedrooms_per_household  population_per_household  \n",
       "6051              0.028717                0.021437                  0.002918  \n",
       "20113             0.116642                0.182806                  0.001495  \n",
       "14289             0.027594                0.022275                  0.001099  \n",
       "13665             0.034645                0.018619                  0.001981  \n",
       "14471             0.021064                0.019905                  0.002922  "
      ]
     },
     "execution_count": 62,
     "metadata": {},
     "output_type": "execute_result"
    }
   ],
   "source": [
    "scaler = MinMaxScaler()\n",
    "X_train_scaled_norm = scaler.fit_transform(X_train_imp)\n",
    "X_test_scaled_norm = scaler.transform(X_test_imp)\n",
    "pd.DataFrame(X_train_scaled_norm, columns=X_train.columns, index=X_train.index).head()"
   ]
  },
  {
   "cell_type": "markdown",
   "metadata": {},
   "source": [
    "Looking at the data after normalizing it, we see this time there are no negative values and they all are between 0 and 1.\n",
    "\n",
    "And the score now?"
   ]
  },
  {
   "cell_type": "code",
   "execution_count": 63,
   "metadata": {},
   "outputs": [
    {
     "name": "stdout",
     "output_type": "stream",
     "text": [
      "Scaled training score : 0.8006485189373813\n"
     ]
    }
   ],
   "source": [
    "knn = KNeighborsRegressor()\n",
    "knn.fit(X_train_scaled_norm, y_train)\n",
    "print('Scaled training score :',knn.score(X_train_scaled_norm, y_train))"
   ]
  },
  {
   "cell_type": "markdown",
   "metadata": {},
   "source": [
    "- Big difference in the KNN training performance after scaling the data. \n",
    "- But we saw last week that the training score doesn't tell us much. We should look at the cross-validation score.\n",
    "\n",
    "So let's see how we can do this but first.... let's practice!"
   ]
  },
  {
   "cell_type": "markdown",
   "metadata": {},
   "source": [
    "## Let's Practice\n",
    "\n",
    "1\\. When/Why do we need to impute our data?   \n",
    "2\\. If we have `NaN` values in our data, can we simply drop the column missing the data?   \n",
    "3\\. Which scaling method will never produce negative values?   \n",
    "4\\. Which scaling method will never produce values greater than 1?    \n",
    "5\\. Which scaling method will produce values where the range depends on the values in the data?   \n",
    "\n",
    "**True or False**     \n",
    "\n",
    "6\\. `SimpleImputer` is a type of transformer.      \n",
    "7\\. Scaling is a form of transformation.       \n",
    "8\\. We can use `SimpleImputer` to impute values that are missing from numerical and categorical columns.      "
   ]
  },
  {
   "cell_type": "markdown",
   "metadata": {},
   "source": [
    "```{admonition} Solutions!\n",
    ":class: dropdown\n",
    "\n",
    "1. When we have missing data so that sklearn doesn't give an error. \n",
    "2. No but we can if the majority of the values are missing from the column.\n",
    "3. Normalization (`MinMaxScaler`)\n",
    "4. Normalization (`MinMaxScaler`)\n",
    "5. Standardization (`StandardScaler`)\n",
    "6. True\n",
    "7. True\n",
    "8. True\n",
    "```"
   ]
  },
  {
   "cell_type": "markdown",
   "metadata": {},
   "source": [
    "## Feature transformations and the golden rule \n",
    "\n",
    "How to carry out cross-validation? \n",
    "\n",
    "- Last week we saw that cross-validation is a better way to get a realistic assessment of the model. \n",
    "- Let's try cross-validation with transformed data. "
   ]
  },
  {
   "cell_type": "code",
   "execution_count": 64,
   "metadata": {},
   "outputs": [
    {
     "data": {
      "text/html": [
       "<div>\n",
       "<style scoped>\n",
       "    .dataframe tbody tr th:only-of-type {\n",
       "        vertical-align: middle;\n",
       "    }\n",
       "\n",
       "    .dataframe tbody tr th {\n",
       "        vertical-align: top;\n",
       "    }\n",
       "\n",
       "    .dataframe thead th {\n",
       "        text-align: right;\n",
       "    }\n",
       "</style>\n",
       "<table border=\"1\" class=\"dataframe\">\n",
       "  <thead>\n",
       "    <tr style=\"text-align: right;\">\n",
       "      <th></th>\n",
       "      <th>fit_time</th>\n",
       "      <th>score_time</th>\n",
       "      <th>test_score</th>\n",
       "      <th>train_score</th>\n",
       "    </tr>\n",
       "  </thead>\n",
       "  <tbody>\n",
       "    <tr>\n",
       "      <th>0</th>\n",
       "      <td>0.011932</td>\n",
       "      <td>0.147443</td>\n",
       "      <td>0.696373</td>\n",
       "      <td>0.794236</td>\n",
       "    </tr>\n",
       "    <tr>\n",
       "      <th>1</th>\n",
       "      <td>0.008757</td>\n",
       "      <td>0.130968</td>\n",
       "      <td>0.684447</td>\n",
       "      <td>0.791467</td>\n",
       "    </tr>\n",
       "    <tr>\n",
       "      <th>2</th>\n",
       "      <td>0.008732</td>\n",
       "      <td>0.154511</td>\n",
       "      <td>0.695532</td>\n",
       "      <td>0.789436</td>\n",
       "    </tr>\n",
       "    <tr>\n",
       "      <th>3</th>\n",
       "      <td>0.010271</td>\n",
       "      <td>0.157842</td>\n",
       "      <td>0.679478</td>\n",
       "      <td>0.793243</td>\n",
       "    </tr>\n",
       "    <tr>\n",
       "      <th>4</th>\n",
       "      <td>0.008897</td>\n",
       "      <td>0.089000</td>\n",
       "      <td>0.680657</td>\n",
       "      <td>0.794820</td>\n",
       "    </tr>\n",
       "  </tbody>\n",
       "</table>\n",
       "</div>"
      ],
      "text/plain": [
       "   fit_time  score_time  test_score  train_score\n",
       "0  0.011932    0.147443    0.696373     0.794236\n",
       "1  0.008757    0.130968    0.684447     0.791467\n",
       "2  0.008732    0.154511    0.695532     0.789436\n",
       "3  0.010271    0.157842    0.679478     0.793243\n",
       "4  0.008897    0.089000    0.680657     0.794820"
      ]
     },
     "execution_count": 64,
     "metadata": {},
     "output_type": "execute_result"
    }
   ],
   "source": [
    "knn = KNeighborsRegressor()\n",
    "scores = cross_validate(knn, X_train_scaled_std, y_train, return_train_score=True)\n",
    "pd.DataFrame(scores)"
   ]
  },
  {
   "cell_type": "markdown",
   "metadata": {},
   "source": [
    "- Do you see any problem here? \n",
    "\n",
    "We are using our `X_train_scaled` in our `cross_validate()` function which already has all our preprocessing done. \n",
    "\n",
    "<img src='imgs/cross-validation.png' width=\"80%\">"
   ]
  },
  {
   "cell_type": "markdown",
   "metadata": {},
   "source": [
    "That means that our validation set information is being used to calculate the mean and standard deviation (or min and max values for `MinMaxScaler`) for our training split! \n",
    "\n",
    "We are allowing information from the validation set to **leak** into the training step.\n",
    "    \n",
    "What was our golden rule of machine learning again? Oh yeah -> ***Our test data should not influence our training data***. \n",
    "\n",
    "This applies also to our validation data and that it also should not influence our training data. \n",
    "\n",
    "With imputation and scaling, we are scaling and imputing values based on all the information in the data meaning the training data AND the validation data and so we are not adhering to the golden rule anymore. \n",
    "\n",
    "Every row in our `x_train_scaled` has now been influenced in a minor way by every other row in `x_train_scaled`. \n",
    "\n",
    "With scaling every row has been transformed based on all the data before splitting between training and validation. \n",
    "\n",
    "We need to take care that we are keeping our validation data truly as unseen data. \n",
    "\n",
    "Before we look at the right approach to this, let's look at the **WRONG** approaches. "
   ]
  },
  {
   "cell_type": "markdown",
   "metadata": {},
   "source": [
    "### Bad methodology 1: Scaling the data separately\n",
    "\n",
    "We make our transformer, we fit it on the training data and then transform the training data.\n",
    "\n",
    "Then, we make a second transformer, fit it on the test data and then transform our test data."
   ]
  },
  {
   "cell_type": "code",
   "execution_count": 65,
   "metadata": {},
   "outputs": [
    {
     "name": "stdout",
     "output_type": "stream",
     "text": [
      "Training score:  0.8\n",
      "Test score:  0.7\n"
     ]
    }
   ],
   "source": [
    "scaler = StandardScaler();\n",
    "scaler.fit(X_train_imp);\n",
    "X_train_scaled = scaler.transform(X_train_imp)\n",
    "\n",
    "\n",
    "# Creating a separate object for scaling test data - Not a good idea.\n",
    "scaler = StandardScaler();\n",
    "scaler.fit(X_test_imp); # Calling fit on the test data - Yikes! \n",
    "X_test_scaled = scaler.transform(X_test_imp) # Transforming the test data using the scaler fit on test data ... Bad! \n",
    "\n",
    "\n",
    "knn = KNeighborsRegressor()\n",
    "knn.fit(X_train_scaled, y_train);\n",
    "print(\"Training score: \", knn.score(X_train_scaled, y_train).round(2))\n",
    "print(\"Test score: \", knn.score(X_test_scaled, y_test).round(2))"
   ]
  },
  {
   "cell_type": "markdown",
   "metadata": {},
   "source": [
    "This is bad because we are using two different StandardScaler objects but we want to apply the same transformation on the training and test splits.\n",
    "\n",
    "The test data will have different values than the training data producing a different transformation than the training data.\n",
    "\n",
    "We should never fit on test data, whether it’s to build a model or with a transforming, test data should never be exposed to the fit function."
   ]
  },
  {
   "cell_type": "markdown",
   "metadata": {},
   "source": [
    "### Bad methodology 2: Scaling the data together\n",
    "\n",
    "The next mistake is when we scale the data together. So instead of splitting our data, we are combining our training and testing and scaling it together."
   ]
  },
  {
   "cell_type": "code",
   "execution_count": 66,
   "metadata": {},
   "outputs": [
    {
     "data": {
      "text/plain": [
       "((18576, 8), (2064, 8))"
      ]
     },
     "execution_count": 66,
     "metadata": {},
     "output_type": "execute_result"
    }
   ],
   "source": [
    "X_train_imp.shape, X_test_imp.shape"
   ]
  },
  {
   "cell_type": "code",
   "execution_count": 67,
   "metadata": {},
   "outputs": [
    {
     "data": {
      "text/plain": [
       "(20640, 8)"
      ]
     },
     "execution_count": 67,
     "metadata": {},
     "output_type": "execute_result"
    }
   ],
   "source": [
    "# join the train and test sets back together\n",
    "XX = np.vstack((X_train_imp, X_test_imp))## Don't do it! \n",
    "XX.shape "
   ]
  },
  {
   "cell_type": "code",
   "execution_count": 68,
   "metadata": {},
   "outputs": [],
   "source": [
    "scaler = StandardScaler()\n",
    "scaler.fit(XX)\n",
    "XX_scaled = scaler.transform(XX) \n",
    "XX_train = XX_scaled[:18576]\n",
    "XX_test = XX_scaled[18576:]"
   ]
  },
  {
   "cell_type": "code",
   "execution_count": 69,
   "metadata": {},
   "outputs": [
    {
     "name": "stdout",
     "output_type": "stream",
     "text": [
      "Train score:  0.8\n",
      "Test score:  0.71\n"
     ]
    }
   ],
   "source": [
    "knn = KNeighborsRegressor()\n",
    "knn.fit(XX_train, y_train);\n",
    "print('Train score: ', (knn.score(XX_train, y_train).round(2))) # Misleading score\n",
    "print('Test score: ', (knn.score(XX_test, y_test).round(2))) # Misleading score"
   ]
  },
  {
   "cell_type": "markdown",
   "metadata": {},
   "source": [
    "Here we are scaling the train and test splits together.\n",
    "\n",
    "The golden rule says that the test data shouldn’t influence the training in any way.\n",
    "\n",
    "Information from the test split is now affecting the mean for standardization!\n",
    "\n",
    "This is a clear violation of the golden rule.\n",
    "\n",
    "So what do we do? Enter ...."
   ]
  },
  {
   "cell_type": "markdown",
   "metadata": {},
   "source": [
    "## Pipelines\n",
    "\n",
    "[Scikit-learn Pipeline](https://scikit-learn.org/stable/modules/generated/sklearn.pipeline.Pipeline.html) is here to save the day!\n",
    "\n",
    "A **pipeline** is a sklearn function that contains a sequence of steps. \n",
    "\n",
    "Essentially we give it all the actions we want to do with our data such as transformers and models and the pipeline will execute them in steps. "
   ]
  },
  {
   "cell_type": "code",
   "execution_count": 70,
   "metadata": {},
   "outputs": [],
   "source": [
    "from sklearn.pipeline import Pipeline"
   ]
  },
  {
   "cell_type": "markdown",
   "metadata": {},
   "source": [
    "Let's combine the preprocessing and model with pipeline.\n",
    "\n",
    "we will instruct the pipeline to:\n",
    "\n",
    "1. Do imputation using `SimpleImputer()` using a strategy of “median”\n",
    "2. Scale our data using `StandardScaler` \n",
    "3. Build a `KNeighborsRegressor`. \n",
    "\n",
    "(The last step should be a model and earlier steps should be transformers) \n",
    "\n",
    "Note: The input for `Pipeline` is a list containing tuples (one for each step). "
   ]
  },
  {
   "cell_type": "code",
   "execution_count": 71,
   "metadata": {},
   "outputs": [],
   "source": [
    "pipe = Pipeline([\n",
    "        (\"imputer\", SimpleImputer(strategy=\"median\")),\n",
    "        (\"scaler\", StandardScaler()),\n",
    "        (\"reg\", KNeighborsRegressor())\n",
    "])"
   ]
  },
  {
   "cell_type": "code",
   "execution_count": 72,
   "metadata": {},
   "outputs": [
    {
     "data": {
      "text/plain": [
       "Pipeline(steps=[('imputer', SimpleImputer(strategy='median')),\n",
       "                ('scaler', StandardScaler()), ('reg', KNeighborsRegressor())])"
      ]
     },
     "execution_count": 72,
     "metadata": {},
     "output_type": "execute_result"
    }
   ],
   "source": [
    "pipe.fit(X_train, y_train)"
   ]
  },
  {
   "cell_type": "markdown",
   "metadata": {},
   "source": [
    "- Note that we are passing `X_train` and **NOT** the imputed or scaled data here. \n",
    "\n",
    "When we call `fit`  the pipeline is carrying out the following steps:\n",
    "\n",
    "- Fit `SimpleImputer` on `X_train`.\n",
    "- Transform `X_train` using the fit `SimpleImputer` to create `X_train_imp`.\n",
    "- Fit `StandardScaler` on `X_train_imp`.\n",
    "- Transform `X_train_imp` using the fit `StandardScaler` to create `X_train_imp_scaled`.\n",
    "- Fit the model (`KNeighborsRegressor` in our case) on `X_train_imp_scaled`.\n"
   ]
  },
  {
   "cell_type": "code",
   "execution_count": 73,
   "metadata": {},
   "outputs": [
    {
     "data": {
      "text/plain": [
       "array([126500., 117380., 187700., ..., 259500., 308120.,  60860.])"
      ]
     },
     "execution_count": 73,
     "metadata": {},
     "output_type": "execute_result"
    }
   ],
   "source": [
    "pipe.predict(X_train)"
   ]
  },
  {
   "cell_type": "markdown",
   "metadata": {},
   "source": [
    "When we call `predict` on our data, the following steps are carrying out:\n",
    "\n",
    "- Transform `X_train` using the fit `SimpleImputer` to create `X_train_imp`.\n",
    "- Transform `X_train_imp` using the fit `StandardScaler` to create `X_train_imp_scaled`.\n",
    "- Predict using the fit model (`KNeighborsRegressor` in our case) on `X_train_imp_scaled`. \n",
    "\n",
    "It is not fitting any of the data this time. "
   ]
  },
  {
   "cell_type": "markdown",
   "metadata": {},
   "source": [
    "\n",
    "<img src='https://amueller.github.io/COMS4995-s20/slides/aml-04-preprocessing/images/pipeline.png' width=\"50%\">\n",
    "\n",
    "[Source](https://amueller.github.io/COMS4995-s20/slides/aml-04-preprocessing/#18)"
   ]
  },
  {
   "cell_type": "markdown",
   "metadata": {},
   "source": [
    "We can’t accidentally re-fit the preprocessor on the test data as we did before.\n",
    "\n",
    "It automatically makes sure the same transformations are applied to train and test.\n",
    "\n",
    "Now when we do cross-validation on the pipeline the transformers and the model are refit on each fold.\n",
    "\n",
    "The pipeline applies the `fit_transform` on the train portion of the data and only `transform` on the validation portion in **each fold**.   \n",
    "\n",
    "This is how to avoid the Golden Rule violation!"
   ]
  },
  {
   "cell_type": "code",
   "execution_count": 74,
   "metadata": {},
   "outputs": [
    {
     "data": {
      "text/html": [
       "<div>\n",
       "<style scoped>\n",
       "    .dataframe tbody tr th:only-of-type {\n",
       "        vertical-align: middle;\n",
       "    }\n",
       "\n",
       "    .dataframe tbody tr th {\n",
       "        vertical-align: top;\n",
       "    }\n",
       "\n",
       "    .dataframe thead th {\n",
       "        text-align: right;\n",
       "    }\n",
       "</style>\n",
       "<table border=\"1\" class=\"dataframe\">\n",
       "  <thead>\n",
       "    <tr style=\"text-align: right;\">\n",
       "      <th></th>\n",
       "      <th>fit_time</th>\n",
       "      <th>score_time</th>\n",
       "      <th>test_score</th>\n",
       "      <th>train_score</th>\n",
       "    </tr>\n",
       "  </thead>\n",
       "  <tbody>\n",
       "    <tr>\n",
       "      <th>0</th>\n",
       "      <td>0.025440</td>\n",
       "      <td>0.142615</td>\n",
       "      <td>0.693883</td>\n",
       "      <td>0.792395</td>\n",
       "    </tr>\n",
       "    <tr>\n",
       "      <th>1</th>\n",
       "      <td>0.022569</td>\n",
       "      <td>0.137869</td>\n",
       "      <td>0.685017</td>\n",
       "      <td>0.789108</td>\n",
       "    </tr>\n",
       "    <tr>\n",
       "      <th>2</th>\n",
       "      <td>0.023778</td>\n",
       "      <td>0.141539</td>\n",
       "      <td>0.694409</td>\n",
       "      <td>0.787796</td>\n",
       "    </tr>\n",
       "    <tr>\n",
       "      <th>3</th>\n",
       "      <td>0.022253</td>\n",
       "      <td>0.144353</td>\n",
       "      <td>0.677055</td>\n",
       "      <td>0.792444</td>\n",
       "    </tr>\n",
       "    <tr>\n",
       "      <th>4</th>\n",
       "      <td>0.022670</td>\n",
       "      <td>0.118798</td>\n",
       "      <td>0.714494</td>\n",
       "      <td>0.823421</td>\n",
       "    </tr>\n",
       "  </tbody>\n",
       "</table>\n",
       "</div>"
      ],
      "text/plain": [
       "   fit_time  score_time  test_score  train_score\n",
       "0  0.025440    0.142615    0.693883     0.792395\n",
       "1  0.022569    0.137869    0.685017     0.789108\n",
       "2  0.023778    0.141539    0.694409     0.787796\n",
       "3  0.022253    0.144353    0.677055     0.792444\n",
       "4  0.022670    0.118798    0.714494     0.823421"
      ]
     },
     "execution_count": 74,
     "metadata": {},
     "output_type": "execute_result"
    }
   ],
   "source": [
    "scores_processed = cross_validate(pipe, X_train, y_train, return_train_score=True)\n",
    "pd.DataFrame(scores_processed)"
   ]
  },
  {
   "cell_type": "code",
   "execution_count": 75,
   "metadata": {},
   "outputs": [
    {
     "data": {
      "text/plain": [
       "fit_time       0.023342\n",
       "score_time     0.137035\n",
       "test_score     0.692972\n",
       "train_score    0.797033\n",
       "dtype: float64"
      ]
     },
     "execution_count": 75,
     "metadata": {},
     "output_type": "execute_result"
    }
   ],
   "source": [
    "pd.DataFrame(scores_processed).mean()"
   ]
  },
  {
   "cell_type": "code",
   "execution_count": 76,
   "metadata": {},
   "outputs": [
    {
     "data": {
      "text/plain": [
       "fit_time       0.001181\n",
       "score_time     0.000262\n",
       "test_score    -0.000838\n",
       "train_score    0.000000\n",
       "dtype: float64"
      ]
     },
     "execution_count": 76,
     "metadata": {},
     "output_type": "execute_result"
    }
   ],
   "source": [
    "dummy = DummyRegressor()\n",
    "scores = cross_validate(dummy, X_train, y_train, return_train_score=True)\n",
    "pd.DataFrame(scores).mean()"
   ]
  },
  {
   "cell_type": "markdown",
   "metadata": {},
   "source": [
    "We can trust here now that the scores are not influenced but the training data and all our steps were done efficiently and easily too. "
   ]
  },
  {
   "cell_type": "markdown",
   "metadata": {},
   "source": [
    "## Let's Practice\n",
    "\n",
    "1\\. Which of the following steps cannot be used in a pipeline?\n",
    "\n",
    "a) Scaling   \n",
    "b) Model building    \n",
    "c) Imputation    \n",
    "d) Data Splitting    \n",
    "\n",
    "2\\. Why can't we fit and transform the training and test data together?  \n",
    "\n",
    "**True or False**        \n",
    "\n",
    "3\\. We have to be careful of the order we put each transformation and model in a pipeline.     \n",
    "4\\. Pipelines will fit and transform on both the training and validation folds during cross-validation.   "
   ]
  },
  {
   "cell_type": "markdown",
   "metadata": {},
   "source": [
    "```{admonition} Solutions!\n",
    ":class: dropdown\n",
    "\n",
    "1. Data Splitting\n",
    "2. It's violating the golden rule of keeping the test data separate.\n",
    "3. True\n",
    "4. False\n",
    "```"
   ]
  },
  {
   "cell_type": "markdown",
   "metadata": {},
   "source": [
    "## Let's Practice - Coding\n",
    "\n",
    "Let's bring in the basketball dataset again."
   ]
  },
  {
   "cell_type": "code",
   "execution_count": 77,
   "metadata": {},
   "outputs": [],
   "source": [
    "# Loading in the data\n",
    "bball_df = pd.read_csv('data/bball.csv')\n",
    "bball_df = bball_df[(bball_df['position'] =='G') | (bball_df['position'] =='F')]\n",
    "\n",
    "# Define X and y\n",
    "X = bball_df.loc[:, ['height', 'weight', 'salary']]\n",
    "y = bball_df['position']\n",
    "\n",
    "# Split the dataset\n",
    "X_train, X_test, y_train, y_test = train_test_split(\n",
    "    X, y, test_size=0.2, random_state=7)"
   ]
  },
  {
   "cell_type": "markdown",
   "metadata": {},
   "source": [
    "1. Build a pipeline named `bb_pipe` that: \n",
    "    1. Imputes using \"mean\" as a strategy, \n",
    "    2. scale using `MinMaxScaler` \n",
    "    3. builds a `KNeighborsClassifier`.\n",
    "2. Next, do 5 fold cross-validation on the pipeline using `X_train` and `y_train` and save the results in a dataframe.\n",
    "Take the mean of each column and assess your model."
   ]
  },
  {
   "cell_type": "markdown",
   "metadata": {},
   "source": [
    "**Solutions**\n",
    "\n",
    "1\\."
   ]
  },
  {
   "cell_type": "code",
   "execution_count": 78,
   "metadata": {
    "tags": [
     "hide-cell"
    ]
   },
   "outputs": [],
   "source": [
    "pipe = Pipeline([\n",
    "        (\"imputer\", SimpleImputer(strategy=\"mean\")),\n",
    "        (\"scaler\", MinMaxScaler()),\n",
    "        (\"reg\", KNeighborsClassifier())\n",
    "])"
   ]
  },
  {
   "cell_type": "markdown",
   "metadata": {},
   "source": [
    "2\\."
   ]
  },
  {
   "cell_type": "code",
   "execution_count": 81,
   "metadata": {
    "tags": [
     "hide-cell"
    ]
   },
   "outputs": [
    {
     "data": {
      "text/plain": [
       "fit_time       0.002649\n",
       "score_time     0.002171\n",
       "test_score     0.873469\n",
       "train_score    0.916327\n",
       "dtype: float64"
      ]
     },
     "execution_count": 81,
     "metadata": {},
     "output_type": "execute_result"
    }
   ],
   "source": [
    "pd.DataFrame(cross_validate(pipe, X_train, y_train, return_train_score=True)).mean()"
   ]
  },
  {
   "cell_type": "markdown",
   "metadata": {},
   "source": [
    "## What We've Learned Today<a id=\"9\"></a>\n",
    "\n",
    "- How the $k$NN algorithm works for regression.\n",
    "- How to build an SVM with RBF kernel model. \n",
    "- How changing `gamma` and `C` hyperparameters affects the fundamental tradeoff.\n",
    "- How to imputer values when we are missing data. \n",
    "- Why it's important to scale our features.\n",
    "- How to scales our features. \n",
    "- How to build a pipeline that executes a number of steps without breaking the golden rule of ML.\n"
   ]
  }
 ],
 "metadata": {
  "kernelspec": {
   "display_name": "Python [conda env:bait]",
   "language": "python",
   "name": "conda-env-bait-py"
  },
  "language_info": {
   "codemirror_mode": {
    "name": "ipython",
    "version": 3
   },
   "file_extension": ".py",
   "mimetype": "text/x-python",
   "name": "python",
   "nbconvert_exporter": "python",
   "pygments_lexer": "ipython3",
   "version": "3.9.9"
  },
  "toc": {
   "base_numbering": 1,
   "nav_menu": {},
   "number_sections": true,
   "sideBar": true,
   "skip_h1_title": true,
   "title_cell": "Table of Contents",
   "title_sidebar": "Contents",
   "toc_cell": false,
   "toc_position": {
    "height": "calc(100% - 180px)",
    "left": "10px",
    "top": "150px",
    "width": "274.188px"
   },
   "toc_section_display": true,
   "toc_window_display": true
  },
  "toc-showmarkdowntxt": false
 },
 "nbformat": 4,
 "nbformat_minor": 4
}
