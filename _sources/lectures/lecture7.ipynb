{
 "cells": [
  {
   "cell_type": "markdown",
   "metadata": {},
   "source": [
    "# Linear Models"
   ]
  },
  {
   "cell_type": "markdown",
   "metadata": {},
   "source": [
    "## Lecture Learning Objectives \n",
    "\n",
    "- Explain the general intuition behind linear models.\n",
    "- Explain the main concepts of the advantages of Ridge regression.\n",
    "- Explain the `fit` and `predict` paradigm of linear models.\n",
    "- Use `scikit-learn`'s `LogisticRegression` classifier.\n",
    "    - Use `fit`, `predict` and `predict_proba`.   \n",
    "    - Use `coef_` to interpret the model weights.\n",
    "- Explain the advantages and limitations of linear classifiers. \n",
    "- Apply scikit-learn regression model (e.g., Ridge) to regression problems.\n",
    "- Relate the Ridge hyperparameter `alpha` to the `LogisticRegression` hyperparameter `C`.\n",
    "- Compare logistic regression with naive Bayes."
   ]
  },
  {
   "cell_type": "markdown",
   "metadata": {},
   "source": [
    "## Five Minute Recap/ Lightning Questions \n",
    "\n",
    "- To avoid the problem of zero probability in Naïve Bayes, what technique do we use?\n",
    "- What is the name of the function we use to perform Exhaustive Hyperparameter Optimization?\n",
    "- What parameter does `RandomizedSearchCV` have that the Exhaustive Hyperparameter tuning function not have? \n",
    "- Repeating cross-validation over and over again with different hyperparameters can cause our model to suffer from what? "
   ]
  },
  {
   "cell_type": "markdown",
   "metadata": {},
   "source": [
    "### Some lingering questions\n",
    "\n",
    "- Is linear regression used in Machine Learning or just in Stats?\n",
    "- Can we use a linear model as a classifier?\n",
    "- What was that `predict_proba` function we looked at briefly when learning about naive Bayes?"
   ]
  },
  {
   "cell_type": "markdown",
   "metadata": {},
   "source": [
    "## Linear Regression\n",
    "\n",
    "We've seen many regression models such as:\n",
    "- `DecisionTreeRegressor` \n",
    "- `KNeighborsRegressor`\n",
    "- `SVR`\n",
    "\n",
    "but now we have a new one that we are going to explore called  **linear regression**.\n",
    "You might have encountered linear regression previously,\n",
    "as it is one of the most basic and popular ML/statistical techniques."
   ]
  },
  {
   "cell_type": "markdown",
   "metadata": {},
   "source": [
    "### Brief explanation of linear regression\n",
    "\n",
    "Unlike with decision trees where we make predictions with rules and analogy-based models where we predict a certain class using distance to other examples,\n",
    "linear regression tries to fit a linear function to the features in the data\n",
    "by adjusting **coefficients** (or sometimes known as \"weights\") associated with each features.\n",
    "These coefficients are model parameters (not hyperparameters) learned from the training data (like decision tree splits). \n",
    "\n",
    "Given a feature $x_1$ and learned coefficient/weight $w_1$ and intercept $b$, we can get the prediction $\\hat{y}$ with the following formula\n",
    "\n",
    "$$\\hat{y} = w_1x_1 + b$$\n",
    "\n",
    "If we have $n$ features, the linear model would look like this\n",
    "\n",
    "$$\\hat{y} = w_1x_1 + w_2x_2 ... + w_nx_n  + b$$\n",
    "\n",
    "We can see that a higher weight for a feature would results in a bigger change in the predicted value\n",
    "when the value of the feature changes."
   ]
  },
  {
   "cell_type": "markdown",
   "metadata": {},
   "source": [
    "### An example with data\n",
    "\n",
    "Let's say we have the following training data:\n",
    "\n",
    "| listing number | Number of Bedrooms | Number of Bathrooms | Square Footage | Age | Price |\n",
    "|----------------|--------------------|---------------------|----------------|-----|-------| \n",
    "| 1              | 5                  | 6                   | 3000           | 2   | \\$6.39 million|\n",
    "| 2              | 1                  | 1                   | 800            | 90  | \\$1.67 million|\n",
    "| 3              | 3                  | 2                   | 1875           | 66  | \\$3.92 million|\n",
    "\n",
    "And fitting a linear model to our training data gives these coefficients\n",
    "\n",
    "<img src=\"imgs/house_table.png\"  width = \"50%\" alt=\"404 image\" />"
   ]
  },
  {
   "cell_type": "markdown",
   "metadata": {},
   "source": [
    "#### How do we interpret these coefficients?\n",
    "\n",
    "##### Sign\n",
    "\n",
    "If the coefficient is a positive number (like 0.03 for the number of bedrooms)\n",
    "that means that this feature is contributing to the prediction in a positive. \n",
    "This means that the more bedrooms a house has, the higher the price the model will predict. \n",
    "\n",
    "In this, we have a negative coefficient -> age. Here, as age increases, the predicted price decreases.\n",
    "The feature is contributing to the predicted price in a negative way. \n",
    "Older houses will have a lower, predicted price. \n",
    "\n",
    "##### Magnitude\n",
    "\n",
    "The magnitude of the coefficient also has a direct effect on the predicted price. \n",
    "Here for every additional bedroom, we are adding 0.03 million dollars to our prediction. \n",
    "\n",
    "Here we are learning every additional bedroom is worth 0.03 million dollars and every additional year is decreasing 0.01 million dollars to our prediction. "
   ]
  },
  {
   "cell_type": "markdown",
   "metadata": {},
   "source": [
    "We need to plug them into the following formula when we see a new observation whose value we want to predict:"
   ]
  },
  {
   "cell_type": "markdown",
   "metadata": {},
   "source": [
    "$$\\begin{align}\\text{predicted}(price) & =\\text{coefficient}_{\\text{bedrooms}} * \\text{#bedrooms}\\\\\n",
    "& +\\text{coefficient}_{\\text{bathrooms}} * \\text{#bathrooms}\\\\\n",
    "& +\\text{coefficient}_{\\text{sqfeet}} * \\text{#sqfeet}\\\\\n",
    "& +\\text{coefficient}_{\\text{age}} * \\text{age}\\\\\n",
    "& +\\text{intercept}\n",
    "\\end{align}$$\n"
   ]
  },
  {
   "cell_type": "markdown",
   "metadata": {},
   "source": [
    "Let's make a prediction for a house listing with the following features: \n",
    "\n",
    "| listing number | Number of Bedrooms | Number of Bathrooms | Square Footage | Age |\n",
    "|----------------|--------------------|---------------------|----------------|-----| \n",
    "| 3              | 3                  | 2                   | 1875           | 66  |\n",
    "\n",
    "When we apply a particular model to our data, the coefficients and  intercept  will remain the same for all observations, and we will plug in each observations numerical values as the input features.\n",
    "To calculate our predicted price we sum up the multiplication of each coefficient by its feature value\n",
    "plus an intercept (which is 0 in this toy example)."
   ]
  },
  {
   "cell_type": "markdown",
   "metadata": {},
   "source": [
    "$$\\begin{align}\\text{predicted}(price) & = 0.03 * 3\\\\\n",
    "& +0.04 * 2\\\\\n",
    "& +0.002 * 1875\\\\\n",
    "& +-0.01 * 66\\\\\n",
    "& +0\n",
    "\\end{align}$$\n"
   ]
  },
  {
   "cell_type": "markdown",
   "metadata": {},
   "source": [
    "$$\n",
    "\\text{predicted}(price)  =  3.26\n",
    "$$"
   ]
  },
  {
   "cell_type": "markdown",
   "metadata": {},
   "source": [
    "But how do we determine the best values for the coefficients?\n",
    "We want the line to be as close as possible to all points,\n",
    "so we need a measure of this *closeness*.\n",
    "In linear regression,\n",
    "by far the most common measure is to calculate the difference between the real\n",
    "value (the red dots in the image below) and the predicted value (the blue line),\n",
    "square it and sum it together for all observations:\n",
    "This is called ordinary least squares (OLS) regression.\n",
    "\n",
    "![image.png](imgs/residuals.png)"
   ]
  },
  {
   "cell_type": "markdown",
   "metadata": {},
   "source": [
    "A low OLS means that we have a model that fits our seen/training data very well.\n",
    "But remember how much we have stressed the importance of a model not only fitting the training data,\n",
    "but also generalizing well to unseen data?\n",
    "If we compute coefficients only based on the training data,\n",
    "it seems like we are running a risk of overfitting our model.\n",
    "\n",
    "Technically we could try a lot of different coefficients at random and see\n",
    "which ones perform best on the validation set,\n",
    "but this is not very efficient.\n",
    "OLS is useful,\n",
    "but we would need some way to make sure we don't overfit to the training data.\n",
    "The way to do this is to introduce a penalty (also called a regularization)\n",
    "that makes us prefer more general models.\n",
    "\n",
    "Consider the following scenario where the red and green line both have the same OLS error."
   ]
  },
  {
   "cell_type": "markdown",
   "metadata": {},
   "source": [
    "![image.png](imgs/linear-overfit.png)\n",
    "\n",
    "Which one should we choose?\n",
    "Because its coefficients are larger\n",
    "the red line is more specific to the training data.\n",
    "Another way of thinking of this is that as the training\n",
    "is varying just a little bit,\n",
    "the predicted value will vary a lot,\n",
    "i.e. it depends a lot on the training data.\n",
    "On the other hand,\n",
    "the most general model we could fit would be a straight line,\n",
    "which would be underfitting since it is not specific to our data at all,\n",
    "so we want to strike a balance in this fundamental tradeoff.\n",
    "\n",
    "Let's see another example of the same phenomena.\n",
    "Before fitting a linear model you can perform feature engineering,\n",
    "and change some of your features to capture non-linearity in the model,\n",
    "e.g. by constructing polynomials of the original features\n",
    "(similar to using polynomial kernels with SVMs,\n",
    "the regression line will be linear in a higher dimensionsional transformation of the feature space,\n",
    "but not in the original dimensions of X and y).\n",
    "Both the degree of the polynomial \n",
    "and the magnitude of the coefficients controls the shape of the curve we are fitting.\n",
    "If we don't constrain the coefficients for these polynomial features,\n",
    "it might lead to overfitting the training data \n",
    "or even coming up with nonsense fits between training points,\n",
    "as in the blue line below:"
   ]
  },
  {
   "cell_type": "markdown",
   "metadata": {},
   "source": [
    "![image.png](imgs/nonlinear-overfit.png)\n",
    "\n",
    "In this image,\n",
    "the green and blue functions both incur a perfect score on the training data.\n",
    "From the shape of the green model,\n",
    "it seems like this would be a better generalization of the overall trend in the data\n",
    "and we would expect it to make more accurate predictions on unseen data points,\n",
    "that may lie between the training data points\n",
    "to avoid overfitting to the training data.\n",
    "We could also imagine that a straight line of simpler curve here would underfit the data.\n",
    "\n",
    "Hmmm, finding the best tradeoff between overfitting and underfitting... that sounds familiar!\n",
    "If we think of the strength of the penalty as a hyperparameter,\n",
    "we can find its optimal value via cross-validation!\n",
    "\n",
    "There are three common types of linear models that defines a penalty that lets us control the model complexity.\n",
    "These all try to minimize the coefficients in the model,\n",
    "making the fitted models less specific to the training data\n",
    "(i.e. a less complex model with lower slope or less squiggly line):\n",
    "\n",
    "- Ridge regression: Add a penalty based on the square coefficients\n",
    "- Lasso regression: Add a penalty based on the absolute values of the coefficients\n",
    "- Elastic net: Combine features of both Ridge and Lasso.\n",
    "\n",
    "In general, Lasso can lead to models that are easier to interpret\n",
    "because tries to bring some coeffiecients to 0,\n",
    "so that we can remove those terms from the model.\n",
    "However,\n",
    "Ridge and Elastic net are often more accurate in their predictions,\n",
    "so here we will look closer at ridge regression."
   ]
  },
  {
   "cell_type": "markdown",
   "metadata": {},
   "source": [
    "### Ridge regression in sklearn\n"
   ]
  },
  {
   "cell_type": "markdown",
   "metadata": {},
   "source": [
    "Let's see how we can perform ridge regression using sklearn.\n",
    "First we create some data where we have two features and one target variable."
   ]
  },
  {
   "cell_type": "code",
   "execution_count": 1,
   "metadata": {},
   "outputs": [
    {
     "data": {
      "text/html": [
       "<div>\n",
       "<style scoped>\n",
       "    .dataframe tbody tr th:only-of-type {\n",
       "        vertical-align: middle;\n",
       "    }\n",
       "\n",
       "    .dataframe tbody tr th {\n",
       "        vertical-align: top;\n",
       "    }\n",
       "\n",
       "    .dataframe thead th {\n",
       "        text-align: right;\n",
       "    }\n",
       "</style>\n",
       "<table border=\"1\" class=\"dataframe\">\n",
       "  <thead>\n",
       "    <tr style=\"text-align: right;\">\n",
       "      <th></th>\n",
       "      <th>X1</th>\n",
       "      <th>X2</th>\n",
       "      <th>y</th>\n",
       "    </tr>\n",
       "  </thead>\n",
       "  <tbody>\n",
       "    <tr>\n",
       "      <th>2</th>\n",
       "      <td>0.488518</td>\n",
       "      <td>-0.075572</td>\n",
       "      <td>29.204525</td>\n",
       "    </tr>\n",
       "    <tr>\n",
       "      <th>12</th>\n",
       "      <td>-1.100619</td>\n",
       "      <td>1.144724</td>\n",
       "      <td>-121.349297</td>\n",
       "    </tr>\n",
       "    <tr>\n",
       "      <th>1</th>\n",
       "      <td>0.186561</td>\n",
       "      <td>0.410052</td>\n",
       "      <td>41.954847</td>\n",
       "    </tr>\n",
       "    <tr>\n",
       "      <th>27</th>\n",
       "      <td>0.901591</td>\n",
       "      <td>0.502494</td>\n",
       "      <td>33.812508</td>\n",
       "    </tr>\n",
       "    <tr>\n",
       "      <th>16</th>\n",
       "      <td>1.659802</td>\n",
       "      <td>0.742044</td>\n",
       "      <td>127.769330</td>\n",
       "    </tr>\n",
       "  </tbody>\n",
       "</table>\n",
       "</div>"
      ],
      "text/plain": [
       "          X1        X2           y\n",
       "2   0.488518 -0.075572   29.204525\n",
       "12 -1.100619  1.144724 -121.349297\n",
       "1   0.186561  0.410052   41.954847\n",
       "27  0.901591  0.502494   33.812508\n",
       "16  1.659802  0.742044  127.769330"
      ]
     },
     "execution_count": 1,
     "metadata": {},
     "output_type": "execute_result"
    }
   ],
   "source": [
    "from sklearn.datasets import make_regression\n",
    "from sklearn.model_selection import train_test_split\n",
    "import pandas as pd\n",
    "\n",
    "\n",
    "# Create some data\n",
    "X, y = make_regression(\n",
    "    n_samples=50,\n",
    "    n_features=2,\n",
    "    n_informative=1,\n",
    "    n_targets=1,\n",
    "    noise=50,\n",
    "    random_state=1\n",
    ")\n",
    "df = pd.DataFrame(X, columns=['X1', 'X2'])\n",
    "df['y'] = y\n",
    "\n",
    "# Split into train and test\n",
    "train_df, test_df = train_test_split(df, test_size=0.1, random_state=7817)\n",
    "\n",
    "X_train = train_df.drop(columns='y')\n",
    "y_train = train_df['y']\n",
    "X_test = test_df.drop(columns='y')\n",
    "y_test = test_df['y']\n",
    "train_df.head()"
   ]
  },
  {
   "cell_type": "markdown",
   "metadata": {},
   "source": [
    "`Ridge`, has the same fit-predict paradigm as the other models we have seen. \n",
    "\n",
    "That means we can `fit` on the training set and `predict` a numeric prediction. "
   ]
  },
  {
   "cell_type": "code",
   "execution_count": 2,
   "metadata": {},
   "outputs": [
    {
     "data": {
      "text/plain": [
       "Ridge()"
      ]
     },
     "execution_count": 2,
     "metadata": {},
     "output_type": "execute_result"
    }
   ],
   "source": [
    "from sklearn.linear_model import Ridge\n",
    "\n",
    "\n",
    "rm = Ridge()\n",
    "rm.fit(X_train, y_train)"
   ]
  },
  {
   "cell_type": "markdown",
   "metadata": {},
   "source": [
    "We see that `predict` returns the predicted snake weight for our examples. "
   ]
  },
  {
   "cell_type": "code",
   "execution_count": 3,
   "metadata": {},
   "outputs": [
    {
     "data": {
      "text/plain": [
       "array([ 48.14709924, -89.93563854,  20.93794312,  80.61159204,\n",
       "       143.34714691])"
      ]
     },
     "execution_count": 3,
     "metadata": {},
     "output_type": "execute_result"
    }
   ],
   "source": [
    "rm.predict(X_train)[:5]"
   ]
  },
  {
   "cell_type": "code",
   "execution_count": 4,
   "metadata": {},
   "outputs": [
    {
     "data": {
      "text/plain": [
       "0.7264564645701241"
      ]
     },
     "execution_count": 4,
     "metadata": {},
     "output_type": "execute_result"
    }
   ],
   "source": [
    "rm.score(X_train, y_train)"
   ]
  },
  {
   "cell_type": "markdown",
   "metadata": {},
   "source": [
    "### Hyperparameter - `alpha`\n",
    "\n",
    "The name of the parameter for the regularization penalty in Ridge is `alpha`.\n",
    "By tuning this hyperparameter we can control the size of the coefficients / the model complexity.\n",
    "By default,\n",
    "`alpha=1` in sklearn\n",
    "and if we set `alpha=0`,\n",
    "there is no penalty\n",
    "and the results will be that same as using regular OLS linear regression."
   ]
  },
  {
   "cell_type": "code",
   "execution_count": 5,
   "metadata": {},
   "outputs": [
    {
     "name": "stdout",
     "output_type": "stream",
     "text": [
      "0.01\n",
      "0.1\n",
      "1.0\n",
      "10.0\n",
      "100.0\n"
     ]
    },
    {
     "data": {
      "text/html": [
       "<div>\n",
       "<style scoped>\n",
       "    .dataframe tbody tr th:only-of-type {\n",
       "        vertical-align: middle;\n",
       "    }\n",
       "\n",
       "    .dataframe tbody tr th {\n",
       "        vertical-align: top;\n",
       "    }\n",
       "\n",
       "    .dataframe thead th {\n",
       "        text-align: right;\n",
       "    }\n",
       "</style>\n",
       "<table border=\"1\" class=\"dataframe\">\n",
       "  <thead>\n",
       "    <tr style=\"text-align: right;\">\n",
       "      <th></th>\n",
       "      <th>alpha</th>\n",
       "      <th>coefficients</th>\n",
       "      <th>train_scores</th>\n",
       "      <th>cv_scores</th>\n",
       "    </tr>\n",
       "  </thead>\n",
       "  <tbody>\n",
       "    <tr>\n",
       "      <th>0</th>\n",
       "      <td>0.01</td>\n",
       "      <td>41.372294</td>\n",
       "      <td>0.721559</td>\n",
       "      <td>0.377179</td>\n",
       "    </tr>\n",
       "    <tr>\n",
       "      <th>1</th>\n",
       "      <td>0.10</td>\n",
       "      <td>41.174877</td>\n",
       "      <td>0.721547</td>\n",
       "      <td>0.378847</td>\n",
       "    </tr>\n",
       "    <tr>\n",
       "      <th>2</th>\n",
       "      <td>1.00</td>\n",
       "      <td>39.296810</td>\n",
       "      <td>0.720438</td>\n",
       "      <td>0.393447</td>\n",
       "    </tr>\n",
       "    <tr>\n",
       "      <th>3</th>\n",
       "      <td>10.00</td>\n",
       "      <td>26.872832</td>\n",
       "      <td>0.663075</td>\n",
       "      <td>0.426365</td>\n",
       "    </tr>\n",
       "    <tr>\n",
       "      <th>4</th>\n",
       "      <td>100.00</td>\n",
       "      <td>6.233716</td>\n",
       "      <td>0.275085</td>\n",
       "      <td>0.111138</td>\n",
       "    </tr>\n",
       "  </tbody>\n",
       "</table>\n",
       "</div>"
      ],
      "text/plain": [
       "    alpha  coefficients  train_scores  cv_scores\n",
       "0    0.01     41.372294      0.721559   0.377179\n",
       "1    0.10     41.174877      0.721547   0.378847\n",
       "2    1.00     39.296810      0.720438   0.393447\n",
       "3   10.00     26.872832      0.663075   0.426365\n",
       "4  100.00      6.233716      0.275085   0.111138"
      ]
     },
     "execution_count": 5,
     "metadata": {},
     "output_type": "execute_result"
    }
   ],
   "source": [
    "from sklearn.model_selection import cross_validate\n",
    "import numpy as np\n",
    "\n",
    "\n",
    "scores_dict = {\n",
    "    \"alpha\": 10.0**np.arange(-2, 3, 1),\n",
    "    \"coefficients\": list(),\n",
    "    \"train_scores\": list(),\n",
    "    \"cv_scores\": list(),\n",
    "}\n",
    "\n",
    "for alpha in scores_dict['alpha']:\n",
    "    print(alpha)\n",
    "    ridge_model = Ridge(alpha=alpha)\n",
    "    results = cross_validate(ridge_model, X_train, y_train, return_train_score=True, return_estimator=True)\n",
    "    avg_coef = np.array([est.coef_ for est in results['estimator']]).mean()\n",
    "    scores_dict['coefficients'].append(avg_coef)\n",
    "    scores_dict['train_scores'].append(results[\"train_score\"].mean())\n",
    "    scores_dict['cv_scores'].append(results[\"test_score\"].mean())\n",
    "\n",
    "pd.DataFrame(scores_dict)"
   ]
  },
  {
   "cell_type": "markdown",
   "metadata": {},
   "source": [
    "- As we increase `alpha`, we are ***decreasing*** our model complexity which means our training score is lower and we are more likely to underfit. \n",
    "\n",
    "- If we decrease `alpha`, our model complexity is increasing and consequentially our training score is increasing. Our chances of overfitting are going up. "
   ]
  },
  {
   "cell_type": "markdown",
   "metadata": {},
   "source": [
    "### Predicting house prices\n",
    "\n",
    "Let's take a look at a [Taiwan housing dataset](https://archive.ics.uci.edu/ml/datasets/Real+estate+valuation+data+set) that I've wrangled a bit. (Available in the data folder)  \n",
    "\n",
    "**Attribution:**\n",
    "Real Estate Dataset - The UCI Machine Learning Repository\n",
    "Yeh, I. C., & Hsu, T. K. (2018). Building real estate valuation models with comparative approach through case-based reasoning. Applied Soft Computing, 65, 260-271.\n",
    "\n",
    "`price` = house price of unit area (10000 New Taiwan Dollar/Ping, where Ping is a local unit, 1 Ping = 3.3 meter squared)"
   ]
  },
  {
   "cell_type": "code",
   "execution_count": 6,
   "metadata": {},
   "outputs": [
    {
     "data": {
      "text/html": [
       "<div>\n",
       "<style scoped>\n",
       "    .dataframe tbody tr th:only-of-type {\n",
       "        vertical-align: middle;\n",
       "    }\n",
       "\n",
       "    .dataframe tbody tr th {\n",
       "        vertical-align: top;\n",
       "    }\n",
       "\n",
       "    .dataframe thead th {\n",
       "        text-align: right;\n",
       "    }\n",
       "</style>\n",
       "<table border=\"1\" class=\"dataframe\">\n",
       "  <thead>\n",
       "    <tr style=\"text-align: right;\">\n",
       "      <th></th>\n",
       "      <th>house_age</th>\n",
       "      <th>distance_station</th>\n",
       "      <th>num_stores</th>\n",
       "      <th>latitude</th>\n",
       "      <th>longitude</th>\n",
       "      <th>price</th>\n",
       "    </tr>\n",
       "  </thead>\n",
       "  <tbody>\n",
       "    <tr>\n",
       "      <th>172</th>\n",
       "      <td>6.6</td>\n",
       "      <td>90.45606</td>\n",
       "      <td>9</td>\n",
       "      <td>24.97433</td>\n",
       "      <td>121.54310</td>\n",
       "      <td>58.1</td>\n",
       "    </tr>\n",
       "    <tr>\n",
       "      <th>230</th>\n",
       "      <td>4.0</td>\n",
       "      <td>2147.37600</td>\n",
       "      <td>3</td>\n",
       "      <td>24.96299</td>\n",
       "      <td>121.51284</td>\n",
       "      <td>33.4</td>\n",
       "    </tr>\n",
       "    <tr>\n",
       "      <th>346</th>\n",
       "      <td>13.2</td>\n",
       "      <td>1712.63200</td>\n",
       "      <td>2</td>\n",
       "      <td>24.96412</td>\n",
       "      <td>121.51670</td>\n",
       "      <td>30.8</td>\n",
       "    </tr>\n",
       "    <tr>\n",
       "      <th>244</th>\n",
       "      <td>4.8</td>\n",
       "      <td>1559.82700</td>\n",
       "      <td>3</td>\n",
       "      <td>24.97213</td>\n",
       "      <td>121.51627</td>\n",
       "      <td>21.7</td>\n",
       "    </tr>\n",
       "    <tr>\n",
       "      <th>367</th>\n",
       "      <td>15.0</td>\n",
       "      <td>1828.31900</td>\n",
       "      <td>2</td>\n",
       "      <td>24.96464</td>\n",
       "      <td>121.51531</td>\n",
       "      <td>20.9</td>\n",
       "    </tr>\n",
       "  </tbody>\n",
       "</table>\n",
       "</div>"
      ],
      "text/plain": [
       "     house_age  distance_station  num_stores  latitude  longitude  price\n",
       "172        6.6          90.45606           9  24.97433  121.54310   58.1\n",
       "230        4.0        2147.37600           3  24.96299  121.51284   33.4\n",
       "346       13.2        1712.63200           2  24.96412  121.51670   30.8\n",
       "244        4.8        1559.82700           3  24.97213  121.51627   21.7\n",
       "367       15.0        1828.31900           2  24.96464  121.51531   20.9"
      ]
     },
     "execution_count": 6,
     "metadata": {},
     "output_type": "execute_result"
    }
   ],
   "source": [
    "housing_df = pd.read_csv(\"data/real_estate.csv\")\n",
    "train_df, test_df = train_test_split(housing_df, test_size=0.1, random_state=1)\n",
    "train_df.head()"
   ]
  },
  {
   "cell_type": "markdown",
   "metadata": {},
   "source": [
    "I separate this into our `X` and `y` objects for each of our splits as follows: "
   ]
  },
  {
   "cell_type": "code",
   "execution_count": 7,
   "metadata": {},
   "outputs": [],
   "source": [
    "X_train, y_train = train_df.drop(columns=['price']), train_df['price']\n",
    "X_test, y_test = test_df.drop(columns=['price']), test_df['price']"
   ]
  },
  {
   "cell_type": "markdown",
   "metadata": {},
   "source": [
    "And now we can now use `Ridge` to predict the house price. \n",
    "\n",
    "We can create our model as usual and train it, and assess our training score."
   ]
  },
  {
   "cell_type": "code",
   "execution_count": 8,
   "metadata": {},
   "outputs": [
    {
     "data": {
      "text/plain": [
       "0.5170145681350131"
      ]
     },
     "execution_count": 8,
     "metadata": {},
     "output_type": "execute_result"
    }
   ],
   "source": [
    "lm = Ridge()\n",
    "lm.fit(X_train, y_train);\n",
    "training_score = lm.score(X_train, y_train)\n",
    "training_score"
   ]
  },
  {
   "cell_type": "code",
   "execution_count": 9,
   "metadata": {},
   "outputs": [
    {
     "name": "stdout",
     "output_type": "stream",
     "text": [
      "Fitting 5 folds for each of 5 candidates, totalling 25 fits\n",
      "[CV] END .........................................alpha=0.01; total time=   0.0s\n",
      "[CV] END .........................................alpha=0.01; total time=   0.0s\n",
      "[CV] END .........................................alpha=0.01; total time=   0.0s\n",
      "[CV] END .........................................alpha=0.01; total time=   0.0s\n",
      "[CV] END .........................................alpha=0.01; total time=   0.0s\n",
      "[CV] END ..........................................alpha=0.1; total time=   0.0s\n",
      "[CV] END ..........................................alpha=0.1; total time=   0.0s\n",
      "[CV] END ..........................................alpha=0.1; total time=   0.0s\n",
      "[CV] END ..........................................alpha=0.1; total time=   0.0s\n",
      "[CV] END ..........................................alpha=0.1; total time=   0.0s\n",
      "[CV] END ..........................................alpha=1.0; total time=   0.0s\n",
      "[CV] END ..........................................alpha=1.0; total time=   0.0s\n",
      "[CV] END ..........................................alpha=1.0; total time=   0.0s\n",
      "[CV] END ..........................................alpha=1.0; total time=   0.0s\n",
      "[CV] END ..........................................alpha=1.0; total time=   0.0s\n",
      "[CV] END .........................................alpha=10.0; total time=   0.0s\n",
      "[CV] END .........................................alpha=10.0; total time=   0.0s\n",
      "[CV] END .........................................alpha=10.0; total time=   0.0s\n",
      "[CV] END .........................................alpha=10.0; total time=   0.0s\n",
      "[CV] END .........................................alpha=10.0; total time=   0.0s\n",
      "[CV] END ........................................alpha=100.0; total time=   0.0s\n",
      "[CV] END ........................................alpha=100.0; total time=   0.0s\n",
      "[CV] END ........................................alpha=100.0; total time=   0.0s\n",
      "[CV] END ........................................alpha=100.0; total time=   0.0s\n",
      "[CV] END ........................................alpha=100.0; total time=   0.0s\n"
     ]
    },
    {
     "data": {
      "text/plain": [
       "RandomizedSearchCV(estimator=Ridge(), n_iter=5,\n",
       "                   param_distributions={'alpha': array([1.e-02, 1.e-01, 1.e+00, 1.e+01, 1.e+02])},\n",
       "                   verbose=2)"
      ]
     },
     "execution_count": 9,
     "metadata": {},
     "output_type": "execute_result"
    }
   ],
   "source": [
    "from sklearn.model_selection import RandomizedSearchCV\n",
    "\n",
    "param_values = {\n",
    "    'alpha': 10.0**np.arange(-2, 3, 1)\n",
    "}\n",
    "\n",
    "# Since we only have 5 alpha values, it doesn't really matter if we do a random or exhaustive search here\n",
    "rsearch = RandomizedSearchCV(lm, param_values, n_iter=5, verbose=2)\n",
    "rsearch.fit(X_train, y_train)"
   ]
  },
  {
   "cell_type": "code",
   "execution_count": 10,
   "metadata": {},
   "outputs": [
    {
     "data": {
      "text/plain": [
       "{'alpha': 0.01}"
      ]
     },
     "execution_count": 10,
     "metadata": {},
     "output_type": "execute_result"
    }
   ],
   "source": [
    "rsearch.best_params_"
   ]
  },
  {
   "cell_type": "code",
   "execution_count": 11,
   "metadata": {},
   "outputs": [
    {
     "data": {
      "text/plain": [
       "0.5289537262944801"
      ]
     },
     "execution_count": 11,
     "metadata": {},
     "output_type": "execute_result"
    }
   ],
   "source": [
    "rsearch.best_score_"
   ]
  },
  {
   "cell_type": "markdown",
   "metadata": {},
   "source": [
    "We saw that with linear classifiers we have coefficients associated with each feature of our model. \n",
    "\n",
    "How do we get that? We can use `.coef_` to obtain them from our trained model. "
   ]
  },
  {
   "cell_type": "code",
   "execution_count": 12,
   "metadata": {},
   "outputs": [
    {
     "data": {
      "text/plain": [
       "array([-2.57599383e-01, -4.60734705e-03,  1.15078981e+00,  1.93017638e+02,\n",
       "       -1.62794938e+01])"
      ]
     },
     "execution_count": 12,
     "metadata": {},
     "output_type": "execute_result"
    }
   ],
   "source": [
    "# Return the best model\n",
    "lm = rsearch.best_estimator_\n",
    "\n",
    "lm.coef_"
   ]
  },
  {
   "cell_type": "markdown",
   "metadata": {},
   "source": [
    "It gives us 5 coefficients one for each feature. \n",
    "\n",
    "These coefficients are learned during the fit stage. \n",
    "\n",
    "We can also get the intercept with `.intercept_`"
   ]
  },
  {
   "cell_type": "code",
   "execution_count": 13,
   "metadata": {},
   "outputs": [
    {
     "data": {
      "text/plain": [
       "-2797.9802786654136"
      ]
     },
     "execution_count": 13,
     "metadata": {},
     "output_type": "execute_result"
    }
   ],
   "source": [
    "lm.intercept_"
   ]
  },
  {
   "cell_type": "markdown",
   "metadata": {},
   "source": [
    "But how are these useful? \n",
    "\n",
    "One of the primary advantages of linear classifiers is their ability to interpret models using these coefficients. \n",
    "\n",
    "What do these mean? \n",
    "\n",
    "We have our coefficients but we should see which feature corresponds to which coefficient. \n",
    "\n",
    "We can do that by making a dataframe with both values. "
   ]
  },
  {
   "cell_type": "code",
   "execution_count": 14,
   "metadata": {},
   "outputs": [
    {
     "data": {
      "text/html": [
       "<div>\n",
       "<style scoped>\n",
       "    .dataframe tbody tr th:only-of-type {\n",
       "        vertical-align: middle;\n",
       "    }\n",
       "\n",
       "    .dataframe tbody tr th {\n",
       "        vertical-align: top;\n",
       "    }\n",
       "\n",
       "    .dataframe thead th {\n",
       "        text-align: right;\n",
       "    }\n",
       "</style>\n",
       "<table border=\"1\" class=\"dataframe\">\n",
       "  <thead>\n",
       "    <tr style=\"text-align: right;\">\n",
       "      <th></th>\n",
       "      <th>Coefficients</th>\n",
       "    </tr>\n",
       "  </thead>\n",
       "  <tbody>\n",
       "    <tr>\n",
       "      <th>house_age</th>\n",
       "      <td>-0.257599</td>\n",
       "    </tr>\n",
       "    <tr>\n",
       "      <th>distance_station</th>\n",
       "      <td>-0.004607</td>\n",
       "    </tr>\n",
       "    <tr>\n",
       "      <th>num_stores</th>\n",
       "      <td>1.150790</td>\n",
       "    </tr>\n",
       "    <tr>\n",
       "      <th>latitude</th>\n",
       "      <td>193.017638</td>\n",
       "    </tr>\n",
       "    <tr>\n",
       "      <th>longitude</th>\n",
       "      <td>-16.279494</td>\n",
       "    </tr>\n",
       "  </tbody>\n",
       "</table>\n",
       "</div>"
      ],
      "text/plain": [
       "                  Coefficients\n",
       "house_age            -0.257599\n",
       "distance_station     -0.004607\n",
       "num_stores            1.150790\n",
       "latitude            193.017638\n",
       "longitude           -16.279494"
      ]
     },
     "execution_count": 14,
     "metadata": {},
     "output_type": "execute_result"
    }
   ],
   "source": [
    "words_coeffs_df = pd.DataFrame(data=lm.coef_, index=X_train.columns, columns=['Coefficients'])\n",
    "words_coeffs_df"
   ]
  },
  {
   "cell_type": "markdown",
   "metadata": {},
   "source": [
    "We can use these coefficients to interpret our model. They show us how much each of these features affects our **model's** prediction.\n",
    "\n",
    "For example, if we had a house with 2 stores nearby, our `num_stores` value is 2. That means that 2 * 1.15 = 2.3 will contribute to our predicted price!\n",
    "\n",
    "The negative coefficients work in the opposite way, for example, every unit increase in age of a house will, subtracts 0.26 from the house's predicted value.\n",
    "\n",
    "We can also look at the absolute values of the coefficients to see how important a feature is. \n",
    "\n",
    "However, we have to be very careful about this - remember scaling?! We can't necessarily say latitude is the most important since latitude may be on a different scale. \n",
    "\n",
    "It's important to be careful here though because this depends on the scaling of the features. Larger features will have smaller coefficients, but if we scale our features before we build our model then they are on a somewhat level playing field! (Another reason we should be scaling our features!)"
   ]
  },
  {
   "cell_type": "markdown",
   "metadata": {},
   "source": [
    "### To summarize\n",
    "\n",
    "In linear models: \n",
    "\n",
    "- if the coefficient is positive, then increasing the feature values increases the prediction value.  \n",
    "- if the coefficient is negative, then increasing the feature values decreases the prediction value.  \n",
    "- if the coefficient is zero, the feature is not used in making a prediction\n"
   ]
  },
  {
   "cell_type": "markdown",
   "metadata": {},
   "source": [
    "### Prediction Example \n",
    "\n",
    "Let's take a look at a single example here. \n",
    "\n",
    "The values in this are the input features. \n",
    "\n",
    "We can use `predict()` on our features to get the prediction value."
   ]
  },
  {
   "cell_type": "code",
   "execution_count": 15,
   "metadata": {},
   "outputs": [
    {
     "data": {
      "text/html": [
       "<div>\n",
       "<style scoped>\n",
       "    .dataframe tbody tr th:only-of-type {\n",
       "        vertical-align: middle;\n",
       "    }\n",
       "\n",
       "    .dataframe tbody tr th {\n",
       "        vertical-align: top;\n",
       "    }\n",
       "\n",
       "    .dataframe thead th {\n",
       "        text-align: right;\n",
       "    }\n",
       "</style>\n",
       "<table border=\"1\" class=\"dataframe\">\n",
       "  <thead>\n",
       "    <tr style=\"text-align: right;\">\n",
       "      <th></th>\n",
       "      <th>house_age</th>\n",
       "      <th>distance_station</th>\n",
       "      <th>num_stores</th>\n",
       "      <th>latitude</th>\n",
       "      <th>longitude</th>\n",
       "    </tr>\n",
       "  </thead>\n",
       "  <tbody>\n",
       "    <tr>\n",
       "      <th>172</th>\n",
       "      <td>6.6</td>\n",
       "      <td>90.45606</td>\n",
       "      <td>9</td>\n",
       "      <td>24.97433</td>\n",
       "      <td>121.5431</td>\n",
       "    </tr>\n",
       "  </tbody>\n",
       "</table>\n",
       "</div>"
      ],
      "text/plain": [
       "     house_age  distance_station  num_stores  latitude  longitude\n",
       "172        6.6          90.45606           9  24.97433   121.5431"
      ]
     },
     "execution_count": 15,
     "metadata": {},
     "output_type": "execute_result"
    }
   ],
   "source": [
    "X_train.iloc[0:1]"
   ]
  },
  {
   "cell_type": "code",
   "execution_count": 16,
   "metadata": {},
   "outputs": [
    {
     "data": {
      "text/plain": [
       "array([52.08596417])"
      ]
     },
     "execution_count": 16,
     "metadata": {},
     "output_type": "execute_result"
    }
   ],
   "source": [
    "lm.predict(X_train.iloc[0:1])"
   ]
  },
  {
   "cell_type": "markdown",
   "metadata": {},
   "source": [
    "Using our coefficients, and the model's intercept we can calculate the model's predictions ourselves as well. "
   ]
  },
  {
   "cell_type": "code",
   "execution_count": 17,
   "metadata": {},
   "outputs": [
    {
     "data": {
      "text/html": [
       "<div>\n",
       "<style scoped>\n",
       "    .dataframe tbody tr th:only-of-type {\n",
       "        vertical-align: middle;\n",
       "    }\n",
       "\n",
       "    .dataframe tbody tr th {\n",
       "        vertical-align: top;\n",
       "    }\n",
       "\n",
       "    .dataframe thead th {\n",
       "        text-align: right;\n",
       "    }\n",
       "</style>\n",
       "<table border=\"1\" class=\"dataframe\">\n",
       "  <thead>\n",
       "    <tr style=\"text-align: right;\">\n",
       "      <th></th>\n",
       "      <th>house_age</th>\n",
       "      <th>distance_station</th>\n",
       "      <th>num_stores</th>\n",
       "      <th>latitude</th>\n",
       "      <th>longitude</th>\n",
       "    </tr>\n",
       "  </thead>\n",
       "  <tbody>\n",
       "    <tr>\n",
       "      <th>Coefficients</th>\n",
       "      <td>-0.257599</td>\n",
       "      <td>-0.004607</td>\n",
       "      <td>1.15079</td>\n",
       "      <td>193.017638</td>\n",
       "      <td>-16.279494</td>\n",
       "    </tr>\n",
       "  </tbody>\n",
       "</table>\n",
       "</div>"
      ],
      "text/plain": [
       "              house_age  distance_station  num_stores    latitude  longitude\n",
       "Coefficients  -0.257599         -0.004607     1.15079  193.017638 -16.279494"
      ]
     },
     "execution_count": 17,
     "metadata": {},
     "output_type": "execute_result"
    }
   ],
   "source": [
    "words_coeffs_df.T"
   ]
  },
  {
   "cell_type": "code",
   "execution_count": 18,
   "metadata": {},
   "outputs": [
    {
     "data": {
      "text/html": [
       "<div>\n",
       "<style scoped>\n",
       "    .dataframe tbody tr th:only-of-type {\n",
       "        vertical-align: middle;\n",
       "    }\n",
       "\n",
       "    .dataframe tbody tr th {\n",
       "        vertical-align: top;\n",
       "    }\n",
       "\n",
       "    .dataframe thead th {\n",
       "        text-align: right;\n",
       "    }\n",
       "</style>\n",
       "<table border=\"1\" class=\"dataframe\">\n",
       "  <thead>\n",
       "    <tr style=\"text-align: right;\">\n",
       "      <th></th>\n",
       "      <th>house_age</th>\n",
       "      <th>distance_station</th>\n",
       "      <th>num_stores</th>\n",
       "      <th>latitude</th>\n",
       "      <th>longitude</th>\n",
       "    </tr>\n",
       "  </thead>\n",
       "  <tbody>\n",
       "    <tr>\n",
       "      <th>172</th>\n",
       "      <td>6.6</td>\n",
       "      <td>90.45606</td>\n",
       "      <td>9</td>\n",
       "      <td>24.97433</td>\n",
       "      <td>121.5431</td>\n",
       "    </tr>\n",
       "  </tbody>\n",
       "</table>\n",
       "</div>"
      ],
      "text/plain": [
       "     house_age  distance_station  num_stores  latitude  longitude\n",
       "172        6.6          90.45606           9  24.97433   121.5431"
      ]
     },
     "execution_count": 18,
     "metadata": {},
     "output_type": "execute_result"
    }
   ],
   "source": [
    "X_train.iloc[0:1]"
   ]
  },
  {
   "cell_type": "code",
   "execution_count": 19,
   "metadata": {},
   "outputs": [
    {
     "data": {
      "text/plain": [
       "-2797.9802786654136"
      ]
     },
     "execution_count": 19,
     "metadata": {},
     "output_type": "execute_result"
    }
   ],
   "source": [
    "lm.intercept_"
   ]
  },
  {
   "cell_type": "markdown",
   "metadata": {},
   "source": [
    "$$\\begin{align}\n",
    "\\text{predicted}(price) \\text{       } & =   \\text{coefficient}_{\\text{house_age}} * \\text{house_age}  \\\\ &+ \\text{ }\\text{coefficient}_{\\text{distance_station}} * \\text{distance_station} \\\\  &+ \\text{ } \\text{coefficient}_{\\text{num_stores}} * \\text{num_stores}  \\\\ &+ \\text{ } \\text{coefficient}_{\\text{latitude}} * \\text{latitude}\n",
    "\\\\ &+ \\text{ } \\text{coefficient}_{\\text{longitude}} * \\text{longitude} \\\\ &+ \\text{ } \\text{intercept}\n",
    "\\end{align}$$"
   ]
  },
  {
   "cell_type": "code",
   "execution_count": 20,
   "metadata": {},
   "outputs": [
    {
     "data": {
      "text/plain": [
       "172    52.085964\n",
       "dtype: float64"
      ]
     },
     "execution_count": 20,
     "metadata": {},
     "output_type": "execute_result"
    }
   ],
   "source": [
    "(lm.coef_ * X_train.iloc[0:1]).sum(axis=1) + lm.intercept_"
   ]
  },
  {
   "cell_type": "markdown",
   "metadata": {},
   "source": [
    "All of these feature values multiplied by the coefficients then adding the intercept, contribute to our prediction. \n",
    "\n",
    "When we do this by hand using the model's coefficients and intercept, we get the same as if we used `predict`."
   ]
  },
  {
   "cell_type": "markdown",
   "metadata": {},
   "source": [
    "## Let's Practice\n",
    "\n",
    "1\\. What is the purpose of the alpha hyperparameter in ridge regression?   \n",
    "2\\. What value of this hyperparameter makes it equivalent to using `LinearRegression`?    \n",
    "\n",
    "\n",
    "3\\. Use the following equation to answer the questions below:     \n",
    "\n",
    "$ \\text{predicted(backpack_weight)} =  3.02 * \\text{#laptops} + 0.3 * \\text{#pencils} + 0.5 $\n",
    "\n",
    "What is our intercept value?    \n",
    "\n",
    "4\\. If I had 2 laptops 3 pencils in my backpack, what weight would my model predict for my backpack?   \n",
    "\n",
    "**True or False:**  \n",
    "\n",
    "5\\. Ridge is a regression modelling approach.       \n",
    "6\\. Increasing the alpha hyperparameter increases model complexity.      \n",
    "7\\. `Ridge` can be used with datasets that have multiple features.      \n",
    "8\\. With `Ridge`, we learn one coefficient per training example.      \n",
    "9\\. Coefficients can help us interpret our model even if unscaled, but they are easier to compare if features are scaled first.\n"
   ]
  },
  {
   "cell_type": "markdown",
   "metadata": {},
   "source": [
    "```{admonition} Solutions!\n",
    ":class: dropdown\n",
    "\n",
    "1. `alpha`\n",
    "2. 0\n",
    "3. 0.5\n",
    "4. 7.44\n",
    "5. True\n",
    "6. False\n",
    "7. True\n",
    "8. False\n",
    "9. True\n",
    "```"
   ]
  },
  {
   "cell_type": "markdown",
   "metadata": {},
   "source": [
    "## Logistic regression - classification using regression\n",
    "\n",
    "Next, we are going to introduce to you a new model called **logistic regression**,\n",
    "which be used for classification."
   ]
  },
  {
   "cell_type": "markdown",
   "metadata": {},
   "source": [
    "We are going to bring back our cities dataset we saw at the beginning of this course."
   ]
  },
  {
   "cell_type": "code",
   "execution_count": 21,
   "metadata": {},
   "outputs": [
    {
     "data": {
      "text/html": [
       "<div>\n",
       "<style scoped>\n",
       "    .dataframe tbody tr th:only-of-type {\n",
       "        vertical-align: middle;\n",
       "    }\n",
       "\n",
       "    .dataframe tbody tr th {\n",
       "        vertical-align: top;\n",
       "    }\n",
       "\n",
       "    .dataframe thead th {\n",
       "        text-align: right;\n",
       "    }\n",
       "</style>\n",
       "<table border=\"1\" class=\"dataframe\">\n",
       "  <thead>\n",
       "    <tr style=\"text-align: right;\">\n",
       "      <th></th>\n",
       "      <th>longitude</th>\n",
       "      <th>latitude</th>\n",
       "      <th>country</th>\n",
       "    </tr>\n",
       "  </thead>\n",
       "  <tbody>\n",
       "    <tr>\n",
       "      <th>160</th>\n",
       "      <td>-76.4813</td>\n",
       "      <td>44.2307</td>\n",
       "      <td>Canada</td>\n",
       "    </tr>\n",
       "    <tr>\n",
       "      <th>127</th>\n",
       "      <td>-81.2496</td>\n",
       "      <td>42.9837</td>\n",
       "      <td>Canada</td>\n",
       "    </tr>\n",
       "    <tr>\n",
       "      <th>169</th>\n",
       "      <td>-66.0580</td>\n",
       "      <td>45.2788</td>\n",
       "      <td>Canada</td>\n",
       "    </tr>\n",
       "    <tr>\n",
       "      <th>188</th>\n",
       "      <td>-73.2533</td>\n",
       "      <td>45.3057</td>\n",
       "      <td>Canada</td>\n",
       "    </tr>\n",
       "    <tr>\n",
       "      <th>187</th>\n",
       "      <td>-67.9245</td>\n",
       "      <td>47.1652</td>\n",
       "      <td>Canada</td>\n",
       "    </tr>\n",
       "  </tbody>\n",
       "</table>\n",
       "</div>"
      ],
      "text/plain": [
       "     longitude  latitude country\n",
       "160   -76.4813   44.2307  Canada\n",
       "127   -81.2496   42.9837  Canada\n",
       "169   -66.0580   45.2788  Canada\n",
       "188   -73.2533   45.3057  Canada\n",
       "187   -67.9245   47.1652  Canada"
      ]
     },
     "execution_count": 21,
     "metadata": {},
     "output_type": "execute_result"
    }
   ],
   "source": [
    "cities_df = pd.read_csv(\"data/canada_usa_cities.csv\")\n",
    "train_df, test_df = train_test_split(cities_df, test_size=0.2, random_state=123)\n",
    "X_train, y_train = train_df.drop(columns=[\"country\"], axis=1), train_df[\"country\"]\n",
    "X_test, y_test = test_df.drop(columns=[\"country\"], axis=1), test_df[\"country\"]\n",
    "\n",
    "train_df.head()"
   ]
  },
  {
   "cell_type": "markdown",
   "metadata": {},
   "source": [
    "Although we have not always been doing this, we should always be building a baseline model before we do any type of meaningful modelling. \n",
    "\n",
    "Let's do that before we get straight into it so we can have a better idea of how well our model performs. "
   ]
  },
  {
   "cell_type": "code",
   "execution_count": 22,
   "metadata": {},
   "outputs": [
    {
     "data": {
      "text/plain": [
       "0.5988023952095808"
      ]
     },
     "execution_count": 22,
     "metadata": {},
     "output_type": "execute_result"
    }
   ],
   "source": [
    "from sklearn.dummy import DummyClassifier\n",
    "\n",
    "\n",
    "dc = DummyClassifier(strategy=\"prior\")\n",
    "dc.fit(X_train, y_train)\n",
    "dc.score(X_train, y_train)"
   ]
  },
  {
   "cell_type": "markdown",
   "metadata": {},
   "source": [
    "We import `LogisticRegression` from the `sklearn.linear_model` library as we did with `Ridge`. "
   ]
  },
  {
   "cell_type": "code",
   "execution_count": 23,
   "metadata": {},
   "outputs": [],
   "source": [
    "from sklearn.linear_model import LogisticRegression"
   ]
  },
  {
   "cell_type": "markdown",
   "metadata": {},
   "source": [
    "Let's make a pipeline and obtain the cross-validation scores. "
   ]
  },
  {
   "cell_type": "code",
   "execution_count": 24,
   "metadata": {},
   "outputs": [],
   "source": [
    "from sklearn.pipeline import make_pipeline\n",
    "from sklearn.impute import SimpleImputer\n",
    "from sklearn.preprocessing import StandardScaler\n",
    "\n",
    "log_pipe = make_pipeline(\n",
    "    SimpleImputer(),\n",
    "    StandardScaler(),\n",
    "    LogisticRegression()\n",
    ")"
   ]
  },
  {
   "cell_type": "code",
   "execution_count": 25,
   "metadata": {},
   "outputs": [
    {
     "data": {
      "text/html": [
       "<div>\n",
       "<style scoped>\n",
       "    .dataframe tbody tr th:only-of-type {\n",
       "        vertical-align: middle;\n",
       "    }\n",
       "\n",
       "    .dataframe tbody tr th {\n",
       "        vertical-align: top;\n",
       "    }\n",
       "\n",
       "    .dataframe thead th {\n",
       "        text-align: right;\n",
       "    }\n",
       "</style>\n",
       "<table border=\"1\" class=\"dataframe\">\n",
       "  <thead>\n",
       "    <tr style=\"text-align: right;\">\n",
       "      <th></th>\n",
       "      <th>fit_time</th>\n",
       "      <th>score_time</th>\n",
       "      <th>test_score</th>\n",
       "      <th>train_score</th>\n",
       "    </tr>\n",
       "  </thead>\n",
       "  <tbody>\n",
       "    <tr>\n",
       "      <th>0</th>\n",
       "      <td>0.006916</td>\n",
       "      <td>0.001606</td>\n",
       "      <td>0.852941</td>\n",
       "      <td>0.827068</td>\n",
       "    </tr>\n",
       "    <tr>\n",
       "      <th>1</th>\n",
       "      <td>0.007973</td>\n",
       "      <td>0.001584</td>\n",
       "      <td>0.823529</td>\n",
       "      <td>0.827068</td>\n",
       "    </tr>\n",
       "    <tr>\n",
       "      <th>2</th>\n",
       "      <td>0.004361</td>\n",
       "      <td>0.001473</td>\n",
       "      <td>0.696970</td>\n",
       "      <td>0.858209</td>\n",
       "    </tr>\n",
       "    <tr>\n",
       "      <th>3</th>\n",
       "      <td>0.005226</td>\n",
       "      <td>0.001397</td>\n",
       "      <td>0.818182</td>\n",
       "      <td>0.828358</td>\n",
       "    </tr>\n",
       "    <tr>\n",
       "      <th>4</th>\n",
       "      <td>0.004498</td>\n",
       "      <td>0.001338</td>\n",
       "      <td>0.939394</td>\n",
       "      <td>0.805970</td>\n",
       "    </tr>\n",
       "  </tbody>\n",
       "</table>\n",
       "</div>"
      ],
      "text/plain": [
       "   fit_time  score_time  test_score  train_score\n",
       "0  0.006916    0.001606    0.852941     0.827068\n",
       "1  0.007973    0.001584    0.823529     0.827068\n",
       "2  0.004361    0.001473    0.696970     0.858209\n",
       "3  0.005226    0.001397    0.818182     0.828358\n",
       "4  0.004498    0.001338    0.939394     0.805970"
      ]
     },
     "execution_count": 25,
     "metadata": {},
     "output_type": "execute_result"
    }
   ],
   "source": [
    "scores = pd.DataFrame(cross_validate(log_pipe, X_train, y_train, return_train_score=True))\n",
    "scores"
   ]
  },
  {
   "cell_type": "code",
   "execution_count": 26,
   "metadata": {},
   "outputs": [
    {
     "data": {
      "text/plain": [
       "fit_time       0.005795\n",
       "score_time     0.001480\n",
       "test_score     0.826203\n",
       "train_score    0.829335\n",
       "dtype: float64"
      ]
     },
     "execution_count": 26,
     "metadata": {},
     "output_type": "execute_result"
    }
   ],
   "source": [
    "scores.mean()"
   ]
  },
  {
   "cell_type": "markdown",
   "metadata": {},
   "source": [
    "This time we can see that our training and cross-validation scores have increased from those of our `DummyClassifier`. \n",
    "\n",
    "We saw that with SVMs and decision trees that  we could visualize our model with decision boundaries and we can do the same thing with logistic regression.\n",
    "Here, we can see that a linear decision boundary separates our two target classes. "
   ]
  },
  {
   "cell_type": "code",
   "execution_count": 27,
   "metadata": {},
   "outputs": [
    {
     "name": "stderr",
     "output_type": "stream",
     "text": [
      "/home/joel/miniconda3/envs/bait/lib/python3.9/site-packages/sklearn/base.py:450: UserWarning: X does not have valid feature names, but SimpleImputer was fitted with feature names\n",
      "  warnings.warn(\n"
     ]
    },
    {
     "data": {
      "image/png": "[encoded data removed]",
      "text/plain": [
       "<Figure size 432x288 with 1 Axes>"
      ]
     },
     "metadata": {
      "needs_background": "light"
     },
     "output_type": "display_data"
    }
   ],
   "source": [
    "from plot_classifier import plot_classifier\n",
    "import matplotlib.pyplot as plt\n",
    "\n",
    "log_pipe.fit(X_train, y_train);\n",
    "plot_classifier(X_train, y_train, log_pipe, ax=plt.gca(), ticks=True)\n",
    "plt.xticks(fontsize= 16);\n",
    "plt.yticks(fontsize= 16);\n",
    "plt.title(\"Logistic Regression\", fontsize=22);\n",
    "plt.xlabel(\"longitude\", fontsize=18);\n",
    "plt.ylabel(\"latitude\", fontsize=18);"
   ]
  },
  {
   "cell_type": "markdown",
   "metadata": {},
   "source": [
    "If we look at some other models that we did this in comparison for you can understand a bit more on why we call Logistic Regression a “linear classifier”."
   ]
  },
  {
   "cell_type": "code",
   "execution_count": 28,
   "metadata": {},
   "outputs": [
    {
     "name": "stderr",
     "output_type": "stream",
     "text": [
      "/home/joel/miniconda3/envs/bait/lib/python3.9/site-packages/sklearn/base.py:450: UserWarning: X does not have valid feature names, but KNeighborsClassifier was fitted with feature names\n",
      "  warnings.warn(\n",
      "/home/joel/miniconda3/envs/bait/lib/python3.9/site-packages/sklearn/base.py:450: UserWarning: X does not have valid feature names, but SVC was fitted with feature names\n",
      "  warnings.warn(\n",
      "/home/joel/miniconda3/envs/bait/lib/python3.9/site-packages/sklearn/base.py:450: UserWarning: X does not have valid feature names, but LogisticRegression was fitted with feature names\n",
      "  warnings.warn(\n"
     ]
    },
    {
     "data": {
      "image/png": "[encoded data removed]",
      "text/plain": [
       "<Figure size 1440x288 with 3 Axes>"
      ]
     },
     "metadata": {},
     "output_type": "display_data"
    }
   ],
   "source": [
    "from sklearn.neighbors import KNeighborsClassifier\n",
    "from sklearn.svm import SVC\n",
    "\n",
    "models = {\n",
    "    \"KNN\": KNeighborsClassifier(),    \n",
    "    \"RBF SVM\": SVC(gamma = 0.01),    \n",
    "    \"Logistic Regression\": LogisticRegression()\n",
    "}\n",
    "\n",
    "plt.figure(figsize=(20, 4))\n",
    "i = 0\n",
    "for name, model in models.items():    \n",
    "    plt.subplot(1, 4, i + 1)\n",
    "    model.fit(X_train, y_train)\n",
    "    plot_classifier(X_train, y_train, model, ax=plt.gca())\n",
    "    plt.xticks();\n",
    "    plt.yticks();\n",
    "    plt.title(name, fontsize=14)\n",
    "    plt.xlabel(\"longitude\")\n",
    "    plt.ylabel(\"latitude\")\n",
    "    i += 1"
   ]
  },
  {
   "cell_type": "markdown",
   "metadata": {},
   "source": [
    "Notice a linear decision boundary (a line in our case)."
   ]
  },
  {
   "cell_type": "markdown",
   "metadata": {},
   "source": [
    "### Coefficients \n",
    "\n",
    "Just like we saw for `Ridge`. we can get the equation of that line and the coefficients of our `latitude` and `longitude` features using `.coef_`."
   ]
  },
  {
   "cell_type": "code",
   "execution_count": 29,
   "metadata": {},
   "outputs": [],
   "source": [
    "logr_step_pipe = log_pipe.named_steps['logisticregression']"
   ]
  },
  {
   "cell_type": "code",
   "execution_count": 30,
   "metadata": {},
   "outputs": [
    {
     "name": "stdout",
     "output_type": "stream",
     "text": [
      "Model coefficients: [[-0.72330355 -1.64254763]]\n",
      "Model intercept: [-0.30837315]\n"
     ]
    }
   ],
   "source": [
    "print(\"Model coefficients:\", logr_step_pipe.coef_)\n",
    "print(\"Model intercept:\", logr_step_pipe.intercept_)"
   ]
  },
  {
   "cell_type": "code",
   "execution_count": 31,
   "metadata": {},
   "outputs": [
    {
     "data": {
      "text/html": [
       "<div>\n",
       "<style scoped>\n",
       "    .dataframe tbody tr th:only-of-type {\n",
       "        vertical-align: middle;\n",
       "    }\n",
       "\n",
       "    .dataframe tbody tr th {\n",
       "        vertical-align: top;\n",
       "    }\n",
       "\n",
       "    .dataframe thead th {\n",
       "        text-align: right;\n",
       "    }\n",
       "</style>\n",
       "<table border=\"1\" class=\"dataframe\">\n",
       "  <thead>\n",
       "    <tr style=\"text-align: right;\">\n",
       "      <th></th>\n",
       "      <th>features</th>\n",
       "      <th>coefficients</th>\n",
       "    </tr>\n",
       "  </thead>\n",
       "  <tbody>\n",
       "    <tr>\n",
       "      <th>0</th>\n",
       "      <td>longitude</td>\n",
       "      <td>-0.723304</td>\n",
       "    </tr>\n",
       "    <tr>\n",
       "      <th>1</th>\n",
       "      <td>latitude</td>\n",
       "      <td>-1.642548</td>\n",
       "    </tr>\n",
       "  </tbody>\n",
       "</table>\n",
       "</div>"
      ],
      "text/plain": [
       "    features  coefficients\n",
       "0  longitude     -0.723304\n",
       "1   latitude     -1.642548"
      ]
     },
     "execution_count": 31,
     "metadata": {},
     "output_type": "execute_result"
    }
   ],
   "source": [
    "data = {'features': X_train.columns, 'coefficients':logr_step_pipe.coef_[0]}\n",
    "pd.DataFrame(data)"
   ]
  },
  {
   "cell_type": "markdown",
   "metadata": {},
   "source": [
    "In this case, we see that both are negative coefficients. \n",
    "\n",
    "We also can see that the coefficient of latitude is larger in magnitude than that of longitude. \n",
    "\n",
    "This makes a lot of sense because Canada as a country lies above the USA and so we expect `latitude` values to contribute more to a prediction than `longitude` which Canada and the `USA` have quite similar values."
   ]
  },
  {
   "cell_type": "markdown",
   "metadata": {},
   "source": [
    "### Predictions"
   ]
  },
  {
   "cell_type": "markdown",
   "metadata": {},
   "source": [
    "Above we said that larger coefficients \"contribute\" more to the prediction than smaller ones for `Ridge`. What is the analog for logistic regression?\n",
    "\n",
    "With logistic regression, the model randomly assigns one of the classes as the positive class and the other as negative. \n",
    "\n",
    "Here since \"Canada\" comes first when we call `.classes_` it is the \"negative class and `USA` is the positive class. (This is in alphabetical order). "
   ]
  },
  {
   "cell_type": "code",
   "execution_count": 32,
   "metadata": {},
   "outputs": [
    {
     "data": {
      "text/plain": [
       "array(['Canada', 'USA'], dtype=object)"
      ]
     },
     "execution_count": 32,
     "metadata": {},
     "output_type": "execute_result"
    }
   ],
   "source": [
    "logr_step_pipe.classes_"
   ]
  },
  {
   "cell_type": "markdown",
   "metadata": {},
   "source": [
    "When it comes to the coefficients, when there is a positive coefficient, increasing that feature will make our prediction more positive which means our prediction is going to lean more toward the positive class (in this case `USA`).\n",
    "\n",
    "Ok, let's take an example from our test set and calculate the outcome using our coefficients and intercept. "
   ]
  },
  {
   "cell_type": "code",
   "execution_count": 33,
   "metadata": {},
   "outputs": [
    {
     "data": {
      "text/plain": [
       "[-64.8001, 46.098]"
      ]
     },
     "execution_count": 33,
     "metadata": {},
     "output_type": "execute_result"
    }
   ],
   "source": [
    "example = X_test.iloc[0,:]\n",
    "example.tolist()"
   ]
  },
  {
   "cell_type": "markdown",
   "metadata": {},
   "source": [
    "We can do this the exact same way as we did for Ridge. "
   ]
  },
  {
   "cell_type": "code",
   "execution_count": 34,
   "metadata": {},
   "outputs": [
    {
     "data": {
      "text/plain": [
       "array([-29.15639126])"
      ]
     },
     "execution_count": 34,
     "metadata": {},
     "output_type": "execute_result"
    }
   ],
   "source": [
    "(example.tolist() * logr_step_pipe.coef_).sum(axis=1) + logr_step_pipe.intercept_ "
   ]
  },
  {
   "cell_type": "markdown",
   "metadata": {},
   "source": [
    "We get a value of -29.15639126. \n",
    "\n",
    "What does that mean? I thought we were predicting a class? \n",
    "\n",
    "For logistic regression, we check the **sign** of the calculation only.\n",
    "\n",
    "If the result was positive, it predicts one class; if negative, it predicts the other.\n",
    "\n",
    "That means everything negative corresponds to \"Canada\" and everything positive predicts a class of \"USA\".\n",
    "\n",
    "Since it's negative we predict `Canada`, which is our negative class. "
   ]
  },
  {
   "cell_type": "code",
   "execution_count": 35,
   "metadata": {},
   "outputs": [
    {
     "name": "stderr",
     "output_type": "stream",
     "text": [
      "/home/joel/miniconda3/envs/bait/lib/python3.9/site-packages/sklearn/base.py:450: UserWarning: X does not have valid feature names, but SimpleImputer was fitted with feature names\n",
      "  warnings.warn(\n"
     ]
    },
    {
     "data": {
      "text/plain": [
       "array(['Canada'], dtype=object)"
      ]
     },
     "execution_count": 35,
     "metadata": {},
     "output_type": "execute_result"
    }
   ],
   "source": [
    "log_pipe.predict([example])"
   ]
  },
  {
   "cell_type": "markdown",
   "metadata": {},
   "source": [
    "Using `predict`, we can see that it predicts the negative class as well! \n",
    "\n",
    "These are \"hard predictions\" but we can also use this for something called \"soft predictions\" as well. (Remember `predict_proba`? That's going to be coming back in a second) "
   ]
  },
  {
   "cell_type": "markdown",
   "metadata": {},
   "source": [
    "### Logistic Regression Hyperparameter `C`\n",
    "\n",
    "At this point, you should be feeling pretty comfortable with hyperparameters. \n",
    "\n",
    "We saw that `Ridge` has the hyperparameter `alpha`, well `C` (annoyingly) has the opposite effect on the fundamental trade-off. \n",
    "\n",
    "In general, we say smaller `C` leads to a less complex model (whereas with `Ridge`, lower `alpha` means higher complexity). \n",
    "\n",
    "Higher values of `C` leads to more overfitting and lower values to less overfitting. "
   ]
  },
  {
   "cell_type": "code",
   "execution_count": 36,
   "metadata": {},
   "outputs": [
    {
     "data": {
      "text/html": [
       "<div>\n",
       "<style scoped>\n",
       "    .dataframe tbody tr th:only-of-type {\n",
       "        vertical-align: middle;\n",
       "    }\n",
       "\n",
       "    .dataframe tbody tr th {\n",
       "        vertical-align: top;\n",
       "    }\n",
       "\n",
       "    .dataframe thead th {\n",
       "        text-align: right;\n",
       "    }\n",
       "</style>\n",
       "<table border=\"1\" class=\"dataframe\">\n",
       "  <thead>\n",
       "    <tr style=\"text-align: right;\">\n",
       "      <th></th>\n",
       "      <th>C</th>\n",
       "      <th>train_score</th>\n",
       "      <th>cv_score</th>\n",
       "    </tr>\n",
       "  </thead>\n",
       "  <tbody>\n",
       "    <tr>\n",
       "      <th>0</th>\n",
       "      <td>0.000001</td>\n",
       "      <td>0.598810</td>\n",
       "      <td>0.598930</td>\n",
       "    </tr>\n",
       "    <tr>\n",
       "      <th>1</th>\n",
       "      <td>0.000010</td>\n",
       "      <td>0.598810</td>\n",
       "      <td>0.598930</td>\n",
       "    </tr>\n",
       "    <tr>\n",
       "      <th>2</th>\n",
       "      <td>0.000100</td>\n",
       "      <td>0.664707</td>\n",
       "      <td>0.658645</td>\n",
       "    </tr>\n",
       "    <tr>\n",
       "      <th>3</th>\n",
       "      <td>0.001000</td>\n",
       "      <td>0.784424</td>\n",
       "      <td>0.790731</td>\n",
       "    </tr>\n",
       "    <tr>\n",
       "      <th>4</th>\n",
       "      <td>0.010000</td>\n",
       "      <td>0.827842</td>\n",
       "      <td>0.826203</td>\n",
       "    </tr>\n",
       "    <tr>\n",
       "      <th>5</th>\n",
       "      <td>0.100000</td>\n",
       "      <td>0.832320</td>\n",
       "      <td>0.820143</td>\n",
       "    </tr>\n",
       "    <tr>\n",
       "      <th>6</th>\n",
       "      <td>1.000000</td>\n",
       "      <td>0.832320</td>\n",
       "      <td>0.820143</td>\n",
       "    </tr>\n",
       "    <tr>\n",
       "      <th>7</th>\n",
       "      <td>10.000000</td>\n",
       "      <td>0.832320</td>\n",
       "      <td>0.820143</td>\n",
       "    </tr>\n",
       "  </tbody>\n",
       "</table>\n",
       "</div>"
      ],
      "text/plain": [
       "           C  train_score  cv_score\n",
       "0   0.000001     0.598810  0.598930\n",
       "1   0.000010     0.598810  0.598930\n",
       "2   0.000100     0.664707  0.658645\n",
       "3   0.001000     0.784424  0.790731\n",
       "4   0.010000     0.827842  0.826203\n",
       "5   0.100000     0.832320  0.820143\n",
       "6   1.000000     0.832320  0.820143\n",
       "7  10.000000     0.832320  0.820143"
      ]
     },
     "execution_count": 36,
     "metadata": {},
     "output_type": "execute_result"
    }
   ],
   "source": [
    "scores_dict ={\n",
    "    \"C\" :10.0**np.arange(-6,2,1),\n",
    "    \"train_score\" : list(),\n",
    "    \"cv_score\" : list(),\n",
    "}\n",
    "\n",
    "for C in scores_dict['C']:\n",
    "    lr_model = LogisticRegression(C=C)\n",
    "    results = cross_validate(lr_model, X_train, y_train, return_train_score=True)\n",
    "    scores_dict['train_score'].append(results[\"train_score\"].mean())\n",
    "    scores_dict['cv_score'].append(results[\"test_score\"].mean())\n",
    "\n",
    "pd.DataFrame(scores_dict)"
   ]
  },
  {
   "cell_type": "markdown",
   "metadata": {},
   "source": [
    "`LogisticRegression`'s default `C` hyperparameter is 1. \n",
    "\n",
    "Let's see what kind of value we get if we do `RandomizedGrid`. "
   ]
  },
  {
   "cell_type": "code",
   "execution_count": 37,
   "metadata": {},
   "outputs": [
    {
     "name": "stdout",
     "output_type": "stream",
     "text": [
      "Fitting 5 folds for each of 10 candidates, totalling 50 fits\n"
     ]
    }
   ],
   "source": [
    "import scipy\n",
    "from sklearn.model_selection import RandomizedSearchCV\n",
    "\n",
    "param_grid = {\n",
    "    \"logisticregression__C\": scipy.stats.uniform(0, 100)}\n",
    "\n",
    "grid_search = RandomizedSearchCV(log_pipe, param_grid, cv=5, return_train_score=True, verbose=1, n_jobs=-1)\n",
    "grid_search.fit(X_train, y_train);"
   ]
  },
  {
   "cell_type": "code",
   "execution_count": 38,
   "metadata": {},
   "outputs": [
    {
     "data": {
      "text/plain": [
       "{'logisticregression__C': 30.246571684158006}"
      ]
     },
     "execution_count": 38,
     "metadata": {},
     "output_type": "execute_result"
    }
   ],
   "source": [
    "grid_search.best_params_"
   ]
  },
  {
   "cell_type": "code",
   "execution_count": 39,
   "metadata": {},
   "outputs": [
    {
     "data": {
      "text/plain": [
       "0.8201426024955436"
      ]
     },
     "execution_count": 39,
     "metadata": {},
     "output_type": "execute_result"
    }
   ],
   "source": [
    "grid_search.best_score_"
   ]
  },
  {
   "cell_type": "markdown",
   "metadata": {},
   "source": [
    "### Predicting probabilities \n",
    "\n",
    "we saw that we can make \"hard predictions\" with logistic regression using `predict` but logistic regression also can make something called \"soft predictions\". \n",
    "\n",
    "We saw this when we use `predict_proba` in naive Bayes. These are called \"soft predictions\" because instead of predicting a specific class, the model returns a probability for each class."
   ]
  },
  {
   "cell_type": "code",
   "execution_count": 40,
   "metadata": {},
   "outputs": [
    {
     "data": {
      "text/plain": [
       "array(['Canada'], dtype=object)"
      ]
     },
     "execution_count": 40,
     "metadata": {},
     "output_type": "execute_result"
    }
   ],
   "source": [
    "log_pipe.predict(X_test[:1])"
   ]
  },
  {
   "cell_type": "markdown",
   "metadata": {},
   "source": [
    "I just want to state here we are using our pipeline to make a prediction but we could have also used our `grid_search` object that calls `log_pipe` to make the prediction as well. "
   ]
  },
  {
   "cell_type": "code",
   "execution_count": 41,
   "metadata": {},
   "outputs": [
    {
     "data": {
      "text/plain": [
       "array(['Canada'], dtype=object)"
      ]
     },
     "execution_count": 41,
     "metadata": {},
     "output_type": "execute_result"
    }
   ],
   "source": [
    "grid_search.predict(X_test[:1])"
   ]
  },
  {
   "cell_type": "markdown",
   "metadata": {},
   "source": [
    "We could also have called a simple model without the scaling if we did: "
   ]
  },
  {
   "cell_type": "code",
   "execution_count": 42,
   "metadata": {},
   "outputs": [
    {
     "data": {
      "text/plain": [
       "array(['Canada'], dtype=object)"
      ]
     },
     "execution_count": 42,
     "metadata": {},
     "output_type": "execute_result"
    }
   ],
   "source": [
    "lr = LogisticRegression()\n",
    "lr.fit(X_train, y_train)\n",
    "lr.predict(X_test[:1])"
   ]
  },
  {
   "cell_type": "markdown",
   "metadata": {},
   "source": [
    "And now with`predict_proba`: "
   ]
  },
  {
   "cell_type": "code",
   "execution_count": 43,
   "metadata": {},
   "outputs": [
    {
     "data": {
      "text/plain": [
       "array([[0.86175442, 0.13824558]])"
      ]
     },
     "execution_count": 43,
     "metadata": {},
     "output_type": "execute_result"
    }
   ],
   "source": [
    "log_pipe.predict_proba(X_test[:1])"
   ]
  },
  {
   "cell_type": "code",
   "execution_count": 44,
   "metadata": {},
   "outputs": [
    {
     "data": {
      "text/plain": [
       "array([[0.87829756, 0.12170244]])"
      ]
     },
     "execution_count": 44,
     "metadata": {},
     "output_type": "execute_result"
    }
   ],
   "source": [
    "grid_search.predict_proba(X_test[:1])"
   ]
  },
  {
   "cell_type": "code",
   "execution_count": 45,
   "metadata": {},
   "outputs": [
    {
     "data": {
      "text/plain": [
       "array([[0.87848688, 0.12151312]])"
      ]
     },
     "execution_count": 45,
     "metadata": {},
     "output_type": "execute_result"
    }
   ],
   "source": [
    "lr.predict_proba(X_test[:1])"
   ]
  },
  {
   "cell_type": "markdown",
   "metadata": {},
   "source": [
    "Let's look at the last one where we predict with `lr`:\n",
    "\n",
    "So these \"probabilities\" correspond to the classes in the same order as `.classes_`"
   ]
  },
  {
   "cell_type": "code",
   "execution_count": 46,
   "metadata": {},
   "outputs": [
    {
     "data": {
      "text/plain": [
       "array(['Canada', 'USA'], dtype=object)"
      ]
     },
     "execution_count": 46,
     "metadata": {},
     "output_type": "execute_result"
    }
   ],
   "source": [
    "lr.classes_"
   ]
  },
  {
   "cell_type": "markdown",
   "metadata": {},
   "source": [
    "This returns an array with a probability of how confident the model is for each target class.\n",
    "\n",
    "We can see that the model is 87.8% sure that example 1 is class 0 (\"Canada\") and 12.15% confident that example 1 is class 0 (\"USA\"). \n",
    "\n",
    "We are going to call these values a probability *score*. It is a score that takes the form of a probability. Take it with a grain of salt. \n",
    "\n",
    "We don't want to say \"I am 88% sure that this example is 'Canada'\" That's too in-depth here, but we can say that we are more sure of one class than another.\n",
    "\n",
    "`predict` works by predicting the class with the highest probability."
   ]
  },
  {
   "cell_type": "markdown",
   "metadata": {},
   "source": [
    "### How is this being done?\n",
    "\n",
    "For linear regression we used something like this: \n",
    "\n",
    "$\\text{predicted(value)} = \\text{coefficient}_\\text{feature-1} * \\text{feature-1} + \\text{coefficient}_\\text{feature-2} * \\text{feature-2} + ... + \\text{coefficient}_\\text{feature-n} * \\text{feature-n} + \\text{intercept} $\n",
    "\n",
    "But this is not suitable for probabilities,\n",
    "since the linear model with extrapolate below 0 and above 1,\n",
    "which are nonsense values for probabilities.\n",
    "\n",
    "So how do we calculate these probability scores?\n",
    "\n",
    "We need something that will:\n",
    "1. Make our predictions bounded between 0 and 1 (since probabilities as between 0 and 1)\n",
    "2. Make our predictions change rapidly around 0.5 (the threshold) and slower away from 0.5 (to allow efficient classification).\n",
    "\n",
    "Enter -> **The sigmoid function**!"
   ]
  },
  {
   "cell_type": "code",
   "execution_count": 47,
   "metadata": {},
   "outputs": [
    {
     "data": {
      "image/png": "[encoded data removed]",
      "text/plain": [
       "<Figure size 432x288 with 1 Axes>"
      ]
     },
     "metadata": {
      "needs_background": "light"
     },
     "output_type": "display_data"
    }
   ],
   "source": [
    "sigmoid = lambda x: 1/(1+np.exp(-x))\n",
    "raw_model_output = np.linspace(-8,8,1000)\n",
    "plt.plot(raw_model_output, sigmoid(raw_model_output));\n",
    "plt.plot([0,0],[0,0.5], '--k')\n",
    "plt.plot([-8,0],[0.5,0.5], '--k')\n",
    "plt.xticks(fontsize= 16);\n",
    "plt.yticks(fontsize= 16);\n",
    "plt.xlabel(\"raw model output\", fontsize=16); \n",
    "plt.ylabel(\"predicted probability\", fontsize=16);\n",
    "plt.title(\"The sigmoid function\", fontsize=18);"
   ]
  },
  {
   "cell_type": "markdown",
   "metadata": {},
   "source": [
    "If we now compare `predict` with `predict_proba` we can see how `predict` made a prediction based on the probabilities."
   ]
  },
  {
   "cell_type": "code",
   "execution_count": 48,
   "metadata": {},
   "outputs": [
    {
     "data": {
      "text/plain": [
       "array(['Canada', 'Canada', 'USA', 'Canada', 'Canada'], dtype=object)"
      ]
     },
     "execution_count": 48,
     "metadata": {},
     "output_type": "execute_result"
    }
   ],
   "source": [
    "predict_y = lr.predict(X_train)\n",
    "predict_y[-5:]"
   ]
  },
  {
   "cell_type": "code",
   "execution_count": 49,
   "metadata": {},
   "outputs": [
    {
     "data": {
      "text/plain": [
       "array([[0.69848481, 0.30151519],\n",
       "       [0.76970638, 0.23029362],\n",
       "       [0.05301712, 0.94698288],\n",
       "       [0.63294488, 0.36705512],\n",
       "       [0.81540165, 0.18459835]])"
      ]
     },
     "execution_count": 49,
     "metadata": {},
     "output_type": "execute_result"
    }
   ],
   "source": [
    "y_proba = lr.predict_proba(X_train)\n",
    "y_proba[-5:]"
   ]
  },
  {
   "cell_type": "markdown",
   "metadata": {},
   "source": [
    "Here we can look at the first column and if the probability is greater than 0.5, our `predict` function predicts the target of Canada and if the probability is lower than 0.5, it predicts `USA`.\n",
    "\n",
    "Let's take a look and compare them to the actual correct labels. "
   ]
  },
  {
   "cell_type": "code",
   "execution_count": 50,
   "metadata": {},
   "outputs": [
    {
     "data": {
      "text/html": [
       "<div>\n",
       "<style scoped>\n",
       "    .dataframe tbody tr th:only-of-type {\n",
       "        vertical-align: middle;\n",
       "    }\n",
       "\n",
       "    .dataframe tbody tr th {\n",
       "        vertical-align: top;\n",
       "    }\n",
       "\n",
       "    .dataframe thead th {\n",
       "        text-align: right;\n",
       "    }\n",
       "</style>\n",
       "<table border=\"1\" class=\"dataframe\">\n",
       "  <thead>\n",
       "    <tr style=\"text-align: right;\">\n",
       "      <th></th>\n",
       "      <th>y</th>\n",
       "      <th>pred y</th>\n",
       "      <th>probabilities</th>\n",
       "    </tr>\n",
       "  </thead>\n",
       "  <tbody>\n",
       "    <tr>\n",
       "      <th>96</th>\n",
       "      <td>Canada</td>\n",
       "      <td>Canada</td>\n",
       "      <td>[0.7047596510140418, 0.2952403489859582]</td>\n",
       "    </tr>\n",
       "    <tr>\n",
       "      <th>57</th>\n",
       "      <td>USA</td>\n",
       "      <td>USA</td>\n",
       "      <td>[0.03121394423109458, 0.9687860557689054]</td>\n",
       "    </tr>\n",
       "    <tr>\n",
       "      <th>123</th>\n",
       "      <td>Canada</td>\n",
       "      <td>Canada</td>\n",
       "      <td>[0.6537036743991865, 0.34629632560081347]</td>\n",
       "    </tr>\n",
       "    <tr>\n",
       "      <th>106</th>\n",
       "      <td>Canada</td>\n",
       "      <td>Canada</td>\n",
       "      <td>[0.844426786719836, 0.15557321328016402]</td>\n",
       "    </tr>\n",
       "    <tr>\n",
       "      <th>83</th>\n",
       "      <td>Canada</td>\n",
       "      <td>Canada</td>\n",
       "      <td>[0.6537036743991865, 0.34629632560081347]</td>\n",
       "    </tr>\n",
       "    <tr>\n",
       "      <th>17</th>\n",
       "      <td>USA</td>\n",
       "      <td>Canada</td>\n",
       "      <td>[0.6984848138411375, 0.3015151861588626]</td>\n",
       "    </tr>\n",
       "    <tr>\n",
       "      <th>98</th>\n",
       "      <td>Canada</td>\n",
       "      <td>Canada</td>\n",
       "      <td>[0.7697063812753013, 0.23029361872469864]</td>\n",
       "    </tr>\n",
       "    <tr>\n",
       "      <th>66</th>\n",
       "      <td>USA</td>\n",
       "      <td>USA</td>\n",
       "      <td>[0.053017116268726516, 0.9469828837312735]</td>\n",
       "    </tr>\n",
       "    <tr>\n",
       "      <th>126</th>\n",
       "      <td>Canada</td>\n",
       "      <td>Canada</td>\n",
       "      <td>[0.6329448842395049, 0.36705511576049504]</td>\n",
       "    </tr>\n",
       "    <tr>\n",
       "      <th>109</th>\n",
       "      <td>Canada</td>\n",
       "      <td>Canada</td>\n",
       "      <td>[0.8154016516676704, 0.18459834833232955]</td>\n",
       "    </tr>\n",
       "  </tbody>\n",
       "</table>\n",
       "</div>"
      ],
      "text/plain": [
       "          y  pred y                               probabilities\n",
       "96   Canada  Canada    [0.7047596510140418, 0.2952403489859582]\n",
       "57      USA     USA   [0.03121394423109458, 0.9687860557689054]\n",
       "123  Canada  Canada   [0.6537036743991865, 0.34629632560081347]\n",
       "106  Canada  Canada    [0.844426786719836, 0.15557321328016402]\n",
       "83   Canada  Canada   [0.6537036743991865, 0.34629632560081347]\n",
       "17      USA  Canada    [0.6984848138411375, 0.3015151861588626]\n",
       "98   Canada  Canada   [0.7697063812753013, 0.23029361872469864]\n",
       "66      USA     USA  [0.053017116268726516, 0.9469828837312735]\n",
       "126  Canada  Canada   [0.6329448842395049, 0.36705511576049504]\n",
       "109  Canada  Canada   [0.8154016516676704, 0.18459834833232955]"
      ]
     },
     "execution_count": 50,
     "metadata": {},
     "output_type": "execute_result"
    }
   ],
   "source": [
    "data_dict = {\"y\":y_train, \n",
    "             \"pred y\": predict_y.tolist(),\n",
    "             \"probabilities\": y_proba.tolist()}\n",
    "pd.DataFrame(data_dict).tail(10)"
   ]
  },
  {
   "cell_type": "markdown",
   "metadata": {},
   "source": [
    "We can see that in the example at index 17, the model incorrectly predicted as \"Canada\" instead of \"USA\" but we also see that the model was not extremely confident in this prediction. It was 69.8% confident. \n",
    "\n",
    "For the rest of this selection, the model corrected predicted each city but the model was more confident in some than others. "
   ]
  },
  {
   "cell_type": "markdown",
   "metadata": {},
   "source": [
    "### Decision boundaries with `predict_proba`\n",
    "\n",
    "When we use `predict`, we get a decision boundary with either blue or red background a colour for each class we are predicting. "
   ]
  },
  {
   "cell_type": "code",
   "execution_count": 51,
   "metadata": {},
   "outputs": [
    {
     "name": "stderr",
     "output_type": "stream",
     "text": [
      "/home/joel/miniconda3/envs/bait/lib/python3.9/site-packages/sklearn/base.py:450: UserWarning: X does not have valid feature names, but LogisticRegression was fitted with feature names\n",
      "  warnings.warn(\n",
      "/home/joel/miniconda3/envs/bait/lib/python3.9/site-packages/sklearn/base.py:450: UserWarning: X does not have valid feature names, but LogisticRegression was fitted with feature names\n",
      "  warnings.warn(\n"
     ]
    },
    {
     "data": {
      "image/png": "[encoded data removed]",
      "text/plain": [
       "<Figure size 1152x576 with 3 Axes>"
      ]
     },
     "metadata": {
      "needs_background": "light"
     },
     "output_type": "display_data"
    }
   ],
   "source": [
    "plt.figure(figsize=(16, 8))\n",
    "plt.subplot(1, 2, 1);\n",
    "plot_classifier(X_train[-10:], y_train[-10:], lr, ax=plt.gca(), ticks=True)\n",
    "plt.xticks(fontsize= 14);\n",
    "plt.yticks(fontsize= 14);\n",
    "plt.ylabel(\"latitude\", fontsize=14); plt.xlabel(\"longitude\", fontsize=14)\n",
    "plt.title(\"Logistic regression - predict\", fontsize=16)\n",
    "plt.subplot(1, 2, 2);\n",
    "plot_classifier(X_train[-10:], y_train[-10:], lr, proba=True, ax=plt.gca(), ticks=True)\n",
    "plt.xticks(fontsize= 14);\n",
    "plt.yticks(fontsize= 14);\n",
    "plt.ylabel(\"latitude\", fontsize=14); plt.xlabel(\"longitude\", fontsize=14)\n",
    "plt.title(\"Logistic regression - predict_proba\", fontsize=16);"
   ]
  },
  {
   "cell_type": "markdown",
   "metadata": {},
   "source": [
    "With probabilities using `predict_proba`,  we can now use a colour to represent the probability, a scale.     \n",
    "We can see that the model is less confident the closer the observations are to the decision boundary. \n",
    "\n",
    "Let's find some examples where the model is pretty confident in its predictions.\n",
    "\n",
    "This time, when we make our dataframe, we are only bringing in the probability of predicting \"Canada\". This is because if we are 10% confident a prediction is \"Canada\", the model is 90% confident in \"USA\"."
   ]
  },
  {
   "cell_type": "code",
   "execution_count": 52,
   "metadata": {},
   "outputs": [
    {
     "data": {
      "text/html": [
       "<div>\n",
       "<style scoped>\n",
       "    .dataframe tbody tr th:only-of-type {\n",
       "        vertical-align: middle;\n",
       "    }\n",
       "\n",
       "    .dataframe tbody tr th {\n",
       "        vertical-align: top;\n",
       "    }\n",
       "\n",
       "    .dataframe thead th {\n",
       "        text-align: right;\n",
       "    }\n",
       "</style>\n",
       "<table border=\"1\" class=\"dataframe\">\n",
       "  <thead>\n",
       "    <tr style=\"text-align: right;\">\n",
       "      <th></th>\n",
       "      <th>y</th>\n",
       "      <th>pred y</th>\n",
       "      <th>probability_canada</th>\n",
       "    </tr>\n",
       "  </thead>\n",
       "  <tbody>\n",
       "    <tr>\n",
       "      <th>160</th>\n",
       "      <td>Canada</td>\n",
       "      <td>Canada</td>\n",
       "      <td>0.704607</td>\n",
       "    </tr>\n",
       "    <tr>\n",
       "      <th>127</th>\n",
       "      <td>Canada</td>\n",
       "      <td>Canada</td>\n",
       "      <td>0.563017</td>\n",
       "    </tr>\n",
       "    <tr>\n",
       "      <th>169</th>\n",
       "      <td>Canada</td>\n",
       "      <td>Canada</td>\n",
       "      <td>0.838968</td>\n",
       "    </tr>\n",
       "  </tbody>\n",
       "</table>\n",
       "</div>"
      ],
      "text/plain": [
       "          y  pred y  probability_canada\n",
       "160  Canada  Canada            0.704607\n",
       "127  Canada  Canada            0.563017\n",
       "169  Canada  Canada            0.838968"
      ]
     },
     "execution_count": 52,
     "metadata": {},
     "output_type": "execute_result"
    }
   ],
   "source": [
    "lr_targets = pd.DataFrame({\"y\":y_train,\n",
    "                           \"pred y\": predict_y.tolist(),\n",
    "                           \"probability_canada\": y_proba[:,0].tolist()})\n",
    "lr_targets.head(3)"
   ]
  },
  {
   "cell_type": "code",
   "execution_count": 53,
   "metadata": {},
   "outputs": [
    {
     "data": {
      "text/html": [
       "<div>\n",
       "<style scoped>\n",
       "    .dataframe tbody tr th:only-of-type {\n",
       "        vertical-align: middle;\n",
       "    }\n",
       "\n",
       "    .dataframe tbody tr th {\n",
       "        vertical-align: top;\n",
       "    }\n",
       "\n",
       "    .dataframe thead th {\n",
       "        text-align: right;\n",
       "    }\n",
       "</style>\n",
       "<table border=\"1\" class=\"dataframe\">\n",
       "  <thead>\n",
       "    <tr style=\"text-align: right;\">\n",
       "      <th></th>\n",
       "      <th>y</th>\n",
       "      <th>pred y</th>\n",
       "      <th>probability_canada</th>\n",
       "    </tr>\n",
       "  </thead>\n",
       "  <tbody>\n",
       "    <tr>\n",
       "      <th>37</th>\n",
       "      <td>USA</td>\n",
       "      <td>USA</td>\n",
       "      <td>0.006547</td>\n",
       "    </tr>\n",
       "    <tr>\n",
       "      <th>78</th>\n",
       "      <td>USA</td>\n",
       "      <td>USA</td>\n",
       "      <td>0.007685</td>\n",
       "    </tr>\n",
       "    <tr>\n",
       "      <th>34</th>\n",
       "      <td>USA</td>\n",
       "      <td>USA</td>\n",
       "      <td>0.008317</td>\n",
       "    </tr>\n",
       "    <tr>\n",
       "      <th>41</th>\n",
       "      <td>USA</td>\n",
       "      <td>USA</td>\n",
       "      <td>0.008958</td>\n",
       "    </tr>\n",
       "    <tr>\n",
       "      <th>38</th>\n",
       "      <td>USA</td>\n",
       "      <td>USA</td>\n",
       "      <td>0.009194</td>\n",
       "    </tr>\n",
       "    <tr>\n",
       "      <th>...</th>\n",
       "      <td>...</td>\n",
       "      <td>...</td>\n",
       "      <td>...</td>\n",
       "    </tr>\n",
       "    <tr>\n",
       "      <th>149</th>\n",
       "      <td>Canada</td>\n",
       "      <td>Canada</td>\n",
       "      <td>0.924004</td>\n",
       "    </tr>\n",
       "    <tr>\n",
       "      <th>81</th>\n",
       "      <td>Canada</td>\n",
       "      <td>Canada</td>\n",
       "      <td>0.931792</td>\n",
       "    </tr>\n",
       "    <tr>\n",
       "      <th>0</th>\n",
       "      <td>USA</td>\n",
       "      <td>Canada</td>\n",
       "      <td>0.932487</td>\n",
       "    </tr>\n",
       "    <tr>\n",
       "      <th>165</th>\n",
       "      <td>Canada</td>\n",
       "      <td>Canada</td>\n",
       "      <td>0.951092</td>\n",
       "    </tr>\n",
       "    <tr>\n",
       "      <th>1</th>\n",
       "      <td>USA</td>\n",
       "      <td>Canada</td>\n",
       "      <td>0.961902</td>\n",
       "    </tr>\n",
       "  </tbody>\n",
       "</table>\n",
       "<p>167 rows × 3 columns</p>\n",
       "</div>"
      ],
      "text/plain": [
       "          y  pred y  probability_canada\n",
       "37      USA     USA            0.006547\n",
       "78      USA     USA            0.007685\n",
       "34      USA     USA            0.008317\n",
       "41      USA     USA            0.008958\n",
       "38      USA     USA            0.009194\n",
       "..      ...     ...                 ...\n",
       "149  Canada  Canada            0.924004\n",
       "81   Canada  Canada            0.931792\n",
       "0       USA  Canada            0.932487\n",
       "165  Canada  Canada            0.951092\n",
       "1       USA  Canada            0.961902\n",
       "\n",
       "[167 rows x 3 columns]"
      ]
     },
     "execution_count": 53,
     "metadata": {},
     "output_type": "execute_result"
    }
   ],
   "source": [
    "lr_targets.sort_values(by='probability_canada')"
   ]
  },
  {
   "cell_type": "markdown",
   "metadata": {},
   "source": [
    "Here we can see both extremes. \n",
    "\n",
    "At the bottom are the observations the model is most confident the class is Canada, and at the top, we can see the observations the model was least confident the class is Canada which is the same saying the most confident in USA. \n",
    "\n",
    "We are 99.345% (1- 0.006547) confident that city 37 is \"USA\" and 96.19% confident that city 1 is \"Canada\". \n",
    "\n",
    "The model got the first example right, but the second one, wrong.\n",
    "\n",
    "Let's plot this and see why. "
   ]
  },
  {
   "cell_type": "code",
   "execution_count": 54,
   "metadata": {},
   "outputs": [
    {
     "data": {
      "text/html": [
       "<div>\n",
       "<style scoped>\n",
       "    .dataframe tbody tr th:only-of-type {\n",
       "        vertical-align: middle;\n",
       "    }\n",
       "\n",
       "    .dataframe tbody tr th {\n",
       "        vertical-align: top;\n",
       "    }\n",
       "\n",
       "    .dataframe thead th {\n",
       "        text-align: right;\n",
       "    }\n",
       "</style>\n",
       "<table border=\"1\" class=\"dataframe\">\n",
       "  <thead>\n",
       "    <tr style=\"text-align: right;\">\n",
       "      <th></th>\n",
       "      <th>longitude</th>\n",
       "      <th>latitude</th>\n",
       "      <th>country</th>\n",
       "    </tr>\n",
       "  </thead>\n",
       "  <tbody>\n",
       "    <tr>\n",
       "      <th>1</th>\n",
       "      <td>-134.4197</td>\n",
       "      <td>58.3019</td>\n",
       "      <td>USA</td>\n",
       "    </tr>\n",
       "    <tr>\n",
       "      <th>37</th>\n",
       "      <td>-98.4951</td>\n",
       "      <td>29.4246</td>\n",
       "      <td>USA</td>\n",
       "    </tr>\n",
       "  </tbody>\n",
       "</table>\n",
       "</div>"
      ],
      "text/plain": [
       "    longitude  latitude country\n",
       "1   -134.4197   58.3019     USA\n",
       "37   -98.4951   29.4246     USA"
      ]
     },
     "execution_count": 54,
     "metadata": {},
     "output_type": "execute_result"
    }
   ],
   "source": [
    "train_df.loc[[1,37]]"
   ]
  },
  {
   "cell_type": "markdown",
   "metadata": {},
   "source": [
    "I am get each of these observations by calling the index of each city on our training dataset.\n",
    "\n",
    "The top one is index 37 and the bottom one is index 1."
   ]
  },
  {
   "cell_type": "code",
   "execution_count": 55,
   "metadata": {},
   "outputs": [
    {
     "name": "stderr",
     "output_type": "stream",
     "text": [
      "/home/joel/miniconda3/envs/bait/lib/python3.9/site-packages/sklearn/base.py:450: UserWarning: X does not have valid feature names, but LogisticRegression was fitted with feature names\n",
      "  warnings.warn(\n"
     ]
    },
    {
     "data": {
      "image/png": "[encoded data removed]",
      "text/plain": [
       "<Figure size 432x288 with 2 Axes>"
      ]
     },
     "metadata": {
      "needs_background": "light"
     },
     "output_type": "display_data"
    }
   ],
   "source": [
    "plot_classifier(X_train.loc[[1,37]], y_train.loc[[1,37]], lr, proba=True, ax=plt.gca(), ticks=True,  lims=(-140,-55,25,60))\n",
    "plt.xticks(fontsize= 14);\n",
    "plt.yticks(fontsize= 14);\n",
    "plt.ylabel(\"latitude\", fontsize=14); plt.xlabel(\"longitude\", fontsize=14)\n",
    "plt.title(\"Logistic regression - certain predictions\", fontsize=16);"
   ]
  },
  {
   "cell_type": "markdown",
   "metadata": {},
   "source": [
    "Both points are \"USA\" cities but we can now see why the model was so confident in its predictions for both cities.\n",
    "\n",
    "The \"USA\" city it got wrong is likely in Alaska but the model doesn't know that and predicts more so on how close and on which side it lies to the decision boundary. \n",
    "\n",
    "Let's now find an example where the model is less certain on its prediction. \n",
    "\n",
    "We can do this by finding the absolute value of the difference between the two probabilities. \n",
    "\n",
    "The smaller the value, the more uncertain the model is. "
   ]
  },
  {
   "cell_type": "code",
   "execution_count": 56,
   "metadata": {},
   "outputs": [
    {
     "data": {
      "text/html": [
       "<div>\n",
       "<style scoped>\n",
       "    .dataframe tbody tr th:only-of-type {\n",
       "        vertical-align: middle;\n",
       "    }\n",
       "\n",
       "    .dataframe tbody tr th {\n",
       "        vertical-align: top;\n",
       "    }\n",
       "\n",
       "    .dataframe thead th {\n",
       "        text-align: right;\n",
       "    }\n",
       "</style>\n",
       "<table border=\"1\" class=\"dataframe\">\n",
       "  <thead>\n",
       "    <tr style=\"text-align: right;\">\n",
       "      <th></th>\n",
       "      <th>y</th>\n",
       "      <th>pred y</th>\n",
       "      <th>prob_difference</th>\n",
       "    </tr>\n",
       "  </thead>\n",
       "  <tbody>\n",
       "    <tr>\n",
       "      <th>61</th>\n",
       "      <td>USA</td>\n",
       "      <td>USA</td>\n",
       "      <td>0.001719</td>\n",
       "    </tr>\n",
       "    <tr>\n",
       "      <th>54</th>\n",
       "      <td>USA</td>\n",
       "      <td>USA</td>\n",
       "      <td>0.020025</td>\n",
       "    </tr>\n",
       "    <tr>\n",
       "      <th>13</th>\n",
       "      <td>USA</td>\n",
       "      <td>USA</td>\n",
       "      <td>0.020025</td>\n",
       "    </tr>\n",
       "    <tr>\n",
       "      <th>130</th>\n",
       "      <td>Canada</td>\n",
       "      <td>USA</td>\n",
       "      <td>0.022234</td>\n",
       "    </tr>\n",
       "    <tr>\n",
       "      <th>92</th>\n",
       "      <td>Canada</td>\n",
       "      <td>USA</td>\n",
       "      <td>0.022234</td>\n",
       "    </tr>\n",
       "  </tbody>\n",
       "</table>\n",
       "</div>"
      ],
      "text/plain": [
       "          y pred y  prob_difference\n",
       "61      USA    USA         0.001719\n",
       "54      USA    USA         0.020025\n",
       "13      USA    USA         0.020025\n",
       "130  Canada    USA         0.022234\n",
       "92   Canada    USA         0.022234"
      ]
     },
     "execution_count": 56,
     "metadata": {},
     "output_type": "execute_result"
    }
   ],
   "source": [
    "lr_targets = pd.DataFrame({\"y\":y_train,\n",
    "                           \"pred y\": predict_y.tolist(),\n",
    "                           \"prob_difference\": (abs(y_proba[:,0] - y_proba[:,1])).tolist()})\n",
    "lr_targets.sort_values(by=\"prob_difference\").head()"
   ]
  },
  {
   "cell_type": "markdown",
   "metadata": {},
   "source": [
    "Here we can see that city 61 and 54 have the model pretty stumped. \n",
    "\n",
    "Let's plot them and see why."
   ]
  },
  {
   "cell_type": "code",
   "execution_count": 57,
   "metadata": {},
   "outputs": [
    {
     "data": {
      "text/html": [
       "<div>\n",
       "<style scoped>\n",
       "    .dataframe tbody tr th:only-of-type {\n",
       "        vertical-align: middle;\n",
       "    }\n",
       "\n",
       "    .dataframe tbody tr th {\n",
       "        vertical-align: top;\n",
       "    }\n",
       "\n",
       "    .dataframe thead th {\n",
       "        text-align: right;\n",
       "    }\n",
       "</style>\n",
       "<table border=\"1\" class=\"dataframe\">\n",
       "  <thead>\n",
       "    <tr style=\"text-align: right;\">\n",
       "      <th></th>\n",
       "      <th>longitude</th>\n",
       "      <th>latitude</th>\n",
       "      <th>country</th>\n",
       "    </tr>\n",
       "  </thead>\n",
       "  <tbody>\n",
       "    <tr>\n",
       "      <th>61</th>\n",
       "      <td>-87.9225</td>\n",
       "      <td>43.0350</td>\n",
       "      <td>USA</td>\n",
       "    </tr>\n",
       "    <tr>\n",
       "      <th>54</th>\n",
       "      <td>-83.0466</td>\n",
       "      <td>42.3316</td>\n",
       "      <td>USA</td>\n",
       "    </tr>\n",
       "  </tbody>\n",
       "</table>\n",
       "</div>"
      ],
      "text/plain": [
       "    longitude  latitude country\n",
       "61   -87.9225   43.0350     USA\n",
       "54   -83.0466   42.3316     USA"
      ]
     },
     "execution_count": 57,
     "metadata": {},
     "output_type": "execute_result"
    }
   ],
   "source": [
    "train_df.loc[[61, 54]]"
   ]
  },
  {
   "cell_type": "code",
   "execution_count": 58,
   "metadata": {},
   "outputs": [
    {
     "name": "stderr",
     "output_type": "stream",
     "text": [
      "/home/joel/miniconda3/envs/bait/lib/python3.9/site-packages/sklearn/base.py:450: UserWarning: X does not have valid feature names, but LogisticRegression was fitted with feature names\n",
      "  warnings.warn(\n"
     ]
    },
    {
     "data": {
      "image/png": "[encoded data removed]",
      "text/plain": [
       "<Figure size 432x288 with 2 Axes>"
      ]
     },
     "metadata": {
      "needs_background": "light"
     },
     "output_type": "display_data"
    }
   ],
   "source": [
    "plot_classifier(X_train.loc[[61, 54]], y_train.loc[[61, 54]], lr, proba=True, ax=plt.gca(), ticks=True,  lims=(-115,-55,25,60))\n",
    "plt.xticks(fontsize= 14);\n",
    "plt.yticks(fontsize= 14);\n",
    "plt.xlabel(\"latitude\", fontsize=14); plt.ylabel(\"longitude\", fontsize=14)\n",
    "plt.title(\"Logistic regression - uncertain prediction\", fontsize=16);"
   ]
  },
  {
   "cell_type": "markdown",
   "metadata": {},
   "source": [
    "Plot the cities with the decision boundary, helps us understand why.\n",
    "\n",
    "The cities lie almost completely on the boundary, this makes the model very divided on how to classify them."
   ]
  },
  {
   "cell_type": "markdown",
   "metadata": {},
   "source": [
    "## Limitations of linear classifiers \n",
    "\n",
    "- Is your data \"linearly separable\"? Can you draw a hyperplane between these datapoints that separates them with low error? \n",
    "- If the training examples can be separated by a linear decision rule, they are **linearly separable**.\n",
    "\n",
    "... but sometimes are data just can't be linearly separated well and hence these models will not perform well\n",
    "unless we first perform relevant high dimensional transformations on the input features.\n"
   ]
  },
  {
   "cell_type": "markdown",
   "metadata": {},
   "source": [
    "## Compare to naive Bayes\n",
    "\n",
    "- Both are simple, fast, probabilistic classifiers.\n",
    "- Both work well with large numbers of features.\n",
    "- Naive Bayes has overly strong conditional independence assumptions. So it is not great when features are correlated. \n",
    "- Logistic regression is much more robust to correlated features."
   ]
  },
  {
   "cell_type": "markdown",
   "metadata": {},
   "source": [
    "## Let's Practice \n",
    "\n",
    "1\\. We have the following text, which we wish to classify as either a positive or negative movie review.        \n",
    "Using the words below (which are features in our model) with associated coefficients, answer the next 2 questions.        \n",
    "The input for the feature value is the number of times the word appears in the review.     \n",
    "\n",
    "\n",
    "|   Word            | Coefficient | \n",
    "|--------------------|-------------|\n",
    "|excellent           | 2.2         | \n",
    "|disappointment      | -2.4        |\n",
    "|flawless            | 1.4         |\n",
    "|boring              | -1.3        |\n",
    "|unwatchable         | -1.7        |\n",
    "\n",
    "`Intercept = 1.3`\n",
    "\n",
    "What value do you calculate after using the weights in the model above for the above review?     \n",
    "\n",
    "***I thought it was going to be excellent but instead, it was unwatchable and boring.***    \n",
    "\n",
    "The input feature value would be the number of times the word appears in the review (like `CountVectorizer`).   \n",
    "\n",
    "2\\. Would the model classify this review as a positive or negative review (classes are specified alphabetically) ?     \n",
    "We are trying to predict if a job applicant would be hired based on some features contained in their resume.     \n",
    "Below we have the output of `.predict_proba()` where column 0 shows the probability the model would predict \"hired\" and column 1 shows the probability the model would predict \"not hired\".     \n",
    "\n",
    "```\n",
    "array([[0.04971843, 0.95028157],\n",
    "       [0.94173513, 0.05826487],\n",
    "       [0.74133975, 0.25866025],\n",
    "       [0.13024982, 0.86975018],\n",
    "       [0.17126403, 0.82873597]])\n",
    "```\n",
    "\n",
    "Use this output to answer the following questions.        \n",
    "\n",
    "3\\. If we had used `.predict()` for these examples instead of `.predict_proba()`, how many of the examples would the model have predicted \"hired\"?     \n",
    "4\\. If the true class labels are below, how many examples would the model have correctly predicted with `predict()`?     \n",
    "\n",
    "```\n",
    "['hired', 'hired', 'hired', 'not hired', 'not hired']\n",
    "```\n",
    "\n",
    "**True or False:**        \n",
    "5\\. Increasing logistic regression's `C` hyperparameter increases the model's complexity.      \n",
    "6\\. Unlike with `Ridge` regression, coefficients are not interpretable with logistic regression.       \n",
    "7\\.  `predict` returns the positive class if the predicted probability of the positive class is greater than 0.5.       \n",
    "8\\. In logistic regression, a function is applied to convert the raw model output into probabilities.      \n"
   ]
  },
  {
   "cell_type": "markdown",
   "metadata": {},
   "source": [
    "```{admonition} Solutions!\n",
    ":class: dropdown\n",
    "\n",
    "1. 0.5\n",
    "2. Positive review\n",
    "3. 2\n",
    "4. 4\n",
    "5. True\n",
    "6. False\n",
    "7. True\n",
    "8. True\n",
    "```"
   ]
  },
  {
   "cell_type": "markdown",
   "metadata": {},
   "source": [
    "## Let's Practice - Coding\n",
    "\n",
    "Let’s import the Pokémon dataset from our `data` folder. We want to see how well our model does with logistic regression. Let’s try building a simple model with default parameters."
   ]
  },
  {
   "cell_type": "code",
   "execution_count": 59,
   "metadata": {},
   "outputs": [],
   "source": [
    "from sklearn.compose import make_column_transformer\n",
    "\n",
    "pk_df = pd.read_csv('data/pokemon.csv')\n",
    "\n",
    "train_df, test_df = train_test_split(pk_df, test_size=0.2, random_state=1)\n",
    "\n",
    "X_train = train_df.drop(columns=['legendary'])\n",
    "y_train = train_df['legendary']\n",
    "X_test = test_df.drop(columns=['legendary'])\n",
    "y_test = test_df['legendary']\n",
    "\n",
    "\n",
    "numeric_features = [\"attack\",\n",
    "                    \"defense\" ,\n",
    "                    \"sp_attack\",\n",
    "                    \"sp_defense\",\n",
    "                    \"speed\",\n",
    "                    \"capture_rt\"]\n",
    "\n",
    "drop_features = [\"type\", \"deck_no\", \"gen\", \"name\", \"total_bs\"]\n",
    "\n",
    "numeric_transformer = make_pipeline(\n",
    "    SimpleImputer(strategy=\"median\"),\n",
    "    StandardScaler()\n",
    ")\n",
    "\n",
    "preprocessor = make_column_transformer(\n",
    "    (\"drop\", drop_features),\n",
    "    (numeric_transformer, numeric_features)\n",
    ")"
   ]
  },
  {
   "cell_type": "markdown",
   "metadata": {},
   "source": [
    "1. Build and fit a pipeline containing the preprocessor column transformer and a logistic regression model using the parameter class_weight=\"balanced\" (this reduces the error on classes that only have a few observations in the data, you will learn about this in lecture 9!).\n",
    "2. Score your model on the test set.\n",
    "3. Find the model's feature coefficients and answer the below questions \n",
    "    - Which feature contributes the most in predicting if an example is legendary or not.\n",
    "    - As the capture rate value increases, will the model more likely predict a legendary or not legendary Pokémon?"
   ]
  },
  {
   "cell_type": "markdown",
   "metadata": {},
   "source": [
    "**Solutions**\n",
    "\n",
    "1\\."
   ]
  },
  {
   "cell_type": "code",
   "execution_count": 63,
   "metadata": {
    "tags": [
     "hide-cell"
    ]
   },
   "outputs": [
    {
     "data": {
      "text/plain": [
       "Pipeline(steps=[('columntransformer',\n",
       "                 ColumnTransformer(transformers=[('drop', 'drop',\n",
       "                                                  ['type', 'deck_no', 'gen',\n",
       "                                                   'name', 'total_bs']),\n",
       "                                                 ('pipeline',\n",
       "                                                  Pipeline(steps=[('simpleimputer',\n",
       "                                                                   SimpleImputer(strategy='median')),\n",
       "                                                                  ('standardscaler',\n",
       "                                                                   StandardScaler())]),\n",
       "                                                  ['attack', 'defense',\n",
       "                                                   'sp_attack', 'sp_defense',\n",
       "                                                   'speed', 'capture_rt'])])),\n",
       "                ('logisticregression',\n",
       "                 LogisticRegression(class_weight='balanced'))])"
      ]
     },
     "execution_count": 63,
     "metadata": {},
     "output_type": "execute_result"
    }
   ],
   "source": [
    "pipe = make_pipeline(\n",
    "    preprocessor,\n",
    "    LogisticRegression(class_weight='balanced')\n",
    ")\n",
    "pipe.fit(X_train, y_train)"
   ]
  },
  {
   "cell_type": "markdown",
   "metadata": {},
   "source": [
    "2\\."
   ]
  },
  {
   "cell_type": "code",
   "execution_count": 64,
   "metadata": {
    "tags": [
     "hide-cell"
    ]
   },
   "outputs": [
    {
     "data": {
      "text/plain": [
       "0.9006211180124224"
      ]
     },
     "execution_count": 64,
     "metadata": {},
     "output_type": "execute_result"
    }
   ],
   "source": [
    "pipe.score(X_test, y_test)"
   ]
  },
  {
   "cell_type": "markdown",
   "metadata": {},
   "source": [
    "3\\."
   ]
  },
  {
   "cell_type": "code",
   "execution_count": 82,
   "metadata": {
    "tags": [
     "hide-cell"
    ]
   },
   "outputs": [
    {
     "data": {
      "text/html": [
       "<div>\n",
       "<style scoped>\n",
       "    .dataframe tbody tr th:only-of-type {\n",
       "        vertical-align: middle;\n",
       "    }\n",
       "\n",
       "    .dataframe tbody tr th {\n",
       "        vertical-align: top;\n",
       "    }\n",
       "\n",
       "    .dataframe thead th {\n",
       "        text-align: right;\n",
       "    }\n",
       "</style>\n",
       "<table border=\"1\" class=\"dataframe\">\n",
       "  <thead>\n",
       "    <tr style=\"text-align: right;\">\n",
       "      <th></th>\n",
       "      <th>Coefficients</th>\n",
       "    </tr>\n",
       "  </thead>\n",
       "  <tbody>\n",
       "    <tr>\n",
       "      <th>attack</th>\n",
       "      <td>0.690834</td>\n",
       "    </tr>\n",
       "    <tr>\n",
       "      <th>defense</th>\n",
       "      <td>1.126300</td>\n",
       "    </tr>\n",
       "    <tr>\n",
       "      <th>sp_attack</th>\n",
       "      <td>1.026617</td>\n",
       "    </tr>\n",
       "    <tr>\n",
       "      <th>sp_defense</th>\n",
       "      <td>0.655162</td>\n",
       "    </tr>\n",
       "    <tr>\n",
       "      <th>speed</th>\n",
       "      <td>1.116679</td>\n",
       "    </tr>\n",
       "    <tr>\n",
       "      <th>capture_rt</th>\n",
       "      <td>-0.792950</td>\n",
       "    </tr>\n",
       "  </tbody>\n",
       "</table>\n",
       "</div>"
      ],
      "text/plain": [
       "            Coefficients\n",
       "attack          0.690834\n",
       "defense         1.126300\n",
       "sp_attack       1.026617\n",
       "sp_defense      0.655162\n",
       "speed           1.116679\n",
       "capture_rt     -0.792950"
      ]
     },
     "execution_count": 82,
     "metadata": {},
     "output_type": "execute_result"
    }
   ],
   "source": [
    "pd.DataFrame(\n",
    "    pipe['logisticregression'].coef_[0],  # There is one level of nesting which is why we use [0]\n",
    "    index=X_train.drop(columns=drop_features).columns,\n",
    "    columns=['Coefficients']\n",
    ")"
   ]
  },
  {
   "cell_type": "markdown",
   "metadata": {},
   "source": [
    "```{toggle}\n",
    "Since the data is normalize we can directly compare the coefficients\n",
    "to find out which feature impact the target variable the most.\n",
    "The biggest absolute coefficient value are in `defense` and `speed`,\n",
    "so variation in these values will change the target value the most.\n",
    "\n",
    "The model is *less* likely to predict \"legendary\" the higher the capture rate gets\n",
    "(the coefficient is negative).\n",
    "```"
   ]
  },
  {
   "cell_type": "markdown",
   "metadata": {},
   "source": [
    "## What We've Learned Today\n",
    "\n",
    "- The name of the function used to bound our values between 0 and 1\n",
    "- How `predict_proba` can be particularly useful when it comes to Logistic Regression. \n",
    "- The advantages and limitations of linear classifiers. \n",
    "- How to use `scikit-learn`'s `LogisticRegression` classifier.\n",
    "- One of the hyperparameters of `Ridge` (`alpha`)\n",
    "- One of the hyperparameters of `LogisticRegression` (`C`).\n",
    "- How logistic regression is compared to naive Bayes."
   ]
  }
 ],
 "metadata": {
  "kernelspec": {
   "display_name": "Python [conda env:bait]",
   "language": "python",
   "name": "conda-env-bait-py"
  },
  "language_info": {
   "codemirror_mode": {
    "name": "ipython",
    "version": 3
   },
   "file_extension": ".py",
   "mimetype": "text/x-python",
   "name": "python",
   "nbconvert_exporter": "python",
   "pygments_lexer": "ipython3",
   "version": "3.9.9"
  },
  "toc": {
   "base_numbering": 1,
   "nav_menu": {},
   "number_sections": true,
   "sideBar": true,
   "skip_h1_title": false,
   "title_cell": "Table of Contents",
   "title_sidebar": "Contents",
   "toc_cell": false,
   "toc_position": {
    "height": "calc(100% - 180px)",
    "left": "10px",
    "top": "150px",
    "width": "274.188px"
   },
   "toc_section_display": true,
   "toc_window_display": true
  }
 },
 "nbformat": 4,
 "nbformat_minor": 4
}
